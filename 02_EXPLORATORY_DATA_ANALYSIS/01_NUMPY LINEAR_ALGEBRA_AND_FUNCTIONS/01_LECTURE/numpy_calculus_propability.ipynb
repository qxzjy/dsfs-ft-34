{
 "cells": [
  {
   "cell_type": "markdown",
   "metadata": {},
   "source": [
    "# Numpy : fonctions"
   ]
  },
  {
   "cell_type": "code",
   "execution_count": 1,
   "metadata": {},
   "outputs": [],
   "source": [
    "import numpy as np"
   ]
  },
  {
   "cell_type": "markdown",
   "metadata": {},
   "source": [
    "## Fonctions communes"
   ]
  },
  {
   "cell_type": "code",
   "execution_count": 7,
   "metadata": {},
   "outputs": [
    {
     "name": "stdout",
     "output_type": "stream",
     "text": [
      "4 au carré (puissance 2) : 16\n",
      "2 puissance 5 : 32\n",
      "Racine carrée de 25 : 5.0\n",
      "Racine cubique de 64 : 4.0\n"
     ]
    }
   ],
   "source": [
    "# Fonction puissance => pow\n",
    "print(\"4 au carré (puissance 2) :\", np.power(4, 2))\n",
    "print(\"2 puissance 5 :\", np.power(2, 5))\n",
    "\n",
    "# Fonction racine carrée/cubique => sqrt/cbrt\n",
    "print(\"Racine carrée de 25 :\", np.sqrt(25))\n",
    "print(\"Racine cubique de 64 :\", np.cbrt(64))"
   ]
  },
  {
   "cell_type": "markdown",
   "metadata": {},
   "source": [
    "## Fonction exponentielle et logarithmique "
   ]
  },
  {
   "cell_type": "code",
   "execution_count": 9,
   "metadata": {},
   "outputs": [
    {
     "name": "stdout",
     "output_type": "stream",
     "text": [
      "Exponentielle de 1 : 2.718281828459045\n",
      "Exponentielle de 0 : 1.0\n",
      "Logarithme naturelle de 10 : 2.302585092994046\n",
      "Logarithme base 10 de 10 : 1.0\n"
     ]
    }
   ],
   "source": [
    "# Fonction exponentielle\n",
    "print(\"Exponentielle de 1 :\", np.exp(1))\n",
    "print(\"Exponentielle de 0 :\", np.exp(0))\n",
    "\n",
    "# Fonction logarithmique\n",
    "print(\"Logarithme naturelle de 10 :\", np.log(10))\n",
    "print(\"Logarithme base 10 de 10 :\", np.log10(10))"
   ]
  },
  {
   "cell_type": "markdown",
   "metadata": {},
   "source": [
    "## Fonctions trigonométriques"
   ]
  },
  {
   "cell_type": "code",
   "execution_count": 11,
   "metadata": {},
   "outputs": [
    {
     "name": "stdout",
     "output_type": "stream",
     "text": [
      "Cosinus de 0 : 1.0\n",
      "Cosinus de pi : -1.0\n",
      "Cosinus de pi/2 : 0.0\n",
      "\n",
      "Sinus de 0 : 0.0\n",
      "Sinus de pi : 0.0\n",
      "Sinus de pi/2 : 1.0\n",
      "\n",
      "Tangente de 0 : 0.0\n",
      "Tangente de pi : -0.0\n",
      "Tangente de pi/2 : 1.633123935319537e+16\n",
      "\n"
     ]
    }
   ],
   "source": [
    "# Fonction cosinus\n",
    "print(\"Cosinus de 0 :\", np.cos(0))\n",
    "print(\"Cosinus de pi :\", np.cos(np.pi))\n",
    "print(\"Cosinus de pi/2 :\", np.cos(np.pi/2).round(2))\n",
    "print()\n",
    "\n",
    "# Fonction sinus\n",
    "print(\"Sinus de 0 :\", np.sin(0))\n",
    "print(\"Sinus de pi :\", np.sin(np.pi).round(2))\n",
    "print(\"Sinus de pi/2 :\", np.sin(np.pi/2))\n",
    "print()\n",
    "\n",
    "# Fonction tangente\n",
    "print(\"Tangente de 0 :\", np.tan(0))\n",
    "print(\"Tangente de pi :\", np.tan(np.pi).round(2))\n",
    "print(\"Tangente de pi/2 :\", np.tan(np.pi/2)) # Cela diverge\n",
    "print()"
   ]
  },
  {
   "cell_type": "markdown",
   "metadata": {},
   "source": [
    "## Nombres aléatoires"
   ]
  },
  {
   "cell_type": "markdown",
   "metadata": {},
   "source": [
    "### Distribution uniforme discrète"
   ]
  },
  {
   "cell_type": "code",
   "execution_count": null,
   "metadata": {},
   "outputs": [
    {
     "name": "stdout",
     "output_type": "stream",
     "text": [
      "Échantillon de 30 valeur générée à partir d'une distribution uniforme discrète dans l'intervalle [0, 10] :\n",
      "[9 7 9 2 1 0 9 2 7 2 1 6 1 5 1 0 9 5 4 2 7 1 1 5 3 5 4 0 0 2]\n",
      "\n",
      "Échantillon de 30 valeur générée à partir d'une distribution uniforme discrète dans l'intervalle [-2, 2] :\n",
      "[-2  1  1 -1 -2 -2  1 -2  0  1 -1  0 -2  0 -2  0 -2 -2 -1 -1 -1 -2 -1  0\n",
      "  1  0  1  0  1 -1]\n"
     ]
    }
   ],
   "source": [
    "print(\"Échantillon de 30 valeurs aléatoires générées à partir d'une distribution uniforme discrète dans l'intervalle [0, 10] :\")\n",
    "print(np.random.randint(0, 10, 30))\n",
    "print()\n",
    "print(\"Échantillon de 30 valeurs aléatoires générées à partir d'une distribution uniforme discrète dans l'intervalle [-2, 2] :\")\n",
    "print(np.random.randint(-2, 2, 30))"
   ]
  },
  {
   "cell_type": "markdown",
   "metadata": {},
   "source": [
    "### Distribution uniforme continue"
   ]
  },
  {
   "cell_type": "code",
   "execution_count": null,
   "metadata": {},
   "outputs": [
    {
     "name": "stdout",
     "output_type": "stream",
     "text": [
      "Échantillon de 30 valeur générée à partir d'une distribution uniforme continue dans l'intervalle [0, 10] :\n",
      "[3.23415943 6.74595257 3.24953071 2.62195391 3.7810062  3.89458383\n",
      " 0.02025552 5.04352559 4.08572472 0.88454215 1.86716866 5.10416701\n",
      " 9.36839588 8.24048936 9.77480736 2.42538359 1.10908487 6.24204784\n",
      " 3.94178741 5.45204772 5.71878486 3.48277652 4.7592443  0.82246277\n",
      " 1.09757684 0.08311627 6.71872455 1.02436729 6.64416203 5.26356357]\n",
      "\n",
      "Échantillon de 30 valeur générée à partir d'une distribution uniforme continue dans l'intervalle [-5, 5] :\n",
      "[ 3.69586571  1.59291375 -1.85056352 -4.13510402 -3.03316243  2.17494273\n",
      " -1.98687353  4.60245629  4.52879764 -3.81133433 -4.41146907  0.74374327\n",
      " -4.24251063  3.43973072  3.63613043  4.71139898  3.44707959  1.14175585\n",
      "  1.62814891 -4.035665    0.74868209 -3.39331804 -3.79870539  4.32918303\n",
      " -1.38745599 -0.08942085 -0.95414763 -0.33874706  2.32897554  1.81658091]\n"
     ]
    }
   ],
   "source": [
    "print(\"Échantillon de 30 valeurs aléatoires générées à partir d'une distribution uniforme continue dans l'intervalle [0, 10] :\")\n",
    "print(np.random.uniform(0, 10, 30))\n",
    "print()\n",
    "print(\"Échantillon de 30 valeurs aléatoires générées à partir d'une distribution uniforme continue dans l'intervalle [-5, 5] :\")\n",
    "print(np.random.uniform(-5, 5, 30))"
   ]
  },
  {
   "cell_type": "markdown",
   "metadata": {},
   "source": [
    "### Distribution normale"
   ]
  },
  {
   "cell_type": "code",
   "execution_count": 15,
   "metadata": {},
   "outputs": [
    {
     "name": "stdout",
     "output_type": "stream",
     "text": [
      "Échantillon de 20 valeurs aléatoires générées à partir d'une distribution normale de moyenne 5 et écart-type 2 :\n",
      "[4.5628448  6.88201893 5.67843401 8.77043539 4.06978708 1.21417095\n",
      " 4.56822728 3.88391025 5.30527086 4.16275257 2.46836997 5.20336805\n",
      " 5.0286329  6.88088004 8.34023622 2.53476121 4.77474354 2.14229016\n",
      " 5.55430005 1.93802397]\n"
     ]
    }
   ],
   "source": [
    "print(\"Échantillon de 20 valeurs aléatoires générées à partir d'une distribution normale de moyenne 5 et écart-type 2 :\")\n",
    "print(np.random.normal(5, 2, 20))"
   ]
  },
  {
   "cell_type": "code",
   "execution_count": 17,
   "metadata": {},
   "outputs": [
    {
     "name": "stdout",
     "output_type": "stream",
     "text": [
      "Échantillon de 30 valeurs aléatoires générées à partir d'une distribution normale :\n",
      "[ 1.05863665 -0.39910406 -0.40324638 -1.35638956  0.98486637  1.48278957\n",
      "  2.17654473  1.415608    0.51894602  0.61950489 -0.89758123  2.77284495\n",
      "  0.15249118 -0.11356131  0.5387003   0.07455809 -1.04632271  0.35802429\n",
      "  0.21659716 -0.64121386  0.5345678   1.18298934 -1.64889504  0.71044384\n",
      " -0.99444236  0.43595189 -0.7230194   0.51479503  0.16014367 -0.27135568]\n"
     ]
    }
   ],
   "source": [
    "print(\"Échantillon de 30 valeurs aléatoires générées à partir d'une distribution normale :\")\n",
    "print(np.random.standard_normal(30))"
   ]
  }
 ],
 "metadata": {
  "kernelspec": {
   "display_name": "base",
   "language": "python",
   "name": "python3"
  },
  "language_info": {
   "codemirror_mode": {
    "name": "ipython",
    "version": 3
   },
   "file_extension": ".py",
   "mimetype": "text/x-python",
   "name": "python",
   "nbconvert_exporter": "python",
   "pygments_lexer": "ipython3",
   "version": "3.12.7"
  }
 },
 "nbformat": 4,
 "nbformat_minor": 2
}
