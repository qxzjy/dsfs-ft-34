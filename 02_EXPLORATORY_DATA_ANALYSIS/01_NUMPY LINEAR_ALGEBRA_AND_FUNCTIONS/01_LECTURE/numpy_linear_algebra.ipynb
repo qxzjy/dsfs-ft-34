{
 "cells": [
  {
   "cell_type": "markdown",
   "metadata": {},
   "source": [
    "# Numpy : algèbre linéraire"
   ]
  },
  {
   "cell_type": "code",
   "execution_count": 16,
   "metadata": {},
   "outputs": [],
   "source": [
    "import numpy as np"
   ]
  },
  {
   "cell_type": "markdown",
   "metadata": {},
   "source": [
    "## Définition et notations"
   ]
  },
  {
   "cell_type": "code",
   "execution_count": 17,
   "metadata": {},
   "outputs": [
    {
     "name": "stdout",
     "output_type": "stream",
     "text": [
      "[1 2 3]\n",
      "(3,)\n",
      "\n",
      "[[1 2 3]\n",
      " [4 5 6]]\n",
      "(2, 3)\n",
      "\n",
      "[[[ 1  2  3]\n",
      "  [ 4  5  6]]\n",
      "\n",
      " [[ 7  8  9]\n",
      "  [10 11 12]]]\n",
      "(2, 2, 3)\n",
      "\n"
     ]
    }
   ],
   "source": [
    "# Vecteur\n",
    "V = np.array([1,2,3], dtype=int) # dtype optionnel, int par défaut\n",
    "print(V)\n",
    "print(V.shape)\n",
    "print()\n",
    "\n",
    "# Matrice\n",
    "M = np.array([[1,2,3],\n",
    "              [4,5,6]])\n",
    "print(M)\n",
    "print(M.shape)\n",
    "print()\n",
    "\n",
    "# Tenseur\n",
    "T = np.array([[[1,2,3], [4,5,6]],\n",
    "              [[7,8,9], [10,11,12]]])\n",
    "print(T)\n",
    "print(T.shape)\n",
    "print()\n"
   ]
  },
  {
   "cell_type": "markdown",
   "metadata": {},
   "source": [
    "## Opérations avec vecteurs et matrices"
   ]
  },
  {
   "cell_type": "markdown",
   "metadata": {},
   "source": [
    "### Vecteurs"
   ]
  },
  {
   "cell_type": "code",
   "execution_count": 18,
   "metadata": {},
   "outputs": [
    {
     "name": "stdout",
     "output_type": "stream",
     "text": [
      "Vecteur u :\n",
      "[6 0 2]\n",
      "\n",
      "Vecteur v :\n",
      "[-1 -2  3]\n"
     ]
    }
   ],
   "source": [
    "# Définition vecteurs u et v\n",
    "u = np.array([6,0,2])\n",
    "v = np.array([-1,-2,3])\n",
    "\n",
    "print(\"Vecteur u :\")\n",
    "print(u)\n",
    "print()\n",
    "\n",
    "print(\"Vecteur v :\")\n",
    "print(v)"
   ]
  },
  {
   "cell_type": "code",
   "execution_count": null,
   "metadata": {},
   "outputs": [
    {
     "name": "stdout",
     "output_type": "stream",
     "text": [
      "u + v :\n",
      "[ 5 -2  5]\n",
      "\n",
      "u - v :\n",
      "[ 7  2 -1]\n",
      "\n",
      "3u :\n",
      "[18  0  6]\n"
     ]
    }
   ],
   "source": [
    "# Addition\n",
    "print(\"u + v :\")\n",
    "print(u + v)\n",
    "print()\n",
    "\n",
    "# Soustraction\n",
    "print(\"u - v :\")\n",
    "print(u - v)\n",
    "print()\n",
    "\n",
    "# Scaling\n",
    "print(\"3u :\")\n",
    "print(3*u)"
   ]
  },
  {
   "cell_type": "code",
   "execution_count": null,
   "metadata": {},
   "outputs": [
    {
     "name": "stdout",
     "output_type": "stream",
     "text": [
      "||u|| : 6.324555320336759\n",
      "||v|| : 3.7416573867739413\n",
      "\n",
      "Dot product u.v :\n",
      "0\n"
     ]
    }
   ],
   "source": [
    "# Norme d'un vecteur\n",
    "print(\"||u|| :\", np.linalg.norm(u))\n",
    "print(\"||v|| :\", np.linalg.norm(v))\n",
    "print()\n",
    "\n",
    "# Produit de vecteurs (dot product)\n",
    "print(\"u.v :\")\n",
    "print(u.dot(v))"
   ]
  },
  {
   "cell_type": "markdown",
   "metadata": {},
   "source": [
    "### Matrices"
   ]
  },
  {
   "cell_type": "code",
   "execution_count": 21,
   "metadata": {},
   "outputs": [
    {
     "name": "stdout",
     "output_type": "stream",
     "text": [
      "Matrice A :\n",
      "[[1 2 3]\n",
      " [4 5 6]\n",
      " [7 8 9]]\n",
      "\n",
      "Matrice B :\n",
      "[[10 10 10]\n",
      " [20 20 20]\n",
      " [30 30 30]]\n"
     ]
    }
   ],
   "source": [
    "# Définitions des matrices\n",
    "A = np.array([[1,2,3],\n",
    "              [4,5,6],\n",
    "              [7,8,9]])\n",
    "\n",
    "B = np.array([[10,10,10],\n",
    "              [20,20,20],\n",
    "              [30,30,30]])\n",
    "\n",
    "print(\"Matrice A :\")\n",
    "print(A)\n",
    "print()\n",
    "\n",
    "print(\"Matrice B :\")\n",
    "print(B)"
   ]
  },
  {
   "cell_type": "code",
   "execution_count": 22,
   "metadata": {},
   "outputs": [
    {
     "name": "stdout",
     "output_type": "stream",
     "text": [
      "A + B :\n",
      "[[11 12 13]\n",
      " [24 25 26]\n",
      " [37 38 39]]\n",
      "\n",
      "A - B :\n",
      "[[ -9  -8  -7]\n",
      " [-16 -15 -14]\n",
      " [-23 -22 -21]]\n",
      "\n",
      "2A :\n",
      "[[ 2  4  6]\n",
      " [ 8 10 12]\n",
      " [14 16 18]]\n"
     ]
    }
   ],
   "source": [
    "# Addition\n",
    "print(\"A + B :\")\n",
    "print(A+B)\n",
    "print()\n",
    "\n",
    "# Soustraction\n",
    "print(\"A - B :\")\n",
    "print(A-B)\n",
    "print()\n",
    "\n",
    "# Scaling\n",
    "print(\"2A :\")\n",
    "print(2*A)"
   ]
  },
  {
   "cell_type": "code",
   "execution_count": null,
   "metadata": {},
   "outputs": [
    {
     "name": "stdout",
     "output_type": "stream",
     "text": [
      "Produit avec l'opérateur @\n",
      "Produit de matrice AB :\n",
      "[[140 140 140]\n",
      " [320 320 320]\n",
      " [500 500 500]]\n",
      "\n",
      "Produit de matrice BA :\n",
      "[[120 150 180]\n",
      " [240 300 360]\n",
      " [360 450 540]]\n",
      "\n",
      "Produit avec Dot product\n",
      "Produit de matrice A.B :\n",
      "[[140 140 140]\n",
      " [320 320 320]\n",
      " [500 500 500]]\n",
      "\n",
      "Produit de matrice B.A :\n",
      "[[120 150 180]\n",
      " [240 300 360]\n",
      " [360 450 540]]\n",
      "\n"
     ]
    }
   ],
   "source": [
    "# Produits de matrices\n",
    "\n",
    "print(\"Produit avec l'opérateur @\")\n",
    "print(\"Produit de matrice A@B :\")\n",
    "print(A@B)\n",
    "print()\n",
    "print(\"Produit de matrice B@A :\")\n",
    "print(B@A)\n",
    "print()\n",
    "\n",
    "print(\"Produit avec Dot product\")\n",
    "print(\"Produit de matrice A.B :\")\n",
    "print(A.dot(B))\n",
    "print()\n",
    "print(\"Produit de matrice B.A :\")\n",
    "print(B.dot(A))\n",
    "print()\n"
   ]
  },
  {
   "cell_type": "markdown",
   "metadata": {},
   "source": [
    "### Matrice-Vecteur"
   ]
  },
  {
   "cell_type": "code",
   "execution_count": null,
   "metadata": {},
   "outputs": [
    {
     "name": "stdout",
     "output_type": "stream",
     "text": [
      " Matrice C (3, 2) :\n",
      "[[1 2]\n",
      " [3 4]\n",
      " [5 6]]\n",
      "\n",
      "Vecteur x (2,) :\n",
      "[ 5 -2]\n",
      "\n",
      "Produit de C @ x (3,) :\n",
      "[ 1  7 13]\n"
     ]
    }
   ],
   "source": [
    "# Définition d'une matrice\n",
    "C = np.array([[1,2],\n",
    "              [3,4],\n",
    "              [5,6]])\n",
    "\n",
    "# Définition d'un vecteur\n",
    "x = np.array([5, -2])\n",
    "\n",
    "print(\" Matrice C {} :\".format(C.shape))\n",
    "print(C)\n",
    "print()\n",
    "\n",
    "print(\"Vecteur x {} :\".format(x.shape))\n",
    "print(x)\n",
    "print()\n",
    "\n",
    "y = C@x\n",
    "print(\"Produit de C@x {} :\".format(y.shape))\n",
    "print(y)"
   ]
  },
  {
   "cell_type": "markdown",
   "metadata": {},
   "source": [
    "## Matrice transposée"
   ]
  },
  {
   "cell_type": "code",
   "execution_count": 27,
   "metadata": {},
   "outputs": [
    {
     "name": "stdout",
     "output_type": "stream",
     "text": [
      "Transposée de A :\n",
      "[[1 4 7]\n",
      " [2 5 8]\n",
      " [3 6 9]]\n",
      "\n",
      "Transposée de B :\n",
      "[[10 20 30]\n",
      " [10 20 30]\n",
      " [10 20 30]]\n",
      "\n",
      "Transposée de A.B :\n",
      "[[140 320 500]\n",
      " [140 320 500]\n",
      " [140 320 500]]\n",
      "\n",
      "Transposée de B @ Transposée de A:\n",
      "[[140 320 500]\n",
      " [140 320 500]\n",
      " [140 320 500]]\n",
      "\n"
     ]
    }
   ],
   "source": [
    "# Transposée\n",
    "print(\"Transposée de A :\")\n",
    "print(A.T)\n",
    "print()\n",
    "\n",
    "print(\"Transposée de B :\")\n",
    "print(B.T)\n",
    "print()\n",
    "\n",
    "print(\"Transposée de A.B :\")\n",
    "print((A@B).T)\n",
    "print()\n",
    "\n",
    "print(\"Transposée de B @ Transposée de A:\")\n",
    "print((B.T)@(A.T))\n",
    "print()"
   ]
  },
  {
   "cell_type": "markdown",
   "metadata": {},
   "source": [
    "## Matrice identitée"
   ]
  },
  {
   "cell_type": "code",
   "execution_count": 29,
   "metadata": {},
   "outputs": [
    {
     "name": "stdout",
     "output_type": "stream",
     "text": [
      "Matrice identité I :\n",
      "[[1 0 0]\n",
      " [0 1 0]\n",
      " [0 0 1]]\n",
      "\n",
      "IA :\n",
      "[[1 2 3]\n",
      " [4 5 6]\n",
      " [7 8 9]]\n",
      "\n",
      "AI :\n",
      "[[1 2 3]\n",
      " [4 5 6]\n",
      " [7 8 9]]\n"
     ]
    }
   ],
   "source": [
    "# Définition d'une matrice identité\n",
    "I = np.identity(3, dtype=int)\n",
    "\n",
    "print(\"Matrice identité I :\")\n",
    "print(I)\n",
    "print()\n",
    "\n",
    "print(\"IA :\")\n",
    "print(I@A)\n",
    "print()\n",
    "\n",
    "print(\"AI :\")\n",
    "print(A@I)"
   ]
  },
  {
   "cell_type": "markdown",
   "metadata": {},
   "source": [
    "## Matrice inversée"
   ]
  },
  {
   "cell_type": "code",
   "execution_count": null,
   "metadata": {},
   "outputs": [
    {
     "name": "stdout",
     "output_type": "stream",
     "text": [
      "Matrice D :\n",
      "[[ 3  0  2]\n",
      " [ 2  0 -2]\n",
      " [ 0  1  1]]\n",
      "\n",
      "Inverse de D :\n",
      "[[ 0.2  0.2  0. ]\n",
      " [-0.2  0.3  1. ]\n",
      " [ 0.2 -0.3 -0. ]]\n",
      "\n",
      "Produit de la matrice et de son ainverse :\n",
      "D@D_inv :\n",
      "[[ 1.  0.  0.]\n",
      " [-0.  1.  0.]\n",
      " [ 0.  0.  1.]]\n",
      "\n",
      "D_inv@D :\n",
      "[[ 1.  0. -0.]\n",
      " [ 0.  1.  0.]\n",
      " [ 0.  0.  1.]]\n"
     ]
    }
   ],
   "source": [
    "# Définition d'une matrice\n",
    "D = np.array([[3,0,2],\n",
    "              [2,0,-2],\n",
    "              [0,1,1]], dtype=int)\n",
    "\n",
    "print(\"Matrice D :\")\n",
    "print(D)\n",
    "print()\n",
    "\n",
    "D_inv = np.linalg.inv(D)\n",
    "print(\"Inverse de D :\")\n",
    "print(D_inv)\n",
    "print()\n",
    "\n",
    "print(\"Produit de la matrice et de son inverse :\")\n",
    "print(\"D@D_inv :\")\n",
    "print((D@D_inv).round(2))\n",
    "print()\n",
    "print(\"D_inv@D :\")\n",
    "print((D_inv@D).round(2))"
   ]
  },
  {
   "cell_type": "markdown",
   "metadata": {},
   "source": [
    "## Collinéarité et orthogonalité"
   ]
  },
  {
   "cell_type": "code",
   "execution_count": 35,
   "metadata": {},
   "outputs": [
    {
     "name": "stdout",
     "output_type": "stream",
     "text": [
      "Matrice U:\n",
      "[[ 0.66666667 -0.66666667  0.33333333]\n",
      " [ 0.33333333  0.66666667  0.66666667]\n",
      " [ 0.66666667  0.33333333 -0.66666667]]\n",
      "\n",
      "Transposée de U:\n",
      "[[ 0.66666667  0.33333333  0.66666667]\n",
      " [-0.66666667  0.66666667  0.33333333]\n",
      " [ 0.33333333  0.66666667 -0.66666667]]\n",
      "\n",
      "Produit de la matrice transposée avec la matrice :\n",
      "[[ 1. -0.  0.]\n",
      " [-0.  1. -0.]\n",
      " [ 0. -0.  1.]]\n"
     ]
    }
   ],
   "source": [
    "# Définition de la matrice\n",
    "U = np.array([[2/3, -2/3, 1/3],\n",
    "              [1/3, 2/3, 2/3],\n",
    "              [2/3, 1/3, -2/3]])\n",
    "\n",
    "print(\"Matrice U:\")\n",
    "print(U)\n",
    "print()\n",
    "\n",
    "print(\"Transposée de U:\")\n",
    "print(U.T)\n",
    "print()\n",
    "\n",
    "print(\"Produit de la matrice transposée avec la matrice :\")\n",
    "print((U.T @ U).round(2)) "
   ]
  },
  {
   "cell_type": "markdown",
   "metadata": {},
   "source": [
    "## Système d'equations linéraires : représentation en matrice"
   ]
  },
  {
   "cell_type": "code",
   "execution_count": 38,
   "metadata": {},
   "outputs": [
    {
     "name": "stdout",
     "output_type": "stream",
     "text": [
      "Matrice A :\n",
      "[[1 2]\n",
      " [3 9]]\n",
      "\n",
      "Vecteur b :\n",
      "[ 5 21]\n",
      "\n",
      "Inversion de matrice A :\n",
      "[[ 3.         -0.66666667]\n",
      " [-1.          0.33333333]]\n",
      "\n",
      "x = A-1 @ b :\n",
      "[1. 2.]\n",
      "\n",
      "x :\n",
      "[1. 2.]\n",
      "\n"
     ]
    }
   ],
   "source": [
    "# 1*x1+2*x2=5\n",
    "# 3*x1+9*x2=21\n",
    "# Sous la forme A*x=b\n",
    "# A une matrice\n",
    "# x et b des vecteurs\n",
    "\n",
    "\n",
    "A = np.array([[1,2],  # première équation\n",
    "              [3,9]]) # seconde équation\n",
    "\n",
    "print(\"Matrice A :\")\n",
    "print(A)\n",
    "print()\n",
    "\n",
    "b = np.array([5,21]) # résultats des deux équations\n",
    "\n",
    "print(\"Vecteur b :\")\n",
    "print(b)\n",
    "print()\n",
    "\n",
    "# Ax=b\n",
    "# => A-1*A*x = A-1*b\n",
    "# => 1x = A-1*b\n",
    "# => x = A-1*b\n",
    "\n",
    "# Méthode 1 en détaillant le calcul avec la matrice inversée linalg.inv\n",
    "A_inv = np.linalg.inv(A)\n",
    "\n",
    "print(\"Inversion de matrice A :\")\n",
    "print(A_inv)\n",
    "print()\n",
    "\n",
    "x = A_inv@b\n",
    "print(\"x = A-1 @ b :\")\n",
    "print(x)\n",
    "print()\n",
    "\n",
    "# Méthode 2 en utilisant linalg.solve\n",
    "x = np.linalg.solve(A, b)\n",
    "print(\"x :\")\n",
    "print(x)\n",
    "print()\n"
   ]
  },
  {
   "cell_type": "markdown",
   "metadata": {},
   "source": [
    "## Diagonalisation de matrices"
   ]
  },
  {
   "cell_type": "code",
   "execution_count": 43,
   "metadata": {},
   "outputs": [
    {
     "name": "stdout",
     "output_type": "stream",
     "text": [
      "Matrice A :\n",
      "[[ 3  4 -2]\n",
      " [ 1  4 -1]\n",
      " [ 2  6 -1]]\n",
      "\n",
      "Valeurs propres (eigenvalues) de A :\n",
      "[3. 2. 1.]\n",
      "\n",
      "Vecteur propre (eigenvectors) de A :\n",
      "[[-0.408  0.     0.707]\n",
      " [-0.408  0.447 -0.   ]\n",
      " [-0.816  0.894  0.707]]\n",
      "\n",
      "Effet de A sur son premier vecteur propre :\n",
      "[-1.22474487 -1.22474487 -2.44948974]\n",
      "\n",
      "Si on multiplie (scale) le premier vecteur propre, par sa valeur propre associée :\n",
      "[-1.22474487 -1.22474487 -2.44948974]\n",
      "\n"
     ]
    }
   ],
   "source": [
    "# Déclaration de la matrice\n",
    "A = np.array([[3,4,-2],\n",
    "              [1,4,-1],\n",
    "              [2,6,-1]])\n",
    "\n",
    "print(\"Matrice A :\")\n",
    "print(A)\n",
    "print()\n",
    "\n",
    "eigenvals, eigenvecs = np.linalg.eig(A)\n",
    "\n",
    "print(\"Valeurs propres (eigenvalues) de A :\")\n",
    "print(eigenvals)\n",
    "print()\n",
    "\n",
    "print(\"Vecteur propre (eigenvectors) de A :\")\n",
    "print(eigenvecs.round(3))\n",
    "print()\n",
    "\n",
    "print(\"Effet de A sur son premier vecteur propre :\")\n",
    "print(A@eigenvecs[:,0])\n",
    "print()\n",
    "\n",
    "print(\"Si on multiplie (scale) le premier vecteur propre, par sa valeur propre associée :\")\n",
    "print(eigenvals[0]*eigenvecs[:,0])\n",
    "print()"
   ]
  }
 ],
 "metadata": {
  "kernelspec": {
   "display_name": "base",
   "language": "python",
   "name": "python3"
  },
  "language_info": {
   "codemirror_mode": {
    "name": "ipython",
    "version": 3
   },
   "file_extension": ".py",
   "mimetype": "text/x-python",
   "name": "python",
   "nbconvert_exporter": "python",
   "pygments_lexer": "ipython3",
   "version": "3.12.7"
  }
 },
 "nbformat": 4,
 "nbformat_minor": 2
}
