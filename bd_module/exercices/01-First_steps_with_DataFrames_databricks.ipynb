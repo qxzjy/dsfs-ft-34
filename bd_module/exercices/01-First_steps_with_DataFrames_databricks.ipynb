{
 "cells": [
  {
   "attachments": {},
   "cell_type": "markdown",
   "metadata": {
    "application/vnd.databricks.v1+cell": {
     "inputWidgets": {},
     "nuid": "920f54b6-ed78-41a0-a80e-33e9edb991a6",
     "showTitle": false,
     "title": ""
    }
   },
   "source": [
    "# First steps with DataFrames"
   ]
  },
  {
   "attachments": {},
   "cell_type": "markdown",
   "metadata": {
    "application/vnd.databricks.v1+cell": {
     "inputWidgets": {},
     "nuid": "f7470686-6754-4a6d-a0d3-714165015468",
     "showTitle": false,
     "title": ""
    }
   },
   "source": [
    "## Learning objectives\n",
    "\n",
    "- Learn basic transformations and actions on PySpark DataFrames\n",
    "- Learn to define a temporary view and execute SQL statements using the SparkSession"
   ]
  },
  {
   "cell_type": "code",
   "execution_count": null,
   "metadata": {
    "application/vnd.databricks.v1+cell": {
     "inputWidgets": {},
     "nuid": "d0c1aee6-2b13-4494-b205-fbf02c4a6ab6",
     "showTitle": false,
     "title": ""
    }
   },
   "outputs": [
    {
     "data": {
      "text/html": [
       "<style scoped>\n",
       "  .ansiout {\n",
       "    display: block;\n",
       "    unicode-bidi: embed;\n",
       "    white-space: pre-wrap;\n",
       "    word-wrap: break-word;\n",
       "    word-break: break-all;\n",
       "    font-family: \"Source Code Pro\", \"Menlo\", monospace;;\n",
       "    font-size: 13px;\n",
       "    color: #555;\n",
       "    margin-left: 4px;\n",
       "    line-height: 19px;\n",
       "  }\n",
       "</style>\n",
       "<div class=\"ansiout\">Out[1]: </div>"
      ]
     },
     "metadata": {
      "application/vnd.databricks.v1+output": {
       "addedWidgets": {},
       "arguments": {},
       "data": "<div class=\"ansiout\">Out[1]: </div>",
       "datasetInfos": [],
       "removedWidgets": [],
       "type": "html"
      }
     },
     "output_type": "display_data"
    },
    {
     "data": {
      "text/html": [
       "\n",
       "            <div>\n",
       "                <p><b>SparkSession - hive</b></p>\n",
       "                \n",
       "        <div>\n",
       "            <p><b>SparkContext</b></p>\n",
       "\n",
       "            <p><a href=\"/?o=3656129182304120#setting/sparkui/0503-072804-fixer260/driver-6504139490495780038\">Spark UI</a></p>\n",
       "\n",
       "            <dl>\n",
       "              <dt>Version</dt>\n",
       "                <dd><code>v3.1.0</code></dd>\n",
       "              <dt>Master</dt>\n",
       "                <dd><code>local[8]</code></dd>\n",
       "              <dt>AppName</dt>\n",
       "                <dd><code>Databricks Shell</code></dd>\n",
       "            </dl>\n",
       "        </div>\n",
       "        \n",
       "            </div>\n",
       "        "
      ]
     },
     "metadata": {
      "application/vnd.databricks.v1+output": {
       "addedWidgets": {},
       "arguments": {},
       "data": "\n            <div>\n                <p><b>SparkSession - hive</b></p>\n                \n        <div>\n            <p><b>SparkContext</b></p>\n\n            <p><a href=\"/?o=3656129182304120#setting/sparkui/0503-072804-fixer260/driver-6504139490495780038\">Spark UI</a></p>\n\n            <dl>\n              <dt>Version</dt>\n                <dd><code>v3.1.0</code></dd>\n              <dt>Master</dt>\n                <dd><code>local[8]</code></dd>\n              <dt>AppName</dt>\n                <dd><code>Databricks Shell</code></dd>\n            </dl>\n        </div>\n        \n            </div>\n        ",
       "datasetInfos": [],
       "removedWidgets": [],
       "textData": null,
       "type": "htmlSandbox"
      }
     },
     "output_type": "display_data"
    }
   ],
   "source": [
    "spark"
   ]
  },
  {
   "cell_type": "code",
   "execution_count": null,
   "metadata": {
    "application/vnd.databricks.v1+cell": {
     "inputWidgets": {},
     "nuid": "bc6cb2d6-64c5-403f-8973-43b2b35da1db",
     "showTitle": false,
     "title": ""
    }
   },
   "outputs": [
    {
     "data": {
      "text/html": [
       "<style scoped>\n",
       "  .ansiout {\n",
       "    display: block;\n",
       "    unicode-bidi: embed;\n",
       "    white-space: pre-wrap;\n",
       "    word-wrap: break-word;\n",
       "    word-break: break-all;\n",
       "    font-family: \"Source Code Pro\", \"Menlo\", monospace;;\n",
       "    font-size: 13px;\n",
       "    color: #555;\n",
       "    margin-left: 4px;\n",
       "    line-height: 19px;\n",
       "  }\n",
       "</style>\n",
       "<div class=\"ansiout\"></div>"
      ]
     },
     "metadata": {
      "application/vnd.databricks.v1+output": {
       "addedWidgets": {},
       "arguments": {},
       "data": "<div class=\"ansiout\"></div>",
       "datasetInfos": [],
       "removedWidgets": [],
       "type": "html"
      }
     },
     "output_type": "display_data"
    }
   ],
   "source": [
    "# Load the file hosted at `filepath` onto a PySpark DataFrame: user_logs\n",
    "filepath = \"s3://full-stack-bigdata-datasets/Big_Data/youtube_playlog.csv\"\n",
    "\n",
    "user_logs = (spark.read.format('csv')\\\n",
    "             .option('header', 'true')\\\n",
    "             .option('inferSchema', 'true')\\\n",
    "             .load(filepath))"
   ]
  },
  {
   "attachments": {},
   "cell_type": "markdown",
   "metadata": {
    "application/vnd.databricks.v1+cell": {
     "inputWidgets": {},
     "nuid": "6db2174c-a610-4400-a8b2-c8c1017c5466",
     "showTitle": false,
     "title": ""
    }
   },
   "source": [
    "It's easier to see PySpark DataFrames abstractions as SQL tables rather than to think of them as equivalent to `pandas`.  If you are familiar with data manipulation in `pandas`, it will be tempting to shortcut your thinking into `pandas`, this is the worse you can do.\n",
    "\n",
    "The goal of this notebook is to help you counter your intuition on this.\n",
    "\n",
    "This is why, for every task in this notebook, we will first implement them using declarative SQL (using `spark.sql(...)`), you will then try to get the same result using PySpark DataFrames imperative programming style.\n",
    "\n",
    "Before we get started, we will first start by running a few actions that have no equivalent in SQL: `.show()`, `.printSchema()` and `.describe()`.\n",
    "\n",
    "Remember, these are actions, that means they will **actually perform computations**.\n",
    "\n",
    "Unlike most actions, `.show()` and `.printSchema()` won't return a result, but just print out to the screen.\n",
    "\n",
    "1. Show the first 10 rows of `user_logs`:"
   ]
  },
  {
   "cell_type": "code",
   "execution_count": null,
   "metadata": {
    "application/vnd.databricks.v1+cell": {
     "inputWidgets": {},
     "nuid": "2f57187d-186e-4007-bc82-396a8d1f2e2e",
     "showTitle": false,
     "title": ""
    }
   },
   "outputs": [
    {
     "data": {
      "text/html": [
       "<style scoped>\n",
       "  .ansiout {\n",
       "    display: block;\n",
       "    unicode-bidi: embed;\n",
       "    white-space: pre-wrap;\n",
       "    word-wrap: break-word;\n",
       "    word-break: break-all;\n",
       "    font-family: \"Source Code Pro\", \"Menlo\", monospace;;\n",
       "    font-size: 13px;\n",
       "    color: #555;\n",
       "    margin-left: 4px;\n",
       "    line-height: 19px;\n",
       "  }\n",
       "</style>\n",
       "<div class=\"ansiout\">+----------+----+-----------+\n",
       " timestamp|user|       song|\n",
       "+----------+----+-----------+\n",
       "1392387533|   0|t1l8Z6gLPzo|\n",
       "1392387538|   1|t1l8Z6gLPzo|\n",
       "1392387556|   2|t1l8Z6gLPzo|\n",
       "1392387561|   3|we5gzZq5Avg|\n",
       "1392387566|   4|we5gzZq5Avg|\n",
       "1392387566|   5|we5gzZq5Avg|\n",
       "1392387574|   6|49esza4eiK4|\n",
       "1392387579|   2|BoO6LfR7ca0|\n",
       "1392387583|   7|DaH4W1rY9us|\n",
       "1392387584|   2|BoO6LfR7ca0|\n",
       "1392387590|   8|BoO6LfR7ca0|\n",
       "1392387590|   9|PAAUqBghiVo|\n",
       "1392387592|   3|7CkBU80AsVg|\n",
       "1392387593|  10|yaaZO-X4LIk|\n",
       "1392387595|  11|yaaZO-X4LIk|\n",
       "1392387607|   7|lddHsCBdQu8|\n",
       "1392387612|  12|mhsf7K6h7SY|\n",
       "1392387612|  13|mhsf7K6h7SY|\n",
       "1392387621|   3|3go6xFb0FrU|\n",
       "1392387624|  14|L4OZxO1TnuE|\n",
       "+----------+----+-----------+\n",
       "only showing top 20 rows\n",
       "\n",
       "</div>"
      ]
     },
     "metadata": {
      "application/vnd.databricks.v1+output": {
       "addedWidgets": {},
       "arguments": {},
       "data": "<div class=\"ansiout\">+----------+----+-----------+\n| timestamp|user|       song|\n+----------+----+-----------+\n|1392387533|   0|t1l8Z6gLPzo|\n|1392387538|   1|t1l8Z6gLPzo|\n|1392387556|   2|t1l8Z6gLPzo|\n|1392387561|   3|we5gzZq5Avg|\n|1392387566|   4|we5gzZq5Avg|\n|1392387566|   5|we5gzZq5Avg|\n|1392387574|   6|49esza4eiK4|\n|1392387579|   2|BoO6LfR7ca0|\n|1392387583|   7|DaH4W1rY9us|\n|1392387584|   2|BoO6LfR7ca0|\n|1392387590|   8|BoO6LfR7ca0|\n|1392387590|   9|PAAUqBghiVo|\n|1392387592|   3|7CkBU80AsVg|\n|1392387593|  10|yaaZO-X4LIk|\n|1392387595|  11|yaaZO-X4LIk|\n|1392387607|   7|lddHsCBdQu8|\n|1392387612|  12|mhsf7K6h7SY|\n|1392387612|  13|mhsf7K6h7SY|\n|1392387621|   3|3go6xFb0FrU|\n|1392387624|  14|L4OZxO1TnuE|\n+----------+----+-----------+\nonly showing top 20 rows\n\n</div>",
       "datasetInfos": [],
       "removedWidgets": [],
       "type": "html"
      }
     },
     "output_type": "display_data"
    }
   ],
   "source": []
  },
  {
   "attachments": {},
   "cell_type": "markdown",
   "metadata": {},
   "source": [
    "2. Print out the schema of `user_logs`"
   ]
  },
  {
   "cell_type": "code",
   "execution_count": null,
   "metadata": {
    "application/vnd.databricks.v1+cell": {
     "inputWidgets": {},
     "nuid": "647a0e32-c6d3-4a6c-964e-bce677b79e52",
     "showTitle": false,
     "title": ""
    }
   },
   "outputs": [
    {
     "data": {
      "text/html": [
       "<style scoped>\n",
       "  .ansiout {\n",
       "    display: block;\n",
       "    unicode-bidi: embed;\n",
       "    white-space: pre-wrap;\n",
       "    word-wrap: break-word;\n",
       "    word-break: break-all;\n",
       "    font-family: \"Source Code Pro\", \"Menlo\", monospace;;\n",
       "    font-size: 13px;\n",
       "    color: #555;\n",
       "    margin-left: 4px;\n",
       "    line-height: 19px;\n",
       "  }\n",
       "</style>\n",
       "<div class=\"ansiout\">root\n",
       "-- timestamp: integer (nullable = true)\n",
       "-- user: integer (nullable = true)\n",
       "-- song: string (nullable = true)\n",
       "\n",
       "</div>"
      ]
     },
     "metadata": {
      "application/vnd.databricks.v1+output": {
       "addedWidgets": {},
       "arguments": {},
       "data": "<div class=\"ansiout\">root\n |-- timestamp: integer (nullable = true)\n |-- user: integer (nullable = true)\n |-- song: string (nullable = true)\n\n</div>",
       "datasetInfos": [],
       "removedWidgets": [],
       "type": "html"
      }
     },
     "output_type": "display_data"
    }
   ],
   "source": []
  },
  {
   "attachments": {},
   "cell_type": "markdown",
   "metadata": {
    "application/vnd.databricks.v1+cell": {
     "inputWidgets": {},
     "nuid": "6ff029ba-36d0-4384-a871-5fa8c3b1f815",
     "showTitle": false,
     "title": ""
    }
   },
   "source": [
    "Another action, `.describe()`, this one returns a value: descriptive statistics about the DataFrame in a Spark DataFrame format."
   ]
  },
  {
   "attachments": {},
   "cell_type": "markdown",
   "metadata": {},
   "source": [
    "3. Use `.describe()` on `user_logs` and put it inside `user_describe`:"
   ]
  },
  {
   "cell_type": "code",
   "execution_count": null,
   "metadata": {},
   "outputs": [],
   "source": []
  },
  {
   "attachments": {},
   "cell_type": "markdown",
   "metadata": {},
   "source": [
    "4. Show the results with `.toPandas()`:"
   ]
  },
  {
   "cell_type": "code",
   "execution_count": null,
   "metadata": {
    "application/vnd.databricks.v1+cell": {
     "inputWidgets": {},
     "nuid": "fdd9034f-e7f7-4938-86d8-7181588a2551",
     "showTitle": false,
     "title": ""
    }
   },
   "outputs": [
    {
     "data": {
      "text/html": [
       "<style scoped>\n",
       "  .ansiout {\n",
       "    display: block;\n",
       "    unicode-bidi: embed;\n",
       "    white-space: pre-wrap;\n",
       "    word-wrap: break-word;\n",
       "    word-break: break-all;\n",
       "    font-family: \"Source Code Pro\", \"Menlo\", monospace;;\n",
       "    font-size: 13px;\n",
       "    color: #555;\n",
       "    margin-left: 4px;\n",
       "    line-height: 19px;\n",
       "  }\n",
       "</style>\n",
       "<div class=\"ansiout\">Out[7]: </div>"
      ]
     },
     "metadata": {
      "application/vnd.databricks.v1+output": {
       "addedWidgets": {},
       "arguments": {},
       "data": "<div class=\"ansiout\">Out[7]: </div>",
       "datasetInfos": [],
       "removedWidgets": [],
       "type": "html"
      }
     },
     "output_type": "display_data"
    },
    {
     "data": {
      "text/html": [
       "<div>\n",
       "<style scoped>\n",
       "    .dataframe tbody tr th:only-of-type {\n",
       "        vertical-align: middle;\n",
       "    }\n",
       "\n",
       "    .dataframe tbody tr th {\n",
       "        vertical-align: top;\n",
       "    }\n",
       "\n",
       "    .dataframe thead th {\n",
       "        text-align: right;\n",
       "    }\n",
       "</style>\n",
       "<table border=\"1\" class=\"dataframe\">\n",
       "  <thead>\n",
       "    <tr style=\"text-align: right;\">\n",
       "      <th></th>\n",
       "      <th>summary</th>\n",
       "      <th>timestamp</th>\n",
       "      <th>user</th>\n",
       "      <th>song</th>\n",
       "    </tr>\n",
       "  </thead>\n",
       "  <tbody>\n",
       "    <tr>\n",
       "      <th>0</th>\n",
       "      <td>count</td>\n",
       "      <td>25739537</td>\n",
       "      <td>25739537</td>\n",
       "      <td>25739537</td>\n",
       "    </tr>\n",
       "    <tr>\n",
       "      <th>1</th>\n",
       "      <td>mean</td>\n",
       "      <td>1.4427006561045842E9</td>\n",
       "      <td>12697.352275450798</td>\n",
       "      <td>2.532571778181818E8</td>\n",
       "    </tr>\n",
       "    <tr>\n",
       "      <th>2</th>\n",
       "      <td>stddev</td>\n",
       "      <td>3.443284872371195E7</td>\n",
       "      <td>13094.065905828476</td>\n",
       "      <td>8.334645614940468E8</td>\n",
       "    </tr>\n",
       "    <tr>\n",
       "      <th>3</th>\n",
       "      <td>min</td>\n",
       "      <td>-139955897</td>\n",
       "      <td>0</td>\n",
       "      <td>---AtpxbkaE</td>\n",
       "    </tr>\n",
       "    <tr>\n",
       "      <th>4</th>\n",
       "      <td>max</td>\n",
       "      <td>1554321113</td>\n",
       "      <td>45903</td>\n",
       "      <td>zzzcFgRMY6c</td>\n",
       "    </tr>\n",
       "  </tbody>\n",
       "</table>\n",
       "</div>"
      ]
     },
     "metadata": {
      "application/vnd.databricks.v1+output": {
       "addedWidgets": {},
       "arguments": {},
       "data": "<div>\n<style scoped>\n    .dataframe tbody tr th:only-of-type {\n        vertical-align: middle;\n    }\n\n    .dataframe tbody tr th {\n        vertical-align: top;\n    }\n\n    .dataframe thead th {\n        text-align: right;\n    }\n</style>\n<table border=\"1\" class=\"dataframe\">\n  <thead>\n    <tr style=\"text-align: right;\">\n      <th></th>\n      <th>summary</th>\n      <th>timestamp</th>\n      <th>user</th>\n      <th>song</th>\n    </tr>\n  </thead>\n  <tbody>\n    <tr>\n      <th>0</th>\n      <td>count</td>\n      <td>25739537</td>\n      <td>25739537</td>\n      <td>25739537</td>\n    </tr>\n    <tr>\n      <th>1</th>\n      <td>mean</td>\n      <td>1.4427006561045842E9</td>\n      <td>12697.352275450798</td>\n      <td>2.532571778181818E8</td>\n    </tr>\n    <tr>\n      <th>2</th>\n      <td>stddev</td>\n      <td>3.443284872371195E7</td>\n      <td>13094.065905828476</td>\n      <td>8.334645614940468E8</td>\n    </tr>\n    <tr>\n      <th>3</th>\n      <td>min</td>\n      <td>-139955897</td>\n      <td>0</td>\n      <td>---AtpxbkaE</td>\n    </tr>\n    <tr>\n      <th>4</th>\n      <td>max</td>\n      <td>1554321113</td>\n      <td>45903</td>\n      <td>zzzcFgRMY6c</td>\n    </tr>\n  </tbody>\n</table>\n</div>",
       "datasetInfos": [],
       "removedWidgets": [],
       "textData": null,
       "type": "htmlSandbox"
      }
     },
     "output_type": "display_data"
    }
   ],
   "source": []
  },
  {
   "attachments": {},
   "cell_type": "markdown",
   "metadata": {},
   "source": [
    "5. Show the results with `display()`:"
   ]
  },
  {
   "cell_type": "code",
   "execution_count": null,
   "metadata": {
    "application/vnd.databricks.v1+cell": {
     "inputWidgets": {},
     "nuid": "a2c66698-a0e3-4ebf-853b-3fad3b3a51f8",
     "showTitle": false,
     "title": ""
    }
   },
   "outputs": [
    {
     "data": {
      "text/html": [
       "<style scoped>\n",
       "  .table-result-container {\n",
       "    max-height: 300px;\n",
       "    overflow: auto;\n",
       "  }\n",
       "  table, th, td {\n",
       "    border: 1px solid black;\n",
       "    border-collapse: collapse;\n",
       "  }\n",
       "  th, td {\n",
       "    padding: 5px;\n",
       "  }\n",
       "  th {\n",
       "    text-align: left;\n",
       "  }\n",
       "</style><div class='table-result-container'><table class='table-result'><thead style='background-color: white'><tr><th>summary</th><th>timestamp</th><th>user</th><th>song</th></tr></thead><tbody><tr><td>count</td><td>25739537</td><td>25739537</td><td>25739537</td></tr><tr><td>mean</td><td>1.4427006561045842E9</td><td>12697.352275450798</td><td>2.532571778181818E8</td></tr><tr><td>stddev</td><td>3.443284872371195E7</td><td>13094.065905828476</td><td>8.334645614940468E8</td></tr><tr><td>min</td><td>-139955897</td><td>0</td><td>---AtpxbkaE</td></tr><tr><td>max</td><td>1554321113</td><td>45903</td><td>zzzcFgRMY6c</td></tr></tbody></table></div>"
      ]
     },
     "metadata": {
      "application/vnd.databricks.v1+output": {
       "addedWidgets": {},
       "aggData": [],
       "aggError": "",
       "aggOverflow": false,
       "aggSchema": [],
       "aggSeriesLimitReached": false,
       "aggType": "",
       "arguments": {},
       "columnCustomDisplayInfos": {},
       "data": [
        [
         "count",
         "25739537",
         "25739537",
         "25739537"
        ],
        [
         "mean",
         "1.4427006561045842E9",
         "12697.352275450798",
         "2.532571778181818E8"
        ],
        [
         "stddev",
         "3.443284872371195E7",
         "13094.065905828476",
         "8.334645614940468E8"
        ],
        [
         "min",
         "-139955897",
         "0",
         "---AtpxbkaE"
        ],
        [
         "max",
         "1554321113",
         "45903",
         "zzzcFgRMY6c"
        ]
       ],
       "datasetInfos": [],
       "dbfsResultPath": null,
       "isJsonSchema": true,
       "overflow": false,
       "plotOptions": {
        "customPlotOptions": {},
        "displayType": "table",
        "pivotAggregation": null,
        "pivotColumns": [],
        "xColumns": [],
        "yColumns": []
       },
       "removedWidgets": [],
       "schema": [
        {
         "metadata": "{}",
         "name": "summary",
         "type": "\"string\""
        },
        {
         "metadata": "{}",
         "name": "timestamp",
         "type": "\"string\""
        },
        {
         "metadata": "{}",
         "name": "user",
         "type": "\"string\""
        },
        {
         "metadata": "{}",
         "name": "song",
         "type": "\"string\""
        }
       ],
       "type": "table"
      }
     },
     "output_type": "display_data"
    }
   ],
   "source": []
  },
  {
   "attachments": {},
   "cell_type": "markdown",
   "metadata": {},
   "source": [
    "6. Show the results using `.show()`:"
   ]
  },
  {
   "cell_type": "code",
   "execution_count": null,
   "metadata": {
    "application/vnd.databricks.v1+cell": {
     "inputWidgets": {},
     "nuid": "f99f1593-bc22-489f-8e12-00301792e782",
     "showTitle": false,
     "title": ""
    }
   },
   "outputs": [
    {
     "data": {
      "text/html": [
       "<style scoped>\n",
       "  .ansiout {\n",
       "    display: block;\n",
       "    unicode-bidi: embed;\n",
       "    white-space: pre-wrap;\n",
       "    word-wrap: break-word;\n",
       "    word-break: break-all;\n",
       "    font-family: \"Source Code Pro\", \"Menlo\", monospace;;\n",
       "    font-size: 13px;\n",
       "    color: #555;\n",
       "    margin-left: 4px;\n",
       "    line-height: 19px;\n",
       "  }\n",
       "</style>\n",
       "<div class=\"ansiout\">+-------+--------------------+------------------+-------------------+\n",
       "summary|           timestamp|              user|               song|\n",
       "+-------+--------------------+------------------+-------------------+\n",
       "  count|            25739537|          25739537|           25739537|\n",
       "   mean|1.4427006561045842E9|12697.352275450798|2.532571778181818E8|\n",
       " stddev| 3.443284872371195E7|13094.065905828476|8.334645614940468E8|\n",
       "    min|          -139955897|                 0|        ---AtpxbkaE|\n",
       "    max|          1554321113|             45903|        zzzcFgRMY6c|\n",
       "+-------+--------------------+------------------+-------------------+\n",
       "\n",
       "</div>"
      ]
     },
     "metadata": {
      "application/vnd.databricks.v1+output": {
       "addedWidgets": {},
       "arguments": {},
       "data": "<div class=\"ansiout\">+-------+--------------------+------------------+-------------------+\n|summary|           timestamp|              user|               song|\n+-------+--------------------+------------------+-------------------+\n|  count|            25739537|          25739537|           25739537|\n|   mean|1.4427006561045842E9|12697.352275450798|2.532571778181818E8|\n| stddev| 3.443284872371195E7|13094.065905828476|8.334645614940468E8|\n|    min|          -139955897|                 0|        ---AtpxbkaE|\n|    max|          1554321113|             45903|        zzzcFgRMY6c|\n+-------+--------------------+------------------+-------------------+\n\n</div>",
       "datasetInfos": [],
       "removedWidgets": [],
       "type": "html"
      }
     },
     "output_type": "display_data"
    }
   ],
   "source": []
  },
  {
   "attachments": {},
   "cell_type": "markdown",
   "metadata": {
    "application/vnd.databricks.v1+cell": {
     "inputWidgets": {},
     "nuid": "0f28c873-4d29-43f6-abd4-3cfbc3eb9351",
     "showTitle": false,
     "title": ""
    }
   },
   "source": [
    "7. Before we can query using SQL, we need a `TempView`. Create a TempView of `user_logs` in `user_logs_table`."
   ]
  },
  {
   "cell_type": "code",
   "execution_count": null,
   "metadata": {
    "application/vnd.databricks.v1+cell": {
     "inputWidgets": {},
     "nuid": "8b7d092c-e858-4698-a34a-5b1cb1f2e479",
     "showTitle": false,
     "title": ""
    }
   },
   "outputs": [
    {
     "data": {
      "text/html": [
       "<style scoped>\n",
       "  .ansiout {\n",
       "    display: block;\n",
       "    unicode-bidi: embed;\n",
       "    white-space: pre-wrap;\n",
       "    word-wrap: break-word;\n",
       "    word-break: break-all;\n",
       "    font-family: \"Source Code Pro\", \"Menlo\", monospace;;\n",
       "    font-size: 13px;\n",
       "    color: #555;\n",
       "    margin-left: 4px;\n",
       "    line-height: 19px;\n",
       "  }\n",
       "</style>\n",
       "<div class=\"ansiout\"></div>"
      ]
     },
     "metadata": {
      "application/vnd.databricks.v1+output": {
       "addedWidgets": {},
       "arguments": {},
       "data": "<div class=\"ansiout\"></div>",
       "datasetInfos": [],
       "removedWidgets": [],
       "type": "html"
      }
     },
     "output_type": "display_data"
    }
   ],
   "source": []
  },
  {
   "attachments": {},
   "cell_type": "markdown",
   "metadata": {
    "application/vnd.databricks.v1+cell": {
     "inputWidgets": {},
     "nuid": "3aaaa3bc-94df-4de0-afad-2c2ae840b43c",
     "showTitle": false,
     "title": ""
    }
   },
   "source": [
    "## Task 1: count the number of records"
   ]
  },
  {
   "attachments": {},
   "cell_type": "markdown",
   "metadata": {
    "application/vnd.databricks.v1+cell": {
     "inputWidgets": {},
     "nuid": "1e3fd65a-8403-49af-807b-44de75c09659",
     "showTitle": false,
     "title": ""
    }
   },
   "source": [
    "`.count(...)` is an action not a transformation (and will perform computation), while using COUNT in a SQL statement will still return a DataFrame (you'll have to force the compute).\n",
    "\n",
    "1. count the number of records using SQL"
   ]
  },
  {
   "cell_type": "code",
   "execution_count": null,
   "metadata": {
    "application/vnd.databricks.v1+cell": {
     "inputWidgets": {},
     "nuid": "d9c8c209-618c-42c1-901e-062f4d320b4f",
     "showTitle": false,
     "title": ""
    }
   },
   "outputs": [
    {
     "data": {
      "text/html": [
       "<style scoped>\n",
       "  .table-result-container {\n",
       "    max-height: 300px;\n",
       "    overflow: auto;\n",
       "  }\n",
       "  table, th, td {\n",
       "    border: 1px solid black;\n",
       "    border-collapse: collapse;\n",
       "  }\n",
       "  th, td {\n",
       "    padding: 5px;\n",
       "  }\n",
       "  th {\n",
       "    text-align: left;\n",
       "  }\n",
       "</style><div class='table-result-container'><table class='table-result'><thead style='background-color: white'><tr><th>count(1)</th></tr></thead><tbody><tr><td>25739537</td></tr></tbody></table></div>"
      ]
     },
     "metadata": {
      "application/vnd.databricks.v1+output": {
       "addedWidgets": {},
       "aggData": [],
       "aggError": "",
       "aggOverflow": false,
       "aggSchema": [],
       "aggSeriesLimitReached": false,
       "aggType": "",
       "arguments": {},
       "columnCustomDisplayInfos": {},
       "data": [
        [
         25739537
        ]
       ],
       "datasetInfos": [],
       "dbfsResultPath": null,
       "isJsonSchema": true,
       "overflow": false,
       "plotOptions": {
        "customPlotOptions": {},
        "displayType": "table",
        "pivotAggregation": null,
        "pivotColumns": [],
        "xColumns": [],
        "yColumns": []
       },
       "removedWidgets": [],
       "schema": [
        {
         "metadata": "{}",
         "name": "count(1)",
         "type": "\"long\""
        }
       ],
       "type": "table"
      }
     },
     "output_type": "display_data"
    }
   ],
   "source": []
  },
  {
   "attachments": {},
   "cell_type": "markdown",
   "metadata": {},
   "source": [
    "2. count the number of records using PySpark DataFrames transformations and actions"
   ]
  },
  {
   "cell_type": "code",
   "execution_count": null,
   "metadata": {
    "application/vnd.databricks.v1+cell": {
     "inputWidgets": {},
     "nuid": "ee5c86df-b4f2-4005-bd3a-7dad94e8387b",
     "showTitle": false,
     "title": ""
    }
   },
   "outputs": [
    {
     "data": {
      "text/html": [
       "<style scoped>\n",
       "  .ansiout {\n",
       "    display: block;\n",
       "    unicode-bidi: embed;\n",
       "    white-space: pre-wrap;\n",
       "    word-wrap: break-word;\n",
       "    word-break: break-all;\n",
       "    font-family: \"Source Code Pro\", \"Menlo\", monospace;;\n",
       "    font-size: 13px;\n",
       "    color: #555;\n",
       "    margin-left: 4px;\n",
       "    line-height: 19px;\n",
       "  }\n",
       "</style>\n",
       "<div class=\"ansiout\">Out[12]: 25739537</div>"
      ]
     },
     "metadata": {
      "application/vnd.databricks.v1+output": {
       "addedWidgets": {},
       "arguments": {},
       "data": "<div class=\"ansiout\">Out[12]: 25739537</div>",
       "datasetInfos": [],
       "removedWidgets": [],
       "type": "html"
      }
     },
     "output_type": "display_data"
    }
   ],
   "source": []
  },
  {
   "attachments": {},
   "cell_type": "markdown",
   "metadata": {
    "application/vnd.databricks.v1+cell": {
     "inputWidgets": {},
     "nuid": "b4ed6d4d-7db1-4d30-ad6f-ee80012ad8a4",
     "showTitle": false,
     "title": ""
    }
   },
   "source": [
    "## Task 2: select the column `user`"
   ]
  },
  {
   "attachments": {},
   "cell_type": "markdown",
   "metadata": {},
   "source": [
    "1. Select the column 'user' using SQL"
   ]
  },
  {
   "cell_type": "code",
   "execution_count": null,
   "metadata": {
    "application/vnd.databricks.v1+cell": {
     "inputWidgets": {},
     "nuid": "982ad143-1786-47de-a610-0186583397f2",
     "showTitle": false,
     "title": ""
    }
   },
   "outputs": [
    {
     "data": {
      "text/html": [
       "<style scoped>\n",
       "  .ansiout {\n",
       "    display: block;\n",
       "    unicode-bidi: embed;\n",
       "    white-space: pre-wrap;\n",
       "    word-wrap: break-word;\n",
       "    word-break: break-all;\n",
       "    font-family: \"Source Code Pro\", \"Menlo\", monospace;;\n",
       "    font-size: 13px;\n",
       "    color: #555;\n",
       "    margin-left: 4px;\n",
       "    line-height: 19px;\n",
       "  }\n",
       "</style>\n",
       "<div class=\"ansiout\">+----+\n",
       "user|\n",
       "+----+\n",
       "   0|\n",
       "   1|\n",
       "   2|\n",
       "   3|\n",
       "   4|\n",
       "   5|\n",
       "   6|\n",
       "   2|\n",
       "   7|\n",
       "   2|\n",
       "   8|\n",
       "   9|\n",
       "   3|\n",
       "  10|\n",
       "  11|\n",
       "   7|\n",
       "  12|\n",
       "  13|\n",
       "   3|\n",
       "  14|\n",
       "+----+\n",
       "only showing top 20 rows\n",
       "\n",
       "</div>"
      ]
     },
     "metadata": {
      "application/vnd.databricks.v1+output": {
       "addedWidgets": {},
       "arguments": {},
       "data": "<div class=\"ansiout\">+----+\n|user|\n+----+\n|   0|\n|   1|\n|   2|\n|   3|\n|   4|\n|   5|\n|   6|\n|   2|\n|   7|\n|   2|\n|   8|\n|   9|\n|   3|\n|  10|\n|  11|\n|   7|\n|  12|\n|  13|\n|   3|\n|  14|\n+----+\nonly showing top 20 rows\n\n</div>",
       "datasetInfos": [],
       "removedWidgets": [],
       "type": "html"
      }
     },
     "output_type": "display_data"
    }
   ],
   "source": []
  },
  {
   "attachments": {},
   "cell_type": "markdown",
   "metadata": {},
   "source": [
    "2. Select the column 'user' using PySpark SQL"
   ]
  },
  {
   "cell_type": "code",
   "execution_count": null,
   "metadata": {
    "application/vnd.databricks.v1+cell": {
     "inputWidgets": {},
     "nuid": "092118f9-e6f5-4eba-bed0-95206ccaf424",
     "showTitle": false,
     "title": ""
    }
   },
   "outputs": [
    {
     "data": {
      "text/html": [
       "<style scoped>\n",
       "  .ansiout {\n",
       "    display: block;\n",
       "    unicode-bidi: embed;\n",
       "    white-space: pre-wrap;\n",
       "    word-wrap: break-word;\n",
       "    word-break: break-all;\n",
       "    font-family: \"Source Code Pro\", \"Menlo\", monospace;;\n",
       "    font-size: 13px;\n",
       "    color: #555;\n",
       "    margin-left: 4px;\n",
       "    line-height: 19px;\n",
       "  }\n",
       "</style>\n",
       "<div class=\"ansiout\">+----+\n",
       "user|\n",
       "+----+\n",
       "   0|\n",
       "   1|\n",
       "   2|\n",
       "   3|\n",
       "   4|\n",
       "   5|\n",
       "   6|\n",
       "   2|\n",
       "   7|\n",
       "   2|\n",
       "   8|\n",
       "   9|\n",
       "   3|\n",
       "  10|\n",
       "  11|\n",
       "   7|\n",
       "  12|\n",
       "  13|\n",
       "   3|\n",
       "  14|\n",
       "+----+\n",
       "only showing top 20 rows\n",
       "\n",
       "</div>"
      ]
     },
     "metadata": {
      "application/vnd.databricks.v1+output": {
       "addedWidgets": {},
       "arguments": {},
       "data": "<div class=\"ansiout\">+----+\n|user|\n+----+\n|   0|\n|   1|\n|   2|\n|   3|\n|   4|\n|   5|\n|   6|\n|   2|\n|   7|\n|   2|\n|   8|\n|   9|\n|   3|\n|  10|\n|  11|\n|   7|\n|  12|\n|  13|\n|   3|\n|  14|\n+----+\nonly showing top 20 rows\n\n</div>",
       "datasetInfos": [],
       "removedWidgets": [],
       "type": "html"
      }
     },
     "output_type": "display_data"
    }
   ],
   "source": []
  },
  {
   "attachments": {},
   "cell_type": "markdown",
   "metadata": {
    "application/vnd.databricks.v1+cell": {
     "inputWidgets": {},
     "nuid": "5fe7e298-d164-44e9-b615-49f9e3d42c2f",
     "showTitle": false,
     "title": ""
    }
   },
   "source": [
    "## Task 3: select all distinct user"
   ]
  },
  {
   "attachments": {},
   "cell_type": "markdown",
   "metadata": {},
   "source": [
    "1. Select distinct user using SQL"
   ]
  },
  {
   "cell_type": "code",
   "execution_count": null,
   "metadata": {
    "application/vnd.databricks.v1+cell": {
     "inputWidgets": {},
     "nuid": "6ee0592f-d77e-4447-bd87-dd402ab03df0",
     "showTitle": false,
     "title": ""
    }
   },
   "outputs": [
    {
     "data": {
      "text/html": [
       "<style scoped>\n",
       "  .ansiout {\n",
       "    display: block;\n",
       "    unicode-bidi: embed;\n",
       "    white-space: pre-wrap;\n",
       "    word-wrap: break-word;\n",
       "    word-break: break-all;\n",
       "    font-family: \"Source Code Pro\", \"Menlo\", monospace;;\n",
       "    font-size: 13px;\n",
       "    color: #555;\n",
       "    margin-left: 4px;\n",
       "    line-height: 19px;\n",
       "  }\n",
       "</style>\n",
       "<div class=\"ansiout\">+----+\n",
       "user|\n",
       "+----+\n",
       "  12|\n",
       "   1|\n",
       "  13|\n",
       "   6|\n",
       "  16|\n",
       "   3|\n",
       "  20|\n",
       "   5|\n",
       "  19|\n",
       "  15|\n",
       "   9|\n",
       "  17|\n",
       "   4|\n",
       "   8|\n",
       "   7|\n",
       "  10|\n",
       "  11|\n",
       "  14|\n",
       "   2|\n",
       "   0|\n",
       "+----+\n",
       "only showing top 20 rows\n",
       "\n",
       "</div>"
      ]
     },
     "metadata": {
      "application/vnd.databricks.v1+output": {
       "addedWidgets": {},
       "arguments": {},
       "data": "<div class=\"ansiout\">+----+\n|user|\n+----+\n|  12|\n|   1|\n|  13|\n|   6|\n|  16|\n|   3|\n|  20|\n|   5|\n|  19|\n|  15|\n|   9|\n|  17|\n|   4|\n|   8|\n|   7|\n|  10|\n|  11|\n|  14|\n|   2|\n|   0|\n+----+\nonly showing top 20 rows\n\n</div>",
       "datasetInfos": [],
       "removedWidgets": [],
       "type": "html"
      }
     },
     "output_type": "display_data"
    }
   ],
   "source": []
  },
  {
   "attachments": {},
   "cell_type": "markdown",
   "metadata": {},
   "source": [
    "2. Select distinct user using PySpark DataFrame API"
   ]
  },
  {
   "cell_type": "code",
   "execution_count": null,
   "metadata": {
    "application/vnd.databricks.v1+cell": {
     "inputWidgets": {},
     "nuid": "fcee02dd-b3c0-4d88-b3e1-6d63bac45ad4",
     "showTitle": false,
     "title": ""
    }
   },
   "outputs": [
    {
     "data": {
      "text/html": [
       "<style scoped>\n",
       "  .ansiout {\n",
       "    display: block;\n",
       "    unicode-bidi: embed;\n",
       "    white-space: pre-wrap;\n",
       "    word-wrap: break-word;\n",
       "    word-break: break-all;\n",
       "    font-family: \"Source Code Pro\", \"Menlo\", monospace;;\n",
       "    font-size: 13px;\n",
       "    color: #555;\n",
       "    margin-left: 4px;\n",
       "    line-height: 19px;\n",
       "  }\n",
       "</style>\n",
       "<div class=\"ansiout\">+----+\n",
       "user|\n",
       "+----+\n",
       "  12|\n",
       "   1|\n",
       "  13|\n",
       "   6|\n",
       "  16|\n",
       "   3|\n",
       "  20|\n",
       "   5|\n",
       "  19|\n",
       "  15|\n",
       "   9|\n",
       "  17|\n",
       "   4|\n",
       "   8|\n",
       "   7|\n",
       "  10|\n",
       "  11|\n",
       "  14|\n",
       "   2|\n",
       "   0|\n",
       "+----+\n",
       "only showing top 20 rows\n",
       "\n",
       "</div>"
      ]
     },
     "metadata": {
      "application/vnd.databricks.v1+output": {
       "addedWidgets": {},
       "arguments": {},
       "data": "<div class=\"ansiout\">+----+\n|user|\n+----+\n|  12|\n|   1|\n|  13|\n|   6|\n|  16|\n|   3|\n|  20|\n|   5|\n|  19|\n|  15|\n|   9|\n|  17|\n|   4|\n|   8|\n|   7|\n|  10|\n|  11|\n|  14|\n|   2|\n|   0|\n+----+\nonly showing top 20 rows\n\n</div>",
       "datasetInfos": [],
       "removedWidgets": [],
       "type": "html"
      }
     },
     "output_type": "display_data"
    }
   ],
   "source": []
  },
  {
   "attachments": {},
   "cell_type": "markdown",
   "metadata": {
    "application/vnd.databricks.v1+cell": {
     "inputWidgets": {},
     "nuid": "27a378f9-fb5b-43aa-9948-e83c1c7f1401",
     "showTitle": false,
     "title": ""
    }
   },
   "source": [
    "## Task 4: Select all distinct users and alias the column name to `distinct_user`"
   ]
  },
  {
   "attachments": {},
   "cell_type": "markdown",
   "metadata": {},
   "source": [
    "1. Select distinct user using SQL and alias the name of the new column to `distinct_user`"
   ]
  },
  {
   "cell_type": "code",
   "execution_count": null,
   "metadata": {
    "application/vnd.databricks.v1+cell": {
     "inputWidgets": {},
     "nuid": "1c38450d-5bf4-4d40-bc57-32a20b476619",
     "showTitle": false,
     "title": ""
    }
   },
   "outputs": [
    {
     "data": {
      "text/html": [
       "<style scoped>\n",
       "  .table-result-container {\n",
       "    max-height: 300px;\n",
       "    overflow: auto;\n",
       "  }\n",
       "  table, th, td {\n",
       "    border: 1px solid black;\n",
       "    border-collapse: collapse;\n",
       "  }\n",
       "  th, td {\n",
       "    padding: 5px;\n",
       "  }\n",
       "  th {\n",
       "    text-align: left;\n",
       "  }\n",
       "</style><div class='table-result-container'><table class='table-result'><thead style='background-color: white'><tr><th>distinct_user</th></tr></thead><tbody><tr><td>148</td></tr><tr><td>463</td></tr><tr><td>471</td></tr><tr><td>496</td></tr><tr><td>833</td></tr><tr><td>243</td></tr><tr><td>392</td></tr><tr><td>540</td></tr><tr><td>623</td></tr><tr><td>737</td></tr><tr><td>858</td></tr><tr><td>897</td></tr><tr><td>31</td></tr><tr><td>516</td></tr><tr><td>85</td></tr><tr><td>137</td></tr><tr><td>251</td></tr><tr><td>451</td></tr><tr><td>580</td></tr><tr><td>808</td></tr><tr><td>65</td></tr><tr><td>458</td></tr><tr><td>879</td></tr><tr><td>883</td></tr><tr><td>53</td></tr><tr><td>255</td></tr><tr><td>481</td></tr><tr><td>588</td></tr><tr><td>799</td></tr><tr><td>804</td></tr><tr><td>898</td></tr><tr><td>970</td></tr><tr><td>133</td></tr><tr><td>296</td></tr><tr><td>472</td></tr><tr><td>853</td></tr><tr><td>78</td></tr><tr><td>322</td></tr><tr><td>513</td></tr><tr><td>918</td></tr><tr><td>321</td></tr><tr><td>362</td></tr><tr><td>613</td></tr><tr><td>633</td></tr><tr><td>673</td></tr><tr><td>857</td></tr><tr><td>961</td></tr><tr><td>974</td></tr><tr><td>375</td></tr><tr><td>593</td></tr><tr><td>597</td></tr><tr><td>876</td></tr><tr><td>976</td></tr><tr><td>108</td></tr><tr><td>155</td></tr><tr><td>683</td></tr><tr><td>744</td></tr><tr><td>950</td></tr><tr><td>34</td></tr><tr><td>193</td></tr><tr><td>211</td></tr><tr><td>368</td></tr><tr><td>530</td></tr><tr><td>642</td></tr><tr><td>796</td></tr><tr><td>101</td></tr><tr><td>115</td></tr><tr><td>126</td></tr><tr><td>756</td></tr><tr><td>772</td></tr><tr><td>81</td></tr><tr><td>385</td></tr><tr><td>830</td></tr><tr><td>847</td></tr><tr><td>874</td></tr><tr><td>939</td></tr><tr><td>28</td></tr><tr><td>183</td></tr><tr><td>210</td></tr><tr><td>436</td></tr><tr><td>497</td></tr><tr><td>596</td></tr><tr><td>762</td></tr><tr><td>300</td></tr><tr><td>406</td></tr><tr><td>412</td></tr><tr><td>784</td></tr><tr><td>787</td></tr><tr><td>842</td></tr><tr><td>587</td></tr><tr><td>731</td></tr><tr><td>988</td></tr><tr><td>76</td></tr><tr><td>667</td></tr><tr><td>688</td></tr><tr><td>723</td></tr><tr><td>914</td></tr><tr><td>26</td></tr><tr><td>27</td></tr><tr><td>332</td></tr><tr><td>501</td></tr><tr><td>577</td></tr><tr><td>626</td></tr><tr><td>384</td></tr><tr><td>831</td></tr><tr><td>44</td></tr><tr><td>159</td></tr><tr><td>192</td></tr><tr><td>271</td></tr><tr><td>606</td></tr><tr><td>743</td></tr><tr><td>811</td></tr><tr><td>844</td></tr><tr><td>908</td></tr><tr><td>916</td></tr><tr><td>253</td></tr><tr><td>806</td></tr><tr><td>103</td></tr><tr><td>236</td></tr><tr><td>329</td></tr><tr><td>460</td></tr><tr><td>12</td></tr><tr><td>336</td></tr><tr><td>350</td></tr><tr><td>973</td></tr><tr><td>984</td></tr><tr><td>223</td></tr><tr><td>738</td></tr><tr><td>860</td></tr><tr><td>388</td></tr><tr><td>417</td></tr><tr><td>548</td></tr><tr><td>602</td></tr><tr><td>91</td></tr><tr><td>409</td></tr><tr><td>578</td></tr><tr><td>663</td></tr><tr><td>926</td></tr><tr><td>333</td></tr><tr><td>707</td></tr><tr><td>822</td></tr><tr><td>222</td></tr><tr><td>285</td></tr><tr><td>601</td></tr><tr><td>875</td></tr><tr><td>22</td></tr><tr><td>128</td></tr><tr><td>209</td></tr><tr><td>330</td></tr><tr><td>372</td></tr><tr><td>604</td></tr><tr><td>685</td></tr><tr><td>727</td></tr><tr><td>995</td></tr><tr><td>122</td></tr><tr><td>230</td></tr><tr><td>319</td></tr><tr><td>493</td></tr><tr><td>625</td></tr><tr><td>686</td></tr><tr><td>93</td></tr><tr><td>157</td></tr><tr><td>190</td></tr><tr><td>225</td></tr><tr><td>232</td></tr><tr><td>233</td></tr><tr><td>758</td></tr><tr><td>924</td></tr><tr><td>246</td></tr><tr><td>346</td></tr><tr><td>360</td></tr><tr><td>367</td></tr><tr><td>476</td></tr><tr><td>539</td></tr><tr><td>599</td></tr><tr><td>725</td></tr><tr><td>855</td></tr><tr><td>861</td></tr><tr><td>111</td></tr><tr><td>224</td></tr><tr><td>519</td></tr><tr><td>654</td></tr><tr><td>47</td></tr><tr><td>140</td></tr><tr><td>177</td></tr><tr><td>416</td></tr><tr><td>556</td></tr><tr><td>711</td></tr><tr><td>827</td></tr><tr><td>132</td></tr><tr><td>152</td></tr><tr><td>444</td></tr><tr><td>665</td></tr><tr><td>671</td></tr><tr><td>185</td></tr><tr><td>305</td></tr><tr><td>353</td></tr><tr><td>355</td></tr><tr><td>618</td></tr><tr><td>694</td></tr><tr><td>696</td></tr><tr><td>747</td></tr><tr><td>882</td></tr><tr><td>291</td></tr><tr><td>325</td></tr><tr><td>386</td></tr><tr><td>906</td></tr><tr><td>955</td></tr><tr><td>435</td></tr><tr><td>473</td></tr><tr><td>581</td></tr><tr><td>603</td></tr><tr><td>660</td></tr><tr><td>748</td></tr><tr><td>774</td></tr><tr><td>912</td></tr><tr><td>935</td></tr><tr><td>146</td></tr><tr><td>704</td></tr><tr><td>259</td></tr><tr><td>512</td></tr><tr><td>797</td></tr><tr><td>1</td></tr><tr><td>206</td></tr><tr><td>896</td></tr><tr><td>52</td></tr><tr><td>297</td></tr><tr><td>363</td></tr><tr><td>768</td></tr><tr><td>770</td></tr><tr><td>777</td></tr><tr><td>212</td></tr><tr><td>674</td></tr><tr><td>715</td></tr><tr><td>992</td></tr><tr><td>274</td></tr><tr><td>631</td></tr><tr><td>182</td></tr><tr><td>442</td></tr><tr><td>689</td></tr><tr><td>699</td></tr><tr><td>792</td></tr><tr><td>13</td></tr><tr><td>218</td></tr><tr><td>280</td></tr><tr><td>348</td></tr><tr><td>440</td></tr><tr><td>734</td></tr><tr><td>6</td></tr><tr><td>16</td></tr><tr><td>86</td></tr><tr><td>474</td></tr><tr><td>636</td></tr><tr><td>760</td></tr><tr><td>168</td></tr><tr><td>205</td></tr><tr><td>572</td></tr><tr><td>852</td></tr><tr><td>887</td></tr><tr><td>3</td></tr><tr><td>142</td></tr><tr><td>178</td></tr><tr><td>925</td></tr><tr><td>972</td></tr><tr><td>998</td></tr><tr><td>308</td></tr><tr><td>328</td></tr><tr><td>867</td></tr><tr><td>20</td></tr><tr><td>40</td></tr><tr><td>164</td></tr><tr><td>429</td></tr><tr><td>470</td></tr><tr><td>839</td></tr><tr><td>169</td></tr><tr><td>500</td></tr><tr><td>139</td></tr><tr><td>283</td></tr><tr><td>359</td></tr><tr><td>479</td></tr><tr><td>295</td></tr><tr><td>340</td></tr><tr><td>431</td></tr><tr><td>692</td></tr><tr><td>881</td></tr><tr><td>980</td></tr><tr><td>94</td></tr><tr><td>250</td></tr><tr><td>377</td></tr><tr><td>402</td></tr><tr><td>432</td></tr><tr><td>582</td></tr><tr><td>57</td></tr><tr><td>570</td></tr><tr><td>868</td></tr><tr><td>920</td></tr><tr><td>647</td></tr><tr><td>966</td></tr><tr><td>292</td></tr><tr><td>306</td></tr><tr><td>339</td></tr><tr><td>676</td></tr><tr><td>919</td></tr><tr><td>923</td></tr><tr><td>944</td></tr><tr><td>983</td></tr><tr><td>54</td></tr><tr><td>120</td></tr><tr><td>559</td></tr><tr><td>969</td></tr><tr><td>491</td></tr><tr><td>634</td></tr><tr><td>646</td></tr><tr><td>96</td></tr><tr><td>235</td></tr><tr><td>545</td></tr><tr><td>620</td></tr><tr><td>776</td></tr><tr><td>846</td></tr><tr><td>871</td></tr><tr><td>452</td></tr><tr><td>732</td></tr><tr><td>840</td></tr><tr><td>48</td></tr><tr><td>266</td></tr><tr><td>507</td></tr><tr><td>544</td></tr><tr><td>650</td></tr><tr><td>5</td></tr><tr><td>163</td></tr><tr><td>191</td></tr><tr><td>268</td></tr><tr><td>258</td></tr><tr><td>279</td></tr><tr><td>709</td></tr><tr><td>959</td></tr><tr><td>729</td></tr><tr><td>19</td></tr><tr><td>397</td></tr><tr><td>430</td></tr><tr><td>754</td></tr><tr><td>989</td></tr><tr><td>92</td></tr><tr><td>419</td></tr><tr><td>542</td></tr><tr><td>553</td></tr><tr><td>560</td></tr><tr><td>836</td></tr><tr><td>415</td></tr><tr><td>780</td></tr><tr><td>257</td></tr><tr><td>299</td></tr><tr><td>641</td></tr><tr><td>644</td></tr><tr><td>826</td></tr><tr><td>64</td></tr><tr><td>117</td></tr><tr><td>227</td></tr><tr><td>579</td></tr><tr><td>504</td></tr><tr><td>554</td></tr><tr><td>598</td></tr><tr><td>764</td></tr><tr><td>886</td></tr><tr><td>936</td></tr><tr><td>41</td></tr><tr><td>154</td></tr><tr><td>309</td></tr><tr><td>425</td></tr><tr><td>904</td></tr><tr><td>931</td></tr><tr><td>347</td></tr><tr><td>447</td></tr><tr><td>455</td></tr><tr><td>484</td></tr><tr><td>607</td></tr><tr><td>15</td></tr><tr><td>43</td></tr><tr><td>845</td></tr><tr><td>262</td></tr><tr><td>511</td></tr><tr><td>929</td></tr><tr><td>112</td></tr><tr><td>269</td></tr><tr><td>327</td></tr><tr><td>563</td></tr><tr><td>615</td></tr><tr><td>849</td></tr><tr><td>165</td></tr><tr><td>666</td></tr><tr><td>775</td></tr><tr><td>358</td></tr><tr><td>366</td></tr><tr><td>843</td></tr><tr><td>854</td></tr><tr><td>179</td></tr><tr><td>189</td></tr><tr><td>207</td></tr><tr><td>489</td></tr><tr><td>590</td></tr><tr><td>675</td></tr><tr><td>862</td></tr><tr><td>37</td></tr><tr><td>383</td></tr><tr><td>659</td></tr><tr><td>61</td></tr><tr><td>127</td></tr><tr><td>316</td></tr><tr><td>461</td></tr><tr><td>502</td></tr><tr><td>523</td></tr><tr><td>819</td></tr><tr><td>937</td></tr><tr><td>88</td></tr><tr><td>197</td></tr><tr><td>486</td></tr><tr><td>531</td></tr><tr><td>903</td></tr><tr><td>979</td></tr><tr><td>993</td></tr><tr><td>318</td></tr><tr><td>462</td></tr><tr><td>547</td></tr><tr><td>107</td></tr><tr><td>202</td></tr><tr><td>263</td></tr><tr><td>374</td></tr><tr><td>564</td></tr><tr><td>619</td></tr><tr><td>891</td></tr><tr><td>9</td></tr><tr><td>17</td></tr><tr><td>231</td></tr><tr><td>552</td></tr><tr><td>324</td></tr><tr><td>586</td></tr><tr><td>609</td></tr><tr><td>72</td></tr><tr><td>286</td></tr><tr><td>398</td></tr><tr><td>505</td></tr><tr><td>538</td></tr><tr><td>175</td></tr><tr><td>387</td></tr><tr><td>423</td></tr><tr><td>695</td></tr><tr><td>746</td></tr><tr><td>381</td></tr><tr><td>498</td></tr><tr><td>721</td></tr><tr><td>850</td></tr><tr><td>35</td></tr><tr><td>503</td></tr><tr><td>583</td></tr><tr><td>594</td></tr><tr><td>610</td></tr><tr><td>614</td></tr><tr><td>761</td></tr><tr><td>880</td></tr><tr><td>677</td></tr><tr><td>739</td></tr><tr><td>310</td></tr><tr><td>485</td></tr><tr><td>568</td></tr><tr><td>698</td></tr><tr><td>742</td></tr><tr><td>838</td></tr><tr><td>870</td></tr><tr><td>900</td></tr><tr><td>196</td></tr><tr><td>437</td></tr><tr><td>456</td></tr><tr><td>829</td></tr><tr><td>834</td></tr><tr><td>217</td></tr><tr><td>290</td></tr><tr><td>441</td></tr><tr><td>733</td></tr><tr><td>800</td></tr><tr><td>884</td></tr><tr><td>948</td></tr><tr><td>986</td></tr><tr><td>229</td></tr><tr><td>307</td></tr><tr><td>326</td></tr><tr><td>537</td></tr><tr><td>766</td></tr><tr><td>823</td></tr><tr><td>960</td></tr><tr><td>114</td></tr><tr><td>173</td></tr><tr><td>220</td></tr><tr><td>278</td></tr><tr><td>301</td></tr><tr><td>494</td></tr><tr><td>669</td></tr><tr><td>713</td></tr><tr><td>810</td></tr><tr><td>813</td></tr><tr><td>890</td></tr><tr><td>4</td></tr><tr><td>55</td></tr><tr><td>59</td></tr><tr><td>445</td></tr><tr><td>684</td></tr><tr><td>8</td></tr><tr><td>100</td></tr><tr><td>241</td></tr><tr><td>449</td></tr><tr><td>450</td></tr><tr><td>495</td></tr><tr><td>717</td></tr><tr><td>757</td></tr><tr><td>930</td></tr><tr><td>161</td></tr><tr><td>555</td></tr><tr><td>687</td></tr><tr><td>987</td></tr><tr><td>23</td></tr><tr><td>39</td></tr><tr><td>679</td></tr><tr><td>719</td></tr><tr><td>922</td></tr><tr><td>981</td></tr><tr><td>49</td></tr><tr><td>176</td></tr><tr><td>380</td></tr><tr><td>520</td></tr><tr><td>629</td></tr><tr><td>672</td></tr><tr><td>736</td></tr><tr><td>791</td></tr><tr><td>7</td></tr><tr><td>162</td></tr><tr><td>514</td></tr><tr><td>549</td></tr><tr><td>637</td></tr><tr><td>877</td></tr><tr><td>130</td></tr><tr><td>238</td></tr><tr><td>244</td></tr><tr><td>446</td></tr><tr><td>624</td></tr><tr><td>648</td></tr><tr><td>958</td></tr><tr><td>84</td></tr><tr><td>136</td></tr><tr><td>453</td></tr><tr><td>720</td></tr><tr><td>856</td></tr><tr><td>1000</td></tr><tr><td>247</td></tr><tr><td>314</td></tr><tr><td>627</td></tr><tr><td>664</td></tr><tr><td>691</td></tr><tr><td>728</td></tr><tr><td>824</td></tr><tr><td>87</td></tr><tr><td>565</td></tr><tr><td>649</td></tr><tr><td>171</td></tr><tr><td>273</td></tr><tr><td>343</td></tr><tr><td>434</td></tr><tr><td>439</td></tr><tr><td>443</td></tr><tr><td>585</td></tr><tr><td>956</td></tr><tr><td>51</td></tr><tr><td>194</td></tr><tr><td>277</td></tr><tr><td>331</td></tr><tr><td>428</td></tr><tr><td>465</td></tr><tr><td>794</td></tr><tr><td>957</td></tr><tr><td>994</td></tr><tr><td>391</td></tr><tr><td>438</td></tr><tr><td>532</td></tr><tr><td>706</td></tr><tr><td>821</td></tr><tr><td>69</td></tr><tr><td>129</td></tr><tr><td>166</td></tr><tr><td>448</td></tr><tr><td>467</td></tr><tr><td>928</td></tr><tr><td>97</td></tr><tr><td>400</td></tr><tr><td>543</td></tr><tr><td>524</td></tr><tr><td>533</td></tr><tr><td>661</td></tr><tr><td>693</td></tr><tr><td>234</td></tr><tr><td>239</td></tr><tr><td>264</td></tr><tr><td>312</td></tr><tr><td>389</td></tr><tr><td>869</td></tr><tr><td>63</td></tr><tr><td>635</td></tr><tr><td>885</td></tr><tr><td>395</td></tr><tr><td>403</td></tr><tr><td>779</td></tr><tr><td>982</td></tr><tr><td>459</td></tr><tr><td>509</td></tr><tr><td>907</td></tr><tr><td>10</td></tr><tr><td>77</td></tr><tr><td>102</td></tr><tr><td>361</td></tr><tr><td>589</td></tr><tr><td>814</td></tr><tr><td>848</td></tr><tr><td>658</td></tr><tr><td>50</td></tr><tr><td>518</td></tr><tr><td>750</td></tr><tr><td>771</td></tr><tr><td>951</td></tr><tr><td>267</td></tr><tr><td>293</td></tr><tr><td>404</td></tr><tr><td>527</td></tr><tr><td>817</td></tr><tr><td>45</td></tr><tr><td>569</td></tr><tr><td>769</td></tr><tr><td>793</td></tr><tr><td>938</td></tr><tr><td>977</td></tr><tr><td>216</td></tr><tr><td>759</td></tr><tr><td>812</td></tr><tr><td>952</td></tr><tr><td>38</td></tr><tr><td>261</td></tr><tr><td>320</td></tr><tr><td>418</td></tr><tr><td>946</td></tr><tr><td>82</td></tr><tr><td>181</td></tr><tr><td>249</td></tr><tr><td>364</td></tr><tr><td>510</td></tr><tr><td>167</td></tr><tr><td>288</td></tr><tr><td>394</td></tr><tr><td>576</td></tr><tr><td>703</td></tr><tr><td>945</td></tr><tr><td>80</td></tr><tr><td>240</td></tr><tr><td>289</td></tr><tr><td>356</td></tr><tr><td>889</td></tr><tr><td>25</td></tr><tr><td>73</td></tr><tr><td>245</td></tr><tr><td>427</td></tr><tr><td>591</td></tr><tr><td>763</td></tr><tr><td>816</td></tr><tr><td>113</td></tr><tr><td>237</td></tr><tr><td>895</td></tr><tr><td>645</td></tr><tr><td>795</td></tr><tr><td>24</td></tr><tr><td>160</td></tr><tr><td>818</td></tr><tr><td>893</td></tr><tr><td>70</td></tr><tr><td>408</td></tr><tr><td>921</td></tr><tr><td>62</td></tr><tr><td>121</td></tr><tr><td>125</td></tr><tr><td>396</td></tr><tr><td>730</td></tr><tr><td>156</td></tr><tr><td>351</td></tr><tr><td>480</td></tr><tr><td>143</td></tr><tr><td>219</td></tr><tr><td>697</td></tr><tr><td>967</td></tr><tr><td>95</td></tr><tr><td>411</td></tr><tr><td>477</td></tr><tr><td>482</td></tr><tr><td>740</td></tr><tr><td>968</td></tr><tr><td>29</td></tr><tr><td>226</td></tr><tr><td>390</td></tr><tr><td>651</td></tr><tr><td>741</td></tr><tr><td>789</td></tr><tr><td>464</td></tr><tr><td>526</td></tr><tr><td>528</td></tr><tr><td>558</td></tr><tr><td>21</td></tr><tr><td>214</td></tr><tr><td>653</td></tr><tr><td>710</td></tr><tr><td>323</td></tr><tr><td>550</td></tr><tr><td>335</td></tr><tr><td>338</td></tr><tr><td>352</td></tr><tr><td>492</td></tr><tr><td>798</td></tr><tr><td>866</td></tr><tr><td>941</td></tr><tr><td>98</td></tr><tr><td>195</td></tr><tr><td>256</td></tr><tr><td>678</td></tr><tr><td>714</td></tr><tr><td>911</td></tr><tr><td>933</td></tr><tr><td>287</td></tr><tr><td>345</td></tr><tr><td>490</td></tr><tr><td>595</td></tr><tr><td>752</td></tr><tr><td>767</td></tr><tr><td>790</td></tr><tr><td>828</td></tr><tr><td>809</td></tr><tr><td>863</td></tr><tr><td>990</td></tr><tr><td>32</td></tr><tr><td>60</td></tr><tr><td>90</td></tr><tr><td>371</td></tr><tr><td>622</td></tr><tr><td>75</td></tr><tr><td>382</td></tr><tr><td>469</td></tr><tr><td>621</td></tr><tr><td>630</td></tr><tr><td>786</td></tr><tr><td>203</td></tr><tr><td>221</td></tr><tr><td>265</td></tr><tr><td>457</td></tr><tr><td>640</td></tr><tr><td>662</td></tr><tr><td>782</td></tr><tr><td>835</td></tr><tr><td>141</td></tr><tr><td>151</td></tr><tr><td>341</td></tr><tr><td>414</td></tr><tr><td>433</td></tr><tr><td>608</td></tr><tr><td>712</td></tr><tr><td>724</td></tr><tr><td>859</td></tr><tr><td>899</td></tr><tr><td>334</td></tr><tr><td>592</td></tr><tr><td>751</td></tr><tr><td>801</td></tr><tr><td>943</td></tr><tr><td>953</td></tr><tr><td>978</td></tr><tr><td>145</td></tr><tr><td>200</td></tr><tr><td>272</td></tr><tr><td>376</td></tr><tr><td>488</td></tr><tr><td>515</td></tr><tr><td>680</td></tr><tr><td>735</td></tr><tr><td>56</td></tr><tr><td>109</td></tr><tr><td>254</td></tr><tr><td>378</td></tr><tr><td>487</td></tr><tr><td>639</td></tr><tr><td>940</td></tr><tr><td>213</td></tr><tr><td>228</td></tr><tr><td>478</td></tr><tr><td>534</td></tr><tr><td>655</td></tr><tr><td>997</td></tr><tr><td>303</td></tr><tr><td>426</td></tr><tr><td>574</td></tr><tr><td>718</td></tr><tr><td>749</td></tr><tr><td>170</td></tr><tr><td>354</td></tr><tr><td>702</td></tr><tr><td>708</td></tr><tr><td>807</td></tr><tr><td>304</td></tr><tr><td>536</td></tr><tr><td>611</td></tr><tr><td>612</td></tr><tr><td>668</td></tr><tr><td>783</td></tr><tr><td>105</td></tr><tr><td>298</td></tr><tr><td>370</td></tr><tr><td>753</td></tr><tr><td>865</td></tr><tr><td>913</td></tr><tr><td>58</td></tr><tr><td>188</td></tr><tr><td>726</td></tr><tr><td>837</td></tr><tr><td>11</td></tr><tr><td>33</td></tr><tr><td>204</td></tr><tr><td>421</td></tr><tr><td>575</td></tr><tr><td>781</td></tr><tr><td>872</td></tr><tr><td>888</td></tr><tr><td>83</td></tr><tr><td>110</td></tr><tr><td>150</td></tr><tr><td>369</td></tr><tr><td>413</td></tr><tr><td>508</td></tr><tr><td>541</td></tr><tr><td>825</td></tr><tr><td>68</td></tr><tr><td>71</td></tr><tr><td>106</td></tr><tr><td>260</td></tr><tr><td>567</td></tr><tr><td>525</td></tr><tr><td>561</td></tr><tr><td>116</td></tr><tr><td>147</td></tr><tr><td>910</td></tr><tr><td>14</td></tr><tr><td>198</td></tr><tr><td>317</td></tr><tr><td>546</td></tr><tr><td>600</td></tr><tr><td>638</td></tr><tr><td>805</td></tr><tr><td>344</td></tr><tr><td>349</td></tr><tr><td>424</td></tr><tr><td>657</td></tr><tr><td>975</td></tr><tr><td>123</td></tr><tr><td>342</td></tr><tr><td>373</td></tr><tr><td>379</td></tr><tr><td>454</td></tr><tr><td>832</td></tr><tr><td>965</td></tr><tr><td>971</td></tr><tr><td>158</td></tr><tr><td>199</td></tr><tr><td>242</td></tr><tr><td>270</td></tr><tr><td>284</td></tr><tr><td>690</td></tr><tr><td>135</td></tr><tr><td>248</td></tr><tr><td>499</td></tr><tr><td>522</td></tr><tr><td>902</td></tr><tr><td>42</td></tr><tr><td>119</td></tr><tr><td>337</td></tr><tr><td>466</td></tr><tr><td>506</td></tr><tr><td>566</td></tr><tr><td>909</td></tr><tr><td>2</td></tr><tr><td>79</td></tr><tr><td>201</td></tr><tr><td>765</td></tr><tr><td>778</td></tr><tr><td>803</td></tr><tr><td>892</td></tr><tr><td>131</td></tr><tr><td>149</td></tr><tr><td>276</td></tr><tr><td>962</td></tr><tr><td>365</td></tr><tr><td>773</td></tr><tr><td>820</td></tr><tr><td>999</td></tr><tr><td>294</td></tr><tr><td>357</td></tr><tr><td>529</td></tr><tr><td>905</td></tr><tr><td>118</td></tr><tr><td>573</td></tr><tr><td>722</td></tr><tr><td>124</td></tr><tr><td>281</td></tr><tr><td>571</td></tr><tr><td>30</td></tr><tr><td>99</td></tr><tr><td>942</td></tr><tr><td>985</td></tr><tr><td>184</td></tr><tr><td>302</td></tr><tr><td>313</td></tr><tr><td>652</td></tr><tr><td>815</td></tr><tr><td>901</td></tr><tr><td>66</td></tr><tr><td>405</td></tr><tr><td>557</td></tr><tr><td>682</td></tr><tr><td>700</td></tr><tr><td>915</td></tr><tr><td>46</td></tr><tr><td>67</td></tr><tr><td>186</td></tr><tr><td>275</td></tr><tr><td>282</td></tr><tr><td>605</td></tr><tr><td>802</td></tr><tr><td>311</td></tr><tr><td>535</td></tr><tr><td>873</td></tr><tr><td>894</td></tr><tr><td>616</td></tr><tr><td>628</td></tr><tr><td>632</td></tr><tr><td>681</td></tr><tr><td>964</td></tr><tr><td>174</td></tr><tr><td>215</td></tr><tr><td>410</td></tr><tr><td>996</td></tr><tr><td>172</td></tr><tr><td>562</td></tr><tr><td>716</td></tr><tr><td>864</td></tr><tr><td>252</td></tr><tr><td>399</td></tr><tr><td>551</td></tr><tr><td>144</td></tr><tr><td>153</td></tr><tr><td>420</td></tr><tr><td>705</td></tr><tr><td>785</td></tr><tr><td>851</td></tr><tr><td>0</td></tr><tr><td>670</td></tr><tr><td>745</td></tr><tr><td>927</td></tr><tr><td>949</td></tr><tr><td>18</td></tr><tr><td>475</td></tr><tr><td>947</td></tr><tr><td>74</td></tr><tr><td>138</td></tr><tr><td>755</td></tr><tr><td>934</td></tr><tr><td>104</td></tr><tr><td>180</td></tr><tr><td>468</td></tr><tr><td>483</td></tr><tr><td>643</td></tr><tr><td>656</td></tr><tr><td>917</td></tr><tr><td>932</td></tr><tr><td>134</td></tr><tr><td>584</td></tr><tr><td>841</td></tr><tr><td>878</td></tr><tr><td>991</td></tr><tr><td>407</td></tr><tr><td>521</td></tr><tr><td>788</td></tr><tr><td>617</td></tr><tr><td>701</td></tr><tr><td>963</td></tr><tr><td>36</td></tr><tr><td>187</td></tr><tr><td>208</td></tr><tr><td>315</td></tr><tr><td>393</td></tr><tr><td>954</td></tr><tr><td>89</td></tr><tr><td>401</td></tr><tr><td>422</td></tr></tbody></table>Showing the first 1000 rows.</div>"
      ]
     },
     "metadata": {
      "application/vnd.databricks.v1+output": {
       "addedWidgets": {},
       "aggData": [],
       "aggError": "",
       "aggOverflow": false,
       "aggSchema": [],
       "aggSeriesLimitReached": false,
       "aggType": "",
       "arguments": {},
       "columnCustomDisplayInfos": {},
       "data": [
        [
         148
        ],
        [
         463
        ],
        [
         471
        ],
        [
         496
        ],
        [
         833
        ],
        [
         243
        ],
        [
         392
        ],
        [
         540
        ],
        [
         623
        ],
        [
         737
        ],
        [
         858
        ],
        [
         897
        ],
        [
         31
        ],
        [
         516
        ],
        [
         85
        ],
        [
         137
        ],
        [
         251
        ],
        [
         451
        ],
        [
         580
        ],
        [
         808
        ],
        [
         65
        ],
        [
         458
        ],
        [
         879
        ],
        [
         883
        ],
        [
         53
        ],
        [
         255
        ],
        [
         481
        ],
        [
         588
        ],
        [
         799
        ],
        [
         804
        ],
        [
         898
        ],
        [
         970
        ],
        [
         133
        ],
        [
         296
        ],
        [
         472
        ],
        [
         853
        ],
        [
         78
        ],
        [
         322
        ],
        [
         513
        ],
        [
         918
        ],
        [
         321
        ],
        [
         362
        ],
        [
         613
        ],
        [
         633
        ],
        [
         673
        ],
        [
         857
        ],
        [
         961
        ],
        [
         974
        ],
        [
         375
        ],
        [
         593
        ],
        [
         597
        ],
        [
         876
        ],
        [
         976
        ],
        [
         108
        ],
        [
         155
        ],
        [
         683
        ],
        [
         744
        ],
        [
         950
        ],
        [
         34
        ],
        [
         193
        ],
        [
         211
        ],
        [
         368
        ],
        [
         530
        ],
        [
         642
        ],
        [
         796
        ],
        [
         101
        ],
        [
         115
        ],
        [
         126
        ],
        [
         756
        ],
        [
         772
        ],
        [
         81
        ],
        [
         385
        ],
        [
         830
        ],
        [
         847
        ],
        [
         874
        ],
        [
         939
        ],
        [
         28
        ],
        [
         183
        ],
        [
         210
        ],
        [
         436
        ],
        [
         497
        ],
        [
         596
        ],
        [
         762
        ],
        [
         300
        ],
        [
         406
        ],
        [
         412
        ],
        [
         784
        ],
        [
         787
        ],
        [
         842
        ],
        [
         587
        ],
        [
         731
        ],
        [
         988
        ],
        [
         76
        ],
        [
         667
        ],
        [
         688
        ],
        [
         723
        ],
        [
         914
        ],
        [
         26
        ],
        [
         27
        ],
        [
         332
        ],
        [
         501
        ],
        [
         577
        ],
        [
         626
        ],
        [
         384
        ],
        [
         831
        ],
        [
         44
        ],
        [
         159
        ],
        [
         192
        ],
        [
         271
        ],
        [
         606
        ],
        [
         743
        ],
        [
         811
        ],
        [
         844
        ],
        [
         908
        ],
        [
         916
        ],
        [
         253
        ],
        [
         806
        ],
        [
         103
        ],
        [
         236
        ],
        [
         329
        ],
        [
         460
        ],
        [
         12
        ],
        [
         336
        ],
        [
         350
        ],
        [
         973
        ],
        [
         984
        ],
        [
         223
        ],
        [
         738
        ],
        [
         860
        ],
        [
         388
        ],
        [
         417
        ],
        [
         548
        ],
        [
         602
        ],
        [
         91
        ],
        [
         409
        ],
        [
         578
        ],
        [
         663
        ],
        [
         926
        ],
        [
         333
        ],
        [
         707
        ],
        [
         822
        ],
        [
         222
        ],
        [
         285
        ],
        [
         601
        ],
        [
         875
        ],
        [
         22
        ],
        [
         128
        ],
        [
         209
        ],
        [
         330
        ],
        [
         372
        ],
        [
         604
        ],
        [
         685
        ],
        [
         727
        ],
        [
         995
        ],
        [
         122
        ],
        [
         230
        ],
        [
         319
        ],
        [
         493
        ],
        [
         625
        ],
        [
         686
        ],
        [
         93
        ],
        [
         157
        ],
        [
         190
        ],
        [
         225
        ],
        [
         232
        ],
        [
         233
        ],
        [
         758
        ],
        [
         924
        ],
        [
         246
        ],
        [
         346
        ],
        [
         360
        ],
        [
         367
        ],
        [
         476
        ],
        [
         539
        ],
        [
         599
        ],
        [
         725
        ],
        [
         855
        ],
        [
         861
        ],
        [
         111
        ],
        [
         224
        ],
        [
         519
        ],
        [
         654
        ],
        [
         47
        ],
        [
         140
        ],
        [
         177
        ],
        [
         416
        ],
        [
         556
        ],
        [
         711
        ],
        [
         827
        ],
        [
         132
        ],
        [
         152
        ],
        [
         444
        ],
        [
         665
        ],
        [
         671
        ],
        [
         185
        ],
        [
         305
        ],
        [
         353
        ],
        [
         355
        ],
        [
         618
        ],
        [
         694
        ],
        [
         696
        ],
        [
         747
        ],
        [
         882
        ],
        [
         291
        ],
        [
         325
        ],
        [
         386
        ],
        [
         906
        ],
        [
         955
        ],
        [
         435
        ],
        [
         473
        ],
        [
         581
        ],
        [
         603
        ],
        [
         660
        ],
        [
         748
        ],
        [
         774
        ],
        [
         912
        ],
        [
         935
        ],
        [
         146
        ],
        [
         704
        ],
        [
         259
        ],
        [
         512
        ],
        [
         797
        ],
        [
         1
        ],
        [
         206
        ],
        [
         896
        ],
        [
         52
        ],
        [
         297
        ],
        [
         363
        ],
        [
         768
        ],
        [
         770
        ],
        [
         777
        ],
        [
         212
        ],
        [
         674
        ],
        [
         715
        ],
        [
         992
        ],
        [
         274
        ],
        [
         631
        ],
        [
         182
        ],
        [
         442
        ],
        [
         689
        ],
        [
         699
        ],
        [
         792
        ],
        [
         13
        ],
        [
         218
        ],
        [
         280
        ],
        [
         348
        ],
        [
         440
        ],
        [
         734
        ],
        [
         6
        ],
        [
         16
        ],
        [
         86
        ],
        [
         474
        ],
        [
         636
        ],
        [
         760
        ],
        [
         168
        ],
        [
         205
        ],
        [
         572
        ],
        [
         852
        ],
        [
         887
        ],
        [
         3
        ],
        [
         142
        ],
        [
         178
        ],
        [
         925
        ],
        [
         972
        ],
        [
         998
        ],
        [
         308
        ],
        [
         328
        ],
        [
         867
        ],
        [
         20
        ],
        [
         40
        ],
        [
         164
        ],
        [
         429
        ],
        [
         470
        ],
        [
         839
        ],
        [
         169
        ],
        [
         500
        ],
        [
         139
        ],
        [
         283
        ],
        [
         359
        ],
        [
         479
        ],
        [
         295
        ],
        [
         340
        ],
        [
         431
        ],
        [
         692
        ],
        [
         881
        ],
        [
         980
        ],
        [
         94
        ],
        [
         250
        ],
        [
         377
        ],
        [
         402
        ],
        [
         432
        ],
        [
         582
        ],
        [
         57
        ],
        [
         570
        ],
        [
         868
        ],
        [
         920
        ],
        [
         647
        ],
        [
         966
        ],
        [
         292
        ],
        [
         306
        ],
        [
         339
        ],
        [
         676
        ],
        [
         919
        ],
        [
         923
        ],
        [
         944
        ],
        [
         983
        ],
        [
         54
        ],
        [
         120
        ],
        [
         559
        ],
        [
         969
        ],
        [
         491
        ],
        [
         634
        ],
        [
         646
        ],
        [
         96
        ],
        [
         235
        ],
        [
         545
        ],
        [
         620
        ],
        [
         776
        ],
        [
         846
        ],
        [
         871
        ],
        [
         452
        ],
        [
         732
        ],
        [
         840
        ],
        [
         48
        ],
        [
         266
        ],
        [
         507
        ],
        [
         544
        ],
        [
         650
        ],
        [
         5
        ],
        [
         163
        ],
        [
         191
        ],
        [
         268
        ],
        [
         258
        ],
        [
         279
        ],
        [
         709
        ],
        [
         959
        ],
        [
         729
        ],
        [
         19
        ],
        [
         397
        ],
        [
         430
        ],
        [
         754
        ],
        [
         989
        ],
        [
         92
        ],
        [
         419
        ],
        [
         542
        ],
        [
         553
        ],
        [
         560
        ],
        [
         836
        ],
        [
         415
        ],
        [
         780
        ],
        [
         257
        ],
        [
         299
        ],
        [
         641
        ],
        [
         644
        ],
        [
         826
        ],
        [
         64
        ],
        [
         117
        ],
        [
         227
        ],
        [
         579
        ],
        [
         504
        ],
        [
         554
        ],
        [
         598
        ],
        [
         764
        ],
        [
         886
        ],
        [
         936
        ],
        [
         41
        ],
        [
         154
        ],
        [
         309
        ],
        [
         425
        ],
        [
         904
        ],
        [
         931
        ],
        [
         347
        ],
        [
         447
        ],
        [
         455
        ],
        [
         484
        ],
        [
         607
        ],
        [
         15
        ],
        [
         43
        ],
        [
         845
        ],
        [
         262
        ],
        [
         511
        ],
        [
         929
        ],
        [
         112
        ],
        [
         269
        ],
        [
         327
        ],
        [
         563
        ],
        [
         615
        ],
        [
         849
        ],
        [
         165
        ],
        [
         666
        ],
        [
         775
        ],
        [
         358
        ],
        [
         366
        ],
        [
         843
        ],
        [
         854
        ],
        [
         179
        ],
        [
         189
        ],
        [
         207
        ],
        [
         489
        ],
        [
         590
        ],
        [
         675
        ],
        [
         862
        ],
        [
         37
        ],
        [
         383
        ],
        [
         659
        ],
        [
         61
        ],
        [
         127
        ],
        [
         316
        ],
        [
         461
        ],
        [
         502
        ],
        [
         523
        ],
        [
         819
        ],
        [
         937
        ],
        [
         88
        ],
        [
         197
        ],
        [
         486
        ],
        [
         531
        ],
        [
         903
        ],
        [
         979
        ],
        [
         993
        ],
        [
         318
        ],
        [
         462
        ],
        [
         547
        ],
        [
         107
        ],
        [
         202
        ],
        [
         263
        ],
        [
         374
        ],
        [
         564
        ],
        [
         619
        ],
        [
         891
        ],
        [
         9
        ],
        [
         17
        ],
        [
         231
        ],
        [
         552
        ],
        [
         324
        ],
        [
         586
        ],
        [
         609
        ],
        [
         72
        ],
        [
         286
        ],
        [
         398
        ],
        [
         505
        ],
        [
         538
        ],
        [
         175
        ],
        [
         387
        ],
        [
         423
        ],
        [
         695
        ],
        [
         746
        ],
        [
         381
        ],
        [
         498
        ],
        [
         721
        ],
        [
         850
        ],
        [
         35
        ],
        [
         503
        ],
        [
         583
        ],
        [
         594
        ],
        [
         610
        ],
        [
         614
        ],
        [
         761
        ],
        [
         880
        ],
        [
         677
        ],
        [
         739
        ],
        [
         310
        ],
        [
         485
        ],
        [
         568
        ],
        [
         698
        ],
        [
         742
        ],
        [
         838
        ],
        [
         870
        ],
        [
         900
        ],
        [
         196
        ],
        [
         437
        ],
        [
         456
        ],
        [
         829
        ],
        [
         834
        ],
        [
         217
        ],
        [
         290
        ],
        [
         441
        ],
        [
         733
        ],
        [
         800
        ],
        [
         884
        ],
        [
         948
        ],
        [
         986
        ],
        [
         229
        ],
        [
         307
        ],
        [
         326
        ],
        [
         537
        ],
        [
         766
        ],
        [
         823
        ],
        [
         960
        ],
        [
         114
        ],
        [
         173
        ],
        [
         220
        ],
        [
         278
        ],
        [
         301
        ],
        [
         494
        ],
        [
         669
        ],
        [
         713
        ],
        [
         810
        ],
        [
         813
        ],
        [
         890
        ],
        [
         4
        ],
        [
         55
        ],
        [
         59
        ],
        [
         445
        ],
        [
         684
        ],
        [
         8
        ],
        [
         100
        ],
        [
         241
        ],
        [
         449
        ],
        [
         450
        ],
        [
         495
        ],
        [
         717
        ],
        [
         757
        ],
        [
         930
        ],
        [
         161
        ],
        [
         555
        ],
        [
         687
        ],
        [
         987
        ],
        [
         23
        ],
        [
         39
        ],
        [
         679
        ],
        [
         719
        ],
        [
         922
        ],
        [
         981
        ],
        [
         49
        ],
        [
         176
        ],
        [
         380
        ],
        [
         520
        ],
        [
         629
        ],
        [
         672
        ],
        [
         736
        ],
        [
         791
        ],
        [
         7
        ],
        [
         162
        ],
        [
         514
        ],
        [
         549
        ],
        [
         637
        ],
        [
         877
        ],
        [
         130
        ],
        [
         238
        ],
        [
         244
        ],
        [
         446
        ],
        [
         624
        ],
        [
         648
        ],
        [
         958
        ],
        [
         84
        ],
        [
         136
        ],
        [
         453
        ],
        [
         720
        ],
        [
         856
        ],
        [
         1000
        ],
        [
         247
        ],
        [
         314
        ],
        [
         627
        ],
        [
         664
        ],
        [
         691
        ],
        [
         728
        ],
        [
         824
        ],
        [
         87
        ],
        [
         565
        ],
        [
         649
        ],
        [
         171
        ],
        [
         273
        ],
        [
         343
        ],
        [
         434
        ],
        [
         439
        ],
        [
         443
        ],
        [
         585
        ],
        [
         956
        ],
        [
         51
        ],
        [
         194
        ],
        [
         277
        ],
        [
         331
        ],
        [
         428
        ],
        [
         465
        ],
        [
         794
        ],
        [
         957
        ],
        [
         994
        ],
        [
         391
        ],
        [
         438
        ],
        [
         532
        ],
        [
         706
        ],
        [
         821
        ],
        [
         69
        ],
        [
         129
        ],
        [
         166
        ],
        [
         448
        ],
        [
         467
        ],
        [
         928
        ],
        [
         97
        ],
        [
         400
        ],
        [
         543
        ],
        [
         524
        ],
        [
         533
        ],
        [
         661
        ],
        [
         693
        ],
        [
         234
        ],
        [
         239
        ],
        [
         264
        ],
        [
         312
        ],
        [
         389
        ],
        [
         869
        ],
        [
         63
        ],
        [
         635
        ],
        [
         885
        ],
        [
         395
        ],
        [
         403
        ],
        [
         779
        ],
        [
         982
        ],
        [
         459
        ],
        [
         509
        ],
        [
         907
        ],
        [
         10
        ],
        [
         77
        ],
        [
         102
        ],
        [
         361
        ],
        [
         589
        ],
        [
         814
        ],
        [
         848
        ],
        [
         658
        ],
        [
         50
        ],
        [
         518
        ],
        [
         750
        ],
        [
         771
        ],
        [
         951
        ],
        [
         267
        ],
        [
         293
        ],
        [
         404
        ],
        [
         527
        ],
        [
         817
        ],
        [
         45
        ],
        [
         569
        ],
        [
         769
        ],
        [
         793
        ],
        [
         938
        ],
        [
         977
        ],
        [
         216
        ],
        [
         759
        ],
        [
         812
        ],
        [
         952
        ],
        [
         38
        ],
        [
         261
        ],
        [
         320
        ],
        [
         418
        ],
        [
         946
        ],
        [
         82
        ],
        [
         181
        ],
        [
         249
        ],
        [
         364
        ],
        [
         510
        ],
        [
         167
        ],
        [
         288
        ],
        [
         394
        ],
        [
         576
        ],
        [
         703
        ],
        [
         945
        ],
        [
         80
        ],
        [
         240
        ],
        [
         289
        ],
        [
         356
        ],
        [
         889
        ],
        [
         25
        ],
        [
         73
        ],
        [
         245
        ],
        [
         427
        ],
        [
         591
        ],
        [
         763
        ],
        [
         816
        ],
        [
         113
        ],
        [
         237
        ],
        [
         895
        ],
        [
         645
        ],
        [
         795
        ],
        [
         24
        ],
        [
         160
        ],
        [
         818
        ],
        [
         893
        ],
        [
         70
        ],
        [
         408
        ],
        [
         921
        ],
        [
         62
        ],
        [
         121
        ],
        [
         125
        ],
        [
         396
        ],
        [
         730
        ],
        [
         156
        ],
        [
         351
        ],
        [
         480
        ],
        [
         143
        ],
        [
         219
        ],
        [
         697
        ],
        [
         967
        ],
        [
         95
        ],
        [
         411
        ],
        [
         477
        ],
        [
         482
        ],
        [
         740
        ],
        [
         968
        ],
        [
         29
        ],
        [
         226
        ],
        [
         390
        ],
        [
         651
        ],
        [
         741
        ],
        [
         789
        ],
        [
         464
        ],
        [
         526
        ],
        [
         528
        ],
        [
         558
        ],
        [
         21
        ],
        [
         214
        ],
        [
         653
        ],
        [
         710
        ],
        [
         323
        ],
        [
         550
        ],
        [
         335
        ],
        [
         338
        ],
        [
         352
        ],
        [
         492
        ],
        [
         798
        ],
        [
         866
        ],
        [
         941
        ],
        [
         98
        ],
        [
         195
        ],
        [
         256
        ],
        [
         678
        ],
        [
         714
        ],
        [
         911
        ],
        [
         933
        ],
        [
         287
        ],
        [
         345
        ],
        [
         490
        ],
        [
         595
        ],
        [
         752
        ],
        [
         767
        ],
        [
         790
        ],
        [
         828
        ],
        [
         809
        ],
        [
         863
        ],
        [
         990
        ],
        [
         32
        ],
        [
         60
        ],
        [
         90
        ],
        [
         371
        ],
        [
         622
        ],
        [
         75
        ],
        [
         382
        ],
        [
         469
        ],
        [
         621
        ],
        [
         630
        ],
        [
         786
        ],
        [
         203
        ],
        [
         221
        ],
        [
         265
        ],
        [
         457
        ],
        [
         640
        ],
        [
         662
        ],
        [
         782
        ],
        [
         835
        ],
        [
         141
        ],
        [
         151
        ],
        [
         341
        ],
        [
         414
        ],
        [
         433
        ],
        [
         608
        ],
        [
         712
        ],
        [
         724
        ],
        [
         859
        ],
        [
         899
        ],
        [
         334
        ],
        [
         592
        ],
        [
         751
        ],
        [
         801
        ],
        [
         943
        ],
        [
         953
        ],
        [
         978
        ],
        [
         145
        ],
        [
         200
        ],
        [
         272
        ],
        [
         376
        ],
        [
         488
        ],
        [
         515
        ],
        [
         680
        ],
        [
         735
        ],
        [
         56
        ],
        [
         109
        ],
        [
         254
        ],
        [
         378
        ],
        [
         487
        ],
        [
         639
        ],
        [
         940
        ],
        [
         213
        ],
        [
         228
        ],
        [
         478
        ],
        [
         534
        ],
        [
         655
        ],
        [
         997
        ],
        [
         303
        ],
        [
         426
        ],
        [
         574
        ],
        [
         718
        ],
        [
         749
        ],
        [
         170
        ],
        [
         354
        ],
        [
         702
        ],
        [
         708
        ],
        [
         807
        ],
        [
         304
        ],
        [
         536
        ],
        [
         611
        ],
        [
         612
        ],
        [
         668
        ],
        [
         783
        ],
        [
         105
        ],
        [
         298
        ],
        [
         370
        ],
        [
         753
        ],
        [
         865
        ],
        [
         913
        ],
        [
         58
        ],
        [
         188
        ],
        [
         726
        ],
        [
         837
        ],
        [
         11
        ],
        [
         33
        ],
        [
         204
        ],
        [
         421
        ],
        [
         575
        ],
        [
         781
        ],
        [
         872
        ],
        [
         888
        ],
        [
         83
        ],
        [
         110
        ],
        [
         150
        ],
        [
         369
        ],
        [
         413
        ],
        [
         508
        ],
        [
         541
        ],
        [
         825
        ],
        [
         68
        ],
        [
         71
        ],
        [
         106
        ],
        [
         260
        ],
        [
         567
        ],
        [
         525
        ],
        [
         561
        ],
        [
         116
        ],
        [
         147
        ],
        [
         910
        ],
        [
         14
        ],
        [
         198
        ],
        [
         317
        ],
        [
         546
        ],
        [
         600
        ],
        [
         638
        ],
        [
         805
        ],
        [
         344
        ],
        [
         349
        ],
        [
         424
        ],
        [
         657
        ],
        [
         975
        ],
        [
         123
        ],
        [
         342
        ],
        [
         373
        ],
        [
         379
        ],
        [
         454
        ],
        [
         832
        ],
        [
         965
        ],
        [
         971
        ],
        [
         158
        ],
        [
         199
        ],
        [
         242
        ],
        [
         270
        ],
        [
         284
        ],
        [
         690
        ],
        [
         135
        ],
        [
         248
        ],
        [
         499
        ],
        [
         522
        ],
        [
         902
        ],
        [
         42
        ],
        [
         119
        ],
        [
         337
        ],
        [
         466
        ],
        [
         506
        ],
        [
         566
        ],
        [
         909
        ],
        [
         2
        ],
        [
         79
        ],
        [
         201
        ],
        [
         765
        ],
        [
         778
        ],
        [
         803
        ],
        [
         892
        ],
        [
         131
        ],
        [
         149
        ],
        [
         276
        ],
        [
         962
        ],
        [
         365
        ],
        [
         773
        ],
        [
         820
        ],
        [
         999
        ],
        [
         294
        ],
        [
         357
        ],
        [
         529
        ],
        [
         905
        ],
        [
         118
        ],
        [
         573
        ],
        [
         722
        ],
        [
         124
        ],
        [
         281
        ],
        [
         571
        ],
        [
         30
        ],
        [
         99
        ],
        [
         942
        ],
        [
         985
        ],
        [
         184
        ],
        [
         302
        ],
        [
         313
        ],
        [
         652
        ],
        [
         815
        ],
        [
         901
        ],
        [
         66
        ],
        [
         405
        ],
        [
         557
        ],
        [
         682
        ],
        [
         700
        ],
        [
         915
        ],
        [
         46
        ],
        [
         67
        ],
        [
         186
        ],
        [
         275
        ],
        [
         282
        ],
        [
         605
        ],
        [
         802
        ],
        [
         311
        ],
        [
         535
        ],
        [
         873
        ],
        [
         894
        ],
        [
         616
        ],
        [
         628
        ],
        [
         632
        ],
        [
         681
        ],
        [
         964
        ],
        [
         174
        ],
        [
         215
        ],
        [
         410
        ],
        [
         996
        ],
        [
         172
        ],
        [
         562
        ],
        [
         716
        ],
        [
         864
        ],
        [
         252
        ],
        [
         399
        ],
        [
         551
        ],
        [
         144
        ],
        [
         153
        ],
        [
         420
        ],
        [
         705
        ],
        [
         785
        ],
        [
         851
        ],
        [
         0
        ],
        [
         670
        ],
        [
         745
        ],
        [
         927
        ],
        [
         949
        ],
        [
         18
        ],
        [
         475
        ],
        [
         947
        ],
        [
         74
        ],
        [
         138
        ],
        [
         755
        ],
        [
         934
        ],
        [
         104
        ],
        [
         180
        ],
        [
         468
        ],
        [
         483
        ],
        [
         643
        ],
        [
         656
        ],
        [
         917
        ],
        [
         932
        ],
        [
         134
        ],
        [
         584
        ],
        [
         841
        ],
        [
         878
        ],
        [
         991
        ],
        [
         407
        ],
        [
         521
        ],
        [
         788
        ],
        [
         617
        ],
        [
         701
        ],
        [
         963
        ],
        [
         36
        ],
        [
         187
        ],
        [
         208
        ],
        [
         315
        ],
        [
         393
        ],
        [
         954
        ],
        [
         89
        ],
        [
         401
        ],
        [
         422
        ]
       ],
       "datasetInfos": [],
       "dbfsResultPath": null,
       "isJsonSchema": true,
       "overflow": true,
       "plotOptions": {
        "customPlotOptions": {},
        "displayType": "table",
        "pivotAggregation": null,
        "pivotColumns": [],
        "xColumns": [],
        "yColumns": []
       },
       "removedWidgets": [],
       "schema": [
        {
         "metadata": "{}",
         "name": "distinct_user",
         "type": "\"integer\""
        }
       ],
       "type": "table"
      }
     },
     "output_type": "display_data"
    }
   ],
   "source": []
  },
  {
   "attachments": {},
   "cell_type": "markdown",
   "metadata": {},
   "source": [
    "2. Select distinct user using SQL and alias the name of the new column to `distinct_user`"
   ]
  },
  {
   "cell_type": "code",
   "execution_count": null,
   "metadata": {
    "application/vnd.databricks.v1+cell": {
     "inputWidgets": {},
     "nuid": "56a15771-2945-4e49-b9ed-235ac3023af5",
     "showTitle": false,
     "title": ""
    }
   },
   "outputs": [
    {
     "data": {
      "text/html": [
       "<style scoped>\n",
       "  .ansiout {\n",
       "    display: block;\n",
       "    unicode-bidi: embed;\n",
       "    white-space: pre-wrap;\n",
       "    word-wrap: break-word;\n",
       "    word-break: break-all;\n",
       "    font-family: \"Source Code Pro\", \"Menlo\", monospace;;\n",
       "    font-size: 13px;\n",
       "    color: #555;\n",
       "    margin-left: 4px;\n",
       "    line-height: 19px;\n",
       "  }\n",
       "</style>\n",
       "<div class=\"ansiout\">+-------------+\n",
       "distinct_user|\n",
       "+-------------+\n",
       "           12|\n",
       "            1|\n",
       "           13|\n",
       "            6|\n",
       "           16|\n",
       "            3|\n",
       "           20|\n",
       "            5|\n",
       "           19|\n",
       "           15|\n",
       "            9|\n",
       "           17|\n",
       "            4|\n",
       "            8|\n",
       "            7|\n",
       "           10|\n",
       "           11|\n",
       "           14|\n",
       "            2|\n",
       "            0|\n",
       "+-------------+\n",
       "only showing top 20 rows\n",
       "\n",
       "</div>"
      ]
     },
     "metadata": {
      "application/vnd.databricks.v1+output": {
       "addedWidgets": {},
       "arguments": {},
       "data": "<div class=\"ansiout\">+-------------+\n|distinct_user|\n+-------------+\n|           12|\n|            1|\n|           13|\n|            6|\n|           16|\n|            3|\n|           20|\n|            5|\n|           19|\n|           15|\n|            9|\n|           17|\n|            4|\n|            8|\n|            7|\n|           10|\n|           11|\n|           14|\n|            2|\n|            0|\n+-------------+\nonly showing top 20 rows\n\n</div>",
       "datasetInfos": [],
       "removedWidgets": [],
       "type": "html"
      }
     },
     "output_type": "display_data"
    }
   ],
   "source": []
  },
  {
   "attachments": {},
   "cell_type": "markdown",
   "metadata": {
    "application/vnd.databricks.v1+cell": {
     "inputWidgets": {},
     "nuid": "18ff63a2-ce1f-450f-92ac-be6042f1da75",
     "showTitle": false,
     "title": ""
    }
   },
   "source": [
    "## Task 5: count the number of distinct user"
   ]
  },
  {
   "attachments": {},
   "cell_type": "markdown",
   "metadata": {},
   "source": [
    "1. Count the number of distinct user using SQL. Alias the resulting column to `total_distinct_user`"
   ]
  },
  {
   "cell_type": "code",
   "execution_count": null,
   "metadata": {
    "application/vnd.databricks.v1+cell": {
     "inputWidgets": {},
     "nuid": "ac065835-85d0-4c43-a055-4c6476c52d91",
     "showTitle": false,
     "title": ""
    }
   },
   "outputs": [
    {
     "data": {
      "text/html": [
       "<style scoped>\n",
       "  .ansiout {\n",
       "    display: block;\n",
       "    unicode-bidi: embed;\n",
       "    white-space: pre-wrap;\n",
       "    word-wrap: break-word;\n",
       "    word-break: break-all;\n",
       "    font-family: \"Source Code Pro\", \"Menlo\", monospace;;\n",
       "    font-size: 13px;\n",
       "    color: #555;\n",
       "    margin-left: 4px;\n",
       "    line-height: 19px;\n",
       "  }\n",
       "</style>\n",
       "<div class=\"ansiout\">+-------------------+\n",
       "total_distinct_user|\n",
       "+-------------------+\n",
       "              45904|\n",
       "+-------------------+\n",
       "\n",
       "</div>"
      ]
     },
     "metadata": {
      "application/vnd.databricks.v1+output": {
       "addedWidgets": {},
       "arguments": {},
       "data": "<div class=\"ansiout\">+-------------------+\n|total_distinct_user|\n+-------------------+\n|              45904|\n+-------------------+\n\n</div>",
       "datasetInfos": [],
       "removedWidgets": [],
       "type": "html"
      }
     },
     "output_type": "display_data"
    }
   ],
   "source": []
  },
  {
   "attachments": {},
   "cell_type": "markdown",
   "metadata": {},
   "source": [
    "2. Count the number of distinct user using PySpark DataFrame API"
   ]
  },
  {
   "cell_type": "code",
   "execution_count": null,
   "metadata": {
    "application/vnd.databricks.v1+cell": {
     "inputWidgets": {},
     "nuid": "e037e2a7-9d84-409f-948e-d70435bd12dc",
     "showTitle": false,
     "title": ""
    }
   },
   "outputs": [
    {
     "data": {
      "text/html": [
       "<style scoped>\n",
       "  .ansiout {\n",
       "    display: block;\n",
       "    unicode-bidi: embed;\n",
       "    white-space: pre-wrap;\n",
       "    word-wrap: break-word;\n",
       "    word-break: break-all;\n",
       "    font-family: \"Source Code Pro\", \"Menlo\", monospace;;\n",
       "    font-size: 13px;\n",
       "    color: #555;\n",
       "    margin-left: 4px;\n",
       "    line-height: 19px;\n",
       "  }\n",
       "</style>\n",
       "<div class=\"ansiout\">Out[21]: 45904</div>"
      ]
     },
     "metadata": {
      "application/vnd.databricks.v1+output": {
       "addedWidgets": {},
       "arguments": {},
       "data": "<div class=\"ansiout\">Out[21]: 45904</div>",
       "datasetInfos": [],
       "removedWidgets": [],
       "type": "html"
      }
     },
     "output_type": "display_data"
    }
   ],
   "source": []
  },
  {
   "attachments": {},
   "cell_type": "markdown",
   "metadata": {
    "application/vnd.databricks.v1+cell": {
     "inputWidgets": {},
     "nuid": "83b4143e-1813-4f32-9762-c2025b40d7ed",
     "showTitle": false,
     "title": ""
    }
   },
   "source": [
    "## Task 6: count the number of distinct songs"
   ]
  },
  {
   "attachments": {},
   "cell_type": "markdown",
   "metadata": {},
   "source": [
    "1. Count the number of distinct songs using SQL. Alias the resulting column to `total_distinct_song`"
   ]
  },
  {
   "cell_type": "code",
   "execution_count": null,
   "metadata": {
    "application/vnd.databricks.v1+cell": {
     "inputWidgets": {},
     "nuid": "c7b35105-e5b3-47c6-91a8-f94e941f8b00",
     "showTitle": false,
     "title": ""
    }
   },
   "outputs": [
    {
     "data": {
      "text/html": [
       "<style scoped>\n",
       "  .ansiout {\n",
       "    display: block;\n",
       "    unicode-bidi: embed;\n",
       "    white-space: pre-wrap;\n",
       "    word-wrap: break-word;\n",
       "    word-break: break-all;\n",
       "    font-family: \"Source Code Pro\", \"Menlo\", monospace;;\n",
       "    font-size: 13px;\n",
       "    color: #555;\n",
       "    margin-left: 4px;\n",
       "    line-height: 19px;\n",
       "  }\n",
       "</style>\n",
       "<div class=\"ansiout\">+-------------------+\n",
       "total_distinct_song|\n",
       "+-------------------+\n",
       "             631348|\n",
       "+-------------------+\n",
       "\n",
       "</div>"
      ]
     },
     "metadata": {
      "application/vnd.databricks.v1+output": {
       "addedWidgets": {},
       "arguments": {},
       "data": "<div class=\"ansiout\">+-------------------+\n|total_distinct_song|\n+-------------------+\n|             631348|\n+-------------------+\n\n</div>",
       "datasetInfos": [],
       "removedWidgets": [],
       "type": "html"
      }
     },
     "output_type": "display_data"
    }
   ],
   "source": []
  },
  {
   "attachments": {},
   "cell_type": "markdown",
   "metadata": {},
   "source": [
    "2. Count the number of distinct songs using SQL"
   ]
  },
  {
   "cell_type": "code",
   "execution_count": null,
   "metadata": {
    "application/vnd.databricks.v1+cell": {
     "inputWidgets": {},
     "nuid": "2dbee5e0-3de5-406c-9d22-7abf385ee438",
     "showTitle": false,
     "title": ""
    }
   },
   "outputs": [
    {
     "data": {
      "text/html": [
       "<style scoped>\n",
       "  .ansiout {\n",
       "    display: block;\n",
       "    unicode-bidi: embed;\n",
       "    white-space: pre-wrap;\n",
       "    word-wrap: break-word;\n",
       "    word-break: break-all;\n",
       "    font-family: \"Source Code Pro\", \"Menlo\", monospace;;\n",
       "    font-size: 13px;\n",
       "    color: #555;\n",
       "    margin-left: 4px;\n",
       "    line-height: 19px;\n",
       "  }\n",
       "</style>\n",
       "<div class=\"ansiout\">Out[23]: 631348</div>"
      ]
     },
     "metadata": {
      "application/vnd.databricks.v1+output": {
       "addedWidgets": {},
       "arguments": {},
       "data": "<div class=\"ansiout\">Out[23]: 631348</div>",
       "datasetInfos": [],
       "removedWidgets": [],
       "type": "html"
      }
     },
     "output_type": "display_data"
    }
   ],
   "source": []
  }
 ],
 "metadata": {
  "application/vnd.databricks.v1+notebook": {
   "dashboards": [],
   "language": "python",
   "notebookMetadata": {
    "pythonIndentUnit": 2
   },
   "notebookName": "01-First_steps_with_DataFrames_solutions_databricks",
   "notebookOrigID": 4434948684774459,
   "widgets": {}
  },
  "kernelspec": {
   "display_name": "Python 3.9.12 ('tf': conda)",
   "language": "python",
   "name": "python3"
  },
  "language_info": {
   "codemirror_mode": {
    "name": "ipython",
    "version": 3
   },
   "file_extension": ".py",
   "mimetype": "text/x-python",
   "name": "python",
   "nbconvert_exporter": "python",
   "pygments_lexer": "ipython3",
   "version": "3.9.12"
  },
  "vscode": {
   "interpreter": {
    "hash": "fbc4d3870518eee81184ced0d2279c769a0eca59aab465c4e7ec13e5e6c47a3e"
   }
  }
 },
 "nbformat": 4,
 "nbformat_minor": 4
}
