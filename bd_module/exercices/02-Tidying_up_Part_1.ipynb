{
 "cells": [
  {
   "attachments": {},
   "cell_type": "markdown",
   "metadata": {
    "application/vnd.databricks.v1+cell": {
     "inputWidgets": {},
     "nuid": "6ae4d48a-4950-4c50-b153-ffdfaa4438aa",
     "showTitle": false,
     "title": ""
    }
   },
   "source": [
    "# Tidying up our data - Part 1"
   ]
  },
  {
   "attachments": {},
   "cell_type": "markdown",
   "metadata": {
    "application/vnd.databricks.v1+cell": {
     "inputWidgets": {},
     "nuid": "aee1c0a9-2310-46b8-b1ae-51d86ed1a82f",
     "showTitle": false,
     "title": ""
    }
   },
   "source": [
    "# Learning objectives\n",
    "\n",
    "- Manipulate deeply nested json data and transform them into structured data ready to be loaded into a Data Warehouse."
   ]
  },
  {
   "attachments": {},
   "cell_type": "markdown",
   "metadata": {
    "application/vnd.databricks.v1+cell": {
     "inputWidgets": {},
     "nuid": "1ee2a632-d35c-4d44-a5dc-0a772dc9e3d5",
     "showTitle": false,
     "title": ""
    }
   },
   "source": [
    "## Loading our data from S3"
   ]
  },
  {
   "cell_type": "code",
   "execution_count": null,
   "metadata": {
    "application/vnd.databricks.v1+cell": {
     "inputWidgets": {},
     "nuid": "7992e6f8-fe81-435c-bb26-77468b28f135",
     "showTitle": false,
     "title": ""
    }
   },
   "outputs": [
    {
     "data": {
      "text/html": [
       "<style scoped>\n",
       "  .ansiout {\n",
       "    display: block;\n",
       "    unicode-bidi: embed;\n",
       "    white-space: pre-wrap;\n",
       "    word-wrap: break-word;\n",
       "    word-break: break-all;\n",
       "    font-family: \"Source Code Pro\", \"Menlo\", monospace;;\n",
       "    font-size: 13px;\n",
       "    color: #555;\n",
       "    margin-left: 4px;\n",
       "    line-height: 19px;\n",
       "  }\n",
       "</style>\n",
       "<div class=\"ansiout\"></div>"
      ]
     },
     "metadata": {
      "application/vnd.databricks.v1+output": {
       "addedWidgets": {},
       "arguments": {},
       "data": "<div class=\"ansiout\"></div>",
       "datasetInfos": [],
       "removedWidgets": [],
       "type": "html"
      }
     },
     "output_type": "display_data"
    }
   ],
   "source": [
    "filepath = \"s3://full-stack-bigdata-datasets/Big_Data/YOUTUBE/songs.json\""
   ]
  },
  {
   "cell_type": "code",
   "execution_count": null,
   "metadata": {
    "application/vnd.databricks.v1+cell": {
     "inputWidgets": {},
     "nuid": "bbd182c1-4dbd-4b91-bb48-96f863b2a535",
     "showTitle": false,
     "title": ""
    }
   },
   "outputs": [
    {
     "data": {
      "text/html": [
       "<style scoped>\n",
       "  .ansiout {\n",
       "    display: block;\n",
       "    unicode-bidi: embed;\n",
       "    white-space: pre-wrap;\n",
       "    word-wrap: break-word;\n",
       "    word-break: break-all;\n",
       "    font-family: \"Source Code Pro\", \"Menlo\", monospace;;\n",
       "    font-size: 13px;\n",
       "    color: #555;\n",
       "    margin-left: 4px;\n",
       "    line-height: 19px;\n",
       "  }\n",
       "</style>\n",
       "<div class=\"ansiout\"></div>"
      ]
     },
     "metadata": {
      "application/vnd.databricks.v1+output": {
       "addedWidgets": {},
       "arguments": {},
       "data": "<div class=\"ansiout\"></div>",
       "datasetInfos": [],
       "removedWidgets": [],
       "type": "html"
      }
     },
     "output_type": "display_data"
    }
   ],
   "source": [
    "df = spark.read.format('json').load(filepath, multiline=True)"
   ]
  },
  {
   "attachments": {},
   "cell_type": "markdown",
   "metadata": {
    "application/vnd.databricks.v1+cell": {
     "inputWidgets": {},
     "nuid": "6f313d25-feed-4e4a-911c-a81ba699570b",
     "showTitle": false,
     "title": ""
    }
   },
   "source": [
    "## Tidying up\n",
    "\n",
    "---\n",
    "\n",
    "We have multiple issues with our data.  **It does not look like \"tidy data\" at all.**  \n",
    "First, we have rows within rows...\n",
    "And second, most of the data resides in deeply nested structure within the column items...\n",
    "\n",
    "We will fix the former, then handle the latter in the next notebook."
   ]
  },
  {
   "attachments": {},
   "cell_type": "markdown",
   "metadata": {
    "application/vnd.databricks.v1+cell": {
     "inputWidgets": {},
     "nuid": "e8a3ea63-1f11-4797-a90d-ce65a104d58d",
     "showTitle": false,
     "title": ""
    }
   },
   "source": [
    "### 1. Fixing the rows\n",
    "Remember the `.explode` method? [documentation](https://spark.apache.org/docs/2.1.0/api/python/pyspark.sql.html#pyspark.sql.functions.explode).  \n",
    "What `.explode(...)` does, it \"Returns a new row for each element in the given array or map.\" We will use a lot of it here!\n",
    "\n",
    "If you remember properly, that's exactly the kind of structures we have in the schema of our DataFrame for the `items` column.\n",
    "\n",
    "1. Print out the schema of `df`"
   ]
  },
  {
   "cell_type": "code",
   "execution_count": null,
   "metadata": {
    "application/vnd.databricks.v1+cell": {
     "inputWidgets": {},
     "nuid": "80a9cc3b-6f6c-48a0-9f77-df74774c040e",
     "showTitle": false,
     "title": ""
    }
   },
   "outputs": [
    {
     "data": {
      "text/html": [
       "<style scoped>\n",
       "  .ansiout {\n",
       "    display: block;\n",
       "    unicode-bidi: embed;\n",
       "    white-space: pre-wrap;\n",
       "    word-wrap: break-word;\n",
       "    word-break: break-all;\n",
       "    font-family: \"Source Code Pro\", \"Menlo\", monospace;;\n",
       "    font-size: 13px;\n",
       "    color: #555;\n",
       "    margin-left: 4px;\n",
       "    line-height: 19px;\n",
       "  }\n",
       "</style>\n",
       "<div class=\"ansiout\">root\n",
       "-- etag: string (nullable = true)\n",
       "-- items: array (nullable = true)\n",
       "    |-- element: struct (containsNull = true)\n",
       "    |    |-- contentDetails: struct (nullable = true)\n",
       "    |    |    |-- caption: string (nullable = true)\n",
       "    |    |    |-- contentRating: struct (nullable = true)\n",
       "    |    |    |    |-- ytRating: string (nullable = true)\n",
       "    |    |    |-- definition: string (nullable = true)\n",
       "    |    |    |-- dimension: string (nullable = true)\n",
       "    |    |    |-- duration: string (nullable = true)\n",
       "    |    |    |-- licensedContent: boolean (nullable = true)\n",
       "    |    |    |-- projection: string (nullable = true)\n",
       "    |    |    |-- regionRestriction: struct (nullable = true)\n",
       "    |    |    |    |-- allowed: array (nullable = true)\n",
       "    |    |    |    |    |-- element: string (containsNull = true)\n",
       "    |    |    |    |-- blocked: array (nullable = true)\n",
       "    |    |    |    |    |-- element: string (containsNull = true)\n",
       "    |    |-- etag: string (nullable = true)\n",
       "    |    |-- id: string (nullable = true)\n",
       "    |    |-- kind: string (nullable = true)\n",
       "    |    |-- snippet: struct (nullable = true)\n",
       "    |    |    |-- categoryId: string (nullable = true)\n",
       "    |    |    |-- channelId: string (nullable = true)\n",
       "    |    |    |-- channelTitle: string (nullable = true)\n",
       "    |    |    |-- defaultAudioLanguage: string (nullable = true)\n",
       "    |    |    |-- defaultLanguage: string (nullable = true)\n",
       "    |    |    |-- description: string (nullable = true)\n",
       "    |    |    |-- liveBroadcastContent: string (nullable = true)\n",
       "    |    |    |-- localized: struct (nullable = true)\n",
       "    |    |    |    |-- description: string (nullable = true)\n",
       "    |    |    |    |-- title: string (nullable = true)\n",
       "    |    |    |-- publishedAt: string (nullable = true)\n",
       "    |    |    |-- tags: array (nullable = true)\n",
       "    |    |    |    |-- element: string (containsNull = true)\n",
       "    |    |    |-- thumbnails: struct (nullable = true)\n",
       "    |    |    |    |-- default: struct (nullable = true)\n",
       "    |    |    |    |    |-- height: long (nullable = true)\n",
       "    |    |    |    |    |-- url: string (nullable = true)\n",
       "    |    |    |    |    |-- width: long (nullable = true)\n",
       "    |    |    |    |-- high: struct (nullable = true)\n",
       "    |    |    |    |    |-- height: long (nullable = true)\n",
       "    |    |    |    |    |-- url: string (nullable = true)\n",
       "    |    |    |    |    |-- width: long (nullable = true)\n",
       "    |    |    |    |-- maxres: struct (nullable = true)\n",
       "    |    |    |    |    |-- height: long (nullable = true)\n",
       "    |    |    |    |    |-- url: string (nullable = true)\n",
       "    |    |    |    |    |-- width: long (nullable = true)\n",
       "    |    |    |    |-- medium: struct (nullable = true)\n",
       "    |    |    |    |    |-- height: long (nullable = true)\n",
       "    |    |    |    |    |-- url: string (nullable = true)\n",
       "    |    |    |    |    |-- width: long (nullable = true)\n",
       "    |    |    |    |-- standard: struct (nullable = true)\n",
       "    |    |    |    |    |-- height: long (nullable = true)\n",
       "    |    |    |    |    |-- url: string (nullable = true)\n",
       "    |    |    |    |    |-- width: long (nullable = true)\n",
       "    |    |    |-- title: string (nullable = true)\n",
       "    |    |-- statistics: struct (nullable = true)\n",
       "    |    |    |-- commentCount: string (nullable = true)\n",
       "    |    |    |-- dislikeCount: string (nullable = true)\n",
       "    |    |    |-- favoriteCount: string (nullable = true)\n",
       "    |    |    |-- likeCount: string (nullable = true)\n",
       "    |    |    |-- viewCount: string (nullable = true)\n",
       "    |    |-- status: struct (nullable = true)\n",
       "    |    |    |-- embeddable: boolean (nullable = true)\n",
       "    |    |    |-- license: string (nullable = true)\n",
       "    |    |    |-- madeForKids: boolean (nullable = true)\n",
       "    |    |    |-- privacyStatus: string (nullable = true)\n",
       "    |    |    |-- publicStatsViewable: boolean (nullable = true)\n",
       "    |    |    |-- uploadStatus: string (nullable = true)\n",
       "    |    |-- topicDetails: struct (nullable = true)\n",
       "    |    |    |-- relevantTopicIds: array (nullable = true)\n",
       "    |    |    |    |-- element: string (containsNull = true)\n",
       "    |    |    |-- topicCategories: array (nullable = true)\n",
       "    |    |    |    |-- element: string (containsNull = true)\n",
       "-- kind: string (nullable = true)\n",
       "-- pageInfo: struct (nullable = true)\n",
       "    |-- resultsPerPage: long (nullable = true)\n",
       "    |-- totalResults: long (nullable = true)\n",
       "\n",
       "</div>"
      ]
     },
     "metadata": {
      "application/vnd.databricks.v1+output": {
       "addedWidgets": {},
       "arguments": {},
       "data": "<div class=\"ansiout\">root\n |-- etag: string (nullable = true)\n |-- items: array (nullable = true)\n |    |-- element: struct (containsNull = true)\n |    |    |-- contentDetails: struct (nullable = true)\n |    |    |    |-- caption: string (nullable = true)\n |    |    |    |-- contentRating: struct (nullable = true)\n |    |    |    |    |-- ytRating: string (nullable = true)\n |    |    |    |-- definition: string (nullable = true)\n |    |    |    |-- dimension: string (nullable = true)\n |    |    |    |-- duration: string (nullable = true)\n |    |    |    |-- licensedContent: boolean (nullable = true)\n |    |    |    |-- projection: string (nullable = true)\n |    |    |    |-- regionRestriction: struct (nullable = true)\n |    |    |    |    |-- allowed: array (nullable = true)\n |    |    |    |    |    |-- element: string (containsNull = true)\n |    |    |    |    |-- blocked: array (nullable = true)\n |    |    |    |    |    |-- element: string (containsNull = true)\n |    |    |-- etag: string (nullable = true)\n |    |    |-- id: string (nullable = true)\n |    |    |-- kind: string (nullable = true)\n |    |    |-- snippet: struct (nullable = true)\n |    |    |    |-- categoryId: string (nullable = true)\n |    |    |    |-- channelId: string (nullable = true)\n |    |    |    |-- channelTitle: string (nullable = true)\n |    |    |    |-- defaultAudioLanguage: string (nullable = true)\n |    |    |    |-- defaultLanguage: string (nullable = true)\n |    |    |    |-- description: string (nullable = true)\n |    |    |    |-- liveBroadcastContent: string (nullable = true)\n |    |    |    |-- localized: struct (nullable = true)\n |    |    |    |    |-- description: string (nullable = true)\n |    |    |    |    |-- title: string (nullable = true)\n |    |    |    |-- publishedAt: string (nullable = true)\n |    |    |    |-- tags: array (nullable = true)\n |    |    |    |    |-- element: string (containsNull = true)\n |    |    |    |-- thumbnails: struct (nullable = true)\n |    |    |    |    |-- default: struct (nullable = true)\n |    |    |    |    |    |-- height: long (nullable = true)\n |    |    |    |    |    |-- url: string (nullable = true)\n |    |    |    |    |    |-- width: long (nullable = true)\n |    |    |    |    |-- high: struct (nullable = true)\n |    |    |    |    |    |-- height: long (nullable = true)\n |    |    |    |    |    |-- url: string (nullable = true)\n |    |    |    |    |    |-- width: long (nullable = true)\n |    |    |    |    |-- maxres: struct (nullable = true)\n |    |    |    |    |    |-- height: long (nullable = true)\n |    |    |    |    |    |-- url: string (nullable = true)\n |    |    |    |    |    |-- width: long (nullable = true)\n |    |    |    |    |-- medium: struct (nullable = true)\n |    |    |    |    |    |-- height: long (nullable = true)\n |    |    |    |    |    |-- url: string (nullable = true)\n |    |    |    |    |    |-- width: long (nullable = true)\n |    |    |    |    |-- standard: struct (nullable = true)\n |    |    |    |    |    |-- height: long (nullable = true)\n |    |    |    |    |    |-- url: string (nullable = true)\n |    |    |    |    |    |-- width: long (nullable = true)\n |    |    |    |-- title: string (nullable = true)\n |    |    |-- statistics: struct (nullable = true)\n |    |    |    |-- commentCount: string (nullable = true)\n |    |    |    |-- dislikeCount: string (nullable = true)\n |    |    |    |-- favoriteCount: string (nullable = true)\n |    |    |    |-- likeCount: string (nullable = true)\n |    |    |    |-- viewCount: string (nullable = true)\n |    |    |-- status: struct (nullable = true)\n |    |    |    |-- embeddable: boolean (nullable = true)\n |    |    |    |-- license: string (nullable = true)\n |    |    |    |-- madeForKids: boolean (nullable = true)\n |    |    |    |-- privacyStatus: string (nullable = true)\n |    |    |    |-- publicStatsViewable: boolean (nullable = true)\n |    |    |    |-- uploadStatus: string (nullable = true)\n |    |    |-- topicDetails: struct (nullable = true)\n |    |    |    |-- relevantTopicIds: array (nullable = true)\n |    |    |    |    |-- element: string (containsNull = true)\n |    |    |    |-- topicCategories: array (nullable = true)\n |    |    |    |    |-- element: string (containsNull = true)\n |-- kind: string (nullable = true)\n |-- pageInfo: struct (nullable = true)\n |    |-- resultsPerPage: long (nullable = true)\n |    |-- totalResults: long (nullable = true)\n\n</div>",
       "datasetInfos": [],
       "removedWidgets": [],
       "type": "html"
      }
     },
     "output_type": "display_data"
    }
   ],
   "source": []
  },
  {
   "attachments": {},
   "cell_type": "markdown",
   "metadata": {},
   "source": [
    "2. Import the PySpark SQL functions following usual convention"
   ]
  },
  {
   "cell_type": "code",
   "execution_count": null,
   "metadata": {
    "application/vnd.databricks.v1+cell": {
     "inputWidgets": {},
     "nuid": "e078e235-c21e-45cf-8f3c-69613fbff1e6",
     "showTitle": false,
     "title": ""
    }
   },
   "outputs": [
    {
     "data": {
      "text/html": [
       "<style scoped>\n",
       "  .ansiout {\n",
       "    display: block;\n",
       "    unicode-bidi: embed;\n",
       "    white-space: pre-wrap;\n",
       "    word-wrap: break-word;\n",
       "    word-break: break-all;\n",
       "    font-family: \"Source Code Pro\", \"Menlo\", monospace;;\n",
       "    font-size: 13px;\n",
       "    color: #555;\n",
       "    margin-left: 4px;\n",
       "    line-height: 19px;\n",
       "  }\n",
       "</style>\n",
       "<div class=\"ansiout\"></div>"
      ]
     },
     "metadata": {
      "application/vnd.databricks.v1+output": {
       "addedWidgets": {},
       "arguments": {},
       "data": "<div class=\"ansiout\"></div>",
       "datasetInfos": [],
       "removedWidgets": [],
       "type": "html"
      }
     },
     "output_type": "display_data"
    }
   ],
   "source": []
  },
  {
   "attachments": {},
   "cell_type": "markdown",
   "metadata": {},
   "source": [
    "3. Use `.explode(...)` on the `items` column and count the number of results"
   ]
  },
  {
   "cell_type": "code",
   "execution_count": null,
   "metadata": {
    "application/vnd.databricks.v1+cell": {
     "inputWidgets": {},
     "nuid": "d2f53520-8c3c-4575-90d7-90cc5f3589d4",
     "showTitle": false,
     "title": ""
    }
   },
   "outputs": [
    {
     "data": {
      "text/html": [
       "<style scoped>\n",
       "  .ansiout {\n",
       "    display: block;\n",
       "    unicode-bidi: embed;\n",
       "    white-space: pre-wrap;\n",
       "    word-wrap: break-word;\n",
       "    word-break: break-all;\n",
       "    font-family: \"Source Code Pro\", \"Menlo\", monospace;;\n",
       "    font-size: 13px;\n",
       "    color: #555;\n",
       "    margin-left: 4px;\n",
       "    line-height: 19px;\n",
       "  }\n",
       "</style>\n",
       "<div class=\"ansiout\">Out[12]: 3907</div>"
      ]
     },
     "metadata": {
      "application/vnd.databricks.v1+output": {
       "addedWidgets": {},
       "arguments": {},
       "data": "<div class=\"ansiout\">Out[12]: 3907</div>",
       "datasetInfos": [],
       "removedWidgets": [],
       "type": "html"
      }
     },
     "output_type": "display_data"
    }
   ],
   "source": []
  },
  {
   "attachments": {},
   "cell_type": "markdown",
   "metadata": {
    "application/vnd.databricks.v1+cell": {
     "inputWidgets": {},
     "nuid": "11b2822e-b2f5-4406-9a7e-6d057107c6c0",
     "showTitle": false,
     "title": ""
    }
   },
   "source": [
    "If you got 3907 rows, you've made it, congrats! :)  \n",
    "We will use this as our new working DataFrame:\n",
    "- just do the same thing, but this time save the exploded dataset into a variable named `items_df`\n",
    "- don't forget to give a proper alias to your newly compute column: `items`\n",
    "- at the end, as a sanity check, make sure we have the right amount of columns in our new DataFrame\n",
    "\n",
    "4. Follow previous instructions"
   ]
  },
  {
   "cell_type": "code",
   "execution_count": null,
   "metadata": {
    "application/vnd.databricks.v1+cell": {
     "inputWidgets": {},
     "nuid": "61d0cd96-567b-4800-8d58-41752c9af596",
     "showTitle": false,
     "title": ""
    }
   },
   "outputs": [
    {
     "data": {
      "text/html": [
       "<style scoped>\n",
       "  .ansiout {\n",
       "    display: block;\n",
       "    unicode-bidi: embed;\n",
       "    white-space: pre-wrap;\n",
       "    word-wrap: break-word;\n",
       "    word-break: break-all;\n",
       "    font-family: \"Source Code Pro\", \"Menlo\", monospace;;\n",
       "    font-size: 13px;\n",
       "    color: #555;\n",
       "    margin-left: 4px;\n",
       "    line-height: 19px;\n",
       "  }\n",
       "</style>\n",
       "<div class=\"ansiout\">Out[13]: 3907</div>"
      ]
     },
     "metadata": {
      "application/vnd.databricks.v1+output": {
       "addedWidgets": {},
       "arguments": {},
       "data": "<div class=\"ansiout\">Out[13]: 3907</div>",
       "datasetInfos": [],
       "removedWidgets": [],
       "type": "html"
      }
     },
     "output_type": "display_data"
    }
   ],
   "source": []
  },
  {
   "attachments": {},
   "cell_type": "markdown",
   "metadata": {
    "application/vnd.databricks.v1+cell": {
     "inputWidgets": {},
     "nuid": "36eed885-7242-401d-8360-8672d2c3d81f",
     "showTitle": false,
     "title": ""
    }
   },
   "source": [
    "We're making progress, we now have one row per result (e.g. song)!\n",
    "\n",
    "But each song is a deeply nested structure... We will take care of this in the following notebook.\n",
    "\n",
    "5. Show the first 5 rows of the exploded dataset"
   ]
  },
  {
   "cell_type": "code",
   "execution_count": null,
   "metadata": {
    "application/vnd.databricks.v1+cell": {
     "inputWidgets": {},
     "nuid": "44495342-2a0d-4727-9f10-c01a53d51475",
     "showTitle": false,
     "title": ""
    }
   },
   "outputs": [
    {
     "data": {
      "text/html": [
       "<style scoped>\n",
       "  .ansiout {\n",
       "    display: block;\n",
       "    unicode-bidi: embed;\n",
       "    white-space: pre-wrap;\n",
       "    word-wrap: break-word;\n",
       "    word-break: break-all;\n",
       "    font-family: \"Source Code Pro\", \"Menlo\", monospace;;\n",
       "    font-size: 13px;\n",
       "    color: #555;\n",
       "    margin-left: 4px;\n",
       "    line-height: 19px;\n",
       "  }\n",
       "</style>\n",
       "<div class=\"ansiout\">/databricks/spark/python/pyspark/sql/pandas/conversion.py:92: UserWarning: toPandas attempted Arrow optimization because &#39;spark.sql.execution.arrow.pyspark.enabled&#39; is set to true; however, failed by the reason below:\n",
       "  Unable to convert the field items. If this column is not necessary, you may consider dropping it or converting to primitive type before the conversion.\n",
       "Direct cause: Nested StructType not supported in conversion to Arrow\n",
       "Attempting non-optimization as &#39;spark.sql.execution.arrow.pyspark.fallback.enabled&#39; is set to true.\n",
       "  warnings.warn(msg)\n",
       "Out[14]: </div>"
      ]
     },
     "metadata": {
      "application/vnd.databricks.v1+output": {
       "addedWidgets": {},
       "arguments": {},
       "data": "<div class=\"ansiout\">/databricks/spark/python/pyspark/sql/pandas/conversion.py:92: UserWarning: toPandas attempted Arrow optimization because &#39;spark.sql.execution.arrow.pyspark.enabled&#39; is set to true; however, failed by the reason below:\n  Unable to convert the field items. If this column is not necessary, you may consider dropping it or converting to primitive type before the conversion.\nDirect cause: Nested StructType not supported in conversion to Arrow\nAttempting non-optimization as &#39;spark.sql.execution.arrow.pyspark.fallback.enabled&#39; is set to true.\n  warnings.warn(msg)\nOut[14]: </div>",
       "datasetInfos": [],
       "removedWidgets": [],
       "type": "html"
      }
     },
     "output_type": "display_data"
    },
    {
     "data": {
      "text/html": [
       "<div>\n",
       "<style scoped>\n",
       "    .dataframe tbody tr th:only-of-type {\n",
       "        vertical-align: middle;\n",
       "    }\n",
       "\n",
       "    .dataframe tbody tr th {\n",
       "        vertical-align: top;\n",
       "    }\n",
       "\n",
       "    .dataframe thead th {\n",
       "        text-align: right;\n",
       "    }\n",
       "</style>\n",
       "<table border=\"1\" class=\"dataframe\">\n",
       "  <thead>\n",
       "    <tr style=\"text-align: right;\">\n",
       "      <th></th>\n",
       "      <th>items</th>\n",
       "    </tr>\n",
       "  </thead>\n",
       "  <tbody>\n",
       "    <tr>\n",
       "      <th>0</th>\n",
       "      <td>((false, (None,), sd, 2d, PT3M33S, True, recta...</td>\n",
       "    </tr>\n",
       "    <tr>\n",
       "      <th>1</th>\n",
       "      <td>((false, (None,), hd, 2d, PT7M46S, False, rect...</td>\n",
       "    </tr>\n",
       "    <tr>\n",
       "      <th>2</th>\n",
       "      <td>((false, (None,), sd, 2d, PT3M7S, False, recta...</td>\n",
       "    </tr>\n",
       "    <tr>\n",
       "      <th>3</th>\n",
       "      <td>((false, (None,), hd, 2d, PT3M43S, False, rect...</td>\n",
       "    </tr>\n",
       "    <tr>\n",
       "      <th>4</th>\n",
       "      <td>((false, (None,), hd, 2d, PT5M, False, rectang...</td>\n",
       "    </tr>\n",
       "  </tbody>\n",
       "</table>\n",
       "</div>"
      ]
     },
     "metadata": {
      "application/vnd.databricks.v1+output": {
       "addedWidgets": {},
       "arguments": {},
       "data": "<div>\n<style scoped>\n    .dataframe tbody tr th:only-of-type {\n        vertical-align: middle;\n    }\n\n    .dataframe tbody tr th {\n        vertical-align: top;\n    }\n\n    .dataframe thead th {\n        text-align: right;\n    }\n</style>\n<table border=\"1\" class=\"dataframe\">\n  <thead>\n    <tr style=\"text-align: right;\">\n      <th></th>\n      <th>items</th>\n    </tr>\n  </thead>\n  <tbody>\n    <tr>\n      <th>0</th>\n      <td>((false, (None,), sd, 2d, PT3M33S, True, recta...</td>\n    </tr>\n    <tr>\n      <th>1</th>\n      <td>((false, (None,), hd, 2d, PT7M46S, False, rect...</td>\n    </tr>\n    <tr>\n      <th>2</th>\n      <td>((false, (None,), sd, 2d, PT3M7S, False, recta...</td>\n    </tr>\n    <tr>\n      <th>3</th>\n      <td>((false, (None,), hd, 2d, PT3M43S, False, rect...</td>\n    </tr>\n    <tr>\n      <th>4</th>\n      <td>((false, (None,), hd, 2d, PT5M, False, rectang...</td>\n    </tr>\n  </tbody>\n</table>\n</div>",
       "datasetInfos": [],
       "removedWidgets": [],
       "textData": null,
       "type": "htmlSandbox"
      }
     },
     "output_type": "display_data"
    }
   ],
   "source": []
  },
  {
   "attachments": {},
   "cell_type": "markdown",
   "metadata": {
    "application/vnd.databricks.v1+cell": {
     "inputWidgets": {},
     "nuid": "4fbf221b-2c10-4f40-865d-eb6e6b802a5d",
     "showTitle": false,
     "title": ""
    }
   },
   "source": [
    "## Wrap-up\n",
    "\n",
    "You learned how to use `.explode(...)` to split arrays values into their own rows! 🎉"
   ]
  }
 ],
 "metadata": {
  "application/vnd.databricks.v1+notebook": {
   "dashboards": [],
   "language": "python",
   "notebookMetadata": {
    "pythonIndentUnit": 2
   },
   "notebookName": "02-Tidying_up_Part_1_solutions",
   "notebookOrigID": 4407832410620971,
   "widgets": {}
  },
  "kernelspec": {
   "display_name": "Python 3",
   "language": "python",
   "name": "python3"
  },
  "language_info": {
   "codemirror_mode": {
    "name": "ipython",
    "version": 3
   },
   "file_extension": ".py",
   "mimetype": "text/x-python",
   "name": "python",
   "nbconvert_exporter": "python",
   "pygments_lexer": "ipython3",
   "version": "3.8.3"
  },
  "name": "02-Tidying-up-Part-1",
  "notebookId": 283981489604811
 },
 "nbformat": 4,
 "nbformat_minor": 4
}
