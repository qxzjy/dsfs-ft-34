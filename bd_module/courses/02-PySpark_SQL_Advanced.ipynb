{
 "cells": [
  {
   "cell_type": "markdown",
   "metadata": {
    "application/vnd.databricks.v1+cell": {
     "inputWidgets": {},
     "nuid": "f78677f5-e348-4c32-b071-8bdb1b7dd5ae",
     "showTitle": false,
     "title": ""
    }
   },
   "source": [
    "# Advanced Pyspark SQL 🦸✨\n",
    "\n",
    "We will explore more advanced functionalities of PySpark SQL.\n",
    "\n",
    "## What will you learn in this course? 🧐🧐\n",
    "This lecture will cover some more advanced PySpark SQL, here's the outline:\n",
    "\n",
    "* Reminder\n",
    "* Advanced Filters\n",
    "* Conditionals\n",
    "    * `.isin()`\n",
    "    * `.when()`\n",
    "* Joins\n",
    "* Array aggregation\n",
    "    * `F.collect_list()`\n",
    "    * `F.collect_set()`\n",
    "    * `F.slice()`\n",
    "* Window functions\n",
    "    * `F.rank()`\n",
    "    * `F.lag()`\n",
    "    * `F.lead()`\n",
    "* User defined functions (UDFs)\n",
    "\n",
    "## Setup 💻💻"
   ]
  },
  {
   "cell_type": "code",
   "execution_count": null,
   "metadata": {
    "application/vnd.databricks.v1+cell": {
     "inputWidgets": {},
     "nuid": "f8866a5d-c3e9-4bcb-b41f-260d6cb07a3a",
     "showTitle": false,
     "title": ""
    }
   },
   "outputs": [
    {
     "data": {
      "text/html": [
       "<style scoped>\n",
       "  .ansiout {\n",
       "    display: block;\n",
       "    unicode-bidi: embed;\n",
       "    white-space: pre-wrap;\n",
       "    word-wrap: break-word;\n",
       "    word-break: break-all;\n",
       "    font-family: \"Source Code Pro\", \"Menlo\", monospace;;\n",
       "    font-size: 13px;\n",
       "    color: #555;\n",
       "    margin-left: 4px;\n",
       "    line-height: 19px;\n",
       "  }\n",
       "</style>\n",
       "<div class=\"ansiout\">root\n",
       "-- contentDetails_duration: string (nullable = true)\n",
       "-- id: string (nullable = true)\n",
       "-- snippet_channelId: string (nullable = true)\n",
       "-- snippet_channelTitle: string (nullable = true)\n",
       "-- snippet_publishedAt: string (nullable = true)\n",
       "-- snippet_title: string (nullable = true)\n",
       "-- statistics_commentCount: long (nullable = true)\n",
       "-- statistics_dislikeCount: long (nullable = true)\n",
       "-- statistics_viewCount: long (nullable = true)\n",
       "\n",
       "Out[36]: (3907, 9)</div>"
      ]
     },
     "metadata": {
      "application/vnd.databricks.v1+output": {
       "addedWidgets": {},
       "arguments": {},
       "data": "<div class=\"ansiout\">root\n |-- contentDetails_duration: string (nullable = true)\n |-- id: string (nullable = true)\n |-- snippet_channelId: string (nullable = true)\n |-- snippet_channelTitle: string (nullable = true)\n |-- snippet_publishedAt: string (nullable = true)\n |-- snippet_title: string (nullable = true)\n |-- statistics_commentCount: long (nullable = true)\n |-- statistics_dislikeCount: long (nullable = true)\n |-- statistics_viewCount: long (nullable = true)\n\nOut[36]: (3907, 9)</div>",
       "datasetInfos": [],
       "removedWidgets": [],
       "type": "html"
      }
     },
     "output_type": "display_data"
    }
   ],
   "source": [
    "songs = spark.read.parquet(\"s3://full-stack-bigdata-datasets/Big_Data/YOUTUBE/items_selected.parquet\")\n",
    "songs.printSchema()\n",
    "songs.count(), len(songs.columns)"
   ]
  },
  {
   "cell_type": "code",
   "execution_count": null,
   "metadata": {
    "application/vnd.databricks.v1+cell": {
     "inputWidgets": {},
     "nuid": "2f71cfe5-0de2-4ac9-b875-946c0097266c",
     "showTitle": false,
     "title": ""
    }
   },
   "outputs": [
    {
     "data": {
      "text/html": [
       "<style scoped>\n",
       "  .ansiout {\n",
       "    display: block;\n",
       "    unicode-bidi: embed;\n",
       "    white-space: pre-wrap;\n",
       "    word-wrap: break-word;\n",
       "    word-break: break-all;\n",
       "    font-family: \"Source Code Pro\", \"Menlo\", monospace;;\n",
       "    font-size: 13px;\n",
       "    color: #555;\n",
       "    margin-left: 4px;\n",
       "    line-height: 19px;\n",
       "  }\n",
       "</style>\n",
       "<div class=\"ansiout\"></div>"
      ]
     },
     "metadata": {
      "application/vnd.databricks.v1+output": {
       "addedWidgets": {},
       "arguments": {},
       "data": "<div class=\"ansiout\"></div>",
       "datasetInfos": [],
       "removedWidgets": [],
       "type": "html"
      }
     },
     "output_type": "display_data"
    }
   ],
   "source": [
    "from pyspark.sql import functions as F"
   ]
  },
  {
   "cell_type": "markdown",
   "metadata": {
    "application/vnd.databricks.v1+cell": {
     "inputWidgets": {},
     "nuid": "a8e480e0-f8a3-433e-b5c4-cf66357dbbee",
     "showTitle": false,
     "title": ""
    }
   },
   "source": [
    "## Reminder 🧠🧠\n",
    "`isNull()` and `isNotNull()`"
   ]
  },
  {
   "cell_type": "code",
   "execution_count": null,
   "metadata": {
    "application/vnd.databricks.v1+cell": {
     "inputWidgets": {},
     "nuid": "a4968330-4a80-408f-a762-ae0969cb8ad3",
     "showTitle": false,
     "title": ""
    }
   },
   "outputs": [
    {
     "data": {
      "text/html": [
       "<style scoped>\n",
       "  .ansiout {\n",
       "    display: block;\n",
       "    unicode-bidi: embed;\n",
       "    white-space: pre-wrap;\n",
       "    word-wrap: break-word;\n",
       "    word-break: break-all;\n",
       "    font-family: \"Source Code Pro\", \"Menlo\", monospace;;\n",
       "    font-size: 13px;\n",
       "    color: #555;\n",
       "    margin-left: 4px;\n",
       "    line-height: 19px;\n",
       "  }\n",
       "</style>\n",
       "<div class=\"ansiout\"></div>"
      ]
     },
     "metadata": {
      "application/vnd.databricks.v1+output": {
       "addedWidgets": {},
       "arguments": {},
       "data": "<div class=\"ansiout\"></div>",
       "datasetInfos": [],
       "removedWidgets": [],
       "type": "html"
      }
     },
     "output_type": "display_data"
    }
   ],
   "source": [
    "from pyspark.sql import functions as F"
   ]
  },
  {
   "cell_type": "code",
   "execution_count": null,
   "metadata": {
    "application/vnd.databricks.v1+cell": {
     "inputWidgets": {},
     "nuid": "e98901a6-0b52-4c4b-a317-60c46b04c494",
     "showTitle": false,
     "title": ""
    }
   },
   "outputs": [
    {
     "data": {
      "text/html": [
       "<style scoped>\n",
       "  .ansiout {\n",
       "    display: block;\n",
       "    unicode-bidi: embed;\n",
       "    white-space: pre-wrap;\n",
       "    word-wrap: break-word;\n",
       "    word-break: break-all;\n",
       "    font-family: \"Source Code Pro\", \"Menlo\", monospace;;\n",
       "    font-size: 13px;\n",
       "    color: #555;\n",
       "    margin-left: 4px;\n",
       "    line-height: 19px;\n",
       "  }\n",
       "</style>\n",
       "<div class=\"ansiout\">+---+\n",
       " id|\n",
       "+---+\n",
       "  0|\n",
       "+---+\n",
       "\n",
       "</div>"
      ]
     },
     "metadata": {
      "application/vnd.databricks.v1+output": {
       "addedWidgets": {},
       "arguments": {},
       "data": "<div class=\"ansiout\">+---+\n| id|\n+---+\n|  0|\n+---+\n\n</div>",
       "datasetInfos": [],
       "removedWidgets": [],
       "type": "html"
      }
     },
     "output_type": "display_data"
    }
   ],
   "source": [
    "# We transform the column into a boolean indicating True where we find missing values\n",
    "# and False otherwise, we then convert this boolean to an integer format transforming\n",
    "# True into 1 and False into 0, then we calculate the sum.\n",
    "# The result gives us the number of missing values in the id column.\n",
    "songs.select(F.sum(F.col('id').isNull().cast('int')).alias('id')).show()\n",
    "\n",
    "# Note that we MUST use a column object to apply our method and cannot simply call\n",
    "# the column by name"
   ]
  },
  {
   "cell_type": "markdown",
   "metadata": {
    "application/vnd.databricks.v1+cell": {
     "inputWidgets": {},
     "nuid": "3f672fe6-ba73-4230-a1a1-8ec219dc0241",
     "showTitle": false,
     "title": ""
    }
   },
   "source": [
    "Let's apply this to all columns"
   ]
  },
  {
   "cell_type": "code",
   "execution_count": null,
   "metadata": {
    "application/vnd.databricks.v1+cell": {
     "inputWidgets": {},
     "nuid": "29c1ca47-27f0-491e-9d37-e8010da22b63",
     "showTitle": false,
     "title": ""
    }
   },
   "outputs": [
    {
     "data": {
      "text/html": [
       "<style scoped>\n",
       "  .ansiout {\n",
       "    display: block;\n",
       "    unicode-bidi: embed;\n",
       "    white-space: pre-wrap;\n",
       "    word-wrap: break-word;\n",
       "    word-break: break-all;\n",
       "    font-family: \"Source Code Pro\", \"Menlo\", monospace;;\n",
       "    font-size: 13px;\n",
       "    color: #555;\n",
       "    margin-left: 4px;\n",
       "    line-height: 19px;\n",
       "  }\n",
       "</style>\n",
       "<div class=\"ansiout\">Out[8]: </div>"
      ]
     },
     "metadata": {
      "application/vnd.databricks.v1+output": {
       "addedWidgets": {},
       "arguments": {},
       "data": "<div class=\"ansiout\">Out[8]: </div>",
       "datasetInfos": [],
       "removedWidgets": [],
       "type": "html"
      }
     },
     "output_type": "display_data"
    },
    {
     "data": {
      "text/html": [
       "<div>\n",
       "<style scoped>\n",
       "    .dataframe tbody tr th:only-of-type {\n",
       "        vertical-align: middle;\n",
       "    }\n",
       "\n",
       "    .dataframe tbody tr th {\n",
       "        vertical-align: top;\n",
       "    }\n",
       "\n",
       "    .dataframe thead th {\n",
       "        text-align: right;\n",
       "    }\n",
       "</style>\n",
       "<table border=\"1\" class=\"dataframe\">\n",
       "  <thead>\n",
       "    <tr style=\"text-align: right;\">\n",
       "      <th></th>\n",
       "      <th>contentDetails_duration</th>\n",
       "      <th>id</th>\n",
       "      <th>snippet_channelId</th>\n",
       "      <th>snippet_channelTitle</th>\n",
       "      <th>snippet_publishedAt</th>\n",
       "      <th>snippet_title</th>\n",
       "      <th>statistics_commentCount</th>\n",
       "      <th>statistics_dislikeCount</th>\n",
       "      <th>statistics_viewCount</th>\n",
       "    </tr>\n",
       "  </thead>\n",
       "  <tbody>\n",
       "    <tr>\n",
       "      <th>0</th>\n",
       "      <td>0</td>\n",
       "      <td>0</td>\n",
       "      <td>0</td>\n",
       "      <td>0</td>\n",
       "      <td>0</td>\n",
       "      <td>0</td>\n",
       "      <td>27</td>\n",
       "      <td>14</td>\n",
       "      <td>0</td>\n",
       "    </tr>\n",
       "  </tbody>\n",
       "</table>\n",
       "</div>"
      ]
     },
     "metadata": {
      "application/vnd.databricks.v1+output": {
       "addedWidgets": {},
       "arguments": {},
       "data": "<div>\n<style scoped>\n    .dataframe tbody tr th:only-of-type {\n        vertical-align: middle;\n    }\n\n    .dataframe tbody tr th {\n        vertical-align: top;\n    }\n\n    .dataframe thead th {\n        text-align: right;\n    }\n</style>\n<table border=\"1\" class=\"dataframe\">\n  <thead>\n    <tr style=\"text-align: right;\">\n      <th></th>\n      <th>contentDetails_duration</th>\n      <th>id</th>\n      <th>snippet_channelId</th>\n      <th>snippet_channelTitle</th>\n      <th>snippet_publishedAt</th>\n      <th>snippet_title</th>\n      <th>statistics_commentCount</th>\n      <th>statistics_dislikeCount</th>\n      <th>statistics_viewCount</th>\n    </tr>\n  </thead>\n  <tbody>\n    <tr>\n      <th>0</th>\n      <td>0</td>\n      <td>0</td>\n      <td>0</td>\n      <td>0</td>\n      <td>0</td>\n      <td>0</td>\n      <td>27</td>\n      <td>14</td>\n      <td>0</td>\n    </tr>\n  </tbody>\n</table>\n</div>",
       "datasetInfos": [],
       "removedWidgets": [],
       "textData": null,
       "type": "htmlSandbox"
      }
     },
     "output_type": "display_data"
    }
   ],
   "source": [
    "# We start by defining a function\n",
    "def count_missing(col_name):\n",
    "  return F.sum(F.col(col_name).isNull().cast('int')).alias(col_name)\n",
    "# then we can apply it to all columns using a list comprehension\n",
    "missing_values = songs.select(*[count_missing(c) for c in songs.columns]).toPandas()\n",
    "missing_values"
   ]
  },
  {
   "cell_type": "markdown",
   "metadata": {
    "application/vnd.databricks.v1+cell": {
     "inputWidgets": {},
     "nuid": "d89d8bf9-8ff0-4b2d-b2d2-9cfc88508dca",
     "showTitle": false,
     "title": ""
    }
   },
   "source": [
    "## Advanced Filters ☕☕\n",
    "\n",
    "Filters can be combined to pass multiple conditions using Python's logical operators (`&`, `|`, `~`) with PySpark's `Column` objects of `BooleanType`.  \n",
    "\n",
    "---\n",
    "- `&`: AND operation `TRUE & FALSE => FALSE`  \n",
    "- `|`: OR operation `TRUE | FALSE => TRUE`\n",
    "- `~`: NOT operation `~(TRUE) => FALSE`"
   ]
  },
  {
   "cell_type": "code",
   "execution_count": null,
   "metadata": {
    "application/vnd.databricks.v1+cell": {
     "inputWidgets": {},
     "nuid": "fcd0d2ee-6cde-4d75-9d49-eecec2c45edc",
     "showTitle": false,
     "title": ""
    }
   },
   "outputs": [
    {
     "data": {
      "text/html": [
       "<style scoped>\n",
       "  .ansiout {\n",
       "    display: block;\n",
       "    unicode-bidi: embed;\n",
       "    white-space: pre-wrap;\n",
       "    word-wrap: break-word;\n",
       "    word-break: break-all;\n",
       "    font-family: \"Source Code Pro\", \"Menlo\", monospace;;\n",
       "    font-size: 13px;\n",
       "    color: #555;\n",
       "    margin-left: 4px;\n",
       "    line-height: 19px;\n",
       "  }\n",
       "</style>\n",
       "<div class=\"ansiout\"></div>"
      ]
     },
     "metadata": {
      "application/vnd.databricks.v1+output": {
       "addedWidgets": {},
       "arguments": {},
       "data": "<div class=\"ansiout\"></div>",
       "datasetInfos": [],
       "removedWidgets": [],
       "type": "html"
      }
     },
     "output_type": "display_data"
    }
   ],
   "source": [
    "# We'll first create a boolean indicating a single youtube channel\n",
    "filter_channelId = (F.col('snippet_channelId') == 'UCudKvbd6gvbm5UCYRk5tZKA')\n",
    "# We'll create a boolean indicating the rows where dislikeCount is missing\n",
    "filter_null_dislikeCount = (F.col('statistics_dislikeCount').isNull())"
   ]
  },
  {
   "cell_type": "code",
   "execution_count": null,
   "metadata": {
    "application/vnd.databricks.v1+cell": {
     "inputWidgets": {},
     "nuid": "8839ed39-5a9f-4568-b1f8-7482a4ddc58c",
     "showTitle": false,
     "title": ""
    }
   },
   "outputs": [
    {
     "data": {
      "text/html": [
       "<style scoped>\n",
       "  .ansiout {\n",
       "    display: block;\n",
       "    unicode-bidi: embed;\n",
       "    white-space: pre-wrap;\n",
       "    word-wrap: break-word;\n",
       "    word-break: break-all;\n",
       "    font-family: \"Source Code Pro\", \"Menlo\", monospace;;\n",
       "    font-size: 13px;\n",
       "    color: #555;\n",
       "    margin-left: 4px;\n",
       "    line-height: 19px;\n",
       "  }\n",
       "</style>\n",
       "<div class=\"ansiout\">Out[21]: 0</div>"
      ]
     },
     "metadata": {
      "application/vnd.databricks.v1+output": {
       "addedWidgets": {},
       "arguments": {},
       "data": "<div class=\"ansiout\">Out[21]: 0</div>",
       "datasetInfos": [],
       "removedWidgets": [],
       "type": "html"
      }
     },
     "output_type": "display_data"
    }
   ],
   "source": [
    "# Let's create a multiple filter which will keep only rows that belong to the \n",
    "# specific channel and have a missing value in the dislikeCount column\n",
    "songs.filter(filter_channelId & filter_null_dislikeCount).count()"
   ]
  },
  {
   "cell_type": "markdown",
   "metadata": {
    "application/vnd.databricks.v1+cell": {
     "inputWidgets": {},
     "nuid": "6638dae7-3457-47ca-aa94-e279f29dee19",
     "showTitle": false,
     "title": ""
    }
   },
   "source": [
    "We will use Python's unary `~` (invert) operator (see [doc](https://docs.python.org/3/reference/expressions.html#unary-arithmetic-and-bitwise-operations))."
   ]
  },
  {
   "cell_type": "code",
   "execution_count": null,
   "metadata": {
    "application/vnd.databricks.v1+cell": {
     "inputWidgets": {},
     "nuid": "151e101e-e4ad-4789-a966-145d772c39e1",
     "showTitle": false,
     "title": ""
    }
   },
   "outputs": [
    {
     "data": {
      "text/html": [
       "<style scoped>\n",
       "  .ansiout {\n",
       "    display: block;\n",
       "    unicode-bidi: embed;\n",
       "    white-space: pre-wrap;\n",
       "    word-wrap: break-word;\n",
       "    word-break: break-all;\n",
       "    font-family: \"Source Code Pro\", \"Menlo\", monospace;;\n",
       "    font-size: 13px;\n",
       "    color: #555;\n",
       "    margin-left: 4px;\n",
       "    line-height: 19px;\n",
       "  }\n",
       "</style>\n",
       "<div class=\"ansiout\">Out[22]: 3853</div>"
      ]
     },
     "metadata": {
      "application/vnd.databricks.v1+output": {
       "addedWidgets": {},
       "arguments": {},
       "data": "<div class=\"ansiout\">Out[22]: 3853</div>",
       "datasetInfos": [],
       "removedWidgets": [],
       "type": "html"
      }
     },
     "output_type": "display_data"
    }
   ],
   "source": [
    "# Let's check how many rows that are not in that specific channel have missing values \n",
    "# for the disike count column\n",
    "songs.filter(~filter_channelId & ~filter_null_dislikeCount).count()"
   ]
  },
  {
   "cell_type": "markdown",
   "metadata": {
    "application/vnd.databricks.v1+cell": {
     "inputWidgets": {},
     "nuid": "ce40bacc-e244-4500-ba12-4f41634dcf46",
     "showTitle": false,
     "title": ""
    }
   },
   "source": [
    "Equivalently we could use another way to perform this filter using: `(NOT(A) and NOT(B)) <=> NOT(A or B)`"
   ]
  },
  {
   "cell_type": "code",
   "execution_count": null,
   "metadata": {
    "application/vnd.databricks.v1+cell": {
     "inputWidgets": {},
     "nuid": "5ce52515-53a0-4e2f-9eb5-e25b2dad6761",
     "showTitle": false,
     "title": ""
    }
   },
   "outputs": [
    {
     "data": {
      "text/html": [
       "<style scoped>\n",
       "  .ansiout {\n",
       "    display: block;\n",
       "    unicode-bidi: embed;\n",
       "    white-space: pre-wrap;\n",
       "    word-wrap: break-word;\n",
       "    word-break: break-all;\n",
       "    font-family: \"Source Code Pro\", \"Menlo\", monospace;;\n",
       "    font-size: 13px;\n",
       "    color: #555;\n",
       "    margin-left: 4px;\n",
       "    line-height: 19px;\n",
       "  }\n",
       "</style>\n",
       "<div class=\"ansiout\">Out[23]: 3853</div>"
      ]
     },
     "metadata": {
      "application/vnd.databricks.v1+output": {
       "addedWidgets": {},
       "arguments": {},
       "data": "<div class=\"ansiout\">Out[23]: 3853</div>",
       "datasetInfos": [],
       "removedWidgets": [],
       "type": "html"
      }
     },
     "output_type": "display_data"
    }
   ],
   "source": [
    "songs.filter(~(filter_channelId | filter_null_dislikeCount)).count()"
   ]
  },
  {
   "cell_type": "markdown",
   "metadata": {
    "application/vnd.databricks.v1+cell": {
     "inputWidgets": {},
     "nuid": "73ecb973-6804-4713-bc26-20adeca77ab8",
     "showTitle": false,
     "title": ""
    }
   },
   "source": [
    "Warning: do not forget parenthesis.\n",
    "When using multiple filters make sure you use parenthesis around each condition separated by logical operators"
   ]
  },
  {
   "cell_type": "code",
   "execution_count": null,
   "metadata": {
    "application/vnd.databricks.v1+cell": {
     "inputWidgets": {},
     "nuid": "89dd4feb-d687-4740-9c5a-6a0b3501ee2d",
     "showTitle": false,
     "title": ""
    }
   },
   "outputs": [
    {
     "data": {
      "text/html": [
       "<style scoped>\n",
       "  .ansiout {\n",
       "    display: block;\n",
       "    unicode-bidi: embed;\n",
       "    white-space: pre-wrap;\n",
       "    word-wrap: break-word;\n",
       "    word-break: break-all;\n",
       "    font-family: \"Source Code Pro\", \"Menlo\", monospace;;\n",
       "    font-size: 13px;\n",
       "    color: #555;\n",
       "    margin-left: 4px;\n",
       "    line-height: 19px;\n",
       "  }\n",
       "</style>\n",
       "<div class=\"ansiout\"></div>"
      ]
     },
     "metadata": {
      "application/vnd.databricks.v1+output": {
       "addedWidgets": {},
       "arguments": {},
       "data": "<div class=\"ansiout\"></div>",
       "datasetInfos": [],
       "removedWidgets": [],
       "type": "html"
      }
     },
     "output_type": "display_data"
    },
    {
     "data": {
      "text/html": [
       "<style scoped>\n",
       "  .ansiout {\n",
       "    display: block;\n",
       "    unicode-bidi: embed;\n",
       "    white-space: pre-wrap;\n",
       "    word-wrap: break-word;\n",
       "    word-break: break-all;\n",
       "    font-family: \"Source Code Pro\", \"Menlo\", monospace;;\n",
       "    font-size: 13px;\n",
       "    color: #555;\n",
       "    margin-left: 4px;\n",
       "    line-height: 19px;\n",
       "  }\n",
       "</style>\n",
       "<div class=\"ansiout\"><span class=\"ansi-red-fg\">---------------------------------------------------------------------------</span>\n",
       "<span class=\"ansi-red-fg\">Py4JError</span>                                 Traceback (most recent call last)\n",
       "<span class=\"ansi-green-fg\">&lt;command-1541387333383921&gt;</span> in <span class=\"ansi-cyan-fg\">&lt;module&gt;</span>\n",
       "<span class=\"ansi-green-intense-fg ansi-bold\">      1</span> <span class=\"ansi-red-fg\"># This example will fail</span>\n",
       "<span class=\"ansi-green-intense-fg ansi-bold\">      2</span> songs<span class=\"ansi-red-fg\"> </span><span class=\"ansi-red-fg\">\\</span>\n",
       "<span class=\"ansi-green-fg\">----&gt; 3</span><span class=\"ansi-red-fg\">   </span><span class=\"ansi-blue-fg\">.</span>filter<span class=\"ansi-blue-fg\">(</span>F<span class=\"ansi-blue-fg\">.</span>col<span class=\"ansi-blue-fg\">(</span><span class=\"ansi-blue-fg\">&#39;snippet_channelID&#39;</span><span class=\"ansi-blue-fg\">)</span> <span class=\"ansi-blue-fg\">==</span> <span class=\"ansi-blue-fg\">&#39;UCudKvbd6gvbm5UCYRk5tZKA&#39;</span> <span class=\"ansi-blue-fg\">&amp;</span> F<span class=\"ansi-blue-fg\">.</span>col<span class=\"ansi-blue-fg\">(</span><span class=\"ansi-blue-fg\">&#39;statistics_dislikeCount&#39;</span><span class=\"ansi-blue-fg\">)</span><span class=\"ansi-blue-fg\">.</span>isNull<span class=\"ansi-blue-fg\">(</span><span class=\"ansi-blue-fg\">)</span><span class=\"ansi-blue-fg\">)</span><span class=\"ansi-red-fg\"> </span><span class=\"ansi-red-fg\">\\</span>\n",
       "<span class=\"ansi-green-intense-fg ansi-bold\">      4</span>   <span class=\"ansi-blue-fg\">.</span>count<span class=\"ansi-blue-fg\">(</span><span class=\"ansi-blue-fg\">)</span>\n",
       "\n",
       "<span class=\"ansi-green-fg\">/databricks/spark/python/pyspark/sql/column.py</span> in <span class=\"ansi-cyan-fg\">_</span><span class=\"ansi-blue-fg\">(self, other)</span>\n",
       "<span class=\"ansi-green-intense-fg ansi-bold\">    110</span>     <span class=\"ansi-green-fg\">def</span> _<span class=\"ansi-blue-fg\">(</span>self<span class=\"ansi-blue-fg\">,</span> other<span class=\"ansi-blue-fg\">)</span><span class=\"ansi-blue-fg\">:</span>\n",
       "<span class=\"ansi-green-intense-fg ansi-bold\">    111</span>         jc <span class=\"ansi-blue-fg\">=</span> other<span class=\"ansi-blue-fg\">.</span>_jc <span class=\"ansi-green-fg\">if</span> isinstance<span class=\"ansi-blue-fg\">(</span>other<span class=\"ansi-blue-fg\">,</span> Column<span class=\"ansi-blue-fg\">)</span> <span class=\"ansi-green-fg\">else</span> other\n",
       "<span class=\"ansi-green-fg\">--&gt; 112</span><span class=\"ansi-red-fg\">         </span>njc <span class=\"ansi-blue-fg\">=</span> getattr<span class=\"ansi-blue-fg\">(</span>self<span class=\"ansi-blue-fg\">.</span>_jc<span class=\"ansi-blue-fg\">,</span> name<span class=\"ansi-blue-fg\">)</span><span class=\"ansi-blue-fg\">(</span>jc<span class=\"ansi-blue-fg\">)</span>\n",
       "<span class=\"ansi-green-intense-fg ansi-bold\">    113</span>         <span class=\"ansi-green-fg\">return</span> Column<span class=\"ansi-blue-fg\">(</span>njc<span class=\"ansi-blue-fg\">)</span>\n",
       "<span class=\"ansi-green-intense-fg ansi-bold\">    114</span>     _<span class=\"ansi-blue-fg\">.</span>__doc__ <span class=\"ansi-blue-fg\">=</span> doc\n",
       "\n",
       "<span class=\"ansi-green-fg\">/databricks/spark/python/lib/py4j-0.10.9-src.zip/py4j/java_gateway.py</span> in <span class=\"ansi-cyan-fg\">__call__</span><span class=\"ansi-blue-fg\">(self, *args)</span>\n",
       "<span class=\"ansi-green-intense-fg ansi-bold\">   1302</span> \n",
       "<span class=\"ansi-green-intense-fg ansi-bold\">   1303</span>         answer <span class=\"ansi-blue-fg\">=</span> self<span class=\"ansi-blue-fg\">.</span>gateway_client<span class=\"ansi-blue-fg\">.</span>send_command<span class=\"ansi-blue-fg\">(</span>command<span class=\"ansi-blue-fg\">)</span>\n",
       "<span class=\"ansi-green-fg\">-&gt; 1304</span><span class=\"ansi-red-fg\">         return_value = get_return_value(\n",
       "</span><span class=\"ansi-green-intense-fg ansi-bold\">   1305</span>             answer, self.gateway_client, self.target_id, self.name)\n",
       "<span class=\"ansi-green-intense-fg ansi-bold\">   1306</span> \n",
       "\n",
       "<span class=\"ansi-green-fg\">/databricks/spark/python/pyspark/sql/utils.py</span> in <span class=\"ansi-cyan-fg\">deco</span><span class=\"ansi-blue-fg\">(*a, **kw)</span>\n",
       "<span class=\"ansi-green-intense-fg ansi-bold\">    108</span>     <span class=\"ansi-green-fg\">def</span> deco<span class=\"ansi-blue-fg\">(</span><span class=\"ansi-blue-fg\">*</span>a<span class=\"ansi-blue-fg\">,</span> <span class=\"ansi-blue-fg\">**</span>kw<span class=\"ansi-blue-fg\">)</span><span class=\"ansi-blue-fg\">:</span>\n",
       "<span class=\"ansi-green-intense-fg ansi-bold\">    109</span>         <span class=\"ansi-green-fg\">try</span><span class=\"ansi-blue-fg\">:</span>\n",
       "<span class=\"ansi-green-fg\">--&gt; 110</span><span class=\"ansi-red-fg\">             </span><span class=\"ansi-green-fg\">return</span> f<span class=\"ansi-blue-fg\">(</span><span class=\"ansi-blue-fg\">*</span>a<span class=\"ansi-blue-fg\">,</span> <span class=\"ansi-blue-fg\">**</span>kw<span class=\"ansi-blue-fg\">)</span>\n",
       "<span class=\"ansi-green-intense-fg ansi-bold\">    111</span>         <span class=\"ansi-green-fg\">except</span> py4j<span class=\"ansi-blue-fg\">.</span>protocol<span class=\"ansi-blue-fg\">.</span>Py4JJavaError <span class=\"ansi-green-fg\">as</span> e<span class=\"ansi-blue-fg\">:</span>\n",
       "<span class=\"ansi-green-intense-fg ansi-bold\">    112</span>             converted <span class=\"ansi-blue-fg\">=</span> convert_exception<span class=\"ansi-blue-fg\">(</span>e<span class=\"ansi-blue-fg\">.</span>java_exception<span class=\"ansi-blue-fg\">)</span>\n",
       "\n",
       "<span class=\"ansi-green-fg\">/databricks/spark/python/lib/py4j-0.10.9-src.zip/py4j/protocol.py</span> in <span class=\"ansi-cyan-fg\">get_return_value</span><span class=\"ansi-blue-fg\">(answer, gateway_client, target_id, name)</span>\n",
       "<span class=\"ansi-green-intense-fg ansi-bold\">    328</span>                     format(target_id, &#34;.&#34;, name), value)\n",
       "<span class=\"ansi-green-intense-fg ansi-bold\">    329</span>             <span class=\"ansi-green-fg\">else</span><span class=\"ansi-blue-fg\">:</span>\n",
       "<span class=\"ansi-green-fg\">--&gt; 330</span><span class=\"ansi-red-fg\">                 raise Py4JError(\n",
       "</span><span class=\"ansi-green-intense-fg ansi-bold\">    331</span>                     <span class=\"ansi-blue-fg\">&#34;An error occurred while calling {0}{1}{2}. Trace:\\n{3}\\n&#34;</span><span class=\"ansi-blue-fg\">.</span>\n",
       "<span class=\"ansi-green-intense-fg ansi-bold\">    332</span>                     format(target_id, &#34;.&#34;, name, value))\n",
       "\n",
       "<span class=\"ansi-red-fg\">Py4JError</span>: An error occurred while calling o831.and. Trace:\n",
       "py4j.Py4JException: Method and([class java.lang.String]) does not exist\n",
       "\tat py4j.reflection.ReflectionEngine.getMethod(ReflectionEngine.java:341)\n",
       "\tat py4j.reflection.ReflectionEngine.getMethod(ReflectionEngine.java:349)\n",
       "\tat py4j.Gateway.invoke(Gateway.java:286)\n",
       "\tat py4j.commands.AbstractCommand.invokeMethod(AbstractCommand.java:132)\n",
       "\tat py4j.commands.CallCommand.execute(CallCommand.java:79)\n",
       "\tat py4j.GatewayConnection.run(GatewayConnection.java:251)\n",
       "\tat java.lang.Thread.run(Thread.java:748)\n",
       "\n",
       "</div>"
      ]
     },
     "metadata": {
      "application/vnd.databricks.v1+output": {
       "arguments": {},
       "data": "<div class=\"ansiout\"><span class=\"ansi-red-fg\">---------------------------------------------------------------------------</span>\n<span class=\"ansi-red-fg\">Py4JError</span>                                 Traceback (most recent call last)\n<span class=\"ansi-green-fg\">&lt;command-1541387333383921&gt;</span> in <span class=\"ansi-cyan-fg\">&lt;module&gt;</span>\n<span class=\"ansi-green-intense-fg ansi-bold\">      1</span> <span class=\"ansi-red-fg\"># This example will fail</span>\n<span class=\"ansi-green-intense-fg ansi-bold\">      2</span> songs<span class=\"ansi-red-fg\"> </span><span class=\"ansi-red-fg\">\\</span>\n<span class=\"ansi-green-fg\">----&gt; 3</span><span class=\"ansi-red-fg\">   </span><span class=\"ansi-blue-fg\">.</span>filter<span class=\"ansi-blue-fg\">(</span>F<span class=\"ansi-blue-fg\">.</span>col<span class=\"ansi-blue-fg\">(</span><span class=\"ansi-blue-fg\">&#39;snippet_channelID&#39;</span><span class=\"ansi-blue-fg\">)</span> <span class=\"ansi-blue-fg\">==</span> <span class=\"ansi-blue-fg\">&#39;UCudKvbd6gvbm5UCYRk5tZKA&#39;</span> <span class=\"ansi-blue-fg\">&amp;</span> F<span class=\"ansi-blue-fg\">.</span>col<span class=\"ansi-blue-fg\">(</span><span class=\"ansi-blue-fg\">&#39;statistics_dislikeCount&#39;</span><span class=\"ansi-blue-fg\">)</span><span class=\"ansi-blue-fg\">.</span>isNull<span class=\"ansi-blue-fg\">(</span><span class=\"ansi-blue-fg\">)</span><span class=\"ansi-blue-fg\">)</span><span class=\"ansi-red-fg\"> </span><span class=\"ansi-red-fg\">\\</span>\n<span class=\"ansi-green-intense-fg ansi-bold\">      4</span>   <span class=\"ansi-blue-fg\">.</span>count<span class=\"ansi-blue-fg\">(</span><span class=\"ansi-blue-fg\">)</span>\n\n<span class=\"ansi-green-fg\">/databricks/spark/python/pyspark/sql/column.py</span> in <span class=\"ansi-cyan-fg\">_</span><span class=\"ansi-blue-fg\">(self, other)</span>\n<span class=\"ansi-green-intense-fg ansi-bold\">    110</span>     <span class=\"ansi-green-fg\">def</span> _<span class=\"ansi-blue-fg\">(</span>self<span class=\"ansi-blue-fg\">,</span> other<span class=\"ansi-blue-fg\">)</span><span class=\"ansi-blue-fg\">:</span>\n<span class=\"ansi-green-intense-fg ansi-bold\">    111</span>         jc <span class=\"ansi-blue-fg\">=</span> other<span class=\"ansi-blue-fg\">.</span>_jc <span class=\"ansi-green-fg\">if</span> isinstance<span class=\"ansi-blue-fg\">(</span>other<span class=\"ansi-blue-fg\">,</span> Column<span class=\"ansi-blue-fg\">)</span> <span class=\"ansi-green-fg\">else</span> other\n<span class=\"ansi-green-fg\">--&gt; 112</span><span class=\"ansi-red-fg\">         </span>njc <span class=\"ansi-blue-fg\">=</span> getattr<span class=\"ansi-blue-fg\">(</span>self<span class=\"ansi-blue-fg\">.</span>_jc<span class=\"ansi-blue-fg\">,</span> name<span class=\"ansi-blue-fg\">)</span><span class=\"ansi-blue-fg\">(</span>jc<span class=\"ansi-blue-fg\">)</span>\n<span class=\"ansi-green-intense-fg ansi-bold\">    113</span>         <span class=\"ansi-green-fg\">return</span> Column<span class=\"ansi-blue-fg\">(</span>njc<span class=\"ansi-blue-fg\">)</span>\n<span class=\"ansi-green-intense-fg ansi-bold\">    114</span>     _<span class=\"ansi-blue-fg\">.</span>__doc__ <span class=\"ansi-blue-fg\">=</span> doc\n\n<span class=\"ansi-green-fg\">/databricks/spark/python/lib/py4j-0.10.9-src.zip/py4j/java_gateway.py</span> in <span class=\"ansi-cyan-fg\">__call__</span><span class=\"ansi-blue-fg\">(self, *args)</span>\n<span class=\"ansi-green-intense-fg ansi-bold\">   1302</span> \n<span class=\"ansi-green-intense-fg ansi-bold\">   1303</span>         answer <span class=\"ansi-blue-fg\">=</span> self<span class=\"ansi-blue-fg\">.</span>gateway_client<span class=\"ansi-blue-fg\">.</span>send_command<span class=\"ansi-blue-fg\">(</span>command<span class=\"ansi-blue-fg\">)</span>\n<span class=\"ansi-green-fg\">-&gt; 1304</span><span class=\"ansi-red-fg\">         return_value = get_return_value(\n</span><span class=\"ansi-green-intense-fg ansi-bold\">   1305</span>             answer, self.gateway_client, self.target_id, self.name)\n<span class=\"ansi-green-intense-fg ansi-bold\">   1306</span> \n\n<span class=\"ansi-green-fg\">/databricks/spark/python/pyspark/sql/utils.py</span> in <span class=\"ansi-cyan-fg\">deco</span><span class=\"ansi-blue-fg\">(*a, **kw)</span>\n<span class=\"ansi-green-intense-fg ansi-bold\">    108</span>     <span class=\"ansi-green-fg\">def</span> deco<span class=\"ansi-blue-fg\">(</span><span class=\"ansi-blue-fg\">*</span>a<span class=\"ansi-blue-fg\">,</span> <span class=\"ansi-blue-fg\">**</span>kw<span class=\"ansi-blue-fg\">)</span><span class=\"ansi-blue-fg\">:</span>\n<span class=\"ansi-green-intense-fg ansi-bold\">    109</span>         <span class=\"ansi-green-fg\">try</span><span class=\"ansi-blue-fg\">:</span>\n<span class=\"ansi-green-fg\">--&gt; 110</span><span class=\"ansi-red-fg\">             </span><span class=\"ansi-green-fg\">return</span> f<span class=\"ansi-blue-fg\">(</span><span class=\"ansi-blue-fg\">*</span>a<span class=\"ansi-blue-fg\">,</span> <span class=\"ansi-blue-fg\">**</span>kw<span class=\"ansi-blue-fg\">)</span>\n<span class=\"ansi-green-intense-fg ansi-bold\">    111</span>         <span class=\"ansi-green-fg\">except</span> py4j<span class=\"ansi-blue-fg\">.</span>protocol<span class=\"ansi-blue-fg\">.</span>Py4JJavaError <span class=\"ansi-green-fg\">as</span> e<span class=\"ansi-blue-fg\">:</span>\n<span class=\"ansi-green-intense-fg ansi-bold\">    112</span>             converted <span class=\"ansi-blue-fg\">=</span> convert_exception<span class=\"ansi-blue-fg\">(</span>e<span class=\"ansi-blue-fg\">.</span>java_exception<span class=\"ansi-blue-fg\">)</span>\n\n<span class=\"ansi-green-fg\">/databricks/spark/python/lib/py4j-0.10.9-src.zip/py4j/protocol.py</span> in <span class=\"ansi-cyan-fg\">get_return_value</span><span class=\"ansi-blue-fg\">(answer, gateway_client, target_id, name)</span>\n<span class=\"ansi-green-intense-fg ansi-bold\">    328</span>                     format(target_id, &#34;.&#34;, name), value)\n<span class=\"ansi-green-intense-fg ansi-bold\">    329</span>             <span class=\"ansi-green-fg\">else</span><span class=\"ansi-blue-fg\">:</span>\n<span class=\"ansi-green-fg\">--&gt; 330</span><span class=\"ansi-red-fg\">                 raise Py4JError(\n</span><span class=\"ansi-green-intense-fg ansi-bold\">    331</span>                     <span class=\"ansi-blue-fg\">&#34;An error occurred while calling {0}{1}{2}. Trace:\\n{3}\\n&#34;</span><span class=\"ansi-blue-fg\">.</span>\n<span class=\"ansi-green-intense-fg ansi-bold\">    332</span>                     format(target_id, &#34;.&#34;, name, value))\n\n<span class=\"ansi-red-fg\">Py4JError</span>: An error occurred while calling o831.and. Trace:\npy4j.Py4JException: Method and([class java.lang.String]) does not exist\n\tat py4j.reflection.ReflectionEngine.getMethod(ReflectionEngine.java:341)\n\tat py4j.reflection.ReflectionEngine.getMethod(ReflectionEngine.java:349)\n\tat py4j.Gateway.invoke(Gateway.java:286)\n\tat py4j.commands.AbstractCommand.invokeMethod(AbstractCommand.java:132)\n\tat py4j.commands.CallCommand.execute(CallCommand.java:79)\n\tat py4j.GatewayConnection.run(GatewayConnection.java:251)\n\tat java.lang.Thread.run(Thread.java:748)\n\n</div>",
       "errorSummary": "py4j.Py4JException: Method and([class java.lang.String]) does not exist",
       "type": "ipynbError"
      }
     },
     "output_type": "display_data"
    }
   ],
   "source": [
    "# This example will fail\n",
    "# because we did not use parethesis and we did not create objects containing the boolean conditions\n",
    "# beforehand like we did in the previous example\n",
    "songs \\\n",
    "  .filter(F.col('snippet_channelID') == 'UCudKvbd6gvbm5UCYRk5tZKA' & F.col('statistics_dislikeCount').isNull()) \\\n",
    "  .count()"
   ]
  },
  {
   "cell_type": "code",
   "execution_count": null,
   "metadata": {
    "application/vnd.databricks.v1+cell": {
     "inputWidgets": {},
     "nuid": "d8dcf240-5293-4c81-9640-95d24347c325",
     "showTitle": false,
     "title": ""
    }
   },
   "outputs": [
    {
     "data": {
      "text/html": [
       "<style scoped>\n",
       "  .ansiout {\n",
       "    display: block;\n",
       "    unicode-bidi: embed;\n",
       "    white-space: pre-wrap;\n",
       "    word-wrap: break-word;\n",
       "    word-break: break-all;\n",
       "    font-family: \"Source Code Pro\", \"Menlo\", monospace;;\n",
       "    font-size: 13px;\n",
       "    color: #555;\n",
       "    margin-left: 4px;\n",
       "    line-height: 19px;\n",
       "  }\n",
       "</style>\n",
       "<div class=\"ansiout\">Out[25]: 0</div>"
      ]
     },
     "metadata": {
      "application/vnd.databricks.v1+output": {
       "addedWidgets": {},
       "arguments": {},
       "data": "<div class=\"ansiout\">Out[25]: 0</div>",
       "datasetInfos": [],
       "removedWidgets": [],
       "type": "html"
      }
     },
     "output_type": "display_data"
    }
   ],
   "source": [
    "# This will work because the two conditions are made identifiable thanks to the parenthesis\n",
    "songs \\\n",
    "  .filter((F.col('snippet_channelID') == 'UCudKvbd6gvbm5UCYRk5tZKA') & (F.col('statistics_dislikeCount').isNull())) \\\n",
    "  .count()"
   ]
  },
  {
   "cell_type": "markdown",
   "metadata": {
    "application/vnd.databricks.v1+cell": {
     "inputWidgets": {},
     "nuid": "fe32113e-c8f5-4cf8-8e72-b3d9ea74d708",
     "showTitle": false,
     "title": ""
    }
   },
   "source": [
    "## Conditionals ✔️❌"
   ]
  },
  {
   "cell_type": "markdown",
   "metadata": {
    "application/vnd.databricks.v1+cell": {
     "inputWidgets": {},
     "nuid": "1898c6c9-9151-4b9b-a33e-7cdbb4faeaee",
     "showTitle": false,
     "title": ""
    }
   },
   "source": [
    "### `.isin(...)`\n",
    "\n",
    "If we wish to filter all elements that belong to a list of values, it is possible to do so using the `.isin` method instead of combining several conditions with the or operator."
   ]
  },
  {
   "cell_type": "code",
   "execution_count": null,
   "metadata": {
    "application/vnd.databricks.v1+cell": {
     "inputWidgets": {},
     "nuid": "834c0167-76e2-452b-9508-123c4fd203ef",
     "showTitle": false,
     "title": ""
    }
   },
   "outputs": [
    {
     "data": {
      "text/html": [
       "<style scoped>\n",
       "  .ansiout {\n",
       "    display: block;\n",
       "    unicode-bidi: embed;\n",
       "    white-space: pre-wrap;\n",
       "    word-wrap: break-word;\n",
       "    word-break: break-all;\n",
       "    font-family: \"Source Code Pro\", \"Menlo\", monospace;;\n",
       "    font-size: 13px;\n",
       "    color: #555;\n",
       "    margin-left: 4px;\n",
       "    line-height: 19px;\n",
       "  }\n",
       "</style>\n",
       "<div class=\"ansiout\">Out[39]: </div>"
      ]
     },
     "metadata": {
      "application/vnd.databricks.v1+output": {
       "addedWidgets": {},
       "arguments": {},
       "data": "<div class=\"ansiout\">Out[39]: </div>",
       "datasetInfos": [],
       "removedWidgets": [],
       "type": "html"
      }
     },
     "output_type": "display_data"
    },
    {
     "data": {
      "text/html": [
       "<div>\n",
       "<style scoped>\n",
       "    .dataframe tbody tr th:only-of-type {\n",
       "        vertical-align: middle;\n",
       "    }\n",
       "\n",
       "    .dataframe tbody tr th {\n",
       "        vertical-align: top;\n",
       "    }\n",
       "\n",
       "    .dataframe thead th {\n",
       "        text-align: right;\n",
       "    }\n",
       "</style>\n",
       "<table border=\"1\" class=\"dataframe\">\n",
       "  <thead>\n",
       "    <tr style=\"text-align: right;\">\n",
       "      <th></th>\n",
       "      <th>snippet_channelID</th>\n",
       "    </tr>\n",
       "  </thead>\n",
       "  <tbody>\n",
       "    <tr>\n",
       "      <th>0</th>\n",
       "      <td>UC20vb-R_px4CguHzzBPhoyQ</td>\n",
       "    </tr>\n",
       "    <tr>\n",
       "      <th>1</th>\n",
       "      <td>UCQ5kHOKpF3-1_UCKaqXARRg</td>\n",
       "    </tr>\n",
       "    <tr>\n",
       "      <th>2</th>\n",
       "      <td>UC1SqP7_RfOC9Jf9L_GRHANg</td>\n",
       "    </tr>\n",
       "    <tr>\n",
       "      <th>3</th>\n",
       "      <td>UCFHtCB_FWXQ8GpjgfYcD8-g</td>\n",
       "    </tr>\n",
       "    <tr>\n",
       "      <th>4</th>\n",
       "      <td>UCXYRdIXDdeZIf816EWAr5zQ</td>\n",
       "    </tr>\n",
       "  </tbody>\n",
       "</table>\n",
       "</div>"
      ]
     },
     "metadata": {
      "application/vnd.databricks.v1+output": {
       "addedWidgets": {},
       "arguments": {},
       "data": "<div>\n<style scoped>\n    .dataframe tbody tr th:only-of-type {\n        vertical-align: middle;\n    }\n\n    .dataframe tbody tr th {\n        vertical-align: top;\n    }\n\n    .dataframe thead th {\n        text-align: right;\n    }\n</style>\n<table border=\"1\" class=\"dataframe\">\n  <thead>\n    <tr style=\"text-align: right;\">\n      <th></th>\n      <th>snippet_channelID</th>\n    </tr>\n  </thead>\n  <tbody>\n    <tr>\n      <th>0</th>\n      <td>UC20vb-R_px4CguHzzBPhoyQ</td>\n    </tr>\n    <tr>\n      <th>1</th>\n      <td>UCQ5kHOKpF3-1_UCKaqXARRg</td>\n    </tr>\n    <tr>\n      <th>2</th>\n      <td>UC1SqP7_RfOC9Jf9L_GRHANg</td>\n    </tr>\n    <tr>\n      <th>3</th>\n      <td>UCFHtCB_FWXQ8GpjgfYcD8-g</td>\n    </tr>\n    <tr>\n      <th>4</th>\n      <td>UCXYRdIXDdeZIf816EWAr5zQ</td>\n    </tr>\n  </tbody>\n</table>\n</div>",
       "datasetInfos": [],
       "removedWidgets": [],
       "textData": null,
       "type": "htmlSandbox"
      }
     },
     "output_type": "display_data"
    }
   ],
   "source": [
    "top_channels = songs.groupBy(\"snippet_channelID\").agg(F.sum(F.col(\"statistics_viewCount\")).alias(\"channel_viewCount\"))\\\n",
    "  .orderBy(F.desc(F.col(\"channel_viewCount\"))).limit(5).select(\"snippet_channelID\").toPandas()\n",
    "top_channels"
   ]
  },
  {
   "cell_type": "code",
   "execution_count": null,
   "metadata": {
    "application/vnd.databricks.v1+cell": {
     "inputWidgets": {},
     "nuid": "090c3289-a1b5-47f8-aa87-1786c94b9489",
     "showTitle": false,
     "title": ""
    }
   },
   "outputs": [
    {
     "data": {
      "text/html": [
       "<style scoped>\n",
       "  .ansiout {\n",
       "    display: block;\n",
       "    unicode-bidi: embed;\n",
       "    white-space: pre-wrap;\n",
       "    word-wrap: break-word;\n",
       "    word-break: break-all;\n",
       "    font-family: \"Source Code Pro\", \"Menlo\", monospace;;\n",
       "    font-size: 13px;\n",
       "    color: #555;\n",
       "    margin-left: 4px;\n",
       "    line-height: 19px;\n",
       "  }\n",
       "</style>\n",
       "<div class=\"ansiout\">Out[43]: 14</div>"
      ]
     },
     "metadata": {
      "application/vnd.databricks.v1+output": {
       "addedWidgets": {},
       "arguments": {},
       "data": "<div class=\"ansiout\">Out[43]: 14</div>",
       "datasetInfos": [],
       "removedWidgets": [],
       "type": "html"
      }
     },
     "output_type": "display_data"
    }
   ],
   "source": [
    "songs.filter(F.col('snippet_channelID').isin(top_channels[\"snippet_channelID\"].to_list())).count()"
   ]
  },
  {
   "cell_type": "markdown",
   "metadata": {
    "application/vnd.databricks.v1+cell": {
     "inputWidgets": {},
     "nuid": "64d6e319-27e3-416c-b443-27164d605966",
     "showTitle": false,
     "title": ""
    }
   },
   "source": [
    "### `.when()`\n",
    "It is possible to create a variable that has different values according to boolean condition!"
   ]
  },
  {
   "cell_type": "code",
   "execution_count": null,
   "metadata": {
    "application/vnd.databricks.v1+cell": {
     "inputWidgets": {},
     "nuid": "5f2ae01e-9084-46f6-b87b-983bd5eb75e1",
     "showTitle": false,
     "title": ""
    }
   },
   "outputs": [
    {
     "data": {
      "text/html": [
       "<style scoped>\n",
       "  .ansiout {\n",
       "    display: block;\n",
       "    unicode-bidi: embed;\n",
       "    white-space: pre-wrap;\n",
       "    word-wrap: break-word;\n",
       "    word-break: break-all;\n",
       "    font-family: \"Source Code Pro\", \"Menlo\", monospace;;\n",
       "    font-size: 13px;\n",
       "    color: #555;\n",
       "    margin-left: 4px;\n",
       "    line-height: 19px;\n",
       "  }\n",
       "</style>\n",
       "<div class=\"ansiout\">Out[52]: </div>"
      ]
     },
     "metadata": {
      "application/vnd.databricks.v1+output": {
       "addedWidgets": {},
       "arguments": {},
       "data": "<div class=\"ansiout\">Out[52]: </div>",
       "datasetInfos": [],
       "removedWidgets": [],
       "type": "html"
      }
     },
     "output_type": "display_data"
    },
    {
     "data": {
      "text/html": [
       "<div>\n",
       "<style scoped>\n",
       "    .dataframe tbody tr th:only-of-type {\n",
       "        vertical-align: middle;\n",
       "    }\n",
       "\n",
       "    .dataframe tbody tr th {\n",
       "        vertical-align: top;\n",
       "    }\n",
       "\n",
       "    .dataframe thead th {\n",
       "        text-align: right;\n",
       "    }\n",
       "</style>\n",
       "<table border=\"1\" class=\"dataframe\">\n",
       "  <thead>\n",
       "    <tr style=\"text-align: right;\">\n",
       "      <th></th>\n",
       "      <th>contentDetails_duration</th>\n",
       "      <th>id</th>\n",
       "      <th>snippet_channelId</th>\n",
       "      <th>snippet_channelTitle</th>\n",
       "      <th>snippet_publishedAt</th>\n",
       "      <th>snippet_title</th>\n",
       "      <th>statistics_commentCount</th>\n",
       "      <th>statistics_dislikeCount</th>\n",
       "      <th>statistics_viewCount</th>\n",
       "      <th>ispopularitem</th>\n",
       "    </tr>\n",
       "  </thead>\n",
       "  <tbody>\n",
       "    <tr>\n",
       "      <th>0</th>\n",
       "      <td>PT7M4S</td>\n",
       "      <td>2zNSgSzhBfM</td>\n",
       "      <td>UCXYRdIXDdeZIf816EWAr5zQ</td>\n",
       "      <td>Macklemore LLC</td>\n",
       "      <td>2013-04-17T16:00:22Z</td>\n",
       "      <td>MACKLEMORE &amp; RYAN LEWIS - CAN'T HOLD US FEAT. ...</td>\n",
       "      <td>219774</td>\n",
       "      <td>137905</td>\n",
       "      <td>810998980</td>\n",
       "      <td>True</td>\n",
       "    </tr>\n",
       "    <tr>\n",
       "      <th>1</th>\n",
       "      <td>PT3M53S</td>\n",
       "      <td>QK8mJJJvaes</td>\n",
       "      <td>UCXYRdIXDdeZIf816EWAr5zQ</td>\n",
       "      <td>Macklemore LLC</td>\n",
       "      <td>2012-08-29T15:53:50Z</td>\n",
       "      <td>MACKLEMORE &amp; RYAN LEWIS - THRIFT SHOP FEAT. WA...</td>\n",
       "      <td>479401</td>\n",
       "      <td>331818</td>\n",
       "      <td>1477980957</td>\n",
       "      <td>True</td>\n",
       "    </tr>\n",
       "    <tr>\n",
       "      <th>2</th>\n",
       "      <td>PT6M10S</td>\n",
       "      <td>XbGs_qK2PQA</td>\n",
       "      <td>UC20vb-R_px4CguHzzBPhoyQ</td>\n",
       "      <td>EminemVEVO</td>\n",
       "      <td>2013-11-27T16:50:00Z</td>\n",
       "      <td>Eminem - Rap God (Explicit) [Official Video]</td>\n",
       "      <td>1057699</td>\n",
       "      <td>437215</td>\n",
       "      <td>1108231339</td>\n",
       "      <td>True</td>\n",
       "    </tr>\n",
       "    <tr>\n",
       "      <th>3</th>\n",
       "      <td>PT4M19S</td>\n",
       "      <td>YxIiPLVR6NA</td>\n",
       "      <td>UC1SqP7_RfOC9Jf9L_GRHANg</td>\n",
       "      <td>AviciiOfficialVEVO</td>\n",
       "      <td>2013-11-01T13:00:05Z</td>\n",
       "      <td>Avicii - Hey Brother (Lyric)</td>\n",
       "      <td>155842</td>\n",
       "      <td>92330</td>\n",
       "      <td>509219309</td>\n",
       "      <td>True</td>\n",
       "    </tr>\n",
       "    <tr>\n",
       "      <th>4</th>\n",
       "      <td>PT4M44S</td>\n",
       "      <td>hT_nvWreIhg</td>\n",
       "      <td>UCQ5kHOKpF3-1_UCKaqXARRg</td>\n",
       "      <td>OneRepublicVEVO</td>\n",
       "      <td>2013-05-31T07:00:36Z</td>\n",
       "      <td>OneRepublic - Counting Stars (Official Music V...</td>\n",
       "      <td>389981</td>\n",
       "      <td>397557</td>\n",
       "      <td>3058853981</td>\n",
       "      <td>True</td>\n",
       "    </tr>\n",
       "    <tr>\n",
       "      <th>5</th>\n",
       "      <td>PT4M15S</td>\n",
       "      <td>RBumgq5yVrA</td>\n",
       "      <td>UCFHtCB_FWXQ8GpjgfYcD8-g</td>\n",
       "      <td>Passenger</td>\n",
       "      <td>2012-07-25T22:28:26Z</td>\n",
       "      <td>Passenger | Let Her Go (Official Video)</td>\n",
       "      <td>369022</td>\n",
       "      <td>353323</td>\n",
       "      <td>2789082191</td>\n",
       "      <td>True</td>\n",
       "    </tr>\n",
       "    <tr>\n",
       "      <th>6</th>\n",
       "      <td>PT4M33S</td>\n",
       "      <td>IcrbM1l_BoI</td>\n",
       "      <td>UC1SqP7_RfOC9Jf9L_GRHANg</td>\n",
       "      <td>AviciiOfficialVEVO</td>\n",
       "      <td>2013-07-29T15:55:09Z</td>\n",
       "      <td>Avicii - Wake Me Up (Official Video)</td>\n",
       "      <td>581275</td>\n",
       "      <td>280081</td>\n",
       "      <td>1963215194</td>\n",
       "      <td>True</td>\n",
       "    </tr>\n",
       "    <tr>\n",
       "      <th>7</th>\n",
       "      <td>PT4M20S</td>\n",
       "      <td>ab9176Srb5Y</td>\n",
       "      <td>UC20vb-R_px4CguHzzBPhoyQ</td>\n",
       "      <td>EminemVEVO</td>\n",
       "      <td>2013-09-09T15:40:00Z</td>\n",
       "      <td>Eminem - Berzerk (Official Music Video) (Expli...</td>\n",
       "      <td>173640</td>\n",
       "      <td>66182</td>\n",
       "      <td>249341895</td>\n",
       "      <td>True</td>\n",
       "    </tr>\n",
       "    <tr>\n",
       "      <th>8</th>\n",
       "      <td>PT4M</td>\n",
       "      <td>Wb5VOQexMBU</td>\n",
       "      <td>UC1SqP7_RfOC9Jf9L_GRHANg</td>\n",
       "      <td>AviciiOfficialVEVO</td>\n",
       "      <td>2013-08-30T13:00:41Z</td>\n",
       "      <td>Avicii - You Make Me</td>\n",
       "      <td>18398</td>\n",
       "      <td>10920</td>\n",
       "      <td>73376915</td>\n",
       "      <td>True</td>\n",
       "    </tr>\n",
       "    <tr>\n",
       "      <th>9</th>\n",
       "      <td>PT4M27S</td>\n",
       "      <td>uelHwf8o7_U</td>\n",
       "      <td>UC20vb-R_px4CguHzzBPhoyQ</td>\n",
       "      <td>EminemVEVO</td>\n",
       "      <td>2010-08-05T19:09:46Z</td>\n",
       "      <td>Eminem - Love The Way You Lie ft. Rihanna</td>\n",
       "      <td>547709</td>\n",
       "      <td>336798</td>\n",
       "      <td>2064352955</td>\n",
       "      <td>True</td>\n",
       "    </tr>\n",
       "    <tr>\n",
       "      <th>10</th>\n",
       "      <td>PT5M19S</td>\n",
       "      <td>EHkozMIXZ8w</td>\n",
       "      <td>UC20vb-R_px4CguHzzBPhoyQ</td>\n",
       "      <td>EminemVEVO</td>\n",
       "      <td>2013-12-17T00:50:00Z</td>\n",
       "      <td>Eminem ft. Rihanna - The Monster (Explicit) [O...</td>\n",
       "      <td>146163</td>\n",
       "      <td>134695</td>\n",
       "      <td>724377559</td>\n",
       "      <td>True</td>\n",
       "    </tr>\n",
       "    <tr>\n",
       "      <th>11</th>\n",
       "      <td>PT7M4S</td>\n",
       "      <td>hlVBg7_08n0</td>\n",
       "      <td>UCXYRdIXDdeZIf816EWAr5zQ</td>\n",
       "      <td>Macklemore LLC</td>\n",
       "      <td>2012-10-02T19:18:47Z</td>\n",
       "      <td>MACKLEMORE &amp; RYAN LEWIS - SAME LOVE feat. MARY...</td>\n",
       "      <td>369535</td>\n",
       "      <td>86780</td>\n",
       "      <td>252792552</td>\n",
       "      <td>True</td>\n",
       "    </tr>\n",
       "    <tr>\n",
       "      <th>12</th>\n",
       "      <td>PT4M12S</td>\n",
       "      <td>5y_KJAg8bHI</td>\n",
       "      <td>UC1SqP7_RfOC9Jf9L_GRHANg</td>\n",
       "      <td>AviciiOfficialVEVO</td>\n",
       "      <td>2013-06-28T19:09:38Z</td>\n",
       "      <td>Avicii - Wake Me Up (Lyric Video)</td>\n",
       "      <td>105658</td>\n",
       "      <td>53952</td>\n",
       "      <td>335418742</td>\n",
       "      <td>True</td>\n",
       "    </tr>\n",
       "    <tr>\n",
       "      <th>13</th>\n",
       "      <td>PT4M9S</td>\n",
       "      <td>359na4NeaVA</td>\n",
       "      <td>UC20vb-R_px4CguHzzBPhoyQ</td>\n",
       "      <td>EminemVEVO</td>\n",
       "      <td>2013-08-27T04:20:31Z</td>\n",
       "      <td>Eminem - Berzerk (Official Audio)</td>\n",
       "      <td>79195</td>\n",
       "      <td>19475</td>\n",
       "      <td>35244992</td>\n",
       "      <td>True</td>\n",
       "    </tr>\n",
       "    <tr>\n",
       "      <th>14</th>\n",
       "      <td>PT3M33S</td>\n",
       "      <td>t1l8Z6gLPzo</td>\n",
       "      <td>UCUERSOitwgUq_37kGslN96w</td>\n",
       "      <td>VOLO</td>\n",
       "      <td>2013-07-22T12:09:11Z</td>\n",
       "      <td>VOLO. \"L'air d'un con\"</td>\n",
       "      <td>38</td>\n",
       "      <td>26</td>\n",
       "      <td>223172</td>\n",
       "      <td>False</td>\n",
       "    </tr>\n",
       "    <tr>\n",
       "      <th>15</th>\n",
       "      <td>PT7M46S</td>\n",
       "      <td>we5gzZq5Avg</td>\n",
       "      <td>UCson549gpvRhPnJ3Whs5onA</td>\n",
       "      <td>LongWayToDream</td>\n",
       "      <td>2012-03-17T08:34:30Z</td>\n",
       "      <td>Julian Jeweil - Air Conditionné</td>\n",
       "      <td>2</td>\n",
       "      <td>3</td>\n",
       "      <td>13409</td>\n",
       "      <td>False</td>\n",
       "    </tr>\n",
       "    <tr>\n",
       "      <th>16</th>\n",
       "      <td>PT3M7S</td>\n",
       "      <td>49esza4eiK4</td>\n",
       "      <td>UCcHYZ8Ez4gG_2bHEuBL8IfQ</td>\n",
       "      <td>Downtown Records</td>\n",
       "      <td>2007-09-08T02:02:07Z</td>\n",
       "      <td>Justice - D.A.N.C.E</td>\n",
       "      <td>3168</td>\n",
       "      <td>780</td>\n",
       "      <td>10106655</td>\n",
       "      <td>False</td>\n",
       "    </tr>\n",
       "    <tr>\n",
       "      <th>17</th>\n",
       "      <td>PT3M43S</td>\n",
       "      <td>BoO6LfR7ca0</td>\n",
       "      <td>UCQ0wLCF7u23gZKJkHFs1Tpg</td>\n",
       "      <td>Music Is Our Drug</td>\n",
       "      <td>2014-01-24T12:52:38Z</td>\n",
       "      <td>Gramatik - Torture (feat. Eric Krasno)</td>\n",
       "      <td>6</td>\n",
       "      <td>0</td>\n",
       "      <td>29153</td>\n",
       "      <td>False</td>\n",
       "    </tr>\n",
       "    <tr>\n",
       "      <th>18</th>\n",
       "      <td>PT5M</td>\n",
       "      <td>DaH4W1rY9us</td>\n",
       "      <td>UCJsTMPZxYD-Q3kEmL4Qijpg</td>\n",
       "      <td>Harvey Pearson</td>\n",
       "      <td>2012-12-02T12:41:13Z</td>\n",
       "      <td>Ben Howard - Oats In The Water</td>\n",
       "      <td>5303</td>\n",
       "      <td>1784</td>\n",
       "      <td>16488714</td>\n",
       "      <td>False</td>\n",
       "    </tr>\n",
       "    <tr>\n",
       "      <th>19</th>\n",
       "      <td>PT10M16S</td>\n",
       "      <td>PAAUqBghiVo</td>\n",
       "      <td>UCDHvlud7Hf86FxFsogrBcMg</td>\n",
       "      <td>Resident Advisor</td>\n",
       "      <td>2013-10-15T09:30:25Z</td>\n",
       "      <td>RA Sessions: DARKSIDE - Paper Trails</td>\n",
       "      <td>883</td>\n",
       "      <td>445</td>\n",
       "      <td>3381880</td>\n",
       "      <td>False</td>\n",
       "    </tr>\n",
       "  </tbody>\n",
       "</table>\n",
       "</div>"
      ]
     },
     "metadata": {
      "application/vnd.databricks.v1+output": {
       "addedWidgets": {},
       "arguments": {},
       "data": "<div>\n<style scoped>\n    .dataframe tbody tr th:only-of-type {\n        vertical-align: middle;\n    }\n\n    .dataframe tbody tr th {\n        vertical-align: top;\n    }\n\n    .dataframe thead th {\n        text-align: right;\n    }\n</style>\n<table border=\"1\" class=\"dataframe\">\n  <thead>\n    <tr style=\"text-align: right;\">\n      <th></th>\n      <th>contentDetails_duration</th>\n      <th>id</th>\n      <th>snippet_channelId</th>\n      <th>snippet_channelTitle</th>\n      <th>snippet_publishedAt</th>\n      <th>snippet_title</th>\n      <th>statistics_commentCount</th>\n      <th>statistics_dislikeCount</th>\n      <th>statistics_viewCount</th>\n      <th>ispopularitem</th>\n    </tr>\n  </thead>\n  <tbody>\n    <tr>\n      <th>0</th>\n      <td>PT7M4S</td>\n      <td>2zNSgSzhBfM</td>\n      <td>UCXYRdIXDdeZIf816EWAr5zQ</td>\n      <td>Macklemore LLC</td>\n      <td>2013-04-17T16:00:22Z</td>\n      <td>MACKLEMORE &amp; RYAN LEWIS - CAN'T HOLD US FEAT. ...</td>\n      <td>219774</td>\n      <td>137905</td>\n      <td>810998980</td>\n      <td>True</td>\n    </tr>\n    <tr>\n      <th>1</th>\n      <td>PT3M53S</td>\n      <td>QK8mJJJvaes</td>\n      <td>UCXYRdIXDdeZIf816EWAr5zQ</td>\n      <td>Macklemore LLC</td>\n      <td>2012-08-29T15:53:50Z</td>\n      <td>MACKLEMORE &amp; RYAN LEWIS - THRIFT SHOP FEAT. WA...</td>\n      <td>479401</td>\n      <td>331818</td>\n      <td>1477980957</td>\n      <td>True</td>\n    </tr>\n    <tr>\n      <th>2</th>\n      <td>PT6M10S</td>\n      <td>XbGs_qK2PQA</td>\n      <td>UC20vb-R_px4CguHzzBPhoyQ</td>\n      <td>EminemVEVO</td>\n      <td>2013-11-27T16:50:00Z</td>\n      <td>Eminem - Rap God (Explicit) [Official Video]</td>\n      <td>1057699</td>\n      <td>437215</td>\n      <td>1108231339</td>\n      <td>True</td>\n    </tr>\n    <tr>\n      <th>3</th>\n      <td>PT4M19S</td>\n      <td>YxIiPLVR6NA</td>\n      <td>UC1SqP7_RfOC9Jf9L_GRHANg</td>\n      <td>AviciiOfficialVEVO</td>\n      <td>2013-11-01T13:00:05Z</td>\n      <td>Avicii - Hey Brother (Lyric)</td>\n      <td>155842</td>\n      <td>92330</td>\n      <td>509219309</td>\n      <td>True</td>\n    </tr>\n    <tr>\n      <th>4</th>\n      <td>PT4M44S</td>\n      <td>hT_nvWreIhg</td>\n      <td>UCQ5kHOKpF3-1_UCKaqXARRg</td>\n      <td>OneRepublicVEVO</td>\n      <td>2013-05-31T07:00:36Z</td>\n      <td>OneRepublic - Counting Stars (Official Music V...</td>\n      <td>389981</td>\n      <td>397557</td>\n      <td>3058853981</td>\n      <td>True</td>\n    </tr>\n    <tr>\n      <th>5</th>\n      <td>PT4M15S</td>\n      <td>RBumgq5yVrA</td>\n      <td>UCFHtCB_FWXQ8GpjgfYcD8-g</td>\n      <td>Passenger</td>\n      <td>2012-07-25T22:28:26Z</td>\n      <td>Passenger | Let Her Go (Official Video)</td>\n      <td>369022</td>\n      <td>353323</td>\n      <td>2789082191</td>\n      <td>True</td>\n    </tr>\n    <tr>\n      <th>6</th>\n      <td>PT4M33S</td>\n      <td>IcrbM1l_BoI</td>\n      <td>UC1SqP7_RfOC9Jf9L_GRHANg</td>\n      <td>AviciiOfficialVEVO</td>\n      <td>2013-07-29T15:55:09Z</td>\n      <td>Avicii - Wake Me Up (Official Video)</td>\n      <td>581275</td>\n      <td>280081</td>\n      <td>1963215194</td>\n      <td>True</td>\n    </tr>\n    <tr>\n      <th>7</th>\n      <td>PT4M20S</td>\n      <td>ab9176Srb5Y</td>\n      <td>UC20vb-R_px4CguHzzBPhoyQ</td>\n      <td>EminemVEVO</td>\n      <td>2013-09-09T15:40:00Z</td>\n      <td>Eminem - Berzerk (Official Music Video) (Expli...</td>\n      <td>173640</td>\n      <td>66182</td>\n      <td>249341895</td>\n      <td>True</td>\n    </tr>\n    <tr>\n      <th>8</th>\n      <td>PT4M</td>\n      <td>Wb5VOQexMBU</td>\n      <td>UC1SqP7_RfOC9Jf9L_GRHANg</td>\n      <td>AviciiOfficialVEVO</td>\n      <td>2013-08-30T13:00:41Z</td>\n      <td>Avicii - You Make Me</td>\n      <td>18398</td>\n      <td>10920</td>\n      <td>73376915</td>\n      <td>True</td>\n    </tr>\n    <tr>\n      <th>9</th>\n      <td>PT4M27S</td>\n      <td>uelHwf8o7_U</td>\n      <td>UC20vb-R_px4CguHzzBPhoyQ</td>\n      <td>EminemVEVO</td>\n      <td>2010-08-05T19:09:46Z</td>\n      <td>Eminem - Love The Way You Lie ft. Rihanna</td>\n      <td>547709</td>\n      <td>336798</td>\n      <td>2064352955</td>\n      <td>True</td>\n    </tr>\n    <tr>\n      <th>10</th>\n      <td>PT5M19S</td>\n      <td>EHkozMIXZ8w</td>\n      <td>UC20vb-R_px4CguHzzBPhoyQ</td>\n      <td>EminemVEVO</td>\n      <td>2013-12-17T00:50:00Z</td>\n      <td>Eminem ft. Rihanna - The Monster (Explicit) [O...</td>\n      <td>146163</td>\n      <td>134695</td>\n      <td>724377559</td>\n      <td>True</td>\n    </tr>\n    <tr>\n      <th>11</th>\n      <td>PT7M4S</td>\n      <td>hlVBg7_08n0</td>\n      <td>UCXYRdIXDdeZIf816EWAr5zQ</td>\n      <td>Macklemore LLC</td>\n      <td>2012-10-02T19:18:47Z</td>\n      <td>MACKLEMORE &amp; RYAN LEWIS - SAME LOVE feat. MARY...</td>\n      <td>369535</td>\n      <td>86780</td>\n      <td>252792552</td>\n      <td>True</td>\n    </tr>\n    <tr>\n      <th>12</th>\n      <td>PT4M12S</td>\n      <td>5y_KJAg8bHI</td>\n      <td>UC1SqP7_RfOC9Jf9L_GRHANg</td>\n      <td>AviciiOfficialVEVO</td>\n      <td>2013-06-28T19:09:38Z</td>\n      <td>Avicii - Wake Me Up (Lyric Video)</td>\n      <td>105658</td>\n      <td>53952</td>\n      <td>335418742</td>\n      <td>True</td>\n    </tr>\n    <tr>\n      <th>13</th>\n      <td>PT4M9S</td>\n      <td>359na4NeaVA</td>\n      <td>UC20vb-R_px4CguHzzBPhoyQ</td>\n      <td>EminemVEVO</td>\n      <td>2013-08-27T04:20:31Z</td>\n      <td>Eminem - Berzerk (Official Audio)</td>\n      <td>79195</td>\n      <td>19475</td>\n      <td>35244992</td>\n      <td>True</td>\n    </tr>\n    <tr>\n      <th>14</th>\n      <td>PT3M33S</td>\n      <td>t1l8Z6gLPzo</td>\n      <td>UCUERSOitwgUq_37kGslN96w</td>\n      <td>VOLO</td>\n      <td>2013-07-22T12:09:11Z</td>\n      <td>VOLO. \"L'air d'un con\"</td>\n      <td>38</td>\n      <td>26</td>\n      <td>223172</td>\n      <td>False</td>\n    </tr>\n    <tr>\n      <th>15</th>\n      <td>PT7M46S</td>\n      <td>we5gzZq5Avg</td>\n      <td>UCson549gpvRhPnJ3Whs5onA</td>\n      <td>LongWayToDream</td>\n      <td>2012-03-17T08:34:30Z</td>\n      <td>Julian Jeweil - Air Conditionné</td>\n      <td>2</td>\n      <td>3</td>\n      <td>13409</td>\n      <td>False</td>\n    </tr>\n    <tr>\n      <th>16</th>\n      <td>PT3M7S</td>\n      <td>49esza4eiK4</td>\n      <td>UCcHYZ8Ez4gG_2bHEuBL8IfQ</td>\n      <td>Downtown Records</td>\n      <td>2007-09-08T02:02:07Z</td>\n      <td>Justice - D.A.N.C.E</td>\n      <td>3168</td>\n      <td>780</td>\n      <td>10106655</td>\n      <td>False</td>\n    </tr>\n    <tr>\n      <th>17</th>\n      <td>PT3M43S</td>\n      <td>BoO6LfR7ca0</td>\n      <td>UCQ0wLCF7u23gZKJkHFs1Tpg</td>\n      <td>Music Is Our Drug</td>\n      <td>2014-01-24T12:52:38Z</td>\n      <td>Gramatik - Torture (feat. Eric Krasno)</td>\n      <td>6</td>\n      <td>0</td>\n      <td>29153</td>\n      <td>False</td>\n    </tr>\n    <tr>\n      <th>18</th>\n      <td>PT5M</td>\n      <td>DaH4W1rY9us</td>\n      <td>UCJsTMPZxYD-Q3kEmL4Qijpg</td>\n      <td>Harvey Pearson</td>\n      <td>2012-12-02T12:41:13Z</td>\n      <td>Ben Howard - Oats In The Water</td>\n      <td>5303</td>\n      <td>1784</td>\n      <td>16488714</td>\n      <td>False</td>\n    </tr>\n    <tr>\n      <th>19</th>\n      <td>PT10M16S</td>\n      <td>PAAUqBghiVo</td>\n      <td>UCDHvlud7Hf86FxFsogrBcMg</td>\n      <td>Resident Advisor</td>\n      <td>2013-10-15T09:30:25Z</td>\n      <td>RA Sessions: DARKSIDE - Paper Trails</td>\n      <td>883</td>\n      <td>445</td>\n      <td>3381880</td>\n      <td>False</td>\n    </tr>\n  </tbody>\n</table>\n</div>",
       "datasetInfos": [],
       "removedWidgets": [],
       "textData": null,
       "type": "htmlSandbox"
      }
     },
     "output_type": "display_data"
    }
   ],
   "source": [
    "songs_filtered = songs \\\n",
    "  .withColumn('ispopularitem', F.when(F.col('snippet_channelID').isin(top_channels[\"snippet_channelID\"].to_list()), True).otherwise(False))\\\n",
    ".orderBy(F.desc(\"ispopularitem\"))\n",
    "songs_filtered.limit(20).toPandas()"
   ]
  },
  {
   "cell_type": "markdown",
   "metadata": {
    "application/vnd.databricks.v1+cell": {
     "inputWidgets": {},
     "nuid": "2d786af1-85dc-4132-a1ab-0bbba331c24e",
     "showTitle": false,
     "title": ""
    }
   },
   "source": [
    "## Joins ▶️◀️\n",
    "Joins let you bring data from several tables into one single table, all you need for this is a common key so that the computer knows which rows may be brought together in the joined table. Let's give an example of this.\n",
    "\n",
    "Suppose we wish to add to the song table the information about the total number of songs and the total number of views the various channels cumulate, we could do this with joins."
   ]
  },
  {
   "cell_type": "code",
   "execution_count": null,
   "metadata": {
    "application/vnd.databricks.v1+cell": {
     "inputWidgets": {},
     "nuid": "7a754ad0-aa9e-4c11-bdd7-d409d0ba5f1a",
     "showTitle": false,
     "title": ""
    }
   },
   "outputs": [
    {
     "data": {
      "text/html": [
       "<style scoped>\n",
       "  .ansiout {\n",
       "    display: block;\n",
       "    unicode-bidi: embed;\n",
       "    white-space: pre-wrap;\n",
       "    word-wrap: break-word;\n",
       "    word-break: break-all;\n",
       "    font-family: \"Source Code Pro\", \"Menlo\", monospace;;\n",
       "    font-size: 13px;\n",
       "    color: #555;\n",
       "    margin-left: 4px;\n",
       "    line-height: 19px;\n",
       "  }\n",
       "</style>\n",
       "<div class=\"ansiout\">Out[55]: </div>"
      ]
     },
     "metadata": {
      "application/vnd.databricks.v1+output": {
       "addedWidgets": {},
       "arguments": {},
       "data": "<div class=\"ansiout\">Out[55]: </div>",
       "datasetInfos": [],
       "removedWidgets": [],
       "type": "html"
      }
     },
     "output_type": "display_data"
    },
    {
     "data": {
      "text/html": [
       "<div>\n",
       "<style scoped>\n",
       "    .dataframe tbody tr th:only-of-type {\n",
       "        vertical-align: middle;\n",
       "    }\n",
       "\n",
       "    .dataframe tbody tr th {\n",
       "        vertical-align: top;\n",
       "    }\n",
       "\n",
       "    .dataframe thead th {\n",
       "        text-align: right;\n",
       "    }\n",
       "</style>\n",
       "<table border=\"1\" class=\"dataframe\">\n",
       "  <thead>\n",
       "    <tr style=\"text-align: right;\">\n",
       "      <th></th>\n",
       "      <th>snippet_channelId</th>\n",
       "      <th>totalViews</th>\n",
       "      <th>totalSongs</th>\n",
       "    </tr>\n",
       "  </thead>\n",
       "  <tbody>\n",
       "    <tr>\n",
       "      <th>0</th>\n",
       "      <td>UCwNqnXBqaP4yB5S3nnniGrQ</td>\n",
       "      <td>254146</td>\n",
       "      <td>8</td>\n",
       "    </tr>\n",
       "    <tr>\n",
       "      <th>1</th>\n",
       "      <td>UCpiZh3AGeTygzfmUgioOFFg</td>\n",
       "      <td>8618</td>\n",
       "      <td>1</td>\n",
       "    </tr>\n",
       "    <tr>\n",
       "      <th>2</th>\n",
       "      <td>UC6uf72Eqh6s83_UcUVhWn1Q</td>\n",
       "      <td>51367</td>\n",
       "      <td>1</td>\n",
       "    </tr>\n",
       "    <tr>\n",
       "      <th>3</th>\n",
       "      <td>UCTzcJbbC1jIhnOCInyHJzpQ</td>\n",
       "      <td>34740306</td>\n",
       "      <td>1</td>\n",
       "    </tr>\n",
       "    <tr>\n",
       "      <th>4</th>\n",
       "      <td>UCb0pvpGeKMRiwqjg2mP5rBA</td>\n",
       "      <td>18769596</td>\n",
       "      <td>1</td>\n",
       "    </tr>\n",
       "  </tbody>\n",
       "</table>\n",
       "</div>"
      ]
     },
     "metadata": {
      "application/vnd.databricks.v1+output": {
       "addedWidgets": {},
       "arguments": {},
       "data": "<div>\n<style scoped>\n    .dataframe tbody tr th:only-of-type {\n        vertical-align: middle;\n    }\n\n    .dataframe tbody tr th {\n        vertical-align: top;\n    }\n\n    .dataframe thead th {\n        text-align: right;\n    }\n</style>\n<table border=\"1\" class=\"dataframe\">\n  <thead>\n    <tr style=\"text-align: right;\">\n      <th></th>\n      <th>snippet_channelId</th>\n      <th>totalViews</th>\n      <th>totalSongs</th>\n    </tr>\n  </thead>\n  <tbody>\n    <tr>\n      <th>0</th>\n      <td>UCwNqnXBqaP4yB5S3nnniGrQ</td>\n      <td>254146</td>\n      <td>8</td>\n    </tr>\n    <tr>\n      <th>1</th>\n      <td>UCpiZh3AGeTygzfmUgioOFFg</td>\n      <td>8618</td>\n      <td>1</td>\n    </tr>\n    <tr>\n      <th>2</th>\n      <td>UC6uf72Eqh6s83_UcUVhWn1Q</td>\n      <td>51367</td>\n      <td>1</td>\n    </tr>\n    <tr>\n      <th>3</th>\n      <td>UCTzcJbbC1jIhnOCInyHJzpQ</td>\n      <td>34740306</td>\n      <td>1</td>\n    </tr>\n    <tr>\n      <th>4</th>\n      <td>UCb0pvpGeKMRiwqjg2mP5rBA</td>\n      <td>18769596</td>\n      <td>1</td>\n    </tr>\n  </tbody>\n</table>\n</div>",
       "datasetInfos": [],
       "removedWidgets": [],
       "textData": null,
       "type": "htmlSandbox"
      }
     },
     "output_type": "display_data"
    }
   ],
   "source": [
    "# Let's start by creating the aggregated table\n",
    "aggregates = songs.groupBy(\"snippet_channelId\").agg(F.sum(\"statistics_viewCount\").alias(\"totalViews\"), F.count(\"*\").alias(\"totalSongs\"))\n",
    "aggregates.limit(5).toPandas()"
   ]
  },
  {
   "cell_type": "code",
   "execution_count": null,
   "metadata": {
    "application/vnd.databricks.v1+cell": {
     "inputWidgets": {},
     "nuid": "8a32dc54-ff9a-4707-adcf-7ce1d93992aa",
     "showTitle": false,
     "title": ""
    }
   },
   "outputs": [
    {
     "data": {
      "text/html": [
       "<style scoped>\n",
       "  .ansiout {\n",
       "    display: block;\n",
       "    unicode-bidi: embed;\n",
       "    white-space: pre-wrap;\n",
       "    word-wrap: break-word;\n",
       "    word-break: break-all;\n",
       "    font-family: \"Source Code Pro\", \"Menlo\", monospace;;\n",
       "    font-size: 13px;\n",
       "    color: #555;\n",
       "    margin-left: 4px;\n",
       "    line-height: 19px;\n",
       "  }\n",
       "</style>\n",
       "<div class=\"ansiout\">Out[56]: </div>"
      ]
     },
     "metadata": {
      "application/vnd.databricks.v1+output": {
       "addedWidgets": {},
       "arguments": {},
       "data": "<div class=\"ansiout\">Out[56]: </div>",
       "datasetInfos": [],
       "removedWidgets": [],
       "type": "html"
      }
     },
     "output_type": "display_data"
    },
    {
     "data": {
      "text/html": [
       "<div>\n",
       "<style scoped>\n",
       "    .dataframe tbody tr th:only-of-type {\n",
       "        vertical-align: middle;\n",
       "    }\n",
       "\n",
       "    .dataframe tbody tr th {\n",
       "        vertical-align: top;\n",
       "    }\n",
       "\n",
       "    .dataframe thead th {\n",
       "        text-align: right;\n",
       "    }\n",
       "</style>\n",
       "<table border=\"1\" class=\"dataframe\">\n",
       "  <thead>\n",
       "    <tr style=\"text-align: right;\">\n",
       "      <th></th>\n",
       "      <th>contentDetails_duration</th>\n",
       "      <th>id</th>\n",
       "      <th>snippet_channelId</th>\n",
       "      <th>snippet_channelTitle</th>\n",
       "      <th>snippet_publishedAt</th>\n",
       "      <th>snippet_title</th>\n",
       "      <th>statistics_commentCount</th>\n",
       "      <th>statistics_dislikeCount</th>\n",
       "      <th>statistics_viewCount</th>\n",
       "      <th>snippet_channelId</th>\n",
       "      <th>totalViews</th>\n",
       "      <th>totalSongs</th>\n",
       "    </tr>\n",
       "  </thead>\n",
       "  <tbody>\n",
       "    <tr>\n",
       "      <th>0</th>\n",
       "      <td>PT3M33S</td>\n",
       "      <td>t1l8Z6gLPzo</td>\n",
       "      <td>UCUERSOitwgUq_37kGslN96w</td>\n",
       "      <td>VOLO</td>\n",
       "      <td>2013-07-22T12:09:11Z</td>\n",
       "      <td>VOLO. \"L'air d'un con\"</td>\n",
       "      <td>38</td>\n",
       "      <td>26</td>\n",
       "      <td>223172</td>\n",
       "      <td>UCUERSOitwgUq_37kGslN96w</td>\n",
       "      <td>223172</td>\n",
       "      <td>1</td>\n",
       "    </tr>\n",
       "    <tr>\n",
       "      <th>1</th>\n",
       "      <td>PT7M46S</td>\n",
       "      <td>we5gzZq5Avg</td>\n",
       "      <td>UCson549gpvRhPnJ3Whs5onA</td>\n",
       "      <td>LongWayToDream</td>\n",
       "      <td>2012-03-17T08:34:30Z</td>\n",
       "      <td>Julian Jeweil - Air Conditionné</td>\n",
       "      <td>2</td>\n",
       "      <td>3</td>\n",
       "      <td>13409</td>\n",
       "      <td>UCson549gpvRhPnJ3Whs5onA</td>\n",
       "      <td>13409</td>\n",
       "      <td>1</td>\n",
       "    </tr>\n",
       "    <tr>\n",
       "      <th>2</th>\n",
       "      <td>PT3M7S</td>\n",
       "      <td>49esza4eiK4</td>\n",
       "      <td>UCcHYZ8Ez4gG_2bHEuBL8IfQ</td>\n",
       "      <td>Downtown Records</td>\n",
       "      <td>2007-09-08T02:02:07Z</td>\n",
       "      <td>Justice - D.A.N.C.E</td>\n",
       "      <td>3168</td>\n",
       "      <td>780</td>\n",
       "      <td>10106655</td>\n",
       "      <td>UCcHYZ8Ez4gG_2bHEuBL8IfQ</td>\n",
       "      <td>28815620</td>\n",
       "      <td>3</td>\n",
       "    </tr>\n",
       "    <tr>\n",
       "      <th>3</th>\n",
       "      <td>PT3M43S</td>\n",
       "      <td>BoO6LfR7ca0</td>\n",
       "      <td>UCQ0wLCF7u23gZKJkHFs1Tpg</td>\n",
       "      <td>Music Is Our Drug</td>\n",
       "      <td>2014-01-24T12:52:38Z</td>\n",
       "      <td>Gramatik - Torture (feat. Eric Krasno)</td>\n",
       "      <td>6</td>\n",
       "      <td>0</td>\n",
       "      <td>29153</td>\n",
       "      <td>UCQ0wLCF7u23gZKJkHFs1Tpg</td>\n",
       "      <td>29153</td>\n",
       "      <td>1</td>\n",
       "    </tr>\n",
       "    <tr>\n",
       "      <th>4</th>\n",
       "      <td>PT5M</td>\n",
       "      <td>DaH4W1rY9us</td>\n",
       "      <td>UCJsTMPZxYD-Q3kEmL4Qijpg</td>\n",
       "      <td>Harvey Pearson</td>\n",
       "      <td>2012-12-02T12:41:13Z</td>\n",
       "      <td>Ben Howard - Oats In The Water</td>\n",
       "      <td>5303</td>\n",
       "      <td>1784</td>\n",
       "      <td>16488714</td>\n",
       "      <td>UCJsTMPZxYD-Q3kEmL4Qijpg</td>\n",
       "      <td>16488714</td>\n",
       "      <td>1</td>\n",
       "    </tr>\n",
       "  </tbody>\n",
       "</table>\n",
       "</div>"
      ]
     },
     "metadata": {
      "application/vnd.databricks.v1+output": {
       "addedWidgets": {},
       "arguments": {},
       "data": "<div>\n<style scoped>\n    .dataframe tbody tr th:only-of-type {\n        vertical-align: middle;\n    }\n\n    .dataframe tbody tr th {\n        vertical-align: top;\n    }\n\n    .dataframe thead th {\n        text-align: right;\n    }\n</style>\n<table border=\"1\" class=\"dataframe\">\n  <thead>\n    <tr style=\"text-align: right;\">\n      <th></th>\n      <th>contentDetails_duration</th>\n      <th>id</th>\n      <th>snippet_channelId</th>\n      <th>snippet_channelTitle</th>\n      <th>snippet_publishedAt</th>\n      <th>snippet_title</th>\n      <th>statistics_commentCount</th>\n      <th>statistics_dislikeCount</th>\n      <th>statistics_viewCount</th>\n      <th>snippet_channelId</th>\n      <th>totalViews</th>\n      <th>totalSongs</th>\n    </tr>\n  </thead>\n  <tbody>\n    <tr>\n      <th>0</th>\n      <td>PT3M33S</td>\n      <td>t1l8Z6gLPzo</td>\n      <td>UCUERSOitwgUq_37kGslN96w</td>\n      <td>VOLO</td>\n      <td>2013-07-22T12:09:11Z</td>\n      <td>VOLO. \"L'air d'un con\"</td>\n      <td>38</td>\n      <td>26</td>\n      <td>223172</td>\n      <td>UCUERSOitwgUq_37kGslN96w</td>\n      <td>223172</td>\n      <td>1</td>\n    </tr>\n    <tr>\n      <th>1</th>\n      <td>PT7M46S</td>\n      <td>we5gzZq5Avg</td>\n      <td>UCson549gpvRhPnJ3Whs5onA</td>\n      <td>LongWayToDream</td>\n      <td>2012-03-17T08:34:30Z</td>\n      <td>Julian Jeweil - Air Conditionné</td>\n      <td>2</td>\n      <td>3</td>\n      <td>13409</td>\n      <td>UCson549gpvRhPnJ3Whs5onA</td>\n      <td>13409</td>\n      <td>1</td>\n    </tr>\n    <tr>\n      <th>2</th>\n      <td>PT3M7S</td>\n      <td>49esza4eiK4</td>\n      <td>UCcHYZ8Ez4gG_2bHEuBL8IfQ</td>\n      <td>Downtown Records</td>\n      <td>2007-09-08T02:02:07Z</td>\n      <td>Justice - D.A.N.C.E</td>\n      <td>3168</td>\n      <td>780</td>\n      <td>10106655</td>\n      <td>UCcHYZ8Ez4gG_2bHEuBL8IfQ</td>\n      <td>28815620</td>\n      <td>3</td>\n    </tr>\n    <tr>\n      <th>3</th>\n      <td>PT3M43S</td>\n      <td>BoO6LfR7ca0</td>\n      <td>UCQ0wLCF7u23gZKJkHFs1Tpg</td>\n      <td>Music Is Our Drug</td>\n      <td>2014-01-24T12:52:38Z</td>\n      <td>Gramatik - Torture (feat. Eric Krasno)</td>\n      <td>6</td>\n      <td>0</td>\n      <td>29153</td>\n      <td>UCQ0wLCF7u23gZKJkHFs1Tpg</td>\n      <td>29153</td>\n      <td>1</td>\n    </tr>\n    <tr>\n      <th>4</th>\n      <td>PT5M</td>\n      <td>DaH4W1rY9us</td>\n      <td>UCJsTMPZxYD-Q3kEmL4Qijpg</td>\n      <td>Harvey Pearson</td>\n      <td>2012-12-02T12:41:13Z</td>\n      <td>Ben Howard - Oats In The Water</td>\n      <td>5303</td>\n      <td>1784</td>\n      <td>16488714</td>\n      <td>UCJsTMPZxYD-Q3kEmL4Qijpg</td>\n      <td>16488714</td>\n      <td>1</td>\n    </tr>\n  </tbody>\n</table>\n</div>",
       "datasetInfos": [],
       "removedWidgets": [],
       "textData": null,
       "type": "htmlSandbox"
      }
     },
     "output_type": "display_data"
    }
   ],
   "source": [
    "# Let's now join this table to the original table to have additional informations about the channels\n",
    "# the syntax works in the following way:\n",
    "# left_table.join(right_table, left_table_column == right_table_column)\n",
    "songs.join(aggregates, songs.snippet_channelId == aggregates.snippet_channelId).limit(5).toPandas()"
   ]
  },
  {
   "cell_type": "markdown",
   "metadata": {
    "application/vnd.databricks.v1+cell": {
     "inputWidgets": {},
     "nuid": "b0dd20f7-02c1-4f0f-ac40-6cc90d0d8ab3",
     "showTitle": false,
     "title": ""
    }
   },
   "source": [
    "We don't have suffixes by default... In particular, if the joining key column will be duplicated, we can deal with this like that:"
   ]
  },
  {
   "cell_type": "code",
   "execution_count": null,
   "metadata": {
    "application/vnd.databricks.v1+cell": {
     "inputWidgets": {},
     "nuid": "bb4482ba-4923-412f-a90e-3e9b9c6b6639",
     "showTitle": false,
     "title": ""
    }
   },
   "outputs": [
    {
     "data": {
      "text/html": [
       "<style scoped>\n",
       "  .ansiout {\n",
       "    display: block;\n",
       "    unicode-bidi: embed;\n",
       "    white-space: pre-wrap;\n",
       "    word-wrap: break-word;\n",
       "    word-break: break-all;\n",
       "    font-family: \"Source Code Pro\", \"Menlo\", monospace;;\n",
       "    font-size: 13px;\n",
       "    color: #555;\n",
       "    margin-left: 4px;\n",
       "    line-height: 19px;\n",
       "  }\n",
       "</style>\n",
       "<div class=\"ansiout\">Out[57]: </div>"
      ]
     },
     "metadata": {
      "application/vnd.databricks.v1+output": {
       "addedWidgets": {},
       "arguments": {},
       "data": "<div class=\"ansiout\">Out[57]: </div>",
       "datasetInfos": [],
       "removedWidgets": [],
       "type": "html"
      }
     },
     "output_type": "display_data"
    },
    {
     "data": {
      "text/html": [
       "<div>\n",
       "<style scoped>\n",
       "    .dataframe tbody tr th:only-of-type {\n",
       "        vertical-align: middle;\n",
       "    }\n",
       "\n",
       "    .dataframe tbody tr th {\n",
       "        vertical-align: top;\n",
       "    }\n",
       "\n",
       "    .dataframe thead th {\n",
       "        text-align: right;\n",
       "    }\n",
       "</style>\n",
       "<table border=\"1\" class=\"dataframe\">\n",
       "  <thead>\n",
       "    <tr style=\"text-align: right;\">\n",
       "      <th></th>\n",
       "      <th>snippet_channelId</th>\n",
       "      <th>contentDetails_duration</th>\n",
       "      <th>id</th>\n",
       "      <th>snippet_channelTitle</th>\n",
       "      <th>snippet_publishedAt</th>\n",
       "      <th>snippet_title</th>\n",
       "      <th>statistics_commentCount</th>\n",
       "      <th>statistics_dislikeCount</th>\n",
       "      <th>statistics_viewCount</th>\n",
       "      <th>totalViews</th>\n",
       "      <th>totalSongs</th>\n",
       "    </tr>\n",
       "  </thead>\n",
       "  <tbody>\n",
       "    <tr>\n",
       "      <th>0</th>\n",
       "      <td>UCUERSOitwgUq_37kGslN96w</td>\n",
       "      <td>PT3M33S</td>\n",
       "      <td>t1l8Z6gLPzo</td>\n",
       "      <td>VOLO</td>\n",
       "      <td>2013-07-22T12:09:11Z</td>\n",
       "      <td>VOLO. \"L'air d'un con\"</td>\n",
       "      <td>38</td>\n",
       "      <td>26</td>\n",
       "      <td>223172</td>\n",
       "      <td>223172</td>\n",
       "      <td>1</td>\n",
       "    </tr>\n",
       "    <tr>\n",
       "      <th>1</th>\n",
       "      <td>UCson549gpvRhPnJ3Whs5onA</td>\n",
       "      <td>PT7M46S</td>\n",
       "      <td>we5gzZq5Avg</td>\n",
       "      <td>LongWayToDream</td>\n",
       "      <td>2012-03-17T08:34:30Z</td>\n",
       "      <td>Julian Jeweil - Air Conditionné</td>\n",
       "      <td>2</td>\n",
       "      <td>3</td>\n",
       "      <td>13409</td>\n",
       "      <td>13409</td>\n",
       "      <td>1</td>\n",
       "    </tr>\n",
       "    <tr>\n",
       "      <th>2</th>\n",
       "      <td>UCcHYZ8Ez4gG_2bHEuBL8IfQ</td>\n",
       "      <td>PT3M7S</td>\n",
       "      <td>49esza4eiK4</td>\n",
       "      <td>Downtown Records</td>\n",
       "      <td>2007-09-08T02:02:07Z</td>\n",
       "      <td>Justice - D.A.N.C.E</td>\n",
       "      <td>3168</td>\n",
       "      <td>780</td>\n",
       "      <td>10106655</td>\n",
       "      <td>28815620</td>\n",
       "      <td>3</td>\n",
       "    </tr>\n",
       "    <tr>\n",
       "      <th>3</th>\n",
       "      <td>UCQ0wLCF7u23gZKJkHFs1Tpg</td>\n",
       "      <td>PT3M43S</td>\n",
       "      <td>BoO6LfR7ca0</td>\n",
       "      <td>Music Is Our Drug</td>\n",
       "      <td>2014-01-24T12:52:38Z</td>\n",
       "      <td>Gramatik - Torture (feat. Eric Krasno)</td>\n",
       "      <td>6</td>\n",
       "      <td>0</td>\n",
       "      <td>29153</td>\n",
       "      <td>29153</td>\n",
       "      <td>1</td>\n",
       "    </tr>\n",
       "    <tr>\n",
       "      <th>4</th>\n",
       "      <td>UCJsTMPZxYD-Q3kEmL4Qijpg</td>\n",
       "      <td>PT5M</td>\n",
       "      <td>DaH4W1rY9us</td>\n",
       "      <td>Harvey Pearson</td>\n",
       "      <td>2012-12-02T12:41:13Z</td>\n",
       "      <td>Ben Howard - Oats In The Water</td>\n",
       "      <td>5303</td>\n",
       "      <td>1784</td>\n",
       "      <td>16488714</td>\n",
       "      <td>16488714</td>\n",
       "      <td>1</td>\n",
       "    </tr>\n",
       "  </tbody>\n",
       "</table>\n",
       "</div>"
      ]
     },
     "metadata": {
      "application/vnd.databricks.v1+output": {
       "addedWidgets": {},
       "arguments": {},
       "data": "<div>\n<style scoped>\n    .dataframe tbody tr th:only-of-type {\n        vertical-align: middle;\n    }\n\n    .dataframe tbody tr th {\n        vertical-align: top;\n    }\n\n    .dataframe thead th {\n        text-align: right;\n    }\n</style>\n<table border=\"1\" class=\"dataframe\">\n  <thead>\n    <tr style=\"text-align: right;\">\n      <th></th>\n      <th>snippet_channelId</th>\n      <th>contentDetails_duration</th>\n      <th>id</th>\n      <th>snippet_channelTitle</th>\n      <th>snippet_publishedAt</th>\n      <th>snippet_title</th>\n      <th>statistics_commentCount</th>\n      <th>statistics_dislikeCount</th>\n      <th>statistics_viewCount</th>\n      <th>totalViews</th>\n      <th>totalSongs</th>\n    </tr>\n  </thead>\n  <tbody>\n    <tr>\n      <th>0</th>\n      <td>UCUERSOitwgUq_37kGslN96w</td>\n      <td>PT3M33S</td>\n      <td>t1l8Z6gLPzo</td>\n      <td>VOLO</td>\n      <td>2013-07-22T12:09:11Z</td>\n      <td>VOLO. \"L'air d'un con\"</td>\n      <td>38</td>\n      <td>26</td>\n      <td>223172</td>\n      <td>223172</td>\n      <td>1</td>\n    </tr>\n    <tr>\n      <th>1</th>\n      <td>UCson549gpvRhPnJ3Whs5onA</td>\n      <td>PT7M46S</td>\n      <td>we5gzZq5Avg</td>\n      <td>LongWayToDream</td>\n      <td>2012-03-17T08:34:30Z</td>\n      <td>Julian Jeweil - Air Conditionné</td>\n      <td>2</td>\n      <td>3</td>\n      <td>13409</td>\n      <td>13409</td>\n      <td>1</td>\n    </tr>\n    <tr>\n      <th>2</th>\n      <td>UCcHYZ8Ez4gG_2bHEuBL8IfQ</td>\n      <td>PT3M7S</td>\n      <td>49esza4eiK4</td>\n      <td>Downtown Records</td>\n      <td>2007-09-08T02:02:07Z</td>\n      <td>Justice - D.A.N.C.E</td>\n      <td>3168</td>\n      <td>780</td>\n      <td>10106655</td>\n      <td>28815620</td>\n      <td>3</td>\n    </tr>\n    <tr>\n      <th>3</th>\n      <td>UCQ0wLCF7u23gZKJkHFs1Tpg</td>\n      <td>PT3M43S</td>\n      <td>BoO6LfR7ca0</td>\n      <td>Music Is Our Drug</td>\n      <td>2014-01-24T12:52:38Z</td>\n      <td>Gramatik - Torture (feat. Eric Krasno)</td>\n      <td>6</td>\n      <td>0</td>\n      <td>29153</td>\n      <td>29153</td>\n      <td>1</td>\n    </tr>\n    <tr>\n      <th>4</th>\n      <td>UCJsTMPZxYD-Q3kEmL4Qijpg</td>\n      <td>PT5M</td>\n      <td>DaH4W1rY9us</td>\n      <td>Harvey Pearson</td>\n      <td>2012-12-02T12:41:13Z</td>\n      <td>Ben Howard - Oats In The Water</td>\n      <td>5303</td>\n      <td>1784</td>\n      <td>16488714</td>\n      <td>16488714</td>\n      <td>1</td>\n    </tr>\n  </tbody>\n</table>\n</div>",
       "datasetInfos": [],
       "removedWidgets": [],
       "textData": null,
       "type": "htmlSandbox"
      }
     },
     "output_type": "display_data"
    }
   ],
   "source": [
    "# Note that this only works if the joining key column has the same name in both tables\n",
    "songs.join(aggregates, 'snippet_channelId').limit(5).toPandas()"
   ]
  },
  {
   "cell_type": "markdown",
   "metadata": {
    "application/vnd.databricks.v1+cell": {
     "inputWidgets": {},
     "nuid": "ba258340-28fc-434b-bd64-84c891af3386",
     "showTitle": false,
     "title": ""
    }
   },
   "source": [
    "## Array aggregation 📙📘📒📗➡📚\n",
    "It is possible to aggregate columns to form arrays of values.\n",
    "### `F.collect_list()`"
   ]
  },
  {
   "cell_type": "code",
   "execution_count": null,
   "metadata": {
    "application/vnd.databricks.v1+cell": {
     "inputWidgets": {},
     "nuid": "d4585a8d-c87a-42b1-85be-9d9c9b3cb923",
     "showTitle": false,
     "title": ""
    }
   },
   "outputs": [
    {
     "data": {
      "text/html": [
       "<style scoped>\n",
       "  .ansiout {\n",
       "    display: block;\n",
       "    unicode-bidi: embed;\n",
       "    white-space: pre-wrap;\n",
       "    word-wrap: break-word;\n",
       "    word-break: break-all;\n",
       "    font-family: \"Source Code Pro\", \"Menlo\", monospace;;\n",
       "    font-size: 13px;\n",
       "    color: #555;\n",
       "    margin-left: 4px;\n",
       "    line-height: 19px;\n",
       "  }\n",
       "</style>\n",
       "<div class=\"ansiout\">Out[60]: </div>"
      ]
     },
     "metadata": {
      "application/vnd.databricks.v1+output": {
       "addedWidgets": {},
       "arguments": {},
       "data": "<div class=\"ansiout\">Out[60]: </div>",
       "datasetInfos": [],
       "removedWidgets": [],
       "type": "html"
      }
     },
     "output_type": "display_data"
    },
    {
     "data": {
      "text/html": [
       "<div>\n",
       "<style scoped>\n",
       "    .dataframe tbody tr th:only-of-type {\n",
       "        vertical-align: middle;\n",
       "    }\n",
       "\n",
       "    .dataframe tbody tr th {\n",
       "        vertical-align: top;\n",
       "    }\n",
       "\n",
       "    .dataframe thead th {\n",
       "        text-align: right;\n",
       "    }\n",
       "</style>\n",
       "<table border=\"1\" class=\"dataframe\">\n",
       "  <thead>\n",
       "    <tr style=\"text-align: right;\">\n",
       "      <th></th>\n",
       "      <th>snippet_channelId</th>\n",
       "      <th>songs_list</th>\n",
       "      <th>songCount</th>\n",
       "    </tr>\n",
       "  </thead>\n",
       "  <tbody>\n",
       "    <tr>\n",
       "      <th>0</th>\n",
       "      <td>UCudKvbd6gvbm5UCYRk5tZKA</td>\n",
       "      <td>[Aaron Smith - Dancin (KRONO Remix), Tom Odell...</td>\n",
       "      <td>40</td>\n",
       "    </tr>\n",
       "    <tr>\n",
       "      <th>1</th>\n",
       "      <td>UCXIyz409s7bNWVcM-vjfdVA</td>\n",
       "      <td>[Paradis - La Ballade de Jim, Drew Hill - Soli...</td>\n",
       "      <td>35</td>\n",
       "    </tr>\n",
       "    <tr>\n",
       "      <th>2</th>\n",
       "      <td>UC5nc_ZtjKW1htCVZVRxlQAQ</td>\n",
       "      <td>[Mario M - Let Me Out, Bipolar Sunshine - Rive...</td>\n",
       "      <td>18</td>\n",
       "    </tr>\n",
       "    <tr>\n",
       "      <th>3</th>\n",
       "      <td>UCpDJl2EmP7Oh90Vylx0dZtA</td>\n",
       "      <td>[Martin Garrix - Animals (Radio Edit), Milk &amp; ...</td>\n",
       "      <td>18</td>\n",
       "    </tr>\n",
       "    <tr>\n",
       "      <th>4</th>\n",
       "      <td>UCrlNi8Z5TXfWJf4psK76KWw</td>\n",
       "      <td>[Boards Of Canada - Olson (Midland Edit), Trac...</td>\n",
       "      <td>17</td>\n",
       "    </tr>\n",
       "  </tbody>\n",
       "</table>\n",
       "</div>"
      ]
     },
     "metadata": {
      "application/vnd.databricks.v1+output": {
       "addedWidgets": {},
       "arguments": {},
       "data": "<div>\n<style scoped>\n    .dataframe tbody tr th:only-of-type {\n        vertical-align: middle;\n    }\n\n    .dataframe tbody tr th {\n        vertical-align: top;\n    }\n\n    .dataframe thead th {\n        text-align: right;\n    }\n</style>\n<table border=\"1\" class=\"dataframe\">\n  <thead>\n    <tr style=\"text-align: right;\">\n      <th></th>\n      <th>snippet_channelId</th>\n      <th>songs_list</th>\n      <th>songCount</th>\n    </tr>\n  </thead>\n  <tbody>\n    <tr>\n      <th>0</th>\n      <td>UCudKvbd6gvbm5UCYRk5tZKA</td>\n      <td>[Aaron Smith - Dancin (KRONO Remix), Tom Odell...</td>\n      <td>40</td>\n    </tr>\n    <tr>\n      <th>1</th>\n      <td>UCXIyz409s7bNWVcM-vjfdVA</td>\n      <td>[Paradis - La Ballade de Jim, Drew Hill - Soli...</td>\n      <td>35</td>\n    </tr>\n    <tr>\n      <th>2</th>\n      <td>UC5nc_ZtjKW1htCVZVRxlQAQ</td>\n      <td>[Mario M - Let Me Out, Bipolar Sunshine - Rive...</td>\n      <td>18</td>\n    </tr>\n    <tr>\n      <th>3</th>\n      <td>UCpDJl2EmP7Oh90Vylx0dZtA</td>\n      <td>[Martin Garrix - Animals (Radio Edit), Milk &amp; ...</td>\n      <td>18</td>\n    </tr>\n    <tr>\n      <th>4</th>\n      <td>UCrlNi8Z5TXfWJf4psK76KWw</td>\n      <td>[Boards Of Canada - Olson (Midland Edit), Trac...</td>\n      <td>17</td>\n    </tr>\n  </tbody>\n</table>\n</div>",
       "datasetInfos": [],
       "removedWidgets": [],
       "textData": null,
       "type": "htmlSandbox"
      }
     },
     "output_type": "display_data"
    }
   ],
   "source": [
    "# Here we'll create a column that contains an array listing all the song titles in each channel.\n",
    "transactions = songs.groupBy('snippet_channelId').agg(F.collect_list('snippet_title').alias('songs_list'))\\\n",
    "  .withColumn(\"songCount\", F.size(\"songs_list\"))\\\n",
    "  .orderBy(F.desc(\"songCount\"))\n",
    "transactions.limit(5).toPandas()"
   ]
  },
  {
   "cell_type": "markdown",
   "metadata": {
    "application/vnd.databricks.v1+cell": {
     "inputWidgets": {},
     "nuid": "ac5dea1d-fd45-4c8c-928b-5eee1420b1a8",
     "showTitle": false,
     "title": ""
    }
   },
   "source": [
    "### `F.collect_set()`\n",
    "Works the same way as collect list, but will result in arrays of distinct elements, as opposed to `.collect_list` which accepts duplicates."
   ]
  },
  {
   "cell_type": "markdown",
   "metadata": {
    "application/vnd.databricks.v1+cell": {
     "inputWidgets": {},
     "nuid": "4cc75752-2751-4c5d-9f90-14207a71357c",
     "showTitle": false,
     "title": ""
    }
   },
   "source": [
    "### `F.slice()`\n",
    "The `.slice()` method let's you select specific elements from an array"
   ]
  },
  {
   "cell_type": "code",
   "execution_count": null,
   "metadata": {
    "application/vnd.databricks.v1+cell": {
     "inputWidgets": {},
     "nuid": "a3291909-d668-444b-a76e-6a68f5dab3c2",
     "showTitle": false,
     "title": ""
    }
   },
   "outputs": [
    {
     "data": {
      "text/html": [
       "<div>\n",
       "<style scoped>\n",
       "    .dataframe tbody tr th:only-of-type {\n",
       "        vertical-align: middle;\n",
       "    }\n",
       "\n",
       "    .dataframe tbody tr th {\n",
       "        vertical-align: top;\n",
       "    }\n",
       "\n",
       "    .dataframe thead th {\n",
       "        text-align: right;\n",
       "    }\n",
       "</style>\n",
       "<table border=\"1\" class=\"dataframe\">\n",
       "  <thead>\n",
       "    <tr style=\"text-align: right;\">\n",
       "      <th></th>\n",
       "      <th>snippet_channelId</th>\n",
       "      <th>songs_list</th>\n",
       "      <th>items_count</th>\n",
       "      <th>sliced</th>\n",
       "      <th>slice_count</th>\n",
       "    </tr>\n",
       "  </thead>\n",
       "  <tbody>\n",
       "    <tr>\n",
       "      <th>0</th>\n",
       "      <td>UCudKvbd6gvbm5UCYRk5tZKA</td>\n",
       "      <td>[Aaron Smith - Dancin (KRONO Remix), Tom Odell...</td>\n",
       "      <td>40</td>\n",
       "      <td>[Aaron Smith - Dancin (KRONO Remix), Tom Odell...</td>\n",
       "      <td>2</td>\n",
       "    </tr>\n",
       "    <tr>\n",
       "      <th>1</th>\n",
       "      <td>UCXIyz409s7bNWVcM-vjfdVA</td>\n",
       "      <td>[Paradis - La Ballade de Jim, Drew Hill - Soli...</td>\n",
       "      <td>35</td>\n",
       "      <td>[Paradis - La Ballade de Jim, Drew Hill - Soli...</td>\n",
       "      <td>2</td>\n",
       "    </tr>\n",
       "    <tr>\n",
       "      <th>2</th>\n",
       "      <td>UC5nc_ZtjKW1htCVZVRxlQAQ</td>\n",
       "      <td>[Mario M - Let Me Out, Bipolar Sunshine - Rive...</td>\n",
       "      <td>18</td>\n",
       "      <td>[Mario M - Let Me Out, Bipolar Sunshine - Rivers]</td>\n",
       "      <td>2</td>\n",
       "    </tr>\n",
       "    <tr>\n",
       "      <th>3</th>\n",
       "      <td>UCpDJl2EmP7Oh90Vylx0dZtA</td>\n",
       "      <td>[Martin Garrix - Animals (Radio Edit), Milk &amp; ...</td>\n",
       "      <td>18</td>\n",
       "      <td>[Martin Garrix - Animals (Radio Edit), Milk &amp; ...</td>\n",
       "      <td>2</td>\n",
       "    </tr>\n",
       "    <tr>\n",
       "      <th>4</th>\n",
       "      <td>UCrlNi8Z5TXfWJf4psK76KWw</td>\n",
       "      <td>[Boards Of Canada - Olson (Midland Edit), Trac...</td>\n",
       "      <td>17</td>\n",
       "      <td>[Boards Of Canada - Olson (Midland Edit), Trac...</td>\n",
       "      <td>2</td>\n",
       "    </tr>\n",
       "  </tbody>\n",
       "</table>\n",
       "</div>"
      ]
     },
     "metadata": {
      "application/vnd.databricks.v1+output": {
       "addedWidgets": {},
       "arguments": {},
       "data": "<div>\n<style scoped>\n    .dataframe tbody tr th:only-of-type {\n        vertical-align: middle;\n    }\n\n    .dataframe tbody tr th {\n        vertical-align: top;\n    }\n\n    .dataframe thead th {\n        text-align: right;\n    }\n</style>\n<table border=\"1\" class=\"dataframe\">\n  <thead>\n    <tr style=\"text-align: right;\">\n      <th></th>\n      <th>snippet_channelId</th>\n      <th>songs_list</th>\n      <th>items_count</th>\n      <th>sliced</th>\n      <th>slice_count</th>\n    </tr>\n  </thead>\n  <tbody>\n    <tr>\n      <th>0</th>\n      <td>UCudKvbd6gvbm5UCYRk5tZKA</td>\n      <td>[Aaron Smith - Dancin (KRONO Remix), Tom Odell...</td>\n      <td>40</td>\n      <td>[Aaron Smith - Dancin (KRONO Remix), Tom Odell...</td>\n      <td>2</td>\n    </tr>\n    <tr>\n      <th>1</th>\n      <td>UCXIyz409s7bNWVcM-vjfdVA</td>\n      <td>[Paradis - La Ballade de Jim, Drew Hill - Soli...</td>\n      <td>35</td>\n      <td>[Paradis - La Ballade de Jim, Drew Hill - Soli...</td>\n      <td>2</td>\n    </tr>\n    <tr>\n      <th>2</th>\n      <td>UC5nc_ZtjKW1htCVZVRxlQAQ</td>\n      <td>[Mario M - Let Me Out, Bipolar Sunshine - Rive...</td>\n      <td>18</td>\n      <td>[Mario M - Let Me Out, Bipolar Sunshine - Rivers]</td>\n      <td>2</td>\n    </tr>\n    <tr>\n      <th>3</th>\n      <td>UCpDJl2EmP7Oh90Vylx0dZtA</td>\n      <td>[Martin Garrix - Animals (Radio Edit), Milk &amp; ...</td>\n      <td>18</td>\n      <td>[Martin Garrix - Animals (Radio Edit), Milk &amp; ...</td>\n      <td>2</td>\n    </tr>\n    <tr>\n      <th>4</th>\n      <td>UCrlNi8Z5TXfWJf4psK76KWw</td>\n      <td>[Boards Of Canada - Olson (Midland Edit), Trac...</td>\n      <td>17</td>\n      <td>[Boards Of Canada - Olson (Midland Edit), Trac...</td>\n      <td>2</td>\n    </tr>\n  </tbody>\n</table>\n</div>",
       "datasetInfos": [],
       "removedWidgets": [],
       "textData": null,
       "type": "htmlSandbox"
      }
     },
     "output_type": "display_data"
    }
   ],
   "source": [
    "# here we'll \n",
    "transactions \\\n",
    "  .withColumn('items_count', F.size('songs_list')) \\\n",
    "  .withColumn('sliced', F.slice('songs_list', start=1, length=2)) \\\n",
    "  .withColumn('slice_count', F.size('sliced')) \\\n",
    "  .orderBy(F.desc('items_count')) \\\n",
    "  .limit(5).toPandas()"
   ]
  },
  {
   "cell_type": "markdown",
   "metadata": {
    "application/vnd.databricks.v1+cell": {
     "inputWidgets": {},
     "nuid": "26d3a10f-0524-40a7-99b8-cc00044bedbc",
     "showTitle": false,
     "title": ""
    }
   },
   "source": [
    "## Window functions 🏢🏢\n",
    "\n",
    "Window functions make it easy to apply certain functions differently over the data depending on the value of a certain variable. The syntax strongly ressembles that of aggregates."
   ]
  },
  {
   "cell_type": "code",
   "execution_count": null,
   "metadata": {
    "application/vnd.databricks.v1+cell": {
     "inputWidgets": {},
     "nuid": "6e56c7b7-5247-4837-8127-b225c097fd8e",
     "showTitle": false,
     "title": ""
    }
   },
   "outputs": [
    {
     "data": {
      "text/html": [
       "<style scoped>\n",
       "  .ansiout {\n",
       "    display: block;\n",
       "    unicode-bidi: embed;\n",
       "    white-space: pre-wrap;\n",
       "    word-wrap: break-word;\n",
       "    word-break: break-all;\n",
       "    font-family: \"Source Code Pro\", \"Menlo\", monospace;;\n",
       "    font-size: 13px;\n",
       "    color: #555;\n",
       "    margin-left: 4px;\n",
       "    line-height: 19px;\n",
       "  }\n",
       "</style>\n",
       "<div class=\"ansiout\"></div>"
      ]
     },
     "metadata": {
      "application/vnd.databricks.v1+output": {
       "addedWidgets": {},
       "arguments": {},
       "data": "<div class=\"ansiout\"></div>",
       "datasetInfos": [],
       "removedWidgets": [],
       "type": "html"
      }
     },
     "output_type": "display_data"
    }
   ],
   "source": [
    "from pyspark.sql import Window"
   ]
  },
  {
   "cell_type": "markdown",
   "metadata": {
    "application/vnd.databricks.v1+cell": {
     "inputWidgets": {},
     "nuid": "f7e063c5-3590-40b6-a016-90a79635dfd9",
     "showTitle": false,
     "title": ""
    }
   },
   "source": [
    "### `F.rank()`"
   ]
  },
  {
   "cell_type": "code",
   "execution_count": null,
   "metadata": {
    "application/vnd.databricks.v1+cell": {
     "inputWidgets": {},
     "nuid": "6f3ecc20-d6f1-451d-97b2-3d41aa126bfa",
     "showTitle": false,
     "title": ""
    }
   },
   "outputs": [
    {
     "data": {
      "text/html": [
       "<style scoped>\n",
       "  .ansiout {\n",
       "    display: block;\n",
       "    unicode-bidi: embed;\n",
       "    white-space: pre-wrap;\n",
       "    word-wrap: break-word;\n",
       "    word-break: break-all;\n",
       "    font-family: \"Source Code Pro\", \"Menlo\", monospace;;\n",
       "    font-size: 13px;\n",
       "    color: #555;\n",
       "    margin-left: 4px;\n",
       "    line-height: 19px;\n",
       "  }\n",
       "</style>\n",
       "<div class=\"ansiout\">Out[62]: </div>"
      ]
     },
     "metadata": {
      "application/vnd.databricks.v1+output": {
       "addedWidgets": {},
       "arguments": {},
       "data": "<div class=\"ansiout\">Out[62]: </div>",
       "datasetInfos": [],
       "removedWidgets": [],
       "type": "html"
      }
     },
     "output_type": "display_data"
    },
    {
     "data": {
      "text/html": [
       "<div>\n",
       "<style scoped>\n",
       "    .dataframe tbody tr th:only-of-type {\n",
       "        vertical-align: middle;\n",
       "    }\n",
       "\n",
       "    .dataframe tbody tr th {\n",
       "        vertical-align: top;\n",
       "    }\n",
       "\n",
       "    .dataframe thead th {\n",
       "        text-align: right;\n",
       "    }\n",
       "</style>\n",
       "<table border=\"1\" class=\"dataframe\">\n",
       "  <thead>\n",
       "    <tr style=\"text-align: right;\">\n",
       "      <th></th>\n",
       "      <th>contentDetails_duration</th>\n",
       "      <th>id</th>\n",
       "      <th>snippet_channelId</th>\n",
       "      <th>snippet_channelTitle</th>\n",
       "      <th>snippet_publishedAt</th>\n",
       "      <th>snippet_title</th>\n",
       "      <th>statistics_commentCount</th>\n",
       "      <th>statistics_dislikeCount</th>\n",
       "      <th>statistics_viewCount</th>\n",
       "      <th>rank</th>\n",
       "    </tr>\n",
       "  </thead>\n",
       "  <tbody>\n",
       "    <tr>\n",
       "      <th>0</th>\n",
       "      <td>PT2M28S</td>\n",
       "      <td>zCbGTLlEKsY</td>\n",
       "      <td>UC--yIemFNSgwQ0JxyYsABAQ</td>\n",
       "      <td>Lapalux</td>\n",
       "      <td>2014-02-14T13:58:33Z</td>\n",
       "      <td>LPLX - Lonesum Tnite</td>\n",
       "      <td>30</td>\n",
       "      <td>9</td>\n",
       "      <td>44054</td>\n",
       "      <td>1</td>\n",
       "    </tr>\n",
       "    <tr>\n",
       "      <th>1</th>\n",
       "      <td>PT2M51S</td>\n",
       "      <td>8NHJJtYzz7M</td>\n",
       "      <td>UC-0o65Lf1PjgLMn_SNM_-IA</td>\n",
       "      <td>Planet Mu</td>\n",
       "      <td>2012-06-11T21:25:42Z</td>\n",
       "      <td>Kuedo: Ascension Phase Planet Mu</td>\n",
       "      <td>12</td>\n",
       "      <td>1</td>\n",
       "      <td>14777</td>\n",
       "      <td>1</td>\n",
       "    </tr>\n",
       "    <tr>\n",
       "      <th>2</th>\n",
       "      <td>PT4M6S</td>\n",
       "      <td>QG24u-KULrE</td>\n",
       "      <td>UC-1p1N6c89__rKNkXukVSgQ</td>\n",
       "      <td>dreamlandsessions</td>\n",
       "      <td>2012-03-20T19:27:15Z</td>\n",
       "      <td>We Were Evergreen - Summer Flings - #19 The Dr...</td>\n",
       "      <td>102</td>\n",
       "      <td>17</td>\n",
       "      <td>277211</td>\n",
       "      <td>1</td>\n",
       "    </tr>\n",
       "    <tr>\n",
       "      <th>3</th>\n",
       "      <td>PT4M51S</td>\n",
       "      <td>HvY9nHIAneg</td>\n",
       "      <td>UC-4qGwreIdRc0krq63GVU4A</td>\n",
       "      <td>bollyoldisgold</td>\n",
       "      <td>2011-10-11T06:42:12Z</td>\n",
       "      <td>Chura Liya Hai Tumne Jo Dil Ko (Eng Sub) [Full...</td>\n",
       "      <td>2778</td>\n",
       "      <td>7987</td>\n",
       "      <td>22094792</td>\n",
       "      <td>1</td>\n",
       "    </tr>\n",
       "    <tr>\n",
       "      <th>4</th>\n",
       "      <td>PT7M12S</td>\n",
       "      <td>h0BvWkzMKW4</td>\n",
       "      <td>UC-4scrY6QWlXlcMd0v5STTQ</td>\n",
       "      <td>RECONEYEZmedia</td>\n",
       "      <td>2011-06-13T20:37:23Z</td>\n",
       "      <td>DUB FX 'love someone' | Ghent 25/5 | RECONEYEZ...</td>\n",
       "      <td>170</td>\n",
       "      <td>15</td>\n",
       "      <td>276692</td>\n",
       "      <td>1</td>\n",
       "    </tr>\n",
       "    <tr>\n",
       "      <th>5</th>\n",
       "      <td>PT3M52S</td>\n",
       "      <td>4T9r9_8Pd2s</td>\n",
       "      <td>UC-5PWksZaesFlDIgxDIqSPg</td>\n",
       "      <td>v8ford</td>\n",
       "      <td>2008-01-02T14:51:21Z</td>\n",
       "      <td>Free the Robots Jazzhole</td>\n",
       "      <td>203</td>\n",
       "      <td>37</td>\n",
       "      <td>653574</td>\n",
       "      <td>1</td>\n",
       "    </tr>\n",
       "    <tr>\n",
       "      <th>6</th>\n",
       "      <td>PT6M4S</td>\n",
       "      <td>WYMYEQmBT9M</td>\n",
       "      <td>UC-62qhQ9D1n5PFaZH-s6dGg</td>\n",
       "      <td>1000tters</td>\n",
       "      <td>2011-11-22T21:03:55Z</td>\n",
       "      <td>Connan Mockasin - Ashes to Ashes</td>\n",
       "      <td>8</td>\n",
       "      <td>1</td>\n",
       "      <td>9881</td>\n",
       "      <td>1</td>\n",
       "    </tr>\n",
       "    <tr>\n",
       "      <th>7</th>\n",
       "      <td>PT3M37S</td>\n",
       "      <td>ulIOrQasR18</td>\n",
       "      <td>UC-716wgP94vhil91RVJwaIQ</td>\n",
       "      <td>JonLajoie</td>\n",
       "      <td>2011-07-29T12:05:44Z</td>\n",
       "      <td>F**k Everything (Jon Lajoie)</td>\n",
       "      <td>27140</td>\n",
       "      <td>5098</td>\n",
       "      <td>16425788</td>\n",
       "      <td>1</td>\n",
       "    </tr>\n",
       "    <tr>\n",
       "      <th>8</th>\n",
       "      <td>PT3M36S</td>\n",
       "      <td>F9S-88WxPdE</td>\n",
       "      <td>UC-8Q-hLdECwQmaWNwXitYDw</td>\n",
       "      <td>KatyPerryVEVO</td>\n",
       "      <td>2013-09-24T21:00:13Z</td>\n",
       "      <td>Katy Perry - Dark Horse (Audio) ft. Juicy J</td>\n",
       "      <td>38381</td>\n",
       "      <td>31191</td>\n",
       "      <td>88104088</td>\n",
       "      <td>1</td>\n",
       "    </tr>\n",
       "    <tr>\n",
       "      <th>9</th>\n",
       "      <td>PT3M57S</td>\n",
       "      <td>XjwZAa2EjKA</td>\n",
       "      <td>UC-8Q-hLdECwQmaWNwXitYDw</td>\n",
       "      <td>KatyPerryVEVO</td>\n",
       "      <td>2013-11-20T08:03:53Z</td>\n",
       "      <td>Katy Perry - Unconditionally (Official)</td>\n",
       "      <td>96260</td>\n",
       "      <td>76299</td>\n",
       "      <td>545105039</td>\n",
       "      <td>2</td>\n",
       "    </tr>\n",
       "  </tbody>\n",
       "</table>\n",
       "</div>"
      ]
     },
     "metadata": {
      "application/vnd.databricks.v1+output": {
       "addedWidgets": {},
       "arguments": {},
       "data": "<div>\n<style scoped>\n    .dataframe tbody tr th:only-of-type {\n        vertical-align: middle;\n    }\n\n    .dataframe tbody tr th {\n        vertical-align: top;\n    }\n\n    .dataframe thead th {\n        text-align: right;\n    }\n</style>\n<table border=\"1\" class=\"dataframe\">\n  <thead>\n    <tr style=\"text-align: right;\">\n      <th></th>\n      <th>contentDetails_duration</th>\n      <th>id</th>\n      <th>snippet_channelId</th>\n      <th>snippet_channelTitle</th>\n      <th>snippet_publishedAt</th>\n      <th>snippet_title</th>\n      <th>statistics_commentCount</th>\n      <th>statistics_dislikeCount</th>\n      <th>statistics_viewCount</th>\n      <th>rank</th>\n    </tr>\n  </thead>\n  <tbody>\n    <tr>\n      <th>0</th>\n      <td>PT2M28S</td>\n      <td>zCbGTLlEKsY</td>\n      <td>UC--yIemFNSgwQ0JxyYsABAQ</td>\n      <td>Lapalux</td>\n      <td>2014-02-14T13:58:33Z</td>\n      <td>LPLX - Lonesum Tnite</td>\n      <td>30</td>\n      <td>9</td>\n      <td>44054</td>\n      <td>1</td>\n    </tr>\n    <tr>\n      <th>1</th>\n      <td>PT2M51S</td>\n      <td>8NHJJtYzz7M</td>\n      <td>UC-0o65Lf1PjgLMn_SNM_-IA</td>\n      <td>Planet Mu</td>\n      <td>2012-06-11T21:25:42Z</td>\n      <td>Kuedo: Ascension Phase Planet Mu</td>\n      <td>12</td>\n      <td>1</td>\n      <td>14777</td>\n      <td>1</td>\n    </tr>\n    <tr>\n      <th>2</th>\n      <td>PT4M6S</td>\n      <td>QG24u-KULrE</td>\n      <td>UC-1p1N6c89__rKNkXukVSgQ</td>\n      <td>dreamlandsessions</td>\n      <td>2012-03-20T19:27:15Z</td>\n      <td>We Were Evergreen - Summer Flings - #19 The Dr...</td>\n      <td>102</td>\n      <td>17</td>\n      <td>277211</td>\n      <td>1</td>\n    </tr>\n    <tr>\n      <th>3</th>\n      <td>PT4M51S</td>\n      <td>HvY9nHIAneg</td>\n      <td>UC-4qGwreIdRc0krq63GVU4A</td>\n      <td>bollyoldisgold</td>\n      <td>2011-10-11T06:42:12Z</td>\n      <td>Chura Liya Hai Tumne Jo Dil Ko (Eng Sub) [Full...</td>\n      <td>2778</td>\n      <td>7987</td>\n      <td>22094792</td>\n      <td>1</td>\n    </tr>\n    <tr>\n      <th>4</th>\n      <td>PT7M12S</td>\n      <td>h0BvWkzMKW4</td>\n      <td>UC-4scrY6QWlXlcMd0v5STTQ</td>\n      <td>RECONEYEZmedia</td>\n      <td>2011-06-13T20:37:23Z</td>\n      <td>DUB FX 'love someone' | Ghent 25/5 | RECONEYEZ...</td>\n      <td>170</td>\n      <td>15</td>\n      <td>276692</td>\n      <td>1</td>\n    </tr>\n    <tr>\n      <th>5</th>\n      <td>PT3M52S</td>\n      <td>4T9r9_8Pd2s</td>\n      <td>UC-5PWksZaesFlDIgxDIqSPg</td>\n      <td>v8ford</td>\n      <td>2008-01-02T14:51:21Z</td>\n      <td>Free the Robots Jazzhole</td>\n      <td>203</td>\n      <td>37</td>\n      <td>653574</td>\n      <td>1</td>\n    </tr>\n    <tr>\n      <th>6</th>\n      <td>PT6M4S</td>\n      <td>WYMYEQmBT9M</td>\n      <td>UC-62qhQ9D1n5PFaZH-s6dGg</td>\n      <td>1000tters</td>\n      <td>2011-11-22T21:03:55Z</td>\n      <td>Connan Mockasin - Ashes to Ashes</td>\n      <td>8</td>\n      <td>1</td>\n      <td>9881</td>\n      <td>1</td>\n    </tr>\n    <tr>\n      <th>7</th>\n      <td>PT3M37S</td>\n      <td>ulIOrQasR18</td>\n      <td>UC-716wgP94vhil91RVJwaIQ</td>\n      <td>JonLajoie</td>\n      <td>2011-07-29T12:05:44Z</td>\n      <td>F**k Everything (Jon Lajoie)</td>\n      <td>27140</td>\n      <td>5098</td>\n      <td>16425788</td>\n      <td>1</td>\n    </tr>\n    <tr>\n      <th>8</th>\n      <td>PT3M36S</td>\n      <td>F9S-88WxPdE</td>\n      <td>UC-8Q-hLdECwQmaWNwXitYDw</td>\n      <td>KatyPerryVEVO</td>\n      <td>2013-09-24T21:00:13Z</td>\n      <td>Katy Perry - Dark Horse (Audio) ft. Juicy J</td>\n      <td>38381</td>\n      <td>31191</td>\n      <td>88104088</td>\n      <td>1</td>\n    </tr>\n    <tr>\n      <th>9</th>\n      <td>PT3M57S</td>\n      <td>XjwZAa2EjKA</td>\n      <td>UC-8Q-hLdECwQmaWNwXitYDw</td>\n      <td>KatyPerryVEVO</td>\n      <td>2013-11-20T08:03:53Z</td>\n      <td>Katy Perry - Unconditionally (Official)</td>\n      <td>96260</td>\n      <td>76299</td>\n      <td>545105039</td>\n      <td>2</td>\n    </tr>\n  </tbody>\n</table>\n</div>",
       "datasetInfos": [],
       "removedWidgets": [],
       "textData": null,
       "type": "htmlSandbox"
      }
     },
     "output_type": "display_data"
    }
   ],
   "source": [
    "# We will create a window function that will sort the data in ascending order\n",
    "# according to statistics view count for each channel id\n",
    "w = Window.partitionBy(\"snippet_channelId\").orderBy('statistics_viewCount')\n",
    "# then we will use this window function to create a rank variable ranking each song in each channel\n",
    "songs \\\n",
    "  .withColumn('rank', F.rank().over(w)) \\\n",
    "  .orderBy('snippet_channelId','rank') \\\n",
    "  .limit(10).toPandas()"
   ]
  },
  {
   "cell_type": "markdown",
   "metadata": {
    "application/vnd.databricks.v1+cell": {
     "inputWidgets": {},
     "nuid": "aa01e873-d411-4a00-9513-c24c333353de",
     "showTitle": false,
     "title": ""
    }
   },
   "source": [
    "### `F.lag()` and `F.lead()`\n",
    "These two methods allow you to create a new column containing the immediately lower or immediatly higher value in a dataframe."
   ]
  },
  {
   "cell_type": "code",
   "execution_count": null,
   "metadata": {
    "application/vnd.databricks.v1+cell": {
     "inputWidgets": {},
     "nuid": "043ebcca-f70d-4980-b1ca-9cc4e23b69b7",
     "showTitle": false,
     "title": ""
    }
   },
   "outputs": [
    {
     "data": {
      "text/html": [
       "<style scoped>\n",
       "  .ansiout {\n",
       "    display: block;\n",
       "    unicode-bidi: embed;\n",
       "    white-space: pre-wrap;\n",
       "    word-wrap: break-word;\n",
       "    word-break: break-all;\n",
       "    font-family: \"Source Code Pro\", \"Menlo\", monospace;;\n",
       "    font-size: 13px;\n",
       "    color: #555;\n",
       "    margin-left: 4px;\n",
       "    line-height: 19px;\n",
       "  }\n",
       "</style>\n",
       "<div class=\"ansiout\">Out[63]: </div>"
      ]
     },
     "metadata": {
      "application/vnd.databricks.v1+output": {
       "addedWidgets": {},
       "arguments": {},
       "data": "<div class=\"ansiout\">Out[63]: </div>",
       "datasetInfos": [],
       "removedWidgets": [],
       "type": "html"
      }
     },
     "output_type": "display_data"
    },
    {
     "data": {
      "text/html": [
       "<div>\n",
       "<style scoped>\n",
       "    .dataframe tbody tr th:only-of-type {\n",
       "        vertical-align: middle;\n",
       "    }\n",
       "\n",
       "    .dataframe tbody tr th {\n",
       "        vertical-align: top;\n",
       "    }\n",
       "\n",
       "    .dataframe thead th {\n",
       "        text-align: right;\n",
       "    }\n",
       "</style>\n",
       "<table border=\"1\" class=\"dataframe\">\n",
       "  <thead>\n",
       "    <tr style=\"text-align: right;\">\n",
       "      <th></th>\n",
       "      <th>contentDetails_duration</th>\n",
       "      <th>id</th>\n",
       "      <th>snippet_channelId</th>\n",
       "      <th>snippet_channelTitle</th>\n",
       "      <th>snippet_publishedAt</th>\n",
       "      <th>snippet_title</th>\n",
       "      <th>statistics_commentCount</th>\n",
       "      <th>statistics_dislikeCount</th>\n",
       "      <th>statistics_viewCount</th>\n",
       "      <th>less_viewed</th>\n",
       "    </tr>\n",
       "  </thead>\n",
       "  <tbody>\n",
       "    <tr>\n",
       "      <th>0</th>\n",
       "      <td>PT4M44S</td>\n",
       "      <td>hT_nvWreIhg</td>\n",
       "      <td>UCQ5kHOKpF3-1_UCKaqXARRg</td>\n",
       "      <td>OneRepublicVEVO</td>\n",
       "      <td>2013-05-31T07:00:36Z</td>\n",
       "      <td>OneRepublic - Counting Stars (Official Music V...</td>\n",
       "      <td>389981</td>\n",
       "      <td>397557</td>\n",
       "      <td>3058853981</td>\n",
       "      <td>2789082191</td>\n",
       "    </tr>\n",
       "    <tr>\n",
       "      <th>1</th>\n",
       "      <td>PT4M15S</td>\n",
       "      <td>RBumgq5yVrA</td>\n",
       "      <td>UCFHtCB_FWXQ8GpjgfYcD8-g</td>\n",
       "      <td>Passenger</td>\n",
       "      <td>2012-07-25T22:28:26Z</td>\n",
       "      <td>Passenger | Let Her Go (Official Video)</td>\n",
       "      <td>369022</td>\n",
       "      <td>353323</td>\n",
       "      <td>2789082191</td>\n",
       "      <td>2064352955</td>\n",
       "    </tr>\n",
       "    <tr>\n",
       "      <th>2</th>\n",
       "      <td>PT4M27S</td>\n",
       "      <td>uelHwf8o7_U</td>\n",
       "      <td>UC20vb-R_px4CguHzzBPhoyQ</td>\n",
       "      <td>EminemVEVO</td>\n",
       "      <td>2010-08-05T19:09:46Z</td>\n",
       "      <td>Eminem - Love The Way You Lie ft. Rihanna</td>\n",
       "      <td>547709</td>\n",
       "      <td>336798</td>\n",
       "      <td>2064352955</td>\n",
       "      <td>1963215194</td>\n",
       "    </tr>\n",
       "    <tr>\n",
       "      <th>3</th>\n",
       "      <td>PT4M33S</td>\n",
       "      <td>IcrbM1l_BoI</td>\n",
       "      <td>UC1SqP7_RfOC9Jf9L_GRHANg</td>\n",
       "      <td>AviciiOfficialVEVO</td>\n",
       "      <td>2013-07-29T15:55:09Z</td>\n",
       "      <td>Avicii - Wake Me Up (Official Video)</td>\n",
       "      <td>581275</td>\n",
       "      <td>280081</td>\n",
       "      <td>1963215194</td>\n",
       "      <td>1506602164</td>\n",
       "    </tr>\n",
       "    <tr>\n",
       "      <th>4</th>\n",
       "      <td>PT4M4S</td>\n",
       "      <td>8UVNT4wvIGY</td>\n",
       "      <td>UCFC9LamNMmLioW643VZ40OA</td>\n",
       "      <td>gotyemusic</td>\n",
       "      <td>2011-07-05T21:29:29Z</td>\n",
       "      <td>Gotye - Somebody That I Used To Know (feat. Ki...</td>\n",
       "      <td>639673</td>\n",
       "      <td>402468</td>\n",
       "      <td>1506602164</td>\n",
       "      <td>1477980957</td>\n",
       "    </tr>\n",
       "    <tr>\n",
       "      <th>5</th>\n",
       "      <td>PT3M53S</td>\n",
       "      <td>QK8mJJJvaes</td>\n",
       "      <td>UCXYRdIXDdeZIf816EWAr5zQ</td>\n",
       "      <td>Macklemore LLC</td>\n",
       "      <td>2012-08-29T15:53:50Z</td>\n",
       "      <td>MACKLEMORE &amp; RYAN LEWIS - THRIFT SHOP FEAT. WA...</td>\n",
       "      <td>479401</td>\n",
       "      <td>331818</td>\n",
       "      <td>1477980957</td>\n",
       "      <td>1436168604</td>\n",
       "    </tr>\n",
       "    <tr>\n",
       "      <th>6</th>\n",
       "      <td>PT9M17S</td>\n",
       "      <td>8SbUC-UaAxE</td>\n",
       "      <td>UCJN4c_lZorb_0eyIP_tSS3A</td>\n",
       "      <td>GunsNRosesVEVO</td>\n",
       "      <td>2009-12-25T08:37:37Z</td>\n",
       "      <td>Guns N' Roses - November Rain</td>\n",
       "      <td>260028</td>\n",
       "      <td>269865</td>\n",
       "      <td>1436168604</td>\n",
       "      <td>1425286294</td>\n",
       "    </tr>\n",
       "    <tr>\n",
       "      <th>7</th>\n",
       "      <td>PT3M12S</td>\n",
       "      <td>gCYcHz2k5x0</td>\n",
       "      <td>UCpDJl2EmP7Oh90Vylx0dZtA</td>\n",
       "      <td>Spinnin' Records</td>\n",
       "      <td>2013-06-17T14:30:09Z</td>\n",
       "      <td>Martin Garrix - Animals (Official Video)</td>\n",
       "      <td>303936</td>\n",
       "      <td>311841</td>\n",
       "      <td>1425286294</td>\n",
       "      <td>1231470918</td>\n",
       "    </tr>\n",
       "    <tr>\n",
       "      <th>8</th>\n",
       "      <td>PT3M35S</td>\n",
       "      <td>hHUbLv4ThOo</td>\n",
       "      <td>UCVWA4btXTFru9qM06FceSag</td>\n",
       "      <td>PitbullVEVO</td>\n",
       "      <td>2013-11-25T18:19:53Z</td>\n",
       "      <td>Pitbull - Timber ft. Ke$ha (Official Video)</td>\n",
       "      <td>142086</td>\n",
       "      <td>238742</td>\n",
       "      <td>1231470918</td>\n",
       "      <td>1214884358</td>\n",
       "    </tr>\n",
       "    <tr>\n",
       "      <th>9</th>\n",
       "      <td>PT4M3S</td>\n",
       "      <td>OpQFFLBMEPI</td>\n",
       "      <td>UCXJDX1KK6t121Z9FLhu5o2A</td>\n",
       "      <td>PinkVEVO</td>\n",
       "      <td>2013-02-05T22:00:58Z</td>\n",
       "      <td>P!nk - Just Give Me A Reason ft. Nate Ruess</td>\n",
       "      <td>147319</td>\n",
       "      <td>185366</td>\n",
       "      <td>1214884358</td>\n",
       "      <td>1206284490</td>\n",
       "    </tr>\n",
       "  </tbody>\n",
       "</table>\n",
       "</div>"
      ]
     },
     "metadata": {
      "application/vnd.databricks.v1+output": {
       "addedWidgets": {},
       "arguments": {},
       "data": "<div>\n<style scoped>\n    .dataframe tbody tr th:only-of-type {\n        vertical-align: middle;\n    }\n\n    .dataframe tbody tr th {\n        vertical-align: top;\n    }\n\n    .dataframe thead th {\n        text-align: right;\n    }\n</style>\n<table border=\"1\" class=\"dataframe\">\n  <thead>\n    <tr style=\"text-align: right;\">\n      <th></th>\n      <th>contentDetails_duration</th>\n      <th>id</th>\n      <th>snippet_channelId</th>\n      <th>snippet_channelTitle</th>\n      <th>snippet_publishedAt</th>\n      <th>snippet_title</th>\n      <th>statistics_commentCount</th>\n      <th>statistics_dislikeCount</th>\n      <th>statistics_viewCount</th>\n      <th>less_viewed</th>\n    </tr>\n  </thead>\n  <tbody>\n    <tr>\n      <th>0</th>\n      <td>PT4M44S</td>\n      <td>hT_nvWreIhg</td>\n      <td>UCQ5kHOKpF3-1_UCKaqXARRg</td>\n      <td>OneRepublicVEVO</td>\n      <td>2013-05-31T07:00:36Z</td>\n      <td>OneRepublic - Counting Stars (Official Music V...</td>\n      <td>389981</td>\n      <td>397557</td>\n      <td>3058853981</td>\n      <td>2789082191</td>\n    </tr>\n    <tr>\n      <th>1</th>\n      <td>PT4M15S</td>\n      <td>RBumgq5yVrA</td>\n      <td>UCFHtCB_FWXQ8GpjgfYcD8-g</td>\n      <td>Passenger</td>\n      <td>2012-07-25T22:28:26Z</td>\n      <td>Passenger | Let Her Go (Official Video)</td>\n      <td>369022</td>\n      <td>353323</td>\n      <td>2789082191</td>\n      <td>2064352955</td>\n    </tr>\n    <tr>\n      <th>2</th>\n      <td>PT4M27S</td>\n      <td>uelHwf8o7_U</td>\n      <td>UC20vb-R_px4CguHzzBPhoyQ</td>\n      <td>EminemVEVO</td>\n      <td>2010-08-05T19:09:46Z</td>\n      <td>Eminem - Love The Way You Lie ft. Rihanna</td>\n      <td>547709</td>\n      <td>336798</td>\n      <td>2064352955</td>\n      <td>1963215194</td>\n    </tr>\n    <tr>\n      <th>3</th>\n      <td>PT4M33S</td>\n      <td>IcrbM1l_BoI</td>\n      <td>UC1SqP7_RfOC9Jf9L_GRHANg</td>\n      <td>AviciiOfficialVEVO</td>\n      <td>2013-07-29T15:55:09Z</td>\n      <td>Avicii - Wake Me Up (Official Video)</td>\n      <td>581275</td>\n      <td>280081</td>\n      <td>1963215194</td>\n      <td>1506602164</td>\n    </tr>\n    <tr>\n      <th>4</th>\n      <td>PT4M4S</td>\n      <td>8UVNT4wvIGY</td>\n      <td>UCFC9LamNMmLioW643VZ40OA</td>\n      <td>gotyemusic</td>\n      <td>2011-07-05T21:29:29Z</td>\n      <td>Gotye - Somebody That I Used To Know (feat. Ki...</td>\n      <td>639673</td>\n      <td>402468</td>\n      <td>1506602164</td>\n      <td>1477980957</td>\n    </tr>\n    <tr>\n      <th>5</th>\n      <td>PT3M53S</td>\n      <td>QK8mJJJvaes</td>\n      <td>UCXYRdIXDdeZIf816EWAr5zQ</td>\n      <td>Macklemore LLC</td>\n      <td>2012-08-29T15:53:50Z</td>\n      <td>MACKLEMORE &amp; RYAN LEWIS - THRIFT SHOP FEAT. WA...</td>\n      <td>479401</td>\n      <td>331818</td>\n      <td>1477980957</td>\n      <td>1436168604</td>\n    </tr>\n    <tr>\n      <th>6</th>\n      <td>PT9M17S</td>\n      <td>8SbUC-UaAxE</td>\n      <td>UCJN4c_lZorb_0eyIP_tSS3A</td>\n      <td>GunsNRosesVEVO</td>\n      <td>2009-12-25T08:37:37Z</td>\n      <td>Guns N' Roses - November Rain</td>\n      <td>260028</td>\n      <td>269865</td>\n      <td>1436168604</td>\n      <td>1425286294</td>\n    </tr>\n    <tr>\n      <th>7</th>\n      <td>PT3M12S</td>\n      <td>gCYcHz2k5x0</td>\n      <td>UCpDJl2EmP7Oh90Vylx0dZtA</td>\n      <td>Spinnin' Records</td>\n      <td>2013-06-17T14:30:09Z</td>\n      <td>Martin Garrix - Animals (Official Video)</td>\n      <td>303936</td>\n      <td>311841</td>\n      <td>1425286294</td>\n      <td>1231470918</td>\n    </tr>\n    <tr>\n      <th>8</th>\n      <td>PT3M35S</td>\n      <td>hHUbLv4ThOo</td>\n      <td>UCVWA4btXTFru9qM06FceSag</td>\n      <td>PitbullVEVO</td>\n      <td>2013-11-25T18:19:53Z</td>\n      <td>Pitbull - Timber ft. Ke$ha (Official Video)</td>\n      <td>142086</td>\n      <td>238742</td>\n      <td>1231470918</td>\n      <td>1214884358</td>\n    </tr>\n    <tr>\n      <th>9</th>\n      <td>PT4M3S</td>\n      <td>OpQFFLBMEPI</td>\n      <td>UCXJDX1KK6t121Z9FLhu5o2A</td>\n      <td>PinkVEVO</td>\n      <td>2013-02-05T22:00:58Z</td>\n      <td>P!nk - Just Give Me A Reason ft. Nate Ruess</td>\n      <td>147319</td>\n      <td>185366</td>\n      <td>1214884358</td>\n      <td>1206284490</td>\n    </tr>\n  </tbody>\n</table>\n</div>",
       "datasetInfos": [],
       "removedWidgets": [],
       "textData": null,
       "type": "htmlSandbox"
      }
     },
     "output_type": "display_data"
    }
   ],
   "source": [
    "w = Window.orderBy('statistics_viewCount')\n",
    "\n",
    "# Here we'll fill the less viewed column witht the view count of the song that's next in descending order\n",
    "songs \\\n",
    "  .withColumn('less_viewed', F.lag('statistics_viewCount').over(w)) \\\n",
    "  .orderBy(F.desc('statistics_viewCount')) \\\n",
    "  .limit(10).toPandas()"
   ]
  },
  {
   "cell_type": "markdown",
   "metadata": {
    "application/vnd.databricks.v1+cell": {
     "inputWidgets": {},
     "nuid": "09d1e8ff-08a8-493f-8ba1-2bcc3e623969",
     "showTitle": false,
     "title": ""
    }
   },
   "source": [
    "`.lead()` is the opposite"
   ]
  },
  {
   "cell_type": "code",
   "execution_count": null,
   "metadata": {
    "application/vnd.databricks.v1+cell": {
     "inputWidgets": {},
     "nuid": "4400b907-a96d-490a-b3ec-d931ddaedd15",
     "showTitle": false,
     "title": ""
    }
   },
   "outputs": [
    {
     "data": {
      "text/html": [
       "<style scoped>\n",
       "  .ansiout {\n",
       "    display: block;\n",
       "    unicode-bidi: embed;\n",
       "    white-space: pre-wrap;\n",
       "    word-wrap: break-word;\n",
       "    word-break: break-all;\n",
       "    font-family: \"Source Code Pro\", \"Menlo\", monospace;;\n",
       "    font-size: 13px;\n",
       "    color: #555;\n",
       "    margin-left: 4px;\n",
       "    line-height: 19px;\n",
       "  }\n",
       "</style>\n",
       "<div class=\"ansiout\">Out[64]: </div>"
      ]
     },
     "metadata": {
      "application/vnd.databricks.v1+output": {
       "addedWidgets": {},
       "arguments": {},
       "data": "<div class=\"ansiout\">Out[64]: </div>",
       "datasetInfos": [],
       "removedWidgets": [],
       "type": "html"
      }
     },
     "output_type": "display_data"
    },
    {
     "data": {
      "text/html": [
       "<div>\n",
       "<style scoped>\n",
       "    .dataframe tbody tr th:only-of-type {\n",
       "        vertical-align: middle;\n",
       "    }\n",
       "\n",
       "    .dataframe tbody tr th {\n",
       "        vertical-align: top;\n",
       "    }\n",
       "\n",
       "    .dataframe thead th {\n",
       "        text-align: right;\n",
       "    }\n",
       "</style>\n",
       "<table border=\"1\" class=\"dataframe\">\n",
       "  <thead>\n",
       "    <tr style=\"text-align: right;\">\n",
       "      <th></th>\n",
       "      <th>contentDetails_duration</th>\n",
       "      <th>id</th>\n",
       "      <th>snippet_channelId</th>\n",
       "      <th>snippet_channelTitle</th>\n",
       "      <th>snippet_publishedAt</th>\n",
       "      <th>snippet_title</th>\n",
       "      <th>statistics_commentCount</th>\n",
       "      <th>statistics_dislikeCount</th>\n",
       "      <th>statistics_viewCount</th>\n",
       "      <th>more_viewed</th>\n",
       "    </tr>\n",
       "  </thead>\n",
       "  <tbody>\n",
       "    <tr>\n",
       "      <th>0</th>\n",
       "      <td>PT4M44S</td>\n",
       "      <td>hT_nvWreIhg</td>\n",
       "      <td>UCQ5kHOKpF3-1_UCKaqXARRg</td>\n",
       "      <td>OneRepublicVEVO</td>\n",
       "      <td>2013-05-31T07:00:36Z</td>\n",
       "      <td>OneRepublic - Counting Stars (Official Music V...</td>\n",
       "      <td>389981</td>\n",
       "      <td>397557</td>\n",
       "      <td>3058853981</td>\n",
       "      <td>NaN</td>\n",
       "    </tr>\n",
       "    <tr>\n",
       "      <th>1</th>\n",
       "      <td>PT4M15S</td>\n",
       "      <td>RBumgq5yVrA</td>\n",
       "      <td>UCFHtCB_FWXQ8GpjgfYcD8-g</td>\n",
       "      <td>Passenger</td>\n",
       "      <td>2012-07-25T22:28:26Z</td>\n",
       "      <td>Passenger | Let Her Go (Official Video)</td>\n",
       "      <td>369022</td>\n",
       "      <td>353323</td>\n",
       "      <td>2789082191</td>\n",
       "      <td>3.058854e+09</td>\n",
       "    </tr>\n",
       "    <tr>\n",
       "      <th>2</th>\n",
       "      <td>PT4M27S</td>\n",
       "      <td>uelHwf8o7_U</td>\n",
       "      <td>UC20vb-R_px4CguHzzBPhoyQ</td>\n",
       "      <td>EminemVEVO</td>\n",
       "      <td>2010-08-05T19:09:46Z</td>\n",
       "      <td>Eminem - Love The Way You Lie ft. Rihanna</td>\n",
       "      <td>547709</td>\n",
       "      <td>336798</td>\n",
       "      <td>2064352955</td>\n",
       "      <td>2.789082e+09</td>\n",
       "    </tr>\n",
       "    <tr>\n",
       "      <th>3</th>\n",
       "      <td>PT4M33S</td>\n",
       "      <td>IcrbM1l_BoI</td>\n",
       "      <td>UC1SqP7_RfOC9Jf9L_GRHANg</td>\n",
       "      <td>AviciiOfficialVEVO</td>\n",
       "      <td>2013-07-29T15:55:09Z</td>\n",
       "      <td>Avicii - Wake Me Up (Official Video)</td>\n",
       "      <td>581275</td>\n",
       "      <td>280081</td>\n",
       "      <td>1963215194</td>\n",
       "      <td>2.064353e+09</td>\n",
       "    </tr>\n",
       "    <tr>\n",
       "      <th>4</th>\n",
       "      <td>PT4M4S</td>\n",
       "      <td>8UVNT4wvIGY</td>\n",
       "      <td>UCFC9LamNMmLioW643VZ40OA</td>\n",
       "      <td>gotyemusic</td>\n",
       "      <td>2011-07-05T21:29:29Z</td>\n",
       "      <td>Gotye - Somebody That I Used To Know (feat. Ki...</td>\n",
       "      <td>639673</td>\n",
       "      <td>402468</td>\n",
       "      <td>1506602164</td>\n",
       "      <td>1.963215e+09</td>\n",
       "    </tr>\n",
       "    <tr>\n",
       "      <th>5</th>\n",
       "      <td>PT3M53S</td>\n",
       "      <td>QK8mJJJvaes</td>\n",
       "      <td>UCXYRdIXDdeZIf816EWAr5zQ</td>\n",
       "      <td>Macklemore LLC</td>\n",
       "      <td>2012-08-29T15:53:50Z</td>\n",
       "      <td>MACKLEMORE &amp; RYAN LEWIS - THRIFT SHOP FEAT. WA...</td>\n",
       "      <td>479401</td>\n",
       "      <td>331818</td>\n",
       "      <td>1477980957</td>\n",
       "      <td>1.506602e+09</td>\n",
       "    </tr>\n",
       "    <tr>\n",
       "      <th>6</th>\n",
       "      <td>PT9M17S</td>\n",
       "      <td>8SbUC-UaAxE</td>\n",
       "      <td>UCJN4c_lZorb_0eyIP_tSS3A</td>\n",
       "      <td>GunsNRosesVEVO</td>\n",
       "      <td>2009-12-25T08:37:37Z</td>\n",
       "      <td>Guns N' Roses - November Rain</td>\n",
       "      <td>260028</td>\n",
       "      <td>269865</td>\n",
       "      <td>1436168604</td>\n",
       "      <td>1.477981e+09</td>\n",
       "    </tr>\n",
       "    <tr>\n",
       "      <th>7</th>\n",
       "      <td>PT3M12S</td>\n",
       "      <td>gCYcHz2k5x0</td>\n",
       "      <td>UCpDJl2EmP7Oh90Vylx0dZtA</td>\n",
       "      <td>Spinnin' Records</td>\n",
       "      <td>2013-06-17T14:30:09Z</td>\n",
       "      <td>Martin Garrix - Animals (Official Video)</td>\n",
       "      <td>303936</td>\n",
       "      <td>311841</td>\n",
       "      <td>1425286294</td>\n",
       "      <td>1.436169e+09</td>\n",
       "    </tr>\n",
       "    <tr>\n",
       "      <th>8</th>\n",
       "      <td>PT3M35S</td>\n",
       "      <td>hHUbLv4ThOo</td>\n",
       "      <td>UCVWA4btXTFru9qM06FceSag</td>\n",
       "      <td>PitbullVEVO</td>\n",
       "      <td>2013-11-25T18:19:53Z</td>\n",
       "      <td>Pitbull - Timber ft. Ke$ha (Official Video)</td>\n",
       "      <td>142086</td>\n",
       "      <td>238742</td>\n",
       "      <td>1231470918</td>\n",
       "      <td>1.425286e+09</td>\n",
       "    </tr>\n",
       "    <tr>\n",
       "      <th>9</th>\n",
       "      <td>PT4M3S</td>\n",
       "      <td>OpQFFLBMEPI</td>\n",
       "      <td>UCXJDX1KK6t121Z9FLhu5o2A</td>\n",
       "      <td>PinkVEVO</td>\n",
       "      <td>2013-02-05T22:00:58Z</td>\n",
       "      <td>P!nk - Just Give Me A Reason ft. Nate Ruess</td>\n",
       "      <td>147319</td>\n",
       "      <td>185366</td>\n",
       "      <td>1214884358</td>\n",
       "      <td>1.231471e+09</td>\n",
       "    </tr>\n",
       "  </tbody>\n",
       "</table>\n",
       "</div>"
      ]
     },
     "metadata": {
      "application/vnd.databricks.v1+output": {
       "addedWidgets": {},
       "arguments": {},
       "data": "<div>\n<style scoped>\n    .dataframe tbody tr th:only-of-type {\n        vertical-align: middle;\n    }\n\n    .dataframe tbody tr th {\n        vertical-align: top;\n    }\n\n    .dataframe thead th {\n        text-align: right;\n    }\n</style>\n<table border=\"1\" class=\"dataframe\">\n  <thead>\n    <tr style=\"text-align: right;\">\n      <th></th>\n      <th>contentDetails_duration</th>\n      <th>id</th>\n      <th>snippet_channelId</th>\n      <th>snippet_channelTitle</th>\n      <th>snippet_publishedAt</th>\n      <th>snippet_title</th>\n      <th>statistics_commentCount</th>\n      <th>statistics_dislikeCount</th>\n      <th>statistics_viewCount</th>\n      <th>more_viewed</th>\n    </tr>\n  </thead>\n  <tbody>\n    <tr>\n      <th>0</th>\n      <td>PT4M44S</td>\n      <td>hT_nvWreIhg</td>\n      <td>UCQ5kHOKpF3-1_UCKaqXARRg</td>\n      <td>OneRepublicVEVO</td>\n      <td>2013-05-31T07:00:36Z</td>\n      <td>OneRepublic - Counting Stars (Official Music V...</td>\n      <td>389981</td>\n      <td>397557</td>\n      <td>3058853981</td>\n      <td>NaN</td>\n    </tr>\n    <tr>\n      <th>1</th>\n      <td>PT4M15S</td>\n      <td>RBumgq5yVrA</td>\n      <td>UCFHtCB_FWXQ8GpjgfYcD8-g</td>\n      <td>Passenger</td>\n      <td>2012-07-25T22:28:26Z</td>\n      <td>Passenger | Let Her Go (Official Video)</td>\n      <td>369022</td>\n      <td>353323</td>\n      <td>2789082191</td>\n      <td>3.058854e+09</td>\n    </tr>\n    <tr>\n      <th>2</th>\n      <td>PT4M27S</td>\n      <td>uelHwf8o7_U</td>\n      <td>UC20vb-R_px4CguHzzBPhoyQ</td>\n      <td>EminemVEVO</td>\n      <td>2010-08-05T19:09:46Z</td>\n      <td>Eminem - Love The Way You Lie ft. Rihanna</td>\n      <td>547709</td>\n      <td>336798</td>\n      <td>2064352955</td>\n      <td>2.789082e+09</td>\n    </tr>\n    <tr>\n      <th>3</th>\n      <td>PT4M33S</td>\n      <td>IcrbM1l_BoI</td>\n      <td>UC1SqP7_RfOC9Jf9L_GRHANg</td>\n      <td>AviciiOfficialVEVO</td>\n      <td>2013-07-29T15:55:09Z</td>\n      <td>Avicii - Wake Me Up (Official Video)</td>\n      <td>581275</td>\n      <td>280081</td>\n      <td>1963215194</td>\n      <td>2.064353e+09</td>\n    </tr>\n    <tr>\n      <th>4</th>\n      <td>PT4M4S</td>\n      <td>8UVNT4wvIGY</td>\n      <td>UCFC9LamNMmLioW643VZ40OA</td>\n      <td>gotyemusic</td>\n      <td>2011-07-05T21:29:29Z</td>\n      <td>Gotye - Somebody That I Used To Know (feat. Ki...</td>\n      <td>639673</td>\n      <td>402468</td>\n      <td>1506602164</td>\n      <td>1.963215e+09</td>\n    </tr>\n    <tr>\n      <th>5</th>\n      <td>PT3M53S</td>\n      <td>QK8mJJJvaes</td>\n      <td>UCXYRdIXDdeZIf816EWAr5zQ</td>\n      <td>Macklemore LLC</td>\n      <td>2012-08-29T15:53:50Z</td>\n      <td>MACKLEMORE &amp; RYAN LEWIS - THRIFT SHOP FEAT. WA...</td>\n      <td>479401</td>\n      <td>331818</td>\n      <td>1477980957</td>\n      <td>1.506602e+09</td>\n    </tr>\n    <tr>\n      <th>6</th>\n      <td>PT9M17S</td>\n      <td>8SbUC-UaAxE</td>\n      <td>UCJN4c_lZorb_0eyIP_tSS3A</td>\n      <td>GunsNRosesVEVO</td>\n      <td>2009-12-25T08:37:37Z</td>\n      <td>Guns N' Roses - November Rain</td>\n      <td>260028</td>\n      <td>269865</td>\n      <td>1436168604</td>\n      <td>1.477981e+09</td>\n    </tr>\n    <tr>\n      <th>7</th>\n      <td>PT3M12S</td>\n      <td>gCYcHz2k5x0</td>\n      <td>UCpDJl2EmP7Oh90Vylx0dZtA</td>\n      <td>Spinnin' Records</td>\n      <td>2013-06-17T14:30:09Z</td>\n      <td>Martin Garrix - Animals (Official Video)</td>\n      <td>303936</td>\n      <td>311841</td>\n      <td>1425286294</td>\n      <td>1.436169e+09</td>\n    </tr>\n    <tr>\n      <th>8</th>\n      <td>PT3M35S</td>\n      <td>hHUbLv4ThOo</td>\n      <td>UCVWA4btXTFru9qM06FceSag</td>\n      <td>PitbullVEVO</td>\n      <td>2013-11-25T18:19:53Z</td>\n      <td>Pitbull - Timber ft. Ke$ha (Official Video)</td>\n      <td>142086</td>\n      <td>238742</td>\n      <td>1231470918</td>\n      <td>1.425286e+09</td>\n    </tr>\n    <tr>\n      <th>9</th>\n      <td>PT4M3S</td>\n      <td>OpQFFLBMEPI</td>\n      <td>UCXJDX1KK6t121Z9FLhu5o2A</td>\n      <td>PinkVEVO</td>\n      <td>2013-02-05T22:00:58Z</td>\n      <td>P!nk - Just Give Me A Reason ft. Nate Ruess</td>\n      <td>147319</td>\n      <td>185366</td>\n      <td>1214884358</td>\n      <td>1.231471e+09</td>\n    </tr>\n  </tbody>\n</table>\n</div>",
       "datasetInfos": [],
       "removedWidgets": [],
       "textData": null,
       "type": "htmlSandbox"
      }
     },
     "output_type": "display_data"
    }
   ],
   "source": [
    "# The column more viewed will carry the view count of the song that was more viewed\n",
    "songs \\\n",
    "  .withColumn('more_viewed', F.lead('statistics_viewCount').over(w)) \\\n",
    "  .orderBy(F.desc('statistics_viewCount')) \\\n",
    "  .limit(10).toPandas()"
   ]
  },
  {
   "cell_type": "markdown",
   "metadata": {
    "application/vnd.databricks.v1+cell": {
     "inputWidgets": {},
     "nuid": "b96897ed-c145-4855-9740-a42abb4ce900",
     "showTitle": false,
     "title": ""
    }
   },
   "source": [
    "## PySpark's UDF 🧑‍💻\n",
    "\n",
    "In Spark SQL we can define our own functions with the UDF function from the `pyspark.sql.functions` module to create our own **U**ser **D**efined **F**unctions (aka UDFs). The default type of the returned variable for UDFs is string. If we would like to return an other type we need to explicitly do so by using the different types from the `pyspark.sql.types` module.\n",
    "\n",
    "UDF are useful when you really need to use a python function for which you do not find any equivalent in spark. The UDF let's you use the python function while still benefitting from the spark framework!\n",
    "\n",
    "---\n",
    "> ⚠️  Using Python User Defined Functions (UDFs) in Apache Spark can have a large negative performance impact.\n",
    "\n",
    "---"
   ]
  },
  {
   "cell_type": "code",
   "execution_count": null,
   "metadata": {
    "application/vnd.databricks.v1+cell": {
     "inputWidgets": {},
     "nuid": "ecff0ffa-8736-4621-a53e-8bd25152c1ff",
     "showTitle": false,
     "title": ""
    }
   },
   "outputs": [
    {
     "data": {
      "text/html": [
       "<div>\n",
       "<style scoped>\n",
       "    .dataframe tbody tr th:only-of-type {\n",
       "        vertical-align: middle;\n",
       "    }\n",
       "\n",
       "    .dataframe tbody tr th {\n",
       "        vertical-align: top;\n",
       "    }\n",
       "\n",
       "    .dataframe thead th {\n",
       "        text-align: right;\n",
       "    }\n",
       "</style>\n",
       "<table border=\"1\" class=\"dataframe\">\n",
       "  <thead>\n",
       "    <tr style=\"text-align: right;\">\n",
       "      <th></th>\n",
       "      <th>user</th>\n",
       "      <th>song</th>\n",
       "      <th>datetime</th>\n",
       "      <th>year</th>\n",
       "      <th>month</th>\n",
       "      <th>dayofmonth</th>\n",
       "      <th>dayofyear</th>\n",
       "      <th>weekofyear</th>\n",
       "    </tr>\n",
       "  </thead>\n",
       "  <tbody>\n",
       "    <tr>\n",
       "      <th>0</th>\n",
       "      <td>4</td>\n",
       "      <td>nRa-eGzpT6o</td>\n",
       "      <td>1965-07-26 03:21:43</td>\n",
       "      <td>1965</td>\n",
       "      <td>7</td>\n",
       "      <td>26</td>\n",
       "      <td>207</td>\n",
       "      <td>30</td>\n",
       "    </tr>\n",
       "    <tr>\n",
       "      <th>1</th>\n",
       "      <td>0</td>\n",
       "      <td>t1l8Z6gLPzo</td>\n",
       "      <td>2014-02-14 14:18:53</td>\n",
       "      <td>2014</td>\n",
       "      <td>2</td>\n",
       "      <td>14</td>\n",
       "      <td>45</td>\n",
       "      <td>7</td>\n",
       "    </tr>\n",
       "    <tr>\n",
       "      <th>2</th>\n",
       "      <td>22</td>\n",
       "      <td>Q24VZL8wpOM</td>\n",
       "      <td>2014-02-14 14:18:57</td>\n",
       "      <td>2014</td>\n",
       "      <td>2</td>\n",
       "      <td>14</td>\n",
       "      <td>45</td>\n",
       "      <td>7</td>\n",
       "    </tr>\n",
       "    <tr>\n",
       "      <th>3</th>\n",
       "      <td>70</td>\n",
       "      <td>VJ6ofd0pB_c</td>\n",
       "      <td>2014-02-14 14:18:57</td>\n",
       "      <td>2014</td>\n",
       "      <td>2</td>\n",
       "      <td>14</td>\n",
       "      <td>45</td>\n",
       "      <td>7</td>\n",
       "    </tr>\n",
       "    <tr>\n",
       "      <th>4</th>\n",
       "      <td>1</td>\n",
       "      <td>t1l8Z6gLPzo</td>\n",
       "      <td>2014-02-14 14:18:58</td>\n",
       "      <td>2014</td>\n",
       "      <td>2</td>\n",
       "      <td>14</td>\n",
       "      <td>45</td>\n",
       "      <td>7</td>\n",
       "    </tr>\n",
       "  </tbody>\n",
       "</table>\n",
       "</div>"
      ]
     },
     "metadata": {
      "application/vnd.databricks.v1+output": {
       "addedWidgets": {},
       "arguments": {},
       "data": "<div>\n<style scoped>\n    .dataframe tbody tr th:only-of-type {\n        vertical-align: middle;\n    }\n\n    .dataframe tbody tr th {\n        vertical-align: top;\n    }\n\n    .dataframe thead th {\n        text-align: right;\n    }\n</style>\n<table border=\"1\" class=\"dataframe\">\n  <thead>\n    <tr style=\"text-align: right;\">\n      <th></th>\n      <th>user</th>\n      <th>song</th>\n      <th>datetime</th>\n      <th>year</th>\n      <th>month</th>\n      <th>dayofmonth</th>\n      <th>dayofyear</th>\n      <th>weekofyear</th>\n    </tr>\n  </thead>\n  <tbody>\n    <tr>\n      <th>0</th>\n      <td>4</td>\n      <td>nRa-eGzpT6o</td>\n      <td>1965-07-26 03:21:43</td>\n      <td>1965</td>\n      <td>7</td>\n      <td>26</td>\n      <td>207</td>\n      <td>30</td>\n    </tr>\n    <tr>\n      <th>1</th>\n      <td>0</td>\n      <td>t1l8Z6gLPzo</td>\n      <td>2014-02-14 14:18:53</td>\n      <td>2014</td>\n      <td>2</td>\n      <td>14</td>\n      <td>45</td>\n      <td>7</td>\n    </tr>\n    <tr>\n      <th>2</th>\n      <td>22</td>\n      <td>Q24VZL8wpOM</td>\n      <td>2014-02-14 14:18:57</td>\n      <td>2014</td>\n      <td>2</td>\n      <td>14</td>\n      <td>45</td>\n      <td>7</td>\n    </tr>\n    <tr>\n      <th>3</th>\n      <td>70</td>\n      <td>VJ6ofd0pB_c</td>\n      <td>2014-02-14 14:18:57</td>\n      <td>2014</td>\n      <td>2</td>\n      <td>14</td>\n      <td>45</td>\n      <td>7</td>\n    </tr>\n    <tr>\n      <th>4</th>\n      <td>1</td>\n      <td>t1l8Z6gLPzo</td>\n      <td>2014-02-14 14:18:58</td>\n      <td>2014</td>\n      <td>2</td>\n      <td>14</td>\n      <td>45</td>\n      <td>7</td>\n    </tr>\n  </tbody>\n</table>\n</div>",
       "datasetInfos": [
        {
         "name": "playlog",
         "schema": {
          "fields": [
           {
            "metadata": {},
            "name": "user",
            "nullable": true,
            "type": "integer"
           },
           {
            "metadata": {},
            "name": "song",
            "nullable": true,
            "type": "string"
           },
           {
            "metadata": {},
            "name": "datetime",
            "nullable": true,
            "type": "string"
           },
           {
            "metadata": {},
            "name": "year",
            "nullable": true,
            "type": "integer"
           },
           {
            "metadata": {},
            "name": "month",
            "nullable": true,
            "type": "integer"
           },
           {
            "metadata": {},
            "name": "dayofmonth",
            "nullable": true,
            "type": "integer"
           },
           {
            "metadata": {},
            "name": "dayofyear",
            "nullable": true,
            "type": "integer"
           },
           {
            "metadata": {},
            "name": "weekofyear",
            "nullable": true,
            "type": "integer"
           }
          ],
          "type": "struct"
         },
         "tableIdentifier": null,
         "typeStr": "pyspark.sql.dataframe.DataFrame"
        }
       ],
       "removedWidgets": [],
       "textData": "<div class=\"ansiout\">root\n |-- timestamp: integer (nullable = true)\n |-- user: integer (nullable = true)\n |-- song: string (nullable = true)\n\nroot\n |-- user: integer (nullable = true)\n |-- song: string (nullable = true)\n |-- datetime: string (nullable = true)\n |-- year: integer (nullable = true)\n |-- month: integer (nullable = true)\n |-- dayofmonth: integer (nullable = true)\n |-- dayofyear: integer (nullable = true)\n |-- weekofyear: integer (nullable = true)\n\nOut[65]: </div>",
       "type": "htmlSandbox"
      }
     },
     "output_type": "display_data"
    }
   ],
   "source": [
    "playlog = spark.read.format(\"csv\").option(\"header\", \"true\").option(\"inferSchema\",\"true\").load(\"s3://full-stack-bigdata-datasets/Big_Data/youtube_playlog.csv\")\n",
    "playlog.printSchema()\n",
    "\n",
    "from pyspark.sql.functions import unix_timestamp, from_unixtime\n",
    "playlog = playlog \\\n",
    "  .withColumn('datetime', from_unixtime('timestamp')) \\\n",
    "  .drop('timestamp') \\\n",
    "  .orderBy('datetime')\n",
    "import datetime\n",
    "from pyspark.sql.functions import year, month, dayofmonth, dayofweek, dayofyear, weekofyear\n",
    "playlog = playlog \\\n",
    "  .withColumn('year', year('datetime')) \\\n",
    "  .withColumn('month', month('datetime')) \\\n",
    "  .withColumn('dayofmonth', dayofmonth('datetime')) \\\n",
    "  .withColumn('dayofyear', dayofyear('datetime')) \\\n",
    "  .withColumn('weekofyear', weekofyear('datetime'))\n",
    "\n",
    "playlog.printSchema()\n",
    "playlog.count(), len(playlog.columns)\n",
    "playlog.limit(5).toPandas()"
   ]
  },
  {
   "cell_type": "markdown",
   "metadata": {
    "application/vnd.databricks.v1+cell": {
     "inputWidgets": {},
     "nuid": "98a2da87-1c59-4ddd-a744-f1ebcaa8306f",
     "showTitle": false,
     "title": ""
    }
   },
   "source": [
    "First, we need a regular Python function, in our case that's a simple function that takes the first three letters from a character string."
   ]
  },
  {
   "cell_type": "code",
   "execution_count": null,
   "metadata": {
    "application/vnd.databricks.v1+cell": {
     "inputWidgets": {},
     "nuid": "cba15be0-fd13-4a70-8506-09cb94cbc14d",
     "showTitle": false,
     "title": ""
    }
   },
   "outputs": [
    {
     "data": {
      "text/html": [
       "<style scoped>\n",
       "  .ansiout {\n",
       "    display: block;\n",
       "    unicode-bidi: embed;\n",
       "    white-space: pre-wrap;\n",
       "    word-wrap: break-word;\n",
       "    word-break: break-all;\n",
       "    font-family: \"Source Code Pro\", \"Menlo\", monospace;;\n",
       "    font-size: 13px;\n",
       "    color: #555;\n",
       "    margin-left: 4px;\n",
       "    line-height: 19px;\n",
       "  }\n",
       "</style>\n",
       "<div class=\"ansiout\"></div>"
      ]
     },
     "metadata": {
      "application/vnd.databricks.v1+output": {
       "addedWidgets": {},
       "arguments": {},
       "data": "<div class=\"ansiout\"></div>",
       "datasetInfos": [],
       "removedWidgets": [],
       "type": "html"
      }
     },
     "output_type": "display_data"
    }
   ],
   "source": [
    "def three_first_letters(song):\n",
    "  return song[0:3]"
   ]
  },
  {
   "cell_type": "markdown",
   "metadata": {
    "application/vnd.databricks.v1+cell": {
     "inputWidgets": {},
     "nuid": "0919305e-c45f-47ec-a831-a312d8492b66",
     "showTitle": false,
     "title": ""
    }
   },
   "source": [
    "Seems to work. We will create a UDF and use it."
   ]
  },
  {
   "cell_type": "code",
   "execution_count": null,
   "metadata": {
    "application/vnd.databricks.v1+cell": {
     "inputWidgets": {},
     "nuid": "129e3a37-b8d3-4f16-a298-c9159d8a0bb9",
     "showTitle": false,
     "title": ""
    }
   },
   "outputs": [
    {
     "data": {
      "text/html": [
       "<style scoped>\n",
       "  .ansiout {\n",
       "    display: block;\n",
       "    unicode-bidi: embed;\n",
       "    white-space: pre-wrap;\n",
       "    word-wrap: break-word;\n",
       "    word-break: break-all;\n",
       "    font-family: \"Source Code Pro\", \"Menlo\", monospace;;\n",
       "    font-size: 13px;\n",
       "    color: #555;\n",
       "    margin-left: 4px;\n",
       "    line-height: 19px;\n",
       "  }\n",
       "</style>\n",
       "<div class=\"ansiout\"></div>"
      ]
     },
     "metadata": {
      "application/vnd.databricks.v1+output": {
       "addedWidgets": {},
       "arguments": {},
       "data": "<div class=\"ansiout\"></div>",
       "datasetInfos": [],
       "removedWidgets": [],
       "type": "html"
      }
     },
     "output_type": "display_data"
    }
   ],
   "source": [
    "from pyspark.sql.types import StringType\n",
    "\n",
    "three_first_letters_udf = F.udf(\n",
    "  three_first_letters, StringType())"
   ]
  },
  {
   "cell_type": "code",
   "execution_count": null,
   "metadata": {
    "application/vnd.databricks.v1+cell": {
     "inputWidgets": {},
     "nuid": "59b6409e-916c-4652-873f-c540ff5bca05",
     "showTitle": false,
     "title": ""
    }
   },
   "outputs": [
    {
     "data": {
      "text/html": [
       "<style scoped>\n",
       "  .ansiout {\n",
       "    display: block;\n",
       "    unicode-bidi: embed;\n",
       "    white-space: pre-wrap;\n",
       "    word-wrap: break-word;\n",
       "    word-break: break-all;\n",
       "    font-family: \"Source Code Pro\", \"Menlo\", monospace;;\n",
       "    font-size: 13px;\n",
       "    color: #555;\n",
       "    margin-left: 4px;\n",
       "    line-height: 19px;\n",
       "  }\n",
       "</style>\n",
       "<div class=\"ansiout\">root\n",
       "-- user: integer (nullable = true)\n",
       "-- song: string (nullable = true)\n",
       "-- datetime: string (nullable = true)\n",
       "-- year: integer (nullable = true)\n",
       "-- month: integer (nullable = true)\n",
       "-- dayofmonth: integer (nullable = true)\n",
       "-- dayofyear: integer (nullable = true)\n",
       "-- weekofyear: integer (nullable = true)\n",
       "-- three_first_letters: string (nullable = true)\n",
       "\n",
       "+----+-----------+-------------------+----+-----+----------+---------+----------+-------------------+\n",
       "user|       song|           datetime|year|month|dayofmonth|dayofyear|weekofyear|three_first_letters|\n",
       "+----+-----------+-------------------+----+-----+----------+---------+----------+-------------------+\n",
       "   4|nRa-eGzpT6o|1965-07-26 03:21:43|1965|    7|        26|      207|        30|                nRa|\n",
       "   0|t1l8Z6gLPzo|2014-02-14 14:18:53|2014|    2|        14|       45|         7|                t1l|\n",
       "  70|VJ6ofd0pB_c|2014-02-14 14:18:57|2014|    2|        14|       45|         7|                VJ6|\n",
       "  22|Q24VZL8wpOM|2014-02-14 14:18:57|2014|    2|        14|       45|         7|                Q24|\n",
       "   1|t1l8Z6gLPzo|2014-02-14 14:18:58|2014|    2|        14|       45|         7|                t1l|\n",
       "+----+-----------+-------------------+----+-----+----------+---------+----------+-------------------+\n",
       "only showing top 5 rows\n",
       "\n",
       "</div>"
      ]
     },
     "metadata": {
      "application/vnd.databricks.v1+output": {
       "addedWidgets": {},
       "arguments": {},
       "data": "<div class=\"ansiout\">root\n |-- user: integer (nullable = true)\n |-- song: string (nullable = true)\n |-- datetime: string (nullable = true)\n |-- year: integer (nullable = true)\n |-- month: integer (nullable = true)\n |-- dayofmonth: integer (nullable = true)\n |-- dayofyear: integer (nullable = true)\n |-- weekofyear: integer (nullable = true)\n |-- three_first_letters: string (nullable = true)\n\n+----+-----------+-------------------+----+-----+----------+---------+----------+-------------------+\n|user|       song|           datetime|year|month|dayofmonth|dayofyear|weekofyear|three_first_letters|\n+----+-----------+-------------------+----+-----+----------+---------+----------+-------------------+\n|   4|nRa-eGzpT6o|1965-07-26 03:21:43|1965|    7|        26|      207|        30|                nRa|\n|   0|t1l8Z6gLPzo|2014-02-14 14:18:53|2014|    2|        14|       45|         7|                t1l|\n|  70|VJ6ofd0pB_c|2014-02-14 14:18:57|2014|    2|        14|       45|         7|                VJ6|\n|  22|Q24VZL8wpOM|2014-02-14 14:18:57|2014|    2|        14|       45|         7|                Q24|\n|   1|t1l8Z6gLPzo|2014-02-14 14:18:58|2014|    2|        14|       45|         7|                t1l|\n+----+-----------+-------------------+----+-----+----------+---------+----------+-------------------+\nonly showing top 5 rows\n\n</div>",
       "datasetInfos": [
        {
         "name": "test",
         "schema": {
          "fields": [
           {
            "metadata": {},
            "name": "user",
            "nullable": true,
            "type": "integer"
           },
           {
            "metadata": {},
            "name": "song",
            "nullable": true,
            "type": "string"
           },
           {
            "metadata": {},
            "name": "datetime",
            "nullable": true,
            "type": "string"
           },
           {
            "metadata": {},
            "name": "year",
            "nullable": true,
            "type": "integer"
           },
           {
            "metadata": {},
            "name": "month",
            "nullable": true,
            "type": "integer"
           },
           {
            "metadata": {},
            "name": "dayofmonth",
            "nullable": true,
            "type": "integer"
           },
           {
            "metadata": {},
            "name": "dayofyear",
            "nullable": true,
            "type": "integer"
           },
           {
            "metadata": {},
            "name": "weekofyear",
            "nullable": true,
            "type": "integer"
           },
           {
            "metadata": {},
            "name": "three_first_letters",
            "nullable": true,
            "type": "string"
           }
          ],
          "type": "struct"
         },
         "tableIdentifier": null,
         "typeStr": "pyspark.sql.dataframe.DataFrame"
        }
       ],
       "removedWidgets": [],
       "type": "html"
      }
     },
     "output_type": "display_data"
    }
   ],
   "source": [
    "test = playlog \\\n",
    "  .withColumn('three_first_letters', three_first_letters_udf('song'))\n",
    "test.printSchema()\n",
    "test.show(5)"
   ]
  },
  {
   "cell_type": "markdown",
   "metadata": {
    "application/vnd.databricks.v1+cell": {
     "inputWidgets": {},
     "nuid": "c01e8d27-68fb-42ff-b399-1d8c0da56556",
     "showTitle": false,
     "title": ""
    }
   },
   "source": [
    "## Ressources 📚📚\n",
    "\n",
    "Here are some resources to dig further.\n",
    "\n",
    "- [Introducing Window functions in Spark SQL](https://databricks.com/blog/2015/07/15/introducing-window-functions-in-spark-sql.html)\n",
    "- [Getting started with Spark Part 3: UDFs and Window functions](https://datacenternotes.com/2016/10/03/getting-started-with-spark-part-3-udfs-window-functions/)\n",
    "- [Using Python aggregate UDFs](https://danvatterott.com/blog/2018/09/06/python-aggregate-udfs-in-pyspark/)\n",
    "- [Creating a CDF in PySpark](https://danvatterott.com/blog/2019/08/26/creating-a-cdf-in-pyspark/) \n",
    "- [PySpark UDFs](https://docs.databricks.com/spark/latest/spark-sql/udf-python.html)"
   ]
  }
 ],
 "metadata": {
  "application/vnd.databricks.v1+notebook": {
   "dashboards": [],
   "language": "python",
   "notebookMetadata": {
    "pythonIndentUnit": 2
   },
   "notebookName": "01-PySpark_SQL_Advanced",
   "notebookOrigID": 1541387333383886,
   "widgets": {}
  },
  "kernelspec": {
   "display_name": "Python 3.9.12 ('tf': conda)",
   "language": "python",
   "name": "python3"
  },
  "language_info": {
   "codemirror_mode": {
    "name": "ipython",
    "version": 3
   },
   "file_extension": ".py",
   "mimetype": "text/x-python",
   "name": "python",
   "nbconvert_exporter": "python",
   "pygments_lexer": "ipython3",
   "version": "3.9.12"
  },
  "vscode": {
   "interpreter": {
    "hash": "fbc4d3870518eee81184ced0d2279c769a0eca59aab465c4e7ec13e5e6c47a3e"
   }
  }
 },
 "nbformat": 4,
 "nbformat_minor": 4
}
