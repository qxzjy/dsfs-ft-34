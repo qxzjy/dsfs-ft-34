{
 "cells": [
  {
   "cell_type": "code",
   "execution_count": null,
   "id": "bc4194ac",
   "metadata": {},
   "outputs": [],
   "source": [
    "import pandas as pd\n",
    "import requests\n",
    "import json"
   ]
  },
  {
   "cell_type": "code",
   "execution_count": 2,
   "id": "cce0042e",
   "metadata": {},
   "outputs": [
    {
     "data": {
      "text/plain": [
       "'{\"Unnamed: 0\":{\"0\":0,\"1\":1,\"2\":2,\"3\":3,\"4\":4},\"Age\":{\"0\":41,\"1\":49,\"2\":37,\"3\":33,\"4\":27},\"Attrition\":{\"0\":\"Yes\",\"1\":\"No\",\"2\":\"Yes\",\"3\":\"No\",\"4\":\"No\"},\"BusinessTravel\":{\"0\":\"Travel_Rarely\",\"1\":\"Travel_Frequently\",\"2\":\"Travel_Rarely\",\"3\":\"Travel_Frequently\",\"4\":\"Travel_Rarely\"},\"DailyRate\":{\"0\":1102,\"1\":279,\"2\":1373,\"3\":1392,\"4\":591},\"Department\":{\"0\":\"Sales\",\"1\":\"Research & Development\",\"2\":\"Research & Development\",\"3\":\"Research & Development\",\"4\":\"Research & Development\"},\"DistanceFromHome\":{\"0\":1,\"1\":8,\"2\":2,\"3\":3,\"4\":2},\"Education\":{\"0\":2,\"1\":1,\"2\":2,\"3\":4,\"4\":1},\"EducationField\":{\"0\":\"Life Sciences\",\"1\":\"Life Sciences\",\"2\":\"Other\",\"3\":\"Life Sciences\",\"4\":\"Medical\"},\"EmployeeCount\":{\"0\":1,\"1\":1,\"2\":1,\"3\":1,\"4\":1},\"EmployeeNumber\":{\"0\":1,\"1\":2,\"2\":4,\"3\":5,\"4\":7},\"EnvironmentSatisfaction\":{\"0\":2,\"1\":3,\"2\":4,\"3\":4,\"4\":1},\"Gender\":{\"0\":\"Female\",\"1\":\"Male\",\"2\":\"Male\",\"3\":\"Female\",\"4\":\"Male\"},\"HourlyRate\":{\"0\":94,\"1\":61,\"2\":92,\"3\":56,\"4\":40},\"JobInvolvement\":{\"0\":3,\"1\":2,\"2\":2,\"3\":3,\"4\":3},\"JobLevel\":{\"0\":2,\"1\":2,\"2\":1,\"3\":1,\"4\":1},\"JobRole\":{\"0\":\"Sales Executive\",\"1\":\"Research Scientist\",\"2\":\"Laboratory Technician\",\"3\":\"Research Scientist\",\"4\":\"Laboratory Technician\"},\"JobSatisfaction\":{\"0\":4,\"1\":2,\"2\":3,\"3\":3,\"4\":2},\"MaritalStatus\":{\"0\":\"Single\",\"1\":\"Married\",\"2\":\"Single\",\"3\":\"Married\",\"4\":\"Married\"},\"MonthlyIncome\":{\"0\":5993,\"1\":5130,\"2\":2090,\"3\":2909,\"4\":3468},\"MonthlyRate\":{\"0\":19479,\"1\":24907,\"2\":2396,\"3\":23159,\"4\":16632},\"NumCompaniesWorked\":{\"0\":8,\"1\":1,\"2\":6,\"3\":1,\"4\":9},\"Over18\":{\"0\":\"Y\",\"1\":\"Y\",\"2\":\"Y\",\"3\":\"Y\",\"4\":\"Y\"},\"OverTime\":{\"0\":\"Yes\",\"1\":\"No\",\"2\":\"Yes\",\"3\":\"Yes\",\"4\":\"No\"},\"PercentSalaryHike\":{\"0\":11,\"1\":23,\"2\":15,\"3\":11,\"4\":12},\"PerformanceRating\":{\"0\":3,\"1\":4,\"2\":3,\"3\":3,\"4\":3},\"RelationshipSatisfaction\":{\"0\":1,\"1\":4,\"2\":2,\"3\":3,\"4\":4},\"StandardHours\":{\"0\":80,\"1\":80,\"2\":80,\"3\":80,\"4\":80},\"StockOptionLevel\":{\"0\":0,\"1\":1,\"2\":0,\"3\":0,\"4\":1},\"TotalWorkingYears\":{\"0\":8,\"1\":10,\"2\":7,\"3\":8,\"4\":6},\"TrainingTimesLastYear\":{\"0\":0,\"1\":3,\"2\":3,\"3\":3,\"4\":3},\"WorkLifeBalance\":{\"0\":1,\"1\":3,\"2\":3,\"3\":3,\"4\":3},\"YearsAtCompany\":{\"0\":6,\"1\":10,\"2\":0,\"3\":8,\"4\":2},\"YearsInCurrentRole\":{\"0\":4,\"1\":7,\"2\":0,\"3\":7,\"4\":2},\"YearsSinceLastPromotion\":{\"0\":0,\"1\":1,\"2\":0,\"3\":3,\"4\":2},\"YearsWithCurrManager\":{\"0\":5,\"1\":7,\"2\":0,\"3\":0,\"4\":2}}'"
      ]
     },
     "execution_count": 2,
     "metadata": {},
     "output_type": "execute_result"
    }
   ],
   "source": [
    "df = pd.read_excel(\"https://full-stack-assets.s3.eu-west-3.amazonaws.com/Deployment/ibm_hr_attrition.xlsx\")\n",
    "\n",
    "df.head(5).to_json()"
   ]
  },
  {
   "cell_type": "code",
   "execution_count": 5,
   "id": "b7b1d52c",
   "metadata": {},
   "outputs": [
    {
     "data": {
      "text/plain": [
       "'{\"0\":41,\"1\":49,\"2\":37,\"3\":33,\"4\":27,\"5\":32,\"6\":59,\"7\":30,\"8\":38,\"9\":36,\"10\":35,\"11\":29,\"12\":31,\"13\":34,\"14\":28,\"15\":22,\"16\":53,\"17\":24,\"18\":21,\"19\":42,\"20\":44,\"21\":46,\"22\":39,\"23\":43,\"24\":50,\"25\":26,\"26\":48,\"27\":55,\"28\":45,\"29\":56,\"30\":23,\"31\":51,\"32\":40,\"33\":54,\"34\":58,\"35\":20,\"36\":25,\"37\":19,\"38\":57,\"39\":52,\"40\":47,\"41\":18,\"42\":60}'"
      ]
     },
     "execution_count": 5,
     "metadata": {},
     "output_type": "execute_result"
    }
   ],
   "source": [
    "df = pd.read_excel(\"https://full-stack-assets.s3.eu-west-3.amazonaws.com/Deployment/ibm_hr_attrition.xlsx\")\n",
    "pd.Series(df[\"Age\"].unique()).to_json()"
   ]
  },
  {
   "cell_type": "code",
   "execution_count": 21,
   "id": "73fa596c",
   "metadata": {},
   "outputs": [
    {
     "data": {
      "text/plain": [
       "'{\"Unnamed: 0\":{\"Human Resources\":1450,\"Research & Development\":1469,\"Sales\":1468},\"Age\":{\"Human Resources\":59,\"Research & Development\":60,\"Sales\":60},\"Attrition\":{\"Human Resources\":\"Yes\",\"Research & Development\":\"Yes\",\"Sales\":\"Yes\"},\"BusinessTravel\":{\"Human Resources\":\"Travel_Rarely\",\"Research & Development\":\"Travel_Rarely\",\"Sales\":\"Travel_Rarely\"},\"DailyRate\":{\"Human Resources\":1444,\"Research & Development\":1496,\"Sales\":1499},\"DistanceFromHome\":{\"Human Resources\":26,\"Research & Development\":29,\"Sales\":29},\"Education\":{\"Human Resources\":5,\"Research & Development\":5,\"Sales\":5},\"EducationField\":{\"Human Resources\":\"Technical Degree\",\"Research & Development\":\"Technical Degree\",\"Sales\":\"Technical Degree\"},\"EmployeeCount\":{\"Human Resources\":1,\"Research & Development\":1,\"Sales\":1},\"EmployeeNumber\":{\"Human Resources\":2040,\"Research & Development\":2068,\"Sales\":2065},\"EnvironmentSatisfaction\":{\"Human Resources\":4,\"Research & Development\":4,\"Sales\":4},\"Gender\":{\"Human Resources\":\"Male\",\"Research & Development\":\"Male\",\"Sales\":\"Male\"},\"HourlyRate\":{\"Human Resources\":100,\"Research & Development\":100,\"Sales\":100},\"JobInvolvement\":{\"Human Resources\":4,\"Research & Development\":4,\"Sales\":4},\"JobLevel\":{\"Human Resources\":5,\"Research & Development\":5,\"Sales\":5},\"JobRole\":{\"Human Resources\":\"Manager\",\"Research & Development\":\"Research Scientist\",\"Sales\":\"Sales Representative\"},\"JobSatisfaction\":{\"Human Resources\":4,\"Research & Development\":4,\"Sales\":4},\"MaritalStatus\":{\"Human Resources\":\"Single\",\"Research & Development\":\"Single\",\"Sales\":\"Single\"},\"MonthlyIncome\":{\"Human Resources\":19717,\"Research & Development\":19999,\"Sales\":19847},\"MonthlyRate\":{\"Human Resources\":26894,\"Research & Development\":26999,\"Sales\":26997},\"NumCompaniesWorked\":{\"Human Resources\":9,\"Research & Development\":9,\"Sales\":9},\"Over18\":{\"Human Resources\":\"Y\",\"Research & Development\":\"Y\",\"Sales\":\"Y\"},\"OverTime\":{\"Human Resources\":\"Yes\",\"Research & Development\":\"Yes\",\"Sales\":\"Yes\"},\"PercentSalaryHike\":{\"Human Resources\":23,\"Research & Development\":25,\"Sales\":25},\"PerformanceRating\":{\"Human Resources\":4,\"Research & Development\":4,\"Sales\":4},\"RelationshipSatisfaction\":{\"Human Resources\":4,\"Research & Development\":4,\"Sales\":4},\"StandardHours\":{\"Human Resources\":80,\"Research & Development\":80,\"Sales\":80},\"StockOptionLevel\":{\"Human Resources\":3,\"Research & Development\":3,\"Sales\":3},\"TotalWorkingYears\":{\"Human Resources\":36,\"Research & Development\":40,\"Sales\":38},\"TrainingTimesLastYear\":{\"Human Resources\":6,\"Research & Development\":6,\"Sales\":6},\"WorkLifeBalance\":{\"Human Resources\":4,\"Research & Development\":4,\"Sales\":4},\"YearsAtCompany\":{\"Human Resources\":33,\"Research & Development\":40,\"Sales\":37},\"YearsInCurrentRole\":{\"Human Resources\":10,\"Research & Development\":18,\"Sales\":17},\"YearsSinceLastPromotion\":{\"Human Resources\":12,\"Research & Development\":15,\"Sales\":15},\"YearsWithCurrManager\":{\"Human Resources\":10,\"Research & Development\":17,\"Sales\":17}}'"
      ]
     },
     "execution_count": 21,
     "metadata": {},
     "output_type": "execute_result"
    }
   ],
   "source": [
    "r = getattr(pd.core.groupby.generic.DataFrameGroupBy, 'max')\n",
    "\n",
    "# calling the function and storing\n",
    "# the value in res\n",
    "r(df.groupby(\"Department\")).to_json()"
   ]
  },
  {
   "cell_type": "code",
   "execution_count": 17,
   "id": "ee6c8896",
   "metadata": {},
   "outputs": [
    {
     "data": {
      "text/plain": [
       "pandas.core.groupby.generic.DataFrameGroupBy"
      ]
     },
     "execution_count": 17,
     "metadata": {},
     "output_type": "execute_result"
    }
   ],
   "source": [
    "type(df.groupby(\"Department\"))"
   ]
  },
  {
   "cell_type": "code",
   "execution_count": null,
   "id": "e9983caf",
   "metadata": {},
   "outputs": [
    {
     "data": {
      "text/html": [
       "<div>\n",
       "<style scoped>\n",
       "    .dataframe tbody tr th:only-of-type {\n",
       "        vertical-align: middle;\n",
       "    }\n",
       "\n",
       "    .dataframe tbody tr th {\n",
       "        vertical-align: top;\n",
       "    }\n",
       "\n",
       "    .dataframe thead th {\n",
       "        text-align: right;\n",
       "    }\n",
       "</style>\n",
       "<table border=\"1\" class=\"dataframe\">\n",
       "  <thead>\n",
       "    <tr style=\"text-align: right;\">\n",
       "      <th></th>\n",
       "      <th>Unnamed: 0</th>\n",
       "      <th>Age</th>\n",
       "      <th>Attrition</th>\n",
       "      <th>BusinessTravel</th>\n",
       "      <th>DailyRate</th>\n",
       "      <th>DistanceFromHome</th>\n",
       "      <th>Education</th>\n",
       "      <th>EducationField</th>\n",
       "      <th>EmployeeCount</th>\n",
       "      <th>EmployeeNumber</th>\n",
       "      <th>...</th>\n",
       "      <th>RelationshipSatisfaction</th>\n",
       "      <th>StandardHours</th>\n",
       "      <th>StockOptionLevel</th>\n",
       "      <th>TotalWorkingYears</th>\n",
       "      <th>TrainingTimesLastYear</th>\n",
       "      <th>WorkLifeBalance</th>\n",
       "      <th>YearsAtCompany</th>\n",
       "      <th>YearsInCurrentRole</th>\n",
       "      <th>YearsSinceLastPromotion</th>\n",
       "      <th>YearsWithCurrManager</th>\n",
       "    </tr>\n",
       "    <tr>\n",
       "      <th>Department</th>\n",
       "      <th></th>\n",
       "      <th></th>\n",
       "      <th></th>\n",
       "      <th></th>\n",
       "      <th></th>\n",
       "      <th></th>\n",
       "      <th></th>\n",
       "      <th></th>\n",
       "      <th></th>\n",
       "      <th></th>\n",
       "      <th></th>\n",
       "      <th></th>\n",
       "      <th></th>\n",
       "      <th></th>\n",
       "      <th></th>\n",
       "      <th></th>\n",
       "      <th></th>\n",
       "      <th></th>\n",
       "      <th></th>\n",
       "      <th></th>\n",
       "      <th></th>\n",
       "    </tr>\n",
       "  </thead>\n",
       "  <tbody>\n",
       "    <tr>\n",
       "      <th>Human Resources</th>\n",
       "      <td>1450</td>\n",
       "      <td>59</td>\n",
       "      <td>Yes</td>\n",
       "      <td>Travel_Rarely</td>\n",
       "      <td>1444</td>\n",
       "      <td>26</td>\n",
       "      <td>5</td>\n",
       "      <td>Technical Degree</td>\n",
       "      <td>1</td>\n",
       "      <td>2040</td>\n",
       "      <td>...</td>\n",
       "      <td>4</td>\n",
       "      <td>80</td>\n",
       "      <td>3</td>\n",
       "      <td>36</td>\n",
       "      <td>6</td>\n",
       "      <td>4</td>\n",
       "      <td>33</td>\n",
       "      <td>10</td>\n",
       "      <td>12</td>\n",
       "      <td>10</td>\n",
       "    </tr>\n",
       "    <tr>\n",
       "      <th>Research &amp; Development</th>\n",
       "      <td>1469</td>\n",
       "      <td>60</td>\n",
       "      <td>Yes</td>\n",
       "      <td>Travel_Rarely</td>\n",
       "      <td>1496</td>\n",
       "      <td>29</td>\n",
       "      <td>5</td>\n",
       "      <td>Technical Degree</td>\n",
       "      <td>1</td>\n",
       "      <td>2068</td>\n",
       "      <td>...</td>\n",
       "      <td>4</td>\n",
       "      <td>80</td>\n",
       "      <td>3</td>\n",
       "      <td>40</td>\n",
       "      <td>6</td>\n",
       "      <td>4</td>\n",
       "      <td>40</td>\n",
       "      <td>18</td>\n",
       "      <td>15</td>\n",
       "      <td>17</td>\n",
       "    </tr>\n",
       "    <tr>\n",
       "      <th>Sales</th>\n",
       "      <td>1468</td>\n",
       "      <td>60</td>\n",
       "      <td>Yes</td>\n",
       "      <td>Travel_Rarely</td>\n",
       "      <td>1499</td>\n",
       "      <td>29</td>\n",
       "      <td>5</td>\n",
       "      <td>Technical Degree</td>\n",
       "      <td>1</td>\n",
       "      <td>2065</td>\n",
       "      <td>...</td>\n",
       "      <td>4</td>\n",
       "      <td>80</td>\n",
       "      <td>3</td>\n",
       "      <td>38</td>\n",
       "      <td>6</td>\n",
       "      <td>4</td>\n",
       "      <td>37</td>\n",
       "      <td>17</td>\n",
       "      <td>15</td>\n",
       "      <td>17</td>\n",
       "    </tr>\n",
       "  </tbody>\n",
       "</table>\n",
       "<p>3 rows × 35 columns</p>\n",
       "</div>"
      ],
      "text/plain": [
       "                        Unnamed: 0  Age Attrition BusinessTravel  DailyRate  \\\n",
       "Department                                                                    \n",
       "Human Resources               1450   59       Yes  Travel_Rarely       1444   \n",
       "Research & Development        1469   60       Yes  Travel_Rarely       1496   \n",
       "Sales                         1468   60       Yes  Travel_Rarely       1499   \n",
       "\n",
       "                        DistanceFromHome  Education    EducationField  \\\n",
       "Department                                                              \n",
       "Human Resources                       26          5  Technical Degree   \n",
       "Research & Development                29          5  Technical Degree   \n",
       "Sales                                 29          5  Technical Degree   \n",
       "\n",
       "                        EmployeeCount  EmployeeNumber  ...  \\\n",
       "Department                                             ...   \n",
       "Human Resources                     1            2040  ...   \n",
       "Research & Development              1            2068  ...   \n",
       "Sales                               1            2065  ...   \n",
       "\n",
       "                        RelationshipSatisfaction StandardHours  \\\n",
       "Department                                                       \n",
       "Human Resources                                4            80   \n",
       "Research & Development                         4            80   \n",
       "Sales                                          4            80   \n",
       "\n",
       "                        StockOptionLevel  TotalWorkingYears  \\\n",
       "Department                                                    \n",
       "Human Resources                        3                 36   \n",
       "Research & Development                 3                 40   \n",
       "Sales                                  3                 38   \n",
       "\n",
       "                        TrainingTimesLastYear WorkLifeBalance  YearsAtCompany  \\\n",
       "Department                                                                      \n",
       "Human Resources                             6               4              33   \n",
       "Research & Development                      6               4              40   \n",
       "Sales                                       6               4              37   \n",
       "\n",
       "                       YearsInCurrentRole  YearsSinceLastPromotion  \\\n",
       "Department                                                           \n",
       "Human Resources                        10                       12   \n",
       "Research & Development                 18                       15   \n",
       "Sales                                  17                       15   \n",
       "\n",
       "                        YearsWithCurrManager  \n",
       "Department                                    \n",
       "Human Resources                           10  \n",
       "Research & Development                    17  \n",
       "Sales                                     17  \n",
       "\n",
       "[3 rows x 35 columns]"
      ]
     },
     "execution_count": 11,
     "metadata": {},
     "output_type": "execute_result"
    }
   ],
   "source": [
    "df.groupby(\"Department\").mean()"
   ]
  },
  {
   "cell_type": "code",
   "execution_count": 30,
   "id": "abbff7d3",
   "metadata": {},
   "outputs": [
    {
     "data": {
      "text/plain": [
       "'{\"0\":\"Sales\",\"1\":\"Research & Development\",\"2\":\"Human Resources\"}'"
      ]
     },
     "execution_count": 30,
     "metadata": {},
     "output_type": "execute_result"
    }
   ],
   "source": [
    "response = requests.get(\"http://0.0.0.0:4000/unique-values?column=Department\")\n",
    "response.json()"
   ]
  },
  {
   "cell_type": "code",
   "execution_count": 31,
   "id": "195b81f2",
   "metadata": {},
   "outputs": [
    {
     "data": {
      "text/plain": [
       "str"
      ]
     },
     "execution_count": 31,
     "metadata": {},
     "output_type": "execute_result"
    }
   ],
   "source": [
    "type(response.json())"
   ]
  },
  {
   "cell_type": "code",
   "execution_count": null,
   "id": "b354aea0",
   "metadata": {},
   "outputs": [
    {
     "ename": "ValueError",
     "evalue": "DataFrame constructor not properly called!",
     "output_type": "error",
     "traceback": [
      "\u001b[0;31m---------------------------------------------------------------------------\u001b[0m",
      "\u001b[0;31mValueError\u001b[0m                                Traceback (most recent call last)",
      "\u001b[0;32m/var/folders/yt/qrbwlc0x6fj2rs4chrxkrm_m0000gn/T/ipykernel_37070/3471526820.py\u001b[0m in \u001b[0;36m?\u001b[0;34m()\u001b[0m\n\u001b[1;32m      1\u001b[0m \u001b[0mresponse\u001b[0m \u001b[0;34m=\u001b[0m \u001b[0mrequests\u001b[0m\u001b[0;34m.\u001b[0m\u001b[0mget\u001b[0m\u001b[0;34m(\u001b[0m\u001b[0;34m\"http://0.0.0.0:4000/unique-values?column=Department\"\u001b[0m\u001b[0;34m)\u001b[0m\u001b[0;34m\u001b[0m\u001b[0;34m\u001b[0m\u001b[0m\n\u001b[0;32m----> 2\u001b[0;31m \u001b[0mdf\u001b[0m \u001b[0;34m=\u001b[0m \u001b[0mpd\u001b[0m\u001b[0;34m.\u001b[0m\u001b[0mDataFrame\u001b[0m\u001b[0;34m.\u001b[0m\u001b[0mfrom_dict\u001b[0m\u001b[0;34m(\u001b[0m\u001b[0mresponse\u001b[0m\u001b[0;34m.\u001b[0m\u001b[0mjson\u001b[0m\u001b[0;34m(\u001b[0m\u001b[0;34m)\u001b[0m\u001b[0;34m.\u001b[0m\u001b[0mreplace\u001b[0m\u001b[0;34m(\u001b[0m\u001b[0;34m\"'\"\u001b[0m\u001b[0;34m,\u001b[0m \u001b[0;34m\"\"\u001b[0m\u001b[0;34m)\u001b[0m\u001b[0;34m)\u001b[0m\u001b[0;34m\u001b[0m\u001b[0;34m\u001b[0m\u001b[0m\n\u001b[0m\u001b[1;32m      3\u001b[0m \u001b[0mdf\u001b[0m\u001b[0;34m\u001b[0m\u001b[0;34m\u001b[0m\u001b[0m\n",
      "\u001b[0;32m/opt/anaconda3/lib/python3.12/site-packages/pandas/core/frame.py\u001b[0m in \u001b[0;36m?\u001b[0;34m(cls, data, orient, dtype, columns)\u001b[0m\n\u001b[1;32m   1913\u001b[0m                 \u001b[0;34mf\"\u001b[0m\u001b[0;34mGot '\u001b[0m\u001b[0;34m{\u001b[0m\u001b[0morient\u001b[0m\u001b[0;34m}\u001b[0m\u001b[0;34m' instead\u001b[0m\u001b[0;34m\"\u001b[0m\u001b[0;34m\u001b[0m\u001b[0;34m\u001b[0m\u001b[0m\n\u001b[1;32m   1914\u001b[0m             \u001b[0;34m)\u001b[0m\u001b[0;34m\u001b[0m\u001b[0;34m\u001b[0m\u001b[0m\n\u001b[1;32m   1915\u001b[0m \u001b[0;34m\u001b[0m\u001b[0m\n\u001b[1;32m   1916\u001b[0m         \u001b[0;32mif\u001b[0m \u001b[0morient\u001b[0m \u001b[0;34m!=\u001b[0m \u001b[0;34m\"tight\"\u001b[0m\u001b[0;34m:\u001b[0m\u001b[0;34m\u001b[0m\u001b[0;34m\u001b[0m\u001b[0m\n\u001b[0;32m-> 1917\u001b[0;31m             \u001b[0;32mreturn\u001b[0m \u001b[0mcls\u001b[0m\u001b[0;34m(\u001b[0m\u001b[0mdata\u001b[0m\u001b[0;34m,\u001b[0m \u001b[0mindex\u001b[0m\u001b[0;34m=\u001b[0m\u001b[0mindex\u001b[0m\u001b[0;34m,\u001b[0m \u001b[0mcolumns\u001b[0m\u001b[0;34m=\u001b[0m\u001b[0mcolumns\u001b[0m\u001b[0;34m,\u001b[0m \u001b[0mdtype\u001b[0m\u001b[0;34m=\u001b[0m\u001b[0mdtype\u001b[0m\u001b[0;34m)\u001b[0m\u001b[0;34m\u001b[0m\u001b[0;34m\u001b[0m\u001b[0m\n\u001b[0m\u001b[1;32m   1918\u001b[0m         \u001b[0;32melse\u001b[0m\u001b[0;34m:\u001b[0m\u001b[0;34m\u001b[0m\u001b[0;34m\u001b[0m\u001b[0m\n\u001b[1;32m   1919\u001b[0m             \u001b[0mrealdata\u001b[0m \u001b[0;34m=\u001b[0m \u001b[0mdata\u001b[0m\u001b[0;34m[\u001b[0m\u001b[0;34m\"data\"\u001b[0m\u001b[0;34m]\u001b[0m\u001b[0;34m\u001b[0m\u001b[0;34m\u001b[0m\u001b[0m\n\u001b[1;32m   1920\u001b[0m \u001b[0;34m\u001b[0m\u001b[0m\n",
      "\u001b[0;32m/opt/anaconda3/lib/python3.12/site-packages/pandas/core/frame.py\u001b[0m in \u001b[0;36m?\u001b[0;34m(self, data, index, columns, dtype, copy)\u001b[0m\n\u001b[1;32m    882\u001b[0m                 \u001b[0;34m)\u001b[0m\u001b[0;34m\u001b[0m\u001b[0;34m\u001b[0m\u001b[0m\n\u001b[1;32m    883\u001b[0m         \u001b[0;31m# For data is scalar\u001b[0m\u001b[0;34m\u001b[0m\u001b[0;34m\u001b[0m\u001b[0m\n\u001b[1;32m    884\u001b[0m         \u001b[0;32melse\u001b[0m\u001b[0;34m:\u001b[0m\u001b[0;34m\u001b[0m\u001b[0;34m\u001b[0m\u001b[0m\n\u001b[1;32m    885\u001b[0m             \u001b[0;32mif\u001b[0m \u001b[0mindex\u001b[0m \u001b[0;32mis\u001b[0m \u001b[0;32mNone\u001b[0m \u001b[0;32mor\u001b[0m \u001b[0mcolumns\u001b[0m \u001b[0;32mis\u001b[0m \u001b[0;32mNone\u001b[0m\u001b[0;34m:\u001b[0m\u001b[0;34m\u001b[0m\u001b[0;34m\u001b[0m\u001b[0m\n\u001b[0;32m--> 886\u001b[0;31m                 \u001b[0;32mraise\u001b[0m \u001b[0mValueError\u001b[0m\u001b[0;34m(\u001b[0m\u001b[0;34m\"DataFrame constructor not properly called!\"\u001b[0m\u001b[0;34m)\u001b[0m\u001b[0;34m\u001b[0m\u001b[0;34m\u001b[0m\u001b[0m\n\u001b[0m\u001b[1;32m    887\u001b[0m \u001b[0;34m\u001b[0m\u001b[0m\n\u001b[1;32m    888\u001b[0m             \u001b[0mindex\u001b[0m \u001b[0;34m=\u001b[0m \u001b[0mensure_index\u001b[0m\u001b[0;34m(\u001b[0m\u001b[0mindex\u001b[0m\u001b[0;34m)\u001b[0m\u001b[0;34m\u001b[0m\u001b[0;34m\u001b[0m\u001b[0m\n\u001b[1;32m    889\u001b[0m             \u001b[0mcolumns\u001b[0m \u001b[0;34m=\u001b[0m \u001b[0mensure_index\u001b[0m\u001b[0;34m(\u001b[0m\u001b[0mcolumns\u001b[0m\u001b[0;34m)\u001b[0m\u001b[0;34m\u001b[0m\u001b[0;34m\u001b[0m\u001b[0m\n",
      "\u001b[0;31mValueError\u001b[0m: DataFrame constructor not properly called!"
     ]
    }
   ],
   "source": [
    "\n",
    "df = pd.DataFrame.from_dict(.replace(\"'\", \"\"))\n",
    "df"
   ]
  },
  {
   "cell_type": "code",
   "execution_count": null,
   "id": "1e134b4e",
   "metadata": {},
   "outputs": [],
   "source": []
  }
 ],
 "metadata": {
  "kernelspec": {
   "display_name": "base",
   "language": "python",
   "name": "python3"
  },
  "language_info": {
   "codemirror_mode": {
    "name": "ipython",
    "version": 3
   },
   "file_extension": ".py",
   "mimetype": "text/x-python",
   "name": "python",
   "nbconvert_exporter": "python",
   "pygments_lexer": "ipython3",
   "version": "3.12.7"
  }
 },
 "nbformat": 4,
 "nbformat_minor": 5
}
