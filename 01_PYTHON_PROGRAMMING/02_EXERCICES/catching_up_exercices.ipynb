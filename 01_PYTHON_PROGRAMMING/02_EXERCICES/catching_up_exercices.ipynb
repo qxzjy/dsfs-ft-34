{
 "cells": [
  {
   "cell_type": "markdown",
   "metadata": {},
   "source": [
    "# Create a password"
   ]
  },
  {
   "cell_type": "code",
   "execution_count": 9,
   "metadata": {},
   "outputs": [
    {
     "ename": "KeyboardInterrupt",
     "evalue": "Interrupted by user",
     "output_type": "error",
     "traceback": [
      "\u001b[0;31m---------------------------------------------------------------------------\u001b[0m",
      "\u001b[0;31mKeyboardInterrupt\u001b[0m                         Traceback (most recent call last)",
      "Cell \u001b[0;32mIn[9], line 4\u001b[0m\n\u001b[1;32m      1\u001b[0m password \u001b[38;5;241m=\u001b[39m \u001b[38;5;28minput\u001b[39m(\u001b[38;5;124m\"\u001b[39m\u001b[38;5;124mWhat is the password?\u001b[39m\u001b[38;5;124m\"\u001b[39m)\n\u001b[1;32m      3\u001b[0m \u001b[38;5;28;01mwhile\u001b[39;00m password \u001b[38;5;241m!=\u001b[39m \u001b[38;5;124m'\u001b[39m\u001b[38;5;124mjedha\u001b[39m\u001b[38;5;124m'\u001b[39m:\n\u001b[0;32m----> 4\u001b[0m     password \u001b[38;5;241m=\u001b[39m \u001b[38;5;28minput\u001b[39m(\u001b[38;5;124m\"\u001b[39m\u001b[38;5;124mWhat is the password?\u001b[39m\u001b[38;5;124m\"\u001b[39m)\n\u001b[1;32m      6\u001b[0m \u001b[38;5;28mprint\u001b[39m(\u001b[38;5;124m\"\u001b[39m\u001b[38;5;124mYou have the right password!\u001b[39m\u001b[38;5;124m\"\u001b[39m)\n",
      "File \u001b[0;32m/opt/anaconda3/lib/python3.12/site-packages/ipykernel/kernelbase.py:1262\u001b[0m, in \u001b[0;36mKernel.raw_input\u001b[0;34m(self, prompt)\u001b[0m\n\u001b[1;32m   1260\u001b[0m     msg \u001b[38;5;241m=\u001b[39m \u001b[38;5;124m\"\u001b[39m\u001b[38;5;124mraw_input was called, but this frontend does not support input requests.\u001b[39m\u001b[38;5;124m\"\u001b[39m\n\u001b[1;32m   1261\u001b[0m     \u001b[38;5;28;01mraise\u001b[39;00m StdinNotImplementedError(msg)\n\u001b[0;32m-> 1262\u001b[0m \u001b[38;5;28;01mreturn\u001b[39;00m \u001b[38;5;28mself\u001b[39m\u001b[38;5;241m.\u001b[39m_input_request(\n\u001b[1;32m   1263\u001b[0m     \u001b[38;5;28mstr\u001b[39m(prompt),\n\u001b[1;32m   1264\u001b[0m     \u001b[38;5;28mself\u001b[39m\u001b[38;5;241m.\u001b[39m_parent_ident[\u001b[38;5;124m\"\u001b[39m\u001b[38;5;124mshell\u001b[39m\u001b[38;5;124m\"\u001b[39m],\n\u001b[1;32m   1265\u001b[0m     \u001b[38;5;28mself\u001b[39m\u001b[38;5;241m.\u001b[39mget_parent(\u001b[38;5;124m\"\u001b[39m\u001b[38;5;124mshell\u001b[39m\u001b[38;5;124m\"\u001b[39m),\n\u001b[1;32m   1266\u001b[0m     password\u001b[38;5;241m=\u001b[39m\u001b[38;5;28;01mFalse\u001b[39;00m,\n\u001b[1;32m   1267\u001b[0m )\n",
      "File \u001b[0;32m/opt/anaconda3/lib/python3.12/site-packages/ipykernel/kernelbase.py:1305\u001b[0m, in \u001b[0;36mKernel._input_request\u001b[0;34m(self, prompt, ident, parent, password)\u001b[0m\n\u001b[1;32m   1302\u001b[0m \u001b[38;5;28;01mexcept\u001b[39;00m \u001b[38;5;167;01mKeyboardInterrupt\u001b[39;00m:\n\u001b[1;32m   1303\u001b[0m     \u001b[38;5;66;03m# re-raise KeyboardInterrupt, to truncate traceback\u001b[39;00m\n\u001b[1;32m   1304\u001b[0m     msg \u001b[38;5;241m=\u001b[39m \u001b[38;5;124m\"\u001b[39m\u001b[38;5;124mInterrupted by user\u001b[39m\u001b[38;5;124m\"\u001b[39m\n\u001b[0;32m-> 1305\u001b[0m     \u001b[38;5;28;01mraise\u001b[39;00m \u001b[38;5;167;01mKeyboardInterrupt\u001b[39;00m(msg) \u001b[38;5;28;01mfrom\u001b[39;00m \u001b[38;5;28;01mNone\u001b[39;00m\n\u001b[1;32m   1306\u001b[0m \u001b[38;5;28;01mexcept\u001b[39;00m \u001b[38;5;167;01mException\u001b[39;00m:\n\u001b[1;32m   1307\u001b[0m     \u001b[38;5;28mself\u001b[39m\u001b[38;5;241m.\u001b[39mlog\u001b[38;5;241m.\u001b[39mwarning(\u001b[38;5;124m\"\u001b[39m\u001b[38;5;124mInvalid Message:\u001b[39m\u001b[38;5;124m\"\u001b[39m, exc_info\u001b[38;5;241m=\u001b[39m\u001b[38;5;28;01mTrue\u001b[39;00m)\n",
      "\u001b[0;31mKeyboardInterrupt\u001b[0m: Interrupted by user"
     ]
    }
   ],
   "source": [
    "password = input(\"What is the password?\")\n",
    "\n",
    "while password != 'jedha':\n",
    "    password = input(\"What is the password?\")\n",
    "\n",
    "print(\"You have the right password!\")"
   ]
  },
  {
   "cell_type": "markdown",
   "metadata": {},
   "source": [
    "# Manipulate data types"
   ]
  },
  {
   "cell_type": "code",
   "execution_count": null,
   "metadata": {},
   "outputs": [
    {
     "name": "stdout",
     "output_type": "stream",
     "text": [
      "Hello\n",
      "I\n",
      "Michel\n",
      "am\n"
     ]
    }
   ],
   "source": [
    "michel = [\"Hello\", \"I\", \"Michel\", \"am\"]\n",
    "\n",
    "for i in michel :\n",
    "    print(i)"
   ]
  },
  {
   "cell_type": "code",
   "execution_count": null,
   "metadata": {},
   "outputs": [
    {
     "name": "stdout",
     "output_type": "stream",
     "text": [
      "Hello\n",
      "I\n",
      "am\n",
      "Michel\n"
     ]
    }
   ],
   "source": [
    "a = michel.index(\"Michel\")\n",
    "b = michel.index(\"am\")\n",
    "\n",
    "# michel[a], michel[b] = michel[b], michel[a]\n",
    "\n",
    "first_name = michel.pop(2)\n",
    "michel.append(first_name)\n",
    "\n",
    "for i in michel :\n",
    "    print(i)"
   ]
  },
  {
   "cell_type": "code",
   "execution_count": null,
   "metadata": {},
   "outputs": [
    {
     "name": "stdout",
     "output_type": "stream",
     "text": [
      "[9, 12, 16, 34, 58]\n"
     ]
    }
   ],
   "source": [
    "age = [12, 16, 34, 58, 9]\n",
    "age.sort()\n",
    "\n",
    "print(age)"
   ]
  },
  {
   "cell_type": "markdown",
   "metadata": {},
   "source": [
    "## Dictionaries"
   ]
  },
  {
   "cell_type": "code",
   "execution_count": null,
   "metadata": {},
   "outputs": [],
   "source": [
    "import requests\n",
    "request = requests.get(\"https://swapi.dev/api/people/1/\")\n",
    "dic = request.json()"
   ]
  },
  {
   "cell_type": "code",
   "execution_count": null,
   "metadata": {},
   "outputs": [
    {
     "name": "stdout",
     "output_type": "stream",
     "text": [
      "('name', 'Luke Skywalker')\n",
      "('height', '172')\n",
      "('mass', '77')\n",
      "('hair_color', 'blond')\n",
      "('skin_color', 'fair')\n",
      "('eye_color', 'blue')\n",
      "('birth_year', '19BBY')\n",
      "('gender', 'male')\n",
      "('homeworld', 'https://swapi.dev/api/planets/1/')\n",
      "('films', ['https://swapi.dev/api/films/1/', 'https://swapi.dev/api/films/2/', 'https://swapi.dev/api/films/3/', 'https://swapi.dev/api/films/6/'])\n",
      "('species', [])\n",
      "('vehicles', ['https://swapi.dev/api/vehicles/14/', 'https://swapi.dev/api/vehicles/30/'])\n",
      "('starships', ['https://swapi.dev/api/starships/12/', 'https://swapi.dev/api/starships/22/'])\n",
      "('created', '2014-12-09T13:50:51.644000Z')\n",
      "('edited', '2014-12-20T21:17:56.891000Z')\n",
      "('url', 'https://swapi.dev/api/people/1/')\n"
     ]
    }
   ],
   "source": [
    "for i in dic.items():\n",
    "    print(i)"
   ]
  },
  {
   "cell_type": "code",
   "execution_count": null,
   "metadata": {},
   "outputs": [
    {
     "name": "stdout",
     "output_type": "stream",
     "text": [
      "Luke Skywalker is 172 cm tall and weighs 77 kg. He was born in 19BBY.\n"
     ]
    }
   ],
   "source": [
    "print(f\"{dic[\"name\"]} is {dic[\"height\"]} cm tall and weighs {dic[\"mass\"]} kg. He was born in {dic[\"birth_year\"]}.\")"
   ]
  },
  {
   "cell_type": "markdown",
   "metadata": {},
   "source": [
    "## Slices"
   ]
  },
  {
   "cell_type": "code",
   "execution_count": null,
   "metadata": {},
   "outputs": [
    {
     "name": "stdout",
     "output_type": "stream",
     "text": [
      "156.0\n"
     ]
    }
   ],
   "source": [
    "kilometres_travelled = [50, 10, 100, 25, 1000, 21, 12, 30]\n",
    "\n",
    "mean_km = sum(kilometres_travelled) / len(kilometres_travelled)\n",
    "\n",
    "print(mean_km)"
   ]
  },
  {
   "cell_type": "markdown",
   "metadata": {},
   "source": [
    "Pas représentatif, il y a une personne qui a parcouru 1000 km"
   ]
  },
  {
   "cell_type": "code",
   "execution_count": null,
   "metadata": {},
   "outputs": [
    {
     "name": "stdout",
     "output_type": "stream",
     "text": [
      "35.42857142857143\n"
     ]
    }
   ],
   "source": [
    "kilometres_travelled = [50, 10, 100, 25, 21, 12, 30]\n",
    "\n",
    "mean_km = sum(kilometres_travelled) / len(kilometres_travelled)\n",
    "\n",
    "print(mean_km)"
   ]
  },
  {
   "cell_type": "markdown",
   "metadata": {},
   "source": [
    "# Create functions"
   ]
  },
  {
   "cell_type": "code",
   "execution_count": null,
   "metadata": {},
   "outputs": [],
   "source": [
    "def sqrt(number):\n",
    "    return number**(1/2)"
   ]
  },
  {
   "cell_type": "code",
   "execution_count": null,
   "metadata": {},
   "outputs": [
    {
     "name": "stdout",
     "output_type": "stream",
     "text": [
      "La racine carrée de 25.0 est 5.0\n"
     ]
    }
   ],
   "source": [
    "nombre = float(input(\"Quel nombre souhaitez vous mettre au carré ?\"))\n",
    "\n",
    "print(\"La racine carrée de {} est {}\".format(nombre, sqrt(nombre)))"
   ]
  },
  {
   "cell_type": "markdown",
   "metadata": {},
   "source": [
    "# Calculate interests"
   ]
  },
  {
   "cell_type": "code",
   "execution_count": null,
   "metadata": {},
   "outputs": [
    {
     "name": "stdout",
     "output_type": "stream",
     "text": [
      "Montant : 1000.0 | Durée : 10 | Taux : 0.1\n",
      "Montant total après investissement : 2593.74\n"
     ]
    }
   ],
   "source": [
    "is_correctly_formated = False\n",
    "\n",
    "while not is_correctly_formated :\n",
    "    try :\n",
    "        amount = float(input(\"Quel montant souhaitez-vous investir ?\"))\n",
    "        duration = int(input(\"Quel durée souhaitez-vous investir ?\"))\n",
    "        rate = float(input(\"À quel taux souhaitez-vous investir ?\"))\n",
    "\n",
    "        if amount < 0 or duration < 0 or rate < 0 :\n",
    "            raise ValueError()\n",
    "        \n",
    "        if rate > 1 :\n",
    "            raise Exception(\"Veuillez ne pas utiliser de pourcentage pour le taux, mais un nombre entre 0 et 1\")\n",
    "            \n",
    "    except ValueError :\n",
    "        print(\"Veuillez ne rentrer que des valeurs numériques positives\")\n",
    "\n",
    "    except Exception as e :\n",
    "        print(e)\n",
    "\n",
    "    else :\n",
    "        is_correctly_formated = True\n",
    "\n",
    "amount_earned = amount\n",
    "\n",
    "for i in range(duration):\n",
    "    amount_earned += amount_earned*rate\n",
    "\n",
    "print(f\"Montant : {amount} | Durée : {duration} | Taux : {rate}\")\n",
    "print(f\"Montant total après investissement : {amount_earned:.2f}\")"
   ]
  },
  {
   "cell_type": "markdown",
   "metadata": {},
   "source": [
    "# Build a quiz"
   ]
  },
  {
   "cell_type": "code",
   "execution_count": null,
   "metadata": {},
   "outputs": [
    {
     "name": "stdout",
     "output_type": "stream",
     "text": [
      "Combien font 4*8 ?\n",
      "Votre réponse : 2\n",
      "Mauvaise réponse, réessayez ! Il ne vous reste que 2 chances restantes !\n",
      "Combien font 4*8 ?\n",
      "Votre réponse : 2\n",
      "Mauvaise réponse, réessayez ! Il ne vous reste que 1 chances restantes !\n",
      "Combien font 4*8 ?\n",
      "Votre réponse : 2\n",
      "Mauvaise réponse, réessayez ! Il ne vous reste que 0 chances restantes !\n",
      "Dommage, vous avez perdu le quiz !\n"
     ]
    }
   ],
   "source": [
    "\n",
    "q_a_dict = {\n",
    "    1 : {\"question\" : \"Combien font 4*8 ?\",\n",
    "         \"reponse\" : \"32\"},\n",
    "    2 : {\"question\" : \"De quelle ville française le cannelé est-il une spécialité ?\",\n",
    "         \"reponse\" : \"Bordeaux\"},\n",
    "    3 : {\"question\" : \"Quel est le nom du principal indice boursier de la place de Paris ?\",\n",
    "         \"reponse\" : \"CAC 40\"}\n",
    "}\n",
    "\n",
    "chances_left = 3\n",
    "\n",
    "try :\n",
    "    for index in q_a_dict.values() :\n",
    "        is_correct = False\n",
    "        \n",
    "        while not is_correct :\n",
    "            answer = input(index[\"question\"])\n",
    "\n",
    "            print(index[\"question\"])\n",
    "            print(\"Votre réponse :\", answer)\n",
    "\n",
    "            if answer.lower() == index[\"reponse\"].lower():\n",
    "                print(\"Bonne réponse !\")\n",
    "                is_correct = True\n",
    "            else :\n",
    "                chances_left -= 1\n",
    "                print(f\"Mauvaise réponse, réessayez ! Il ne vous reste que {chances_left} chances restantes !\")\n",
    "                if chances_left == 0:\n",
    "                    raise Exception(\"Dommage, vous avez perdu le quiz !\")    \n",
    "                \n",
    "        print()\n",
    "\n",
    "except Exception as e :\n",
    "    print(e)\n",
    "\n",
    "else :\n",
    "    print(\"Félicitation, vous avez réussi le quiz !\")"
   ]
  }
 ],
 "metadata": {
  "kernelspec": {
   "display_name": "base",
   "language": "python",
   "name": "python3"
  },
  "language_info": {
   "codemirror_mode": {
    "name": "ipython",
    "version": 3
   },
   "file_extension": ".py",
   "mimetype": "text/x-python",
   "name": "python",
   "nbconvert_exporter": "python",
   "pygments_lexer": "ipython3",
   "version": "3.12.7"
  }
 },
 "nbformat": 4,
 "nbformat_minor": 2
}
