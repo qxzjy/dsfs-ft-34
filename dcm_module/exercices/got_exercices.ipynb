{
 "cells": [
  {
   "cell_type": "markdown",
   "metadata": {},
   "source": [
    "# Time to warmup winter is coming"
   ]
  },
  {
   "cell_type": "code",
   "execution_count": null,
   "metadata": {},
   "outputs": [],
   "source": [
    "import requests\n",
    "import pandas as pd"
   ]
  },
  {
   "cell_type": "code",
   "execution_count": null,
   "metadata": {},
   "outputs": [
    {
     "name": "stdout",
     "output_type": "stream",
     "text": [
      "b'{\"url\":\"https://anapioficeandfire.com/api/characters/2\",\"name\":\"Walder\",\"gender\":\"Male\",\"culture\":\"\",\"born\":\"\",\"died\":\"\",\"titles\":[],\"aliases\":[\"Hodor\"],\"father\":\"\",\"mother\":\"\",\"spouse\":\"\",\"allegiances\":[\"https://anapioficeandfire.com/api/houses/362\"],\"books\":[\"https://anapioficeandfire.com/api/books/1\",\"https://anapioficeandfire.com/api/books/2\",\"https://anapioficeandfire.com/api/books/3\",\"https://anapioficeandfire.com/api/books/5\",\"https://anapioficeandfire.com/api/books/8\"],\"povBooks\":[],\"tvSeries\":[\"Season 1\",\"Season 2\",\"Season 3\",\"Season 4\",\"Season 6\"],\"playedBy\":[\"Kristian Nairn\"]}'\n"
     ]
    }
   ],
   "source": [
    "base_url = \"https://anapioficeandfire.com/api/\"\n",
    "\n",
    "request = requests.get(f\"{base_url}characters/2\")\n",
    "print(request.content)"
   ]
  },
  {
   "cell_type": "code",
   "execution_count": 5,
   "metadata": {},
   "outputs": [
    {
     "name": "stdout",
     "output_type": "stream",
     "text": [
      "{'url': 'https://anapioficeandfire.com/api/characters/2', 'name': 'Walder', 'gender': 'Male', 'culture': '', 'born': '', 'died': '', 'titles': [], 'aliases': ['Hodor'], 'father': '', 'mother': '', 'spouse': '', 'allegiances': ['https://anapioficeandfire.com/api/houses/362'], 'books': ['https://anapioficeandfire.com/api/books/1', 'https://anapioficeandfire.com/api/books/2', 'https://anapioficeandfire.com/api/books/3', 'https://anapioficeandfire.com/api/books/5', 'https://anapioficeandfire.com/api/books/8'], 'povBooks': [], 'tvSeries': ['Season 1', 'Season 2', 'Season 3', 'Season 4', 'Season 6'], 'playedBy': ['Kristian Nairn']}\n"
     ]
    }
   ],
   "source": [
    "print(request.json())"
   ]
  },
  {
   "cell_type": "code",
   "execution_count": null,
   "metadata": {},
   "outputs": [
    {
     "data": {
      "text/plain": [
       "dict_values(['https://anapioficeandfire.com/api/characters/2', 'Walder', 'Male', '', '', '', [], ['Hodor'], '', '', '', ['https://anapioficeandfire.com/api/houses/362'], ['https://anapioficeandfire.com/api/books/1', 'https://anapioficeandfire.com/api/books/2', 'https://anapioficeandfire.com/api/books/3', 'https://anapioficeandfire.com/api/books/5', 'https://anapioficeandfire.com/api/books/8'], [], ['Season 1', 'Season 2', 'Season 3', 'Season 4', 'Season 6'], ['Kristian Nairn']])"
      ]
     },
     "execution_count": 15,
     "metadata": {},
     "output_type": "execute_result"
    }
   ],
   "source": [
    "request.json().values()"
   ]
  },
  {
   "cell_type": "code",
   "execution_count": null,
   "metadata": {},
   "outputs": [
    {
     "data": {
      "text/html": [
       "<div>\n",
       "<style scoped>\n",
       "    .dataframe tbody tr th:only-of-type {\n",
       "        vertical-align: middle;\n",
       "    }\n",
       "\n",
       "    .dataframe tbody tr th {\n",
       "        vertical-align: top;\n",
       "    }\n",
       "\n",
       "    .dataframe thead th {\n",
       "        text-align: right;\n",
       "    }\n",
       "</style>\n",
       "<table border=\"1\" class=\"dataframe\">\n",
       "  <thead>\n",
       "    <tr style=\"text-align: right;\">\n",
       "      <th></th>\n",
       "      <th>url</th>\n",
       "      <th>name</th>\n",
       "      <th>gender</th>\n",
       "      <th>culture</th>\n",
       "      <th>born</th>\n",
       "      <th>died</th>\n",
       "      <th>titles</th>\n",
       "      <th>aliases</th>\n",
       "      <th>father</th>\n",
       "      <th>mother</th>\n",
       "      <th>spouse</th>\n",
       "      <th>allegiances</th>\n",
       "      <th>books</th>\n",
       "      <th>povBooks</th>\n",
       "      <th>tvSeries</th>\n",
       "      <th>playedBy</th>\n",
       "    </tr>\n",
       "  </thead>\n",
       "  <tbody>\n",
       "  </tbody>\n",
       "</table>\n",
       "</div>"
      ],
      "text/plain": [
       "Empty DataFrame\n",
       "Columns: [url, name, gender, culture, born, died, titles, aliases, father, mother, spouse, allegiances, books, povBooks, tvSeries, playedBy]\n",
       "Index: []"
      ]
     },
     "metadata": {},
     "output_type": "display_data"
    }
   ],
   "source": [
    "df = pd.DataFrame(columns=request.json().keys())\n",
    "display(df)"
   ]
  },
  {
   "cell_type": "code",
   "execution_count": null,
   "metadata": {},
   "outputs": [
    {
     "data": {
      "text/html": [
       "<div>\n",
       "<style scoped>\n",
       "    .dataframe tbody tr th:only-of-type {\n",
       "        vertical-align: middle;\n",
       "    }\n",
       "\n",
       "    .dataframe tbody tr th {\n",
       "        vertical-align: top;\n",
       "    }\n",
       "\n",
       "    .dataframe thead th {\n",
       "        text-align: right;\n",
       "    }\n",
       "</style>\n",
       "<table border=\"1\" class=\"dataframe\">\n",
       "  <thead>\n",
       "    <tr style=\"text-align: right;\">\n",
       "      <th></th>\n",
       "      <th>url</th>\n",
       "      <th>name</th>\n",
       "      <th>gender</th>\n",
       "      <th>culture</th>\n",
       "      <th>born</th>\n",
       "      <th>died</th>\n",
       "      <th>titles</th>\n",
       "      <th>aliases</th>\n",
       "      <th>father</th>\n",
       "      <th>mother</th>\n",
       "      <th>spouse</th>\n",
       "      <th>allegiances</th>\n",
       "      <th>books</th>\n",
       "      <th>povBooks</th>\n",
       "      <th>tvSeries</th>\n",
       "      <th>playedBy</th>\n",
       "    </tr>\n",
       "  </thead>\n",
       "  <tbody>\n",
       "    <tr>\n",
       "      <th>0</th>\n",
       "      <td>https://anapioficeandfire.com/api/characters/150</td>\n",
       "      <td>Asha Greyjoy</td>\n",
       "      <td>Female</td>\n",
       "      <td>Ironborn</td>\n",
       "      <td>In 275 AC or 276 AC, at Pyke</td>\n",
       "      <td></td>\n",
       "      <td>[Princess, Captain of the Black Wind, Conquero...</td>\n",
       "      <td>[Esgred, The Kraken's Daughter]</td>\n",
       "      <td></td>\n",
       "      <td></td>\n",
       "      <td>https://anapioficeandfire.com/api/characters/1372</td>\n",
       "      <td>[https://anapioficeandfire.com/api/houses/169,...</td>\n",
       "      <td>[https://anapioficeandfire.com/api/books/1, ht...</td>\n",
       "      <td>[https://anapioficeandfire.com/api/books/5, ht...</td>\n",
       "      <td>[Season 2, Season 3, Season 4]</td>\n",
       "      <td>[Gemma Whelan]</td>\n",
       "    </tr>\n",
       "    <tr>\n",
       "      <th>1</th>\n",
       "      <td>https://www.anapioficeandfire.com/api/characte...</td>\n",
       "      <td>Arys Oakheart</td>\n",
       "      <td>Male</td>\n",
       "      <td>Reach</td>\n",
       "      <td>At Old Oak</td>\n",
       "      <td>In 300 AC, at the Greenblood</td>\n",
       "      <td>[Ser]</td>\n",
       "      <td>[]</td>\n",
       "      <td></td>\n",
       "      <td></td>\n",
       "      <td></td>\n",
       "      <td>[https://www.anapioficeandfire.com/api/houses/...</td>\n",
       "      <td>[https://www.anapioficeandfire.com/api/books/1...</td>\n",
       "      <td>[https://www.anapioficeandfire.com/api/books/5]</td>\n",
       "      <td>[]</td>\n",
       "      <td>[]</td>\n",
       "    </tr>\n",
       "    <tr>\n",
       "      <th>2</th>\n",
       "      <td>https://anapioficeandfire.com/api/characters/148</td>\n",
       "      <td>Arya Stark</td>\n",
       "      <td>Female</td>\n",
       "      <td>Northmen</td>\n",
       "      <td>In 289 AC, at Winterfell</td>\n",
       "      <td></td>\n",
       "      <td>[Princess]</td>\n",
       "      <td>[Arya Horseface, Arya Underfoot, Arry, Lumpyfa...</td>\n",
       "      <td></td>\n",
       "      <td></td>\n",
       "      <td></td>\n",
       "      <td>[https://anapioficeandfire.com/api/houses/362]</td>\n",
       "      <td>[]</td>\n",
       "      <td>[https://anapioficeandfire.com/api/books/1, ht...</td>\n",
       "      <td>[Season 1, Season 2, Season 3, Season 4, Seaso...</td>\n",
       "      <td>[Maisie Williams]</td>\n",
       "    </tr>\n",
       "    <tr>\n",
       "      <th>3</th>\n",
       "      <td>https://anapioficeandfire.com/api/characters/147</td>\n",
       "      <td>Arwyn Oakheart</td>\n",
       "      <td>Female</td>\n",
       "      <td></td>\n",
       "      <td></td>\n",
       "      <td></td>\n",
       "      <td>[Lady of Old Oak]</td>\n",
       "      <td>[]</td>\n",
       "      <td></td>\n",
       "      <td></td>\n",
       "      <td></td>\n",
       "      <td>[https://anapioficeandfire.com/api/houses/286]</td>\n",
       "      <td>[https://anapioficeandfire.com/api/books/1, ht...</td>\n",
       "      <td>[]</td>\n",
       "      <td>[]</td>\n",
       "      <td>[]</td>\n",
       "    </tr>\n",
       "    <tr>\n",
       "      <th>4</th>\n",
       "      <td>https://anapioficeandfire.com/api/characters/146</td>\n",
       "      <td>Arwyn Frey</td>\n",
       "      <td>Female</td>\n",
       "      <td></td>\n",
       "      <td>In 285 AC</td>\n",
       "      <td></td>\n",
       "      <td>[]</td>\n",
       "      <td>[]</td>\n",
       "      <td></td>\n",
       "      <td></td>\n",
       "      <td></td>\n",
       "      <td>[https://anapioficeandfire.com/api/houses/143]</td>\n",
       "      <td>[https://anapioficeandfire.com/api/books/2, ht...</td>\n",
       "      <td>[]</td>\n",
       "      <td>[]</td>\n",
       "      <td>[]</td>\n",
       "    </tr>\n",
       "  </tbody>\n",
       "</table>\n",
       "</div>"
      ],
      "text/plain": [
       "                                                 url            name  gender  \\\n",
       "0   https://anapioficeandfire.com/api/characters/150    Asha Greyjoy  Female   \n",
       "1  https://www.anapioficeandfire.com/api/characte...   Arys Oakheart    Male   \n",
       "2   https://anapioficeandfire.com/api/characters/148      Arya Stark  Female   \n",
       "3   https://anapioficeandfire.com/api/characters/147  Arwyn Oakheart  Female   \n",
       "4   https://anapioficeandfire.com/api/characters/146      Arwyn Frey  Female   \n",
       "\n",
       "    culture                          born                          died  \\\n",
       "0  Ironborn  In 275 AC or 276 AC, at Pyke                                 \n",
       "1     Reach                    At Old Oak  In 300 AC, at the Greenblood   \n",
       "2  Northmen      In 289 AC, at Winterfell                                 \n",
       "3                                                                         \n",
       "4                               In 285 AC                                 \n",
       "\n",
       "                                              titles  \\\n",
       "0  [Princess, Captain of the Black Wind, Conquero...   \n",
       "1                                              [Ser]   \n",
       "2                                         [Princess]   \n",
       "3                                  [Lady of Old Oak]   \n",
       "4                                                 []   \n",
       "\n",
       "                                             aliases father mother  \\\n",
       "0                    [Esgred, The Kraken's Daughter]                 \n",
       "1                                                 []                 \n",
       "2  [Arya Horseface, Arya Underfoot, Arry, Lumpyfa...                 \n",
       "3                                                 []                 \n",
       "4                                                 []                 \n",
       "\n",
       "                                              spouse  \\\n",
       "0  https://anapioficeandfire.com/api/characters/1372   \n",
       "1                                                      \n",
       "2                                                      \n",
       "3                                                      \n",
       "4                                                      \n",
       "\n",
       "                                         allegiances  \\\n",
       "0  [https://anapioficeandfire.com/api/houses/169,...   \n",
       "1  [https://www.anapioficeandfire.com/api/houses/...   \n",
       "2     [https://anapioficeandfire.com/api/houses/362]   \n",
       "3     [https://anapioficeandfire.com/api/houses/286]   \n",
       "4     [https://anapioficeandfire.com/api/houses/143]   \n",
       "\n",
       "                                               books  \\\n",
       "0  [https://anapioficeandfire.com/api/books/1, ht...   \n",
       "1  [https://www.anapioficeandfire.com/api/books/1...   \n",
       "2                                                 []   \n",
       "3  [https://anapioficeandfire.com/api/books/1, ht...   \n",
       "4  [https://anapioficeandfire.com/api/books/2, ht...   \n",
       "\n",
       "                                            povBooks  \\\n",
       "0  [https://anapioficeandfire.com/api/books/5, ht...   \n",
       "1    [https://www.anapioficeandfire.com/api/books/5]   \n",
       "2  [https://anapioficeandfire.com/api/books/1, ht...   \n",
       "3                                                 []   \n",
       "4                                                 []   \n",
       "\n",
       "                                            tvSeries           playedBy  \n",
       "0                     [Season 2, Season 3, Season 4]     [Gemma Whelan]  \n",
       "1                                                 []                 []  \n",
       "2  [Season 1, Season 2, Season 3, Season 4, Seaso...  [Maisie Williams]  \n",
       "3                                                 []                 []  \n",
       "4                                                 []                 []  "
      ]
     },
     "metadata": {},
     "output_type": "display_data"
    }
   ],
   "source": [
    "for i in range(1, 151):\n",
    "    request = requests.get(f\"{base_url}characters/{i}\")\n",
    "\n",
    "    df = pd.concat([pd.DataFrame([list(request.json().values())], columns=df.columns), df], ignore_index=True)\n",
    "\n",
    "display(df.head())"
   ]
  }
 ],
 "metadata": {
  "kernelspec": {
   "display_name": "base",
   "language": "python",
   "name": "python3"
  },
  "language_info": {
   "codemirror_mode": {
    "name": "ipython",
    "version": 3
   },
   "file_extension": ".py",
   "mimetype": "text/x-python",
   "name": "python",
   "nbconvert_exporter": "python",
   "pygments_lexer": "ipython3",
   "version": "3.12.7"
  }
 },
 "nbformat": 4,
 "nbformat_minor": 2
}
