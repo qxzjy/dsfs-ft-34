{
 "cells": [
  {
   "cell_type": "markdown",
   "metadata": {},
   "source": [
    "# Just look up!\n",
    "\n",
    "This exercise will let you deal with an API which documentation is a little bit more compicated to navigate than the previous one. We'll call an API to get air quality measures for France. Though the API lets you get data from anywhere in the world we have chosen to focus this study on France, but feel free to start with any country of your choice the series of questions would still hold."
   ]
  },
  {
   "cell_type": "markdown",
   "metadata": {},
   "source": [
    "1. Go to [https://docs.openaq.org/](https://docs.openaq.org/) and try a first call to make sure the APi is working properly!"
   ]
  },
  {
   "cell_type": "code",
   "execution_count": 1,
   "metadata": {},
   "outputs": [
    {
     "name": "stdout",
     "output_type": "stream",
     "text": [
      "status code: <Response [200]> \n",
      "\n",
      "\n",
      "Response data:\n",
      "\n"
     ]
    },
    {
     "data": {
      "text/plain": [
       "'Healthy Connection'"
      ]
     },
     "execution_count": 1,
     "metadata": {},
     "output_type": "execute_result"
    }
   ],
   "source": [
    "import requests\n",
    "\n",
    "r = requests.get(\"https://api.openaq.org/ping\")\n",
    "\n",
    "print(\"status code:\", r, \"\\n\\n\")\n",
    "\n",
    "print(\"Response data:\\n\")\n",
    "r.text"
   ]
  },
  {
   "cell_type": "markdown",
   "metadata": {},
   "source": [
    "2. Before we start getting information from the API, let's take a look at the different types of air quality measures that are available to us and their definition. Query the API to get all the different possible **parameters** and their definitions."
   ]
  },
  {
   "cell_type": "code",
   "execution_count": null,
   "metadata": {},
   "outputs": [
    {
     "name": "stdout",
     "output_type": "stream",
     "text": [
      "status code: <Response [401]> \n",
      "\n",
      "\n",
      "Response data:\n",
      "\n"
     ]
    },
    {
     "data": {
      "text/plain": [
       "{'message': 'Unauthorized. A valid API key must be provided in the X-API-Key header.'}"
      ]
     },
     "execution_count": 7,
     "metadata": {},
     "output_type": "execute_result"
    }
   ],
   "source": [
    "parameters = requests.get(\"https://api.openaq.org/v2/parameters\", params={\"limit\":100})\n",
    "\n",
    "print(\"status code:\", parameters, \"\\n\\n\")\n",
    "\n",
    "print(\"Response data:\\n\")\n",
    "parameters.json()"
   ]
  },
  {
   "cell_type": "markdown",
   "metadata": {},
   "source": [
    "In what follows we will only focus on the `pm25` parameter which indicates the concentration of *fine particles* in the air, which is one of the most commonly discussed air pollution type."
   ]
  },
  {
   "cell_type": "markdown",
   "metadata": {},
   "source": [
    "3. Use a query to list the countries available in API"
   ]
  },
  {
   "cell_type": "code",
   "execution_count": 4,
   "metadata": {},
   "outputs": [
    {
     "name": "stdout",
     "output_type": "stream",
     "text": [
      "status code: <Response [200]> \n",
      "\n",
      "\n",
      "Response data:\n",
      "\n"
     ]
    },
    {
     "data": {
      "text/plain": [
       "[{'code': 'AD',\n",
       "  'name': 'Andorra',\n",
       "  'locations': 3,\n",
       "  'firstUpdated': '2017-09-14T23:00:00+00:00',\n",
       "  'lastUpdated': '2022-09-21T11:00:00+00:00',\n",
       "  'parameters': ['co', 'no2', 'o3', 'pm10', 'so2'],\n",
       "  'count': 665520,\n",
       "  'cities': 2,\n",
       "  'sources': 1},\n",
       " {'code': 'AE',\n",
       "  'name': 'United Arab Emirates',\n",
       "  'locations': 10,\n",
       "  'firstUpdated': '2017-12-26T23:00:00+00:00',\n",
       "  'lastUpdated': '2022-09-21T12:00:11+00:00',\n",
       "  'parameters': ['o3', 'pm1', 'pm10', 'pm25', 'um010', 'um025', 'um100'],\n",
       "  'count': 15446861,\n",
       "  'cities': 2,\n",
       "  'sources': 5},\n",
       " {'code': 'AF',\n",
       "  'name': 'Afghanistan',\n",
       "  'locations': 3,\n",
       "  'firstUpdated': '2019-10-20T22:30:00+00:00',\n",
       "  'lastUpdated': '2021-09-29T10:10:17+00:00',\n",
       "  'parameters': ['pm1', 'pm10', 'pm25', 'um010', 'um025', 'um100'],\n",
       "  'count': 2294724,\n",
       "  'cities': 2,\n",
       "  'sources': 4},\n",
       " {'code': 'AJ',\n",
       "  'name': 'AJ',\n",
       "  'locations': 10,\n",
       "  'firstUpdated': '2022-06-23T12:00:00+00:00',\n",
       "  'lastUpdated': '2022-09-21T10:00:00+00:00',\n",
       "  'parameters': ['pm25'],\n",
       "  'count': 4378,\n",
       "  'cities': 1,\n",
       "  'sources': 2},\n",
       " {'code': 'AL',\n",
       "  'name': 'Albania',\n",
       "  'locations': 17,\n",
       "  'firstUpdated': '2022-02-03T15:25:58+00:00',\n",
       "  'lastUpdated': '2022-05-13T13:54:14+00:00',\n",
       "  'parameters': ['pm25'],\n",
       "  'count': 60588,\n",
       "  'cities': 0,\n",
       "  'sources': 1}]"
      ]
     },
     "execution_count": 4,
     "metadata": {},
     "output_type": "execute_result"
    }
   ],
   "source": [
    "countries = requests.get(\"https://api.openaq.org/v2/countries\")\n",
    "\n",
    "print(\"status code:\", countries, \"\\n\\n\")\n",
    "\n",
    "print(\"Response data:\\n\")\n",
    "countries.json()[\"results\"][:5]"
   ]
  },
  {
   "cell_type": "markdown",
   "metadata": {},
   "source": [
    "4. Use the previous query to find the two letter code for France (or the country of your choice) and use a query to get information about the country "
   ]
  },
  {
   "cell_type": "code",
   "execution_count": 3,
   "metadata": {},
   "outputs": [
    {
     "name": "stdout",
     "output_type": "stream",
     "text": [
      "status code: <Response [410]> \n",
      "\n",
      "\n",
      "Response data:\n",
      "\n"
     ]
    },
    {
     "data": {
      "text/plain": [
       "{'message': 'Gone. Version 1 and Version 2 API endpoints are retired and no longer available. Please migrate to Version 3 endpoints.'}"
      ]
     },
     "execution_count": 3,
     "metadata": {},
     "output_type": "execute_result"
    }
   ],
   "source": [
    "country = requests.get(\"https://api.openaq.org/v2/countries/FR\")\n",
    "\n",
    "print(\"status code:\", country, \"\\n\\n\")\n",
    "\n",
    "print(\"Response data:\\n\")\n",
    "country.json()"
   ]
  },
  {
   "cell_type": "markdown",
   "metadata": {},
   "source": [
    "5. specifically store the number of available locations in a variable called `limit`"
   ]
  },
  {
   "cell_type": "code",
   "execution_count": 6,
   "metadata": {},
   "outputs": [
    {
     "ename": "KeyError",
     "evalue": "'results'",
     "output_type": "error",
     "traceback": [
      "\u001b[0;31m---------------------------------------------------------------------------\u001b[0m",
      "\u001b[0;31mKeyError\u001b[0m                                  Traceback (most recent call last)",
      "Cell \u001b[0;32mIn[6], line 1\u001b[0m\n\u001b[0;32m----> 1\u001b[0m limit \u001b[38;5;241m=\u001b[39m country\u001b[38;5;241m.\u001b[39mjson()[\u001b[38;5;124m\"\u001b[39m\u001b[38;5;124mresults\u001b[39m\u001b[38;5;124m\"\u001b[39m][\u001b[38;5;241m0\u001b[39m][\u001b[38;5;124m\"\u001b[39m\u001b[38;5;124mlocations\u001b[39m\u001b[38;5;124m\"\u001b[39m]\n",
      "\u001b[0;31mKeyError\u001b[0m: 'results'"
     ]
    }
   ],
   "source": [
    "limit = country.json()[\"results\"][0][\"locations\"]"
   ]
  },
  {
   "cell_type": "markdown",
   "metadata": {},
   "source": [
    "After a few trials it actually turns out that the actual number of locations available is a little higher than what the API gives us. In the following question set the limit parameter of the query to the maximum value in order to get all locations."
   ]
  },
  {
   "cell_type": "markdown",
   "metadata": {},
   "source": [
    "6. Use a query to list out all the different locations in France, use a parameter to be able to get them all in one query!"
   ]
  },
  {
   "cell_type": "code",
   "execution_count": 5,
   "metadata": {},
   "outputs": [
    {
     "name": "stdout",
     "output_type": "stream",
     "text": [
      "status code: <Response [410]> \n",
      "\n",
      "\n",
      "Response data:\n",
      "\n"
     ]
    },
    {
     "ename": "KeyError",
     "evalue": "'results'",
     "output_type": "error",
     "traceback": [
      "\u001b[0;31m---------------------------------------------------------------------------\u001b[0m",
      "\u001b[0;31mKeyError\u001b[0m                                  Traceback (most recent call last)",
      "Cell \u001b[0;32mIn[5], line 8\u001b[0m\n\u001b[1;32m      5\u001b[0m \u001b[38;5;28mprint\u001b[39m(\u001b[38;5;124m\"\u001b[39m\u001b[38;5;124mstatus code:\u001b[39m\u001b[38;5;124m\"\u001b[39m, locations, \u001b[38;5;124m\"\u001b[39m\u001b[38;5;130;01m\\n\u001b[39;00m\u001b[38;5;130;01m\\n\u001b[39;00m\u001b[38;5;124m\"\u001b[39m)\n\u001b[1;32m      7\u001b[0m \u001b[38;5;28mprint\u001b[39m(\u001b[38;5;124m\"\u001b[39m\u001b[38;5;124mResponse data:\u001b[39m\u001b[38;5;130;01m\\n\u001b[39;00m\u001b[38;5;124m\"\u001b[39m)\n\u001b[0;32m----> 8\u001b[0m locations\u001b[38;5;241m.\u001b[39mjson()[\u001b[38;5;124m\"\u001b[39m\u001b[38;5;124mresults\u001b[39m\u001b[38;5;124m\"\u001b[39m][:\u001b[38;5;241m3\u001b[39m]\n",
      "\u001b[0;31mKeyError\u001b[0m: 'results'"
     ]
    }
   ],
   "source": [
    "locations = requests.get(\"https://api.openaq.org/v2/locations\",\n",
    "                        params={\"limit\":100000,  #str(limit), underestimates the number of locations\n",
    "                               \"country_id\":\"FR\"})\n",
    "\n",
    "print(\"status code:\", locations, \"\\n\\n\")\n",
    "\n",
    "print(\"Response data:\\n\")\n",
    "locations.json()[\"results\"][:3]"
   ]
  },
  {
   "cell_type": "markdown",
   "metadata": {},
   "source": [
    "7. Print out the number of results obtained"
   ]
  },
  {
   "cell_type": "code",
   "execution_count": 4,
   "metadata": {},
   "outputs": [
    {
     "ename": "NameError",
     "evalue": "name 'locations' is not defined",
     "output_type": "error",
     "traceback": [
      "\u001b[0;31m---------------------------------------------------------------------------\u001b[0m",
      "\u001b[0;31mNameError\u001b[0m                                 Traceback (most recent call last)",
      "Cell \u001b[0;32mIn[4], line 1\u001b[0m\n\u001b[0;32m----> 1\u001b[0m \u001b[38;5;28mlen\u001b[39m(locations\u001b[38;5;241m.\u001b[39mjson()[\u001b[38;5;124m\"\u001b[39m\u001b[38;5;124mresults\u001b[39m\u001b[38;5;124m\"\u001b[39m])\n",
      "\u001b[0;31mNameError\u001b[0m: name 'locations' is not defined"
     ]
    }
   ],
   "source": [
    "len(locations.json()[\"results\"])"
   ]
  },
  {
   "cell_type": "markdown",
   "metadata": {},
   "source": [
    "8. Check [this part](https://docs.openaq.org/#/v2/measurements_get_v2_measurements_get) of the documentation and identify the format that is expected from the date options to query the API.\n",
    "\n",
    "Then use `from datetime import datetime` and `from datetime import timedelta` in order to produce date 01 JAN 2022 in the API compatible format, and call it `end_date`"
   ]
  },
  {
   "cell_type": "code",
   "execution_count": 9,
   "metadata": {},
   "outputs": [
    {
     "data": {
      "text/plain": [
       "'2022-01-01T00:00:00+00:00'"
      ]
     },
     "execution_count": 9,
     "metadata": {},
     "output_type": "execute_result"
    }
   ],
   "source": [
    "from datetime import datetime\n",
    "from datetime import timedelta\n",
    "from datetime import date\n",
    "end_date = date(2022,1,1)\n",
    "end_date.strftime('%Y-%m-%dT%H:%M:%S+00:00')"
   ]
  },
  {
   "cell_type": "markdown",
   "metadata": {},
   "source": [
    "9. Now use `timedelta` to produce the date 10 days before in the same format, and call it `start_date`"
   ]
  },
  {
   "cell_type": "code",
   "execution_count": 10,
   "metadata": {},
   "outputs": [
    {
     "data": {
      "text/plain": [
       "'2021-12-25T00:00:00+00:00'"
      ]
     },
     "execution_count": 10,
     "metadata": {},
     "output_type": "execute_result"
    }
   ],
   "source": [
    "start_date = (end_date-timedelta(days=7)).strftime('%Y-%m-%dT%H:%M:%S+00:00')\n",
    "start_date"
   ]
  },
  {
   "cell_type": "markdown",
   "metadata": {},
   "source": [
    "10. Use a query to get all the data about the first location for the past day"
   ]
  },
  {
   "cell_type": "code",
   "execution_count": 11,
   "metadata": {},
   "outputs": [
    {
     "data": {
      "text/plain": [
       "'62499'"
      ]
     },
     "execution_count": 11,
     "metadata": {},
     "output_type": "execute_result"
    }
   ],
   "source": [
    "str(locations.json()[\"results\"][0][\"id\"])"
   ]
  },
  {
   "cell_type": "code",
   "execution_count": 13,
   "metadata": {},
   "outputs": [
    {
     "name": "stdout",
     "output_type": "stream",
     "text": [
      "status code: <Response [200]> \n",
      "\n",
      "\n",
      "Response data:\n",
      "\n"
     ]
    },
    {
     "data": {
      "text/plain": [
       "[{'locationId': 62499,\n",
       "  'location': 'chatou',\n",
       "  'parameter': 'pm25',\n",
       "  'value': 18.8,\n",
       "  'date': {'utc': '2021-12-31T23:59:34+00:00',\n",
       "   'local': '2021-12-31T22:59:34-01:00'},\n",
       "  'unit': 'µg/m³',\n",
       "  'coordinates': {'latitude': 48.896294, 'longitude': 2.154951},\n",
       "  'country': 'FR',\n",
       "  'city': None,\n",
       "  'isMobile': False,\n",
       "  'isAnalysis': False,\n",
       "  'entity': 'community',\n",
       "  'sensorType': 'low-cost sensor'},\n",
       " {'locationId': 62499,\n",
       "  'location': 'chatou',\n",
       "  'parameter': 'pm25',\n",
       "  'value': 18.7,\n",
       "  'date': {'utc': '2021-12-31T23:57:34+00:00',\n",
       "   'local': '2021-12-31T22:57:34-01:00'},\n",
       "  'unit': 'µg/m³',\n",
       "  'coordinates': {'latitude': 48.896294, 'longitude': 2.154951},\n",
       "  'country': 'FR',\n",
       "  'city': None,\n",
       "  'isMobile': False,\n",
       "  'isAnalysis': False,\n",
       "  'entity': 'community',\n",
       "  'sensorType': 'low-cost sensor'},\n",
       " {'locationId': 62499,\n",
       "  'location': 'chatou',\n",
       "  'parameter': 'pm25',\n",
       "  'value': 19.0,\n",
       "  'date': {'utc': '2021-12-31T23:55:34+00:00',\n",
       "   'local': '2021-12-31T22:55:34-01:00'},\n",
       "  'unit': 'µg/m³',\n",
       "  'coordinates': {'latitude': 48.896294, 'longitude': 2.154951},\n",
       "  'country': 'FR',\n",
       "  'city': None,\n",
       "  'isMobile': False,\n",
       "  'isAnalysis': False,\n",
       "  'entity': 'community',\n",
       "  'sensorType': 'low-cost sensor'}]"
      ]
     },
     "execution_count": 13,
     "metadata": {},
     "output_type": "execute_result"
    }
   ],
   "source": [
    "measurements = requests.get(\"https://api.openaq.org/v2/measurements\",\n",
    "                           params={\"date_from\":start_date,\n",
    "                                   \"date_to\":end_date,\n",
    "                                   \"parameter\":\"pm25\",\n",
    "                                  \"limit\":100000,\n",
    "                                  \"location_id\":str(locations.json()[\"results\"][0][\"id\"])})\n",
    "\n",
    "print(\"status code:\", measurements, \"\\n\\n\")\n",
    "\n",
    "print(\"Response data:\\n\")\n",
    "measurements.json()[\"results\"][:3]"
   ]
  },
  {
   "cell_type": "code",
   "execution_count": 14,
   "metadata": {},
   "outputs": [
    {
     "data": {
      "text/plain": [
       "{'name': 'openaq-api',\n",
       " 'license': 'CC BY 4.0d',\n",
       " 'website': 'api.openaq.org',\n",
       " 'page': 1,\n",
       " 'limit': 100000,\n",
       " 'found': 10089}"
      ]
     },
     "execution_count": 14,
     "metadata": {},
     "output_type": "execute_result"
    }
   ],
   "source": [
    "measurements.json()[\"meta\"]"
   ]
  },
  {
   "cell_type": "markdown",
   "metadata": {},
   "source": [
    "11. As you may see, a query covering 10 days for a single location already contains 46920 measures in this case. Imagine if we would like to get historical data for the prrevious ten years for the whole country, this would take some time and a lot of space, so for now just try and create a loop to get 30 days of data for the whole country."
   ]
  },
  {
   "cell_type": "code",
   "execution_count": 15,
   "metadata": {},
   "outputs": [
    {
     "data": {
      "application/vnd.jupyter.widget-view+json": {
       "model_id": "56ca94d8f0e849359c251f7b6b0f8d01",
       "version_major": 2,
       "version_minor": 0
      },
      "text/plain": [
       "  0%|          | 0/1294 [00:00<?, ?it/s]"
      ]
     },
     "metadata": {},
     "output_type": "display_data"
    },
    {
     "name": "stdout",
     "output_type": "stream",
     "text": [
      "Fetching data for location:  chatou\n",
      "<Response [200]>\n",
      "Fetching data for location:  La Hacquiniere\n",
      "<Response [200]>\n",
      "Fetching data for location:  Ordino\n",
      "<Response [200]>\n",
      "Fetching data for location:  Meteo-Thenioux\n"
     ]
    },
    {
     "ename": "KeyboardInterrupt",
     "evalue": "",
     "output_type": "error",
     "traceback": [
      "\u001b[1;31m---------------------------------------------------------------------------\u001b[0m",
      "\u001b[1;31mKeyboardInterrupt\u001b[0m                         Traceback (most recent call last)",
      "\u001b[1;32mc:\\Users\\charl\\Documents\\jedha\\FULL_STACK_12_WEEK_PROGRAM\\M04-Data_Collection_and_Management\\D01-HTTP_and_APIs\\03-Instructors\\01-Exercises_solutions\\03-Just_look_up_solutions.ipynb Cell 27\u001b[0m in \u001b[0;36m<cell line: 3>\u001b[1;34m()\u001b[0m\n\u001b[0;32m      <a href='vscode-notebook-cell:/c%3A/Users/charl/Documents/jedha/FULL_STACK_12_WEEK_PROGRAM/M04-Data_Collection_and_Management/D01-HTTP_and_APIs/03-Instructors/01-Exercises_solutions/03-Just_look_up_solutions.ipynb#X35sZmlsZQ%3D%3D?line=4'>5</a>\u001b[0m     \u001b[39mprint\u001b[39m(\u001b[39m\"\u001b[39m\u001b[39mFetching data for location: \u001b[39m\u001b[39m\"\u001b[39m,location[\u001b[39m\"\u001b[39m\u001b[39mname\u001b[39m\u001b[39m\"\u001b[39m])\n\u001b[0;32m      <a href='vscode-notebook-cell:/c%3A/Users/charl/Documents/jedha/FULL_STACK_12_WEEK_PROGRAM/M04-Data_Collection_and_Management/D01-HTTP_and_APIs/03-Instructors/01-Exercises_solutions/03-Just_look_up_solutions.ipynb#X35sZmlsZQ%3D%3D?line=5'>6</a>\u001b[0m \u001b[39melse\u001b[39;00m: \u001b[39mprint\u001b[39m(\u001b[39m\"\u001b[39m\u001b[39mFetching new unnamed location\u001b[39m\u001b[39m\"\u001b[39m)\n\u001b[1;32m----> <a href='vscode-notebook-cell:/c%3A/Users/charl/Documents/jedha/FULL_STACK_12_WEEK_PROGRAM/M04-Data_Collection_and_Management/D01-HTTP_and_APIs/03-Instructors/01-Exercises_solutions/03-Just_look_up_solutions.ipynb#X35sZmlsZQ%3D%3D?line=6'>7</a>\u001b[0m measurements \u001b[39m=\u001b[39m requests\u001b[39m.\u001b[39;49mget(\u001b[39m\"\u001b[39;49m\u001b[39mhttps://api.openaq.org/v2/measurements\u001b[39;49m\u001b[39m\"\u001b[39;49m,\n\u001b[0;32m      <a href='vscode-notebook-cell:/c%3A/Users/charl/Documents/jedha/FULL_STACK_12_WEEK_PROGRAM/M04-Data_Collection_and_Management/D01-HTTP_and_APIs/03-Instructors/01-Exercises_solutions/03-Just_look_up_solutions.ipynb#X35sZmlsZQ%3D%3D?line=7'>8</a>\u001b[0m                        params\u001b[39m=\u001b[39;49m{\u001b[39m\"\u001b[39;49m\u001b[39mdate_from\u001b[39;49m\u001b[39m\"\u001b[39;49m:start_date,\n\u001b[0;32m      <a href='vscode-notebook-cell:/c%3A/Users/charl/Documents/jedha/FULL_STACK_12_WEEK_PROGRAM/M04-Data_Collection_and_Management/D01-HTTP_and_APIs/03-Instructors/01-Exercises_solutions/03-Just_look_up_solutions.ipynb#X35sZmlsZQ%3D%3D?line=8'>9</a>\u001b[0m                                \u001b[39m\"\u001b[39;49m\u001b[39mdate_to\u001b[39;49m\u001b[39m\"\u001b[39;49m:end_date,\n\u001b[0;32m     <a href='vscode-notebook-cell:/c%3A/Users/charl/Documents/jedha/FULL_STACK_12_WEEK_PROGRAM/M04-Data_Collection_and_Management/D01-HTTP_and_APIs/03-Instructors/01-Exercises_solutions/03-Just_look_up_solutions.ipynb#X35sZmlsZQ%3D%3D?line=9'>10</a>\u001b[0m                                \u001b[39m\"\u001b[39;49m\u001b[39mparameter\u001b[39;49m\u001b[39m\"\u001b[39;49m:\u001b[39m\"\u001b[39;49m\u001b[39mpm25\u001b[39;49m\u001b[39m\"\u001b[39;49m,\n\u001b[0;32m     <a href='vscode-notebook-cell:/c%3A/Users/charl/Documents/jedha/FULL_STACK_12_WEEK_PROGRAM/M04-Data_Collection_and_Management/D01-HTTP_and_APIs/03-Instructors/01-Exercises_solutions/03-Just_look_up_solutions.ipynb#X35sZmlsZQ%3D%3D?line=10'>11</a>\u001b[0m                                \u001b[39m\"\u001b[39;49m\u001b[39mlimit\u001b[39;49m\u001b[39m\"\u001b[39;49m:\u001b[39m100000\u001b[39;49m,\n\u001b[0;32m     <a href='vscode-notebook-cell:/c%3A/Users/charl/Documents/jedha/FULL_STACK_12_WEEK_PROGRAM/M04-Data_Collection_and_Management/D01-HTTP_and_APIs/03-Instructors/01-Exercises_solutions/03-Just_look_up_solutions.ipynb#X35sZmlsZQ%3D%3D?line=11'>12</a>\u001b[0m                                \u001b[39m\"\u001b[39;49m\u001b[39mlocation_id\u001b[39;49m\u001b[39m\"\u001b[39;49m:\u001b[39mstr\u001b[39;49m(location[\u001b[39m\"\u001b[39;49m\u001b[39mid\u001b[39;49m\u001b[39m\"\u001b[39;49m])})\n\u001b[0;32m     <a href='vscode-notebook-cell:/c%3A/Users/charl/Documents/jedha/FULL_STACK_12_WEEK_PROGRAM/M04-Data_Collection_and_Management/D01-HTTP_and_APIs/03-Instructors/01-Exercises_solutions/03-Just_look_up_solutions.ipynb#X35sZmlsZQ%3D%3D?line=12'>13</a>\u001b[0m \u001b[39mprint\u001b[39m(measurements)\n\u001b[0;32m     <a href='vscode-notebook-cell:/c%3A/Users/charl/Documents/jedha/FULL_STACK_12_WEEK_PROGRAM/M04-Data_Collection_and_Management/D01-HTTP_and_APIs/03-Instructors/01-Exercises_solutions/03-Just_look_up_solutions.ipynb#X35sZmlsZQ%3D%3D?line=13'>14</a>\u001b[0m result[location[\u001b[39m\"\u001b[39m\u001b[39mid\u001b[39m\u001b[39m\"\u001b[39m]] \u001b[39m=\u001b[39m measurements\n",
      "File \u001b[1;32mc:\\Users\\charl\\anaconda3\\lib\\site-packages\\requests\\api.py:75\u001b[0m, in \u001b[0;36mget\u001b[1;34m(url, params, **kwargs)\u001b[0m\n\u001b[0;32m     64\u001b[0m \u001b[39mdef\u001b[39;00m \u001b[39mget\u001b[39m(url, params\u001b[39m=\u001b[39m\u001b[39mNone\u001b[39;00m, \u001b[39m*\u001b[39m\u001b[39m*\u001b[39mkwargs):\n\u001b[0;32m     65\u001b[0m     \u001b[39mr\u001b[39m\u001b[39m\"\"\"Sends a GET request.\u001b[39;00m\n\u001b[0;32m     66\u001b[0m \n\u001b[0;32m     67\u001b[0m \u001b[39m    :param url: URL for the new :class:`Request` object.\u001b[39;00m\n\u001b[1;32m   (...)\u001b[0m\n\u001b[0;32m     72\u001b[0m \u001b[39m    :rtype: requests.Response\u001b[39;00m\n\u001b[0;32m     73\u001b[0m \u001b[39m    \"\"\"\u001b[39;00m\n\u001b[1;32m---> 75\u001b[0m     \u001b[39mreturn\u001b[39;00m request(\u001b[39m'\u001b[39m\u001b[39mget\u001b[39m\u001b[39m'\u001b[39m, url, params\u001b[39m=\u001b[39mparams, \u001b[39m*\u001b[39m\u001b[39m*\u001b[39mkwargs)\n",
      "File \u001b[1;32mc:\\Users\\charl\\anaconda3\\lib\\site-packages\\requests\\api.py:61\u001b[0m, in \u001b[0;36mrequest\u001b[1;34m(method, url, **kwargs)\u001b[0m\n\u001b[0;32m     57\u001b[0m \u001b[39m# By using the 'with' statement we are sure the session is closed, thus we\u001b[39;00m\n\u001b[0;32m     58\u001b[0m \u001b[39m# avoid leaving sockets open which can trigger a ResourceWarning in some\u001b[39;00m\n\u001b[0;32m     59\u001b[0m \u001b[39m# cases, and look like a memory leak in others.\u001b[39;00m\n\u001b[0;32m     60\u001b[0m \u001b[39mwith\u001b[39;00m sessions\u001b[39m.\u001b[39mSession() \u001b[39mas\u001b[39;00m session:\n\u001b[1;32m---> 61\u001b[0m     \u001b[39mreturn\u001b[39;00m session\u001b[39m.\u001b[39mrequest(method\u001b[39m=\u001b[39mmethod, url\u001b[39m=\u001b[39murl, \u001b[39m*\u001b[39m\u001b[39m*\u001b[39mkwargs)\n",
      "File \u001b[1;32mc:\\Users\\charl\\anaconda3\\lib\\site-packages\\requests\\sessions.py:529\u001b[0m, in \u001b[0;36mSession.request\u001b[1;34m(self, method, url, params, data, headers, cookies, files, auth, timeout, allow_redirects, proxies, hooks, stream, verify, cert, json)\u001b[0m\n\u001b[0;32m    524\u001b[0m send_kwargs \u001b[39m=\u001b[39m {\n\u001b[0;32m    525\u001b[0m     \u001b[39m'\u001b[39m\u001b[39mtimeout\u001b[39m\u001b[39m'\u001b[39m: timeout,\n\u001b[0;32m    526\u001b[0m     \u001b[39m'\u001b[39m\u001b[39mallow_redirects\u001b[39m\u001b[39m'\u001b[39m: allow_redirects,\n\u001b[0;32m    527\u001b[0m }\n\u001b[0;32m    528\u001b[0m send_kwargs\u001b[39m.\u001b[39mupdate(settings)\n\u001b[1;32m--> 529\u001b[0m resp \u001b[39m=\u001b[39m \u001b[39mself\u001b[39m\u001b[39m.\u001b[39msend(prep, \u001b[39m*\u001b[39m\u001b[39m*\u001b[39msend_kwargs)\n\u001b[0;32m    531\u001b[0m \u001b[39mreturn\u001b[39;00m resp\n",
      "File \u001b[1;32mc:\\Users\\charl\\anaconda3\\lib\\site-packages\\requests\\sessions.py:687\u001b[0m, in \u001b[0;36mSession.send\u001b[1;34m(self, request, **kwargs)\u001b[0m\n\u001b[0;32m    684\u001b[0m         \u001b[39mpass\u001b[39;00m\n\u001b[0;32m    686\u001b[0m \u001b[39mif\u001b[39;00m \u001b[39mnot\u001b[39;00m stream:\n\u001b[1;32m--> 687\u001b[0m     r\u001b[39m.\u001b[39;49mcontent\n\u001b[0;32m    689\u001b[0m \u001b[39mreturn\u001b[39;00m r\n",
      "File \u001b[1;32mc:\\Users\\charl\\anaconda3\\lib\\site-packages\\requests\\models.py:838\u001b[0m, in \u001b[0;36mResponse.content\u001b[1;34m(self)\u001b[0m\n\u001b[0;32m    836\u001b[0m         \u001b[39mself\u001b[39m\u001b[39m.\u001b[39m_content \u001b[39m=\u001b[39m \u001b[39mNone\u001b[39;00m\n\u001b[0;32m    837\u001b[0m     \u001b[39melse\u001b[39;00m:\n\u001b[1;32m--> 838\u001b[0m         \u001b[39mself\u001b[39m\u001b[39m.\u001b[39m_content \u001b[39m=\u001b[39m \u001b[39mb\u001b[39;49m\u001b[39m'\u001b[39;49m\u001b[39m'\u001b[39;49m\u001b[39m.\u001b[39;49mjoin(\u001b[39mself\u001b[39;49m\u001b[39m.\u001b[39;49miter_content(CONTENT_CHUNK_SIZE)) \u001b[39mor\u001b[39;00m \u001b[39mb\u001b[39m\u001b[39m'\u001b[39m\u001b[39m'\u001b[39m\n\u001b[0;32m    840\u001b[0m \u001b[39mself\u001b[39m\u001b[39m.\u001b[39m_content_consumed \u001b[39m=\u001b[39m \u001b[39mTrue\u001b[39;00m\n\u001b[0;32m    841\u001b[0m \u001b[39m# don't need to release the connection; that's been handled by urllib3\u001b[39;00m\n\u001b[0;32m    842\u001b[0m \u001b[39m# since we exhausted the data.\u001b[39;00m\n",
      "File \u001b[1;32mc:\\Users\\charl\\anaconda3\\lib\\site-packages\\requests\\models.py:760\u001b[0m, in \u001b[0;36mResponse.iter_content.<locals>.generate\u001b[1;34m()\u001b[0m\n\u001b[0;32m    758\u001b[0m \u001b[39mif\u001b[39;00m \u001b[39mhasattr\u001b[39m(\u001b[39mself\u001b[39m\u001b[39m.\u001b[39mraw, \u001b[39m'\u001b[39m\u001b[39mstream\u001b[39m\u001b[39m'\u001b[39m):\n\u001b[0;32m    759\u001b[0m     \u001b[39mtry\u001b[39;00m:\n\u001b[1;32m--> 760\u001b[0m         \u001b[39mfor\u001b[39;00m chunk \u001b[39min\u001b[39;00m \u001b[39mself\u001b[39m\u001b[39m.\u001b[39mraw\u001b[39m.\u001b[39mstream(chunk_size, decode_content\u001b[39m=\u001b[39m\u001b[39mTrue\u001b[39;00m):\n\u001b[0;32m    761\u001b[0m             \u001b[39myield\u001b[39;00m chunk\n\u001b[0;32m    762\u001b[0m     \u001b[39mexcept\u001b[39;00m ProtocolError \u001b[39mas\u001b[39;00m e:\n",
      "File \u001b[1;32mc:\\Users\\charl\\anaconda3\\lib\\site-packages\\urllib3\\response.py:575\u001b[0m, in \u001b[0;36mHTTPResponse.stream\u001b[1;34m(self, amt, decode_content)\u001b[0m\n\u001b[0;32m    559\u001b[0m \u001b[39m\"\"\"\u001b[39;00m\n\u001b[0;32m    560\u001b[0m \u001b[39mA generator wrapper for the read() method. A call will block until\u001b[39;00m\n\u001b[0;32m    561\u001b[0m \u001b[39m``amt`` bytes have been read from the connection or until the\u001b[39;00m\n\u001b[1;32m   (...)\u001b[0m\n\u001b[0;32m    572\u001b[0m \u001b[39m    'content-encoding' header.\u001b[39;00m\n\u001b[0;32m    573\u001b[0m \u001b[39m\"\"\"\u001b[39;00m\n\u001b[0;32m    574\u001b[0m \u001b[39mif\u001b[39;00m \u001b[39mself\u001b[39m\u001b[39m.\u001b[39mchunked \u001b[39mand\u001b[39;00m \u001b[39mself\u001b[39m\u001b[39m.\u001b[39msupports_chunked_reads():\n\u001b[1;32m--> 575\u001b[0m     \u001b[39mfor\u001b[39;00m line \u001b[39min\u001b[39;00m \u001b[39mself\u001b[39m\u001b[39m.\u001b[39mread_chunked(amt, decode_content\u001b[39m=\u001b[39mdecode_content):\n\u001b[0;32m    576\u001b[0m         \u001b[39myield\u001b[39;00m line\n\u001b[0;32m    577\u001b[0m \u001b[39melse\u001b[39;00m:\n",
      "File \u001b[1;32mc:\\Users\\charl\\anaconda3\\lib\\site-packages\\urllib3\\response.py:767\u001b[0m, in \u001b[0;36mHTTPResponse.read_chunked\u001b[1;34m(self, amt, decode_content)\u001b[0m\n\u001b[0;32m    764\u001b[0m     \u001b[39mreturn\u001b[39;00m\n\u001b[0;32m    766\u001b[0m \u001b[39mwhile\u001b[39;00m \u001b[39mTrue\u001b[39;00m:\n\u001b[1;32m--> 767\u001b[0m     \u001b[39mself\u001b[39;49m\u001b[39m.\u001b[39;49m_update_chunk_length()\n\u001b[0;32m    768\u001b[0m     \u001b[39mif\u001b[39;00m \u001b[39mself\u001b[39m\u001b[39m.\u001b[39mchunk_left \u001b[39m==\u001b[39m \u001b[39m0\u001b[39m:\n\u001b[0;32m    769\u001b[0m         \u001b[39mbreak\u001b[39;00m\n",
      "File \u001b[1;32mc:\\Users\\charl\\anaconda3\\lib\\site-packages\\urllib3\\response.py:697\u001b[0m, in \u001b[0;36mHTTPResponse._update_chunk_length\u001b[1;34m(self)\u001b[0m\n\u001b[0;32m    695\u001b[0m \u001b[39mif\u001b[39;00m \u001b[39mself\u001b[39m\u001b[39m.\u001b[39mchunk_left \u001b[39mis\u001b[39;00m \u001b[39mnot\u001b[39;00m \u001b[39mNone\u001b[39;00m:\n\u001b[0;32m    696\u001b[0m     \u001b[39mreturn\u001b[39;00m\n\u001b[1;32m--> 697\u001b[0m line \u001b[39m=\u001b[39m \u001b[39mself\u001b[39;49m\u001b[39m.\u001b[39;49m_fp\u001b[39m.\u001b[39;49mfp\u001b[39m.\u001b[39;49mreadline()\n\u001b[0;32m    698\u001b[0m line \u001b[39m=\u001b[39m line\u001b[39m.\u001b[39msplit(\u001b[39mb\u001b[39m\u001b[39m\"\u001b[39m\u001b[39m;\u001b[39m\u001b[39m\"\u001b[39m, \u001b[39m1\u001b[39m)[\u001b[39m0\u001b[39m]\n\u001b[0;32m    699\u001b[0m \u001b[39mtry\u001b[39;00m:\n",
      "File \u001b[1;32mc:\\Users\\charl\\anaconda3\\lib\\socket.py:704\u001b[0m, in \u001b[0;36mSocketIO.readinto\u001b[1;34m(self, b)\u001b[0m\n\u001b[0;32m    702\u001b[0m \u001b[39mwhile\u001b[39;00m \u001b[39mTrue\u001b[39;00m:\n\u001b[0;32m    703\u001b[0m     \u001b[39mtry\u001b[39;00m:\n\u001b[1;32m--> 704\u001b[0m         \u001b[39mreturn\u001b[39;00m \u001b[39mself\u001b[39;49m\u001b[39m.\u001b[39;49m_sock\u001b[39m.\u001b[39;49mrecv_into(b)\n\u001b[0;32m    705\u001b[0m     \u001b[39mexcept\u001b[39;00m timeout:\n\u001b[0;32m    706\u001b[0m         \u001b[39mself\u001b[39m\u001b[39m.\u001b[39m_timeout_occurred \u001b[39m=\u001b[39m \u001b[39mTrue\u001b[39;00m\n",
      "File \u001b[1;32mc:\\Users\\charl\\anaconda3\\lib\\ssl.py:1241\u001b[0m, in \u001b[0;36mSSLSocket.recv_into\u001b[1;34m(self, buffer, nbytes, flags)\u001b[0m\n\u001b[0;32m   1237\u001b[0m     \u001b[39mif\u001b[39;00m flags \u001b[39m!=\u001b[39m \u001b[39m0\u001b[39m:\n\u001b[0;32m   1238\u001b[0m         \u001b[39mraise\u001b[39;00m \u001b[39mValueError\u001b[39;00m(\n\u001b[0;32m   1239\u001b[0m           \u001b[39m\"\u001b[39m\u001b[39mnon-zero flags not allowed in calls to recv_into() on \u001b[39m\u001b[39m%s\u001b[39;00m\u001b[39m\"\u001b[39m \u001b[39m%\u001b[39m\n\u001b[0;32m   1240\u001b[0m           \u001b[39mself\u001b[39m\u001b[39m.\u001b[39m\u001b[39m__class__\u001b[39m)\n\u001b[1;32m-> 1241\u001b[0m     \u001b[39mreturn\u001b[39;00m \u001b[39mself\u001b[39;49m\u001b[39m.\u001b[39;49mread(nbytes, buffer)\n\u001b[0;32m   1242\u001b[0m \u001b[39melse\u001b[39;00m:\n\u001b[0;32m   1243\u001b[0m     \u001b[39mreturn\u001b[39;00m \u001b[39msuper\u001b[39m()\u001b[39m.\u001b[39mrecv_into(buffer, nbytes, flags)\n",
      "File \u001b[1;32mc:\\Users\\charl\\anaconda3\\lib\\ssl.py:1099\u001b[0m, in \u001b[0;36mSSLSocket.read\u001b[1;34m(self, len, buffer)\u001b[0m\n\u001b[0;32m   1097\u001b[0m \u001b[39mtry\u001b[39;00m:\n\u001b[0;32m   1098\u001b[0m     \u001b[39mif\u001b[39;00m buffer \u001b[39mis\u001b[39;00m \u001b[39mnot\u001b[39;00m \u001b[39mNone\u001b[39;00m:\n\u001b[1;32m-> 1099\u001b[0m         \u001b[39mreturn\u001b[39;00m \u001b[39mself\u001b[39;49m\u001b[39m.\u001b[39;49m_sslobj\u001b[39m.\u001b[39;49mread(\u001b[39mlen\u001b[39;49m, buffer)\n\u001b[0;32m   1100\u001b[0m     \u001b[39melse\u001b[39;00m:\n\u001b[0;32m   1101\u001b[0m         \u001b[39mreturn\u001b[39;00m \u001b[39mself\u001b[39m\u001b[39m.\u001b[39m_sslobj\u001b[39m.\u001b[39mread(\u001b[39mlen\u001b[39m)\n",
      "\u001b[1;31mKeyboardInterrupt\u001b[0m: "
     ]
    }
   ],
   "source": [
    "result = {}\n",
    "from tqdm.notebook import tqdm\n",
    "for i,location in zip(tqdm(range(len(locations.json()[\"results\"]))),locations.json()[\"results\"]):\n",
    "    if location[\"name\"]:\n",
    "        print(\"Fetching data for location: \",location[\"name\"])\n",
    "    else: print(\"Fetching new unnamed location\")\n",
    "    measurements = requests.get(\"https://api.openaq.org/v2/measurements\",\n",
    "                           params={\"date_from\":start_date,\n",
    "                                   \"date_to\":end_date,\n",
    "                                   \"parameter\":\"pm25\",\n",
    "                                   \"limit\":100000,\n",
    "                                   \"location_id\":str(location[\"id\"])})\n",
    "    print(measurements)\n",
    "    result[location[\"id\"]] = measurements"
   ]
  }
 ],
 "metadata": {
  "kernelspec": {
   "display_name": "base",
   "language": "python",
   "name": "python3"
  },
  "language_info": {
   "codemirror_mode": {
    "name": "ipython",
    "version": 3
   },
   "file_extension": ".py",
   "mimetype": "text/x-python",
   "name": "python",
   "nbconvert_exporter": "python",
   "pygments_lexer": "ipython3",
   "version": "3.12.7"
  }
 },
 "nbformat": 4,
 "nbformat_minor": 4
}
