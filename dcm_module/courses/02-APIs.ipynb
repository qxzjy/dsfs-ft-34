{
 "cells": [
  {
   "cell_type": "markdown",
   "metadata": {},
   "source": [
    "# APIs (Application Programming Interface)\n",
    "\n",
    "## What you are going to learn in this course 🧐🧐\n",
    "\n",
    "APIs are a great way to exchange data! In this course, we will learn:\n",
    "\n",
    "* What is a REST API\n",
    "* How to request data from an API\n",
    "* How to send data to an API (and get the according response)"
   ]
  },
  {
   "cell_type": "markdown",
   "metadata": {},
   "source": [
    "## What is an API? ❓\n",
    "\n",
    "An API is simply a way to move data to, and from a web application.\n",
    "\n",
    "For example, you may have been to a website and registered via Facebook. In computer terms, the website you went to uses the Facebook API to get your information and ultimately lets you register.\n",
    "\n",
    "Another example, when you buy airline tickets, you rarely go to the airline's website. Instead, you go to a travel search engine (like <a href=\"https://www.kayak.fr/\" target=\"_blank\">Kayak</a>) and buy your tickets on it. Well, the search engine site most likely uses the airline API to get information about ticket prices, times and destinations."
   ]
  },
  {
   "cell_type": "markdown",
   "metadata": {},
   "source": [
    "## REST API 😴\n",
    "\n",
    "There are many possible ways to create APIs, simply because an API is just a piece of software hosted on a web server that waits for HTTP requests to send responses containing data. In order to help people create and use APIs more easily and create coherence, conventions were invented regarding APIs.\n",
    "\n",
    "You will often hear about the RESTful API or REST API. REST stands for _REpresentational State Transfer_. It is simply one of the coding conventions that a lot of developers follow to create APIs. There is no need in this course to see what the standards of a REST API are, but you can find out more about it at <a href=\"https://en.wikipedia.org/wiki/Representational_state_transfer\" target=\"_blank\">this link</a>.\n"
   ]
  },
  {
   "cell_type": "markdown",
   "metadata": {},
   "source": [
    "## Interact with APIs with `requests` \n",
    "\n",
    "There is a library in Python which you can use to get data from an API: `requests`.\n",
    "\n",
    "This library lets you set up and send HTTP requests over to any web server, whether they contain websites or APIs. This will be one of the main tools we will use to interact with APIs.\n",
    "\n",
    "Like all libraries, you will be able to use `requests` by doing:"
   ]
  },
  {
   "cell_type": "code",
   "execution_count": 1,
   "metadata": {},
   "outputs": [],
   "source": [
    "import requests"
   ]
  },
  {
   "cell_type": "markdown",
   "metadata": {},
   "source": [
    "### Create a request\n",
    "\n",
    "Now that the library has been imported, you can access web data by writing a request.\n",
    "\n",
    "#### `GET` request 👋\n",
    "\n",
    "As a reminder, a request using the GET method will attempt to retrieve data from the web server according to a certain instruction.\n",
    "\n",
    "Let's ask <a href=\"https://developer.github.com/v3/\" target=\"_blank\">Github's</a> API for information first. For this, you will need to use the _.get()_ method. \n",
    "\n",
    "We will request the following url: `https://api.github.com/zen`, as is recommended in the [getting started guide](https://docs.github.com/en/rest/guides/getting-started-with-the-rest-api)."
   ]
  },
  {
   "cell_type": "code",
   "execution_count": 4,
   "metadata": {},
   "outputs": [
    {
     "data": {
      "text/plain": [
       "<Response [200]>"
      ]
     },
     "execution_count": 4,
     "metadata": {},
     "output_type": "execute_result"
    }
   ],
   "source": [
    "r = requests.get(\"https://api.github.com/zen\")\n",
    "\n",
    "# now let's look at what's in this variable\n",
    "r"
   ]
  },
  {
   "cell_type": "markdown",
   "metadata": {},
   "source": [
    "##### Access response `content`\n",
    "\n",
    "Here we receive `<Response [200]>` which means that the request was successful. Now let's take a look at the data that was recieved along with this response."
   ]
  },
  {
   "cell_type": "code",
   "execution_count": 9,
   "metadata": {},
   "outputs": [
    {
     "data": {
      "text/plain": [
       "b'Responsive is better than fast.'"
      ]
     },
     "execution_count": 9,
     "metadata": {},
     "output_type": "execute_result"
    }
   ],
   "source": [
    "r.content"
   ]
  },
  {
   "cell_type": "markdown",
   "metadata": {},
   "source": [
    "As expected from reading the user guide, the data contained in the response is a quote from github's philosophy, the data is in _bytes_ format, a data format that can be used to represent any type of data (text, images, audio, etc...)"
   ]
  },
  {
   "cell_type": "markdown",
   "metadata": {},
   "source": [
    "##### Other attributes from responses\n",
    "\n",
    "The data content is not necessarily the only piece of data or information contained in the response. Let's take a look at a few other things."
   ]
  },
  {
   "cell_type": "code",
   "execution_count": 6,
   "metadata": {},
   "outputs": [
    {
     "data": {
      "text/plain": [
       "{'Server': 'GitHub.com', 'Date': 'Mon, 03 Jan 2022 14:45:59 GMT', 'Content-Type': 'text/plain;charset=utf-8', 'Access-Control-Expose-Headers': 'ETag, Link, Location, Retry-After, X-GitHub-OTP, X-RateLimit-Limit, X-RateLimit-Remaining, X-RateLimit-Used, X-RateLimit-Resource, X-RateLimit-Reset, X-OAuth-Scopes, X-Accepted-OAuth-Scopes, X-Poll-Interval, X-GitHub-Media-Type, X-GitHub-SSO, X-GitHub-Request-Id, Deprecation, Sunset', 'Access-Control-Allow-Origin': '*', 'Strict-Transport-Security': 'max-age=31536000; includeSubdomains; preload', 'X-Frame-Options': 'deny', 'X-Content-Type-Options': 'nosniff', 'X-XSS-Protection': '0', 'Referrer-Policy': 'origin-when-cross-origin, strict-origin-when-cross-origin', 'Content-Security-Policy': \"default-src 'none'\", 'Vary': 'Accept-Encoding, Accept, X-Requested-With', 'Content-Encoding': 'gzip', 'X-RateLimit-Limit': '60', 'X-RateLimit-Remaining': '58', 'X-RateLimit-Reset': '1641224547', 'X-RateLimit-Resource': 'core', 'X-RateLimit-Used': '2', 'Accept-Ranges': 'bytes', 'Content-Length': '51', 'X-GitHub-Request-Id': '8E6E:11914:339F30D:35BA1D7:61D30C27'}"
      ]
     },
     "execution_count": 6,
     "metadata": {},
     "output_type": "execute_result"
    }
   ],
   "source": [
    "r.headers # describes all the metadata associated with the request and the server response"
   ]
  },
  {
   "cell_type": "code",
   "execution_count": 8,
   "metadata": {},
   "outputs": [
    {
     "data": {
      "text/plain": [
       "'Responsive is better than fast.'"
      ]
     },
     "execution_count": 8,
     "metadata": {},
     "output_type": "execute_result"
    }
   ],
   "source": [
    "r.text # will output the data contained in the response and convert it to text format"
   ]
  },
  {
   "cell_type": "markdown",
   "metadata": {},
   "source": [
    "#### Add parameters in a request ⚖️\n",
    "\n",
    "Often you need to add parameters to your query. For example, you might be using an API that requires  an authentication token as parameter. It will suffice to deal with this the following way:"
   ]
  },
  {
   "cell_type": "code",
   "execution_count": 5,
   "metadata": {},
   "outputs": [
    {
     "data": {
      "text/plain": [
       "<Response [200]>"
      ]
     },
     "execution_count": 5,
     "metadata": {},
     "output_type": "execute_result"
    }
   ],
   "source": [
    "# Creating data that is usually called payload\n",
    "payload = {'key1': 'value1', 'key2': 'value2'}\n",
    "\n",
    "# Getting data that includes payload as parameters\n",
    "r = requests.get('https://httpbin.org/get', params=payload)\n",
    "r"
   ]
  },
  {
   "cell_type": "markdown",
   "metadata": {},
   "source": [
    "Here we added keys and values in a variable we called _payload_ and added in our `GET` request."
   ]
  },
  {
   "cell_type": "markdown",
   "metadata": {},
   "source": [
    "#### POST request 🙋‍♀️\n",
    "\n",
    "You can also post data using the `.post()` method. This works in the same way as `.get()` but you simply need to add a parameter that includes the data you want to send. For example let's access the API described [here](https://httpbin.org/):"
   ]
  },
  {
   "cell_type": "code",
   "execution_count": 10,
   "metadata": {},
   "outputs": [
    {
     "data": {
      "text/plain": [
       "<Response [200]>"
      ]
     },
     "execution_count": 10,
     "metadata": {},
     "output_type": "execute_result"
    }
   ],
   "source": [
    "# Here we send data using the data parameter that currently has a dictionary {\"hey\": \"value\"} \n",
    "r = requests.post('https://httpbin.org/post', data = {'key':'value'})\n",
    "r"
   ]
  },
  {
   "cell_type": "markdown",
   "metadata": {},
   "source": [
    "##### Response attributes\n",
    "\n",
    "We have got a successful request, let's access various elements contained in it."
   ]
  },
  {
   "cell_type": "code",
   "execution_count": 11,
   "metadata": {},
   "outputs": [
    {
     "data": {
      "text/plain": [
       "b'{\\n  \"args\": {}, \\n  \"data\": \"\", \\n  \"files\": {}, \\n  \"form\": {\\n    \"key\": \"value\"\\n  }, \\n  \"headers\": {\\n    \"Accept\": \"*/*\", \\n    \"Accept-Encoding\": \"gzip, deflate\", \\n    \"Content-Length\": \"9\", \\n    \"Content-Type\": \"application/x-www-form-urlencoded\", \\n    \"Host\": \"httpbin.org\", \\n    \"User-Agent\": \"python-requests/2.24.0\", \\n    \"X-Amzn-Trace-Id\": \"Root=1-61d30df7-500115a60832b5292a19257c\"\\n  }, \\n  \"json\": null, \\n  \"origin\": \"35.205.127.97\", \\n  \"url\": \"https://httpbin.org/post\"\\n}\\n'"
      ]
     },
     "execution_count": 11,
     "metadata": {},
     "output_type": "execute_result"
    }
   ],
   "source": [
    "r.content # looks like the data is organised in a strange way, it's not just text"
   ]
  },
  {
   "cell_type": "code",
   "execution_count": 12,
   "metadata": {},
   "outputs": [
    {
     "data": {
      "text/plain": [
       "{'Date': 'Mon, 03 Jan 2022 14:53:43 GMT', 'Content-Type': 'application/json', 'Content-Length': '479', 'Connection': 'keep-alive', 'Server': 'gunicorn/19.9.0', 'Access-Control-Allow-Origin': '*', 'Access-Control-Allow-Credentials': 'true'}"
      ]
     },
     "execution_count": 12,
     "metadata": {},
     "output_type": "execute_result"
    }
   ],
   "source": [
    "r.headers # In the header, the 'Content-Type' shows us that the data contained in the response is in JSON format"
   ]
  },
  {
   "cell_type": "code",
   "execution_count": 13,
   "metadata": {},
   "outputs": [
    {
     "data": {
      "text/plain": [
       "{'args': {},\n",
       " 'data': '',\n",
       " 'files': {},\n",
       " 'form': {'key': 'value'},\n",
       " 'headers': {'Accept': '*/*',\n",
       "  'Accept-Encoding': 'gzip, deflate',\n",
       "  'Content-Length': '9',\n",
       "  'Content-Type': 'application/x-www-form-urlencoded',\n",
       "  'Host': 'httpbin.org',\n",
       "  'User-Agent': 'python-requests/2.24.0',\n",
       "  'X-Amzn-Trace-Id': 'Root=1-61d30df7-500115a60832b5292a19257c'},\n",
       " 'json': None,\n",
       " 'origin': '35.205.127.97',\n",
       " 'url': 'https://httpbin.org/post'}"
      ]
     },
     "execution_count": 13,
     "metadata": {},
     "output_type": "execute_result"
    }
   ],
   "source": [
    "r.json() # in order to insterpret the data as a json file we can use this method"
   ]
  },
  {
   "cell_type": "markdown",
   "metadata": {},
   "source": [
    "The url we accessed from this API included json type data in its response contrary to the first request which gave us text data. In other words, different url from different API may include various data types in their server responses."
   ]
  },
  {
   "cell_type": "markdown",
   "metadata": {},
   "source": [
    "#### Send a file 📁\n",
    "\n",
    "If you want to send a complete file as a POST request, you just need to add the _files_ parameter."
   ]
  },
  {
   "cell_type": "code",
   "execution_count": 14,
   "metadata": {},
   "outputs": [
    {
     "data": {
      "text/plain": [
       "<Response [200]>"
      ]
     },
     "execution_count": 14,
     "metadata": {},
     "output_type": "execute_result"
    }
   ],
   "source": [
    "# Let's import pandas to create a dataframe and write it on a file\n",
    "import pandas as pd\n",
    "\n",
    "# Creating a dummy dataframe\n",
    "df = pd.DataFrame({\n",
    "    \"A\":[1,2,3,4]\n",
    "})\n",
    "\n",
    "# Writing a dummy file\n",
    "df.to_csv(\"file.csv\")\n",
    "\n",
    "# Opening the file\n",
    "f = {'file': open('file.csv', 'rb')}\n",
    "\n",
    "# Posting the content of this file to https://httpbin.org/post\n",
    "r = requests.post('https://httpbin.org/post', files=f)\n",
    "r"
   ]
  },
  {
   "cell_type": "markdown",
   "metadata": {},
   "source": [
    "#### Access the content of a request 📦\n",
    "\n",
    "Let's go through the different types of response contents one more time!\n",
    "\n",
    "- **Pure text content**\n",
    "\n",
    "You can easily access the content of our code via the _.text_ attribute. This is very useful because you will get a response as a string that you can use as you wish afterwards."
   ]
  },
  {
   "cell_type": "code",
   "execution_count": 15,
   "metadata": {},
   "outputs": [
    {
     "data": {
      "text/plain": [
       "\"It's not fully shipped until it's fast.\""
      ]
     },
     "execution_count": 15,
     "metadata": {},
     "output_type": "execute_result"
    }
   ],
   "source": [
    "r = requests.get('https://api.github.com/zen')\n",
    "r.text[:200]  # Display first 200 characters"
   ]
  },
  {
   "cell_type": "markdown",
   "metadata": {},
   "source": [
    "- **JSON content**\n",
    "\n",
    "Easier to handle, you can get the content of your query in JSON format."
   ]
  },
  {
   "cell_type": "code",
   "execution_count": 19,
   "metadata": {},
   "outputs": [
    {
     "data": {
      "text/plain": [
       "{'login': 'JedhaBootcamp',\n",
       " 'id': 39502362,\n",
       " 'node_id': 'MDEyOk9yZ2FuaXphdGlvbjM5NTAyMzYy',\n",
       " 'avatar_url': 'https://avatars.githubusercontent.com/u/39502362?v=4',\n",
       " 'gravatar_id': '',\n",
       " 'url': 'https://api.github.com/users/JedhaBootcamp',\n",
       " 'html_url': 'https://github.com/JedhaBootcamp',\n",
       " 'followers_url': 'https://api.github.com/users/JedhaBootcamp/followers',\n",
       " 'following_url': 'https://api.github.com/users/JedhaBootcamp/following{/other_user}',\n",
       " 'gists_url': 'https://api.github.com/users/JedhaBootcamp/gists{/gist_id}',\n",
       " 'starred_url': 'https://api.github.com/users/JedhaBootcamp/starred{/owner}{/repo}',\n",
       " 'subscriptions_url': 'https://api.github.com/users/JedhaBootcamp/subscriptions',\n",
       " 'organizations_url': 'https://api.github.com/users/JedhaBootcamp/orgs',\n",
       " 'repos_url': 'https://api.github.com/users/JedhaBootcamp/repos',\n",
       " 'events_url': 'https://api.github.com/users/JedhaBootcamp/events{/privacy}',\n",
       " 'received_events_url': 'https://api.github.com/users/JedhaBootcamp/received_events',\n",
       " 'type': 'Organization',\n",
       " 'site_admin': False,\n",
       " 'name': 'JedhaBootcamp',\n",
       " 'company': None,\n",
       " 'blog': 'https://jedha.co',\n",
       " 'location': 'Paris',\n",
       " 'email': 'admissions@jedha.co',\n",
       " 'hireable': None,\n",
       " 'bio': 'Data Science School ',\n",
       " 'twitter_username': None,\n",
       " 'public_repos': 24,\n",
       " 'public_gists': 0,\n",
       " 'followers': 0,\n",
       " 'following': 0,\n",
       " 'created_at': '2018-05-21T21:14:43Z',\n",
       " 'updated_at': '2019-05-20T14:09:15Z'}"
      ]
     },
     "execution_count": 19,
     "metadata": {},
     "output_type": "execute_result"
    }
   ],
   "source": [
    "r = requests.get('https://api.github.com/users/JedhaBootcamp')\n",
    "r.json()  # Display first JSON/dict"
   ]
  },
  {
   "cell_type": "markdown",
   "metadata": {},
   "source": [
    "Json formats are really common data formats for APIs, they work very much like dictionaries which makes them very flexible in terms of the amount and type of information that they can contain.\n",
    "\n",
    "- Binary Content\n",
    "\n",
    "In some cases, you will want your answer to be in binary format. This is indeed very useful when you have made a query to get an image rather than text content. The binary format may be adopted to store any type of file or data, it is the most flexible."
   ]
  },
  {
   "cell_type": "code",
   "execution_count": 20,
   "metadata": {},
   "outputs": [
    {
     "data": {
      "image/png": "[encoded data removed]",
      "text/plain": [
       "<PIL.PngImagePlugin.PngImageFile image mode=RGB size=460x460 at 0x7F15542DA520>"
      ]
     },
     "execution_count": 20,
     "metadata": {},
     "output_type": "execute_result"
    }
   ],
   "source": [
    "# Request avatar from Github\n",
    "r = requests.get(\"https://avatars0.githubusercontent.com/u/39502362?v=4\")\n",
    "\n",
    "# Import PIL and Io to read bytes and translate http file as an image\n",
    "from PIL import Image\n",
    "from io import BytesIO\n",
    "\n",
    "# Use .open() method to read bytes from content\n",
    "i = Image.open(BytesIO(r.content))\n",
    "i"
   ]
  },
  {
   "cell_type": "markdown",
   "metadata": {},
   "source": [
    "## Resources 📚📚\n",
    "\n",
    "- <a href=\"https://en.wikipedia.org/wiki/Representational_state_transfer\" target=\"_blank\">The wikipedia article for the REST API</a>\n",
    "- <a href=\"https://www.computersciencezone.org/50-most-useful-apis-for-developers/\" target=\"_blank\">50 useful APIs</a>\n",
    "- <a href=\"http://docs.python-requests.org/en/master/user/quickstart/\" target=\"_blank\">Requests library documentation</a>\n",
    "- [Public APIs classified by theme to get data](https://github.com/public-apis/public-apis)"
   ]
  }
 ],
 "metadata": {
  "kernelspec": {
   "display_name": "Python 3.9.12 ('tf': conda)",
   "language": "python",
   "name": "python3"
  },
  "language_info": {
   "codemirror_mode": {
    "name": "ipython",
    "version": 3
   },
   "file_extension": ".py",
   "mimetype": "text/x-python",
   "name": "python",
   "nbconvert_exporter": "python",
   "pygments_lexer": "ipython3",
   "version": "3.9.12"
  },
  "vscode": {
   "interpreter": {
    "hash": "fbc4d3870518eee81184ced0d2279c769a0eca59aab465c4e7ec13e5e6c47a3e"
   }
  }
 },
 "nbformat": 4,
 "nbformat_minor": 4
}
