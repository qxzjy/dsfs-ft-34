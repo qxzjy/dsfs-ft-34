{
  "cells": [
    {
      "cell_type": "markdown",
      "metadata": {
        "id": "IMIPtbzguqKN"
      },
      "source": [
        "# SQLAlchemy\n",
        "\n",
        "## What you will learn in this course 🧐🧐\n",
        "\n",
        "If you want to manipulate Databases, it is good for you to know the Python library: `sql-alchemy`.\n",
        "\n",
        "In this course, you'll learn:\n",
        "\n",
        "- Read & Write Data with SQL commands\n",
        "- Read data from your datalake and load it to a proper database\n",
        "- Read data from your database and load it to datalake\n",
        "- Use Pandas features to read & write sql database\n",
        "\n",
        "## Introduction to SQLAlchemy 🧙‍♂️🧙‍♂️\n",
        "\n",
        "SQLAlchemy is the best way to handle relational databases using Python code. As you grow in your data career, you should know the basic principles as you will be handling databases.\n",
        "\n",
        "### Structure of the API\n",
        "\n",
        "SQLAlchemy is organized in layers:\n",
        "\n",
        "![](https://docs.sqlalchemy.org/en/13/_images/sqla_arch_small.png)\n",
        "\n",
        "You have two ways of handling SQL databases with SQLAlchemy:\n",
        "\n",
        "- ORM: It stands for Object Relation Mapper where you'll be able to communicate with the database and create very flexible models.\n",
        "- SQLAlchemy Core: This layer is more schema-centric and will allow you to very simply access and query your tables.\n",
        "\n",
        "Let's check-out core functionnalities of both these layers.\n",
        "\n",
        "### Nota Bene ➤ SQLlite\n",
        "\n",
        "For the rest of this course, we'll be using SQLlite which is a very light version of a SQL database that is built-in. Therefore, we won't have to create any production database like PostgreSQL or MySQL. However, please note that SQLlite is NOT made for production and that you will be using other kind of DB (like PostgreSQL or MySQL) in a production environment.\n",
        "\n",
        "### ORM\n",
        "\n",
        "ORM uses python classes and instances to create and manipulate databases. Let's see how it works. Before diving into creating tables, let's create a db by connecting to it.\n",
        "\n",
        "#### Create a connection"
      ]
    },
    {
      "cell_type": "code",
      "execution_count": 2,
      "metadata": {
        "colab": {
          "base_uri": "https://localhost:8080/"
        },
        "id": "Pqq3huXKuqKb",
        "outputId": "f1f6ca0e-5d0a-4f24-bd9a-077bec417946"
      },
      "outputs": [
        {
          "name": "stdout",
          "output_type": "stream",
          "text": [
            "Requirement already satisfied: psycopg2-binary in /opt/anaconda3/lib/python3.12/site-packages (2.9.10)\n",
            "Requirement already satisfied: sqlalchemy==2.0.0 in /opt/anaconda3/lib/python3.12/site-packages (2.0.0)\n",
            "Requirement already satisfied: typing-extensions>=4.2.0 in /opt/anaconda3/lib/python3.12/site-packages (from sqlalchemy==2.0.0) (4.11.0)\n"
          ]
        }
      ],
      "source": [
        "## Libraries to install if other connections than sqlite\n",
        "# !pip install pymysql # For MySQL engines\n",
        "!pip install psycopg2-binary # For PostgreSQL engines\n",
        "!pip install sqlalchemy==2.0.0"
      ]
    },
    {
      "cell_type": "code",
      "execution_count": 1,
      "metadata": {
        "id": "emI46tYruqKl"
      },
      "outputs": [],
      "source": [
        "# Install the right version of sqlalchemy\n",
        "#!pip install sqlalchemy==2.0.0\n",
        "\n",
        "# Import sqlalchemy\n",
        "from sqlalchemy import create_engine, text\n",
        "\n",
        "DBHOST = \"dsft-ft-34-mre.cpkeig8scr3j.eu-west-3.rds.amazonaws.com\"\n",
        "DBUSER = \"postgres\"\n",
        "DBPASS = \"3mRptOIBKn4cBkO48SdV\"\n",
        "DBNAME = \"postgres\"\n",
        "PORT = \"5432\"\n",
        "\n",
        "# Create engine will create a connection between a SQLlite DB and python\n",
        "# engine = create_engine(\"sqlite:///:memory:\", echo=True)\n",
        "# engine = create_engine(f\"mysql+pymysql://{DBUSER}:{DBPASS}@{DBHOST}:{PORT}/{DBNAME}\", echo=True)\n",
        "engine = create_engine(f\"postgresql+psycopg2://{DBUSER}:{DBPASS}@{DBHOST}/{DBNAME}\", echo=True)"
      ]
    },
    {
      "cell_type": "markdown",
      "metadata": {
        "id": "9Pb51sj7uqKm"
      },
      "source": [
        "In the above code, we created a \"fake\" database where we'll be using our computer's memory to mimic what a real database would be.\n",
        "\n",
        "> NB: if you were to use a production database such as PostgreSQL, you would be using a connection just like this: `postgresql+psycopg2://{dbuser}:{dbpass}@{dbhost}/{dbname}`\n",
        ">\n",
        "> NB: if you were to use a MySQL production database, you would be using a connection just like this: `mysql+pymysql://{DBUSER}:{DBPASS}@{DBHOST}:{PORT}/{DBNAME}`\n",
        "\n",
        "where you would need to specify:\n",
        "\n",
        "```python\n",
        "DBHOST = \"HOST_FROM_AMAZON_RDS\"\n",
        "DBUSER = \"USERNAME\"\n",
        "DBPASS = \"PASSWORD\"\n",
        "DBNAME = \"DBNAME\"\n",
        "PORT = \"PORT\"\n",
        "# DBNAME = \"postgres\" --> If you are using PostgreSQL\n",
        "```\n",
        "\n",
        "#### Create a table\n",
        "\n",
        "Let's now create a table. To do so, we'll be using a python class and instanciate it."
      ]
    },
    {
      "cell_type": "code",
      "execution_count": 3,
      "metadata": {
        "colab": {
          "base_uri": "https://localhost:8080/"
        },
        "id": "jesyR2vSuqKn",
        "outputId": "e8cb83dd-2d46-4c19-a3e1-5c17bfdd7f27"
      },
      "outputs": [
        {
          "name": "stderr",
          "output_type": "stream",
          "text": [
            "/var/folders/yt/qrbwlc0x6fj2rs4chrxkrm_m0000gn/T/ipykernel_81808/3473783261.py:3: MovedIn20Warning: The ``declarative_base()`` function is now available as sqlalchemy.orm.declarative_base(). (deprecated since: 2.0) (Background on SQLAlchemy 2.0 at: https://sqlalche.me/e/b8d9)\n",
            "  Base = declarative_base()\n"
          ]
        }
      ],
      "source": [
        "# Let's instanciate a declarative base to be able to use our python class\n",
        "from sqlalchemy.ext.declarative import declarative_base\n",
        "Base = declarative_base()\n",
        "\n",
        "# Let's define our table using a class\n",
        "from sqlalchemy import Column, Integer, String\n",
        "\n",
        "class User(Base):\n",
        "    __tablename__ = \"users\"\n",
        "\n",
        "    # Each parameter corresponds to a column in our DB table\n",
        "    id = Column(Integer, primary_key=True)\n",
        "    name = Column(String)\n",
        "    fullname = Column(String)\n",
        "    nickname = Column(String)\n",
        "\n",
        "    def __repr__(self):\n",
        "        return \"<User(name='{}', fullname='{}', nickname='{}')>\".format(self.name, self.fullname, self.nickname)"
      ]
    },
    {
      "cell_type": "markdown",
      "metadata": {
        "id": "z_zVUF2AuqK0"
      },
      "source": [
        "Here we represented our table `users` by class. As you can see, it contains 4 columns:\n",
        "\n",
        "- `id` of type Integer\n",
        "- `name` of type String\n",
        "- `fullname` of type String\n",
        "- `nickname` of type String\n",
        "\n",
        "The `__repr__` method simply states how the output will be formated when we'll be calling our attributes.\n",
        "\n",
        "Now, we need to create our table within our database. We can do this by using the `create_all` method from `Base.metadata` module."
      ]
    },
    {
      "cell_type": "code",
      "execution_count": 8,
      "metadata": {
        "colab": {
          "base_uri": "https://localhost:8080/"
        },
        "id": "PGLakoqduqK3",
        "outputId": "9d1363ea-95c6-4c42-f842-4c61a19826c2",
        "tags": []
      },
      "outputs": [
        {
          "name": "stdout",
          "output_type": "stream",
          "text": [
            "2025-03-24 11:44:20,297 INFO sqlalchemy.engine.Engine select pg_catalog.version()\n",
            "2025-03-24 11:44:20,298 INFO sqlalchemy.engine.Engine [raw sql] {}\n",
            "2025-03-24 11:44:20,316 INFO sqlalchemy.engine.Engine select current_schema()\n",
            "2025-03-24 11:44:20,317 INFO sqlalchemy.engine.Engine [raw sql] {}\n",
            "2025-03-24 11:44:20,339 INFO sqlalchemy.engine.Engine show standard_conforming_strings\n",
            "2025-03-24 11:44:20,340 INFO sqlalchemy.engine.Engine [raw sql] {}\n",
            "2025-03-24 11:44:20,358 INFO sqlalchemy.engine.Engine BEGIN (implicit)\n",
            "2025-03-24 11:44:20,362 INFO sqlalchemy.engine.Engine SELECT pg_catalog.pg_class.relname \n",
            "FROM pg_catalog.pg_class JOIN pg_catalog.pg_namespace ON pg_catalog.pg_namespace.oid = pg_catalog.pg_class.relnamespace \n",
            "WHERE pg_catalog.pg_class.relname = %(table_name)s AND pg_catalog.pg_class.relkind = ANY (ARRAY[%(param_1)s, %(param_2)s, %(param_3)s, %(param_4)s, %(param_5)s]) AND pg_catalog.pg_table_is_visible(pg_catalog.pg_class.oid) AND pg_catalog.pg_namespace.nspname != %(nspname_1)s\n",
            "2025-03-24 11:44:20,362 INFO sqlalchemy.engine.Engine [generated in 0.00042s] {'table_name': 'users', 'param_1': 'r', 'param_2': 'p', 'param_3': 'f', 'param_4': 'v', 'param_5': 'm', 'nspname_1': 'pg_catalog'}\n",
            "2025-03-24 11:44:20,386 INFO sqlalchemy.engine.Engine \n",
            "CREATE TABLE users (\n",
            "\tid SERIAL NOT NULL, \n",
            "\tname VARCHAR, \n",
            "\tfullname VARCHAR, \n",
            "\tnickname VARCHAR, \n",
            "\tPRIMARY KEY (id)\n",
            ")\n",
            "\n",
            "\n",
            "2025-03-24 11:44:20,387 INFO sqlalchemy.engine.Engine [no key 0.00093s] {}\n",
            "2025-03-24 11:44:20,456 INFO sqlalchemy.engine.Engine COMMIT\n"
          ]
        }
      ],
      "source": [
        "Base.metadata.create_all(engine)"
      ]
    },
    {
      "cell_type": "markdown",
      "metadata": {
        "id": "KIfaEp1iuqK_"
      },
      "source": [
        "#### Insert values\n",
        "\n",
        "Let's insert values in our database:"
      ]
    },
    {
      "cell_type": "code",
      "execution_count": 4,
      "metadata": {
        "colab": {
          "base_uri": "https://localhost:8080/"
        },
        "id": "mkyazjrAuqLE",
        "outputId": "b28cdbcc-29a9-4511-a2eb-d2f0a8379612",
        "tags": []
      },
      "outputs": [
        {
          "name": "stdout",
          "output_type": "stream",
          "text": [
            "<User(name='ed', fullname='Ed Jones', nickname='edsnickname')>\n",
            "name: ed\n",
            "nickname: edsnickname\n"
          ]
        }
      ],
      "source": [
        "# Create a new instance of User will allow us to insert a new record later on\n",
        "ed_user = User(id=1, name='ed', fullname='Ed Jones', nickname='edsnickname')\n",
        "\n",
        "# Access Full row\n",
        "print(ed_user)\n",
        "\n",
        "# Access ed_user name\n",
        "name = ed_user.name\n",
        "print(\"name: {}\".format(name))\n",
        "\n",
        "# Access ed_user nickname\n",
        "nickname = ed_user.nickname\n",
        "print(\"nickname: {}\".format(nickname))"
      ]
    },
    {
      "cell_type": "markdown",
      "metadata": {
        "id": "FAM60SGDuqLG"
      },
      "source": [
        "We created data! As you can see we can access each column values simply by declaring a `.column_name`.\n",
        "\n",
        "#### Persist values in db\n",
        "\n",
        "Eventhough we created values, we haven't saved it in our database. We can do it by opening a `Session`:"
      ]
    },
    {
      "cell_type": "code",
      "execution_count": 5,
      "metadata": {
        "id": "hMNrF6HquqLH"
      },
      "outputs": [],
      "source": [
        "# Initialize a sessionmaker\n",
        "from sqlalchemy.orm import sessionmaker\n",
        "\n",
        "Session = sessionmaker(bind=engine)"
      ]
    },
    {
      "cell_type": "markdown",
      "metadata": {
        "id": "v3i4XtD9uqLH"
      },
      "source": [
        "Here we created a `sessionmaker` which will allow us to talk to our database. The `bind` argument takes an `engine` as parameter which corresponds to our database."
      ]
    },
    {
      "cell_type": "code",
      "execution_count": 6,
      "metadata": {
        "colab": {
          "base_uri": "https://localhost:8080/"
        },
        "id": "jpYpNqFxuqLI",
        "outputId": "57ff5366-88fa-47dc-eaa8-fef776b72290"
      },
      "outputs": [
        {
          "name": "stdout",
          "output_type": "stream",
          "text": [
            "<User(name='al', fullname='Al Jones', nickname='alsnickname')>\n"
          ]
        }
      ],
      "source": [
        "# Create a new instance of User will allow us to insert a new record later on\n",
        "al_user = User(id=2, name='al', fullname='Al Jones', nickname='alsnickname')\n",
        "\n",
        "# Access Full row\n",
        "print(al_user)"
      ]
    },
    {
      "cell_type": "code",
      "execution_count": 7,
      "metadata": {
        "colab": {
          "base_uri": "https://localhost:8080/"
        },
        "id": "qoUECGo5uqLK",
        "outputId": "3fdd1201-8087-457a-cbdd-bc2d018e5a62",
        "tags": []
      },
      "outputs": [
        {
          "name": "stdout",
          "output_type": "stream",
          "text": [
            "2025-03-24 12:01:20,702 INFO sqlalchemy.engine.Engine select pg_catalog.version()\n",
            "2025-03-24 12:01:20,703 INFO sqlalchemy.engine.Engine [raw sql] {}\n",
            "2025-03-24 12:01:20,724 INFO sqlalchemy.engine.Engine select current_schema()\n",
            "2025-03-24 12:01:20,724 INFO sqlalchemy.engine.Engine [raw sql] {}\n",
            "2025-03-24 12:01:20,746 INFO sqlalchemy.engine.Engine show standard_conforming_strings\n",
            "2025-03-24 12:01:20,747 INFO sqlalchemy.engine.Engine [raw sql] {}\n",
            "2025-03-24 12:01:20,768 INFO sqlalchemy.engine.Engine BEGIN (implicit)\n",
            "2025-03-24 12:01:20,771 INFO sqlalchemy.engine.Engine INSERT INTO users (id, name, fullname, nickname) VALUES (%(id__0)s, %(name__0)s, %(fullname__0)s, %(nickname__0)s), (%(id__1)s, %(name__1)s, %(fullname__1)s, %(nickname__1)s)\n",
            "2025-03-24 12:01:20,771 INFO sqlalchemy.engine.Engine [generated in 0.00008s (insertmanyvalues)] {'id__0': 1, 'fullname__0': 'Ed Jones', 'nickname__0': 'edsnickname', 'name__0': 'ed', 'id__1': 2, 'fullname__1': 'Al Jones', 'nickname__1': 'alsnickname', 'name__1': 'al'}\n",
            "2025-03-24 12:01:20,792 INFO sqlalchemy.engine.Engine COMMIT\n"
          ]
        }
      ],
      "source": [
        "# Instanciate Session\n",
        "session = Session()\n",
        "\n",
        "# Add values to db\n",
        "session.add(ed_user)\n",
        "session.add(al_user)\n",
        "\n",
        "# Commit the results\n",
        "session.commit()"
      ]
    },
    {
      "cell_type": "markdown",
      "metadata": {
        "id": "ArywMGGEuqLL"
      },
      "source": [
        "Good job! We added our first value inside our db 👏 Note that it is very important to use the `.commit()` method to actually persist the values you inserted when you called the `.add()` method.\n",
        "\n",
        "#### Query values from a database\n",
        "\n",
        "Now that we have some data inside our database, we can query it simply by using the `session` instance."
      ]
    },
    {
      "cell_type": "code",
      "execution_count": 9,
      "metadata": {
        "colab": {
          "base_uri": "https://localhost:8080/"
        },
        "id": "O3x-ys4tuqLL",
        "outputId": "5ee5be2b-ca1e-4694-fea9-d0bf6829432a",
        "tags": []
      },
      "outputs": [
        {
          "name": "stdout",
          "output_type": "stream",
          "text": [
            "2023-10-03 08:47:08,197 INFO sqlalchemy.engine.Engine BEGIN (implicit)\n"
          ]
        },
        {
          "name": "stderr",
          "output_type": "stream",
          "text": [
            "INFO:sqlalchemy.engine.Engine:BEGIN (implicit)\n"
          ]
        },
        {
          "name": "stdout",
          "output_type": "stream",
          "text": [
            "2023-10-03 08:47:08,201 INFO sqlalchemy.engine.Engine SELECT users.id AS users_id, users.name AS users_name, users.fullname AS users_fullname, users.nickname AS users_nickname \n",
            "FROM users\n"
          ]
        },
        {
          "name": "stderr",
          "output_type": "stream",
          "text": [
            "INFO:sqlalchemy.engine.Engine:SELECT users.id AS users_id, users.name AS users_name, users.fullname AS users_fullname, users.nickname AS users_nickname \n",
            "FROM users\n"
          ]
        },
        {
          "name": "stdout",
          "output_type": "stream",
          "text": [
            "2023-10-03 08:47:08,209 INFO sqlalchemy.engine.Engine [generated in 0.00758s] ()\n"
          ]
        },
        {
          "name": "stderr",
          "output_type": "stream",
          "text": [
            "INFO:sqlalchemy.engine.Engine:[generated in 0.00758s] ()\n"
          ]
        },
        {
          "data": {
            "text/plain": [
              "[<User(name='ed', fullname='Ed Jones', nickname='edsnickname')>,\n",
              " <User(name='al', fullname='Al Jones', nickname='alsnickname')>]"
            ]
          },
          "execution_count": 9,
          "metadata": {},
          "output_type": "execute_result"
        }
      ],
      "source": [
        "# Query our table users\n",
        "user = session.query(User)\n",
        "\n",
        "# Output all the results\n",
        "user.all()"
      ]
    },
    {
      "cell_type": "markdown",
      "metadata": {
        "id": "-R3jKUxhuqLL"
      },
      "source": [
        "You can now also use any SQL statement if you want to run more complex queries:"
      ]
    },
    {
      "cell_type": "code",
      "execution_count": 10,
      "metadata": {
        "colab": {
          "base_uri": "https://localhost:8080/"
        },
        "id": "Up4MeY3RuqLM",
        "outputId": "e97b9f8b-619a-4cfc-b004-afe33108c3c4"
      },
      "outputs": [
        {
          "data": {
            "text/plain": [
              "<sqlalchemy.sql.elements.TextClause object at 0x7df7aebc74f0>"
            ]
          },
          "execution_count": 10,
          "metadata": {},
          "output_type": "execute_result"
        }
      ],
      "source": [
        "from sqlalchemy import text\n",
        "\n",
        "# Create a statement\n",
        "statement = text(\"SELECT * FROM users where name=:name\")\n",
        "statement"
      ]
    },
    {
      "cell_type": "markdown",
      "metadata": {
        "id": "ImBuSwMKuqLP"
      },
      "source": [
        "As you can see, the query looks almost as a real SQL query. The only thing is the `:name` parameter in `where name=:name`.\n",
        "\n",
        "This will allow us to insert values afterwards the following way:"
      ]
    },
    {
      "cell_type": "code",
      "execution_count": 11,
      "metadata": {
        "colab": {
          "base_uri": "https://localhost:8080/"
        },
        "id": "xlYg_CAzuqLY",
        "outputId": "b6ba036f-3c6f-42ac-f0ae-395aeb0f5552",
        "tags": []
      },
      "outputs": [
        {
          "name": "stdout",
          "output_type": "stream",
          "text": [
            "2023-10-03 08:47:08,230 INFO sqlalchemy.engine.Engine SELECT * FROM users where name=?\n"
          ]
        },
        {
          "name": "stderr",
          "output_type": "stream",
          "text": [
            "INFO:sqlalchemy.engine.Engine:SELECT * FROM users where name=?\n"
          ]
        },
        {
          "name": "stdout",
          "output_type": "stream",
          "text": [
            "2023-10-03 08:47:08,237 INFO sqlalchemy.engine.Engine [generated in 0.00633s] ('ed',)\n"
          ]
        },
        {
          "name": "stderr",
          "output_type": "stream",
          "text": [
            "INFO:sqlalchemy.engine.Engine:[generated in 0.00633s] ('ed',)\n"
          ]
        },
        {
          "data": {
            "text/plain": [
              "[<User(name='ed', fullname='Ed Jones', nickname='edsnickname')>]"
            ]
          },
          "execution_count": 11,
          "metadata": {},
          "output_type": "execute_result"
        }
      ],
      "source": [
        "session.query(User).from_statement(statement).params(name=\"ed\").all()"
      ]
    },
    {
      "cell_type": "markdown",
      "metadata": {
        "id": "5h145gwGuqLZ"
      },
      "source": [
        "As you can see, we used this `params` method that allows you to specify an operator from which you could apply your filter.\n",
        "\n",
        "### SQLAlchemy Core\n",
        "\n",
        "If you don't like classes and the declarative approach. You can use the SQLAlchemy Core layer of the library. Let's start by creating a new database."
      ]
    },
    {
      "cell_type": "code",
      "execution_count": 12,
      "metadata": {
        "id": "zWlpuy6xuqLZ"
      },
      "outputs": [],
      "source": [
        "#from sqlalchemy import create_engine\n",
        "# engine = create_engine('sqlite:///:memory:', echo=True)"
      ]
    },
    {
      "cell_type": "markdown",
      "metadata": {
        "id": "qXAij2kXuqLZ"
      },
      "source": [
        "#### Create Tables\n",
        "\n",
        "You can simply create tables the following way."
      ]
    },
    {
      "cell_type": "code",
      "execution_count": 13,
      "metadata": {
        "id": "sX-UeztYuqLa"
      },
      "outputs": [],
      "source": [
        "from sqlalchemy import Table, Column, Integer, String, MetaData, ForeignKey\n",
        "\n",
        "meta = MetaData()\n",
        "\n",
        "# Define table \"students\"\n",
        "students = Table(\n",
        "    'students', meta,\n",
        "    Column('id', Integer, primary_key = True),\n",
        "    Column('name', String),\n",
        "    Column('lastname', String),\n",
        ")\n",
        "\n",
        "# Define table \"adresses\"\n",
        "addresses = Table(\n",
        "    'addresses', meta,\n",
        "    Column('id', Integer, primary_key = True),\n",
        "    Column('email_address', String),\n",
        "    Column(\"student_id\", None, ForeignKey(\"students.id\"))\n",
        ")"
      ]
    },
    {
      "cell_type": "markdown",
      "metadata": {
        "id": "7TOV4xHruqLa"
      },
      "source": [
        "As you can see, I simply declared two tables with the `Table` class. Pay attention to `meta` as well which basically contain all the metadata (additional information) necessary to create an actual table.\n",
        "\n",
        "Let's now `create_all` tables to actually create them within our database."
      ]
    },
    {
      "cell_type": "code",
      "execution_count": 14,
      "metadata": {
        "colab": {
          "base_uri": "https://localhost:8080/"
        },
        "id": "RMYAz5SruqLb",
        "outputId": "3d5e60b9-d8d1-4f4b-f657-992576e55576",
        "tags": []
      },
      "outputs": [
        {
          "name": "stdout",
          "output_type": "stream",
          "text": [
            "2023-10-03 08:47:08,267 INFO sqlalchemy.engine.Engine BEGIN (implicit)\n"
          ]
        },
        {
          "name": "stderr",
          "output_type": "stream",
          "text": [
            "INFO:sqlalchemy.engine.Engine:BEGIN (implicit)\n"
          ]
        },
        {
          "name": "stdout",
          "output_type": "stream",
          "text": [
            "2023-10-03 08:47:08,270 INFO sqlalchemy.engine.Engine PRAGMA main.table_info(\"students\")\n"
          ]
        },
        {
          "name": "stderr",
          "output_type": "stream",
          "text": [
            "INFO:sqlalchemy.engine.Engine:PRAGMA main.table_info(\"students\")\n"
          ]
        },
        {
          "name": "stdout",
          "output_type": "stream",
          "text": [
            "2023-10-03 08:47:08,272 INFO sqlalchemy.engine.Engine [raw sql] ()\n"
          ]
        },
        {
          "name": "stderr",
          "output_type": "stream",
          "text": [
            "INFO:sqlalchemy.engine.Engine:[raw sql] ()\n"
          ]
        },
        {
          "name": "stdout",
          "output_type": "stream",
          "text": [
            "2023-10-03 08:47:08,275 INFO sqlalchemy.engine.Engine PRAGMA temp.table_info(\"students\")\n"
          ]
        },
        {
          "name": "stderr",
          "output_type": "stream",
          "text": [
            "INFO:sqlalchemy.engine.Engine:PRAGMA temp.table_info(\"students\")\n"
          ]
        },
        {
          "name": "stdout",
          "output_type": "stream",
          "text": [
            "2023-10-03 08:47:08,277 INFO sqlalchemy.engine.Engine [raw sql] ()\n"
          ]
        },
        {
          "name": "stderr",
          "output_type": "stream",
          "text": [
            "INFO:sqlalchemy.engine.Engine:[raw sql] ()\n"
          ]
        },
        {
          "name": "stdout",
          "output_type": "stream",
          "text": [
            "2023-10-03 08:47:08,279 INFO sqlalchemy.engine.Engine PRAGMA main.table_info(\"addresses\")\n"
          ]
        },
        {
          "name": "stderr",
          "output_type": "stream",
          "text": [
            "INFO:sqlalchemy.engine.Engine:PRAGMA main.table_info(\"addresses\")\n"
          ]
        },
        {
          "name": "stdout",
          "output_type": "stream",
          "text": [
            "2023-10-03 08:47:08,281 INFO sqlalchemy.engine.Engine [raw sql] ()\n"
          ]
        },
        {
          "name": "stderr",
          "output_type": "stream",
          "text": [
            "INFO:sqlalchemy.engine.Engine:[raw sql] ()\n"
          ]
        },
        {
          "name": "stdout",
          "output_type": "stream",
          "text": [
            "2023-10-03 08:47:08,284 INFO sqlalchemy.engine.Engine PRAGMA temp.table_info(\"addresses\")\n"
          ]
        },
        {
          "name": "stderr",
          "output_type": "stream",
          "text": [
            "INFO:sqlalchemy.engine.Engine:PRAGMA temp.table_info(\"addresses\")\n"
          ]
        },
        {
          "name": "stdout",
          "output_type": "stream",
          "text": [
            "2023-10-03 08:47:08,286 INFO sqlalchemy.engine.Engine [raw sql] ()\n"
          ]
        },
        {
          "name": "stderr",
          "output_type": "stream",
          "text": [
            "INFO:sqlalchemy.engine.Engine:[raw sql] ()\n"
          ]
        },
        {
          "name": "stdout",
          "output_type": "stream",
          "text": [
            "2023-10-03 08:47:08,288 INFO sqlalchemy.engine.Engine \n",
            "CREATE TABLE students (\n",
            "\tid INTEGER NOT NULL, \n",
            "\tname VARCHAR, \n",
            "\tlastname VARCHAR, \n",
            "\tPRIMARY KEY (id)\n",
            ")\n",
            "\n",
            "\n"
          ]
        },
        {
          "name": "stderr",
          "output_type": "stream",
          "text": [
            "INFO:sqlalchemy.engine.Engine:\n",
            "CREATE TABLE students (\n",
            "\tid INTEGER NOT NULL, \n",
            "\tname VARCHAR, \n",
            "\tlastname VARCHAR, \n",
            "\tPRIMARY KEY (id)\n",
            ")\n",
            "\n",
            "\n"
          ]
        },
        {
          "name": "stdout",
          "output_type": "stream",
          "text": [
            "2023-10-03 08:47:08,291 INFO sqlalchemy.engine.Engine [no key 0.00219s] ()\n"
          ]
        },
        {
          "name": "stderr",
          "output_type": "stream",
          "text": [
            "INFO:sqlalchemy.engine.Engine:[no key 0.00219s] ()\n"
          ]
        },
        {
          "name": "stdout",
          "output_type": "stream",
          "text": [
            "2023-10-03 08:47:08,293 INFO sqlalchemy.engine.Engine \n",
            "CREATE TABLE addresses (\n",
            "\tid INTEGER NOT NULL, \n",
            "\temail_address VARCHAR, \n",
            "\tstudent_id INTEGER, \n",
            "\tPRIMARY KEY (id), \n",
            "\tFOREIGN KEY(student_id) REFERENCES students (id)\n",
            ")\n",
            "\n",
            "\n"
          ]
        },
        {
          "name": "stderr",
          "output_type": "stream",
          "text": [
            "INFO:sqlalchemy.engine.Engine:\n",
            "CREATE TABLE addresses (\n",
            "\tid INTEGER NOT NULL, \n",
            "\temail_address VARCHAR, \n",
            "\tstudent_id INTEGER, \n",
            "\tPRIMARY KEY (id), \n",
            "\tFOREIGN KEY(student_id) REFERENCES students (id)\n",
            ")\n",
            "\n",
            "\n"
          ]
        },
        {
          "name": "stdout",
          "output_type": "stream",
          "text": [
            "2023-10-03 08:47:08,295 INFO sqlalchemy.engine.Engine [no key 0.00211s] ()\n"
          ]
        },
        {
          "name": "stderr",
          "output_type": "stream",
          "text": [
            "INFO:sqlalchemy.engine.Engine:[no key 0.00211s] ()\n"
          ]
        },
        {
          "name": "stdout",
          "output_type": "stream",
          "text": [
            "2023-10-03 08:47:08,298 INFO sqlalchemy.engine.Engine COMMIT\n"
          ]
        },
        {
          "name": "stderr",
          "output_type": "stream",
          "text": [
            "INFO:sqlalchemy.engine.Engine:COMMIT\n"
          ]
        }
      ],
      "source": [
        "meta.create_all(engine)"
      ]
    },
    {
      "cell_type": "markdown",
      "metadata": {
        "id": "ymYOMpgZuqLb"
      },
      "source": [
        "#### Insert values\n",
        "\n",
        "If you need to insert values, you can do it the following way:"
      ]
    },
    {
      "cell_type": "code",
      "execution_count": 15,
      "metadata": {
        "colab": {
          "base_uri": "https://localhost:8080/"
        },
        "id": "LnXsUnnHuqLb",
        "outputId": "ccf2f543-5791-46d4-a2b5-087416402382"
      },
      "outputs": [
        {
          "data": {
            "text/plain": [
              "<sqlalchemy.sql.dml.Insert object at 0x7df7aea98730>"
            ]
          },
          "execution_count": 15,
          "metadata": {},
          "output_type": "execute_result"
        }
      ],
      "source": [
        "ins = students.insert().values(id=\"1\", name=\"Jack\", lastname=\"Johnson\")\n",
        "ins"
      ]
    },
    {
      "cell_type": "markdown",
      "metadata": {
        "id": "jNdxRWGauqLf"
      },
      "source": [
        "This hasn't really inserted values just yet. You will need to first:\n",
        "\n",
        "1. Create a connecion to your db\n",
        "2. Execute the query"
      ]
    },
    {
      "cell_type": "code",
      "execution_count": 16,
      "metadata": {
        "colab": {
          "base_uri": "https://localhost:8080/"
        },
        "id": "mz3yXbV2uqLf",
        "outputId": "b7b0b540-5adf-4d5e-9526-1f8d11bc4e94",
        "tags": []
      },
      "outputs": [
        {
          "name": "stdout",
          "output_type": "stream",
          "text": [
            "2023-10-03 08:47:08,316 INFO sqlalchemy.engine.Engine BEGIN (implicit)\n"
          ]
        },
        {
          "name": "stderr",
          "output_type": "stream",
          "text": [
            "INFO:sqlalchemy.engine.Engine:BEGIN (implicit)\n"
          ]
        },
        {
          "name": "stdout",
          "output_type": "stream",
          "text": [
            "2023-10-03 08:47:08,322 INFO sqlalchemy.engine.Engine INSERT INTO students (id, name, lastname) VALUES (?, ?, ?)\n"
          ]
        },
        {
          "name": "stderr",
          "output_type": "stream",
          "text": [
            "INFO:sqlalchemy.engine.Engine:INSERT INTO students (id, name, lastname) VALUES (?, ?, ?)\n"
          ]
        },
        {
          "name": "stdout",
          "output_type": "stream",
          "text": [
            "2023-10-03 08:47:08,324 INFO sqlalchemy.engine.Engine [generated in 0.00761s] ('1', 'Jack', 'Johnson')\n"
          ]
        },
        {
          "name": "stderr",
          "output_type": "stream",
          "text": [
            "INFO:sqlalchemy.engine.Engine:[generated in 0.00761s] ('1', 'Jack', 'Johnson')\n"
          ]
        },
        {
          "name": "stdout",
          "output_type": "stream",
          "text": [
            "2023-10-03 08:47:08,326 INFO sqlalchemy.engine.Engine COMMIT\n"
          ]
        },
        {
          "name": "stderr",
          "output_type": "stream",
          "text": [
            "INFO:sqlalchemy.engine.Engine:COMMIT\n"
          ]
        }
      ],
      "source": [
        "# Connect to the db\n",
        "conn = engine.connect()\n",
        "\n",
        "# Execute the query\n",
        "result = conn.execute(ins)\n",
        "conn.commit()"
      ]
    },
    {
      "cell_type": "markdown",
      "metadata": {
        "id": "7ylVYC5iuqLf"
      },
      "source": [
        "If you need to insert multiple values, you can do it simply by specifying a list of dictionnaries:"
      ]
    },
    {
      "cell_type": "code",
      "execution_count": 17,
      "metadata": {
        "colab": {
          "base_uri": "https://localhost:8080/"
        },
        "id": "kcrXTtF2uqLg",
        "outputId": "3ed3bb88-d8d5-47d7-a5b2-fdf60933b1ad",
        "tags": []
      },
      "outputs": [
        {
          "name": "stdout",
          "output_type": "stream",
          "text": [
            "2023-10-03 08:47:08,336 INFO sqlalchemy.engine.Engine BEGIN (implicit)\n"
          ]
        },
        {
          "name": "stderr",
          "output_type": "stream",
          "text": [
            "INFO:sqlalchemy.engine.Engine:BEGIN (implicit)\n"
          ]
        },
        {
          "name": "stdout",
          "output_type": "stream",
          "text": [
            "2023-10-03 08:47:08,338 INFO sqlalchemy.engine.Engine INSERT INTO addresses (email_address, student_id) VALUES (?, ?)\n"
          ]
        },
        {
          "name": "stderr",
          "output_type": "stream",
          "text": [
            "INFO:sqlalchemy.engine.Engine:INSERT INTO addresses (email_address, student_id) VALUES (?, ?)\n"
          ]
        },
        {
          "name": "stdout",
          "output_type": "stream",
          "text": [
            "2023-10-03 08:47:08,340 INFO sqlalchemy.engine.Engine [generated in 0.00469s] [('jack@yahoo.com', 1), ('jack@msn.com', 1)]\n"
          ]
        },
        {
          "name": "stderr",
          "output_type": "stream",
          "text": [
            "INFO:sqlalchemy.engine.Engine:[generated in 0.00469s] [('jack@yahoo.com', 1), ('jack@msn.com', 1)]\n"
          ]
        },
        {
          "name": "stdout",
          "output_type": "stream",
          "text": [
            "2023-10-03 08:47:08,343 INFO sqlalchemy.engine.Engine COMMIT\n"
          ]
        },
        {
          "name": "stderr",
          "output_type": "stream",
          "text": [
            "INFO:sqlalchemy.engine.Engine:COMMIT\n"
          ]
        }
      ],
      "source": [
        "values = [\n",
        "    {'student_id': 1, 'email_address' : 'jack@yahoo.com'},\n",
        "    {'student_id': 1, 'email_address' : 'jack@msn.com'}\n",
        "]\n",
        "\n",
        "conn.execute(addresses.insert(), values)\n",
        "conn.commit()"
      ]
    },
    {
      "cell_type": "markdown",
      "metadata": {
        "id": "Gr_eiaIeuqLg"
      },
      "source": [
        "#### Query values\n",
        "\n",
        "If you need to query your database, you can do it via `text` method and use actual sql queries."
      ]
    },
    {
      "cell_type": "code",
      "execution_count": 18,
      "metadata": {
        "colab": {
          "base_uri": "https://localhost:8080/"
        },
        "id": "I7VhSnZ5uqLh",
        "outputId": "801a1efb-371c-45ce-8e60-fe011a62adea",
        "tags": []
      },
      "outputs": [
        {
          "name": "stdout",
          "output_type": "stream",
          "text": [
            "2023-10-03 08:47:08,351 INFO sqlalchemy.engine.Engine BEGIN (implicit)\n"
          ]
        },
        {
          "name": "stderr",
          "output_type": "stream",
          "text": [
            "INFO:sqlalchemy.engine.Engine:BEGIN (implicit)\n"
          ]
        },
        {
          "name": "stdout",
          "output_type": "stream",
          "text": [
            "2023-10-03 08:47:08,354 INFO sqlalchemy.engine.Engine SELECT students.id, addresses.id, students.name, addresses.email_address FROM students JOIN addresses ON students.id=addresses.student_id WHERE students.id = 1\n"
          ]
        },
        {
          "name": "stderr",
          "output_type": "stream",
          "text": [
            "INFO:sqlalchemy.engine.Engine:SELECT students.id, addresses.id, students.name, addresses.email_address FROM students JOIN addresses ON students.id=addresses.student_id WHERE students.id = 1\n"
          ]
        },
        {
          "name": "stdout",
          "output_type": "stream",
          "text": [
            "2023-10-03 08:47:08,356 INFO sqlalchemy.engine.Engine [generated in 0.00452s] ()\n"
          ]
        },
        {
          "name": "stderr",
          "output_type": "stream",
          "text": [
            "INFO:sqlalchemy.engine.Engine:[generated in 0.00452s] ()\n"
          ]
        }
      ],
      "source": [
        "from sqlalchemy.sql import text\n",
        "\n",
        "# Create a statement\n",
        "stmt = text(\"SELECT students.id, addresses.id, students.name, addresses.email_address FROM students \"\n",
        "            \"JOIN addresses ON students.id=addresses.student_id \"\n",
        "            \"WHERE students.id = 1\")\n",
        "\n",
        "result = conn.execute(stmt)"
      ]
    },
    {
      "cell_type": "markdown",
      "metadata": {
        "id": "iLaatrYYuqLh"
      },
      "source": [
        "What is important to notice is:\n",
        "\n",
        "- Each line of the query is represented by a string. If you query needs to be on several lines, you need to add a space (\" \") before going to the next line.\n",
        "- The `.columns()` works like a `.format()` method. This is where you will be specifying the names of the columns, you want to insert.\n",
        "- Finally, for each columns we specified `table_name.c.column_name`. This is how would select a column from a given table.\n",
        "\n",
        "Now if you want to check the actual results. You can use the `.fetchall` method that will output the results as a list."
      ]
    },
    {
      "cell_type": "code",
      "execution_count": 19,
      "metadata": {
        "colab": {
          "base_uri": "https://localhost:8080/"
        },
        "id": "ihJIq7UxuqLh",
        "outputId": "f4d6184b-2e88-47d7-e252-c704d09aaed9"
      },
      "outputs": [
        {
          "data": {
            "text/plain": [
              "[(1, 1, 'Jack', 'jack@yahoo.com'), (1, 2, 'Jack', 'jack@msn.com')]"
            ]
          },
          "execution_count": 19,
          "metadata": {},
          "output_type": "execute_result"
        }
      ],
      "source": [
        "result.fetchall()"
      ]
    },
    {
      "cell_type": "markdown",
      "metadata": {
        "id": "gUe3438euqLi"
      },
      "source": [
        "## Simple things out with Pandas 😌\n",
        "\n",
        "SQLAlchemy is the fundamental knowledge when dealing with SQL databases with Python as it's broadly used by web-development libraries and others. However, there are simpler way to insert and query databases that would work most of the time: Pandas.\n",
        "\n",
        "### Read SQL Databases with Pandas\n",
        "\n",
        "Most of the time, you were using pandas with CSV files or Excel spreadsheets but you can also use this library with SQL databases. You would use the `read_sql` method."
      ]
    },
    {
      "cell_type": "code",
      "execution_count": 20,
      "metadata": {
        "colab": {
          "base_uri": "https://localhost:8080/",
          "height": 236
        },
        "id": "nExj5AOPuqLi",
        "outputId": "5952a4e8-fd66-4d1a-a350-092cf634c65c",
        "tags": []
      },
      "outputs": [
        {
          "name": "stdout",
          "output_type": "stream",
          "text": [
            "2023-10-03 08:47:08,945 INFO sqlalchemy.engine.Engine BEGIN (implicit)\n"
          ]
        },
        {
          "name": "stderr",
          "output_type": "stream",
          "text": [
            "INFO:sqlalchemy.engine.Engine:BEGIN (implicit)\n"
          ]
        },
        {
          "name": "stdout",
          "output_type": "stream",
          "text": [
            "2023-10-03 08:47:08,950 INFO sqlalchemy.engine.Engine SELECT students.id, students.name, addresses.email_address FROM students JOIN addresses ON students.id=addresses.student_id WHERE students.id = 1\n"
          ]
        },
        {
          "name": "stderr",
          "output_type": "stream",
          "text": [
            "INFO:sqlalchemy.engine.Engine:SELECT students.id, students.name, addresses.email_address FROM students JOIN addresses ON students.id=addresses.student_id WHERE students.id = 1\n"
          ]
        },
        {
          "name": "stdout",
          "output_type": "stream",
          "text": [
            "2023-10-03 08:47:08,958 INFO sqlalchemy.engine.Engine [generated in 0.01315s] ()\n"
          ]
        },
        {
          "name": "stderr",
          "output_type": "stream",
          "text": [
            "INFO:sqlalchemy.engine.Engine:[generated in 0.01315s] ()\n"
          ]
        },
        {
          "data": {
            "text/html": [
              "\n",
              "  <div id=\"df-126aebaa-8d2f-45c5-8b22-db1cdae5f984\" class=\"colab-df-container\">\n",
              "    <div>\n",
              "<style scoped>\n",
              "    .dataframe tbody tr th:only-of-type {\n",
              "        vertical-align: middle;\n",
              "    }\n",
              "\n",
              "    .dataframe tbody tr th {\n",
              "        vertical-align: top;\n",
              "    }\n",
              "\n",
              "    .dataframe thead th {\n",
              "        text-align: right;\n",
              "    }\n",
              "</style>\n",
              "<table border=\"1\" class=\"dataframe\">\n",
              "  <thead>\n",
              "    <tr style=\"text-align: right;\">\n",
              "      <th></th>\n",
              "      <th>id</th>\n",
              "      <th>name</th>\n",
              "      <th>email_address</th>\n",
              "    </tr>\n",
              "  </thead>\n",
              "  <tbody>\n",
              "    <tr>\n",
              "      <th>0</th>\n",
              "      <td>1</td>\n",
              "      <td>Jack</td>\n",
              "      <td>jack@yahoo.com</td>\n",
              "    </tr>\n",
              "    <tr>\n",
              "      <th>1</th>\n",
              "      <td>1</td>\n",
              "      <td>Jack</td>\n",
              "      <td>jack@msn.com</td>\n",
              "    </tr>\n",
              "  </tbody>\n",
              "</table>\n",
              "</div>\n",
              "    <div class=\"colab-df-buttons\">\n",
              "\n",
              "  <div class=\"colab-df-container\">\n",
              "    <button class=\"colab-df-convert\" onclick=\"convertToInteractive('df-126aebaa-8d2f-45c5-8b22-db1cdae5f984')\"\n",
              "            title=\"Convert this dataframe to an interactive table.\"\n",
              "            style=\"display:none;\">\n",
              "\n",
              "  <svg xmlns=\"http://www.w3.org/2000/svg\" height=\"24px\" viewBox=\"0 -960 960 960\">\n",
              "    <path d=\"M120-120v-720h720v720H120Zm60-500h600v-160H180v160Zm220 220h160v-160H400v160Zm0 220h160v-160H400v160ZM180-400h160v-160H180v160Zm440 0h160v-160H620v160ZM180-180h160v-160H180v160Zm440 0h160v-160H620v160Z\"/>\n",
              "  </svg>\n",
              "    </button>\n",
              "\n",
              "  <style>\n",
              "    .colab-df-container {\n",
              "      display:flex;\n",
              "      gap: 12px;\n",
              "    }\n",
              "\n",
              "    .colab-df-convert {\n",
              "      background-color: #E8F0FE;\n",
              "      border: none;\n",
              "      border-radius: 50%;\n",
              "      cursor: pointer;\n",
              "      display: none;\n",
              "      fill: #1967D2;\n",
              "      height: 32px;\n",
              "      padding: 0 0 0 0;\n",
              "      width: 32px;\n",
              "    }\n",
              "\n",
              "    .colab-df-convert:hover {\n",
              "      background-color: #E2EBFA;\n",
              "      box-shadow: 0px 1px 2px rgba(60, 64, 67, 0.3), 0px 1px 3px 1px rgba(60, 64, 67, 0.15);\n",
              "      fill: #174EA6;\n",
              "    }\n",
              "\n",
              "    .colab-df-buttons div {\n",
              "      margin-bottom: 4px;\n",
              "    }\n",
              "\n",
              "    [theme=dark] .colab-df-convert {\n",
              "      background-color: #3B4455;\n",
              "      fill: #D2E3FC;\n",
              "    }\n",
              "\n",
              "    [theme=dark] .colab-df-convert:hover {\n",
              "      background-color: #434B5C;\n",
              "      box-shadow: 0px 1px 3px 1px rgba(0, 0, 0, 0.15);\n",
              "      filter: drop-shadow(0px 1px 2px rgba(0, 0, 0, 0.3));\n",
              "      fill: #FFFFFF;\n",
              "    }\n",
              "  </style>\n",
              "\n",
              "    <script>\n",
              "      const buttonEl =\n",
              "        document.querySelector('#df-126aebaa-8d2f-45c5-8b22-db1cdae5f984 button.colab-df-convert');\n",
              "      buttonEl.style.display =\n",
              "        google.colab.kernel.accessAllowed ? 'block' : 'none';\n",
              "\n",
              "      async function convertToInteractive(key) {\n",
              "        const element = document.querySelector('#df-126aebaa-8d2f-45c5-8b22-db1cdae5f984');\n",
              "        const dataTable =\n",
              "          await google.colab.kernel.invokeFunction('convertToInteractive',\n",
              "                                                    [key], {});\n",
              "        if (!dataTable) return;\n",
              "\n",
              "        const docLinkHtml = 'Like what you see? Visit the ' +\n",
              "          '<a target=\"_blank\" href=https://colab.research.google.com/notebooks/data_table.ipynb>data table notebook</a>'\n",
              "          + ' to learn more about interactive tables.';\n",
              "        element.innerHTML = '';\n",
              "        dataTable['output_type'] = 'display_data';\n",
              "        await google.colab.output.renderOutput(dataTable, element);\n",
              "        const docLink = document.createElement('div');\n",
              "        docLink.innerHTML = docLinkHtml;\n",
              "        element.appendChild(docLink);\n",
              "      }\n",
              "    </script>\n",
              "  </div>\n",
              "\n",
              "\n",
              "<div id=\"df-15dec03c-c312-40bf-9ce7-97d539178880\">\n",
              "  <button class=\"colab-df-quickchart\" onclick=\"quickchart('df-15dec03c-c312-40bf-9ce7-97d539178880')\"\n",
              "            title=\"Suggest charts.\"\n",
              "            style=\"display:none;\">\n",
              "\n",
              "<svg xmlns=\"http://www.w3.org/2000/svg\" height=\"24px\"viewBox=\"0 0 24 24\"\n",
              "     width=\"24px\">\n",
              "    <g>\n",
              "        <path d=\"M19 3H5c-1.1 0-2 .9-2 2v14c0 1.1.9 2 2 2h14c1.1 0 2-.9 2-2V5c0-1.1-.9-2-2-2zM9 17H7v-7h2v7zm4 0h-2V7h2v10zm4 0h-2v-4h2v4z\"/>\n",
              "    </g>\n",
              "</svg>\n",
              "  </button>\n",
              "\n",
              "<style>\n",
              "  .colab-df-quickchart {\n",
              "      --bg-color: #E8F0FE;\n",
              "      --fill-color: #1967D2;\n",
              "      --hover-bg-color: #E2EBFA;\n",
              "      --hover-fill-color: #174EA6;\n",
              "      --disabled-fill-color: #AAA;\n",
              "      --disabled-bg-color: #DDD;\n",
              "  }\n",
              "\n",
              "  [theme=dark] .colab-df-quickchart {\n",
              "      --bg-color: #3B4455;\n",
              "      --fill-color: #D2E3FC;\n",
              "      --hover-bg-color: #434B5C;\n",
              "      --hover-fill-color: #FFFFFF;\n",
              "      --disabled-bg-color: #3B4455;\n",
              "      --disabled-fill-color: #666;\n",
              "  }\n",
              "\n",
              "  .colab-df-quickchart {\n",
              "    background-color: var(--bg-color);\n",
              "    border: none;\n",
              "    border-radius: 50%;\n",
              "    cursor: pointer;\n",
              "    display: none;\n",
              "    fill: var(--fill-color);\n",
              "    height: 32px;\n",
              "    padding: 0;\n",
              "    width: 32px;\n",
              "  }\n",
              "\n",
              "  .colab-df-quickchart:hover {\n",
              "    background-color: var(--hover-bg-color);\n",
              "    box-shadow: 0 1px 2px rgba(60, 64, 67, 0.3), 0 1px 3px 1px rgba(60, 64, 67, 0.15);\n",
              "    fill: var(--button-hover-fill-color);\n",
              "  }\n",
              "\n",
              "  .colab-df-quickchart-complete:disabled,\n",
              "  .colab-df-quickchart-complete:disabled:hover {\n",
              "    background-color: var(--disabled-bg-color);\n",
              "    fill: var(--disabled-fill-color);\n",
              "    box-shadow: none;\n",
              "  }\n",
              "\n",
              "  .colab-df-spinner {\n",
              "    border: 2px solid var(--fill-color);\n",
              "    border-color: transparent;\n",
              "    border-bottom-color: var(--fill-color);\n",
              "    animation:\n",
              "      spin 1s steps(1) infinite;\n",
              "  }\n",
              "\n",
              "  @keyframes spin {\n",
              "    0% {\n",
              "      border-color: transparent;\n",
              "      border-bottom-color: var(--fill-color);\n",
              "      border-left-color: var(--fill-color);\n",
              "    }\n",
              "    20% {\n",
              "      border-color: transparent;\n",
              "      border-left-color: var(--fill-color);\n",
              "      border-top-color: var(--fill-color);\n",
              "    }\n",
              "    30% {\n",
              "      border-color: transparent;\n",
              "      border-left-color: var(--fill-color);\n",
              "      border-top-color: var(--fill-color);\n",
              "      border-right-color: var(--fill-color);\n",
              "    }\n",
              "    40% {\n",
              "      border-color: transparent;\n",
              "      border-right-color: var(--fill-color);\n",
              "      border-top-color: var(--fill-color);\n",
              "    }\n",
              "    60% {\n",
              "      border-color: transparent;\n",
              "      border-right-color: var(--fill-color);\n",
              "    }\n",
              "    80% {\n",
              "      border-color: transparent;\n",
              "      border-right-color: var(--fill-color);\n",
              "      border-bottom-color: var(--fill-color);\n",
              "    }\n",
              "    90% {\n",
              "      border-color: transparent;\n",
              "      border-bottom-color: var(--fill-color);\n",
              "    }\n",
              "  }\n",
              "</style>\n",
              "\n",
              "  <script>\n",
              "    async function quickchart(key) {\n",
              "      const quickchartButtonEl =\n",
              "        document.querySelector('#' + key + ' button');\n",
              "      quickchartButtonEl.disabled = true;  // To prevent multiple clicks.\n",
              "      quickchartButtonEl.classList.add('colab-df-spinner');\n",
              "      try {\n",
              "        const charts = await google.colab.kernel.invokeFunction(\n",
              "            'suggestCharts', [key], {});\n",
              "      } catch (error) {\n",
              "        console.error('Error during call to suggestCharts:', error);\n",
              "      }\n",
              "      quickchartButtonEl.classList.remove('colab-df-spinner');\n",
              "      quickchartButtonEl.classList.add('colab-df-quickchart-complete');\n",
              "    }\n",
              "    (() => {\n",
              "      let quickchartButtonEl =\n",
              "        document.querySelector('#df-15dec03c-c312-40bf-9ce7-97d539178880 button');\n",
              "      quickchartButtonEl.style.display =\n",
              "        google.colab.kernel.accessAllowed ? 'block' : 'none';\n",
              "    })();\n",
              "  </script>\n",
              "</div>\n",
              "    </div>\n",
              "  </div>\n"
            ],
            "text/plain": [
              "   id  name   email_address\n",
              "0   1  Jack  jack@yahoo.com\n",
              "1   1  Jack    jack@msn.com"
            ]
          },
          "execution_count": 20,
          "metadata": {},
          "output_type": "execute_result"
        }
      ],
      "source": [
        "import pandas as pd\n",
        "\n",
        "# Create a statement\n",
        "# Within the text() method is a SQL query. Check out our SQL reminder course if you feel a little rusty\n",
        "stmt = text(\"SELECT students.id, students.name, addresses.email_address FROM students \"\n",
        "            \"JOIN addresses ON students.id=addresses.student_id \"\n",
        "            \"WHERE students.id = 1\")\n",
        "\n",
        "df = pd.read_sql_query(con=engine.connect(), sql=stmt)\n",
        "\n",
        "df.head()"
      ]
    },
    {
      "cell_type": "markdown",
      "metadata": {
        "id": "lAGpiXCruqLl"
      },
      "source": [
        "Now you have a very nice DataFrame that you can easily manipulate!\n",
        "\n",
        "Note that we still used SQLAlchemy as we create a statement `stmt` as well as an `engine` for pandas to be able to create it."
      ]
    },
    {
      "cell_type": "markdown",
      "metadata": {
        "id": "hh5scYcyuqLv"
      },
      "source": [
        "### Update your database with Pandas\n",
        "\n",
        "The same way you can read sql, you can also write sql with pandas."
      ]
    },
    {
      "cell_type": "code",
      "execution_count": 21,
      "metadata": {
        "colab": {
          "base_uri": "https://localhost:8080/",
          "height": 112
        },
        "id": "vj2GS4FtuqLv",
        "outputId": "e04cc34e-7511-43c8-a210-d96a512d8f54"
      },
      "outputs": [
        {
          "data": {
            "text/html": [
              "\n",
              "  <div id=\"df-b8ec831b-7a42-4210-91ca-3ce2f0f52878\" class=\"colab-df-container\">\n",
              "    <div>\n",
              "<style scoped>\n",
              "    .dataframe tbody tr th:only-of-type {\n",
              "        vertical-align: middle;\n",
              "    }\n",
              "\n",
              "    .dataframe tbody tr th {\n",
              "        vertical-align: top;\n",
              "    }\n",
              "\n",
              "    .dataframe thead th {\n",
              "        text-align: right;\n",
              "    }\n",
              "</style>\n",
              "<table border=\"1\" class=\"dataframe\">\n",
              "  <thead>\n",
              "    <tr style=\"text-align: right;\">\n",
              "      <th></th>\n",
              "      <th>id</th>\n",
              "      <th>name</th>\n",
              "      <th>email_address</th>\n",
              "      <th>great_new_column</th>\n",
              "    </tr>\n",
              "  </thead>\n",
              "  <tbody>\n",
              "    <tr>\n",
              "      <th>0</th>\n",
              "      <td>1</td>\n",
              "      <td>Jack</td>\n",
              "      <td>jack@yahoo.com</td>\n",
              "      <td>0</td>\n",
              "    </tr>\n",
              "    <tr>\n",
              "      <th>1</th>\n",
              "      <td>1</td>\n",
              "      <td>Jack</td>\n",
              "      <td>jack@msn.com</td>\n",
              "      <td>0</td>\n",
              "    </tr>\n",
              "  </tbody>\n",
              "</table>\n",
              "</div>\n",
              "    <div class=\"colab-df-buttons\">\n",
              "\n",
              "  <div class=\"colab-df-container\">\n",
              "    <button class=\"colab-df-convert\" onclick=\"convertToInteractive('df-b8ec831b-7a42-4210-91ca-3ce2f0f52878')\"\n",
              "            title=\"Convert this dataframe to an interactive table.\"\n",
              "            style=\"display:none;\">\n",
              "\n",
              "  <svg xmlns=\"http://www.w3.org/2000/svg\" height=\"24px\" viewBox=\"0 -960 960 960\">\n",
              "    <path d=\"M120-120v-720h720v720H120Zm60-500h600v-160H180v160Zm220 220h160v-160H400v160Zm0 220h160v-160H400v160ZM180-400h160v-160H180v160Zm440 0h160v-160H620v160ZM180-180h160v-160H180v160Zm440 0h160v-160H620v160Z\"/>\n",
              "  </svg>\n",
              "    </button>\n",
              "\n",
              "  <style>\n",
              "    .colab-df-container {\n",
              "      display:flex;\n",
              "      gap: 12px;\n",
              "    }\n",
              "\n",
              "    .colab-df-convert {\n",
              "      background-color: #E8F0FE;\n",
              "      border: none;\n",
              "      border-radius: 50%;\n",
              "      cursor: pointer;\n",
              "      display: none;\n",
              "      fill: #1967D2;\n",
              "      height: 32px;\n",
              "      padding: 0 0 0 0;\n",
              "      width: 32px;\n",
              "    }\n",
              "\n",
              "    .colab-df-convert:hover {\n",
              "      background-color: #E2EBFA;\n",
              "      box-shadow: 0px 1px 2px rgba(60, 64, 67, 0.3), 0px 1px 3px 1px rgba(60, 64, 67, 0.15);\n",
              "      fill: #174EA6;\n",
              "    }\n",
              "\n",
              "    .colab-df-buttons div {\n",
              "      margin-bottom: 4px;\n",
              "    }\n",
              "\n",
              "    [theme=dark] .colab-df-convert {\n",
              "      background-color: #3B4455;\n",
              "      fill: #D2E3FC;\n",
              "    }\n",
              "\n",
              "    [theme=dark] .colab-df-convert:hover {\n",
              "      background-color: #434B5C;\n",
              "      box-shadow: 0px 1px 3px 1px rgba(0, 0, 0, 0.15);\n",
              "      filter: drop-shadow(0px 1px 2px rgba(0, 0, 0, 0.3));\n",
              "      fill: #FFFFFF;\n",
              "    }\n",
              "  </style>\n",
              "\n",
              "    <script>\n",
              "      const buttonEl =\n",
              "        document.querySelector('#df-b8ec831b-7a42-4210-91ca-3ce2f0f52878 button.colab-df-convert');\n",
              "      buttonEl.style.display =\n",
              "        google.colab.kernel.accessAllowed ? 'block' : 'none';\n",
              "\n",
              "      async function convertToInteractive(key) {\n",
              "        const element = document.querySelector('#df-b8ec831b-7a42-4210-91ca-3ce2f0f52878');\n",
              "        const dataTable =\n",
              "          await google.colab.kernel.invokeFunction('convertToInteractive',\n",
              "                                                    [key], {});\n",
              "        if (!dataTable) return;\n",
              "\n",
              "        const docLinkHtml = 'Like what you see? Visit the ' +\n",
              "          '<a target=\"_blank\" href=https://colab.research.google.com/notebooks/data_table.ipynb>data table notebook</a>'\n",
              "          + ' to learn more about interactive tables.';\n",
              "        element.innerHTML = '';\n",
              "        dataTable['output_type'] = 'display_data';\n",
              "        await google.colab.output.renderOutput(dataTable, element);\n",
              "        const docLink = document.createElement('div');\n",
              "        docLink.innerHTML = docLinkHtml;\n",
              "        element.appendChild(docLink);\n",
              "      }\n",
              "    </script>\n",
              "  </div>\n",
              "\n",
              "\n",
              "<div id=\"df-f759e6f0-a12f-4022-b4a9-ad117bda596a\">\n",
              "  <button class=\"colab-df-quickchart\" onclick=\"quickchart('df-f759e6f0-a12f-4022-b4a9-ad117bda596a')\"\n",
              "            title=\"Suggest charts.\"\n",
              "            style=\"display:none;\">\n",
              "\n",
              "<svg xmlns=\"http://www.w3.org/2000/svg\" height=\"24px\"viewBox=\"0 0 24 24\"\n",
              "     width=\"24px\">\n",
              "    <g>\n",
              "        <path d=\"M19 3H5c-1.1 0-2 .9-2 2v14c0 1.1.9 2 2 2h14c1.1 0 2-.9 2-2V5c0-1.1-.9-2-2-2zM9 17H7v-7h2v7zm4 0h-2V7h2v10zm4 0h-2v-4h2v4z\"/>\n",
              "    </g>\n",
              "</svg>\n",
              "  </button>\n",
              "\n",
              "<style>\n",
              "  .colab-df-quickchart {\n",
              "      --bg-color: #E8F0FE;\n",
              "      --fill-color: #1967D2;\n",
              "      --hover-bg-color: #E2EBFA;\n",
              "      --hover-fill-color: #174EA6;\n",
              "      --disabled-fill-color: #AAA;\n",
              "      --disabled-bg-color: #DDD;\n",
              "  }\n",
              "\n",
              "  [theme=dark] .colab-df-quickchart {\n",
              "      --bg-color: #3B4455;\n",
              "      --fill-color: #D2E3FC;\n",
              "      --hover-bg-color: #434B5C;\n",
              "      --hover-fill-color: #FFFFFF;\n",
              "      --disabled-bg-color: #3B4455;\n",
              "      --disabled-fill-color: #666;\n",
              "  }\n",
              "\n",
              "  .colab-df-quickchart {\n",
              "    background-color: var(--bg-color);\n",
              "    border: none;\n",
              "    border-radius: 50%;\n",
              "    cursor: pointer;\n",
              "    display: none;\n",
              "    fill: var(--fill-color);\n",
              "    height: 32px;\n",
              "    padding: 0;\n",
              "    width: 32px;\n",
              "  }\n",
              "\n",
              "  .colab-df-quickchart:hover {\n",
              "    background-color: var(--hover-bg-color);\n",
              "    box-shadow: 0 1px 2px rgba(60, 64, 67, 0.3), 0 1px 3px 1px rgba(60, 64, 67, 0.15);\n",
              "    fill: var(--button-hover-fill-color);\n",
              "  }\n",
              "\n",
              "  .colab-df-quickchart-complete:disabled,\n",
              "  .colab-df-quickchart-complete:disabled:hover {\n",
              "    background-color: var(--disabled-bg-color);\n",
              "    fill: var(--disabled-fill-color);\n",
              "    box-shadow: none;\n",
              "  }\n",
              "\n",
              "  .colab-df-spinner {\n",
              "    border: 2px solid var(--fill-color);\n",
              "    border-color: transparent;\n",
              "    border-bottom-color: var(--fill-color);\n",
              "    animation:\n",
              "      spin 1s steps(1) infinite;\n",
              "  }\n",
              "\n",
              "  @keyframes spin {\n",
              "    0% {\n",
              "      border-color: transparent;\n",
              "      border-bottom-color: var(--fill-color);\n",
              "      border-left-color: var(--fill-color);\n",
              "    }\n",
              "    20% {\n",
              "      border-color: transparent;\n",
              "      border-left-color: var(--fill-color);\n",
              "      border-top-color: var(--fill-color);\n",
              "    }\n",
              "    30% {\n",
              "      border-color: transparent;\n",
              "      border-left-color: var(--fill-color);\n",
              "      border-top-color: var(--fill-color);\n",
              "      border-right-color: var(--fill-color);\n",
              "    }\n",
              "    40% {\n",
              "      border-color: transparent;\n",
              "      border-right-color: var(--fill-color);\n",
              "      border-top-color: var(--fill-color);\n",
              "    }\n",
              "    60% {\n",
              "      border-color: transparent;\n",
              "      border-right-color: var(--fill-color);\n",
              "    }\n",
              "    80% {\n",
              "      border-color: transparent;\n",
              "      border-right-color: var(--fill-color);\n",
              "      border-bottom-color: var(--fill-color);\n",
              "    }\n",
              "    90% {\n",
              "      border-color: transparent;\n",
              "      border-bottom-color: var(--fill-color);\n",
              "    }\n",
              "  }\n",
              "</style>\n",
              "\n",
              "  <script>\n",
              "    async function quickchart(key) {\n",
              "      const quickchartButtonEl =\n",
              "        document.querySelector('#' + key + ' button');\n",
              "      quickchartButtonEl.disabled = true;  // To prevent multiple clicks.\n",
              "      quickchartButtonEl.classList.add('colab-df-spinner');\n",
              "      try {\n",
              "        const charts = await google.colab.kernel.invokeFunction(\n",
              "            'suggestCharts', [key], {});\n",
              "      } catch (error) {\n",
              "        console.error('Error during call to suggestCharts:', error);\n",
              "      }\n",
              "      quickchartButtonEl.classList.remove('colab-df-spinner');\n",
              "      quickchartButtonEl.classList.add('colab-df-quickchart-complete');\n",
              "    }\n",
              "    (() => {\n",
              "      let quickchartButtonEl =\n",
              "        document.querySelector('#df-f759e6f0-a12f-4022-b4a9-ad117bda596a button');\n",
              "      quickchartButtonEl.style.display =\n",
              "        google.colab.kernel.accessAllowed ? 'block' : 'none';\n",
              "    })();\n",
              "  </script>\n",
              "</div>\n",
              "    </div>\n",
              "  </div>\n"
            ],
            "text/plain": [
              "   id  name   email_address  great_new_column\n",
              "0   1  Jack  jack@yahoo.com                 0\n",
              "1   1  Jack    jack@msn.com                 0"
            ]
          },
          "execution_count": 21,
          "metadata": {},
          "output_type": "execute_result"
        }
      ],
      "source": [
        "# Create a new column\n",
        "df[\"great_new_column\"] = 0\n",
        "df.head()"
      ]
    },
    {
      "cell_type": "code",
      "execution_count": 22,
      "metadata": {
        "colab": {
          "base_uri": "https://localhost:8080/"
        },
        "id": "uS7XPJ2ZuqLv",
        "outputId": "aa06459e-040a-4e84-e8f4-004612d96312",
        "tags": []
      },
      "outputs": [
        {
          "name": "stdout",
          "output_type": "stream",
          "text": [
            "2023-10-03 08:47:09,030 INFO sqlalchemy.engine.Engine BEGIN (implicit)\n"
          ]
        },
        {
          "name": "stderr",
          "output_type": "stream",
          "text": [
            "INFO:sqlalchemy.engine.Engine:BEGIN (implicit)\n"
          ]
        },
        {
          "name": "stdout",
          "output_type": "stream",
          "text": [
            "2023-10-03 08:47:09,043 INFO sqlalchemy.engine.Engine PRAGMA main.table_info(\"brand_new_table\")\n"
          ]
        },
        {
          "name": "stderr",
          "output_type": "stream",
          "text": [
            "INFO:sqlalchemy.engine.Engine:PRAGMA main.table_info(\"brand_new_table\")\n"
          ]
        },
        {
          "name": "stdout",
          "output_type": "stream",
          "text": [
            "2023-10-03 08:47:09,051 INFO sqlalchemy.engine.Engine [raw sql] ()\n"
          ]
        },
        {
          "name": "stderr",
          "output_type": "stream",
          "text": [
            "INFO:sqlalchemy.engine.Engine:[raw sql] ()\n"
          ]
        },
        {
          "name": "stdout",
          "output_type": "stream",
          "text": [
            "2023-10-03 08:47:09,057 INFO sqlalchemy.engine.Engine PRAGMA temp.table_info(\"brand_new_table\")\n"
          ]
        },
        {
          "name": "stderr",
          "output_type": "stream",
          "text": [
            "INFO:sqlalchemy.engine.Engine:PRAGMA temp.table_info(\"brand_new_table\")\n"
          ]
        },
        {
          "name": "stdout",
          "output_type": "stream",
          "text": [
            "2023-10-03 08:47:09,062 INFO sqlalchemy.engine.Engine [raw sql] ()\n"
          ]
        },
        {
          "name": "stderr",
          "output_type": "stream",
          "text": [
            "INFO:sqlalchemy.engine.Engine:[raw sql] ()\n"
          ]
        },
        {
          "name": "stdout",
          "output_type": "stream",
          "text": [
            "2023-10-03 08:47:09,064 INFO sqlalchemy.engine.Engine ROLLBACK\n"
          ]
        },
        {
          "name": "stderr",
          "output_type": "stream",
          "text": [
            "INFO:sqlalchemy.engine.Engine:ROLLBACK\n"
          ]
        },
        {
          "name": "stdout",
          "output_type": "stream",
          "text": [
            "2023-10-03 08:47:09,086 INFO sqlalchemy.engine.Engine BEGIN (implicit)\n"
          ]
        },
        {
          "name": "stderr",
          "output_type": "stream",
          "text": [
            "INFO:sqlalchemy.engine.Engine:BEGIN (implicit)\n"
          ]
        },
        {
          "name": "stdout",
          "output_type": "stream",
          "text": [
            "2023-10-03 08:47:09,104 INFO sqlalchemy.engine.Engine \n",
            "CREATE TABLE brand_new_table (\n",
            "\t\"index\" BIGINT, \n",
            "\tid BIGINT, \n",
            "\tname TEXT, \n",
            "\temail_address TEXT, \n",
            "\tgreat_new_column BIGINT\n",
            ")\n",
            "\n",
            "\n"
          ]
        },
        {
          "name": "stderr",
          "output_type": "stream",
          "text": [
            "INFO:sqlalchemy.engine.Engine:\n",
            "CREATE TABLE brand_new_table (\n",
            "\t\"index\" BIGINT, \n",
            "\tid BIGINT, \n",
            "\tname TEXT, \n",
            "\temail_address TEXT, \n",
            "\tgreat_new_column BIGINT\n",
            ")\n",
            "\n",
            "\n"
          ]
        },
        {
          "name": "stdout",
          "output_type": "stream",
          "text": [
            "2023-10-03 08:47:09,110 INFO sqlalchemy.engine.Engine [no key 0.00607s] ()\n"
          ]
        },
        {
          "name": "stderr",
          "output_type": "stream",
          "text": [
            "INFO:sqlalchemy.engine.Engine:[no key 0.00607s] ()\n"
          ]
        },
        {
          "name": "stdout",
          "output_type": "stream",
          "text": [
            "2023-10-03 08:47:09,120 INFO sqlalchemy.engine.Engine CREATE INDEX ix_brand_new_table_index ON brand_new_table (\"index\")\n"
          ]
        },
        {
          "name": "stderr",
          "output_type": "stream",
          "text": [
            "INFO:sqlalchemy.engine.Engine:CREATE INDEX ix_brand_new_table_index ON brand_new_table (\"index\")\n"
          ]
        },
        {
          "name": "stdout",
          "output_type": "stream",
          "text": [
            "2023-10-03 08:47:09,122 INFO sqlalchemy.engine.Engine [no key 0.00237s] ()\n"
          ]
        },
        {
          "name": "stderr",
          "output_type": "stream",
          "text": [
            "INFO:sqlalchemy.engine.Engine:[no key 0.00237s] ()\n"
          ]
        },
        {
          "name": "stdout",
          "output_type": "stream",
          "text": [
            "2023-10-03 08:47:09,125 INFO sqlalchemy.engine.Engine COMMIT\n"
          ]
        },
        {
          "name": "stderr",
          "output_type": "stream",
          "text": [
            "INFO:sqlalchemy.engine.Engine:COMMIT\n"
          ]
        },
        {
          "name": "stdout",
          "output_type": "stream",
          "text": [
            "2023-10-03 08:47:09,130 INFO sqlalchemy.engine.Engine BEGIN (implicit)\n"
          ]
        },
        {
          "name": "stderr",
          "output_type": "stream",
          "text": [
            "INFO:sqlalchemy.engine.Engine:BEGIN (implicit)\n"
          ]
        },
        {
          "name": "stdout",
          "output_type": "stream",
          "text": [
            "2023-10-03 08:47:09,134 INFO sqlalchemy.engine.Engine INSERT INTO brand_new_table (\"index\", id, name, email_address, great_new_column) VALUES (?, ?, ?, ?, ?)\n"
          ]
        },
        {
          "name": "stderr",
          "output_type": "stream",
          "text": [
            "INFO:sqlalchemy.engine.Engine:INSERT INTO brand_new_table (\"index\", id, name, email_address, great_new_column) VALUES (?, ?, ?, ?, ?)\n"
          ]
        },
        {
          "name": "stdout",
          "output_type": "stream",
          "text": [
            "2023-10-03 08:47:09,136 INFO sqlalchemy.engine.Engine [generated in 0.00266s] [(0, 1, 'Jack', 'jack@yahoo.com', 0), (1, 1, 'Jack', 'jack@msn.com', 0)]\n"
          ]
        },
        {
          "name": "stderr",
          "output_type": "stream",
          "text": [
            "INFO:sqlalchemy.engine.Engine:[generated in 0.00266s] [(0, 1, 'Jack', 'jack@yahoo.com', 0), (1, 1, 'Jack', 'jack@msn.com', 0)]\n"
          ]
        },
        {
          "name": "stdout",
          "output_type": "stream",
          "text": [
            "2023-10-03 08:47:09,139 INFO sqlalchemy.engine.Engine COMMIT\n"
          ]
        },
        {
          "name": "stderr",
          "output_type": "stream",
          "text": [
            "INFO:sqlalchemy.engine.Engine:COMMIT\n"
          ]
        },
        {
          "data": {
            "text/plain": [
              "2"
            ]
          },
          "execution_count": 22,
          "metadata": {},
          "output_type": "execute_result"
        }
      ],
      "source": [
        "# Push this new dataframe to our sql database\n",
        "df.to_sql(\n",
        "    \"brand_new_table\",\n",
        "    engine\n",
        ")"
      ]
    },
    {
      "cell_type": "code",
      "execution_count": 23,
      "metadata": {
        "colab": {
          "base_uri": "https://localhost:8080/"
        },
        "id": "ek2MgUEUuqLw",
        "outputId": "fcaa5e2e-e732-4c8a-8d8c-ec63b5d22be8",
        "tags": []
      },
      "outputs": [
        {
          "name": "stdout",
          "output_type": "stream",
          "text": [
            "2023-10-03 08:47:09,170 INFO sqlalchemy.engine.Engine SELECT * FROM brand_new_table\n"
          ]
        },
        {
          "name": "stderr",
          "output_type": "stream",
          "text": [
            "INFO:sqlalchemy.engine.Engine:SELECT * FROM brand_new_table\n"
          ]
        },
        {
          "name": "stdout",
          "output_type": "stream",
          "text": [
            "2023-10-03 08:47:09,179 INFO sqlalchemy.engine.Engine [generated in 0.00911s] ()\n"
          ]
        },
        {
          "name": "stderr",
          "output_type": "stream",
          "text": [
            "INFO:sqlalchemy.engine.Engine:[generated in 0.00911s] ()\n"
          ]
        },
        {
          "data": {
            "text/plain": [
              "[(0, 1, 'Jack', 'jack@yahoo.com', 0), (1, 1, 'Jack', 'jack@msn.com', 0)]"
            ]
          },
          "execution_count": 23,
          "metadata": {},
          "output_type": "execute_result"
        }
      ],
      "source": [
        "# Let's query it\n",
        "stmt = text(\"SELECT * FROM brand_new_table\")\n",
        "result = conn.execute(stmt)\n",
        "result.fetchall()"
      ]
    },
    {
      "cell_type": "markdown",
      "metadata": {
        "id": "n0d742_0uqLx"
      },
      "source": [
        "## Resources 📚📚\n",
        "\n",
        "- <a href=\"https://www.youtube.com/watch?v=woKYyhLCcnU\" target=\"_blank\">Introduction to SQLAlchemy</a>\n",
        "- <a href=\"https://docs.sqlalchemy.org/en/13/intro.html\" target=\"_blank\">SQLAlchemy Overview</a>\n",
        "- <a href=\"https://docs.sqlalchemy.org/en/13/orm/tutorial.html\" target=\"_blank\">Object Relational Tutorial</a>\n",
        "- <a href=\"https://docs.sqlalchemy.org/en/13/core/tutorial.html\" target=\"_blank\">SQL Expression Language Tutorial</a>\n",
        "- <a href=\"https://pandas.pydata.org/pandas-docs/stable/reference/api/pandas.read_sql.html#pandas.read_sql\" target=\"_blank\">Pandas Read SQL</a>\n",
        "- <a href=\"https://pandas.pydata.org/pandas-docs/stable/reference/api/pandas.DataFrame.to_sql.html\" target=\"_blank\">Pandas To SQL</a>"
      ]
    }
  ],
  "metadata": {
    "colab": {
      "provenance": []
    },
    "kernelspec": {
      "display_name": "base",
      "language": "python",
      "name": "python3"
    },
    "language_info": {
      "codemirror_mode": {
        "name": "ipython",
        "version": 3
      },
      "file_extension": ".py",
      "mimetype": "text/x-python",
      "name": "python",
      "nbconvert_exporter": "python",
      "pygments_lexer": "ipython3",
      "version": "3.12.7"
    }
  },
  "nbformat": 4,
  "nbformat_minor": 0
}
