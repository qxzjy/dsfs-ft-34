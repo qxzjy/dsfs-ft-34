{
 "cells": [
  {
   "cell_type": "markdown",
   "metadata": {},
   "source": [
    "# **Optimizing a Loss Function with PyTorch: Gradient Descent for Linear Regression**  \n",
    "\n",
    "## **Real-World Motivation: Predicting House Prices** 🏡  \n",
    "\n",
    "Imagine you are a **real estate analyst**, and you want to predict house prices based on the square footage of homes. If we can build an accurate **linear model**, we can help homeowners estimate the value of their properties and guide potential buyers in making informed decisions.  \n",
    "\n",
    "To achieve this, we'll use **linear regression**, which models the relationship between **house size (\\(x\\))** and **house price (\\(y\\))** as follows:  \n",
    "\n",
    "\\[\n",
    "y = w x + b\n",
    "\\]\n",
    "\n",
    "where:  \n",
    "- \\( w \\) is the **weight (slope)**, determining how much the price increases per square foot.  \n",
    "- \\( b \\) is the **bias (intercept)**, representing the base price of a house.  \n",
    "\n",
    "To **train** our model, we need to **optimize a loss function** that measures how far off our predictions are from actual prices. We'll use **Mean Squared Error (MSE)** and optimize it using **gradient descent**, but this time leveraging PyTorch’s **automatic differentiation** (`autograd`).  \n",
    "\n",
    "Let’s get started! 🚀  \n",
    "\n",
    "---\n",
    "\n",
    "## **1️⃣ Import Necessary Libraries**  \n",
    "\n",
    "To begin, you need to import the required libraries. PyTorch will be used for model definition and optimization, NumPy for numerical operations, and Matplotlib for visualization.  \n",
    "\n",
    "In case you are using pytorch for the first time, you'll need to create a specific environment to run your code and install necessary library (pytorch may be picky about its dependencies so creating a dedicated environment avoids trouble).\n",
    "\n",
    "```shell\n",
    "conda create -n pytorch python=3.10\n",
    "conda activate pytorch\n",
    "pip install torch torchvision matplotlib\n",
    "```\n"
   ]
  },
  {
   "cell_type": "code",
   "execution_count": 1,
   "metadata": {},
   "outputs": [],
   "source": [
    "import torch\n",
    "import torch.nn as nn\n",
    "import torch.optim as optim\n",
    "import numpy as np\n",
    "import matplotlib.pyplot as plt"
   ]
  },
  {
   "cell_type": "markdown",
   "metadata": {},
   "source": [
    "## **2️⃣ Create a Dataset (House Size vs. Price)**  \n",
    "\n",
    "Now, let's define a simple dataset that represents **house sizes in square feet** (e.g.: 800, 900, 1200, 1500, 1700, 2000) and their corresponding **prices in thousands of dollars** (e.g.: 160, 180, 220, 280, 310, 370). Create two tensors, one for house sizes and one for house prices. Ensure both tensors are of type `float32` and have the correct shape using `.reshape(-1,1)`.  \n",
    "\n",
    "<Note type=\"tip\" title=\"torch.tensor\">\n",
    "For this task you will use `torch.tensor`:\n",
    "A tensor is a multi-dimensional array that can store numerical data. PyTorch’s torch.tensor module provides a flexible way to create and manipulate tensors efficiently. You may create tensors from lists:\n",
    "```python\n",
    "# Creating a tensor from a list\n",
    "x = torch.tensor([1.0, 2.0, 3.0])\n",
    "print(x)\n",
    "```\n",
    "</Note>\n",
    "\n",
    "You'll discover later that tensors have a wonderful property, they allow for auto-differentiation (meaning you'll be able to calculate gradients easily if you make calculations with tensors, trust me it's amazing)."
   ]
  },
  {
   "cell_type": "code",
   "execution_count": 3,
   "metadata": {},
   "outputs": [
    {
     "name": "stdout",
     "output_type": "stream",
     "text": [
      "tensor([[ 800.],\n",
      "        [ 900.],\n",
      "        [1200.],\n",
      "        [1500.],\n",
      "        [1700.],\n",
      "        [2000.]])\n",
      "tensor([[160.],\n",
      "        [180.],\n",
      "        [220.],\n",
      "        [280.],\n",
      "        [310.],\n",
      "        [370.]])\n"
     ]
    }
   ],
   "source": [
    "# Simulated dataset: House size (sq ft) and corresponding price ($1000s)\n",
    "house_size = torch.tensor([800, 900, 1200, 1500, 1700, 2000], dtype=torch.float32).reshape(-1,1)\n",
    "house_price = torch.tensor([160, 180, 220, 280, 310, 370], dtype=torch.float32).reshape(-1,1)\n",
    "\n",
    "print(house_size)\n",
    "print(house_price)"
   ]
  },
  {
   "cell_type": "markdown",
   "metadata": {},
   "source": [
    "## **3️⃣ Define the Linear Regression Model**  \n",
    "\n",
    "Define a `LinearRegressionModel` class that inherits from `nn.Module`. Inside this class, create two trainable parameters: `w` for the weight (slope) and `b` for the bias (intercept). These should be defined as `nn.Parameter()` with random initialization and `requires_grad=True` to allow PyTorch to track their gradients.  \n",
    "\n",
    "Then, define a `forward()` method that takes an input `x` and returns the predicted value using the equation **\\(y = wx + b\\)**.  \n",
    "\n",
    "<Note type=\"tip\" title=\"nn.Module\">\n",
    "The torch.nn.Module class is the foundation for building neural networks in PyTorch. It provides a structured way to define and organize layers (in neural networks, we'll find out more later), parameters, and computations for models.\n",
    "</Note>\n",
    "\n",
    "<Note type=\"tip\" title=\"nn.Parameter\">\n",
    "A regular tensor in PyTorch is not automatically considered a model parameter. If you define a tensor inside an nn.Module but don’t explicitly register it as a parameter, it won’t be optimized during training.\n",
    "\n",
    "By wrapping a tensor with nn.Parameter, PyTorch adds it to the list of model parameters, making it visible to optimizers like SGD or Adam.\n",
    "</Note>"
   ]
  },
  {
   "cell_type": "code",
   "execution_count": 4,
   "metadata": {},
   "outputs": [],
   "source": [
    "class LinearRegressionModel(nn.Module):\n",
    "    def __init__(self):\n",
    "        super().__init__()\n",
    "        self.w = nn.Parameter(torch.randn(1, requires_grad=True))  # Weight (slope)\n",
    "        self.b = nn.Parameter(torch.randn(1, requires_grad=True))  # Bias (intercept)\n",
    "    \n",
    "    def forward(self, x):\n",
    "        return self.w * x + self.b  # y = wx + b"
   ]
  },
  {
   "cell_type": "markdown",
   "metadata": {},
   "source": [
    "Now, create an instance of the `LinearRegressionModel` class and store it in a variable called `model`. "
   ]
  },
  {
   "cell_type": "code",
   "execution_count": 5,
   "metadata": {},
   "outputs": [],
   "source": [
    "# Initialize model\n",
    "model = LinearRegressionModel()"
   ]
  },
  {
   "cell_type": "markdown",
   "metadata": {},
   "source": [
    "## **4️⃣ Define the Loss Function (Mean Squared Error)**  \n",
    "\n",
    "Define a function called `mse()` that calculates the **Mean Squared Error (MSE)** between the predicted values and the actual values. This function should take two arguments: `y_pred` (predictions) and `y_true` (actual values). Inside the function, return the mean of the squared differences between `y_pred` and `y_true`.  "
   ]
  },
  {
   "cell_type": "code",
   "execution_count": 8,
   "metadata": {},
   "outputs": [],
   "source": [
    "# Mean Squared Error Loss\n",
    "def mse(y_pred, y_true):\n",
    "    return ((y_pred - y_true) ** 2).mean()\n"
   ]
  },
  {
   "cell_type": "markdown",
   "metadata": {},
   "source": [
    "## **5️⃣ Use PyTorch’s Autograd to Compute Gradients**  \n",
    "\n",
    "Perform a **forward pass** by passing `house_size` to `model` and storing the predictions in `y_pred`. Then, compute the **loss** by calling the `mse()` function with `y_pred` and `house_price` as arguments.  \n",
    "\n",
    "After computing the loss, call `.backward()` on the loss to perform **automatic differentiation**. Finally, print the computed gradients for `w` and `b` using `.grad.item()`.  \n",
    "\n",
    "<Note type=\"tip\" title=\".backward()\">\n",
    "The `.backward()` is associated with tensor objects. It works in conjunction with `nn.Parameter`, and calculates the gradient of a tensor according to the elements indicated as parameters. Remember, the gradient of the loss function is a vector where each component is the partial derivative of the loss function according to each parameter. We need to flag each model parameter so that backward calculates the gradient component for each of them and ONLY them.\n",
    "</Note>"
   ]
  },
  {
   "cell_type": "code",
   "execution_count": 9,
   "metadata": {},
   "outputs": [
    {
     "name": "stdout",
     "output_type": "stream",
     "text": [
      "Gradient of w: 1188421.625\n",
      "Gradient of b: 796.3521118164062\n"
     ]
    }
   ],
   "source": [
    "# Forward pass: Compute initial predictions\n",
    "y_pred = model(house_size)\n",
    "\n",
    "# Compute loss\n",
    "loss = mse(y_pred, house_price)\n",
    "\n",
    "# Perform backpropagation\n",
    "loss.backward()\n",
    "\n",
    "# Display computed gradients\n",
    "print(f\"Gradient of w: {model.w.grad.item()}\")\n",
    "print(f\"Gradient of b: {model.b.grad.item()}\")"
   ]
  },
  {
   "cell_type": "markdown",
   "metadata": {},
   "source": [
    "## **6️⃣ Perform Gradient Descent Optimization**  \n",
    "\n",
    "Now, define a **learning rate** and the number of **epochs** (iterations). Use `optim.SGD()` to create an optimizer that will update the model parameters using **stochastic gradient descent (SGD)**.  \n",
    "\n",
    "Inside a loop that runs for `epochs` iterations:  \n",
    "1. Perform a forward pass by passing `house_size` through `model()`.  \n",
    "2. Compute the loss using `mse()`.  \n",
    "3. Call `optimizer.zero_grad()` to reset gradients before each update.  \n",
    "4. Perform **backpropagation** using `loss.backward()`.  \n",
    "5. Update the parameters using `optimizer.step()`.  \n",
    "6. Print the loss, weight, and bias every 1000 epochs to monitor progress.  \n",
    "\n",
    "<Note type=\"tip\" title=\"optim.SGD()\">\n",
    "\n",
    "SGD (Stochastic Gradient Descent) is an optimization algorithm that updates model parameters using the gradients computed by backpropagation.\n",
    "This class let's you run stochastic gradient descent without having to worry about the parameter update logic, it is fully integrated in there.\n",
    "Optimizer step (`optimizer.step()`): Updates parameters using SGD.\n",
    "Reset gradients (`optimizer.zero_grad()`): Prevents gradient accumulation.\n",
    "\n",
    "</Note>"
   ]
  },
  {
   "cell_type": "code",
   "execution_count": 11,
   "metadata": {},
   "outputs": [
    {
     "name": "stdout",
     "output_type": "stream",
     "text": [
      "Epoch 0: Loss = 58.90183639526367, w = 0.1867823600769043, b = -0.7303983569145203\n",
      "Epoch 1: Loss = 58.9016227722168, w = 0.18677984178066254, b = -0.7303979992866516\n",
      "Epoch 2: Loss = 58.9016227722168, w = 0.18677833676338196, b = -0.730397641658783\n",
      "Epoch 3: Loss = 58.90155029296875, w = 0.18677742779254913, b = -0.7303972840309143\n",
      "Epoch 4: Loss = 58.90165328979492, w = 0.18677689135074615, b = -0.7303969264030457\n",
      "Epoch 5: Loss = 58.9016227722168, w = 0.1867765635251999, b = -0.730396568775177\n",
      "Epoch 6: Loss = 58.90162658691406, w = 0.18677636981010437, b = -0.7303962111473083\n",
      "Epoch 7: Loss = 58.90156173706055, w = 0.18677625060081482, b = -0.7303958535194397\n",
      "Epoch 8: Loss = 58.901519775390625, w = 0.18677619099617004, b = -0.730395495891571\n",
      "Epoch 9: Loss = 58.901554107666016, w = 0.18677614629268646, b = -0.7303951382637024\n",
      "Epoch 10: Loss = 58.9016227722168, w = 0.18677611649036407, b = -0.7303947806358337\n",
      "Epoch 11: Loss = 58.90156936645508, w = 0.18677610158920288, b = -0.7303944230079651\n",
      "Epoch 12: Loss = 58.901580810546875, w = 0.1867760866880417, b = -0.7303940653800964\n",
      "Epoch 13: Loss = 58.90159606933594, w = 0.1867760866880417, b = -0.7303937077522278\n",
      "Epoch 14: Loss = 58.90159606933594, w = 0.1867760866880417, b = -0.7303933501243591\n",
      "Epoch 15: Loss = 58.90159606933594, w = 0.1867760866880417, b = -0.7303929924964905\n",
      "Epoch 16: Loss = 58.90159606933594, w = 0.1867760866880417, b = -0.7303926348686218\n",
      "Epoch 17: Loss = 58.90159606933594, w = 0.1867760866880417, b = -0.7303922772407532\n",
      "Epoch 18: Loss = 58.90168380737305, w = 0.1867760717868805, b = -0.7303919196128845\n",
      "Epoch 19: Loss = 58.90169906616211, w = 0.1867760717868805, b = -0.7303915619850159\n"
     ]
    }
   ],
   "source": [
    "# Hyperparameters\n",
    "learning_rate = 0.0000001\n",
    "epochs = 20\n",
    "\n",
    "# Define optimizer (Gradient Descent)\n",
    "optimizer = optim.SGD(model.parameters(), lr=learning_rate)\n",
    "\n",
    "# Training loop\n",
    "for epoch in range(epochs):\n",
    "    # Forward pass\n",
    "    y_pred = model(house_size)\n",
    "    loss = mse(y_pred, house_price)\n",
    "\n",
    "    # Zero gradients (important!)\n",
    "    optimizer.zero_grad()\n",
    "\n",
    "    # Backward pass\n",
    "    loss.backward()\n",
    "\n",
    "    # Update parameters\n",
    "    optimizer.step()\n",
    "\n",
    "    # Print progress every 1000 epochs\n",
    "    if epoch % 1 == 0:\n",
    "        print(f\"Epoch {epoch}: Loss = {loss.item()}, w = {model.w.item()}, b = {model.b.item()}\")"
   ]
  },
  {
   "cell_type": "markdown",
   "metadata": {},
   "source": [
    "## **7️⃣ Visualize the Final Regression Line**  \n",
    "\n",
    "Now that the model has been trained, plot the results to visualize the learned regression line.  \n",
    "\n",
    "1. Use `plt.scatter()` to plot the original **house sizes** against **house prices** as blue points.  \n",
    "2. Compute predictions using `model(house_size).detach().numpy()`.  \n",
    "3. Use `plt.plot()` to draw the regression line in **red**.  \n",
    "4. Label the axes and add a title to the plot.  "
   ]
  },
  {
   "cell_type": "code",
   "execution_count": 12,
   "metadata": {},
   "outputs": [
    {
     "data": {
      "image/png": "[encoded data removed]",
      "text/plain": [
       "<Figure size 640x480 with 1 Axes>"
      ]
     },
     "metadata": {},
     "output_type": "display_data"
    }
   ],
   "source": [
    "# Plot original data points\n",
    "plt.scatter(house_size.numpy(), house_price.numpy(), label=\"Actual Data\", color='blue')\n",
    "\n",
    "# Plot regression line\n",
    "predicted_prices = model(house_size).detach().numpy()\n",
    "plt.plot(house_size.numpy(), predicted_prices, label=\"Predicted Line\", color='red')\n",
    "\n",
    "plt.xlabel(\"House Size (sq ft)\")\n",
    "plt.ylabel(\"Price ($1000s)\")\n",
    "plt.title(\"Linear Regression with Gradient Descent (PyTorch)\")\n",
    "plt.legend()\n",
    "plt.show()"
   ]
  },
  {
   "cell_type": "markdown",
   "metadata": {},
   "source": [
    "## **8️⃣ Adam vs. SGD**  \n",
    "We've extensively described the many benefits of Adam of SGD in the lecture, time to compare them in practice.\n",
    "Generate some training data and train the model using both methods.\n",
    "Plot the evolution of the loss for both methods.\n"
   ]
  },
  {
   "cell_type": "code",
   "execution_count": 13,
   "metadata": {},
   "outputs": [],
   "source": [
    "import torch\n",
    "import torch.nn as nn\n",
    "import torch.optim as optim\n",
    "import matplotlib.pyplot as plt\n",
    "\n",
    "# Generate synthetic data\n",
    "torch.manual_seed(42)\n",
    "X = torch.randn(1000, 1)  # 100 samples, 1 feature\n",
    "y = 3 * X + 2 + 0.2 * torch.randn(1000, 1)  # Linear function with noise\n",
    "\n",
    "# Create two models (one for each optimizer)\n",
    "model_adam = LinearRegressionModel()\n",
    "model_sgd = LinearRegressionModel()\n",
    "\n",
    "# Define loss function (Mean Squared Error)\n",
    "criterion = nn.MSELoss()\n",
    "\n",
    "# Define two optimizers\n",
    "optimizer_adam = optim.Adam(model_adam.parameters(), lr=learning_rate)\n",
    "optimizer_sgd = optim.SGD(model_sgd.parameters(), lr=learning_rate)\n",
    "\n",
    "# Training settings\n",
    "epochs = 10\n",
    "loss_adam, loss_sgd = [], []\n",
    "\n",
    "# Training loop\n",
    "for epoch in range(epochs):\n",
    "    # -------- Train with Adam --------\n",
    "    optimizer_adam.zero_grad()\n",
    "    y_pred_adam = model_adam(house_size)\n",
    "    loss_a = criterion(y_pred_adam, house_price)\n",
    "    loss_a.backward()\n",
    "    optimizer_adam.step()\n",
    "    loss_adam.append(loss_a.item())\n",
    "\n",
    "    # -------- Train with SGD --------\n",
    "    optimizer_sgd.zero_grad()\n",
    "    y_pred_sgd = model_sgd(house_size)\n",
    "    loss_s = criterion(y_pred_sgd, house_price)\n",
    "    loss_s.backward()\n",
    "    optimizer_sgd.step()\n",
    "    loss_sgd.append(loss_s.item())"
   ]
  },
  {
   "cell_type": "code",
   "execution_count": 14,
   "metadata": {},
   "outputs": [
    {
     "data": {
      "image/png": "[encoded data removed]",
      "text/plain": [
       "<Figure size 640x480 with 1 Axes>"
      ]
     },
     "metadata": {},
     "output_type": "display_data"
    }
   ],
   "source": [
    "# Plot the loss curves\n",
    "plt.plot(loss_adam, label=\"Adam\", linestyle=\"--\", color=\"blue\")\n",
    "plt.plot(loss_sgd, label=\"SGD\", linestyle=\"-\", color=\"red\")\n",
    "plt.xlabel(\"Epoch\")\n",
    "plt.ylabel(\"Loss\")\n",
    "plt.title(\"Adam vs. SGD Convergence\")\n",
    "plt.legend()\n",
    "plt.show()"
   ]
  },
  {
   "cell_type": "markdown",
   "metadata": {},
   "source": [
    "We notice for this very simple exercise that ADAM delivers much faster convergence of the loss function."
   ]
  },
  {
   "cell_type": "markdown",
   "metadata": {},
   "source": [
    "## **Conclusion 🎯**  \n",
    "\n",
    "Using **gradient descent and PyTorch's `autograd`**, we successfully trained a **linear regression model** to predict house prices based on size. The **automatic differentiation** feature of PyTorch made computing gradients straightforward, avoiding the need for manual gradient calculations.  \n",
    "\n",
    "**Key Takeaways:**  \n",
    "✅ We used **PyTorch’s `autograd`** to compute gradients automatically.  \n",
    "✅ The model parameters (\\(w, b\\)) were updated iteratively using **gradient descent**.  \n",
    "✅ The **loss function (MSE)** decreased over time, improving the model's accuracy.  \n",
    "✅ The trained model provides a **linear estimate of house prices**, which can be used for **real estate predictions**.  \n",
    "✅ We usually use Adam over SGD in practice because it's much faster (we'll explore further this comparison over the next classes)\n",
    "\n",
    "This is the **foundation** of how **deep learning models learn**—by **iteratively optimizing** a loss function using **gradient descent**! 🚀"
   ]
  }
 ],
 "metadata": {
  "kernelspec": {
   "display_name": "pytorch",
   "language": "python",
   "name": "python3"
  },
  "language_info": {
   "codemirror_mode": {
    "name": "ipython",
    "version": 3
   },
   "file_extension": ".py",
   "mimetype": "text/x-python",
   "name": "python",
   "nbconvert_exporter": "python",
   "pygments_lexer": "ipython3",
   "version": "3.10.16"
  }
 },
 "nbformat": 4,
 "nbformat_minor": 2
}
