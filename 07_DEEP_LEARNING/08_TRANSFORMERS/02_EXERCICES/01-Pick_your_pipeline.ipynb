{
 "cells": [
  {
   "cell_type": "markdown",
   "metadata": {},
   "source": [
    "# Pick your pipeline 👩🏽‍🔧\n",
    "\n",
    "This series of short exercises will introduce datasets connected to various NLP problems, your goal will be to identify the right pipeline to tackle the problem, analyse, and criticize your results.\n",
    "\n"
   ]
  },
  {
   "cell_type": "markdown",
   "metadata": {},
   "source": [
    "# 🚀 Sentiment Analysis on Financial Tweets with Transformers 💸🐦\n",
    "\n",
    "Welcome to this hands-on exercise where we explore the **Twitter Financial News** dataset! 🤓 Let's dive into the world of finance, NLP, and transformers! ⚡️\n",
    "\n"
   ]
  },
  {
   "cell_type": "markdown",
   "metadata": {},
   "source": [
    "## 📥 1. Load the Dataset with 🤗 Hugging Face Datasets\n",
    "\n",
    "First things first, let's load the dataset using `datasets` from Hugging Face. \n",
    "Use the [documentation](https://huggingface.co/datasets/zeroshot/twitter-financial-news-sentiment) to load the data with pandas.\n",
    "\n"
   ]
  },
  {
   "cell_type": "code",
   "execution_count": 36,
   "metadata": {},
   "outputs": [],
   "source": [
    "from datasets import load_dataset\n",
    "import tqdm as notebook_tqdm\n",
    "\n",
    "import pandas as pd\n",
    "\n",
    "splits = {'train': 'sent_train.csv', 'validation': 'sent_valid.csv'}\n",
    "df = pd.read_csv(\"hf://datasets/zeroshot/twitter-financial-news-sentiment/\" + splits[\"train\"])"
   ]
  },
  {
   "cell_type": "code",
   "execution_count": 37,
   "metadata": {},
   "outputs": [
    {
     "data": {
      "text/html": [
       "<div>\n",
       "<style scoped>\n",
       "    .dataframe tbody tr th:only-of-type {\n",
       "        vertical-align: middle;\n",
       "    }\n",
       "\n",
       "    .dataframe tbody tr th {\n",
       "        vertical-align: top;\n",
       "    }\n",
       "\n",
       "    .dataframe thead th {\n",
       "        text-align: right;\n",
       "    }\n",
       "</style>\n",
       "<table border=\"1\" class=\"dataframe\">\n",
       "  <thead>\n",
       "    <tr style=\"text-align: right;\">\n",
       "      <th></th>\n",
       "      <th>text</th>\n",
       "      <th>label</th>\n",
       "    </tr>\n",
       "  </thead>\n",
       "  <tbody>\n",
       "    <tr>\n",
       "      <th>0</th>\n",
       "      <td>$BYND - JPMorgan reels in expectations on Beyo...</td>\n",
       "      <td>0</td>\n",
       "    </tr>\n",
       "    <tr>\n",
       "      <th>1</th>\n",
       "      <td>$CCL $RCL - Nomura points to bookings weakness...</td>\n",
       "      <td>0</td>\n",
       "    </tr>\n",
       "    <tr>\n",
       "      <th>2</th>\n",
       "      <td>$CX - Cemex cut at Credit Suisse, J.P. Morgan ...</td>\n",
       "      <td>0</td>\n",
       "    </tr>\n",
       "    <tr>\n",
       "      <th>3</th>\n",
       "      <td>$ESS: BTIG Research cuts to Neutral https://t....</td>\n",
       "      <td>0</td>\n",
       "    </tr>\n",
       "    <tr>\n",
       "      <th>4</th>\n",
       "      <td>$FNKO - Funko slides after Piper Jaffray PT cu...</td>\n",
       "      <td>0</td>\n",
       "    </tr>\n",
       "  </tbody>\n",
       "</table>\n",
       "</div>"
      ],
      "text/plain": [
       "                                                text  label\n",
       "0  $BYND - JPMorgan reels in expectations on Beyo...      0\n",
       "1  $CCL $RCL - Nomura points to bookings weakness...      0\n",
       "2  $CX - Cemex cut at Credit Suisse, J.P. Morgan ...      0\n",
       "3  $ESS: BTIG Research cuts to Neutral https://t....      0\n",
       "4  $FNKO - Funko slides after Piper Jaffray PT cu...      0"
      ]
     },
     "execution_count": 37,
     "metadata": {},
     "output_type": "execute_result"
    }
   ],
   "source": [
    "# visualize the first few rows of data\n",
    "df.head()"
   ]
  },
  {
   "cell_type": "markdown",
   "metadata": {},
   "source": [
    "## 🔍 2. What Are the Labels? 🏷️\n",
    "\n",
    "Once the dataset is loaded, let’s explore what labels are used to annotate the tweets:\n"
   ]
  },
  {
   "cell_type": "code",
   "execution_count": 38,
   "metadata": {},
   "outputs": [
    {
     "data": {
      "text/plain": [
       "label\n",
       "2    6178\n",
       "1    1923\n",
       "0    1442\n",
       "Name: count, dtype: int64"
      ]
     },
     "execution_count": 38,
     "metadata": {},
     "output_type": "execute_result"
    }
   ],
   "source": [
    "# print out the label distribution\n",
    "df[\"label\"].value_counts()"
   ]
  },
  {
   "cell_type": "markdown",
   "metadata": {},
   "source": [
    "These labels reflect how the tweet might influence a financial decision 📈📉\n",
    "\n",
    "```python\n",
    "sentiments = {\n",
    "    \"LABEL_0\": \"Bearish\", \n",
    "    \"LABEL_1\": \"Bullish\", \n",
    "    \"LABEL_2\": \"Neutral\"\n",
    "}\n",
    "```\n",
    "\n",
    "If you are not familiar with this terminology, make a quick search before coming back to the exercise. Your goal is to come back with a clear idea of how these labels could relate to your models' predictions.\n"
   ]
  },
  {
   "cell_type": "markdown",
   "metadata": {},
   "source": [
    "Let's create a new column called `label_text` where the more positive label is replaced with `POSITIVE`, the more negative label with `NEGATIVE`, and the othe one with `NEUTRAL`."
   ]
  },
  {
   "cell_type": "code",
   "execution_count": null,
   "metadata": {},
   "outputs": [
    {
     "data": {
      "text/html": [
       "<div>\n",
       "<style scoped>\n",
       "    .dataframe tbody tr th:only-of-type {\n",
       "        vertical-align: middle;\n",
       "    }\n",
       "\n",
       "    .dataframe tbody tr th {\n",
       "        vertical-align: top;\n",
       "    }\n",
       "\n",
       "    .dataframe thead th {\n",
       "        text-align: right;\n",
       "    }\n",
       "</style>\n",
       "<table border=\"1\" class=\"dataframe\">\n",
       "  <thead>\n",
       "    <tr style=\"text-align: right;\">\n",
       "      <th></th>\n",
       "      <th>text</th>\n",
       "      <th>label</th>\n",
       "      <th>label_text</th>\n",
       "    </tr>\n",
       "  </thead>\n",
       "  <tbody>\n",
       "    <tr>\n",
       "      <th>0</th>\n",
       "      <td>$BYND - JPMorgan reels in expectations on Beyo...</td>\n",
       "      <td>0</td>\n",
       "      <td>NEGATIVE</td>\n",
       "    </tr>\n",
       "    <tr>\n",
       "      <th>1</th>\n",
       "      <td>$CCL $RCL - Nomura points to bookings weakness...</td>\n",
       "      <td>0</td>\n",
       "      <td>NEGATIVE</td>\n",
       "    </tr>\n",
       "    <tr>\n",
       "      <th>2</th>\n",
       "      <td>$CX - Cemex cut at Credit Suisse, J.P. Morgan ...</td>\n",
       "      <td>0</td>\n",
       "      <td>NEGATIVE</td>\n",
       "    </tr>\n",
       "    <tr>\n",
       "      <th>3</th>\n",
       "      <td>$ESS: BTIG Research cuts to Neutral https://t....</td>\n",
       "      <td>0</td>\n",
       "      <td>NEGATIVE</td>\n",
       "    </tr>\n",
       "    <tr>\n",
       "      <th>4</th>\n",
       "      <td>$FNKO - Funko slides after Piper Jaffray PT cu...</td>\n",
       "      <td>0</td>\n",
       "      <td>NEGATIVE</td>\n",
       "    </tr>\n",
       "  </tbody>\n",
       "</table>\n",
       "</div>"
      ],
      "text/plain": [
       "                                                text  label label_text\n",
       "0  $BYND - JPMorgan reels in expectations on Beyo...      0   NEGATIVE\n",
       "1  $CCL $RCL - Nomura points to bookings weakness...      0   NEGATIVE\n",
       "2  $CX - Cemex cut at Credit Suisse, J.P. Morgan ...      0   NEGATIVE\n",
       "3  $ESS: BTIG Research cuts to Neutral https://t....      0   NEGATIVE\n",
       "4  $FNKO - Funko slides after Piper Jaffray PT cu...      0   NEGATIVE"
      ]
     },
     "execution_count": 39,
     "metadata": {},
     "output_type": "execute_result"
    }
   ],
   "source": [
    "sentiments = {\n",
    "    \"0\": \"NEGATIVE\", \n",
    "    \"1\": \"POSITIVE\", \n",
    "    \"2\": \"NEUTRAL\"\n",
    "}\n",
    "\n",
    "# associate each numbered label with a text label\n",
    "df[\"label_text\"] = df[\"label\"].apply(lambda x: sentiments[str(x)])\n",
    "df.head()"
   ]
  },
  {
   "cell_type": "markdown",
   "metadata": {},
   "source": [
    "## 🤖 3. Use Transformers to Make Predictions! 🔮\n",
    "\n",
    "Let’s bring in the magic of the `transformers` library! Choose the apporiate pipeline to create predictions for this dataset.\n",
    "\n",
    "\n"
   ]
  },
  {
   "cell_type": "code",
   "execution_count": 40,
   "metadata": {},
   "outputs": [
    {
     "name": "stderr",
     "output_type": "stream",
     "text": [
      "No model was supplied, defaulted to distilbert/distilbert-base-uncased-finetuned-sst-2-english and revision 714eb0f (https://huggingface.co/distilbert/distilbert-base-uncased-finetuned-sst-2-english).\n",
      "Using a pipeline without specifying a model name and revision in production is not recommended.\n",
      "Device set to use mps:0\n"
     ]
    }
   ],
   "source": [
    "from transformers import pipeline\n",
    "\n",
    "# use the right pipeline to make predictions on the dataset\n",
    "classifier = pipeline(\"sentiment-analysis\")"
   ]
  },
  {
   "cell_type": "markdown",
   "metadata": {},
   "source": [
    "## 📊 4. Compare Predictions to Dataset Labels — Can We Do Better? 🤔\n",
    "\n",
    "Let’s evaluate how well our pipeline’s predictions align with the actual labels:\n",
    "\n"
   ]
  },
  {
   "cell_type": "code",
   "execution_count": 42,
   "metadata": {},
   "outputs": [],
   "source": [
    "predictions = classifier(df[\"text\"].to_list())"
   ]
  },
  {
   "cell_type": "code",
   "execution_count": 43,
   "metadata": {},
   "outputs": [
    {
     "name": "stdout",
     "output_type": "stream",
     "text": [
      "[{'label': 'NEGATIVE', 'score': 0.9941707253456116}, {'label': 'NEGATIVE', 'score': 0.9943950176239014}, {'label': 'NEGATIVE', 'score': 0.9995361566543579}, {'label': 'NEGATIVE', 'score': 0.9997311234474182}, {'label': 'NEGATIVE', 'score': 0.9956093430519104}, {'label': 'NEGATIVE', 'score': 0.8739936947822571}, {'label': 'NEGATIVE', 'score': 0.9997133612632751}, {'label': 'NEGATIVE', 'score': 0.9991508722305298}, {'label': 'NEGATIVE', 'score': 0.9993239641189575}, {'label': 'NEGATIVE', 'score': 0.9984560012817383}, {'label': 'NEGATIVE', 'score': 0.9974965453147888}, {'label': 'NEGATIVE', 'score': 0.9977843165397644}, {'label': 'NEGATIVE', 'score': 0.9973112344741821}, {'label': 'NEGATIVE', 'score': 0.9993927478790283}, {'label': 'NEGATIVE', 'score': 0.9992534518241882}, {'label': 'NEGATIVE', 'score': 0.9990935325622559}, {'label': 'NEGATIVE', 'score': 0.9976300001144409}, {'label': 'NEGATIVE', 'score': 0.9971024394035339}, {'label': 'NEGATIVE', 'score': 0.9994408488273621}, {'label': 'NEGATIVE', 'score': 0.9718211889266968}, {'label': 'NEGATIVE', 'score': 0.9988583326339722}, {'label': 'NEGATIVE', 'score': 0.9960144758224487}, {'label': 'NEGATIVE', 'score': 0.9997640252113342}, {'label': 'NEGATIVE', 'score': 0.9997867941856384}, {'label': 'NEGATIVE', 'score': 0.99893718957901}, {'label': 'NEGATIVE', 'score': 0.9977937936782837}, {'label': 'NEGATIVE', 'score': 0.9992075562477112}, {'label': 'NEGATIVE', 'score': 0.9979046583175659}, {'label': 'NEGATIVE', 'score': 0.9987081289291382}, {'label': 'NEGATIVE', 'score': 0.9985918402671814}, {'label': 'NEGATIVE', 'score': 0.9992161989212036}, {'label': 'NEGATIVE', 'score': 0.9919608235359192}, {'label': 'NEGATIVE', 'score': 0.9995923638343811}, {'label': 'NEGATIVE', 'score': 0.9929121136665344}, {'label': 'NEGATIVE', 'score': 0.9988105297088623}, {'label': 'NEGATIVE', 'score': 0.9958502054214478}, {'label': 'NEGATIVE', 'score': 0.9994989633560181}, {'label': 'NEGATIVE', 'score': 0.9997156262397766}, {'label': 'NEGATIVE', 'score': 0.9997469782829285}, {'label': 'NEGATIVE', 'score': 0.9966149926185608}, {'label': 'NEGATIVE', 'score': 0.9994589686393738}, {'label': 'NEGATIVE', 'score': 0.9940206408500671}, {'label': 'POSITIVE', 'score': 0.9994674324989319}, {'label': 'NEGATIVE', 'score': 0.9945946335792542}, {'label': 'NEGATIVE', 'score': 0.9983030557632446}, {'label': 'NEGATIVE', 'score': 0.9991317391395569}, {'label': 'NEGATIVE', 'score': 0.9982865452766418}, {'label': 'NEGATIVE', 'score': 0.9974586367607117}, {'label': 'NEGATIVE', 'score': 0.9963275790214539}, {'label': 'NEGATIVE', 'score': 0.9981397390365601}, {'label': 'NEGATIVE', 'score': 0.9964637160301208}, {'label': 'NEGATIVE', 'score': 0.9996403455734253}, {'label': 'NEGATIVE', 'score': 0.9979321956634521}, {'label': 'NEGATIVE', 'score': 0.9996652603149414}, {'label': 'NEGATIVE', 'score': 0.995768666267395}, {'label': 'NEGATIVE', 'score': 0.9956724643707275}, {'label': 'NEGATIVE', 'score': 0.9957147240638733}, {'label': 'NEGATIVE', 'score': 0.9995481371879578}, {'label': 'NEGATIVE', 'score': 0.999319314956665}, {'label': 'NEGATIVE', 'score': 0.9990293979644775}, {'label': 'NEGATIVE', 'score': 0.99899822473526}, {'label': 'NEGATIVE', 'score': 0.6426743268966675}, {'label': 'NEGATIVE', 'score': 0.9786457419395447}, {'label': 'NEGATIVE', 'score': 0.999276340007782}, {'label': 'NEGATIVE', 'score': 0.995280921459198}, {'label': 'NEGATIVE', 'score': 0.9993283748626709}, {'label': 'NEGATIVE', 'score': 0.9974777102470398}, {'label': 'NEGATIVE', 'score': 0.9992127418518066}, {'label': 'NEGATIVE', 'score': 0.997103750705719}, {'label': 'NEGATIVE', 'score': 0.9942704439163208}, {'label': 'POSITIVE', 'score': 0.996273398399353}, {'label': 'NEGATIVE', 'score': 0.9991069436073303}, {'label': 'NEGATIVE', 'score': 0.9961225390434265}, {'label': 'NEGATIVE', 'score': 0.9869311451911926}, {'label': 'NEGATIVE', 'score': 0.9953948855400085}, {'label': 'NEGATIVE', 'score': 0.9976682066917419}, {'label': 'NEGATIVE', 'score': 0.9995902180671692}, {'label': 'NEGATIVE', 'score': 0.9994951486587524}, {'label': 'NEGATIVE', 'score': 0.9974695444107056}, {'label': 'NEGATIVE', 'score': 0.9942041039466858}, {'label': 'NEGATIVE', 'score': 0.995171844959259}, {'label': 'NEGATIVE', 'score': 0.9959725737571716}, {'label': 'NEGATIVE', 'score': 0.9979787468910217}, {'label': 'NEGATIVE', 'score': 0.9948912858963013}, {'label': 'NEGATIVE', 'score': 0.9991546869277954}, {'label': 'NEGATIVE', 'score': 0.9966508746147156}, {'label': 'NEGATIVE', 'score': 0.9992523789405823}, {'label': 'NEGATIVE', 'score': 0.8609129190444946}, {'label': 'NEGATIVE', 'score': 0.9976751208305359}, {'label': 'NEGATIVE', 'score': 0.9957301020622253}, {'label': 'NEGATIVE', 'score': 0.9962911605834961}, {'label': 'NEGATIVE', 'score': 0.995355486869812}, {'label': 'NEGATIVE', 'score': 0.9983172416687012}, {'label': 'NEGATIVE', 'score': 0.9995720982551575}, {'label': 'NEGATIVE', 'score': 0.8937307000160217}, {'label': 'NEGATIVE', 'score': 0.9888955354690552}, {'label': 'NEGATIVE', 'score': 0.9991391897201538}, {'label': 'NEGATIVE', 'score': 0.9994091987609863}, {'label': 'NEGATIVE', 'score': 0.9970190525054932}, {'label': 'NEGATIVE', 'score': 0.999058187007904}, {'label': 'NEGATIVE', 'score': 0.9948800802230835}, {'label': 'NEGATIVE', 'score': 0.9813282489776611}, {'label': 'NEGATIVE', 'score': 0.9991675615310669}, {'label': 'NEGATIVE', 'score': 0.9990068078041077}, {'label': 'NEGATIVE', 'score': 0.9993158578872681}, {'label': 'NEGATIVE', 'score': 0.9985837936401367}, {'label': 'NEGATIVE', 'score': 0.9939802885055542}, {'label': 'NEGATIVE', 'score': 0.9997357726097107}, {'label': 'NEGATIVE', 'score': 0.9991289973258972}, {'label': 'NEGATIVE', 'score': 0.9705345034599304}, {'label': 'NEGATIVE', 'score': 0.9981277585029602}, {'label': 'NEGATIVE', 'score': 0.9995143413543701}, {'label': 'NEGATIVE', 'score': 0.8975929021835327}, {'label': 'NEGATIVE', 'score': 0.9990972280502319}, {'label': 'NEGATIVE', 'score': 0.9995964169502258}, {'label': 'NEGATIVE', 'score': 0.9953048229217529}, {'label': 'NEGATIVE', 'score': 0.9979240894317627}, {'label': 'NEGATIVE', 'score': 0.9989053010940552}, {'label': 'NEGATIVE', 'score': 0.9996405839920044}, {'label': 'NEGATIVE', 'score': 0.9892703294754028}, {'label': 'NEGATIVE', 'score': 0.9772942066192627}, {'label': 'NEGATIVE', 'score': 0.9975994229316711}, {'label': 'NEGATIVE', 'score': 0.9988895058631897}, {'label': 'NEGATIVE', 'score': 0.9990708827972412}, {'label': 'NEGATIVE', 'score': 0.9952750205993652}, {'label': 'NEGATIVE', 'score': 0.9945359230041504}, {'label': 'NEGATIVE', 'score': 0.9385687112808228}, {'label': 'POSITIVE', 'score': 0.9890174865722656}, {'label': 'NEGATIVE', 'score': 0.9862237572669983}, {'label': 'NEGATIVE', 'score': 0.9365081787109375}, {'label': 'NEGATIVE', 'score': 0.8085838556289673}, {'label': 'POSITIVE', 'score': 0.9903067350387573}, {'label': 'POSITIVE', 'score': 0.9909664392471313}, {'label': 'NEGATIVE', 'score': 0.9787799119949341}, {'label': 'NEGATIVE', 'score': 0.9983212351799011}, {'label': 'NEGATIVE', 'score': 0.9609137773513794}, {'label': 'NEGATIVE', 'score': 0.99928218126297}, {'label': 'NEGATIVE', 'score': 0.9989522695541382}, {'label': 'NEGATIVE', 'score': 0.9995667338371277}, {'label': 'NEGATIVE', 'score': 0.9888266324996948}, {'label': 'NEGATIVE', 'score': 0.9951360821723938}, {'label': 'NEGATIVE', 'score': 0.9969298243522644}, {'label': 'NEGATIVE', 'score': 0.9984081387519836}, {'label': 'NEGATIVE', 'score': 0.992133378982544}, {'label': 'POSITIVE', 'score': 0.9609709978103638}, {'label': 'NEGATIVE', 'score': 0.9790713787078857}, {'label': 'NEGATIVE', 'score': 0.9994664788246155}, {'label': 'NEGATIVE', 'score': 0.9948970675468445}, {'label': 'NEGATIVE', 'score': 0.9819024801254272}, {'label': 'NEGATIVE', 'score': 0.9559697508811951}, {'label': 'NEGATIVE', 'score': 0.9961628913879395}, {'label': 'NEGATIVE', 'score': 0.96564120054245}, {'label': 'NEGATIVE', 'score': 0.9960314631462097}, {'label': 'NEGATIVE', 'score': 0.9957094192504883}, {'label': 'NEGATIVE', 'score': 0.9971990585327148}, {'label': 'POSITIVE', 'score': 0.8952531814575195}, {'label': 'NEGATIVE', 'score': 0.9986771941184998}, {'label': 'NEGATIVE', 'score': 0.9490804672241211}, {'label': 'NEGATIVE', 'score': 0.9931529760360718}, {'label': 'NEGATIVE', 'score': 0.9890572428703308}, {'label': 'NEGATIVE', 'score': 0.9666085839271545}, {'label': 'NEGATIVE', 'score': 0.9676730632781982}, {'label': 'NEGATIVE', 'score': 0.9045432209968567}, {'label': 'NEGATIVE', 'score': 0.9817067980766296}, {'label': 'NEGATIVE', 'score': 0.9963734745979309}, {'label': 'NEGATIVE', 'score': 0.9971476197242737}, {'label': 'POSITIVE', 'score': 0.7272385358810425}, {'label': 'NEGATIVE', 'score': 0.9734470844268799}, {'label': 'NEGATIVE', 'score': 0.989033579826355}, {'label': 'NEGATIVE', 'score': 0.9882253408432007}, {'label': 'NEGATIVE', 'score': 0.9952151775360107}, {'label': 'NEGATIVE', 'score': 0.987578809261322}, {'label': 'NEGATIVE', 'score': 0.9942609071731567}, {'label': 'POSITIVE', 'score': 0.6952575445175171}, {'label': 'POSITIVE', 'score': 0.9862209558486938}, {'label': 'NEGATIVE', 'score': 0.9982995390892029}, {'label': 'POSITIVE', 'score': 0.9981368780136108}, {'label': 'NEGATIVE', 'score': 0.9918608069419861}, {'label': 'NEGATIVE', 'score': 0.9881630539894104}, {'label': 'NEGATIVE', 'score': 0.9842711091041565}, {'label': 'NEGATIVE', 'score': 0.9975161552429199}, {'label': 'NEGATIVE', 'score': 0.9829232692718506}, {'label': 'NEGATIVE', 'score': 0.9953224062919617}, {'label': 'NEGATIVE', 'score': 0.9992830157279968}, {'label': 'NEGATIVE', 'score': 0.9925181865692139}, {'label': 'NEGATIVE', 'score': 0.6076951622962952}, {'label': 'NEGATIVE', 'score': 0.9873977303504944}, {'label': 'NEGATIVE', 'score': 0.8730549812316895}, {'label': 'NEGATIVE', 'score': 0.7503263354301453}, {'label': 'NEGATIVE', 'score': 0.8881409168243408}, {'label': 'NEGATIVE', 'score': 0.986420214176178}, {'label': 'NEGATIVE', 'score': 0.9834526181221008}, {'label': 'POSITIVE', 'score': 0.9920434355735779}, {'label': 'NEGATIVE', 'score': 0.9990837574005127}, {'label': 'NEGATIVE', 'score': 0.9873678088188171}, {'label': 'NEGATIVE', 'score': 0.9941704273223877}, {'label': 'POSITIVE', 'score': 0.5433504581451416}, {'label': 'NEGATIVE', 'score': 0.9990345239639282}, {'label': 'NEGATIVE', 'score': 0.8972753882408142}, {'label': 'NEGATIVE', 'score': 0.9888098835945129}, {'label': 'NEGATIVE', 'score': 0.9914645552635193}, {'label': 'NEGATIVE', 'score': 0.9913011193275452}, {'label': 'NEGATIVE', 'score': 0.9913101196289062}, {'label': 'NEGATIVE', 'score': 0.9647400975227356}, {'label': 'NEGATIVE', 'score': 0.8481175899505615}, {'label': 'NEGATIVE', 'score': 0.9989209175109863}, {'label': 'POSITIVE', 'score': 0.9934657216072083}, {'label': 'NEGATIVE', 'score': 0.9747534394264221}, {'label': 'NEGATIVE', 'score': 0.9934582114219666}, {'label': 'NEGATIVE', 'score': 0.9863651990890503}, {'label': 'NEGATIVE', 'score': 0.974193274974823}, {'label': 'NEGATIVE', 'score': 0.9948968291282654}, {'label': 'NEGATIVE', 'score': 0.9945291876792908}, {'label': 'NEGATIVE', 'score': 0.9627392292022705}, {'label': 'NEGATIVE', 'score': 0.9962745904922485}, {'label': 'POSITIVE', 'score': 0.9994636178016663}, {'label': 'NEGATIVE', 'score': 0.9721152186393738}, {'label': 'NEGATIVE', 'score': 0.9951576590538025}, {'label': 'NEGATIVE', 'score': 0.988872230052948}, {'label': 'NEGATIVE', 'score': 0.9805347323417664}, {'label': 'NEGATIVE', 'score': 0.9914980530738831}, {'label': 'NEGATIVE', 'score': 0.9819077849388123}, {'label': 'NEGATIVE', 'score': 0.6459278464317322}, {'label': 'NEGATIVE', 'score': 0.9918872714042664}, {'label': 'NEGATIVE', 'score': 0.9977328777313232}, {'label': 'NEGATIVE', 'score': 0.5719277262687683}, {'label': 'NEGATIVE', 'score': 0.9834272861480713}, {'label': 'POSITIVE', 'score': 0.9591356515884399}, {'label': 'NEGATIVE', 'score': 0.9938830137252808}, {'label': 'NEGATIVE', 'score': 0.9974963068962097}, {'label': 'NEGATIVE', 'score': 0.9965470433235168}, {'label': 'NEGATIVE', 'score': 0.9974937438964844}, {'label': 'NEGATIVE', 'score': 0.9948200583457947}, {'label': 'NEGATIVE', 'score': 0.9922882914543152}, {'label': 'NEGATIVE', 'score': 0.6632897257804871}, {'label': 'NEGATIVE', 'score': 0.992749035358429}, {'label': 'NEGATIVE', 'score': 0.9923190474510193}, {'label': 'NEGATIVE', 'score': 0.9521633982658386}, {'label': 'POSITIVE', 'score': 0.9294117093086243}, {'label': 'NEGATIVE', 'score': 0.9902868270874023}, {'label': 'NEGATIVE', 'score': 0.9725572466850281}, {'label': 'NEGATIVE', 'score': 0.9914751052856445}, {'label': 'NEGATIVE', 'score': 0.9928517937660217}, {'label': 'POSITIVE', 'score': 0.9990068078041077}, {'label': 'NEGATIVE', 'score': 0.986636221408844}, {'label': 'NEGATIVE', 'score': 0.9951906204223633}, {'label': 'NEGATIVE', 'score': 0.8929898142814636}, {'label': 'POSITIVE', 'score': 0.998150646686554}, {'label': 'NEGATIVE', 'score': 0.9988021850585938}, {'label': 'NEGATIVE', 'score': 0.9948963522911072}, {'label': 'NEGATIVE', 'score': 0.9957315325737}, {'label': 'POSITIVE', 'score': 0.9980915188789368}, {'label': 'NEGATIVE', 'score': 0.9959937334060669}, {'label': 'NEGATIVE', 'score': 0.9856615662574768}, {'label': 'NEGATIVE', 'score': 0.9924693703651428}, {'label': 'NEGATIVE', 'score': 0.9877622127532959}, {'label': 'NEGATIVE', 'score': 0.9889383316040039}, {'label': 'NEGATIVE', 'score': 0.9951606392860413}, {'label': 'NEGATIVE', 'score': 0.9925543665885925}, {'label': 'NEGATIVE', 'score': 0.9551270008087158}, {'label': 'NEGATIVE', 'score': 0.9930195212364197}, {'label': 'NEGATIVE', 'score': 0.9932937622070312}, {'label': 'NEGATIVE', 'score': 0.9663628935813904}, {'label': 'NEGATIVE', 'score': 0.9016093611717224}, {'label': 'NEGATIVE', 'score': 0.9912369251251221}, {'label': 'NEGATIVE', 'score': 0.9931568503379822}, {'label': 'NEGATIVE', 'score': 0.9798073768615723}, {'label': 'NEGATIVE', 'score': 0.985211968421936}, {'label': 'NEGATIVE', 'score': 0.9734100103378296}, {'label': 'NEGATIVE', 'score': 0.9874978065490723}, {'label': 'NEGATIVE', 'score': 0.9955944418907166}, {'label': 'POSITIVE', 'score': 0.7175288200378418}, {'label': 'NEGATIVE', 'score': 0.9932505488395691}, {'label': 'NEGATIVE', 'score': 0.9988538026809692}, {'label': 'NEGATIVE', 'score': 0.9715397953987122}, {'label': 'NEGATIVE', 'score': 0.9946563243865967}, {'label': 'NEGATIVE', 'score': 0.8236654996871948}, {'label': 'NEGATIVE', 'score': 0.9881489872932434}, {'label': 'NEGATIVE', 'score': 0.9960318207740784}, {'label': 'POSITIVE', 'score': 0.9892615079879761}, {'label': 'NEGATIVE', 'score': 0.9339747428894043}, {'label': 'NEGATIVE', 'score': 0.8449146151542664}, {'label': 'NEGATIVE', 'score': 0.9913966059684753}, {'label': 'POSITIVE', 'score': 0.9964720010757446}, {'label': 'NEGATIVE', 'score': 0.9950062036514282}, {'label': 'NEGATIVE', 'score': 0.9747204780578613}, {'label': 'NEGATIVE', 'score': 0.9115797281265259}, {'label': 'NEGATIVE', 'score': 0.988491415977478}, {'label': 'NEGATIVE', 'score': 0.9897650480270386}, {'label': 'NEGATIVE', 'score': 0.9777031540870667}, {'label': 'NEGATIVE', 'score': 0.9752688407897949}, {'label': 'POSITIVE', 'score': 0.9996058344841003}, {'label': 'NEGATIVE', 'score': 0.9950637221336365}, {'label': 'NEGATIVE', 'score': 0.9945032596588135}, {'label': 'NEGATIVE', 'score': 0.9964183568954468}, {'label': 'NEGATIVE', 'score': 0.9722608327865601}, {'label': 'NEGATIVE', 'score': 0.8428231477737427}, {'label': 'NEGATIVE', 'score': 0.9303372502326965}, {'label': 'POSITIVE', 'score': 0.9967897534370422}, {'label': 'NEGATIVE', 'score': 0.9973082542419434}, {'label': 'NEGATIVE', 'score': 0.9260872006416321}, {'label': 'POSITIVE', 'score': 0.9032389521598816}, {'label': 'POSITIVE', 'score': 0.9018499851226807}, {'label': 'POSITIVE', 'score': 0.5790320634841919}, {'label': 'NEGATIVE', 'score': 0.9956276416778564}, {'label': 'POSITIVE', 'score': 0.9055212736129761}, {'label': 'NEGATIVE', 'score': 0.9967626333236694}, {'label': 'NEGATIVE', 'score': 0.7697775959968567}, {'label': 'POSITIVE', 'score': 0.9540724754333496}, {'label': 'NEGATIVE', 'score': 0.9921257495880127}, {'label': 'NEGATIVE', 'score': 0.9785194993019104}, {'label': 'NEGATIVE', 'score': 0.99196457862854}, {'label': 'NEGATIVE', 'score': 0.9847497940063477}, {'label': 'POSITIVE', 'score': 0.993490993976593}, {'label': 'NEGATIVE', 'score': 0.9556894302368164}, {'label': 'NEGATIVE', 'score': 0.9525978565216064}, {'label': 'NEGATIVE', 'score': 0.9981153011322021}, {'label': 'POSITIVE', 'score': 0.7632575631141663}, {'label': 'NEGATIVE', 'score': 0.9993625283241272}, {'label': 'POSITIVE', 'score': 0.9426406025886536}, {'label': 'NEGATIVE', 'score': 0.9551408886909485}, {'label': 'POSITIVE', 'score': 0.989633321762085}, {'label': 'NEGATIVE', 'score': 0.9882832169532776}, {'label': 'NEGATIVE', 'score': 0.99918133020401}, {'label': 'NEGATIVE', 'score': 0.9941284656524658}, {'label': 'NEGATIVE', 'score': 0.9700908064842224}, {'label': 'NEGATIVE', 'score': 0.9921867847442627}, {'label': 'NEGATIVE', 'score': 0.9911558628082275}, {'label': 'NEGATIVE', 'score': 0.9906656742095947}, {'label': 'NEGATIVE', 'score': 0.9890446662902832}, {'label': 'NEGATIVE', 'score': 0.5483689308166504}, {'label': 'NEGATIVE', 'score': 0.979003369808197}, {'label': 'NEGATIVE', 'score': 0.9784318804740906}, {'label': 'NEGATIVE', 'score': 0.9868685007095337}, {'label': 'NEGATIVE', 'score': 0.9854325652122498}, {'label': 'NEGATIVE', 'score': 0.990464448928833}, {'label': 'NEGATIVE', 'score': 0.9797486662864685}, {'label': 'NEGATIVE', 'score': 0.9591811299324036}, {'label': 'POSITIVE', 'score': 0.8918371796607971}, {'label': 'NEGATIVE', 'score': 0.9985958933830261}, {'label': 'NEGATIVE', 'score': 0.9915341734886169}, {'label': 'NEGATIVE', 'score': 0.9932257533073425}, {'label': 'NEGATIVE', 'score': 0.9940744042396545}, {'label': 'NEGATIVE', 'score': 0.9964691400527954}, {'label': 'NEGATIVE', 'score': 0.9915866851806641}, {'label': 'NEGATIVE', 'score': 0.9995877146720886}, {'label': 'NEGATIVE', 'score': 0.9942589998245239}, {'label': 'NEGATIVE', 'score': 0.988437831401825}, {'label': 'NEGATIVE', 'score': 0.9935415983200073}, {'label': 'NEGATIVE', 'score': 0.9984596967697144}, {'label': 'NEGATIVE', 'score': 0.994616687297821}, {'label': 'NEGATIVE', 'score': 0.9861165881156921}, {'label': 'NEGATIVE', 'score': 0.9952860474586487}, {'label': 'NEGATIVE', 'score': 0.8511813282966614}, {'label': 'NEGATIVE', 'score': 0.9824695587158203}, {'label': 'POSITIVE', 'score': 0.9936031699180603}, {'label': 'NEGATIVE', 'score': 0.9926404356956482}, {'label': 'NEGATIVE', 'score': 0.8854406476020813}, {'label': 'NEGATIVE', 'score': 0.9935518503189087}, {'label': 'NEGATIVE', 'score': 0.9964963793754578}, {'label': 'NEGATIVE', 'score': 0.9513362646102905}, {'label': 'NEGATIVE', 'score': 0.9842842817306519}, {'label': 'NEGATIVE', 'score': 0.989268958568573}, {'label': 'NEGATIVE', 'score': 0.9902129769325256}, {'label': 'NEGATIVE', 'score': 0.9895926713943481}, {'label': 'NEGATIVE', 'score': 0.983993411064148}, {'label': 'NEGATIVE', 'score': 0.9954942464828491}, {'label': 'NEGATIVE', 'score': 0.9973645806312561}, {'label': 'POSITIVE', 'score': 0.9973725080490112}, {'label': 'NEGATIVE', 'score': 0.9820959568023682}, {'label': 'NEGATIVE', 'score': 0.9987659454345703}, {'label': 'NEGATIVE', 'score': 0.9866918921470642}, {'label': 'NEGATIVE', 'score': 0.9967735409736633}, {'label': 'POSITIVE', 'score': 0.9193131327629089}, {'label': 'POSITIVE', 'score': 0.995136559009552}, {'label': 'POSITIVE', 'score': 0.9927894473075867}, {'label': 'POSITIVE', 'score': 0.9790300130844116}, {'label': 'NEGATIVE', 'score': 0.9945940375328064}, {'label': 'NEGATIVE', 'score': 0.998415470123291}, {'label': 'POSITIVE', 'score': 0.998808741569519}, {'label': 'POSITIVE', 'score': 0.9919506311416626}, {'label': 'POSITIVE', 'score': 0.9966607093811035}, {'label': 'NEGATIVE', 'score': 0.9880164265632629}, {'label': 'POSITIVE', 'score': 0.9982655644416809}, {'label': 'NEGATIVE', 'score': 0.9959445595741272}, {'label': 'NEGATIVE', 'score': 0.9897447228431702}, {'label': 'NEGATIVE', 'score': 0.9884189963340759}, {'label': 'NEGATIVE', 'score': 0.9981539845466614}, {'label': 'NEGATIVE', 'score': 0.9835010766983032}, {'label': 'NEGATIVE', 'score': 0.9835098385810852}, {'label': 'NEGATIVE', 'score': 0.994653582572937}, {'label': 'NEGATIVE', 'score': 0.9987537860870361}, {'label': 'POSITIVE', 'score': 0.9994352459907532}, {'label': 'NEGATIVE', 'score': 0.9865891933441162}, {'label': 'NEGATIVE', 'score': 0.9525498151779175}, {'label': 'NEGATIVE', 'score': 0.9894499182701111}, {'label': 'NEGATIVE', 'score': 0.9967004656791687}, {'label': 'NEGATIVE', 'score': 0.9970257878303528}, {'label': 'NEGATIVE', 'score': 0.9992917776107788}, {'label': 'NEGATIVE', 'score': 0.9881147146224976}, {'label': 'NEGATIVE', 'score': 0.9989449381828308}, {'label': 'NEGATIVE', 'score': 0.9968006610870361}, {'label': 'NEGATIVE', 'score': 0.9992079138755798}, {'label': 'NEGATIVE', 'score': 0.9984986782073975}, {'label': 'NEGATIVE', 'score': 0.9910464882850647}, {'label': 'NEGATIVE', 'score': 0.9443785548210144}, {'label': 'NEGATIVE', 'score': 0.9988594055175781}, {'label': 'NEGATIVE', 'score': 0.9877705574035645}, {'label': 'NEGATIVE', 'score': 0.9961355924606323}, {'label': 'NEGATIVE', 'score': 0.9988372921943665}, {'label': 'NEGATIVE', 'score': 0.9986144304275513}, {'label': 'NEGATIVE', 'score': 0.9994445443153381}, {'label': 'NEGATIVE', 'score': 0.9980529546737671}, {'label': 'NEGATIVE', 'score': 0.9994258880615234}, {'label': 'NEGATIVE', 'score': 0.9992293119430542}, {'label': 'NEGATIVE', 'score': 0.9996522665023804}, {'label': 'NEGATIVE', 'score': 0.9958328604698181}, {'label': 'NEGATIVE', 'score': 0.9890165328979492}, {'label': 'NEGATIVE', 'score': 0.9978587031364441}, {'label': 'NEGATIVE', 'score': 0.9851359724998474}, {'label': 'NEGATIVE', 'score': 0.9313501119613647}, {'label': 'NEGATIVE', 'score': 0.9990484118461609}, {'label': 'NEGATIVE', 'score': 0.9990569949150085}, {'label': 'POSITIVE', 'score': 0.959038496017456}, {'label': 'NEGATIVE', 'score': 0.9059141278266907}, {'label': 'POSITIVE', 'score': 0.9844391942024231}, {'label': 'NEGATIVE', 'score': 0.9992440938949585}, {'label': 'NEGATIVE', 'score': 0.9986936450004578}, {'label': 'POSITIVE', 'score': 0.996812641620636}, {'label': 'NEGATIVE', 'score': 0.7099395990371704}, {'label': 'POSITIVE', 'score': 0.9962224960327148}, {'label': 'NEGATIVE', 'score': 0.945094645023346}, {'label': 'NEGATIVE', 'score': 0.9911405444145203}, {'label': 'NEGATIVE', 'score': 0.9980666041374207}, {'label': 'NEGATIVE', 'score': 0.9968652129173279}, {'label': 'NEGATIVE', 'score': 0.9892473816871643}, {'label': 'NEGATIVE', 'score': 0.974951982498169}, {'label': 'POSITIVE', 'score': 0.9757404923439026}, {'label': 'NEGATIVE', 'score': 0.999434769153595}, {'label': 'NEGATIVE', 'score': 0.9299079775810242}, {'label': 'POSITIVE', 'score': 0.9631235003471375}, {'label': 'NEGATIVE', 'score': 0.9938662648200989}, {'label': 'NEGATIVE', 'score': 0.9929478168487549}, {'label': 'NEGATIVE', 'score': 0.9923213124275208}, {'label': 'NEGATIVE', 'score': 0.9886496067047119}, {'label': 'NEGATIVE', 'score': 0.9860339760780334}, {'label': 'POSITIVE', 'score': 0.9891811013221741}, {'label': 'POSITIVE', 'score': 0.8647237420082092}, {'label': 'POSITIVE', 'score': 0.8701546788215637}, {'label': 'NEGATIVE', 'score': 0.994366466999054}, {'label': 'NEGATIVE', 'score': 0.9926482439041138}, {'label': 'POSITIVE', 'score': 0.9510510563850403}, {'label': 'NEGATIVE', 'score': 0.9948915243148804}, {'label': 'NEGATIVE', 'score': 0.9984283447265625}, {'label': 'NEGATIVE', 'score': 0.9984149932861328}, {'label': 'NEGATIVE', 'score': 0.9941889047622681}, {'label': 'NEGATIVE', 'score': 0.9938786625862122}, {'label': 'POSITIVE', 'score': 0.9930098056793213}, {'label': 'NEGATIVE', 'score': 0.8537484407424927}, {'label': 'NEGATIVE', 'score': 0.9982075691223145}, {'label': 'NEGATIVE', 'score': 0.9968754053115845}, {'label': 'NEGATIVE', 'score': 0.9984259605407715}, {'label': 'NEGATIVE', 'score': 0.9986476302146912}, {'label': 'NEGATIVE', 'score': 0.9961822628974915}, {'label': 'POSITIVE', 'score': 0.749474823474884}, {'label': 'NEGATIVE', 'score': 0.9739751219749451}, {'label': 'POSITIVE', 'score': 0.8496849536895752}, {'label': 'NEGATIVE', 'score': 0.8297047019004822}, {'label': 'NEGATIVE', 'score': 0.9925746917724609}, {'label': 'NEGATIVE', 'score': 0.9979422688484192}, {'label': 'POSITIVE', 'score': 0.9913665652275085}, {'label': 'NEGATIVE', 'score': 0.9853270053863525}, {'label': 'POSITIVE', 'score': 0.6429885029792786}, {'label': 'NEGATIVE', 'score': 0.898979902267456}, {'label': 'POSITIVE', 'score': 0.9352133274078369}, {'label': 'NEGATIVE', 'score': 0.9861289858818054}, {'label': 'NEGATIVE', 'score': 0.9613359570503235}, {'label': 'NEGATIVE', 'score': 0.9699872732162476}, {'label': 'NEGATIVE', 'score': 0.9767706394195557}, {'label': 'NEGATIVE', 'score': 0.9943209886550903}, {'label': 'NEGATIVE', 'score': 0.9889757633209229}, {'label': 'POSITIVE', 'score': 0.9112653732299805}, {'label': 'NEGATIVE', 'score': 0.9979329109191895}, {'label': 'POSITIVE', 'score': 0.918450117111206}, {'label': 'NEGATIVE', 'score': 0.9879605174064636}, {'label': 'NEGATIVE', 'score': 0.8250157833099365}, {'label': 'NEGATIVE', 'score': 0.9939388036727905}, {'label': 'NEGATIVE', 'score': 0.7593152523040771}, {'label': 'POSITIVE', 'score': 0.9325849413871765}, {'label': 'NEGATIVE', 'score': 0.9984865188598633}, {'label': 'NEGATIVE', 'score': 0.9936935305595398}, {'label': 'NEGATIVE', 'score': 0.9855954647064209}, {'label': 'NEGATIVE', 'score': 0.9879778623580933}, {'label': 'NEGATIVE', 'score': 0.9915727376937866}, {'label': 'NEGATIVE', 'score': 0.9966566562652588}, {'label': 'NEGATIVE', 'score': 0.994042694568634}, {'label': 'NEGATIVE', 'score': 0.9918805956840515}, {'label': 'NEGATIVE', 'score': 0.9931883811950684}, {'label': 'NEGATIVE', 'score': 0.9798465967178345}, {'label': 'NEGATIVE', 'score': 0.992451012134552}, {'label': 'NEGATIVE', 'score': 0.9505487680435181}, {'label': 'NEGATIVE', 'score': 0.9896369576454163}, {'label': 'NEGATIVE', 'score': 0.99744713306427}, {'label': 'NEGATIVE', 'score': 0.9888665080070496}, {'label': 'NEGATIVE', 'score': 0.9962725639343262}, {'label': 'NEGATIVE', 'score': 0.9667086005210876}, {'label': 'POSITIVE', 'score': 0.7550292015075684}, {'label': 'NEGATIVE', 'score': 0.9687106609344482}, {'label': 'NEGATIVE', 'score': 0.7450487613677979}, {'label': 'NEGATIVE', 'score': 0.9507478475570679}, {'label': 'POSITIVE', 'score': 0.5214241147041321}, {'label': 'NEGATIVE', 'score': 0.6460388898849487}, {'label': 'NEGATIVE', 'score': 0.8002933859825134}, {'label': 'NEGATIVE', 'score': 0.9861228466033936}, {'label': 'NEGATIVE', 'score': 0.9889425039291382}, {'label': 'NEGATIVE', 'score': 0.9995492100715637}, {'label': 'NEGATIVE', 'score': 0.7374997138977051}, {'label': 'NEGATIVE', 'score': 0.9971885085105896}, {'label': 'NEGATIVE', 'score': 0.9957140684127808}, {'label': 'NEGATIVE', 'score': 0.9943422079086304}, {'label': 'POSITIVE', 'score': 0.9979721903800964}, {'label': 'NEGATIVE', 'score': 0.9933873414993286}, {'label': 'NEGATIVE', 'score': 0.9971082806587219}, {'label': 'NEGATIVE', 'score': 0.9985731840133667}, {'label': 'POSITIVE', 'score': 0.8729708194732666}, {'label': 'NEGATIVE', 'score': 0.9998074173927307}, {'label': 'NEGATIVE', 'score': 0.9940937161445618}, {'label': 'NEGATIVE', 'score': 0.9841920137405396}, {'label': 'POSITIVE', 'score': 0.9991865754127502}, {'label': 'NEGATIVE', 'score': 0.9911816120147705}, {'label': 'NEGATIVE', 'score': 0.9340925812721252}, {'label': 'NEGATIVE', 'score': 0.9973530769348145}, {'label': 'NEGATIVE', 'score': 0.9933611154556274}, {'label': 'POSITIVE', 'score': 0.9899417757987976}, {'label': 'NEGATIVE', 'score': 0.9631219506263733}, {'label': 'NEGATIVE', 'score': 0.9982549548149109}, {'label': 'NEGATIVE', 'score': 0.9992179870605469}, {'label': 'NEGATIVE', 'score': 0.9958536624908447}, {'label': 'POSITIVE', 'score': 0.9353817105293274}, {'label': 'POSITIVE', 'score': 0.998569130897522}, {'label': 'NEGATIVE', 'score': 0.986336350440979}, {'label': 'NEGATIVE', 'score': 0.9993100166320801}, {'label': 'NEGATIVE', 'score': 0.9323358535766602}, {'label': 'POSITIVE', 'score': 0.9935041069984436}, {'label': 'NEGATIVE', 'score': 0.9630455374717712}, {'label': 'NEGATIVE', 'score': 0.993043065071106}, {'label': 'NEGATIVE', 'score': 0.9949487447738647}, {'label': 'NEGATIVE', 'score': 0.9911543130874634}, {'label': 'NEGATIVE', 'score': 0.9971951246261597}, {'label': 'NEGATIVE', 'score': 0.9905971884727478}, {'label': 'NEGATIVE', 'score': 0.9941139817237854}, {'label': 'NEGATIVE', 'score': 0.9950254559516907}, {'label': 'NEGATIVE', 'score': 0.9993009567260742}, {'label': 'NEGATIVE', 'score': 0.6020164489746094}, {'label': 'NEGATIVE', 'score': 0.9894008040428162}, {'label': 'NEGATIVE', 'score': 0.9413127899169922}, {'label': 'NEGATIVE', 'score': 0.9379851818084717}, {'label': 'NEGATIVE', 'score': 0.9982581734657288}, {'label': 'NEGATIVE', 'score': 0.9802222847938538}, {'label': 'POSITIVE', 'score': 0.9204103350639343}, {'label': 'NEGATIVE', 'score': 0.7080104351043701}, {'label': 'NEGATIVE', 'score': 0.9825440049171448}, {'label': 'NEGATIVE', 'score': 0.9799088835716248}, {'label': 'NEGATIVE', 'score': 0.7779659628868103}, {'label': 'NEGATIVE', 'score': 0.9841828942298889}, {'label': 'NEGATIVE', 'score': 0.9984230995178223}, {'label': 'NEGATIVE', 'score': 0.9981293082237244}, {'label': 'POSITIVE', 'score': 0.9904981255531311}, {'label': 'NEGATIVE', 'score': 0.9987971782684326}, {'label': 'NEGATIVE', 'score': 0.9948521256446838}, {'label': 'NEGATIVE', 'score': 0.9920360445976257}, {'label': 'NEGATIVE', 'score': 0.9821323156356812}, {'label': 'NEGATIVE', 'score': 0.994820237159729}, {'label': 'NEGATIVE', 'score': 0.9957699179649353}, {'label': 'NEGATIVE', 'score': 0.9967135190963745}, {'label': 'POSITIVE', 'score': 0.9989987015724182}, {'label': 'POSITIVE', 'score': 0.9885684251785278}, {'label': 'NEGATIVE', 'score': 0.9965754151344299}, {'label': 'NEGATIVE', 'score': 0.9831106662750244}, {'label': 'NEGATIVE', 'score': 0.9919542670249939}, {'label': 'POSITIVE', 'score': 0.9536040425300598}, {'label': 'NEGATIVE', 'score': 0.992423415184021}, {'label': 'NEGATIVE', 'score': 0.9928921461105347}, {'label': 'NEGATIVE', 'score': 0.9875868558883667}, {'label': 'NEGATIVE', 'score': 0.9952014684677124}, {'label': 'NEGATIVE', 'score': 0.9881159067153931}, {'label': 'POSITIVE', 'score': 0.95756995677948}, {'label': 'NEGATIVE', 'score': 0.9818745851516724}, {'label': 'NEGATIVE', 'score': 0.9869440793991089}, {'label': 'NEGATIVE', 'score': 0.9927389025688171}, {'label': 'NEGATIVE', 'score': 0.9992179870605469}, {'label': 'POSITIVE', 'score': 0.8273729681968689}, {'label': 'NEGATIVE', 'score': 0.9997372031211853}, {'label': 'NEGATIVE', 'score': 0.9684922099113464}, {'label': 'NEGATIVE', 'score': 0.9557303786277771}, {'label': 'NEGATIVE', 'score': 0.985483705997467}, {'label': 'NEGATIVE', 'score': 0.9922754168510437}, {'label': 'NEGATIVE', 'score': 0.5075468420982361}, {'label': 'POSITIVE', 'score': 0.9966747760772705}, {'label': 'NEGATIVE', 'score': 0.9896084666252136}, {'label': 'POSITIVE', 'score': 0.9804060459136963}, {'label': 'NEGATIVE', 'score': 0.8315905928611755}, {'label': 'NEGATIVE', 'score': 0.96194988489151}, {'label': 'NEGATIVE', 'score': 0.9781044125556946}, {'label': 'NEGATIVE', 'score': 0.8123543858528137}, {'label': 'NEGATIVE', 'score': 0.9840856790542603}, {'label': 'NEGATIVE', 'score': 0.9958614706993103}, {'label': 'NEGATIVE', 'score': 0.9930163621902466}, {'label': 'NEGATIVE', 'score': 0.9964532852172852}, {'label': 'POSITIVE', 'score': 0.9124136567115784}, {'label': 'NEGATIVE', 'score': 0.995786726474762}, {'label': 'NEGATIVE', 'score': 0.9942769408226013}, {'label': 'NEGATIVE', 'score': 0.974741518497467}, {'label': 'NEGATIVE', 'score': 0.9862144589424133}, {'label': 'NEGATIVE', 'score': 0.9922196865081787}, {'label': 'NEGATIVE', 'score': 0.9967095851898193}, {'label': 'POSITIVE', 'score': 0.9970000386238098}, {'label': 'NEGATIVE', 'score': 0.9997723698616028}, {'label': 'POSITIVE', 'score': 0.8890356421470642}, {'label': 'NEGATIVE', 'score': 0.9988753199577332}, {'label': 'NEGATIVE', 'score': 0.9794817566871643}, {'label': 'POSITIVE', 'score': 0.9577418565750122}, {'label': 'POSITIVE', 'score': 0.9769555330276489}, {'label': 'NEGATIVE', 'score': 0.9950073957443237}, {'label': 'NEGATIVE', 'score': 0.9745510220527649}, {'label': 'POSITIVE', 'score': 0.9988138675689697}, {'label': 'NEGATIVE', 'score': 0.9892232418060303}, {'label': 'NEGATIVE', 'score': 0.9942881464958191}, {'label': 'POSITIVE', 'score': 0.6898627281188965}, {'label': 'NEGATIVE', 'score': 0.9872750043869019}, {'label': 'NEGATIVE', 'score': 0.9990161657333374}, {'label': 'NEGATIVE', 'score': 0.9549798369407654}, {'label': 'NEGATIVE', 'score': 0.976095974445343}, {'label': 'POSITIVE', 'score': 0.9854281544685364}, {'label': 'NEGATIVE', 'score': 0.9934044480323792}, {'label': 'NEGATIVE', 'score': 0.999352753162384}, {'label': 'NEGATIVE', 'score': 0.988953709602356}, {'label': 'POSITIVE', 'score': 0.9211233854293823}, {'label': 'NEGATIVE', 'score': 0.8560697436332703}, {'label': 'NEGATIVE', 'score': 0.9934290051460266}, {'label': 'NEGATIVE', 'score': 0.9595167636871338}, {'label': 'NEGATIVE', 'score': 0.9919493198394775}, {'label': 'NEGATIVE', 'score': 0.9975237250328064}, {'label': 'NEGATIVE', 'score': 0.9926578402519226}, {'label': 'NEGATIVE', 'score': 0.9905718564987183}, {'label': 'NEGATIVE', 'score': 0.9906772375106812}, {'label': 'POSITIVE', 'score': 0.9980937838554382}, {'label': 'NEGATIVE', 'score': 0.939220130443573}, {'label': 'NEGATIVE', 'score': 0.970185399055481}, {'label': 'NEGATIVE', 'score': 0.8742318749427795}, {'label': 'NEGATIVE', 'score': 0.9952206015586853}, {'label': 'POSITIVE', 'score': 0.9885851740837097}, {'label': 'NEGATIVE', 'score': 0.9888617396354675}, {'label': 'POSITIVE', 'score': 0.9943062663078308}, {'label': 'NEGATIVE', 'score': 0.9816566109657288}, {'label': 'NEGATIVE', 'score': 0.9911869168281555}, {'label': 'NEGATIVE', 'score': 0.993279755115509}, {'label': 'NEGATIVE', 'score': 0.994722843170166}, {'label': 'NEGATIVE', 'score': 0.9872305989265442}, {'label': 'NEGATIVE', 'score': 0.994236409664154}, {'label': 'POSITIVE', 'score': 0.975496768951416}, {'label': 'NEGATIVE', 'score': 0.9222688674926758}, {'label': 'NEGATIVE', 'score': 0.9854840636253357}, {'label': 'NEGATIVE', 'score': 0.9953169822692871}, {'label': 'NEGATIVE', 'score': 0.9900375604629517}, {'label': 'NEGATIVE', 'score': 0.9629215002059937}, {'label': 'NEGATIVE', 'score': 0.9248265624046326}, {'label': 'NEGATIVE', 'score': 0.992324948310852}, {'label': 'POSITIVE', 'score': 0.8072689175605774}, {'label': 'NEGATIVE', 'score': 0.9819216728210449}, {'label': 'NEGATIVE', 'score': 0.9389132857322693}, {'label': 'NEGATIVE', 'score': 0.9136682152748108}, {'label': 'NEGATIVE', 'score': 0.9681130051612854}, {'label': 'POSITIVE', 'score': 0.9960832595825195}, {'label': 'NEGATIVE', 'score': 0.9941781759262085}, {'label': 'NEGATIVE', 'score': 0.9790264368057251}, {'label': 'NEGATIVE', 'score': 0.858683705329895}, {'label': 'NEGATIVE', 'score': 0.9986335635185242}, {'label': 'NEGATIVE', 'score': 0.9703751802444458}, {'label': 'NEGATIVE', 'score': 0.9744393229484558}, {'label': 'POSITIVE', 'score': 0.6358708739280701}, {'label': 'NEGATIVE', 'score': 0.915643572807312}, {'label': 'NEGATIVE', 'score': 0.9910101890563965}, {'label': 'NEGATIVE', 'score': 0.9934749007225037}, {'label': 'NEGATIVE', 'score': 0.9922229647636414}, {'label': 'NEGATIVE', 'score': 0.9982813596725464}, {'label': 'NEGATIVE', 'score': 0.9909374117851257}, {'label': 'NEGATIVE', 'score': 0.9981963038444519}, {'label': 'NEGATIVE', 'score': 0.9978797435760498}, {'label': 'NEGATIVE', 'score': 0.9842284917831421}, {'label': 'NEGATIVE', 'score': 0.996334433555603}, {'label': 'NEGATIVE', 'score': 0.9791703224182129}, {'label': 'NEGATIVE', 'score': 0.9987609386444092}, {'label': 'NEGATIVE', 'score': 0.9566213488578796}, {'label': 'POSITIVE', 'score': 0.9863925576210022}, {'label': 'NEGATIVE', 'score': 0.966336190700531}, {'label': 'POSITIVE', 'score': 0.7600167393684387}, {'label': 'NEGATIVE', 'score': 0.9969313144683838}, {'label': 'NEGATIVE', 'score': 0.9927219748497009}, {'label': 'NEGATIVE', 'score': 0.9929643869400024}, {'label': 'NEGATIVE', 'score': 0.9944650530815125}, {'label': 'POSITIVE', 'score': 0.7142794132232666}, {'label': 'POSITIVE', 'score': 0.962017834186554}, {'label': 'POSITIVE', 'score': 0.9883860349655151}, {'label': 'NEGATIVE', 'score': 0.9884849786758423}, {'label': 'NEGATIVE', 'score': 0.8894652128219604}, {'label': 'NEGATIVE', 'score': 0.9536542892456055}, {'label': 'NEGATIVE', 'score': 0.9855123162269592}, {'label': 'NEGATIVE', 'score': 0.9915185570716858}, {'label': 'NEGATIVE', 'score': 0.9160248041152954}, {'label': 'NEGATIVE', 'score': 0.9994832277297974}, {'label': 'NEGATIVE', 'score': 0.9880494475364685}, {'label': 'NEGATIVE', 'score': 0.9957278966903687}, {'label': 'NEGATIVE', 'score': 0.9699085354804993}, {'label': 'POSITIVE', 'score': 0.9922863245010376}, {'label': 'NEGATIVE', 'score': 0.9990755319595337}, {'label': 'NEGATIVE', 'score': 0.9994478821754456}, {'label': 'NEGATIVE', 'score': 0.9985530972480774}, {'label': 'NEGATIVE', 'score': 0.9997420907020569}, {'label': 'NEGATIVE', 'score': 0.9889927506446838}, {'label': 'NEGATIVE', 'score': 0.9976303577423096}, {'label': 'POSITIVE', 'score': 0.9221997261047363}, {'label': 'NEGATIVE', 'score': 0.9975000023841858}, {'label': 'POSITIVE', 'score': 0.9814935922622681}, {'label': 'NEGATIVE', 'score': 0.9375427961349487}, {'label': 'NEGATIVE', 'score': 0.9966872334480286}, {'label': 'NEGATIVE', 'score': 0.9963979721069336}, {'label': 'NEGATIVE', 'score': 0.9964351654052734}, {'label': 'NEGATIVE', 'score': 0.996687114238739}, {'label': 'NEGATIVE', 'score': 0.994414210319519}, {'label': 'NEGATIVE', 'score': 0.9970209002494812}, {'label': 'NEGATIVE', 'score': 0.9911921620368958}, {'label': 'NEGATIVE', 'score': 0.9876876473426819}, {'label': 'NEGATIVE', 'score': 0.9963885545730591}, {'label': 'POSITIVE', 'score': 0.9932495355606079}, {'label': 'NEGATIVE', 'score': 0.9928517937660217}, {'label': 'POSITIVE', 'score': 0.996044933795929}, {'label': 'NEGATIVE', 'score': 0.9754840731620789}, {'label': 'NEGATIVE', 'score': 0.9904423356056213}, {'label': 'NEGATIVE', 'score': 0.912933886051178}, {'label': 'NEGATIVE', 'score': 0.9870831966400146}, {'label': 'NEGATIVE', 'score': 0.9995213747024536}, {'label': 'NEGATIVE', 'score': 0.9660268425941467}, {'label': 'POSITIVE', 'score': 0.8270094394683838}, {'label': 'NEGATIVE', 'score': 0.9952501058578491}, {'label': 'NEGATIVE', 'score': 0.9992855191230774}, {'label': 'NEGATIVE', 'score': 0.8561511039733887}, {'label': 'NEGATIVE', 'score': 0.9958689212799072}, {'label': 'POSITIVE', 'score': 0.9826335310935974}, {'label': 'NEGATIVE', 'score': 0.9482656121253967}, {'label': 'NEGATIVE', 'score': 0.9975830316543579}, {'label': 'NEGATIVE', 'score': 0.9995222091674805}, {'label': 'NEGATIVE', 'score': 0.9997238516807556}, {'label': 'NEGATIVE', 'score': 0.9994651675224304}, {'label': 'NEGATIVE', 'score': 0.9992464780807495}, {'label': 'NEGATIVE', 'score': 0.9997503161430359}, {'label': 'NEGATIVE', 'score': 0.9951624274253845}, {'label': 'NEGATIVE', 'score': 0.999404788017273}, {'label': 'NEGATIVE', 'score': 0.9994120597839355}, {'label': 'NEGATIVE', 'score': 0.9933239817619324}, {'label': 'NEGATIVE', 'score': 0.9974685907363892}, {'label': 'NEGATIVE', 'score': 0.9996126294136047}, {'label': 'NEGATIVE', 'score': 0.9887828230857849}, {'label': 'NEGATIVE', 'score': 0.996802568435669}, {'label': 'NEGATIVE', 'score': 0.9992175102233887}, {'label': 'NEGATIVE', 'score': 0.9950453042984009}, {'label': 'NEGATIVE', 'score': 0.9987402558326721}, {'label': 'NEGATIVE', 'score': 0.9984859824180603}, {'label': 'NEGATIVE', 'score': 0.9992427825927734}, {'label': 'NEGATIVE', 'score': 0.9900693297386169}, {'label': 'NEGATIVE', 'score': 0.9987297654151917}, {'label': 'NEGATIVE', 'score': 0.9942594766616821}, {'label': 'NEGATIVE', 'score': 0.9992973804473877}, {'label': 'NEGATIVE', 'score': 0.9994712471961975}, {'label': 'NEGATIVE', 'score': 0.5918671488761902}, {'label': 'NEGATIVE', 'score': 0.9996342658996582}, {'label': 'NEGATIVE', 'score': 0.9986525177955627}, {'label': 'NEGATIVE', 'score': 0.9782309532165527}, {'label': 'NEGATIVE', 'score': 0.995993971824646}, {'label': 'NEGATIVE', 'score': 0.9990541338920593}, {'label': 'NEGATIVE', 'score': 0.9990670084953308}, {'label': 'NEGATIVE', 'score': 0.9995723366737366}, {'label': 'NEGATIVE', 'score': 0.9986467957496643}, {'label': 'NEGATIVE', 'score': 0.9992372989654541}, {'label': 'NEGATIVE', 'score': 0.9975535273551941}, {'label': 'NEGATIVE', 'score': 0.9993071556091309}, {'label': 'NEGATIVE', 'score': 0.9979990124702454}, {'label': 'NEGATIVE', 'score': 0.9996378421783447}, {'label': 'NEGATIVE', 'score': 0.9996440410614014}, {'label': 'NEGATIVE', 'score': 0.9776301383972168}, {'label': 'NEGATIVE', 'score': 0.9942798614501953}, {'label': 'NEGATIVE', 'score': 0.9775334000587463}, {'label': 'NEGATIVE', 'score': 0.9945427179336548}, {'label': 'NEGATIVE', 'score': 0.9989603757858276}, {'label': 'NEGATIVE', 'score': 0.9978100657463074}, {'label': 'NEGATIVE', 'score': 0.9976722598075867}, {'label': 'NEGATIVE', 'score': 0.994379460811615}, {'label': 'NEGATIVE', 'score': 0.9646172523498535}, {'label': 'NEGATIVE', 'score': 0.9986899495124817}, {'label': 'NEGATIVE', 'score': 0.9992302656173706}, {'label': 'NEGATIVE', 'score': 0.9995636343955994}, {'label': 'NEGATIVE', 'score': 0.9996446371078491}, {'label': 'NEGATIVE', 'score': 0.9995220899581909}, {'label': 'NEGATIVE', 'score': 0.9951326251029968}, {'label': 'NEGATIVE', 'score': 0.997820258140564}, {'label': 'NEGATIVE', 'score': 0.9995310306549072}, {'label': 'NEGATIVE', 'score': 0.9944961667060852}, {'label': 'NEGATIVE', 'score': 0.999270498752594}, {'label': 'NEGATIVE', 'score': 0.9957630634307861}, {'label': 'NEGATIVE', 'score': 0.9966819882392883}, {'label': 'NEGATIVE', 'score': 0.5581327676773071}, {'label': 'NEGATIVE', 'score': 0.9997679591178894}, {'label': 'NEGATIVE', 'score': 0.9996005892753601}, {'label': 'NEGATIVE', 'score': 0.9980437755584717}, {'label': 'NEGATIVE', 'score': 0.989431619644165}, {'label': 'POSITIVE', 'score': 0.8082533478736877}, {'label': 'NEGATIVE', 'score': 0.9992156028747559}, {'label': 'NEGATIVE', 'score': 0.996065080165863}, {'label': 'NEGATIVE', 'score': 0.9937843084335327}, {'label': 'NEGATIVE', 'score': 0.9215067028999329}, {'label': 'NEGATIVE', 'score': 0.9960439205169678}, {'label': 'NEGATIVE', 'score': 0.977708637714386}, {'label': 'NEGATIVE', 'score': 0.883632242679596}, {'label': 'POSITIVE', 'score': 0.9969504475593567}, {'label': 'NEGATIVE', 'score': 0.9993244409561157}, {'label': 'NEGATIVE', 'score': 0.9912785887718201}, {'label': 'NEGATIVE', 'score': 0.9985451698303223}, {'label': 'NEGATIVE', 'score': 0.9977744221687317}, {'label': 'NEGATIVE', 'score': 0.9990079998970032}, {'label': 'NEGATIVE', 'score': 0.99957674741745}, {'label': 'NEGATIVE', 'score': 0.998965859413147}, {'label': 'NEGATIVE', 'score': 0.995412290096283}, {'label': 'NEGATIVE', 'score': 0.9995601773262024}, {'label': 'NEGATIVE', 'score': 0.9866179823875427}, {'label': 'NEGATIVE', 'score': 0.9995881915092468}, {'label': 'NEGATIVE', 'score': 0.9993463158607483}, {'label': 'NEGATIVE', 'score': 0.9342769980430603}, {'label': 'NEGATIVE', 'score': 0.9988118410110474}, {'label': 'NEGATIVE', 'score': 0.9987537860870361}, {'label': 'NEGATIVE', 'score': 0.996573805809021}, {'label': 'NEGATIVE', 'score': 0.9904001355171204}, {'label': 'NEGATIVE', 'score': 0.9974748492240906}, {'label': 'NEGATIVE', 'score': 0.9976996779441833}, {'label': 'NEGATIVE', 'score': 0.9981825351715088}, {'label': 'NEGATIVE', 'score': 0.9961399435997009}, {'label': 'NEGATIVE', 'score': 0.9979821443557739}, {'label': 'NEGATIVE', 'score': 0.994901180267334}, {'label': 'NEGATIVE', 'score': 0.9996953010559082}, {'label': 'NEGATIVE', 'score': 0.9879158735275269}, {'label': 'NEGATIVE', 'score': 0.998775064945221}, {'label': 'NEGATIVE', 'score': 0.9997784495353699}, {'label': 'NEGATIVE', 'score': 0.999653697013855}, {'label': 'NEGATIVE', 'score': 0.9993928670883179}, {'label': 'NEGATIVE', 'score': 0.988923966884613}, {'label': 'NEGATIVE', 'score': 0.9861932396888733}, {'label': 'NEGATIVE', 'score': 0.9981338381767273}, {'label': 'POSITIVE', 'score': 0.9935814142227173}, {'label': 'NEGATIVE', 'score': 0.9984533786773682}, {'label': 'NEGATIVE', 'score': 0.9991588592529297}, {'label': 'NEGATIVE', 'score': 0.9985026121139526}, {'label': 'NEGATIVE', 'score': 0.9707511067390442}, {'label': 'NEGATIVE', 'score': 0.9794146418571472}, {'label': 'NEGATIVE', 'score': 0.9983764886856079}, {'label': 'NEGATIVE', 'score': 0.9987599849700928}, {'label': 'NEGATIVE', 'score': 0.9997640252113342}, {'label': 'NEGATIVE', 'score': 0.9993860721588135}, {'label': 'NEGATIVE', 'score': 0.9886664152145386}, {'label': 'NEGATIVE', 'score': 0.998856782913208}, {'label': 'NEGATIVE', 'score': 0.9952023029327393}, {'label': 'NEGATIVE', 'score': 0.9993492960929871}, {'label': 'NEGATIVE', 'score': 0.9882549047470093}, {'label': 'NEGATIVE', 'score': 0.9970867037773132}, {'label': 'NEGATIVE', 'score': 0.9644237756729126}, {'label': 'POSITIVE', 'score': 0.9799066185951233}, {'label': 'NEGATIVE', 'score': 0.9917594790458679}, {'label': 'NEGATIVE', 'score': 0.9985287189483643}, {'label': 'NEGATIVE', 'score': 0.9969161748886108}, {'label': 'NEGATIVE', 'score': 0.9925673007965088}, {'label': 'NEGATIVE', 'score': 0.544048011302948}, {'label': 'NEGATIVE', 'score': 0.993747353553772}, {'label': 'NEGATIVE', 'score': 0.9966810345649719}, {'label': 'NEGATIVE', 'score': 0.9997736811637878}, {'label': 'NEGATIVE', 'score': 0.9997418522834778}, {'label': 'NEGATIVE', 'score': 0.9997844099998474}, {'label': 'NEGATIVE', 'score': 0.9755585193634033}, {'label': 'NEGATIVE', 'score': 0.9992586970329285}, {'label': 'NEGATIVE', 'score': 0.9997442364692688}, {'label': 'NEGATIVE', 'score': 0.9992314577102661}, {'label': 'NEGATIVE', 'score': 0.997621476650238}, {'label': 'NEGATIVE', 'score': 0.9982492923736572}, {'label': 'NEGATIVE', 'score': 0.9994341731071472}, {'label': 'NEGATIVE', 'score': 0.9924681782722473}, {'label': 'NEGATIVE', 'score': 0.9987713694572449}, {'label': 'NEGATIVE', 'score': 0.9975835084915161}, {'label': 'NEGATIVE', 'score': 0.998268723487854}, {'label': 'NEGATIVE', 'score': 0.9990847110748291}, {'label': 'NEGATIVE', 'score': 0.9981953501701355}, {'label': 'NEGATIVE', 'score': 0.977351188659668}, {'label': 'NEGATIVE', 'score': 0.9976134300231934}, {'label': 'NEGATIVE', 'score': 0.9972672462463379}, {'label': 'NEGATIVE', 'score': 0.9978939890861511}, {'label': 'NEGATIVE', 'score': 0.9944562911987305}, {'label': 'NEGATIVE', 'score': 0.9991798996925354}, {'label': 'NEGATIVE', 'score': 0.997090220451355}, {'label': 'NEGATIVE', 'score': 0.9981074333190918}, {'label': 'NEGATIVE', 'score': 0.993488073348999}, {'label': 'NEGATIVE', 'score': 0.9960578680038452}, {'label': 'NEGATIVE', 'score': 0.999311089515686}, {'label': 'NEGATIVE', 'score': 0.9971957206726074}, {'label': 'NEGATIVE', 'score': 0.9996154308319092}, {'label': 'NEGATIVE', 'score': 0.990948498249054}, {'label': 'NEGATIVE', 'score': 0.994545578956604}, {'label': 'NEGATIVE', 'score': 0.995506763458252}, {'label': 'NEGATIVE', 'score': 0.9836327433586121}, {'label': 'POSITIVE', 'score': 0.6742263436317444}, {'label': 'NEGATIVE', 'score': 0.9963830709457397}, {'label': 'NEGATIVE', 'score': 0.9895321130752563}, {'label': 'NEGATIVE', 'score': 0.9982715845108032}, {'label': 'POSITIVE', 'score': 0.8893724679946899}, {'label': 'POSITIVE', 'score': 0.9865735769271851}, {'label': 'NEGATIVE', 'score': 0.9933464527130127}, {'label': 'NEGATIVE', 'score': 0.9392681121826172}, {'label': 'NEGATIVE', 'score': 0.9936760067939758}, {'label': 'POSITIVE', 'score': 0.8466423749923706}, {'label': 'POSITIVE', 'score': 0.9944985508918762}, {'label': 'POSITIVE', 'score': 0.5377396941184998}, {'label': 'NEGATIVE', 'score': 0.9906798005104065}, {'label': 'NEGATIVE', 'score': 0.9979197382926941}, {'label': 'NEGATIVE', 'score': 0.9862936735153198}, {'label': 'NEGATIVE', 'score': 0.8682698607444763}, {'label': 'NEGATIVE', 'score': 0.9961332082748413}, {'label': 'POSITIVE', 'score': 0.5110401511192322}, {'label': 'POSITIVE', 'score': 0.9994103908538818}, {'label': 'NEGATIVE', 'score': 0.9963523149490356}, {'label': 'POSITIVE', 'score': 0.9987778067588806}, {'label': 'POSITIVE', 'score': 0.9971029162406921}, {'label': 'NEGATIVE', 'score': 0.9876197576522827}, {'label': 'POSITIVE', 'score': 0.8221868276596069}, {'label': 'NEGATIVE', 'score': 0.6999857425689697}, {'label': 'POSITIVE', 'score': 0.5154691934585571}, {'label': 'POSITIVE', 'score': 0.6388488411903381}, {'label': 'POSITIVE', 'score': 0.9437761306762695}, {'label': 'NEGATIVE', 'score': 0.6517151594161987}, {'label': 'NEGATIVE', 'score': 0.9331313371658325}, {'label': 'NEGATIVE', 'score': 0.6737613677978516}, {'label': 'POSITIVE', 'score': 0.9992194175720215}, {'label': 'NEGATIVE', 'score': 0.9825388193130493}, {'label': 'NEGATIVE', 'score': 0.9578351378440857}, {'label': 'NEGATIVE', 'score': 0.9996046423912048}, {'label': 'NEGATIVE', 'score': 0.964743435382843}, {'label': 'POSITIVE', 'score': 0.9748756289482117}, {'label': 'NEGATIVE', 'score': 0.9896160364151001}, {'label': 'POSITIVE', 'score': 0.9946205615997314}, {'label': 'POSITIVE', 'score': 0.9939624667167664}, {'label': 'POSITIVE', 'score': 0.9507253170013428}, {'label': 'NEGATIVE', 'score': 0.9854787588119507}, {'label': 'NEGATIVE', 'score': 0.993518054485321}, {'label': 'POSITIVE', 'score': 0.9870972633361816}, {'label': 'POSITIVE', 'score': 0.9903653860092163}, {'label': 'NEGATIVE', 'score': 0.5081583261489868}, {'label': 'NEGATIVE', 'score': 0.9064752459526062}, {'label': 'POSITIVE', 'score': 0.9988718628883362}, {'label': 'NEGATIVE', 'score': 0.9982397556304932}, {'label': 'POSITIVE', 'score': 0.5265833735466003}, {'label': 'POSITIVE', 'score': 0.9031814336776733}, {'label': 'POSITIVE', 'score': 0.9434247016906738}, {'label': 'NEGATIVE', 'score': 0.7773633003234863}, {'label': 'POSITIVE', 'score': 0.9737652540206909}, {'label': 'POSITIVE', 'score': 0.9995449185371399}, {'label': 'NEGATIVE', 'score': 0.9984684586524963}, {'label': 'POSITIVE', 'score': 0.998863697052002}, {'label': 'NEGATIVE', 'score': 0.9959853291511536}, {'label': 'POSITIVE', 'score': 0.6331701874732971}, {'label': 'NEGATIVE', 'score': 0.9137405753135681}, {'label': 'NEGATIVE', 'score': 0.9824991226196289}, {'label': 'NEGATIVE', 'score': 0.5767130255699158}, {'label': 'NEGATIVE', 'score': 0.8506765365600586}, {'label': 'NEGATIVE', 'score': 0.9832161068916321}, {'label': 'NEGATIVE', 'score': 0.6438966393470764}, {'label': 'POSITIVE', 'score': 0.9930073022842407}, {'label': 'POSITIVE', 'score': 0.9940733313560486}, {'label': 'POSITIVE', 'score': 0.9927351474761963}, {'label': 'POSITIVE', 'score': 0.9906662106513977}, {'label': 'POSITIVE', 'score': 0.9988594055175781}, {'label': 'POSITIVE', 'score': 0.9998513460159302}, {'label': 'NEGATIVE', 'score': 0.964085042476654}, {'label': 'NEGATIVE', 'score': 0.7300095558166504}, {'label': 'NEGATIVE', 'score': 0.9915771484375}, {'label': 'POSITIVE', 'score': 0.996981680393219}, {'label': 'NEGATIVE', 'score': 0.9982283711433411}, {'label': 'POSITIVE', 'score': 0.9725520014762878}, {'label': 'POSITIVE', 'score': 0.8047438263893127}, {'label': 'POSITIVE', 'score': 0.9990848302841187}, {'label': 'POSITIVE', 'score': 0.639724850654602}, {'label': 'NEGATIVE', 'score': 0.9845120906829834}, {'label': 'POSITIVE', 'score': 0.7005241513252258}, {'label': 'POSITIVE', 'score': 0.9795220494270325}, {'label': 'POSITIVE', 'score': 0.9997652173042297}, {'label': 'NEGATIVE', 'score': 0.9936128258705139}, {'label': 'POSITIVE', 'score': 0.9712864756584167}, {'label': 'POSITIVE', 'score': 0.9828741550445557}, {'label': 'NEGATIVE', 'score': 0.9952345490455627}, {'label': 'NEGATIVE', 'score': 0.9732874631881714}, {'label': 'POSITIVE', 'score': 0.9993451237678528}, {'label': 'POSITIVE', 'score': 0.9933096170425415}, {'label': 'POSITIVE', 'score': 0.9442857503890991}, {'label': 'POSITIVE', 'score': 0.9983842372894287}, {'label': 'POSITIVE', 'score': 0.9992641806602478}, {'label': 'NEGATIVE', 'score': 0.9948675632476807}, {'label': 'POSITIVE', 'score': 0.9237050414085388}, {'label': 'POSITIVE', 'score': 0.9972977042198181}, {'label': 'NEGATIVE', 'score': 0.9869585633277893}, {'label': 'POSITIVE', 'score': 0.9996975660324097}, {'label': 'POSITIVE', 'score': 0.9979596138000488}, {'label': 'POSITIVE', 'score': 0.9996727705001831}, {'label': 'NEGATIVE', 'score': 0.7735563516616821}, {'label': 'NEGATIVE', 'score': 0.582749605178833}, {'label': 'NEGATIVE', 'score': 0.9801394939422607}, {'label': 'POSITIVE', 'score': 0.9993014335632324}, {'label': 'POSITIVE', 'score': 0.9887450337409973}, {'label': 'NEGATIVE', 'score': 0.8005564212799072}, {'label': 'NEGATIVE', 'score': 0.9963393211364746}, {'label': 'POSITIVE', 'score': 0.981551468372345}, {'label': 'POSITIVE', 'score': 0.9967946410179138}, {'label': 'POSITIVE', 'score': 0.9993348717689514}, {'label': 'POSITIVE', 'score': 0.9800440669059753}, {'label': 'POSITIVE', 'score': 0.9996606111526489}, {'label': 'NEGATIVE', 'score': 0.9727888107299805}, {'label': 'NEGATIVE', 'score': 0.9695528149604797}, {'label': 'NEGATIVE', 'score': 0.9947705864906311}, {'label': 'NEGATIVE', 'score': 0.9973951578140259}, {'label': 'NEGATIVE', 'score': 0.9912780523300171}, {'label': 'NEGATIVE', 'score': 0.9528533220291138}, {'label': 'NEGATIVE', 'score': 0.9984367489814758}, {'label': 'NEGATIVE', 'score': 0.9963611960411072}, {'label': 'NEGATIVE', 'score': 0.9821146130561829}, {'label': 'POSITIVE', 'score': 0.9995570778846741}, {'label': 'POSITIVE', 'score': 0.9968871474266052}, {'label': 'POSITIVE', 'score': 0.9959180951118469}, {'label': 'POSITIVE', 'score': 0.635737955570221}, {'label': 'POSITIVE', 'score': 0.6473878622055054}, {'label': 'POSITIVE', 'score': 0.9828830361366272}, {'label': 'NEGATIVE', 'score': 0.9766392111778259}, {'label': 'POSITIVE', 'score': 0.9982665181159973}, {'label': 'POSITIVE', 'score': 0.999254047870636}, {'label': 'NEGATIVE', 'score': 0.9778299927711487}, {'label': 'POSITIVE', 'score': 0.9986605644226074}, {'label': 'NEGATIVE', 'score': 0.9697744250297546}, {'label': 'POSITIVE', 'score': 0.9972752928733826}, {'label': 'POSITIVE', 'score': 0.9973656535148621}, {'label': 'NEGATIVE', 'score': 0.9751278758049011}, {'label': 'NEGATIVE', 'score': 0.983731746673584}, {'label': 'NEGATIVE', 'score': 0.9918340444564819}, {'label': 'POSITIVE', 'score': 0.9971063733100891}, {'label': 'NEGATIVE', 'score': 0.5475884079933167}, {'label': 'NEGATIVE', 'score': 0.9979523420333862}, {'label': 'NEGATIVE', 'score': 0.9880209565162659}, {'label': 'NEGATIVE', 'score': 0.9878798127174377}, {'label': 'POSITIVE', 'score': 0.9937970638275146}, {'label': 'POSITIVE', 'score': 0.6167753338813782}, {'label': 'POSITIVE', 'score': 0.9960373640060425}, {'label': 'POSITIVE', 'score': 0.9769783616065979}, {'label': 'NEGATIVE', 'score': 0.9988221526145935}, {'label': 'NEGATIVE', 'score': 0.9917370676994324}, {'label': 'POSITIVE', 'score': 0.8292504549026489}, {'label': 'NEGATIVE', 'score': 0.9972274899482727}, {'label': 'NEGATIVE', 'score': 0.9945835471153259}, {'label': 'NEGATIVE', 'score': 0.975837767124176}, {'label': 'NEGATIVE', 'score': 0.9702353477478027}, {'label': 'NEGATIVE', 'score': 0.9798532724380493}, {'label': 'NEGATIVE', 'score': 0.9089963436126709}, {'label': 'POSITIVE', 'score': 0.9991936087608337}, {'label': 'NEGATIVE', 'score': 0.9934166669845581}, {'label': 'NEGATIVE', 'score': 0.9910727143287659}, {'label': 'NEGATIVE', 'score': 0.9941402077674866}, {'label': 'NEGATIVE', 'score': 0.9790220856666565}, {'label': 'NEGATIVE', 'score': 0.9777195453643799}, {'label': 'NEGATIVE', 'score': 0.9860721230506897}, {'label': 'NEGATIVE', 'score': 0.9916881918907166}, {'label': 'NEGATIVE', 'score': 0.9940276145935059}, {'label': 'NEGATIVE', 'score': 0.9840843081474304}, {'label': 'NEGATIVE', 'score': 0.9919920563697815}, {'label': 'NEGATIVE', 'score': 0.999170184135437}, {'label': 'NEGATIVE', 'score': 0.9963012933731079}, {'label': 'NEGATIVE', 'score': 0.9952313303947449}, {'label': 'NEGATIVE', 'score': 0.9937121868133545}, {'label': 'NEGATIVE', 'score': 0.9960557222366333}, {'label': 'NEGATIVE', 'score': 0.9870142936706543}, {'label': 'NEGATIVE', 'score': 0.9896783828735352}, {'label': 'NEGATIVE', 'score': 0.9958208799362183}, {'label': 'NEGATIVE', 'score': 0.999121367931366}, {'label': 'NEGATIVE', 'score': 0.9654780030250549}, {'label': 'NEGATIVE', 'score': 0.977633535861969}, {'label': 'NEGATIVE', 'score': 0.991686999797821}, {'label': 'NEGATIVE', 'score': 0.9836063385009766}, {'label': 'NEGATIVE', 'score': 0.9551169872283936}, {'label': 'NEGATIVE', 'score': 0.9906141757965088}, {'label': 'NEGATIVE', 'score': 0.9993525147438049}, {'label': 'NEGATIVE', 'score': 0.9801182746887207}, {'label': 'NEGATIVE', 'score': 0.994118332862854}, {'label': 'NEGATIVE', 'score': 0.9855310916900635}, {'label': 'NEGATIVE', 'score': 0.9954938888549805}, {'label': 'NEGATIVE', 'score': 0.9917761087417603}, {'label': 'NEGATIVE', 'score': 0.9988114833831787}, {'label': 'NEGATIVE', 'score': 0.9772624969482422}, {'label': 'NEGATIVE', 'score': 0.9978965520858765}, {'label': 'NEGATIVE', 'score': 0.9985339641571045}, {'label': 'NEGATIVE', 'score': 0.9834167957305908}, {'label': 'NEGATIVE', 'score': 0.9871910810470581}, {'label': 'NEGATIVE', 'score': 0.9977207779884338}, {'label': 'NEGATIVE', 'score': 0.9981386661529541}, {'label': 'NEGATIVE', 'score': 0.992177426815033}, {'label': 'NEGATIVE', 'score': 0.9886171221733093}, {'label': 'NEGATIVE', 'score': 0.9331701397895813}, {'label': 'NEGATIVE', 'score': 0.9824574589729309}, {'label': 'POSITIVE', 'score': 0.9886779189109802}, {'label': 'NEGATIVE', 'score': 0.9953190684318542}, {'label': 'NEGATIVE', 'score': 0.9882756471633911}, {'label': 'NEGATIVE', 'score': 0.9981610178947449}, {'label': 'NEGATIVE', 'score': 0.996677041053772}, {'label': 'NEGATIVE', 'score': 0.9828189015388489}, {'label': 'NEGATIVE', 'score': 0.99294513463974}, {'label': 'NEGATIVE', 'score': 0.9974258542060852}, {'label': 'NEGATIVE', 'score': 0.9934559464454651}, {'label': 'NEGATIVE', 'score': 0.9479459524154663}, {'label': 'NEGATIVE', 'score': 0.975702702999115}, {'label': 'NEGATIVE', 'score': 0.9950716495513916}, {'label': 'NEGATIVE', 'score': 0.997153639793396}, {'label': 'NEGATIVE', 'score': 0.9982315897941589}, {'label': 'POSITIVE', 'score': 0.9348375797271729}, {'label': 'NEGATIVE', 'score': 0.9772845506668091}, {'label': 'NEGATIVE', 'score': 0.9915432929992676}, {'label': 'NEGATIVE', 'score': 0.9137325882911682}, {'label': 'POSITIVE', 'score': 0.8775830864906311}, {'label': 'NEGATIVE', 'score': 0.9955182671546936}, {'label': 'NEGATIVE', 'score': 0.8405219912528992}, {'label': 'NEGATIVE', 'score': 0.9958922863006592}, {'label': 'NEGATIVE', 'score': 0.9944238066673279}, {'label': 'NEGATIVE', 'score': 0.9668800830841064}, {'label': 'NEGATIVE', 'score': 0.9943321943283081}, {'label': 'NEGATIVE', 'score': 0.993807852268219}, {'label': 'NEGATIVE', 'score': 0.9957142472267151}, {'label': 'NEGATIVE', 'score': 0.992641031742096}, {'label': 'NEGATIVE', 'score': 0.9786186218261719}, {'label': 'NEGATIVE', 'score': 0.9924147725105286}, {'label': 'NEGATIVE', 'score': 0.9957056641578674}, {'label': 'NEGATIVE', 'score': 0.9907641410827637}, {'label': 'NEGATIVE', 'score': 0.9934327602386475}, {'label': 'NEGATIVE', 'score': 0.9954778552055359}, {'label': 'NEGATIVE', 'score': 0.9960073828697205}, {'label': 'NEGATIVE', 'score': 0.6661891937255859}, {'label': 'NEGATIVE', 'score': 0.984609842300415}, {'label': 'NEGATIVE', 'score': 0.8754968643188477}, {'label': 'NEGATIVE', 'score': 0.9938357472419739}, {'label': 'NEGATIVE', 'score': 0.6756470799446106}, {'label': 'NEGATIVE', 'score': 0.9950856566429138}, {'label': 'NEGATIVE', 'score': 0.9601550698280334}, {'label': 'NEGATIVE', 'score': 0.9924312829971313}, {'label': 'NEGATIVE', 'score': 0.9976860284805298}, {'label': 'NEGATIVE', 'score': 0.9985557198524475}, {'label': 'NEGATIVE', 'score': 0.9857696294784546}, {'label': 'NEGATIVE', 'score': 0.9879835844039917}, {'label': 'NEGATIVE', 'score': 0.9937902092933655}, {'label': 'NEGATIVE', 'score': 0.9929354786872864}, {'label': 'NEGATIVE', 'score': 0.9897251129150391}, {'label': 'NEGATIVE', 'score': 0.9942301511764526}, {'label': 'NEGATIVE', 'score': 0.9946328401565552}, {'label': 'NEGATIVE', 'score': 0.9870694875717163}, {'label': 'NEGATIVE', 'score': 0.9945977926254272}, {'label': 'NEGATIVE', 'score': 0.9969186782836914}, {'label': 'NEGATIVE', 'score': 0.9939072728157043}, {'label': 'POSITIVE', 'score': 0.8778800964355469}, {'label': 'NEGATIVE', 'score': 0.9947958588600159}, {'label': 'NEGATIVE', 'score': 0.9956368803977966}, {'label': 'NEGATIVE', 'score': 0.980053722858429}, {'label': 'NEGATIVE', 'score': 0.9831022620201111}, {'label': 'NEGATIVE', 'score': 0.9950880408287048}, {'label': 'NEGATIVE', 'score': 0.9646284580230713}, {'label': 'NEGATIVE', 'score': 0.9987653493881226}, {'label': 'NEGATIVE', 'score': 0.9960403442382812}, {'label': 'NEGATIVE', 'score': 0.9890272617340088}, {'label': 'NEGATIVE', 'score': 0.992803156375885}, {'label': 'NEGATIVE', 'score': 0.9884594082832336}, {'label': 'POSITIVE', 'score': 0.9972358345985413}, {'label': 'NEGATIVE', 'score': 0.9924139380455017}, {'label': 'NEGATIVE', 'score': 0.6616169810295105}, {'label': 'POSITIVE', 'score': 0.9655756950378418}, {'label': 'POSITIVE', 'score': 0.9365726709365845}, {'label': 'NEGATIVE', 'score': 0.9971651434898376}, {'label': 'POSITIVE', 'score': 0.994403064250946}, {'label': 'NEGATIVE', 'score': 0.9800865650177002}, {'label': 'NEGATIVE', 'score': 0.9867777824401855}, {'label': 'NEGATIVE', 'score': 0.9963698387145996}, {'label': 'NEGATIVE', 'score': 0.986617386341095}, {'label': 'POSITIVE', 'score': 0.9847050905227661}, {'label': 'NEGATIVE', 'score': 0.9939525723457336}, {'label': 'NEGATIVE', 'score': 0.9765105247497559}, {'label': 'POSITIVE', 'score': 0.9656570553779602}, {'label': 'POSITIVE', 'score': 0.9954178333282471}, {'label': 'POSITIVE', 'score': 0.546470046043396}, {'label': 'NEGATIVE', 'score': 0.9787647724151611}, {'label': 'POSITIVE', 'score': 0.9992904663085938}, {'label': 'NEGATIVE', 'score': 0.9082938432693481}, {'label': 'NEGATIVE', 'score': 0.837406575679779}, {'label': 'POSITIVE', 'score': 0.9400959610939026}, {'label': 'NEGATIVE', 'score': 0.6160481572151184}, {'label': 'NEGATIVE', 'score': 0.9965992569923401}, {'label': 'NEGATIVE', 'score': 0.9213082194328308}, {'label': 'NEGATIVE', 'score': 0.6715416312217712}, {'label': 'NEGATIVE', 'score': 0.5508811473846436}, {'label': 'NEGATIVE', 'score': 0.989063560962677}, {'label': 'POSITIVE', 'score': 0.9971151351928711}, {'label': 'POSITIVE', 'score': 0.9723663330078125}, {'label': 'NEGATIVE', 'score': 0.6535770893096924}, {'label': 'NEGATIVE', 'score': 0.9658982753753662}, {'label': 'POSITIVE', 'score': 0.99861741065979}, {'label': 'NEGATIVE', 'score': 0.9257646203041077}, {'label': 'NEGATIVE', 'score': 0.9103906750679016}, {'label': 'NEGATIVE', 'score': 0.6969295144081116}, {'label': 'NEGATIVE', 'score': 0.9872637391090393}, {'label': 'NEGATIVE', 'score': 0.9681981205940247}, {'label': 'NEGATIVE', 'score': 0.9900684952735901}, {'label': 'NEGATIVE', 'score': 0.9973102807998657}, {'label': 'NEGATIVE', 'score': 0.9918884634971619}, {'label': 'POSITIVE', 'score': 0.9859551787376404}, {'label': 'NEGATIVE', 'score': 0.929121196269989}, {'label': 'NEGATIVE', 'score': 0.8356760144233704}, {'label': 'NEGATIVE', 'score': 0.989303708076477}, {'label': 'NEGATIVE', 'score': 0.9540162682533264}, {'label': 'POSITIVE', 'score': 0.992917537689209}, {'label': 'POSITIVE', 'score': 0.9968337416648865}, {'label': 'NEGATIVE', 'score': 0.9819096326828003}, {'label': 'POSITIVE', 'score': 0.9460222125053406}, {'label': 'NEGATIVE', 'score': 0.9618777632713318}, {'label': 'POSITIVE', 'score': 0.9887303709983826}, {'label': 'NEGATIVE', 'score': 0.9816513061523438}, {'label': 'NEGATIVE', 'score': 0.8307720422744751}, {'label': 'NEGATIVE', 'score': 0.9956991672515869}, {'label': 'NEGATIVE', 'score': 0.8084214925765991}, {'label': 'NEGATIVE', 'score': 0.998387336730957}, {'label': 'NEGATIVE', 'score': 0.9972659349441528}, {'label': 'POSITIVE', 'score': 0.6026646494865417}, {'label': 'NEGATIVE', 'score': 0.9946845173835754}, {'label': 'NEGATIVE', 'score': 0.9726219177246094}, {'label': 'POSITIVE', 'score': 0.959386944770813}, {'label': 'NEGATIVE', 'score': 0.9789043068885803}, {'label': 'POSITIVE', 'score': 0.9994791150093079}, {'label': 'NEGATIVE', 'score': 0.9918517470359802}, {'label': 'NEGATIVE', 'score': 0.8649284243583679}, {'label': 'NEGATIVE', 'score': 0.9976092576980591}, {'label': 'NEGATIVE', 'score': 0.9735654592514038}, {'label': 'POSITIVE', 'score': 0.9963505268096924}, {'label': 'POSITIVE', 'score': 0.9981536269187927}, {'label': 'NEGATIVE', 'score': 0.9996217489242554}, {'label': 'NEGATIVE', 'score': 0.9941934943199158}, {'label': 'NEGATIVE', 'score': 0.9988753199577332}, {'label': 'NEGATIVE', 'score': 0.9385510683059692}, {'label': 'NEGATIVE', 'score': 0.9934965372085571}, {'label': 'POSITIVE', 'score': 0.999528169631958}, {'label': 'NEGATIVE', 'score': 0.9938972592353821}, {'label': 'NEGATIVE', 'score': 0.9244343042373657}, {'label': 'NEGATIVE', 'score': 0.8417840600013733}, {'label': 'NEGATIVE', 'score': 0.9875531196594238}, {'label': 'POSITIVE', 'score': 0.997073769569397}, {'label': 'NEGATIVE', 'score': 0.7203301787376404}, {'label': 'NEGATIVE', 'score': 0.9952070116996765}, {'label': 'NEGATIVE', 'score': 0.9972000122070312}, {'label': 'NEGATIVE', 'score': 0.9964654445648193}, {'label': 'POSITIVE', 'score': 0.7964932322502136}, {'label': 'NEGATIVE', 'score': 0.8302791118621826}, {'label': 'NEGATIVE', 'score': 0.9928505420684814}, {'label': 'NEGATIVE', 'score': 0.658264696598053}, {'label': 'NEGATIVE', 'score': 0.5499969720840454}, {'label': 'NEGATIVE', 'score': 0.9970808625221252}, {'label': 'NEGATIVE', 'score': 0.8817009925842285}, {'label': 'POSITIVE', 'score': 0.9906792044639587}, {'label': 'POSITIVE', 'score': 0.9915148019790649}, {'label': 'NEGATIVE', 'score': 0.8740394711494446}, {'label': 'NEGATIVE', 'score': 0.9816688895225525}, {'label': 'NEGATIVE', 'score': 0.9685205221176147}, {'label': 'NEGATIVE', 'score': 0.9882298707962036}, {'label': 'NEGATIVE', 'score': 0.9948278069496155}, {'label': 'NEGATIVE', 'score': 0.9931783676147461}, {'label': 'NEGATIVE', 'score': 0.9955480098724365}, {'label': 'NEGATIVE', 'score': 0.9987120628356934}, {'label': 'NEGATIVE', 'score': 0.999664306640625}, {'label': 'POSITIVE', 'score': 0.9984839558601379}, {'label': 'NEGATIVE', 'score': 0.9968957901000977}, {'label': 'NEGATIVE', 'score': 0.9753663539886475}, {'label': 'NEGATIVE', 'score': 0.9895636439323425}, {'label': 'NEGATIVE', 'score': 0.9922745823860168}, {'label': 'NEGATIVE', 'score': 0.9916132688522339}, {'label': 'POSITIVE', 'score': 0.8172760605812073}, {'label': 'NEGATIVE', 'score': 0.9808633327484131}, {'label': 'NEGATIVE', 'score': 0.9440194964408875}, {'label': 'NEGATIVE', 'score': 0.9935516119003296}, {'label': 'NEGATIVE', 'score': 0.9862934350967407}, {'label': 'NEGATIVE', 'score': 0.9555562138557434}, {'label': 'NEGATIVE', 'score': 0.9948491454124451}, {'label': 'NEGATIVE', 'score': 0.9635626673698425}, {'label': 'POSITIVE', 'score': 0.9817675948143005}, {'label': 'POSITIVE', 'score': 0.9655165672302246}, {'label': 'POSITIVE', 'score': 0.5886074304580688}, {'label': 'POSITIVE', 'score': 0.9988943934440613}, {'label': 'NEGATIVE', 'score': 0.8417925834655762}, {'label': 'NEGATIVE', 'score': 0.9912545680999756}, {'label': 'NEGATIVE', 'score': 0.9906371235847473}, {'label': 'NEGATIVE', 'score': 0.9849564433097839}, {'label': 'NEGATIVE', 'score': 0.991256594657898}, {'label': 'NEGATIVE', 'score': 0.9942881464958191}, {'label': 'POSITIVE', 'score': 0.8304797410964966}, {'label': 'POSITIVE', 'score': 0.9986806511878967}, {'label': 'NEGATIVE', 'score': 0.9941651225090027}, {'label': 'NEGATIVE', 'score': 0.9996888637542725}, {'label': 'NEGATIVE', 'score': 0.9918947815895081}, {'label': 'POSITIVE', 'score': 0.9419286847114563}, {'label': 'POSITIVE', 'score': 0.5317479372024536}, {'label': 'NEGATIVE', 'score': 0.998478353023529}, {'label': 'NEGATIVE', 'score': 0.9971600770950317}, {'label': 'NEGATIVE', 'score': 0.8225292563438416}, {'label': 'POSITIVE', 'score': 0.9813053011894226}, {'label': 'NEGATIVE', 'score': 0.9991480112075806}, {'label': 'POSITIVE', 'score': 0.996141254901886}, {'label': 'POSITIVE', 'score': 0.9989970326423645}, {'label': 'POSITIVE', 'score': 0.9950681924819946}, {'label': 'POSITIVE', 'score': 0.8739212155342102}, {'label': 'NEGATIVE', 'score': 0.9763452410697937}, {'label': 'POSITIVE', 'score': 0.9631050229072571}, {'label': 'NEGATIVE', 'score': 0.9876698851585388}, {'label': 'POSITIVE', 'score': 0.9977174997329712}, {'label': 'NEGATIVE', 'score': 0.6091235876083374}, {'label': 'POSITIVE', 'score': 0.8159902095794678}, {'label': 'NEGATIVE', 'score': 0.6749026775360107}, {'label': 'POSITIVE', 'score': 0.9995874762535095}, {'label': 'NEGATIVE', 'score': 0.9078828692436218}, {'label': 'POSITIVE', 'score': 0.9699945449829102}, {'label': 'POSITIVE', 'score': 0.9534714818000793}, {'label': 'NEGATIVE', 'score': 0.9983673691749573}, {'label': 'POSITIVE', 'score': 0.9991888403892517}, {'label': 'NEGATIVE', 'score': 0.8400409817695618}, {'label': 'POSITIVE', 'score': 0.9879092574119568}, {'label': 'NEGATIVE', 'score': 0.996870219707489}, {'label': 'NEGATIVE', 'score': 0.995954155921936}, {'label': 'NEGATIVE', 'score': 0.99153733253479}, {'label': 'NEGATIVE', 'score': 0.8935635089874268}, {'label': 'POSITIVE', 'score': 0.9975907802581787}, {'label': 'POSITIVE', 'score': 0.986027717590332}, {'label': 'NEGATIVE', 'score': 0.9777104258537292}, {'label': 'POSITIVE', 'score': 0.9978775978088379}, {'label': 'NEGATIVE', 'score': 0.9951435327529907}, {'label': 'POSITIVE', 'score': 0.9991256594657898}, {'label': 'NEGATIVE', 'score': 0.9863507151603699}, {'label': 'POSITIVE', 'score': 0.9992584586143494}, {'label': 'POSITIVE', 'score': 0.9297484755516052}, {'label': 'POSITIVE', 'score': 0.8977516889572144}, {'label': 'NEGATIVE', 'score': 0.6468461751937866}, {'label': 'NEGATIVE', 'score': 0.9954197406768799}, {'label': 'POSITIVE', 'score': 0.9988561868667603}, {'label': 'NEGATIVE', 'score': 0.9958186745643616}, {'label': 'NEGATIVE', 'score': 0.9946197271347046}, {'label': 'NEGATIVE', 'score': 0.9971019625663757}, {'label': 'NEGATIVE', 'score': 0.9984385371208191}, {'label': 'NEGATIVE', 'score': 0.9906672835350037}, {'label': 'NEGATIVE', 'score': 0.9726319313049316}, {'label': 'POSITIVE', 'score': 0.9231104254722595}, {'label': 'NEGATIVE', 'score': 0.9966287016868591}, {'label': 'POSITIVE', 'score': 0.9979464411735535}, {'label': 'NEGATIVE', 'score': 0.9977606534957886}, {'label': 'NEGATIVE', 'score': 0.9909654855728149}, {'label': 'NEGATIVE', 'score': 0.9965531826019287}, {'label': 'NEGATIVE', 'score': 0.9872188568115234}, {'label': 'NEGATIVE', 'score': 0.9962014555931091}, {'label': 'NEGATIVE', 'score': 0.6384371519088745}, {'label': 'NEGATIVE', 'score': 0.9954376816749573}, {'label': 'NEGATIVE', 'score': 0.9926263689994812}, {'label': 'NEGATIVE', 'score': 0.9743936061859131}, {'label': 'NEGATIVE', 'score': 0.9518207907676697}, {'label': 'NEGATIVE', 'score': 0.9828509092330933}, {'label': 'NEGATIVE', 'score': 0.9972297549247742}, {'label': 'NEGATIVE', 'score': 0.995766282081604}, {'label': 'NEGATIVE', 'score': 0.9232559204101562}, {'label': 'POSITIVE', 'score': 0.997769832611084}, {'label': 'POSITIVE', 'score': 0.878864586353302}, {'label': 'POSITIVE', 'score': 0.9972298741340637}, {'label': 'POSITIVE', 'score': 0.9996577501296997}, {'label': 'POSITIVE', 'score': 0.9985910058021545}, {'label': 'NEGATIVE', 'score': 0.9664516448974609}, {'label': 'NEGATIVE', 'score': 0.9796913266181946}, {'label': 'POSITIVE', 'score': 0.9698991179466248}, {'label': 'NEGATIVE', 'score': 0.9892684817314148}, {'label': 'POSITIVE', 'score': 0.993817150592804}, {'label': 'NEGATIVE', 'score': 0.9497129321098328}, {'label': 'NEGATIVE', 'score': 0.9834811091423035}, {'label': 'NEGATIVE', 'score': 0.9936774373054504}, {'label': 'POSITIVE', 'score': 0.9850959181785583}, {'label': 'NEGATIVE', 'score': 0.9950018525123596}, {'label': 'NEGATIVE', 'score': 0.9979270696640015}, {'label': 'NEGATIVE', 'score': 0.975585401058197}, {'label': 'NEGATIVE', 'score': 0.9978717565536499}, {'label': 'NEGATIVE', 'score': 0.6811933517456055}, {'label': 'NEGATIVE', 'score': 0.9953433871269226}, {'label': 'NEGATIVE', 'score': 0.9765827059745789}, {'label': 'POSITIVE', 'score': 0.9934925436973572}, {'label': 'NEGATIVE', 'score': 0.9906642436981201}, {'label': 'NEGATIVE', 'score': 0.9859514236450195}, {'label': 'NEGATIVE', 'score': 0.9797985553741455}, {'label': 'NEGATIVE', 'score': 0.9977900981903076}, {'label': 'NEGATIVE', 'score': 0.9865994453430176}, {'label': 'POSITIVE', 'score': 0.9945755004882812}, {'label': 'NEGATIVE', 'score': 0.9672104120254517}, {'label': 'NEGATIVE', 'score': 0.9904885292053223}, {'label': 'POSITIVE', 'score': 0.9989117383956909}, {'label': 'NEGATIVE', 'score': 0.9985081553459167}, {'label': 'POSITIVE', 'score': 0.9904614090919495}, {'label': 'POSITIVE', 'score': 0.6123470067977905}, {'label': 'POSITIVE', 'score': 0.9908654093742371}, {'label': 'POSITIVE', 'score': 0.935360312461853}, {'label': 'NEGATIVE', 'score': 0.5495531558990479}, {'label': 'POSITIVE', 'score': 0.5863283276557922}, {'label': 'NEGATIVE', 'score': 0.9962599277496338}, {'label': 'NEGATIVE', 'score': 0.9921207427978516}, {'label': 'NEGATIVE', 'score': 0.9990127086639404}, {'label': 'NEGATIVE', 'score': 0.9962460398674011}, {'label': 'NEGATIVE', 'score': 0.9749985933303833}, {'label': 'POSITIVE', 'score': 0.9727320671081543}, {'label': 'POSITIVE', 'score': 0.9381101131439209}, {'label': 'NEGATIVE', 'score': 0.9954466223716736}, {'label': 'NEGATIVE', 'score': 0.9903680086135864}, {'label': 'NEGATIVE', 'score': 0.9953770637512207}, {'label': 'NEGATIVE', 'score': 0.9991719722747803}, {'label': 'POSITIVE', 'score': 0.926827609539032}, {'label': 'POSITIVE', 'score': 0.9992619156837463}, {'label': 'POSITIVE', 'score': 0.6847394704818726}, {'label': 'NEGATIVE', 'score': 0.9486588835716248}, {'label': 'NEGATIVE', 'score': 0.9836257100105286}, {'label': 'NEGATIVE', 'score': 0.5230116844177246}, {'label': 'NEGATIVE', 'score': 0.991111695766449}, {'label': 'NEGATIVE', 'score': 0.7735316157341003}, {'label': 'NEGATIVE', 'score': 0.969723105430603}, {'label': 'NEGATIVE', 'score': 0.9821266531944275}, {'label': 'NEGATIVE', 'score': 0.9867851138114929}, {'label': 'NEGATIVE', 'score': 0.9333138465881348}, {'label': 'POSITIVE', 'score': 0.9990666508674622}, {'label': 'NEGATIVE', 'score': 0.9946029782295227}, {'label': 'NEGATIVE', 'score': 0.9643981456756592}, {'label': 'NEGATIVE', 'score': 0.9981042146682739}, {'label': 'POSITIVE', 'score': 0.6477794051170349}, {'label': 'NEGATIVE', 'score': 0.9971969127655029}, {'label': 'NEGATIVE', 'score': 0.9880820512771606}, {'label': 'POSITIVE', 'score': 0.8146708607673645}, {'label': 'POSITIVE', 'score': 0.9745639562606812}, {'label': 'POSITIVE', 'score': 0.9793318510055542}, {'label': 'NEGATIVE', 'score': 0.8977119326591492}, {'label': 'POSITIVE', 'score': 0.9642782211303711}, {'label': 'POSITIVE', 'score': 0.9663927555084229}, {'label': 'NEGATIVE', 'score': 0.999056875705719}, {'label': 'NEGATIVE', 'score': 0.985558271408081}, {'label': 'POSITIVE', 'score': 0.9971454739570618}, {'label': 'NEGATIVE', 'score': 0.9789479374885559}, {'label': 'POSITIVE', 'score': 0.976341962814331}, {'label': 'NEGATIVE', 'score': 0.9960575103759766}, {'label': 'NEGATIVE', 'score': 0.9988394379615784}, {'label': 'NEGATIVE', 'score': 0.9880915880203247}, {'label': 'NEGATIVE', 'score': 0.9996079802513123}, {'label': 'NEGATIVE', 'score': 0.9895691275596619}, {'label': 'NEGATIVE', 'score': 0.9918214678764343}, {'label': 'NEGATIVE', 'score': 0.9988675117492676}, {'label': 'NEGATIVE', 'score': 0.983315646648407}, {'label': 'NEGATIVE', 'score': 0.9975168704986572}, {'label': 'NEGATIVE', 'score': 0.8778083920478821}, {'label': 'NEGATIVE', 'score': 0.8027864694595337}, {'label': 'NEGATIVE', 'score': 0.9959118366241455}, {'label': 'NEGATIVE', 'score': 0.9896775484085083}, {'label': 'NEGATIVE', 'score': 0.989602267742157}, {'label': 'NEGATIVE', 'score': 0.9948378205299377}, {'label': 'NEGATIVE', 'score': 0.7997051477432251}, {'label': 'NEGATIVE', 'score': 0.9964082837104797}, {'label': 'NEGATIVE', 'score': 0.6255276203155518}, {'label': 'NEGATIVE', 'score': 0.9668903350830078}, {'label': 'NEGATIVE', 'score': 0.9968509078025818}, {'label': 'NEGATIVE', 'score': 0.9992617964744568}, {'label': 'NEGATIVE', 'score': 0.9429302215576172}, {'label': 'NEGATIVE', 'score': 0.9935285449028015}, {'label': 'POSITIVE', 'score': 0.9447402954101562}, {'label': 'POSITIVE', 'score': 0.9949192404747009}, {'label': 'POSITIVE', 'score': 0.9940124154090881}, {'label': 'NEGATIVE', 'score': 0.9936246871948242}, {'label': 'NEGATIVE', 'score': 0.9973635077476501}, {'label': 'NEGATIVE', 'score': 0.9976478219032288}, {'label': 'NEGATIVE', 'score': 0.980330765247345}, {'label': 'NEGATIVE', 'score': 0.9388748407363892}, {'label': 'NEGATIVE', 'score': 0.9987984895706177}, {'label': 'NEGATIVE', 'score': 0.9908288717269897}, {'label': 'NEGATIVE', 'score': 0.985395073890686}, {'label': 'NEGATIVE', 'score': 0.9897026419639587}, {'label': 'POSITIVE', 'score': 0.9000557661056519}, {'label': 'POSITIVE', 'score': 0.9994613528251648}, {'label': 'POSITIVE', 'score': 0.9958081245422363}, {'label': 'POSITIVE', 'score': 0.9958806037902832}, {'label': 'NEGATIVE', 'score': 0.9906796813011169}, {'label': 'NEGATIVE', 'score': 0.9954875111579895}, {'label': 'NEGATIVE', 'score': 0.9897602200508118}, {'label': 'POSITIVE', 'score': 0.9993928670883179}, {'label': 'NEGATIVE', 'score': 0.9404942989349365}, {'label': 'POSITIVE', 'score': 0.6331433653831482}, {'label': 'NEGATIVE', 'score': 0.8067451119422913}, {'label': 'NEGATIVE', 'score': 0.96477872133255}, {'label': 'POSITIVE', 'score': 0.9795719981193542}, {'label': 'NEGATIVE', 'score': 0.9899665117263794}, {'label': 'NEGATIVE', 'score': 0.8931838870048523}, {'label': 'POSITIVE', 'score': 0.9955515265464783}, {'label': 'NEGATIVE', 'score': 0.8678591251373291}, {'label': 'NEGATIVE', 'score': 0.9408952593803406}, {'label': 'NEGATIVE', 'score': 0.9873441457748413}, {'label': 'NEGATIVE', 'score': 0.9899770617485046}, {'label': 'NEGATIVE', 'score': 0.7463525533676147}, {'label': 'NEGATIVE', 'score': 0.9926015734672546}, {'label': 'NEGATIVE', 'score': 0.9789617657661438}, {'label': 'NEGATIVE', 'score': 0.9975178241729736}, {'label': 'NEGATIVE', 'score': 0.8975801467895508}, {'label': 'NEGATIVE', 'score': 0.9912370443344116}, {'label': 'NEGATIVE', 'score': 0.9920228719711304}, {'label': 'NEGATIVE', 'score': 0.6716479659080505}, {'label': 'NEGATIVE', 'score': 0.9964728951454163}, {'label': 'POSITIVE', 'score': 0.9997511506080627}, {'label': 'NEGATIVE', 'score': 0.6501604318618774}, {'label': 'POSITIVE', 'score': 0.9954532384872437}, {'label': 'NEGATIVE', 'score': 0.9918890595436096}, {'label': 'NEGATIVE', 'score': 0.9997101426124573}, {'label': 'NEGATIVE', 'score': 0.996155321598053}, {'label': 'NEGATIVE', 'score': 0.9953216910362244}, {'label': 'NEGATIVE', 'score': 0.9728835821151733}, {'label': 'NEGATIVE', 'score': 0.9823504686355591}, {'label': 'POSITIVE', 'score': 0.7100095748901367}, {'label': 'NEGATIVE', 'score': 0.9962353110313416}, {'label': 'NEGATIVE', 'score': 0.9783994555473328}, {'label': 'POSITIVE', 'score': 0.7200713157653809}, {'label': 'NEGATIVE', 'score': 0.5239511132240295}, {'label': 'NEGATIVE', 'score': 0.9500225782394409}, {'label': 'NEGATIVE', 'score': 0.8203545808792114}, {'label': 'NEGATIVE', 'score': 0.9967442750930786}, {'label': 'POSITIVE', 'score': 0.9736210703849792}, {'label': 'NEGATIVE', 'score': 0.6419127583503723}, {'label': 'POSITIVE', 'score': 0.9595947861671448}, {'label': 'POSITIVE', 'score': 0.8032574653625488}, {'label': 'NEGATIVE', 'score': 0.9845153093338013}, {'label': 'NEGATIVE', 'score': 0.9902424216270447}, {'label': 'NEGATIVE', 'score': 0.7857492566108704}, {'label': 'NEGATIVE', 'score': 0.9873550534248352}, {'label': 'NEGATIVE', 'score': 0.9990230798721313}, {'label': 'NEGATIVE', 'score': 0.978408932685852}, {'label': 'NEGATIVE', 'score': 0.9991649389266968}, {'label': 'NEGATIVE', 'score': 0.9382789731025696}, {'label': 'NEGATIVE', 'score': 0.970413088798523}, {'label': 'NEGATIVE', 'score': 0.9942598342895508}, {'label': 'NEGATIVE', 'score': 0.9921228289604187}, {'label': 'NEGATIVE', 'score': 0.8274939060211182}, {'label': 'NEGATIVE', 'score': 0.9959656000137329}, {'label': 'NEGATIVE', 'score': 0.996333122253418}, {'label': 'NEGATIVE', 'score': 0.9988740086555481}, {'label': 'POSITIVE', 'score': 0.9973702430725098}, {'label': 'POSITIVE', 'score': 0.7933002710342407}, {'label': 'NEGATIVE', 'score': 0.9994813799858093}, {'label': 'NEGATIVE', 'score': 0.9899744391441345}, {'label': 'NEGATIVE', 'score': 0.9413666129112244}, {'label': 'NEGATIVE', 'score': 0.9904511570930481}, {'label': 'POSITIVE', 'score': 0.9669129252433777}, {'label': 'NEGATIVE', 'score': 0.8000406622886658}, {'label': 'POSITIVE', 'score': 0.7692993879318237}, {'label': 'POSITIVE', 'score': 0.7882056832313538}, {'label': 'NEGATIVE', 'score': 0.9944605827331543}, {'label': 'POSITIVE', 'score': 0.9989598989486694}, {'label': 'NEGATIVE', 'score': 0.9948335886001587}, {'label': 'NEGATIVE', 'score': 0.9870792627334595}, {'label': 'NEGATIVE', 'score': 0.9979748129844666}, {'label': 'NEGATIVE', 'score': 0.9981155395507812}, {'label': 'NEGATIVE', 'score': 0.973391056060791}, {'label': 'NEGATIVE', 'score': 0.9939970970153809}, {'label': 'NEGATIVE', 'score': 0.9923736453056335}, {'label': 'NEGATIVE', 'score': 0.9962647557258606}, {'label': 'POSITIVE', 'score': 0.9738581776618958}, {'label': 'NEGATIVE', 'score': 0.9682411551475525}, {'label': 'NEGATIVE', 'score': 0.9802125692367554}, {'label': 'NEGATIVE', 'score': 0.9952805638313293}, {'label': 'NEGATIVE', 'score': 0.9952558875083923}, {'label': 'NEGATIVE', 'score': 0.9888124465942383}, {'label': 'NEGATIVE', 'score': 0.990059494972229}, {'label': 'NEGATIVE', 'score': 0.988777220249176}, {'label': 'NEGATIVE', 'score': 0.9963908791542053}, {'label': 'POSITIVE', 'score': 0.7368410229682922}, {'label': 'NEGATIVE', 'score': 0.5216807723045349}, {'label': 'POSITIVE', 'score': 0.9901067614555359}, {'label': 'POSITIVE', 'score': 0.981873631477356}, {'label': 'NEGATIVE', 'score': 0.9406222105026245}, {'label': 'POSITIVE', 'score': 0.9927293658256531}, {'label': 'NEGATIVE', 'score': 0.9932544827461243}, {'label': 'NEGATIVE', 'score': 0.7894038558006287}, {'label': 'NEGATIVE', 'score': 0.996541440486908}, {'label': 'POSITIVE', 'score': 0.9978833794593811}, {'label': 'NEGATIVE', 'score': 0.9986010193824768}, {'label': 'NEGATIVE', 'score': 0.9988790154457092}, {'label': 'NEGATIVE', 'score': 0.9900454878807068}, {'label': 'POSITIVE', 'score': 0.9993205070495605}, {'label': 'NEGATIVE', 'score': 0.989137589931488}, {'label': 'NEGATIVE', 'score': 0.996300458908081}, {'label': 'POSITIVE', 'score': 0.998506486415863}, {'label': 'POSITIVE', 'score': 0.925385057926178}, {'label': 'POSITIVE', 'score': 0.9661020636558533}, {'label': 'NEGATIVE', 'score': 0.9960706233978271}, {'label': 'POSITIVE', 'score': 0.7499852776527405}, {'label': 'NEGATIVE', 'score': 0.9968734383583069}, {'label': 'NEGATIVE', 'score': 0.997250497341156}, {'label': 'NEGATIVE', 'score': 0.9968631267547607}, {'label': 'NEGATIVE', 'score': 0.997061550617218}, {'label': 'POSITIVE', 'score': 0.9966500401496887}, {'label': 'NEGATIVE', 'score': 0.9947196245193481}, {'label': 'NEGATIVE', 'score': 0.9984354376792908}, {'label': 'POSITIVE', 'score': 0.989643931388855}, {'label': 'NEGATIVE', 'score': 0.9898622035980225}, {'label': 'NEGATIVE', 'score': 0.9977533221244812}, {'label': 'NEGATIVE', 'score': 0.9835938811302185}, {'label': 'POSITIVE', 'score': 0.998264491558075}, {'label': 'NEGATIVE', 'score': 0.9691162109375}, {'label': 'POSITIVE', 'score': 0.8930441737174988}, {'label': 'POSITIVE', 'score': 0.9985880255699158}, {'label': 'NEGATIVE', 'score': 0.9992244243621826}, {'label': 'POSITIVE', 'score': 0.9980517625808716}, {'label': 'NEGATIVE', 'score': 0.8883362412452698}, {'label': 'NEGATIVE', 'score': 0.9905145168304443}, {'label': 'NEGATIVE', 'score': 0.8855855464935303}, {'label': 'NEGATIVE', 'score': 0.9954049587249756}, {'label': 'NEGATIVE', 'score': 0.8087408542633057}, {'label': 'POSITIVE', 'score': 0.9819356799125671}, {'label': 'NEGATIVE', 'score': 0.9899396300315857}, {'label': 'NEGATIVE', 'score': 0.9989801049232483}, {'label': 'NEGATIVE', 'score': 0.9988006353378296}, {'label': 'NEGATIVE', 'score': 0.986322283744812}, {'label': 'NEGATIVE', 'score': 0.9879348278045654}, {'label': 'NEGATIVE', 'score': 0.9960059523582458}, {'label': 'NEGATIVE', 'score': 0.9849798083305359}, {'label': 'NEGATIVE', 'score': 0.9748668074607849}, {'label': 'NEGATIVE', 'score': 0.9951221346855164}, {'label': 'NEGATIVE', 'score': 0.9240676760673523}, {'label': 'POSITIVE', 'score': 0.8105170130729675}, {'label': 'POSITIVE', 'score': 0.9515435099601746}, {'label': 'NEGATIVE', 'score': 0.9997504353523254}, {'label': 'NEGATIVE', 'score': 0.9975000023841858}, {'label': 'NEGATIVE', 'score': 0.8999598026275635}, {'label': 'POSITIVE', 'score': 0.9994489550590515}, {'label': 'POSITIVE', 'score': 0.9989849925041199}, {'label': 'POSITIVE', 'score': 0.5832242965698242}, {'label': 'POSITIVE', 'score': 0.9912087917327881}, {'label': 'POSITIVE', 'score': 0.9969340562820435}, {'label': 'NEGATIVE', 'score': 0.9973012804985046}, {'label': 'NEGATIVE', 'score': 0.994536280632019}, {'label': 'NEGATIVE', 'score': 0.9907258152961731}, {'label': 'NEGATIVE', 'score': 0.9986239671707153}, {'label': 'NEGATIVE', 'score': 0.9962291121482849}, {'label': 'NEGATIVE', 'score': 0.9841879606246948}, {'label': 'POSITIVE', 'score': 0.9768816828727722}, {'label': 'POSITIVE', 'score': 0.7570688724517822}, {'label': 'NEGATIVE', 'score': 0.9638527631759644}, {'label': 'POSITIVE', 'score': 0.9755048155784607}, {'label': 'POSITIVE', 'score': 0.9922670722007751}, {'label': 'NEGATIVE', 'score': 0.9013763070106506}, {'label': 'NEGATIVE', 'score': 0.9917375445365906}, {'label': 'NEGATIVE', 'score': 0.9801108241081238}, {'label': 'NEGATIVE', 'score': 0.9736723303794861}, {'label': 'NEGATIVE', 'score': 0.998752236366272}, {'label': 'NEGATIVE', 'score': 0.997765302658081}, {'label': 'NEGATIVE', 'score': 0.9946879148483276}, {'label': 'NEGATIVE', 'score': 0.9120176434516907}, {'label': 'NEGATIVE', 'score': 0.9965403079986572}, {'label': 'NEGATIVE', 'score': 0.9996997117996216}, {'label': 'POSITIVE', 'score': 0.993287980556488}, {'label': 'NEGATIVE', 'score': 0.9914659261703491}, {'label': 'NEGATIVE', 'score': 0.9796121716499329}, {'label': 'NEGATIVE', 'score': 0.9795588254928589}, {'label': 'NEGATIVE', 'score': 0.9278774857521057}, {'label': 'NEGATIVE', 'score': 0.9993540644645691}, {'label': 'NEGATIVE', 'score': 0.9941198825836182}, {'label': 'POSITIVE', 'score': 0.9777191281318665}, {'label': 'NEGATIVE', 'score': 0.9933781027793884}, {'label': 'NEGATIVE', 'score': 0.9965685606002808}, {'label': 'NEGATIVE', 'score': 0.9996700286865234}, {'label': 'NEGATIVE', 'score': 0.9986446499824524}, {'label': 'NEGATIVE', 'score': 0.9448434114456177}, {'label': 'NEGATIVE', 'score': 0.8540220856666565}, {'label': 'NEGATIVE', 'score': 0.9779174327850342}, {'label': 'NEGATIVE', 'score': 0.9981964230537415}, {'label': 'POSITIVE', 'score': 0.9852666854858398}, {'label': 'POSITIVE', 'score': 0.9714391231536865}, {'label': 'NEGATIVE', 'score': 0.9978018403053284}, {'label': 'POSITIVE', 'score': 0.9987640380859375}, {'label': 'NEGATIVE', 'score': 0.9417105913162231}, {'label': 'NEGATIVE', 'score': 0.997256338596344}, {'label': 'NEGATIVE', 'score': 0.9709678888320923}, {'label': 'NEGATIVE', 'score': 0.994016170501709}, {'label': 'NEGATIVE', 'score': 0.8760547637939453}, {'label': 'NEGATIVE', 'score': 0.9434096217155457}, {'label': 'POSITIVE', 'score': 0.934165894985199}, {'label': 'NEGATIVE', 'score': 0.9909815192222595}, {'label': 'NEGATIVE', 'score': 0.9948134422302246}, {'label': 'NEGATIVE', 'score': 0.82480788230896}, {'label': 'NEGATIVE', 'score': 0.9935243129730225}, {'label': 'POSITIVE', 'score': 0.659203052520752}, {'label': 'NEGATIVE', 'score': 0.9812235832214355}, {'label': 'POSITIVE', 'score': 0.9952763319015503}, {'label': 'NEGATIVE', 'score': 0.9990720748901367}, {'label': 'POSITIVE', 'score': 0.9885172843933105}, {'label': 'NEGATIVE', 'score': 0.9935269355773926}, {'label': 'NEGATIVE', 'score': 0.975554883480072}, {'label': 'POSITIVE', 'score': 0.964681088924408}, {'label': 'NEGATIVE', 'score': 0.9651221036911011}, {'label': 'NEGATIVE', 'score': 0.9954564571380615}, {'label': 'POSITIVE', 'score': 0.9936916828155518}, {'label': 'POSITIVE', 'score': 0.9565625786781311}, {'label': 'NEGATIVE', 'score': 0.8778896927833557}, {'label': 'NEGATIVE', 'score': 0.9988788962364197}, {'label': 'POSITIVE', 'score': 0.9941225647926331}, {'label': 'POSITIVE', 'score': 0.7969462871551514}, {'label': 'NEGATIVE', 'score': 0.9562727212905884}, {'label': 'NEGATIVE', 'score': 0.9993501305580139}, {'label': 'NEGATIVE', 'score': 0.5681928992271423}, {'label': 'NEGATIVE', 'score': 0.9987884163856506}, {'label': 'POSITIVE', 'score': 0.9991834759712219}, {'label': 'NEGATIVE', 'score': 0.9907665252685547}, {'label': 'NEGATIVE', 'score': 0.9997853636741638}, {'label': 'NEGATIVE', 'score': 0.9976734519004822}, {'label': 'NEGATIVE', 'score': 0.99664705991745}, {'label': 'NEGATIVE', 'score': 0.9885467290878296}, {'label': 'NEGATIVE', 'score': 0.9950559139251709}, {'label': 'NEGATIVE', 'score': 0.9942373037338257}, {'label': 'NEGATIVE', 'score': 0.999631404876709}, {'label': 'POSITIVE', 'score': 0.9825289249420166}, {'label': 'NEGATIVE', 'score': 0.8601242899894714}, {'label': 'POSITIVE', 'score': 0.984777569770813}, {'label': 'NEGATIVE', 'score': 0.9951145648956299}, {'label': 'POSITIVE', 'score': 0.9793282151222229}, {'label': 'NEGATIVE', 'score': 0.9977957010269165}, {'label': 'NEGATIVE', 'score': 0.9965136647224426}, {'label': 'NEGATIVE', 'score': 0.9863986968994141}, {'label': 'NEGATIVE', 'score': 0.9639129638671875}, {'label': 'NEGATIVE', 'score': 0.949504554271698}, {'label': 'NEGATIVE', 'score': 0.9701833724975586}, {'label': 'NEGATIVE', 'score': 0.97989422082901}, {'label': 'NEGATIVE', 'score': 0.9688274264335632}, {'label': 'NEGATIVE', 'score': 0.9724346399307251}, {'label': 'NEGATIVE', 'score': 0.9849745035171509}, {'label': 'NEGATIVE', 'score': 0.9939008951187134}, {'label': 'NEGATIVE', 'score': 0.9956961870193481}, {'label': 'POSITIVE', 'score': 0.9841879606246948}, {'label': 'NEGATIVE', 'score': 0.9837123155593872}, {'label': 'NEGATIVE', 'score': 0.9603220224380493}, {'label': 'NEGATIVE', 'score': 0.8050413131713867}, {'label': 'NEGATIVE', 'score': 0.9939788579940796}, {'label': 'NEGATIVE', 'score': 0.6287861466407776}, {'label': 'NEGATIVE', 'score': 0.99696284532547}, {'label': 'POSITIVE', 'score': 0.932711660861969}, {'label': 'POSITIVE', 'score': 0.8960648775100708}, {'label': 'NEGATIVE', 'score': 0.9799601435661316}, {'label': 'POSITIVE', 'score': 0.9873002171516418}, {'label': 'NEGATIVE', 'score': 0.9915135502815247}, {'label': 'NEGATIVE', 'score': 0.9971387386322021}, {'label': 'NEGATIVE', 'score': 0.9907923936843872}, {'label': 'POSITIVE', 'score': 0.9457412958145142}, {'label': 'NEGATIVE', 'score': 0.9496910572052002}, {'label': 'POSITIVE', 'score': 0.9946552515029907}, {'label': 'NEGATIVE', 'score': 0.9565351009368896}, {'label': 'POSITIVE', 'score': 0.9955748319625854}, {'label': 'POSITIVE', 'score': 0.9966251850128174}, {'label': 'NEGATIVE', 'score': 0.9924604296684265}, {'label': 'NEGATIVE', 'score': 0.9996091723442078}, {'label': 'NEGATIVE', 'score': 0.9996457099914551}, {'label': 'POSITIVE', 'score': 0.811516284942627}, {'label': 'NEGATIVE', 'score': 0.9997965693473816}, {'label': 'NEGATIVE', 'score': 0.9980027079582214}, {'label': 'NEGATIVE', 'score': 0.9984172582626343}, {'label': 'NEGATIVE', 'score': 0.9974402189254761}, {'label': 'NEGATIVE', 'score': 0.9786930084228516}, {'label': 'NEGATIVE', 'score': 0.9571071863174438}, {'label': 'NEGATIVE', 'score': 0.9973852038383484}, {'label': 'NEGATIVE', 'score': 0.9980675578117371}, {'label': 'POSITIVE', 'score': 0.9842274785041809}, {'label': 'NEGATIVE', 'score': 0.9900098443031311}, {'label': 'POSITIVE', 'score': 0.9888344407081604}, {'label': 'NEGATIVE', 'score': 0.9974740147590637}, {'label': 'NEGATIVE', 'score': 0.9974232912063599}, {'label': 'NEGATIVE', 'score': 0.6325947642326355}, {'label': 'NEGATIVE', 'score': 0.5902636051177979}, {'label': 'NEGATIVE', 'score': 0.9944279193878174}, {'label': 'NEGATIVE', 'score': 0.9448716044425964}, {'label': 'NEGATIVE', 'score': 0.9954347014427185}, {'label': 'NEGATIVE', 'score': 0.998199462890625}, {'label': 'NEGATIVE', 'score': 0.976200520992279}, {'label': 'NEGATIVE', 'score': 0.801157534122467}, {'label': 'NEGATIVE', 'score': 0.9965150356292725}, {'label': 'NEGATIVE', 'score': 0.9972105622291565}, {'label': 'POSITIVE', 'score': 0.9959884285926819}, {'label': 'NEGATIVE', 'score': 0.990828275680542}, {'label': 'NEGATIVE', 'score': 0.9695150852203369}, {'label': 'NEGATIVE', 'score': 0.968254029750824}, {'label': 'NEGATIVE', 'score': 0.9935865998268127}, {'label': 'NEGATIVE', 'score': 0.996333122253418}, {'label': 'NEGATIVE', 'score': 0.9793943762779236}, {'label': 'NEGATIVE', 'score': 0.9789526462554932}, {'label': 'NEGATIVE', 'score': 0.9809874296188354}, {'label': 'POSITIVE', 'score': 0.9874956011772156}, {'label': 'POSITIVE', 'score': 0.9997146725654602}, {'label': 'NEGATIVE', 'score': 0.9933607578277588}, {'label': 'NEGATIVE', 'score': 0.9898031949996948}, {'label': 'POSITIVE', 'score': 0.9996848106384277}, {'label': 'NEGATIVE', 'score': 0.577178418636322}, {'label': 'NEGATIVE', 'score': 0.9965864419937134}, {'label': 'POSITIVE', 'score': 0.5169080495834351}, {'label': 'POSITIVE', 'score': 0.7005138993263245}, {'label': 'POSITIVE', 'score': 0.7606334686279297}, {'label': 'NEGATIVE', 'score': 0.9978033900260925}, {'label': 'NEGATIVE', 'score': 0.9906706809997559}, {'label': 'NEGATIVE', 'score': 0.9949973821640015}, {'label': 'NEGATIVE', 'score': 0.7497813105583191}, {'label': 'NEGATIVE', 'score': 0.9609624147415161}, {'label': 'NEGATIVE', 'score': 0.9930219054222107}, {'label': 'NEGATIVE', 'score': 0.9965468049049377}, {'label': 'NEGATIVE', 'score': 0.9984815716743469}, {'label': 'NEGATIVE', 'score': 0.9797313809394836}, {'label': 'NEGATIVE', 'score': 0.9701142311096191}, {'label': 'NEGATIVE', 'score': 0.5806103348731995}, {'label': 'NEGATIVE', 'score': 0.9972102046012878}, {'label': 'NEGATIVE', 'score': 0.9810097813606262}, {'label': 'NEGATIVE', 'score': 0.9805961847305298}, {'label': 'NEGATIVE', 'score': 0.9518225193023682}, {'label': 'NEGATIVE', 'score': 0.9537255167961121}, {'label': 'NEGATIVE', 'score': 0.7244561910629272}, {'label': 'NEGATIVE', 'score': 0.6113023161888123}, {'label': 'NEGATIVE', 'score': 0.9956446886062622}, {'label': 'NEGATIVE', 'score': 0.9868155121803284}, {'label': 'NEGATIVE', 'score': 0.9692499041557312}, {'label': 'NEGATIVE', 'score': 0.7897698879241943}, {'label': 'NEGATIVE', 'score': 0.9913718700408936}, {'label': 'POSITIVE', 'score': 0.7973875403404236}, {'label': 'NEGATIVE', 'score': 0.9840871691703796}, {'label': 'NEGATIVE', 'score': 0.9965280890464783}, {'label': 'NEGATIVE', 'score': 0.9910140633583069}, {'label': 'NEGATIVE', 'score': 0.982386589050293}, {'label': 'POSITIVE', 'score': 0.9973674416542053}, {'label': 'NEGATIVE', 'score': 0.996954083442688}, {'label': 'NEGATIVE', 'score': 0.9949936270713806}, {'label': 'NEGATIVE', 'score': 0.9949901700019836}, {'label': 'NEGATIVE', 'score': 0.9919082522392273}, {'label': 'POSITIVE', 'score': 0.9921423196792603}, {'label': 'NEGATIVE', 'score': 0.994270920753479}, {'label': 'POSITIVE', 'score': 0.773979663848877}, {'label': 'NEGATIVE', 'score': 0.9845560789108276}, {'label': 'NEGATIVE', 'score': 0.9939978122711182}, {'label': 'NEGATIVE', 'score': 0.9816849827766418}, {'label': 'POSITIVE', 'score': 0.8809434771537781}, {'label': 'NEGATIVE', 'score': 0.9780763983726501}, {'label': 'NEGATIVE', 'score': 0.9854761958122253}, {'label': 'NEGATIVE', 'score': 0.9927327036857605}, {'label': 'NEGATIVE', 'score': 0.9955093860626221}, {'label': 'POSITIVE', 'score': 0.9669596552848816}, {'label': 'NEGATIVE', 'score': 0.9937947988510132}, {'label': 'POSITIVE', 'score': 0.9737977981567383}, {'label': 'NEGATIVE', 'score': 0.9581547975540161}, {'label': 'POSITIVE', 'score': 0.998439371585846}, {'label': 'POSITIVE', 'score': 0.8601315021514893}, {'label': 'NEGATIVE', 'score': 0.9799725413322449}, {'label': 'NEGATIVE', 'score': 0.9958083629608154}, {'label': 'POSITIVE', 'score': 0.9840519428253174}, {'label': 'NEGATIVE', 'score': 0.9944061040878296}, {'label': 'NEGATIVE', 'score': 0.7012892365455627}, {'label': 'NEGATIVE', 'score': 0.994247555732727}, {'label': 'NEGATIVE', 'score': 0.9951174259185791}, {'label': 'NEGATIVE', 'score': 0.9955804944038391}, {'label': 'NEGATIVE', 'score': 0.9797378778457642}, {'label': 'NEGATIVE', 'score': 0.9915426969528198}, {'label': 'NEGATIVE', 'score': 0.8753820657730103}, {'label': 'NEGATIVE', 'score': 0.593392550945282}, {'label': 'POSITIVE', 'score': 0.9874864816665649}, {'label': 'POSITIVE', 'score': 0.6089022755622864}, {'label': 'NEGATIVE', 'score': 0.9830668568611145}, {'label': 'NEGATIVE', 'score': 0.9782992601394653}, {'label': 'NEGATIVE', 'score': 0.9729701280593872}, {'label': 'NEGATIVE', 'score': 0.9960103034973145}, {'label': 'NEGATIVE', 'score': 0.9957996010780334}, {'label': 'NEGATIVE', 'score': 0.8899273872375488}, {'label': 'NEGATIVE', 'score': 0.9877007007598877}, {'label': 'POSITIVE', 'score': 0.9964404702186584}, {'label': 'NEGATIVE', 'score': 0.992790699005127}, {'label': 'POSITIVE', 'score': 0.7989943623542786}, {'label': 'NEGATIVE', 'score': 0.9678051471710205}, {'label': 'NEGATIVE', 'score': 0.9878969192504883}, {'label': 'NEGATIVE', 'score': 0.9972085356712341}, {'label': 'NEGATIVE', 'score': 0.9970046877861023}, {'label': 'NEGATIVE', 'score': 0.9970296621322632}, {'label': 'NEGATIVE', 'score': 0.9806532859802246}, {'label': 'NEGATIVE', 'score': 0.9807906150817871}, {'label': 'NEGATIVE', 'score': 0.998698353767395}, {'label': 'POSITIVE', 'score': 0.9779556393623352}, {'label': 'NEGATIVE', 'score': 0.996264636516571}, {'label': 'NEGATIVE', 'score': 0.9950633645057678}, {'label': 'NEGATIVE', 'score': 0.6939477324485779}, {'label': 'NEGATIVE', 'score': 0.998907208442688}, {'label': 'NEGATIVE', 'score': 0.7650872468948364}, {'label': 'POSITIVE', 'score': 0.984262228012085}, {'label': 'POSITIVE', 'score': 0.9963017702102661}, {'label': 'NEGATIVE', 'score': 0.9962815642356873}, {'label': 'POSITIVE', 'score': 0.8892070651054382}, {'label': 'NEGATIVE', 'score': 0.9968535304069519}, {'label': 'NEGATIVE', 'score': 0.9938270449638367}, {'label': 'POSITIVE', 'score': 0.6627352237701416}, {'label': 'POSITIVE', 'score': 0.9676347970962524}, {'label': 'POSITIVE', 'score': 0.947478175163269}, {'label': 'POSITIVE', 'score': 0.6516054272651672}, {'label': 'NEGATIVE', 'score': 0.9943895936012268}, {'label': 'NEGATIVE', 'score': 0.730211079120636}, {'label': 'NEGATIVE', 'score': 0.8636583089828491}, {'label': 'POSITIVE', 'score': 0.6648873686790466}, {'label': 'POSITIVE', 'score': 0.9983031749725342}, {'label': 'NEGATIVE', 'score': 0.9949404001235962}, {'label': 'NEGATIVE', 'score': 0.8629401326179504}, {'label': 'NEGATIVE', 'score': 0.992588996887207}, {'label': 'POSITIVE', 'score': 0.9900751709938049}, {'label': 'NEGATIVE', 'score': 0.962056577205658}, {'label': 'NEGATIVE', 'score': 0.557861328125}, {'label': 'POSITIVE', 'score': 0.9801115393638611}, {'label': 'POSITIVE', 'score': 0.9019389152526855}, {'label': 'NEGATIVE', 'score': 0.9956566095352173}, {'label': 'POSITIVE', 'score': 0.989465594291687}, {'label': 'NEGATIVE', 'score': 0.9934053421020508}, {'label': 'POSITIVE', 'score': 0.8606526851654053}, {'label': 'NEGATIVE', 'score': 0.9813947677612305}, {'label': 'POSITIVE', 'score': 0.994712769985199}, {'label': 'NEGATIVE', 'score': 0.6708886027336121}, {'label': 'POSITIVE', 'score': 0.9867733716964722}, {'label': 'NEGATIVE', 'score': 0.9944262504577637}, {'label': 'POSITIVE', 'score': 0.994465172290802}, {'label': 'NEGATIVE', 'score': 0.982959508895874}, {'label': 'NEGATIVE', 'score': 0.9975796341896057}, {'label': 'NEGATIVE', 'score': 0.9856854677200317}, {'label': 'NEGATIVE', 'score': 0.9612100720405579}, {'label': 'NEGATIVE', 'score': 0.9996205568313599}, {'label': 'NEGATIVE', 'score': 0.5528161525726318}, {'label': 'NEGATIVE', 'score': 0.800093412399292}, {'label': 'NEGATIVE', 'score': 0.9893602132797241}, {'label': 'NEGATIVE', 'score': 0.9955312609672546}, {'label': 'NEGATIVE', 'score': 0.997978150844574}, {'label': 'POSITIVE', 'score': 0.9969295859336853}, {'label': 'NEGATIVE', 'score': 0.9190513491630554}, {'label': 'POSITIVE', 'score': 0.9926833510398865}, {'label': 'POSITIVE', 'score': 0.9991680383682251}, {'label': 'POSITIVE', 'score': 0.5411951541900635}, {'label': 'POSITIVE', 'score': 0.9976567029953003}, {'label': 'POSITIVE', 'score': 0.9996819496154785}, {'label': 'NEGATIVE', 'score': 0.9983489513397217}, {'label': 'NEGATIVE', 'score': 0.9854854941368103}, {'label': 'NEGATIVE', 'score': 0.9864501357078552}, {'label': 'NEGATIVE', 'score': 0.9796550869941711}, {'label': 'NEGATIVE', 'score': 0.9963663816452026}, {'label': 'NEGATIVE', 'score': 0.9956259727478027}, {'label': 'POSITIVE', 'score': 0.9979507327079773}, {'label': 'POSITIVE', 'score': 0.9825928211212158}, {'label': 'NEGATIVE', 'score': 0.9960190653800964}, {'label': 'NEGATIVE', 'score': 0.9802840352058411}, {'label': 'NEGATIVE', 'score': 0.9977579712867737}, {'label': 'NEGATIVE', 'score': 0.9730579257011414}, {'label': 'POSITIVE', 'score': 0.9403355121612549}, {'label': 'POSITIVE', 'score': 0.8839138746261597}, {'label': 'POSITIVE', 'score': 0.9959409236907959}, {'label': 'POSITIVE', 'score': 0.998691737651825}, {'label': 'POSITIVE', 'score': 0.998360812664032}, {'label': 'NEGATIVE', 'score': 0.9770631790161133}, {'label': 'NEGATIVE', 'score': 0.9496400952339172}, {'label': 'NEGATIVE', 'score': 0.9987567663192749}, {'label': 'POSITIVE', 'score': 0.8381717205047607}, {'label': 'POSITIVE', 'score': 0.8055030107498169}, {'label': 'POSITIVE', 'score': 0.8024013638496399}, {'label': 'NEGATIVE', 'score': 0.9963731169700623}, {'label': 'NEGATIVE', 'score': 0.8800564408302307}, {'label': 'NEGATIVE', 'score': 0.9926292896270752}, {'label': 'NEGATIVE', 'score': 0.9940715432167053}, {'label': 'NEGATIVE', 'score': 0.9658376574516296}, {'label': 'NEGATIVE', 'score': 0.8658940196037292}, {'label': 'NEGATIVE', 'score': 0.9787923693656921}, {'label': 'NEGATIVE', 'score': 0.9965536594390869}, {'label': 'NEGATIVE', 'score': 0.9835638999938965}, {'label': 'NEGATIVE', 'score': 0.9923175573348999}, {'label': 'NEGATIVE', 'score': 0.8441705703735352}, {'label': 'NEGATIVE', 'score': 0.9095891714096069}, {'label': 'NEGATIVE', 'score': 0.988052487373352}, {'label': 'NEGATIVE', 'score': 0.9104363918304443}, {'label': 'POSITIVE', 'score': 0.5493037104606628}, {'label': 'NEGATIVE', 'score': 0.9658575654029846}, {'label': 'POSITIVE', 'score': 0.6277779936790466}, {'label': 'POSITIVE', 'score': 0.9854968190193176}, {'label': 'NEGATIVE', 'score': 0.9886133670806885}, {'label': 'NEGATIVE', 'score': 0.9972383975982666}, {'label': 'NEGATIVE', 'score': 0.9921073317527771}, {'label': 'NEGATIVE', 'score': 0.9206879734992981}, {'label': 'NEGATIVE', 'score': 0.943773627281189}, {'label': 'POSITIVE', 'score': 0.9328019022941589}, {'label': 'NEGATIVE', 'score': 0.7262133359909058}, {'label': 'NEGATIVE', 'score': 0.9981067180633545}, {'label': 'NEGATIVE', 'score': 0.998210072517395}, {'label': 'NEGATIVE', 'score': 0.8663851022720337}, {'label': 'NEGATIVE', 'score': 0.9847234487533569}, {'label': 'NEGATIVE', 'score': 0.9942741990089417}, {'label': 'NEGATIVE', 'score': 0.998629093170166}, {'label': 'NEGATIVE', 'score': 0.9862145781517029}, {'label': 'NEGATIVE', 'score': 0.9874769449234009}, {'label': 'NEGATIVE', 'score': 0.9955384135246277}, {'label': 'POSITIVE', 'score': 0.9936192631721497}, {'label': 'NEGATIVE', 'score': 0.9961398243904114}, {'label': 'POSITIVE', 'score': 0.9111098051071167}, {'label': 'POSITIVE', 'score': 0.7779127359390259}, {'label': 'POSITIVE', 'score': 0.9446253776550293}, {'label': 'POSITIVE', 'score': 0.6728929877281189}, {'label': 'NEGATIVE', 'score': 0.9852448105812073}, {'label': 'POSITIVE', 'score': 0.9990707635879517}, {'label': 'NEGATIVE', 'score': 0.9965763688087463}, {'label': 'NEGATIVE', 'score': 0.8304024338722229}, {'label': 'NEGATIVE', 'score': 0.9981886744499207}, {'label': 'NEGATIVE', 'score': 0.8333612680435181}, {'label': 'NEGATIVE', 'score': 0.7212785482406616}, {'label': 'NEGATIVE', 'score': 0.8765411972999573}, {'label': 'NEGATIVE', 'score': 0.9958807229995728}, {'label': 'NEGATIVE', 'score': 0.8442330956459045}, {'label': 'NEGATIVE', 'score': 0.7229127883911133}, {'label': 'NEGATIVE', 'score': 0.9326809644699097}, {'label': 'NEGATIVE', 'score': 0.9976150989532471}, {'label': 'NEGATIVE', 'score': 0.6446398496627808}, {'label': 'NEGATIVE', 'score': 0.9936228394508362}, {'label': 'NEGATIVE', 'score': 0.9806832075119019}, {'label': 'NEGATIVE', 'score': 0.9371687769889832}, {'label': 'NEGATIVE', 'score': 0.9935316443443298}, {'label': 'POSITIVE', 'score': 0.7030984163284302}, {'label': 'NEGATIVE', 'score': 0.9859322309494019}, {'label': 'NEGATIVE', 'score': 0.8967020511627197}, {'label': 'NEGATIVE', 'score': 0.9953534603118896}, {'label': 'NEGATIVE', 'score': 0.9921936988830566}, {'label': 'NEGATIVE', 'score': 0.9814854860305786}, {'label': 'POSITIVE', 'score': 0.8004036545753479}, {'label': 'NEGATIVE', 'score': 0.986422598361969}, {'label': 'POSITIVE', 'score': 0.9954037666320801}, {'label': 'NEGATIVE', 'score': 0.9992770552635193}, {'label': 'NEGATIVE', 'score': 0.9225934147834778}, {'label': 'POSITIVE', 'score': 0.6187910437583923}, {'label': 'NEGATIVE', 'score': 0.9895535707473755}, {'label': 'NEGATIVE', 'score': 0.9803665280342102}, {'label': 'POSITIVE', 'score': 0.9995132684707642}, {'label': 'NEGATIVE', 'score': 0.995371401309967}, {'label': 'POSITIVE', 'score': 0.9973337650299072}, {'label': 'POSITIVE', 'score': 0.9991672039031982}, {'label': 'NEGATIVE', 'score': 0.9982473850250244}, {'label': 'NEGATIVE', 'score': 0.9772849082946777}, {'label': 'POSITIVE', 'score': 0.8896132111549377}, {'label': 'NEGATIVE', 'score': 0.9937524199485779}, {'label': 'POSITIVE', 'score': 0.9986684322357178}, {'label': 'POSITIVE', 'score': 0.9836186766624451}, {'label': 'NEGATIVE', 'score': 0.9925671815872192}, {'label': 'NEGATIVE', 'score': 0.9994221925735474}, {'label': 'NEGATIVE', 'score': 0.9923747181892395}, {'label': 'NEGATIVE', 'score': 0.9644954800605774}, {'label': 'NEGATIVE', 'score': 0.9981870055198669}, {'label': 'NEGATIVE', 'score': 0.9932070374488831}, {'label': 'NEGATIVE', 'score': 0.9939976930618286}, {'label': 'NEGATIVE', 'score': 0.9303781986236572}, {'label': 'NEGATIVE', 'score': 0.9860222339630127}, {'label': 'NEGATIVE', 'score': 0.9835204482078552}, {'label': 'NEGATIVE', 'score': 0.9991337656974792}, {'label': 'NEGATIVE', 'score': 0.9966952800750732}, {'label': 'POSITIVE', 'score': 0.7611422538757324}, {'label': 'NEGATIVE', 'score': 0.9920380115509033}, {'label': 'NEGATIVE', 'score': 0.9991685152053833}, {'label': 'NEGATIVE', 'score': 0.9991864562034607}, {'label': 'NEGATIVE', 'score': 0.99835604429245}, {'label': 'NEGATIVE', 'score': 0.9974933862686157}, {'label': 'NEGATIVE', 'score': 0.9996939897537231}, {'label': 'NEGATIVE', 'score': 0.9994699358940125}, {'label': 'NEGATIVE', 'score': 0.9991973042488098}, {'label': 'NEGATIVE', 'score': 0.9983633160591125}, {'label': 'NEGATIVE', 'score': 0.9991648197174072}, {'label': 'NEGATIVE', 'score': 0.77027827501297}, {'label': 'NEGATIVE', 'score': 0.9962890148162842}, {'label': 'NEGATIVE', 'score': 0.9939129948616028}, {'label': 'POSITIVE', 'score': 0.6678882241249084}, {'label': 'NEGATIVE', 'score': 0.9976867437362671}, {'label': 'NEGATIVE', 'score': 0.9734217524528503}, {'label': 'NEGATIVE', 'score': 0.999775230884552}, {'label': 'NEGATIVE', 'score': 0.9995278120040894}, {'label': 'NEGATIVE', 'score': 0.9798359870910645}, {'label': 'NEGATIVE', 'score': 0.999135434627533}, {'label': 'NEGATIVE', 'score': 0.993767261505127}, {'label': 'NEGATIVE', 'score': 0.9995823502540588}, {'label': 'NEGATIVE', 'score': 0.9995742440223694}, {'label': 'POSITIVE', 'score': 0.9922502040863037}, {'label': 'NEGATIVE', 'score': 0.9879683256149292}, {'label': 'POSITIVE', 'score': 0.8598728179931641}, {'label': 'POSITIVE', 'score': 0.9500919580459595}, {'label': 'NEGATIVE', 'score': 0.9995183944702148}, {'label': 'POSITIVE', 'score': 0.9946025013923645}, {'label': 'NEGATIVE', 'score': 0.9972413778305054}, {'label': 'NEGATIVE', 'score': 0.9955626726150513}, {'label': 'NEGATIVE', 'score': 0.9893815517425537}, {'label': 'NEGATIVE', 'score': 0.9928567409515381}, {'label': 'NEGATIVE', 'score': 0.9947234392166138}, {'label': 'NEGATIVE', 'score': 0.9922937154769897}, {'label': 'NEGATIVE', 'score': 0.9933280944824219}, {'label': 'NEGATIVE', 'score': 0.992865800857544}, {'label': 'NEGATIVE', 'score': 0.9928723573684692}, {'label': 'NEGATIVE', 'score': 0.9925593137741089}, {'label': 'NEGATIVE', 'score': 0.9943419694900513}, {'label': 'NEGATIVE', 'score': 0.9854992628097534}, {'label': 'NEGATIVE', 'score': 0.9925179481506348}, {'label': 'NEGATIVE', 'score': 0.992108166217804}, {'label': 'NEGATIVE', 'score': 0.9942740797996521}, {'label': 'NEGATIVE', 'score': 0.9970313310623169}, {'label': 'NEGATIVE', 'score': 0.9873374104499817}, {'label': 'NEGATIVE', 'score': 0.9916253685951233}, {'label': 'NEGATIVE', 'score': 0.968388020992279}, {'label': 'POSITIVE', 'score': 0.9820646643638611}, {'label': 'NEGATIVE', 'score': 0.994756817817688}, {'label': 'NEGATIVE', 'score': 0.7641339302062988}, {'label': 'POSITIVE', 'score': 0.9460669159889221}, {'label': 'NEGATIVE', 'score': 0.9962090253829956}, {'label': 'NEGATIVE', 'score': 0.9977739453315735}, {'label': 'POSITIVE', 'score': 0.8012223243713379}, {'label': 'POSITIVE', 'score': 0.8039258122444153}, {'label': 'POSITIVE', 'score': 0.9734264016151428}, {'label': 'POSITIVE', 'score': 0.9809846878051758}, {'label': 'NEGATIVE', 'score': 0.9982796907424927}, {'label': 'NEGATIVE', 'score': 0.6058738231658936}, {'label': 'NEGATIVE', 'score': 0.9945699572563171}, {'label': 'NEGATIVE', 'score': 0.9895366430282593}, {'label': 'POSITIVE', 'score': 0.9759363532066345}, {'label': 'NEGATIVE', 'score': 0.9678332805633545}, {'label': 'NEGATIVE', 'score': 0.9869131445884705}, {'label': 'NEGATIVE', 'score': 0.9835686087608337}, {'label': 'NEGATIVE', 'score': 0.9900467991828918}, {'label': 'NEGATIVE', 'score': 0.9909417033195496}, {'label': 'NEGATIVE', 'score': 0.9979130625724792}, {'label': 'NEGATIVE', 'score': 0.9347861409187317}, {'label': 'NEGATIVE', 'score': 0.9963526725769043}, {'label': 'NEGATIVE', 'score': 0.99892657995224}, {'label': 'NEGATIVE', 'score': 0.9941357374191284}, {'label': 'NEGATIVE', 'score': 0.7472585439682007}, {'label': 'POSITIVE', 'score': 0.9878871440887451}, {'label': 'NEGATIVE', 'score': 0.990154504776001}, {'label': 'NEGATIVE', 'score': 0.9923505187034607}, {'label': 'NEGATIVE', 'score': 0.9943713545799255}, {'label': 'NEGATIVE', 'score': 0.9408403635025024}, {'label': 'NEGATIVE', 'score': 0.9976164102554321}, {'label': 'POSITIVE', 'score': 0.7102563977241516}, {'label': 'NEGATIVE', 'score': 0.9915896058082581}, {'label': 'NEGATIVE', 'score': 0.848978579044342}, {'label': 'NEGATIVE', 'score': 0.9908479452133179}, {'label': 'NEGATIVE', 'score': 0.9521364569664001}, {'label': 'POSITIVE', 'score': 0.8909611105918884}, {'label': 'NEGATIVE', 'score': 0.9834432601928711}, {'label': 'POSITIVE', 'score': 0.8990975618362427}, {'label': 'POSITIVE', 'score': 0.9779323935508728}, {'label': 'NEGATIVE', 'score': 0.9982484579086304}, {'label': 'NEGATIVE', 'score': 0.9762851595878601}, {'label': 'NEGATIVE', 'score': 0.972357988357544}, {'label': 'NEGATIVE', 'score': 0.9900388121604919}, {'label': 'NEGATIVE', 'score': 0.9944508075714111}, {'label': 'NEGATIVE', 'score': 0.9990377426147461}, {'label': 'NEGATIVE', 'score': 0.9979203343391418}, {'label': 'NEGATIVE', 'score': 0.9972647428512573}, {'label': 'NEGATIVE', 'score': 0.7757066488265991}, {'label': 'NEGATIVE', 'score': 0.9823039770126343}, {'label': 'NEGATIVE', 'score': 0.7834478616714478}, {'label': 'NEGATIVE', 'score': 0.900966227054596}, {'label': 'POSITIVE', 'score': 0.9894199371337891}, {'label': 'POSITIVE', 'score': 0.9187055230140686}, {'label': 'NEGATIVE', 'score': 0.9994671940803528}, {'label': 'NEGATIVE', 'score': 0.988335132598877}, {'label': 'NEGATIVE', 'score': 0.9941884279251099}, {'label': 'NEGATIVE', 'score': 0.9910451769828796}, {'label': 'NEGATIVE', 'score': 0.9912961721420288}, {'label': 'NEGATIVE', 'score': 0.9729083180427551}, {'label': 'NEGATIVE', 'score': 0.9956055283546448}, {'label': 'NEGATIVE', 'score': 0.9980533123016357}, {'label': 'NEGATIVE', 'score': 0.9593449234962463}, {'label': 'NEGATIVE', 'score': 0.9928277134895325}, {'label': 'NEGATIVE', 'score': 0.9937074780464172}, {'label': 'NEGATIVE', 'score': 0.9840666055679321}, {'label': 'NEGATIVE', 'score': 0.9763914942741394}, {'label': 'NEGATIVE', 'score': 0.9355801343917847}, {'label': 'NEGATIVE', 'score': 0.9767788648605347}, {'label': 'NEGATIVE', 'score': 0.9934412240982056}, {'label': 'NEGATIVE', 'score': 0.5543767809867859}, {'label': 'POSITIVE', 'score': 0.9890642762184143}, {'label': 'NEGATIVE', 'score': 0.9851468205451965}, {'label': 'NEGATIVE', 'score': 0.999786913394928}, {'label': 'NEGATIVE', 'score': 0.9882495403289795}, {'label': 'NEGATIVE', 'score': 0.9151854515075684}, {'label': 'NEGATIVE', 'score': 0.8999266028404236}, {'label': 'POSITIVE', 'score': 0.6210071444511414}, {'label': 'POSITIVE', 'score': 0.9316585659980774}, {'label': 'NEGATIVE', 'score': 0.9901116490364075}, {'label': 'NEGATIVE', 'score': 0.6826164126396179}, {'label': 'NEGATIVE', 'score': 0.9793428182601929}, {'label': 'NEGATIVE', 'score': 0.9854750633239746}, {'label': 'NEGATIVE', 'score': 0.9889041781425476}, {'label': 'NEGATIVE', 'score': 0.9977874755859375}, {'label': 'NEGATIVE', 'score': 0.9988865256309509}, {'label': 'NEGATIVE', 'score': 0.9873807430267334}, {'label': 'NEGATIVE', 'score': 0.9915116429328918}, {'label': 'NEGATIVE', 'score': 0.990069568157196}, {'label': 'NEGATIVE', 'score': 0.9927020072937012}, {'label': 'NEGATIVE', 'score': 0.9971195459365845}, {'label': 'NEGATIVE', 'score': 0.9946797490119934}, {'label': 'NEGATIVE', 'score': 0.9995622038841248}, {'label': 'NEGATIVE', 'score': 0.9686784148216248}, {'label': 'NEGATIVE', 'score': 0.9666323065757751}, {'label': 'NEGATIVE', 'score': 0.9986924529075623}, {'label': 'NEGATIVE', 'score': 0.9250853061676025}, {'label': 'NEGATIVE', 'score': 0.9667866826057434}, {'label': 'POSITIVE', 'score': 0.59211665391922}, {'label': 'NEGATIVE', 'score': 0.9985122084617615}, {'label': 'NEGATIVE', 'score': 0.9981473684310913}, {'label': 'NEGATIVE', 'score': 0.9994267225265503}, {'label': 'NEGATIVE', 'score': 0.9948809146881104}, {'label': 'NEGATIVE', 'score': 0.9964381456375122}, {'label': 'NEGATIVE', 'score': 0.9880468845367432}, {'label': 'NEGATIVE', 'score': 0.9986967444419861}, {'label': 'NEGATIVE', 'score': 0.9845616221427917}, {'label': 'NEGATIVE', 'score': 0.9965691566467285}, {'label': 'NEGATIVE', 'score': 0.9964608550071716}, {'label': 'NEGATIVE', 'score': 0.9975196719169617}, {'label': 'NEGATIVE', 'score': 0.9663229584693909}, {'label': 'NEGATIVE', 'score': 0.9686878323554993}, {'label': 'POSITIVE', 'score': 0.8070575594902039}, {'label': 'NEGATIVE', 'score': 0.9786415696144104}, {'label': 'NEGATIVE', 'score': 0.9641678929328918}, {'label': 'NEGATIVE', 'score': 0.9272606372833252}, {'label': 'POSITIVE', 'score': 0.992006242275238}, {'label': 'NEGATIVE', 'score': 0.9353561401367188}, {'label': 'NEGATIVE', 'score': 0.9572771191596985}, {'label': 'NEGATIVE', 'score': 0.9717928171157837}, {'label': 'NEGATIVE', 'score': 0.8564108610153198}, {'label': 'NEGATIVE', 'score': 0.9398630857467651}, {'label': 'NEGATIVE', 'score': 0.9967684745788574}, {'label': 'NEGATIVE', 'score': 0.998867392539978}, {'label': 'NEGATIVE', 'score': 0.9968107342720032}, {'label': 'NEGATIVE', 'score': 0.9965751767158508}, {'label': 'NEGATIVE', 'score': 0.9976840019226074}, {'label': 'NEGATIVE', 'score': 0.997270405292511}, {'label': 'NEGATIVE', 'score': 0.9977753758430481}, {'label': 'NEGATIVE', 'score': 0.996771514415741}, {'label': 'NEGATIVE', 'score': 0.996543824672699}, {'label': 'NEGATIVE', 'score': 0.9962783455848694}, {'label': 'NEGATIVE', 'score': 0.9963201284408569}, {'label': 'NEGATIVE', 'score': 0.9990932941436768}, {'label': 'NEGATIVE', 'score': 0.9978798627853394}, {'label': 'NEGATIVE', 'score': 0.9985994696617126}, {'label': 'NEGATIVE', 'score': 0.9972206354141235}, {'label': 'NEGATIVE', 'score': 0.9965152740478516}, {'label': 'NEGATIVE', 'score': 0.9969967603683472}, {'label': 'NEGATIVE', 'score': 0.9957743287086487}, {'label': 'NEGATIVE', 'score': 0.9976112842559814}, {'label': 'NEGATIVE', 'score': 0.9987583160400391}, {'label': 'NEGATIVE', 'score': 0.9953939914703369}, {'label': 'NEGATIVE', 'score': 0.9970564842224121}, {'label': 'NEGATIVE', 'score': 0.997414231300354}, {'label': 'NEGATIVE', 'score': 0.9939036965370178}, {'label': 'NEGATIVE', 'score': 0.9938414096832275}, {'label': 'NEGATIVE', 'score': 0.994899332523346}, {'label': 'NEGATIVE', 'score': 0.9947485327720642}, {'label': 'NEGATIVE', 'score': 0.9943352341651917}, {'label': 'NEGATIVE', 'score': 0.9959580302238464}, {'label': 'NEGATIVE', 'score': 0.9976363182067871}, {'label': 'NEGATIVE', 'score': 0.9932136535644531}, {'label': 'NEGATIVE', 'score': 0.9962150454521179}, {'label': 'NEGATIVE', 'score': 0.9973989725112915}, {'label': 'NEGATIVE', 'score': 0.9960662722587585}, {'label': 'NEGATIVE', 'score': 0.996903121471405}, {'label': 'NEGATIVE', 'score': 0.9949873685836792}, {'label': 'NEGATIVE', 'score': 0.968929648399353}, {'label': 'NEGATIVE', 'score': 0.996721088886261}, {'label': 'NEGATIVE', 'score': 0.9975443482398987}, {'label': 'NEGATIVE', 'score': 0.9961452484130859}, {'label': 'NEGATIVE', 'score': 0.9958361387252808}, {'label': 'NEGATIVE', 'score': 0.996606707572937}, {'label': 'NEGATIVE', 'score': 0.9977329969406128}, {'label': 'NEGATIVE', 'score': 0.9954718351364136}, {'label': 'NEGATIVE', 'score': 0.9976493716239929}, {'label': 'NEGATIVE', 'score': 0.997665524482727}, {'label': 'NEGATIVE', 'score': 0.9984575510025024}, {'label': 'NEGATIVE', 'score': 0.9958338737487793}, {'label': 'NEGATIVE', 'score': 0.9965541362762451}, {'label': 'NEGATIVE', 'score': 0.9833285808563232}, {'label': 'NEGATIVE', 'score': 0.9960771203041077}, {'label': 'NEGATIVE', 'score': 0.9983079433441162}, {'label': 'NEGATIVE', 'score': 0.9973832964897156}, {'label': 'NEGATIVE', 'score': 0.9939271807670593}, {'label': 'NEGATIVE', 'score': 0.9971410036087036}, {'label': 'NEGATIVE', 'score': 0.9963803887367249}, {'label': 'NEGATIVE', 'score': 0.9968005418777466}, {'label': 'NEGATIVE', 'score': 0.99873286485672}, {'label': 'NEGATIVE', 'score': 0.9940460920333862}, {'label': 'NEGATIVE', 'score': 0.9965817332267761}, {'label': 'NEGATIVE', 'score': 0.9978862404823303}, {'label': 'NEGATIVE', 'score': 0.9963197708129883}, {'label': 'NEGATIVE', 'score': 0.9943205118179321}, {'label': 'NEGATIVE', 'score': 0.9990284442901611}, {'label': 'NEGATIVE', 'score': 0.9979526996612549}, {'label': 'NEGATIVE', 'score': 0.9985741376876831}, {'label': 'NEGATIVE', 'score': 0.9984094500541687}, {'label': 'NEGATIVE', 'score': 0.9977220892906189}, {'label': 'NEGATIVE', 'score': 0.9949185252189636}, {'label': 'NEGATIVE', 'score': 0.996403694152832}, {'label': 'NEGATIVE', 'score': 0.997622549533844}, {'label': 'NEGATIVE', 'score': 0.9936763644218445}, {'label': 'NEGATIVE', 'score': 0.9959561228752136}, {'label': 'NEGATIVE', 'score': 0.9943165183067322}, {'label': 'NEGATIVE', 'score': 0.9977322816848755}, {'label': 'NEGATIVE', 'score': 0.994326651096344}, {'label': 'NEGATIVE', 'score': 0.9955317974090576}, {'label': 'NEGATIVE', 'score': 0.9299349784851074}, {'label': 'NEGATIVE', 'score': 0.9950822591781616}, {'label': 'NEGATIVE', 'score': 0.9936147928237915}, {'label': 'NEGATIVE', 'score': 0.9975942969322205}, {'label': 'NEGATIVE', 'score': 0.9866645336151123}, {'label': 'NEGATIVE', 'score': 0.9930276274681091}, {'label': 'NEGATIVE', 'score': 0.9918360114097595}, {'label': 'NEGATIVE', 'score': 0.9884127974510193}, {'label': 'NEGATIVE', 'score': 0.9963452219963074}, {'label': 'NEGATIVE', 'score': 0.9891118407249451}, {'label': 'NEGATIVE', 'score': 0.9892104864120483}, {'label': 'NEGATIVE', 'score': 0.9878496527671814}, {'label': 'NEGATIVE', 'score': 0.977353572845459}, {'label': 'NEGATIVE', 'score': 0.9899598360061646}, {'label': 'NEGATIVE', 'score': 0.9966698288917542}, {'label': 'NEGATIVE', 'score': 0.9916451573371887}, {'label': 'NEGATIVE', 'score': 0.9925764203071594}, {'label': 'NEGATIVE', 'score': 0.9942051768302917}, {'label': 'NEGATIVE', 'score': 0.9968110918998718}, {'label': 'NEGATIVE', 'score': 0.9976643323898315}, {'label': 'NEGATIVE', 'score': 0.9931476712226868}, {'label': 'NEGATIVE', 'score': 0.9819918870925903}, {'label': 'NEGATIVE', 'score': 0.9930271506309509}, {'label': 'NEGATIVE', 'score': 0.9922916293144226}, {'label': 'NEGATIVE', 'score': 0.9913629293441772}, {'label': 'NEGATIVE', 'score': 0.9834120273590088}, {'label': 'NEGATIVE', 'score': 0.9859759211540222}, {'label': 'NEGATIVE', 'score': 0.9842930436134338}, {'label': 'NEGATIVE', 'score': 0.99644935131073}, {'label': 'NEGATIVE', 'score': 0.9898534417152405}, {'label': 'NEGATIVE', 'score': 0.9868760108947754}, {'label': 'NEGATIVE', 'score': 0.9981628060340881}, {'label': 'NEGATIVE', 'score': 0.9802697896957397}, {'label': 'NEGATIVE', 'score': 0.9915165901184082}, {'label': 'NEGATIVE', 'score': 0.9888105392456055}, {'label': 'NEGATIVE', 'score': 0.9905489087104797}, {'label': 'NEGATIVE', 'score': 0.995287299156189}, {'label': 'NEGATIVE', 'score': 0.9917355179786682}, {'label': 'NEGATIVE', 'score': 0.991000235080719}, {'label': 'POSITIVE', 'score': 0.9838041663169861}, {'label': 'NEGATIVE', 'score': 0.9461637139320374}, {'label': 'NEGATIVE', 'score': 0.9952901601791382}, {'label': 'NEGATIVE', 'score': 0.9925763607025146}, {'label': 'NEGATIVE', 'score': 0.9759878516197205}, {'label': 'NEGATIVE', 'score': 0.9827189445495605}, {'label': 'NEGATIVE', 'score': 0.9865336418151855}, {'label': 'NEGATIVE', 'score': 0.9954604506492615}, {'label': 'NEGATIVE', 'score': 0.9877102971076965}, {'label': 'NEGATIVE', 'score': 0.9886937737464905}, {'label': 'NEGATIVE', 'score': 0.9793658256530762}, {'label': 'NEGATIVE', 'score': 0.9869780540466309}, {'label': 'NEGATIVE', 'score': 0.9850912094116211}, {'label': 'NEGATIVE', 'score': 0.9853695631027222}, {'label': 'NEGATIVE', 'score': 0.8966357111930847}, {'label': 'NEGATIVE', 'score': 0.9849554896354675}, {'label': 'NEGATIVE', 'score': 0.9898472428321838}, {'label': 'NEGATIVE', 'score': 0.9859705567359924}, {'label': 'NEGATIVE', 'score': 0.9981147050857544}, {'label': 'NEGATIVE', 'score': 0.9942150712013245}, {'label': 'NEGATIVE', 'score': 0.9904604554176331}, {'label': 'NEGATIVE', 'score': 0.9936762452125549}, {'label': 'NEGATIVE', 'score': 0.9934744238853455}, {'label': 'NEGATIVE', 'score': 0.9918530583381653}, {'label': 'NEGATIVE', 'score': 0.9885609745979309}, {'label': 'NEGATIVE', 'score': 0.9918100237846375}, {'label': 'NEGATIVE', 'score': 0.9930121302604675}, {'label': 'NEGATIVE', 'score': 0.9902299046516418}, {'label': 'NEGATIVE', 'score': 0.9817696213722229}, {'label': 'NEGATIVE', 'score': 0.9895350337028503}, {'label': 'NEGATIVE', 'score': 0.9774333834648132}, {'label': 'NEGATIVE', 'score': 0.9766977429389954}, {'label': 'NEGATIVE', 'score': 0.9746035933494568}, {'label': 'NEGATIVE', 'score': 0.9880721569061279}, {'label': 'NEGATIVE', 'score': 0.994617760181427}, {'label': 'NEGATIVE', 'score': 0.9809108972549438}, {'label': 'NEGATIVE', 'score': 0.9941363334655762}, {'label': 'NEGATIVE', 'score': 0.9914880990982056}, {'label': 'NEGATIVE', 'score': 0.9867880344390869}, {'label': 'NEGATIVE', 'score': 0.9925196170806885}, {'label': 'NEGATIVE', 'score': 0.997467041015625}, {'label': 'NEGATIVE', 'score': 0.9951778650283813}, {'label': 'NEGATIVE', 'score': 0.9884676337242126}, {'label': 'NEGATIVE', 'score': 0.9894299507141113}, {'label': 'NEGATIVE', 'score': 0.9949054718017578}, {'label': 'NEGATIVE', 'score': 0.9971404075622559}, {'label': 'NEGATIVE', 'score': 0.9875439405441284}, {'label': 'NEGATIVE', 'score': 0.9908666610717773}, {'label': 'NEGATIVE', 'score': 0.9905754327774048}, {'label': 'NEGATIVE', 'score': 0.9854087233543396}, {'label': 'NEGATIVE', 'score': 0.9835167527198792}, {'label': 'NEGATIVE', 'score': 0.9837803244590759}, {'label': 'NEGATIVE', 'score': 0.9829630851745605}, {'label': 'NEGATIVE', 'score': 0.987466037273407}, {'label': 'NEGATIVE', 'score': 0.9991387128829956}, {'label': 'NEGATIVE', 'score': 0.9891327023506165}, {'label': 'NEGATIVE', 'score': 0.9879337549209595}, {'label': 'NEGATIVE', 'score': 0.9930657148361206}, {'label': 'NEGATIVE', 'score': 0.9859694242477417}, {'label': 'NEGATIVE', 'score': 0.9903292655944824}, {'label': 'NEGATIVE', 'score': 0.9946565628051758}, {'label': 'NEGATIVE', 'score': 0.9910537600517273}, {'label': 'NEGATIVE', 'score': 0.9954995512962341}, {'label': 'NEGATIVE', 'score': 0.9795559048652649}, {'label': 'NEGATIVE', 'score': 0.9947347640991211}, {'label': 'NEGATIVE', 'score': 0.9793916344642639}, {'label': 'NEGATIVE', 'score': 0.9925540089607239}, {'label': 'NEGATIVE', 'score': 0.9639991521835327}, {'label': 'NEGATIVE', 'score': 0.9960197806358337}, {'label': 'NEGATIVE', 'score': 0.9907666444778442}, {'label': 'NEGATIVE', 'score': 0.9941208958625793}, {'label': 'NEGATIVE', 'score': 0.9895808696746826}, {'label': 'NEGATIVE', 'score': 0.9956576824188232}, {'label': 'NEGATIVE', 'score': 0.9928720593452454}, {'label': 'NEGATIVE', 'score': 0.9655308127403259}, {'label': 'NEGATIVE', 'score': 0.974368691444397}, {'label': 'NEGATIVE', 'score': 0.9930717349052429}, {'label': 'NEGATIVE', 'score': 0.9859126210212708}, {'label': 'NEGATIVE', 'score': 0.9817056655883789}, {'label': 'NEGATIVE', 'score': 0.9913831353187561}, {'label': 'NEGATIVE', 'score': 0.9891400337219238}, {'label': 'NEGATIVE', 'score': 0.9905297160148621}, {'label': 'NEGATIVE', 'score': 0.9857448935508728}, {'label': 'NEGATIVE', 'score': 0.9924140572547913}, {'label': 'NEGATIVE', 'score': 0.9881592988967896}, {'label': 'NEGATIVE', 'score': 0.9875245094299316}, {'label': 'NEGATIVE', 'score': 0.9949669241905212}, {'label': 'NEGATIVE', 'score': 0.9983343482017517}, {'label': 'NEGATIVE', 'score': 0.9824842810630798}, {'label': 'NEGATIVE', 'score': 0.9824920892715454}, {'label': 'NEGATIVE', 'score': 0.9967905879020691}, {'label': 'NEGATIVE', 'score': 0.9977765679359436}, {'label': 'NEGATIVE', 'score': 0.9994725584983826}, {'label': 'NEGATIVE', 'score': 0.996087908744812}, {'label': 'NEGATIVE', 'score': 0.9986916184425354}, {'label': 'NEGATIVE', 'score': 0.9995342493057251}, {'label': 'NEGATIVE', 'score': 0.9996652603149414}, {'label': 'NEGATIVE', 'score': 0.9996345043182373}, {'label': 'NEGATIVE', 'score': 0.9994707703590393}, {'label': 'NEGATIVE', 'score': 0.9992952346801758}, {'label': 'NEGATIVE', 'score': 0.9996269941329956}, {'label': 'NEGATIVE', 'score': 0.9994586110115051}, {'label': 'NEGATIVE', 'score': 0.999365508556366}, {'label': 'NEGATIVE', 'score': 0.9982926249504089}, {'label': 'NEGATIVE', 'score': 0.9961632490158081}, {'label': 'NEGATIVE', 'score': 0.9785234928131104}, {'label': 'NEGATIVE', 'score': 0.9326643347740173}, {'label': 'NEGATIVE', 'score': 0.9510341286659241}, {'label': 'NEGATIVE', 'score': 0.9928414821624756}, {'label': 'POSITIVE', 'score': 0.9594777822494507}, {'label': 'POSITIVE', 'score': 0.9924846291542053}, {'label': 'POSITIVE', 'score': 0.9954882264137268}, {'label': 'POSITIVE', 'score': 0.630071222782135}, {'label': 'NEGATIVE', 'score': 0.649803876876831}, {'label': 'POSITIVE', 'score': 0.9969767332077026}, {'label': 'POSITIVE', 'score': 0.9902352690696716}, {'label': 'NEGATIVE', 'score': 0.7863693833351135}, {'label': 'POSITIVE', 'score': 0.993028461933136}, {'label': 'NEGATIVE', 'score': 0.9864779710769653}, {'label': 'POSITIVE', 'score': 0.9594259858131409}, {'label': 'POSITIVE', 'score': 0.9923624992370605}, {'label': 'POSITIVE', 'score': 0.9923628568649292}, {'label': 'POSITIVE', 'score': 0.9979395270347595}, {'label': 'POSITIVE', 'score': 0.9995735287666321}, {'label': 'POSITIVE', 'score': 0.9294955134391785}, {'label': 'NEGATIVE', 'score': 0.9865065813064575}, {'label': 'NEGATIVE', 'score': 0.9875756502151489}, {'label': 'NEGATIVE', 'score': 0.9915733933448792}, {'label': 'NEGATIVE', 'score': 0.996514618396759}, {'label': 'NEGATIVE', 'score': 0.9953107237815857}, {'label': 'NEGATIVE', 'score': 0.9871736764907837}, {'label': 'NEGATIVE', 'score': 0.9930881857872009}, {'label': 'NEGATIVE', 'score': 0.9955061674118042}, {'label': 'NEGATIVE', 'score': 0.9882408976554871}, {'label': 'NEGATIVE', 'score': 0.9928230047225952}, {'label': 'NEGATIVE', 'score': 0.9928863644599915}, {'label': 'NEGATIVE', 'score': 0.9954881072044373}, {'label': 'NEGATIVE', 'score': 0.992074728012085}, {'label': 'NEGATIVE', 'score': 0.988431453704834}, {'label': 'NEGATIVE', 'score': 0.9919161200523376}, {'label': 'NEGATIVE', 'score': 0.9909193515777588}, {'label': 'NEGATIVE', 'score': 0.9904667735099792}, {'label': 'NEGATIVE', 'score': 0.9891937375068665}, {'label': 'NEGATIVE', 'score': 0.9958527088165283}, {'label': 'NEGATIVE', 'score': 0.9906362891197205}, {'label': 'NEGATIVE', 'score': 0.9906784892082214}, {'label': 'NEGATIVE', 'score': 0.9975101947784424}, {'label': 'NEGATIVE', 'score': 0.9886427521705627}, {'label': 'NEGATIVE', 'score': 0.9933638572692871}, {'label': 'NEGATIVE', 'score': 0.9941524863243103}, {'label': 'NEGATIVE', 'score': 0.9966738224029541}, {'label': 'NEGATIVE', 'score': 0.97430419921875}, {'label': 'NEGATIVE', 'score': 0.9751298427581787}, {'label': 'NEGATIVE', 'score': 0.9942482709884644}, {'label': 'NEGATIVE', 'score': 0.9983067512512207}, {'label': 'NEGATIVE', 'score': 0.9945247173309326}, {'label': 'NEGATIVE', 'score': 0.9954634308815002}, {'label': 'NEGATIVE', 'score': 0.991976797580719}, {'label': 'NEGATIVE', 'score': 0.9896630644798279}, {'label': 'NEGATIVE', 'score': 0.9887779355049133}, {'label': 'NEGATIVE', 'score': 0.9944601058959961}, {'label': 'NEGATIVE', 'score': 0.9947245717048645}, {'label': 'NEGATIVE', 'score': 0.9942588806152344}, {'label': 'NEGATIVE', 'score': 0.9859511256217957}, {'label': 'NEGATIVE', 'score': 0.9844028949737549}, {'label': 'NEGATIVE', 'score': 0.995858371257782}, {'label': 'NEGATIVE', 'score': 0.9712987542152405}, {'label': 'NEGATIVE', 'score': 0.9503199458122253}, {'label': 'NEGATIVE', 'score': 0.9883939027786255}, {'label': 'NEGATIVE', 'score': 0.9854509830474854}, {'label': 'NEGATIVE', 'score': 0.9951037168502808}, {'label': 'NEGATIVE', 'score': 0.9950335025787354}, {'label': 'NEGATIVE', 'score': 0.9904138445854187}, {'label': 'NEGATIVE', 'score': 0.9817673563957214}, {'label': 'NEGATIVE', 'score': 0.9722951054573059}, {'label': 'NEGATIVE', 'score': 0.9973737001419067}, {'label': 'NEGATIVE', 'score': 0.9897195100784302}, {'label': 'NEGATIVE', 'score': 0.990707516670227}, {'label': 'NEGATIVE', 'score': 0.9934119582176208}, {'label': 'NEGATIVE', 'score': 0.9844248294830322}, {'label': 'NEGATIVE', 'score': 0.9830799102783203}, {'label': 'NEGATIVE', 'score': 0.9773564338684082}, {'label': 'NEGATIVE', 'score': 0.9885392785072327}, {'label': 'NEGATIVE', 'score': 0.988331139087677}, {'label': 'NEGATIVE', 'score': 0.9949943423271179}, {'label': 'NEGATIVE', 'score': 0.9944707155227661}, {'label': 'NEGATIVE', 'score': 0.9952332377433777}, {'label': 'NEGATIVE', 'score': 0.9833686947822571}, {'label': 'NEGATIVE', 'score': 0.9959782361984253}, {'label': 'NEGATIVE', 'score': 0.9896196722984314}, {'label': 'NEGATIVE', 'score': 0.9914221167564392}, {'label': 'NEGATIVE', 'score': 0.9915385842323303}, {'label': 'NEGATIVE', 'score': 0.9924935102462769}, {'label': 'NEGATIVE', 'score': 0.9849772453308105}, {'label': 'NEGATIVE', 'score': 0.993899941444397}, {'label': 'NEGATIVE', 'score': 0.9807862639427185}, {'label': 'NEGATIVE', 'score': 0.9910262227058411}, {'label': 'NEGATIVE', 'score': 0.992460310459137}, {'label': 'NEGATIVE', 'score': 0.9864523410797119}, {'label': 'NEGATIVE', 'score': 0.9950037598609924}, {'label': 'NEGATIVE', 'score': 0.9868050813674927}, {'label': 'NEGATIVE', 'score': 0.9967719912528992}, {'label': 'NEGATIVE', 'score': 0.9913396239280701}, {'label': 'NEGATIVE', 'score': 0.9891201257705688}, {'label': 'NEGATIVE', 'score': 0.984677791595459}, {'label': 'NEGATIVE', 'score': 0.9957908391952515}, {'label': 'NEGATIVE', 'score': 0.9911187291145325}, {'label': 'NEGATIVE', 'score': 0.9943112134933472}, {'label': 'NEGATIVE', 'score': 0.9898617267608643}, {'label': 'NEGATIVE', 'score': 0.9957279562950134}, {'label': 'NEGATIVE', 'score': 0.9948467016220093}, {'label': 'NEGATIVE', 'score': 0.9727985262870789}, {'label': 'NEGATIVE', 'score': 0.9913572072982788}, {'label': 'NEGATIVE', 'score': 0.9929986000061035}, {'label': 'NEGATIVE', 'score': 0.9881525635719299}, {'label': 'NEGATIVE', 'score': 0.996335506439209}, {'label': 'NEGATIVE', 'score': 0.9948404431343079}, {'label': 'NEGATIVE', 'score': 0.9959630370140076}, {'label': 'NEGATIVE', 'score': 0.9780796766281128}, {'label': 'NEGATIVE', 'score': 0.995372474193573}, {'label': 'NEGATIVE', 'score': 0.9886215329170227}, {'label': 'NEGATIVE', 'score': 0.9939316511154175}, {'label': 'NEGATIVE', 'score': 0.9955501556396484}, {'label': 'NEGATIVE', 'score': 0.9906452894210815}, {'label': 'NEGATIVE', 'score': 0.9957537651062012}, {'label': 'NEGATIVE', 'score': 0.9946876764297485}, {'label': 'NEGATIVE', 'score': 0.993862509727478}, {'label': 'NEGATIVE', 'score': 0.9927667379379272}, {'label': 'NEGATIVE', 'score': 0.9949862957000732}, {'label': 'NEGATIVE', 'score': 0.9953302145004272}, {'label': 'NEGATIVE', 'score': 0.9945039749145508}, {'label': 'NEGATIVE', 'score': 0.9931733012199402}, {'label': 'NEGATIVE', 'score': 0.9880396723747253}, {'label': 'NEGATIVE', 'score': 0.9971659779548645}, {'label': 'NEGATIVE', 'score': 0.9817146062850952}, {'label': 'NEGATIVE', 'score': 0.9805826544761658}, {'label': 'NEGATIVE', 'score': 0.9878752827644348}, {'label': 'NEGATIVE', 'score': 0.9964408278465271}, {'label': 'NEGATIVE', 'score': 0.9916998744010925}, {'label': 'NEGATIVE', 'score': 0.9870573878288269}, {'label': 'NEGATIVE', 'score': 0.9945430755615234}, {'label': 'NEGATIVE', 'score': 0.9956570863723755}, {'label': 'NEGATIVE', 'score': 0.9867048263549805}, {'label': 'NEGATIVE', 'score': 0.9903305768966675}, {'label': 'NEGATIVE', 'score': 0.9947203397750854}, {'label': 'NEGATIVE', 'score': 0.9923027753829956}, {'label': 'NEGATIVE', 'score': 0.9896535277366638}, {'label': 'NEGATIVE', 'score': 0.994587779045105}, {'label': 'NEGATIVE', 'score': 0.9336812496185303}, {'label': 'POSITIVE', 'score': 0.9710865616798401}, {'label': 'POSITIVE', 'score': 0.999321699142456}, {'label': 'POSITIVE', 'score': 0.5889254212379456}, {'label': 'POSITIVE', 'score': 0.9946187734603882}, {'label': 'NEGATIVE', 'score': 0.9891949892044067}, {'label': 'POSITIVE', 'score': 0.9559206366539001}, {'label': 'POSITIVE', 'score': 0.5406613349914551}, {'label': 'POSITIVE', 'score': 0.9352249503135681}, {'label': 'POSITIVE', 'score': 0.8187955617904663}, {'label': 'POSITIVE', 'score': 0.9990482926368713}, {'label': 'POSITIVE', 'score': 0.9754848480224609}, {'label': 'POSITIVE', 'score': 0.9942440390586853}, {'label': 'POSITIVE', 'score': 0.8403440117835999}, {'label': 'POSITIVE', 'score': 0.9896489381790161}, {'label': 'POSITIVE', 'score': 0.6183263063430786}, {'label': 'POSITIVE', 'score': 0.9507473111152649}, {'label': 'POSITIVE', 'score': 0.8530665636062622}, {'label': 'NEGATIVE', 'score': 0.9792312383651733}, {'label': 'POSITIVE', 'score': 0.9937858581542969}, {'label': 'POSITIVE', 'score': 0.8607476949691772}, {'label': 'POSITIVE', 'score': 0.6214172840118408}, {'label': 'POSITIVE', 'score': 0.9762242436408997}, {'label': 'POSITIVE', 'score': 0.9447871446609497}, {'label': 'POSITIVE', 'score': 0.9629353880882263}, {'label': 'NEGATIVE', 'score': 0.5829038023948669}, {'label': 'POSITIVE', 'score': 0.8317704796791077}, {'label': 'POSITIVE', 'score': 0.962281346321106}, {'label': 'POSITIVE', 'score': 0.9723116159439087}, {'label': 'POSITIVE', 'score': 0.970693051815033}, {'label': 'POSITIVE', 'score': 0.9893057942390442}, {'label': 'POSITIVE', 'score': 0.9774022698402405}, {'label': 'POSITIVE', 'score': 0.9929673671722412}, {'label': 'POSITIVE', 'score': 0.9940061569213867}, {'label': 'POSITIVE', 'score': 0.9271678924560547}, {'label': 'NEGATIVE', 'score': 0.9972906708717346}, {'label': 'POSITIVE', 'score': 0.9136903285980225}, {'label': 'POSITIVE', 'score': 0.8837566375732422}, {'label': 'POSITIVE', 'score': 0.7923218607902527}, {'label': 'POSITIVE', 'score': 0.9681431651115417}, {'label': 'NEGATIVE', 'score': 0.9416555166244507}, {'label': 'POSITIVE', 'score': 0.9871036410331726}, {'label': 'POSITIVE', 'score': 0.9907207489013672}, {'label': 'NEGATIVE', 'score': 0.8358936905860901}, {'label': 'POSITIVE', 'score': 0.9787616729736328}, {'label': 'NEGATIVE', 'score': 0.9948698282241821}, {'label': 'NEGATIVE', 'score': 0.9717757105827332}, {'label': 'POSITIVE', 'score': 0.9178861975669861}, {'label': 'NEGATIVE', 'score': 0.9337000846862793}, {'label': 'POSITIVE', 'score': 0.9955556988716125}, {'label': 'NEGATIVE', 'score': 0.9782862663269043}, {'label': 'POSITIVE', 'score': 0.9751036763191223}, {'label': 'POSITIVE', 'score': 0.6090147495269775}, {'label': 'POSITIVE', 'score': 0.9284998178482056}, {'label': 'POSITIVE', 'score': 0.8991422653198242}, {'label': 'POSITIVE', 'score': 0.9150548577308655}, {'label': 'POSITIVE', 'score': 0.962675929069519}, {'label': 'POSITIVE', 'score': 0.9981263279914856}, {'label': 'POSITIVE', 'score': 0.9545158743858337}, {'label': 'POSITIVE', 'score': 0.9960432052612305}, {'label': 'NEGATIVE', 'score': 0.9943587183952332}, {'label': 'POSITIVE', 'score': 0.9465387463569641}, {'label': 'NEGATIVE', 'score': 0.9972578883171082}, {'label': 'NEGATIVE', 'score': 0.6846022009849548}, {'label': 'NEGATIVE', 'score': 0.977275550365448}, {'label': 'POSITIVE', 'score': 0.9657334685325623}, {'label': 'POSITIVE', 'score': 0.6895931363105774}, {'label': 'POSITIVE', 'score': 0.9367335438728333}, {'label': 'POSITIVE', 'score': 0.9908044338226318}, {'label': 'NEGATIVE', 'score': 0.9923925399780273}, {'label': 'NEGATIVE', 'score': 0.9936195015907288}, {'label': 'NEGATIVE', 'score': 0.9958145022392273}, {'label': 'NEGATIVE', 'score': 0.9944975972175598}, {'label': 'NEGATIVE', 'score': 0.9955973029136658}, {'label': 'NEGATIVE', 'score': 0.9938777089118958}, {'label': 'NEGATIVE', 'score': 0.9916024804115295}, {'label': 'NEGATIVE', 'score': 0.9939927458763123}, {'label': 'NEGATIVE', 'score': 0.9947104454040527}, {'label': 'NEGATIVE', 'score': 0.9957062602043152}, {'label': 'NEGATIVE', 'score': 0.9941154718399048}, {'label': 'NEGATIVE', 'score': 0.9953979849815369}, {'label': 'NEGATIVE', 'score': 0.9948487877845764}, {'label': 'NEGATIVE', 'score': 0.9951500296592712}, {'label': 'NEGATIVE', 'score': 0.9948769211769104}, {'label': 'NEGATIVE', 'score': 0.9959577918052673}, {'label': 'NEGATIVE', 'score': 0.9953029155731201}, {'label': 'NEGATIVE', 'score': 0.9954368472099304}, {'label': 'NEGATIVE', 'score': 0.9951017498970032}, {'label': 'NEGATIVE', 'score': 0.9938441514968872}, {'label': 'NEGATIVE', 'score': 0.994417667388916}, {'label': 'NEGATIVE', 'score': 0.9937360286712646}, {'label': 'NEGATIVE', 'score': 0.9958112239837646}, {'label': 'NEGATIVE', 'score': 0.9920988082885742}, {'label': 'NEGATIVE', 'score': 0.9937793612480164}, {'label': 'NEGATIVE', 'score': 0.9902095794677734}, {'label': 'NEGATIVE', 'score': 0.9963944554328918}, {'label': 'NEGATIVE', 'score': 0.9944475889205933}, {'label': 'NEGATIVE', 'score': 0.9936776757240295}, {'label': 'NEGATIVE', 'score': 0.9909504055976868}, {'label': 'NEGATIVE', 'score': 0.9924018383026123}, {'label': 'NEGATIVE', 'score': 0.9944865107536316}, {'label': 'NEGATIVE', 'score': 0.9958168864250183}, {'label': 'NEGATIVE', 'score': 0.9949213862419128}, {'label': 'NEGATIVE', 'score': 0.9935543537139893}, {'label': 'NEGATIVE', 'score': 0.9962291121482849}, {'label': 'NEGATIVE', 'score': 0.9949513673782349}, {'label': 'NEGATIVE', 'score': 0.9958265423774719}, {'label': 'NEGATIVE', 'score': 0.9945986270904541}, {'label': 'NEGATIVE', 'score': 0.994213879108429}, {'label': 'NEGATIVE', 'score': 0.9935770630836487}, {'label': 'NEGATIVE', 'score': 0.9945570230484009}, {'label': 'NEGATIVE', 'score': 0.9951491951942444}, {'label': 'NEGATIVE', 'score': 0.9939178228378296}, {'label': 'NEGATIVE', 'score': 0.9950100183486938}, {'label': 'NEGATIVE', 'score': 0.993445634841919}, {'label': 'NEGATIVE', 'score': 0.9954506754875183}, {'label': 'NEGATIVE', 'score': 0.9953035116195679}, {'label': 'NEGATIVE', 'score': 0.993721604347229}, {'label': 'NEGATIVE', 'score': 0.9937978386878967}, {'label': 'NEGATIVE', 'score': 0.990965723991394}, {'label': 'NEGATIVE', 'score': 0.9918892979621887}, {'label': 'NEGATIVE', 'score': 0.9947606921195984}, {'label': 'NEGATIVE', 'score': 0.994342565536499}, {'label': 'NEGATIVE', 'score': 0.9947757720947266}, {'label': 'NEGATIVE', 'score': 0.9933198690414429}, {'label': 'NEGATIVE', 'score': 0.9936449527740479}, {'label': 'NEGATIVE', 'score': 0.9940452575683594}, {'label': 'NEGATIVE', 'score': 0.9938687682151794}, {'label': 'NEGATIVE', 'score': 0.9941220879554749}, {'label': 'NEGATIVE', 'score': 0.994703471660614}, {'label': 'NEGATIVE', 'score': 0.9940449595451355}, {'label': 'NEGATIVE', 'score': 0.9949775338172913}, {'label': 'NEGATIVE', 'score': 0.9939589500427246}, {'label': 'NEGATIVE', 'score': 0.9938437938690186}, {'label': 'NEGATIVE', 'score': 0.9946511387825012}, {'label': 'NEGATIVE', 'score': 0.9917870163917542}, {'label': 'NEGATIVE', 'score': 0.9958100318908691}, {'label': 'NEGATIVE', 'score': 0.9946802258491516}, {'label': 'NEGATIVE', 'score': 0.9955255389213562}, {'label': 'NEGATIVE', 'score': 0.9937073588371277}, {'label': 'NEGATIVE', 'score': 0.9939124584197998}, {'label': 'NEGATIVE', 'score': 0.9935480952262878}, {'label': 'NEGATIVE', 'score': 0.9947577118873596}, {'label': 'NEGATIVE', 'score': 0.9952473044395447}, {'label': 'NEGATIVE', 'score': 0.9957699179649353}, {'label': 'NEGATIVE', 'score': 0.995816171169281}, {'label': 'NEGATIVE', 'score': 0.9951871633529663}, {'label': 'NEGATIVE', 'score': 0.9939020872116089}, {'label': 'NEGATIVE', 'score': 0.9941810965538025}, {'label': 'NEGATIVE', 'score': 0.994242250919342}, {'label': 'NEGATIVE', 'score': 0.9941624999046326}, {'label': 'NEGATIVE', 'score': 0.9954668283462524}, {'label': 'NEGATIVE', 'score': 0.9946181178092957}, {'label': 'NEGATIVE', 'score': 0.9960564374923706}, {'label': 'NEGATIVE', 'score': 0.9935559630393982}, {'label': 'NEGATIVE', 'score': 0.9933978319168091}, {'label': 'NEGATIVE', 'score': 0.9963414072990417}, {'label': 'NEGATIVE', 'score': 0.9953246116638184}, {'label': 'NEGATIVE', 'score': 0.8639275431632996}, {'label': 'POSITIVE', 'score': 0.9748287200927734}, {'label': 'POSITIVE', 'score': 0.7024479508399963}, {'label': 'POSITIVE', 'score': 0.9962368011474609}, {'label': 'NEGATIVE', 'score': 0.9958184361457825}, {'label': 'NEGATIVE', 'score': 0.6345729231834412}, {'label': 'POSITIVE', 'score': 0.9633329510688782}, {'label': 'POSITIVE', 'score': 0.9941278696060181}, {'label': 'NEGATIVE', 'score': 0.8365817070007324}, {'label': 'POSITIVE', 'score': 0.9604046940803528}, {'label': 'POSITIVE', 'score': 0.9668220281600952}, {'label': 'POSITIVE', 'score': 0.7631245851516724}, {'label': 'POSITIVE', 'score': 0.9365593791007996}, {'label': 'POSITIVE', 'score': 0.5548909902572632}, {'label': 'POSITIVE', 'score': 0.8036925196647644}, {'label': 'POSITIVE', 'score': 0.964046835899353}, {'label': 'NEGATIVE', 'score': 0.6065291166305542}, {'label': 'POSITIVE', 'score': 0.9480662941932678}, {'label': 'NEGATIVE', 'score': 0.993958592414856}, {'label': 'POSITIVE', 'score': 0.8787721991539001}, {'label': 'POSITIVE', 'score': 0.9898752570152283}, {'label': 'POSITIVE', 'score': 0.9872921705245972}, {'label': 'NEGATIVE', 'score': 0.9948215484619141}, {'label': 'POSITIVE', 'score': 0.9327448606491089}, {'label': 'POSITIVE', 'score': 0.871649980545044}, {'label': 'POSITIVE', 'score': 0.9953263998031616}, {'label': 'NEGATIVE', 'score': 0.9989000558853149}, {'label': 'POSITIVE', 'score': 0.9925805330276489}, {'label': 'POSITIVE', 'score': 0.9827141165733337}, {'label': 'POSITIVE', 'score': 0.5084714889526367}, {'label': 'POSITIVE', 'score': 0.9972499012947083}, {'label': 'POSITIVE', 'score': 0.979019820690155}, {'label': 'POSITIVE', 'score': 0.996195912361145}, {'label': 'POSITIVE', 'score': 0.9533624053001404}, {'label': 'POSITIVE', 'score': 0.970664381980896}, {'label': 'POSITIVE', 'score': 0.9888691902160645}, {'label': 'POSITIVE', 'score': 0.9706098437309265}, {'label': 'POSITIVE', 'score': 0.9894752502441406}, {'label': 'POSITIVE', 'score': 0.7874528765678406}, {'label': 'POSITIVE', 'score': 0.965937077999115}, {'label': 'POSITIVE', 'score': 0.9978839755058289}, {'label': 'NEGATIVE', 'score': 0.9284301996231079}, {'label': 'POSITIVE', 'score': 0.9800921678543091}, {'label': 'NEGATIVE', 'score': 0.9613646268844604}, {'label': 'NEGATIVE', 'score': 0.6802194118499756}, {'label': 'NEGATIVE', 'score': 0.9433520436286926}, {'label': 'POSITIVE', 'score': 0.986151397228241}, {'label': 'POSITIVE', 'score': 0.9861562252044678}, {'label': 'POSITIVE', 'score': 0.9949339032173157}, {'label': 'POSITIVE', 'score': 0.9955548644065857}, {'label': 'POSITIVE', 'score': 0.9590698480606079}, {'label': 'NEGATIVE', 'score': 0.8624333739280701}, {'label': 'NEGATIVE', 'score': 0.8639973998069763}, {'label': 'POSITIVE', 'score': 0.9974732995033264}, {'label': 'POSITIVE', 'score': 0.9962473511695862}, {'label': 'POSITIVE', 'score': 0.9934713840484619}, {'label': 'NEGATIVE', 'score': 0.9819891452789307}, {'label': 'NEGATIVE', 'score': 0.5244927406311035}, {'label': 'POSITIVE', 'score': 0.9075971245765686}, {'label': 'POSITIVE', 'score': 0.736090362071991}, {'label': 'NEGATIVE', 'score': 0.6133748888969421}, {'label': 'POSITIVE', 'score': 0.8970338106155396}, {'label': 'POSITIVE', 'score': 0.9948581457138062}, {'label': 'POSITIVE', 'score': 0.977603018283844}, {'label': 'POSITIVE', 'score': 0.9155837893486023}, {'label': 'POSITIVE', 'score': 0.8041073679924011}, {'label': 'POSITIVE', 'score': 0.9797927141189575}, {'label': 'NEGATIVE', 'score': 0.998975396156311}, {'label': 'POSITIVE', 'score': 0.9988208413124084}, {'label': 'POSITIVE', 'score': 0.8896905183792114}, {'label': 'POSITIVE', 'score': 0.9157145023345947}, {'label': 'POSITIVE', 'score': 0.963024377822876}, {'label': 'NEGATIVE', 'score': 0.5921188592910767}, {'label': 'POSITIVE', 'score': 0.9886025786399841}, {'label': 'POSITIVE', 'score': 0.9947801828384399}, {'label': 'POSITIVE', 'score': 0.9743546843528748}, {'label': 'POSITIVE', 'score': 0.9423172473907471}, {'label': 'POSITIVE', 'score': 0.9926119446754456}, {'label': 'POSITIVE', 'score': 0.9869138598442078}, {'label': 'POSITIVE', 'score': 0.9925392270088196}, {'label': 'POSITIVE', 'score': 0.9981309771537781}, {'label': 'POSITIVE', 'score': 0.8025117516517639}, {'label': 'NEGATIVE', 'score': 0.9943044781684875}, {'label': 'POSITIVE', 'score': 0.9234060049057007}, {'label': 'POSITIVE', 'score': 0.9846409559249878}, {'label': 'POSITIVE', 'score': 0.6924145817756653}, {'label': 'NEGATIVE', 'score': 0.9817428588867188}, {'label': 'POSITIVE', 'score': 0.7770563960075378}, {'label': 'POSITIVE', 'score': 0.6371695399284363}, {'label': 'POSITIVE', 'score': 0.9455351233482361}, {'label': 'POSITIVE', 'score': 0.9937637448310852}, {'label': 'POSITIVE', 'score': 0.9633016586303711}, {'label': 'NEGATIVE', 'score': 0.831131100654602}, {'label': 'POSITIVE', 'score': 0.9543758630752563}, {'label': 'POSITIVE', 'score': 0.9917043447494507}, {'label': 'POSITIVE', 'score': 0.9460582733154297}, {'label': 'POSITIVE', 'score': 0.7775566577911377}, {'label': 'POSITIVE', 'score': 0.9853025674819946}, {'label': 'POSITIVE', 'score': 0.9424843192100525}, {'label': 'NEGATIVE', 'score': 0.9836894869804382}, {'label': 'POSITIVE', 'score': 0.9112878441810608}, {'label': 'NEGATIVE', 'score': 0.9242280721664429}, {'label': 'POSITIVE', 'score': 0.9790960550308228}, {'label': 'POSITIVE', 'score': 0.9762475490570068}, {'label': 'POSITIVE', 'score': 0.9883948564529419}, {'label': 'POSITIVE', 'score': 0.9721169471740723}, {'label': 'POSITIVE', 'score': 0.7796697616577148}, {'label': 'POSITIVE', 'score': 0.9587681889533997}, {'label': 'POSITIVE', 'score': 0.994164764881134}, {'label': 'POSITIVE', 'score': 0.7990244626998901}, {'label': 'NEGATIVE', 'score': 0.9882871508598328}, {'label': 'POSITIVE', 'score': 0.9872429370880127}, {'label': 'POSITIVE', 'score': 0.5842748284339905}, {'label': 'POSITIVE', 'score': 0.9533307552337646}, {'label': 'POSITIVE', 'score': 0.9873987436294556}, {'label': 'POSITIVE', 'score': 0.9339269995689392}, {'label': 'POSITIVE', 'score': 0.5360592603683472}, {'label': 'NEGATIVE', 'score': 0.5290236473083496}, {'label': 'NEGATIVE', 'score': 0.9979583024978638}, {'label': 'POSITIVE', 'score': 0.9215446710586548}, {'label': 'POSITIVE', 'score': 0.9437903761863708}, {'label': 'NEGATIVE', 'score': 0.9909182786941528}, {'label': 'NEGATIVE', 'score': 0.9346943497657776}, {'label': 'POSITIVE', 'score': 0.9991925358772278}, {'label': 'POSITIVE', 'score': 0.9887528419494629}, {'label': 'POSITIVE', 'score': 0.9994283318519592}, {'label': 'POSITIVE', 'score': 0.9749789834022522}, {'label': 'POSITIVE', 'score': 0.9712312817573547}, {'label': 'POSITIVE', 'score': 0.9853413701057434}, {'label': 'NEGATIVE', 'score': 0.9638369083404541}, {'label': 'NEGATIVE', 'score': 0.9912956953048706}, {'label': 'POSITIVE', 'score': 0.9524158239364624}, {'label': 'NEGATIVE', 'score': 0.8799562454223633}, {'label': 'POSITIVE', 'score': 0.9006068706512451}, {'label': 'POSITIVE', 'score': 0.9855750799179077}, {'label': 'POSITIVE', 'score': 0.9950770735740662}, {'label': 'POSITIVE', 'score': 0.9817173480987549}, {'label': 'NEGATIVE', 'score': 0.9967638254165649}, {'label': 'NEGATIVE', 'score': 0.9949095845222473}, {'label': 'POSITIVE', 'score': 0.6832175850868225}, {'label': 'POSITIVE', 'score': 0.9543535113334656}, {'label': 'NEGATIVE', 'score': 0.9791610836982727}, {'label': 'POSITIVE', 'score': 0.9630191922187805}, {'label': 'NEGATIVE', 'score': 0.619950532913208}, {'label': 'POSITIVE', 'score': 0.5146269798278809}, {'label': 'NEGATIVE', 'score': 0.9085752367973328}, {'label': 'POSITIVE', 'score': 0.9557734727859497}, {'label': 'NEGATIVE', 'score': 0.9596343040466309}, {'label': 'NEGATIVE', 'score': 0.9399424195289612}, {'label': 'NEGATIVE', 'score': 0.8640201091766357}, {'label': 'POSITIVE', 'score': 0.8525616526603699}, {'label': 'NEGATIVE', 'score': 0.9940425753593445}, {'label': 'NEGATIVE', 'score': 0.7370160222053528}, {'label': 'NEGATIVE', 'score': 0.9966477751731873}, {'label': 'NEGATIVE', 'score': 0.9927901029586792}, {'label': 'POSITIVE', 'score': 0.8580113649368286}, {'label': 'POSITIVE', 'score': 0.7788453102111816}, {'label': 'POSITIVE', 'score': 0.9681767821311951}, {'label': 'POSITIVE', 'score': 0.9579468369483948}, {'label': 'POSITIVE', 'score': 0.6833573579788208}, {'label': 'POSITIVE', 'score': 0.9934821724891663}, {'label': 'POSITIVE', 'score': 0.5334296226501465}, {'label': 'POSITIVE', 'score': 0.8872807621955872}, {'label': 'POSITIVE', 'score': 0.9924896359443665}, {'label': 'NEGATIVE', 'score': 0.9995002746582031}, {'label': 'NEGATIVE', 'score': 0.9968241453170776}, {'label': 'NEGATIVE', 'score': 0.9997988343238831}, {'label': 'NEGATIVE', 'score': 0.9780826568603516}, {'label': 'NEGATIVE', 'score': 0.9826410412788391}, {'label': 'NEGATIVE', 'score': 0.9993932247161865}, {'label': 'NEGATIVE', 'score': 0.9526293277740479}, {'label': 'NEGATIVE', 'score': 0.998935878276825}, {'label': 'NEGATIVE', 'score': 0.999187171459198}, {'label': 'NEGATIVE', 'score': 0.9978736639022827}, {'label': 'NEGATIVE', 'score': 0.9993399977684021}, {'label': 'NEGATIVE', 'score': 0.9844571948051453}, {'label': 'NEGATIVE', 'score': 0.9994472861289978}, {'label': 'NEGATIVE', 'score': 0.9965686798095703}, {'label': 'NEGATIVE', 'score': 0.9978786706924438}, {'label': 'NEGATIVE', 'score': 0.9989280104637146}, {'label': 'NEGATIVE', 'score': 0.9984571933746338}, {'label': 'NEGATIVE', 'score': 0.9850703477859497}, {'label': 'NEGATIVE', 'score': 0.9994254112243652}, {'label': 'NEGATIVE', 'score': 0.9928120970726013}, {'label': 'NEGATIVE', 'score': 0.9811474084854126}, {'label': 'NEGATIVE', 'score': 0.9983564019203186}, {'label': 'NEGATIVE', 'score': 0.9963666200637817}, {'label': 'NEGATIVE', 'score': 0.9990314245223999}, {'label': 'NEGATIVE', 'score': 0.9922519326210022}, {'label': 'NEGATIVE', 'score': 0.9975641965866089}, {'label': 'NEGATIVE', 'score': 0.999357283115387}, {'label': 'NEGATIVE', 'score': 0.9516132473945618}, {'label': 'NEGATIVE', 'score': 0.9995218515396118}, {'label': 'NEGATIVE', 'score': 0.9996424913406372}, {'label': 'NEGATIVE', 'score': 0.9944826364517212}, {'label': 'NEGATIVE', 'score': 0.9739209413528442}, {'label': 'NEGATIVE', 'score': 0.9993091821670532}, {'label': 'NEGATIVE', 'score': 0.9988362193107605}, {'label': 'NEGATIVE', 'score': 0.9818629622459412}, {'label': 'NEGATIVE', 'score': 0.9995757937431335}, {'label': 'NEGATIVE', 'score': 0.9918949007987976}, {'label': 'NEGATIVE', 'score': 0.9986956715583801}, {'label': 'NEGATIVE', 'score': 0.9994331002235413}, {'label': 'NEGATIVE', 'score': 0.9976599216461182}, {'label': 'NEGATIVE', 'score': 0.9946150183677673}, {'label': 'NEGATIVE', 'score': 0.9996405839920044}, {'label': 'NEGATIVE', 'score': 0.9756669402122498}, {'label': 'NEGATIVE', 'score': 0.9992626309394836}, {'label': 'NEGATIVE', 'score': 0.9992345571517944}, {'label': 'NEGATIVE', 'score': 0.9990848302841187}, {'label': 'NEGATIVE', 'score': 0.9996471405029297}, {'label': 'NEGATIVE', 'score': 0.99943608045578}, {'label': 'NEGATIVE', 'score': 0.9886900782585144}, {'label': 'NEGATIVE', 'score': 0.9990841150283813}, {'label': 'NEGATIVE', 'score': 0.9925174713134766}, {'label': 'NEGATIVE', 'score': 0.9987040758132935}, {'label': 'NEGATIVE', 'score': 0.9987035989761353}, {'label': 'NEGATIVE', 'score': 0.9984822869300842}, {'label': 'NEGATIVE', 'score': 0.9738246202468872}, {'label': 'NEGATIVE', 'score': 0.9996354579925537}, {'label': 'NEGATIVE', 'score': 0.9975857734680176}, {'label': 'NEGATIVE', 'score': 0.9987969398498535}, {'label': 'NEGATIVE', 'score': 0.9839823842048645}, {'label': 'NEGATIVE', 'score': 0.9898871779441833}, {'label': 'NEGATIVE', 'score': 0.9975277781486511}, {'label': 'NEGATIVE', 'score': 0.9996901750564575}, {'label': 'POSITIVE', 'score': 0.6705830693244934}, {'label': 'NEGATIVE', 'score': 0.9677438735961914}, {'label': 'POSITIVE', 'score': 0.7250528335571289}, {'label': 'NEGATIVE', 'score': 0.9945546388626099}, {'label': 'NEGATIVE', 'score': 0.9888049364089966}, {'label': 'NEGATIVE', 'score': 0.9991711378097534}, {'label': 'NEGATIVE', 'score': 0.9940317273139954}, {'label': 'NEGATIVE', 'score': 0.9981427192687988}, {'label': 'NEGATIVE', 'score': 0.9958999752998352}, {'label': 'NEGATIVE', 'score': 0.9974260926246643}, {'label': 'NEGATIVE', 'score': 0.9992371797561646}, {'label': 'NEGATIVE', 'score': 0.9985935091972351}, {'label': 'NEGATIVE', 'score': 0.9972777962684631}, {'label': 'NEGATIVE', 'score': 0.9993923902511597}, {'label': 'NEGATIVE', 'score': 0.9986543655395508}, {'label': 'NEGATIVE', 'score': 0.9986448884010315}, {'label': 'NEGATIVE', 'score': 0.986616849899292}, {'label': 'NEGATIVE', 'score': 0.9974076151847839}, {'label': 'NEGATIVE', 'score': 0.9986240863800049}, {'label': 'NEGATIVE', 'score': 0.996093213558197}, {'label': 'NEGATIVE', 'score': 0.9990845918655396}, {'label': 'NEGATIVE', 'score': 0.9972705245018005}, {'label': 'NEGATIVE', 'score': 0.9959563612937927}, {'label': 'NEGATIVE', 'score': 0.9992693066596985}, {'label': 'NEGATIVE', 'score': 0.9937064051628113}, {'label': 'NEGATIVE', 'score': 0.9972882270812988}, {'label': 'NEGATIVE', 'score': 0.9988351464271545}, {'label': 'NEGATIVE', 'score': 0.9993557333946228}, {'label': 'NEGATIVE', 'score': 0.9983524084091187}, {'label': 'NEGATIVE', 'score': 0.995608389377594}, {'label': 'NEGATIVE', 'score': 0.9967508316040039}, {'label': 'NEGATIVE', 'score': 0.9957770109176636}, {'label': 'NEGATIVE', 'score': 0.9995336532592773}, {'label': 'NEGATIVE', 'score': 0.9975345134735107}, {'label': 'NEGATIVE', 'score': 0.9976261258125305}, {'label': 'NEGATIVE', 'score': 0.9834837317466736}, {'label': 'NEGATIVE', 'score': 0.9944798946380615}, {'label': 'NEGATIVE', 'score': 0.9985635876655579}, {'label': 'NEGATIVE', 'score': 0.9453620910644531}, {'label': 'NEGATIVE', 'score': 0.9990025162696838}, {'label': 'NEGATIVE', 'score': 0.9995948672294617}, {'label': 'NEGATIVE', 'score': 0.9991562366485596}, {'label': 'NEGATIVE', 'score': 0.9995390176773071}, {'label': 'NEGATIVE', 'score': 0.998437225818634}, {'label': 'POSITIVE', 'score': 0.934775173664093}, {'label': 'NEGATIVE', 'score': 0.9981770515441895}, {'label': 'NEGATIVE', 'score': 0.9996052384376526}, {'label': 'NEGATIVE', 'score': 0.9775152802467346}, {'label': 'NEGATIVE', 'score': 0.9993517994880676}, {'label': 'NEGATIVE', 'score': 0.9995824694633484}, {'label': 'NEGATIVE', 'score': 0.999049961566925}, {'label': 'NEGATIVE', 'score': 0.9955759048461914}, {'label': 'NEGATIVE', 'score': 0.9982566237449646}, {'label': 'NEGATIVE', 'score': 0.9901307821273804}, {'label': 'NEGATIVE', 'score': 0.9964501857757568}, {'label': 'NEGATIVE', 'score': 0.9912994503974915}, {'label': 'POSITIVE', 'score': 0.9988370537757874}, {'label': 'NEGATIVE', 'score': 0.9458094239234924}, {'label': 'NEGATIVE', 'score': 0.9770194888114929}, {'label': 'POSITIVE', 'score': 0.9996970891952515}, {'label': 'POSITIVE', 'score': 0.5567420125007629}, {'label': 'NEGATIVE', 'score': 0.996391236782074}, {'label': 'NEGATIVE', 'score': 0.9891198873519897}, {'label': 'NEGATIVE', 'score': 0.9979244470596313}, {'label': 'NEGATIVE', 'score': 0.9922846555709839}, {'label': 'POSITIVE', 'score': 0.9795953631401062}, {'label': 'NEGATIVE', 'score': 0.9924998879432678}, {'label': 'POSITIVE', 'score': 0.8726738691329956}, {'label': 'POSITIVE', 'score': 0.9879912734031677}, {'label': 'POSITIVE', 'score': 0.9975482821464539}, {'label': 'NEGATIVE', 'score': 0.9228125810623169}, {'label': 'NEGATIVE', 'score': 0.9827426671981812}, {'label': 'POSITIVE', 'score': 0.9920518398284912}, {'label': 'NEGATIVE', 'score': 0.98224937915802}, {'label': 'POSITIVE', 'score': 0.9852647185325623}, {'label': 'NEGATIVE', 'score': 0.9839878678321838}, {'label': 'POSITIVE', 'score': 0.9955297112464905}, {'label': 'NEGATIVE', 'score': 0.9151391386985779}, {'label': 'NEGATIVE', 'score': 0.9777905344963074}, {'label': 'NEGATIVE', 'score': 0.9989832043647766}, {'label': 'NEGATIVE', 'score': 0.9934163093566895}, {'label': 'NEGATIVE', 'score': 0.9303882122039795}, {'label': 'POSITIVE', 'score': 0.9923850297927856}, {'label': 'POSITIVE', 'score': 0.9954698085784912}, {'label': 'NEGATIVE', 'score': 0.998282790184021}, {'label': 'NEGATIVE', 'score': 0.9968070983886719}, {'label': 'POSITIVE', 'score': 0.993563175201416}, {'label': 'NEGATIVE', 'score': 0.8914493322372437}, {'label': 'NEGATIVE', 'score': 0.9865484833717346}, {'label': 'NEGATIVE', 'score': 0.9716067910194397}, {'label': 'NEGATIVE', 'score': 0.5720096826553345}, {'label': 'NEGATIVE', 'score': 0.9938538074493408}, {'label': 'NEGATIVE', 'score': 0.9977419376373291}, {'label': 'POSITIVE', 'score': 0.9989120960235596}, {'label': 'NEGATIVE', 'score': 0.9928247928619385}, {'label': 'NEGATIVE', 'score': 0.992665708065033}, {'label': 'NEGATIVE', 'score': 0.9995729327201843}, {'label': 'POSITIVE', 'score': 0.9880145192146301}, {'label': 'POSITIVE', 'score': 0.9836904406547546}, {'label': 'NEGATIVE', 'score': 0.995461642742157}, {'label': 'NEGATIVE', 'score': 0.9992371797561646}, {'label': 'NEGATIVE', 'score': 0.9988152980804443}, {'label': 'NEGATIVE', 'score': 0.9926897883415222}, {'label': 'POSITIVE', 'score': 0.8436649441719055}, {'label': 'POSITIVE', 'score': 0.8705283403396606}, {'label': 'NEGATIVE', 'score': 0.9695875644683838}, {'label': 'NEGATIVE', 'score': 0.9859275817871094}, {'label': 'NEGATIVE', 'score': 0.9508369565010071}, {'label': 'POSITIVE', 'score': 0.9962446093559265}, {'label': 'POSITIVE', 'score': 0.9725110530853271}, {'label': 'NEGATIVE', 'score': 0.9980536699295044}, {'label': 'POSITIVE', 'score': 0.9243787527084351}, {'label': 'NEGATIVE', 'score': 0.9572793245315552}, {'label': 'POSITIVE', 'score': 0.9565163254737854}, {'label': 'NEGATIVE', 'score': 0.9820741415023804}, {'label': 'NEGATIVE', 'score': 0.9996103644371033}, {'label': 'POSITIVE', 'score': 0.9810981750488281}, {'label': 'NEGATIVE', 'score': 0.9988853335380554}, {'label': 'POSITIVE', 'score': 0.9516814947128296}, {'label': 'NEGATIVE', 'score': 0.9854753017425537}, {'label': 'NEGATIVE', 'score': 0.9974026083946228}, {'label': 'NEGATIVE', 'score': 0.9863718152046204}, {'label': 'NEGATIVE', 'score': 0.9762507081031799}, {'label': 'POSITIVE', 'score': 0.9796542525291443}, {'label': 'NEGATIVE', 'score': 0.9910964965820312}, {'label': 'NEGATIVE', 'score': 0.9922702312469482}, {'label': 'POSITIVE', 'score': 0.9809500575065613}, {'label': 'NEGATIVE', 'score': 0.9943045973777771}, {'label': 'NEGATIVE', 'score': 0.9963666200637817}, {'label': 'NEGATIVE', 'score': 0.8876523971557617}, {'label': 'NEGATIVE', 'score': 0.9842545986175537}, {'label': 'POSITIVE', 'score': 0.9730279445648193}, {'label': 'NEGATIVE', 'score': 0.9922578930854797}, {'label': 'NEGATIVE', 'score': 0.9021223187446594}, {'label': 'NEGATIVE', 'score': 0.9574865698814392}, {'label': 'NEGATIVE', 'score': 0.9865727424621582}, {'label': 'NEGATIVE', 'score': 0.9984422326087952}, {'label': 'POSITIVE', 'score': 0.9561576247215271}, {'label': 'NEGATIVE', 'score': 0.9564982056617737}, {'label': 'NEGATIVE', 'score': 0.9916707277297974}, {'label': 'NEGATIVE', 'score': 0.994657576084137}, {'label': 'POSITIVE', 'score': 0.7984305024147034}, {'label': 'NEGATIVE', 'score': 0.984162449836731}, {'label': 'NEGATIVE', 'score': 0.9939700365066528}, {'label': 'NEGATIVE', 'score': 0.9950574636459351}, {'label': 'NEGATIVE', 'score': 0.9946873188018799}, {'label': 'NEGATIVE', 'score': 0.9993661046028137}, {'label': 'POSITIVE', 'score': 0.9880350232124329}, {'label': 'POSITIVE', 'score': 0.9863015413284302}, {'label': 'NEGATIVE', 'score': 0.9661275148391724}, {'label': 'NEGATIVE', 'score': 0.9836763739585876}, {'label': 'NEGATIVE', 'score': 0.9900994896888733}, {'label': 'NEGATIVE', 'score': 0.9997877478599548}, {'label': 'NEGATIVE', 'score': 0.9997469782829285}, {'label': 'NEGATIVE', 'score': 0.9984057545661926}, {'label': 'NEGATIVE', 'score': 0.9609593152999878}, {'label': 'NEGATIVE', 'score': 0.9890901446342468}, {'label': 'NEGATIVE', 'score': 0.9980899691581726}, {'label': 'POSITIVE', 'score': 0.9996528625488281}, {'label': 'NEGATIVE', 'score': 0.9962181448936462}, {'label': 'NEGATIVE', 'score': 0.6312834620475769}, {'label': 'NEGATIVE', 'score': 0.9813207983970642}, {'label': 'NEGATIVE', 'score': 0.8644759058952332}, {'label': 'NEGATIVE', 'score': 0.9492455124855042}, {'label': 'NEGATIVE', 'score': 0.9921627640724182}, {'label': 'NEGATIVE', 'score': 0.9852586984634399}, {'label': 'POSITIVE', 'score': 0.9611490368843079}, {'label': 'NEGATIVE', 'score': 0.9948398470878601}, {'label': 'NEGATIVE', 'score': 0.9957175850868225}, {'label': 'NEGATIVE', 'score': 0.9955447912216187}, {'label': 'NEGATIVE', 'score': 0.9949652552604675}, {'label': 'NEGATIVE', 'score': 0.9960267543792725}, {'label': 'NEGATIVE', 'score': 0.9952935576438904}, {'label': 'NEGATIVE', 'score': 0.9948638081550598}, {'label': 'NEGATIVE', 'score': 0.994523286819458}, {'label': 'NEGATIVE', 'score': 0.9949259757995605}, {'label': 'NEGATIVE', 'score': 0.9955242872238159}, {'label': 'NEGATIVE', 'score': 0.9950639605522156}, {'label': 'NEGATIVE', 'score': 0.9931261539459229}, {'label': 'NEGATIVE', 'score': 0.9917016625404358}, {'label': 'NEGATIVE', 'score': 0.9946542978286743}, {'label': 'NEGATIVE', 'score': 0.9864524602890015}, {'label': 'NEGATIVE', 'score': 0.9863499999046326}, {'label': 'NEGATIVE', 'score': 0.9875330328941345}, {'label': 'NEGATIVE', 'score': 0.9875550866127014}, {'label': 'POSITIVE', 'score': 0.633533775806427}, {'label': 'NEGATIVE', 'score': 0.9841055274009705}, {'label': 'NEGATIVE', 'score': 0.9359405040740967}, {'label': 'NEGATIVE', 'score': 0.9975507855415344}, {'label': 'NEGATIVE', 'score': 0.9978581070899963}, {'label': 'NEGATIVE', 'score': 0.9992384910583496}, {'label': 'NEGATIVE', 'score': 0.9955174326896667}, {'label': 'NEGATIVE', 'score': 0.9505375623703003}, {'label': 'NEGATIVE', 'score': 0.9194477200508118}, {'label': 'NEGATIVE', 'score': 0.9645093679428101}, {'label': 'NEGATIVE', 'score': 0.9549521207809448}, {'label': 'NEGATIVE', 'score': 0.9405323266983032}, {'label': 'NEGATIVE', 'score': 0.9974843263626099}, {'label': 'NEGATIVE', 'score': 0.9839207530021667}, {'label': 'NEGATIVE', 'score': 0.9235532879829407}, {'label': 'NEGATIVE', 'score': 0.9807816743850708}, {'label': 'NEGATIVE', 'score': 0.9973059892654419}, {'label': 'NEGATIVE', 'score': 0.9957601428031921}, {'label': 'POSITIVE', 'score': 0.9131036400794983}, {'label': 'NEGATIVE', 'score': 0.9830396771430969}, {'label': 'POSITIVE', 'score': 0.6925360560417175}, {'label': 'NEGATIVE', 'score': 0.9863763451576233}, {'label': 'NEGATIVE', 'score': 0.9844078421592712}, {'label': 'NEGATIVE', 'score': 0.9993906021118164}, {'label': 'NEGATIVE', 'score': 0.9990634322166443}, {'label': 'NEGATIVE', 'score': 0.9970439076423645}, {'label': 'POSITIVE', 'score': 0.9846017360687256}, {'label': 'POSITIVE', 'score': 0.9878690838813782}, {'label': 'POSITIVE', 'score': 0.9882258176803589}, {'label': 'POSITIVE', 'score': 0.9629054665565491}, {'label': 'POSITIVE', 'score': 0.9876155257225037}, {'label': 'POSITIVE', 'score': 0.9852122068405151}, {'label': 'POSITIVE', 'score': 0.989104151725769}, {'label': 'POSITIVE', 'score': 0.9885178804397583}, {'label': 'POSITIVE', 'score': 0.9844841361045837}, {'label': 'POSITIVE', 'score': 0.9801973104476929}, {'label': 'POSITIVE', 'score': 0.9923288226127625}, {'label': 'NEGATIVE', 'score': 0.9800574779510498}, {'label': 'NEGATIVE', 'score': 0.9700356125831604}, {'label': 'NEGATIVE', 'score': 0.9580055475234985}, {'label': 'NEGATIVE', 'score': 0.9994971752166748}, {'label': 'NEGATIVE', 'score': 0.9843789935112}, {'label': 'NEGATIVE', 'score': 0.9936031699180603}, {'label': 'NEGATIVE', 'score': 0.9948074221611023}, {'label': 'POSITIVE', 'score': 0.9566616415977478}, {'label': 'NEGATIVE', 'score': 0.9951777458190918}, {'label': 'NEGATIVE', 'score': 0.9980595707893372}, {'label': 'NEGATIVE', 'score': 0.9965630173683167}, {'label': 'NEGATIVE', 'score': 0.9938924312591553}, {'label': 'NEGATIVE', 'score': 0.995144784450531}, {'label': 'NEGATIVE', 'score': 0.9651246666908264}, {'label': 'NEGATIVE', 'score': 0.9969005584716797}, {'label': 'NEGATIVE', 'score': 0.9995200634002686}, {'label': 'NEGATIVE', 'score': 0.9687345027923584}, {'label': 'NEGATIVE', 'score': 0.9418334364891052}, {'label': 'NEGATIVE', 'score': 0.9886138439178467}, {'label': 'NEGATIVE', 'score': 0.9956941604614258}, {'label': 'NEGATIVE', 'score': 0.9969774484634399}, {'label': 'NEGATIVE', 'score': 0.9926122426986694}, {'label': 'NEGATIVE', 'score': 0.9923731684684753}, {'label': 'NEGATIVE', 'score': 0.9442840814590454}, {'label': 'NEGATIVE', 'score': 0.9727099537849426}, {'label': 'NEGATIVE', 'score': 0.9957731366157532}, {'label': 'NEGATIVE', 'score': 0.9925963878631592}, {'label': 'NEGATIVE', 'score': 0.921802282333374}, {'label': 'POSITIVE', 'score': 0.8321834206581116}, {'label': 'POSITIVE', 'score': 0.9707979559898376}, {'label': 'NEGATIVE', 'score': 0.9891244173049927}, {'label': 'NEGATIVE', 'score': 0.9927882552146912}, {'label': 'NEGATIVE', 'score': 0.8780624866485596}, {'label': 'POSITIVE', 'score': 0.9595654010772705}, {'label': 'NEGATIVE', 'score': 0.9872927665710449}, {'label': 'NEGATIVE', 'score': 0.9991795420646667}, {'label': 'NEGATIVE', 'score': 0.9980487823486328}, {'label': 'NEGATIVE', 'score': 0.9991551637649536}, {'label': 'NEGATIVE', 'score': 0.9994981288909912}, {'label': 'NEGATIVE', 'score': 0.991543173789978}, {'label': 'NEGATIVE', 'score': 0.9992953538894653}, {'label': 'NEGATIVE', 'score': 0.9996610879898071}, {'label': 'NEGATIVE', 'score': 0.9996306896209717}, {'label': 'NEGATIVE', 'score': 0.9995545744895935}, {'label': 'NEGATIVE', 'score': 0.999536395072937}, {'label': 'NEGATIVE', 'score': 0.999612033367157}, {'label': 'NEGATIVE', 'score': 0.9996135830879211}, {'label': 'NEGATIVE', 'score': 0.9995195865631104}, {'label': 'NEGATIVE', 'score': 0.9991965889930725}, {'label': 'NEGATIVE', 'score': 0.9992653727531433}, {'label': 'NEGATIVE', 'score': 0.9986250400543213}, {'label': 'NEGATIVE', 'score': 0.9996262788772583}, {'label': 'NEGATIVE', 'score': 0.9993100166320801}, {'label': 'NEGATIVE', 'score': 0.9997081160545349}, {'label': 'NEGATIVE', 'score': 0.9979923963546753}, {'label': 'NEGATIVE', 'score': 0.9997743964195251}, {'label': 'NEGATIVE', 'score': 0.9984161853790283}, {'label': 'NEGATIVE', 'score': 0.9995835423469543}, {'label': 'NEGATIVE', 'score': 0.9846287965774536}, {'label': 'NEGATIVE', 'score': 0.999764621257782}, {'label': 'NEGATIVE', 'score': 0.9997840523719788}, {'label': 'NEGATIVE', 'score': 0.9997020363807678}, {'label': 'NEGATIVE', 'score': 0.9609668254852295}, {'label': 'NEGATIVE', 'score': 0.9997687935829163}, {'label': 'NEGATIVE', 'score': 0.9996160268783569}, {'label': 'NEGATIVE', 'score': 0.999774158000946}, {'label': 'NEGATIVE', 'score': 0.9996577501296997}, {'label': 'NEGATIVE', 'score': 0.9977700710296631}, {'label': 'NEGATIVE', 'score': 0.9995957016944885}, {'label': 'NEGATIVE', 'score': 0.9944140911102295}, {'label': 'NEGATIVE', 'score': 0.9882777333259583}, {'label': 'NEGATIVE', 'score': 0.5314250588417053}, {'label': 'NEGATIVE', 'score': 0.6969375610351562}, {'label': 'NEGATIVE', 'score': 0.9996577501296997}, {'label': 'NEGATIVE', 'score': 0.9983775615692139}, {'label': 'NEGATIVE', 'score': 0.9993435740470886}, {'label': 'NEGATIVE', 'score': 0.9996517896652222}, {'label': 'NEGATIVE', 'score': 0.9995579123497009}, {'label': 'NEGATIVE', 'score': 0.9989842772483826}, {'label': 'NEGATIVE', 'score': 0.998934805393219}, {'label': 'NEGATIVE', 'score': 0.9997151494026184}, {'label': 'NEGATIVE', 'score': 0.9996228218078613}, {'label': 'NEGATIVE', 'score': 0.999785840511322}, {'label': 'NEGATIVE', 'score': 0.999195396900177}, {'label': 'NEGATIVE', 'score': 0.998958945274353}, {'label': 'NEGATIVE', 'score': 0.9914597272872925}, {'label': 'NEGATIVE', 'score': 0.9992371797561646}, {'label': 'NEGATIVE', 'score': 0.9996981620788574}, {'label': 'NEGATIVE', 'score': 0.9996494054794312}, {'label': 'NEGATIVE', 'score': 0.9990648627281189}, {'label': 'NEGATIVE', 'score': 0.9966481328010559}, {'label': 'NEGATIVE', 'score': 0.9992790818214417}, {'label': 'NEGATIVE', 'score': 0.999718964099884}, {'label': 'POSITIVE', 'score': 0.6705845594406128}, {'label': 'NEGATIVE', 'score': 0.9993271827697754}, {'label': 'NEGATIVE', 'score': 0.99934321641922}, {'label': 'NEGATIVE', 'score': 0.9984182119369507}, {'label': 'NEGATIVE', 'score': 0.9988766312599182}, {'label': 'NEGATIVE', 'score': 0.9997091889381409}, {'label': 'NEGATIVE', 'score': 0.9996354579925537}, {'label': 'NEGATIVE', 'score': 0.9996951818466187}, {'label': 'NEGATIVE', 'score': 0.9995028972625732}, {'label': 'NEGATIVE', 'score': 0.9960618615150452}, {'label': 'NEGATIVE', 'score': 0.9916370511054993}, {'label': 'NEGATIVE', 'score': 0.9898107051849365}, {'label': 'NEGATIVE', 'score': 0.971644937992096}, {'label': 'NEGATIVE', 'score': 0.9996172189712524}, {'label': 'NEGATIVE', 'score': 0.999705970287323}, {'label': 'NEGATIVE', 'score': 0.9996812343597412}, {'label': 'NEGATIVE', 'score': 0.9989579916000366}, {'label': 'NEGATIVE', 'score': 0.9996869564056396}, {'label': 'NEGATIVE', 'score': 0.9996596574783325}, {'label': 'NEGATIVE', 'score': 0.9899534583091736}, {'label': 'NEGATIVE', 'score': 0.9960149526596069}, {'label': 'NEGATIVE', 'score': 0.9918239712715149}, {'label': 'NEGATIVE', 'score': 0.9996592998504639}, {'label': 'NEGATIVE', 'score': 0.999601423740387}, {'label': 'NEGATIVE', 'score': 0.9992984533309937}, {'label': 'NEGATIVE', 'score': 0.9997244477272034}, {'label': 'NEGATIVE', 'score': 0.9995299577713013}, {'label': 'NEGATIVE', 'score': 0.9992424249649048}, {'label': 'NEGATIVE', 'score': 0.9996594190597534}, {'label': 'NEGATIVE', 'score': 0.9996219873428345}, {'label': 'NEGATIVE', 'score': 0.9996410608291626}, {'label': 'NEGATIVE', 'score': 0.9997147917747498}, {'label': 'NEGATIVE', 'score': 0.9995013475418091}, {'label': 'NEGATIVE', 'score': 0.999685525894165}, {'label': 'NEGATIVE', 'score': 0.993655800819397}, {'label': 'NEGATIVE', 'score': 0.9957003593444824}, {'label': 'NEGATIVE', 'score': 0.9997690320014954}, {'label': 'NEGATIVE', 'score': 0.99977046251297}, {'label': 'NEGATIVE', 'score': 0.9974789023399353}, {'label': 'NEGATIVE', 'score': 0.9995723366737366}, {'label': 'NEGATIVE', 'score': 0.9996768236160278}, {'label': 'NEGATIVE', 'score': 0.9983087778091431}, {'label': 'NEGATIVE', 'score': 0.9989578723907471}, {'label': 'NEGATIVE', 'score': 0.9990689158439636}, {'label': 'NEGATIVE', 'score': 0.9997108578681946}, {'label': 'NEGATIVE', 'score': 0.9996434450149536}, {'label': 'NEGATIVE', 'score': 0.998687207698822}, {'label': 'NEGATIVE', 'score': 0.9997267127037048}, {'label': 'NEGATIVE', 'score': 0.9997610449790955}, {'label': 'NEGATIVE', 'score': 0.9958212375640869}, {'label': 'NEGATIVE', 'score': 0.9953397512435913}, {'label': 'NEGATIVE', 'score': 0.9918826222419739}, {'label': 'NEGATIVE', 'score': 0.9953116774559021}, {'label': 'NEGATIVE', 'score': 0.995050847530365}, {'label': 'NEGATIVE', 'score': 0.9967308044433594}, {'label': 'NEGATIVE', 'score': 0.995913565158844}, {'label': 'NEGATIVE', 'score': 0.997165858745575}, {'label': 'NEGATIVE', 'score': 0.9945303797721863}, {'label': 'NEGATIVE', 'score': 0.9961987137794495}, {'label': 'NEGATIVE', 'score': 0.9964534044265747}, {'label': 'NEGATIVE', 'score': 0.9831716418266296}, {'label': 'NEGATIVE', 'score': 0.997019350528717}, {'label': 'NEGATIVE', 'score': 0.9974668025970459}, {'label': 'NEGATIVE', 'score': 0.9958438277244568}, {'label': 'NEGATIVE', 'score': 0.9946331977844238}, {'label': 'NEGATIVE', 'score': 0.9979013204574585}, {'label': 'NEGATIVE', 'score': 0.9945883750915527}, {'label': 'NEGATIVE', 'score': 0.9960200190544128}, {'label': 'NEGATIVE', 'score': 0.9952247142791748}, {'label': 'NEGATIVE', 'score': 0.9967148303985596}, {'label': 'NEGATIVE', 'score': 0.9918527007102966}, {'label': 'NEGATIVE', 'score': 0.9801909923553467}, {'label': 'NEGATIVE', 'score': 0.9979959726333618}, {'label': 'NEGATIVE', 'score': 0.9958226680755615}, {'label': 'NEGATIVE', 'score': 0.9988864064216614}, {'label': 'NEGATIVE', 'score': 0.9971168041229248}, {'label': 'NEGATIVE', 'score': 0.9968666434288025}, {'label': 'NEGATIVE', 'score': 0.994602382183075}, {'label': 'NEGATIVE', 'score': 0.9965552091598511}, {'label': 'NEGATIVE', 'score': 0.9644225239753723}, {'label': 'NEGATIVE', 'score': 0.9965333938598633}, {'label': 'NEGATIVE', 'score': 0.9970909357070923}, {'label': 'NEGATIVE', 'score': 0.9955606460571289}, {'label': 'NEGATIVE', 'score': 0.9853011965751648}, {'label': 'POSITIVE', 'score': 0.6442520618438721}, {'label': 'NEGATIVE', 'score': 0.9958861470222473}, {'label': 'NEGATIVE', 'score': 0.996234118938446}, {'label': 'NEGATIVE', 'score': 0.9977397918701172}, {'label': 'NEGATIVE', 'score': 0.9977869987487793}, {'label': 'NEGATIVE', 'score': 0.5647101998329163}, {'label': 'NEGATIVE', 'score': 0.9963569045066833}, {'label': 'NEGATIVE', 'score': 0.9977502226829529}, {'label': 'NEGATIVE', 'score': 0.9965354204177856}, {'label': 'NEGATIVE', 'score': 0.9962779879570007}, {'label': 'POSITIVE', 'score': 0.9708784222602844}, {'label': 'NEGATIVE', 'score': 0.9941797256469727}, {'label': 'NEGATIVE', 'score': 0.9870490431785583}, {'label': 'NEGATIVE', 'score': 0.8097072839736938}, {'label': 'NEGATIVE', 'score': 0.9968529343605042}, {'label': 'NEGATIVE', 'score': 0.9942424893379211}, {'label': 'NEGATIVE', 'score': 0.9683646559715271}, {'label': 'POSITIVE', 'score': 0.9926084876060486}, {'label': 'POSITIVE', 'score': 0.755528450012207}, {'label': 'POSITIVE', 'score': 0.7086567878723145}, {'label': 'NEGATIVE', 'score': 0.9821010231971741}, {'label': 'NEGATIVE', 'score': 0.9923250675201416}, {'label': 'NEGATIVE', 'score': 0.9959478974342346}, {'label': 'NEGATIVE', 'score': 0.9861246347427368}, {'label': 'NEGATIVE', 'score': 0.9981524348258972}, {'label': 'NEGATIVE', 'score': 0.9902504682540894}, {'label': 'NEGATIVE', 'score': 0.9884539246559143}, {'label': 'NEGATIVE', 'score': 0.9880368709564209}, {'label': 'NEGATIVE', 'score': 0.99186110496521}, {'label': 'POSITIVE', 'score': 0.9961244463920593}, {'label': 'POSITIVE', 'score': 0.987751841545105}, {'label': 'NEGATIVE', 'score': 0.9881340861320496}, {'label': 'NEGATIVE', 'score': 0.9885839223861694}, {'label': 'POSITIVE', 'score': 0.7923495769500732}, {'label': 'NEGATIVE', 'score': 0.9845555424690247}, {'label': 'NEGATIVE', 'score': 0.9919220209121704}, {'label': 'NEGATIVE', 'score': 0.9925535321235657}, {'label': 'NEGATIVE', 'score': 0.9874948859214783}, {'label': 'NEGATIVE', 'score': 0.9891324639320374}, {'label': 'POSITIVE', 'score': 0.5275881290435791}, {'label': 'NEGATIVE', 'score': 0.9804838299751282}, {'label': 'NEGATIVE', 'score': 0.9768375158309937}, {'label': 'NEGATIVE', 'score': 0.9886772632598877}, {'label': 'NEGATIVE', 'score': 0.6723822951316833}, {'label': 'NEGATIVE', 'score': 0.9902467727661133}, {'label': 'POSITIVE', 'score': 0.9846002459526062}, {'label': 'NEGATIVE', 'score': 0.9720290899276733}, {'label': 'POSITIVE', 'score': 0.9029911160469055}, {'label': 'POSITIVE', 'score': 0.996638298034668}, {'label': 'POSITIVE', 'score': 0.9877521991729736}, {'label': 'NEGATIVE', 'score': 0.9936776757240295}, {'label': 'NEGATIVE', 'score': 0.996222734451294}, {'label': 'POSITIVE', 'score': 0.9268984198570251}, {'label': 'NEGATIVE', 'score': 0.9895524382591248}, {'label': 'NEGATIVE', 'score': 0.9969471096992493}, {'label': 'NEGATIVE', 'score': 0.9413094520568848}, {'label': 'POSITIVE', 'score': 0.9977686405181885}, {'label': 'NEGATIVE', 'score': 0.9922630786895752}, {'label': 'NEGATIVE', 'score': 0.9910646677017212}, {'label': 'POSITIVE', 'score': 0.6914803385734558}, {'label': 'NEGATIVE', 'score': 0.5312435626983643}, {'label': 'POSITIVE', 'score': 0.9697244167327881}, {'label': 'NEGATIVE', 'score': 0.9408844709396362}, {'label': 'POSITIVE', 'score': 0.9326044321060181}, {'label': 'NEGATIVE', 'score': 0.9907479286193848}, {'label': 'POSITIVE', 'score': 0.9381840229034424}, {'label': 'NEGATIVE', 'score': 0.941891074180603}, {'label': 'POSITIVE', 'score': 0.8909972310066223}, {'label': 'NEGATIVE', 'score': 0.9869547486305237}, {'label': 'POSITIVE', 'score': 0.989648699760437}, {'label': 'NEGATIVE', 'score': 0.8325702548027039}, {'label': 'NEGATIVE', 'score': 0.9847515225410461}, {'label': 'NEGATIVE', 'score': 0.9871942400932312}, {'label': 'NEGATIVE', 'score': 0.9819955825805664}, {'label': 'POSITIVE', 'score': 0.9997522234916687}, {'label': 'POSITIVE', 'score': 0.9794149994850159}, {'label': 'NEGATIVE', 'score': 0.9947894811630249}, {'label': 'NEGATIVE', 'score': 0.9953293800354004}, {'label': 'NEGATIVE', 'score': 0.9866522550582886}, {'label': 'NEGATIVE', 'score': 0.9886598587036133}, {'label': 'POSITIVE', 'score': 0.9993734955787659}, {'label': 'NEGATIVE', 'score': 0.9900068044662476}, {'label': 'POSITIVE', 'score': 0.9904878735542297}, {'label': 'POSITIVE', 'score': 0.982327938079834}, {'label': 'NEGATIVE', 'score': 0.9949817061424255}, {'label': 'NEGATIVE', 'score': 0.9933503270149231}, {'label': 'NEGATIVE', 'score': 0.9920599460601807}, {'label': 'POSITIVE', 'score': 0.9646416902542114}, {'label': 'POSITIVE', 'score': 0.9871013164520264}, {'label': 'NEGATIVE', 'score': 0.994071900844574}, {'label': 'NEGATIVE', 'score': 0.9924750924110413}, {'label': 'POSITIVE', 'score': 0.9729247689247131}, {'label': 'NEGATIVE', 'score': 0.9840536713600159}, {'label': 'NEGATIVE', 'score': 0.9771948456764221}, {'label': 'NEGATIVE', 'score': 0.9947624802589417}, {'label': 'NEGATIVE', 'score': 0.9906841516494751}, {'label': 'NEGATIVE', 'score': 0.8535841107368469}, {'label': 'POSITIVE', 'score': 0.8810740113258362}, {'label': 'POSITIVE', 'score': 0.9955918192863464}, {'label': 'NEGATIVE', 'score': 0.7823896408081055}, {'label': 'NEGATIVE', 'score': 0.6028797030448914}, {'label': 'NEGATIVE', 'score': 0.9879581928253174}, {'label': 'POSITIVE', 'score': 0.8458662629127502}, {'label': 'NEGATIVE', 'score': 0.9965659976005554}, {'label': 'POSITIVE', 'score': 0.9449275732040405}, {'label': 'POSITIVE', 'score': 0.9642542600631714}, {'label': 'NEGATIVE', 'score': 0.9764072895050049}, {'label': 'NEGATIVE', 'score': 0.9836154580116272}, {'label': 'NEGATIVE', 'score': 0.9605486989021301}, {'label': 'NEGATIVE', 'score': 0.9830976128578186}, {'label': 'POSITIVE', 'score': 0.9050394296646118}, {'label': 'NEGATIVE', 'score': 0.9899320602416992}, {'label': 'POSITIVE', 'score': 0.9937002658843994}, {'label': 'POSITIVE', 'score': 0.9977244734764099}, {'label': 'NEGATIVE', 'score': 0.5564568638801575}, {'label': 'NEGATIVE', 'score': 0.9882992506027222}, {'label': 'POSITIVE', 'score': 0.9755979776382446}, {'label': 'NEGATIVE', 'score': 0.9971449971199036}, {'label': 'NEGATIVE', 'score': 0.9899305105209351}, {'label': 'NEGATIVE', 'score': 0.9885149598121643}, {'label': 'NEGATIVE', 'score': 0.9928241968154907}, {'label': 'NEGATIVE', 'score': 0.9942686557769775}, {'label': 'NEGATIVE', 'score': 0.9976751208305359}, {'label': 'NEGATIVE', 'score': 0.9886899590492249}, {'label': 'NEGATIVE', 'score': 0.9899729490280151}, {'label': 'NEGATIVE', 'score': 0.9891716837882996}, {'label': 'NEGATIVE', 'score': 0.989083468914032}, {'label': 'NEGATIVE', 'score': 0.9976049661636353}, {'label': 'NEGATIVE', 'score': 0.988224983215332}, {'label': 'NEGATIVE', 'score': 0.9767738580703735}, {'label': 'NEGATIVE', 'score': 0.9923409223556519}, {'label': 'POSITIVE', 'score': 0.9919529557228088}, {'label': 'POSITIVE', 'score': 0.9909226298332214}, {'label': 'POSITIVE', 'score': 0.9873406291007996}, {'label': 'POSITIVE', 'score': 0.9489679336547852}, {'label': 'POSITIVE', 'score': 0.9489679336547852}, {'label': 'POSITIVE', 'score': 0.9867005944252014}, {'label': 'NEGATIVE', 'score': 0.8475099205970764}, {'label': 'NEGATIVE', 'score': 0.9823218584060669}, {'label': 'NEGATIVE', 'score': 0.9820225238800049}, {'label': 'NEGATIVE', 'score': 0.9297606348991394}, {'label': 'NEGATIVE', 'score': 0.8839073777198792}, {'label': 'NEGATIVE', 'score': 0.9209924936294556}, {'label': 'NEGATIVE', 'score': 0.9713242650032043}, {'label': 'NEGATIVE', 'score': 0.9966151118278503}, {'label': 'NEGATIVE', 'score': 0.9920095205307007}, {'label': 'NEGATIVE', 'score': 0.9897221922874451}, {'label': 'NEGATIVE', 'score': 0.8742833733558655}, {'label': 'NEGATIVE', 'score': 0.9213347434997559}, {'label': 'NEGATIVE', 'score': 0.9953136444091797}, {'label': 'NEGATIVE', 'score': 0.9935786724090576}, {'label': 'NEGATIVE', 'score': 0.9669060111045837}, {'label': 'POSITIVE', 'score': 0.9905245900154114}, {'label': 'POSITIVE', 'score': 0.6531928777694702}, {'label': 'NEGATIVE', 'score': 0.940292477607727}, {'label': 'POSITIVE', 'score': 0.9925441741943359}, {'label': 'NEGATIVE', 'score': 0.9853386878967285}, {'label': 'NEGATIVE', 'score': 0.9961829781532288}, {'label': 'NEGATIVE', 'score': 0.9964858293533325}, {'label': 'NEGATIVE', 'score': 0.9845714569091797}, {'label': 'NEGATIVE', 'score': 0.9978514909744263}, {'label': 'NEGATIVE', 'score': 0.9847332835197449}, {'label': 'NEGATIVE', 'score': 0.9845704436302185}, {'label': 'NEGATIVE', 'score': 0.9989411234855652}, {'label': 'NEGATIVE', 'score': 0.9993401169776917}, {'label': 'NEGATIVE', 'score': 0.9988766312599182}, {'label': 'NEGATIVE', 'score': 0.9985320568084717}, {'label': 'NEGATIVE', 'score': 0.999221682548523}, {'label': 'NEGATIVE', 'score': 0.9991924166679382}, {'label': 'NEGATIVE', 'score': 0.9995262622833252}, {'label': 'NEGATIVE', 'score': 0.9955344200134277}, {'label': 'NEGATIVE', 'score': 0.9926944971084595}, {'label': 'NEGATIVE', 'score': 0.9989113807678223}, {'label': 'NEGATIVE', 'score': 0.9977473616600037}, {'label': 'NEGATIVE', 'score': 0.9966398477554321}, {'label': 'NEGATIVE', 'score': 0.9992384910583496}, {'label': 'NEGATIVE', 'score': 0.9836011528968811}, {'label': 'POSITIVE', 'score': 0.973663330078125}, {'label': 'NEGATIVE', 'score': 0.9991839528083801}, {'label': 'NEGATIVE', 'score': 0.9995474219322205}, {'label': 'NEGATIVE', 'score': 0.9985544085502625}, {'label': 'NEGATIVE', 'score': 0.998940646648407}, {'label': 'NEGATIVE', 'score': 0.998766303062439}, {'label': 'NEGATIVE', 'score': 0.999659538269043}, {'label': 'NEGATIVE', 'score': 0.9909952282905579}, {'label': 'NEGATIVE', 'score': 0.9924831986427307}, {'label': 'NEGATIVE', 'score': 0.9984152317047119}, {'label': 'NEGATIVE', 'score': 0.9990179538726807}, {'label': 'NEGATIVE', 'score': 0.9995344877243042}, {'label': 'NEGATIVE', 'score': 0.8809922337532043}, {'label': 'NEGATIVE', 'score': 0.5372852087020874}, {'label': 'NEGATIVE', 'score': 0.9996949434280396}, {'label': 'POSITIVE', 'score': 0.9957002401351929}, {'label': 'NEGATIVE', 'score': 0.978571891784668}, {'label': 'NEGATIVE', 'score': 0.9987832903862}, {'label': 'NEGATIVE', 'score': 0.7825519442558289}, {'label': 'NEGATIVE', 'score': 0.9988282322883606}, {'label': 'NEGATIVE', 'score': 0.9990781545639038}, {'label': 'NEGATIVE', 'score': 0.9986955523490906}, {'label': 'NEGATIVE', 'score': 0.9541447758674622}, {'label': 'NEGATIVE', 'score': 0.999724805355072}, {'label': 'NEGATIVE', 'score': 0.9986737966537476}, {'label': 'POSITIVE', 'score': 0.9992963075637817}, {'label': 'NEGATIVE', 'score': 0.9990314245223999}, {'label': 'NEGATIVE', 'score': 0.9990014433860779}, {'label': 'NEGATIVE', 'score': 0.9918290972709656}, {'label': 'NEGATIVE', 'score': 0.9981259703636169}, {'label': 'NEGATIVE', 'score': 0.9945107698440552}, {'label': 'NEGATIVE', 'score': 0.9991660118103027}, {'label': 'NEGATIVE', 'score': 0.9997438788414001}, {'label': 'NEGATIVE', 'score': 0.9981822967529297}, {'label': 'NEGATIVE', 'score': 0.9916462302207947}, {'label': 'NEGATIVE', 'score': 0.9952310919761658}, {'label': 'NEGATIVE', 'score': 0.9996115565299988}, {'label': 'NEGATIVE', 'score': 0.9819591641426086}, {'label': 'NEGATIVE', 'score': 0.9790119528770447}, {'label': 'NEGATIVE', 'score': 0.9955999851226807}, {'label': 'NEGATIVE', 'score': 0.999574601650238}, {'label': 'NEGATIVE', 'score': 0.9979161620140076}, {'label': 'NEGATIVE', 'score': 0.9778600931167603}, {'label': 'NEGATIVE', 'score': 0.9899298548698425}, {'label': 'NEGATIVE', 'score': 0.9995717406272888}, {'label': 'NEGATIVE', 'score': 0.9997465014457703}, {'label': 'NEGATIVE', 'score': 0.9987179040908813}, {'label': 'NEGATIVE', 'score': 0.9986869692802429}, {'label': 'NEGATIVE', 'score': 0.9996170997619629}, {'label': 'NEGATIVE', 'score': 0.9996929168701172}, {'label': 'NEGATIVE', 'score': 0.993995726108551}, {'label': 'NEGATIVE', 'score': 0.9989601373672485}, {'label': 'NEGATIVE', 'score': 0.9989200830459595}, {'label': 'POSITIVE', 'score': 0.9496877193450928}, {'label': 'NEGATIVE', 'score': 0.9995927214622498}, {'label': 'NEGATIVE', 'score': 0.9989006519317627}, {'label': 'NEGATIVE', 'score': 0.9683983325958252}, {'label': 'NEGATIVE', 'score': 0.98976069688797}, {'label': 'NEGATIVE', 'score': 0.9985685348510742}, {'label': 'NEGATIVE', 'score': 0.9988155364990234}, {'label': 'POSITIVE', 'score': 0.988246500492096}, {'label': 'NEGATIVE', 'score': 0.8190576434135437}, {'label': 'NEGATIVE', 'score': 0.9994276165962219}, {'label': 'NEGATIVE', 'score': 0.9613296985626221}, {'label': 'NEGATIVE', 'score': 0.997877836227417}, {'label': 'NEGATIVE', 'score': 0.9983240962028503}, {'label': 'NEGATIVE', 'score': 0.9990880489349365}, {'label': 'NEGATIVE', 'score': 0.985450267791748}, {'label': 'NEGATIVE', 'score': 0.9597552418708801}, {'label': 'NEGATIVE', 'score': 0.9945626854896545}, {'label': 'NEGATIVE', 'score': 0.9948804378509521}, {'label': 'NEGATIVE', 'score': 0.9897776246070862}, {'label': 'NEGATIVE', 'score': 0.9959814548492432}, {'label': 'NEGATIVE', 'score': 0.9775499105453491}, {'label': 'NEGATIVE', 'score': 0.9997245669364929}, {'label': 'NEGATIVE', 'score': 0.9679869413375854}, {'label': 'NEGATIVE', 'score': 0.796179473400116}, {'label': 'NEGATIVE', 'score': 0.964097797870636}, {'label': 'NEGATIVE', 'score': 0.9905030727386475}, {'label': 'NEGATIVE', 'score': 0.9996205568313599}, {'label': 'NEGATIVE', 'score': 0.9996531009674072}, {'label': 'NEGATIVE', 'score': 0.9985300302505493}, {'label': 'NEGATIVE', 'score': 0.9993988275527954}, {'label': 'NEGATIVE', 'score': 0.9992824196815491}, {'label': 'NEGATIVE', 'score': 0.9985722303390503}, {'label': 'NEGATIVE', 'score': 0.9996569156646729}, {'label': 'NEGATIVE', 'score': 0.9990577101707458}, {'label': 'NEGATIVE', 'score': 0.9996696710586548}, {'label': 'NEGATIVE', 'score': 0.9994256496429443}, {'label': 'NEGATIVE', 'score': 0.9989446997642517}, {'label': 'NEGATIVE', 'score': 0.9995974898338318}, {'label': 'NEGATIVE', 'score': 0.9988849759101868}, {'label': 'NEGATIVE', 'score': 0.9987686276435852}, {'label': 'POSITIVE', 'score': 0.9985283613204956}, {'label': 'POSITIVE', 'score': 0.9779225587844849}, {'label': 'POSITIVE', 'score': 0.9887027740478516}, {'label': 'NEGATIVE', 'score': 0.804903507232666}, {'label': 'NEGATIVE', 'score': 0.9975404739379883}, {'label': 'NEGATIVE', 'score': 0.9784979224205017}, {'label': 'NEGATIVE', 'score': 0.8818589448928833}, {'label': 'POSITIVE', 'score': 0.9949942231178284}, {'label': 'POSITIVE', 'score': 0.9431694149971008}, {'label': 'NEGATIVE', 'score': 0.9570167660713196}, {'label': 'POSITIVE', 'score': 0.9903532266616821}, {'label': 'POSITIVE', 'score': 0.8143698573112488}, {'label': 'NEGATIVE', 'score': 0.9889814853668213}, {'label': 'NEGATIVE', 'score': 0.9726964235305786}, {'label': 'NEGATIVE', 'score': 0.9925504922866821}, {'label': 'NEGATIVE', 'score': 0.9795287847518921}, {'label': 'POSITIVE', 'score': 0.9614006280899048}, {'label': 'POSITIVE', 'score': 0.9982712268829346}, {'label': 'POSITIVE', 'score': 0.9629749655723572}, {'label': 'POSITIVE', 'score': 0.6160711050033569}, {'label': 'POSITIVE', 'score': 0.9908761382102966}, {'label': 'NEGATIVE', 'score': 0.9539058804512024}, {'label': 'NEGATIVE', 'score': 0.9983407258987427}, {'label': 'NEGATIVE', 'score': 0.999402642250061}, {'label': 'NEGATIVE', 'score': 0.9989914298057556}, {'label': 'NEGATIVE', 'score': 0.9930524230003357}, {'label': 'NEGATIVE', 'score': 0.9973005652427673}, {'label': 'NEGATIVE', 'score': 0.9908697009086609}, {'label': 'NEGATIVE', 'score': 0.925312340259552}, {'label': 'NEGATIVE', 'score': 0.904384434223175}, {'label': 'NEGATIVE', 'score': 0.999541163444519}, {'label': 'NEGATIVE', 'score': 0.9819968342781067}, {'label': 'NEGATIVE', 'score': 0.9927985668182373}, {'label': 'POSITIVE', 'score': 0.9965866804122925}, {'label': 'NEGATIVE', 'score': 0.9917052984237671}, {'label': 'NEGATIVE', 'score': 0.9957252740859985}, {'label': 'NEGATIVE', 'score': 0.9830806851387024}, {'label': 'NEGATIVE', 'score': 0.9973846077919006}, {'label': 'NEGATIVE', 'score': 0.9980685114860535}, {'label': 'NEGATIVE', 'score': 0.998854398727417}, {'label': 'POSITIVE', 'score': 0.9978774785995483}, {'label': 'NEGATIVE', 'score': 0.9964898228645325}, {'label': 'NEGATIVE', 'score': 0.9887120723724365}, {'label': 'NEGATIVE', 'score': 0.9996618032455444}, {'label': 'NEGATIVE', 'score': 0.9931765794754028}, {'label': 'NEGATIVE', 'score': 0.9970012307167053}, {'label': 'NEGATIVE', 'score': 0.9973238706588745}, {'label': 'NEGATIVE', 'score': 0.996707022190094}, {'label': 'NEGATIVE', 'score': 0.9990360736846924}, {'label': 'NEGATIVE', 'score': 0.9886234998703003}, {'label': 'NEGATIVE', 'score': 0.9996556043624878}, {'label': 'NEGATIVE', 'score': 0.998927891254425}, {'label': 'NEGATIVE', 'score': 0.9990279674530029}, {'label': 'NEGATIVE', 'score': 0.9887290000915527}, {'label': 'NEGATIVE', 'score': 0.9993746876716614}, {'label': 'NEGATIVE', 'score': 0.9955747127532959}, {'label': 'NEGATIVE', 'score': 0.9958219528198242}, {'label': 'NEGATIVE', 'score': 0.9997881054878235}, {'label': 'NEGATIVE', 'score': 0.9969334602355957}, {'label': 'NEGATIVE', 'score': 0.9945064187049866}, {'label': 'POSITIVE', 'score': 0.8304452896118164}, {'label': 'NEGATIVE', 'score': 0.9968602657318115}, {'label': 'NEGATIVE', 'score': 0.9996482133865356}, {'label': 'NEGATIVE', 'score': 0.9921283721923828}, {'label': 'NEGATIVE', 'score': 0.9872940182685852}, {'label': 'NEGATIVE', 'score': 0.9866742491722107}, {'label': 'NEGATIVE', 'score': 0.890765905380249}, {'label': 'POSITIVE', 'score': 0.9943168759346008}, {'label': 'NEGATIVE', 'score': 0.9998120665550232}, {'label': 'NEGATIVE', 'score': 0.99693763256073}, {'label': 'NEGATIVE', 'score': 0.9992960691452026}, {'label': 'NEGATIVE', 'score': 0.9978649020195007}, {'label': 'NEGATIVE', 'score': 0.9978876709938049}, {'label': 'NEGATIVE', 'score': 0.9976366758346558}, {'label': 'NEGATIVE', 'score': 0.9988417029380798}, {'label': 'NEGATIVE', 'score': 0.9969069361686707}, {'label': 'NEGATIVE', 'score': 0.9967240691184998}, {'label': 'NEGATIVE', 'score': 0.99836665391922}, {'label': 'NEGATIVE', 'score': 0.9926034808158875}, {'label': 'POSITIVE', 'score': 0.7902937531471252}, {'label': 'NEGATIVE', 'score': 0.8886967897415161}, {'label': 'NEGATIVE', 'score': 0.9621592164039612}, {'label': 'NEGATIVE', 'score': 0.9964854717254639}, {'label': 'NEGATIVE', 'score': 0.9993571639060974}, {'label': 'NEGATIVE', 'score': 0.7208906412124634}, {'label': 'NEGATIVE', 'score': 0.9614355564117432}, {'label': 'NEGATIVE', 'score': 0.9757630825042725}, {'label': 'NEGATIVE', 'score': 0.9919482469558716}, {'label': 'NEGATIVE', 'score': 0.9451054930686951}, {'label': 'NEGATIVE', 'score': 0.9982820749282837}, {'label': 'NEGATIVE', 'score': 0.9989411234855652}, {'label': 'NEGATIVE', 'score': 0.9906663298606873}, {'label': 'NEGATIVE', 'score': 0.9990419745445251}, {'label': 'POSITIVE', 'score': 0.9709017872810364}, {'label': 'NEGATIVE', 'score': 0.9304394721984863}, {'label': 'NEGATIVE', 'score': 0.9993188381195068}, {'label': 'NEGATIVE', 'score': 0.9992431402206421}, {'label': 'NEGATIVE', 'score': 0.9908530116081238}, {'label': 'NEGATIVE', 'score': 0.9890515208244324}, {'label': 'NEGATIVE', 'score': 0.9992337226867676}, {'label': 'NEGATIVE', 'score': 0.9982397556304932}, {'label': 'NEGATIVE', 'score': 0.9979690909385681}, {'label': 'NEGATIVE', 'score': 0.9997196793556213}, {'label': 'NEGATIVE', 'score': 0.9971925616264343}, {'label': 'NEGATIVE', 'score': 0.8150609135627747}, {'label': 'NEGATIVE', 'score': 0.9988160133361816}, {'label': 'NEGATIVE', 'score': 0.999527096748352}, {'label': 'NEGATIVE', 'score': 0.9595317244529724}, {'label': 'NEGATIVE', 'score': 0.9941830039024353}, {'label': 'NEGATIVE', 'score': 0.9710630774497986}, {'label': 'NEGATIVE', 'score': 0.9929288029670715}, {'label': 'NEGATIVE', 'score': 0.9938080906867981}, {'label': 'NEGATIVE', 'score': 0.9986306428909302}, {'label': 'NEGATIVE', 'score': 0.9996471405029297}, {'label': 'NEGATIVE', 'score': 0.9966885447502136}, {'label': 'POSITIVE', 'score': 0.5987300276756287}, {'label': 'NEGATIVE', 'score': 0.9969985485076904}, {'label': 'NEGATIVE', 'score': 0.9996080994606018}, {'label': 'NEGATIVE', 'score': 0.9958947896957397}, {'label': 'NEGATIVE', 'score': 0.9806087613105774}, {'label': 'NEGATIVE', 'score': 0.9432924389839172}, {'label': 'NEGATIVE', 'score': 0.9994908571243286}, {'label': 'NEGATIVE', 'score': 0.9991446733474731}, {'label': 'NEGATIVE', 'score': 0.9953027963638306}, {'label': 'NEGATIVE', 'score': 0.9993757605552673}, {'label': 'NEGATIVE', 'score': 0.9966468214988708}, {'label': 'NEGATIVE', 'score': 0.9626742601394653}, {'label': 'NEGATIVE', 'score': 0.9978212118148804}, {'label': 'NEGATIVE', 'score': 0.9973207116127014}, {'label': 'NEGATIVE', 'score': 0.7930922508239746}, {'label': 'NEGATIVE', 'score': 0.9966775178909302}, {'label': 'NEGATIVE', 'score': 0.9990610480308533}, {'label': 'NEGATIVE', 'score': 0.9987068176269531}, {'label': 'NEGATIVE', 'score': 0.9995513558387756}, {'label': 'NEGATIVE', 'score': 0.9364224672317505}, {'label': 'NEGATIVE', 'score': 0.9994082450866699}, {'label': 'NEGATIVE', 'score': 0.9927725195884705}, {'label': 'NEGATIVE', 'score': 0.9987627267837524}, {'label': 'NEGATIVE', 'score': 0.9996833801269531}, {'label': 'NEGATIVE', 'score': 0.9903002977371216}, {'label': 'POSITIVE', 'score': 0.6448286175727844}, {'label': 'NEGATIVE', 'score': 0.9990463852882385}, {'label': 'NEGATIVE', 'score': 0.994245707988739}, {'label': 'NEGATIVE', 'score': 0.9966875910758972}, {'label': 'NEGATIVE', 'score': 0.9987871050834656}, {'label': 'POSITIVE', 'score': 0.9365189075469971}, {'label': 'NEGATIVE', 'score': 0.9928748607635498}, {'label': 'NEGATIVE', 'score': 0.998713493347168}, {'label': 'NEGATIVE', 'score': 0.9991963505744934}, {'label': 'NEGATIVE', 'score': 0.999634861946106}, {'label': 'POSITIVE', 'score': 0.99048912525177}, {'label': 'POSITIVE', 'score': 0.9995719790458679}, {'label': 'POSITIVE', 'score': 0.9992082715034485}, {'label': 'NEGATIVE', 'score': 0.9856075048446655}, {'label': 'NEGATIVE', 'score': 0.9841424822807312}, {'label': 'POSITIVE', 'score': 0.9961943626403809}, {'label': 'POSITIVE', 'score': 0.9984670281410217}, {'label': 'POSITIVE', 'score': 0.9867798089981079}, {'label': 'POSITIVE', 'score': 0.9946762323379517}, {'label': 'NEGATIVE', 'score': 0.9854922890663147}, {'label': 'POSITIVE', 'score': 0.9995342493057251}, {'label': 'NEGATIVE', 'score': 0.9981135129928589}, {'label': 'NEGATIVE', 'score': 0.8913650512695312}, {'label': 'NEGATIVE', 'score': 0.9813603162765503}, {'label': 'NEGATIVE', 'score': 0.9642567038536072}, {'label': 'POSITIVE', 'score': 0.9183773994445801}, {'label': 'POSITIVE', 'score': 0.9970179796218872}, {'label': 'POSITIVE', 'score': 0.8919668793678284}, {'label': 'POSITIVE', 'score': 0.9994865655899048}, {'label': 'NEGATIVE', 'score': 0.9964653253555298}, {'label': 'POSITIVE', 'score': 0.9426506161689758}, {'label': 'POSITIVE', 'score': 0.9588251709938049}, {'label': 'NEGATIVE', 'score': 0.9688203930854797}, {'label': 'POSITIVE', 'score': 0.8858025074005127}, {'label': 'NEGATIVE', 'score': 0.9594971537590027}, {'label': 'POSITIVE', 'score': 0.9965677261352539}, {'label': 'NEGATIVE', 'score': 0.9792914986610413}, {'label': 'POSITIVE', 'score': 0.9895085096359253}, {'label': 'POSITIVE', 'score': 0.5254365801811218}, {'label': 'NEGATIVE', 'score': 0.9986705780029297}, {'label': 'POSITIVE', 'score': 0.9757866859436035}, {'label': 'NEGATIVE', 'score': 0.881438136100769}, {'label': 'NEGATIVE', 'score': 0.9721674919128418}, {'label': 'NEGATIVE', 'score': 0.9940478801727295}, {'label': 'POSITIVE', 'score': 0.9843884706497192}, {'label': 'POSITIVE', 'score': 0.9998692274093628}, {'label': 'NEGATIVE', 'score': 0.988962709903717}, {'label': 'NEGATIVE', 'score': 0.849511444568634}, {'label': 'NEGATIVE', 'score': 0.9751279950141907}, {'label': 'POSITIVE', 'score': 0.9982677698135376}, {'label': 'NEGATIVE', 'score': 0.9972215890884399}, {'label': 'POSITIVE', 'score': 0.9982492923736572}, {'label': 'POSITIVE', 'score': 0.9686184525489807}, {'label': 'NEGATIVE', 'score': 0.5366570949554443}, {'label': 'POSITIVE', 'score': 0.9650403261184692}, {'label': 'POSITIVE', 'score': 0.9983999133110046}, {'label': 'NEGATIVE', 'score': 0.9898987412452698}, {'label': 'NEGATIVE', 'score': 0.9903152585029602}, {'label': 'POSITIVE', 'score': 0.9973331689834595}, {'label': 'NEGATIVE', 'score': 0.9880205988883972}, {'label': 'POSITIVE', 'score': 0.9979009628295898}, {'label': 'NEGATIVE', 'score': 0.9992666840553284}, {'label': 'NEGATIVE', 'score': 0.9893739819526672}, {'label': 'NEGATIVE', 'score': 0.9968421459197998}, {'label': 'POSITIVE', 'score': 0.9967898726463318}, {'label': 'POSITIVE', 'score': 0.9922778606414795}, {'label': 'POSITIVE', 'score': 0.8800075054168701}, {'label': 'NEGATIVE', 'score': 0.887658953666687}, {'label': 'POSITIVE', 'score': 0.9912424087524414}, {'label': 'POSITIVE', 'score': 0.5519626140594482}, {'label': 'POSITIVE', 'score': 0.9765561819076538}, {'label': 'NEGATIVE', 'score': 0.9555079936981201}, {'label': 'NEGATIVE', 'score': 0.9948042035102844}, {'label': 'NEGATIVE', 'score': 0.9957205653190613}, {'label': 'POSITIVE', 'score': 0.7558222413063049}, {'label': 'NEGATIVE', 'score': 0.9993757605552673}, {'label': 'NEGATIVE', 'score': 0.9827926754951477}, {'label': 'NEGATIVE', 'score': 0.9809564352035522}, {'label': 'NEGATIVE', 'score': 0.9654712677001953}, {'label': 'NEGATIVE', 'score': 0.9982854723930359}, {'label': 'NEGATIVE', 'score': 0.9968428611755371}, {'label': 'NEGATIVE', 'score': 0.9918495416641235}, {'label': 'NEGATIVE', 'score': 0.9524281620979309}, {'label': 'NEGATIVE', 'score': 0.9726051092147827}, {'label': 'POSITIVE', 'score': 0.9182724356651306}, {'label': 'NEGATIVE', 'score': 0.9972484707832336}, {'label': 'POSITIVE', 'score': 0.9724400043487549}, {'label': 'POSITIVE', 'score': 0.9997331500053406}, {'label': 'NEGATIVE', 'score': 0.983345627784729}, {'label': 'NEGATIVE', 'score': 0.9901705384254456}, {'label': 'NEGATIVE', 'score': 0.9973893761634827}, {'label': 'NEGATIVE', 'score': 0.9401034712791443}, {'label': 'NEGATIVE', 'score': 0.9990060925483704}, {'label': 'NEGATIVE', 'score': 0.9964703321456909}, {'label': 'NEGATIVE', 'score': 0.9926556348800659}, {'label': 'NEGATIVE', 'score': 0.9970735311508179}, {'label': 'NEGATIVE', 'score': 0.9967065453529358}, {'label': 'POSITIVE', 'score': 0.9897446036338806}, {'label': 'NEGATIVE', 'score': 0.9992514252662659}, {'label': 'NEGATIVE', 'score': 0.9405434131622314}, {'label': 'POSITIVE', 'score': 0.9536411166191101}, {'label': 'NEGATIVE', 'score': 0.9959920048713684}, {'label': 'NEGATIVE', 'score': 0.944075882434845}, {'label': 'NEGATIVE', 'score': 0.9919409155845642}, {'label': 'POSITIVE', 'score': 0.9998236298561096}, {'label': 'NEGATIVE', 'score': 0.995831310749054}, {'label': 'NEGATIVE', 'score': 0.9866421222686768}, {'label': 'NEGATIVE', 'score': 0.9893366098403931}, {'label': 'NEGATIVE', 'score': 0.9759686589241028}, {'label': 'NEGATIVE', 'score': 0.9907070398330688}, {'label': 'NEGATIVE', 'score': 0.990572988986969}, {'label': 'NEGATIVE', 'score': 0.9485045075416565}, {'label': 'NEGATIVE', 'score': 0.991359531879425}, {'label': 'NEGATIVE', 'score': 0.9968583583831787}, {'label': 'NEGATIVE', 'score': 0.9988621473312378}, {'label': 'NEGATIVE', 'score': 0.9977291226387024}, {'label': 'POSITIVE', 'score': 0.966060996055603}, {'label': 'NEGATIVE', 'score': 0.9887009859085083}, {'label': 'NEGATIVE', 'score': 0.9966532588005066}, {'label': 'NEGATIVE', 'score': 0.9957007765769958}, {'label': 'NEGATIVE', 'score': 0.9984448552131653}, {'label': 'NEGATIVE', 'score': 0.9914257526397705}, {'label': 'NEGATIVE', 'score': 0.9973822236061096}, {'label': 'NEGATIVE', 'score': 0.9959283471107483}, {'label': 'NEGATIVE', 'score': 0.9994545578956604}, {'label': 'NEGATIVE', 'score': 0.9974357485771179}, {'label': 'NEGATIVE', 'score': 0.996451735496521}, {'label': 'NEGATIVE', 'score': 0.998865008354187}, {'label': 'NEGATIVE', 'score': 0.9871516227722168}, {'label': 'NEGATIVE', 'score': 0.9924444556236267}, {'label': 'NEGATIVE', 'score': 0.9918757677078247}, {'label': 'NEGATIVE', 'score': 0.9958139061927795}, {'label': 'NEGATIVE', 'score': 0.997523844242096}, {'label': 'NEGATIVE', 'score': 0.9981081485748291}, {'label': 'POSITIVE', 'score': 0.9983787536621094}, {'label': 'POSITIVE', 'score': 0.9991193413734436}, {'label': 'NEGATIVE', 'score': 0.9735413789749146}, {'label': 'NEGATIVE', 'score': 0.9542605876922607}, {'label': 'POSITIVE', 'score': 0.9939788579940796}, {'label': 'NEGATIVE', 'score': 0.9926910996437073}, {'label': 'POSITIVE', 'score': 0.9860183000564575}, {'label': 'POSITIVE', 'score': 0.9863870143890381}, {'label': 'POSITIVE', 'score': 0.6489294767379761}, {'label': 'NEGATIVE', 'score': 0.9977051615715027}, {'label': 'NEGATIVE', 'score': 0.8035531044006348}, {'label': 'POSITIVE', 'score': 0.9983875751495361}, {'label': 'NEGATIVE', 'score': 0.9982916712760925}, {'label': 'NEGATIVE', 'score': 0.9433234930038452}, {'label': 'NEGATIVE', 'score': 0.9624602198600769}, {'label': 'NEGATIVE', 'score': 0.9397509694099426}, {'label': 'NEGATIVE', 'score': 0.9962818026542664}, {'label': 'NEGATIVE', 'score': 0.9899729490280151}, {'label': 'NEGATIVE', 'score': 0.9977388381958008}, {'label': 'NEGATIVE', 'score': 0.9944620728492737}, {'label': 'NEGATIVE', 'score': 0.987008273601532}, {'label': 'POSITIVE', 'score': 0.9469413757324219}, {'label': 'NEGATIVE', 'score': 0.9985563158988953}, {'label': 'POSITIVE', 'score': 0.9992558360099792}, {'label': 'NEGATIVE', 'score': 0.9688858389854431}, {'label': 'POSITIVE', 'score': 0.9981849789619446}, {'label': 'POSITIVE', 'score': 0.9968876242637634}, {'label': 'POSITIVE', 'score': 0.9843569397926331}, {'label': 'POSITIVE', 'score': 0.9946797490119934}, {'label': 'NEGATIVE', 'score': 0.9715555906295776}, {'label': 'NEGATIVE', 'score': 0.9944233298301697}, {'label': 'POSITIVE', 'score': 0.8885785341262817}, {'label': 'NEGATIVE', 'score': 0.999658465385437}, {'label': 'NEGATIVE', 'score': 0.9993398785591125}, {'label': 'NEGATIVE', 'score': 0.996727466583252}, {'label': 'NEGATIVE', 'score': 0.9632352590560913}, {'label': 'POSITIVE', 'score': 0.9955220222473145}, {'label': 'NEGATIVE', 'score': 0.9900880455970764}, {'label': 'NEGATIVE', 'score': 0.9853925108909607}, {'label': 'NEGATIVE', 'score': 0.8458788990974426}, {'label': 'NEGATIVE', 'score': 0.9887396097183228}, {'label': 'POSITIVE', 'score': 0.6208043098449707}, {'label': 'POSITIVE', 'score': 0.9788122773170471}, {'label': 'POSITIVE', 'score': 0.9654131531715393}, {'label': 'POSITIVE', 'score': 0.9997758269309998}, {'label': 'POSITIVE', 'score': 0.9994199275970459}, {'label': 'NEGATIVE', 'score': 0.9905547499656677}, {'label': 'NEGATIVE', 'score': 0.9670945405960083}, {'label': 'NEGATIVE', 'score': 0.9933805465698242}, {'label': 'POSITIVE', 'score': 0.6120727062225342}, {'label': 'NEGATIVE', 'score': 0.9228616952896118}, {'label': 'NEGATIVE', 'score': 0.9798794388771057}, {'label': 'POSITIVE', 'score': 0.7314481139183044}, {'label': 'NEGATIVE', 'score': 0.9831724166870117}, {'label': 'NEGATIVE', 'score': 0.9911144971847534}, {'label': 'NEGATIVE', 'score': 0.9996243715286255}, {'label': 'POSITIVE', 'score': 0.9928597807884216}, {'label': 'POSITIVE', 'score': 0.9935688972473145}, {'label': 'NEGATIVE', 'score': 0.9146770238876343}, {'label': 'POSITIVE', 'score': 0.9997273087501526}, {'label': 'NEGATIVE', 'score': 0.9984269142150879}, {'label': 'NEGATIVE', 'score': 0.9985001087188721}, {'label': 'POSITIVE', 'score': 0.9240617752075195}, {'label': 'POSITIVE', 'score': 0.9972418546676636}, {'label': 'NEGATIVE', 'score': 0.9686148166656494}, {'label': 'NEGATIVE', 'score': 0.5475175380706787}, {'label': 'POSITIVE', 'score': 0.5614474415779114}, {'label': 'NEGATIVE', 'score': 0.996871292591095}, {'label': 'NEGATIVE', 'score': 0.9977902173995972}, {'label': 'NEGATIVE', 'score': 0.969512939453125}, {'label': 'NEGATIVE', 'score': 0.994985818862915}, {'label': 'POSITIVE', 'score': 0.8736844658851624}, {'label': 'POSITIVE', 'score': 0.8063608407974243}, {'label': 'NEGATIVE', 'score': 0.9591162204742432}, {'label': 'POSITIVE', 'score': 0.9954133629798889}, {'label': 'POSITIVE', 'score': 0.998840868473053}, {'label': 'POSITIVE', 'score': 0.8098217844963074}, {'label': 'POSITIVE', 'score': 0.9980270266532898}, {'label': 'POSITIVE', 'score': 0.9841448068618774}, {'label': 'POSITIVE', 'score': 0.6315653324127197}, {'label': 'POSITIVE', 'score': 0.9983069896697998}, {'label': 'NEGATIVE', 'score': 0.773082971572876}, {'label': 'NEGATIVE', 'score': 0.9952781200408936}, {'label': 'POSITIVE', 'score': 0.831031322479248}, {'label': 'NEGATIVE', 'score': 0.9976256489753723}, {'label': 'NEGATIVE', 'score': 0.9735891819000244}, {'label': 'NEGATIVE', 'score': 0.9996696710586548}, {'label': 'NEGATIVE', 'score': 0.9488731622695923}, {'label': 'NEGATIVE', 'score': 0.9613490700721741}, {'label': 'NEGATIVE', 'score': 0.996813952922821}, {'label': 'NEGATIVE', 'score': 0.9987881779670715}, {'label': 'POSITIVE', 'score': 0.9478307366371155}, {'label': 'NEGATIVE', 'score': 0.9540591239929199}, {'label': 'NEGATIVE', 'score': 0.9539819955825806}, {'label': 'NEGATIVE', 'score': 0.9943289160728455}, {'label': 'POSITIVE', 'score': 0.998528242111206}, {'label': 'POSITIVE', 'score': 0.9996795654296875}, {'label': 'NEGATIVE', 'score': 0.9941065311431885}, {'label': 'NEGATIVE', 'score': 0.9990530610084534}, {'label': 'NEGATIVE', 'score': 0.9784635901451111}, {'label': 'NEGATIVE', 'score': 0.6654281616210938}, {'label': 'NEGATIVE', 'score': 0.992737352848053}, {'label': 'POSITIVE', 'score': 0.9942960143089294}, {'label': 'NEGATIVE', 'score': 0.9893649816513062}, {'label': 'POSITIVE', 'score': 0.9249714016914368}, {'label': 'POSITIVE', 'score': 0.9992874264717102}, {'label': 'POSITIVE', 'score': 0.9992085099220276}, {'label': 'NEGATIVE', 'score': 0.9977037310600281}, {'label': 'NEGATIVE', 'score': 0.9861457943916321}, {'label': 'NEGATIVE', 'score': 0.9893001317977905}, {'label': 'NEGATIVE', 'score': 0.988631546497345}, {'label': 'NEGATIVE', 'score': 0.8638848662376404}, {'label': 'NEGATIVE', 'score': 0.9952501058578491}, {'label': 'NEGATIVE', 'score': 0.9645329713821411}, {'label': 'NEGATIVE', 'score': 0.9751244783401489}, {'label': 'NEGATIVE', 'score': 0.9782257676124573}, {'label': 'NEGATIVE', 'score': 0.8571651577949524}, {'label': 'POSITIVE', 'score': 0.9987640380859375}, {'label': 'NEGATIVE', 'score': 0.7750403881072998}, {'label': 'POSITIVE', 'score': 0.998033344745636}, {'label': 'POSITIVE', 'score': 0.9845263957977295}, {'label': 'POSITIVE', 'score': 0.9418646097183228}, {'label': 'POSITIVE', 'score': 0.9988371729850769}, {'label': 'NEGATIVE', 'score': 0.9983433485031128}, {'label': 'POSITIVE', 'score': 0.9810323119163513}, {'label': 'NEGATIVE', 'score': 0.9782479405403137}, {'label': 'NEGATIVE', 'score': 0.9984914064407349}, {'label': 'POSITIVE', 'score': 0.9934677481651306}, {'label': 'NEGATIVE', 'score': 0.9834970235824585}, {'label': 'NEGATIVE', 'score': 0.9962316155433655}, {'label': 'NEGATIVE', 'score': 0.9991745352745056}, {'label': 'NEGATIVE', 'score': 0.9908989667892456}, {'label': 'NEGATIVE', 'score': 0.6678163409233093}, {'label': 'NEGATIVE', 'score': 0.9886771440505981}, {'label': 'NEGATIVE', 'score': 0.9983229041099548}, {'label': 'NEGATIVE', 'score': 0.9873544573783875}, {'label': 'NEGATIVE', 'score': 0.996791660785675}, {'label': 'NEGATIVE', 'score': 0.984061062335968}, {'label': 'NEGATIVE', 'score': 0.9956603646278381}, {'label': 'POSITIVE', 'score': 0.9955202341079712}, {'label': 'NEGATIVE', 'score': 0.9754322171211243}, {'label': 'NEGATIVE', 'score': 0.9882672429084778}, {'label': 'NEGATIVE', 'score': 0.9818122982978821}, {'label': 'NEGATIVE', 'score': 0.9971152544021606}, {'label': 'NEGATIVE', 'score': 0.9979396462440491}, {'label': 'NEGATIVE', 'score': 0.9902228116989136}, {'label': 'NEGATIVE', 'score': 0.9458582997322083}, {'label': 'NEGATIVE', 'score': 0.7102758288383484}, {'label': 'NEGATIVE', 'score': 0.9523951411247253}, {'label': 'NEGATIVE', 'score': 0.9995563626289368}, {'label': 'NEGATIVE', 'score': 0.9967457056045532}, {'label': 'NEGATIVE', 'score': 0.9922130703926086}, {'label': 'POSITIVE', 'score': 0.8943593502044678}, {'label': 'NEGATIVE', 'score': 0.980868935585022}, {'label': 'NEGATIVE', 'score': 0.9960719347000122}, {'label': 'NEGATIVE', 'score': 0.9989000558853149}, {'label': 'NEGATIVE', 'score': 0.6963575482368469}, {'label': 'NEGATIVE', 'score': 0.9992557168006897}, {'label': 'POSITIVE', 'score': 0.9993067979812622}, {'label': 'POSITIVE', 'score': 0.952079176902771}, {'label': 'NEGATIVE', 'score': 0.9608637690544128}, {'label': 'NEGATIVE', 'score': 0.9909077882766724}, {'label': 'NEGATIVE', 'score': 0.979411780834198}, {'label': 'POSITIVE', 'score': 0.9997624754905701}, {'label': 'NEGATIVE', 'score': 0.9961398243904114}, {'label': 'NEGATIVE', 'score': 0.9824800491333008}, {'label': 'NEGATIVE', 'score': 0.5145875811576843}, {'label': 'POSITIVE', 'score': 0.96248859167099}, {'label': 'NEGATIVE', 'score': 0.8230507373809814}, {'label': 'NEGATIVE', 'score': 0.9805306196212769}, {'label': 'POSITIVE', 'score': 0.998621940612793}, {'label': 'NEGATIVE', 'score': 0.9578376412391663}, {'label': 'NEGATIVE', 'score': 0.9983749389648438}, {'label': 'POSITIVE', 'score': 0.9969630837440491}, {'label': 'NEGATIVE', 'score': 0.9969292283058167}, {'label': 'NEGATIVE', 'score': 0.9947746396064758}, {'label': 'POSITIVE', 'score': 0.918376088142395}, {'label': 'NEGATIVE', 'score': 0.5219221115112305}, {'label': 'POSITIVE', 'score': 0.850718080997467}, {'label': 'NEGATIVE', 'score': 0.9889868497848511}, {'label': 'POSITIVE', 'score': 0.8504069447517395}, {'label': 'NEGATIVE', 'score': 0.9765769839286804}, {'label': 'NEGATIVE', 'score': 0.9410886168479919}, {'label': 'NEGATIVE', 'score': 0.9981175661087036}, {'label': 'POSITIVE', 'score': 0.9950821399688721}, {'label': 'NEGATIVE', 'score': 0.9993897676467896}, {'label': 'NEGATIVE', 'score': 0.9859210848808289}, {'label': 'POSITIVE', 'score': 0.9670983552932739}, {'label': 'POSITIVE', 'score': 0.683417797088623}, {'label': 'NEGATIVE', 'score': 0.9795021414756775}, {'label': 'NEGATIVE', 'score': 0.9375268816947937}, {'label': 'NEGATIVE', 'score': 0.9273553490638733}, {'label': 'NEGATIVE', 'score': 0.9995473027229309}, {'label': 'NEGATIVE', 'score': 0.8283689022064209}, {'label': 'NEGATIVE', 'score': 0.9981144666671753}, {'label': 'NEGATIVE', 'score': 0.9907575249671936}, {'label': 'NEGATIVE', 'score': 0.9929342269897461}, {'label': 'POSITIVE', 'score': 0.9732649922370911}, {'label': 'NEGATIVE', 'score': 0.9962309002876282}, {'label': 'POSITIVE', 'score': 0.8655418157577515}, {'label': 'NEGATIVE', 'score': 0.9983503818511963}, {'label': 'NEGATIVE', 'score': 0.9976280331611633}, {'label': 'NEGATIVE', 'score': 0.9983896017074585}, {'label': 'NEGATIVE', 'score': 0.9984713196754456}, {'label': 'POSITIVE', 'score': 0.9891952276229858}, {'label': 'NEGATIVE', 'score': 0.9941210150718689}, {'label': 'NEGATIVE', 'score': 0.9977274537086487}, {'label': 'NEGATIVE', 'score': 0.918897807598114}, {'label': 'POSITIVE', 'score': 0.9980870485305786}, {'label': 'NEGATIVE', 'score': 0.988420844078064}, {'label': 'POSITIVE', 'score': 0.9928264617919922}, {'label': 'NEGATIVE', 'score': 0.9950863718986511}, {'label': 'NEGATIVE', 'score': 0.9707949161529541}, {'label': 'NEGATIVE', 'score': 0.9958729147911072}, {'label': 'NEGATIVE', 'score': 0.9846599698066711}, {'label': 'POSITIVE', 'score': 0.9146216511726379}, {'label': 'NEGATIVE', 'score': 0.9882809519767761}, {'label': 'NEGATIVE', 'score': 0.9989494681358337}, {'label': 'POSITIVE', 'score': 0.9947476983070374}, {'label': 'POSITIVE', 'score': 0.9987988471984863}, {'label': 'NEGATIVE', 'score': 0.9882547855377197}, {'label': 'POSITIVE', 'score': 0.8580314517021179}, {'label': 'NEGATIVE', 'score': 0.9894160628318787}, {'label': 'NEGATIVE', 'score': 0.9809067845344543}, {'label': 'NEGATIVE', 'score': 0.8343631625175476}, {'label': 'NEGATIVE', 'score': 0.8283489942550659}, {'label': 'NEGATIVE', 'score': 0.9262975454330444}, {'label': 'NEGATIVE', 'score': 0.7178457975387573}, {'label': 'NEGATIVE', 'score': 0.9967541098594666}, {'label': 'NEGATIVE', 'score': 0.9936821460723877}, {'label': 'POSITIVE', 'score': 0.5732706785202026}, {'label': 'NEGATIVE', 'score': 0.9783210754394531}, {'label': 'POSITIVE', 'score': 0.9987009763717651}, {'label': 'POSITIVE', 'score': 0.9900395274162292}, {'label': 'NEGATIVE', 'score': 0.9920801520347595}, {'label': 'NEGATIVE', 'score': 0.9996726512908936}, {'label': 'NEGATIVE', 'score': 0.9973723888397217}, {'label': 'NEGATIVE', 'score': 0.9992425441741943}, {'label': 'POSITIVE', 'score': 0.8345474600791931}, {'label': 'NEGATIVE', 'score': 0.5509042739868164}, {'label': 'NEGATIVE', 'score': 0.9630721807479858}, {'label': 'POSITIVE', 'score': 0.9968917965888977}, {'label': 'NEGATIVE', 'score': 0.999231219291687}, {'label': 'NEGATIVE', 'score': 0.9902455806732178}, {'label': 'NEGATIVE', 'score': 0.9991445541381836}, {'label': 'POSITIVE', 'score': 0.980941653251648}, {'label': 'POSITIVE', 'score': 0.8763136863708496}, {'label': 'NEGATIVE', 'score': 0.9993239641189575}, {'label': 'NEGATIVE', 'score': 0.8742458820343018}, {'label': 'NEGATIVE', 'score': 0.9992623925209045}, {'label': 'POSITIVE', 'score': 0.9987204074859619}, {'label': 'NEGATIVE', 'score': 0.9961785078048706}, {'label': 'POSITIVE', 'score': 0.9771117568016052}, {'label': 'NEGATIVE', 'score': 0.9674144983291626}, {'label': 'POSITIVE', 'score': 0.9981898665428162}, {'label': 'NEGATIVE', 'score': 0.9944948554039001}, {'label': 'NEGATIVE', 'score': 0.9771290421485901}, {'label': 'NEGATIVE', 'score': 0.9812062382698059}, {'label': 'NEGATIVE', 'score': 0.9735785722732544}, {'label': 'NEGATIVE', 'score': 0.9904490113258362}, {'label': 'POSITIVE', 'score': 0.9653012752532959}, {'label': 'POSITIVE', 'score': 0.9653078317642212}, {'label': 'NEGATIVE', 'score': 0.9931221604347229}, {'label': 'NEGATIVE', 'score': 0.8624767065048218}, {'label': 'NEGATIVE', 'score': 0.9968685507774353}, {'label': 'NEGATIVE', 'score': 0.9988376498222351}, {'label': 'NEGATIVE', 'score': 0.9846935272216797}, {'label': 'NEGATIVE', 'score': 0.9737612009048462}, {'label': 'NEGATIVE', 'score': 0.992339015007019}, {'label': 'NEGATIVE', 'score': 0.9829686284065247}, {'label': 'NEGATIVE', 'score': 0.995326042175293}, {'label': 'NEGATIVE', 'score': 0.993645191192627}, {'label': 'POSITIVE', 'score': 0.9956685304641724}, {'label': 'POSITIVE', 'score': 0.9391858577728271}, {'label': 'POSITIVE', 'score': 0.9876506924629211}, {'label': 'POSITIVE', 'score': 0.9802599549293518}, {'label': 'POSITIVE', 'score': 0.9375773072242737}, {'label': 'POSITIVE', 'score': 0.8876729607582092}, {'label': 'POSITIVE', 'score': 0.9281560778617859}, {'label': 'POSITIVE', 'score': 0.8692354559898376}, {'label': 'POSITIVE', 'score': 0.9794649481773376}, {'label': 'POSITIVE', 'score': 0.972375750541687}, {'label': 'NEGATIVE', 'score': 0.6132063865661621}, {'label': 'POSITIVE', 'score': 0.9658308625221252}, {'label': 'POSITIVE', 'score': 0.9992609620094299}, {'label': 'POSITIVE', 'score': 0.8994919657707214}, {'label': 'POSITIVE', 'score': 0.957300066947937}, {'label': 'NEGATIVE', 'score': 0.9991532564163208}, {'label': 'NEGATIVE', 'score': 0.9917975664138794}, {'label': 'NEGATIVE', 'score': 0.9590745568275452}, {'label': 'NEGATIVE', 'score': 0.9627201557159424}, {'label': 'NEGATIVE', 'score': 0.9603191614151001}, {'label': 'NEGATIVE', 'score': 0.6901904344558716}, {'label': 'NEGATIVE', 'score': 0.9991506338119507}, {'label': 'NEGATIVE', 'score': 0.9973053932189941}, {'label': 'NEGATIVE', 'score': 0.9938892126083374}, {'label': 'NEGATIVE', 'score': 0.9614058136940002}, {'label': 'NEGATIVE', 'score': 0.9941946864128113}, {'label': 'NEGATIVE', 'score': 0.9919981360435486}, {'label': 'POSITIVE', 'score': 0.9994933605194092}, {'label': 'NEGATIVE', 'score': 0.9733588695526123}, {'label': 'NEGATIVE', 'score': 0.9944735169410706}, {'label': 'NEGATIVE', 'score': 0.8446753621101379}, {'label': 'POSITIVE', 'score': 0.9997180104255676}, {'label': 'POSITIVE', 'score': 0.996634304523468}, {'label': 'NEGATIVE', 'score': 0.9947978258132935}, {'label': 'NEGATIVE', 'score': 0.974155843257904}, {'label': 'NEGATIVE', 'score': 0.9900137186050415}, {'label': 'POSITIVE', 'score': 0.9771677851676941}, {'label': 'POSITIVE', 'score': 0.9838911890983582}, {'label': 'POSITIVE', 'score': 0.9973192811012268}, {'label': 'POSITIVE', 'score': 0.914476752281189}, {'label': 'NEGATIVE', 'score': 0.9652280807495117}, {'label': 'NEGATIVE', 'score': 0.9781126379966736}, {'label': 'NEGATIVE', 'score': 0.9910709857940674}, {'label': 'NEGATIVE', 'score': 0.996678352355957}, {'label': 'NEGATIVE', 'score': 0.9914332628250122}, {'label': 'NEGATIVE', 'score': 0.9961962699890137}, {'label': 'NEGATIVE', 'score': 0.9943684935569763}, {'label': 'NEGATIVE', 'score': 0.9991958737373352}, {'label': 'NEGATIVE', 'score': 0.9914100766181946}, {'label': 'NEGATIVE', 'score': 0.994665265083313}, {'label': 'NEGATIVE', 'score': 0.994259238243103}, {'label': 'NEGATIVE', 'score': 0.9336346983909607}, {'label': 'NEGATIVE', 'score': 0.9978482723236084}, {'label': 'NEGATIVE', 'score': 0.9979058504104614}, {'label': 'NEGATIVE', 'score': 0.9994519352912903}, {'label': 'NEGATIVE', 'score': 0.9993659853935242}, {'label': 'NEGATIVE', 'score': 0.9964978098869324}, {'label': 'NEGATIVE', 'score': 0.9913585186004639}, {'label': 'POSITIVE', 'score': 0.9923174381256104}, {'label': 'POSITIVE', 'score': 0.9659442901611328}, {'label': 'NEGATIVE', 'score': 0.6582509279251099}, {'label': 'NEGATIVE', 'score': 0.9768553972244263}, {'label': 'POSITIVE', 'score': 0.9997361302375793}, {'label': 'NEGATIVE', 'score': 0.9926934242248535}, {'label': 'NEGATIVE', 'score': 0.9997856020927429}, {'label': 'NEGATIVE', 'score': 0.5205662846565247}, {'label': 'POSITIVE', 'score': 0.5070522427558899}, {'label': 'POSITIVE', 'score': 0.5276039838790894}, {'label': 'NEGATIVE', 'score': 0.9677859544754028}, {'label': 'NEGATIVE', 'score': 0.9995805621147156}, {'label': 'NEGATIVE', 'score': 0.9939602613449097}, {'label': 'NEGATIVE', 'score': 0.9941055774688721}, {'label': 'NEGATIVE', 'score': 0.9996755123138428}, {'label': 'NEGATIVE', 'score': 0.9926980137825012}, {'label': 'POSITIVE', 'score': 0.9616057276725769}, {'label': 'NEGATIVE', 'score': 0.9971838593482971}, {'label': 'NEGATIVE', 'score': 0.9801572561264038}, {'label': 'NEGATIVE', 'score': 0.9908627271652222}, {'label': 'POSITIVE', 'score': 0.975937008857727}, {'label': 'NEGATIVE', 'score': 0.9842795133590698}, {'label': 'NEGATIVE', 'score': 0.9901478886604309}, {'label': 'NEGATIVE', 'score': 0.9916765689849854}, {'label': 'POSITIVE', 'score': 0.9698581695556641}, {'label': 'NEGATIVE', 'score': 0.8290690183639526}, {'label': 'NEGATIVE', 'score': 0.9914267063140869}, {'label': 'POSITIVE', 'score': 0.9476792216300964}, {'label': 'NEGATIVE', 'score': 0.9928529858589172}, {'label': 'NEGATIVE', 'score': 0.9960768818855286}, {'label': 'NEGATIVE', 'score': 0.9983111619949341}, {'label': 'NEGATIVE', 'score': 0.9838395714759827}, {'label': 'POSITIVE', 'score': 0.8805059790611267}, {'label': 'POSITIVE', 'score': 0.9355815052986145}, {'label': 'NEGATIVE', 'score': 0.9787524342536926}, {'label': 'POSITIVE', 'score': 0.9988692402839661}, {'label': 'NEGATIVE', 'score': 0.9796931743621826}, {'label': 'NEGATIVE', 'score': 0.981990396976471}, {'label': 'NEGATIVE', 'score': 0.9916641712188721}, {'label': 'NEGATIVE', 'score': 0.9527266025543213}, {'label': 'NEGATIVE', 'score': 0.9967435598373413}, {'label': 'NEGATIVE', 'score': 0.9966797828674316}, {'label': 'POSITIVE', 'score': 0.9465606808662415}, {'label': 'NEGATIVE', 'score': 0.9825754165649414}, {'label': 'NEGATIVE', 'score': 0.9995586276054382}, {'label': 'NEGATIVE', 'score': 0.9970456957817078}, {'label': 'POSITIVE', 'score': 0.9914166331291199}, {'label': 'NEGATIVE', 'score': 0.8738594055175781}, {'label': 'POSITIVE', 'score': 0.9810324311256409}, {'label': 'NEGATIVE', 'score': 0.995968222618103}, {'label': 'POSITIVE', 'score': 0.6246243119239807}, {'label': 'NEGATIVE', 'score': 0.990439772605896}, {'label': 'NEGATIVE', 'score': 0.9851834177970886}, {'label': 'NEGATIVE', 'score': 0.8875259757041931}, {'label': 'POSITIVE', 'score': 0.6175376772880554}, {'label': 'NEGATIVE', 'score': 0.9700202345848083}, {'label': 'NEGATIVE', 'score': 0.9863700866699219}, {'label': 'NEGATIVE', 'score': 0.9901556968688965}, {'label': 'NEGATIVE', 'score': 0.9976468682289124}, {'label': 'POSITIVE', 'score': 0.9985632300376892}, {'label': 'NEGATIVE', 'score': 0.9915247559547424}, {'label': 'NEGATIVE', 'score': 0.9671228528022766}, {'label': 'NEGATIVE', 'score': 0.9992170333862305}, {'label': 'NEGATIVE', 'score': 0.9953619837760925}, {'label': 'NEGATIVE', 'score': 0.999686598777771}, {'label': 'NEGATIVE', 'score': 0.999687910079956}, {'label': 'NEGATIVE', 'score': 0.9935970306396484}, {'label': 'POSITIVE', 'score': 0.997859537601471}, {'label': 'POSITIVE', 'score': 0.9978623986244202}, {'label': 'NEGATIVE', 'score': 0.9932056665420532}, {'label': 'NEGATIVE', 'score': 0.997276246547699}, {'label': 'NEGATIVE', 'score': 0.9984903335571289}, {'label': 'NEGATIVE', 'score': 0.9915879368782043}, {'label': 'NEGATIVE', 'score': 0.9847325682640076}, {'label': 'POSITIVE', 'score': 0.9933517575263977}, {'label': 'NEGATIVE', 'score': 0.996051013469696}, {'label': 'NEGATIVE', 'score': 0.9995773434638977}, {'label': 'NEGATIVE', 'score': 0.9958808422088623}, {'label': 'NEGATIVE', 'score': 0.9982925057411194}, {'label': 'NEGATIVE', 'score': 0.6659313440322876}, {'label': 'POSITIVE', 'score': 0.9671978950500488}, {'label': 'POSITIVE', 'score': 0.9977050423622131}, {'label': 'NEGATIVE', 'score': 0.9976970553398132}, {'label': 'NEGATIVE', 'score': 0.9967357516288757}, {'label': 'NEGATIVE', 'score': 0.9877682328224182}, {'label': 'POSITIVE', 'score': 0.9836523532867432}, {'label': 'POSITIVE', 'score': 0.8914539217948914}, {'label': 'NEGATIVE', 'score': 0.9976003766059875}, {'label': 'POSITIVE', 'score': 0.9876917004585266}, {'label': 'NEGATIVE', 'score': 0.995410144329071}, {'label': 'NEGATIVE', 'score': 0.8068040013313293}, {'label': 'NEGATIVE', 'score': 0.9949799180030823}, {'label': 'NEGATIVE', 'score': 0.9743744730949402}, {'label': 'NEGATIVE', 'score': 0.8020427227020264}, {'label': 'NEGATIVE', 'score': 0.9926208257675171}, {'label': 'NEGATIVE', 'score': 0.9822683334350586}, {'label': 'NEGATIVE', 'score': 0.9546613097190857}, {'label': 'POSITIVE', 'score': 0.9958450198173523}, {'label': 'POSITIVE', 'score': 0.9827120304107666}, {'label': 'NEGATIVE', 'score': 0.9984747767448425}, {'label': 'NEGATIVE', 'score': 0.9944146871566772}, {'label': 'NEGATIVE', 'score': 0.999285876750946}, {'label': 'NEGATIVE', 'score': 0.9965921640396118}, {'label': 'NEGATIVE', 'score': 0.9874175786972046}, {'label': 'POSITIVE', 'score': 0.9995823502540588}, {'label': 'POSITIVE', 'score': 0.9967350363731384}, {'label': 'NEGATIVE', 'score': 0.9207754731178284}, {'label': 'POSITIVE', 'score': 0.8908567428588867}, {'label': 'NEGATIVE', 'score': 0.9964673519134521}, {'label': 'POSITIVE', 'score': 0.9951974749565125}, {'label': 'NEGATIVE', 'score': 0.9456119537353516}, {'label': 'NEGATIVE', 'score': 0.9946455955505371}, {'label': 'NEGATIVE', 'score': 0.9963865280151367}, {'label': 'NEGATIVE', 'score': 0.9996596574783325}, {'label': 'NEGATIVE', 'score': 0.9983664155006409}, {'label': 'NEGATIVE', 'score': 0.9904875159263611}, {'label': 'NEGATIVE', 'score': 0.9149746894836426}, {'label': 'NEGATIVE', 'score': 0.9937020540237427}, {'label': 'POSITIVE', 'score': 0.9465136528015137}, {'label': 'NEGATIVE', 'score': 0.9995405673980713}, {'label': 'NEGATIVE', 'score': 0.9981973767280579}, {'label': 'NEGATIVE', 'score': 0.93409264087677}, {'label': 'NEGATIVE', 'score': 0.9997918009757996}, {'label': 'NEGATIVE', 'score': 0.9863064289093018}, {'label': 'NEGATIVE', 'score': 0.9874722957611084}, {'label': 'NEGATIVE', 'score': 0.9968562126159668}, {'label': 'NEGATIVE', 'score': 0.9715762734413147}, {'label': 'NEGATIVE', 'score': 0.9994889497756958}, {'label': 'NEGATIVE', 'score': 0.9990068078041077}, {'label': 'NEGATIVE', 'score': 0.994739830493927}, {'label': 'NEGATIVE', 'score': 0.9985095858573914}, {'label': 'NEGATIVE', 'score': 0.9985828399658203}, {'label': 'NEGATIVE', 'score': 0.9704017639160156}, {'label': 'NEGATIVE', 'score': 0.9977431297302246}, {'label': 'NEGATIVE', 'score': 0.984454870223999}, {'label': 'NEGATIVE', 'score': 0.9579569697380066}, {'label': 'POSITIVE', 'score': 0.9085285067558289}, {'label': 'NEGATIVE', 'score': 0.9953489899635315}, {'label': 'NEGATIVE', 'score': 0.995997428894043}, {'label': 'POSITIVE', 'score': 0.9974108338356018}, {'label': 'NEGATIVE', 'score': 0.9994860887527466}, {'label': 'NEGATIVE', 'score': 0.9213099479675293}, {'label': 'NEGATIVE', 'score': 0.8518376350402832}, {'label': 'POSITIVE', 'score': 0.9718402028083801}, {'label': 'POSITIVE', 'score': 0.7790468335151672}, {'label': 'NEGATIVE', 'score': 0.6264256238937378}, {'label': 'NEGATIVE', 'score': 0.993095338344574}, {'label': 'NEGATIVE', 'score': 0.9554542303085327}, {'label': 'NEGATIVE', 'score': 0.9995336532592773}, {'label': 'NEGATIVE', 'score': 0.9614297151565552}, {'label': 'NEGATIVE', 'score': 0.9874476790428162}, {'label': 'NEGATIVE', 'score': 0.9927188158035278}, {'label': 'NEGATIVE', 'score': 0.9981895089149475}, {'label': 'POSITIVE', 'score': 0.607677698135376}, {'label': 'NEGATIVE', 'score': 0.9975878000259399}, {'label': 'POSITIVE', 'score': 0.9779146909713745}, {'label': 'POSITIVE', 'score': 0.9956666231155396}, {'label': 'POSITIVE', 'score': 0.9482284188270569}, {'label': 'POSITIVE', 'score': 0.9968484044075012}, {'label': 'NEGATIVE', 'score': 0.9853799939155579}, {'label': 'POSITIVE', 'score': 0.8105058073997498}, {'label': 'POSITIVE', 'score': 0.9869231581687927}, {'label': 'NEGATIVE', 'score': 0.9991907477378845}, {'label': 'NEGATIVE', 'score': 0.9190477132797241}, {'label': 'NEGATIVE', 'score': 0.9531415104866028}, {'label': 'NEGATIVE', 'score': 0.9444947838783264}, {'label': 'NEGATIVE', 'score': 0.9893549680709839}, {'label': 'NEGATIVE', 'score': 0.9899020195007324}, {'label': 'NEGATIVE', 'score': 0.9720192551612854}, {'label': 'NEGATIVE', 'score': 0.9872083067893982}, {'label': 'POSITIVE', 'score': 0.9975086450576782}, {'label': 'NEGATIVE', 'score': 0.9970890879631042}, {'label': 'POSITIVE', 'score': 0.5309022068977356}, {'label': 'NEGATIVE', 'score': 0.8519431352615356}, {'label': 'NEGATIVE', 'score': 0.9948474168777466}, {'label': 'NEGATIVE', 'score': 0.9715248346328735}, {'label': 'POSITIVE', 'score': 0.9846248626708984}, {'label': 'POSITIVE', 'score': 0.8621675968170166}, {'label': 'NEGATIVE', 'score': 0.9982926249504089}, {'label': 'NEGATIVE', 'score': 0.9989675283432007}, {'label': 'POSITIVE', 'score': 0.6423680782318115}, {'label': 'NEGATIVE', 'score': 0.9758217930793762}, {'label': 'NEGATIVE', 'score': 0.9982364177703857}, {'label': 'NEGATIVE', 'score': 0.9811796545982361}, {'label': 'NEGATIVE', 'score': 0.993009090423584}, {'label': 'NEGATIVE', 'score': 0.9879561066627502}, {'label': 'NEGATIVE', 'score': 0.9936676621437073}, {'label': 'NEGATIVE', 'score': 0.9892356991767883}, {'label': 'NEGATIVE', 'score': 0.9761365652084351}, {'label': 'NEGATIVE', 'score': 0.5856250524520874}, {'label': 'NEGATIVE', 'score': 0.9898207187652588}, {'label': 'NEGATIVE', 'score': 0.892007052898407}, {'label': 'POSITIVE', 'score': 0.9360804557800293}, {'label': 'NEGATIVE', 'score': 0.9941124320030212}, {'label': 'NEGATIVE', 'score': 0.9493299722671509}, {'label': 'NEGATIVE', 'score': 0.9994388222694397}, {'label': 'POSITIVE', 'score': 0.9874752163887024}, {'label': 'NEGATIVE', 'score': 0.994013249874115}, {'label': 'NEGATIVE', 'score': 0.530437171459198}, {'label': 'NEGATIVE', 'score': 0.961311936378479}, {'label': 'NEGATIVE', 'score': 0.9951245188713074}, {'label': 'NEGATIVE', 'score': 0.9595290422439575}, {'label': 'NEGATIVE', 'score': 0.998823344707489}, {'label': 'NEGATIVE', 'score': 0.6797809600830078}, {'label': 'POSITIVE', 'score': 0.859417200088501}, {'label': 'NEGATIVE', 'score': 0.9992002844810486}, {'label': 'NEGATIVE', 'score': 0.9774213433265686}, {'label': 'NEGATIVE', 'score': 0.9706043004989624}, {'label': 'NEGATIVE', 'score': 0.9876592755317688}, {'label': 'NEGATIVE', 'score': 0.9848753809928894}, {'label': 'NEGATIVE', 'score': 0.9986242055892944}, {'label': 'NEGATIVE', 'score': 0.9874607920646667}, {'label': 'NEGATIVE', 'score': 0.9976983666419983}, {'label': 'NEGATIVE', 'score': 0.9902961850166321}, {'label': 'POSITIVE', 'score': 0.9446442127227783}, {'label': 'NEGATIVE', 'score': 0.9962596893310547}, {'label': 'POSITIVE', 'score': 0.9989637136459351}, {'label': 'NEGATIVE', 'score': 0.5634834170341492}, {'label': 'NEGATIVE', 'score': 0.9596421122550964}, {'label': 'POSITIVE', 'score': 0.962738573551178}, {'label': 'NEGATIVE', 'score': 0.9594414830207825}, {'label': 'NEGATIVE', 'score': 0.9902937412261963}, {'label': 'POSITIVE', 'score': 0.9992437362670898}, {'label': 'NEGATIVE', 'score': 0.9941097497940063}, {'label': 'POSITIVE', 'score': 0.6069604754447937}, {'label': 'POSITIVE', 'score': 0.9316303133964539}, {'label': 'NEGATIVE', 'score': 0.9716532230377197}, {'label': 'NEGATIVE', 'score': 0.9965336322784424}, {'label': 'NEGATIVE', 'score': 0.9995830655097961}, {'label': 'NEGATIVE', 'score': 0.9958925247192383}, {'label': 'NEGATIVE', 'score': 0.9885129928588867}, {'label': 'NEGATIVE', 'score': 0.9036239981651306}, {'label': 'POSITIVE', 'score': 0.9605234861373901}, {'label': 'NEGATIVE', 'score': 0.9810667037963867}, {'label': 'POSITIVE', 'score': 0.9935663342475891}, {'label': 'NEGATIVE', 'score': 0.9970273375511169}, {'label': 'NEGATIVE', 'score': 0.913094162940979}, {'label': 'NEGATIVE', 'score': 0.9932110905647278}, {'label': 'POSITIVE', 'score': 0.9921274185180664}, {'label': 'NEGATIVE', 'score': 0.9991076588630676}, {'label': 'NEGATIVE', 'score': 0.9650877118110657}, {'label': 'NEGATIVE', 'score': 0.9991844296455383}, {'label': 'NEGATIVE', 'score': 0.9979252815246582}, {'label': 'NEGATIVE', 'score': 0.9265859723091125}, {'label': 'NEGATIVE', 'score': 0.9997724890708923}, {'label': 'NEGATIVE', 'score': 0.9939044117927551}, {'label': 'POSITIVE', 'score': 0.9977686405181885}, {'label': 'NEGATIVE', 'score': 0.9811610579490662}, {'label': 'POSITIVE', 'score': 0.8751740455627441}, {'label': 'POSITIVE', 'score': 0.6248308420181274}, {'label': 'NEGATIVE', 'score': 0.9865719079971313}, {'label': 'NEGATIVE', 'score': 0.9321202635765076}, {'label': 'NEGATIVE', 'score': 0.9908961653709412}, {'label': 'POSITIVE', 'score': 0.9989280104637146}, {'label': 'NEGATIVE', 'score': 0.9090701937675476}, {'label': 'POSITIVE', 'score': 0.9993690848350525}, {'label': 'NEGATIVE', 'score': 0.9544824361801147}, {'label': 'NEGATIVE', 'score': 0.9383535981178284}, {'label': 'NEGATIVE', 'score': 0.9914495348930359}, {'label': 'POSITIVE', 'score': 0.5933355093002319}, {'label': 'NEGATIVE', 'score': 0.9979999661445618}, {'label': 'POSITIVE', 'score': 0.7601181864738464}, {'label': 'POSITIVE', 'score': 0.995254397392273}, {'label': 'NEGATIVE', 'score': 0.9771979451179504}, {'label': 'NEGATIVE', 'score': 0.9947115182876587}, {'label': 'POSITIVE', 'score': 0.9938637018203735}, {'label': 'NEGATIVE', 'score': 0.9985081553459167}, {'label': 'NEGATIVE', 'score': 0.9982598423957825}, {'label': 'NEGATIVE', 'score': 0.9977218508720398}, {'label': 'NEGATIVE', 'score': 0.9867961406707764}, {'label': 'NEGATIVE', 'score': 0.9976110458374023}, {'label': 'POSITIVE', 'score': 0.9540302753448486}, {'label': 'NEGATIVE', 'score': 0.997928261756897}, {'label': 'NEGATIVE', 'score': 0.9992458820343018}, {'label': 'POSITIVE', 'score': 0.997707724571228}, {'label': 'POSITIVE', 'score': 0.6470165848731995}, {'label': 'NEGATIVE', 'score': 0.9797168374061584}, {'label': 'NEGATIVE', 'score': 0.6322242617607117}, {'label': 'POSITIVE', 'score': 0.6056349873542786}, {'label': 'POSITIVE', 'score': 0.9778990745544434}, {'label': 'POSITIVE', 'score': 0.5989698767662048}, {'label': 'NEGATIVE', 'score': 0.9868659377098083}, {'label': 'NEGATIVE', 'score': 0.9915364980697632}, {'label': 'NEGATIVE', 'score': 0.9884155988693237}, {'label': 'POSITIVE', 'score': 0.9496124982833862}, {'label': 'NEGATIVE', 'score': 0.8530282378196716}, {'label': 'POSITIVE', 'score': 0.5722857713699341}, {'label': 'POSITIVE', 'score': 0.917304277420044}, {'label': 'NEGATIVE', 'score': 0.9716786742210388}, {'label': 'NEGATIVE', 'score': 0.542500376701355}, {'label': 'NEGATIVE', 'score': 0.981768012046814}, {'label': 'NEGATIVE', 'score': 0.9967058300971985}, {'label': 'NEGATIVE', 'score': 0.9517202377319336}, {'label': 'NEGATIVE', 'score': 0.9983910322189331}, {'label': 'NEGATIVE', 'score': 0.9971575736999512}, {'label': 'POSITIVE', 'score': 0.6390998959541321}, {'label': 'NEGATIVE', 'score': 0.9965488314628601}, {'label': 'NEGATIVE', 'score': 0.9981800317764282}, {'label': 'NEGATIVE', 'score': 0.9887226819992065}, {'label': 'NEGATIVE', 'score': 0.9980529546737671}, {'label': 'NEGATIVE', 'score': 0.9989479184150696}, {'label': 'NEGATIVE', 'score': 0.9727977514266968}, {'label': 'NEGATIVE', 'score': 0.9995796084403992}, {'label': 'NEGATIVE', 'score': 0.9995086193084717}, {'label': 'POSITIVE', 'score': 0.984982430934906}, {'label': 'NEGATIVE', 'score': 0.9895961880683899}, {'label': 'NEGATIVE', 'score': 0.9912323355674744}, {'label': 'NEGATIVE', 'score': 0.996549129486084}, {'label': 'NEGATIVE', 'score': 0.9983766078948975}, {'label': 'NEGATIVE', 'score': 0.9981639981269836}, {'label': 'NEGATIVE', 'score': 0.9950798749923706}, {'label': 'NEGATIVE', 'score': 0.9959121942520142}, {'label': 'POSITIVE', 'score': 0.9986377358436584}, {'label': 'POSITIVE', 'score': 0.9944484233856201}, {'label': 'POSITIVE', 'score': 0.9920563101768494}, {'label': 'NEGATIVE', 'score': 0.8770548701286316}, {'label': 'NEGATIVE', 'score': 0.9878540635108948}, {'label': 'POSITIVE', 'score': 0.9854677319526672}, {'label': 'POSITIVE', 'score': 0.9991403818130493}, {'label': 'NEGATIVE', 'score': 0.9865441918373108}, {'label': 'POSITIVE', 'score': 0.9137327671051025}, {'label': 'POSITIVE', 'score': 0.9297385811805725}, {'label': 'NEGATIVE', 'score': 0.9943968057632446}, {'label': 'NEGATIVE', 'score': 0.9100713133811951}, {'label': 'POSITIVE', 'score': 0.9752560257911682}, {'label': 'NEGATIVE', 'score': 0.9774470329284668}, {'label': 'NEGATIVE', 'score': 0.9892210960388184}, {'label': 'POSITIVE', 'score': 0.975893497467041}, {'label': 'NEGATIVE', 'score': 0.9882093667984009}, {'label': 'NEGATIVE', 'score': 0.960486888885498}, {'label': 'NEGATIVE', 'score': 0.9809777140617371}, {'label': 'POSITIVE', 'score': 0.6556724905967712}, {'label': 'NEGATIVE', 'score': 0.6821717023849487}, {'label': 'NEGATIVE', 'score': 0.9867727160453796}, {'label': 'POSITIVE', 'score': 0.92704176902771}, {'label': 'POSITIVE', 'score': 0.9920480847358704}, {'label': 'POSITIVE', 'score': 0.9798849821090698}, {'label': 'NEGATIVE', 'score': 0.6693301200866699}, {'label': 'POSITIVE', 'score': 0.965930700302124}, {'label': 'POSITIVE', 'score': 0.9747700691223145}, {'label': 'NEGATIVE', 'score': 0.551918625831604}, {'label': 'NEGATIVE', 'score': 0.9937096834182739}, {'label': 'POSITIVE', 'score': 0.8971782922744751}, {'label': 'NEGATIVE', 'score': 0.9752468466758728}, {'label': 'POSITIVE', 'score': 0.9961375594139099}, {'label': 'NEGATIVE', 'score': 0.9803223013877869}, {'label': 'POSITIVE', 'score': 0.908940851688385}, {'label': 'NEGATIVE', 'score': 0.8888463377952576}, {'label': 'NEGATIVE', 'score': 0.9775970578193665}, {'label': 'NEGATIVE', 'score': 0.9868102073669434}, {'label': 'NEGATIVE', 'score': 0.9938750863075256}, {'label': 'NEGATIVE', 'score': 0.9996194839477539}, {'label': 'NEGATIVE', 'score': 0.9948486089706421}, {'label': 'NEGATIVE', 'score': 0.915736734867096}, {'label': 'POSITIVE', 'score': 0.890541672706604}, {'label': 'POSITIVE', 'score': 0.9655718207359314}, {'label': 'POSITIVE', 'score': 0.986061692237854}, {'label': 'POSITIVE', 'score': 0.9658732414245605}, {'label': 'POSITIVE', 'score': 0.9868770837783813}, {'label': 'POSITIVE', 'score': 0.8511562347412109}, {'label': 'NEGATIVE', 'score': 0.9966273903846741}, {'label': 'POSITIVE', 'score': 0.9924377799034119}, {'label': 'NEGATIVE', 'score': 0.6483238935470581}, {'label': 'NEGATIVE', 'score': 0.999524712562561}, {'label': 'NEGATIVE', 'score': 0.5059226155281067}, {'label': 'NEGATIVE', 'score': 0.9961264729499817}, {'label': 'POSITIVE', 'score': 0.9846616387367249}, {'label': 'NEGATIVE', 'score': 0.9960123300552368}, {'label': 'POSITIVE', 'score': 0.9362742304801941}, {'label': 'POSITIVE', 'score': 0.8196595907211304}, {'label': 'NEGATIVE', 'score': 0.998746395111084}, {'label': 'POSITIVE', 'score': 0.5511553883552551}, {'label': 'POSITIVE', 'score': 0.9981429576873779}, {'label': 'NEGATIVE', 'score': 0.9984885454177856}, {'label': 'NEGATIVE', 'score': 0.9995373487472534}, {'label': 'NEGATIVE', 'score': 0.9785811305046082}, {'label': 'NEGATIVE', 'score': 0.9785811305046082}, {'label': 'NEGATIVE', 'score': 0.9455773234367371}, {'label': 'NEGATIVE', 'score': 0.9886554479598999}, {'label': 'POSITIVE', 'score': 0.9808942675590515}, {'label': 'NEGATIVE', 'score': 0.9921129941940308}, {'label': 'NEGATIVE', 'score': 0.9975247979164124}, {'label': 'NEGATIVE', 'score': 0.9751207828521729}, {'label': 'NEGATIVE', 'score': 0.9087123274803162}, {'label': 'NEGATIVE', 'score': 0.9655365943908691}, {'label': 'NEGATIVE', 'score': 0.9934841990470886}, {'label': 'POSITIVE', 'score': 0.9753320813179016}, {'label': 'NEGATIVE', 'score': 0.9972922205924988}, {'label': 'NEGATIVE', 'score': 0.999286949634552}, {'label': 'NEGATIVE', 'score': 0.9803526401519775}, {'label': 'NEGATIVE', 'score': 0.9745848774909973}, {'label': 'NEGATIVE', 'score': 0.9940751791000366}, {'label': 'NEGATIVE', 'score': 0.9962719678878784}, {'label': 'NEGATIVE', 'score': 0.9968206882476807}, {'label': 'NEGATIVE', 'score': 0.9980327486991882}, {'label': 'POSITIVE', 'score': 0.6982032060623169}, {'label': 'NEGATIVE', 'score': 0.9981726408004761}, {'label': 'NEGATIVE', 'score': 0.9211457371711731}, {'label': 'NEGATIVE', 'score': 0.9984394907951355}, {'label': 'NEGATIVE', 'score': 0.9992092847824097}, {'label': 'NEGATIVE', 'score': 0.9958590865135193}, {'label': 'NEGATIVE', 'score': 0.9874504804611206}, {'label': 'NEGATIVE', 'score': 0.9994366765022278}, {'label': 'NEGATIVE', 'score': 0.9924547672271729}, {'label': 'NEGATIVE', 'score': 0.8947235941886902}, {'label': 'NEGATIVE', 'score': 0.8503044247627258}, {'label': 'POSITIVE', 'score': 0.9974305033683777}, {'label': 'POSITIVE', 'score': 0.997711181640625}, {'label': 'NEGATIVE', 'score': 0.9989622831344604}, {'label': 'POSITIVE', 'score': 0.9992801547050476}, {'label': 'POSITIVE', 'score': 0.9052993655204773}, {'label': 'POSITIVE', 'score': 0.9967374205589294}, {'label': 'NEGATIVE', 'score': 0.7105321884155273}, {'label': 'NEGATIVE', 'score': 0.9989724159240723}, {'label': 'NEGATIVE', 'score': 0.9540401697158813}, {'label': 'NEGATIVE', 'score': 0.9990214109420776}, {'label': 'NEGATIVE', 'score': 0.9927309155464172}, {'label': 'NEGATIVE', 'score': 0.9937671422958374}, {'label': 'NEGATIVE', 'score': 0.9910057783126831}, {'label': 'NEGATIVE', 'score': 0.9949430823326111}, {'label': 'NEGATIVE', 'score': 0.9988046884536743}, {'label': 'NEGATIVE', 'score': 0.9976897239685059}, {'label': 'NEGATIVE', 'score': 0.999601423740387}, {'label': 'NEGATIVE', 'score': 0.9080826640129089}, {'label': 'NEGATIVE', 'score': 0.9688777923583984}, {'label': 'NEGATIVE', 'score': 0.99868243932724}, {'label': 'POSITIVE', 'score': 0.9829931259155273}, {'label': 'NEGATIVE', 'score': 0.9992896318435669}, {'label': 'NEGATIVE', 'score': 0.9849995970726013}, {'label': 'NEGATIVE', 'score': 0.9715459942817688}, {'label': 'NEGATIVE', 'score': 0.9890027046203613}, {'label': 'NEGATIVE', 'score': 0.9677906632423401}, {'label': 'NEGATIVE', 'score': 0.9983463287353516}, {'label': 'NEGATIVE', 'score': 0.996961772441864}, {'label': 'NEGATIVE', 'score': 0.9847372174263}, {'label': 'NEGATIVE', 'score': 0.996702253818512}, {'label': 'NEGATIVE', 'score': 0.998150646686554}, {'label': 'NEGATIVE', 'score': 0.9979019165039062}, {'label': 'POSITIVE', 'score': 0.6389695405960083}, {'label': 'NEGATIVE', 'score': 0.875623881816864}, {'label': 'POSITIVE', 'score': 0.9676892757415771}, {'label': 'POSITIVE', 'score': 0.9535252451896667}, {'label': 'NEGATIVE', 'score': 0.8948761224746704}, {'label': 'NEGATIVE', 'score': 0.9943547248840332}, {'label': 'NEGATIVE', 'score': 0.992987334728241}, {'label': 'NEGATIVE', 'score': 0.8416996002197266}, {'label': 'NEGATIVE', 'score': 0.9507213234901428}, {'label': 'POSITIVE', 'score': 0.9990872144699097}, {'label': 'NEGATIVE', 'score': 0.994617760181427}, {'label': 'NEGATIVE', 'score': 0.9315306544303894}, {'label': 'NEGATIVE', 'score': 0.9732404947280884}, {'label': 'POSITIVE', 'score': 0.7545481324195862}, {'label': 'POSITIVE', 'score': 0.9974083304405212}, {'label': 'NEGATIVE', 'score': 0.9917357563972473}, {'label': 'NEGATIVE', 'score': 0.9385309219360352}, {'label': 'NEGATIVE', 'score': 0.9510169625282288}, {'label': 'NEGATIVE', 'score': 0.9373677372932434}, {'label': 'NEGATIVE', 'score': 0.971872091293335}, {'label': 'NEGATIVE', 'score': 0.9612727165222168}, {'label': 'POSITIVE', 'score': 0.9929556846618652}, {'label': 'NEGATIVE', 'score': 0.9991657733917236}, {'label': 'POSITIVE', 'score': 0.9483420252799988}, {'label': 'NEGATIVE', 'score': 0.9890103936195374}, {'label': 'POSITIVE', 'score': 0.6324843168258667}, {'label': 'NEGATIVE', 'score': 0.8523669838905334}, {'label': 'POSITIVE', 'score': 0.9089740514755249}, {'label': 'NEGATIVE', 'score': 0.9989210367202759}, {'label': 'NEGATIVE', 'score': 0.992007851600647}, {'label': 'NEGATIVE', 'score': 0.9756630063056946}, {'label': 'NEGATIVE', 'score': 0.7719705700874329}, {'label': 'NEGATIVE', 'score': 0.9995453953742981}, {'label': 'NEGATIVE', 'score': 0.9935784339904785}, {'label': 'NEGATIVE', 'score': 0.9778879284858704}, {'label': 'NEGATIVE', 'score': 0.9962794184684753}, {'label': 'NEGATIVE', 'score': 0.995797872543335}, {'label': 'NEGATIVE', 'score': 0.9893236756324768}, {'label': 'POSITIVE', 'score': 0.9650165438652039}, {'label': 'NEGATIVE', 'score': 0.5117824673652649}, {'label': 'NEGATIVE', 'score': 0.9987240433692932}, {'label': 'NEGATIVE', 'score': 0.9972105622291565}, {'label': 'POSITIVE', 'score': 0.9794521331787109}, {'label': 'POSITIVE', 'score': 0.9983417987823486}, {'label': 'POSITIVE', 'score': 0.9004018306732178}, {'label': 'NEGATIVE', 'score': 0.5497031807899475}, {'label': 'NEGATIVE', 'score': 0.7939394116401672}, {'label': 'POSITIVE', 'score': 0.9995829463005066}, {'label': 'NEGATIVE', 'score': 0.9967775940895081}, {'label': 'NEGATIVE', 'score': 0.9997103810310364}, {'label': 'NEGATIVE', 'score': 0.9960699081420898}, {'label': 'POSITIVE', 'score': 0.978912889957428}, {'label': 'NEGATIVE', 'score': 0.9994261264801025}, {'label': 'POSITIVE', 'score': 0.991901695728302}, {'label': 'POSITIVE', 'score': 0.9993687272071838}, {'label': 'NEGATIVE', 'score': 0.9849773645401001}, {'label': 'POSITIVE', 'score': 0.9964679479598999}, {'label': 'NEGATIVE', 'score': 0.9916449189186096}, {'label': 'NEGATIVE', 'score': 0.9941727519035339}, {'label': 'NEGATIVE', 'score': 0.9820114374160767}, {'label': 'POSITIVE', 'score': 0.8334691524505615}, {'label': 'NEGATIVE', 'score': 0.9635793566703796}, {'label': 'NEGATIVE', 'score': 0.8905965089797974}, {'label': 'NEGATIVE', 'score': 0.8209298849105835}, {'label': 'NEGATIVE', 'score': 0.9917895793914795}, {'label': 'NEGATIVE', 'score': 0.9866605997085571}, {'label': 'NEGATIVE', 'score': 0.9959112405776978}, {'label': 'NEGATIVE', 'score': 0.9579707384109497}, {'label': 'NEGATIVE', 'score': 0.9897931814193726}, {'label': 'POSITIVE', 'score': 0.999430239200592}, {'label': 'NEGATIVE', 'score': 0.9949134588241577}, {'label': 'NEGATIVE', 'score': 0.9956598877906799}, {'label': 'NEGATIVE', 'score': 0.9902869462966919}, {'label': 'NEGATIVE', 'score': 0.9032959938049316}, {'label': 'NEGATIVE', 'score': 0.9940459728240967}, {'label': 'NEGATIVE', 'score': 0.9837342500686646}, {'label': 'NEGATIVE', 'score': 0.9498466849327087}, {'label': 'POSITIVE', 'score': 0.9666188955307007}, {'label': 'NEGATIVE', 'score': 0.657974362373352}, {'label': 'POSITIVE', 'score': 0.9876905679702759}, {'label': 'NEGATIVE', 'score': 0.9876125454902649}, {'label': 'NEGATIVE', 'score': 0.9962525367736816}, {'label': 'POSITIVE', 'score': 0.5064486265182495}, {'label': 'POSITIVE', 'score': 0.9996943473815918}, {'label': 'POSITIVE', 'score': 0.9996376037597656}, {'label': 'POSITIVE', 'score': 0.7918298840522766}, {'label': 'POSITIVE', 'score': 0.9976218342781067}, {'label': 'NEGATIVE', 'score': 0.6461827158927917}, {'label': 'NEGATIVE', 'score': 0.9308324456214905}, {'label': 'NEGATIVE', 'score': 0.8907101154327393}, {'label': 'NEGATIVE', 'score': 0.9994402527809143}, {'label': 'POSITIVE', 'score': 0.989075779914856}, {'label': 'NEGATIVE', 'score': 0.9983435869216919}, {'label': 'NEGATIVE', 'score': 0.9987679123878479}, {'label': 'POSITIVE', 'score': 0.9935670495033264}, {'label': 'NEGATIVE', 'score': 0.9322707056999207}, {'label': 'NEGATIVE', 'score': 0.9994524121284485}, {'label': 'NEGATIVE', 'score': 0.9960237741470337}, {'label': 'NEGATIVE', 'score': 0.9282729625701904}, {'label': 'NEGATIVE', 'score': 0.9404343962669373}, {'label': 'NEGATIVE', 'score': 0.9687369465827942}, {'label': 'POSITIVE', 'score': 0.6182538866996765}, {'label': 'NEGATIVE', 'score': 0.9841306805610657}, {'label': 'NEGATIVE', 'score': 0.8473924398422241}, {'label': 'NEGATIVE', 'score': 0.9823858141899109}, {'label': 'NEGATIVE', 'score': 0.5624228119850159}, {'label': 'NEGATIVE', 'score': 0.9946368336677551}, {'label': 'NEGATIVE', 'score': 0.9643282890319824}, {'label': 'NEGATIVE', 'score': 0.9995797276496887}, {'label': 'NEGATIVE', 'score': 0.9935181736946106}, {'label': 'NEGATIVE', 'score': 0.9950182437896729}, {'label': 'NEGATIVE', 'score': 0.9875661134719849}, {'label': 'NEGATIVE', 'score': 0.9924615025520325}, {'label': 'NEGATIVE', 'score': 0.9967064261436462}, {'label': 'POSITIVE', 'score': 0.965302586555481}, {'label': 'NEGATIVE', 'score': 0.9979203343391418}, {'label': 'NEGATIVE', 'score': 0.9958561062812805}, {'label': 'NEGATIVE', 'score': 0.6533229947090149}, {'label': 'NEGATIVE', 'score': 0.9597411751747131}, {'label': 'NEGATIVE', 'score': 0.9985609650611877}, {'label': 'NEGATIVE', 'score': 0.8491733074188232}, {'label': 'POSITIVE', 'score': 0.8164450526237488}, {'label': 'POSITIVE', 'score': 0.9991362690925598}, {'label': 'POSITIVE', 'score': 0.9996021389961243}, {'label': 'NEGATIVE', 'score': 0.9280250668525696}, {'label': 'POSITIVE', 'score': 0.9772812724113464}, {'label': 'NEGATIVE', 'score': 0.9960954785346985}, {'label': 'POSITIVE', 'score': 0.9798943400382996}, {'label': 'NEGATIVE', 'score': 0.9227069020271301}, {'label': 'NEGATIVE', 'score': 0.9950389266014099}, {'label': 'NEGATIVE', 'score': 0.97978675365448}, {'label': 'NEGATIVE', 'score': 0.999177873134613}, {'label': 'NEGATIVE', 'score': 0.9842633605003357}, {'label': 'POSITIVE', 'score': 0.9932329654693604}, {'label': 'POSITIVE', 'score': 0.9995947480201721}, {'label': 'NEGATIVE', 'score': 0.8559896945953369}, {'label': 'NEGATIVE', 'score': 0.995681881904602}, {'label': 'POSITIVE', 'score': 0.9046725630760193}, {'label': 'NEGATIVE', 'score': 0.9945724606513977}, {'label': 'NEGATIVE', 'score': 0.9955184459686279}, {'label': 'POSITIVE', 'score': 0.9927288293838501}, {'label': 'POSITIVE', 'score': 0.8640429973602295}, {'label': 'POSITIVE', 'score': 0.9709016680717468}, {'label': 'POSITIVE', 'score': 0.9967105388641357}, {'label': 'NEGATIVE', 'score': 0.9947611689567566}, {'label': 'NEGATIVE', 'score': 0.9843385815620422}, {'label': 'NEGATIVE', 'score': 0.9845269918441772}, {'label': 'NEGATIVE', 'score': 0.9763150215148926}, {'label': 'NEGATIVE', 'score': 0.9856712222099304}, {'label': 'POSITIVE', 'score': 0.6545441746711731}, {'label': 'NEGATIVE', 'score': 0.9963974356651306}, {'label': 'NEGATIVE', 'score': 0.9990593791007996}, {'label': 'POSITIVE', 'score': 0.9951167106628418}, {'label': 'NEGATIVE', 'score': 0.6248866319656372}, {'label': 'NEGATIVE', 'score': 0.9956533908843994}, {'label': 'POSITIVE', 'score': 0.6947734951972961}, {'label': 'NEGATIVE', 'score': 0.9751530885696411}, {'label': 'NEGATIVE', 'score': 0.7040919065475464}, {'label': 'NEGATIVE', 'score': 0.992701530456543}, {'label': 'NEGATIVE', 'score': 0.996605634689331}, {'label': 'NEGATIVE', 'score': 0.5649113655090332}, {'label': 'POSITIVE', 'score': 0.940457284450531}, {'label': 'POSITIVE', 'score': 0.9986647367477417}, {'label': 'NEGATIVE', 'score': 0.9952070116996765}, {'label': 'NEGATIVE', 'score': 0.9971401691436768}, {'label': 'NEGATIVE', 'score': 0.5150603652000427}, {'label': 'NEGATIVE', 'score': 0.9922657608985901}, {'label': 'NEGATIVE', 'score': 0.9901400208473206}, {'label': 'NEGATIVE', 'score': 0.937594473361969}, {'label': 'NEGATIVE', 'score': 0.9897181987762451}, {'label': 'NEGATIVE', 'score': 0.9986999034881592}, {'label': 'NEGATIVE', 'score': 0.9984763264656067}, {'label': 'POSITIVE', 'score': 0.9845486879348755}, {'label': 'NEGATIVE', 'score': 0.9821548461914062}, {'label': 'NEGATIVE', 'score': 0.9997149109840393}, {'label': 'POSITIVE', 'score': 0.9848388433456421}, {'label': 'NEGATIVE', 'score': 0.9976709485054016}, {'label': 'POSITIVE', 'score': 0.9952417612075806}, {'label': 'NEGATIVE', 'score': 0.9905824661254883}, {'label': 'NEGATIVE', 'score': 0.9778565764427185}, {'label': 'NEGATIVE', 'score': 0.8329067826271057}, {'label': 'NEGATIVE', 'score': 0.9888184666633606}, {'label': 'NEGATIVE', 'score': 0.9954277276992798}, {'label': 'NEGATIVE', 'score': 0.9825451374053955}, {'label': 'POSITIVE', 'score': 0.9273415207862854}, {'label': 'NEGATIVE', 'score': 0.9798101186752319}, {'label': 'NEGATIVE', 'score': 0.9945810437202454}, {'label': 'NEGATIVE', 'score': 0.9934812784194946}, {'label': 'NEGATIVE', 'score': 0.999416708946228}, {'label': 'NEGATIVE', 'score': 0.9658127427101135}, {'label': 'NEGATIVE', 'score': 0.9977675676345825}, {'label': 'NEGATIVE', 'score': 0.8318979144096375}, {'label': 'NEGATIVE', 'score': 0.990817666053772}, {'label': 'NEGATIVE', 'score': 0.9931249022483826}, {'label': 'POSITIVE', 'score': 0.9983962178230286}, {'label': 'NEGATIVE', 'score': 0.9975395202636719}, {'label': 'POSITIVE', 'score': 0.7996747493743896}, {'label': 'NEGATIVE', 'score': 0.9941249489784241}, {'label': 'NEGATIVE', 'score': 0.9905913472175598}, {'label': 'NEGATIVE', 'score': 0.9972027540206909}, {'label': 'NEGATIVE', 'score': 0.9992392063140869}, {'label': 'NEGATIVE', 'score': 0.9900230765342712}, {'label': 'POSITIVE', 'score': 0.9910739064216614}, {'label': 'NEGATIVE', 'score': 0.9974199533462524}, {'label': 'NEGATIVE', 'score': 0.9997949004173279}, {'label': 'NEGATIVE', 'score': 0.9956908822059631}, {'label': 'NEGATIVE', 'score': 0.9883214831352234}, {'label': 'NEGATIVE', 'score': 0.9725200533866882}, {'label': 'POSITIVE', 'score': 0.8850023150444031}, {'label': 'POSITIVE', 'score': 0.9914673566818237}, {'label': 'NEGATIVE', 'score': 0.9961888194084167}, {'label': 'POSITIVE', 'score': 0.960304319858551}, {'label': 'NEGATIVE', 'score': 0.9739091992378235}, {'label': 'POSITIVE', 'score': 0.9775775671005249}, {'label': 'NEGATIVE', 'score': 0.9410505890846252}, {'label': 'NEGATIVE', 'score': 0.9951255917549133}, {'label': 'NEGATIVE', 'score': 0.9909907579421997}, {'label': 'POSITIVE', 'score': 0.9897474050521851}, {'label': 'NEGATIVE', 'score': 0.9595087766647339}, {'label': 'NEGATIVE', 'score': 0.9977486729621887}, {'label': 'NEGATIVE', 'score': 0.9966509938240051}, {'label': 'NEGATIVE', 'score': 0.9815172553062439}, {'label': 'NEGATIVE', 'score': 0.9692339897155762}, {'label': 'NEGATIVE', 'score': 0.9583725333213806}, {'label': 'NEGATIVE', 'score': 0.9995635151863098}, {'label': 'NEGATIVE', 'score': 0.9502195119857788}, {'label': 'NEGATIVE', 'score': 0.9770002365112305}, {'label': 'NEGATIVE', 'score': 0.9584656357765198}, {'label': 'POSITIVE', 'score': 0.5028759241104126}, {'label': 'POSITIVE', 'score': 0.9987165927886963}, {'label': 'NEGATIVE', 'score': 0.7331216931343079}, {'label': 'NEGATIVE', 'score': 0.9981144666671753}, {'label': 'NEGATIVE', 'score': 0.986233115196228}, {'label': 'NEGATIVE', 'score': 0.9969237446784973}, {'label': 'NEGATIVE', 'score': 0.9938556551933289}, {'label': 'NEGATIVE', 'score': 0.9993127584457397}, {'label': 'NEGATIVE', 'score': 0.9977105855941772}, {'label': 'NEGATIVE', 'score': 0.9194469451904297}, {'label': 'NEGATIVE', 'score': 0.9537578225135803}, {'label': 'POSITIVE', 'score': 0.9996418952941895}, {'label': 'NEGATIVE', 'score': 0.996795117855072}, {'label': 'POSITIVE', 'score': 0.8159425854682922}, {'label': 'NEGATIVE', 'score': 0.9975056052207947}, {'label': 'NEGATIVE', 'score': 0.9975056052207947}, {'label': 'NEGATIVE', 'score': 0.9979377388954163}, {'label': 'NEGATIVE', 'score': 0.9931315779685974}, {'label': 'NEGATIVE', 'score': 0.9901480078697205}, {'label': 'POSITIVE', 'score': 0.8992945551872253}, {'label': 'NEGATIVE', 'score': 0.9939133524894714}, {'label': 'NEGATIVE', 'score': 0.9488073587417603}, {'label': 'POSITIVE', 'score': 0.9843969941139221}, {'label': 'POSITIVE', 'score': 0.6639949679374695}, {'label': 'NEGATIVE', 'score': 0.9892778396606445}, {'label': 'NEGATIVE', 'score': 0.9865021109580994}, {'label': 'NEGATIVE', 'score': 0.9321991205215454}, {'label': 'NEGATIVE', 'score': 0.8895691633224487}, {'label': 'NEGATIVE', 'score': 0.9964693784713745}, {'label': 'NEGATIVE', 'score': 0.9986894726753235}, {'label': 'NEGATIVE', 'score': 0.9942960143089294}, {'label': 'NEGATIVE', 'score': 0.9988918900489807}, {'label': 'NEGATIVE', 'score': 0.9888275861740112}, {'label': 'NEGATIVE', 'score': 0.987310528755188}, {'label': 'NEGATIVE', 'score': 0.9996181726455688}, {'label': 'POSITIVE', 'score': 0.7367680072784424}, {'label': 'NEGATIVE', 'score': 0.9900904893875122}, {'label': 'NEGATIVE', 'score': 0.987941324710846}, {'label': 'NEGATIVE', 'score': 0.9950609803199768}, {'label': 'NEGATIVE', 'score': 0.9963726997375488}, {'label': 'NEGATIVE', 'score': 0.9849796891212463}, {'label': 'NEGATIVE', 'score': 0.9943090677261353}, {'label': 'NEGATIVE', 'score': 0.9866776466369629}, {'label': 'POSITIVE', 'score': 0.998960018157959}, {'label': 'NEGATIVE', 'score': 0.9986903071403503}, {'label': 'POSITIVE', 'score': 0.9943692088127136}, {'label': 'NEGATIVE', 'score': 0.9936937689781189}, {'label': 'NEGATIVE', 'score': 0.9739553332328796}, {'label': 'NEGATIVE', 'score': 0.9917649626731873}, {'label': 'NEGATIVE', 'score': 0.9622957110404968}, {'label': 'NEGATIVE', 'score': 0.9972234964370728}, {'label': 'NEGATIVE', 'score': 0.9946686625480652}, {'label': 'POSITIVE', 'score': 0.9811846613883972}, {'label': 'POSITIVE', 'score': 0.9998862743377686}, {'label': 'NEGATIVE', 'score': 0.9649774432182312}, {'label': 'POSITIVE', 'score': 0.991568386554718}, {'label': 'POSITIVE', 'score': 0.7328588962554932}, {'label': 'NEGATIVE', 'score': 0.9978402853012085}, {'label': 'POSITIVE', 'score': 0.984308660030365}, {'label': 'NEGATIVE', 'score': 0.9489001035690308}, {'label': 'POSITIVE', 'score': 0.9903475046157837}, {'label': 'POSITIVE', 'score': 0.9814867377281189}, {'label': 'NEGATIVE', 'score': 0.8857002854347229}, {'label': 'POSITIVE', 'score': 0.9283686280250549}, {'label': 'NEGATIVE', 'score': 0.9855031967163086}, {'label': 'POSITIVE', 'score': 0.9876761436462402}, {'label': 'POSITIVE', 'score': 0.9113128185272217}, {'label': 'NEGATIVE', 'score': 0.9981472492218018}, {'label': 'NEGATIVE', 'score': 0.9892655611038208}, {'label': 'POSITIVE', 'score': 0.918236494064331}, {'label': 'NEGATIVE', 'score': 0.8227846622467041}, {'label': 'NEGATIVE', 'score': 0.7300230264663696}, {'label': 'NEGATIVE', 'score': 0.9988910555839539}, {'label': 'POSITIVE', 'score': 0.977654755115509}, {'label': 'NEGATIVE', 'score': 0.9997462630271912}, {'label': 'POSITIVE', 'score': 0.9979525804519653}, {'label': 'NEGATIVE', 'score': 0.9861893057823181}, {'label': 'NEGATIVE', 'score': 0.9996732473373413}, {'label': 'NEGATIVE', 'score': 0.9964571595191956}, {'label': 'POSITIVE', 'score': 0.9846950173377991}, {'label': 'POSITIVE', 'score': 0.8466169238090515}, {'label': 'NEGATIVE', 'score': 0.9987217783927917}, {'label': 'NEGATIVE', 'score': 0.6084787249565125}, {'label': 'NEGATIVE', 'score': 0.9873212575912476}, {'label': 'NEGATIVE', 'score': 0.9928643703460693}, {'label': 'NEGATIVE', 'score': 0.991405725479126}, {'label': 'POSITIVE', 'score': 0.9208842515945435}, {'label': 'NEGATIVE', 'score': 0.9978606104850769}, {'label': 'NEGATIVE', 'score': 0.9264450669288635}, {'label': 'POSITIVE', 'score': 0.6042826175689697}, {'label': 'NEGATIVE', 'score': 0.9941955208778381}, {'label': 'NEGATIVE', 'score': 0.9900121092796326}, {'label': 'NEGATIVE', 'score': 0.9995799660682678}, {'label': 'POSITIVE', 'score': 0.9849684834480286}, {'label': 'NEGATIVE', 'score': 0.9454911947250366}, {'label': 'NEGATIVE', 'score': 0.997523844242096}, {'label': 'POSITIVE', 'score': 0.7226470112800598}, {'label': 'NEGATIVE', 'score': 0.9817204475402832}, {'label': 'NEGATIVE', 'score': 0.987536609172821}, {'label': 'POSITIVE', 'score': 0.9882226586341858}, {'label': 'NEGATIVE', 'score': 0.9475982785224915}, {'label': 'NEGATIVE', 'score': 0.9900122284889221}, {'label': 'NEGATIVE', 'score': 0.9537632465362549}, {'label': 'POSITIVE', 'score': 0.9020230770111084}, {'label': 'POSITIVE', 'score': 0.9747471809387207}, {'label': 'POSITIVE', 'score': 0.9903550148010254}, {'label': 'NEGATIVE', 'score': 0.9992989301681519}, {'label': 'POSITIVE', 'score': 0.962280809879303}, {'label': 'POSITIVE', 'score': 0.9927363395690918}, {'label': 'NEGATIVE', 'score': 0.9552754163742065}, {'label': 'NEGATIVE', 'score': 0.994163453578949}, {'label': 'NEGATIVE', 'score': 0.9967588782310486}, {'label': 'NEGATIVE', 'score': 0.9903388619422913}, {'label': 'NEGATIVE', 'score': 0.9935007691383362}, {'label': 'NEGATIVE', 'score': 0.9876338243484497}, {'label': 'NEGATIVE', 'score': 0.9903520941734314}, {'label': 'POSITIVE', 'score': 0.857071578502655}, {'label': 'NEGATIVE', 'score': 0.9915071129798889}, {'label': 'NEGATIVE', 'score': 0.9873671531677246}, {'label': 'POSITIVE', 'score': 0.6712789535522461}, {'label': 'NEGATIVE', 'score': 0.9871876239776611}, {'label': 'NEGATIVE', 'score': 0.5017509460449219}, {'label': 'POSITIVE', 'score': 0.6195064783096313}, {'label': 'POSITIVE', 'score': 0.9529808163642883}, {'label': 'POSITIVE', 'score': 0.9372357726097107}, {'label': 'NEGATIVE', 'score': 0.9752535223960876}, {'label': 'NEGATIVE', 'score': 0.9971632361412048}, {'label': 'POSITIVE', 'score': 0.9758319854736328}, {'label': 'NEGATIVE', 'score': 0.9981953501701355}, {'label': 'NEGATIVE', 'score': 0.9950531125068665}, {'label': 'NEGATIVE', 'score': 0.8262139558792114}, {'label': 'NEGATIVE', 'score': 0.9942016005516052}, {'label': 'NEGATIVE', 'score': 0.988437831401825}, {'label': 'NEGATIVE', 'score': 0.9781322479248047}, {'label': 'NEGATIVE', 'score': 0.9180545806884766}, {'label': 'NEGATIVE', 'score': 0.9725556969642639}, {'label': 'NEGATIVE', 'score': 0.9689507484436035}, {'label': 'NEGATIVE', 'score': 0.9985455274581909}, {'label': 'NEGATIVE', 'score': 0.999119222164154}, {'label': 'NEGATIVE', 'score': 0.9780161380767822}, {'label': 'NEGATIVE', 'score': 0.6292098164558411}, {'label': 'NEGATIVE', 'score': 0.8911460041999817}, {'label': 'NEGATIVE', 'score': 0.6918607354164124}, {'label': 'POSITIVE', 'score': 0.8778076171875}, {'label': 'POSITIVE', 'score': 0.726353645324707}, {'label': 'POSITIVE', 'score': 0.9550432562828064}, {'label': 'NEGATIVE', 'score': 0.9964085221290588}, {'label': 'NEGATIVE', 'score': 0.9997350573539734}, {'label': 'NEGATIVE', 'score': 0.9966245889663696}, {'label': 'NEGATIVE', 'score': 0.9995833039283752}, {'label': 'NEGATIVE', 'score': 0.9962840676307678}, {'label': 'POSITIVE', 'score': 0.9980040192604065}, {'label': 'NEGATIVE', 'score': 0.9977941513061523}, {'label': 'POSITIVE', 'score': 0.9275651574134827}, {'label': 'NEGATIVE', 'score': 0.9998093247413635}, {'label': 'NEGATIVE', 'score': 0.9923789501190186}, {'label': 'NEGATIVE', 'score': 0.9986395239830017}, {'label': 'NEGATIVE', 'score': 0.9941627383232117}, {'label': 'NEGATIVE', 'score': 0.6947080492973328}, {'label': 'NEGATIVE', 'score': 0.9888601899147034}, {'label': 'NEGATIVE', 'score': 0.9964286684989929}, {'label': 'NEGATIVE', 'score': 0.9950887560844421}, {'label': 'NEGATIVE', 'score': 0.8409375548362732}, {'label': 'NEGATIVE', 'score': 0.9968350529670715}, {'label': 'POSITIVE', 'score': 0.9983012676239014}, {'label': 'NEGATIVE', 'score': 0.9955258965492249}, {'label': 'NEGATIVE', 'score': 0.9831221699714661}, {'label': 'POSITIVE', 'score': 0.9972758889198303}, {'label': 'POSITIVE', 'score': 0.996224045753479}, {'label': 'POSITIVE', 'score': 0.9928804636001587}, {'label': 'POSITIVE', 'score': 0.9217329025268555}, {'label': 'NEGATIVE', 'score': 0.9990524649620056}, {'label': 'NEGATIVE', 'score': 0.9997610449790955}, {'label': 'POSITIVE', 'score': 0.9518657326698303}, {'label': 'NEGATIVE', 'score': 0.9888323545455933}, {'label': 'NEGATIVE', 'score': 0.7924192547798157}, {'label': 'NEGATIVE', 'score': 0.9482855796813965}, {'label': 'NEGATIVE', 'score': 0.9974651336669922}, {'label': 'NEGATIVE', 'score': 0.9922415018081665}, {'label': 'NEGATIVE', 'score': 0.9995608925819397}, {'label': 'NEGATIVE', 'score': 0.9978469610214233}, {'label': 'NEGATIVE', 'score': 0.9736185669898987}, {'label': 'POSITIVE', 'score': 0.6142527461051941}, {'label': 'NEGATIVE', 'score': 0.99189293384552}, {'label': 'POSITIVE', 'score': 0.9963500499725342}, {'label': 'NEGATIVE', 'score': 0.9940027594566345}, {'label': 'NEGATIVE', 'score': 0.9921720027923584}, {'label': 'NEGATIVE', 'score': 0.9159108996391296}, {'label': 'POSITIVE', 'score': 0.8236338496208191}, {'label': 'NEGATIVE', 'score': 0.5190310478210449}, {'label': 'NEGATIVE', 'score': 0.9918960928916931}, {'label': 'POSITIVE', 'score': 0.5251173377037048}, {'label': 'NEGATIVE', 'score': 0.6687384247779846}, {'label': 'NEGATIVE', 'score': 0.993388295173645}, {'label': 'NEGATIVE', 'score': 0.9973371624946594}, {'label': 'NEGATIVE', 'score': 0.9899914264678955}, {'label': 'NEGATIVE', 'score': 0.921653687953949}, {'label': 'NEGATIVE', 'score': 0.9910277724266052}, {'label': 'NEGATIVE', 'score': 0.9731268882751465}, {'label': 'NEGATIVE', 'score': 0.9985449314117432}, {'label': 'NEGATIVE', 'score': 0.5707873106002808}, {'label': 'NEGATIVE', 'score': 0.9801082015037537}, {'label': 'POSITIVE', 'score': 0.987666130065918}, {'label': 'POSITIVE', 'score': 0.9708815813064575}, {'label': 'NEGATIVE', 'score': 0.9910792708396912}, {'label': 'NEGATIVE', 'score': 0.9859389066696167}, {'label': 'POSITIVE', 'score': 0.8700416088104248}, {'label': 'NEGATIVE', 'score': 0.9961853623390198}, {'label': 'NEGATIVE', 'score': 0.9957956075668335}, {'label': 'POSITIVE', 'score': 0.9997126460075378}, {'label': 'POSITIVE', 'score': 0.9751792550086975}, {'label': 'NEGATIVE', 'score': 0.9895285964012146}, {'label': 'NEGATIVE', 'score': 0.9885275363922119}, {'label': 'POSITIVE', 'score': 0.9941788911819458}, {'label': 'NEGATIVE', 'score': 0.5703356266021729}, {'label': 'NEGATIVE', 'score': 0.9987537860870361}, {'label': 'POSITIVE', 'score': 0.999040424823761}, {'label': 'POSITIVE', 'score': 0.9995922446250916}, {'label': 'POSITIVE', 'score': 0.9834463000297546}, {'label': 'NEGATIVE', 'score': 0.992976188659668}, {'label': 'NEGATIVE', 'score': 0.9665200114250183}, {'label': 'POSITIVE', 'score': 0.9437589645385742}, {'label': 'NEGATIVE', 'score': 0.9984118938446045}, {'label': 'NEGATIVE', 'score': 0.9307922720909119}, {'label': 'NEGATIVE', 'score': 0.8652870059013367}, {'label': 'POSITIVE', 'score': 0.9936695694923401}, {'label': 'POSITIVE', 'score': 0.9444389939308167}, {'label': 'POSITIVE', 'score': 0.972834050655365}, {'label': 'NEGATIVE', 'score': 0.9499682188034058}, {'label': 'NEGATIVE', 'score': 0.9620509147644043}, {'label': 'NEGATIVE', 'score': 0.9931284189224243}, {'label': 'NEGATIVE', 'score': 0.9713225960731506}, {'label': 'POSITIVE', 'score': 0.9843405485153198}, {'label': 'POSITIVE', 'score': 0.9990667700767517}, {'label': 'NEGATIVE', 'score': 0.8108745217323303}, {'label': 'NEGATIVE', 'score': 0.8246967196464539}, {'label': 'NEGATIVE', 'score': 0.8150671720504761}, {'label': 'NEGATIVE', 'score': 0.998480498790741}, {'label': 'NEGATIVE', 'score': 0.9976971745491028}, {'label': 'POSITIVE', 'score': 0.9998399019241333}, {'label': 'POSITIVE', 'score': 0.999795138835907}, {'label': 'POSITIVE', 'score': 0.9982025623321533}, {'label': 'POSITIVE', 'score': 0.9996625185012817}, {'label': 'POSITIVE', 'score': 0.999872088432312}, {'label': 'POSITIVE', 'score': 0.9993624091148376}, {'label': 'POSITIVE', 'score': 0.997130811214447}, {'label': 'POSITIVE', 'score': 0.9952871799468994}, {'label': 'POSITIVE', 'score': 0.9237673878669739}, {'label': 'NEGATIVE', 'score': 0.9909618496894836}, {'label': 'NEGATIVE', 'score': 0.9973863959312439}, {'label': 'NEGATIVE', 'score': 0.9632186889648438}, {'label': 'NEGATIVE', 'score': 0.9989475607872009}, {'label': 'NEGATIVE', 'score': 0.7930223345756531}, {'label': 'POSITIVE', 'score': 0.936694324016571}, {'label': 'POSITIVE', 'score': 0.9500392079353333}, {'label': 'NEGATIVE', 'score': 0.9996612071990967}, {'label': 'NEGATIVE', 'score': 0.9997178912162781}, {'label': 'NEGATIVE', 'score': 0.9497445225715637}, {'label': 'NEGATIVE', 'score': 0.9991224408149719}, {'label': 'NEGATIVE', 'score': 0.9799503087997437}, {'label': 'NEGATIVE', 'score': 0.9948610663414001}, {'label': 'NEGATIVE', 'score': 0.999642014503479}, {'label': 'NEGATIVE', 'score': 0.997231662273407}, {'label': 'NEGATIVE', 'score': 0.9878661632537842}, {'label': 'NEGATIVE', 'score': 0.8204851150512695}, {'label': 'NEGATIVE', 'score': 0.999729573726654}, {'label': 'NEGATIVE', 'score': 0.8287739753723145}, {'label': 'NEGATIVE', 'score': 0.969808042049408}, {'label': 'POSITIVE', 'score': 0.9980351328849792}, {'label': 'NEGATIVE', 'score': 0.8988945484161377}, {'label': 'POSITIVE', 'score': 0.996684730052948}, {'label': 'NEGATIVE', 'score': 0.9268008470535278}, {'label': 'POSITIVE', 'score': 0.9998675584793091}, {'label': 'NEGATIVE', 'score': 0.9978615641593933}, {'label': 'NEGATIVE', 'score': 0.9893410801887512}, {'label': 'NEGATIVE', 'score': 0.996607780456543}, {'label': 'NEGATIVE', 'score': 0.9508294463157654}, {'label': 'NEGATIVE', 'score': 0.9871640205383301}, {'label': 'NEGATIVE', 'score': 0.9931800365447998}, {'label': 'NEGATIVE', 'score': 0.9393357038497925}, {'label': 'NEGATIVE', 'score': 0.9982653260231018}, {'label': 'POSITIVE', 'score': 0.9988195300102234}, {'label': 'POSITIVE', 'score': 0.5987679362297058}, {'label': 'NEGATIVE', 'score': 0.998331606388092}, {'label': 'NEGATIVE', 'score': 0.9982156753540039}, {'label': 'POSITIVE', 'score': 0.9652372002601624}, {'label': 'POSITIVE', 'score': 0.9996787309646606}, {'label': 'NEGATIVE', 'score': 0.9753956198692322}, {'label': 'POSITIVE', 'score': 0.9945188164710999}, {'label': 'NEGATIVE', 'score': 0.9932559728622437}, {'label': 'NEGATIVE', 'score': 0.9895193576812744}, {'label': 'POSITIVE', 'score': 0.9959841966629028}, {'label': 'NEGATIVE', 'score': 0.9989114999771118}, {'label': 'POSITIVE', 'score': 0.9465637803077698}, {'label': 'NEGATIVE', 'score': 0.996660590171814}, {'label': 'POSITIVE', 'score': 0.990974485874176}, {'label': 'POSITIVE', 'score': 0.9234446287155151}, {'label': 'NEGATIVE', 'score': 0.9785948395729065}, {'label': 'NEGATIVE', 'score': 0.9862074851989746}, {'label': 'NEGATIVE', 'score': 0.9889945387840271}, {'label': 'NEGATIVE', 'score': 0.9755045175552368}, {'label': 'NEGATIVE', 'score': 0.9995965361595154}, {'label': 'NEGATIVE', 'score': 0.9987658262252808}, {'label': 'NEGATIVE', 'score': 0.9987196922302246}, {'label': 'NEGATIVE', 'score': 0.9873833060264587}, {'label': 'NEGATIVE', 'score': 0.9834781289100647}, {'label': 'NEGATIVE', 'score': 0.9681315422058105}, {'label': 'NEGATIVE', 'score': 0.9970470070838928}, {'label': 'NEGATIVE', 'score': 0.9952032566070557}, {'label': 'NEGATIVE', 'score': 0.9959684610366821}, {'label': 'NEGATIVE', 'score': 0.9810417294502258}, {'label': 'NEGATIVE', 'score': 0.5641413927078247}, {'label': 'NEGATIVE', 'score': 0.9997005462646484}, {'label': 'NEGATIVE', 'score': 0.9995299577713013}, {'label': 'NEGATIVE', 'score': 0.9726415276527405}, {'label': 'NEGATIVE', 'score': 0.9907147884368896}, {'label': 'NEGATIVE', 'score': 0.9949904084205627}, {'label': 'NEGATIVE', 'score': 0.9991806149482727}, {'label': 'NEGATIVE', 'score': 0.9976131916046143}, {'label': 'NEGATIVE', 'score': 0.9905733466148376}, {'label': 'NEGATIVE', 'score': 0.9947354197502136}, {'label': 'NEGATIVE', 'score': 0.9982213377952576}, {'label': 'NEGATIVE', 'score': 0.9118959307670593}, {'label': 'NEGATIVE', 'score': 0.9123202562332153}, {'label': 'NEGATIVE', 'score': 0.9965415596961975}, {'label': 'POSITIVE', 'score': 0.9677828550338745}, {'label': 'POSITIVE', 'score': 0.9979945421218872}, {'label': 'NEGATIVE', 'score': 0.9996626377105713}, {'label': 'NEGATIVE', 'score': 0.9955332279205322}, {'label': 'NEGATIVE', 'score': 0.9876623153686523}, {'label': 'NEGATIVE', 'score': 0.9936072826385498}, {'label': 'NEGATIVE', 'score': 0.7269859313964844}, {'label': 'NEGATIVE', 'score': 0.998741090297699}, {'label': 'POSITIVE', 'score': 0.5792481303215027}, {'label': 'POSITIVE', 'score': 0.9982407093048096}, {'label': 'NEGATIVE', 'score': 0.9981443881988525}, {'label': 'NEGATIVE', 'score': 0.9179008603096008}, {'label': 'POSITIVE', 'score': 0.8974429965019226}, {'label': 'POSITIVE', 'score': 0.9696583151817322}, {'label': 'NEGATIVE', 'score': 0.9978218078613281}, {'label': 'NEGATIVE', 'score': 0.9832873344421387}, {'label': 'NEGATIVE', 'score': 0.9993200302124023}, {'label': 'POSITIVE', 'score': 0.7288876175880432}, {'label': 'POSITIVE', 'score': 0.9797995686531067}, {'label': 'POSITIVE', 'score': 0.9996315240859985}, {'label': 'NEGATIVE', 'score': 0.9694663286209106}, {'label': 'POSITIVE', 'score': 0.8276441693305969}, {'label': 'POSITIVE', 'score': 0.9982007741928101}, {'label': 'NEGATIVE', 'score': 0.9399866461753845}, {'label': 'NEGATIVE', 'score': 0.9937896132469177}, {'label': 'NEGATIVE', 'score': 0.9831811785697937}, {'label': 'NEGATIVE', 'score': 0.7387596368789673}, {'label': 'NEGATIVE', 'score': 0.9939978122711182}, {'label': 'NEGATIVE', 'score': 0.9795764684677124}, {'label': 'NEGATIVE', 'score': 0.9988464117050171}, {'label': 'NEGATIVE', 'score': 0.6904381513595581}, {'label': 'NEGATIVE', 'score': 0.9570377469062805}, {'label': 'POSITIVE', 'score': 0.9974811673164368}, {'label': 'POSITIVE', 'score': 0.99918133020401}, {'label': 'POSITIVE', 'score': 0.9843229651451111}, {'label': 'NEGATIVE', 'score': 0.9996992349624634}, {'label': 'NEGATIVE', 'score': 0.9945394396781921}, {'label': 'NEGATIVE', 'score': 0.9910162687301636}, {'label': 'POSITIVE', 'score': 0.9850655198097229}, {'label': 'POSITIVE', 'score': 0.9983397722244263}, {'label': 'POSITIVE', 'score': 0.9991359114646912}, {'label': 'POSITIVE', 'score': 0.9862171411514282}, {'label': 'NEGATIVE', 'score': 0.9994913339614868}, {'label': 'POSITIVE', 'score': 0.9978538155555725}, {'label': 'NEGATIVE', 'score': 0.9990155696868896}, {'label': 'POSITIVE', 'score': 0.9886143207550049}, {'label': 'NEGATIVE', 'score': 0.9997946619987488}, {'label': 'NEGATIVE', 'score': 0.9992233514785767}, {'label': 'POSITIVE', 'score': 0.7986976504325867}, {'label': 'POSITIVE', 'score': 0.9926626682281494}, {'label': 'NEGATIVE', 'score': 0.7206422090530396}, {'label': 'NEGATIVE', 'score': 0.5069898366928101}, {'label': 'NEGATIVE', 'score': 0.990892767906189}, {'label': 'NEGATIVE', 'score': 0.9813122153282166}, {'label': 'POSITIVE', 'score': 0.996863842010498}, {'label': 'NEGATIVE', 'score': 0.9931290149688721}, {'label': 'POSITIVE', 'score': 0.9837014079093933}, {'label': 'POSITIVE', 'score': 0.514350414276123}, {'label': 'NEGATIVE', 'score': 0.99033522605896}, {'label': 'POSITIVE', 'score': 0.8942960500717163}, {'label': 'NEGATIVE', 'score': 0.9792308807373047}, {'label': 'POSITIVE', 'score': 0.9877249598503113}, {'label': 'POSITIVE', 'score': 0.7515271306037903}, {'label': 'POSITIVE', 'score': 0.5930384397506714}, {'label': 'POSITIVE', 'score': 0.9419112801551819}, {'label': 'NEGATIVE', 'score': 0.9928829669952393}, {'label': 'NEGATIVE', 'score': 0.9593887329101562}, {'label': 'NEGATIVE', 'score': 0.9919657707214355}, {'label': 'NEGATIVE', 'score': 0.9972854852676392}, {'label': 'POSITIVE', 'score': 0.9809290766716003}, {'label': 'NEGATIVE', 'score': 0.9904083013534546}, {'label': 'NEGATIVE', 'score': 0.9983001351356506}, {'label': 'NEGATIVE', 'score': 0.9932829141616821}, {'label': 'NEGATIVE', 'score': 0.9959245920181274}, {'label': 'POSITIVE', 'score': 0.9979310035705566}, {'label': 'NEGATIVE', 'score': 0.9987743496894836}, {'label': 'POSITIVE', 'score': 0.9872839450836182}, {'label': 'POSITIVE', 'score': 0.9818601012229919}, {'label': 'NEGATIVE', 'score': 0.9917641282081604}, {'label': 'POSITIVE', 'score': 0.9915772676467896}, {'label': 'POSITIVE', 'score': 0.9941658973693848}, {'label': 'NEGATIVE', 'score': 0.9957347512245178}, {'label': 'NEGATIVE', 'score': 0.9895424842834473}, {'label': 'POSITIVE', 'score': 0.9989275336265564}, {'label': 'POSITIVE', 'score': 0.9620768427848816}, {'label': 'NEGATIVE', 'score': 0.999072790145874}, {'label': 'NEGATIVE', 'score': 0.9987572431564331}, {'label': 'POSITIVE', 'score': 0.9984614849090576}, {'label': 'POSITIVE', 'score': 0.9976048469543457}, {'label': 'POSITIVE', 'score': 0.9794076681137085}, {'label': 'NEGATIVE', 'score': 0.9837160110473633}, {'label': 'POSITIVE', 'score': 0.9989401698112488}, {'label': 'POSITIVE', 'score': 0.9143674373626709}, {'label': 'NEGATIVE', 'score': 0.9965536594390869}, {'label': 'NEGATIVE', 'score': 0.9966955184936523}, {'label': 'NEGATIVE', 'score': 0.993699312210083}, {'label': 'POSITIVE', 'score': 0.9337886571884155}, {'label': 'NEGATIVE', 'score': 0.9847109913825989}, {'label': 'NEGATIVE', 'score': 0.998586893081665}, {'label': 'NEGATIVE', 'score': 0.962285578250885}, {'label': 'NEGATIVE', 'score': 0.9997654557228088}, {'label': 'NEGATIVE', 'score': 0.9835772514343262}, {'label': 'NEGATIVE', 'score': 0.9996139407157898}, {'label': 'NEGATIVE', 'score': 0.9997451901435852}, {'label': 'POSITIVE', 'score': 0.986932098865509}, {'label': 'POSITIVE', 'score': 0.7978151440620422}, {'label': 'POSITIVE', 'score': 0.9997537732124329}, {'label': 'NEGATIVE', 'score': 0.9810051918029785}, {'label': 'NEGATIVE', 'score': 0.6087570786476135}, {'label': 'NEGATIVE', 'score': 0.7967003583908081}, {'label': 'NEGATIVE', 'score': 0.9672974944114685}, {'label': 'NEGATIVE', 'score': 0.8428414463996887}, {'label': 'NEGATIVE', 'score': 0.9786969423294067}, {'label': 'POSITIVE', 'score': 0.8456355929374695}, {'label': 'POSITIVE', 'score': 0.9889145493507385}, {'label': 'POSITIVE', 'score': 0.9989271759986877}, {'label': 'NEGATIVE', 'score': 0.9994211196899414}, {'label': 'POSITIVE', 'score': 0.9943643808364868}, {'label': 'POSITIVE', 'score': 0.981928825378418}, {'label': 'NEGATIVE', 'score': 0.9162810444831848}, {'label': 'POSITIVE', 'score': 0.665052592754364}, {'label': 'NEGATIVE', 'score': 0.9889758825302124}, {'label': 'NEGATIVE', 'score': 0.983230710029602}, {'label': 'NEGATIVE', 'score': 0.9996895790100098}, {'label': 'NEGATIVE', 'score': 0.9773237109184265}, {'label': 'NEGATIVE', 'score': 0.9644395112991333}, {'label': 'NEGATIVE', 'score': 0.9703092575073242}, {'label': 'NEGATIVE', 'score': 0.995153546333313}, {'label': 'NEGATIVE', 'score': 0.9923380017280579}, {'label': 'NEGATIVE', 'score': 0.997983455657959}, {'label': 'NEGATIVE', 'score': 0.9699265956878662}, {'label': 'NEGATIVE', 'score': 0.9911282062530518}, {'label': 'NEGATIVE', 'score': 0.9990748167037964}, {'label': 'NEGATIVE', 'score': 0.9778398871421814}, {'label': 'NEGATIVE', 'score': 0.9900866150856018}, {'label': 'NEGATIVE', 'score': 0.9834481477737427}, {'label': 'NEGATIVE', 'score': 0.6587937474250793}, {'label': 'POSITIVE', 'score': 0.9627677798271179}, {'label': 'NEGATIVE', 'score': 0.9839619398117065}, {'label': 'NEGATIVE', 'score': 0.9912053942680359}, {'label': 'NEGATIVE', 'score': 0.9844608902931213}, {'label': 'NEGATIVE', 'score': 0.9770862460136414}, {'label': 'NEGATIVE', 'score': 0.9981752634048462}, {'label': 'NEGATIVE', 'score': 0.995711088180542}, {'label': 'NEGATIVE', 'score': 0.9925122261047363}, {'label': 'NEGATIVE', 'score': 0.9973100423812866}, {'label': 'NEGATIVE', 'score': 0.9884214401245117}, {'label': 'NEGATIVE', 'score': 0.9903386235237122}, {'label': 'NEGATIVE', 'score': 0.9986476302146912}, {'label': 'POSITIVE', 'score': 0.9944425225257874}, {'label': 'NEGATIVE', 'score': 0.9906189441680908}, {'label': 'NEGATIVE', 'score': 0.9981846213340759}, {'label': 'NEGATIVE', 'score': 0.998734176158905}, {'label': 'POSITIVE', 'score': 0.9315485954284668}, {'label': 'NEGATIVE', 'score': 0.9903467297554016}, {'label': 'POSITIVE', 'score': 0.9984362721443176}, {'label': 'NEGATIVE', 'score': 0.9651045799255371}, {'label': 'NEGATIVE', 'score': 0.8914468884468079}, {'label': 'POSITIVE', 'score': 0.6052219271659851}, {'label': 'POSITIVE', 'score': 0.9120643734931946}, {'label': 'NEGATIVE', 'score': 0.9228992462158203}, {'label': 'NEGATIVE', 'score': 0.9591827988624573}, {'label': 'NEGATIVE', 'score': 0.971535861492157}, {'label': 'NEGATIVE', 'score': 0.9201146364212036}, {'label': 'POSITIVE', 'score': 0.9839170575141907}, {'label': 'NEGATIVE', 'score': 0.9959793090820312}, {'label': 'NEGATIVE', 'score': 0.9976105690002441}, {'label': 'NEGATIVE', 'score': 0.5047127604484558}, {'label': 'POSITIVE', 'score': 0.9801361560821533}, {'label': 'NEGATIVE', 'score': 0.9825345873832703}, {'label': 'POSITIVE', 'score': 0.8235751390457153}, {'label': 'NEGATIVE', 'score': 0.9822940826416016}, {'label': 'NEGATIVE', 'score': 0.8033613562583923}, {'label': 'POSITIVE', 'score': 0.9899657964706421}, {'label': 'POSITIVE', 'score': 0.9851904511451721}, {'label': 'NEGATIVE', 'score': 0.9309498071670532}, {'label': 'POSITIVE', 'score': 0.9830387830734253}, {'label': 'NEGATIVE', 'score': 0.990288257598877}, {'label': 'NEGATIVE', 'score': 0.9428781867027283}, {'label': 'NEGATIVE', 'score': 0.996841549873352}, {'label': 'NEGATIVE', 'score': 0.9918773174285889}, {'label': 'NEGATIVE', 'score': 0.999413251876831}, {'label': 'NEGATIVE', 'score': 0.998006284236908}, {'label': 'NEGATIVE', 'score': 0.970215916633606}, {'label': 'NEGATIVE', 'score': 0.9941264390945435}, {'label': 'NEGATIVE', 'score': 0.7482185959815979}, {'label': 'NEGATIVE', 'score': 0.9981478452682495}, {'label': 'NEGATIVE', 'score': 0.9941030144691467}, {'label': 'NEGATIVE', 'score': 0.9930566549301147}, {'label': 'POSITIVE', 'score': 0.9991219639778137}, {'label': 'NEGATIVE', 'score': 0.9992983341217041}, {'label': 'NEGATIVE', 'score': 0.9878443479537964}, {'label': 'NEGATIVE', 'score': 0.9852195978164673}, {'label': 'NEGATIVE', 'score': 0.9923326969146729}, {'label': 'NEGATIVE', 'score': 0.9964577555656433}, {'label': 'NEGATIVE', 'score': 0.9643706679344177}, {'label': 'POSITIVE', 'score': 0.9986376166343689}, {'label': 'NEGATIVE', 'score': 0.5809586048126221}, {'label': 'NEGATIVE', 'score': 0.978367805480957}, {'label': 'NEGATIVE', 'score': 0.9868841171264648}, {'label': 'NEGATIVE', 'score': 0.999674916267395}, {'label': 'POSITIVE', 'score': 0.9984686970710754}, {'label': 'POSITIVE', 'score': 0.9975458979606628}, {'label': 'NEGATIVE', 'score': 0.9970581531524658}, {'label': 'POSITIVE', 'score': 0.9840202331542969}, {'label': 'POSITIVE', 'score': 0.9595345258712769}, {'label': 'POSITIVE', 'score': 0.9987088441848755}, {'label': 'POSITIVE', 'score': 0.9986795783042908}, {'label': 'NEGATIVE', 'score': 0.6479047536849976}, {'label': 'NEGATIVE', 'score': 0.9402822852134705}, {'label': 'NEGATIVE', 'score': 0.9437799453735352}, {'label': 'NEGATIVE', 'score': 0.989375114440918}, {'label': 'NEGATIVE', 'score': 0.9637993574142456}, {'label': 'NEGATIVE', 'score': 0.9511323571205139}, {'label': 'NEGATIVE', 'score': 0.9915363788604736}, {'label': 'POSITIVE', 'score': 0.9941044449806213}, {'label': 'NEGATIVE', 'score': 0.9903023838996887}, {'label': 'POSITIVE', 'score': 0.9499161839485168}, {'label': 'NEGATIVE', 'score': 0.9940354824066162}, {'label': 'POSITIVE', 'score': 0.9970398545265198}, {'label': 'NEGATIVE', 'score': 0.9952933192253113}, {'label': 'NEGATIVE', 'score': 0.9997610449790955}, {'label': 'NEGATIVE', 'score': 0.9994828701019287}, {'label': 'NEGATIVE', 'score': 0.946334719657898}, {'label': 'POSITIVE', 'score': 0.9983096122741699}, {'label': 'NEGATIVE', 'score': 0.9934718608856201}, {'label': 'NEGATIVE', 'score': 0.9928158521652222}, {'label': 'NEGATIVE', 'score': 0.882387101650238}, {'label': 'POSITIVE', 'score': 0.8371632695198059}, {'label': 'NEGATIVE', 'score': 0.9982596039772034}, {'label': 'NEGATIVE', 'score': 0.9979496598243713}, {'label': 'POSITIVE', 'score': 0.7950854897499084}, {'label': 'NEGATIVE', 'score': 0.9971151351928711}, {'label': 'NEGATIVE', 'score': 0.9862508773803711}, {'label': 'NEGATIVE', 'score': 0.9961898326873779}, {'label': 'NEGATIVE', 'score': 0.9986201524734497}, {'label': 'NEGATIVE', 'score': 0.9982315897941589}, {'label': 'NEGATIVE', 'score': 0.9982277750968933}, {'label': 'NEGATIVE', 'score': 0.9931897521018982}, {'label': 'NEGATIVE', 'score': 0.9996989965438843}, {'label': 'NEGATIVE', 'score': 0.999100923538208}, {'label': 'NEGATIVE', 'score': 0.993341863155365}, {'label': 'NEGATIVE', 'score': 0.766866147518158}, {'label': 'NEGATIVE', 'score': 0.9972372055053711}, {'label': 'NEGATIVE', 'score': 0.9991151690483093}, {'label': 'POSITIVE', 'score': 0.9969712495803833}, {'label': 'NEGATIVE', 'score': 0.6356162428855896}, {'label': 'POSITIVE', 'score': 0.9050616025924683}, {'label': 'NEGATIVE', 'score': 0.9819763898849487}, {'label': 'NEGATIVE', 'score': 0.9851154685020447}, {'label': 'NEGATIVE', 'score': 0.984258770942688}, {'label': 'NEGATIVE', 'score': 0.9604378342628479}, {'label': 'NEGATIVE', 'score': 0.9985945820808411}, {'label': 'NEGATIVE', 'score': 0.9851979613304138}, {'label': 'POSITIVE', 'score': 0.9678016901016235}, {'label': 'POSITIVE', 'score': 0.7039703726768494}, {'label': 'POSITIVE', 'score': 0.855298638343811}, {'label': 'NEGATIVE', 'score': 0.9850683808326721}, {'label': 'POSITIVE', 'score': 0.9894234538078308}, {'label': 'NEGATIVE', 'score': 0.7779603600502014}, {'label': 'POSITIVE', 'score': 0.9972161054611206}, {'label': 'POSITIVE', 'score': 0.9904916882514954}, {'label': 'POSITIVE', 'score': 0.9659922122955322}, {'label': 'NEGATIVE', 'score': 0.998522937297821}, {'label': 'POSITIVE', 'score': 0.9720582365989685}, {'label': 'NEGATIVE', 'score': 0.9161058068275452}, {'label': 'NEGATIVE', 'score': 0.999055802822113}, {'label': 'NEGATIVE', 'score': 0.980014443397522}, {'label': 'NEGATIVE', 'score': 0.9911382794380188}, {'label': 'NEGATIVE', 'score': 0.9935964345932007}, {'label': 'NEGATIVE', 'score': 0.9984342455863953}, {'label': 'POSITIVE', 'score': 0.9610021710395813}, {'label': 'NEGATIVE', 'score': 0.9988009929656982}, {'label': 'NEGATIVE', 'score': 0.9987420439720154}, {'label': 'NEGATIVE', 'score': 0.9943091869354248}, {'label': 'NEGATIVE', 'score': 0.9575497508049011}, {'label': 'POSITIVE', 'score': 0.9425076246261597}, {'label': 'NEGATIVE', 'score': 0.9968055486679077}, {'label': 'NEGATIVE', 'score': 0.9977262616157532}, {'label': 'NEGATIVE', 'score': 0.9995976090431213}, {'label': 'NEGATIVE', 'score': 0.9997368454933167}, {'label': 'NEGATIVE', 'score': 0.9992411136627197}, {'label': 'NEGATIVE', 'score': 0.9936144351959229}, {'label': 'NEGATIVE', 'score': 0.8951419591903687}, {'label': 'NEGATIVE', 'score': 0.9971619844436646}, {'label': 'NEGATIVE', 'score': 0.9931358098983765}, {'label': 'NEGATIVE', 'score': 0.9765850901603699}, {'label': 'NEGATIVE', 'score': 0.9947890043258667}, {'label': 'POSITIVE', 'score': 0.9996368885040283}, {'label': 'NEGATIVE', 'score': 0.9562013149261475}, {'label': 'NEGATIVE', 'score': 0.992695689201355}, {'label': 'POSITIVE', 'score': 0.9958165287971497}, {'label': 'NEGATIVE', 'score': 0.9826529026031494}, {'label': 'NEGATIVE', 'score': 0.9963923096656799}, {'label': 'NEGATIVE', 'score': 0.9878752827644348}, {'label': 'NEGATIVE', 'score': 0.9962254762649536}, {'label': 'NEGATIVE', 'score': 0.9996998310089111}, {'label': 'NEGATIVE', 'score': 0.9932307004928589}, {'label': 'NEGATIVE', 'score': 0.9825515151023865}, {'label': 'NEGATIVE', 'score': 0.9966779947280884}, {'label': 'NEGATIVE', 'score': 0.9623333811759949}, {'label': 'NEGATIVE', 'score': 0.908875584602356}, {'label': 'POSITIVE', 'score': 0.9875739216804504}, {'label': 'NEGATIVE', 'score': 0.9940203428268433}, {'label': 'NEGATIVE', 'score': 0.9992741942405701}, {'label': 'NEGATIVE', 'score': 0.9980370402336121}, {'label': 'NEGATIVE', 'score': 0.9971628785133362}, {'label': 'NEGATIVE', 'score': 0.994631290435791}, {'label': 'NEGATIVE', 'score': 0.9699798822402954}, {'label': 'NEGATIVE', 'score': 0.9968276619911194}, {'label': 'NEGATIVE', 'score': 0.9889228343963623}, {'label': 'NEGATIVE', 'score': 0.9995943903923035}, {'label': 'NEGATIVE', 'score': 0.9989321827888489}, {'label': 'NEGATIVE', 'score': 0.9993163347244263}, {'label': 'NEGATIVE', 'score': 0.9995346069335938}, {'label': 'NEGATIVE', 'score': 0.9962862730026245}, {'label': 'NEGATIVE', 'score': 0.9996682405471802}, {'label': 'NEGATIVE', 'score': 0.9993398785591125}, {'label': 'NEGATIVE', 'score': 0.9667876958847046}, {'label': 'NEGATIVE', 'score': 0.9965319633483887}, {'label': 'NEGATIVE', 'score': 0.99750816822052}, {'label': 'NEGATIVE', 'score': 0.997318685054779}, {'label': 'POSITIVE', 'score': 0.5218302607536316}, {'label': 'NEGATIVE', 'score': 0.7192448377609253}, {'label': 'NEGATIVE', 'score': 0.9934972524642944}, {'label': 'NEGATIVE', 'score': 0.9943856000900269}, {'label': 'POSITIVE', 'score': 0.9709060788154602}, {'label': 'POSITIVE', 'score': 0.8484629392623901}, {'label': 'NEGATIVE', 'score': 0.7176567316055298}, {'label': 'NEGATIVE', 'score': 0.7918572425842285}, {'label': 'POSITIVE', 'score': 0.9884850978851318}, {'label': 'NEGATIVE', 'score': 0.9829846024513245}, {'label': 'NEGATIVE', 'score': 0.895542562007904}, {'label': 'NEGATIVE', 'score': 0.7175851464271545}, {'label': 'POSITIVE', 'score': 0.6293293833732605}, {'label': 'NEGATIVE', 'score': 0.9617407917976379}, {'label': 'POSITIVE', 'score': 0.9951364398002625}, {'label': 'NEGATIVE', 'score': 0.9571524858474731}, {'label': 'NEGATIVE', 'score': 0.9871610403060913}, {'label': 'POSITIVE', 'score': 0.9973600506782532}, {'label': 'POSITIVE', 'score': 0.9972739815711975}, {'label': 'NEGATIVE', 'score': 0.9962266683578491}, {'label': 'NEGATIVE', 'score': 0.9984343647956848}, {'label': 'POSITIVE', 'score': 0.9745246767997742}, {'label': 'POSITIVE', 'score': 0.8857154250144958}, {'label': 'NEGATIVE', 'score': 0.9834768176078796}, {'label': 'NEGATIVE', 'score': 0.9837132692337036}, {'label': 'NEGATIVE', 'score': 0.9825765490531921}, {'label': 'NEGATIVE', 'score': 0.9776346683502197}, {'label': 'POSITIVE', 'score': 0.9927176237106323}, {'label': 'NEGATIVE', 'score': 0.9918946623802185}, {'label': 'NEGATIVE', 'score': 0.6311306953430176}, {'label': 'NEGATIVE', 'score': 0.7605704069137573}, {'label': 'POSITIVE', 'score': 0.9294731020927429}, {'label': 'NEGATIVE', 'score': 0.6117780804634094}, {'label': 'POSITIVE', 'score': 0.9906122088432312}, {'label': 'NEGATIVE', 'score': 0.9995168447494507}, {'label': 'POSITIVE', 'score': 0.9938458800315857}, {'label': 'POSITIVE', 'score': 0.9707717895507812}, {'label': 'POSITIVE', 'score': 0.992551326751709}, {'label': 'POSITIVE', 'score': 0.9864068627357483}, {'label': 'POSITIVE', 'score': 0.9932164549827576}, {'label': 'NEGATIVE', 'score': 0.9906156063079834}, {'label': 'POSITIVE', 'score': 0.9945586323738098}, {'label': 'NEGATIVE', 'score': 0.9948633313179016}, {'label': 'NEGATIVE', 'score': 0.9931190013885498}, {'label': 'POSITIVE', 'score': 0.9924495220184326}, {'label': 'NEGATIVE', 'score': 0.9688882231712341}, {'label': 'NEGATIVE', 'score': 0.9943880438804626}, {'label': 'NEGATIVE', 'score': 0.9942572116851807}, {'label': 'NEGATIVE', 'score': 0.9920607805252075}, {'label': 'NEGATIVE', 'score': 0.9878629446029663}, {'label': 'POSITIVE', 'score': 0.9975608587265015}, {'label': 'POSITIVE', 'score': 0.9928746223449707}, {'label': 'NEGATIVE', 'score': 0.9934813976287842}, {'label': 'NEGATIVE', 'score': 0.8372358083724976}, {'label': 'NEGATIVE', 'score': 0.9611643552780151}, {'label': 'NEGATIVE', 'score': 0.9275383949279785}, {'label': 'POSITIVE', 'score': 0.9996907711029053}, {'label': 'NEGATIVE', 'score': 0.9994413256645203}, {'label': 'POSITIVE', 'score': 0.9709382057189941}, {'label': 'NEGATIVE', 'score': 0.9200067520141602}, {'label': 'NEGATIVE', 'score': 0.9968256950378418}, {'label': 'NEGATIVE', 'score': 0.9240747094154358}, {'label': 'NEGATIVE', 'score': 0.9531771540641785}, {'label': 'NEGATIVE', 'score': 0.791445255279541}, {'label': 'POSITIVE', 'score': 0.8121923208236694}, {'label': 'NEGATIVE', 'score': 0.9811118245124817}, {'label': 'NEGATIVE', 'score': 0.9899210929870605}, {'label': 'POSITIVE', 'score': 0.9990053772926331}, {'label': 'NEGATIVE', 'score': 0.9989694356918335}, {'label': 'NEGATIVE', 'score': 0.9835928678512573}, {'label': 'NEGATIVE', 'score': 0.9914191961288452}, {'label': 'NEGATIVE', 'score': 0.9970441460609436}, {'label': 'NEGATIVE', 'score': 0.994361162185669}, {'label': 'NEGATIVE', 'score': 0.9954720735549927}, {'label': 'NEGATIVE', 'score': 0.8317058682441711}, {'label': 'POSITIVE', 'score': 0.9600136876106262}, {'label': 'NEGATIVE', 'score': 0.8769327402114868}, {'label': 'NEGATIVE', 'score': 0.9941966533660889}, {'label': 'NEGATIVE', 'score': 0.9911382794380188}, {'label': 'NEGATIVE', 'score': 0.9868257641792297}, {'label': 'NEGATIVE', 'score': 0.9949458241462708}, {'label': 'POSITIVE', 'score': 0.9975659847259521}, {'label': 'NEGATIVE', 'score': 0.9904124140739441}, {'label': 'NEGATIVE', 'score': 0.9966248273849487}, {'label': 'NEGATIVE', 'score': 0.9959710240364075}, {'label': 'NEGATIVE', 'score': 0.9978660941123962}, {'label': 'NEGATIVE', 'score': 0.989858090877533}, {'label': 'NEGATIVE', 'score': 0.9948161244392395}, {'label': 'POSITIVE', 'score': 0.9715335965156555}, {'label': 'NEGATIVE', 'score': 0.9957066178321838}, {'label': 'NEGATIVE', 'score': 0.9851018190383911}, {'label': 'POSITIVE', 'score': 0.6481599807739258}, {'label': 'NEGATIVE', 'score': 0.9945099353790283}, {'label': 'NEGATIVE', 'score': 0.9575076699256897}, {'label': 'NEGATIVE', 'score': 0.9886277318000793}, {'label': 'POSITIVE', 'score': 0.986984133720398}, {'label': 'NEGATIVE', 'score': 0.9818269610404968}, {'label': 'POSITIVE', 'score': 0.9759995937347412}, {'label': 'POSITIVE', 'score': 0.8556843400001526}, {'label': 'NEGATIVE', 'score': 0.9884434342384338}, {'label': 'NEGATIVE', 'score': 0.9739459156990051}, {'label': 'NEGATIVE', 'score': 0.9171147346496582}, {'label': 'POSITIVE', 'score': 0.9007728099822998}, {'label': 'NEGATIVE', 'score': 0.989865243434906}, {'label': 'NEGATIVE', 'score': 0.996145486831665}, {'label': 'NEGATIVE', 'score': 0.9971818923950195}, {'label': 'NEGATIVE', 'score': 0.9866002202033997}, {'label': 'NEGATIVE', 'score': 0.8746938705444336}, {'label': 'NEGATIVE', 'score': 0.9254971146583557}, {'label': 'NEGATIVE', 'score': 0.9683416485786438}, {'label': 'POSITIVE', 'score': 0.9434930682182312}, {'label': 'NEGATIVE', 'score': 0.9991075396537781}, {'label': 'NEGATIVE', 'score': 0.9771966934204102}, {'label': 'NEGATIVE', 'score': 0.9800050258636475}, {'label': 'NEGATIVE', 'score': 0.9837812185287476}, {'label': 'NEGATIVE', 'score': 0.9890919923782349}, {'label': 'NEGATIVE', 'score': 0.9906646013259888}, {'label': 'POSITIVE', 'score': 0.990279495716095}, {'label': 'POSITIVE', 'score': 0.6805553436279297}, {'label': 'NEGATIVE', 'score': 0.9851313233375549}, {'label': 'POSITIVE', 'score': 0.9958900809288025}, {'label': 'POSITIVE', 'score': 0.9702603220939636}, {'label': 'NEGATIVE', 'score': 0.997469425201416}, {'label': 'NEGATIVE', 'score': 0.9978886246681213}, {'label': 'NEGATIVE', 'score': 0.760901927947998}, {'label': 'NEGATIVE', 'score': 0.9795544147491455}, {'label': 'POSITIVE', 'score': 0.9949573874473572}, {'label': 'NEGATIVE', 'score': 0.9984775185585022}, {'label': 'NEGATIVE', 'score': 0.9843990802764893}, {'label': 'POSITIVE', 'score': 0.6690601706504822}, {'label': 'NEGATIVE', 'score': 0.9978713989257812}, {'label': 'NEGATIVE', 'score': 0.9836766123771667}, {'label': 'NEGATIVE', 'score': 0.9971510767936707}, {'label': 'NEGATIVE', 'score': 0.9271751642227173}, {'label': 'POSITIVE', 'score': 0.9996442794799805}, {'label': 'POSITIVE', 'score': 0.9965506792068481}, {'label': 'NEGATIVE', 'score': 0.9951169490814209}, {'label': 'POSITIVE', 'score': 0.9124361872673035}, {'label': 'NEGATIVE', 'score': 0.9990528225898743}, {'label': 'NEGATIVE', 'score': 0.9983075857162476}, {'label': 'NEGATIVE', 'score': 0.9979087114334106}, {'label': 'NEGATIVE', 'score': 0.9988130331039429}, {'label': 'NEGATIVE', 'score': 0.997819185256958}, {'label': 'NEGATIVE', 'score': 0.9981679916381836}, {'label': 'NEGATIVE', 'score': 0.9984167814254761}, {'label': 'NEGATIVE', 'score': 0.9974676370620728}, {'label': 'NEGATIVE', 'score': 0.9988130331039429}, {'label': 'NEGATIVE', 'score': 0.9986483454704285}, {'label': 'NEGATIVE', 'score': 0.9978146553039551}, {'label': 'NEGATIVE', 'score': 0.9987685084342957}, {'label': 'NEGATIVE', 'score': 0.9971367120742798}, {'label': 'NEGATIVE', 'score': 0.9904568791389465}, {'label': 'NEGATIVE', 'score': 0.999711811542511}, {'label': 'NEGATIVE', 'score': 0.9992311000823975}, {'label': 'NEGATIVE', 'score': 0.9772629141807556}, {'label': 'NEGATIVE', 'score': 0.9989891648292542}, {'label': 'NEGATIVE', 'score': 0.991679847240448}, {'label': 'POSITIVE', 'score': 0.9744865298271179}, {'label': 'NEGATIVE', 'score': 0.9975903034210205}, {'label': 'NEGATIVE', 'score': 0.9925859570503235}, {'label': 'NEGATIVE', 'score': 0.9990702271461487}, {'label': 'NEGATIVE', 'score': 0.9951634407043457}, {'label': 'NEGATIVE', 'score': 0.9664615392684937}, {'label': 'NEGATIVE', 'score': 0.9907461404800415}, {'label': 'NEGATIVE', 'score': 0.986225962638855}, {'label': 'NEGATIVE', 'score': 0.9976962208747864}, {'label': 'NEGATIVE', 'score': 0.9971352815628052}, {'label': 'NEGATIVE', 'score': 0.9758872985839844}, {'label': 'NEGATIVE', 'score': 0.9905673861503601}, {'label': 'NEGATIVE', 'score': 0.997426450252533}, {'label': 'NEGATIVE', 'score': 0.9953063130378723}, {'label': 'NEGATIVE', 'score': 0.9949713945388794}, {'label': 'NEGATIVE', 'score': 0.9983899593353271}, {'label': 'NEGATIVE', 'score': 0.9890929460525513}, {'label': 'NEGATIVE', 'score': 0.9978762865066528}, {'label': 'NEGATIVE', 'score': 0.9760812520980835}, {'label': 'NEGATIVE', 'score': 0.9731007218360901}, {'label': 'NEGATIVE', 'score': 0.9913647174835205}, {'label': 'NEGATIVE', 'score': 0.9367650151252747}, {'label': 'NEGATIVE', 'score': 0.9955947995185852}, {'label': 'NEGATIVE', 'score': 0.9889933466911316}, {'label': 'NEGATIVE', 'score': 0.9377161264419556}, {'label': 'NEGATIVE', 'score': 0.9997867941856384}, {'label': 'NEGATIVE', 'score': 0.890738844871521}, {'label': 'NEGATIVE', 'score': 0.9778149724006653}, {'label': 'NEGATIVE', 'score': 0.9983194470405579}, {'label': 'NEGATIVE', 'score': 0.9995842576026917}, {'label': 'NEGATIVE', 'score': 0.9965807795524597}, {'label': 'NEGATIVE', 'score': 0.9945192933082581}, {'label': 'NEGATIVE', 'score': 0.9962297081947327}, {'label': 'NEGATIVE', 'score': 0.9960485100746155}, {'label': 'NEGATIVE', 'score': 0.9267292618751526}, {'label': 'NEGATIVE', 'score': 0.997190535068512}, {'label': 'NEGATIVE', 'score': 0.9969481825828552}, {'label': 'NEGATIVE', 'score': 0.9993011951446533}, {'label': 'POSITIVE', 'score': 0.5133038759231567}, {'label': 'NEGATIVE', 'score': 0.9960741996765137}, {'label': 'NEGATIVE', 'score': 0.994742751121521}, {'label': 'NEGATIVE', 'score': 0.9159870743751526}, {'label': 'NEGATIVE', 'score': 0.9801174998283386}, {'label': 'NEGATIVE', 'score': 0.9841760993003845}, {'label': 'NEGATIVE', 'score': 0.9744885563850403}, {'label': 'NEGATIVE', 'score': 0.992274820804596}, {'label': 'NEGATIVE', 'score': 0.9980067610740662}, {'label': 'NEGATIVE', 'score': 0.9594076871871948}, {'label': 'NEGATIVE', 'score': 0.987686276435852}, {'label': 'NEGATIVE', 'score': 0.9991818070411682}, {'label': 'NEGATIVE', 'score': 0.9989714622497559}, {'label': 'NEGATIVE', 'score': 0.9877943992614746}, {'label': 'NEGATIVE', 'score': 0.998539924621582}, {'label': 'NEGATIVE', 'score': 0.9714134931564331}, {'label': 'POSITIVE', 'score': 0.9455687999725342}, {'label': 'NEGATIVE', 'score': 0.9937348961830139}, {'label': 'NEGATIVE', 'score': 0.9958456158638}, {'label': 'NEGATIVE', 'score': 0.995682954788208}, {'label': 'NEGATIVE', 'score': 0.9951926469802856}, {'label': 'NEGATIVE', 'score': 0.9959050416946411}, {'label': 'NEGATIVE', 'score': 0.9980048537254333}, {'label': 'NEGATIVE', 'score': 0.9982765913009644}, {'label': 'NEGATIVE', 'score': 0.9976962208747864}, {'label': 'NEGATIVE', 'score': 0.9060669541358948}, {'label': 'NEGATIVE', 'score': 0.9959564805030823}, {'label': 'NEGATIVE', 'score': 0.9959650039672852}, {'label': 'NEGATIVE', 'score': 0.9978463649749756}, {'label': 'NEGATIVE', 'score': 0.9974325299263}, {'label': 'NEGATIVE', 'score': 0.9963416457176208}, {'label': 'NEGATIVE', 'score': 0.9970888495445251}, {'label': 'NEGATIVE', 'score': 0.9935164451599121}, {'label': 'NEGATIVE', 'score': 0.9928088188171387}, {'label': 'NEGATIVE', 'score': 0.9944536089897156}, {'label': 'NEGATIVE', 'score': 0.9842228293418884}, {'label': 'NEGATIVE', 'score': 0.9965655207633972}, {'label': 'NEGATIVE', 'score': 0.993241548538208}, {'label': 'NEGATIVE', 'score': 0.900672972202301}, {'label': 'NEGATIVE', 'score': 0.9777323007583618}, {'label': 'NEGATIVE', 'score': 0.663226306438446}, {'label': 'POSITIVE', 'score': 0.96152263879776}, {'label': 'NEGATIVE', 'score': 0.9962490200996399}, {'label': 'NEGATIVE', 'score': 0.9607036709785461}, {'label': 'POSITIVE', 'score': 0.9631528854370117}, {'label': 'NEGATIVE', 'score': 0.9973656535148621}, {'label': 'NEGATIVE', 'score': 0.9580334424972534}, {'label': 'NEGATIVE', 'score': 0.9882861971855164}, {'label': 'NEGATIVE', 'score': 0.9921187162399292}, {'label': 'NEGATIVE', 'score': 0.9994755387306213}, {'label': 'NEGATIVE', 'score': 0.9903073310852051}, {'label': 'NEGATIVE', 'score': 0.9862538576126099}, {'label': 'NEGATIVE', 'score': 0.9819341897964478}, {'label': 'NEGATIVE', 'score': 0.9746350646018982}, {'label': 'NEGATIVE', 'score': 0.9933786392211914}, {'label': 'NEGATIVE', 'score': 0.996817946434021}, {'label': 'NEGATIVE', 'score': 0.9988892674446106}, {'label': 'NEGATIVE', 'score': 0.9978010058403015}, {'label': 'NEGATIVE', 'score': 0.9954690933227539}, {'label': 'NEGATIVE', 'score': 0.7332590818405151}, {'label': 'NEGATIVE', 'score': 0.9931529760360718}, {'label': 'NEGATIVE', 'score': 0.9965918064117432}, {'label': 'NEGATIVE', 'score': 0.9979934692382812}, {'label': 'NEGATIVE', 'score': 0.9949268102645874}, {'label': 'NEGATIVE', 'score': 0.9945066571235657}, {'label': 'NEGATIVE', 'score': 0.9803393483161926}, {'label': 'NEGATIVE', 'score': 0.9919393658638}, {'label': 'NEGATIVE', 'score': 0.9893119931221008}, {'label': 'NEGATIVE', 'score': 0.9908515810966492}, {'label': 'NEGATIVE', 'score': 0.9743155241012573}, {'label': 'NEGATIVE', 'score': 0.978295624256134}, {'label': 'NEGATIVE', 'score': 0.9883556365966797}, {'label': 'NEGATIVE', 'score': 0.9938911199569702}, {'label': 'NEGATIVE', 'score': 0.9964536428451538}, {'label': 'NEGATIVE', 'score': 0.9987273812294006}, {'label': 'NEGATIVE', 'score': 0.9904986023902893}, {'label': 'NEGATIVE', 'score': 0.9990074038505554}, {'label': 'NEGATIVE', 'score': 0.9959554672241211}, {'label': 'NEGATIVE', 'score': 0.9259894490242004}, {'label': 'NEGATIVE', 'score': 0.9776625037193298}, {'label': 'NEGATIVE', 'score': 0.9985979199409485}, {'label': 'NEGATIVE', 'score': 0.9977778792381287}, {'label': 'NEGATIVE', 'score': 0.9848666787147522}, {'label': 'NEGATIVE', 'score': 0.9870206713676453}, {'label': 'NEGATIVE', 'score': 0.9730724096298218}, {'label': 'NEGATIVE', 'score': 0.9979444146156311}, {'label': 'NEGATIVE', 'score': 0.9685026407241821}, {'label': 'NEGATIVE', 'score': 0.9991750121116638}, {'label': 'NEGATIVE', 'score': 0.9933071732521057}, {'label': 'NEGATIVE', 'score': 0.9987357258796692}, {'label': 'NEGATIVE', 'score': 0.995662271976471}, {'label': 'NEGATIVE', 'score': 0.9924309849739075}, {'label': 'NEGATIVE', 'score': 0.9038307666778564}, {'label': 'NEGATIVE', 'score': 0.988375186920166}, {'label': 'NEGATIVE', 'score': 0.991193950176239}, {'label': 'NEGATIVE', 'score': 0.9911409020423889}, {'label': 'NEGATIVE', 'score': 0.987409770488739}, {'label': 'NEGATIVE', 'score': 0.9893487691879272}, {'label': 'NEGATIVE', 'score': 0.9989275336265564}, {'label': 'NEGATIVE', 'score': 0.9971107244491577}, {'label': 'NEGATIVE', 'score': 0.965041995048523}, {'label': 'NEGATIVE', 'score': 0.9979085922241211}, {'label': 'NEGATIVE', 'score': 0.9967324733734131}, {'label': 'NEGATIVE', 'score': 0.9864545464515686}, {'label': 'NEGATIVE', 'score': 0.9977343082427979}, {'label': 'NEGATIVE', 'score': 0.9944578409194946}, {'label': 'NEGATIVE', 'score': 0.9992382526397705}, {'label': 'NEGATIVE', 'score': 0.9592214226722717}, {'label': 'NEGATIVE', 'score': 0.9944828748703003}, {'label': 'NEGATIVE', 'score': 0.9993143081665039}, {'label': 'NEGATIVE', 'score': 0.9968206882476807}, {'label': 'NEGATIVE', 'score': 0.9876278638839722}, {'label': 'NEGATIVE', 'score': 0.9928271174430847}, {'label': 'NEGATIVE', 'score': 0.9943912625312805}, {'label': 'NEGATIVE', 'score': 0.9794824719429016}, {'label': 'NEGATIVE', 'score': 0.9923566579818726}, {'label': 'NEGATIVE', 'score': 0.9961029291152954}, {'label': 'NEGATIVE', 'score': 0.9958581328392029}, {'label': 'NEGATIVE', 'score': 0.9920698404312134}, {'label': 'NEGATIVE', 'score': 0.991133987903595}, {'label': 'NEGATIVE', 'score': 0.9947201013565063}, {'label': 'NEGATIVE', 'score': 0.9930551648139954}, {'label': 'NEGATIVE', 'score': 0.9760729074478149}, {'label': 'NEGATIVE', 'score': 0.9855725169181824}, {'label': 'NEGATIVE', 'score': 0.9882462620735168}, {'label': 'NEGATIVE', 'score': 0.9879084229469299}, {'label': 'NEGATIVE', 'score': 0.698087215423584}, {'label': 'NEGATIVE', 'score': 0.9663289785385132}, {'label': 'NEGATIVE', 'score': 0.9974896907806396}, {'label': 'NEGATIVE', 'score': 0.9185595512390137}, {'label': 'NEGATIVE', 'score': 0.9905692338943481}, {'label': 'NEGATIVE', 'score': 0.9995766282081604}, {'label': 'NEGATIVE', 'score': 0.9898914098739624}, {'label': 'POSITIVE', 'score': 0.9975878000259399}, {'label': 'NEGATIVE', 'score': 0.9980506896972656}, {'label': 'NEGATIVE', 'score': 0.9953965544700623}, {'label': 'NEGATIVE', 'score': 0.9467688798904419}, {'label': 'NEGATIVE', 'score': 0.9972633123397827}, {'label': 'NEGATIVE', 'score': 0.986866295337677}, {'label': 'NEGATIVE', 'score': 0.9898897409439087}, {'label': 'NEGATIVE', 'score': 0.9937406182289124}, {'label': 'NEGATIVE', 'score': 0.9975728392601013}, {'label': 'NEGATIVE', 'score': 0.9970393776893616}, {'label': 'NEGATIVE', 'score': 0.9629042148590088}, {'label': 'NEGATIVE', 'score': 0.9948614239692688}, {'label': 'NEGATIVE', 'score': 0.9969145059585571}, {'label': 'NEGATIVE', 'score': 0.9975737929344177}, {'label': 'NEGATIVE', 'score': 0.9919143915176392}, {'label': 'NEGATIVE', 'score': 0.9951781034469604}, {'label': 'NEGATIVE', 'score': 0.9936017394065857}, {'label': 'NEGATIVE', 'score': 0.9856246709823608}, {'label': 'NEGATIVE', 'score': 0.8754135370254517}, {'label': 'NEGATIVE', 'score': 0.9983043670654297}, {'label': 'NEGATIVE', 'score': 0.9963118433952332}, {'label': 'NEGATIVE', 'score': 0.9947934746742249}, {'label': 'NEGATIVE', 'score': 0.9962685108184814}, {'label': 'NEGATIVE', 'score': 0.9921696782112122}, {'label': 'NEGATIVE', 'score': 0.9837163686752319}, {'label': 'POSITIVE', 'score': 0.9796898365020752}, {'label': 'NEGATIVE', 'score': 0.9953497052192688}, {'label': 'NEGATIVE', 'score': 0.9918168187141418}, {'label': 'NEGATIVE', 'score': 0.9924772381782532}, {'label': 'NEGATIVE', 'score': 0.9939942955970764}, {'label': 'NEGATIVE', 'score': 0.9946056008338928}, {'label': 'NEGATIVE', 'score': 0.9958593249320984}, {'label': 'NEGATIVE', 'score': 0.9956446886062622}, {'label': 'NEGATIVE', 'score': 0.9809844493865967}, {'label': 'NEGATIVE', 'score': 0.9885067939758301}, {'label': 'NEGATIVE', 'score': 0.9927724003791809}, {'label': 'NEGATIVE', 'score': 0.9997393488883972}, {'label': 'NEGATIVE', 'score': 0.9917551279067993}, {'label': 'NEGATIVE', 'score': 0.9899511933326721}, {'label': 'NEGATIVE', 'score': 0.9916239380836487}, {'label': 'NEGATIVE', 'score': 0.9946569204330444}, {'label': 'NEGATIVE', 'score': 0.998481810092926}, {'label': 'NEGATIVE', 'score': 0.9945061802864075}, {'label': 'NEGATIVE', 'score': 0.9973330497741699}, {'label': 'NEGATIVE', 'score': 0.9991996884346008}, {'label': 'POSITIVE', 'score': 0.9049329161643982}, {'label': 'POSITIVE', 'score': 0.9983918070793152}, {'label': 'NEGATIVE', 'score': 0.7690642476081848}, {'label': 'POSITIVE', 'score': 0.6441637277603149}, {'label': 'POSITIVE', 'score': 0.9060826897621155}, {'label': 'POSITIVE', 'score': 0.7534019351005554}, {'label': 'NEGATIVE', 'score': 0.9893267154693604}, {'label': 'POSITIVE', 'score': 0.5693460702896118}, {'label': 'POSITIVE', 'score': 0.8234677314758301}, {'label': 'NEGATIVE', 'score': 0.9943344593048096}, {'label': 'NEGATIVE', 'score': 0.9895527362823486}, {'label': 'NEGATIVE', 'score': 0.7107087969779968}, {'label': 'NEGATIVE', 'score': 0.9005340337753296}, {'label': 'NEGATIVE', 'score': 0.9874996542930603}, {'label': 'POSITIVE', 'score': 0.6077448725700378}, {'label': 'NEGATIVE', 'score': 0.8516302108764648}, {'label': 'NEGATIVE', 'score': 0.9735592603683472}, {'label': 'POSITIVE', 'score': 0.9715064167976379}, {'label': 'NEGATIVE', 'score': 0.9916955828666687}, {'label': 'NEGATIVE', 'score': 0.945652186870575}, {'label': 'NEGATIVE', 'score': 0.9163140654563904}, {'label': 'POSITIVE', 'score': 0.8044098615646362}, {'label': 'NEGATIVE', 'score': 0.7094778418540955}, {'label': 'NEGATIVE', 'score': 0.9835113286972046}, {'label': 'POSITIVE', 'score': 0.983228325843811}, {'label': 'POSITIVE', 'score': 0.9829360246658325}, {'label': 'NEGATIVE', 'score': 0.9812674522399902}, {'label': 'NEGATIVE', 'score': 0.9805344939231873}, {'label': 'POSITIVE', 'score': 0.9993559718132019}, {'label': 'POSITIVE', 'score': 0.9565653800964355}, {'label': 'POSITIVE', 'score': 0.9932877421379089}, {'label': 'NEGATIVE', 'score': 0.9935469031333923}, {'label': 'NEGATIVE', 'score': 0.9966357350349426}, {'label': 'NEGATIVE', 'score': 0.9952722191810608}, {'label': 'NEGATIVE', 'score': 0.7378397583961487}, {'label': 'NEGATIVE', 'score': 0.9873684048652649}, {'label': 'POSITIVE', 'score': 0.8540264964103699}, {'label': 'NEGATIVE', 'score': 0.9541929364204407}, {'label': 'NEGATIVE', 'score': 0.9540421962738037}, {'label': 'NEGATIVE', 'score': 0.9921282529830933}, {'label': 'NEGATIVE', 'score': 0.9495889544487}, {'label': 'POSITIVE', 'score': 0.9690485000610352}, {'label': 'POSITIVE', 'score': 0.979526162147522}, {'label': 'POSITIVE', 'score': 0.9806132316589355}, {'label': 'NEGATIVE', 'score': 0.9784624576568604}, {'label': 'NEGATIVE', 'score': 0.9502732157707214}, {'label': 'NEGATIVE', 'score': 0.8717121481895447}, {'label': 'NEGATIVE', 'score': 0.9728536009788513}, {'label': 'NEGATIVE', 'score': 0.9861961603164673}, {'label': 'POSITIVE', 'score': 0.8830381631851196}, {'label': 'NEGATIVE', 'score': 0.9804495573043823}, {'label': 'POSITIVE', 'score': 0.586984395980835}, {'label': 'POSITIVE', 'score': 0.9334338903427124}, {'label': 'POSITIVE', 'score': 0.9990091323852539}, {'label': 'POSITIVE', 'score': 0.9698306918144226}, {'label': 'NEGATIVE', 'score': 0.8134965300559998}, {'label': 'NEGATIVE', 'score': 0.9955637454986572}, {'label': 'NEGATIVE', 'score': 0.9961541295051575}, {'label': 'POSITIVE', 'score': 0.8361784815788269}, {'label': 'NEGATIVE', 'score': 0.993311882019043}, {'label': 'NEGATIVE', 'score': 0.9951034784317017}, {'label': 'NEGATIVE', 'score': 0.9913524389266968}, {'label': 'NEGATIVE', 'score': 0.9967271089553833}, {'label': 'NEGATIVE', 'score': 0.9935058355331421}, {'label': 'NEGATIVE', 'score': 0.9968159794807434}, {'label': 'NEGATIVE', 'score': 0.9934099316596985}, {'label': 'NEGATIVE', 'score': 0.9954735636711121}, {'label': 'NEGATIVE', 'score': 0.9949676394462585}, {'label': 'NEGATIVE', 'score': 0.9971655011177063}, {'label': 'NEGATIVE', 'score': 0.9961977601051331}, {'label': 'NEGATIVE', 'score': 0.9143045544624329}, {'label': 'POSITIVE', 'score': 0.9959094524383545}, {'label': 'NEGATIVE', 'score': 0.9986903071403503}, {'label': 'NEGATIVE', 'score': 0.9973641037940979}, {'label': 'NEGATIVE', 'score': 0.9981189370155334}, {'label': 'NEGATIVE', 'score': 0.9719032645225525}, {'label': 'POSITIVE', 'score': 0.9575075507164001}, {'label': 'POSITIVE', 'score': 0.9690908193588257}, {'label': 'NEGATIVE', 'score': 0.9876518249511719}, {'label': 'NEGATIVE', 'score': 0.7876347899436951}, {'label': 'POSITIVE', 'score': 0.588435709476471}, {'label': 'NEGATIVE', 'score': 0.647188663482666}, {'label': 'POSITIVE', 'score': 0.9096799492835999}, {'label': 'POSITIVE', 'score': 0.8718781471252441}, {'label': 'NEGATIVE', 'score': 0.955098032951355}, {'label': 'NEGATIVE', 'score': 0.9963645339012146}, {'label': 'NEGATIVE', 'score': 0.9591301679611206}, {'label': 'NEGATIVE', 'score': 0.9950939416885376}, {'label': 'NEGATIVE', 'score': 0.995439350605011}, {'label': 'NEGATIVE', 'score': 0.980350136756897}, {'label': 'POSITIVE', 'score': 0.6882242560386658}, {'label': 'NEGATIVE', 'score': 0.9689067006111145}, {'label': 'NEGATIVE', 'score': 0.952076256275177}, {'label': 'NEGATIVE', 'score': 0.9632946848869324}, {'label': 'POSITIVE', 'score': 0.708530604839325}, {'label': 'POSITIVE', 'score': 0.6780899167060852}, {'label': 'NEGATIVE', 'score': 0.994733452796936}, {'label': 'NEGATIVE', 'score': 0.9991257786750793}, {'label': 'NEGATIVE', 'score': 0.9818867444992065}, {'label': 'NEGATIVE', 'score': 0.9945933222770691}, {'label': 'NEGATIVE', 'score': 0.9992337226867676}, {'label': 'NEGATIVE', 'score': 0.9964901804924011}, {'label': 'NEGATIVE', 'score': 0.9985325336456299}, {'label': 'NEGATIVE', 'score': 0.9841369390487671}, {'label': 'NEGATIVE', 'score': 0.9963634610176086}, {'label': 'NEGATIVE', 'score': 0.9956379532814026}, {'label': 'POSITIVE', 'score': 0.7442933320999146}, {'label': 'NEGATIVE', 'score': 0.984943151473999}, {'label': 'POSITIVE', 'score': 0.9961399435997009}, {'label': 'NEGATIVE', 'score': 0.9706775546073914}, {'label': 'POSITIVE', 'score': 0.9995174407958984}, {'label': 'NEGATIVE', 'score': 0.8939788937568665}, {'label': 'NEGATIVE', 'score': 0.9913638830184937}, {'label': 'POSITIVE', 'score': 0.9956848621368408}, {'label': 'NEGATIVE', 'score': 0.992624044418335}, {'label': 'NEGATIVE', 'score': 0.9929373860359192}, {'label': 'NEGATIVE', 'score': 0.9839580059051514}, {'label': 'POSITIVE', 'score': 0.9974815249443054}, {'label': 'NEGATIVE', 'score': 0.547950029373169}, {'label': 'NEGATIVE', 'score': 0.5385522246360779}, {'label': 'NEGATIVE', 'score': 0.9496533274650574}, {'label': 'NEGATIVE', 'score': 0.9986752867698669}, {'label': 'NEGATIVE', 'score': 0.812306821346283}, {'label': 'NEGATIVE', 'score': 0.9872763752937317}, {'label': 'NEGATIVE', 'score': 0.763383686542511}, {'label': 'POSITIVE', 'score': 0.5469291806221008}, {'label': 'POSITIVE', 'score': 0.6201337575912476}, {'label': 'POSITIVE', 'score': 0.7175284624099731}, {'label': 'NEGATIVE', 'score': 0.9692334532737732}, {'label': 'POSITIVE', 'score': 0.9223755598068237}, {'label': 'NEGATIVE', 'score': 0.6904342174530029}, {'label': 'NEGATIVE', 'score': 0.8208383321762085}, {'label': 'NEGATIVE', 'score': 0.9691435694694519}, {'label': 'POSITIVE', 'score': 0.9978578686714172}, {'label': 'POSITIVE', 'score': 0.992908239364624}, {'label': 'NEGATIVE', 'score': 0.9709920287132263}, {'label': 'POSITIVE', 'score': 0.9545814394950867}, {'label': 'NEGATIVE', 'score': 0.9014849662780762}, {'label': 'NEGATIVE', 'score': 0.9824150204658508}, {'label': 'NEGATIVE', 'score': 0.7754071950912476}, {'label': 'POSITIVE', 'score': 0.995528519153595}, {'label': 'NEGATIVE', 'score': 0.9957667589187622}, {'label': 'NEGATIVE', 'score': 0.995196521282196}, {'label': 'NEGATIVE', 'score': 0.7783915996551514}, {'label': 'POSITIVE', 'score': 0.9756523370742798}, {'label': 'NEGATIVE', 'score': 0.973304271697998}, {'label': 'NEGATIVE', 'score': 0.9897624850273132}, {'label': 'NEGATIVE', 'score': 0.985798716545105}, {'label': 'NEGATIVE', 'score': 0.7637644410133362}, {'label': 'POSITIVE', 'score': 0.9751590490341187}, {'label': 'POSITIVE', 'score': 0.9735904335975647}, {'label': 'NEGATIVE', 'score': 0.7487242817878723}, {'label': 'POSITIVE', 'score': 0.9863972067832947}, {'label': 'NEGATIVE', 'score': 0.9939925074577332}, {'label': 'NEGATIVE', 'score': 0.9774382710456848}, {'label': 'NEGATIVE', 'score': 0.9873243570327759}, {'label': 'POSITIVE', 'score': 0.9990720748901367}, {'label': 'NEGATIVE', 'score': 0.9765124320983887}, {'label': 'POSITIVE', 'score': 0.9074252843856812}, {'label': 'NEGATIVE', 'score': 0.7863195538520813}, {'label': 'POSITIVE', 'score': 0.7408881187438965}, {'label': 'NEGATIVE', 'score': 0.9779265522956848}, {'label': 'NEGATIVE', 'score': 0.9238249659538269}, {'label': 'POSITIVE', 'score': 0.9327000379562378}, {'label': 'NEGATIVE', 'score': 0.965817391872406}, {'label': 'NEGATIVE', 'score': 0.9993900060653687}, {'label': 'NEGATIVE', 'score': 0.9880779385566711}, {'label': 'NEGATIVE', 'score': 0.9562134146690369}, {'label': 'NEGATIVE', 'score': 0.9964041709899902}, {'label': 'NEGATIVE', 'score': 0.993759274482727}, {'label': 'NEGATIVE', 'score': 0.8727828860282898}, {'label': 'NEGATIVE', 'score': 0.9085108637809753}, {'label': 'NEGATIVE', 'score': 0.9765465259552002}, {'label': 'NEGATIVE', 'score': 0.9889506697654724}, {'label': 'NEGATIVE', 'score': 0.9980744123458862}, {'label': 'NEGATIVE', 'score': 0.7476845979690552}, {'label': 'NEGATIVE', 'score': 0.9925416707992554}, {'label': 'POSITIVE', 'score': 0.7192189693450928}, {'label': 'NEGATIVE', 'score': 0.9966800212860107}, {'label': 'NEGATIVE', 'score': 0.9992979764938354}, {'label': 'POSITIVE', 'score': 0.8964484930038452}, {'label': 'POSITIVE', 'score': 0.9577557444572449}, {'label': 'NEGATIVE', 'score': 0.966582715511322}, {'label': 'POSITIVE', 'score': 0.9829588532447815}, {'label': 'NEGATIVE', 'score': 0.6346762180328369}, {'label': 'NEGATIVE', 'score': 0.7901163101196289}, {'label': 'NEGATIVE', 'score': 0.9826299548149109}, {'label': 'POSITIVE', 'score': 0.6891530156135559}, {'label': 'NEGATIVE', 'score': 0.9679074287414551}, {'label': 'NEGATIVE', 'score': 0.9532883763313293}, {'label': 'NEGATIVE', 'score': 0.7853730916976929}, {'label': 'POSITIVE', 'score': 0.8697394132614136}, {'label': 'NEGATIVE', 'score': 0.9968264102935791}, {'label': 'NEGATIVE', 'score': 0.9899062514305115}, {'label': 'POSITIVE', 'score': 0.9663459062576294}, {'label': 'NEGATIVE', 'score': 0.9979561567306519}, {'label': 'NEGATIVE', 'score': 0.6898464560508728}, {'label': 'NEGATIVE', 'score': 0.993622362613678}, {'label': 'NEGATIVE', 'score': 0.9793862700462341}, {'label': 'POSITIVE', 'score': 0.5080491304397583}, {'label': 'NEGATIVE', 'score': 0.9714095592498779}, {'label': 'NEGATIVE', 'score': 0.997574508190155}, {'label': 'POSITIVE', 'score': 0.7619019150733948}, {'label': 'NEGATIVE', 'score': 0.9436103105545044}, {'label': 'NEGATIVE', 'score': 0.9965754151344299}, {'label': 'NEGATIVE', 'score': 0.9960338473320007}, {'label': 'NEGATIVE', 'score': 0.9962459206581116}, {'label': 'NEGATIVE', 'score': 0.9989216327667236}, {'label': 'NEGATIVE', 'score': 0.9995155334472656}, {'label': 'NEGATIVE', 'score': 0.9962776303291321}, {'label': 'NEGATIVE', 'score': 0.9322783350944519}, {'label': 'NEGATIVE', 'score': 0.9912274479866028}, {'label': 'NEGATIVE', 'score': 0.7104102969169617}, {'label': 'POSITIVE', 'score': 0.6721654534339905}, {'label': 'NEGATIVE', 'score': 0.993168830871582}, {'label': 'NEGATIVE', 'score': 0.9945693612098694}, {'label': 'NEGATIVE', 'score': 0.9984272718429565}, {'label': 'NEGATIVE', 'score': 0.998596727848053}, {'label': 'NEGATIVE', 'score': 0.9123961925506592}, {'label': 'NEGATIVE', 'score': 0.9981833100318909}, {'label': 'NEGATIVE', 'score': 0.986289381980896}, {'label': 'NEGATIVE', 'score': 0.9841559529304504}, {'label': 'NEGATIVE', 'score': 0.9935437440872192}, {'label': 'NEGATIVE', 'score': 0.9988728165626526}, {'label': 'NEGATIVE', 'score': 0.9921459555625916}, {'label': 'NEGATIVE', 'score': 0.995840847492218}, {'label': 'NEGATIVE', 'score': 0.9941099286079407}, {'label': 'NEGATIVE', 'score': 0.999416708946228}, {'label': 'NEGATIVE', 'score': 0.9991042017936707}, {'label': 'NEGATIVE', 'score': 0.9990907907485962}, {'label': 'NEGATIVE', 'score': 0.9961594343185425}, {'label': 'NEGATIVE', 'score': 0.9987207055091858}, {'label': 'NEGATIVE', 'score': 0.9987350106239319}, {'label': 'NEGATIVE', 'score': 0.9783451557159424}, {'label': 'NEGATIVE', 'score': 0.9993829727172852}, {'label': 'NEGATIVE', 'score': 0.9996325969696045}, {'label': 'NEGATIVE', 'score': 0.9234810471534729}, {'label': 'NEGATIVE', 'score': 0.9944533705711365}, {'label': 'NEGATIVE', 'score': 0.9957340359687805}, {'label': 'NEGATIVE', 'score': 0.999619722366333}, {'label': 'NEGATIVE', 'score': 0.9991251826286316}, {'label': 'NEGATIVE', 'score': 0.9942570328712463}, {'label': 'NEGATIVE', 'score': 0.9967498779296875}, {'label': 'NEGATIVE', 'score': 0.9989162683486938}, {'label': 'NEGATIVE', 'score': 0.9970253109931946}, {'label': 'POSITIVE', 'score': 0.6258887052536011}, {'label': 'NEGATIVE', 'score': 0.9542041420936584}, {'label': 'NEGATIVE', 'score': 0.992367684841156}, {'label': 'NEGATIVE', 'score': 0.953550398349762}, {'label': 'NEGATIVE', 'score': 0.999305248260498}, {'label': 'NEGATIVE', 'score': 0.9995062351226807}, {'label': 'NEGATIVE', 'score': 0.9995883107185364}, {'label': 'NEGATIVE', 'score': 0.9883983731269836}, {'label': 'NEGATIVE', 'score': 0.9987810254096985}, {'label': 'POSITIVE', 'score': 0.9796017408370972}, {'label': 'NEGATIVE', 'score': 0.9771775603294373}, {'label': 'NEGATIVE', 'score': 0.9984159469604492}, {'label': 'NEGATIVE', 'score': 0.9997275471687317}, {'label': 'NEGATIVE', 'score': 0.994881272315979}, {'label': 'NEGATIVE', 'score': 0.9940913319587708}, {'label': 'NEGATIVE', 'score': 0.9996065497398376}, {'label': 'NEGATIVE', 'score': 0.9978933930397034}, {'label': 'NEGATIVE', 'score': 0.9907702803611755}, {'label': 'NEGATIVE', 'score': 0.9905923008918762}, {'label': 'POSITIVE', 'score': 0.9934062957763672}, {'label': 'NEGATIVE', 'score': 0.9689224362373352}, {'label': 'NEGATIVE', 'score': 0.9938915967941284}, {'label': 'NEGATIVE', 'score': 0.9987990856170654}, {'label': 'NEGATIVE', 'score': 0.9596072435379028}, {'label': 'NEGATIVE', 'score': 0.9945599436759949}, {'label': 'NEGATIVE', 'score': 0.9594774842262268}, {'label': 'NEGATIVE', 'score': 0.989415168762207}, {'label': 'NEGATIVE', 'score': 0.9904768466949463}, {'label': 'NEGATIVE', 'score': 0.9913021326065063}, {'label': 'NEGATIVE', 'score': 0.9962068796157837}, {'label': 'NEGATIVE', 'score': 0.9974710941314697}, {'label': 'NEGATIVE', 'score': 0.9894834160804749}, {'label': 'NEGATIVE', 'score': 0.9941045641899109}, {'label': 'NEGATIVE', 'score': 0.9995216131210327}, {'label': 'NEGATIVE', 'score': 0.9950637221336365}, {'label': 'NEGATIVE', 'score': 0.9990277290344238}, {'label': 'NEGATIVE', 'score': 0.9983890056610107}, {'label': 'NEGATIVE', 'score': 0.9993150234222412}, {'label': 'NEGATIVE', 'score': 0.9966570138931274}, {'label': 'NEGATIVE', 'score': 0.9981287121772766}, {'label': 'NEGATIVE', 'score': 0.9996947050094604}, {'label': 'NEGATIVE', 'score': 0.996147871017456}, {'label': 'NEGATIVE', 'score': 0.9972457885742188}, {'label': 'NEGATIVE', 'score': 0.9949833154678345}, {'label': 'NEGATIVE', 'score': 0.9913648366928101}, {'label': 'NEGATIVE', 'score': 0.9995038509368896}, {'label': 'NEGATIVE', 'score': 0.9847646951675415}, {'label': 'NEGATIVE', 'score': 0.9927456974983215}, {'label': 'NEGATIVE', 'score': 0.9927056431770325}, {'label': 'NEGATIVE', 'score': 0.9919913411140442}, {'label': 'NEGATIVE', 'score': 0.9918752312660217}, {'label': 'NEGATIVE', 'score': 0.715315043926239}, {'label': 'NEGATIVE', 'score': 0.972423255443573}, {'label': 'POSITIVE', 'score': 0.7815825343132019}, {'label': 'NEGATIVE', 'score': 0.9997339844703674}, {'label': 'NEGATIVE', 'score': 0.6263269782066345}, {'label': 'NEGATIVE', 'score': 0.9993758797645569}, {'label': 'NEGATIVE', 'score': 0.9995569586753845}, {'label': 'NEGATIVE', 'score': 0.999785840511322}, {'label': 'NEGATIVE', 'score': 0.9915662407875061}, {'label': 'NEGATIVE', 'score': 0.9983915686607361}, {'label': 'NEGATIVE', 'score': 0.9996641874313354}, {'label': 'POSITIVE', 'score': 0.9990321397781372}, {'label': 'NEGATIVE', 'score': 0.9990251064300537}, {'label': 'NEGATIVE', 'score': 0.9995125532150269}, {'label': 'NEGATIVE', 'score': 0.9996079802513123}, {'label': 'NEGATIVE', 'score': 0.9991281628608704}, {'label': 'NEGATIVE', 'score': 0.9994205236434937}, {'label': 'NEGATIVE', 'score': 0.9945732951164246}, {'label': 'NEGATIVE', 'score': 0.9954699277877808}, {'label': 'NEGATIVE', 'score': 0.9993798732757568}, {'label': 'NEGATIVE', 'score': 0.9928015470504761}, {'label': 'NEGATIVE', 'score': 0.9684127569198608}, {'label': 'NEGATIVE', 'score': 0.9978852868080139}, {'label': 'NEGATIVE', 'score': 0.9975311160087585}, {'label': 'NEGATIVE', 'score': 0.9979962110519409}, {'label': 'NEGATIVE', 'score': 0.9997087121009827}, {'label': 'NEGATIVE', 'score': 0.9897204041481018}, {'label': 'NEGATIVE', 'score': 0.9839344620704651}, {'label': 'NEGATIVE', 'score': 0.9912006258964539}, {'label': 'NEGATIVE', 'score': 0.9966854453086853}, {'label': 'NEGATIVE', 'score': 0.9751579165458679}, {'label': 'NEGATIVE', 'score': 0.9948694705963135}, {'label': 'NEGATIVE', 'score': 0.9993084669113159}, {'label': 'NEGATIVE', 'score': 0.9978125095367432}, {'label': 'NEGATIVE', 'score': 0.9910755157470703}, {'label': 'NEGATIVE', 'score': 0.9985830783843994}, {'label': 'NEGATIVE', 'score': 0.9974134564399719}, {'label': 'POSITIVE', 'score': 0.7085421085357666}, {'label': 'NEGATIVE', 'score': 0.9991205334663391}, {'label': 'NEGATIVE', 'score': 0.9989815354347229}, {'label': 'NEGATIVE', 'score': 0.9126862287521362}, {'label': 'NEGATIVE', 'score': 0.9986175298690796}, {'label': 'NEGATIVE', 'score': 0.9972483515739441}, {'label': 'NEGATIVE', 'score': 0.998372495174408}, {'label': 'NEGATIVE', 'score': 0.999349057674408}, {'label': 'NEGATIVE', 'score': 0.9981585144996643}, {'label': 'NEGATIVE', 'score': 0.9991794228553772}, {'label': 'NEGATIVE', 'score': 0.998089611530304}, {'label': 'NEGATIVE', 'score': 0.9960875511169434}, {'label': 'NEGATIVE', 'score': 0.9993056058883667}, {'label': 'NEGATIVE', 'score': 0.9994320273399353}, {'label': 'NEGATIVE', 'score': 0.9615710377693176}, {'label': 'NEGATIVE', 'score': 0.9942816495895386}, {'label': 'NEGATIVE', 'score': 0.996517539024353}, {'label': 'NEGATIVE', 'score': 0.996325671672821}, {'label': 'NEGATIVE', 'score': 0.9957898259162903}, {'label': 'NEGATIVE', 'score': 0.9964481592178345}, {'label': 'NEGATIVE', 'score': 0.9989383816719055}, {'label': 'NEGATIVE', 'score': 0.9448844790458679}, {'label': 'NEGATIVE', 'score': 0.9985790252685547}, {'label': 'NEGATIVE', 'score': 0.9505143165588379}, {'label': 'POSITIVE', 'score': 0.9962791800498962}, {'label': 'POSITIVE', 'score': 0.9987680315971375}, {'label': 'POSITIVE', 'score': 0.9691591262817383}, {'label': 'NEGATIVE', 'score': 0.9980543851852417}, {'label': 'NEGATIVE', 'score': 0.9895126223564148}, {'label': 'POSITIVE', 'score': 0.9995891451835632}, {'label': 'NEGATIVE', 'score': 0.7701548337936401}, {'label': 'NEGATIVE', 'score': 0.7482903003692627}, {'label': 'POSITIVE', 'score': 0.8931077122688293}, {'label': 'NEGATIVE', 'score': 0.9649835824966431}, {'label': 'NEGATIVE', 'score': 0.8037682771682739}, {'label': 'NEGATIVE', 'score': 0.9696718454360962}, {'label': 'POSITIVE', 'score': 0.9989979863166809}, {'label': 'NEGATIVE', 'score': 0.9900314807891846}, {'label': 'NEGATIVE', 'score': 0.9675461649894714}, {'label': 'NEGATIVE', 'score': 0.9645757079124451}, {'label': 'NEGATIVE', 'score': 0.997800886631012}, {'label': 'NEGATIVE', 'score': 0.9978135824203491}, {'label': 'NEGATIVE', 'score': 0.8181494474411011}, {'label': 'NEGATIVE', 'score': 0.9813304543495178}, {'label': 'NEGATIVE', 'score': 0.9947675466537476}, {'label': 'NEGATIVE', 'score': 0.9324848055839539}, {'label': 'NEGATIVE', 'score': 0.9671448469161987}, {'label': 'POSITIVE', 'score': 0.9917467832565308}, {'label': 'NEGATIVE', 'score': 0.9976279139518738}, {'label': 'NEGATIVE', 'score': 0.981411874294281}, {'label': 'NEGATIVE', 'score': 0.8845177292823792}, {'label': 'POSITIVE', 'score': 0.9996711015701294}, {'label': 'POSITIVE', 'score': 0.8395166397094727}, {'label': 'POSITIVE', 'score': 0.8347358107566833}, {'label': 'NEGATIVE', 'score': 0.9766408801078796}, {'label': 'NEGATIVE', 'score': 0.9880281686782837}, {'label': 'POSITIVE', 'score': 0.9996975660324097}, {'label': 'NEGATIVE', 'score': 0.9997398257255554}, {'label': 'NEGATIVE', 'score': 0.9623768925666809}, {'label': 'POSITIVE', 'score': 0.9698530435562134}, {'label': 'POSITIVE', 'score': 0.9997466206550598}, {'label': 'NEGATIVE', 'score': 0.9982542395591736}, {'label': 'NEGATIVE', 'score': 0.9880445599555969}, {'label': 'POSITIVE', 'score': 0.9531804919242859}, {'label': 'POSITIVE', 'score': 0.965125322341919}, {'label': 'NEGATIVE', 'score': 0.9986340403556824}, {'label': 'POSITIVE', 'score': 0.9849975109100342}, {'label': 'NEGATIVE', 'score': 0.9995054006576538}, {'label': 'POSITIVE', 'score': 0.9993492960929871}, {'label': 'POSITIVE', 'score': 0.9746418595314026}, {'label': 'POSITIVE', 'score': 0.6234596967697144}, {'label': 'POSITIVE', 'score': 0.9560241103172302}, {'label': 'NEGATIVE', 'score': 0.9735366702079773}, {'label': 'NEGATIVE', 'score': 0.9679306745529175}, {'label': 'POSITIVE', 'score': 0.8035217523574829}, {'label': 'POSITIVE', 'score': 0.7294191122055054}, {'label': 'NEGATIVE', 'score': 0.9956349730491638}, {'label': 'NEGATIVE', 'score': 0.9380670189857483}, {'label': 'NEGATIVE', 'score': 0.6177964210510254}, {'label': 'POSITIVE', 'score': 0.6906932592391968}, {'label': 'POSITIVE', 'score': 0.939156174659729}, {'label': 'NEGATIVE', 'score': 0.9966439008712769}, {'label': 'NEGATIVE', 'score': 0.9997612833976746}, {'label': 'NEGATIVE', 'score': 0.9589399099349976}, {'label': 'NEGATIVE', 'score': 0.8899819850921631}, {'label': 'NEGATIVE', 'score': 0.5983831882476807}, {'label': 'NEGATIVE', 'score': 0.9953303337097168}, {'label': 'POSITIVE', 'score': 0.9985904097557068}, {'label': 'POSITIVE', 'score': 0.8876432776451111}, {'label': 'POSITIVE', 'score': 0.9984360337257385}, {'label': 'NEGATIVE', 'score': 0.9728913903236389}, {'label': 'POSITIVE', 'score': 0.9902381300926208}, {'label': 'NEGATIVE', 'score': 0.9336541295051575}, {'label': 'NEGATIVE', 'score': 0.9826814532279968}, {'label': 'POSITIVE', 'score': 0.9488992094993591}, {'label': 'POSITIVE', 'score': 0.9987561702728271}, {'label': 'NEGATIVE', 'score': 0.9974051117897034}, {'label': 'POSITIVE', 'score': 0.9852614998817444}, {'label': 'POSITIVE', 'score': 0.7703121304512024}, {'label': 'NEGATIVE', 'score': 0.9964466691017151}, {'label': 'POSITIVE', 'score': 0.8684279918670654}, {'label': 'NEGATIVE', 'score': 0.9688653945922852}, {'label': 'NEGATIVE', 'score': 0.9545721411705017}, {'label': 'NEGATIVE', 'score': 0.9069330096244812}, {'label': 'NEGATIVE', 'score': 0.9991037249565125}, {'label': 'NEGATIVE', 'score': 0.98697829246521}, {'label': 'POSITIVE', 'score': 0.9682902097702026}, {'label': 'POSITIVE', 'score': 0.9977965354919434}, {'label': 'NEGATIVE', 'score': 0.8817456364631653}, {'label': 'NEGATIVE', 'score': 0.9516809582710266}, {'label': 'NEGATIVE', 'score': 0.9889563918113708}, {'label': 'NEGATIVE', 'score': 0.9887433052062988}, {'label': 'NEGATIVE', 'score': 0.9952914714813232}, {'label': 'NEGATIVE', 'score': 0.9995649456977844}, {'label': 'POSITIVE', 'score': 0.9993022680282593}, {'label': 'NEGATIVE', 'score': 0.8685321807861328}, {'label': 'POSITIVE', 'score': 0.9241349697113037}, {'label': 'NEGATIVE', 'score': 0.9970230460166931}, {'label': 'POSITIVE', 'score': 0.9843878746032715}, {'label': 'POSITIVE', 'score': 0.9896903038024902}, {'label': 'NEGATIVE', 'score': 0.9838962554931641}, {'label': 'NEGATIVE', 'score': 0.867346465587616}, {'label': 'POSITIVE', 'score': 0.9994733929634094}, {'label': 'NEGATIVE', 'score': 0.9278960227966309}, {'label': 'NEGATIVE', 'score': 0.5757241249084473}, {'label': 'NEGATIVE', 'score': 0.9993114471435547}, {'label': 'NEGATIVE', 'score': 0.7500492930412292}, {'label': 'NEGATIVE', 'score': 0.9947355389595032}, {'label': 'NEGATIVE', 'score': 0.9959849119186401}, {'label': 'NEGATIVE', 'score': 0.9483921527862549}, {'label': 'NEGATIVE', 'score': 0.992010772228241}, {'label': 'POSITIVE', 'score': 0.8927399516105652}, {'label': 'POSITIVE', 'score': 0.9995661377906799}, {'label': 'POSITIVE', 'score': 0.6698644161224365}, {'label': 'NEGATIVE', 'score': 0.996967613697052}, {'label': 'NEGATIVE', 'score': 0.8590924143791199}, {'label': 'NEGATIVE', 'score': 0.9969326257705688}, {'label': 'POSITIVE', 'score': 0.9959245920181274}, {'label': 'POSITIVE', 'score': 0.9567087292671204}, {'label': 'NEGATIVE', 'score': 0.9339891672134399}, {'label': 'POSITIVE', 'score': 0.9808253645896912}, {'label': 'NEGATIVE', 'score': 0.9825038313865662}, {'label': 'NEGATIVE', 'score': 0.9981095790863037}, {'label': 'POSITIVE', 'score': 0.6804376840591431}, {'label': 'POSITIVE', 'score': 0.7157769799232483}, {'label': 'POSITIVE', 'score': 0.9975166320800781}, {'label': 'NEGATIVE', 'score': 0.9958562254905701}, {'label': 'POSITIVE', 'score': 0.9975630044937134}, {'label': 'NEGATIVE', 'score': 0.7793074250221252}, {'label': 'POSITIVE', 'score': 0.8899553418159485}, {'label': 'NEGATIVE', 'score': 0.9974300265312195}, {'label': 'NEGATIVE', 'score': 0.9934269189834595}, {'label': 'NEGATIVE', 'score': 0.9955735206604004}, {'label': 'NEGATIVE', 'score': 0.9913182258605957}, {'label': 'NEGATIVE', 'score': 0.9976430535316467}, {'label': 'NEGATIVE', 'score': 0.9991703033447266}, {'label': 'POSITIVE', 'score': 0.9026066064834595}, {'label': 'NEGATIVE', 'score': 0.9973928928375244}, {'label': 'NEGATIVE', 'score': 0.9949026107788086}, {'label': 'NEGATIVE', 'score': 0.9757850170135498}, {'label': 'NEGATIVE', 'score': 0.9994747042655945}, {'label': 'POSITIVE', 'score': 0.9936200976371765}, {'label': 'NEGATIVE', 'score': 0.9410803914070129}, {'label': 'POSITIVE', 'score': 0.9682000279426575}, {'label': 'NEGATIVE', 'score': 0.9993720650672913}, {'label': 'POSITIVE', 'score': 0.9962397813796997}, {'label': 'NEGATIVE', 'score': 0.997124969959259}, {'label': 'NEGATIVE', 'score': 0.9932894110679626}, {'label': 'POSITIVE', 'score': 0.5760671496391296}, {'label': 'NEGATIVE', 'score': 0.9851608276367188}, {'label': 'POSITIVE', 'score': 0.9568955898284912}, {'label': 'NEGATIVE', 'score': 0.7587704062461853}, {'label': 'NEGATIVE', 'score': 0.9988763928413391}, {'label': 'NEGATIVE', 'score': 0.9832845330238342}, {'label': 'POSITIVE', 'score': 0.9943278431892395}, {'label': 'NEGATIVE', 'score': 0.9665665626525879}, {'label': 'NEGATIVE', 'score': 0.7525360584259033}, {'label': 'NEGATIVE', 'score': 0.9561874866485596}, {'label': 'NEGATIVE', 'score': 0.995827853679657}, {'label': 'NEGATIVE', 'score': 0.9891332983970642}, {'label': 'POSITIVE', 'score': 0.9853509664535522}, {'label': 'NEGATIVE', 'score': 0.996738851070404}, {'label': 'POSITIVE', 'score': 0.7685726881027222}, {'label': 'NEGATIVE', 'score': 0.9783993363380432}, {'label': 'POSITIVE', 'score': 0.9850934743881226}, {'label': 'NEGATIVE', 'score': 0.998890221118927}, {'label': 'NEGATIVE', 'score': 0.9993407130241394}, {'label': 'NEGATIVE', 'score': 0.9729391932487488}, {'label': 'NEGATIVE', 'score': 0.9068028330802917}, {'label': 'NEGATIVE', 'score': 0.9985918402671814}, {'label': 'NEGATIVE', 'score': 0.9886125922203064}, {'label': 'NEGATIVE', 'score': 0.9913578033447266}, {'label': 'NEGATIVE', 'score': 0.9848594069480896}, {'label': 'NEGATIVE', 'score': 0.8742755055427551}, {'label': 'NEGATIVE', 'score': 0.9962025284767151}, {'label': 'POSITIVE', 'score': 0.9681028127670288}, {'label': 'POSITIVE', 'score': 0.534030020236969}, {'label': 'NEGATIVE', 'score': 0.9879148006439209}, {'label': 'NEGATIVE', 'score': 0.943057656288147}, {'label': 'NEGATIVE', 'score': 0.9720325469970703}, {'label': 'NEGATIVE', 'score': 0.9814931750297546}, {'label': 'NEGATIVE', 'score': 0.9834746718406677}, {'label': 'NEGATIVE', 'score': 0.989991307258606}, {'label': 'POSITIVE', 'score': 0.9872283935546875}, {'label': 'NEGATIVE', 'score': 0.9879911541938782}, {'label': 'NEGATIVE', 'score': 0.965251624584198}, {'label': 'POSITIVE', 'score': 0.9772847890853882}, {'label': 'NEGATIVE', 'score': 0.9148512482643127}, {'label': 'POSITIVE', 'score': 0.9608819484710693}, {'label': 'NEGATIVE', 'score': 0.9861538410186768}, {'label': 'NEGATIVE', 'score': 0.6964716911315918}, {'label': 'NEGATIVE', 'score': 0.9963831901550293}, {'label': 'NEGATIVE', 'score': 0.9937961101531982}, {'label': 'NEGATIVE', 'score': 0.9366702437400818}, {'label': 'POSITIVE', 'score': 0.8820433616638184}, {'label': 'NEGATIVE', 'score': 0.9389083385467529}, {'label': 'POSITIVE', 'score': 0.9988769888877869}, {'label': 'NEGATIVE', 'score': 0.9994335770606995}, {'label': 'NEGATIVE', 'score': 0.9947668313980103}, {'label': 'NEGATIVE', 'score': 0.9994145631790161}, {'label': 'NEGATIVE', 'score': 0.9966841340065002}, {'label': 'POSITIVE', 'score': 0.9300060272216797}, {'label': 'NEGATIVE', 'score': 0.9983422756195068}, {'label': 'NEGATIVE', 'score': 0.9937379360198975}, {'label': 'NEGATIVE', 'score': 0.9865936040878296}, {'label': 'POSITIVE', 'score': 0.9971283078193665}, {'label': 'NEGATIVE', 'score': 0.9632161259651184}, {'label': 'POSITIVE', 'score': 0.9962461590766907}, {'label': 'NEGATIVE', 'score': 0.9950952529907227}, {'label': 'NEGATIVE', 'score': 0.9981486797332764}, {'label': 'NEGATIVE', 'score': 0.8761059641838074}, {'label': 'NEGATIVE', 'score': 0.9891019463539124}, {'label': 'POSITIVE', 'score': 0.9987961053848267}, {'label': 'POSITIVE', 'score': 0.941261351108551}, {'label': 'NEGATIVE', 'score': 0.9527140259742737}, {'label': 'NEGATIVE', 'score': 0.999351441860199}, {'label': 'NEGATIVE', 'score': 0.8516885638237}, {'label': 'NEGATIVE', 'score': 0.9402605891227722}, {'label': 'NEGATIVE', 'score': 0.9977371692657471}, {'label': 'NEGATIVE', 'score': 0.9758273363113403}, {'label': 'NEGATIVE', 'score': 0.9935415983200073}, {'label': 'POSITIVE', 'score': 0.9884753227233887}, {'label': 'NEGATIVE', 'score': 0.9967392086982727}, {'label': 'NEGATIVE', 'score': 0.9951679706573486}, {'label': 'NEGATIVE', 'score': 0.9978367686271667}, {'label': 'POSITIVE', 'score': 0.9838886260986328}, {'label': 'POSITIVE', 'score': 0.7647898197174072}, {'label': 'NEGATIVE', 'score': 0.9942446351051331}, {'label': 'NEGATIVE', 'score': 0.9781185984611511}, {'label': 'NEGATIVE', 'score': 0.9906139373779297}, {'label': 'NEGATIVE', 'score': 0.9551401138305664}, {'label': 'POSITIVE', 'score': 0.9596603512763977}, {'label': 'NEGATIVE', 'score': 0.982465386390686}, {'label': 'NEGATIVE', 'score': 0.612826943397522}, {'label': 'NEGATIVE', 'score': 0.9958850741386414}, {'label': 'POSITIVE', 'score': 0.9503949880599976}, {'label': 'NEGATIVE', 'score': 0.952967643737793}, {'label': 'POSITIVE', 'score': 0.987433135509491}, {'label': 'POSITIVE', 'score': 0.7142666578292847}, {'label': 'NEGATIVE', 'score': 0.9612370133399963}, {'label': 'POSITIVE', 'score': 0.9899700284004211}, {'label': 'NEGATIVE', 'score': 0.9844903349876404}, {'label': 'NEGATIVE', 'score': 0.9992546439170837}, {'label': 'NEGATIVE', 'score': 0.9963235855102539}, {'label': 'NEGATIVE', 'score': 0.9964011907577515}, {'label': 'NEGATIVE', 'score': 0.9915728569030762}, {'label': 'NEGATIVE', 'score': 0.9954402446746826}, {'label': 'NEGATIVE', 'score': 0.9802282452583313}, {'label': 'POSITIVE', 'score': 0.8663166165351868}, {'label': 'POSITIVE', 'score': 0.9951815009117126}, {'label': 'NEGATIVE', 'score': 0.9673232436180115}, {'label': 'NEGATIVE', 'score': 0.9914671182632446}, {'label': 'POSITIVE', 'score': 0.9996286630630493}, {'label': 'NEGATIVE', 'score': 0.9839653968811035}, {'label': 'NEGATIVE', 'score': 0.9940505623817444}, {'label': 'NEGATIVE', 'score': 0.9946792125701904}, {'label': 'POSITIVE', 'score': 0.9968110918998718}, {'label': 'NEGATIVE', 'score': 0.9890413880348206}, {'label': 'NEGATIVE', 'score': 0.6520881056785583}, {'label': 'NEGATIVE', 'score': 0.9985114932060242}, {'label': 'NEGATIVE', 'score': 0.9942027926445007}, {'label': 'NEGATIVE', 'score': 0.9350643157958984}, {'label': 'NEGATIVE', 'score': 0.9973213076591492}, {'label': 'NEGATIVE', 'score': 0.9917100071907043}, {'label': 'NEGATIVE', 'score': 0.9945184588432312}, {'label': 'NEGATIVE', 'score': 0.9994838237762451}, {'label': 'NEGATIVE', 'score': 0.9872232675552368}, {'label': 'NEGATIVE', 'score': 0.9992241859436035}, {'label': 'POSITIVE', 'score': 0.930081844329834}, {'label': 'NEGATIVE', 'score': 0.9903656244277954}, {'label': 'NEGATIVE', 'score': 0.9867959022521973}, {'label': 'POSITIVE', 'score': 0.7121305465698242}, {'label': 'POSITIVE', 'score': 0.9951247572898865}, {'label': 'NEGATIVE', 'score': 0.996063768863678}, {'label': 'NEGATIVE', 'score': 0.9844226241111755}, {'label': 'POSITIVE', 'score': 0.9923168420791626}, {'label': 'NEGATIVE', 'score': 0.9906855225563049}, {'label': 'NEGATIVE', 'score': 0.9942535758018494}, {'label': 'POSITIVE', 'score': 0.9180783629417419}, {'label': 'NEGATIVE', 'score': 0.9856472015380859}, {'label': 'NEGATIVE', 'score': 0.9910905361175537}, {'label': 'NEGATIVE', 'score': 0.8384808897972107}, {'label': 'NEGATIVE', 'score': 0.9435325264930725}, {'label': 'NEGATIVE', 'score': 0.9927384257316589}, {'label': 'NEGATIVE', 'score': 0.9393513798713684}, {'label': 'POSITIVE', 'score': 0.9991907477378845}, {'label': 'NEGATIVE', 'score': 0.8280314207077026}, {'label': 'NEGATIVE', 'score': 0.9682852029800415}, {'label': 'NEGATIVE', 'score': 0.9982109069824219}, {'label': 'NEGATIVE', 'score': 0.9818567633628845}, {'label': 'NEGATIVE', 'score': 0.9901930093765259}, {'label': 'POSITIVE', 'score': 0.6443639993667603}, {'label': 'NEGATIVE', 'score': 0.8864279389381409}, {'label': 'NEGATIVE', 'score': 0.9948128461837769}, {'label': 'NEGATIVE', 'score': 0.9942480325698853}, {'label': 'NEGATIVE', 'score': 0.9669696688652039}, {'label': 'NEGATIVE', 'score': 0.9962066411972046}, {'label': 'NEGATIVE', 'score': 0.9995347261428833}, {'label': 'NEGATIVE', 'score': 0.9741036891937256}, {'label': 'POSITIVE', 'score': 0.7004866003990173}, {'label': 'NEGATIVE', 'score': 0.9731419086456299}, {'label': 'POSITIVE', 'score': 0.9308500289916992}, {'label': 'POSITIVE', 'score': 0.9708084464073181}, {'label': 'NEGATIVE', 'score': 0.995161235332489}, {'label': 'POSITIVE', 'score': 0.9531052112579346}, {'label': 'POSITIVE', 'score': 0.9937480688095093}, {'label': 'POSITIVE', 'score': 0.938467800617218}, {'label': 'NEGATIVE', 'score': 0.9836934208869934}, {'label': 'NEGATIVE', 'score': 0.9963686466217041}, {'label': 'NEGATIVE', 'score': 0.9977931976318359}, {'label': 'NEGATIVE', 'score': 0.9959543943405151}, {'label': 'NEGATIVE', 'score': 0.9993661046028137}, {'label': 'NEGATIVE', 'score': 0.9935095906257629}, {'label': 'NEGATIVE', 'score': 0.994019627571106}, {'label': 'NEGATIVE', 'score': 0.9994708895683289}, {'label': 'NEGATIVE', 'score': 0.9995531439781189}, {'label': 'NEGATIVE', 'score': 0.9987363219261169}, {'label': 'NEGATIVE', 'score': 0.9993352293968201}, {'label': 'NEGATIVE', 'score': 0.9856033325195312}, {'label': 'NEGATIVE', 'score': 0.9604882001876831}, {'label': 'NEGATIVE', 'score': 0.9985097050666809}, {'label': 'NEGATIVE', 'score': 0.9997738003730774}, {'label': 'NEGATIVE', 'score': 0.9997128844261169}, {'label': 'NEGATIVE', 'score': 0.9962728023529053}, {'label': 'NEGATIVE', 'score': 0.9995922446250916}, {'label': 'NEGATIVE', 'score': 0.9962222576141357}, {'label': 'NEGATIVE', 'score': 0.9986191987991333}, {'label': 'NEGATIVE', 'score': 0.9994230270385742}, {'label': 'NEGATIVE', 'score': 0.9995044469833374}, {'label': 'NEGATIVE', 'score': 0.9984400868415833}, {'label': 'NEGATIVE', 'score': 0.9997397065162659}, {'label': 'NEGATIVE', 'score': 0.9996399879455566}, {'label': 'NEGATIVE', 'score': 0.9992890357971191}, {'label': 'NEGATIVE', 'score': 0.9949305653572083}, {'label': 'NEGATIVE', 'score': 0.9975447058677673}, {'label': 'NEGATIVE', 'score': 0.9952840209007263}, {'label': 'NEGATIVE', 'score': 0.9996627569198608}, {'label': 'NEGATIVE', 'score': 0.9997267127037048}, {'label': 'NEGATIVE', 'score': 0.9976746439933777}, {'label': 'NEGATIVE', 'score': 0.9996852874755859}, {'label': 'NEGATIVE', 'score': 0.999228835105896}, {'label': 'NEGATIVE', 'score': 0.933082103729248}, {'label': 'NEGATIVE', 'score': 0.609532356262207}, {'label': 'NEGATIVE', 'score': 0.9907627701759338}, {'label': 'POSITIVE', 'score': 0.5585307478904724}, {'label': 'NEGATIVE', 'score': 0.9977226853370667}, {'label': 'NEGATIVE', 'score': 0.9092113971710205}, {'label': 'NEGATIVE', 'score': 0.9409313201904297}, {'label': 'NEGATIVE', 'score': 0.9989967942237854}, {'label': 'NEGATIVE', 'score': 0.9936584830284119}, {'label': 'NEGATIVE', 'score': 0.9993671774864197}, {'label': 'NEGATIVE', 'score': 0.9991477727890015}, {'label': 'NEGATIVE', 'score': 0.9995439648628235}, {'label': 'NEGATIVE', 'score': 0.9960083961486816}, {'label': 'NEGATIVE', 'score': 0.9995121955871582}, {'label': 'NEGATIVE', 'score': 0.9996033310890198}, {'label': 'NEGATIVE', 'score': 0.9990717172622681}, {'label': 'POSITIVE', 'score': 0.7605010271072388}, {'label': 'NEGATIVE', 'score': 0.5655022859573364}, {'label': 'POSITIVE', 'score': 0.9973016977310181}, {'label': 'NEGATIVE', 'score': 0.9956191182136536}, {'label': 'NEGATIVE', 'score': 0.999298095703125}, {'label': 'NEGATIVE', 'score': 0.9995296001434326}, {'label': 'NEGATIVE', 'score': 0.9990610480308533}, {'label': 'NEGATIVE', 'score': 0.9991326928138733}, {'label': 'NEGATIVE', 'score': 0.9993298053741455}, {'label': 'NEGATIVE', 'score': 0.9976811408996582}, {'label': 'NEGATIVE', 'score': 0.999579131603241}, {'label': 'NEGATIVE', 'score': 0.9924293160438538}, {'label': 'NEGATIVE', 'score': 0.996362030506134}, {'label': 'NEGATIVE', 'score': 0.9989625215530396}, {'label': 'NEGATIVE', 'score': 0.9982643723487854}, {'label': 'NEGATIVE', 'score': 0.9995172023773193}, {'label': 'NEGATIVE', 'score': 0.9992535710334778}, {'label': 'NEGATIVE', 'score': 0.9975627660751343}, {'label': 'NEGATIVE', 'score': 0.9417085647583008}, {'label': 'NEGATIVE', 'score': 0.9989896416664124}, {'label': 'NEGATIVE', 'score': 0.9987422823905945}, {'label': 'NEGATIVE', 'score': 0.999626874923706}, {'label': 'NEGATIVE', 'score': 0.9994799494743347}, {'label': 'NEGATIVE', 'score': 0.9972831010818481}, {'label': 'NEGATIVE', 'score': 0.9773578643798828}, {'label': 'NEGATIVE', 'score': 0.997479259967804}, {'label': 'NEGATIVE', 'score': 0.9979372024536133}, {'label': 'NEGATIVE', 'score': 0.9993846416473389}, {'label': 'NEGATIVE', 'score': 0.9971532821655273}, {'label': 'NEGATIVE', 'score': 0.9968044757843018}, {'label': 'NEGATIVE', 'score': 0.999713122844696}, {'label': 'NEGATIVE', 'score': 0.9976325035095215}, {'label': 'NEGATIVE', 'score': 0.9997476935386658}, {'label': 'NEGATIVE', 'score': 0.9995404481887817}, {'label': 'NEGATIVE', 'score': 0.9763140082359314}, {'label': 'NEGATIVE', 'score': 0.9893754720687866}, {'label': 'NEGATIVE', 'score': 0.999716579914093}, {'label': 'NEGATIVE', 'score': 0.9996902942657471}, {'label': 'NEGATIVE', 'score': 0.997235119342804}, {'label': 'NEGATIVE', 'score': 0.99861741065979}, {'label': 'POSITIVE', 'score': 0.9635014533996582}, {'label': 'POSITIVE', 'score': 0.995506763458252}, {'label': 'NEGATIVE', 'score': 0.9984723925590515}, {'label': 'NEGATIVE', 'score': 0.9920490384101868}, {'label': 'NEGATIVE', 'score': 0.999319314956665}, {'label': 'NEGATIVE', 'score': 0.998521625995636}, {'label': 'NEGATIVE', 'score': 0.9990707039833069}, {'label': 'NEGATIVE', 'score': 0.9228067994117737}, {'label': 'NEGATIVE', 'score': 0.9989835619926453}, {'label': 'NEGATIVE', 'score': 0.5198619961738586}, {'label': 'NEGATIVE', 'score': 0.9996905326843262}, {'label': 'NEGATIVE', 'score': 0.9991849064826965}, {'label': 'NEGATIVE', 'score': 0.9996893405914307}, {'label': 'NEGATIVE', 'score': 0.9996606111526489}, {'label': 'NEGATIVE', 'score': 0.9996230602264404}, {'label': 'NEGATIVE', 'score': 0.9996930360794067}, {'label': 'NEGATIVE', 'score': 0.999321460723877}, {'label': 'NEGATIVE', 'score': 0.965158998966217}, {'label': 'NEGATIVE', 'score': 0.9996192455291748}, {'label': 'NEGATIVE', 'score': 0.5466457009315491}, {'label': 'NEGATIVE', 'score': 0.9997021555900574}, {'label': 'NEGATIVE', 'score': 0.999516487121582}, {'label': 'NEGATIVE', 'score': 0.9993742108345032}, {'label': 'NEGATIVE', 'score': 0.9994507431983948}, {'label': 'NEGATIVE', 'score': 0.9990597367286682}, {'label': 'NEGATIVE', 'score': 0.9716984033584595}, {'label': 'NEGATIVE', 'score': 0.9997081160545349}, {'label': 'NEGATIVE', 'score': 0.9925636649131775}, {'label': 'NEGATIVE', 'score': 0.9996294975280762}, {'label': 'NEGATIVE', 'score': 0.9764126539230347}, {'label': 'NEGATIVE', 'score': 0.9995706677436829}, {'label': 'NEGATIVE', 'score': 0.9985771179199219}, {'label': 'NEGATIVE', 'score': 0.9907060265541077}, {'label': 'NEGATIVE', 'score': 0.9990695118904114}, {'label': 'NEGATIVE', 'score': 0.9997331500053406}, {'label': 'NEGATIVE', 'score': 0.9992874264717102}, {'label': 'NEGATIVE', 'score': 0.999488353729248}, {'label': 'NEGATIVE', 'score': 0.6806831359863281}, {'label': 'NEGATIVE', 'score': 0.9304040670394897}, {'label': 'NEGATIVE', 'score': 0.9988431930541992}, {'label': 'NEGATIVE', 'score': 0.9990928173065186}, {'label': 'NEGATIVE', 'score': 0.9996486902236938}, {'label': 'NEGATIVE', 'score': 0.9900481700897217}, {'label': 'NEGATIVE', 'score': 0.9992737174034119}, {'label': 'NEGATIVE', 'score': 0.9991657733917236}, {'label': 'NEGATIVE', 'score': 0.9949995279312134}, {'label': 'NEGATIVE', 'score': 0.9944215416908264}, {'label': 'NEGATIVE', 'score': 0.9896878600120544}, {'label': 'NEGATIVE', 'score': 0.9410915970802307}, {'label': 'NEGATIVE', 'score': 0.9960210919380188}, {'label': 'POSITIVE', 'score': 0.9665780663490295}, {'label': 'POSITIVE', 'score': 0.9758899807929993}, {'label': 'NEGATIVE', 'score': 0.9996179342269897}, {'label': 'NEGATIVE', 'score': 0.9995633959770203}, {'label': 'NEGATIVE', 'score': 0.9994151592254639}, {'label': 'NEGATIVE', 'score': 0.9934141635894775}, {'label': 'NEGATIVE', 'score': 0.999056875705719}, {'label': 'NEGATIVE', 'score': 0.9978432655334473}, {'label': 'NEGATIVE', 'score': 0.9997549653053284}, {'label': 'NEGATIVE', 'score': 0.9956436157226562}, {'label': 'NEGATIVE', 'score': 0.9993438124656677}, {'label': 'NEGATIVE', 'score': 0.8426501750946045}, {'label': 'NEGATIVE', 'score': 0.7068427801132202}, {'label': 'NEGATIVE', 'score': 0.992675244808197}, {'label': 'NEGATIVE', 'score': 0.991897702217102}, {'label': 'POSITIVE', 'score': 0.8328962922096252}, {'label': 'NEGATIVE', 'score': 0.9674824476242065}, {'label': 'NEGATIVE', 'score': 0.6481863856315613}, {'label': 'NEGATIVE', 'score': 0.9993287324905396}, {'label': 'NEGATIVE', 'score': 0.7680773735046387}, {'label': 'POSITIVE', 'score': 0.9977066516876221}, {'label': 'POSITIVE', 'score': 0.8690974712371826}, {'label': 'POSITIVE', 'score': 0.9998528957366943}, {'label': 'NEGATIVE', 'score': 0.9972373247146606}, {'label': 'POSITIVE', 'score': 0.9808957576751709}, {'label': 'POSITIVE', 'score': 0.9964918494224548}, {'label': 'POSITIVE', 'score': 0.9789587259292603}, {'label': 'POSITIVE', 'score': 0.9980954527854919}, {'label': 'POSITIVE', 'score': 0.9936028122901917}, {'label': 'POSITIVE', 'score': 0.9982779026031494}, {'label': 'POSITIVE', 'score': 0.9956356883049011}, {'label': 'NEGATIVE', 'score': 0.8063493371009827}, {'label': 'NEGATIVE', 'score': 0.9911244511604309}, {'label': 'NEGATIVE', 'score': 0.9522112607955933}, {'label': 'NEGATIVE', 'score': 0.9920892715454102}, {'label': 'NEGATIVE', 'score': 0.9705427885055542}, {'label': 'POSITIVE', 'score': 0.9980930685997009}, {'label': 'POSITIVE', 'score': 0.938719630241394}, {'label': 'NEGATIVE', 'score': 0.9973915815353394}, {'label': 'POSITIVE', 'score': 0.9121992588043213}, {'label': 'POSITIVE', 'score': 0.9842192530632019}, {'label': 'POSITIVE', 'score': 0.7836679816246033}, {'label': 'NEGATIVE', 'score': 0.9349779486656189}, {'label': 'NEGATIVE', 'score': 0.6955078840255737}, {'label': 'POSITIVE', 'score': 0.5184714198112488}, {'label': 'NEGATIVE', 'score': 0.7172620892524719}, {'label': 'POSITIVE', 'score': 0.6787678599357605}, {'label': 'POSITIVE', 'score': 0.9857189059257507}, {'label': 'NEGATIVE', 'score': 0.9827175736427307}, {'label': 'POSITIVE', 'score': 0.9194384813308716}, {'label': 'NEGATIVE', 'score': 0.9993900060653687}, {'label': 'NEGATIVE', 'score': 0.9882320761680603}, {'label': 'POSITIVE', 'score': 0.8202573657035828}, {'label': 'POSITIVE', 'score': 0.9597315192222595}, {'label': 'NEGATIVE', 'score': 0.7478160262107849}, {'label': 'NEGATIVE', 'score': 0.9789904356002808}, {'label': 'NEGATIVE', 'score': 0.9870342016220093}, {'label': 'POSITIVE', 'score': 0.9997699856758118}, {'label': 'POSITIVE', 'score': 0.9926685094833374}, {'label': 'POSITIVE', 'score': 0.9994457364082336}, {'label': 'POSITIVE', 'score': 0.995758593082428}, {'label': 'NEGATIVE', 'score': 0.5647791624069214}, {'label': 'POSITIVE', 'score': 0.9980270266532898}, {'label': 'NEGATIVE', 'score': 0.9342026114463806}, {'label': 'NEGATIVE', 'score': 0.9160967469215393}, {'label': 'POSITIVE', 'score': 0.99363774061203}, {'label': 'POSITIVE', 'score': 0.9970411658287048}, {'label': 'NEGATIVE', 'score': 0.5330361723899841}, {'label': 'NEGATIVE', 'score': 0.9832183718681335}, {'label': 'NEGATIVE', 'score': 0.9860115647315979}, {'label': 'POSITIVE', 'score': 0.9975191354751587}, {'label': 'POSITIVE', 'score': 0.6361739635467529}, {'label': 'POSITIVE', 'score': 0.7592983245849609}, {'label': 'NEGATIVE', 'score': 0.9892246127128601}, {'label': 'NEGATIVE', 'score': 0.647052526473999}, {'label': 'POSITIVE', 'score': 0.991821825504303}, {'label': 'NEGATIVE', 'score': 0.820412278175354}, {'label': 'POSITIVE', 'score': 0.9979932308197021}, {'label': 'NEGATIVE', 'score': 0.786338210105896}, {'label': 'NEGATIVE', 'score': 0.9897889494895935}, {'label': 'POSITIVE', 'score': 0.7426629662513733}, {'label': 'NEGATIVE', 'score': 0.9894512295722961}, {'label': 'NEGATIVE', 'score': 0.9879403114318848}, {'label': 'NEGATIVE', 'score': 0.5338104963302612}, {'label': 'NEGATIVE', 'score': 0.8145509362220764}, {'label': 'POSITIVE', 'score': 0.9384275674819946}, {'label': 'NEGATIVE', 'score': 0.9165390133857727}, {'label': 'NEGATIVE', 'score': 0.8282657265663147}, {'label': 'NEGATIVE', 'score': 0.9816378951072693}, {'label': 'NEGATIVE', 'score': 0.9914708733558655}, {'label': 'NEGATIVE', 'score': 0.9848137497901917}, {'label': 'NEGATIVE', 'score': 0.9758879542350769}, {'label': 'POSITIVE', 'score': 0.6784113049507141}, {'label': 'POSITIVE', 'score': 0.98811274766922}, {'label': 'POSITIVE', 'score': 0.99504554271698}, {'label': 'POSITIVE', 'score': 0.8129293322563171}, {'label': 'POSITIVE', 'score': 0.903694748878479}, {'label': 'POSITIVE', 'score': 0.9089130163192749}, {'label': 'NEGATIVE', 'score': 0.9483252167701721}, {'label': 'NEGATIVE', 'score': 0.8568711280822754}, {'label': 'NEGATIVE', 'score': 0.9811145663261414}, {'label': 'NEGATIVE', 'score': 0.9741272330284119}, {'label': 'NEGATIVE', 'score': 0.9901140928268433}, {'label': 'POSITIVE', 'score': 0.6376604437828064}, {'label': 'POSITIVE', 'score': 0.9981624484062195}, {'label': 'POSITIVE', 'score': 0.951302707195282}, {'label': 'NEGATIVE', 'score': 0.9539750814437866}, {'label': 'POSITIVE', 'score': 0.997528612613678}, {'label': 'NEGATIVE', 'score': 0.9979085922241211}, {'label': 'POSITIVE', 'score': 0.9512225389480591}, {'label': 'POSITIVE', 'score': 0.9944828748703003}, {'label': 'NEGATIVE', 'score': 0.666675865650177}, {'label': 'NEGATIVE', 'score': 0.9920561909675598}, {'label': 'POSITIVE', 'score': 0.9968942403793335}, {'label': 'NEGATIVE', 'score': 0.9813020825386047}, {'label': 'POSITIVE', 'score': 0.9996362924575806}, {'label': 'NEGATIVE', 'score': 0.7199100852012634}, {'label': 'NEGATIVE', 'score': 0.9810642004013062}, {'label': 'POSITIVE', 'score': 0.9935497641563416}, {'label': 'NEGATIVE', 'score': 0.9385433197021484}, {'label': 'POSITIVE', 'score': 0.996870219707489}, {'label': 'POSITIVE', 'score': 0.8372244238853455}, {'label': 'POSITIVE', 'score': 0.5075982213020325}, {'label': 'NEGATIVE', 'score': 0.596742570400238}, {'label': 'NEGATIVE', 'score': 0.9438838362693787}, {'label': 'NEGATIVE', 'score': 0.9664201140403748}, {'label': 'NEGATIVE', 'score': 0.9582545161247253}, {'label': 'NEGATIVE', 'score': 0.6150249242782593}, {'label': 'NEGATIVE', 'score': 0.6898391246795654}, {'label': 'NEGATIVE', 'score': 0.6518728137016296}, {'label': 'NEGATIVE', 'score': 0.9951819777488708}, {'label': 'POSITIVE', 'score': 0.9163597226142883}, {'label': 'NEGATIVE', 'score': 0.9997923970222473}, {'label': 'POSITIVE', 'score': 0.9968796968460083}, {'label': 'POSITIVE', 'score': 0.9974352717399597}, {'label': 'NEGATIVE', 'score': 0.9765738248825073}, {'label': 'NEGATIVE', 'score': 0.979015588760376}, {'label': 'NEGATIVE', 'score': 0.9935209155082703}, {'label': 'POSITIVE', 'score': 0.9899733066558838}, {'label': 'NEGATIVE', 'score': 0.8511776924133301}, {'label': 'NEGATIVE', 'score': 0.9915044903755188}, {'label': 'POSITIVE', 'score': 0.5893955826759338}, {'label': 'POSITIVE', 'score': 0.6948329210281372}, {'label': 'NEGATIVE', 'score': 0.5487675666809082}, {'label': 'POSITIVE', 'score': 0.9918811917304993}, {'label': 'NEGATIVE', 'score': 0.7288127541542053}, {'label': 'NEGATIVE', 'score': 0.9975548386573792}, {'label': 'NEGATIVE', 'score': 0.7572213411331177}, {'label': 'NEGATIVE', 'score': 0.974719762802124}, {'label': 'NEGATIVE', 'score': 0.9904822111129761}, {'label': 'NEGATIVE', 'score': 0.9760292172431946}, {'label': 'NEGATIVE', 'score': 0.9991025924682617}, {'label': 'POSITIVE', 'score': 0.9970068335533142}, {'label': 'NEGATIVE', 'score': 0.6975700855255127}, {'label': 'NEGATIVE', 'score': 0.9969868063926697}, {'label': 'NEGATIVE', 'score': 0.9965936541557312}, {'label': 'NEGATIVE', 'score': 0.9953953623771667}, {'label': 'POSITIVE', 'score': 0.9955803751945496}, {'label': 'POSITIVE', 'score': 0.9987353682518005}, {'label': 'POSITIVE', 'score': 0.9896559715270996}, {'label': 'POSITIVE', 'score': 0.924496054649353}, {'label': 'NEGATIVE', 'score': 0.9855127930641174}, {'label': 'POSITIVE', 'score': 0.5265216827392578}, {'label': 'NEGATIVE', 'score': 0.9837509989738464}, {'label': 'NEGATIVE', 'score': 0.9853447079658508}, {'label': 'POSITIVE', 'score': 0.9499855637550354}, {'label': 'NEGATIVE', 'score': 0.9940513968467712}, {'label': 'NEGATIVE', 'score': 0.9948851466178894}, {'label': 'NEGATIVE', 'score': 0.9932408332824707}, {'label': 'NEGATIVE', 'score': 0.9377602934837341}, {'label': 'NEGATIVE', 'score': 0.9741050601005554}, {'label': 'NEGATIVE', 'score': 0.9922907948493958}, {'label': 'POSITIVE', 'score': 0.9625327587127686}, {'label': 'NEGATIVE', 'score': 0.6435425281524658}, {'label': 'NEGATIVE', 'score': 0.9694026708602905}, {'label': 'NEGATIVE', 'score': 0.9965644478797913}, {'label': 'NEGATIVE', 'score': 0.9891988635063171}, {'label': 'POSITIVE', 'score': 0.9846063852310181}, {'label': 'NEGATIVE', 'score': 0.9396963119506836}, {'label': 'POSITIVE', 'score': 0.9967235922813416}, {'label': 'POSITIVE', 'score': 0.9996997117996216}, {'label': 'POSITIVE', 'score': 0.998688280582428}, {'label': 'NEGATIVE', 'score': 0.9446714520454407}, {'label': 'POSITIVE', 'score': 0.9989891648292542}, {'label': 'NEGATIVE', 'score': 0.5519058704376221}, {'label': 'POSITIVE', 'score': 0.985787034034729}, {'label': 'NEGATIVE', 'score': 0.9814675450325012}, {'label': 'NEGATIVE', 'score': 0.9784700870513916}, {'label': 'POSITIVE', 'score': 0.7872000336647034}, {'label': 'NEGATIVE', 'score': 0.9988911747932434}, {'label': 'POSITIVE', 'score': 0.9678493738174438}, {'label': 'POSITIVE', 'score': 0.9932683110237122}, {'label': 'POSITIVE', 'score': 0.9969794750213623}, {'label': 'POSITIVE', 'score': 0.6268348097801208}, {'label': 'POSITIVE', 'score': 0.9994787573814392}, {'label': 'POSITIVE', 'score': 0.9709160923957825}, {'label': 'NEGATIVE', 'score': 0.9663786292076111}, {'label': 'NEGATIVE', 'score': 0.979093074798584}, {'label': 'POSITIVE', 'score': 0.6689326167106628}, {'label': 'POSITIVE', 'score': 0.9970154762268066}, {'label': 'NEGATIVE', 'score': 0.9515972137451172}, {'label': 'NEGATIVE', 'score': 0.6995652318000793}, {'label': 'NEGATIVE', 'score': 0.9939058423042297}, {'label': 'NEGATIVE', 'score': 0.9763635396957397}, {'label': 'NEGATIVE', 'score': 0.9896270036697388}, {'label': 'NEGATIVE', 'score': 0.984514057636261}, {'label': 'NEGATIVE', 'score': 0.9907783269882202}, {'label': 'NEGATIVE', 'score': 0.990629255771637}, {'label': 'NEGATIVE', 'score': 0.9918010830879211}, {'label': 'POSITIVE', 'score': 0.8916863799095154}, {'label': 'NEGATIVE', 'score': 0.7708013653755188}, {'label': 'POSITIVE', 'score': 0.8940325379371643}, {'label': 'NEGATIVE', 'score': 0.932596743106842}, {'label': 'POSITIVE', 'score': 0.998636782169342}, {'label': 'POSITIVE', 'score': 0.9989759922027588}, {'label': 'POSITIVE', 'score': 0.9890505075454712}, {'label': 'POSITIVE', 'score': 0.9880892634391785}, {'label': 'POSITIVE', 'score': 0.9383729100227356}, {'label': 'POSITIVE', 'score': 0.6595640182495117}, {'label': 'POSITIVE', 'score': 0.99268639087677}, {'label': 'POSITIVE', 'score': 0.8403549790382385}, {'label': 'POSITIVE', 'score': 0.994577169418335}, {'label': 'POSITIVE', 'score': 0.9965959191322327}, {'label': 'NEGATIVE', 'score': 0.9978275895118713}, {'label': 'NEGATIVE', 'score': 0.8904098272323608}, {'label': 'NEGATIVE', 'score': 0.9628995060920715}, {'label': 'POSITIVE', 'score': 0.98029625415802}, {'label': 'NEGATIVE', 'score': 0.9603739380836487}, {'label': 'NEGATIVE', 'score': 0.9848243594169617}, {'label': 'NEGATIVE', 'score': 0.9784180521965027}, {'label': 'NEGATIVE', 'score': 0.9958076477050781}, {'label': 'NEGATIVE', 'score': 0.9958310723304749}, {'label': 'NEGATIVE', 'score': 0.9952042102813721}, {'label': 'NEGATIVE', 'score': 0.9278759360313416}, {'label': 'POSITIVE', 'score': 0.996206521987915}, {'label': 'POSITIVE', 'score': 0.9931608438491821}, {'label': 'NEGATIVE', 'score': 0.9499546885490417}, {'label': 'POSITIVE', 'score': 0.9924286007881165}, {'label': 'POSITIVE', 'score': 0.9919804334640503}, {'label': 'NEGATIVE', 'score': 0.9997205138206482}, {'label': 'NEGATIVE', 'score': 0.9996548891067505}, {'label': 'NEGATIVE', 'score': 0.9925810098648071}, {'label': 'NEGATIVE', 'score': 0.9986279010772705}, {'label': 'NEGATIVE', 'score': 0.9987039566040039}, {'label': 'NEGATIVE', 'score': 0.9979702830314636}, {'label': 'NEGATIVE', 'score': 0.7944612503051758}, {'label': 'NEGATIVE', 'score': 0.9993428587913513}, {'label': 'NEGATIVE', 'score': 0.9726004600524902}, {'label': 'NEGATIVE', 'score': 0.9881928563117981}, {'label': 'NEGATIVE', 'score': 0.9974800944328308}, {'label': 'POSITIVE', 'score': 0.8593114018440247}, {'label': 'NEGATIVE', 'score': 0.9994586110115051}, {'label': 'NEGATIVE', 'score': 0.9965204000473022}, {'label': 'NEGATIVE', 'score': 0.9938014149665833}, {'label': 'NEGATIVE', 'score': 0.8750389218330383}, {'label': 'NEGATIVE', 'score': 0.9900876879692078}, {'label': 'NEGATIVE', 'score': 0.9948988556861877}, {'label': 'NEGATIVE', 'score': 0.984245240688324}, {'label': 'NEGATIVE', 'score': 0.9945474863052368}, {'label': 'NEGATIVE', 'score': 0.9883528351783752}, {'label': 'NEGATIVE', 'score': 0.9791271090507507}, {'label': 'NEGATIVE', 'score': 0.9180856347084045}, {'label': 'NEGATIVE', 'score': 0.9965946078300476}, {'label': 'NEGATIVE', 'score': 0.9953853487968445}, {'label': 'POSITIVE', 'score': 0.565165638923645}, {'label': 'NEGATIVE', 'score': 0.9995875954627991}, {'label': 'NEGATIVE', 'score': 0.9995558857917786}, {'label': 'NEGATIVE', 'score': 0.951443076133728}, {'label': 'NEGATIVE', 'score': 0.9717831611633301}, {'label': 'NEGATIVE', 'score': 0.998035728931427}, {'label': 'NEGATIVE', 'score': 0.9984443783760071}, {'label': 'NEGATIVE', 'score': 0.9917003512382507}, {'label': 'NEGATIVE', 'score': 0.9962559938430786}, {'label': 'NEGATIVE', 'score': 0.9942746758460999}, {'label': 'NEGATIVE', 'score': 0.994434654712677}, {'label': 'NEGATIVE', 'score': 0.9952290058135986}, {'label': 'NEGATIVE', 'score': 0.9971989393234253}, {'label': 'NEGATIVE', 'score': 0.9966024160385132}, {'label': 'NEGATIVE', 'score': 0.993878185749054}, {'label': 'NEGATIVE', 'score': 0.992154061794281}, {'label': 'NEGATIVE', 'score': 0.9834733605384827}, {'label': 'POSITIVE', 'score': 0.9995321035385132}, {'label': 'NEGATIVE', 'score': 0.9956465363502502}, {'label': 'NEGATIVE', 'score': 0.9981824159622192}, {'label': 'POSITIVE', 'score': 0.9970397353172302}, {'label': 'NEGATIVE', 'score': 0.9992534518241882}, {'label': 'NEGATIVE', 'score': 0.9989511966705322}, {'label': 'NEGATIVE', 'score': 0.9993215799331665}, {'label': 'NEGATIVE', 'score': 0.9993816614151001}, {'label': 'NEGATIVE', 'score': 0.9992902278900146}, {'label': 'NEGATIVE', 'score': 0.9956203103065491}, {'label': 'NEGATIVE', 'score': 0.9900829195976257}, {'label': 'NEGATIVE', 'score': 0.9893418550491333}, {'label': 'NEGATIVE', 'score': 0.9997621178627014}, {'label': 'POSITIVE', 'score': 0.9729365110397339}, {'label': 'NEGATIVE', 'score': 0.9988865256309509}, {'label': 'POSITIVE', 'score': 0.9701136946678162}, {'label': 'POSITIVE', 'score': 0.9779089689254761}, {'label': 'POSITIVE', 'score': 0.9562936425209045}, {'label': 'NEGATIVE', 'score': 0.6658188700675964}, {'label': 'POSITIVE', 'score': 0.6722097992897034}, {'label': 'NEGATIVE', 'score': 0.9940699338912964}, {'label': 'NEGATIVE', 'score': 0.9939982891082764}, {'label': 'NEGATIVE', 'score': 0.9078245162963867}, {'label': 'NEGATIVE', 'score': 0.9802810549736023}, {'label': 'NEGATIVE', 'score': 0.9843692779541016}, {'label': 'NEGATIVE', 'score': 0.9977434873580933}, {'label': 'POSITIVE', 'score': 0.8231731653213501}, {'label': 'NEGATIVE', 'score': 0.9860309362411499}, {'label': 'NEGATIVE', 'score': 0.9850590229034424}, {'label': 'NEGATIVE', 'score': 0.9921263456344604}, {'label': 'NEGATIVE', 'score': 0.8064326643943787}, {'label': 'POSITIVE', 'score': 0.7093349695205688}, {'label': 'NEGATIVE', 'score': 0.9991384744644165}, {'label': 'NEGATIVE', 'score': 0.9984853863716125}, {'label': 'NEGATIVE', 'score': 0.8622402548789978}, {'label': 'NEGATIVE', 'score': 0.9974979758262634}, {'label': 'NEGATIVE', 'score': 0.9905750751495361}, {'label': 'NEGATIVE', 'score': 0.9524321556091309}, {'label': 'NEGATIVE', 'score': 0.9123746752738953}, {'label': 'NEGATIVE', 'score': 0.9952446818351746}, {'label': 'NEGATIVE', 'score': 0.998595654964447}, {'label': 'NEGATIVE', 'score': 0.9785888195037842}, {'label': 'NEGATIVE', 'score': 0.9987788796424866}, {'label': 'NEGATIVE', 'score': 0.9985145926475525}, {'label': 'NEGATIVE', 'score': 0.9958350658416748}, {'label': 'NEGATIVE', 'score': 0.9995799660682678}, {'label': 'NEGATIVE', 'score': 0.9967868328094482}, {'label': 'POSITIVE', 'score': 0.8228861689567566}, {'label': 'NEGATIVE', 'score': 0.9994902610778809}, {'label': 'NEGATIVE', 'score': 0.9983459711074829}, {'label': 'NEGATIVE', 'score': 0.9956862926483154}, {'label': 'NEGATIVE', 'score': 0.9993396401405334}, {'label': 'NEGATIVE', 'score': 0.9996633529663086}, {'label': 'NEGATIVE', 'score': 0.9954518675804138}, {'label': 'NEGATIVE', 'score': 0.9981303811073303}, {'label': 'NEGATIVE', 'score': 0.999458372592926}, {'label': 'NEGATIVE', 'score': 0.9987051486968994}, {'label': 'POSITIVE', 'score': 0.99583899974823}, {'label': 'POSITIVE', 'score': 0.6240551471710205}, {'label': 'POSITIVE', 'score': 0.9456005692481995}, {'label': 'NEGATIVE', 'score': 0.8724538683891296}, {'label': 'NEGATIVE', 'score': 0.9944901466369629}, {'label': 'POSITIVE', 'score': 0.9986749291419983}, {'label': 'NEGATIVE', 'score': 0.9726147651672363}, {'label': 'NEGATIVE', 'score': 0.9898634552955627}, {'label': 'POSITIVE', 'score': 0.9557814598083496}, {'label': 'POSITIVE', 'score': 0.9549528956413269}, {'label': 'POSITIVE', 'score': 0.8130335807800293}, {'label': 'NEGATIVE', 'score': 0.9931347370147705}, {'label': 'NEGATIVE', 'score': 0.9965588450431824}, {'label': 'POSITIVE', 'score': 0.99573814868927}, {'label': 'NEGATIVE', 'score': 0.9992027878761292}, {'label': 'NEGATIVE', 'score': 0.9996418952941895}, {'label': 'NEGATIVE', 'score': 0.9810040593147278}, {'label': 'NEGATIVE', 'score': 0.9997678399085999}, {'label': 'POSITIVE', 'score': 0.5096228718757629}, {'label': 'NEGATIVE', 'score': 0.9898113012313843}, {'label': 'NEGATIVE', 'score': 0.9895204305648804}, {'label': 'NEGATIVE', 'score': 0.9558643102645874}, {'label': 'NEGATIVE', 'score': 0.9943769574165344}, {'label': 'NEGATIVE', 'score': 0.9962059259414673}, {'label': 'NEGATIVE', 'score': 0.986849308013916}, {'label': 'POSITIVE', 'score': 0.9969801306724548}, {'label': 'NEGATIVE', 'score': 0.9941660165786743}, {'label': 'NEGATIVE', 'score': 0.9977632761001587}, {'label': 'NEGATIVE', 'score': 0.9971670508384705}, {'label': 'POSITIVE', 'score': 0.9996151924133301}, {'label': 'NEGATIVE', 'score': 0.9903809428215027}, {'label': 'POSITIVE', 'score': 0.9995362758636475}, {'label': 'NEGATIVE', 'score': 0.993157684803009}, {'label': 'NEGATIVE', 'score': 0.9914137125015259}, {'label': 'POSITIVE', 'score': 0.997218132019043}, {'label': 'NEGATIVE', 'score': 0.9884871244430542}, {'label': 'POSITIVE', 'score': 0.9979670643806458}, {'label': 'NEGATIVE', 'score': 0.9947285056114197}, {'label': 'NEGATIVE', 'score': 0.9976375102996826}, {'label': 'NEGATIVE', 'score': 0.9942663311958313}, {'label': 'NEGATIVE', 'score': 0.9986028075218201}, {'label': 'NEGATIVE', 'score': 0.999648928642273}, {'label': 'POSITIVE', 'score': 0.9182969927787781}, {'label': 'NEGATIVE', 'score': 0.9849204421043396}, {'label': 'NEGATIVE', 'score': 0.8910937905311584}, {'label': 'POSITIVE', 'score': 0.9987486600875854}, {'label': 'NEGATIVE', 'score': 0.9871959686279297}, {'label': 'NEGATIVE', 'score': 0.8750225901603699}, {'label': 'POSITIVE', 'score': 0.9933745265007019}, {'label': 'NEGATIVE', 'score': 0.9779792428016663}, {'label': 'NEGATIVE', 'score': 0.9857997894287109}, {'label': 'POSITIVE', 'score': 0.981050968170166}, {'label': 'NEGATIVE', 'score': 0.9997221827507019}, {'label': 'NEGATIVE', 'score': 0.995820164680481}, {'label': 'POSITIVE', 'score': 0.9952127933502197}, {'label': 'NEGATIVE', 'score': 0.9951432943344116}, {'label': 'POSITIVE', 'score': 0.9993298053741455}, {'label': 'NEGATIVE', 'score': 0.8332458138465881}, {'label': 'POSITIVE', 'score': 0.9183933734893799}, {'label': 'NEGATIVE', 'score': 0.9991180300712585}, {'label': 'POSITIVE', 'score': 0.9016958475112915}, {'label': 'NEGATIVE', 'score': 0.9237679839134216}, {'label': 'POSITIVE', 'score': 0.9704992175102234}, {'label': 'NEGATIVE', 'score': 0.9573583006858826}, {'label': 'NEGATIVE', 'score': 0.9045584201812744}, {'label': 'POSITIVE', 'score': 0.9876925349235535}, {'label': 'NEGATIVE', 'score': 0.5285019278526306}, {'label': 'POSITIVE', 'score': 0.5208138227462769}, {'label': 'POSITIVE', 'score': 0.5049179792404175}, {'label': 'POSITIVE', 'score': 0.9568850994110107}, {'label': 'POSITIVE', 'score': 0.8852062821388245}, {'label': 'NEGATIVE', 'score': 0.9651346802711487}, {'label': 'POSITIVE', 'score': 0.9780675768852234}, {'label': 'NEGATIVE', 'score': 0.9925244450569153}, {'label': 'NEGATIVE', 'score': 0.9932035207748413}, {'label': 'NEGATIVE', 'score': 0.9562377333641052}, {'label': 'NEGATIVE', 'score': 0.9491214752197266}, {'label': 'POSITIVE', 'score': 0.9997889399528503}, {'label': 'NEGATIVE', 'score': 0.9897088408470154}, {'label': 'NEGATIVE', 'score': 0.983066201210022}, {'label': 'NEGATIVE', 'score': 0.9933423399925232}, {'label': 'NEGATIVE', 'score': 0.9938404560089111}, {'label': 'NEGATIVE', 'score': 0.997783362865448}, {'label': 'NEGATIVE', 'score': 0.90884929895401}, {'label': 'NEGATIVE', 'score': 0.9952080845832825}, {'label': 'NEGATIVE', 'score': 0.9949309229850769}, {'label': 'NEGATIVE', 'score': 0.9992994070053101}, {'label': 'NEGATIVE', 'score': 0.9938973784446716}, {'label': 'NEGATIVE', 'score': 0.8446753621101379}, {'label': 'POSITIVE', 'score': 0.9290156364440918}, {'label': 'NEGATIVE', 'score': 0.6819868087768555}, {'label': 'POSITIVE', 'score': 0.9973676800727844}, {'label': 'NEGATIVE', 'score': 0.9724834561347961}, {'label': 'POSITIVE', 'score': 0.986665666103363}, {'label': 'POSITIVE', 'score': 0.9991206526756287}, {'label': 'NEGATIVE', 'score': 0.9974474906921387}, {'label': 'NEGATIVE', 'score': 0.7649993300437927}, {'label': 'NEGATIVE', 'score': 0.9925256967544556}, {'label': 'NEGATIVE', 'score': 0.9859040379524231}, {'label': 'NEGATIVE', 'score': 0.9795715808868408}, {'label': 'NEGATIVE', 'score': 0.9943565726280212}, {'label': 'NEGATIVE', 'score': 0.688886821269989}, {'label': 'NEGATIVE', 'score': 0.9659560918807983}, {'label': 'POSITIVE', 'score': 0.9653380513191223}, {'label': 'NEGATIVE', 'score': 0.9843134880065918}, {'label': 'NEGATIVE', 'score': 0.9909132719039917}, {'label': 'NEGATIVE', 'score': 0.9938080906867981}, {'label': 'NEGATIVE', 'score': 0.9996427297592163}, {'label': 'NEGATIVE', 'score': 0.9960575103759766}, {'label': 'POSITIVE', 'score': 0.7128287553787231}, {'label': 'NEGATIVE', 'score': 0.9772241115570068}, {'label': 'NEGATIVE', 'score': 0.9525911211967468}, {'label': 'POSITIVE', 'score': 0.9871587157249451}, {'label': 'NEGATIVE', 'score': 0.9409889578819275}, {'label': 'POSITIVE', 'score': 0.7434682250022888}, {'label': 'POSITIVE', 'score': 0.907843291759491}, {'label': 'POSITIVE', 'score': 0.9928867220878601}, {'label': 'NEGATIVE', 'score': 0.9985823631286621}, {'label': 'NEGATIVE', 'score': 0.999264657497406}, {'label': 'POSITIVE', 'score': 0.9925644993782043}, {'label': 'NEGATIVE', 'score': 0.995963454246521}, {'label': 'POSITIVE', 'score': 0.5332940220832825}, {'label': 'NEGATIVE', 'score': 0.9399049282073975}, {'label': 'NEGATIVE', 'score': 0.9858165979385376}, {'label': 'NEGATIVE', 'score': 0.9670692086219788}, {'label': 'NEGATIVE', 'score': 0.9978259205818176}, {'label': 'NEGATIVE', 'score': 0.9882704019546509}, {'label': 'NEGATIVE', 'score': 0.9707004427909851}, {'label': 'NEGATIVE', 'score': 0.9702871441841125}, {'label': 'NEGATIVE', 'score': 0.997066080570221}, {'label': 'NEGATIVE', 'score': 0.9718016982078552}, {'label': 'NEGATIVE', 'score': 0.9959141612052917}, {'label': 'NEGATIVE', 'score': 0.9296571612358093}, {'label': 'POSITIVE', 'score': 0.9277815222740173}, {'label': 'POSITIVE', 'score': 0.8865814805030823}, {'label': 'POSITIVE', 'score': 0.780097246170044}, {'label': 'NEGATIVE', 'score': 0.9135333895683289}, {'label': 'NEGATIVE', 'score': 0.685346245765686}, {'label': 'NEGATIVE', 'score': 0.9913294315338135}, {'label': 'NEGATIVE', 'score': 0.9965744018554688}, {'label': 'POSITIVE', 'score': 0.7085255980491638}, {'label': 'NEGATIVE', 'score': 0.748755693435669}, {'label': 'NEGATIVE', 'score': 0.6007878184318542}, {'label': 'NEGATIVE', 'score': 0.9986963868141174}, {'label': 'NEGATIVE', 'score': 0.9972580671310425}, {'label': 'NEGATIVE', 'score': 0.8465015888214111}, {'label': 'NEGATIVE', 'score': 0.9949485063552856}, {'label': 'NEGATIVE', 'score': 0.8734576106071472}, {'label': 'POSITIVE', 'score': 0.9966040849685669}, {'label': 'NEGATIVE', 'score': 0.8405857086181641}, {'label': 'POSITIVE', 'score': 0.9923117756843567}, {'label': 'POSITIVE', 'score': 0.9233437776565552}, {'label': 'NEGATIVE', 'score': 0.998958945274353}, {'label': 'POSITIVE', 'score': 0.9659556150436401}, {'label': 'NEGATIVE', 'score': 0.8060327768325806}, {'label': 'NEGATIVE', 'score': 0.9967303276062012}, {'label': 'NEGATIVE', 'score': 0.9956205487251282}, {'label': 'NEGATIVE', 'score': 0.9980751276016235}, {'label': 'NEGATIVE', 'score': 0.9889039397239685}, {'label': 'NEGATIVE', 'score': 0.8916030526161194}, {'label': 'POSITIVE', 'score': 0.7873404622077942}, {'label': 'POSITIVE', 'score': 0.5184962749481201}, {'label': 'POSITIVE', 'score': 0.9957253932952881}, {'label': 'NEGATIVE', 'score': 0.9998193383216858}, {'label': 'POSITIVE', 'score': 0.9993064403533936}, {'label': 'POSITIVE', 'score': 0.999679446220398}, {'label': 'NEGATIVE', 'score': 0.8838626742362976}, {'label': 'NEGATIVE', 'score': 0.9897021055221558}, {'label': 'NEGATIVE', 'score': 0.9929878115653992}, {'label': 'NEGATIVE', 'score': 0.9976296424865723}, {'label': 'NEGATIVE', 'score': 0.9932032823562622}, {'label': 'POSITIVE', 'score': 0.9985949397087097}, {'label': 'POSITIVE', 'score': 0.9985949397087097}, {'label': 'NEGATIVE', 'score': 0.9921505451202393}, {'label': 'NEGATIVE', 'score': 0.9994858503341675}, {'label': 'NEGATIVE', 'score': 0.9006356000900269}, {'label': 'POSITIVE', 'score': 0.9993283748626709}, {'label': 'POSITIVE', 'score': 0.99468994140625}, {'label': 'NEGATIVE', 'score': 0.9650474190711975}, {'label': 'POSITIVE', 'score': 0.9929078817367554}, {'label': 'NEGATIVE', 'score': 0.9464912414550781}, {'label': 'NEGATIVE', 'score': 0.9799140095710754}, {'label': 'NEGATIVE', 'score': 0.9551291465759277}, {'label': 'NEGATIVE', 'score': 0.9411143064498901}, {'label': 'NEGATIVE', 'score': 0.9921720027923584}, {'label': 'NEGATIVE', 'score': 0.9841326475143433}, {'label': 'NEGATIVE', 'score': 0.936674952507019}, {'label': 'NEGATIVE', 'score': 0.9940833449363708}, {'label': 'NEGATIVE', 'score': 0.9961712956428528}, {'label': 'POSITIVE', 'score': 0.5614272952079773}, {'label': 'NEGATIVE', 'score': 0.8953655362129211}, {'label': 'NEGATIVE', 'score': 0.9810174703598022}, {'label': 'POSITIVE', 'score': 0.9960883855819702}, {'label': 'NEGATIVE', 'score': 0.5293757915496826}, {'label': 'POSITIVE', 'score': 0.8517325520515442}, {'label': 'NEGATIVE', 'score': 0.9995148181915283}, {'label': 'NEGATIVE', 'score': 0.9930779337882996}, {'label': 'NEGATIVE', 'score': 0.9779276847839355}, {'label': 'POSITIVE', 'score': 0.9916886687278748}, {'label': 'POSITIVE', 'score': 0.9987623691558838}, {'label': 'NEGATIVE', 'score': 0.9884568452835083}, {'label': 'POSITIVE', 'score': 0.6053239107131958}, {'label': 'POSITIVE', 'score': 0.6776455640792847}, {'label': 'POSITIVE', 'score': 0.9944098591804504}, {'label': 'NEGATIVE', 'score': 0.9948792457580566}, {'label': 'POSITIVE', 'score': 0.9671424627304077}, {'label': 'POSITIVE', 'score': 0.9948556423187256}, {'label': 'NEGATIVE', 'score': 0.9981753826141357}, {'label': 'NEGATIVE', 'score': 0.9370983242988586}, {'label': 'NEGATIVE', 'score': 0.9850509166717529}, {'label': 'POSITIVE', 'score': 0.9148192405700684}, {'label': 'POSITIVE', 'score': 0.7197117805480957}, {'label': 'POSITIVE', 'score': 0.9927935600280762}, {'label': 'POSITIVE', 'score': 0.9810723662376404}, {'label': 'NEGATIVE', 'score': 0.9897509217262268}, {'label': 'POSITIVE', 'score': 0.7567108273506165}, {'label': 'NEGATIVE', 'score': 0.9166440963745117}, {'label': 'NEGATIVE', 'score': 0.9968428611755371}, {'label': 'NEGATIVE', 'score': 0.9980831146240234}, {'label': 'NEGATIVE', 'score': 0.9987710118293762}, {'label': 'NEGATIVE', 'score': 0.9987770915031433}, {'label': 'NEGATIVE', 'score': 0.9805975556373596}, {'label': 'NEGATIVE', 'score': 0.9935997724533081}, {'label': 'POSITIVE', 'score': 0.9983356595039368}, {'label': 'POSITIVE', 'score': 0.9741525650024414}, {'label': 'NEGATIVE', 'score': 0.8859519958496094}, {'label': 'NEGATIVE', 'score': 0.9813712239265442}, {'label': 'POSITIVE', 'score': 0.9751294851303101}, {'label': 'NEGATIVE', 'score': 0.9399556517601013}, {'label': 'POSITIVE', 'score': 0.8316540122032166}, {'label': 'POSITIVE', 'score': 0.8069081902503967}, {'label': 'POSITIVE', 'score': 0.9587173461914062}, {'label': 'NEGATIVE', 'score': 0.9855839014053345}, {'label': 'POSITIVE', 'score': 0.9702574014663696}, {'label': 'POSITIVE', 'score': 0.972646951675415}, {'label': 'NEGATIVE', 'score': 0.9745449423789978}, {'label': 'NEGATIVE', 'score': 0.9312577843666077}, {'label': 'NEGATIVE', 'score': 0.9953325390815735}, {'label': 'NEGATIVE', 'score': 0.9924864768981934}, {'label': 'NEGATIVE', 'score': 0.9962080717086792}, {'label': 'NEGATIVE', 'score': 0.9711264967918396}, {'label': 'POSITIVE', 'score': 0.9589136242866516}, {'label': 'NEGATIVE', 'score': 0.977676272392273}, {'label': 'NEGATIVE', 'score': 0.9937422871589661}, {'label': 'NEGATIVE', 'score': 0.9822171926498413}, {'label': 'NEGATIVE', 'score': 0.9986838698387146}, {'label': 'POSITIVE', 'score': 0.5491885542869568}, {'label': 'NEGATIVE', 'score': 0.9908292293548584}, {'label': 'POSITIVE', 'score': 0.8909521698951721}, {'label': 'NEGATIVE', 'score': 0.9979491829872131}, {'label': 'POSITIVE', 'score': 0.9321887493133545}, {'label': 'POSITIVE', 'score': 0.9995487332344055}, {'label': 'NEGATIVE', 'score': 0.994802713394165}, {'label': 'NEGATIVE', 'score': 0.9817295670509338}, {'label': 'NEGATIVE', 'score': 0.9595783352851868}, {'label': 'NEGATIVE', 'score': 0.9990677237510681}, {'label': 'POSITIVE', 'score': 0.9966082572937012}, {'label': 'POSITIVE', 'score': 0.9905862212181091}, {'label': 'NEGATIVE', 'score': 0.9918056726455688}, {'label': 'NEGATIVE', 'score': 0.8009711503982544}, {'label': 'NEGATIVE', 'score': 0.9719877243041992}, {'label': 'NEGATIVE', 'score': 0.8015046119689941}, {'label': 'NEGATIVE', 'score': 0.966926634311676}, {'label': 'NEGATIVE', 'score': 0.9874055981636047}, {'label': 'NEGATIVE', 'score': 0.9894780516624451}, {'label': 'POSITIVE', 'score': 0.999067485332489}, {'label': 'NEGATIVE', 'score': 0.809988260269165}, {'label': 'NEGATIVE', 'score': 0.9931386113166809}, {'label': 'NEGATIVE', 'score': 0.9993454813957214}, {'label': 'NEGATIVE', 'score': 0.9979870319366455}, {'label': 'POSITIVE', 'score': 0.9867208003997803}, {'label': 'POSITIVE', 'score': 0.999096155166626}, {'label': 'NEGATIVE', 'score': 0.9919254183769226}, {'label': 'NEGATIVE', 'score': 0.9994446635246277}, {'label': 'NEGATIVE', 'score': 0.9997484087944031}, {'label': 'NEGATIVE', 'score': 0.9955477714538574}, {'label': 'POSITIVE', 'score': 0.7717893719673157}, {'label': 'POSITIVE', 'score': 0.7561380863189697}, {'label': 'POSITIVE', 'score': 0.9991452693939209}, {'label': 'NEGATIVE', 'score': 0.9623634219169617}, {'label': 'NEGATIVE', 'score': 0.969774067401886}, {'label': 'NEGATIVE', 'score': 0.9484516382217407}, {'label': 'POSITIVE', 'score': 0.9986134767532349}, {'label': 'NEGATIVE', 'score': 0.9517871141433716}, {'label': 'POSITIVE', 'score': 0.9954416751861572}, {'label': 'NEGATIVE', 'score': 0.9880207180976868}, {'label': 'NEGATIVE', 'score': 0.9924359917640686}, {'label': 'NEGATIVE', 'score': 0.9936284422874451}, {'label': 'NEGATIVE', 'score': 0.993429958820343}, {'label': 'NEGATIVE', 'score': 0.9889391660690308}, {'label': 'POSITIVE', 'score': 0.99974125623703}, {'label': 'NEGATIVE', 'score': 0.9835325479507446}, {'label': 'NEGATIVE', 'score': 0.9983808994293213}, {'label': 'NEGATIVE', 'score': 0.947702944278717}, {'label': 'NEGATIVE', 'score': 0.987541139125824}, {'label': 'POSITIVE', 'score': 0.9731087684631348}, {'label': 'NEGATIVE', 'score': 0.9954608082771301}, {'label': 'POSITIVE', 'score': 0.9936961531639099}, {'label': 'POSITIVE', 'score': 0.9707797765731812}, {'label': 'NEGATIVE', 'score': 0.9819207787513733}, {'label': 'NEGATIVE', 'score': 0.9890634417533875}, {'label': 'POSITIVE', 'score': 0.5771514773368835}, {'label': 'NEGATIVE', 'score': 0.9280083179473877}, {'label': 'NEGATIVE', 'score': 0.8669325113296509}, {'label': 'NEGATIVE', 'score': 0.9947452545166016}, {'label': 'NEGATIVE', 'score': 0.9873707294464111}, {'label': 'POSITIVE', 'score': 0.9982983469963074}, {'label': 'NEGATIVE', 'score': 0.9889494180679321}, {'label': 'NEGATIVE', 'score': 0.9867579340934753}, {'label': 'NEGATIVE', 'score': 0.9960715770721436}, {'label': 'NEGATIVE', 'score': 0.6126633882522583}, {'label': 'NEGATIVE', 'score': 0.9694029092788696}, {'label': 'NEGATIVE', 'score': 0.8863518834114075}, {'label': 'NEGATIVE', 'score': 0.9266901016235352}, {'label': 'NEGATIVE', 'score': 0.9886703491210938}, {'label': 'POSITIVE', 'score': 0.9876500964164734}, {'label': 'NEGATIVE', 'score': 0.9722819924354553}, {'label': 'NEGATIVE', 'score': 0.9894691705703735}, {'label': 'POSITIVE', 'score': 0.9996600151062012}, {'label': 'POSITIVE', 'score': 0.9893671870231628}, {'label': 'NEGATIVE', 'score': 0.9500596523284912}, {'label': 'NEGATIVE', 'score': 0.9799220561981201}, {'label': 'NEGATIVE', 'score': 0.9831520318984985}, {'label': 'POSITIVE', 'score': 0.539355993270874}, {'label': 'POSITIVE', 'score': 0.996630847454071}, {'label': 'POSITIVE', 'score': 0.9481359124183655}, {'label': 'NEGATIVE', 'score': 0.9840160608291626}, {'label': 'NEGATIVE', 'score': 0.6852579116821289}, {'label': 'NEGATIVE', 'score': 0.9532691240310669}, {'label': 'NEGATIVE', 'score': 0.7352838516235352}, {'label': 'POSITIVE', 'score': 0.8643287420272827}, {'label': 'NEGATIVE', 'score': 0.9995481371879578}, {'label': 'NEGATIVE', 'score': 0.993933379650116}, {'label': 'NEGATIVE', 'score': 0.9962104558944702}, {'label': 'NEGATIVE', 'score': 0.993220329284668}, {'label': 'NEGATIVE', 'score': 0.9976662397384644}, {'label': 'POSITIVE', 'score': 0.9447938203811646}, {'label': 'NEGATIVE', 'score': 0.9556512236595154}, {'label': 'NEGATIVE', 'score': 0.9451507329940796}, {'label': 'NEGATIVE', 'score': 0.9937957525253296}, {'label': 'NEGATIVE', 'score': 0.9975215792655945}, {'label': 'NEGATIVE', 'score': 0.9442369937896729}, {'label': 'POSITIVE', 'score': 0.88298499584198}, {'label': 'POSITIVE', 'score': 0.9550493359565735}, {'label': 'NEGATIVE', 'score': 0.9949294328689575}, {'label': 'NEGATIVE', 'score': 0.9926722049713135}, {'label': 'NEGATIVE', 'score': 0.9331673383712769}, {'label': 'POSITIVE', 'score': 0.992318868637085}, {'label': 'NEGATIVE', 'score': 0.9945778846740723}, {'label': 'NEGATIVE', 'score': 0.9963907599449158}, {'label': 'POSITIVE', 'score': 0.9762318730354309}, {'label': 'NEGATIVE', 'score': 0.9824877381324768}, {'label': 'NEGATIVE', 'score': 0.9752062559127808}, {'label': 'NEGATIVE', 'score': 0.9925367832183838}, {'label': 'NEGATIVE', 'score': 0.9876233339309692}, {'label': 'NEGATIVE', 'score': 0.9190148711204529}, {'label': 'NEGATIVE', 'score': 0.9977450966835022}, {'label': 'NEGATIVE', 'score': 0.9637381434440613}, {'label': 'NEGATIVE', 'score': 0.9917317032814026}, {'label': 'POSITIVE', 'score': 0.9730191230773926}, {'label': 'POSITIVE', 'score': 0.9664398431777954}, {'label': 'NEGATIVE', 'score': 0.9314723610877991}, {'label': 'NEGATIVE', 'score': 0.9950013756752014}, {'label': 'NEGATIVE', 'score': 0.981760561466217}, {'label': 'NEGATIVE', 'score': 0.9596154689788818}, {'label': 'NEGATIVE', 'score': 0.9850606322288513}, {'label': 'NEGATIVE', 'score': 0.7948932647705078}, {'label': 'POSITIVE', 'score': 0.7618520855903625}, {'label': 'NEGATIVE', 'score': 0.8729503154754639}, {'label': 'NEGATIVE', 'score': 0.9036974906921387}, {'label': 'NEGATIVE', 'score': 0.9939994812011719}, {'label': 'POSITIVE', 'score': 0.9428061246871948}, {'label': 'NEGATIVE', 'score': 0.9927767515182495}, {'label': 'NEGATIVE', 'score': 0.9975525736808777}, {'label': 'NEGATIVE', 'score': 0.9996658563613892}, {'label': 'POSITIVE', 'score': 0.5129688382148743}, {'label': 'NEGATIVE', 'score': 0.9980862140655518}, {'label': 'NEGATIVE', 'score': 0.9964144229888916}, {'label': 'NEGATIVE', 'score': 0.9993788003921509}, {'label': 'NEGATIVE', 'score': 0.9756599068641663}, {'label': 'POSITIVE', 'score': 0.9841600060462952}, {'label': 'NEGATIVE', 'score': 0.9910923838615417}, {'label': 'NEGATIVE', 'score': 0.9914419054985046}, {'label': 'NEGATIVE', 'score': 0.9652966856956482}, {'label': 'NEGATIVE', 'score': 0.9749760627746582}, {'label': 'NEGATIVE', 'score': 0.970401406288147}, {'label': 'POSITIVE', 'score': 0.9336037635803223}, {'label': 'NEGATIVE', 'score': 0.9909996390342712}, {'label': 'NEGATIVE', 'score': 0.9900227189064026}, {'label': 'POSITIVE', 'score': 0.97419273853302}, {'label': 'POSITIVE', 'score': 0.9867737293243408}, {'label': 'NEGATIVE', 'score': 0.9770457744598389}, {'label': 'NEGATIVE', 'score': 0.9904395341873169}, {'label': 'NEGATIVE', 'score': 0.9981752634048462}, {'label': 'NEGATIVE', 'score': 0.9983057975769043}, {'label': 'NEGATIVE', 'score': 0.9994915723800659}, {'label': 'NEGATIVE', 'score': 0.9995642304420471}, {'label': 'NEGATIVE', 'score': 0.9817659854888916}, {'label': 'NEGATIVE', 'score': 0.9946911931037903}, {'label': 'NEGATIVE', 'score': 0.9957835674285889}, {'label': 'NEGATIVE', 'score': 0.9974199533462524}, {'label': 'NEGATIVE', 'score': 0.9944809675216675}, {'label': 'POSITIVE', 'score': 0.7505008578300476}, {'label': 'NEGATIVE', 'score': 0.9680129885673523}, {'label': 'NEGATIVE', 'score': 0.9956179857254028}, {'label': 'NEGATIVE', 'score': 0.9979268312454224}, {'label': 'NEGATIVE', 'score': 0.9937090873718262}, {'label': 'NEGATIVE', 'score': 0.9935823082923889}, {'label': 'NEGATIVE', 'score': 0.9632071852684021}, {'label': 'NEGATIVE', 'score': 0.9173943400382996}, {'label': 'NEGATIVE', 'score': 0.9992827773094177}, {'label': 'NEGATIVE', 'score': 0.958395779132843}, {'label': 'NEGATIVE', 'score': 0.9921869039535522}, {'label': 'NEGATIVE', 'score': 0.9995436072349548}, {'label': 'NEGATIVE', 'score': 0.999736487865448}, {'label': 'NEGATIVE', 'score': 0.9884272217750549}, {'label': 'NEGATIVE', 'score': 0.9876621961593628}, {'label': 'NEGATIVE', 'score': 0.9946764707565308}, {'label': 'NEGATIVE', 'score': 0.9978278279304504}, {'label': 'NEGATIVE', 'score': 0.9948168396949768}, {'label': 'NEGATIVE', 'score': 0.9882742166519165}, {'label': 'NEGATIVE', 'score': 0.9991051554679871}, {'label': 'NEGATIVE', 'score': 0.9871368408203125}, {'label': 'NEGATIVE', 'score': 0.8688876628875732}, {'label': 'NEGATIVE', 'score': 0.9951077699661255}, {'label': 'NEGATIVE', 'score': 0.9856861233711243}, {'label': 'NEGATIVE', 'score': 0.9958666563034058}, {'label': 'NEGATIVE', 'score': 0.9856441020965576}, {'label': 'NEGATIVE', 'score': 0.9879384636878967}, {'label': 'POSITIVE', 'score': 0.9920559525489807}, {'label': 'NEGATIVE', 'score': 0.9993106126785278}, {'label': 'NEGATIVE', 'score': 0.9769416451454163}, {'label': 'NEGATIVE', 'score': 0.8919711709022522}, {'label': 'NEGATIVE', 'score': 0.9942291975021362}, {'label': 'NEGATIVE', 'score': 0.9938259720802307}, {'label': 'POSITIVE', 'score': 0.9985471367835999}, {'label': 'NEGATIVE', 'score': 0.6345831751823425}, {'label': 'NEGATIVE', 'score': 0.9772242307662964}, {'label': 'NEGATIVE', 'score': 0.9694041609764099}, {'label': 'NEGATIVE', 'score': 0.9993398785591125}, {'label': 'NEGATIVE', 'score': 0.9929534792900085}, {'label': 'NEGATIVE', 'score': 0.9275055527687073}, {'label': 'NEGATIVE', 'score': 0.9967693090438843}, {'label': 'POSITIVE', 'score': 0.982355535030365}, {'label': 'NEGATIVE', 'score': 0.9889785647392273}, {'label': 'NEGATIVE', 'score': 0.8991934657096863}, {'label': 'POSITIVE', 'score': 0.9978044629096985}, {'label': 'NEGATIVE', 'score': 0.9995966553688049}, {'label': 'POSITIVE', 'score': 0.9848213791847229}, {'label': 'NEGATIVE', 'score': 0.9984967708587646}, {'label': 'POSITIVE', 'score': 0.9989975094795227}, {'label': 'NEGATIVE', 'score': 0.9986128807067871}, {'label': 'NEGATIVE', 'score': 0.9991368651390076}, {'label': 'NEGATIVE', 'score': 0.9947100877761841}, {'label': 'NEGATIVE', 'score': 0.9969409108161926}, {'label': 'NEGATIVE', 'score': 0.9941626191139221}, {'label': 'NEGATIVE', 'score': 0.9952362179756165}, {'label': 'POSITIVE', 'score': 0.9659654498100281}, {'label': 'NEGATIVE', 'score': 0.9980400204658508}, {'label': 'NEGATIVE', 'score': 0.9930478930473328}, {'label': 'NEGATIVE', 'score': 0.9900094866752625}, {'label': 'POSITIVE', 'score': 0.9925640225410461}, {'label': 'NEGATIVE', 'score': 0.9931847453117371}, {'label': 'NEGATIVE', 'score': 0.996867835521698}, {'label': 'NEGATIVE', 'score': 0.9984013438224792}, {'label': 'NEGATIVE', 'score': 0.9979642629623413}, {'label': 'NEGATIVE', 'score': 0.9985198378562927}, {'label': 'POSITIVE', 'score': 0.863827109336853}, {'label': 'NEGATIVE', 'score': 0.980096161365509}, {'label': 'POSITIVE', 'score': 0.9402760863304138}, {'label': 'NEGATIVE', 'score': 0.9990063309669495}, {'label': 'NEGATIVE', 'score': 0.9691155552864075}, {'label': 'NEGATIVE', 'score': 0.6744162440299988}, {'label': 'NEGATIVE', 'score': 0.9560837149620056}, {'label': 'POSITIVE', 'score': 0.9915061593055725}, {'label': 'NEGATIVE', 'score': 0.8694311380386353}, {'label': 'NEGATIVE', 'score': 0.9798826575279236}, {'label': 'POSITIVE', 'score': 0.6053382754325867}, {'label': 'NEGATIVE', 'score': 0.9983938336372375}, {'label': 'NEGATIVE', 'score': 0.9972231388092041}, {'label': 'POSITIVE', 'score': 0.9838272333145142}, {'label': 'NEGATIVE', 'score': 0.9970535039901733}, {'label': 'NEGATIVE', 'score': 0.9970535039901733}, {'label': 'POSITIVE', 'score': 0.9837523698806763}, {'label': 'POSITIVE', 'score': 0.9644431471824646}, {'label': 'NEGATIVE', 'score': 0.998084545135498}, {'label': 'NEGATIVE', 'score': 0.8084148168563843}, {'label': 'NEGATIVE', 'score': 0.9886682629585266}, {'label': 'NEGATIVE', 'score': 0.9985315799713135}, {'label': 'NEGATIVE', 'score': 0.9496324062347412}, {'label': 'POSITIVE', 'score': 0.993126392364502}, {'label': 'NEGATIVE', 'score': 0.8783069849014282}, {'label': 'POSITIVE', 'score': 0.999776303768158}, {'label': 'NEGATIVE', 'score': 0.9925726652145386}, {'label': 'POSITIVE', 'score': 0.9975601434707642}, {'label': 'POSITIVE', 'score': 0.9807161092758179}, {'label': 'POSITIVE', 'score': 0.967727541923523}, {'label': 'POSITIVE', 'score': 0.9928550124168396}, {'label': 'NEGATIVE', 'score': 0.9979968667030334}, {'label': 'NEGATIVE', 'score': 0.9994624257087708}, {'label': 'NEGATIVE', 'score': 0.9996869564056396}, {'label': 'POSITIVE', 'score': 0.99901282787323}, {'label': 'NEGATIVE', 'score': 0.9990317821502686}, {'label': 'POSITIVE', 'score': 0.9963819980621338}, {'label': 'NEGATIVE', 'score': 0.9995957016944885}, {'label': 'POSITIVE', 'score': 0.8385323286056519}, {'label': 'NEGATIVE', 'score': 0.9979947805404663}, {'label': 'NEGATIVE', 'score': 0.9927531480789185}, {'label': 'POSITIVE', 'score': 0.7115656733512878}, {'label': 'NEGATIVE', 'score': 0.996239185333252}, {'label': 'NEGATIVE', 'score': 0.9798745512962341}, {'label': 'NEGATIVE', 'score': 0.974824070930481}, {'label': 'NEGATIVE', 'score': 0.9895921945571899}, {'label': 'NEGATIVE', 'score': 0.9957877993583679}, {'label': 'POSITIVE', 'score': 0.9471696615219116}, {'label': 'NEGATIVE', 'score': 0.9994704127311707}, {'label': 'NEGATIVE', 'score': 0.9993140697479248}, {'label': 'POSITIVE', 'score': 0.9896803498268127}, {'label': 'NEGATIVE', 'score': 0.995699405670166}, {'label': 'NEGATIVE', 'score': 0.9757810235023499}, {'label': 'POSITIVE', 'score': 0.997467041015625}, {'label': 'NEGATIVE', 'score': 0.9766135215759277}, {'label': 'NEGATIVE', 'score': 0.9650487303733826}, {'label': 'POSITIVE', 'score': 0.9965618252754211}, {'label': 'POSITIVE', 'score': 0.9958190321922302}, {'label': 'POSITIVE', 'score': 0.9956379532814026}, {'label': 'POSITIVE', 'score': 0.9962230920791626}, {'label': 'NEGATIVE', 'score': 0.9504935145378113}, {'label': 'POSITIVE', 'score': 0.9988918900489807}, {'label': 'NEGATIVE', 'score': 0.9914517998695374}, {'label': 'NEGATIVE', 'score': 0.9879706501960754}, {'label': 'NEGATIVE', 'score': 0.9893240332603455}, {'label': 'POSITIVE', 'score': 0.9175798892974854}, {'label': 'NEGATIVE', 'score': 0.9688312411308289}, {'label': 'POSITIVE', 'score': 0.9810968637466431}, {'label': 'NEGATIVE', 'score': 0.9977610111236572}, {'label': 'POSITIVE', 'score': 0.9842098951339722}, {'label': 'NEGATIVE', 'score': 0.9946514964103699}, {'label': 'POSITIVE', 'score': 0.9967615008354187}, {'label': 'NEGATIVE', 'score': 0.9695425033569336}, {'label': 'NEGATIVE', 'score': 0.9923749566078186}, {'label': 'NEGATIVE', 'score': 0.9862777590751648}, {'label': 'NEGATIVE', 'score': 0.9493221044540405}, {'label': 'POSITIVE', 'score': 0.883669912815094}, {'label': 'POSITIVE', 'score': 0.9847651720046997}, {'label': 'POSITIVE', 'score': 0.9975928664207458}, {'label': 'NEGATIVE', 'score': 0.9596445560455322}, {'label': 'POSITIVE', 'score': 0.9734383821487427}, {'label': 'NEGATIVE', 'score': 0.9961645603179932}, {'label': 'NEGATIVE', 'score': 0.9987724423408508}, {'label': 'NEGATIVE', 'score': 0.9115465879440308}, {'label': 'NEGATIVE', 'score': 0.801121711730957}, {'label': 'NEGATIVE', 'score': 0.9936110377311707}, {'label': 'NEGATIVE', 'score': 0.9991248250007629}, {'label': 'NEGATIVE', 'score': 0.9958921670913696}, {'label': 'POSITIVE', 'score': 0.9996567964553833}, {'label': 'POSITIVE', 'score': 0.9756351113319397}, {'label': 'NEGATIVE', 'score': 0.9984360337257385}, {'label': 'POSITIVE', 'score': 0.7935207486152649}, {'label': 'NEGATIVE', 'score': 0.7524836659431458}, {'label': 'NEGATIVE', 'score': 0.9966602325439453}, {'label': 'NEGATIVE', 'score': 0.9552231431007385}, {'label': 'NEGATIVE', 'score': 0.994154155254364}, {'label': 'NEGATIVE', 'score': 0.999552309513092}, {'label': 'NEGATIVE', 'score': 0.9992524981498718}, {'label': 'NEGATIVE', 'score': 0.9053558111190796}, {'label': 'POSITIVE', 'score': 0.954389214515686}, {'label': 'NEGATIVE', 'score': 0.9920795559883118}, {'label': 'NEGATIVE', 'score': 0.981221079826355}, {'label': 'NEGATIVE', 'score': 0.986724317073822}, {'label': 'NEGATIVE', 'score': 0.9778193831443787}, {'label': 'POSITIVE', 'score': 0.9892862439155579}, {'label': 'NEGATIVE', 'score': 0.9790054559707642}, {'label': 'NEGATIVE', 'score': 0.6428641080856323}, {'label': 'POSITIVE', 'score': 0.8719571828842163}, {'label': 'NEGATIVE', 'score': 0.9983091354370117}, {'label': 'NEGATIVE', 'score': 0.6897159218788147}, {'label': 'NEGATIVE', 'score': 0.9974424839019775}, {'label': 'NEGATIVE', 'score': 0.9993410706520081}, {'label': 'NEGATIVE', 'score': 0.9980003237724304}, {'label': 'NEGATIVE', 'score': 0.9971981048583984}, {'label': 'NEGATIVE', 'score': 0.8382070660591125}, {'label': 'NEGATIVE', 'score': 0.9978070855140686}, {'label': 'NEGATIVE', 'score': 0.994545578956604}, {'label': 'NEGATIVE', 'score': 0.9972519278526306}, {'label': 'NEGATIVE', 'score': 0.9975806474685669}, {'label': 'NEGATIVE', 'score': 0.9918791055679321}, {'label': 'NEGATIVE', 'score': 0.9998090863227844}, {'label': 'NEGATIVE', 'score': 0.9957329630851746}, {'label': 'NEGATIVE', 'score': 0.9992101192474365}, {'label': 'NEGATIVE', 'score': 0.9964469075202942}, {'label': 'NEGATIVE', 'score': 0.9963525533676147}, {'label': 'NEGATIVE', 'score': 0.9960491061210632}, {'label': 'NEGATIVE', 'score': 0.9969049096107483}, {'label': 'NEGATIVE', 'score': 0.9988499879837036}, {'label': 'NEGATIVE', 'score': 0.999779999256134}, {'label': 'NEGATIVE', 'score': 0.99730384349823}, {'label': 'NEGATIVE', 'score': 0.9992741942405701}, {'label': 'NEGATIVE', 'score': 0.9991437196731567}, {'label': 'NEGATIVE', 'score': 0.9184479713439941}, {'label': 'NEGATIVE', 'score': 0.9992367029190063}, {'label': 'NEGATIVE', 'score': 0.9954140186309814}, {'label': 'NEGATIVE', 'score': 0.9982317090034485}, {'label': 'NEGATIVE', 'score': 0.9941206574440002}, {'label': 'NEGATIVE', 'score': 0.9924460053443909}, {'label': 'POSITIVE', 'score': 0.9898844957351685}, {'label': 'NEGATIVE', 'score': 0.9991809725761414}, {'label': 'NEGATIVE', 'score': 0.9951851963996887}, {'label': 'NEGATIVE', 'score': 0.9933410286903381}, {'label': 'NEGATIVE', 'score': 0.9992688298225403}, {'label': 'NEGATIVE', 'score': 0.9994235038757324}, {'label': 'NEGATIVE', 'score': 0.9620435237884521}, {'label': 'NEGATIVE', 'score': 0.9964020252227783}, {'label': 'NEGATIVE', 'score': 0.9876148700714111}, {'label': 'NEGATIVE', 'score': 0.9927438497543335}, {'label': 'NEGATIVE', 'score': 0.9986377358436584}, {'label': 'POSITIVE', 'score': 0.9964274764060974}, {'label': 'NEGATIVE', 'score': 0.9991592168807983}, {'label': 'NEGATIVE', 'score': 0.9991363883018494}, {'label': 'NEGATIVE', 'score': 0.999221682548523}, {'label': 'NEGATIVE', 'score': 0.9627275466918945}, {'label': 'NEGATIVE', 'score': 0.9995977282524109}, {'label': 'NEGATIVE', 'score': 0.9996645450592041}, {'label': 'NEGATIVE', 'score': 0.9996801614761353}, {'label': 'NEGATIVE', 'score': 0.9925616383552551}, {'label': 'NEGATIVE', 'score': 0.9969780445098877}, {'label': 'NEGATIVE', 'score': 0.9997710585594177}, {'label': 'NEGATIVE', 'score': 0.9995574355125427}, {'label': 'NEGATIVE', 'score': 0.9785940647125244}, {'label': 'NEGATIVE', 'score': 0.9876696467399597}, {'label': 'NEGATIVE', 'score': 0.988830029964447}, {'label': 'NEGATIVE', 'score': 0.9986431002616882}, {'label': 'NEGATIVE', 'score': 0.9981784820556641}, {'label': 'NEGATIVE', 'score': 0.9996902942657471}, {'label': 'NEGATIVE', 'score': 0.9995410442352295}, {'label': 'NEGATIVE', 'score': 0.9995980858802795}, {'label': 'NEGATIVE', 'score': 0.9995203018188477}, {'label': 'NEGATIVE', 'score': 0.999007523059845}, {'label': 'NEGATIVE', 'score': 0.9978895783424377}, {'label': 'NEGATIVE', 'score': 0.9995244741439819}, {'label': 'NEGATIVE', 'score': 0.9981579184532166}, {'label': 'NEGATIVE', 'score': 0.9996933937072754}, {'label': 'NEGATIVE', 'score': 0.9995846152305603}, {'label': 'NEGATIVE', 'score': 0.9995691180229187}, {'label': 'NEGATIVE', 'score': 0.9937986731529236}, {'label': 'NEGATIVE', 'score': 0.9922647476196289}, {'label': 'NEGATIVE', 'score': 0.9873907566070557}, {'label': 'NEGATIVE', 'score': 0.9931250810623169}, {'label': 'NEGATIVE', 'score': 0.9892282485961914}, {'label': 'NEGATIVE', 'score': 0.9769974946975708}, {'label': 'NEGATIVE', 'score': 0.9813373684883118}, {'label': 'NEGATIVE', 'score': 0.9919680953025818}, {'label': 'NEGATIVE', 'score': 0.9938836693763733}, {'label': 'NEGATIVE', 'score': 0.9851905703544617}, {'label': 'NEGATIVE', 'score': 0.9997009038925171}, {'label': 'NEGATIVE', 'score': 0.9995673298835754}, {'label': 'NEGATIVE', 'score': 0.9742845892906189}, {'label': 'NEGATIVE', 'score': 0.9859726428985596}, {'label': 'NEGATIVE', 'score': 0.9805646538734436}, {'label': 'NEGATIVE', 'score': 0.988649845123291}, {'label': 'NEGATIVE', 'score': 0.9513670802116394}, {'label': 'NEGATIVE', 'score': 0.9047433137893677}, {'label': 'NEGATIVE', 'score': 0.7419410347938538}, {'label': 'NEGATIVE', 'score': 0.6469681262969971}, {'label': 'NEGATIVE', 'score': 0.9915720224380493}, {'label': 'NEGATIVE', 'score': 0.9997356534004211}, {'label': 'NEGATIVE', 'score': 0.9990345239639282}, {'label': 'NEGATIVE', 'score': 0.9995711445808411}, {'label': 'NEGATIVE', 'score': 0.9994814991950989}, {'label': 'NEGATIVE', 'score': 0.9960291385650635}, {'label': 'NEGATIVE', 'score': 0.8351414203643799}, {'label': 'NEGATIVE', 'score': 0.984727144241333}, {'label': 'NEGATIVE', 'score': 0.6124799251556396}, {'label': 'NEGATIVE', 'score': 0.9991044402122498}, {'label': 'NEGATIVE', 'score': 0.973381519317627}, {'label': 'NEGATIVE', 'score': 0.9996427297592163}, {'label': 'NEGATIVE', 'score': 0.998778760433197}, {'label': 'NEGATIVE', 'score': 0.998145341873169}, {'label': 'POSITIVE', 'score': 0.6352698802947998}, {'label': 'NEGATIVE', 'score': 0.999715268611908}, {'label': 'NEGATIVE', 'score': 0.994805634021759}, {'label': 'NEGATIVE', 'score': 0.9977788329124451}, {'label': 'NEGATIVE', 'score': 0.9975659847259521}, {'label': 'NEGATIVE', 'score': 0.9981889128684998}, {'label': 'NEGATIVE', 'score': 0.9967531561851501}, {'label': 'NEGATIVE', 'score': 0.9996067881584167}, {'label': 'NEGATIVE', 'score': 0.9997265934944153}, {'label': 'NEGATIVE', 'score': 0.990801990032196}, {'label': 'NEGATIVE', 'score': 0.9988634586334229}, {'label': 'NEGATIVE', 'score': 0.9996293783187866}, {'label': 'NEGATIVE', 'score': 0.9988596439361572}, {'label': 'NEGATIVE', 'score': 0.9996851682662964}, {'label': 'NEGATIVE', 'score': 0.9996765851974487}, {'label': 'NEGATIVE', 'score': 0.9996955394744873}, {'label': 'NEGATIVE', 'score': 0.9997207522392273}, {'label': 'NEGATIVE', 'score': 0.9960682392120361}, {'label': 'NEGATIVE', 'score': 0.9969038367271423}, {'label': 'NEGATIVE', 'score': 0.9991028308868408}, {'label': 'NEGATIVE', 'score': 0.9914594888687134}, {'label': 'NEGATIVE', 'score': 0.996411144733429}, {'label': 'NEGATIVE', 'score': 0.9990862607955933}, {'label': 'NEGATIVE', 'score': 0.9978475570678711}, {'label': 'NEGATIVE', 'score': 0.9955717325210571}, {'label': 'NEGATIVE', 'score': 0.9996775388717651}, {'label': 'NEGATIVE', 'score': 0.9997569918632507}, {'label': 'NEGATIVE', 'score': 0.996892511844635}, {'label': 'NEGATIVE', 'score': 0.9995261430740356}, {'label': 'POSITIVE', 'score': 0.9841942191123962}, {'label': 'NEGATIVE', 'score': 0.9787269234657288}, {'label': 'POSITIVE', 'score': 0.9535935521125793}, {'label': 'NEGATIVE', 'score': 0.9957447648048401}, {'label': 'POSITIVE', 'score': 0.9996850490570068}, {'label': 'NEGATIVE', 'score': 0.9538715481758118}, {'label': 'NEGATIVE', 'score': 0.946835458278656}, {'label': 'NEGATIVE', 'score': 0.9916765689849854}, {'label': 'POSITIVE', 'score': 0.9897799491882324}, {'label': 'NEGATIVE', 'score': 0.8993663191795349}, {'label': 'POSITIVE', 'score': 0.9532451629638672}, {'label': 'POSITIVE', 'score': 0.6781333088874817}, {'label': 'POSITIVE', 'score': 0.9977957010269165}, {'label': 'POSITIVE', 'score': 0.9950308799743652}, {'label': 'POSITIVE', 'score': 0.5144801139831543}, {'label': 'NEGATIVE', 'score': 0.9720367193222046}, {'label': 'NEGATIVE', 'score': 0.8106335401535034}, {'label': 'NEGATIVE', 'score': 0.9875305891036987}, {'label': 'NEGATIVE', 'score': 0.9924153685569763}, {'label': 'NEGATIVE', 'score': 0.9967881441116333}, {'label': 'NEGATIVE', 'score': 0.9979174733161926}, {'label': 'POSITIVE', 'score': 0.9927190542221069}, {'label': 'NEGATIVE', 'score': 0.9981034994125366}, {'label': 'NEGATIVE', 'score': 0.9952054023742676}, {'label': 'NEGATIVE', 'score': 0.9973546266555786}, {'label': 'NEGATIVE', 'score': 0.9837955236434937}, {'label': 'NEGATIVE', 'score': 0.9995594620704651}, {'label': 'NEGATIVE', 'score': 0.9865041971206665}, {'label': 'NEGATIVE', 'score': 0.9901039004325867}, {'label': 'NEGATIVE', 'score': 0.9937485456466675}, {'label': 'NEGATIVE', 'score': 0.9436612725257874}, {'label': 'POSITIVE', 'score': 0.9984729886054993}, {'label': 'NEGATIVE', 'score': 0.9918705224990845}, {'label': 'POSITIVE', 'score': 0.9727025032043457}, {'label': 'NEGATIVE', 'score': 0.9962366223335266}, {'label': 'NEGATIVE', 'score': 0.9966616630554199}, {'label': 'NEGATIVE', 'score': 0.9993500113487244}, {'label': 'NEGATIVE', 'score': 0.9996472597122192}, {'label': 'NEGATIVE', 'score': 0.9769203662872314}, {'label': 'POSITIVE', 'score': 0.9991298317909241}, {'label': 'POSITIVE', 'score': 0.9277627468109131}, {'label': 'POSITIVE', 'score': 0.9991616010665894}, {'label': 'NEGATIVE', 'score': 0.9954923391342163}, {'label': 'POSITIVE', 'score': 0.9987421631813049}, {'label': 'POSITIVE', 'score': 0.996321439743042}, {'label': 'NEGATIVE', 'score': 0.9913512468338013}, {'label': 'POSITIVE', 'score': 0.9966734647750854}, {'label': 'NEGATIVE', 'score': 0.999043881893158}, {'label': 'NEGATIVE', 'score': 0.9991043210029602}, {'label': 'POSITIVE', 'score': 0.7190461754798889}, {'label': 'NEGATIVE', 'score': 0.9804297685623169}, {'label': 'NEGATIVE', 'score': 0.6629579663276672}, {'label': 'POSITIVE', 'score': 0.996202290058136}, {'label': 'POSITIVE', 'score': 0.9863641858100891}, {'label': 'NEGATIVE', 'score': 0.9569011330604553}, {'label': 'NEGATIVE', 'score': 0.7940138578414917}, {'label': 'NEGATIVE', 'score': 0.9573830962181091}, {'label': 'NEGATIVE', 'score': 0.9955775737762451}, {'label': 'NEGATIVE', 'score': 0.9951748251914978}, {'label': 'POSITIVE', 'score': 0.9960565567016602}, {'label': 'POSITIVE', 'score': 0.9972681999206543}, {'label': 'NEGATIVE', 'score': 0.9866746068000793}, {'label': 'NEGATIVE', 'score': 0.993839681148529}, {'label': 'NEGATIVE', 'score': 0.8871610164642334}, {'label': 'NEGATIVE', 'score': 0.8261132836341858}, {'label': 'POSITIVE', 'score': 0.999553382396698}, {'label': 'POSITIVE', 'score': 0.8989586234092712}, {'label': 'NEGATIVE', 'score': 0.9552842378616333}, {'label': 'POSITIVE', 'score': 0.9857094287872314}, {'label': 'POSITIVE', 'score': 0.9974455833435059}, {'label': 'POSITIVE', 'score': 0.5285840630531311}, {'label': 'NEGATIVE', 'score': 0.991257905960083}, {'label': 'POSITIVE', 'score': 0.9589206576347351}, {'label': 'POSITIVE', 'score': 0.91756272315979}, {'label': 'POSITIVE', 'score': 0.9988334774971008}, {'label': 'POSITIVE', 'score': 0.9747121930122375}, {'label': 'NEGATIVE', 'score': 0.9932034015655518}, {'label': 'POSITIVE', 'score': 0.9934578537940979}, {'label': 'NEGATIVE', 'score': 0.9928297400474548}, {'label': 'POSITIVE', 'score': 0.9972335696220398}, {'label': 'NEGATIVE', 'score': 0.9963192939758301}, {'label': 'NEGATIVE', 'score': 0.9910809397697449}, {'label': 'NEGATIVE', 'score': 0.9973987340927124}, {'label': 'POSITIVE', 'score': 0.8167880773544312}, {'label': 'POSITIVE', 'score': 0.9977256655693054}, {'label': 'NEGATIVE', 'score': 0.9906378984451294}, {'label': 'NEGATIVE', 'score': 0.9872738122940063}, {'label': 'POSITIVE', 'score': 0.9967231154441833}, {'label': 'POSITIVE', 'score': 0.9959583878517151}, {'label': 'NEGATIVE', 'score': 0.9935076236724854}, {'label': 'POSITIVE', 'score': 0.9980432987213135}, {'label': 'POSITIVE', 'score': 0.9844469428062439}, {'label': 'NEGATIVE', 'score': 0.9967299699783325}, {'label': 'NEGATIVE', 'score': 0.9952255487442017}, {'label': 'NEGATIVE', 'score': 0.9346703290939331}, {'label': 'POSITIVE', 'score': 0.9723620414733887}, {'label': 'NEGATIVE', 'score': 0.9976978898048401}, {'label': 'NEGATIVE', 'score': 0.9933024644851685}, {'label': 'POSITIVE', 'score': 0.7163196802139282}, {'label': 'POSITIVE', 'score': 0.867956817150116}, {'label': 'NEGATIVE', 'score': 0.9867355823516846}, {'label': 'NEGATIVE', 'score': 0.9977288842201233}, {'label': 'POSITIVE', 'score': 0.9671129584312439}, {'label': 'NEGATIVE', 'score': 0.998753547668457}, {'label': 'NEGATIVE', 'score': 0.992655873298645}, {'label': 'NEGATIVE', 'score': 0.9892017841339111}, {'label': 'NEGATIVE', 'score': 0.9994041919708252}, {'label': 'NEGATIVE', 'score': 0.9748289585113525}, {'label': 'NEGATIVE', 'score': 0.96062171459198}, {'label': 'NEGATIVE', 'score': 0.9858319759368896}, {'label': 'NEGATIVE', 'score': 0.9404348134994507}, {'label': 'NEGATIVE', 'score': 0.9965327978134155}, {'label': 'NEGATIVE', 'score': 0.9970057606697083}, {'label': 'POSITIVE', 'score': 0.8921393752098083}, {'label': 'NEGATIVE', 'score': 0.9792624711990356}, {'label': 'NEGATIVE', 'score': 0.9924232959747314}, {'label': 'POSITIVE', 'score': 0.9196231365203857}, {'label': 'NEGATIVE', 'score': 0.9932199120521545}, {'label': 'POSITIVE', 'score': 0.9683635234832764}, {'label': 'POSITIVE', 'score': 0.9878275394439697}, {'label': 'NEGATIVE', 'score': 0.9966655373573303}, {'label': 'NEGATIVE', 'score': 0.6462764143943787}, {'label': 'NEGATIVE', 'score': 0.9800435304641724}, {'label': 'POSITIVE', 'score': 0.9968498349189758}, {'label': 'NEGATIVE', 'score': 0.991479754447937}, {'label': 'POSITIVE', 'score': 0.9965968728065491}, {'label': 'POSITIVE', 'score': 0.9949259757995605}, {'label': 'NEGATIVE', 'score': 0.9973821043968201}, {'label': 'NEGATIVE', 'score': 0.995019793510437}, {'label': 'NEGATIVE', 'score': 0.9165472388267517}, {'label': 'NEGATIVE', 'score': 0.9965471625328064}, {'label': 'NEGATIVE', 'score': 0.9895063042640686}, {'label': 'NEGATIVE', 'score': 0.9671561121940613}, {'label': 'POSITIVE', 'score': 0.9984174966812134}, {'label': 'NEGATIVE', 'score': 0.9859053492546082}, {'label': 'POSITIVE', 'score': 0.9956737160682678}, {'label': 'NEGATIVE', 'score': 0.9899380207061768}, {'label': 'POSITIVE', 'score': 0.9768036603927612}, {'label': 'NEGATIVE', 'score': 0.9963493347167969}, {'label': 'NEGATIVE', 'score': 0.998332679271698}, {'label': 'NEGATIVE', 'score': 0.99777752161026}, {'label': 'NEGATIVE', 'score': 0.9488701224327087}, {'label': 'NEGATIVE', 'score': 0.8690201640129089}, {'label': 'NEGATIVE', 'score': 0.9047583341598511}, {'label': 'NEGATIVE', 'score': 0.9965768456459045}, {'label': 'NEGATIVE', 'score': 0.9818966388702393}, {'label': 'NEGATIVE', 'score': 0.998026430606842}, {'label': 'NEGATIVE', 'score': 0.9867462515830994}, {'label': 'NEGATIVE', 'score': 0.9948834776878357}, {'label': 'NEGATIVE', 'score': 0.8926551342010498}, {'label': 'POSITIVE', 'score': 0.995331346988678}, {'label': 'POSITIVE', 'score': 0.9955834746360779}, {'label': 'POSITIVE', 'score': 0.9790793657302856}, {'label': 'POSITIVE', 'score': 0.9666338562965393}, {'label': 'POSITIVE', 'score': 0.9990717172622681}, {'label': 'NEGATIVE', 'score': 0.8998076319694519}, {'label': 'POSITIVE', 'score': 0.9987049102783203}, {'label': 'NEGATIVE', 'score': 0.7469597458839417}, {'label': 'NEGATIVE', 'score': 0.9938143491744995}, {'label': 'NEGATIVE', 'score': 0.9307633638381958}, {'label': 'NEGATIVE', 'score': 0.9874029159545898}, {'label': 'NEGATIVE', 'score': 0.8600494861602783}, {'label': 'NEGATIVE', 'score': 0.999461829662323}, {'label': 'POSITIVE', 'score': 0.8245965242385864}, {'label': 'POSITIVE', 'score': 0.9992769360542297}, {'label': 'POSITIVE', 'score': 0.9810826778411865}, {'label': 'NEGATIVE', 'score': 0.8913828730583191}, {'label': 'NEGATIVE', 'score': 0.9982203841209412}, {'label': 'NEGATIVE', 'score': 0.9932011961936951}, {'label': 'POSITIVE', 'score': 0.999794065952301}, {'label': 'NEGATIVE', 'score': 0.9702245593070984}, {'label': 'POSITIVE', 'score': 0.971352756023407}, {'label': 'NEGATIVE', 'score': 0.9261991381645203}, {'label': 'NEGATIVE', 'score': 0.9919219017028809}, {'label': 'NEGATIVE', 'score': 0.9885178804397583}, {'label': 'NEGATIVE', 'score': 0.9988163709640503}, {'label': 'POSITIVE', 'score': 0.9859848022460938}, {'label': 'NEGATIVE', 'score': 0.9803046584129333}, {'label': 'NEGATIVE', 'score': 0.8421420454978943}, {'label': 'POSITIVE', 'score': 0.9962210655212402}, {'label': 'NEGATIVE', 'score': 0.98017817735672}, {'label': 'NEGATIVE', 'score': 0.9807080626487732}, {'label': 'NEGATIVE', 'score': 0.9772622585296631}, {'label': 'NEGATIVE', 'score': 0.9549092054367065}, {'label': 'NEGATIVE', 'score': 0.9433040022850037}, {'label': 'NEGATIVE', 'score': 0.9756798148155212}, {'label': 'NEGATIVE', 'score': 0.8016015291213989}, {'label': 'NEGATIVE', 'score': 0.989707350730896}, {'label': 'NEGATIVE', 'score': 0.9917912483215332}, {'label': 'NEGATIVE', 'score': 0.9843811988830566}, {'label': 'NEGATIVE', 'score': 0.9941831231117249}, {'label': 'NEGATIVE', 'score': 0.9943875670433044}, {'label': 'NEGATIVE', 'score': 0.9935139417648315}, {'label': 'NEGATIVE', 'score': 0.999631404876709}, {'label': 'NEGATIVE', 'score': 0.9682251811027527}, {'label': 'POSITIVE', 'score': 0.9972598552703857}, {'label': 'NEGATIVE', 'score': 0.6538388133049011}, {'label': 'POSITIVE', 'score': 0.9942071437835693}, {'label': 'POSITIVE', 'score': 0.9806868433952332}, {'label': 'POSITIVE', 'score': 0.9908239841461182}, {'label': 'NEGATIVE', 'score': 0.997413694858551}, {'label': 'NEGATIVE', 'score': 0.9952676296234131}, {'label': 'NEGATIVE', 'score': 0.9981060028076172}, {'label': 'NEGATIVE', 'score': 0.9043313264846802}, {'label': 'NEGATIVE', 'score': 0.925592303276062}, {'label': 'NEGATIVE', 'score': 0.9657717943191528}, {'label': 'NEGATIVE', 'score': 0.8610255718231201}, {'label': 'NEGATIVE', 'score': 0.8551715016365051}, {'label': 'NEGATIVE', 'score': 0.9318046569824219}, {'label': 'NEGATIVE', 'score': 0.9677185416221619}, {'label': 'NEGATIVE', 'score': 0.9547861814498901}, {'label': 'NEGATIVE', 'score': 0.9273675680160522}, {'label': 'NEGATIVE', 'score': 0.8756381273269653}, {'label': 'NEGATIVE', 'score': 0.907799243927002}, {'label': 'NEGATIVE', 'score': 0.9547166228294373}, {'label': 'POSITIVE', 'score': 0.9732345938682556}, {'label': 'NEGATIVE', 'score': 0.9317582249641418}, {'label': 'NEGATIVE', 'score': 0.9713719487190247}, {'label': 'NEGATIVE', 'score': 0.8842900395393372}, {'label': 'POSITIVE', 'score': 0.6489242911338806}, {'label': 'NEGATIVE', 'score': 0.8612112402915955}, {'label': 'NEGATIVE', 'score': 0.922253429889679}, {'label': 'NEGATIVE', 'score': 0.8244460225105286}, {'label': 'NEGATIVE', 'score': 0.9513018131256104}, {'label': 'NEGATIVE', 'score': 0.9512991309165955}, {'label': 'NEGATIVE', 'score': 0.9703021049499512}, {'label': 'NEGATIVE', 'score': 0.9002383351325989}, {'label': 'NEGATIVE', 'score': 0.9538190960884094}, {'label': 'NEGATIVE', 'score': 0.9678744077682495}, {'label': 'NEGATIVE', 'score': 0.9836122393608093}, {'label': 'NEGATIVE', 'score': 0.8663396239280701}, {'label': 'NEGATIVE', 'score': 0.9682174324989319}, {'label': 'NEGATIVE', 'score': 0.9016443490982056}, {'label': 'NEGATIVE', 'score': 0.9727280139923096}, {'label': 'NEGATIVE', 'score': 0.9777632355690002}, {'label': 'NEGATIVE', 'score': 0.8079118132591248}, {'label': 'NEGATIVE', 'score': 0.9942405223846436}, {'label': 'POSITIVE', 'score': 0.9384352564811707}, {'label': 'NEGATIVE', 'score': 0.9970587491989136}, {'label': 'NEGATIVE', 'score': 0.8937896490097046}, {'label': 'NEGATIVE', 'score': 0.9732089638710022}, {'label': 'NEGATIVE', 'score': 0.955708384513855}, {'label': 'NEGATIVE', 'score': 0.9957953691482544}, {'label': 'POSITIVE', 'score': 0.9922299981117249}, {'label': 'POSITIVE', 'score': 0.9979920387268066}, {'label': 'NEGATIVE', 'score': 0.9858002662658691}, {'label': 'NEGATIVE', 'score': 0.9922860860824585}, {'label': 'NEGATIVE', 'score': 0.9751933217048645}, {'label': 'NEGATIVE', 'score': 0.74819016456604}, {'label': 'NEGATIVE', 'score': 0.999339759349823}, {'label': 'POSITIVE', 'score': 0.9993416666984558}, {'label': 'POSITIVE', 'score': 0.9903445839881897}, {'label': 'POSITIVE', 'score': 0.9952095150947571}, {'label': 'NEGATIVE', 'score': 0.8751890063285828}, {'label': 'POSITIVE', 'score': 0.6211018562316895}, {'label': 'POSITIVE', 'score': 0.8687281012535095}, {'label': 'POSITIVE', 'score': 0.9967965483665466}, {'label': 'NEGATIVE', 'score': 0.9948673248291016}, {'label': 'NEGATIVE', 'score': 0.995648205280304}, {'label': 'NEGATIVE', 'score': 0.9932820796966553}, {'label': 'NEGATIVE', 'score': 0.9957088232040405}, {'label': 'NEGATIVE', 'score': 0.9927062392234802}, {'label': 'NEGATIVE', 'score': 0.9675905108451843}, {'label': 'POSITIVE', 'score': 0.9833577275276184}, {'label': 'POSITIVE', 'score': 0.9828753471374512}, {'label': 'POSITIVE', 'score': 0.9498714208602905}, {'label': 'POSITIVE', 'score': 0.930143415927887}, {'label': 'NEGATIVE', 'score': 0.9834061861038208}, {'label': 'POSITIVE', 'score': 0.9995850920677185}, {'label': 'POSITIVE', 'score': 0.9961283206939697}, {'label': 'NEGATIVE', 'score': 0.9967039227485657}, {'label': 'POSITIVE', 'score': 0.9879767298698425}, {'label': 'NEGATIVE', 'score': 0.6672612428665161}, {'label': 'NEGATIVE', 'score': 0.995464026927948}, {'label': 'NEGATIVE', 'score': 0.996460497379303}, {'label': 'NEGATIVE', 'score': 0.9947406649589539}, {'label': 'NEGATIVE', 'score': 0.9946936964988708}, {'label': 'NEGATIVE', 'score': 0.9868801832199097}, {'label': 'POSITIVE', 'score': 0.9993451237678528}, {'label': 'POSITIVE', 'score': 0.5341077446937561}, {'label': 'NEGATIVE', 'score': 0.9974810481071472}, {'label': 'NEGATIVE', 'score': 0.9897409677505493}, {'label': 'NEGATIVE', 'score': 0.9985746145248413}, {'label': 'NEGATIVE', 'score': 0.9964474439620972}, {'label': 'NEGATIVE', 'score': 0.9958654642105103}, {'label': 'NEGATIVE', 'score': 0.9962349534034729}, {'label': 'POSITIVE', 'score': 0.9731547832489014}, {'label': 'NEGATIVE', 'score': 0.9992259740829468}, {'label': 'NEGATIVE', 'score': 0.6173529624938965}, {'label': 'POSITIVE', 'score': 0.998768150806427}, {'label': 'NEGATIVE', 'score': 0.9992344379425049}, {'label': 'POSITIVE', 'score': 0.9981200098991394}, {'label': 'POSITIVE', 'score': 0.7303687334060669}, {'label': 'POSITIVE', 'score': 0.5316231846809387}, {'label': 'NEGATIVE', 'score': 0.9856385588645935}, {'label': 'POSITIVE', 'score': 0.9993563294410706}, {'label': 'POSITIVE', 'score': 0.9994320273399353}, {'label': 'POSITIVE', 'score': 0.9950403571128845}, {'label': 'NEGATIVE', 'score': 0.6307042241096497}, {'label': 'POSITIVE', 'score': 0.9996436834335327}, {'label': 'POSITIVE', 'score': 0.9923337697982788}, {'label': 'POSITIVE', 'score': 0.9643945097923279}, {'label': 'NEGATIVE', 'score': 0.9987395405769348}, {'label': 'POSITIVE', 'score': 0.9517056941986084}, {'label': 'POSITIVE', 'score': 0.8803756237030029}, {'label': 'NEGATIVE', 'score': 0.9946164488792419}, {'label': 'NEGATIVE', 'score': 0.9982603192329407}, {'label': 'NEGATIVE', 'score': 0.9624884128570557}, {'label': 'POSITIVE', 'score': 0.9998574256896973}, {'label': 'POSITIVE', 'score': 0.9782838821411133}, {'label': 'NEGATIVE', 'score': 0.9352731704711914}, {'label': 'POSITIVE', 'score': 0.6103485226631165}, {'label': 'POSITIVE', 'score': 0.8763853311538696}, {'label': 'POSITIVE', 'score': 0.6790299415588379}, {'label': 'NEGATIVE', 'score': 0.9295469522476196}, {'label': 'NEGATIVE', 'score': 0.674506425857544}, {'label': 'NEGATIVE', 'score': 0.9956113696098328}, {'label': 'POSITIVE', 'score': 0.8888661861419678}, {'label': 'POSITIVE', 'score': 0.99433833360672}, {'label': 'POSITIVE', 'score': 0.9376949667930603}, {'label': 'POSITIVE', 'score': 0.9950732588768005}, {'label': 'POSITIVE', 'score': 0.9484900236129761}, {'label': 'POSITIVE', 'score': 0.9995182752609253}, {'label': 'NEGATIVE', 'score': 0.9492891430854797}, {'label': 'POSITIVE', 'score': 0.9994195699691772}, {'label': 'POSITIVE', 'score': 0.9252781867980957}, {'label': 'NEGATIVE', 'score': 0.9984610080718994}, {'label': 'NEGATIVE', 'score': 0.7559970021247864}, {'label': 'NEGATIVE', 'score': 0.9982251524925232}, {'label': 'NEGATIVE', 'score': 0.9729623794555664}, {'label': 'POSITIVE', 'score': 0.9313133955001831}, {'label': 'NEGATIVE', 'score': 0.9918267726898193}, {'label': 'POSITIVE', 'score': 0.9061406850814819}, {'label': 'POSITIVE', 'score': 0.9304245114326477}, {'label': 'POSITIVE', 'score': 0.9986733198165894}, {'label': 'NEGATIVE', 'score': 0.9987817406654358}, {'label': 'NEGATIVE', 'score': 0.982337474822998}, {'label': 'NEGATIVE', 'score': 0.9383286237716675}, {'label': 'NEGATIVE', 'score': 0.9977903366088867}, {'label': 'NEGATIVE', 'score': 0.9800470471382141}, {'label': 'NEGATIVE', 'score': 0.991878867149353}, {'label': 'NEGATIVE', 'score': 0.9904147386550903}, {'label': 'NEGATIVE', 'score': 0.9358380436897278}, {'label': 'POSITIVE', 'score': 0.972847580909729}, {'label': 'NEGATIVE', 'score': 0.986769437789917}, {'label': 'NEGATIVE', 'score': 0.9755949378013611}, {'label': 'NEGATIVE', 'score': 0.9978171586990356}, {'label': 'NEGATIVE', 'score': 0.9974653720855713}, {'label': 'NEGATIVE', 'score': 0.9919012188911438}, {'label': 'NEGATIVE', 'score': 0.9965187311172485}, {'label': 'NEGATIVE', 'score': 0.9979434609413147}, {'label': 'NEGATIVE', 'score': 0.9959254264831543}, {'label': 'NEGATIVE', 'score': 0.9960094690322876}, {'label': 'NEGATIVE', 'score': 0.9911102056503296}, {'label': 'POSITIVE', 'score': 0.9964678287506104}, {'label': 'NEGATIVE', 'score': 0.9969441294670105}, {'label': 'NEGATIVE', 'score': 0.9936296343803406}, {'label': 'NEGATIVE', 'score': 0.9912927746772766}, {'label': 'NEGATIVE', 'score': 0.9942399263381958}, {'label': 'POSITIVE', 'score': 0.9293670058250427}, {'label': 'POSITIVE', 'score': 0.8534455299377441}, {'label': 'NEGATIVE', 'score': 0.9212982654571533}, {'label': 'POSITIVE', 'score': 0.9951719641685486}, {'label': 'NEGATIVE', 'score': 0.9907394647598267}, {'label': 'NEGATIVE', 'score': 0.996238112449646}, {'label': 'NEGATIVE', 'score': 0.9996298551559448}, {'label': 'NEGATIVE', 'score': 0.9994872808456421}, {'label': 'NEGATIVE', 'score': 0.9689870476722717}, {'label': 'POSITIVE', 'score': 0.9574937224388123}, {'label': 'NEGATIVE', 'score': 0.9725125432014465}, {'label': 'NEGATIVE', 'score': 0.9976093769073486}, {'label': 'NEGATIVE', 'score': 0.8803978562355042}, {'label': 'NEGATIVE', 'score': 0.9746264815330505}, {'label': 'NEGATIVE', 'score': 0.9990014433860779}, {'label': 'NEGATIVE', 'score': 0.9912482500076294}, {'label': 'NEGATIVE', 'score': 0.9789076447486877}, {'label': 'NEGATIVE', 'score': 0.9995504021644592}, {'label': 'NEGATIVE', 'score': 0.9981487989425659}, {'label': 'POSITIVE', 'score': 0.963577151298523}, {'label': 'NEGATIVE', 'score': 0.987027108669281}, {'label': 'NEGATIVE', 'score': 0.9976504445075989}, {'label': 'NEGATIVE', 'score': 0.997931718826294}, {'label': 'POSITIVE', 'score': 0.953669548034668}, {'label': 'NEGATIVE', 'score': 0.9917958378791809}, {'label': 'NEGATIVE', 'score': 0.9986675977706909}, {'label': 'NEGATIVE', 'score': 0.7778980135917664}, {'label': 'NEGATIVE', 'score': 0.9965014457702637}, {'label': 'NEGATIVE', 'score': 0.9982849955558777}, {'label': 'POSITIVE', 'score': 0.998389720916748}, {'label': 'NEGATIVE', 'score': 0.9889016151428223}, {'label': 'NEGATIVE', 'score': 0.9980605244636536}, {'label': 'NEGATIVE', 'score': 0.9990866184234619}, {'label': 'NEGATIVE', 'score': 0.9859793782234192}, {'label': 'NEGATIVE', 'score': 0.9966577291488647}, {'label': 'NEGATIVE', 'score': 0.9947196245193481}, {'label': 'NEGATIVE', 'score': 0.9924231171607971}, {'label': 'POSITIVE', 'score': 0.9978691339492798}, {'label': 'NEGATIVE', 'score': 0.9826834797859192}, {'label': 'NEGATIVE', 'score': 0.9973435997962952}, {'label': 'NEGATIVE', 'score': 0.9991974234580994}, {'label': 'NEGATIVE', 'score': 0.9945012331008911}, {'label': 'NEGATIVE', 'score': 0.9966471791267395}, {'label': 'NEGATIVE', 'score': 0.9972423315048218}, {'label': 'NEGATIVE', 'score': 0.9898825287818909}, {'label': 'NEGATIVE', 'score': 0.9157077074050903}, {'label': 'NEGATIVE', 'score': 0.9924593567848206}, {'label': 'NEGATIVE', 'score': 0.8410431146621704}, {'label': 'NEGATIVE', 'score': 0.9969513416290283}, {'label': 'NEGATIVE', 'score': 0.6242508292198181}, {'label': 'POSITIVE', 'score': 0.8985133767127991}, {'label': 'POSITIVE', 'score': 0.9668304920196533}, {'label': 'NEGATIVE', 'score': 0.7468714714050293}, {'label': 'POSITIVE', 'score': 0.9328736662864685}, {'label': 'NEGATIVE', 'score': 0.9447096586227417}, {'label': 'NEGATIVE', 'score': 0.9951759576797485}, {'label': 'NEGATIVE', 'score': 0.9909518957138062}, {'label': 'NEGATIVE', 'score': 0.9971436858177185}, {'label': 'NEGATIVE', 'score': 0.9942420125007629}, {'label': 'NEGATIVE', 'score': 0.9866833090782166}, {'label': 'NEGATIVE', 'score': 0.7247594594955444}, {'label': 'NEGATIVE', 'score': 0.9965356588363647}, {'label': 'NEGATIVE', 'score': 0.9990957975387573}, {'label': 'POSITIVE', 'score': 0.9962862730026245}, {'label': 'NEGATIVE', 'score': 0.9964279532432556}, {'label': 'POSITIVE', 'score': 0.9887420535087585}, {'label': 'NEGATIVE', 'score': 0.976294219493866}, {'label': 'NEGATIVE', 'score': 0.9933366775512695}, {'label': 'NEGATIVE', 'score': 0.9906166195869446}, {'label': 'NEGATIVE', 'score': 0.9960362315177917}, {'label': 'NEGATIVE', 'score': 0.9971619844436646}, {'label': 'NEGATIVE', 'score': 0.9979351758956909}, {'label': 'NEGATIVE', 'score': 0.988716721534729}, {'label': 'NEGATIVE', 'score': 0.9959068298339844}, {'label': 'NEGATIVE', 'score': 0.9994550347328186}, {'label': 'NEGATIVE', 'score': 0.9979609251022339}, {'label': 'POSITIVE', 'score': 0.9264737367630005}, {'label': 'NEGATIVE', 'score': 0.996362030506134}, {'label': 'NEGATIVE', 'score': 0.9988289475440979}, {'label': 'NEGATIVE', 'score': 0.9816869497299194}, {'label': 'POSITIVE', 'score': 0.7608811855316162}, {'label': 'NEGATIVE', 'score': 0.9937918782234192}, {'label': 'NEGATIVE', 'score': 0.9957263469696045}, {'label': 'NEGATIVE', 'score': 0.9932975172996521}, {'label': 'NEGATIVE', 'score': 0.9944223761558533}, {'label': 'NEGATIVE', 'score': 0.9917171597480774}, {'label': 'NEGATIVE', 'score': 0.9923502802848816}, {'label': 'NEGATIVE', 'score': 0.998073935508728}, {'label': 'NEGATIVE', 'score': 0.999061644077301}, {'label': 'NEGATIVE', 'score': 0.9989203214645386}, {'label': 'NEGATIVE', 'score': 0.9947693943977356}, {'label': 'NEGATIVE', 'score': 0.994452178478241}, {'label': 'NEGATIVE', 'score': 0.7778921127319336}, {'label': 'NEGATIVE', 'score': 0.9884569644927979}, {'label': 'NEGATIVE', 'score': 0.7885551452636719}, {'label': 'NEGATIVE', 'score': 0.9983566403388977}, {'label': 'NEGATIVE', 'score': 0.984790027141571}, {'label': 'NEGATIVE', 'score': 0.9988711476325989}, {'label': 'NEGATIVE', 'score': 0.997729480266571}, {'label': 'POSITIVE', 'score': 0.9889055490493774}, {'label': 'NEGATIVE', 'score': 0.653390109539032}, {'label': 'NEGATIVE', 'score': 0.9938552975654602}, {'label': 'NEGATIVE', 'score': 0.9810024499893188}, {'label': 'NEGATIVE', 'score': 0.9993036985397339}, {'label': 'POSITIVE', 'score': 0.9868438839912415}, {'label': 'NEGATIVE', 'score': 0.9957828521728516}, {'label': 'NEGATIVE', 'score': 0.9706932902336121}, {'label': 'NEGATIVE', 'score': 0.986902117729187}, {'label': 'NEGATIVE', 'score': 0.9811623096466064}, {'label': 'POSITIVE', 'score': 0.7753811478614807}, {'label': 'NEGATIVE', 'score': 0.9984492063522339}, {'label': 'NEGATIVE', 'score': 0.9974206686019897}, {'label': 'NEGATIVE', 'score': 0.9979898929595947}, {'label': 'NEGATIVE', 'score': 0.9960410594940186}, {'label': 'NEGATIVE', 'score': 0.990071177482605}, {'label': 'NEGATIVE', 'score': 0.9964901804924011}, {'label': 'NEGATIVE', 'score': 0.9983042478561401}, {'label': 'NEGATIVE', 'score': 0.9964765906333923}, {'label': 'NEGATIVE', 'score': 0.9982792139053345}, {'label': 'NEGATIVE', 'score': 0.9976633787155151}, {'label': 'NEGATIVE', 'score': 0.9969154596328735}, {'label': 'NEGATIVE', 'score': 0.9932390451431274}, {'label': 'NEGATIVE', 'score': 0.9915163516998291}, {'label': 'NEGATIVE', 'score': 0.9968005418777466}, {'label': 'NEGATIVE', 'score': 0.9474103450775146}, {'label': 'NEGATIVE', 'score': 0.9942195415496826}, {'label': 'NEGATIVE', 'score': 0.9901465773582458}, {'label': 'NEGATIVE', 'score': 0.9954190254211426}, {'label': 'NEGATIVE', 'score': 0.9862387776374817}, {'label': 'NEGATIVE', 'score': 0.9997146725654602}, {'label': 'POSITIVE', 'score': 0.8647220134735107}, {'label': 'NEGATIVE', 'score': 0.9949283599853516}, {'label': 'NEGATIVE', 'score': 0.9942732453346252}, {'label': 'NEGATIVE', 'score': 0.9857115149497986}, {'label': 'NEGATIVE', 'score': 0.9935407042503357}, {'label': 'NEGATIVE', 'score': 0.9475891590118408}, {'label': 'NEGATIVE', 'score': 0.9975118637084961}, {'label': 'NEGATIVE', 'score': 0.5684322118759155}, {'label': 'NEGATIVE', 'score': 0.967132568359375}, {'label': 'NEGATIVE', 'score': 0.9877713918685913}, {'label': 'NEGATIVE', 'score': 0.9988141059875488}, {'label': 'NEGATIVE', 'score': 0.9991051554679871}, {'label': 'NEGATIVE', 'score': 0.9684204459190369}, {'label': 'NEGATIVE', 'score': 0.9003927111625671}, {'label': 'NEGATIVE', 'score': 0.9702692031860352}, {'label': 'NEGATIVE', 'score': 0.9975094795227051}, {'label': 'NEGATIVE', 'score': 0.9729226231575012}, {'label': 'NEGATIVE', 'score': 0.9980522394180298}, {'label': 'NEGATIVE', 'score': 0.9994891881942749}, {'label': 'NEGATIVE', 'score': 0.904771625995636}, {'label': 'NEGATIVE', 'score': 0.9802230596542358}, {'label': 'NEGATIVE', 'score': 0.997025191783905}, {'label': 'POSITIVE', 'score': 0.9989498257637024}, {'label': 'NEGATIVE', 'score': 0.9956674575805664}, {'label': 'NEGATIVE', 'score': 0.9953333735466003}, {'label': 'NEGATIVE', 'score': 0.9960116147994995}, {'label': 'NEGATIVE', 'score': 0.9956309795379639}, {'label': 'NEGATIVE', 'score': 0.9960768818855286}, {'label': 'NEGATIVE', 'score': 0.996150016784668}, {'label': 'NEGATIVE', 'score': 0.9960060715675354}, {'label': 'NEGATIVE', 'score': 0.9956995248794556}, {'label': 'NEGATIVE', 'score': 0.9637807607650757}, {'label': 'NEGATIVE', 'score': 0.9948868155479431}, {'label': 'NEGATIVE', 'score': 0.9985371828079224}, {'label': 'NEGATIVE', 'score': 0.9739184379577637}, {'label': 'NEGATIVE', 'score': 0.996925413608551}, {'label': 'POSITIVE', 'score': 0.9757610559463501}, {'label': 'NEGATIVE', 'score': 0.9373883008956909}, {'label': 'NEGATIVE', 'score': 0.9994064569473267}, {'label': 'NEGATIVE', 'score': 0.995819091796875}, {'label': 'NEGATIVE', 'score': 0.9986863732337952}, {'label': 'NEGATIVE', 'score': 0.9996956586837769}, {'label': 'NEGATIVE', 'score': 0.9976173043251038}, {'label': 'POSITIVE', 'score': 0.7671594619750977}, {'label': 'NEGATIVE', 'score': 0.9960346817970276}, {'label': 'POSITIVE', 'score': 0.9964025020599365}, {'label': 'POSITIVE', 'score': 0.8710927963256836}, {'label': 'NEGATIVE', 'score': 0.9490622282028198}, {'label': 'POSITIVE', 'score': 0.9990136623382568}, {'label': 'NEGATIVE', 'score': 0.9845622181892395}, {'label': 'POSITIVE', 'score': 0.9981557726860046}, {'label': 'NEGATIVE', 'score': 0.9774287343025208}, {'label': 'POSITIVE', 'score': 0.9964461922645569}, {'label': 'POSITIVE', 'score': 0.9992320537567139}, {'label': 'NEGATIVE', 'score': 0.993869423866272}, {'label': 'POSITIVE', 'score': 0.9806257486343384}, {'label': 'NEGATIVE', 'score': 0.9750389456748962}, {'label': 'POSITIVE', 'score': 0.9988909363746643}, {'label': 'POSITIVE', 'score': 0.9827728271484375}, {'label': 'POSITIVE', 'score': 0.9932669401168823}, {'label': 'POSITIVE', 'score': 0.9989607334136963}, {'label': 'POSITIVE', 'score': 0.9986818432807922}, {'label': 'POSITIVE', 'score': 0.9993294477462769}, {'label': 'POSITIVE', 'score': 0.999197781085968}, {'label': 'NEGATIVE', 'score': 0.872376561164856}, {'label': 'POSITIVE', 'score': 0.9965196847915649}, {'label': 'POSITIVE', 'score': 0.9927418231964111}, {'label': 'POSITIVE', 'score': 0.9926321506500244}, {'label': 'NEGATIVE', 'score': 0.9990491271018982}, {'label': 'POSITIVE', 'score': 0.99937903881073}, {'label': 'NEGATIVE', 'score': 0.9983568787574768}, {'label': 'NEGATIVE', 'score': 0.9804908633232117}, {'label': 'NEGATIVE', 'score': 0.9811976552009583}, {'label': 'NEGATIVE', 'score': 0.8823670744895935}, {'label': 'POSITIVE', 'score': 0.9981855750083923}, {'label': 'POSITIVE', 'score': 0.9958844780921936}, {'label': 'NEGATIVE', 'score': 0.97713702917099}, {'label': 'POSITIVE', 'score': 0.7466007471084595}, {'label': 'POSITIVE', 'score': 0.9990959167480469}, {'label': 'POSITIVE', 'score': 0.989357054233551}, {'label': 'POSITIVE', 'score': 0.9952848553657532}, {'label': 'NEGATIVE', 'score': 0.998925507068634}, {'label': 'POSITIVE', 'score': 0.7671359777450562}, {'label': 'NEGATIVE', 'score': 0.9993048906326294}, {'label': 'POSITIVE', 'score': 0.9992027878761292}, {'label': 'NEGATIVE', 'score': 0.9852208495140076}, {'label': 'NEGATIVE', 'score': 0.9496927857398987}, {'label': 'POSITIVE', 'score': 0.9944249391555786}, {'label': 'POSITIVE', 'score': 0.9935781955718994}, {'label': 'NEGATIVE', 'score': 0.613827645778656}, {'label': 'POSITIVE', 'score': 0.9947375655174255}, {'label': 'POSITIVE', 'score': 0.994357168674469}, {'label': 'POSITIVE', 'score': 0.9963725805282593}, {'label': 'POSITIVE', 'score': 0.9950783252716064}, {'label': 'POSITIVE', 'score': 0.9551899433135986}, {'label': 'NEGATIVE', 'score': 0.9804694056510925}, {'label': 'NEGATIVE', 'score': 0.992492139339447}, {'label': 'POSITIVE', 'score': 0.6680392026901245}, {'label': 'NEGATIVE', 'score': 0.9974617958068848}, {'label': 'NEGATIVE', 'score': 0.9949281215667725}, {'label': 'NEGATIVE', 'score': 0.8972923159599304}, {'label': 'NEGATIVE', 'score': 0.9873959422111511}, {'label': 'POSITIVE', 'score': 0.800112783908844}, {'label': 'NEGATIVE', 'score': 0.988381564617157}, {'label': 'NEGATIVE', 'score': 0.9940766096115112}, {'label': 'NEGATIVE', 'score': 0.988593339920044}, {'label': 'NEGATIVE', 'score': 0.9970570802688599}, {'label': 'NEGATIVE', 'score': 0.9738033413887024}, {'label': 'NEGATIVE', 'score': 0.9990963935852051}, {'label': 'POSITIVE', 'score': 0.9986428618431091}, {'label': 'NEGATIVE', 'score': 0.8317896723747253}, {'label': 'NEGATIVE', 'score': 0.9952705502510071}, {'label': 'NEGATIVE', 'score': 0.9983130693435669}, {'label': 'NEGATIVE', 'score': 0.9984745383262634}, {'label': 'NEGATIVE', 'score': 0.9957236051559448}, {'label': 'NEGATIVE', 'score': 0.5541400909423828}, {'label': 'NEGATIVE', 'score': 0.9978840947151184}, {'label': 'POSITIVE', 'score': 0.6964638829231262}, {'label': 'NEGATIVE', 'score': 0.87754225730896}, {'label': 'NEGATIVE', 'score': 0.9872690439224243}, {'label': 'NEGATIVE', 'score': 0.985358476638794}, {'label': 'NEGATIVE', 'score': 0.9856492877006531}, {'label': 'NEGATIVE', 'score': 0.9365281462669373}, {'label': 'NEGATIVE', 'score': 0.9903098940849304}, {'label': 'NEGATIVE', 'score': 0.9870360493659973}, {'label': 'POSITIVE', 'score': 0.9926477670669556}, {'label': 'NEGATIVE', 'score': 0.9967368245124817}, {'label': 'NEGATIVE', 'score': 0.9812175035476685}, {'label': 'NEGATIVE', 'score': 0.9995667338371277}, {'label': 'NEGATIVE', 'score': 0.9714374542236328}, {'label': 'NEGATIVE', 'score': 0.6628601551055908}, {'label': 'POSITIVE', 'score': 0.9724035859107971}, {'label': 'NEGATIVE', 'score': 0.9996209144592285}, {'label': 'POSITIVE', 'score': 0.9905582666397095}, {'label': 'NEGATIVE', 'score': 0.9891461133956909}, {'label': 'NEGATIVE', 'score': 0.9846707582473755}, {'label': 'NEGATIVE', 'score': 0.8832337856292725}, {'label': 'NEGATIVE', 'score': 0.941724956035614}, {'label': 'NEGATIVE', 'score': 0.9075579643249512}, {'label': 'NEGATIVE', 'score': 0.9780996441841125}, {'label': 'POSITIVE', 'score': 0.9934123158454895}, {'label': 'NEGATIVE', 'score': 0.9971917271614075}, {'label': 'NEGATIVE', 'score': 0.9957126379013062}, {'label': 'NEGATIVE', 'score': 0.997204601764679}, {'label': 'NEGATIVE', 'score': 0.9979890584945679}, {'label': 'NEGATIVE', 'score': 0.9894155263900757}, {'label': 'NEGATIVE', 'score': 0.9812599420547485}, {'label': 'NEGATIVE', 'score': 0.9847524762153625}, {'label': 'NEGATIVE', 'score': 0.9995546936988831}, {'label': 'NEGATIVE', 'score': 0.9995890259742737}, {'label': 'POSITIVE', 'score': 0.9658486247062683}, {'label': 'NEGATIVE', 'score': 0.9778650999069214}, {'label': 'NEGATIVE', 'score': 0.9987632036209106}, {'label': 'POSITIVE', 'score': 0.9911147356033325}, {'label': 'NEGATIVE', 'score': 0.9953296184539795}, {'label': 'NEGATIVE', 'score': 0.9978243112564087}, {'label': 'NEGATIVE', 'score': 0.9980629086494446}, {'label': 'NEGATIVE', 'score': 0.9987448453903198}, {'label': 'NEGATIVE', 'score': 0.9930685758590698}, {'label': 'NEGATIVE', 'score': 0.7513989806175232}, {'label': 'NEGATIVE', 'score': 0.9852861166000366}, {'label': 'NEGATIVE', 'score': 0.9986059069633484}, {'label': 'NEGATIVE', 'score': 0.9987583160400391}, {'label': 'NEGATIVE', 'score': 0.9704748392105103}, {'label': 'NEGATIVE', 'score': 0.9963933825492859}, {'label': 'NEGATIVE', 'score': 0.9944983124732971}, {'label': 'NEGATIVE', 'score': 0.9992121458053589}, {'label': 'NEGATIVE', 'score': 0.9994359612464905}, {'label': 'NEGATIVE', 'score': 0.9995489716529846}, {'label': 'NEGATIVE', 'score': 0.9992648959159851}, {'label': 'NEGATIVE', 'score': 0.9980481863021851}, {'label': 'NEGATIVE', 'score': 0.9987956285476685}, {'label': 'NEGATIVE', 'score': 0.9984471201896667}, {'label': 'NEGATIVE', 'score': 0.9979192614555359}, {'label': 'NEGATIVE', 'score': 0.9985291957855225}, {'label': 'NEGATIVE', 'score': 0.9973255395889282}, {'label': 'NEGATIVE', 'score': 0.9982012510299683}, {'label': 'NEGATIVE', 'score': 0.9985585808753967}, {'label': 'NEGATIVE', 'score': 0.9947599768638611}, {'label': 'NEGATIVE', 'score': 0.9988874793052673}, {'label': 'NEGATIVE', 'score': 0.9985999464988708}, {'label': 'NEGATIVE', 'score': 0.9973174929618835}, {'label': 'NEGATIVE', 'score': 0.9996041655540466}, {'label': 'NEGATIVE', 'score': 0.9983816146850586}, {'label': 'NEGATIVE', 'score': 0.996077835559845}, {'label': 'NEGATIVE', 'score': 0.9811751246452332}, {'label': 'NEGATIVE', 'score': 0.9941600561141968}, {'label': 'NEGATIVE', 'score': 0.9951430559158325}, {'label': 'NEGATIVE', 'score': 0.996528685092926}, {'label': 'NEGATIVE', 'score': 0.9980857372283936}, {'label': 'NEGATIVE', 'score': 0.9970217347145081}, {'label': 'NEGATIVE', 'score': 0.9956186413764954}, {'label': 'NEGATIVE', 'score': 0.99399334192276}, {'label': 'NEGATIVE', 'score': 0.9849040508270264}, {'label': 'NEGATIVE', 'score': 0.985268771648407}, {'label': 'NEGATIVE', 'score': 0.9869152903556824}, {'label': 'NEGATIVE', 'score': 0.9950513243675232}, {'label': 'NEGATIVE', 'score': 0.9940088987350464}, {'label': 'NEGATIVE', 'score': 0.9874283671379089}, {'label': 'NEGATIVE', 'score': 0.9946363568305969}, {'label': 'NEGATIVE', 'score': 0.9888306260108948}, {'label': 'NEGATIVE', 'score': 0.9971011281013489}, {'label': 'NEGATIVE', 'score': 0.9979739785194397}, {'label': 'NEGATIVE', 'score': 0.9961379170417786}, {'label': 'NEGATIVE', 'score': 0.9965662360191345}, {'label': 'NEGATIVE', 'score': 0.9965317845344543}, {'label': 'NEGATIVE', 'score': 0.9939088821411133}, {'label': 'NEGATIVE', 'score': 0.9978505373001099}, {'label': 'NEGATIVE', 'score': 0.9926602244377136}, {'label': 'NEGATIVE', 'score': 0.9981461763381958}, {'label': 'NEGATIVE', 'score': 0.9962266683578491}, {'label': 'NEGATIVE', 'score': 0.9986149072647095}, {'label': 'NEGATIVE', 'score': 0.9966015815734863}, {'label': 'NEGATIVE', 'score': 0.9937505125999451}, {'label': 'NEGATIVE', 'score': 0.9986054301261902}, {'label': 'NEGATIVE', 'score': 0.99853515625}, {'label': 'NEGATIVE', 'score': 0.9978398084640503}, {'label': 'NEGATIVE', 'score': 0.9982016086578369}, {'label': 'NEGATIVE', 'score': 0.9988117218017578}, {'label': 'NEGATIVE', 'score': 0.9981829524040222}, {'label': 'NEGATIVE', 'score': 0.9932541251182556}, {'label': 'NEGATIVE', 'score': 0.9975371360778809}, {'label': 'NEGATIVE', 'score': 0.9960022568702698}, {'label': 'NEGATIVE', 'score': 0.999092698097229}, {'label': 'NEGATIVE', 'score': 0.9989843964576721}, {'label': 'NEGATIVE', 'score': 0.9966980218887329}, {'label': 'NEGATIVE', 'score': 0.9983322024345398}, {'label': 'POSITIVE', 'score': 0.9682022333145142}, {'label': 'NEGATIVE', 'score': 0.9976428151130676}, {'label': 'NEGATIVE', 'score': 0.9987369179725647}, {'label': 'NEGATIVE', 'score': 0.9734752774238586}, {'label': 'NEGATIVE', 'score': 0.9997318387031555}, {'label': 'NEGATIVE', 'score': 0.9430903196334839}, {'label': 'NEGATIVE', 'score': 0.978141725063324}, {'label': 'NEGATIVE', 'score': 0.770262598991394}, {'label': 'NEGATIVE', 'score': 0.979799211025238}, {'label': 'NEGATIVE', 'score': 0.9652420878410339}, {'label': 'NEGATIVE', 'score': 0.6701485514640808}, {'label': 'NEGATIVE', 'score': 0.9404301643371582}, {'label': 'NEGATIVE', 'score': 0.9905087947845459}, {'label': 'POSITIVE', 'score': 0.9915885329246521}, {'label': 'NEGATIVE', 'score': 0.9942243695259094}, {'label': 'NEGATIVE', 'score': 0.9986571073532104}, {'label': 'NEGATIVE', 'score': 0.9991317391395569}, {'label': 'NEGATIVE', 'score': 0.9975132942199707}, {'label': 'NEGATIVE', 'score': 0.9947161078453064}, {'label': 'NEGATIVE', 'score': 0.9941366910934448}, {'label': 'POSITIVE', 'score': 0.9798339009284973}, {'label': 'NEGATIVE', 'score': 0.9910466074943542}, {'label': 'NEGATIVE', 'score': 0.9953367114067078}, {'label': 'NEGATIVE', 'score': 0.9730991721153259}, {'label': 'NEGATIVE', 'score': 0.9962454438209534}, {'label': 'NEGATIVE', 'score': 0.9926968216896057}, {'label': 'NEGATIVE', 'score': 0.9995224475860596}, {'label': 'NEGATIVE', 'score': 0.9983976483345032}, {'label': 'NEGATIVE', 'score': 0.9980502128601074}, {'label': 'NEGATIVE', 'score': 0.9979584217071533}, {'label': 'NEGATIVE', 'score': 0.9968791007995605}, {'label': 'POSITIVE', 'score': 0.9991698265075684}, {'label': 'POSITIVE', 'score': 0.9940717816352844}, {'label': 'NEGATIVE', 'score': 0.9877685904502869}, {'label': 'POSITIVE', 'score': 0.9164100885391235}, {'label': 'NEGATIVE', 'score': 0.9580313563346863}, {'label': 'NEGATIVE', 'score': 0.9867756962776184}, {'label': 'NEGATIVE', 'score': 0.9464735388755798}, {'label': 'NEGATIVE', 'score': 0.9867544770240784}, {'label': 'NEGATIVE', 'score': 0.9788916110992432}, {'label': 'NEGATIVE', 'score': 0.9886674284934998}, {'label': 'NEGATIVE', 'score': 0.9253313541412354}, {'label': 'NEGATIVE', 'score': 0.8585033416748047}, {'label': 'NEGATIVE', 'score': 0.9707769751548767}, {'label': 'NEGATIVE', 'score': 0.9615446925163269}, {'label': 'NEGATIVE', 'score': 0.9898802042007446}, {'label': 'POSITIVE', 'score': 0.7758249640464783}, {'label': 'NEGATIVE', 'score': 0.9980813264846802}, {'label': 'NEGATIVE', 'score': 0.9922958612442017}, {'label': 'NEGATIVE', 'score': 0.9926180243492126}, {'label': 'NEGATIVE', 'score': 0.9973089694976807}, {'label': 'NEGATIVE', 'score': 0.9984204769134521}, {'label': 'NEGATIVE', 'score': 0.998155415058136}, {'label': 'NEGATIVE', 'score': 0.9961125254631042}, {'label': 'NEGATIVE', 'score': 0.9983429908752441}, {'label': 'POSITIVE', 'score': 0.7108774781227112}, {'label': 'NEGATIVE', 'score': 0.995882511138916}, {'label': 'NEGATIVE', 'score': 0.9989299178123474}, {'label': 'NEGATIVE', 'score': 0.993682861328125}, {'label': 'NEGATIVE', 'score': 0.9973946809768677}, {'label': 'NEGATIVE', 'score': 0.9333793520927429}, {'label': 'NEGATIVE', 'score': 0.9948641657829285}, {'label': 'NEGATIVE', 'score': 0.9739568829536438}, {'label': 'NEGATIVE', 'score': 0.9962504506111145}, {'label': 'NEGATIVE', 'score': 0.9536267518997192}, {'label': 'NEGATIVE', 'score': 0.7282272577285767}, {'label': 'NEGATIVE', 'score': 0.9842181205749512}, {'label': 'NEGATIVE', 'score': 0.9941281080245972}, {'label': 'NEGATIVE', 'score': 0.9969900846481323}, {'label': 'POSITIVE', 'score': 0.999574601650238}, {'label': 'POSITIVE', 'score': 0.9994164705276489}, {'label': 'POSITIVE', 'score': 0.9994599223136902}, {'label': 'POSITIVE', 'score': 0.999349057674408}, {'label': 'NEGATIVE', 'score': 0.9991692304611206}, {'label': 'NEGATIVE', 'score': 0.9596406817436218}, {'label': 'NEGATIVE', 'score': 0.9946367144584656}, {'label': 'NEGATIVE', 'score': 0.9991419315338135}, {'label': 'NEGATIVE', 'score': 0.7645632028579712}, {'label': 'NEGATIVE', 'score': 0.8608304858207703}, {'label': 'NEGATIVE', 'score': 0.9982446432113647}, {'label': 'NEGATIVE', 'score': 0.9993975162506104}, {'label': 'NEGATIVE', 'score': 0.9990485310554504}, {'label': 'NEGATIVE', 'score': 0.9981310963630676}, {'label': 'NEGATIVE', 'score': 0.9961471557617188}, {'label': 'NEGATIVE', 'score': 0.995624840259552}, {'label': 'NEGATIVE', 'score': 0.9993544220924377}, {'label': 'NEGATIVE', 'score': 0.9307253360748291}, {'label': 'NEGATIVE', 'score': 0.776938796043396}, {'label': 'POSITIVE', 'score': 0.9412544965744019}, {'label': 'NEGATIVE', 'score': 0.9966859221458435}, {'label': 'NEGATIVE', 'score': 0.9975549578666687}, {'label': 'NEGATIVE', 'score': 0.9961491823196411}, {'label': 'NEGATIVE', 'score': 0.998320996761322}, {'label': 'NEGATIVE', 'score': 0.9985424280166626}, {'label': 'NEGATIVE', 'score': 0.9993382096290588}, {'label': 'NEGATIVE', 'score': 0.9987302422523499}, {'label': 'NEGATIVE', 'score': 0.9976481795310974}, {'label': 'NEGATIVE', 'score': 0.9984174966812134}, {'label': 'NEGATIVE', 'score': 0.9996803998947144}, {'label': 'NEGATIVE', 'score': 0.9987742304801941}, {'label': 'NEGATIVE', 'score': 0.9992051720619202}, {'label': 'POSITIVE', 'score': 0.5853974223136902}, {'label': 'POSITIVE', 'score': 0.9814367890357971}, {'label': 'POSITIVE', 'score': 0.9986429810523987}, {'label': 'POSITIVE', 'score': 0.7903077602386475}, {'label': 'NEGATIVE', 'score': 0.9958165287971497}, {'label': 'NEGATIVE', 'score': 0.9515612125396729}, {'label': 'NEGATIVE', 'score': 0.9968973398208618}, {'label': 'NEGATIVE', 'score': 0.9997225403785706}, {'label': 'NEGATIVE', 'score': 0.9710878133773804}, {'label': 'NEGATIVE', 'score': 0.9964990615844727}, {'label': 'NEGATIVE', 'score': 0.9953799247741699}, {'label': 'NEGATIVE', 'score': 0.8410041928291321}, {'label': 'NEGATIVE', 'score': 0.9422419667243958}, {'label': 'NEGATIVE', 'score': 0.9959399700164795}, {'label': 'NEGATIVE', 'score': 0.9958491325378418}, {'label': 'NEGATIVE', 'score': 0.995530903339386}, {'label': 'NEGATIVE', 'score': 0.99409419298172}, {'label': 'NEGATIVE', 'score': 0.9970608353614807}, {'label': 'NEGATIVE', 'score': 0.9996157884597778}, {'label': 'NEGATIVE', 'score': 0.9875583648681641}, {'label': 'NEGATIVE', 'score': 0.9919438362121582}, {'label': 'NEGATIVE', 'score': 0.9996022582054138}, {'label': 'NEGATIVE', 'score': 0.9773423075675964}, {'label': 'NEGATIVE', 'score': 0.9954879879951477}, {'label': 'POSITIVE', 'score': 0.9986804127693176}, {'label': 'NEGATIVE', 'score': 0.9966135621070862}, {'label': 'NEGATIVE', 'score': 0.9880752563476562}, {'label': 'NEGATIVE', 'score': 0.9670597314834595}, {'label': 'NEGATIVE', 'score': 0.9787311553955078}, {'label': 'NEGATIVE', 'score': 0.9955980181694031}, {'label': 'NEGATIVE', 'score': 0.997864305973053}, {'label': 'NEGATIVE', 'score': 0.9993765950202942}, {'label': 'NEGATIVE', 'score': 0.9978429079055786}, {'label': 'NEGATIVE', 'score': 0.9968811273574829}, {'label': 'NEGATIVE', 'score': 0.9884629845619202}, {'label': 'NEGATIVE', 'score': 0.9995415210723877}, {'label': 'NEGATIVE', 'score': 0.9966288208961487}, {'label': 'NEGATIVE', 'score': 0.9988258481025696}, {'label': 'NEGATIVE', 'score': 0.9937720894813538}, {'label': 'NEGATIVE', 'score': 0.9977299571037292}, {'label': 'NEGATIVE', 'score': 0.9831620454788208}, {'label': 'NEGATIVE', 'score': 0.985690176486969}, {'label': 'NEGATIVE', 'score': 0.9764593243598938}, {'label': 'NEGATIVE', 'score': 0.997269332408905}, {'label': 'NEGATIVE', 'score': 0.989738404750824}, {'label': 'NEGATIVE', 'score': 0.9995150566101074}, {'label': 'NEGATIVE', 'score': 0.9995519518852234}, {'label': 'NEGATIVE', 'score': 0.9893565773963928}, {'label': 'NEGATIVE', 'score': 0.9994638562202454}, {'label': 'POSITIVE', 'score': 0.993847668170929}, {'label': 'NEGATIVE', 'score': 0.993287980556488}, {'label': 'NEGATIVE', 'score': 0.9916549921035767}, {'label': 'NEGATIVE', 'score': 0.9914160370826721}, {'label': 'NEGATIVE', 'score': 0.9950312376022339}, {'label': 'NEGATIVE', 'score': 0.9995518326759338}, {'label': 'NEGATIVE', 'score': 0.9986157417297363}, {'label': 'NEGATIVE', 'score': 0.8230980038642883}, {'label': 'NEGATIVE', 'score': 0.9993307590484619}, {'label': 'NEGATIVE', 'score': 0.9980497360229492}, {'label': 'POSITIVE', 'score': 0.9908209443092346}, {'label': 'NEGATIVE', 'score': 0.9982019662857056}, {'label': 'NEGATIVE', 'score': 0.9992853999137878}, {'label': 'NEGATIVE', 'score': 0.9897946715354919}, {'label': 'POSITIVE', 'score': 0.9579180479049683}, {'label': 'NEGATIVE', 'score': 0.9996004700660706}, {'label': 'NEGATIVE', 'score': 0.9968440532684326}, {'label': 'NEGATIVE', 'score': 0.9994747042655945}, {'label': 'NEGATIVE', 'score': 0.9995102882385254}, {'label': 'POSITIVE', 'score': 0.9932502508163452}, {'label': 'NEGATIVE', 'score': 0.9952607750892639}, {'label': 'NEGATIVE', 'score': 0.9973541498184204}, {'label': 'NEGATIVE', 'score': 0.9958810806274414}, {'label': 'NEGATIVE', 'score': 0.9896131157875061}, {'label': 'NEGATIVE', 'score': 0.9579902291297913}, {'label': 'NEGATIVE', 'score': 0.9975534081459045}, {'label': 'NEGATIVE', 'score': 0.993179440498352}, {'label': 'NEGATIVE', 'score': 0.9990403056144714}, {'label': 'NEGATIVE', 'score': 0.9995014667510986}, {'label': 'NEGATIVE', 'score': 0.997606635093689}, {'label': 'POSITIVE', 'score': 0.958625853061676}, {'label': 'NEGATIVE', 'score': 0.994280219078064}, {'label': 'NEGATIVE', 'score': 0.9909659624099731}, {'label': 'NEGATIVE', 'score': 0.9996104836463928}, {'label': 'NEGATIVE', 'score': 0.9995430707931519}, {'label': 'NEGATIVE', 'score': 0.9996203184127808}, {'label': 'NEGATIVE', 'score': 0.9880601763725281}, {'label': 'NEGATIVE', 'score': 0.9983837604522705}, {'label': 'NEGATIVE', 'score': 0.9988099336624146}, {'label': 'NEGATIVE', 'score': 0.9992095232009888}, {'label': 'NEGATIVE', 'score': 0.9994712471961975}, {'label': 'NEGATIVE', 'score': 0.9987232089042664}, {'label': 'NEGATIVE', 'score': 0.9980970025062561}, {'label': 'NEGATIVE', 'score': 0.9871247410774231}, {'label': 'NEGATIVE', 'score': 0.9951595664024353}, {'label': 'NEGATIVE', 'score': 0.9990973472595215}, {'label': 'NEGATIVE', 'score': 0.9232760071754456}, {'label': 'NEGATIVE', 'score': 0.9987635612487793}, {'label': 'NEGATIVE', 'score': 0.9993153810501099}, {'label': 'NEGATIVE', 'score': 0.9961040019989014}, {'label': 'NEGATIVE', 'score': 0.9971973896026611}, {'label': 'NEGATIVE', 'score': 0.9980237483978271}, {'label': 'NEGATIVE', 'score': 0.9992011189460754}, {'label': 'NEGATIVE', 'score': 0.9989767074584961}, {'label': 'NEGATIVE', 'score': 0.9958682060241699}, {'label': 'NEGATIVE', 'score': 0.9671829342842102}, {'label': 'NEGATIVE', 'score': 0.9990693926811218}, {'label': 'NEGATIVE', 'score': 0.8575195670127869}, {'label': 'POSITIVE', 'score': 0.9792751669883728}, {'label': 'NEGATIVE', 'score': 0.9973222613334656}, {'label': 'NEGATIVE', 'score': 0.9953508377075195}, {'label': 'NEGATIVE', 'score': 0.9987490177154541}, {'label': 'NEGATIVE', 'score': 0.9995983242988586}, {'label': 'NEGATIVE', 'score': 0.999196469783783}, {'label': 'NEGATIVE', 'score': 0.98634934425354}, {'label': 'NEGATIVE', 'score': 0.9974133372306824}, {'label': 'NEGATIVE', 'score': 0.9963633418083191}, {'label': 'NEGATIVE', 'score': 0.9997637867927551}, {'label': 'NEGATIVE', 'score': 0.9921677708625793}, {'label': 'NEGATIVE', 'score': 0.9952853322029114}, {'label': 'NEGATIVE', 'score': 0.9997761845588684}, {'label': 'NEGATIVE', 'score': 0.998063862323761}, {'label': 'NEGATIVE', 'score': 0.9930006265640259}, {'label': 'NEGATIVE', 'score': 0.9977987408638}, {'label': 'NEGATIVE', 'score': 0.9957096576690674}, {'label': 'NEGATIVE', 'score': 0.9859684705734253}, {'label': 'NEGATIVE', 'score': 0.9910007119178772}, {'label': 'NEGATIVE', 'score': 0.9925185441970825}, {'label': 'POSITIVE', 'score': 0.9985645413398743}, {'label': 'NEGATIVE', 'score': 0.9995560050010681}, {'label': 'NEGATIVE', 'score': 0.9991624355316162}, {'label': 'NEGATIVE', 'score': 0.992939829826355}, {'label': 'NEGATIVE', 'score': 0.9938805103302002}, {'label': 'NEGATIVE', 'score': 0.993860125541687}, {'label': 'NEGATIVE', 'score': 0.9915162324905396}, {'label': 'POSITIVE', 'score': 0.8665725588798523}, {'label': 'NEGATIVE', 'score': 0.9994003772735596}, {'label': 'NEGATIVE', 'score': 0.9970912933349609}, {'label': 'NEGATIVE', 'score': 0.9889088273048401}, {'label': 'NEGATIVE', 'score': 0.8529874086380005}, {'label': 'NEGATIVE', 'score': 0.9987847208976746}, {'label': 'NEGATIVE', 'score': 0.9997074007987976}, {'label': 'NEGATIVE', 'score': 0.9970839619636536}, {'label': 'NEGATIVE', 'score': 0.9640717506408691}, {'label': 'NEGATIVE', 'score': 0.9968810081481934}, {'label': 'NEGATIVE', 'score': 0.9960378408432007}, {'label': 'POSITIVE', 'score': 0.9990054965019226}, {'label': 'POSITIVE', 'score': 0.6415221691131592}, {'label': 'POSITIVE', 'score': 0.8490754961967468}, {'label': 'POSITIVE', 'score': 0.9814162254333496}, {'label': 'POSITIVE', 'score': 0.8706058859825134}, {'label': 'POSITIVE', 'score': 0.9726467132568359}, {'label': 'NEGATIVE', 'score': 0.5780305862426758}, {'label': 'NEGATIVE', 'score': 0.8110602498054504}, {'label': 'NEGATIVE', 'score': 0.9633119106292725}, {'label': 'NEGATIVE', 'score': 0.9451099634170532}, {'label': 'NEGATIVE', 'score': 0.9905141592025757}, {'label': 'NEGATIVE', 'score': 0.9997053742408752}, {'label': 'NEGATIVE', 'score': 0.9973172545433044}, {'label': 'NEGATIVE', 'score': 0.9854698181152344}, {'label': 'NEGATIVE', 'score': 0.9880027770996094}, {'label': 'NEGATIVE', 'score': 0.9883337020874023}, {'label': 'POSITIVE', 'score': 0.8123738169670105}, {'label': 'NEGATIVE', 'score': 0.9947112798690796}, {'label': 'NEGATIVE', 'score': 0.5463504791259766}, {'label': 'NEGATIVE', 'score': 0.9989895224571228}, {'label': 'NEGATIVE', 'score': 0.9988368153572083}, {'label': 'NEGATIVE', 'score': 0.953774094581604}, {'label': 'NEGATIVE', 'score': 0.9991488456726074}, {'label': 'NEGATIVE', 'score': 0.9931858777999878}, {'label': 'POSITIVE', 'score': 0.9953138828277588}, {'label': 'POSITIVE', 'score': 0.9970102310180664}, {'label': 'POSITIVE', 'score': 0.9863872528076172}, {'label': 'NEGATIVE', 'score': 0.9943127632141113}, {'label': 'NEGATIVE', 'score': 0.7625585794448853}, {'label': 'NEGATIVE', 'score': 0.9945698380470276}, {'label': 'NEGATIVE', 'score': 0.9939355254173279}, {'label': 'NEGATIVE', 'score': 0.9903771281242371}, {'label': 'NEGATIVE', 'score': 0.9542278051376343}, {'label': 'POSITIVE', 'score': 0.9839263558387756}, {'label': 'NEGATIVE', 'score': 0.9241210222244263}, {'label': 'NEGATIVE', 'score': 0.9997847676277161}, {'label': 'NEGATIVE', 'score': 0.998065173625946}, {'label': 'NEGATIVE', 'score': 0.9982473850250244}, {'label': 'NEGATIVE', 'score': 0.9982081651687622}, {'label': 'NEGATIVE', 'score': 0.9979239702224731}, {'label': 'NEGATIVE', 'score': 0.9982838034629822}, {'label': 'NEGATIVE', 'score': 0.9991845488548279}, {'label': 'NEGATIVE', 'score': 0.9925342798233032}, {'label': 'NEGATIVE', 'score': 0.9934642910957336}, {'label': 'NEGATIVE', 'score': 0.9995474219322205}, {'label': 'NEGATIVE', 'score': 0.9985290765762329}, {'label': 'NEGATIVE', 'score': 0.8091281056404114}, {'label': 'NEGATIVE', 'score': 0.7492292523384094}, {'label': 'NEGATIVE', 'score': 0.9368454813957214}, {'label': 'NEGATIVE', 'score': 0.9984525442123413}, {'label': 'NEGATIVE', 'score': 0.9994556307792664}, {'label': 'NEGATIVE', 'score': 0.960337221622467}, {'label': 'NEGATIVE', 'score': 0.9993237257003784}, {'label': 'NEGATIVE', 'score': 0.99750155210495}, {'label': 'POSITIVE', 'score': 0.9716595411300659}, {'label': 'POSITIVE', 'score': 0.9892817735671997}, {'label': 'NEGATIVE', 'score': 0.9985331296920776}, {'label': 'NEGATIVE', 'score': 0.9982238411903381}, {'label': 'NEGATIVE', 'score': 0.9984878301620483}, {'label': 'NEGATIVE', 'score': 0.9989917874336243}, {'label': 'NEGATIVE', 'score': 0.9976220726966858}, {'label': 'NEGATIVE', 'score': 0.9964821338653564}, {'label': 'NEGATIVE', 'score': 0.9985916018486023}, {'label': 'NEGATIVE', 'score': 0.993230938911438}, {'label': 'NEGATIVE', 'score': 0.8741396069526672}, {'label': 'NEGATIVE', 'score': 0.8015438914299011}, {'label': 'POSITIVE', 'score': 0.9601426720619202}, {'label': 'NEGATIVE', 'score': 0.998596727848053}, {'label': 'NEGATIVE', 'score': 0.9957054257392883}, {'label': 'NEGATIVE', 'score': 0.998375415802002}, {'label': 'NEGATIVE', 'score': 0.9978164434432983}, {'label': 'NEGATIVE', 'score': 0.9977462887763977}, {'label': 'NEGATIVE', 'score': 0.9983401298522949}, {'label': 'NEGATIVE', 'score': 0.9972490668296814}, {'label': 'NEGATIVE', 'score': 0.9979466795921326}, {'label': 'NEGATIVE', 'score': 0.997261643409729}, {'label': 'NEGATIVE', 'score': 0.9962677359580994}, {'label': 'NEGATIVE', 'score': 0.996008038520813}, {'label': 'NEGATIVE', 'score': 0.9974668025970459}, {'label': 'NEGATIVE', 'score': 0.9984737038612366}, {'label': 'NEGATIVE', 'score': 0.9971306920051575}, {'label': 'NEGATIVE', 'score': 0.9971128702163696}, {'label': 'NEGATIVE', 'score': 0.9970986843109131}, {'label': 'NEGATIVE', 'score': 0.996703565120697}, {'label': 'POSITIVE', 'score': 0.968289852142334}, {'label': 'NEGATIVE', 'score': 0.9989966750144958}, {'label': 'POSITIVE', 'score': 0.9927922487258911}, {'label': 'NEGATIVE', 'score': 0.9672691822052002}, {'label': 'NEGATIVE', 'score': 0.9702497720718384}, {'label': 'NEGATIVE', 'score': 0.9834332466125488}, {'label': 'NEGATIVE', 'score': 0.8633358478546143}, {'label': 'NEGATIVE', 'score': 0.7560854554176331}, {'label': 'NEGATIVE', 'score': 0.7718045115470886}, {'label': 'NEGATIVE', 'score': 0.9988499879837036}, {'label': 'NEGATIVE', 'score': 0.9837868809700012}, {'label': 'POSITIVE', 'score': 0.9040718674659729}, {'label': 'POSITIVE', 'score': 0.9987220168113708}, {'label': 'POSITIVE', 'score': 0.9997643828392029}, {'label': 'POSITIVE', 'score': 0.9997465014457703}, {'label': 'POSITIVE', 'score': 0.9982700347900391}, {'label': 'NEGATIVE', 'score': 0.9935405850410461}, {'label': 'NEGATIVE', 'score': 0.9947789907455444}, {'label': 'POSITIVE', 'score': 0.9995465874671936}, {'label': 'NEGATIVE', 'score': 0.9951865077018738}, {'label': 'NEGATIVE', 'score': 0.9994826316833496}, {'label': 'NEGATIVE', 'score': 0.996378481388092}, {'label': 'NEGATIVE', 'score': 0.5031441450119019}, {'label': 'NEGATIVE', 'score': 0.9940977096557617}, {'label': 'NEGATIVE', 'score': 0.9901575446128845}, {'label': 'NEGATIVE', 'score': 0.960686206817627}, {'label': 'NEGATIVE', 'score': 0.988490104675293}, {'label': 'NEGATIVE', 'score': 0.9989614486694336}, {'label': 'POSITIVE', 'score': 0.821808934211731}, {'label': 'POSITIVE', 'score': 0.9984675049781799}, {'label': 'NEGATIVE', 'score': 0.9988498687744141}, {'label': 'POSITIVE', 'score': 0.9970647692680359}, {'label': 'POSITIVE', 'score': 0.9946104288101196}, {'label': 'NEGATIVE', 'score': 0.9975041747093201}, {'label': 'NEGATIVE', 'score': 0.9992992877960205}, {'label': 'POSITIVE', 'score': 0.9984328150749207}, {'label': 'NEGATIVE', 'score': 0.6408119797706604}, {'label': 'NEGATIVE', 'score': 0.9994738698005676}, {'label': 'NEGATIVE', 'score': 0.9987735152244568}, {'label': 'POSITIVE', 'score': 0.9885525703430176}, {'label': 'POSITIVE', 'score': 0.9823799133300781}, {'label': 'POSITIVE', 'score': 0.9920267462730408}, {'label': 'POSITIVE', 'score': 0.9905266761779785}, {'label': 'NEGATIVE', 'score': 0.7670766711235046}, {'label': 'NEGATIVE', 'score': 0.998176097869873}, {'label': 'NEGATIVE', 'score': 0.9952566027641296}, {'label': 'NEGATIVE', 'score': 0.996698796749115}, {'label': 'NEGATIVE', 'score': 0.9972110390663147}, {'label': 'NEGATIVE', 'score': 0.9988099336624146}, {'label': 'NEGATIVE', 'score': 0.9983665347099304}, {'label': 'NEGATIVE', 'score': 0.9967697858810425}, {'label': 'NEGATIVE', 'score': 0.998356282711029}, {'label': 'NEGATIVE', 'score': 0.9981797933578491}, {'label': 'NEGATIVE', 'score': 0.9956150054931641}, {'label': 'NEGATIVE', 'score': 0.9962553977966309}, {'label': 'NEGATIVE', 'score': 0.99580317735672}, {'label': 'NEGATIVE', 'score': 0.9968454241752625}, {'label': 'NEGATIVE', 'score': 0.9972169399261475}, {'label': 'NEGATIVE', 'score': 0.9983837604522705}, {'label': 'NEGATIVE', 'score': 0.9986535310745239}, {'label': 'NEGATIVE', 'score': 0.9974769949913025}, {'label': 'NEGATIVE', 'score': 0.9960118532180786}, {'label': 'NEGATIVE', 'score': 0.994602620601654}, {'label': 'NEGATIVE', 'score': 0.996081531047821}, {'label': 'NEGATIVE', 'score': 0.9953315854072571}, {'label': 'NEGATIVE', 'score': 0.9984539747238159}, {'label': 'NEGATIVE', 'score': 0.9964537620544434}, {'label': 'NEGATIVE', 'score': 0.9964346885681152}, {'label': 'NEGATIVE', 'score': 0.9985170960426331}, {'label': 'NEGATIVE', 'score': 0.9980877041816711}, {'label': 'NEGATIVE', 'score': 0.9973100423812866}, {'label': 'NEGATIVE', 'score': 0.9961507320404053}, {'label': 'NEGATIVE', 'score': 0.9958986639976501}, {'label': 'POSITIVE', 'score': 0.8077723979949951}, {'label': 'NEGATIVE', 'score': 0.9740396738052368}, {'label': 'NEGATIVE', 'score': 0.9980936646461487}, {'label': 'NEGATIVE', 'score': 0.9991210103034973}, {'label': 'NEGATIVE', 'score': 0.9987363219261169}, {'label': 'NEGATIVE', 'score': 0.997907280921936}, {'label': 'NEGATIVE', 'score': 0.9601602554321289}, {'label': 'NEGATIVE', 'score': 0.9979032278060913}, {'label': 'POSITIVE', 'score': 0.5906493663787842}, {'label': 'NEGATIVE', 'score': 0.9967105388641357}, {'label': 'NEGATIVE', 'score': 0.9901757836341858}, {'label': 'POSITIVE', 'score': 0.9925139546394348}, {'label': 'NEGATIVE', 'score': 0.9927271604537964}, {'label': 'NEGATIVE', 'score': 0.9948650002479553}, {'label': 'NEGATIVE', 'score': 0.998659610748291}, {'label': 'NEGATIVE', 'score': 0.9920434355735779}, {'label': 'NEGATIVE', 'score': 0.9910905361175537}, {'label': 'NEGATIVE', 'score': 0.9990392923355103}, {'label': 'NEGATIVE', 'score': 0.9965041875839233}, {'label': 'NEGATIVE', 'score': 0.9985740184783936}, {'label': 'POSITIVE', 'score': 0.999350368976593}, {'label': 'NEGATIVE', 'score': 0.9986258745193481}, {'label': 'NEGATIVE', 'score': 0.9957808256149292}, {'label': 'NEGATIVE', 'score': 0.9987097978591919}, {'label': 'NEGATIVE', 'score': 0.9989803433418274}, {'label': 'NEGATIVE', 'score': 0.9963441491127014}, {'label': 'NEGATIVE', 'score': 0.9966499209403992}, {'label': 'NEGATIVE', 'score': 0.9997826218605042}, {'label': 'NEGATIVE', 'score': 0.9992602467536926}, {'label': 'NEGATIVE', 'score': 0.9953776597976685}, {'label': 'NEGATIVE', 'score': 0.9942447543144226}, {'label': 'NEGATIVE', 'score': 0.998374342918396}, {'label': 'NEGATIVE', 'score': 0.9996546506881714}, {'label': 'NEGATIVE', 'score': 0.999476969242096}, {'label': 'NEGATIVE', 'score': 0.9978563189506531}, {'label': 'NEGATIVE', 'score': 0.9969149827957153}, {'label': 'NEGATIVE', 'score': 0.9991241097450256}, {'label': 'NEGATIVE', 'score': 0.9898483157157898}, {'label': 'NEGATIVE', 'score': 0.999602735042572}, {'label': 'NEGATIVE', 'score': 0.9980831146240234}, {'label': 'NEGATIVE', 'score': 0.9961056113243103}, {'label': 'NEGATIVE', 'score': 0.9991809725761414}, {'label': 'NEGATIVE', 'score': 0.9961977601051331}, {'label': 'NEGATIVE', 'score': 0.9989412426948547}, {'label': 'NEGATIVE', 'score': 0.9994651675224304}, {'label': 'NEGATIVE', 'score': 0.9969105124473572}, {'label': 'NEGATIVE', 'score': 0.9996246099472046}, {'label': 'NEGATIVE', 'score': 0.9997157454490662}, {'label': 'NEGATIVE', 'score': 0.9940714240074158}, {'label': 'NEGATIVE', 'score': 0.9944334626197815}, {'label': 'NEGATIVE', 'score': 0.9979702830314636}, {'label': 'NEGATIVE', 'score': 0.9412975907325745}, {'label': 'NEGATIVE', 'score': 0.9915462136268616}, {'label': 'NEGATIVE', 'score': 0.9997491240501404}, {'label': 'NEGATIVE', 'score': 0.9952718615531921}, {'label': 'NEGATIVE', 'score': 0.99959796667099}, {'label': 'NEGATIVE', 'score': 0.9956672191619873}, {'label': 'NEGATIVE', 'score': 0.9993693232536316}, {'label': 'NEGATIVE', 'score': 0.9960071444511414}, {'label': 'NEGATIVE', 'score': 0.9986855387687683}, {'label': 'NEGATIVE', 'score': 0.995940089225769}, {'label': 'NEGATIVE', 'score': 0.9993672966957092}, {'label': 'NEGATIVE', 'score': 0.9976028800010681}, {'label': 'NEGATIVE', 'score': 0.999026894569397}, {'label': 'NEGATIVE', 'score': 0.998602569103241}, {'label': 'NEGATIVE', 'score': 0.9995853304862976}, {'label': 'NEGATIVE', 'score': 0.9977095127105713}, {'label': 'NEGATIVE', 'score': 0.9987078905105591}, {'label': 'NEGATIVE', 'score': 0.998594343662262}, {'label': 'NEGATIVE', 'score': 0.9996950626373291}, {'label': 'NEGATIVE', 'score': 0.9987682700157166}, {'label': 'NEGATIVE', 'score': 0.9977666139602661}, {'label': 'NEGATIVE', 'score': 0.999725878238678}, {'label': 'NEGATIVE', 'score': 0.9990478157997131}, {'label': 'NEGATIVE', 'score': 0.998561441898346}, {'label': 'NEGATIVE', 'score': 0.9983522891998291}, {'label': 'NEGATIVE', 'score': 0.9988988637924194}, {'label': 'NEGATIVE', 'score': 0.9990697503089905}, {'label': 'NEGATIVE', 'score': 0.9987157583236694}, {'label': 'NEGATIVE', 'score': 0.9987311959266663}, {'label': 'NEGATIVE', 'score': 0.9938977360725403}, {'label': 'NEGATIVE', 'score': 0.9993302822113037}, {'label': 'NEGATIVE', 'score': 0.9603297114372253}, {'label': 'NEGATIVE', 'score': 0.9996094107627869}, {'label': 'NEGATIVE', 'score': 0.9992823004722595}, {'label': 'NEGATIVE', 'score': 0.9992027878761292}, {'label': 'NEGATIVE', 'score': 0.9977887868881226}, {'label': 'NEGATIVE', 'score': 0.9994493126869202}, {'label': 'NEGATIVE', 'score': 0.9992902278900146}, {'label': 'POSITIVE', 'score': 0.8097617626190186}, {'label': 'NEGATIVE', 'score': 0.9967543482780457}, {'label': 'NEGATIVE', 'score': 0.9965687990188599}, {'label': 'NEGATIVE', 'score': 0.9996490478515625}, {'label': 'NEGATIVE', 'score': 0.9983056783676147}, {'label': 'NEGATIVE', 'score': 0.9963847398757935}, {'label': 'NEGATIVE', 'score': 0.9778087139129639}, {'label': 'NEGATIVE', 'score': 0.9993619322776794}, {'label': 'NEGATIVE', 'score': 0.9978476762771606}, {'label': 'NEGATIVE', 'score': 0.9993343949317932}, {'label': 'NEGATIVE', 'score': 0.9997194409370422}, {'label': 'NEGATIVE', 'score': 0.9988647699356079}, {'label': 'NEGATIVE', 'score': 0.9974601864814758}, {'label': 'NEGATIVE', 'score': 0.9992285966873169}, {'label': 'NEGATIVE', 'score': 0.9994588494300842}, {'label': 'NEGATIVE', 'score': 0.9987806677818298}, {'label': 'NEGATIVE', 'score': 0.6393019556999207}, {'label': 'NEGATIVE', 'score': 0.9994614720344543}, {'label': 'NEGATIVE', 'score': 0.9696762561798096}, {'label': 'NEGATIVE', 'score': 0.998069703578949}, {'label': 'NEGATIVE', 'score': 0.999593198299408}, {'label': 'NEGATIVE', 'score': 0.9992884397506714}, {'label': 'NEGATIVE', 'score': 0.998384952545166}, {'label': 'NEGATIVE', 'score': 0.9982505440711975}, {'label': 'NEGATIVE', 'score': 0.9968851208686829}, {'label': 'NEGATIVE', 'score': 0.9991270899772644}, {'label': 'NEGATIVE', 'score': 0.9951081871986389}, {'label': 'NEGATIVE', 'score': 0.9983230233192444}, {'label': 'NEGATIVE', 'score': 0.9980529546737671}, {'label': 'NEGATIVE', 'score': 0.9903578162193298}, {'label': 'NEGATIVE', 'score': 0.9946487545967102}, {'label': 'NEGATIVE', 'score': 0.9990431666374207}, {'label': 'NEGATIVE', 'score': 0.992916464805603}, {'label': 'NEGATIVE', 'score': 0.9997698664665222}, {'label': 'NEGATIVE', 'score': 0.9980543851852417}, {'label': 'NEGATIVE', 'score': 0.9996813535690308}, {'label': 'NEGATIVE', 'score': 0.9993810653686523}, {'label': 'NEGATIVE', 'score': 0.9995865225791931}, {'label': 'NEGATIVE', 'score': 0.9990907907485962}, {'label': 'NEGATIVE', 'score': 0.9996057152748108}, {'label': 'NEGATIVE', 'score': 0.9996881484985352}, {'label': 'NEGATIVE', 'score': 0.8999961018562317}, {'label': 'NEGATIVE', 'score': 0.9995214939117432}, {'label': 'NEGATIVE', 'score': 0.9960601925849915}, {'label': 'NEGATIVE', 'score': 0.9725230932235718}, {'label': 'NEGATIVE', 'score': 0.9978576302528381}, {'label': 'NEGATIVE', 'score': 0.9996949434280396}, {'label': 'NEGATIVE', 'score': 0.9996159076690674}, {'label': 'NEGATIVE', 'score': 0.9996258020401001}, {'label': 'NEGATIVE', 'score': 0.999299168586731}, {'label': 'NEGATIVE', 'score': 0.9951462149620056}, {'label': 'NEGATIVE', 'score': 0.9987508058547974}, {'label': 'NEGATIVE', 'score': 0.9826223850250244}, {'label': 'NEGATIVE', 'score': 0.9997767806053162}, {'label': 'NEGATIVE', 'score': 0.9997040629386902}, {'label': 'NEGATIVE', 'score': 0.9996002316474915}, {'label': 'NEGATIVE', 'score': 0.9833810329437256}, {'label': 'NEGATIVE', 'score': 0.9986114501953125}, {'label': 'NEGATIVE', 'score': 0.9983727931976318}, {'label': 'NEGATIVE', 'score': 0.9985221028327942}, {'label': 'NEGATIVE', 'score': 0.9847376942634583}, {'label': 'NEGATIVE', 'score': 0.9997572302818298}, {'label': 'NEGATIVE', 'score': 0.9997559189796448}, {'label': 'NEGATIVE', 'score': 0.9962420463562012}, {'label': 'NEGATIVE', 'score': 0.9998065829277039}, {'label': 'NEGATIVE', 'score': 0.9474666118621826}, {'label': 'NEGATIVE', 'score': 0.9995986819267273}, {'label': 'NEGATIVE', 'score': 0.9994276165962219}, {'label': 'NEGATIVE', 'score': 0.8999289870262146}, {'label': 'NEGATIVE', 'score': 0.9990901947021484}, {'label': 'NEGATIVE', 'score': 0.9989684820175171}, {'label': 'NEGATIVE', 'score': 0.9994340538978577}, {'label': 'NEGATIVE', 'score': 0.9993157386779785}, {'label': 'NEGATIVE', 'score': 0.9994385838508606}, {'label': 'NEGATIVE', 'score': 0.9997226595878601}, {'label': 'NEGATIVE', 'score': 0.8168283104896545}, {'label': 'NEGATIVE', 'score': 0.9789848327636719}, {'label': 'NEGATIVE', 'score': 0.9996905326843262}, {'label': 'NEGATIVE', 'score': 0.9983413219451904}, {'label': 'NEGATIVE', 'score': 0.9984292387962341}, {'label': 'NEGATIVE', 'score': 0.9974478483200073}, {'label': 'NEGATIVE', 'score': 0.999671220779419}, {'label': 'NEGATIVE', 'score': 0.9974616765975952}, {'label': 'NEGATIVE', 'score': 0.9996521472930908}, {'label': 'NEGATIVE', 'score': 0.9991723299026489}, {'label': 'NEGATIVE', 'score': 0.9992916584014893}, {'label': 'NEGATIVE', 'score': 0.9223576188087463}, {'label': 'NEGATIVE', 'score': 0.9990610480308533}, {'label': 'NEGATIVE', 'score': 0.999510645866394}, {'label': 'NEGATIVE', 'score': 0.9984984397888184}, {'label': 'NEGATIVE', 'score': 0.9881919026374817}, {'label': 'NEGATIVE', 'score': 0.9997368454933167}, {'label': 'NEGATIVE', 'score': 0.9983715415000916}, {'label': 'NEGATIVE', 'score': 0.9997105002403259}, {'label': 'NEGATIVE', 'score': 0.9993141889572144}, {'label': 'NEGATIVE', 'score': 0.9993752837181091}, {'label': 'NEGATIVE', 'score': 0.9973823428153992}, {'label': 'NEGATIVE', 'score': 0.9587915539741516}, {'label': 'NEGATIVE', 'score': 0.9997246861457825}, {'label': 'NEGATIVE', 'score': 0.9975953698158264}, {'label': 'NEGATIVE', 'score': 0.9992839694023132}, {'label': 'NEGATIVE', 'score': 0.9994974136352539}, {'label': 'NEGATIVE', 'score': 0.9995728135108948}, {'label': 'NEGATIVE', 'score': 0.999142050743103}, {'label': 'NEGATIVE', 'score': 0.9819396138191223}, {'label': 'NEGATIVE', 'score': 0.9996404647827148}, {'label': 'NEGATIVE', 'score': 0.9996739625930786}, {'label': 'NEGATIVE', 'score': 0.9993957281112671}, {'label': 'NEGATIVE', 'score': 0.9934024214744568}, {'label': 'NEGATIVE', 'score': 0.9943140745162964}, {'label': 'NEGATIVE', 'score': 0.9989690780639648}, {'label': 'NEGATIVE', 'score': 0.9993276596069336}, {'label': 'NEGATIVE', 'score': 0.9993571639060974}, {'label': 'NEGATIVE', 'score': 0.999582827091217}, {'label': 'NEGATIVE', 'score': 0.9996415376663208}, {'label': 'NEGATIVE', 'score': 0.9829223155975342}, {'label': 'NEGATIVE', 'score': 0.9995689988136292}, {'label': 'NEGATIVE', 'score': 0.5833268761634827}, {'label': 'NEGATIVE', 'score': 0.9969689249992371}, {'label': 'NEGATIVE', 'score': 0.9979421496391296}, {'label': 'NEGATIVE', 'score': 0.9993450045585632}, {'label': 'NEGATIVE', 'score': 0.9973898530006409}, {'label': 'NEGATIVE', 'score': 0.9969086050987244}, {'label': 'NEGATIVE', 'score': 0.9997766613960266}, {'label': 'NEGATIVE', 'score': 0.9898715615272522}, {'label': 'NEGATIVE', 'score': 0.9772657752037048}, {'label': 'NEGATIVE', 'score': 0.9934090375900269}, {'label': 'NEGATIVE', 'score': 0.9952823519706726}, {'label': 'NEGATIVE', 'score': 0.9763626456260681}, {'label': 'NEGATIVE', 'score': 0.9979065656661987}, {'label': 'NEGATIVE', 'score': 0.9991414546966553}, {'label': 'NEGATIVE', 'score': 0.993364691734314}, {'label': 'NEGATIVE', 'score': 0.642889142036438}, {'label': 'NEGATIVE', 'score': 0.9922080636024475}, {'label': 'NEGATIVE', 'score': 0.9930002689361572}, {'label': 'NEGATIVE', 'score': 0.9941309094429016}, {'label': 'NEGATIVE', 'score': 0.9961250424385071}, {'label': 'NEGATIVE', 'score': 0.9992893934249878}, {'label': 'NEGATIVE', 'score': 0.9918199777603149}, {'label': 'NEGATIVE', 'score': 0.757623553276062}, {'label': 'NEGATIVE', 'score': 0.9812607765197754}, {'label': 'NEGATIVE', 'score': 0.9510843753814697}, {'label': 'POSITIVE', 'score': 0.6878047585487366}, {'label': 'NEGATIVE', 'score': 0.9980321526527405}, {'label': 'NEGATIVE', 'score': 0.9947776794433594}, {'label': 'NEGATIVE', 'score': 0.9692957401275635}, {'label': 'POSITIVE', 'score': 0.7183669805526733}, {'label': 'NEGATIVE', 'score': 0.9972148537635803}, {'label': 'NEGATIVE', 'score': 0.9973297119140625}, {'label': 'NEGATIVE', 'score': 0.997622549533844}, {'label': 'NEGATIVE', 'score': 0.9918087124824524}, {'label': 'NEGATIVE', 'score': 0.9866764545440674}, {'label': 'NEGATIVE', 'score': 0.9963484406471252}, {'label': 'NEGATIVE', 'score': 0.983005702495575}, {'label': 'NEGATIVE', 'score': 0.9994787573814392}, {'label': 'NEGATIVE', 'score': 0.9958011507987976}, {'label': 'NEGATIVE', 'score': 0.9933235049247742}, {'label': 'NEGATIVE', 'score': 0.9942463040351868}, {'label': 'NEGATIVE', 'score': 0.9907494187355042}, {'label': 'NEGATIVE', 'score': 0.9930620789527893}, {'label': 'NEGATIVE', 'score': 0.998792290687561}, {'label': 'NEGATIVE', 'score': 0.9928810596466064}, {'label': 'NEGATIVE', 'score': 0.9802573323249817}, {'label': 'NEGATIVE', 'score': 0.9668699502944946}, {'label': 'NEGATIVE', 'score': 0.9963377714157104}, {'label': 'NEGATIVE', 'score': 0.9968599081039429}, {'label': 'NEGATIVE', 'score': 0.9860300421714783}, {'label': 'NEGATIVE', 'score': 0.99318528175354}, {'label': 'NEGATIVE', 'score': 0.9928330183029175}, {'label': 'NEGATIVE', 'score': 0.9965858459472656}, {'label': 'NEGATIVE', 'score': 0.9875667095184326}, {'label': 'NEGATIVE', 'score': 0.9970331192016602}, {'label': 'NEGATIVE', 'score': 0.9994328618049622}, {'label': 'NEGATIVE', 'score': 0.997405469417572}, {'label': 'NEGATIVE', 'score': 0.9888606667518616}, {'label': 'NEGATIVE', 'score': 0.9796084761619568}, {'label': 'NEGATIVE', 'score': 0.8285358548164368}, {'label': 'NEGATIVE', 'score': 0.9929325580596924}, {'label': 'NEGATIVE', 'score': 0.9948989748954773}, {'label': 'NEGATIVE', 'score': 0.9978214502334595}, {'label': 'NEGATIVE', 'score': 0.9950700998306274}, {'label': 'NEGATIVE', 'score': 0.9898495674133301}, {'label': 'NEGATIVE', 'score': 0.9923387765884399}, {'label': 'NEGATIVE', 'score': 0.9917778968811035}, {'label': 'NEGATIVE', 'score': 0.985509991645813}, {'label': 'NEGATIVE', 'score': 0.9807339906692505}, {'label': 'POSITIVE', 'score': 0.9816158413887024}, {'label': 'NEGATIVE', 'score': 0.9958359003067017}, {'label': 'NEGATIVE', 'score': 0.9848899245262146}, {'label': 'NEGATIVE', 'score': 0.9967002272605896}, {'label': 'NEGATIVE', 'score': 0.9807603359222412}, {'label': 'NEGATIVE', 'score': 0.985954225063324}, {'label': 'NEGATIVE', 'score': 0.9401656985282898}, {'label': 'NEGATIVE', 'score': 0.9862530827522278}, {'label': 'NEGATIVE', 'score': 0.9971844553947449}, {'label': 'NEGATIVE', 'score': 0.990746259689331}, {'label': 'NEGATIVE', 'score': 0.9997010231018066}, {'label': 'NEGATIVE', 'score': 0.9921929240226746}, {'label': 'NEGATIVE', 'score': 0.9951047897338867}, {'label': 'NEGATIVE', 'score': 0.9969062209129333}, {'label': 'NEGATIVE', 'score': 0.9892039895057678}, {'label': 'NEGATIVE', 'score': 0.9708177447319031}, {'label': 'NEGATIVE', 'score': 0.9890342950820923}, {'label': 'POSITIVE', 'score': 0.9872757792472839}, {'label': 'POSITIVE', 'score': 0.9624614715576172}, {'label': 'NEGATIVE', 'score': 0.9914646744728088}, {'label': 'NEGATIVE', 'score': 0.9828543663024902}, {'label': 'NEGATIVE', 'score': 0.9882041215896606}, {'label': 'NEGATIVE', 'score': 0.9935964345932007}, {'label': 'POSITIVE', 'score': 0.7268227338790894}, {'label': 'POSITIVE', 'score': 0.979190468788147}, {'label': 'NEGATIVE', 'score': 0.5148409008979797}, {'label': 'NEGATIVE', 'score': 0.9888690710067749}, {'label': 'NEGATIVE', 'score': 0.8488320112228394}, {'label': 'NEGATIVE', 'score': 0.9990849494934082}, {'label': 'NEGATIVE', 'score': 0.9849777221679688}, {'label': 'NEGATIVE', 'score': 0.9826594591140747}, {'label': 'NEGATIVE', 'score': 0.5462736487388611}, {'label': 'NEGATIVE', 'score': 0.97493976354599}, {'label': 'NEGATIVE', 'score': 0.9944735169410706}, {'label': 'NEGATIVE', 'score': 0.9915134310722351}, {'label': 'NEGATIVE', 'score': 0.9946165680885315}, {'label': 'NEGATIVE', 'score': 0.97730553150177}, {'label': 'NEGATIVE', 'score': 0.9198625087738037}, {'label': 'NEGATIVE', 'score': 0.8995716571807861}, {'label': 'NEGATIVE', 'score': 0.9906193017959595}, {'label': 'NEGATIVE', 'score': 0.9944782257080078}, {'label': 'NEGATIVE', 'score': 0.9949760437011719}, {'label': 'NEGATIVE', 'score': 0.9949313998222351}, {'label': 'NEGATIVE', 'score': 0.993930459022522}, {'label': 'NEGATIVE', 'score': 0.9968174695968628}, {'label': 'POSITIVE', 'score': 0.9864166975021362}, {'label': 'NEGATIVE', 'score': 0.9942027926445007}, {'label': 'NEGATIVE', 'score': 0.9994102716445923}, {'label': 'NEGATIVE', 'score': 0.9935421943664551}, {'label': 'NEGATIVE', 'score': 0.9826677441596985}, {'label': 'NEGATIVE', 'score': 0.9905887842178345}, {'label': 'NEGATIVE', 'score': 0.9981706142425537}, {'label': 'NEGATIVE', 'score': 0.998106837272644}, {'label': 'NEGATIVE', 'score': 0.9975296854972839}, {'label': 'NEGATIVE', 'score': 0.9957413673400879}, {'label': 'NEGATIVE', 'score': 0.9983803033828735}, {'label': 'NEGATIVE', 'score': 0.9918603301048279}, {'label': 'NEGATIVE', 'score': 0.9895510077476501}, {'label': 'NEGATIVE', 'score': 0.9847612380981445}, {'label': 'NEGATIVE', 'score': 0.9843016862869263}, {'label': 'NEGATIVE', 'score': 0.9941512942314148}, {'label': 'NEGATIVE', 'score': 0.9976105690002441}, {'label': 'NEGATIVE', 'score': 0.992742657661438}, {'label': 'NEGATIVE', 'score': 0.993674635887146}, {'label': 'NEGATIVE', 'score': 0.9802111983299255}, {'label': 'NEGATIVE', 'score': 0.9955370426177979}, {'label': 'POSITIVE', 'score': 0.9929186701774597}, {'label': 'POSITIVE', 'score': 0.981609582901001}, {'label': 'NEGATIVE', 'score': 0.9909628033638}, {'label': 'POSITIVE', 'score': 0.9873795509338379}, {'label': 'NEGATIVE', 'score': 0.9294824600219727}, {'label': 'NEGATIVE', 'score': 0.9315099120140076}, {'label': 'NEGATIVE', 'score': 0.8113178610801697}, {'label': 'POSITIVE', 'score': 0.9996078610420227}, {'label': 'POSITIVE', 'score': 0.6950612664222717}, {'label': 'NEGATIVE', 'score': 0.9905186295509338}, {'label': 'POSITIVE', 'score': 0.9919445514678955}, {'label': 'POSITIVE', 'score': 0.9667094945907593}, {'label': 'POSITIVE', 'score': 0.9883267283439636}, {'label': 'POSITIVE', 'score': 0.9785999655723572}, {'label': 'NEGATIVE', 'score': 0.9436150193214417}, {'label': 'NEGATIVE', 'score': 0.9560705423355103}, {'label': 'POSITIVE', 'score': 0.99397212266922}, {'label': 'NEGATIVE', 'score': 0.9626637101173401}, {'label': 'NEGATIVE', 'score': 0.9594652056694031}, {'label': 'NEGATIVE', 'score': 0.64003586769104}, {'label': 'POSITIVE', 'score': 0.8456932306289673}, {'label': 'POSITIVE', 'score': 0.8822456002235413}, {'label': 'NEGATIVE', 'score': 0.9545074701309204}, {'label': 'POSITIVE', 'score': 0.5907491445541382}, {'label': 'POSITIVE', 'score': 0.7374136447906494}, {'label': 'POSITIVE', 'score': 0.8811548948287964}, {'label': 'POSITIVE', 'score': 0.9847960472106934}, {'label': 'POSITIVE', 'score': 0.9109699130058289}, {'label': 'NEGATIVE', 'score': 0.9322215914726257}, {'label': 'POSITIVE', 'score': 0.5336033701896667}, {'label': 'NEGATIVE', 'score': 0.9886377453804016}, {'label': 'POSITIVE', 'score': 0.9822984933853149}, {'label': 'POSITIVE', 'score': 0.8169606328010559}, {'label': 'POSITIVE', 'score': 0.9319921731948853}, {'label': 'POSITIVE', 'score': 0.9563410878181458}, {'label': 'NEGATIVE', 'score': 0.9877358078956604}, {'label': 'POSITIVE', 'score': 0.8756189346313477}, {'label': 'POSITIVE', 'score': 0.9837148785591125}, {'label': 'NEGATIVE', 'score': 0.997657299041748}, {'label': 'NEGATIVE', 'score': 0.732904851436615}, {'label': 'POSITIVE', 'score': 0.9926196932792664}, {'label': 'POSITIVE', 'score': 0.752199113368988}, {'label': 'NEGATIVE', 'score': 0.989303469657898}, {'label': 'NEGATIVE', 'score': 0.8245212435722351}, {'label': 'POSITIVE', 'score': 0.9962334036827087}, {'label': 'NEGATIVE', 'score': 0.9068810343742371}, {'label': 'POSITIVE', 'score': 0.9468002915382385}, {'label': 'NEGATIVE', 'score': 0.9932857155799866}, {'label': 'POSITIVE', 'score': 0.941185474395752}, {'label': 'POSITIVE', 'score': 0.9877554774284363}, {'label': 'POSITIVE', 'score': 0.8662421703338623}, {'label': 'NEGATIVE', 'score': 0.98236083984375}, {'label': 'POSITIVE', 'score': 0.9357870221138}, {'label': 'POSITIVE', 'score': 0.9925544857978821}, {'label': 'NEGATIVE', 'score': 0.9546954035758972}, {'label': 'NEGATIVE', 'score': 0.9666065573692322}, {'label': 'NEGATIVE', 'score': 0.9956159591674805}, {'label': 'POSITIVE', 'score': 0.8562798500061035}, {'label': 'POSITIVE', 'score': 0.9975802898406982}, {'label': 'POSITIVE', 'score': 0.9993292093276978}, {'label': 'POSITIVE', 'score': 0.8020796179771423}, {'label': 'POSITIVE', 'score': 0.7206970453262329}, {'label': 'POSITIVE', 'score': 0.9396604299545288}, {'label': 'NEGATIVE', 'score': 0.968795120716095}, {'label': 'NEGATIVE', 'score': 0.990669846534729}, {'label': 'NEGATIVE', 'score': 0.9927532076835632}, {'label': 'NEGATIVE', 'score': 0.9693603515625}, {'label': 'NEGATIVE', 'score': 0.9937439560890198}, {'label': 'NEGATIVE', 'score': 0.50688636302948}, {'label': 'NEGATIVE', 'score': 0.9071568250656128}, {'label': 'POSITIVE', 'score': 0.8096177577972412}, {'label': 'NEGATIVE', 'score': 0.9427610039710999}, {'label': 'NEGATIVE', 'score': 0.6570844650268555}, {'label': 'POSITIVE', 'score': 0.9960843324661255}, {'label': 'NEGATIVE', 'score': 0.6053974628448486}, {'label': 'NEGATIVE', 'score': 0.9877585768699646}, {'label': 'NEGATIVE', 'score': 0.9894077777862549}, {'label': 'NEGATIVE', 'score': 0.9809134602546692}, {'label': 'POSITIVE', 'score': 0.9976295232772827}, {'label': 'NEGATIVE', 'score': 0.8104755878448486}, {'label': 'NEGATIVE', 'score': 0.9724450707435608}, {'label': 'NEGATIVE', 'score': 0.8340915441513062}, {'label': 'NEGATIVE', 'score': 0.989838719367981}, {'label': 'NEGATIVE', 'score': 0.9472497701644897}, {'label': 'NEGATIVE', 'score': 0.9762440323829651}, {'label': 'POSITIVE', 'score': 0.9994326233863831}, {'label': 'POSITIVE', 'score': 0.9884496927261353}, {'label': 'NEGATIVE', 'score': 0.53209388256073}, {'label': 'NEGATIVE', 'score': 0.9712920784950256}, {'label': 'POSITIVE', 'score': 0.6188660264015198}, {'label': 'NEGATIVE', 'score': 0.9261643886566162}, {'label': 'NEGATIVE', 'score': 0.9642101526260376}, {'label': 'POSITIVE', 'score': 0.7700166702270508}, {'label': 'NEGATIVE', 'score': 0.848070502281189}, {'label': 'NEGATIVE', 'score': 0.9880508184432983}, {'label': 'NEGATIVE', 'score': 0.9129286408424377}, {'label': 'POSITIVE', 'score': 0.9856210350990295}, {'label': 'NEGATIVE', 'score': 0.6952806115150452}, {'label': 'POSITIVE', 'score': 0.949321448802948}, {'label': 'POSITIVE', 'score': 0.8414457440376282}, {'label': 'NEGATIVE', 'score': 0.9855776429176331}, {'label': 'NEGATIVE', 'score': 0.9770585894584656}, {'label': 'NEGATIVE', 'score': 0.9427797198295593}, {'label': 'POSITIVE', 'score': 0.9722024202346802}, {'label': 'POSITIVE', 'score': 0.9974519610404968}, {'label': 'NEGATIVE', 'score': 0.9848710894584656}, {'label': 'NEGATIVE', 'score': 0.9781825542449951}, {'label': 'NEGATIVE', 'score': 0.992588996887207}, {'label': 'NEGATIVE', 'score': 0.9429587125778198}, {'label': 'NEGATIVE', 'score': 0.9680129885673523}, {'label': 'POSITIVE', 'score': 0.9337763786315918}, {'label': 'POSITIVE', 'score': 0.9798134565353394}, {'label': 'NEGATIVE', 'score': 0.7627508044242859}, {'label': 'NEGATIVE', 'score': 0.9412648677825928}, {'label': 'NEGATIVE', 'score': 0.9760319590568542}, {'label': 'NEGATIVE', 'score': 0.9474289417266846}, {'label': 'NEGATIVE', 'score': 0.9623221158981323}, {'label': 'POSITIVE', 'score': 0.5474564433097839}, {'label': 'NEGATIVE', 'score': 0.9519753456115723}, {'label': 'NEGATIVE', 'score': 0.9242315292358398}, {'label': 'POSITIVE', 'score': 0.9975998997688293}, {'label': 'POSITIVE', 'score': 0.9811930656433105}, {'label': 'NEGATIVE', 'score': 0.7676414847373962}, {'label': 'NEGATIVE', 'score': 0.9704190492630005}, {'label': 'POSITIVE', 'score': 0.8980749249458313}, {'label': 'POSITIVE', 'score': 0.9481475949287415}, {'label': 'NEGATIVE', 'score': 0.9314433932304382}, {'label': 'NEGATIVE', 'score': 0.9615370631217957}, {'label': 'NEGATIVE', 'score': 0.9958288073539734}, {'label': 'NEGATIVE', 'score': 0.9816174507141113}, {'label': 'NEGATIVE', 'score': 0.8660760521888733}, {'label': 'POSITIVE', 'score': 0.9244176149368286}, {'label': 'POSITIVE', 'score': 0.968765377998352}, {'label': 'POSITIVE', 'score': 0.9858008027076721}, {'label': 'NEGATIVE', 'score': 0.9510422348976135}, {'label': 'NEGATIVE', 'score': 0.9927599430084229}, {'label': 'POSITIVE', 'score': 0.8674681782722473}, {'label': 'NEGATIVE', 'score': 0.8807927966117859}, {'label': 'NEGATIVE', 'score': 0.9945482611656189}, {'label': 'POSITIVE', 'score': 0.989240825176239}, {'label': 'POSITIVE', 'score': 0.9871074557304382}, {'label': 'POSITIVE', 'score': 0.9992913007736206}, {'label': 'POSITIVE', 'score': 0.6316127181053162}, {'label': 'POSITIVE', 'score': 0.998356282711029}, {'label': 'POSITIVE', 'score': 0.6826583743095398}, {'label': 'POSITIVE', 'score': 0.9528188109397888}, {'label': 'POSITIVE', 'score': 0.5254005789756775}, {'label': 'POSITIVE', 'score': 0.9638972878456116}, {'label': 'NEGATIVE', 'score': 0.9932746887207031}, {'label': 'POSITIVE', 'score': 0.9956681728363037}, {'label': 'NEGATIVE', 'score': 0.9105044007301331}, {'label': 'POSITIVE', 'score': 0.7370083332061768}, {'label': 'POSITIVE', 'score': 0.9575477838516235}, {'label': 'NEGATIVE', 'score': 0.9940339922904968}, {'label': 'NEGATIVE', 'score': 0.938567578792572}, {'label': 'NEGATIVE', 'score': 0.9914193153381348}, {'label': 'POSITIVE', 'score': 0.7146393060684204}, {'label': 'NEGATIVE', 'score': 0.9833105802536011}, {'label': 'NEGATIVE', 'score': 0.9445948600769043}, {'label': 'POSITIVE', 'score': 0.9949291944503784}, {'label': 'POSITIVE', 'score': 0.9722909927368164}, {'label': 'NEGATIVE', 'score': 0.8958814144134521}, {'label': 'POSITIVE', 'score': 0.993502676486969}, {'label': 'POSITIVE', 'score': 0.9650053381919861}, {'label': 'NEGATIVE', 'score': 0.5689902901649475}, {'label': 'POSITIVE', 'score': 0.9975939393043518}, {'label': 'NEGATIVE', 'score': 0.9937187433242798}, {'label': 'NEGATIVE', 'score': 0.8800293803215027}, {'label': 'NEGATIVE', 'score': 0.9921911358833313}, {'label': 'POSITIVE', 'score': 0.9902442097663879}, {'label': 'POSITIVE', 'score': 0.9885436296463013}, {'label': 'NEGATIVE', 'score': 0.9415715932846069}, {'label': 'NEGATIVE', 'score': 0.9803358912467957}, {'label': 'NEGATIVE', 'score': 0.9917608499526978}, {'label': 'POSITIVE', 'score': 0.9940024018287659}, {'label': 'POSITIVE', 'score': 0.5490249991416931}, {'label': 'POSITIVE', 'score': 0.9867563247680664}, {'label': 'NEGATIVE', 'score': 0.9698801636695862}, {'label': 'NEGATIVE', 'score': 0.9874041080474854}, {'label': 'NEGATIVE', 'score': 0.6954429149627686}, {'label': 'NEGATIVE', 'score': 0.9340448379516602}, {'label': 'POSITIVE', 'score': 0.9915050864219666}, {'label': 'NEGATIVE', 'score': 0.9644001126289368}, {'label': 'NEGATIVE', 'score': 0.9802895188331604}, {'label': 'NEGATIVE', 'score': 0.975338339805603}, {'label': 'POSITIVE', 'score': 0.998145341873169}, {'label': 'POSITIVE', 'score': 0.93860924243927}, {'label': 'POSITIVE', 'score': 0.9649224281311035}, {'label': 'NEGATIVE', 'score': 0.9332910776138306}, {'label': 'NEGATIVE', 'score': 0.8923938274383545}, {'label': 'POSITIVE', 'score': 0.7985154986381531}, {'label': 'NEGATIVE', 'score': 0.9392098188400269}, {'label': 'POSITIVE', 'score': 0.9249373078346252}, {'label': 'NEGATIVE', 'score': 0.7970887422561646}, {'label': 'NEGATIVE', 'score': 0.5069722533226013}, {'label': 'POSITIVE', 'score': 0.9923861026763916}, {'label': 'NEGATIVE', 'score': 0.964629054069519}, {'label': 'NEGATIVE', 'score': 0.7166480422019958}, {'label': 'NEGATIVE', 'score': 0.9749717116355896}, {'label': 'NEGATIVE', 'score': 0.9776369333267212}, {'label': 'NEGATIVE', 'score': 0.9873649477958679}, {'label': 'POSITIVE', 'score': 0.9968904852867126}, {'label': 'NEGATIVE', 'score': 0.9695995450019836}, {'label': 'NEGATIVE', 'score': 0.9339370727539062}, {'label': 'NEGATIVE', 'score': 0.988204836845398}, {'label': 'POSITIVE', 'score': 0.5106357932090759}, {'label': 'NEGATIVE', 'score': 0.7191769480705261}, {'label': 'POSITIVE', 'score': 0.9197319149971008}, {'label': 'NEGATIVE', 'score': 0.8719190955162048}, {'label': 'POSITIVE', 'score': 0.714351236820221}, {'label': 'NEGATIVE', 'score': 0.9357581734657288}, {'label': 'POSITIVE', 'score': 0.9675925970077515}, {'label': 'NEGATIVE', 'score': 0.9872151613235474}, {'label': 'POSITIVE', 'score': 0.8763545155525208}, {'label': 'NEGATIVE', 'score': 0.9981200098991394}, {'label': 'NEGATIVE', 'score': 0.9984569549560547}, {'label': 'NEGATIVE', 'score': 0.8951506614685059}, {'label': 'NEGATIVE', 'score': 0.7980742454528809}, {'label': 'POSITIVE', 'score': 0.9586156606674194}, {'label': 'NEGATIVE', 'score': 0.9896961450576782}, {'label': 'NEGATIVE', 'score': 0.999041736125946}, {'label': 'NEGATIVE', 'score': 0.9981562495231628}, {'label': 'NEGATIVE', 'score': 0.9981982111930847}, {'label': 'NEGATIVE', 'score': 0.9969876408576965}, {'label': 'NEGATIVE', 'score': 0.9990678429603577}, {'label': 'NEGATIVE', 'score': 0.9995367527008057}, {'label': 'NEGATIVE', 'score': 0.9992615580558777}, {'label': 'NEGATIVE', 'score': 0.9986360669136047}, {'label': 'NEGATIVE', 'score': 0.9979912042617798}, {'label': 'NEGATIVE', 'score': 0.9815025925636292}, {'label': 'NEGATIVE', 'score': 0.9989032745361328}, {'label': 'NEGATIVE', 'score': 0.9947975873947144}, {'label': 'NEGATIVE', 'score': 0.9851824641227722}, {'label': 'NEGATIVE', 'score': 0.9995225667953491}, {'label': 'NEGATIVE', 'score': 0.9995898604393005}, {'label': 'NEGATIVE', 'score': 0.9995887875556946}, {'label': 'NEGATIVE', 'score': 0.9989141225814819}, {'label': 'NEGATIVE', 'score': 0.9982028007507324}, {'label': 'NEGATIVE', 'score': 0.9983819723129272}, {'label': 'NEGATIVE', 'score': 0.9871123433113098}, {'label': 'NEGATIVE', 'score': 0.5294029116630554}, {'label': 'NEGATIVE', 'score': 0.6473731398582458}, {'label': 'NEGATIVE', 'score': 0.9788180589675903}, {'label': 'NEGATIVE', 'score': 0.9948371648788452}, {'label': 'POSITIVE', 'score': 0.9928154945373535}, {'label': 'NEGATIVE', 'score': 0.9976121187210083}, {'label': 'NEGATIVE', 'score': 0.959779679775238}, {'label': 'NEGATIVE', 'score': 0.9977966547012329}, {'label': 'NEGATIVE', 'score': 0.9204251170158386}, {'label': 'NEGATIVE', 'score': 0.9752523899078369}, {'label': 'NEGATIVE', 'score': 0.9977813363075256}, {'label': 'NEGATIVE', 'score': 0.9946099519729614}, {'label': 'NEGATIVE', 'score': 0.9358032941818237}, {'label': 'POSITIVE', 'score': 0.9666178226470947}, {'label': 'NEGATIVE', 'score': 0.9920095205307007}, {'label': 'NEGATIVE', 'score': 0.9987947940826416}, {'label': 'NEGATIVE', 'score': 0.9931544065475464}, {'label': 'NEGATIVE', 'score': 0.9969417452812195}, {'label': 'POSITIVE', 'score': 0.9915214776992798}, {'label': 'NEGATIVE', 'score': 0.9996885061264038}, {'label': 'NEGATIVE', 'score': 0.9918959736824036}, {'label': 'NEGATIVE', 'score': 0.9180887341499329}, {'label': 'NEGATIVE', 'score': 0.994434654712677}, {'label': 'NEGATIVE', 'score': 0.965150773525238}, {'label': 'NEGATIVE', 'score': 0.9957233667373657}, {'label': 'NEGATIVE', 'score': 0.7694920301437378}, {'label': 'NEGATIVE', 'score': 0.9995368719100952}, {'label': 'NEGATIVE', 'score': 0.9853399395942688}, {'label': 'NEGATIVE', 'score': 0.6463910937309265}, {'label': 'NEGATIVE', 'score': 0.931016743183136}, {'label': 'POSITIVE', 'score': 0.9871690273284912}, {'label': 'POSITIVE', 'score': 0.9517485499382019}, {'label': 'POSITIVE', 'score': 0.7765552997589111}, {'label': 'NEGATIVE', 'score': 0.9686060547828674}, {'label': 'NEGATIVE', 'score': 0.6366729736328125}, {'label': 'POSITIVE', 'score': 0.9449391961097717}, {'label': 'NEGATIVE', 'score': 0.8470578789710999}, {'label': 'POSITIVE', 'score': 0.6689502000808716}, {'label': 'NEGATIVE', 'score': 0.9714644551277161}, {'label': 'NEGATIVE', 'score': 0.973086953163147}, {'label': 'NEGATIVE', 'score': 0.8930978178977966}, {'label': 'NEGATIVE', 'score': 0.5946961641311646}, {'label': 'NEGATIVE', 'score': 0.9953814744949341}, {'label': 'NEGATIVE', 'score': 0.997197151184082}, {'label': 'NEGATIVE', 'score': 0.9946569204330444}, {'label': 'POSITIVE', 'score': 0.9651482105255127}, {'label': 'POSITIVE', 'score': 0.9217740893363953}]\n"
     ]
    }
   ],
   "source": [
    "# display some predictions\n",
    "print(predictions)"
   ]
  },
  {
   "cell_type": "code",
   "execution_count": 44,
   "metadata": {},
   "outputs": [
    {
     "data": {
      "text/html": [
       "<div>\n",
       "<style scoped>\n",
       "    .dataframe tbody tr th:only-of-type {\n",
       "        vertical-align: middle;\n",
       "    }\n",
       "\n",
       "    .dataframe tbody tr th {\n",
       "        vertical-align: top;\n",
       "    }\n",
       "\n",
       "    .dataframe thead th {\n",
       "        text-align: right;\n",
       "    }\n",
       "</style>\n",
       "<table border=\"1\" class=\"dataframe\">\n",
       "  <thead>\n",
       "    <tr style=\"text-align: right;\">\n",
       "      <th></th>\n",
       "      <th>label</th>\n",
       "      <th>score</th>\n",
       "    </tr>\n",
       "  </thead>\n",
       "  <tbody>\n",
       "    <tr>\n",
       "      <th>0</th>\n",
       "      <td>NEGATIVE</td>\n",
       "      <td>0.994171</td>\n",
       "    </tr>\n",
       "    <tr>\n",
       "      <th>1</th>\n",
       "      <td>NEGATIVE</td>\n",
       "      <td>0.994395</td>\n",
       "    </tr>\n",
       "    <tr>\n",
       "      <th>2</th>\n",
       "      <td>NEGATIVE</td>\n",
       "      <td>0.999536</td>\n",
       "    </tr>\n",
       "    <tr>\n",
       "      <th>3</th>\n",
       "      <td>NEGATIVE</td>\n",
       "      <td>0.999731</td>\n",
       "    </tr>\n",
       "    <tr>\n",
       "      <th>4</th>\n",
       "      <td>NEGATIVE</td>\n",
       "      <td>0.995609</td>\n",
       "    </tr>\n",
       "  </tbody>\n",
       "</table>\n",
       "</div>"
      ],
      "text/plain": [
       "      label     score\n",
       "0  NEGATIVE  0.994171\n",
       "1  NEGATIVE  0.994395\n",
       "2  NEGATIVE  0.999536\n",
       "3  NEGATIVE  0.999731\n",
       "4  NEGATIVE  0.995609"
      ]
     },
     "execution_count": 44,
     "metadata": {},
     "output_type": "execute_result"
    }
   ],
   "source": [
    "df_predictions = pd.DataFrame(predictions)\n",
    "df_predictions.head()"
   ]
  },
  {
   "cell_type": "code",
   "execution_count": 59,
   "metadata": {},
   "outputs": [
    {
     "name": "stdout",
     "output_type": "stream",
     "text": [
      "              precision    recall  f1-score   support\n",
      "\n",
      "    NEGATIVE       0.19      0.97      0.32      1442\n",
      "     NEUTRAL       0.00      0.00      0.00      6178\n",
      "    POSITIVE       0.30      0.34      0.32      1923\n",
      "\n",
      "    accuracy                           0.22      9543\n",
      "   macro avg       0.16      0.44      0.21      9543\n",
      "weighted avg       0.09      0.22      0.11      9543\n",
      "\n"
     ]
    },
    {
     "name": "stderr",
     "output_type": "stream",
     "text": [
      "/opt/anaconda3/envs/pytorch/lib/python3.10/site-packages/sklearn/metrics/_classification.py:1565: UndefinedMetricWarning:\n",
      "\n",
      "Precision is ill-defined and being set to 0.0 in labels with no predicted samples. Use `zero_division` parameter to control this behavior.\n",
      "\n",
      "/opt/anaconda3/envs/pytorch/lib/python3.10/site-packages/sklearn/metrics/_classification.py:1565: UndefinedMetricWarning:\n",
      "\n",
      "Precision is ill-defined and being set to 0.0 in labels with no predicted samples. Use `zero_division` parameter to control this behavior.\n",
      "\n",
      "/opt/anaconda3/envs/pytorch/lib/python3.10/site-packages/sklearn/metrics/_classification.py:1565: UndefinedMetricWarning:\n",
      "\n",
      "Precision is ill-defined and being set to 0.0 in labels with no predicted samples. Use `zero_division` parameter to control this behavior.\n",
      "\n"
     ]
    }
   ],
   "source": [
    "from sklearn.metrics import classification_report\n",
    "\n",
    "# produce the classification report for the dataset, what comments can you make?\n",
    "labels = df[\"label_text\"]\n",
    "predicted_labels = df_predictions[\"label\"]\n",
    "\n",
    "print(classification_report(labels, predicted_labels))"
   ]
  },
  {
   "cell_type": "code",
   "execution_count": 60,
   "metadata": {},
   "outputs": [
    {
     "data": {
      "application/vnd.plotly.v1+json": {
       "config": {
        "plotlyServerURL": "https://plot.ly"
       },
       "data": [
        {
         "coloraxis": "coloraxis",
         "hovertemplate": "Predicted labels: %{x}<br>Labels: %{y}<br>color: %{z}<extra></extra>",
         "name": "0",
         "text": {
          "bdata": "eAUAACoAShIAANgF9gQAAI0C",
          "dtype": "i2",
          "shape": "3, 3"
         },
         "texttemplate": "%{text}",
         "type": "heatmap",
         "x": [
          "NEGATIVE",
          "NEUTRAL",
          "POSITIVE"
         ],
         "xaxis": "x",
         "y": [
          "NEGATIVE",
          "NEUTRAL",
          "POSITIVE"
         ],
         "yaxis": "y",
         "z": {
          "bdata": "eAUAACoAShIAANgF9gQAAI0C",
          "dtype": "i2",
          "shape": "3, 3"
         }
        }
       ],
       "layout": {
        "coloraxis": {
         "colorscale": [
          [
           0,
           "#0d0887"
          ],
          [
           0.1111111111111111,
           "#46039f"
          ],
          [
           0.2222222222222222,
           "#7201a8"
          ],
          [
           0.3333333333333333,
           "#9c179e"
          ],
          [
           0.4444444444444444,
           "#bd3786"
          ],
          [
           0.5555555555555556,
           "#d8576b"
          ],
          [
           0.6666666666666666,
           "#ed7953"
          ],
          [
           0.7777777777777778,
           "#fb9f3a"
          ],
          [
           0.8888888888888888,
           "#fdca26"
          ],
          [
           1,
           "#f0f921"
          ]
         ]
        },
        "margin": {
         "t": 60
        },
        "template": {
         "data": {
          "bar": [
           {
            "error_x": {
             "color": "#2a3f5f"
            },
            "error_y": {
             "color": "#2a3f5f"
            },
            "marker": {
             "line": {
              "color": "#E5ECF6",
              "width": 0.5
             },
             "pattern": {
              "fillmode": "overlay",
              "size": 10,
              "solidity": 0.2
             }
            },
            "type": "bar"
           }
          ],
          "barpolar": [
           {
            "marker": {
             "line": {
              "color": "#E5ECF6",
              "width": 0.5
             },
             "pattern": {
              "fillmode": "overlay",
              "size": 10,
              "solidity": 0.2
             }
            },
            "type": "barpolar"
           }
          ],
          "carpet": [
           {
            "aaxis": {
             "endlinecolor": "#2a3f5f",
             "gridcolor": "white",
             "linecolor": "white",
             "minorgridcolor": "white",
             "startlinecolor": "#2a3f5f"
            },
            "baxis": {
             "endlinecolor": "#2a3f5f",
             "gridcolor": "white",
             "linecolor": "white",
             "minorgridcolor": "white",
             "startlinecolor": "#2a3f5f"
            },
            "type": "carpet"
           }
          ],
          "choropleth": [
           {
            "colorbar": {
             "outlinewidth": 0,
             "ticks": ""
            },
            "type": "choropleth"
           }
          ],
          "contour": [
           {
            "colorbar": {
             "outlinewidth": 0,
             "ticks": ""
            },
            "colorscale": [
             [
              0,
              "#0d0887"
             ],
             [
              0.1111111111111111,
              "#46039f"
             ],
             [
              0.2222222222222222,
              "#7201a8"
             ],
             [
              0.3333333333333333,
              "#9c179e"
             ],
             [
              0.4444444444444444,
              "#bd3786"
             ],
             [
              0.5555555555555556,
              "#d8576b"
             ],
             [
              0.6666666666666666,
              "#ed7953"
             ],
             [
              0.7777777777777778,
              "#fb9f3a"
             ],
             [
              0.8888888888888888,
              "#fdca26"
             ],
             [
              1,
              "#f0f921"
             ]
            ],
            "type": "contour"
           }
          ],
          "contourcarpet": [
           {
            "colorbar": {
             "outlinewidth": 0,
             "ticks": ""
            },
            "type": "contourcarpet"
           }
          ],
          "heatmap": [
           {
            "colorbar": {
             "outlinewidth": 0,
             "ticks": ""
            },
            "colorscale": [
             [
              0,
              "#0d0887"
             ],
             [
              0.1111111111111111,
              "#46039f"
             ],
             [
              0.2222222222222222,
              "#7201a8"
             ],
             [
              0.3333333333333333,
              "#9c179e"
             ],
             [
              0.4444444444444444,
              "#bd3786"
             ],
             [
              0.5555555555555556,
              "#d8576b"
             ],
             [
              0.6666666666666666,
              "#ed7953"
             ],
             [
              0.7777777777777778,
              "#fb9f3a"
             ],
             [
              0.8888888888888888,
              "#fdca26"
             ],
             [
              1,
              "#f0f921"
             ]
            ],
            "type": "heatmap"
           }
          ],
          "histogram": [
           {
            "marker": {
             "pattern": {
              "fillmode": "overlay",
              "size": 10,
              "solidity": 0.2
             }
            },
            "type": "histogram"
           }
          ],
          "histogram2d": [
           {
            "colorbar": {
             "outlinewidth": 0,
             "ticks": ""
            },
            "colorscale": [
             [
              0,
              "#0d0887"
             ],
             [
              0.1111111111111111,
              "#46039f"
             ],
             [
              0.2222222222222222,
              "#7201a8"
             ],
             [
              0.3333333333333333,
              "#9c179e"
             ],
             [
              0.4444444444444444,
              "#bd3786"
             ],
             [
              0.5555555555555556,
              "#d8576b"
             ],
             [
              0.6666666666666666,
              "#ed7953"
             ],
             [
              0.7777777777777778,
              "#fb9f3a"
             ],
             [
              0.8888888888888888,
              "#fdca26"
             ],
             [
              1,
              "#f0f921"
             ]
            ],
            "type": "histogram2d"
           }
          ],
          "histogram2dcontour": [
           {
            "colorbar": {
             "outlinewidth": 0,
             "ticks": ""
            },
            "colorscale": [
             [
              0,
              "#0d0887"
             ],
             [
              0.1111111111111111,
              "#46039f"
             ],
             [
              0.2222222222222222,
              "#7201a8"
             ],
             [
              0.3333333333333333,
              "#9c179e"
             ],
             [
              0.4444444444444444,
              "#bd3786"
             ],
             [
              0.5555555555555556,
              "#d8576b"
             ],
             [
              0.6666666666666666,
              "#ed7953"
             ],
             [
              0.7777777777777778,
              "#fb9f3a"
             ],
             [
              0.8888888888888888,
              "#fdca26"
             ],
             [
              1,
              "#f0f921"
             ]
            ],
            "type": "histogram2dcontour"
           }
          ],
          "mesh3d": [
           {
            "colorbar": {
             "outlinewidth": 0,
             "ticks": ""
            },
            "type": "mesh3d"
           }
          ],
          "parcoords": [
           {
            "line": {
             "colorbar": {
              "outlinewidth": 0,
              "ticks": ""
             }
            },
            "type": "parcoords"
           }
          ],
          "pie": [
           {
            "automargin": true,
            "type": "pie"
           }
          ],
          "scatter": [
           {
            "fillpattern": {
             "fillmode": "overlay",
             "size": 10,
             "solidity": 0.2
            },
            "type": "scatter"
           }
          ],
          "scatter3d": [
           {
            "line": {
             "colorbar": {
              "outlinewidth": 0,
              "ticks": ""
             }
            },
            "marker": {
             "colorbar": {
              "outlinewidth": 0,
              "ticks": ""
             }
            },
            "type": "scatter3d"
           }
          ],
          "scattercarpet": [
           {
            "marker": {
             "colorbar": {
              "outlinewidth": 0,
              "ticks": ""
             }
            },
            "type": "scattercarpet"
           }
          ],
          "scattergeo": [
           {
            "marker": {
             "colorbar": {
              "outlinewidth": 0,
              "ticks": ""
             }
            },
            "type": "scattergeo"
           }
          ],
          "scattergl": [
           {
            "marker": {
             "colorbar": {
              "outlinewidth": 0,
              "ticks": ""
             }
            },
            "type": "scattergl"
           }
          ],
          "scattermap": [
           {
            "marker": {
             "colorbar": {
              "outlinewidth": 0,
              "ticks": ""
             }
            },
            "type": "scattermap"
           }
          ],
          "scattermapbox": [
           {
            "marker": {
             "colorbar": {
              "outlinewidth": 0,
              "ticks": ""
             }
            },
            "type": "scattermapbox"
           }
          ],
          "scatterpolar": [
           {
            "marker": {
             "colorbar": {
              "outlinewidth": 0,
              "ticks": ""
             }
            },
            "type": "scatterpolar"
           }
          ],
          "scatterpolargl": [
           {
            "marker": {
             "colorbar": {
              "outlinewidth": 0,
              "ticks": ""
             }
            },
            "type": "scatterpolargl"
           }
          ],
          "scatterternary": [
           {
            "marker": {
             "colorbar": {
              "outlinewidth": 0,
              "ticks": ""
             }
            },
            "type": "scatterternary"
           }
          ],
          "surface": [
           {
            "colorbar": {
             "outlinewidth": 0,
             "ticks": ""
            },
            "colorscale": [
             [
              0,
              "#0d0887"
             ],
             [
              0.1111111111111111,
              "#46039f"
             ],
             [
              0.2222222222222222,
              "#7201a8"
             ],
             [
              0.3333333333333333,
              "#9c179e"
             ],
             [
              0.4444444444444444,
              "#bd3786"
             ],
             [
              0.5555555555555556,
              "#d8576b"
             ],
             [
              0.6666666666666666,
              "#ed7953"
             ],
             [
              0.7777777777777778,
              "#fb9f3a"
             ],
             [
              0.8888888888888888,
              "#fdca26"
             ],
             [
              1,
              "#f0f921"
             ]
            ],
            "type": "surface"
           }
          ],
          "table": [
           {
            "cells": {
             "fill": {
              "color": "#EBF0F8"
             },
             "line": {
              "color": "white"
             }
            },
            "header": {
             "fill": {
              "color": "#C8D4E3"
             },
             "line": {
              "color": "white"
             }
            },
            "type": "table"
           }
          ]
         },
         "layout": {
          "annotationdefaults": {
           "arrowcolor": "#2a3f5f",
           "arrowhead": 0,
           "arrowwidth": 1
          },
          "autotypenumbers": "strict",
          "coloraxis": {
           "colorbar": {
            "outlinewidth": 0,
            "ticks": ""
           }
          },
          "colorscale": {
           "diverging": [
            [
             0,
             "#8e0152"
            ],
            [
             0.1,
             "#c51b7d"
            ],
            [
             0.2,
             "#de77ae"
            ],
            [
             0.3,
             "#f1b6da"
            ],
            [
             0.4,
             "#fde0ef"
            ],
            [
             0.5,
             "#f7f7f7"
            ],
            [
             0.6,
             "#e6f5d0"
            ],
            [
             0.7,
             "#b8e186"
            ],
            [
             0.8,
             "#7fbc41"
            ],
            [
             0.9,
             "#4d9221"
            ],
            [
             1,
             "#276419"
            ]
           ],
           "sequential": [
            [
             0,
             "#0d0887"
            ],
            [
             0.1111111111111111,
             "#46039f"
            ],
            [
             0.2222222222222222,
             "#7201a8"
            ],
            [
             0.3333333333333333,
             "#9c179e"
            ],
            [
             0.4444444444444444,
             "#bd3786"
            ],
            [
             0.5555555555555556,
             "#d8576b"
            ],
            [
             0.6666666666666666,
             "#ed7953"
            ],
            [
             0.7777777777777778,
             "#fb9f3a"
            ],
            [
             0.8888888888888888,
             "#fdca26"
            ],
            [
             1,
             "#f0f921"
            ]
           ],
           "sequentialminus": [
            [
             0,
             "#0d0887"
            ],
            [
             0.1111111111111111,
             "#46039f"
            ],
            [
             0.2222222222222222,
             "#7201a8"
            ],
            [
             0.3333333333333333,
             "#9c179e"
            ],
            [
             0.4444444444444444,
             "#bd3786"
            ],
            [
             0.5555555555555556,
             "#d8576b"
            ],
            [
             0.6666666666666666,
             "#ed7953"
            ],
            [
             0.7777777777777778,
             "#fb9f3a"
            ],
            [
             0.8888888888888888,
             "#fdca26"
            ],
            [
             1,
             "#f0f921"
            ]
           ]
          },
          "colorway": [
           "#636efa",
           "#EF553B",
           "#00cc96",
           "#ab63fa",
           "#FFA15A",
           "#19d3f3",
           "#FF6692",
           "#B6E880",
           "#FF97FF",
           "#FECB52"
          ],
          "font": {
           "color": "#2a3f5f"
          },
          "geo": {
           "bgcolor": "white",
           "lakecolor": "white",
           "landcolor": "#E5ECF6",
           "showlakes": true,
           "showland": true,
           "subunitcolor": "white"
          },
          "hoverlabel": {
           "align": "left"
          },
          "hovermode": "closest",
          "mapbox": {
           "style": "light"
          },
          "paper_bgcolor": "white",
          "plot_bgcolor": "#E5ECF6",
          "polar": {
           "angularaxis": {
            "gridcolor": "white",
            "linecolor": "white",
            "ticks": ""
           },
           "bgcolor": "#E5ECF6",
           "radialaxis": {
            "gridcolor": "white",
            "linecolor": "white",
            "ticks": ""
           }
          },
          "scene": {
           "xaxis": {
            "backgroundcolor": "#E5ECF6",
            "gridcolor": "white",
            "gridwidth": 2,
            "linecolor": "white",
            "showbackground": true,
            "ticks": "",
            "zerolinecolor": "white"
           },
           "yaxis": {
            "backgroundcolor": "#E5ECF6",
            "gridcolor": "white",
            "gridwidth": 2,
            "linecolor": "white",
            "showbackground": true,
            "ticks": "",
            "zerolinecolor": "white"
           },
           "zaxis": {
            "backgroundcolor": "#E5ECF6",
            "gridcolor": "white",
            "gridwidth": 2,
            "linecolor": "white",
            "showbackground": true,
            "ticks": "",
            "zerolinecolor": "white"
           }
          },
          "shapedefaults": {
           "line": {
            "color": "#2a3f5f"
           }
          },
          "ternary": {
           "aaxis": {
            "gridcolor": "white",
            "linecolor": "white",
            "ticks": ""
           },
           "baxis": {
            "gridcolor": "white",
            "linecolor": "white",
            "ticks": ""
           },
           "bgcolor": "#E5ECF6",
           "caxis": {
            "gridcolor": "white",
            "linecolor": "white",
            "ticks": ""
           }
          },
          "title": {
           "x": 0.05
          },
          "xaxis": {
           "automargin": true,
           "gridcolor": "white",
           "linecolor": "white",
           "ticks": "",
           "title": {
            "standoff": 15
           },
           "zerolinecolor": "white",
           "zerolinewidth": 2
          },
          "yaxis": {
           "automargin": true,
           "gridcolor": "white",
           "linecolor": "white",
           "ticks": "",
           "title": {
            "standoff": 15
           },
           "zerolinecolor": "white",
           "zerolinewidth": 2
          }
         }
        },
        "xaxis": {
         "anchor": "y",
         "constrain": "domain",
         "domain": [
          0,
          1
         ],
         "scaleanchor": "y",
         "title": {
          "text": "Predicted labels"
         }
        },
        "yaxis": {
         "anchor": "x",
         "autorange": "reversed",
         "constrain": "domain",
         "domain": [
          0,
          1
         ],
         "title": {
          "text": "Labels"
         }
        }
       }
      }
     },
     "metadata": {},
     "output_type": "display_data"
    }
   ],
   "source": [
    "from sklearn.metrics import confusion_matrix\n",
    "import plotly.express as px\n",
    "\n",
    "# produce the confusion matrix for your predictions, what comments can you make ?\n",
    "cm = confusion_matrix(labels, predicted_labels)\n",
    "\n",
    "fig = px.imshow(\n",
    "    cm, \n",
    "    labels=dict(x=\"Predicted labels\", y=\"Labels\"),\n",
    "    x=['NEGATIVE', 'NEUTRAL', 'POSITIVE'],\n",
    "    y=['NEGATIVE', 'NEUTRAL', 'POSITIVE']\n",
    ")\n",
    "\n",
    "fig.update_traces(text=cm, texttemplate=\"%{text}\")\n",
    "\n",
    "fig.show()"
   ]
  },
  {
   "cell_type": "markdown",
   "metadata": {},
   "source": [
    "<Note type=\"tip\" title=\"Financial text modeling\">\n",
    "\n",
    "💡 Note: The default model might not be specifically tuned for financial data. To get better results, consider using a finance-specific sentiment model like `ProsusAI/finbert`:\n",
    "\n",
    "</Note>\n",
    "\n",
    "Use this new model:\n",
    "\n",
    "\n",
    "\n"
   ]
  },
  {
   "cell_type": "code",
   "execution_count": 47,
   "metadata": {},
   "outputs": [
    {
     "name": "stderr",
     "output_type": "stream",
     "text": [
      "Device set to use mps:0\n"
     ]
    }
   ],
   "source": [
    "# produce a new set of predictions using the specialized model\n",
    "classifier_finbert = pipeline(\"sentiment-analysis\", model=\"ProsusAI/finbert\")\n",
    "predictions_finbert = classifier_finbert(df[\"text\"].to_list())"
   ]
  },
  {
   "cell_type": "code",
   "execution_count": 50,
   "metadata": {},
   "outputs": [],
   "source": [
    "# convert predictions into a dataframe\n",
    "df_predictions_finbert = pd.DataFrame(predictions_finbert)"
   ]
  },
  {
   "cell_type": "code",
   "execution_count": 61,
   "metadata": {},
   "outputs": [
    {
     "name": "stdout",
     "output_type": "stream",
     "text": [
      "              precision    recall  f1-score   support\n",
      "\n",
      "    NEGATIVE       0.50      0.78      0.61      1442\n",
      "     NEUTRAL       0.85      0.73      0.79      6178\n",
      "    POSITIVE       0.58      0.60      0.59      1923\n",
      "\n",
      "    accuracy                           0.71      9543\n",
      "   macro avg       0.64      0.70      0.66      9543\n",
      "weighted avg       0.74      0.71      0.72      9543\n",
      "\n"
     ]
    }
   ],
   "source": [
    "from sklearn.metrics import classification_report\n",
    "\n",
    "# produce the classification report for the dataset, what comments can you make?\n",
    "labels = df[\"label_text\"]\n",
    "predicted_labels = df_predictions_finbert[\"label\"].str.upper()\n",
    "\n",
    "print(classification_report(labels, predicted_labels))"
   ]
  },
  {
   "cell_type": "code",
   "execution_count": 62,
   "metadata": {},
   "outputs": [
    {
     "data": {
      "application/vnd.plotly.v1+json": {
       "config": {
        "plotlyServerURL": "https://plot.ly"
       },
       "data": [
        {
         "coloraxis": "coloraxis",
         "hovertemplate": "Predicted labels: %{x}<br>Labels: %{y}<br>color: %{z}<extra></extra>",
         "name": "0",
         "text": {
          "bdata": "YwTvAFAAkgOpEecC0gAxAoAE",
          "dtype": "i2",
          "shape": "3, 3"
         },
         "texttemplate": "%{text}",
         "type": "heatmap",
         "x": [
          "NEGATIVE",
          "NEUTRAL",
          "POSITIVE"
         ],
         "xaxis": "x",
         "y": [
          "NEGATIVE",
          "NEUTRAL",
          "POSITIVE"
         ],
         "yaxis": "y",
         "z": {
          "bdata": "YwTvAFAAkgOpEecC0gAxAoAE",
          "dtype": "i2",
          "shape": "3, 3"
         }
        }
       ],
       "layout": {
        "coloraxis": {
         "colorscale": [
          [
           0,
           "#0d0887"
          ],
          [
           0.1111111111111111,
           "#46039f"
          ],
          [
           0.2222222222222222,
           "#7201a8"
          ],
          [
           0.3333333333333333,
           "#9c179e"
          ],
          [
           0.4444444444444444,
           "#bd3786"
          ],
          [
           0.5555555555555556,
           "#d8576b"
          ],
          [
           0.6666666666666666,
           "#ed7953"
          ],
          [
           0.7777777777777778,
           "#fb9f3a"
          ],
          [
           0.8888888888888888,
           "#fdca26"
          ],
          [
           1,
           "#f0f921"
          ]
         ]
        },
        "margin": {
         "t": 60
        },
        "template": {
         "data": {
          "bar": [
           {
            "error_x": {
             "color": "#2a3f5f"
            },
            "error_y": {
             "color": "#2a3f5f"
            },
            "marker": {
             "line": {
              "color": "#E5ECF6",
              "width": 0.5
             },
             "pattern": {
              "fillmode": "overlay",
              "size": 10,
              "solidity": 0.2
             }
            },
            "type": "bar"
           }
          ],
          "barpolar": [
           {
            "marker": {
             "line": {
              "color": "#E5ECF6",
              "width": 0.5
             },
             "pattern": {
              "fillmode": "overlay",
              "size": 10,
              "solidity": 0.2
             }
            },
            "type": "barpolar"
           }
          ],
          "carpet": [
           {
            "aaxis": {
             "endlinecolor": "#2a3f5f",
             "gridcolor": "white",
             "linecolor": "white",
             "minorgridcolor": "white",
             "startlinecolor": "#2a3f5f"
            },
            "baxis": {
             "endlinecolor": "#2a3f5f",
             "gridcolor": "white",
             "linecolor": "white",
             "minorgridcolor": "white",
             "startlinecolor": "#2a3f5f"
            },
            "type": "carpet"
           }
          ],
          "choropleth": [
           {
            "colorbar": {
             "outlinewidth": 0,
             "ticks": ""
            },
            "type": "choropleth"
           }
          ],
          "contour": [
           {
            "colorbar": {
             "outlinewidth": 0,
             "ticks": ""
            },
            "colorscale": [
             [
              0,
              "#0d0887"
             ],
             [
              0.1111111111111111,
              "#46039f"
             ],
             [
              0.2222222222222222,
              "#7201a8"
             ],
             [
              0.3333333333333333,
              "#9c179e"
             ],
             [
              0.4444444444444444,
              "#bd3786"
             ],
             [
              0.5555555555555556,
              "#d8576b"
             ],
             [
              0.6666666666666666,
              "#ed7953"
             ],
             [
              0.7777777777777778,
              "#fb9f3a"
             ],
             [
              0.8888888888888888,
              "#fdca26"
             ],
             [
              1,
              "#f0f921"
             ]
            ],
            "type": "contour"
           }
          ],
          "contourcarpet": [
           {
            "colorbar": {
             "outlinewidth": 0,
             "ticks": ""
            },
            "type": "contourcarpet"
           }
          ],
          "heatmap": [
           {
            "colorbar": {
             "outlinewidth": 0,
             "ticks": ""
            },
            "colorscale": [
             [
              0,
              "#0d0887"
             ],
             [
              0.1111111111111111,
              "#46039f"
             ],
             [
              0.2222222222222222,
              "#7201a8"
             ],
             [
              0.3333333333333333,
              "#9c179e"
             ],
             [
              0.4444444444444444,
              "#bd3786"
             ],
             [
              0.5555555555555556,
              "#d8576b"
             ],
             [
              0.6666666666666666,
              "#ed7953"
             ],
             [
              0.7777777777777778,
              "#fb9f3a"
             ],
             [
              0.8888888888888888,
              "#fdca26"
             ],
             [
              1,
              "#f0f921"
             ]
            ],
            "type": "heatmap"
           }
          ],
          "histogram": [
           {
            "marker": {
             "pattern": {
              "fillmode": "overlay",
              "size": 10,
              "solidity": 0.2
             }
            },
            "type": "histogram"
           }
          ],
          "histogram2d": [
           {
            "colorbar": {
             "outlinewidth": 0,
             "ticks": ""
            },
            "colorscale": [
             [
              0,
              "#0d0887"
             ],
             [
              0.1111111111111111,
              "#46039f"
             ],
             [
              0.2222222222222222,
              "#7201a8"
             ],
             [
              0.3333333333333333,
              "#9c179e"
             ],
             [
              0.4444444444444444,
              "#bd3786"
             ],
             [
              0.5555555555555556,
              "#d8576b"
             ],
             [
              0.6666666666666666,
              "#ed7953"
             ],
             [
              0.7777777777777778,
              "#fb9f3a"
             ],
             [
              0.8888888888888888,
              "#fdca26"
             ],
             [
              1,
              "#f0f921"
             ]
            ],
            "type": "histogram2d"
           }
          ],
          "histogram2dcontour": [
           {
            "colorbar": {
             "outlinewidth": 0,
             "ticks": ""
            },
            "colorscale": [
             [
              0,
              "#0d0887"
             ],
             [
              0.1111111111111111,
              "#46039f"
             ],
             [
              0.2222222222222222,
              "#7201a8"
             ],
             [
              0.3333333333333333,
              "#9c179e"
             ],
             [
              0.4444444444444444,
              "#bd3786"
             ],
             [
              0.5555555555555556,
              "#d8576b"
             ],
             [
              0.6666666666666666,
              "#ed7953"
             ],
             [
              0.7777777777777778,
              "#fb9f3a"
             ],
             [
              0.8888888888888888,
              "#fdca26"
             ],
             [
              1,
              "#f0f921"
             ]
            ],
            "type": "histogram2dcontour"
           }
          ],
          "mesh3d": [
           {
            "colorbar": {
             "outlinewidth": 0,
             "ticks": ""
            },
            "type": "mesh3d"
           }
          ],
          "parcoords": [
           {
            "line": {
             "colorbar": {
              "outlinewidth": 0,
              "ticks": ""
             }
            },
            "type": "parcoords"
           }
          ],
          "pie": [
           {
            "automargin": true,
            "type": "pie"
           }
          ],
          "scatter": [
           {
            "fillpattern": {
             "fillmode": "overlay",
             "size": 10,
             "solidity": 0.2
            },
            "type": "scatter"
           }
          ],
          "scatter3d": [
           {
            "line": {
             "colorbar": {
              "outlinewidth": 0,
              "ticks": ""
             }
            },
            "marker": {
             "colorbar": {
              "outlinewidth": 0,
              "ticks": ""
             }
            },
            "type": "scatter3d"
           }
          ],
          "scattercarpet": [
           {
            "marker": {
             "colorbar": {
              "outlinewidth": 0,
              "ticks": ""
             }
            },
            "type": "scattercarpet"
           }
          ],
          "scattergeo": [
           {
            "marker": {
             "colorbar": {
              "outlinewidth": 0,
              "ticks": ""
             }
            },
            "type": "scattergeo"
           }
          ],
          "scattergl": [
           {
            "marker": {
             "colorbar": {
              "outlinewidth": 0,
              "ticks": ""
             }
            },
            "type": "scattergl"
           }
          ],
          "scattermap": [
           {
            "marker": {
             "colorbar": {
              "outlinewidth": 0,
              "ticks": ""
             }
            },
            "type": "scattermap"
           }
          ],
          "scattermapbox": [
           {
            "marker": {
             "colorbar": {
              "outlinewidth": 0,
              "ticks": ""
             }
            },
            "type": "scattermapbox"
           }
          ],
          "scatterpolar": [
           {
            "marker": {
             "colorbar": {
              "outlinewidth": 0,
              "ticks": ""
             }
            },
            "type": "scatterpolar"
           }
          ],
          "scatterpolargl": [
           {
            "marker": {
             "colorbar": {
              "outlinewidth": 0,
              "ticks": ""
             }
            },
            "type": "scatterpolargl"
           }
          ],
          "scatterternary": [
           {
            "marker": {
             "colorbar": {
              "outlinewidth": 0,
              "ticks": ""
             }
            },
            "type": "scatterternary"
           }
          ],
          "surface": [
           {
            "colorbar": {
             "outlinewidth": 0,
             "ticks": ""
            },
            "colorscale": [
             [
              0,
              "#0d0887"
             ],
             [
              0.1111111111111111,
              "#46039f"
             ],
             [
              0.2222222222222222,
              "#7201a8"
             ],
             [
              0.3333333333333333,
              "#9c179e"
             ],
             [
              0.4444444444444444,
              "#bd3786"
             ],
             [
              0.5555555555555556,
              "#d8576b"
             ],
             [
              0.6666666666666666,
              "#ed7953"
             ],
             [
              0.7777777777777778,
              "#fb9f3a"
             ],
             [
              0.8888888888888888,
              "#fdca26"
             ],
             [
              1,
              "#f0f921"
             ]
            ],
            "type": "surface"
           }
          ],
          "table": [
           {
            "cells": {
             "fill": {
              "color": "#EBF0F8"
             },
             "line": {
              "color": "white"
             }
            },
            "header": {
             "fill": {
              "color": "#C8D4E3"
             },
             "line": {
              "color": "white"
             }
            },
            "type": "table"
           }
          ]
         },
         "layout": {
          "annotationdefaults": {
           "arrowcolor": "#2a3f5f",
           "arrowhead": 0,
           "arrowwidth": 1
          },
          "autotypenumbers": "strict",
          "coloraxis": {
           "colorbar": {
            "outlinewidth": 0,
            "ticks": ""
           }
          },
          "colorscale": {
           "diverging": [
            [
             0,
             "#8e0152"
            ],
            [
             0.1,
             "#c51b7d"
            ],
            [
             0.2,
             "#de77ae"
            ],
            [
             0.3,
             "#f1b6da"
            ],
            [
             0.4,
             "#fde0ef"
            ],
            [
             0.5,
             "#f7f7f7"
            ],
            [
             0.6,
             "#e6f5d0"
            ],
            [
             0.7,
             "#b8e186"
            ],
            [
             0.8,
             "#7fbc41"
            ],
            [
             0.9,
             "#4d9221"
            ],
            [
             1,
             "#276419"
            ]
           ],
           "sequential": [
            [
             0,
             "#0d0887"
            ],
            [
             0.1111111111111111,
             "#46039f"
            ],
            [
             0.2222222222222222,
             "#7201a8"
            ],
            [
             0.3333333333333333,
             "#9c179e"
            ],
            [
             0.4444444444444444,
             "#bd3786"
            ],
            [
             0.5555555555555556,
             "#d8576b"
            ],
            [
             0.6666666666666666,
             "#ed7953"
            ],
            [
             0.7777777777777778,
             "#fb9f3a"
            ],
            [
             0.8888888888888888,
             "#fdca26"
            ],
            [
             1,
             "#f0f921"
            ]
           ],
           "sequentialminus": [
            [
             0,
             "#0d0887"
            ],
            [
             0.1111111111111111,
             "#46039f"
            ],
            [
             0.2222222222222222,
             "#7201a8"
            ],
            [
             0.3333333333333333,
             "#9c179e"
            ],
            [
             0.4444444444444444,
             "#bd3786"
            ],
            [
             0.5555555555555556,
             "#d8576b"
            ],
            [
             0.6666666666666666,
             "#ed7953"
            ],
            [
             0.7777777777777778,
             "#fb9f3a"
            ],
            [
             0.8888888888888888,
             "#fdca26"
            ],
            [
             1,
             "#f0f921"
            ]
           ]
          },
          "colorway": [
           "#636efa",
           "#EF553B",
           "#00cc96",
           "#ab63fa",
           "#FFA15A",
           "#19d3f3",
           "#FF6692",
           "#B6E880",
           "#FF97FF",
           "#FECB52"
          ],
          "font": {
           "color": "#2a3f5f"
          },
          "geo": {
           "bgcolor": "white",
           "lakecolor": "white",
           "landcolor": "#E5ECF6",
           "showlakes": true,
           "showland": true,
           "subunitcolor": "white"
          },
          "hoverlabel": {
           "align": "left"
          },
          "hovermode": "closest",
          "mapbox": {
           "style": "light"
          },
          "paper_bgcolor": "white",
          "plot_bgcolor": "#E5ECF6",
          "polar": {
           "angularaxis": {
            "gridcolor": "white",
            "linecolor": "white",
            "ticks": ""
           },
           "bgcolor": "#E5ECF6",
           "radialaxis": {
            "gridcolor": "white",
            "linecolor": "white",
            "ticks": ""
           }
          },
          "scene": {
           "xaxis": {
            "backgroundcolor": "#E5ECF6",
            "gridcolor": "white",
            "gridwidth": 2,
            "linecolor": "white",
            "showbackground": true,
            "ticks": "",
            "zerolinecolor": "white"
           },
           "yaxis": {
            "backgroundcolor": "#E5ECF6",
            "gridcolor": "white",
            "gridwidth": 2,
            "linecolor": "white",
            "showbackground": true,
            "ticks": "",
            "zerolinecolor": "white"
           },
           "zaxis": {
            "backgroundcolor": "#E5ECF6",
            "gridcolor": "white",
            "gridwidth": 2,
            "linecolor": "white",
            "showbackground": true,
            "ticks": "",
            "zerolinecolor": "white"
           }
          },
          "shapedefaults": {
           "line": {
            "color": "#2a3f5f"
           }
          },
          "ternary": {
           "aaxis": {
            "gridcolor": "white",
            "linecolor": "white",
            "ticks": ""
           },
           "baxis": {
            "gridcolor": "white",
            "linecolor": "white",
            "ticks": ""
           },
           "bgcolor": "#E5ECF6",
           "caxis": {
            "gridcolor": "white",
            "linecolor": "white",
            "ticks": ""
           }
          },
          "title": {
           "x": 0.05
          },
          "xaxis": {
           "automargin": true,
           "gridcolor": "white",
           "linecolor": "white",
           "ticks": "",
           "title": {
            "standoff": 15
           },
           "zerolinecolor": "white",
           "zerolinewidth": 2
          },
          "yaxis": {
           "automargin": true,
           "gridcolor": "white",
           "linecolor": "white",
           "ticks": "",
           "title": {
            "standoff": 15
           },
           "zerolinecolor": "white",
           "zerolinewidth": 2
          }
         }
        },
        "xaxis": {
         "anchor": "y",
         "constrain": "domain",
         "domain": [
          0,
          1
         ],
         "scaleanchor": "y",
         "title": {
          "text": "Predicted labels"
         }
        },
        "yaxis": {
         "anchor": "x",
         "autorange": "reversed",
         "constrain": "domain",
         "domain": [
          0,
          1
         ],
         "title": {
          "text": "Labels"
         }
        }
       }
      }
     },
     "metadata": {},
     "output_type": "display_data"
    }
   ],
   "source": [
    "# produce the confusion matrix for your predictions, what comments can you make ?\n",
    "cm = confusion_matrix(labels, predicted_labels)\n",
    "\n",
    "fig = px.imshow(\n",
    "    cm, \n",
    "    labels=dict(x=\"Predicted labels\", y=\"Labels\"),\n",
    "    x=['NEGATIVE', 'NEUTRAL', 'POSITIVE'],\n",
    "    y=['NEGATIVE', 'NEUTRAL', 'POSITIVE']\n",
    ")\n",
    "\n",
    "fig.update_traces(text=cm, texttemplate=\"%{text}\")\n",
    "\n",
    "fig.show()"
   ]
  },
  {
   "cell_type": "markdown",
   "metadata": {},
   "source": [
    "Now you're analyzing financial tweets like a pro! 💪📉📈"
   ]
  },
  {
   "cell_type": "markdown",
   "metadata": {},
   "source": [
    "\n",
    "### 🧠 How Could We Improve Performance?\n",
    "\n",
    "Give a few ideas that could lead to increased performance:\n",
    "\n"
   ]
  },
  {
   "cell_type": "markdown",
   "metadata": {},
   "source": [
    "- ✅ Use **domain-specific models** like FinBERT\n",
    "- ✅ **Fine-tune** a pre-trained transformer on this dataset\n",
    "- ✅ **Preprocess** tweets: remove hashtags, cashtags, links, etc.\n",
    "- ✅ Try **data augmentation** or balancing if one sentiment is overrepresented"
   ]
  },
  {
   "cell_type": "markdown",
   "metadata": {},
   "source": [
    "\n",
    "## 🎉 Wrapping Up\n",
    "\n",
    "By now, you've:\n",
    "- Loaded a real-world finance dataset 📊\n",
    "- Explored its sentiment labels 🎭\n",
    "- Used transformers to make predictions 🤖\n",
    "- Evaluated model performance and brainstormed improvements 🧠\n",
    "\n",
    "Now go forth and build powerful financial sentiment models! 💼✨"
   ]
  },
  {
   "cell_type": "markdown",
   "metadata": {},
   "source": [
    "# 🔍 Topic Modeling on Amazon Product Reviews using Zero-Shot Classification 🛍️🤖\n",
    "\n",
    "Welcome to another exciting NLP challenge! 🎉 This time, you’ll be working with real **Amazon product reviews** to uncover hidden topics. 💡 No training required — just pure inference magic! 🧙‍♂️✨\n"
   ]
  },
  {
   "cell_type": "markdown",
   "metadata": {},
   "source": [
    "\n",
    "## 📦 Dataset Overview\n",
    "\n",
    "This dataset contains **~1.6k real Amazon reviews** across various products. Your mission, should you choose to accept it:\n",
    "\n",
    "> 🧠 **\"Can you build a strong model that identifies topics in these reviews — without any labeled data?\"**\n",
    "\n",
    "Let’s do this! 💪\n",
    "\n"
   ]
  },
  {
   "cell_type": "markdown",
   "metadata": {},
   "source": [
    "## 🛠️ 1. Load the Dataset with Pandas\n",
    "\n",
    "Start by loading the dataset using this url: https://full-stack-assets.s3.eu-west-3.amazonaws.com/datasets/M08/transformers/amazon_reviews.csv\n"
   ]
  },
  {
   "cell_type": "code",
   "execution_count": 63,
   "metadata": {},
   "outputs": [
    {
     "data": {
      "text/html": [
       "<div>\n",
       "<style scoped>\n",
       "    .dataframe tbody tr th:only-of-type {\n",
       "        vertical-align: middle;\n",
       "    }\n",
       "\n",
       "    .dataframe tbody tr th {\n",
       "        vertical-align: top;\n",
       "    }\n",
       "\n",
       "    .dataframe thead th {\n",
       "        text-align: right;\n",
       "    }\n",
       "</style>\n",
       "<table border=\"1\" class=\"dataframe\">\n",
       "  <thead>\n",
       "    <tr style=\"text-align: right;\">\n",
       "      <th></th>\n",
       "      <th>id</th>\n",
       "      <th>asins</th>\n",
       "      <th>brand</th>\n",
       "      <th>categories</th>\n",
       "      <th>colors</th>\n",
       "      <th>dateAdded</th>\n",
       "      <th>dateUpdated</th>\n",
       "      <th>dimension</th>\n",
       "      <th>ean</th>\n",
       "      <th>keys</th>\n",
       "      <th>...</th>\n",
       "      <th>reviews.rating</th>\n",
       "      <th>reviews.sourceURLs</th>\n",
       "      <th>reviews.text</th>\n",
       "      <th>reviews.title</th>\n",
       "      <th>reviews.userCity</th>\n",
       "      <th>reviews.userProvince</th>\n",
       "      <th>reviews.username</th>\n",
       "      <th>sizes</th>\n",
       "      <th>upc</th>\n",
       "      <th>weight</th>\n",
       "    </tr>\n",
       "  </thead>\n",
       "  <tbody>\n",
       "    <tr>\n",
       "      <th>0</th>\n",
       "      <td>AVpe7AsMilAPnD_xQ78G</td>\n",
       "      <td>B00QJDU3KY</td>\n",
       "      <td>Amazon</td>\n",
       "      <td>Amazon Devices,mazon.co.uk</td>\n",
       "      <td>NaN</td>\n",
       "      <td>2016-03-08T20:21:53Z</td>\n",
       "      <td>2017-07-18T23:52:58Z</td>\n",
       "      <td>169 mm x 117 mm x 9.1 mm</td>\n",
       "      <td>NaN</td>\n",
       "      <td>kindlepaperwhite/b00qjdu3ky</td>\n",
       "      <td>...</td>\n",
       "      <td>5.0</td>\n",
       "      <td>https://www.amazon.com/Kindle-Paperwhite-High-...</td>\n",
       "      <td>I initially had trouble deciding between the p...</td>\n",
       "      <td>Paperwhite voyage, no regrets!</td>\n",
       "      <td>NaN</td>\n",
       "      <td>NaN</td>\n",
       "      <td>Cristina M</td>\n",
       "      <td>NaN</td>\n",
       "      <td>NaN</td>\n",
       "      <td>205 grams</td>\n",
       "    </tr>\n",
       "    <tr>\n",
       "      <th>1</th>\n",
       "      <td>AVpe7AsMilAPnD_xQ78G</td>\n",
       "      <td>B00QJDU3KY</td>\n",
       "      <td>Amazon</td>\n",
       "      <td>Amazon Devices,mazon.co.uk</td>\n",
       "      <td>NaN</td>\n",
       "      <td>2016-03-08T20:21:53Z</td>\n",
       "      <td>2017-07-18T23:52:58Z</td>\n",
       "      <td>169 mm x 117 mm x 9.1 mm</td>\n",
       "      <td>NaN</td>\n",
       "      <td>kindlepaperwhite/b00qjdu3ky</td>\n",
       "      <td>...</td>\n",
       "      <td>5.0</td>\n",
       "      <td>https://www.amazon.com/Kindle-Paperwhite-High-...</td>\n",
       "      <td>Allow me to preface this with a little history...</td>\n",
       "      <td>One Simply Could Not Ask For More</td>\n",
       "      <td>NaN</td>\n",
       "      <td>NaN</td>\n",
       "      <td>Ricky</td>\n",
       "      <td>NaN</td>\n",
       "      <td>NaN</td>\n",
       "      <td>205 grams</td>\n",
       "    </tr>\n",
       "    <tr>\n",
       "      <th>2</th>\n",
       "      <td>AVpe7AsMilAPnD_xQ78G</td>\n",
       "      <td>B00QJDU3KY</td>\n",
       "      <td>Amazon</td>\n",
       "      <td>Amazon Devices,mazon.co.uk</td>\n",
       "      <td>NaN</td>\n",
       "      <td>2016-03-08T20:21:53Z</td>\n",
       "      <td>2017-07-18T23:52:58Z</td>\n",
       "      <td>169 mm x 117 mm x 9.1 mm</td>\n",
       "      <td>NaN</td>\n",
       "      <td>kindlepaperwhite/b00qjdu3ky</td>\n",
       "      <td>...</td>\n",
       "      <td>4.0</td>\n",
       "      <td>https://www.amazon.com/Kindle-Paperwhite-High-...</td>\n",
       "      <td>I am enjoying it so far. Great for reading. Ha...</td>\n",
       "      <td>Great for those that just want an e-reader</td>\n",
       "      <td>NaN</td>\n",
       "      <td>NaN</td>\n",
       "      <td>Tedd Gardiner</td>\n",
       "      <td>NaN</td>\n",
       "      <td>NaN</td>\n",
       "      <td>205 grams</td>\n",
       "    </tr>\n",
       "    <tr>\n",
       "      <th>3</th>\n",
       "      <td>AVpe7AsMilAPnD_xQ78G</td>\n",
       "      <td>B00QJDU3KY</td>\n",
       "      <td>Amazon</td>\n",
       "      <td>Amazon Devices,mazon.co.uk</td>\n",
       "      <td>NaN</td>\n",
       "      <td>2016-03-08T20:21:53Z</td>\n",
       "      <td>2017-07-18T23:52:58Z</td>\n",
       "      <td>169 mm x 117 mm x 9.1 mm</td>\n",
       "      <td>NaN</td>\n",
       "      <td>kindlepaperwhite/b00qjdu3ky</td>\n",
       "      <td>...</td>\n",
       "      <td>5.0</td>\n",
       "      <td>https://www.amazon.com/Kindle-Paperwhite-High-...</td>\n",
       "      <td>I bought one of the first Paperwhites and have...</td>\n",
       "      <td>Love / Hate relationship</td>\n",
       "      <td>NaN</td>\n",
       "      <td>NaN</td>\n",
       "      <td>Dougal</td>\n",
       "      <td>NaN</td>\n",
       "      <td>NaN</td>\n",
       "      <td>205 grams</td>\n",
       "    </tr>\n",
       "    <tr>\n",
       "      <th>4</th>\n",
       "      <td>AVpe7AsMilAPnD_xQ78G</td>\n",
       "      <td>B00QJDU3KY</td>\n",
       "      <td>Amazon</td>\n",
       "      <td>Amazon Devices,mazon.co.uk</td>\n",
       "      <td>NaN</td>\n",
       "      <td>2016-03-08T20:21:53Z</td>\n",
       "      <td>2017-07-18T23:52:58Z</td>\n",
       "      <td>169 mm x 117 mm x 9.1 mm</td>\n",
       "      <td>NaN</td>\n",
       "      <td>kindlepaperwhite/b00qjdu3ky</td>\n",
       "      <td>...</td>\n",
       "      <td>5.0</td>\n",
       "      <td>https://www.amazon.com/Kindle-Paperwhite-High-...</td>\n",
       "      <td>I have to say upfront - I don't like coroporat...</td>\n",
       "      <td>I LOVE IT</td>\n",
       "      <td>NaN</td>\n",
       "      <td>NaN</td>\n",
       "      <td>Miljan David Tanic</td>\n",
       "      <td>NaN</td>\n",
       "      <td>NaN</td>\n",
       "      <td>205 grams</td>\n",
       "    </tr>\n",
       "  </tbody>\n",
       "</table>\n",
       "<p>5 rows × 27 columns</p>\n",
       "</div>"
      ],
      "text/plain": [
       "                     id       asins   brand                  categories  \\\n",
       "0  AVpe7AsMilAPnD_xQ78G  B00QJDU3KY  Amazon  Amazon Devices,mazon.co.uk   \n",
       "1  AVpe7AsMilAPnD_xQ78G  B00QJDU3KY  Amazon  Amazon Devices,mazon.co.uk   \n",
       "2  AVpe7AsMilAPnD_xQ78G  B00QJDU3KY  Amazon  Amazon Devices,mazon.co.uk   \n",
       "3  AVpe7AsMilAPnD_xQ78G  B00QJDU3KY  Amazon  Amazon Devices,mazon.co.uk   \n",
       "4  AVpe7AsMilAPnD_xQ78G  B00QJDU3KY  Amazon  Amazon Devices,mazon.co.uk   \n",
       "\n",
       "  colors             dateAdded           dateUpdated  \\\n",
       "0    NaN  2016-03-08T20:21:53Z  2017-07-18T23:52:58Z   \n",
       "1    NaN  2016-03-08T20:21:53Z  2017-07-18T23:52:58Z   \n",
       "2    NaN  2016-03-08T20:21:53Z  2017-07-18T23:52:58Z   \n",
       "3    NaN  2016-03-08T20:21:53Z  2017-07-18T23:52:58Z   \n",
       "4    NaN  2016-03-08T20:21:53Z  2017-07-18T23:52:58Z   \n",
       "\n",
       "                  dimension  ean                         keys  ...  \\\n",
       "0  169 mm x 117 mm x 9.1 mm  NaN  kindlepaperwhite/b00qjdu3ky  ...   \n",
       "1  169 mm x 117 mm x 9.1 mm  NaN  kindlepaperwhite/b00qjdu3ky  ...   \n",
       "2  169 mm x 117 mm x 9.1 mm  NaN  kindlepaperwhite/b00qjdu3ky  ...   \n",
       "3  169 mm x 117 mm x 9.1 mm  NaN  kindlepaperwhite/b00qjdu3ky  ...   \n",
       "4  169 mm x 117 mm x 9.1 mm  NaN  kindlepaperwhite/b00qjdu3ky  ...   \n",
       "\n",
       "  reviews.rating                                 reviews.sourceURLs  \\\n",
       "0            5.0  https://www.amazon.com/Kindle-Paperwhite-High-...   \n",
       "1            5.0  https://www.amazon.com/Kindle-Paperwhite-High-...   \n",
       "2            4.0  https://www.amazon.com/Kindle-Paperwhite-High-...   \n",
       "3            5.0  https://www.amazon.com/Kindle-Paperwhite-High-...   \n",
       "4            5.0  https://www.amazon.com/Kindle-Paperwhite-High-...   \n",
       "\n",
       "                                        reviews.text  \\\n",
       "0  I initially had trouble deciding between the p...   \n",
       "1  Allow me to preface this with a little history...   \n",
       "2  I am enjoying it so far. Great for reading. Ha...   \n",
       "3  I bought one of the first Paperwhites and have...   \n",
       "4  I have to say upfront - I don't like coroporat...   \n",
       "\n",
       "                                reviews.title reviews.userCity  \\\n",
       "0              Paperwhite voyage, no regrets!              NaN   \n",
       "1           One Simply Could Not Ask For More              NaN   \n",
       "2  Great for those that just want an e-reader              NaN   \n",
       "3                    Love / Hate relationship              NaN   \n",
       "4                                   I LOVE IT              NaN   \n",
       "\n",
       "  reviews.userProvince    reviews.username  sizes upc     weight  \n",
       "0                  NaN          Cristina M    NaN NaN  205 grams  \n",
       "1                  NaN               Ricky    NaN NaN  205 grams  \n",
       "2                  NaN       Tedd Gardiner    NaN NaN  205 grams  \n",
       "3                  NaN              Dougal    NaN NaN  205 grams  \n",
       "4                  NaN  Miljan David Tanic    NaN NaN  205 grams  \n",
       "\n",
       "[5 rows x 27 columns]"
      ]
     },
     "execution_count": 63,
     "metadata": {},
     "output_type": "execute_result"
    }
   ],
   "source": [
    "import pandas as pd\n",
    "\n",
    "# Load your dataset\n",
    "df = pd.read_csv(\"https://full-stack-assets.s3.eu-west-3.amazonaws.com/datasets/M08/transformers/amazon_reviews.csv\")\n",
    "\n",
    "# Take a peek\n",
    "df.head()"
   ]
  },
  {
   "cell_type": "markdown",
   "metadata": {},
   "source": [
    "## 🎯 2. Which Pipeline? 🤔\n",
    "\n",
    "Now comes the fun part! Which pipeline should you use to assign topics to reviews *without training a model*.\n",
    "\n",
    "The data is unlabeled, which means you'd have to identify the labels yourself. Based on a sample of reviews, can you suggest a collection of labels for classifying the reviews?"
   ]
  },
  {
   "cell_type": "markdown",
   "metadata": {},
   "source": [
    "We need to use a **zero-shot-classification** pipeline."
   ]
  },
  {
   "cell_type": "code",
   "execution_count": 80,
   "metadata": {},
   "outputs": [
    {
     "name": "stdout",
     "output_type": "stream",
     "text": [
      "('If you read my Fire TV review you know that I am tough on Amazon when it '\n",
      " 'comes to their own items. It needs to deliver quality for the price point to '\n",
      " 'earn stars from me. Please take the time to read my entire review and feel '\n",
      " 'free to ask questions. I will do my best to respond to them as I can and '\n",
      " 'update the review to reflect those answers and other things I discover along '\n",
      " 'the way.First my background. I own many Amazon Kindles (bw, Fire gen2, Fire '\n",
      " 'gen3) as well as Apple Ipad (gen 4), Samsung Note 3 and have an LG G2 '\n",
      " 'smartphone (had a Samsung S4 before that), notebooks, chromebooks, etc. I '\n",
      " 'have also used many other products including the Fire HDX line. I have a '\n",
      " 'solid computer background as well but honestly I am more of a casual user '\n",
      " 'when it comes to tablets like this one.Amazon has changed many things over '\n",
      " 'the life of the Fire product line. Adding and removing features (like '\n",
      " 'cameras--the first generation had one but the second generation removed them '\n",
      " 'but not they are back).They are all useful devices but each one has its own '\n",
      " 'niche so to speak so make sure whatever you get has the features that are '\n",
      " 'important to you.Now to this model. This is like a big smartphone--which is '\n",
      " 'a big difference from past kindles. It is more compact, lighter and yet '\n",
      " 'still very usable. In fact for me, the shrinking of size increases the '\n",
      " 'usefulness. I find that I use my smartphone way more than my tablets--even '\n",
      " 'the smaller Fire HD and Samsung Note tablets so I am expecting this to '\n",
      " 'replace more of that on the couch usage which is great since it so much less '\n",
      " 'expensive than most smartphones. That means you can feel less bad about '\n",
      " 'scratches that might occur or the accidental drops. (I am guilty of '\n",
      " 'both.Read more')\n",
      "\n",
      "('I have a first generation Kindle Fire, it did every well, but was heavy and '\n",
      " 'not as fast as I hoped graphics wise for gaming, which is why I upgraded to '\n",
      " 'the HDX. This new tablet is blisteringly fast and completely fluid with no '\n",
      " 'lag. Movies, books, and games are crystal clear, and I can now even read '\n",
      " \"PDF's easily, which was a chore on the old Kindle Fire. The best part is the \"\n",
      " \"battery life and light weight, I use this kindle all day on one charge. I'm \"\n",
      " 'so happy with it, considering the 8.9 inch also for my wife.I can think of '\n",
      " \"no flaws, but if a problem comes up with this device, I'll update, I've only \"\n",
      " 'had it a week.')\n",
      "\n",
      "('Mostly just use it for the speaker. Still waiting on the no touch feature '\n",
      " 'they are adding.')\n",
      "\n",
      "('I was looking for just a Bluetooth speaker to add to my laptop for better '\n",
      " 'sound. When I first listened to Amazon Tap I was so impressed with the sound '\n",
      " 'quality.....then add in all the features it was a no brainer for a purchase! '\n",
      " 'Sound quality is off the charts, Alexa learns more every day, and so do I! '\n",
      " \"If you are a Prime member, this is a must! If you aren't...then you really \"\n",
      " 'should be!')\n",
      "\n",
      "('I have loved and used my Kindle Keyboard for years now but I missed not '\n",
      " 'being able to read it in a room with low lighting or in the dark. I '\n",
      " 'purchased a Kindle Fire and I also use an iPad 3 but for ease of reading on '\n",
      " 'my eyes I prefer the Kindle Keyboard. I wanted to get a Kindle Paperwhite '\n",
      " 'e-Reader but I held off until this new generation was released before I '\n",
      " 'spent my money. I got this because I wanted to reduce my eyestrain from '\n",
      " 'reading in the evening and I just love this new tablet. It offers the '\n",
      " 'perfect balance of a lit screen with reduced eyestrain and high clarity and '\n",
      " 'contrast of the text.I have added a video of the Kindle Paperwhite compared '\n",
      " 'to a Kindle Keyboard and a Kindle Fire. If you have any questions please '\n",
      " 'feel free to contact me and I will try to answer them.I love that the text '\n",
      " 'on the screen is crisp and clear. I use the Kindle because my declining '\n",
      " 'vision caused me to stop reading books. Reading was my number one hobby my '\n",
      " 'entire life and I just loved it. The Kindle has brought back that reading '\n",
      " 'experience and now with the crisper text and lit screen I can enjoy my '\n",
      " 'reading in every type of environment. I laid my Kindle Keyboard and the New '\n",
      " 'Kindle Paperwhite side by side and the comparison of the quality of text and '\n",
      " 'clarity is amazingly in favor of the new Paperwhite. The new lighting system '\n",
      " 'and screen clarity is where this Paperwhite design really is outstanding. '\n",
      " 'With better contrast, lighting and custom designed fonts, the text just pops '\n",
      " 'out of the screen like you have not seen in an e-Reader before. With 221 PPI '\n",
      " '(Pixels Per Inch) this screen provides a 768 by 1024 pixel screen that just '\n",
      " 'makes the old Kindle Keyboard look old fashioned. Technology certainly does '\n",
      " 'move quickly on.Read more')\n",
      "\n",
      "('Just setup my new FireTV ordered via my Amazon account and so far so good so '\n",
      " 'fast. Setup time: 10 minutes.The good:1. NO setup to access Amazon content.I '\n",
      " 'am already a Prime member so once I had my wifi setup the FireTV did a quick '\n",
      " 'scan of the internet for updates before running the tutorial video. To my '\n",
      " 'surprise once the tutorial was completed I was welcomed by web my Amazon '\n",
      " 'username (Hello insert name)complete with my Watch List and Video Library. '\n",
      " 'No additional steps needed to access my content. Cool and creepy at the same '\n",
      " 'time. But, who am I kidding my electronic footprint is large.2. Super fast. '\n",
      " 'The FireTV interface (content menu system) is quick and straightforward. '\n",
      " \"It's a better faster interface than any of my other devices I own that \"\n",
      " 'streams Amazon content (PS3, XBOX deprecated, iPad, Vizio SmartTV, and wifi '\n",
      " \"enabled BD player). I do not have a Netflix membership so I haven't tried it \"\n",
      " \"yet (Maybe there's a free trial attached, but will Amazon allow that). I \"\n",
      " 'played a movie out of my Amazon Video Library and it started instantly. '\n",
      " 'Missing is the your content is still loading delay. I am telling you the '\n",
      " 'movie started immediately.3. PRIME content. I read some comments that stated '\n",
      " 'posters had trouble being able to easily identify PRIME content. I am not '\n",
      " 'having the same problem. All PRIME content displays the blue PRIME banner in '\n",
      " 'the upper left hand corner as it does on all the other devices mentioned '\n",
      " 'above. So maybe there has been a software update since. Which means Amazon '\n",
      " 'heard you.4. Power. I was concerned over the lack of a power button on the '\n",
      " 'remote or FireTV unit itself which I thought meant the device would have to '\n",
      " 'be manually disconnected from the power source. NOT SO The device goes to '\n",
      " 'sleep (no power LED activity) after a set period of time and is easily '\n",
      " \"awaken by the press of a button on the remote. Perfect.The bad:1. Haven't \"\n",
      " 'found it yet.')\n",
      "\n",
      "('If you read my Fire TV review you know that I am tough on Amazon when it '\n",
      " 'comes to their own items. It needs to deliver quality for the price point to '\n",
      " 'earn stars from me. Please take the time to read my entire review and feel '\n",
      " 'free to ask questions. I will do my best to respond to them as I can and '\n",
      " 'update the review to reflect those answers and other things I discover along '\n",
      " 'the way.First my background. I own many Amazon Kindles (bw, Fire gen2, Fire '\n",
      " 'gen3) as well as Apple Ipad (gen 4), Samsung Note 3 and have an LG G2 '\n",
      " 'smartphone (had a Samsung S4 before that), notebooks, chromebooks, etc. I '\n",
      " 'have also used many other products including the Fire HDX line. I have a '\n",
      " 'solid computer background as well but honestly I am more of a casual user '\n",
      " 'when it comes to tablets like this one.Amazon has changed many things over '\n",
      " 'the life of the Fire product line. Adding and removing features (like '\n",
      " 'cameras--the first generation had one but the second generation removed them '\n",
      " 'but not they are back).They are all useful devices but each one has its own '\n",
      " 'niche so to speak so make sure whatever you get has the features that are '\n",
      " 'important to you.Now to this model. This is like a big smartphone--which is '\n",
      " 'a big difference from past kindles. It is more compact, lighter and yet '\n",
      " 'still very usable. In fact for me, the shrinking of size increases the '\n",
      " 'usefulness. I find that I use my smartphone way more than my tablets--even '\n",
      " 'the smaller Fire HD and Samsung Note tablets so I am expecting this to '\n",
      " 'replace more of that on the couch usage which is great since it so much less '\n",
      " 'expensive than most smartphones. That means you can feel less bad about '\n",
      " 'scratches that might occur or the accidental drops. (I am guilty of '\n",
      " 'both.Read more')\n",
      "\n",
      "('I was so shocked! So, I was going through a book for my PhD dissertation, '\n",
      " 'highlighting parts for further citations in my project. When I was done with '\n",
      " 'it, I realised that instead of scrolling back all the pages of my e-book, '\n",
      " 'looking for the highlights, I can just export them to my e-mail in PDF file. '\n",
      " 'This is life changing for me! I have always preferred paper books to '\n",
      " 'e-books, but this option is a miracle. It saved me hours of work! I am a '\n",
      " 'very happy customer!')\n",
      "\n",
      "('I have had some problems with it. I bought to replace the original cover '\n",
      " 'that was chewed by my dog. I have had to restart my Kindle to get it to hold '\n",
      " 'a charge which helped but the charge does not last as long as it did with my '\n",
      " 'original cover.')\n",
      "\n",
      "(\"While I've purchased items from Amazon for years, I rarely write reviews. I \"\n",
      " 'felt compelled to write one because, although there are only a few reviews '\n",
      " 'at this point, I have never seen such a good product get such bad reviews. '\n",
      " \"I'm hoping as more people purchase these, the star rating will be more \"\n",
      " \"accurate of the product itself. I'll address the three biggest complaints \"\n",
      " \"I've read from others:Sound Quality: I think these headphones sound great. \"\n",
      " \"I've never owned an expensive pair so I'm not able to compare them to \"\n",
      " \"higher-end offerings, but I've owned dozens of cheap and mid-range \"\n",
      " \"headphones in the 15-50 range. I'm not an audiophile or a musician so if I'm \"\n",
      " \"missing something that should be coming through, but isn't, I'm fine with my \"\n",
      " \"ignorance. I would say they're slightly better than Apple's buds (which I \"\n",
      " 'liked very much and used for years, most recently using their redesigned '\n",
      " \"ones for about a year). There's no tinny, listening through a can sound \"\n",
      " \"that's all-too-common with headphones in this price range. As far as people \"\n",
      " \"saying they don't compare to Apple's buds, well I don't know, maybe they \"\n",
      " \"have some crazy exclusive version of Apple's buds that are amazing. But \"\n",
      " \"compared to the regular earpods, I think Amazon's headphones actually sound \"\n",
      " 'a bit better. They provide a nice, full sound and represent highs, lows and '\n",
      " 'mids equally well (mainly listening to metal).Fit and Feel: Some people have '\n",
      " \"complained about these falling, or feeling like they're going to fall, out \"\n",
      " \"of their ears. There's some validity to this, although obviously it depends \"\n",
      " \"on your specific ears. I don't feel like they're going to fall out at all, \"\n",
      " \"but if I give the cord a tug, they don't stay as secure as my Apple \"\n",
      " 'buds.Read more')\n",
      "\n"
     ]
    }
   ],
   "source": [
    "from pprint import pp\n",
    "\n",
    "# print out a few reviews, try and list a few topics you could link the reviews to.\n",
    "for review in df[\"reviews.text\"].sample(10):\n",
    "    pp(review)\n",
    "    print()"
   ]
  },
  {
   "cell_type": "markdown",
   "metadata": {},
   "source": [
    "We could come up with categories that would help the seller understand which aspect of the products users are commenting on like : \"ease of use\", \"value for money\", \"ergonomy\", \"quality\", \"features\""
   ]
  },
  {
   "cell_type": "markdown",
   "metadata": {},
   "source": [
    "## 🎯 3. Use Transformers 🤖\n",
    "\n",
    "Use the model you chose on a random sample of 20 reviews, how well do you think your model performed?"
   ]
  },
  {
   "cell_type": "code",
   "execution_count": null,
   "metadata": {},
   "outputs": [
    {
     "name": "stderr",
     "output_type": "stream",
     "text": [
      "No model was supplied, defaulted to facebook/bart-large-mnli and revision d7645e1 (https://huggingface.co/facebook/bart-large-mnli).\n",
      "Using a pipeline without specifying a model name and revision in production is not recommended.\n",
      "Device set to use mps:0\n"
     ]
    }
   ],
   "source": [
    "from transformers import pipeline\n",
    "\n",
    "# Initialize the zero-shot classifier\n",
    "classifier = pipeline(\"zero-shot-classification\")\n",
    "\n",
    "# Define potential topics (you can refine these!)\n",
    "potential_topics = [\"ease of use\", \"value for money\", \"ergonomy\", \"quality\", \"features\"]\n",
    "\n",
    "# Try it on a sample review\n",
    "preds = [classifier(x, potential_topics) for x in df[\"reviews.text\"].sample(20)]"
   ]
  },
  {
   "cell_type": "code",
   "execution_count": null,
   "metadata": {},
   "outputs": [
    {
     "name": "stdout",
     "output_type": "stream",
     "text": [
      "{'sequence': 'Disappointing Kindle.Charging is sometimes interrupted by loss '\n",
      "             'of connection between cover and Kindle. Complained and they sent '\n",
      "             'me another cover. It works better, but still looses connectivity '\n",
      "             'from time to time. Have to stop and disconnect cover and '\n",
      "             'reconnect it. That usually stops the problem for a while.Also, '\n",
      "             'It is not clear from the sales materials that the Premium '\n",
      "             'Leather cover is suede. it shows scratches from fingernails.On '\n",
      "             'the plus side, the Oasis screen is good and the quality of the '\n",
      "             'text is excellent. Lighting is even and reading is easy on this '\n",
      "             'device.',\n",
      " 'labels': ['quality',\n",
      "            'ease of use',\n",
      "            'features',\n",
      "            'ergonomy',\n",
      "            'value for money'],\n",
      " 'scores': [0.3852250874042511,\n",
      "            0.3175143599510193,\n",
      "            0.19775818288326263,\n",
      "            0.07138220220804214,\n",
      "            0.02812008000910282]}\n",
      "\n",
      "{'sequence': 'This is the best of both worlds. A reasonably priced BT speaker '\n",
      "             'and an Amazon Alexa enabled device. I would highly recommend to '\n",
      "             'anyone looking for a BT speaker and considering an Alexa enabled '\n",
      "             'device.',\n",
      " 'labels': ['value for money',\n",
      "            'quality',\n",
      "            'features',\n",
      "            'ergonomy',\n",
      "            'ease of use'],\n",
      " 'scores': [0.7462375164031982,\n",
      "            0.10365398228168488,\n",
      "            0.0799817368388176,\n",
      "            0.043802954256534576,\n",
      "            0.026323888450860977]}\n",
      "\n",
      "{'sequence': \"Major fan, didn't buy this because of protection, bought it \"\n",
      "             \"cause it will blend in to my decor. It is not a skin, so it's \"\n",
      "             \"not skin tight. Yes it's loose but how often will you grab it \"\n",
      "             'and move it. Me maybe once every year.',\n",
      " 'labels': ['quality',\n",
      "            'value for money',\n",
      "            'ease of use',\n",
      "            'features',\n",
      "            'ergonomy'],\n",
      " 'scores': [0.4195306897163391,\n",
      "            0.2487584799528122,\n",
      "            0.21991528570652008,\n",
      "            0.08760702610015869,\n",
      "            0.02418850176036358]}\n",
      "\n"
     ]
    }
   ],
   "source": [
    "# display predictions\n",
    "for pred in preds[:3] :\n",
    "    pp(pred)\n",
    "    print()"
   ]
  },
  {
   "cell_type": "markdown",
   "metadata": {},
   "source": [
    "## 🛠️ 4. Bonus: Improve Your Topic Model 💥\n",
    "\n",
    "How do you think we could improve this zero-shot classification?"
   ]
  },
  {
   "cell_type": "markdown",
   "metadata": {},
   "source": [
    "\n",
    "- 🧪 Try with **different or more refined labels** (e.g. “smartphones”, “cookware”)\n",
    "- 🧱 Preprocess further: remove stopwords, lemmatize\n",
    "- 📊 Visualize the topic distribution with bar charts\n",
    "- 🧵 Cluster similar reviews using embeddings (`sentence-transformers`)"
   ]
  },
  {
   "cell_type": "markdown",
   "metadata": {},
   "source": [
    "## 🏁 Wrap-Up\n",
    "\n",
    "You just:\n",
    "- Loaded and cleaned a real-world dataset 🧼\n",
    "- Used **zero-shot learning** to perform topic classification 🔮\n",
    "- Started building a simple but powerful unsupervised model 💪\n",
    "\n",
    "This is the magic of modern NLP — you’re now ready to go deeper into **topic modeling** and **semantic understanding**! 🧠✨"
   ]
  },
  {
   "cell_type": "markdown",
   "metadata": {},
   "source": [
    "# 📚 Summarizing Scientific Papers with Transformers 🧠✨\n",
    "\n",
    "Welcome, NLP explorer! In this challenge, you're diving into the world of **long-form document summarization** using research papers from **ArXiv**. 🧪🔬 Your mission: build a model that creates powerful, concise summaries of lengthy academic papers! 📄➡️✂️\n",
    "\n"
   ]
  },
  {
   "cell_type": "markdown",
   "metadata": {},
   "source": [
    "\n",
    "## 🧾 Dataset Overview\n",
    "\n",
    "The **ArXiv Summarization Dataset** is a curated collection of scientific papers for training and evaluating summarization models. Each paper comes with:\n",
    "\n",
    "- `article`: 📝 Full body of the research paper  \n",
    "- `abstract`: 🧠 Human-written summary  \n",
    "- `id`: 📌 Unique paper identifier\n",
    "\n",
    "You’ll be using these pairs to train or evaluate a **text summarization model** that learns to generate high-quality abstracts from full papers!\n",
    "\n"
   ]
  },
  {
   "cell_type": "markdown",
   "metadata": {},
   "source": [
    "## 📥 1. Load the Dataset with 🤗 Datasets\n",
    "\n",
    "First, let’s install the required library and load the dataset:\n"
   ]
  },
  {
   "cell_type": "code",
   "execution_count": 83,
   "metadata": {},
   "outputs": [
    {
     "name": "stderr",
     "output_type": "stream",
     "text": [
      "Generating train split: 100%|██████████| 203037/203037 [00:05<00:00, 38416.37 examples/s]\n",
      "Generating validation split: 100%|██████████| 6436/6436 [00:00<00:00, 35996.13 examples/s]\n",
      "Generating test split: 100%|██████████| 6440/6440 [00:00<00:00, 34351.95 examples/s]\n"
     ]
    },
    {
     "data": {
      "text/plain": [
       "{'article': 'additive models @xcite provide an important family of models for semiparametric regression or classification . some reasons for the success of additive models are their increased flexibility when compared to linear or generalized linear models and their increased interpretability when compared to fully nonparametric models . \\n it is well - known that good estimators in additive models are in general less prone to the curse of high dimensionality than good estimators in fully nonparametric models . \\n many examples of such estimators belong to the large class of regularized kernel based methods over a reproducing kernel hilbert space @xmath0 , see e.g. @xcite . in the last years \\n many interesting results on learning rates of regularized kernel based models for additive models have been published when the focus is on sparsity and when the classical least squares loss function is used , see e.g. @xcite , @xcite , @xcite , @xcite , @xcite , @xcite and the references therein . of course , the least squares loss function is differentiable and has many nice mathematical properties , but it is only locally lipschitz continuous and therefore regularized kernel based methods based on this loss function typically suffer on bad statistical robustness properties , even if the kernel is bounded . \\n this is in sharp contrast to kernel methods based on a lipschitz continuous loss function and on a bounded loss function , where results on upper bounds for the maxbias bias and on a bounded influence function are known , see e.g. @xcite for the general case and @xcite for additive models . \\n therefore , we will here consider the case of regularized kernel based methods based on a general convex and lipschitz continuous loss function , on a general kernel , and on the classical regularizing term @xmath1 for some @xmath2 which is a smoothness penalty but not a sparsity penalty , see e.g. @xcite . \\n such regularized kernel based methods are now often called support vector machines ( svms ) , although the notation was historically used for such methods based on the special hinge loss function and for special kernels only , we refer to @xcite .    in this paper we address the open question , whether an svm with an additive kernel can provide a substantially better learning rate in high dimensions than an svm with a general kernel , say a classical gaussian rbf kernel , if the assumption of an additive model is satisfied . \\n our leading example covers learning rates for quantile regression based on the lipschitz continuous but non - differentiable pinball loss function , which is also called check function in the literature , see e.g. @xcite and @xcite for parametric quantile regression and @xcite , @xcite , and @xcite for kernel based quantile regression . \\n we will not address the question how to check whether the assumption of an additive model is satisfied because this would be a topic of a paper of its own . \\n of course , a practical approach might be to fit both models and compare their risks evaluated for test data . \\n for the same reason we will also not cover sparsity . \\n consistency of support vector machines generated by additive kernels for additive models was considered in @xcite . in this paper \\n we establish learning rates for these algorithms . \\n let us recall the framework with a complete separable metric space @xmath3 as the input space and a closed subset @xmath4 of @xmath5 as the output space . \\n a borel probability measure @xmath6 on @xmath7 is used to model the learning problem and an independent and identically distributed sample @xmath8 is drawn according to @xmath6 for learning . \\n a loss function @xmath9 is used to measure the quality of a prediction function @xmath10 by the local error @xmath11 . \\n _ throughout the paper we assume that @xmath12 is measurable , @xmath13 , convex with respect to the third variable , and uniformly lipschitz continuous satisfying @xmath14 with a finite constant @xmath15 . \\n _    support vector machines ( svms ) considered here are kernel - based regularization schemes in a reproducing kernel hilbert space ( rkhs ) @xmath0 generated by a mercer kernel @xmath16 . with a shifted loss function @xmath17 introduced for dealing \\n even with heavy - tailed distributions as @xmath18 , they take the form @xmath19 where for a general borel measure @xmath20 on @xmath21 , the function @xmath22 is defined by @xmath23 where @xmath24 is a regularization parameter . \\n the idea to shift a loss function has a long history , see e.g. @xcite in the context of m - estimators . \\n it was shown in @xcite that @xmath22 is also a minimizer of the following optimization problem involving the original loss function @xmath12 if a minimizer exists : @xmath25    the additive model we consider consists of the _ input space decomposition _ \\n @xmath26 with each @xmath27 a complete separable metric space and a _ hypothesis space _ \\n @xmath28 where @xmath29 is a set of functions @xmath30 each of which is also identified as a map @xmath31 from @xmath3 to @xmath5 . \\n hence the functions from @xmath32 take the additive form @xmath33 . \\n we mention , that there is strictly speaking a notational problem here , because in the previous formula each quantity @xmath34 is an element of the set @xmath35 which is a subset of the full input space @xmath36 , @xmath37 , whereas in the definition of sample @xmath8 each quantity @xmath38 is an element of the full input space @xmath36 , where @xmath39 . \\n because these notations will only be used in different places and because we do not expect any misunderstandings , we think this notation is easier and more intuitive than specifying these quantities with different symbols . \\n the additive kernel @xmath40 is defined in terms of mercer kernels @xmath41 on @xmath27 as @xmath42 it generates an rkhs @xmath0 which can be written in terms of the rkhs @xmath43 generated by @xmath41 on @xmath27 corresponding to the form ( [ additive ] ) as @xmath44 with norm given by @xmath45 the norm of @xmath46 satisfies @xmath47    to illustrate advantages of additive models , we provide two examples of comparing additive with product kernels . \\n the first example deals with gaussian rbf kernels . \\n all proofs will be given in section [ proofsection ] . \\n [ gaussadd ] let @xmath48 , @xmath49 $ ] and @xmath50 ^ 2.$ ] let @xmath51 and @xmath52.\\\\ ] ] the additive kernel @xmath53 is given by @xmath54 furthermore , the product kernel @xmath55 is the standard gaussian kernel given by @xmath56 define a gaussian function @xmath57 on @xmath58 ^ 2 $ ] depending only on one variable by @xmath59 then @xmath60 but @xmath61 where @xmath62 denotes the rkhs generated by the standard gaussian rbf kernel @xmath63 . \\n the second example is about sobolev kernels . \\n [ sobolvadd ] let @xmath64 , @xmath65 $ ] and @xmath58^s.$ ] let @xmath66 : = \\\\bigl\\\\{u\\\\in l_2([0,1 ] ) ; d^\\\\alpha u \\\\in l_2([0,1 ] ) \\\\mbox{~for~all~}|\\\\alpha|\\\\le 1\\\\bigr\\\\}\\\\ ] ] be the sobolev space consisting of all square integrable univariate functions whose derivative is also square integrable . \\n it is an rkhs with a mercer kernel @xmath67 defined on @xmath68 ^ 2 $ ] . \\n if we take all the mercer kernels @xmath69 to be @xmath67 , then @xmath70 $ ] for each @xmath71 . \\n the additive kernel @xmath72 is also a mercer kernel and defines an rkhs @xmath73\\\\right\\\\}.\\\\ ] ] however , the multivariate sobolev space @xmath74^s)$ ] , consisting of all square integrable functions whose partial derivatives are all square integrable , contains discontinuous functions and is not an rkhs . \\n denote the marginal distribution of @xmath6 on @xmath27 as @xmath75 . under the assumption that @xmath76 for each @xmath71 and that @xmath43 is dense in @xmath29 in the @xmath77-metric , it was proved in @xcite that @xmath78 in probability as long as @xmath79 satisfies @xmath80 and @xmath81 . \\n the rest of the paper has the following structure . \\n section [ ratessection ] contains our main results on learning rates for svms based on additive kernels . learning rates for quantile regression \\n are treated as important special cases . \\n section [ comparisonsection ] contains a comparison of our results with other learning rates published recently . \\n section [ proofsection ] contains all the proofs and some results which can be interesting in their own . \\n in this paper we provide some learning rates for the support vector machines generated by additive kernels for additive models which helps improve the quantitative understanding presented in @xcite . \\n the rates are about asymptotic behaviors of the excess risk @xmath82 and take the form @xmath83 with @xmath84 . \\n they will be stated under three kinds of conditions involving the hypothesis space @xmath0 , the measure @xmath6 , the loss @xmath12 , and the choice of the regularization parameter @xmath85 . \\n the first condition is about the approximation ability of the hypothesis space @xmath0 . \\n since the output function @xmath19 is from the hypothesis space , the learning rates of the learning algorithm depend on the approximation ability of the hypothesis space @xmath0 with respect to the optimal risk @xmath86 measured by the following approximation error . \\n [ defapprox ] the approximation error of the triple @xmath87 is defined as @xmath88    to estimate the approximation error , we make an assumption about the minimizer of the risk @xmath89    for each @xmath90 , define the integral operator @xmath91 associated with the kernel @xmath41 by @xmath92 we mention that @xmath93 is a compact and positive operator on @xmath94 . hence we can find its normalized eigenpairs @xmath95 such that @xmath96 is an orthonormal basis of @xmath94 and @xmath97 as @xmath98 . fix @xmath99 . \\n then we can define the @xmath100-th power @xmath101 of @xmath93 by @xmath102 this is a positive and bounded operator and its range is well - defined . \\n the assumption @xmath103 means @xmath104 lies in this range . \\n [ assumption1 ] we assume @xmath105 and @xmath106 where for some @xmath107 and each @xmath108 , @xmath109 is a function of the form @xmath110 with some @xmath111 . \\n the case @xmath112 of assumption [ assumption1 ] means each @xmath113 lies in the rkhs @xmath43 . \\n a standard condition in the literature ( e.g. , @xcite ) for achieving decays of the form @xmath114 for the approximation error ( [ approxerrordef ] ) is @xmath115 with some @xmath116 . here \\n the operator @xmath117 is defined by @xmath118 in general , this can not be written in an additive form . \\n however , the hypothesis space ( [ additive ] ) takes an additive form @xmath119 . \\n so it is natural for us to impose an additive expression @xmath120 for the target function @xmath121 with the component functions @xmath113 satisfying the power condition @xmath110 . \\n the above natural assumption leads to a technical difficulty in estimating the approximation error : the function @xmath113 has no direct connection to the marginal distribution @xmath122 projected onto @xmath27 , hence existing methods in the literature ( e.g. , @xcite ) can not be applied directly . \\n note that on the product space @xmath123 , there is no natural probability measure projected from @xmath6 , and the risk on @xmath124 is not defined .    our idea to overcome the difficulty is to introduce an intermediate function @xmath125 . \\n it may not minimize a risk ( which is not even defined ) . \\n however , it approximates the component function @xmath113 well . \\n when we add up such functions @xmath126 , we get a good approximation of the target function @xmath121 , and thereby a good estimate of the approximation error . \\n this is the first novelty of the paper . \\n [ approxerrorthm ] under assumption [ assumption1 ] , we have @xmath127 where @xmath128 is the constant given by @xmath129      the second condition for our learning rates is about the capacity of the hypothesis space measured by @xmath130-empirical covering numbers .    let @xmath131 be a set of functions on @xmath21 and @xmath132 for every @xmath133 the * covering number of @xmath131 * with respect to the empirical metric @xmath134 , given by @xmath135 is defined as @xmath136 and the * @xmath130-empirical covering number * of @xmath137 is defined as @xmath138    [ assumption2 ] we assume @xmath139 and that for some @xmath140 , @xmath141 and every @xmath142 , the @xmath130-empirical covering number of the unit ball of @xmath43 satisfies @xmath143    the second novelty of this paper is to observe that the additive nature of the hypothesis space yields the following nice bound with a dimension - independent power exponent for the covering numbers of the balls of the hypothesis space @xmath0 , to be proved in section [ samplesection ] . \\n [ capacitythm ] under assumption [ assumption2 ] , for any @xmath144 and @xmath145 , we have @xmath146    the bound for the covering numbers stated in theorem [ capacitythm ] is special : the power @xmath147 is independent of the number @xmath148 of the components in the additive model . \\n it is well - known @xcite in the literature of function spaces that the covering numbers of balls of the sobolev space @xmath149 on the cube @xmath150^s$ ] of the euclidean space @xmath151 with regularity index @xmath152 has the following asymptotic behavior with @xmath153 : @xmath154 here the power @xmath155 depends linearly on the dimension @xmath148 . \\n similar dimension - dependent bounds for the covering numbers of the rkhss associated with gaussian rbf - kernels can be found in @xcite . \\n the special bound in theorem [ capacitythm ] demonstrates an advantage of the additive model in terms of capacity of the additive hypothesis space . \\n the third condition for our learning rates is about the noise level in the measure @xmath6 with respect to the hypothesis space . before stating the general condition \\n , we consider a special case for quantile regression , to illustrate our general results . \\n let @xmath156 be a quantile parameter . \\n the quantile regression function @xmath157 is defined by its value @xmath158 to be a @xmath159-quantile of @xmath160 , i.e. , a value @xmath161 satisfying @xmath162 the regularization scheme for quantile regression considered here takes the form ( [ algor ] ) with the loss function @xmath12 given by the pinball loss as @xmath163    a noise condition on @xmath6 for quantile regression is defined in @xcite as follows . to this end , let @xmath164 be a probability measure on @xmath165 and @xmath166 . then a real number @xmath167 is called @xmath159-quantile of @xmath164 , if and only if @xmath167 belongs to the set @xmath168\\\\bigr ) \\\\ge \\n \\\\tau     \\\\mbox{~~and~~ } q\\\\bigl([t , \\\\infty)\\\\bigr ) \\\\ge 1-\\\\tau\\\\bigr\\\\}\\\\,.\\\\ ] ] it is well - known that @xmath169 is a compact interval . \\n [ noisecond ] let @xmath166 .    1 . \\n a probability measure @xmath164 on @xmath165 is said to have a * @xmath159-quantile of type @xmath170 * , if there exist a @xmath159-quantile @xmath171 and a constant @xmath172 such that , for all @xmath173 $ ] , we have @xmath174 2 . \\n let @xmath175 $ ] . \\n we say that a probability measure @xmath20 on @xmath176 has a * @xmath159-quantile of @xmath177-average type @xmath170 * if the conditional probability measure @xmath178 has @xmath179-almost surely a @xmath159-quantile of type @xmath170 and the function @xmath180 where @xmath181 is the constant defined in part ( 1 ) , satisfies @xmath182 . \\n one can show that a distribution @xmath164 having a @xmath159-quantile of type @xmath170 has a unique @xmath159-quantile @xmath183 . \\n moreover , if @xmath164 has a lebesgue density @xmath184 then @xmath164 has a @xmath159-quantile of type @xmath170 if @xmath184 is bounded away from zero on @xmath185 $ ] since we can use @xmath186\\\\}$ ] in ( [ tauquantileoftype2formula ] ) . \\n this assumption is general enough to cover many distributions used in parametric statistics such as gaussian , student s @xmath187 , and logistic distributions ( with @xmath188 ) , gamma and log - normal distributions ( with @xmath189 ) , and uniform and beta distributions ( with @xmath190 $ ] ) . \\n the following theorem , to be proved in section [ proofsection ] , gives a learning rate for the regularization scheme ( [ algor ] ) in the special case of quantile regression . \\n [ quantilethm ] suppose that @xmath191 almost surely for some constant @xmath192 , and that each kernel @xmath41 is @xmath193 with @xmath194 for some @xmath195 . \\n if assumption [ assumption1 ] holds with @xmath112 and @xmath6 has a @xmath159-quantile of @xmath177-average type @xmath170 for some @xmath196 $ ] , then by taking @xmath197 , for any @xmath198 and @xmath199 , with confidence at least @xmath200 we have @xmath201 where @xmath202 is a constant independent of @xmath203 and @xmath204 and @xmath205    please note that the exponent @xmath206 given by ( [ quantilerates2 ] ) for the learning rate in ( [ quantilerates ] ) is independent of the quantile level @xmath159 , of the number @xmath148 of additive components in @xmath207 , and of the dimensions @xmath208 and @xmath209 further note that @xmath210 , if @xmath211 , and @xmath212 if @xmath213 . because @xmath214 can be arbitrarily close to @xmath215 , the learning rate , which is independent of the dimension @xmath216 and given by theorem [ quantilethm ] , is close to @xmath217 for large values of @xmath177 and is close to @xmath218 or better , if @xmath211 .      to state our general learning rates \\n , we need an assumption on a _ variance - expectation bound _ which is similar to definition [ noisecond ] in the special case of quantile regression . \\n [ assumption3 ] we assume that there exist an exponent @xmath219 $ ] and a positive constant @xmath220 such that @xmath221    assumption [ assumption3 ] always holds true for @xmath222 . if the triple @xmath223 satisfies some conditions , the exponent @xmath224 can be larger . \\n for example , when @xmath12 is the pinball loss ( [ pinloss ] ) and @xmath6 has a @xmath159-quantile of @xmath177-average type @xmath225 for some @xmath196 $ ] and @xmath226 as defined in @xcite , then @xmath227 . \\n [ mainratesthm ] suppose that @xmath228 is bounded by a constant @xmath229 almost surely . under assumptions [ assumption1 ] to [ assumption3 ] , \\n if we take @xmath198 and @xmath230 for some @xmath231 , then for any @xmath232 , with confidence at least @xmath200 we have @xmath233 where @xmath234 is given by @xmath235 and @xmath202 is constant independent of @xmath203 or @xmath204 ( to be given explicitly in the proof ) . \\n we now add some theoretical and numerical comparisons on the goodness of our learning rates with those from the literature . as already mentioned in the introduction \\n , some reasons for the popularity of additive models are flexibility , increased interpretability , and ( often ) a reduced proneness of the curse of high dimensions . \\n hence it is important to check , whether the learning rate given in theorem [ mainratesthm ] under the assumption of an additive model favourably compares to ( essentially ) optimal learning rates without this assumption . in other words , \\n we need to demonstrate that the main goal of this paper is achieved by theorem [ quantilethm ] and theorem [ mainratesthm ] , i.e. that an svm based on an additive kernel can provide a substantially better learning rate in high dimensions than an svm with a general kernel , say a classical gaussian rbf kernel , provided the assumption of an additive model is satisfied . \\n our learning rate in theorem [ quantilethm ] is new and optimal in the literature of svm for quantile regression . \\n most learning rates in the literature of svm for quantile regression are given for projected output functions @xmath236 , while it is well known that projections improve learning rates @xcite . here the projection operator @xmath237 is defined for any measurable function @xmath10 by @xmath238 sometimes this is called clipping . \\n such results are given in @xcite . \\n for example , under the assumptions that @xmath6 has a @xmath159-quantile of @xmath177-average type @xmath170 , the approximation error condition ( [ approxerrorb ] ) is satisfied for some @xmath239 , and that for some constants @xmath240 , the sequence of eigenvalues @xmath241 of the integral operator @xmath117 satisfies @xmath242 for every @xmath243 , it was shown in @xcite that with confidence at least @xmath200 , @xmath244 where @xmath245 here the parameter @xmath246 measures the capacity of the rkhs @xmath247 and it plays a similar role as half of the parameter @xmath147 in assumption 2 . for a @xmath193 kernel and @xmath112 \\n , one can choose @xmath246 and @xmath147 to be arbitrarily small and the above power index @xmath248 can be taken as @xmath249 . \\n the learning rate in theorem [ quantilethm ] may be improved by relaxing assumption 1 to a sobolev smoothness condition for @xmath121 and a regularity condition for the marginal distribution @xmath250 . \\n for example , one may use a gaussian kernel @xmath251 depending on the sample size @xmath203 and @xcite achieve the approximation error condition ( [ approxerrorb ] ) for some @xmath252 . \\n this is done for quantile regression in @xcite . \\n since we are mainly interested in additive models , we shall not discuss such an extension . \\n [ gaussmore ] let @xmath48 , @xmath49 $ ] and @xmath50 ^ 2.$ ] let @xmath51 and the additive kernel @xmath72 be given by ( [ gaussaddform ] ) with @xmath253 in example [ gaussadd ] as @xmath52.\\\\ ] ] if the function @xmath121 is given by ( [ gaussfcn ] ) , @xmath191 almost surely for some constant @xmath192 , and @xmath6 has a @xmath159-quantile of @xmath177-average type @xmath170 for some @xmath196 $ ] , then by taking @xmath197 , for any @xmath145 and @xmath199 , ( [ quantilerates ] ) holds with confidence at least @xmath200 .    it is unknown whether the above learning rate can be derived by existing approaches in the literature ( e.g. @xcite ) even after projection . \\n note that the kernel in the above example is independent of the sample size . \\n it would be interesting to see whether there exists some @xmath99 such that the function @xmath57 defined by ( [ gaussfcn ] ) lies in the range of the operator @xmath254 . \\n the existence of such a positive index would lead to the approximation error condition ( [ approxerrorb ] ) , see @xcite .    let us now add some numerical comparisons on the goodness of our learning rates given by theorem [ mainratesthm ] with those given by @xcite . \\n their corollary 4.12 gives ( essentially ) minmax optimal learning rates for ( clipped ) svms in the context of nonparametric quantile regression using one gaussian rbf kernel on the whole input space under appropriate smoothness assumptions of the target function . \\n let us consider the case that the distribution @xmath6 has a @xmath159-quantile of @xmath177-average type @xmath170 , where @xmath255 , and assume that both corollary 4.12 in @xcite and our theorem [ mainratesthm ] are applicable . \\n i.e. , we assume in particular that @xmath6 is a probability measure on @xmath256 $ ] and that the marginal distribution @xmath257 has a lebesgue density @xmath258 for some @xmath259 . furthermore , suppose that the optimal decision function @xmath260 has ( to make theorem [ mainratesthm ] applicable with @xmath261 $ ] ) the additive structure @xmath207 with each @xmath104 as stated in assumption [ assumption1 ] , where @xmath262 and @xmath263 , with minimal risk @xmath86 and additionally fulfills ( to make corollary 4.12 in @xcite applicable ) @xmath264 where @xmath265 $ ] and @xmath266 denotes a besov space with smoothness parameter @xmath267 . \\n the intuitive meaning of @xmath248 is , that increasing values of @xmath248 correspond to increased smoothness . \\n we refer to ( * ? ? ? * and p. 44 ) for details on besov spaces . \\n it is well - known that the besov space @xmath268 contains the sobolev space @xmath269 for @xmath270 , @xmath271 , and @xmath272 , and that @xmath273 . \\n we mention that if all @xmath41 are suitably chosen wendland kernels , their reproducing kernel hilbert spaces @xmath43 are sobolev spaces , see ( * ? ? ? \\n * thm . 10.35 , p. 160 ) . \\n furthermore , we use the same sequence of regularizing parameters as in ( * ? ? ? \\n 4.9 , cor . 4.12 ) , i.e. , @xmath274 where @xmath275 , @xmath276 , @xmath277 $ ] , and @xmath278 is some user - defined positive constant independent of @xmath279 . for \\n reasons of simplicity , let us fix @xmath280 . \\n then ( * ? ? ? \\n 4.12 ) gives learning rates for the risk of svms for @xmath159-quantile regression , if a single gaussian rbf - kernel on @xmath281 is used for @xmath159-quantile functions of @xmath177-average type @xmath170 with @xmath255 , which are of order @xmath282 hence the learning rate in theorem [ quantilethm ] is better than the one in ( * ? ? ? \\n 4.12 ) in this situation , if @xmath283 provided the assumption of the additive model is valid . \\n table [ table1 ] lists the values of @xmath284 from ( [ explicitratescz2 ] ) for some finite values of the dimension @xmath216 , where @xmath285 . \\n all of these values of @xmath284 are positive with the exceptions if @xmath286 or @xmath287 . \\n this is in contrast to the corresponding exponent in the learning rate by ( * ? ? \\n * cor . 4.12 ) , because @xmath288    table [ table2 ] and figures [ figure1 ] to [ figure2 ] give additional information on the limit @xmath289 . \\n of course , higher values of the exponent indicates faster rates of convergence . \\n it is obvious , that an svm based on an additive kernel has a significantly faster rate of convergence in higher dimensions @xmath216 compared to svm based on a single gaussian rbf kernel defined on the whole input space , of course under the assumption that the additive model is valid . \\n the figures seem to indicate that our learning rate from theorem [ mainratesthm ] is probably not optimal for small dimensions . however , the main focus of the present paper is on high dimensions . \\n .[table1 ] the table lists the limits of the exponents @xmath290 from ( * ? ? ? \\n * cor . 4.12 ) and @xmath291 from theorem [ mainratesthm ] , respectively , if the regularizing parameter @xmath292 is chosen in an optimal manner for the nonparametric setup , i.e. @xmath293 , with @xmath294 for @xmath295 and @xmath296 . \\n recall that @xmath297 $ ] . \\n [ cols= \" > , > , > , > \" , ]',\n",
       " 'abstract': 'additive models play an important role in semiparametric statistics . \\n this paper gives learning rates for regularized kernel based methods for additive models . \\n these learning rates compare favourably in particular in high dimensions to recent results on optimal learning rates for purely nonparametric regularized kernel based quantile regression using the gaussian radial basis function kernel , provided the assumption of an additive model is valid . \\n additionally , a concrete example is presented to show that a gaussian function depending only on one variable lies in a reproducing kernel hilbert space generated by an additive gaussian kernel , but does not belong to the reproducing kernel hilbert space generated by the multivariate gaussian kernel of the same variance .    * \\n key words and phrases . * additive model , kernel , quantile regression , semiparametric , rate of convergence , support vector machine .'}"
      ]
     },
     "execution_count": 83,
     "metadata": {},
     "output_type": "execute_result"
    }
   ],
   "source": [
    "from datasets import load_dataset\n",
    "\n",
    "dataset = load_dataset(\"ccdv/arxiv-summarization\")\n",
    "\n",
    "# Preview the data\n",
    "dataset[\"train\"][0]"
   ]
  },
  {
   "cell_type": "markdown",
   "metadata": {},
   "source": [
    "\n",
    "🎯 Each entry has:\n",
    "- A **very long** article (avg. ~6000 tokens!)\n",
    "- Its corresponding **abstract** (avg. ~300 tokens)\n",
    "\n"
   ]
  },
  {
   "cell_type": "markdown",
   "metadata": {},
   "source": [
    "## 🧼 2. Explore & Preprocess the Text 🧹\n",
    "\n",
    "Each document is pre-tokenized, so the paragraphs are joined with spaces and `\\n` characters for formatting. No heavy cleaning is required — but you can preview it like this:\n"
   ]
  },
  {
   "cell_type": "code",
   "execution_count": 84,
   "metadata": {},
   "outputs": [
    {
     "name": "stdout",
     "output_type": "stream",
     "text": [
      "additive models @xcite provide an important family of models for semiparametric regression or classification . some reasons for the success of additive models are their increased flexibility when compared to linear or generalized linear models and their increased interpretability when compared to fully nonparametric models . \n",
      " it is well - known that good estimators in additive models are in general less prone to the curse of high dimensionality than good estimators in fully nonparametric models . \n",
      " many examples of such estimators belong to the large class of regularized kernel based methods over a reproducing kernel hilbert space @xmath0 , see e.g. @xcite . in the last years \n",
      " many interesting results on learning rates of regularized kernel based models for additive models have been published when the focus is on sparsity and when the classical least squares loss function is used , see e.g. @xcite , @xcite , @xcite , @xcite , @xcite , @xcite and the references therein . of course , t\n",
      "\n",
      "Abstract:\n",
      " additive models play an important role in semiparametric statistics . \n",
      " this paper gives learning rates for regularized kernel based methods for additive models . \n",
      " these learning rates compare favourably in particular in high dimensions to recent results on optimal learning rates for purely nonparametric regularized kernel based quantile regression using the gaussian radial basis function kernel , provided the assumption of an additive model is valid . \n",
      " additionally , a concrete example is presented to show that a gaussian function depending only on one variable lies in a reproducing kernel hilbert space generated by an additive gaussian kernel , but does not belong to the reproducing kernel hilbert space generated by the multivariate gaussian kernel of the same variance .    * \n",
      " key words and phrases . * additive model , kernel , quantile regression , semiparametric , rate of convergence , support vector machine .\n"
     ]
    }
   ],
   "source": [
    "# print some text data and the associated target summary\n",
    "print(dataset['train'][0]['article'][:1000])  # First 1000 characters\n",
    "print(\"\\nAbstract:\\n\", dataset['train'][0]['abstract'])\n"
   ]
  },
  {
   "cell_type": "markdown",
   "metadata": {},
   "source": [
    "Ready to summarize like a scientist? Let's go! 🚀\n",
    "\n",
    "---\n",
    "\n",
    "## 🧠 3. Summarize with Transformers! 🪄\n",
    "\n",
    "You’ll now use the **`summarization` pipeline** to automatically summarize research papers.\n"
   ]
  },
  {
   "cell_type": "code",
   "execution_count": 85,
   "metadata": {},
   "outputs": [
    {
     "name": "stderr",
     "output_type": "stream",
     "text": [
      "No model was supplied, defaulted to sshleifer/distilbart-cnn-12-6 and revision a4f8f3e (https://huggingface.co/sshleifer/distilbart-cnn-12-6).\n",
      "Using a pipeline without specifying a model name and revision in production is not recommended.\n",
      "Device set to use mps:0\n"
     ]
    },
    {
     "name": "stdout",
     "output_type": "stream",
     "text": [
      "original text: for about 20 years the problem of properties of short - term changes of solar activity has been considered extensively . \n",
      " many investigators studied the short - term periodicities of the various indices of solar activity . \n",
      " several periodicities were detected , but the periodicities about 155 days and from the interval of @xmath3 $ ] days ( @xmath4 $ ] years ) are mentioned most often . \n",
      " first of them was discovered by @xcite in the occurence rate of gamma - ray flares detected by the gamma - ray spectrometer aboard the _ solar maximum mission ( smm ) . \n",
      " this periodicity was confirmed for other solar flares data and for the same time period @xcite . \n",
      " it was also found in proton flares during solar cycles 19 and 20 @xcite , but it was not found in the solar flares data during solar cycles 22 @xcite . \n",
      " _    several autors confirmed above results for the daily sunspot area data . @xcite studied the sunspot data from 18741984 . \n",
      " she found the 155-day periodicity in data records from\n",
      "summary:  Several periodicities about 155 days and from the interval of @xmath3 $ ] days are mentioned most often . The first of them was discovered by @xcite in the occurence rate of gamma - ray flares .\n"
     ]
    }
   ],
   "source": [
    "from transformers import pipeline\n",
    "\n",
    "# Load a summarization pipeline (long-doc models work better!)\n",
    "summarizer = pipeline(\"summarization\")\n",
    "\n",
    "# Try on a small paper segment\n",
    "long_text = dataset[\"test\"][0][\"article\"][:1000]  # Keep it short due to model limits\n",
    "summary = summarizer(long_text, max_length=150, min_length=40, do_sample=False)\n",
    "\n",
    "print(\"original text:\",long_text)\n",
    "print(\"summary:\",summary[0][\"summary_text\"])\n"
   ]
  },
  {
   "cell_type": "markdown",
   "metadata": {},
   "source": [
    "💡 **Note:** Most standard summarization models like `bart-large-cnn` or `t5-base` are trained on short documents. For long-form papers, try models like:\n",
    "\n",
    "- `allenai/led-base-16384` 🔥\n",
    "- `google/pegasus-arxiv` 💥\n",
    "- `t5-large` (with truncation)\n",
    "\n",
    "---\n",
    "\n",
    "## 📊 4. Evaluate Your Summaries 📈\n",
    "\n",
    "### [Evaluating using ROUGE](https://cookbook.openai.com/examples/evaluation/how_to_eval_abstractive_summarization?ref=blog.mozilla.ai#evaluating-using-rouge)\n",
    "\n",
    "[ROUGE](https://aclanthology.org/W04-1013/), which stands for Recall-Oriented Understudy for Gisting Evaluation, primarily gauges the overlap of words between a generated output and a reference text. It's a prevalent metric for evaluating automatic summarization tasks. Among its variants, `ROUGE-L` offers insights into the longest contiguous match between system-generated and reference summaries, gauging how well the system retains the original summary's essence."
   ]
  },
  {
   "cell_type": "code",
   "execution_count": 86,
   "metadata": {},
   "outputs": [
    {
     "name": "stdout",
     "output_type": "stream",
     "text": [
      "Collecting rouge\n",
      "  Downloading rouge-1.0.1-py3-none-any.whl.metadata (4.1 kB)\n",
      "Requirement already satisfied: six in /opt/anaconda3/envs/pytorch/lib/python3.10/site-packages (from rouge) (1.17.0)\n",
      "Downloading rouge-1.0.1-py3-none-any.whl (13 kB)\n",
      "Installing collected packages: rouge\n",
      "Successfully installed rouge-1.0.1\n"
     ]
    }
   ],
   "source": [
    "!pip install rouge"
   ]
  },
  {
   "cell_type": "code",
   "execution_count": 87,
   "metadata": {},
   "outputs": [
    {
     "name": "stdout",
     "output_type": "stream",
     "text": [
      "[{'rouge-1': {'r': 0.14285714285714285,\n",
      "              'p': 0.41935483870967744,\n",
      "              'f': 0.213114750307713},\n",
      "  'rouge-2': {'r': 0.0379746835443038,\n",
      "              'p': 0.17647058823529413,\n",
      "              'f': 0.06249999708550361},\n",
      "  'rouge-l': {'r': 0.13186813186813187,\n",
      "              'p': 0.3870967741935484,\n",
      "              'f': 0.19672130768476223}}]\n"
     ]
    }
   ],
   "source": [
    "from rouge import Rouge\n",
    "\n",
    "rouge_m = Rouge()\n",
    "\n",
    "# Compare generated summary vs reference\n",
    "reference = dataset[\"test\"][0][\"abstract\"]\n",
    "prediction = summary[0][\"summary_text\"]\n",
    "\n",
    "results = rouge_m.get_scores([prediction], [reference])\n",
    "pp(results)"
   ]
  },
  {
   "cell_type": "markdown",
   "metadata": {},
   "source": [
    "### [Evaluating using BERTScore](https://cookbook.openai.com/examples/evaluation/how_to_eval_abstractive_summarization?ref=blog.mozilla.ai#evaluating-using-bertscore)\n",
    "\n",
    "ROUGE relies on the exact presence of words in both the predicted and reference texts, failing to interpret the underlying semantics. This is where [BERTScore](https://arxiv.org/abs/1904.09675) comes in and leverages the contextual embeddings from the BERT model, aiming to evaluate the similarity between a predicted and a reference sentence in the context of machine-generated text. By comparing embeddings from both sentences, `BERTScore` captures semantic similarities that might be missed by traditional n-gram based metrics."
   ]
  },
  {
   "cell_type": "code",
   "execution_count": 88,
   "metadata": {},
   "outputs": [
    {
     "name": "stdout",
     "output_type": "stream",
     "text": [
      "Collecting bert_score\n",
      "  Downloading bert_score-0.3.13-py3-none-any.whl.metadata (15 kB)\n",
      "Requirement already satisfied: torch>=1.0.0 in /opt/anaconda3/envs/pytorch/lib/python3.10/site-packages (from bert_score) (2.6.0)\n",
      "Requirement already satisfied: pandas>=1.0.1 in /opt/anaconda3/envs/pytorch/lib/python3.10/site-packages (from bert_score) (2.2.3)\n",
      "Requirement already satisfied: transformers>=3.0.0 in /opt/anaconda3/envs/pytorch/lib/python3.10/site-packages (from bert_score) (4.51.3)\n",
      "Requirement already satisfied: numpy in /opt/anaconda3/envs/pytorch/lib/python3.10/site-packages (from bert_score) (2.2.4)\n",
      "Requirement already satisfied: requests in /opt/anaconda3/envs/pytorch/lib/python3.10/site-packages (from bert_score) (2.32.3)\n",
      "Requirement already satisfied: tqdm>=4.31.1 in /opt/anaconda3/envs/pytorch/lib/python3.10/site-packages (from bert_score) (4.67.1)\n",
      "Requirement already satisfied: matplotlib in /opt/anaconda3/envs/pytorch/lib/python3.10/site-packages (from bert_score) (3.10.1)\n",
      "Requirement already satisfied: packaging>=20.9 in /opt/anaconda3/envs/pytorch/lib/python3.10/site-packages (from bert_score) (24.2)\n",
      "Requirement already satisfied: python-dateutil>=2.8.2 in /opt/anaconda3/envs/pytorch/lib/python3.10/site-packages (from pandas>=1.0.1->bert_score) (2.9.0.post0)\n",
      "Requirement already satisfied: pytz>=2020.1 in /opt/anaconda3/envs/pytorch/lib/python3.10/site-packages (from pandas>=1.0.1->bert_score) (2025.2)\n",
      "Requirement already satisfied: tzdata>=2022.7 in /opt/anaconda3/envs/pytorch/lib/python3.10/site-packages (from pandas>=1.0.1->bert_score) (2025.2)\n",
      "Requirement already satisfied: filelock in /opt/anaconda3/envs/pytorch/lib/python3.10/site-packages (from torch>=1.0.0->bert_score) (3.18.0)\n",
      "Requirement already satisfied: typing-extensions>=4.10.0 in /opt/anaconda3/envs/pytorch/lib/python3.10/site-packages (from torch>=1.0.0->bert_score) (4.13.2)\n",
      "Requirement already satisfied: networkx in /opt/anaconda3/envs/pytorch/lib/python3.10/site-packages (from torch>=1.0.0->bert_score) (3.4.2)\n",
      "Requirement already satisfied: jinja2 in /opt/anaconda3/envs/pytorch/lib/python3.10/site-packages (from torch>=1.0.0->bert_score) (3.1.6)\n",
      "Requirement already satisfied: fsspec in /opt/anaconda3/envs/pytorch/lib/python3.10/site-packages (from torch>=1.0.0->bert_score) (2025.3.0)\n",
      "Requirement already satisfied: sympy==1.13.1 in /opt/anaconda3/envs/pytorch/lib/python3.10/site-packages (from torch>=1.0.0->bert_score) (1.13.1)\n",
      "Requirement already satisfied: mpmath<1.4,>=1.1.0 in /opt/anaconda3/envs/pytorch/lib/python3.10/site-packages (from sympy==1.13.1->torch>=1.0.0->bert_score) (1.3.0)\n",
      "Requirement already satisfied: huggingface-hub<1.0,>=0.30.0 in /opt/anaconda3/envs/pytorch/lib/python3.10/site-packages (from transformers>=3.0.0->bert_score) (0.30.2)\n",
      "Requirement already satisfied: pyyaml>=5.1 in /opt/anaconda3/envs/pytorch/lib/python3.10/site-packages (from transformers>=3.0.0->bert_score) (6.0.2)\n",
      "Requirement already satisfied: regex!=2019.12.17 in /opt/anaconda3/envs/pytorch/lib/python3.10/site-packages (from transformers>=3.0.0->bert_score) (2024.11.6)\n",
      "Requirement already satisfied: tokenizers<0.22,>=0.21 in /opt/anaconda3/envs/pytorch/lib/python3.10/site-packages (from transformers>=3.0.0->bert_score) (0.21.1)\n",
      "Requirement already satisfied: safetensors>=0.4.3 in /opt/anaconda3/envs/pytorch/lib/python3.10/site-packages (from transformers>=3.0.0->bert_score) (0.5.3)\n",
      "Requirement already satisfied: contourpy>=1.0.1 in /opt/anaconda3/envs/pytorch/lib/python3.10/site-packages (from matplotlib->bert_score) (1.3.2)\n",
      "Requirement already satisfied: cycler>=0.10 in /opt/anaconda3/envs/pytorch/lib/python3.10/site-packages (from matplotlib->bert_score) (0.12.1)\n",
      "Requirement already satisfied: fonttools>=4.22.0 in /opt/anaconda3/envs/pytorch/lib/python3.10/site-packages (from matplotlib->bert_score) (4.57.0)\n",
      "Requirement already satisfied: kiwisolver>=1.3.1 in /opt/anaconda3/envs/pytorch/lib/python3.10/site-packages (from matplotlib->bert_score) (1.4.8)\n",
      "Requirement already satisfied: pillow>=8 in /opt/anaconda3/envs/pytorch/lib/python3.10/site-packages (from matplotlib->bert_score) (11.2.1)\n",
      "Requirement already satisfied: pyparsing>=2.3.1 in /opt/anaconda3/envs/pytorch/lib/python3.10/site-packages (from matplotlib->bert_score) (3.2.3)\n",
      "Requirement already satisfied: charset-normalizer<4,>=2 in /opt/anaconda3/envs/pytorch/lib/python3.10/site-packages (from requests->bert_score) (3.4.1)\n",
      "Requirement already satisfied: idna<4,>=2.5 in /opt/anaconda3/envs/pytorch/lib/python3.10/site-packages (from requests->bert_score) (3.10)\n",
      "Requirement already satisfied: urllib3<3,>=1.21.1 in /opt/anaconda3/envs/pytorch/lib/python3.10/site-packages (from requests->bert_score) (2.4.0)\n",
      "Requirement already satisfied: certifi>=2017.4.17 in /opt/anaconda3/envs/pytorch/lib/python3.10/site-packages (from requests->bert_score) (2025.1.31)\n",
      "Requirement already satisfied: six>=1.5 in /opt/anaconda3/envs/pytorch/lib/python3.10/site-packages (from python-dateutil>=2.8.2->pandas>=1.0.1->bert_score) (1.17.0)\n",
      "Requirement already satisfied: MarkupSafe>=2.0 in /opt/anaconda3/envs/pytorch/lib/python3.10/site-packages (from jinja2->torch>=1.0.0->bert_score) (3.0.2)\n",
      "Downloading bert_score-0.3.13-py3-none-any.whl (61 kB)\n",
      "Installing collected packages: bert_score\n",
      "Successfully installed bert_score-0.3.13\n"
     ]
    }
   ],
   "source": [
    "!pip install bert_score"
   ]
  },
  {
   "cell_type": "code",
   "execution_count": 89,
   "metadata": {},
   "outputs": [
    {
     "name": "stderr",
     "output_type": "stream",
     "text": [
      "Some weights of RobertaModel were not initialized from the model checkpoint at roberta-large and are newly initialized: ['pooler.dense.bias', 'pooler.dense.weight']\n",
      "You should probably TRAIN this model on a down-stream task to be able to use it for predictions and inference.\n"
     ]
    },
    {
     "name": "stdout",
     "output_type": "stream",
     "text": [
      "Summary 1 F1 Score: 0.8207549452781677\n"
     ]
    }
   ],
   "source": [
    "# BERTScore leverages the pre-trained contextual embeddings from BERT and matches words in candidate and reference sentences by cosine similarity.\n",
    "from bert_score import BERTScorer\n",
    "\n",
    "# Instantiate the BERTScorer object for English language\n",
    "scorer = BERTScorer(lang=\"en\")\n",
    "\n",
    "# Calculate BERTScore for the summary 1 against the excerpt\n",
    "# P1, R1, F1_1 represent Precision, Recall, and F1 Score respectively\n",
    "P1, R1, F1_1 = scorer.score([prediction], [reference])\n",
    "\n",
    "print(\"Summary 1 F1 Score:\", F1_1.tolist()[0])"
   ]
  },
  {
   "cell_type": "markdown",
   "metadata": {},
   "source": [
    "## 🚀 Bonus Missions: Go Deeper!\n",
    "\n",
    "Want to take it up a notch? Try these:\n",
    "\n",
    "- 🔄 **Fine-tune** a summarization model on this dataset\n",
    "- 🧱 **Chunk** longer articles into sections for better summaries\n",
    "- 📊 Analyze which topics/models perform better\n",
    "- 📝 Compare **abstractive** vs **extractive** approaches\n",
    "\n",
    "---\n",
    "\n",
    "## 🏁 Wrapping Up\n",
    "\n",
    "You’ve just:\n",
    "- Explored a real research-paper summarization dataset 📄\n",
    "- Used transformers to create automatic summaries 🧠\n",
    "- Evaluated your output with ROUGE scores 📊\n",
    "\n",
    "Congratulations, you're now one step closer to automating scientific summarization! 💡📚✨ Think of what you can do with such models, you could for example train it on this specific scientific paper summarization dataset and use it to summarize your machine learning courses?"
   ]
  }
 ],
 "metadata": {
  "kernelspec": {
   "display_name": "pytorch",
   "language": "python",
   "name": "python3"
  },
  "language_info": {
   "codemirror_mode": {
    "name": "ipython",
    "version": 3
   },
   "file_extension": ".py",
   "mimetype": "text/x-python",
   "name": "python",
   "nbconvert_exporter": "python",
   "pygments_lexer": "ipython3",
   "version": "3.10.16"
  }
 },
 "nbformat": 4,
 "nbformat_minor": 2
}
