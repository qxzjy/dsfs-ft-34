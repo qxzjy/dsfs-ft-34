{
 "cells": [
  {
   "cell_type": "markdown",
   "metadata": {
    "id": "bRV3iNsKyNq8"
   },
   "source": [
    "# Pytorch 💻💻\n",
    "\n",
    "PyTorch is an optimized tensor library for deep learning using GPUs and CPUs.\n",
    "\n",
    "<img src=\"https://full-stack-assets.s3.eu-west-3.amazonaws.com/M08-deep-learning/pytorch-logo.svg\" />"
   ]
  },
  {
   "cell_type": "markdown",
   "metadata": {
    "id": "-JqMYjLz379p"
   },
   "source": [
    "## What you will learn in this course ? 🧐🧐\n",
    "\n",
    "In order to train deep-learning models for computer-vision or Natural Language processing you will need to manipulate and prepare data for it. Therefore we'll learn to manipulate data using pytorch.\n",
    "\n",
    "This lecture will work like a demo that you can follow along where we start with the basics of pytorch and learn how to load data and prepare it for training deep learning models. Here is the outline of the subjects we will cover here :\n",
    "\n",
    "* General introduction to what is pytorch and why we use it?\n",
    "\n",
    "* Understand how to use and navigate the documentation\n",
    "\n",
    "* Intro to pytorch, tensor operations\n",
    "\n",
    "* Data processing with pytorch, how to take different kinds of data and turn them into tensors?\n",
    "\n",
    "## General Introduction\n",
    "\n",
    "The main reasons why we chose to teach you deep learning through pytorch is its growing adoption in the fields of computer vision and natural language processing. Pytorch is also very flexible and customizable, so during the module we will go from learning how to use very simple functionnalities and digging deeper and deeper until you know how to reproduce any deep learning application using the library.\n",
    "\n",
    "## pytorch documentation\n",
    "\n",
    "The tensoflow documentation contains four main sections :\n",
    "\n",
    "* <a href=\"https://pytorch.org/get-started/locally/\">Installation guidelines</a>\n",
    "\n",
    "* <a href=\"https://pytorch.org/tutorials/\">Tutorials</a> with examples on how to use pytorch on practical usecases\n",
    "\n",
    "* <a href=\"https://pytorch.org/tutorials/recipes/recipes_index.html\">Guide</a>, a general walthrough the various functionnalities and additional libraries that come with pytorch\n",
    "\n",
    "* <a href=\"https://pytorch.org/docs/stable/index.html\">Pytorch documentation</a> a classic documentation describing all the different modules of pytorch.\n",
    "\n",
    "\n",
    "\n",
    "Let's take an example page from the documentation so we can explain to you how to navigate, read it, and understand it :\n",
    "\n",
    "\n",
    "## Practical introduction to pytorch on tensor operations\n",
    "\n",
    "The main class of pytorch objects is... you guessed it : Tensors ! Tensors are easily convertible to and from lists and numpy array! This is great news because it means that anything you were able to do with numpy arrays will be possible with tensors as well, also tensors can easily be converted into arrays and the other way around.\n",
    "\n",
    "Let's practice a little together :\n"
   ]
  },
  {
   "cell_type": "code",
   "execution_count": 22,
   "metadata": {
    "colab": {
     "base_uri": "https://localhost:8080/",
     "height": 35
    },
    "executionInfo": {
     "elapsed": 2221,
     "status": "ok",
     "timestamp": 1612357853611,
     "user": {
      "displayName": "Charles Tanguy",
      "photoUrl": "",
      "userId": "11930294859591867631"
     },
     "user_tz": -60
    },
    "id": "HRh3j1SWyMU8",
    "outputId": "8f84abd0-6b1e-42d7-f0f4-1737cd1ec33f"
   },
   "outputs": [
    {
     "name": "stdout",
     "output_type": "stream",
     "text": [
      "2.6.0\n"
     ]
    }
   ],
   "source": [
    "import torch\n",
    "import torch.nn as nn\n",
    "import torch.optim as optim\n",
    "import torch.utils.data as data\n",
    "import numpy as np\n",
    "from sklearn.datasets import load_iris\n",
    "from sklearn.model_selection import train_test_split\n",
    "\n",
    "# Check PyTorch version\n",
    "print(torch.__version__)"
   ]
  },
  {
   "cell_type": "markdown",
   "metadata": {
    "id": "2h7uA7QCBN_9"
   },
   "source": [
    "### Tensor operations"
   ]
  },
  {
   "cell_type": "code",
   "execution_count": 23,
   "metadata": {
    "colab": {
     "base_uri": "https://localhost:8080/"
    },
    "executionInfo": {
     "elapsed": 480,
     "status": "ok",
     "timestamp": 1612358012805,
     "user": {
      "displayName": "Charles Tanguy",
      "photoUrl": "",
      "userId": "11930294859591867631"
     },
     "user_tz": -60
    },
    "id": "QIN344MYBYcH",
    "outputId": "0af524cd-bfcc-4b3c-dc1e-ed5ec9d67986"
   },
   "outputs": [
    {
     "name": "stdout",
     "output_type": "stream",
     "text": [
      "tensor([[1, 2],\n",
      "        [3, 4]])\n"
     ]
    }
   ],
   "source": [
    "# Create tensors \n",
    "tensor = torch.tensor([[1, 2], [3, 4]])\n",
    "print(tensor)"
   ]
  },
  {
   "cell_type": "code",
   "execution_count": 24,
   "metadata": {
    "colab": {
     "base_uri": "https://localhost:8080/"
    },
    "executionInfo": {
     "elapsed": 479,
     "status": "ok",
     "timestamp": 1612358240922,
     "user": {
      "displayName": "Charles Tanguy",
      "photoUrl": "",
      "userId": "11930294859591867631"
     },
     "user_tz": -60
    },
    "id": "Sjx6LWteB7fa",
    "outputId": "ab2bbe6f-3abf-4f3a-c8d0-bbf823e83a65"
   },
   "outputs": [
    {
     "name": "stdout",
     "output_type": "stream",
     "text": [
      "tensor([[6, 7],\n",
      "        [8, 9]])\n",
      "tensor([[6, 7],\n",
      "        [8, 9]])\n"
     ]
    }
   ],
   "source": [
    "# Adding a scalar\n",
    "print(tensor + 5)\n",
    "# We summing elements with different shapes, something called broadcasting\n",
    "# happens, that expands the smaller object so it can be added to the larger \n",
    "# object\n",
    "# It's equivalent to this operation\n",
    "print(tensor + torch.tensor([[5, 5], [5, 5]]))"
   ]
  },
  {
   "cell_type": "code",
   "execution_count": 25,
   "metadata": {
    "colab": {
     "base_uri": "https://localhost:8080/"
    },
    "executionInfo": {
     "elapsed": 761,
     "status": "ok",
     "timestamp": 1612358356765,
     "user": {
      "displayName": "Charles Tanguy",
      "photoUrl": "",
      "userId": "11930294859591867631"
     },
     "user_tz": -60
    },
    "id": "36S_agBlCpL_",
    "outputId": "8059d4bd-8398-4007-b2b0-1ea090e5ef0f"
   },
   "outputs": [
    {
     "name": "stdout",
     "output_type": "stream",
     "text": [
      "tensor([[ 6,  8],\n",
      "        [10, 12]])\n"
     ]
    }
   ],
   "source": [
    "# Adding tensors of the same shape\n",
    "tensor2 = torch.tensor([[5, 6], [7, 8]])\n",
    "print(tensor + tensor2)"
   ]
  },
  {
   "cell_type": "code",
   "execution_count": 26,
   "metadata": {
    "colab": {
     "base_uri": "https://localhost:8080/"
    },
    "executionInfo": {
     "elapsed": 519,
     "status": "ok",
     "timestamp": 1612358467300,
     "user": {
      "displayName": "Charles Tanguy",
      "photoUrl": "",
      "userId": "11930294859591867631"
     },
     "user_tz": -60
    },
    "id": "0qDL9obCDDXL",
    "outputId": "4e9f7f3c-f7cc-4559-ec83-29d60a461dcb"
   },
   "outputs": [
    {
     "name": "stdout",
     "output_type": "stream",
     "text": [
      "tensor([[2, 4],\n",
      "        [4, 6]])\n",
      "tensor([[2, 4],\n",
      "        [4, 6]])\n"
     ]
    }
   ],
   "source": [
    "# Adding tensors with broadcasting\n",
    "tensor3 = torch.tensor([1, 2])\n",
    "print(tensor + tensor3)\n",
    "print(tensor + torch.tensor([[1, 2], [1, 2]]))\n"
   ]
  },
  {
   "cell_type": "code",
   "execution_count": 27,
   "metadata": {
    "colab": {
     "base_uri": "https://localhost:8080/"
    },
    "executionInfo": {
     "elapsed": 696,
     "status": "ok",
     "timestamp": 1612359643052,
     "user": {
      "displayName": "Charles Tanguy",
      "photoUrl": "",
      "userId": "11930294859591867631"
     },
     "user_tz": -60
    },
    "id": "kvU-Ko9yDpv8",
    "outputId": "67aa003e-e66f-442c-e981-47581ad521be"
   },
   "outputs": [
    {
     "name": "stdout",
     "output_type": "stream",
     "text": [
      "tensor([[2, 3],\n",
      "        [5, 6]])\n",
      "tensor([[2, 3],\n",
      "        [5, 6]])\n"
     ]
    }
   ],
   "source": [
    "tensor4 = torch.tensor([[1], [2]])\n",
    "print(tensor + tensor4)\n",
    "print(tensor + torch.tensor([[1, 1], [2, 2]]))"
   ]
  },
  {
   "cell_type": "code",
   "execution_count": 28,
   "metadata": {
    "colab": {
     "base_uri": "https://localhost:8080/"
    },
    "executionInfo": {
     "elapsed": 977,
     "status": "ok",
     "timestamp": 1612359662515,
     "user": {
      "displayName": "Charles Tanguy",
      "photoUrl": "",
      "userId": "11930294859591867631"
     },
     "user_tz": -60
    },
    "id": "SFWnPzTlH6xz",
    "outputId": "e21bb294-6260-474d-db48-973dc2d01a51"
   },
   "outputs": [
    {
     "name": "stdout",
     "output_type": "stream",
     "text": [
      "tensor([[ 4,  8],\n",
      "        [12, 16]])\n"
     ]
    }
   ],
   "source": [
    "# Multiplication by a scalar\n",
    "print(tensor * 4)"
   ]
  },
  {
   "cell_type": "code",
   "execution_count": 29,
   "metadata": {
    "colab": {
     "base_uri": "https://localhost:8080/"
    },
    "executionInfo": {
     "elapsed": 339,
     "status": "ok",
     "timestamp": 1612359886554,
     "user": {
      "displayName": "Charles Tanguy",
      "photoUrl": "",
      "userId": "11930294859591867631"
     },
     "user_tz": -60
    },
    "id": "AlBPpx4VIrVP",
    "outputId": "9262a5ed-727c-4034-a065-017a936b24e3"
   },
   "outputs": [
    {
     "name": "stdout",
     "output_type": "stream",
     "text": [
      "tensor([[ 5, 12],\n",
      "        [21, 32]])\n",
      "tensor([[1, 4],\n",
      "        [3, 8]])\n",
      "tensor([[1, 2],\n",
      "        [6, 8]])\n"
     ]
    }
   ],
   "source": [
    "# Pointwise multiplication by a tensor of same shape\n",
    "print(tensor * tensor2)\n",
    "# Element-wise multiplication with broadcasting\n",
    "print(tensor * tensor3)\n",
    "print(tensor * tensor4)"
   ]
  },
  {
   "cell_type": "code",
   "execution_count": 30,
   "metadata": {
    "colab": {
     "base_uri": "https://localhost:8080/"
    },
    "executionInfo": {
     "elapsed": 985,
     "status": "ok",
     "timestamp": 1612359942778,
     "user": {
      "displayName": "Charles Tanguy",
      "photoUrl": "",
      "userId": "11930294859591867631"
     },
     "user_tz": -60
    },
    "id": "NgglNxAWI62A",
    "outputId": "1fcf0180-6383-477c-f3ac-d3ac6a569f4e"
   },
   "outputs": [
    {
     "name": "stdout",
     "output_type": "stream",
     "text": [
      "tensor([[1, 4],\n",
      "        [3, 8]])\n",
      "tensor([[1, 2],\n",
      "        [6, 8]])\n"
     ]
    }
   ],
   "source": [
    "# Pointwise multiplication of tensors of different shapes\n",
    "print(tensor * tensor3)\n",
    "print(tensor * tensor4)"
   ]
  },
  {
   "cell_type": "code",
   "execution_count": 31,
   "metadata": {
    "colab": {
     "base_uri": "https://localhost:8080/"
    },
    "executionInfo": {
     "elapsed": 483,
     "status": "ok",
     "timestamp": 1612360121712,
     "user": {
      "displayName": "Charles Tanguy",
      "photoUrl": "",
      "userId": "11930294859591867631"
     },
     "user_tz": -60
    },
    "id": "K3btMj_4JFeY",
    "outputId": "0cb13aca-a9cd-48b9-ec9b-00941bf6682c"
   },
   "outputs": [
    {
     "name": "stdout",
     "output_type": "stream",
     "text": [
      "tensor([[19, 22],\n",
      "        [43, 50]])\n",
      "tensor([[ 5],\n",
      "        [11]])\n"
     ]
    }
   ],
   "source": [
    "# Matrix multiplication\n",
    "print(torch.matmul(tensor, tensor2))\n",
    "print(torch.matmul(tensor, tensor4))"
   ]
  },
  {
   "cell_type": "markdown",
   "metadata": {
    "id": "_R8v3x1cLj7w"
   },
   "source": [
    "### Useful tensor attributes and methods\n",
    "Here we present some common attributes and methods of tensors (we will discover many more in the future but these are really fundamental)"
   ]
  },
  {
   "cell_type": "code",
   "execution_count": 32,
   "metadata": {
    "colab": {
     "base_uri": "https://localhost:8080/"
    },
    "executionInfo": {
     "elapsed": 469,
     "status": "ok",
     "timestamp": 1612360687056,
     "user": {
      "displayName": "Charles Tanguy",
      "photoUrl": "",
      "userId": "11930294859591867631"
     },
     "user_tz": -60
    },
    "id": "SSOO133TLxPP",
    "outputId": "c1549709-05cc-4acb-94d0-6db62f2288f2"
   },
   "outputs": [
    {
     "data": {
      "text/plain": [
       "array([[1, 2],\n",
       "       [3, 4]])"
      ]
     },
     "execution_count": 32,
     "metadata": {},
     "output_type": "execute_result"
    }
   ],
   "source": [
    "tensor.numpy() # converts the tensor to a numpy array"
   ]
  },
  {
   "cell_type": "code",
   "execution_count": 33,
   "metadata": {
    "colab": {
     "base_uri": "https://localhost:8080/"
    },
    "executionInfo": {
     "elapsed": 762,
     "status": "ok",
     "timestamp": 1612360708242,
     "user": {
      "displayName": "Charles Tanguy",
      "photoUrl": "",
      "userId": "11930294859591867631"
     },
     "user_tz": -60
    },
    "id": "l18J3e_-L66x",
    "outputId": "b16d63eb-2319-4632-9ba4-348e6f8bd051"
   },
   "outputs": [
    {
     "data": {
      "text/plain": [
       "torch.Size([2, 2])"
      ]
     },
     "execution_count": 33,
     "metadata": {},
     "output_type": "execute_result"
    }
   ],
   "source": [
    "tensor.shape # gives the shape of the tensor"
   ]
  },
  {
   "cell_type": "code",
   "execution_count": 34,
   "metadata": {
    "colab": {
     "base_uri": "https://localhost:8080/"
    },
    "executionInfo": {
     "elapsed": 752,
     "status": "ok",
     "timestamp": 1612360736279,
     "user": {
      "displayName": "Charles Tanguy",
      "photoUrl": "",
      "userId": "11930294859591867631"
     },
     "user_tz": -60
    },
    "id": "N4SFnQ7qL_5t",
    "outputId": "eccfae6f-758c-48bd-8830-4cded3ac351b"
   },
   "outputs": [
    {
     "name": "stdout",
     "output_type": "stream",
     "text": [
      "tensor([[1],\n",
      "        [2],\n",
      "        [3],\n",
      "        [4]])\n"
     ]
    }
   ],
   "source": [
    "print(tensor.view(-1, 1))  # Equivalent to reshape"
   ]
  },
  {
   "cell_type": "markdown",
   "metadata": {
    "id": "XgjcNsDiNah8"
   },
   "source": [
    "## Data processing with pytorch\n",
    "\n",
    "In this part we will see an example of processing tabular data with pytorch"
   ]
  },
  {
   "cell_type": "code",
   "execution_count": 35,
   "metadata": {
    "id": "epNznsnwNoNf"
   },
   "outputs": [],
   "source": [
    "# Load dataset\n",
    "iris = load_iris()\n",
    "features, target = iris.data, iris.target\n"
   ]
  },
  {
   "cell_type": "code",
   "execution_count": 36,
   "metadata": {
    "colab": {
     "base_uri": "https://localhost:8080/"
    },
    "executionInfo": {
     "elapsed": 775,
     "status": "ok",
     "timestamp": 1612361729153,
     "user": {
      "displayName": "Charles Tanguy",
      "photoUrl": "",
      "userId": "11930294859591867631"
     },
     "user_tz": -60
    },
    "id": "o-JbAnbeN2fA",
    "outputId": "d011bdff-fd7f-495c-93a9-d4445da39f47"
   },
   "outputs": [
    {
     "name": "stdout",
     "output_type": "stream",
     "text": [
      "x: tensor([[6.3000, 2.5000, 4.9000, 1.5000],\n",
      "        [6.8000, 3.0000, 5.5000, 2.1000],\n",
      "        [7.7000, 2.6000, 6.9000, 2.3000],\n",
      "        [5.6000, 2.9000, 3.6000, 1.3000],\n",
      "        [6.6000, 2.9000, 4.6000, 1.3000],\n",
      "        [4.9000, 3.1000, 1.5000, 0.1000],\n",
      "        [5.2000, 4.1000, 1.5000, 0.1000],\n",
      "        [5.3000, 3.7000, 1.5000, 0.2000]])\n",
      "y: tensor([1, 2, 2, 1, 1, 0, 0, 0])\n"
     ]
    }
   ],
   "source": [
    "# To train deep learning models, we will use batch gradient descent\n",
    "# Therefore we are going to form batch datasets with pytorch\n",
    "\n",
    "from sklearn.model_selection import train_test_split\n",
    "X_train, X_test, y_train, y_test = train_test_split(features,target)\n",
    "\n",
    "# Convert dataset to PyTorch tensors\n",
    "X_train_tensor = torch.tensor(X_train, dtype=torch.float32)\n",
    "y_train_tensor = torch.tensor(y_train, dtype=torch.long)\n",
    "X_test_tensor = torch.tensor(X_test, dtype=torch.float32)\n",
    "y_test_tensor = torch.tensor(y_test, dtype=torch.long)\n",
    "\n",
    "# Create PyTorch Dataset and DataLoader\n",
    "train_dataset = data.TensorDataset(X_train_tensor, y_train_tensor)\n",
    "test_dataset = data.TensorDataset(X_test_tensor, y_test_tensor)\n",
    "\n",
    "# Shuffle and batch data\n",
    "train_loader = data.DataLoader(train_dataset, batch_size=8, shuffle=True)\n",
    "test_loader = data.DataLoader(test_dataset, batch_size=8, shuffle=True)\n",
    "\n",
    "# Extract a sample batch\n",
    "for x, y in train_loader:\n",
    "    print('x:', x)\n",
    "    print('y:', y)\n",
    "    break"
   ]
  },
  {
   "cell_type": "markdown",
   "metadata": {
    "id": "HKh1mJMET5Aq"
   },
   "source": [
    "You now know a little bit about pytorch and how to process data now go have some practice on your own with the exercises!"
   ]
  },
  {
   "cell_type": "markdown",
   "metadata": {
    "id": "iB7wf0GFU3_j"
   },
   "source": [
    "## Ressources 📚📚\n",
    "\n",
    "* <a href=\"https://www.tensorflow.org/tutorials/load_data/csv\"> A tensorflow tutorial that goes a little further than what we have seen here </a>"
   ]
  }
 ],
 "metadata": {
  "colab": {
   "authorship_tag": "ABX9TyM9aLL3QyJ5mk9GMvdeMskn",
   "collapsed_sections": [],
   "name": "02-Tensorflow.ipynb",
   "provenance": []
  },
  "kernelspec": {
   "display_name": "pytorch",
   "language": "python",
   "name": "python3"
  },
  "language_info": {
   "codemirror_mode": {
    "name": "ipython",
    "version": 3
   },
   "file_extension": ".py",
   "mimetype": "text/x-python",
   "name": "python",
   "nbconvert_exporter": "python",
   "pygments_lexer": "ipython3",
   "version": "3.10.16"
  }
 },
 "nbformat": 4,
 "nbformat_minor": 1
}
