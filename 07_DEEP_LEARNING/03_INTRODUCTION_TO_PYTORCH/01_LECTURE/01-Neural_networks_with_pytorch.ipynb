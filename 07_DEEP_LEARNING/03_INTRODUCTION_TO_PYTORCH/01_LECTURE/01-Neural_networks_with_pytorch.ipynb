{
 "cells": [
  {
   "cell_type": "markdown",
   "metadata": {},
   "source": [
    "# Neural Networks with PyTorch 🧠🧠\n",
    "\n",
    "Now that we have learned some theory and code-free practical intuition about neural networks as well as the basics of data manipulation with PyTorch, it is time to start building models ourselves using its deep learning module: `torch.nn`!\n",
    "\n",
    "## What will you learn in this course?\n",
    "\n",
    "This course will focus on building our first neural networks using Python code with the help of PyTorch.\n",
    "\n",
    "* The `torch.nn` Module\n",
    "  * Fully Connected (Linear) layer\n",
    "  * BatchNormalization layer\n",
    "  * Dropout layer\n",
    "* Activation functions  \n",
    "* Regularizers\n",
    "* The `torch.nn.Module` class\n",
    "  * The Sequential class\n",
    "  * Defining custom models using `nn.Module`\n",
    "  * Making a forward pass with the model\n",
    "  * Manipulations on model objects\n",
    "    * Extract outputs from a layer\n",
    "    * Extract weights with `.parameters()`\n",
    "    * Manually change weights\n",
    "* Prepare the model for training\n",
    "  * Loss functions\n",
    "  * Optimizers\n",
    "    * ADAM\n",
    "    * Learning rate scheduling\n",
    "  * Training loop\n",
    "* Model training\n",
    "* Making predictions\n",
    "* Saving and loading models\n",
    "  * Checkpoints\n",
    "  * Save \n",
    "  * Load\n",
    "\n",
    "Everything in PyTorch is organized using `torch.nn`, and each building block of a deep learning model will be defined using objects from this module. Let's explore them one by one!\n",
    "\n",
    "## The `nn.Module` Class 🚀🚀\n",
    "\n",
    "You can learn everything in the [PyTorch documentation](https://pytorch.org/docs/stable/nn.html). This module contains different types of neural network layers that can be added to model architectures.\n",
    "\n",
    "### The Fully Connected (Linear) Layer 💃\n",
    "\n",
    "The `Linear` layer in PyTorch builds a fully connected neuron layer.\n",
    "\n",
    "<img src=\"https://full-stack-assets.s3.eu-west-3.amazonaws.com/images/M08-DeepLearning/Dense2.png\" />\n",
    "\n",
    "This layer's neurons multiply each input value with a parameter, computes the sum, adds a bias, before applying an activation function. Let's see how to use it:"
   ]
  },
  {
   "cell_type": "code",
   "execution_count": 15,
   "metadata": {},
   "outputs": [],
   "source": [
    "# !pip install torch torchinfo torchviz"
   ]
  },
  {
   "cell_type": "code",
   "execution_count": 16,
   "metadata": {},
   "outputs": [
    {
     "name": "stdout",
     "output_type": "stream",
     "text": [
      "tensor([[0.7261, 0.1195]], grad_fn=<AddmmBackward0>)\n"
     ]
    }
   ],
   "source": [
    "import torch\n",
    "import torch.nn as nn\n",
    "import torch.nn.functional as F\n",
    "\n",
    "linear = nn.Linear(in_features=3, out_features=2)\n",
    "# in_features: number of input features\n",
    "# out_features: number of output neurons\n",
    "\n",
    "# Example forward pass\n",
    "x = torch.randn(1, 3)  # Batch size 1, 3 input features\n",
    "output = linear(x)\n",
    "print(output)"
   ]
  },
  {
   "cell_type": "markdown",
   "metadata": {},
   "source": [
    "### BatchNormalization Layer 📊\n",
    "\n",
    "Batch normalization is a special layer whose role is not to learn patterns in the data but rather, as its name indicates, to normalize the output of the preceding layer so that its values are scaled across one batch of data.\n",
    "\n",
    "<Note type=\"tip\" title=\"Why use BatchNormalisation\">\n",
    "Why use BatchNormalisation? Remember when we were normalising quantitative variables in supervised ML? We were saying that given most models are non-linear, they do not treat numerical values the same depending on the scale (e.g. for logisic regression $ \\sigma(1)-\\sigma(0) \\approx 0.23 $ but $ \\sigma(101) - \\sigma(100) \\approx 0 $).\n",
    "\n",
    "This leads to differences in treatment for variables in the model depending on scale, not information. (e.g. in the case of regularisation it is very clear: regularisation penalizes parameters more and more as they move away from zero, which risks penalizing low scale variables that are generally associated with high parameters more than high scale variables that are generally associated with proportionately lower parameters)\n",
    "\n",
    "In a deep learning model, each layer produces new features that get fed to other layers, if these new features vary in scale, we run into a similar pitfall. BatchNormalisation is useful to counteract that.\n",
    "</Note>\n",
    "\n",
    "<Note type=\"tip\" title=\"BatchNormalisation vs ADAM\">\n",
    "We've mentionned during our gradient descent lesson that the ADAM algorithm helps convergence by adapting the learning for each parameter in the model.\n",
    "\n",
    "Although this may seen redundant with using BatchNormalization because both techniques aim at compensating scale discrepencies in the model, used in conjunction both these techniques participate in improving training stability (gradients direction is not erratic) and convergence speed (it takes less iteration to reach lower loss values).\n",
    "</Note>\n",
    "\n",
    "<img src=\"https://full-stack-assets.s3.eu-west-3.amazonaws.com/images/M08-DeepLearning/BatchNorm3.png\" />\n",
    "\n",
    "As shown in the figure, each of the outputs from the previous layer is normalized independently so each of them has a mean of 0 and a standard deviation of 1.\n",
    "\n",
    "Each new batch passing forward through the network will be normalized accordingly.\n",
    "\n",
    "Now let's see how we can create such a layer with PyTorch!"
   ]
  },
  {
   "cell_type": "code",
   "execution_count": 17,
   "metadata": {},
   "outputs": [
    {
     "name": "stdout",
     "output_type": "stream",
     "text": [
      "tensor([[-0.9047, -1.8772],\n",
      "        [-0.0157,  0.0630],\n",
      "        [ 0.2427,  0.1105],\n",
      "        [-1.0563,  0.9175],\n",
      "        [ 1.7340,  0.7862]], grad_fn=<NativeBatchNormBackward0>)\n"
     ]
    }
   ],
   "source": [
    "bn = nn.BatchNorm1d(num_features=2)\n",
    "# num_features: Number of input features to normalize\n",
    "\n",
    "# Example forward pass\n",
    "x = torch.randn(5, 2)  # Batch size 5, 2 features\n",
    "output = bn(x)\n",
    "print(output)"
   ]
  },
  {
   "cell_type": "markdown",
   "metadata": {},
   "source": [
    "One last thing you need to know about batch normalization: since we are basing the normalization on batches that the network sees throughout the training, which change all the time, this layer will work differently during training and inference.\n",
    "\n",
    "During inference, this layer will use a moving average of the mean and standard deviation calculated during the training process so that the normalization parameters are adapted to all the training data as best as possible. You won't have to worry much about this in practice, but feel free to check the [documentation](https://pytorch.org/docs/stable/generated/torch.nn.BatchNorm1d.html) for more details on how this layer works during inference.\n"
   ]
  },
  {
   "cell_type": "markdown",
   "metadata": {},
   "source": [
    "### DropOut ♻️\n",
    "\n",
    "The DropOut layer is also not a trainable layer; it does not help the model detect patterns in the data but rather helps prevent overfitting.\n",
    "\n",
    "It works in the following way: you can place the DropOut layer between two other layers, and at each batch of data passing forward in the network, it will **randomly** pick a portion of the outputs from the previous layer and set them to 0. This means the next layer will only be able to see a portion of the information that the DropOut layer has not touched, and this available portion changes at every next batch!\n",
    "\n",
    "<Note typt=\"tip\" title=\"Why use DropOut?\">\n",
    "Evidence of the <a href=\"https://full-stack-assets.s3.eu-west-3.amazonaws.com/M08-deep-learning/drop_out_in_conv_net.pdf\">regularization effect of dropout exist</a>. However the effect depends on the drop out rate and should be tuned using hyperparameter tuning techniques such as grid search (which require a lot of computing power for deep learning tasks)\n",
    "\n",
    "1️⃣ Lower Layers (Bottom of the Network)\n",
    "✅ Preserve essential features – The initial layers capture low-level features (e.g., edges in images, simple patterns in tabular data). Applying dropout too early may remove critical information.\n",
    "✅ Helps in deep networks – In very deep networks, a small amount of dropout (e.g., 0.1–0.3) in lower layers can improve generalization.\n",
    "❌ Risk of information loss – High dropout early on can prevent the network from learning robust feature representations.\n",
    "\n",
    "Best Practice: If applying dropout to bottom layers, use a lower dropout rate (e.g., 0.1–0.3).\n",
    "\n",
    "2️⃣ Higher Layers (Top of the Network)\n",
    "✅ Breaks co-adaptation – Dropout works best in fully connected layers near the output, where neurons are more specialized and prone to overfitting.\n",
    "✅ More abstract representations – Later layers learn high-level concepts, and dropout ensures these representations are not overly dependent on specific neurons.\n",
    "✅ Higher dropout rates are effective – Dropout values around 0.3–0.5 in the top layers are often effective in preventing overfitting.\n",
    "\n",
    "Best Practice: Use higher dropout (0.3–0.5) in the final hidden layers before the output layer.\n",
    "</Note>\n",
    "\n",
    "<img src=\"https://full-stack-assets.s3.eu-west-3.amazonaws.com/images/M08-DeepLearning/DropOut3.png\" />\n",
    "\n",
    "Let's now discover how to create a DropOut layer with PyTorch!\n"
   ]
  },
  {
   "cell_type": "code",
   "execution_count": 18,
   "metadata": {},
   "outputs": [],
   "source": [
    "import torch.nn as nn\n",
    "\n",
    "do = nn.Dropout(p=0.2)\n",
    "# The important parameter when instantiating the DropOut layer is p, it \n",
    "# indicates the proportion of outputs from the previous layer that will randomly\n",
    "# be set to zero at each batch passing forward.\n",
    "# The closer to one, the higher proportion of outputs set to zero and harder\n",
    "# it will be for the model to overfit, but also to train.\n",
    "# The closer to zero, the lower proportion of outputs set to zero and the easier\n",
    "# it will be for the model to train, but also overfit.\n"
   ]
  },
  {
   "cell_type": "markdown",
   "metadata": {},
   "source": [
    "## Activation functions 💡💡\n",
    "\n",
    "An exhaustive list of all pre-implemented activation functions in PyTorch may be found in the [official documentation](https://pytorch.org/docs/stable/nn.functional.html).\n",
    "\n",
    "Activation functions can be used in different forms in PyTorch. They can be added as an argument of layer objects and therefore take the form of functions from `torch.nn.functional`:\n"
   ]
  },
  {
   "cell_type": "code",
   "execution_count": 19,
   "metadata": {},
   "outputs": [
    {
     "data": {
      "application/vnd.plotly.v1+json": {
       "config": {
        "plotlyServerURL": "https://plot.ly"
       },
       "data": [
        {
         "mode": "lines",
         "name": "ReLU",
         "type": "scatter",
         "x": {
          "bdata": "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",
          "dtype": "f4"
         },
         "y": {
          "bdata": "AAAAAAAAAAAAAAAAAAAAAAAAAAAAAAAAAAAAAAAAAAAAAAAAAAAAAAAAAAAAAAAAAAAAAAAAAAAAAAAAAAAAAAAAAAAAAAAAAAAAAAAAAAAAAAAAAAAAAAAAAAAAAAAAAAAAAAAAAAAAAAAAAAAAAAAAAAAAAAAAAAAAAAAAAAAAAAAAAAAAAAAAAAAAAAAAAAAAAAAAAAAAAAAAAAAAAAAAAAAAAAAAAAAAAAAAAAAAAAAAAAAAAAAAAAAAAAAAAAAAAAAAAAAAAAAAAAAAAAAAAAAAAAAAAAAAAAAAAAAAAAAAAAAAAAAAAAAAAAAAAAAAAAAAAAAAAAAAAAAAAAAAAAAAAAAAAAAAAAAAAAAAAAAAAAAAAAAAAAAAAAAAAAAAAAAAAAAAAAAAAAAAAAAAAAAAAAAAAAAAAAAAAAAAAAAAAAAAAAAAAAAAAAAAAAAAAAAAAAAAAAAAAAAAAAAAAAAAAAAAAAAAAAAAAAAAAAAAAAAAAAAAAAAAAAAAAAAAAAAAAAAAAAAAAAAAAAAAAAAAAAAAAAAAAAAAAAAAAAAAAAAAAAAAAAAAAAAAAAAAAAAAAAAAAAAAAAAAAAAAAAAAAAAAAAAAAAAAAAAAAAAAAAAAAAAAAAAAAAAAAAAAAAAAAAAAAAAAAAAAAAAAAAAAAAAAAAAAAAAAAAAAAAAAAAAAAAAAAAAAAAAAAAAAAAAAAAAAAAAAAAAAAAAAAAAAAAAAAAAAAAAAAAAAAAAAAAAAAAAAAAAAAAAAAAAAAAAAAAAAAAAAAAAAAAAAAAAAAAAAAAAAAAAAAAAAAAAAAAAAAAAAAAAAAAAAAAAAAAAAAAAAAAAAAAAAAAAAAAAAAAAAAAAAAAAAAAAAAAAAAAAAAAAAAAAAAAAAAAAAAAAAAAAAAAAAAAAAAAAAAAAAAAAAAAAAAAAAAAAAAAAAAAAAAAAAAAAAAAAAAAAAAAAAAAAAAAAAAAAAAAAAAAAAAAAAAAAAAAAAAAAAAAAAAAAAAAAAAAAAAAAAAAAAAAAAAAAAAAAAAAAAAAAAAAAAAAAAAAAAAAAAAAAAAAAAAAAAAAAAAAAAAAAAAAAAAAAAAAAAAAAAAAAAAAAAAAAAAAAAAAAAAAAAAAAAAAAAAAAAAAAAAAAAAAAAAAAAAAAAAAAAAAAAAAAAAAAAAAAAAAAAAAAAAAAAAAAAAAAAAAAAAAAAAAAAAAAAAAAAAAAAAAAAAAAAAAAAAAAAAAAAAAAAAAAAAAAAAAAAAAAAAAAAAAAAAAAAAAAAAAAAAAAAAAAAAAAAAAAAAAAAAAAAAAAAAAAAAAAAAAAAAAAAAAAAAFArJDzAQPY87DVNPbyljz2CsLg9SLvhPQdjBT5q6Bk+zW0uPjDzQj6TeFc+9v1rPqxBgD5ehIo+EMeUPsEJnz5yTKk+JI+zPtbRvT6HFMg+OFfSPuqZ3D6c3OY+TR/xPv5h+z5Y0gI/sfMHPwoVDT9iNhI/u1cXPxR5HD9smiE/xbsmPx7dKz93/jA/0B82PyhBOz+BYkA/2oNFPzKlSj+Lxk8/5OdUPz0JWj+WKl8/7ktkP0dtaT+gjm4/+K9zP1HReD+q8n0/AYqBP64ahD9aq4Y/BjyJP7PMiz9fXY4/DO6QP7h+kz9kD5Y/EaCYP70wmz9qwZ0/FlKgP8Lioj9vc6U/GwSoP8eUqj90Ja0/ILavP8xGsj9517Q/JWi3P9L4uT9+ibw/Khq/P9eqwT+DO8Q/MMzGP9xcyT+I7cs/NX7OP+EO0T+Nn9M/OjDWP+bA2D+SUds/P+LdP+ty4D+YA+M/RJTlP/Ak6D+dteo/SUbtP/bW7z+iZ/I/Tvj0P/uI9z+nGfo/U6r8PwA7/z/W5QBALC4CQIJ2A0DZvgRALwcGQIVPB0DblwhAMeAJQIgoC0DecAxANLkNQIoBD0DgSRBANpIRQI3aEkDjIhRAOWsVQI+zFkDl+xdAPEQZQJKMGkDo1BtAPh0dQJRlHkDrrR9AQfYgQJc+IkDthiNAQ88kQJoXJkDwXydARqgoQJzwKUDyOCtASIEsQJ/JLUD1ES9AS1owQKGiMUD36jJATjM0QKR7NUD6wzZAUAw4QKZUOUD8nDpAU+U7QKktPUD/dT5AVb4/QKsGQUACT0JAWJdDQK7fREAEKEZAWnBHQLG4SEAHAUpAXUlLQLORTEAJ2k1AYCJPQLZqUEAMs1FAYvtSQLhDVEAOjFVAZdRWQLscWEARZVlAZ61aQL31W0AUPl1AaoZeQMDOX0AWF2FAbF9iQMKnY0AZ8GRAbzhmQMWAZ0AbyWhAcRFqQMhZa0AeomxAdOptQMoyb0Age3BAd8NxQM0Lc0AjVHRAeZx1QM/kdkAmLXhAfHV5QNK9ekAoBnxAfk59QNSWfkAr339AwJOAQOw3gUAX3IFAQoCCQG0kg0CYyINAw2yEQO4QhUAZtYVARFmGQG/9hkCaoYdAxkWIQPHpiEAcjolARzKKQHLWikCdeotAyB6MQPPCjEAeZ41ASQuOQHSvjkCgU49Ay/ePQPabkEAhQJFATOSRQHeIkkCiLJNAzdCTQPh0lEAjGZVATr2VQHphlkClBZdA0KmXQPtNmEAm8phAUZaZQHw6mkCn3ppA0oKbQP0mnEApy5xAVG+dQH8TnkCqt55A1VufQAAAoEA=",
          "dtype": "f4"
         }
        },
        {
         "mode": "lines",
         "name": "Sigmoid",
         "type": "scatter",
         "x": {
          "bdata": "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",
          "dtype": "f4"
         },
         "y": {
          "bdata": "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",
          "dtype": "f4"
         }
        },
        {
         "mode": "lines",
         "name": "TanH",
         "type": "scatter",
         "x": {
          "bdata": "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",
          "dtype": "f4"
         },
         "y": {
          "bdata": "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",
          "dtype": "f4"
         }
        }
       ],
       "layout": {
        "template": {
         "data": {
          "bar": [
           {
            "error_x": {
             "color": "#2a3f5f"
            },
            "error_y": {
             "color": "#2a3f5f"
            },
            "marker": {
             "line": {
              "color": "#E5ECF6",
              "width": 0.5
             },
             "pattern": {
              "fillmode": "overlay",
              "size": 10,
              "solidity": 0.2
             }
            },
            "type": "bar"
           }
          ],
          "barpolar": [
           {
            "marker": {
             "line": {
              "color": "#E5ECF6",
              "width": 0.5
             },
             "pattern": {
              "fillmode": "overlay",
              "size": 10,
              "solidity": 0.2
             }
            },
            "type": "barpolar"
           }
          ],
          "carpet": [
           {
            "aaxis": {
             "endlinecolor": "#2a3f5f",
             "gridcolor": "white",
             "linecolor": "white",
             "minorgridcolor": "white",
             "startlinecolor": "#2a3f5f"
            },
            "baxis": {
             "endlinecolor": "#2a3f5f",
             "gridcolor": "white",
             "linecolor": "white",
             "minorgridcolor": "white",
             "startlinecolor": "#2a3f5f"
            },
            "type": "carpet"
           }
          ],
          "choropleth": [
           {
            "colorbar": {
             "outlinewidth": 0,
             "ticks": ""
            },
            "type": "choropleth"
           }
          ],
          "contour": [
           {
            "colorbar": {
             "outlinewidth": 0,
             "ticks": ""
            },
            "colorscale": [
             [
              0,
              "#0d0887"
             ],
             [
              0.1111111111111111,
              "#46039f"
             ],
             [
              0.2222222222222222,
              "#7201a8"
             ],
             [
              0.3333333333333333,
              "#9c179e"
             ],
             [
              0.4444444444444444,
              "#bd3786"
             ],
             [
              0.5555555555555556,
              "#d8576b"
             ],
             [
              0.6666666666666666,
              "#ed7953"
             ],
             [
              0.7777777777777778,
              "#fb9f3a"
             ],
             [
              0.8888888888888888,
              "#fdca26"
             ],
             [
              1,
              "#f0f921"
             ]
            ],
            "type": "contour"
           }
          ],
          "contourcarpet": [
           {
            "colorbar": {
             "outlinewidth": 0,
             "ticks": ""
            },
            "type": "contourcarpet"
           }
          ],
          "heatmap": [
           {
            "colorbar": {
             "outlinewidth": 0,
             "ticks": ""
            },
            "colorscale": [
             [
              0,
              "#0d0887"
             ],
             [
              0.1111111111111111,
              "#46039f"
             ],
             [
              0.2222222222222222,
              "#7201a8"
             ],
             [
              0.3333333333333333,
              "#9c179e"
             ],
             [
              0.4444444444444444,
              "#bd3786"
             ],
             [
              0.5555555555555556,
              "#d8576b"
             ],
             [
              0.6666666666666666,
              "#ed7953"
             ],
             [
              0.7777777777777778,
              "#fb9f3a"
             ],
             [
              0.8888888888888888,
              "#fdca26"
             ],
             [
              1,
              "#f0f921"
             ]
            ],
            "type": "heatmap"
           }
          ],
          "histogram": [
           {
            "marker": {
             "pattern": {
              "fillmode": "overlay",
              "size": 10,
              "solidity": 0.2
             }
            },
            "type": "histogram"
           }
          ],
          "histogram2d": [
           {
            "colorbar": {
             "outlinewidth": 0,
             "ticks": ""
            },
            "colorscale": [
             [
              0,
              "#0d0887"
             ],
             [
              0.1111111111111111,
              "#46039f"
             ],
             [
              0.2222222222222222,
              "#7201a8"
             ],
             [
              0.3333333333333333,
              "#9c179e"
             ],
             [
              0.4444444444444444,
              "#bd3786"
             ],
             [
              0.5555555555555556,
              "#d8576b"
             ],
             [
              0.6666666666666666,
              "#ed7953"
             ],
             [
              0.7777777777777778,
              "#fb9f3a"
             ],
             [
              0.8888888888888888,
              "#fdca26"
             ],
             [
              1,
              "#f0f921"
             ]
            ],
            "type": "histogram2d"
           }
          ],
          "histogram2dcontour": [
           {
            "colorbar": {
             "outlinewidth": 0,
             "ticks": ""
            },
            "colorscale": [
             [
              0,
              "#0d0887"
             ],
             [
              0.1111111111111111,
              "#46039f"
             ],
             [
              0.2222222222222222,
              "#7201a8"
             ],
             [
              0.3333333333333333,
              "#9c179e"
             ],
             [
              0.4444444444444444,
              "#bd3786"
             ],
             [
              0.5555555555555556,
              "#d8576b"
             ],
             [
              0.6666666666666666,
              "#ed7953"
             ],
             [
              0.7777777777777778,
              "#fb9f3a"
             ],
             [
              0.8888888888888888,
              "#fdca26"
             ],
             [
              1,
              "#f0f921"
             ]
            ],
            "type": "histogram2dcontour"
           }
          ],
          "mesh3d": [
           {
            "colorbar": {
             "outlinewidth": 0,
             "ticks": ""
            },
            "type": "mesh3d"
           }
          ],
          "parcoords": [
           {
            "line": {
             "colorbar": {
              "outlinewidth": 0,
              "ticks": ""
             }
            },
            "type": "parcoords"
           }
          ],
          "pie": [
           {
            "automargin": true,
            "type": "pie"
           }
          ],
          "scatter": [
           {
            "fillpattern": {
             "fillmode": "overlay",
             "size": 10,
             "solidity": 0.2
            },
            "type": "scatter"
           }
          ],
          "scatter3d": [
           {
            "line": {
             "colorbar": {
              "outlinewidth": 0,
              "ticks": ""
             }
            },
            "marker": {
             "colorbar": {
              "outlinewidth": 0,
              "ticks": ""
             }
            },
            "type": "scatter3d"
           }
          ],
          "scattercarpet": [
           {
            "marker": {
             "colorbar": {
              "outlinewidth": 0,
              "ticks": ""
             }
            },
            "type": "scattercarpet"
           }
          ],
          "scattergeo": [
           {
            "marker": {
             "colorbar": {
              "outlinewidth": 0,
              "ticks": ""
             }
            },
            "type": "scattergeo"
           }
          ],
          "scattergl": [
           {
            "marker": {
             "colorbar": {
              "outlinewidth": 0,
              "ticks": ""
             }
            },
            "type": "scattergl"
           }
          ],
          "scattermap": [
           {
            "marker": {
             "colorbar": {
              "outlinewidth": 0,
              "ticks": ""
             }
            },
            "type": "scattermap"
           }
          ],
          "scattermapbox": [
           {
            "marker": {
             "colorbar": {
              "outlinewidth": 0,
              "ticks": ""
             }
            },
            "type": "scattermapbox"
           }
          ],
          "scatterpolar": [
           {
            "marker": {
             "colorbar": {
              "outlinewidth": 0,
              "ticks": ""
             }
            },
            "type": "scatterpolar"
           }
          ],
          "scatterpolargl": [
           {
            "marker": {
             "colorbar": {
              "outlinewidth": 0,
              "ticks": ""
             }
            },
            "type": "scatterpolargl"
           }
          ],
          "scatterternary": [
           {
            "marker": {
             "colorbar": {
              "outlinewidth": 0,
              "ticks": ""
             }
            },
            "type": "scatterternary"
           }
          ],
          "surface": [
           {
            "colorbar": {
             "outlinewidth": 0,
             "ticks": ""
            },
            "colorscale": [
             [
              0,
              "#0d0887"
             ],
             [
              0.1111111111111111,
              "#46039f"
             ],
             [
              0.2222222222222222,
              "#7201a8"
             ],
             [
              0.3333333333333333,
              "#9c179e"
             ],
             [
              0.4444444444444444,
              "#bd3786"
             ],
             [
              0.5555555555555556,
              "#d8576b"
             ],
             [
              0.6666666666666666,
              "#ed7953"
             ],
             [
              0.7777777777777778,
              "#fb9f3a"
             ],
             [
              0.8888888888888888,
              "#fdca26"
             ],
             [
              1,
              "#f0f921"
             ]
            ],
            "type": "surface"
           }
          ],
          "table": [
           {
            "cells": {
             "fill": {
              "color": "#EBF0F8"
             },
             "line": {
              "color": "white"
             }
            },
            "header": {
             "fill": {
              "color": "#C8D4E3"
             },
             "line": {
              "color": "white"
             }
            },
            "type": "table"
           }
          ]
         },
         "layout": {
          "annotationdefaults": {
           "arrowcolor": "#2a3f5f",
           "arrowhead": 0,
           "arrowwidth": 1
          },
          "autotypenumbers": "strict",
          "coloraxis": {
           "colorbar": {
            "outlinewidth": 0,
            "ticks": ""
           }
          },
          "colorscale": {
           "diverging": [
            [
             0,
             "#8e0152"
            ],
            [
             0.1,
             "#c51b7d"
            ],
            [
             0.2,
             "#de77ae"
            ],
            [
             0.3,
             "#f1b6da"
            ],
            [
             0.4,
             "#fde0ef"
            ],
            [
             0.5,
             "#f7f7f7"
            ],
            [
             0.6,
             "#e6f5d0"
            ],
            [
             0.7,
             "#b8e186"
            ],
            [
             0.8,
             "#7fbc41"
            ],
            [
             0.9,
             "#4d9221"
            ],
            [
             1,
             "#276419"
            ]
           ],
           "sequential": [
            [
             0,
             "#0d0887"
            ],
            [
             0.1111111111111111,
             "#46039f"
            ],
            [
             0.2222222222222222,
             "#7201a8"
            ],
            [
             0.3333333333333333,
             "#9c179e"
            ],
            [
             0.4444444444444444,
             "#bd3786"
            ],
            [
             0.5555555555555556,
             "#d8576b"
            ],
            [
             0.6666666666666666,
             "#ed7953"
            ],
            [
             0.7777777777777778,
             "#fb9f3a"
            ],
            [
             0.8888888888888888,
             "#fdca26"
            ],
            [
             1,
             "#f0f921"
            ]
           ],
           "sequentialminus": [
            [
             0,
             "#0d0887"
            ],
            [
             0.1111111111111111,
             "#46039f"
            ],
            [
             0.2222222222222222,
             "#7201a8"
            ],
            [
             0.3333333333333333,
             "#9c179e"
            ],
            [
             0.4444444444444444,
             "#bd3786"
            ],
            [
             0.5555555555555556,
             "#d8576b"
            ],
            [
             0.6666666666666666,
             "#ed7953"
            ],
            [
             0.7777777777777778,
             "#fb9f3a"
            ],
            [
             0.8888888888888888,
             "#fdca26"
            ],
            [
             1,
             "#f0f921"
            ]
           ]
          },
          "colorway": [
           "#636efa",
           "#EF553B",
           "#00cc96",
           "#ab63fa",
           "#FFA15A",
           "#19d3f3",
           "#FF6692",
           "#B6E880",
           "#FF97FF",
           "#FECB52"
          ],
          "font": {
           "color": "#2a3f5f"
          },
          "geo": {
           "bgcolor": "white",
           "lakecolor": "white",
           "landcolor": "#E5ECF6",
           "showlakes": true,
           "showland": true,
           "subunitcolor": "white"
          },
          "hoverlabel": {
           "align": "left"
          },
          "hovermode": "closest",
          "mapbox": {
           "style": "light"
          },
          "paper_bgcolor": "white",
          "plot_bgcolor": "#E5ECF6",
          "polar": {
           "angularaxis": {
            "gridcolor": "white",
            "linecolor": "white",
            "ticks": ""
           },
           "bgcolor": "#E5ECF6",
           "radialaxis": {
            "gridcolor": "white",
            "linecolor": "white",
            "ticks": ""
           }
          },
          "scene": {
           "xaxis": {
            "backgroundcolor": "#E5ECF6",
            "gridcolor": "white",
            "gridwidth": 2,
            "linecolor": "white",
            "showbackground": true,
            "ticks": "",
            "zerolinecolor": "white"
           },
           "yaxis": {
            "backgroundcolor": "#E5ECF6",
            "gridcolor": "white",
            "gridwidth": 2,
            "linecolor": "white",
            "showbackground": true,
            "ticks": "",
            "zerolinecolor": "white"
           },
           "zaxis": {
            "backgroundcolor": "#E5ECF6",
            "gridcolor": "white",
            "gridwidth": 2,
            "linecolor": "white",
            "showbackground": true,
            "ticks": "",
            "zerolinecolor": "white"
           }
          },
          "shapedefaults": {
           "line": {
            "color": "#2a3f5f"
           }
          },
          "ternary": {
           "aaxis": {
            "gridcolor": "white",
            "linecolor": "white",
            "ticks": ""
           },
           "baxis": {
            "gridcolor": "white",
            "linecolor": "white",
            "ticks": ""
           },
           "bgcolor": "#E5ECF6",
           "caxis": {
            "gridcolor": "white",
            "linecolor": "white",
            "ticks": ""
           }
          },
          "title": {
           "x": 0.05
          },
          "xaxis": {
           "automargin": true,
           "gridcolor": "white",
           "linecolor": "white",
           "ticks": "",
           "title": {
            "standoff": 15
           },
           "zerolinecolor": "white",
           "zerolinewidth": 2
          },
          "yaxis": {
           "automargin": true,
           "gridcolor": "white",
           "linecolor": "white",
           "ticks": "",
           "title": {
            "standoff": 15
           },
           "zerolinecolor": "white",
           "zerolinewidth": 2
          }
         }
        }
       }
      }
     },
     "metadata": {},
     "output_type": "display_data"
    }
   ],
   "source": [
    "import torch\n",
    "import torch.nn.functional as F\n",
    "import numpy as np\n",
    "import plotly.graph_objects as go\n",
    "\n",
    "x = torch.linspace(-5, 5, 500)\n",
    "\n",
    "fig = go.Figure(data=[\n",
    "    go.Scatter(x=x.numpy(), y=F.relu(x).numpy(), mode=\"lines\", name=\"ReLU\"),\n",
    "    go.Scatter(x=x.numpy(), y=F.sigmoid(x).numpy(), mode=\"lines\", name=\"Sigmoid\"),\n",
    "    go.Scatter(x=x.numpy(), y=F.tanh(x).numpy(), mode=\"lines\", name=\"TanH\"),\n",
    "])\n",
    "\n",
    "fig.show()\n",
    "\n",
    "# Another activation function we haven't yet talked about but will be useful\n",
    "# for multi-class classification problems is \"softmax\", which we will explore in practice.\n"
   ]
  },
  {
   "cell_type": "markdown",
   "metadata": {},
   "source": [
    "Another way of adding activation functions in a network is to use their layer form from `torch.nn`:"
   ]
  },
  {
   "cell_type": "code",
   "execution_count": 20,
   "metadata": {},
   "outputs": [],
   "source": [
    "import torch.nn as nn\n",
    "\n",
    "relu = nn.ReLU()\n",
    "tanh = nn.Tanh()\n",
    "sigmoid = nn.Sigmoid()"
   ]
  },
  {
   "cell_type": "markdown",
   "metadata": {},
   "source": [
    "## Loss fucntions and Regularization 📐📐\n",
    "\n",
    "Loss functions help measure a model's prediction errors, and gets optimized through parameter fitting during training.\n",
    "\n",
    "In Pytorch, regularization is set up at the Optimizer level."
   ]
  },
  {
   "cell_type": "code",
   "execution_count": 21,
   "metadata": {},
   "outputs": [],
   "source": [
    "import torch.nn as nn\n",
    "# In order to include these in a specific layer, we use weight decay in the optimizer:\n",
    "dense_L2 = nn.Linear(in_features=2, out_features=4)\n",
    "optimizer = torch.optim.Adam(dense_L2.parameters(), lr=0.01, weight_decay=0.01)  # L2 regularization"
   ]
  },
  {
   "cell_type": "markdown",
   "metadata": {},
   "source": [
    "\n",
    "\n",
    "## The Model class 🔮🔮\n",
    "\n",
    "The class `nn.Module` represents objects containing the neural network so that we can easily train them and make predictions, similar to how we use models in scikit-learn. The main advantage here is the flexibility PyTorch provides in building different architectures.\n",
    "\n",
    "### Sequential models ✈️\n",
    "\n",
    "The easiest way to build a neural network model in PyTorch is by using the `nn.Sequential` class. This allows us to create neural network models with layers stacked on top of each other, where the input travels from the bottom layer all the way to the top layer sequentially.\n",
    "\n",
    "Let's see how we can build a simple neural network model using code:"
   ]
  },
  {
   "cell_type": "code",
   "execution_count": 22,
   "metadata": {},
   "outputs": [
    {
     "name": "stdout",
     "output_type": "stream",
     "text": [
      "Sequential(\n",
      "  (0): Linear(in_features=2, out_features=8, bias=True)\n",
      "  (1): ReLU()\n",
      "  (2): BatchNorm1d(8, eps=1e-05, momentum=0.1, affine=True, track_running_stats=True)\n",
      "  (3): Linear(in_features=8, out_features=4, bias=True)\n",
      "  (4): ReLU()\n",
      "  (5): Linear(in_features=4, out_features=1, bias=True)\n",
      "  (6): Sigmoid()\n",
      ")\n"
     ]
    },
    {
     "data": {
      "text/plain": [
       "==========================================================================================\n",
       "Layer (type:depth-idx)                   Output Shape              Param #\n",
       "==========================================================================================\n",
       "Sequential                               [1, 1]                    --\n",
       "├─Linear: 1-1                            [1, 8]                    24\n",
       "├─ReLU: 1-2                              [1, 8]                    --\n",
       "├─BatchNorm1d: 1-3                       [1, 8]                    16\n",
       "├─Linear: 1-4                            [1, 4]                    36\n",
       "├─ReLU: 1-5                              [1, 4]                    --\n",
       "├─Linear: 1-6                            [1, 1]                    5\n",
       "├─Sigmoid: 1-7                           [1, 1]                    --\n",
       "==========================================================================================\n",
       "Total params: 81\n",
       "Trainable params: 81\n",
       "Non-trainable params: 0\n",
       "Total mult-adds (M): 0.00\n",
       "==========================================================================================\n",
       "Input size (MB): 0.00\n",
       "Forward/backward pass size (MB): 0.00\n",
       "Params size (MB): 0.00\n",
       "Estimated Total Size (MB): 0.00\n",
       "=========================================================================================="
      ]
     },
     "execution_count": 22,
     "metadata": {},
     "output_type": "execute_result"
    }
   ],
   "source": [
    "import torch\n",
    "from torchinfo import summary\n",
    "\n",
    "# Creating a sequential model\n",
    "sequential_model = nn.Sequential(\n",
    "    nn.Linear(2, 8),  # Input layer with 2 features and 8 neurons\n",
    "    nn.ReLU(),\n",
    "    nn.BatchNorm1d(8),  # Batch Normalization\n",
    "    nn.Linear(8, 4),\n",
    "    nn.ReLU(),\n",
    "    nn.Linear(4, 1),\n",
    "    nn.Sigmoid()\n",
    ")\n",
    "\n",
    "print(sequential_model)\n",
    "# Print model summary\n",
    "summary(sequential_model, input_size=(1, 2))  # (batch_size, input_features)"
   ]
  },
  {
   "cell_type": "markdown",
   "metadata": {},
   "source": [
    "### Building non-sequential Models 🚀\n",
    "\n",
    "In case you want to create more complicated architectures, you will need to use the `torch.nn.Module` class, which allows you to define custom neural networks layer by layer. Let's see how this works with PyTorch!"
   ]
  },
  {
   "cell_type": "code",
   "execution_count": 23,
   "metadata": {},
   "outputs": [
    {
     "name": "stdout",
     "output_type": "stream",
     "text": [
      "CustomModel(\n",
      "  (dense1): Linear(in_features=2, out_features=8, bias=True)\n",
      "  (bn): BatchNorm1d(8, eps=1e-05, momentum=0.1, affine=True, track_running_stats=True)\n",
      "  (dropout): Dropout(p=0.2, inplace=False)\n",
      "  (dense2a): Linear(in_features=8, out_features=4, bias=True)\n",
      "  (dense2b): Linear(in_features=8, out_features=4, bias=True)\n",
      "  (dense2c): Linear(in_features=4, out_features=4, bias=True)\n",
      "  (dense3): Linear(in_features=8, out_features=1, bias=True)\n",
      ")\n"
     ]
    },
    {
     "data": {
      "text/plain": [
       "==========================================================================================\n",
       "Layer (type:depth-idx)                   Output Shape              Param #\n",
       "==========================================================================================\n",
       "CustomModel                              [1, 1]                    --\n",
       "├─Linear: 1-1                            [1, 8]                    24\n",
       "├─BatchNorm1d: 1-2                       [1, 8]                    16\n",
       "├─Dropout: 1-3                           [1, 8]                    --\n",
       "├─Linear: 1-4                            [1, 4]                    36\n",
       "├─Linear: 1-5                            [1, 4]                    36\n",
       "├─Linear: 1-6                            [1, 4]                    20\n",
       "├─Linear: 1-7                            [1, 1]                    9\n",
       "==========================================================================================\n",
       "Total params: 141\n",
       "Trainable params: 141\n",
       "Non-trainable params: 0\n",
       "Total mult-adds (M): 0.00\n",
       "==========================================================================================\n",
       "Input size (MB): 0.00\n",
       "Forward/backward pass size (MB): 0.00\n",
       "Params size (MB): 0.00\n",
       "Estimated Total Size (MB): 0.00\n",
       "=========================================================================================="
      ]
     },
     "execution_count": 23,
     "metadata": {},
     "output_type": "execute_result"
    }
   ],
   "source": [
    "import torch\n",
    "import torch.nn as nn\n",
    "import torch.nn.functional as F\n",
    "from torchinfo import summary\n",
    "\n",
    "class CustomModel(nn.Module):\n",
    "    def __init__(self):\n",
    "        super(CustomModel, self).__init__()\n",
    "        self.dense1 = nn.Linear(2, 8)\n",
    "        self.bn = nn.BatchNorm1d(8)\n",
    "        self.dropout = nn.Dropout(0.2)\n",
    "        self.dense2a = nn.Linear(8, 4)\n",
    "        self.dense2b = nn.Linear(8, 4)\n",
    "        self.dense2c = nn.Linear(4, 4)\n",
    "        self.dense3 = nn.Linear(8, 1)  # Final layer\n",
    "\n",
    "    def forward(self, x):\n",
    "        x = F.relu(self.dense1(x))\n",
    "        x = self.bn(x)\n",
    "        x = self.dropout(x)\n",
    "        xa = F.relu(self.dense2a(x))\n",
    "        xb = F.relu(self.dense2b(x))\n",
    "        xc = F.relu(self.dense2c(xb))\n",
    "        x = torch.cat([xa, xc], dim=1)\n",
    "        x = torch.sigmoid(self.dense3(x))\n",
    "        return x\n",
    "\n",
    "model = CustomModel()\n",
    "print(model)\n",
    "\n",
    "# Print model summary\n",
    "summary(model, input_size=(1, 2))  # (batch_size, input_features)\n"
   ]
  },
  {
   "cell_type": "markdown",
   "metadata": {},
   "source": [
    "\n",
    "This technique is extremely useful because it allows us to deviate from a strictly sequential architecture and build more flexible models."
   ]
  },
  {
   "cell_type": "markdown",
   "metadata": {},
   "source": [
    "#### Visualize models\n",
    "\n",
    "If you want a graph-based visualization of your model's operations, torchviz can generate a computational graph.\n",
    "\n",
    "<Note type=\"warning\" title=\"install graphviz\">\n",
    "You'll need to install grpahviz in order to use the visualizing tools from pytorch.\n",
    "\n",
    "#### **For Linux/macOS:**\n",
    "```bash\n",
    "sudo apt install graphviz  # Ubuntu/Debian\n",
    "brew install graphviz      # macOS (Homebrew)\n",
    "```\n",
    "\n",
    "#### **For Windows:**\n",
    "1. Download and install Graphviz from the official site:  \n",
    "   👉 **[Graphviz Download](https://graphviz.gitlab.io/download/)**  \n",
    "2. During installation, select **\"Add Graphviz to system PATH\"**.\n",
    "3. Restart your terminal or IDE (VSCode, Jupyter, etc.).\n",
    "4. Verify installation by running:\n",
    "   ```bash\n",
    "   dot -V\n",
    "   ```\n",
    "   If it prints the Graphviz version, it’s correctly installed.\n",
    "\n",
    "</Note>"
   ]
  },
  {
   "cell_type": "code",
   "execution_count": 24,
   "metadata": {},
   "outputs": [
    {
     "data": {
      "text/plain": [
       "'model_architecture.png'"
      ]
     },
     "execution_count": 24,
     "metadata": {},
     "output_type": "execute_result"
    }
   ],
   "source": [
    "from torchviz import make_dot\n",
    "\n",
    "# Create a dummy input tensor\n",
    "dummy_input = torch.randn(10, 2)\n",
    "\n",
    "# Get the model output\n",
    "output = model(dummy_input)\n",
    "\n",
    "# Create and display the computational graph\n",
    "make_dot(output, params=dict(model.named_parameters())).render(\"model_architecture\", format=\"png\")\n"
   ]
  },
  {
   "cell_type": "markdown",
   "metadata": {},
   "source": [
    "\n",
    "\n",
    "### The last layer 🔚\n",
    "\n",
    "Before moving on, it's essential to choose the correct final layer for the model based on the task:\n",
    "- For **regression problems**, use a `Linear` layer without an activation function.\n",
    "- For **binary classification**, use a `Linear` layer followed by a `Sigmoid` activation.\n",
    "- For **multi-class classification**, use a `Linear` layer followed by a `Softmax` activation.\n",
    "\n",
    "### Make a forward pass with the model ➡️\n",
    "\n",
    "Now that we know how to build models in PyTorch, let's transform inputs into outputs:"
   ]
  },
  {
   "cell_type": "code",
   "execution_count": 25,
   "metadata": {},
   "outputs": [
    {
     "name": "stdout",
     "output_type": "stream",
     "text": [
      "Model output: tensor([[0.5094],\n",
      "        [0.4840]], grad_fn=<SigmoidBackward0>)\n"
     ]
    }
   ],
   "source": [
    "# Create sample input data\n",
    "input_data = torch.tensor([[1.0, 2.0],[3.0, 4.0]])  # Shape must match input layer\n",
    "\n",
    "# Forward pass\n",
    "output = model(input_data)\n",
    "print(\"Model output:\", output)"
   ]
  },
  {
   "cell_type": "markdown",
   "metadata": {},
   "source": [
    "### Manipulations on model objects 👈\n",
    "\n",
    "Now that we know how to build models and make a forward pass, let's explore some additional attributes and methods associated with PyTorch model objects.\n",
    "\n",
    "#### Extract weights/parameters\n",
    "\n",
    "Seeing model weights can help interpret what a deep learning model is doing internally. Let's retrieve the weights from our model:"
   ]
  },
  {
   "cell_type": "code",
   "execution_count": 26,
   "metadata": {},
   "outputs": [
    {
     "name": "stdout",
     "output_type": "stream",
     "text": [
      "dense1.weight: torch.Size([8, 2])\n",
      "dense1.bias: torch.Size([8])\n",
      "bn.weight: torch.Size([8])\n",
      "bn.bias: torch.Size([8])\n",
      "dense2a.weight: torch.Size([4, 8])\n",
      "dense2a.bias: torch.Size([4])\n",
      "dense2b.weight: torch.Size([4, 8])\n",
      "dense2b.bias: torch.Size([4])\n",
      "dense2c.weight: torch.Size([4, 4])\n",
      "dense2c.bias: torch.Size([4])\n",
      "dense3.weight: torch.Size([1, 8])\n",
      "dense3.bias: torch.Size([1])\n"
     ]
    }
   ],
   "source": [
    "# Print all model parameters\n",
    "for name, param in model.named_parameters():\n",
    "    print(f\"{name}: {param.shape}\")"
   ]
  },
  {
   "cell_type": "markdown",
   "metadata": {},
   "source": [
    "#### Extract layer-specific content\n",
    "\n",
    "We can also inspect specific layers in the model:"
   ]
  },
  {
   "cell_type": "code",
   "execution_count": 27,
   "metadata": {},
   "outputs": [
    {
     "name": "stdout",
     "output_type": "stream",
     "text": [
      "Linear(in_features=2, out_features=8, bias=True)\n",
      "BatchNorm1d(8, eps=1e-05, momentum=0.1, affine=True, track_running_stats=True)\n",
      "Dropout(p=0.2, inplace=False)\n",
      "Linear(in_features=8, out_features=4, bias=True)\n",
      "Linear(in_features=8, out_features=4, bias=True)\n",
      "Linear(in_features=4, out_features=4, bias=True)\n",
      "Linear(in_features=8, out_features=1, bias=True)\n"
     ]
    }
   ],
   "source": [
    "# Print all layer names\n",
    "for layer in model.children():\n",
    "    print(layer)"
   ]
  },
  {
   "cell_type": "code",
   "execution_count": 28,
   "metadata": {},
   "outputs": [
    {
     "name": "stdout",
     "output_type": "stream",
     "text": [
      "Layer weights: Parameter containing:\n",
      "tensor([[-0.0895,  0.6141],\n",
      "        [ 0.3563,  0.6640],\n",
      "        [ 0.6534, -0.1427],\n",
      "        [ 0.1384, -0.1188],\n",
      "        [ 0.0309, -0.2819],\n",
      "        [ 0.2216, -0.5450],\n",
      "        [-0.6679, -0.0499],\n",
      "        [-0.2036,  0.6495]], requires_grad=True)\n",
      "Layer bias: Parameter containing:\n",
      "tensor([-0.1801,  0.1925, -0.0848,  0.5637,  0.5456,  0.4550, -0.5523,  0.2976],\n",
      "       requires_grad=True)\n"
     ]
    }
   ],
   "source": [
    "# Extract a specific layer and inspect its parameters\n",
    "specific_layer = model.dense1\n",
    "print(\"Layer weights:\", specific_layer.weight)\n",
    "print(\"Layer bias:\", specific_layer.bias)"
   ]
  },
  {
   "cell_type": "code",
   "execution_count": 29,
   "metadata": {},
   "outputs": [
    {
     "name": "stdout",
     "output_type": "stream",
     "text": [
      "Updated bias: Parameter containing:\n",
      "tensor([1., 1., 1., 1., 1., 1., 1., 1.], requires_grad=True)\n",
      "Updated weights: Parameter containing:\n",
      "tensor([[0., 0.],\n",
      "        [0., 0.],\n",
      "        [0., 0.],\n",
      "        [0., 0.],\n",
      "        [0., 0.],\n",
      "        [0., 0.],\n",
      "        [0., 0.],\n",
      "        [0., 0.]], requires_grad=True)\n"
     ]
    }
   ],
   "source": [
    "# Assign new values to layer parameters\n",
    "with torch.no_grad():\n",
    "    specific_layer.bias.fill_(1.0)  # Assigning bias values to 1\n",
    "    specific_layer.weight.zero_()   # Setting all weights to zero\n",
    "\n",
    "print(\"Updated bias:\", specific_layer.bias)\n",
    "print(\"Updated weights:\", specific_layer.weight)"
   ]
  },
  {
   "cell_type": "markdown",
   "metadata": {},
   "source": [
    "In order to analize intermediate outputs of the model, you may build another model using the same layers as your original model.\n",
    "\n",
    "This could help you visualize outputs from intermediate layers, study their activations etc..."
   ]
  },
  {
   "cell_type": "code",
   "execution_count": 30,
   "metadata": {},
   "outputs": [
    {
     "name": "stdout",
     "output_type": "stream",
     "text": [
      "Intermediate output: tensor([[0., 0., 0., 0., 0., 0., 0., 0.],\n",
      "        [0., 0., 0., 0., 0., 0., 0., 0.]], grad_fn=<MulBackward0>)\n"
     ]
    }
   ],
   "source": [
    "# Extract the output of an intermediate layer\n",
    "intermediate_model = nn.Sequential(model.dense1, model.bn, model.dropout)\n",
    "intermediate_output = intermediate_model(input_data)\n",
    "print(\"Intermediate output:\", intermediate_output)"
   ]
  },
  {
   "cell_type": "markdown",
   "metadata": {},
   "source": [
    "## Prepare the model for training 🏃🏃\n",
    "\n",
    "We are almost ready to train our model, but we still need to choose the loss function, the optimization algorithm, and the learning rate. Let's see how to do all this using PyTorch!\n",
    "\n",
    "### Loss functions 💰\n",
    "\n",
    "PyTorch provides several built-in loss functions, which you can find in the [official documentation](https://pytorch.org/docs/stable/nn.html#loss-functions)."
   ]
  },
  {
   "cell_type": "code",
   "execution_count": 31,
   "metadata": {},
   "outputs": [
    {
     "name": "stdout",
     "output_type": "stream",
     "text": [
      "MSE: tensor(1.)\n",
      "Binary cross entropy: tensor(0.1278)\n",
      "Categorical cross entropy: tensor(1.1028)\n"
     ]
    }
   ],
   "source": [
    "import torch.nn as nn\n",
    "\n",
    "# MSE\n",
    "# Ideal for most regression problems\n",
    "mse = nn.MSELoss()\n",
    "print(\"MSE:\", mse(torch.tensor([[1.0]]), torch.tensor([[2.0]])))\n",
    "\n",
    "# Binary Cross Entropy: - log(P(y=1))\n",
    "# Ideal for binary classification problems\n",
    "bce = nn.BCELoss()\n",
    "print(\"Binary cross entropy:\", bce(torch.tensor([[0.12]]), torch.tensor([[0.0]])))\n",
    "\n",
    "# Categorical Cross Entropy\n",
    "# Ideal for multi-class classification problems\n",
    "# Non-sparse for one-hot encoded targets\n",
    "cce = nn.CrossEntropyLoss()\n",
    "print(\"Categorical cross entropy:\", cce(torch.tensor([[0.2,0.1,0.15,0.55]]), torch.tensor([3])))"
   ]
  },
  {
   "cell_type": "markdown",
   "metadata": {},
   "source": [
    "### Optimizers 📈\n",
    "\n",
    "Optimizers in PyTorch provide different variants of gradient descent. You can find more details in the [official documentation](https://pytorch.org/docs/stable/optim.html).\n",
    "\n",
    "#### Adam\n",
    "\n",
    "Adam is an adaptive optimization algorithm that adjusts the learning rate based on past gradients.\n"
   ]
  },
  {
   "cell_type": "code",
   "execution_count": 32,
   "metadata": {},
   "outputs": [],
   "source": [
    "import torch.optim as optim\n",
    "\n",
    "opt = optim.Adam(sequential_model.parameters(),lr=0.001)  # Define base learning rate"
   ]
  },
  {
   "cell_type": "markdown",
   "metadata": {},
   "source": [
    "#### Learning rate schedules\n",
    "\n",
    "In addition to choosing an optimizer, you can define a learning rate schedule. In this lecture, we will use `ExponentialLR`, which exponentially decreases the learning rate during training.\n",
    "\n",
    "<Note type=\"tip\" title=\"Why use decaying learning rate ?\">\n",
    "Deep Neural Network models often overfit their training data, sometimes very fast. After a few training attemps, you should get a better understanding of how your model trains, after how many steps does it overfit.\n",
    "A decaying learning helps you slow down training as the model gets close to overfitting in order to achieve better peroformance. (Think golf, the closer you are from the target, the smaller distance you have to cross, the softer you'll hit the ball)\n",
    "</Note>\n"
   ]
  },
  {
   "cell_type": "code",
   "execution_count": 33,
   "metadata": {},
   "outputs": [
    {
     "name": "stdout",
     "output_type": "stream",
     "text": [
      "Epoch 1, Learning Rate: [0.00096]\n",
      "Epoch 2, Learning Rate: [0.0009216]\n",
      "Epoch 3, Learning Rate: [0.0008847359999999999]\n",
      "Epoch 4, Learning Rate: [0.0008493465599999999]\n",
      "Epoch 5, Learning Rate: [0.0008153726975999999]\n",
      "Epoch 6, Learning Rate: [0.0007827577896959998]\n",
      "Epoch 7, Learning Rate: [0.0007514474781081598]\n",
      "Epoch 8, Learning Rate: [0.0007213895789838333]\n",
      "Epoch 9, Learning Rate: [0.00069253399582448]\n",
      "Epoch 10, Learning Rate: [0.0006648326359915007]\n"
     ]
    }
   ],
   "source": [
    "from torch.optim.lr_scheduler import ExponentialLR\n",
    "\n",
    "# Define optimizer\n",
    "optimizer = optim.Adam(sequential_model.parameters(),lr=0.001)\n",
    "\n",
    "# Define learning rate scheduler\n",
    "scheduler = ExponentialLR(optimizer, gamma=0.96)\n",
    "\n",
    "# Example of using the scheduler during training\n",
    "for epoch in range(10):\n",
    "    optimizer.step()\n",
    "    scheduler.step()\n",
    "    print(f\"Epoch {epoch+1}, Learning Rate: {scheduler.get_last_lr()}\")"
   ]
  },
  {
   "cell_type": "markdown",
   "metadata": {},
   "source": [
    "## Model training 💦💦\n",
    "\n",
    "The model training step is now straightforward. Let's show a full example with an easy dataset using PyTorch."
   ]
  },
  {
   "cell_type": "code",
   "execution_count": 34,
   "metadata": {},
   "outputs": [
    {
     "name": "stdout",
     "output_type": "stream",
     "text": [
      "Epoch 1/10, Train Loss: 25.5450, Val Loss: 8.8353, Train Acc: 0.3000, Val Acc: 0.3333\n",
      "Epoch 2/10, Train Loss: 24.5686, Val Loss: 7.8884, Train Acc: 0.3889, Val Acc: 0.6333\n",
      "Epoch 3/10, Train Loss: 21.5593, Val Loss: 6.5438, Train Acc: 0.6222, Val Acc: 0.6667\n",
      "Epoch 4/10, Train Loss: 19.9916, Val Loss: 6.4277, Train Acc: 0.6333, Val Acc: 0.6667\n",
      "Epoch 5/10, Train Loss: 19.9318, Val Loss: 6.1046, Train Acc: 0.6222, Val Acc: 0.6667\n",
      "Epoch 6/10, Train Loss: 21.2340, Val Loss: 5.8877, Train Acc: 0.5889, Val Acc: 0.7333\n",
      "Epoch 7/10, Train Loss: 18.7297, Val Loss: 5.8268, Train Acc: 0.8444, Val Acc: 0.8667\n",
      "Epoch 8/10, Train Loss: 17.5135, Val Loss: 5.4045, Train Acc: 0.8667, Val Acc: 0.9333\n",
      "Epoch 9/10, Train Loss: 16.9924, Val Loss: 5.0792, Train Acc: 0.8667, Val Acc: 0.9333\n",
      "Epoch 10/10, Train Loss: 17.8176, Val Loss: 4.8421, Train Acc: 0.8111, Val Acc: 1.0000\n"
     ]
    }
   ],
   "source": [
    "import torch\n",
    "import torch.nn as nn\n",
    "import torch.optim as optim\n",
    "import torch.utils.data as data\n",
    "import numpy as np\n",
    "from sklearn.datasets import load_iris\n",
    "from sklearn.model_selection import train_test_split\n",
    "from sklearn.preprocessing import StandardScaler\n",
    "\n",
    "# Load dataset\n",
    "iris = load_iris()\n",
    "X, y = iris.data, iris.target\n",
    "\n",
    "# Split dataset\n",
    "X_train, X_temp, y_train, y_temp = train_test_split(X, y, test_size=0.4, stratify=y, random_state=42)\n",
    "X_val, X_test, y_val, y_test = train_test_split(X_temp, y_temp, test_size=0.5, stratify=y_temp, random_state=42)\n",
    "\n",
    "# Normalize the data\n",
    "scaler = StandardScaler()\n",
    "X_train = scaler.fit_transform(X_train)\n",
    "X_val = scaler.transform(X_val)\n",
    "X_test = scaler.transform(X_test)\n",
    "\n",
    "# Convert to PyTorch tensors\n",
    "X_train_tensor = torch.tensor(X_train, dtype=torch.float32)\n",
    "y_train_tensor = torch.tensor(y_train, dtype=torch.long)\n",
    "X_val_tensor = torch.tensor(X_val, dtype=torch.float32)\n",
    "y_val_tensor = torch.tensor(y_val, dtype=torch.long)\n",
    "X_test_tensor = torch.tensor(X_test, dtype=torch.float32)\n",
    "y_test_tensor = torch.tensor(y_test, dtype=torch.long)\n",
    "\n",
    "# Create DataLoader\n",
    "train_dataset = data.TensorDataset(X_train_tensor, y_train_tensor)\n",
    "val_dataset = data.TensorDataset(X_val_tensor, y_val_tensor)\n",
    "test_dataset = data.TensorDataset(X_test_tensor, y_test_tensor)\n",
    "\n",
    "train_loader = data.DataLoader(train_dataset, batch_size=4, shuffle=True)\n",
    "val_loader = data.DataLoader(val_dataset, batch_size=4, shuffle=True)\n",
    "test_loader = data.DataLoader(test_dataset, batch_size=4, shuffle=True)\n",
    "\n",
    "# Define the model\n",
    "class NeuralNetwork(nn.Module):\n",
    "    def __init__(self, input_size, num_classes):\n",
    "        super(NeuralNetwork, self).__init__()\n",
    "        self.fc1 = nn.Linear(input_size, 8)\n",
    "        self.bn1 = nn.BatchNorm1d(8)\n",
    "        self.dropout = nn.Dropout(0.2)\n",
    "        self.fc2 = nn.Linear(8, 4)\n",
    "        self.fc3 = nn.Linear(4, num_classes)\n",
    "\n",
    "    def forward(self, x):\n",
    "        x = torch.relu(self.fc1(x))\n",
    "        x = self.bn1(x)\n",
    "        x = self.dropout(x)\n",
    "        x = torch.relu(self.fc2(x))\n",
    "        return torch.softmax(self.fc3(x), dim=1)\n",
    "\n",
    "model = NeuralNetwork(input_size=X.shape[1], num_classes=len(np.unique(y)))\n",
    "\n",
    "# Set up optimizer and loss function\n",
    "optimizer = optim.Adam(model.parameters(), lr=0.01)\n",
    "criterion = nn.CrossEntropyLoss()\n",
    "\n",
    "# Training loop\n",
    "def train_model(model, train_loader, val_loader, criterion, optimizer, epochs=10):\n",
    "    history = {'train_loss': [], 'val_loss': [], 'train_acc': [], 'val_acc': []}\n",
    "    for epoch in range(epochs):\n",
    "        model.train()\n",
    "        train_loss, correct = 0, 0\n",
    "        for inputs, labels in train_loader:\n",
    "            optimizer.zero_grad()\n",
    "            outputs = model(inputs)\n",
    "            loss = criterion(outputs, labels)\n",
    "            loss.backward()\n",
    "            optimizer.step()\n",
    "            train_loss += loss.item()\n",
    "            correct += (outputs.argmax(dim=1) == labels).sum().item()\n",
    "        train_acc = correct / len(train_loader.dataset)\n",
    "        \n",
    "        model.eval()\n",
    "        val_loss, correct = 0, 0\n",
    "        with torch.no_grad():\n",
    "            for inputs, labels in val_loader:\n",
    "                outputs = model(inputs)\n",
    "                loss = criterion(outputs, labels)\n",
    "                val_loss += loss.item()\n",
    "                correct += (outputs.argmax(dim=1) == labels).sum().item()\n",
    "        val_acc = correct / len(val_loader.dataset)\n",
    "        \n",
    "        history['train_loss'].append(train_loss / len(train_loader))\n",
    "        history['val_loss'].append(val_loss / len(val_loader))\n",
    "        history['train_acc'].append(train_acc)\n",
    "        history['val_acc'].append(val_acc)\n",
    "        \n",
    "        print(f\"Epoch {epoch+1}/{epochs}, Train Loss: {train_loss:.4f}, Val Loss: {val_loss:.4f}, Train Acc: {train_acc:.4f}, Val Acc: {val_acc:.4f}\")\n",
    "    \n",
    "    return history\n",
    "\n",
    "history = train_model(model, train_loader, val_loader, criterion, optimizer, epochs=10)\n"
   ]
  },
  {
   "cell_type": "markdown",
   "metadata": {},
   "source": [
    "### Visualizing Training Progress"
   ]
  },
  {
   "cell_type": "code",
   "execution_count": 35,
   "metadata": {},
   "outputs": [
    {
     "data": {
      "image/png": "[encoded data removed]",
      "text/plain": [
       "<Figure size 1000x500 with 1 Axes>"
      ]
     },
     "metadata": {},
     "output_type": "display_data"
    },
    {
     "data": {
      "image/png": "[encoded data removed]",
      "text/plain": [
       "<Figure size 1000x500 with 1 Axes>"
      ]
     },
     "metadata": {},
     "output_type": "display_data"
    }
   ],
   "source": [
    "import matplotlib.pyplot as plt\n",
    "\n",
    "plt.figure(figsize=(10,5))\n",
    "plt.plot(history['train_loss'], label='Training Loss')\n",
    "plt.plot(history['val_loss'], label='Validation Loss')\n",
    "plt.xlabel('Epochs')\n",
    "plt.ylabel('Cross Entropy Loss')\n",
    "plt.title('Training and Validation Loss')\n",
    "plt.legend()\n",
    "plt.show()\n",
    "\n",
    "plt.figure(figsize=(10,5))\n",
    "plt.plot(history['train_acc'], label='Training Accuracy')\n",
    "plt.plot(history['val_acc'], label='Validation Accuracy')\n",
    "plt.xlabel('Epochs')\n",
    "plt.ylabel('Accuracy')\n",
    "plt.title('Training and Validation Accuracy')\n",
    "plt.legend()\n",
    "plt.show()"
   ]
  },
  {
   "cell_type": "markdown",
   "metadata": {},
   "source": [
    "### Making Predictions 🔮🔮\n"
   ]
  },
  {
   "cell_type": "code",
   "execution_count": 36,
   "metadata": {},
   "outputs": [
    {
     "name": "stdout",
     "output_type": "stream",
     "text": [
      "Predicted classes: tensor([0, 2, 1, 0])\n",
      "Actual classes: tensor([0, 2, 1, 0])\n"
     ]
    }
   ],
   "source": [
    "# Make predictions\n",
    "model.eval()\n",
    "test_inputs, test_labels = next(iter(test_loader))\n",
    "with torch.no_grad():\n",
    "    predictions = model(test_inputs)\n",
    "\n",
    "# Convert predictions to class labels\n",
    "predicted_classes = torch.argmax(predictions, axis=1)\n",
    "print(\"Predicted classes:\", predicted_classes)\n",
    "print(\"Actual classes:\", test_labels)"
   ]
  },
  {
   "cell_type": "markdown",
   "metadata": {},
   "source": [
    "## Load and Save models 💾💾\n",
    "\n",
    "We have now learned almost all the basics of PyTorch, and you are almost ready to tackle many different problems using deep learning models! But before we let you practice, we will teach you one last and very useful set of skills: how to save your models to be able to use them later!\n",
    "\n",
    "### Checkpoints ✔️\n",
    "\n",
    "Checkpoints are versions of the model that we save directly during training. This is very useful because if the model starts overfitting after a while, we won't lose the intermediate versions and will be able to go back to a version of the model before it started overfitting! Isn't that great?\n",
    "\n",
    "Let's learn how to do it with code!"
   ]
  },
  {
   "cell_type": "code",
   "execution_count": 37,
   "metadata": {},
   "outputs": [
    {
     "name": "stdout",
     "output_type": "stream",
     "text": [
      "Epoch [1/10], Loss: 14.9725, Accuracy: 0.5167\n",
      "Checkpoint saved: checkpoints/epoch_1.pth\n",
      "Epoch [2/10], Loss: 12.4851, Accuracy: 0.7750\n",
      "Checkpoint saved: checkpoints/epoch_2.pth\n",
      "Epoch [3/10], Loss: 10.3065, Accuracy: 0.8083\n",
      "Checkpoint saved: checkpoints/epoch_3.pth\n",
      "Epoch [4/10], Loss: 8.4420, Accuracy: 0.8333\n",
      "Checkpoint saved: checkpoints/epoch_4.pth\n",
      "Epoch [5/10], Loss: 7.0508, Accuracy: 0.8333\n",
      "Checkpoint saved: checkpoints/epoch_5.pth\n",
      "Epoch [6/10], Loss: 6.0192, Accuracy: 0.8667\n",
      "Checkpoint saved: checkpoints/epoch_6.pth\n",
      "Epoch [7/10], Loss: 5.0868, Accuracy: 0.9000\n",
      "Checkpoint saved: checkpoints/epoch_7.pth\n",
      "Epoch [8/10], Loss: 4.3384, Accuracy: 0.9250\n",
      "Checkpoint saved: checkpoints/epoch_8.pth\n",
      "Epoch [9/10], Loss: 3.6932, Accuracy: 0.9500\n",
      "Checkpoint saved: checkpoints/epoch_9.pth\n",
      "Epoch [10/10], Loss: 3.1561, Accuracy: 0.9500\n",
      "Checkpoint saved: checkpoints/epoch_10.pth\n",
      "Training complete! 🚀\n"
     ]
    }
   ],
   "source": [
    "import torch\n",
    "import torch.nn as nn\n",
    "import torch.optim as optim\n",
    "import torch.utils.data as data\n",
    "import os\n",
    "\n",
    "# Sample Dataset (Iris)\n",
    "from sklearn.datasets import load_iris\n",
    "from sklearn.model_selection import train_test_split\n",
    "from sklearn.preprocessing import StandardScaler\n",
    "\n",
    "# Load dataset\n",
    "iris = load_iris()\n",
    "X, y = iris.data, iris.target\n",
    "\n",
    "# Split dataset\n",
    "X_train, X_val, y_train, y_val = train_test_split(X, y, test_size=0.2, stratify=y, random_state=42)\n",
    "\n",
    "# Normalize the data\n",
    "scaler = StandardScaler()\n",
    "X_train = scaler.fit_transform(X_train)\n",
    "X_val = scaler.transform(X_val)\n",
    "\n",
    "# Convert to PyTorch tensors\n",
    "X_train_tensor = torch.tensor(X_train, dtype=torch.float32)\n",
    "y_train_tensor = torch.tensor(y_train, dtype=torch.long)\n",
    "X_val_tensor = torch.tensor(X_val, dtype=torch.float32)\n",
    "y_val_tensor = torch.tensor(y_val, dtype=torch.long)\n",
    "\n",
    "# Create DataLoader\n",
    "train_dataset = data.TensorDataset(X_train_tensor, y_train_tensor)\n",
    "val_dataset = data.TensorDataset(X_val_tensor, y_val_tensor)\n",
    "\n",
    "train_loader = data.DataLoader(train_dataset, batch_size=8, shuffle=True)\n",
    "val_loader = data.DataLoader(val_dataset, batch_size=8, shuffle=False)\n",
    "\n",
    "# Define Model\n",
    "class NeuralNetwork(nn.Module):\n",
    "    def __init__(self, input_size, num_classes):\n",
    "        super(NeuralNetwork, self).__init__()\n",
    "        self.fc1 = nn.Linear(input_size, 64)\n",
    "        self.relu1 = nn.ReLU()\n",
    "        self.fc2 = nn.Linear(64, 32)\n",
    "        self.relu2 = nn.ReLU()\n",
    "        self.fc3 = nn.Linear(32, num_classes)\n",
    "\n",
    "    def forward(self, x):\n",
    "        x = self.relu1(self.fc1(x))\n",
    "        x = self.relu2(self.fc2(x))\n",
    "        return self.fc3(x)  # No softmax since CrossEntropyLoss applies it\n",
    "\n",
    "# Initialize Model\n",
    "model = NeuralNetwork(input_size=4, num_classes=3)\n",
    "optimizer = optim.Adam(model.parameters(), lr=0.001)\n",
    "criterion = nn.CrossEntropyLoss()\n",
    "\n",
    "# Directory for saving checkpoints\n",
    "checkpoint_dir = \"checkpoints\"\n",
    "os.makedirs(checkpoint_dir, exist_ok=True)\n",
    "\n",
    "# Training Loop with Checkpoint Saving\n",
    "num_epochs = 10\n",
    "\n",
    "for epoch in range(1, num_epochs + 1):\n",
    "    model.train()\n",
    "    total_loss, correct = 0, 0\n",
    "\n",
    "    for inputs, labels in train_loader:\n",
    "        optimizer.zero_grad()\n",
    "        outputs = model(inputs)\n",
    "        loss = criterion(outputs, labels)\n",
    "        loss.backward()\n",
    "        optimizer.step()\n",
    "\n",
    "        total_loss += loss.item()\n",
    "        correct += (outputs.argmax(dim=1) == labels).sum().item()\n",
    "\n",
    "    train_accuracy = correct / len(train_loader.dataset)\n",
    "\n",
    "    # Save model checkpoint every epoch\n",
    "    checkpoint_path = os.path.join(checkpoint_dir, f\"epoch_{epoch}.pth\")\n",
    "    torch.save({\n",
    "        'epoch': epoch,\n",
    "        'model_state_dict': model.state_dict(),\n",
    "        'optimizer_state_dict': optimizer.state_dict(),\n",
    "        'loss': total_loss / len(train_loader),\n",
    "    }, checkpoint_path)\n",
    "\n",
    "    print(f\"Epoch [{epoch}/{num_epochs}], Loss: {total_loss:.4f}, Accuracy: {train_accuracy:.4f}\")\n",
    "    print(f\"Checkpoint saved: {checkpoint_path}\")\n",
    "\n",
    "print(\"Training complete! 🚀\")\n"
   ]
  },
  {
   "cell_type": "markdown",
   "metadata": {},
   "source": [
    "### Load 📀\n",
    "\n",
    "And load it later, even in a different script."
   ]
  },
  {
   "cell_type": "code",
   "execution_count": 38,
   "metadata": {},
   "outputs": [
    {
     "data": {
      "text/plain": [
       "NeuralNetwork(\n",
       "  (fc1): Linear(in_features=4, out_features=64, bias=True)\n",
       "  (relu1): ReLU()\n",
       "  (fc2): Linear(in_features=64, out_features=32, bias=True)\n",
       "  (relu2): ReLU()\n",
       "  (fc3): Linear(in_features=32, out_features=3, bias=True)\n",
       ")"
      ]
     },
     "execution_count": 38,
     "metadata": {},
     "output_type": "execute_result"
    }
   ],
   "source": [
    "restored_model = NeuralNetwork(input_size=4, num_classes=3)  # Ensure the same architecture\n",
    "restored_model.load_state_dict(torch.load(\"checkpoints/epoch_10.pth\", weights_only=True)[\"model_state_dict\"])\n",
    "restored_model.eval()"
   ]
  },
  {
   "cell_type": "markdown",
   "metadata": {},
   "source": [
    "That was a long demo, but you are now all equipped to tackle many different problems with PyTorch and deep neural network models. Now let's get to the exercises to start getting some practice!\n",
    "\n",
    "## Resources 📚📚\n",
    "\n",
    "* [An easy tutorial on the MNIST dataset](https://pytorch.org/tutorials/beginner/basics/quickstart_tutorial.html)\n",
    "* [PyTorch Datasets and DataLoaders](https://pytorch.org/tutorials/beginner/basics/data_tutorial.html)\n",
    "* [PyTorch Model Saving & Loading](https://pytorch.org/tutorials/beginner/saving_loading_models.html)\n",
    "* [Google Dataset Search](https://datasetsearch.research.google.com/)\n"
   ]
  }
 ],
 "metadata": {
  "colab": {
   "collapsed_sections": [],
   "name": "01-Neural_networks_with_tf.ipynb",
   "provenance": []
  },
  "kernelspec": {
   "display_name": "pytorch",
   "language": "python",
   "name": "python3"
  },
  "language_info": {
   "codemirror_mode": {
    "name": "ipython",
    "version": 3
   },
   "file_extension": ".py",
   "mimetype": "text/x-python",
   "name": "python",
   "nbconvert_exporter": "python",
   "pygments_lexer": "ipython3",
   "version": "3.10.16"
  }
 },
 "nbformat": 4,
 "nbformat_minor": 1
}
