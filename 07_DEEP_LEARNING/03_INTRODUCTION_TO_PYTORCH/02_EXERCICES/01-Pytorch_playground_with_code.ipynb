{
 "cells": [
  {
   "cell_type": "markdown",
   "metadata": {
    "id": "wWKwfuBPqpw7"
   },
   "source": [
    "# Tensorflow playground with code\n",
    "\n",
    "Remember when we played witht the tensorflow playground? Well let's do a quick exercise in order to recreate these examples but with code!"
   ]
  },
  {
   "cell_type": "markdown",
   "metadata": {},
   "source": [
    "## Circle Problem"
   ]
  },
  {
   "cell_type": "markdown",
   "metadata": {
    "id": "HOHKgINUsoQz"
   },
   "source": [
    "* 1️⃣ import `make_circles` from sklearn and create an object data containing circle data of 1000 observations, with some noise and a factor of your choice.\n",
    "\n"
   ]
  },
  {
   "cell_type": "code",
   "execution_count": null,
   "metadata": {
    "colab": {
     "base_uri": "https://localhost:8080/"
    },
    "executionInfo": {
     "elapsed": 1338,
     "status": "ok",
     "timestamp": 1613119612420,
     "user": {
      "displayName": "Charles Tanguy",
      "photoUrl": "",
      "userId": "11930294859591867631"
     },
     "user_tz": -60
    },
    "id": "NcwOwSamq7O1",
    "outputId": "66f01c71-9bdc-4a4c-e144-a5a56d9870b7"
   },
   "outputs": [],
   "source": [
    "import torch\n",
    "import torch.nn as nn\n",
    "import torch.optim as optim\n",
    "import torch.utils.data as data\n",
    "import numpy as np\n",
    "import matplotlib.pyplot as plt\n",
    "from sklearn.datasets import make_circles\n",
    "from sklearn.model_selection import train_test_split\n",
    "from torchviz import make_dot\n",
    "\n",
    "# Generate circular data\n",
    "X_data, y_data = make_circles()\n",
    "\n",
    "# Convert to PyTorch tensors\n",
    "X = torch.tensor(X_data, dtype=torch.float32)\n",
    "y = torch.tensor(y_data, dtype=torch.long)"
   ]
  },
  {
   "cell_type": "markdown",
   "metadata": {
    "id": "7WDBAiq2usRr"
   },
   "source": [
    "* 2️⃣ Visualize the data"
   ]
  },
  {
   "cell_type": "code",
   "execution_count": null,
   "metadata": {
    "colab": {
     "base_uri": "https://localhost:8080/",
     "height": 542
    },
    "executionInfo": {
     "elapsed": 2563,
     "status": "ok",
     "timestamp": 1613119617802,
     "user": {
      "displayName": "Charles Tanguy",
      "photoUrl": "",
      "userId": "11930294859591867631"
     },
     "user_tz": -60
    },
    "id": "q4IPnMY5uvHH",
    "outputId": "55e330a3-7e3d-4b48-d833-c3205090238d"
   },
   "outputs": [
    {
     "data": {
      "text/plain": [
       "<matplotlib.collections.PathCollection at 0x1355a2530>"
      ]
     },
     "execution_count": 9,
     "metadata": {},
     "output_type": "execute_result"
    },
    {
     "data": {
      "image/png": "[encoded data removed]",
      "text/plain": [
       "<Figure size 640x480 with 1 Axes>"
      ]
     },
     "metadata": {},
     "output_type": "display_data"
    }
   ],
   "source": [
    "plt.scatter(x=X[:,0], y=X[:,1])"
   ]
  },
  {
   "cell_type": "markdown",
   "metadata": {
    "id": "HqjGY_LLuXJq"
   },
   "source": [
    "* 3️⃣ Split them in train and validation set with sklearn\n",
    "* 4️⃣ Form two batch datasets, one for training data, one for validation data"
   ]
  },
  {
   "cell_type": "code",
   "execution_count": 10,
   "metadata": {
    "executionInfo": {
     "elapsed": 374,
     "status": "ok",
     "timestamp": 1613119620962,
     "user": {
      "displayName": "Charles Tanguy",
      "photoUrl": "",
      "userId": "11930294859591867631"
     },
     "user_tz": -60
    },
    "id": "4AWjgtAPucHF"
   },
   "outputs": [],
   "source": [
    "# Split into training and validation sets\n",
    "X_train, X_val, y_train, y_val = train_test_split(X, y, test_size=0.2, random_state=0)\n",
    "\n",
    "# Create DataLoader for batches\n",
    "train_dataset = data.TensorDataset(X_train, y_train)\n",
    "val_dataset = data.TensorDataset(X_val, y_val)\n",
    "\n",
    "train_loader = data.DataLoader(train_dataset, batch_size=4, shuffle=True)\n",
    "val_loader = data.DataLoader(val_dataset, batch_size=4, shuffle=True)\n"
   ]
  },
  {
   "cell_type": "markdown",
   "metadata": {
    "id": "toCsGT2gbNqX"
   },
   "source": [
    "* 5️⃣ Create a neural network model in order to make predictions on this dataset, try and make it as simple as possible."
   ]
  },
  {
   "cell_type": "code",
   "execution_count": 11,
   "metadata": {
    "colab": {
     "base_uri": "https://localhost:8080/",
     "height": 312
    },
    "executionInfo": {
     "elapsed": 559,
     "status": "ok",
     "timestamp": 1613120285275,
     "user": {
      "displayName": "Charles Tanguy",
      "photoUrl": "",
      "userId": "11930294859591867631"
     },
     "user_tz": -60
    },
    "id": "DVyNEQ7hbMzO",
    "outputId": "61211f86-226a-4bbb-8040-a231ca82f2b0"
   },
   "outputs": [
    {
     "data": {
      "text/plain": [
       "SimpleNN(\n",
       "  (fc1): Linear(in_features=2, out_features=4, bias=True)\n",
       "  (relu): ReLU()\n",
       "  (fc2): Linear(in_features=4, out_features=1, bias=True)\n",
       "  (sigmoid): Sigmoid()\n",
       ")"
      ]
     },
     "execution_count": 11,
     "metadata": {},
     "output_type": "execute_result"
    }
   ],
   "source": [
    "class SimpleNN(nn.Module):\n",
    "\n",
    "    def __init__(self):\n",
    "        super(SimpleNN, self).__init__()\n",
    "        self.fc1 = nn.Linear(2, 4)\n",
    "        self.relu = nn.ReLU()\n",
    "        self.fc2 = nn.Linear(4, 1)\n",
    "        self.sigmoid = nn.Sigmoid()\n",
    "\n",
    "    def forward(self, x):\n",
    "        x = self.relu(self.fc1(x))\n",
    "        x = self.sigmoid(self.fc2(x))\n",
    "\n",
    "model = SimpleNN()\n",
    "model"
   ]
  },
  {
   "cell_type": "code",
   "execution_count": null,
   "metadata": {},
   "outputs": [
    {
     "data": {
      "text/plain": [
       "'model_architecture.png'"
      ]
     },
     "execution_count": 9,
     "metadata": {},
     "output_type": "execute_result"
    }
   ],
   "source": [
    "# Create a dummy input tensor\n",
    "dummy_input = torch.randn(10, 2)\n",
    "\n",
    "# Get the model output\n",
    "output = model(dummy_input)\n",
    "\n",
    "# Create and display the computational graph\n",
    "make_dot(output, params=dict(model.named_parameters())).render(\"model_architecture\", format=\"png\")\n"
   ]
  },
  {
   "cell_type": "markdown",
   "metadata": {
    "id": "Di3W9UlycLgo"
   },
   "source": [
    "* 6️⃣ Compile the model using Adam and a loss function that suits our problem."
   ]
  },
  {
   "cell_type": "code",
   "execution_count": 10,
   "metadata": {
    "executionInfo": {
     "elapsed": 523,
     "status": "ok",
     "timestamp": 1613120287107,
     "user": {
      "displayName": "Charles Tanguy",
      "photoUrl": "",
      "userId": "11930294859591867631"
     },
     "user_tz": -60
    },
    "id": "6ZxXBjZOcWPa"
   },
   "outputs": [],
   "source": [
    "  # Binary Cross Entropy Loss\n"
   ]
  },
  {
   "cell_type": "markdown",
   "metadata": {
    "id": "3qMAnAFIcuSK"
   },
   "source": [
    "* 7️⃣ Train the model over 100 epochs"
   ]
  },
  {
   "cell_type": "code",
   "execution_count": 11,
   "metadata": {
    "colab": {
     "base_uri": "https://localhost:8080/"
    },
    "executionInfo": {
     "elapsed": 18548,
     "status": "ok",
     "timestamp": 1613120307116,
     "user": {
      "displayName": "Charles Tanguy",
      "photoUrl": "",
      "userId": "11930294859591867631"
     },
     "user_tz": -60
    },
    "id": "E86_ApW9cxnb",
    "outputId": "a641726e-0c13-4765-8414-6e5a920b0172"
   },
   "outputs": [
    {
     "name": "stdout",
     "output_type": "stream",
     "text": [
      "Epoch [1/100], Loss: 0.6824, Acc: 0.5387, Val Loss: 0.6648, Val Acc: 0.5600\n",
      "Epoch [2/100], Loss: 0.6451, Acc: 0.5675, Val Loss: 0.6467, Val Acc: 0.5800\n",
      "Epoch [3/100], Loss: 0.6188, Acc: 0.6388, Val Loss: 0.6133, Val Acc: 0.7250\n",
      "Epoch [4/100], Loss: 0.6005, Acc: 0.7125, Val Loss: 0.6094, Val Acc: 0.6900\n",
      "Epoch [5/100], Loss: 0.5797, Acc: 0.7388, Val Loss: 0.5892, Val Acc: 0.7500\n",
      "Epoch [6/100], Loss: 0.5640, Acc: 0.7612, Val Loss: 0.5710, Val Acc: 0.7650\n",
      "Epoch [7/100], Loss: 0.5575, Acc: 0.7462, Val Loss: 0.5569, Val Acc: 0.7500\n",
      "Epoch [8/100], Loss: 0.5474, Acc: 0.7550, Val Loss: 0.5560, Val Acc: 0.7400\n",
      "Epoch [9/100], Loss: 0.5438, Acc: 0.7375, Val Loss: 0.5574, Val Acc: 0.6850\n",
      "Epoch [10/100], Loss: 0.5366, Acc: 0.7500, Val Loss: 0.5482, Val Acc: 0.7250\n",
      "Epoch [11/100], Loss: 0.5350, Acc: 0.7338, Val Loss: 0.5482, Val Acc: 0.7650\n",
      "Epoch [12/100], Loss: 0.5337, Acc: 0.7275, Val Loss: 0.5485, Val Acc: 0.7600\n",
      "Epoch [13/100], Loss: 0.5309, Acc: 0.7275, Val Loss: 0.5420, Val Acc: 0.7000\n",
      "Epoch [14/100], Loss: 0.5272, Acc: 0.7338, Val Loss: 0.5448, Val Acc: 0.7050\n",
      "Epoch [15/100], Loss: 0.5290, Acc: 0.7338, Val Loss: 0.5402, Val Acc: 0.6900\n",
      "Epoch [16/100], Loss: 0.5271, Acc: 0.7150, Val Loss: 0.5369, Val Acc: 0.7300\n",
      "Epoch [17/100], Loss: 0.5282, Acc: 0.7238, Val Loss: 0.5441, Val Acc: 0.6950\n",
      "Epoch [18/100], Loss: 0.5245, Acc: 0.7312, Val Loss: 0.5316, Val Acc: 0.7000\n",
      "Epoch [19/100], Loss: 0.5251, Acc: 0.7375, Val Loss: 0.5337, Val Acc: 0.6800\n",
      "Epoch [20/100], Loss: 0.5236, Acc: 0.7163, Val Loss: 0.5349, Val Acc: 0.7050\n",
      "Epoch [21/100], Loss: 0.5254, Acc: 0.7188, Val Loss: 0.5348, Val Acc: 0.7050\n",
      "Epoch [22/100], Loss: 0.5237, Acc: 0.7300, Val Loss: 0.5445, Val Acc: 0.6900\n",
      "Epoch [23/100], Loss: 0.5244, Acc: 0.7300, Val Loss: 0.5424, Val Acc: 0.6750\n",
      "Epoch [24/100], Loss: 0.5232, Acc: 0.7225, Val Loss: 0.5339, Val Acc: 0.7000\n",
      "Epoch [25/100], Loss: 0.5237, Acc: 0.7200, Val Loss: 0.5403, Val Acc: 0.6950\n",
      "Epoch [26/100], Loss: 0.5221, Acc: 0.7163, Val Loss: 0.5482, Val Acc: 0.7050\n",
      "Epoch [27/100], Loss: 0.5215, Acc: 0.7200, Val Loss: 0.5354, Val Acc: 0.6900\n",
      "Epoch [28/100], Loss: 0.5226, Acc: 0.7188, Val Loss: 0.5407, Val Acc: 0.7050\n",
      "Epoch [29/100], Loss: 0.5251, Acc: 0.7325, Val Loss: 0.5390, Val Acc: 0.6800\n",
      "Epoch [30/100], Loss: 0.5272, Acc: 0.7175, Val Loss: 0.5478, Val Acc: 0.6650\n",
      "Epoch [31/100], Loss: 0.5253, Acc: 0.7150, Val Loss: 0.5467, Val Acc: 0.7050\n",
      "Epoch [32/100], Loss: 0.5224, Acc: 0.7113, Val Loss: 0.5334, Val Acc: 0.6950\n",
      "Epoch [33/100], Loss: 0.5246, Acc: 0.7350, Val Loss: 0.5383, Val Acc: 0.7000\n",
      "Epoch [34/100], Loss: 0.5223, Acc: 0.7163, Val Loss: 0.5514, Val Acc: 0.6750\n",
      "Epoch [35/100], Loss: 0.5233, Acc: 0.7238, Val Loss: 0.5360, Val Acc: 0.6950\n",
      "Epoch [36/100], Loss: 0.5216, Acc: 0.7175, Val Loss: 0.5333, Val Acc: 0.6950\n",
      "Epoch [37/100], Loss: 0.5208, Acc: 0.7450, Val Loss: 0.5437, Val Acc: 0.6700\n",
      "Epoch [38/100], Loss: 0.5219, Acc: 0.7063, Val Loss: 0.5334, Val Acc: 0.6900\n",
      "Epoch [39/100], Loss: 0.5201, Acc: 0.7362, Val Loss: 0.5396, Val Acc: 0.6800\n",
      "Epoch [40/100], Loss: 0.5249, Acc: 0.7225, Val Loss: 0.5355, Val Acc: 0.6900\n",
      "Epoch [41/100], Loss: 0.5210, Acc: 0.7075, Val Loss: 0.5369, Val Acc: 0.7500\n",
      "Epoch [42/100], Loss: 0.5253, Acc: 0.7225, Val Loss: 0.5327, Val Acc: 0.6950\n",
      "Epoch [43/100], Loss: 0.5217, Acc: 0.7262, Val Loss: 0.5392, Val Acc: 0.6750\n",
      "Epoch [44/100], Loss: 0.5241, Acc: 0.7025, Val Loss: 0.5354, Val Acc: 0.6750\n",
      "Epoch [45/100], Loss: 0.5208, Acc: 0.7238, Val Loss: 0.5305, Val Acc: 0.7300\n",
      "Epoch [46/100], Loss: 0.5236, Acc: 0.7288, Val Loss: 0.5359, Val Acc: 0.6950\n",
      "Epoch [47/100], Loss: 0.5223, Acc: 0.7238, Val Loss: 0.5359, Val Acc: 0.6700\n",
      "Epoch [48/100], Loss: 0.5232, Acc: 0.7238, Val Loss: 0.5466, Val Acc: 0.6600\n",
      "Epoch [49/100], Loss: 0.5221, Acc: 0.7238, Val Loss: 0.5450, Val Acc: 0.6950\n",
      "Epoch [50/100], Loss: 0.5234, Acc: 0.7188, Val Loss: 0.5427, Val Acc: 0.6700\n",
      "Epoch [51/100], Loss: 0.5207, Acc: 0.7238, Val Loss: 0.5467, Val Acc: 0.6750\n",
      "Epoch [52/100], Loss: 0.5228, Acc: 0.7312, Val Loss: 0.5431, Val Acc: 0.6700\n",
      "Epoch [53/100], Loss: 0.5228, Acc: 0.7163, Val Loss: 0.5416, Val Acc: 0.6950\n",
      "Epoch [54/100], Loss: 0.5215, Acc: 0.7200, Val Loss: 0.5375, Val Acc: 0.6900\n",
      "Epoch [55/100], Loss: 0.5197, Acc: 0.7300, Val Loss: 0.5431, Val Acc: 0.6700\n",
      "Epoch [56/100], Loss: 0.5226, Acc: 0.6987, Val Loss: 0.5398, Val Acc: 0.7400\n",
      "Epoch [57/100], Loss: 0.5216, Acc: 0.7388, Val Loss: 0.5393, Val Acc: 0.6950\n",
      "Epoch [58/100], Loss: 0.5213, Acc: 0.7150, Val Loss: 0.5383, Val Acc: 0.6900\n",
      "Epoch [59/100], Loss: 0.5229, Acc: 0.7212, Val Loss: 0.5421, Val Acc: 0.6950\n",
      "Epoch [60/100], Loss: 0.5214, Acc: 0.7175, Val Loss: 0.5345, Val Acc: 0.7000\n",
      "Epoch [61/100], Loss: 0.5211, Acc: 0.7175, Val Loss: 0.5371, Val Acc: 0.6900\n",
      "Epoch [62/100], Loss: 0.5221, Acc: 0.7262, Val Loss: 0.5352, Val Acc: 0.6900\n",
      "Epoch [63/100], Loss: 0.5238, Acc: 0.7163, Val Loss: 0.5479, Val Acc: 0.6750\n",
      "Epoch [64/100], Loss: 0.5228, Acc: 0.7150, Val Loss: 0.5425, Val Acc: 0.6650\n",
      "Epoch [65/100], Loss: 0.5226, Acc: 0.7188, Val Loss: 0.5367, Val Acc: 0.7200\n",
      "Epoch [66/100], Loss: 0.5210, Acc: 0.7225, Val Loss: 0.5356, Val Acc: 0.6900\n",
      "Epoch [67/100], Loss: 0.5229, Acc: 0.7100, Val Loss: 0.5336, Val Acc: 0.6750\n",
      "Epoch [68/100], Loss: 0.5206, Acc: 0.7262, Val Loss: 0.5378, Val Acc: 0.6750\n",
      "Epoch [69/100], Loss: 0.5198, Acc: 0.7150, Val Loss: 0.5480, Val Acc: 0.6950\n",
      "Epoch [70/100], Loss: 0.5227, Acc: 0.7175, Val Loss: 0.5360, Val Acc: 0.6900\n",
      "Epoch [71/100], Loss: 0.5209, Acc: 0.7250, Val Loss: 0.5437, Val Acc: 0.6950\n",
      "Epoch [72/100], Loss: 0.5206, Acc: 0.7200, Val Loss: 0.5480, Val Acc: 0.6700\n",
      "Epoch [73/100], Loss: 0.5242, Acc: 0.7212, Val Loss: 0.5400, Val Acc: 0.6900\n",
      "Epoch [74/100], Loss: 0.5216, Acc: 0.7175, Val Loss: 0.5392, Val Acc: 0.6950\n",
      "Epoch [75/100], Loss: 0.5188, Acc: 0.7125, Val Loss: 0.5355, Val Acc: 0.7550\n",
      "Epoch [76/100], Loss: 0.5223, Acc: 0.7262, Val Loss: 0.5363, Val Acc: 0.6900\n",
      "Epoch [77/100], Loss: 0.5187, Acc: 0.7150, Val Loss: 0.5433, Val Acc: 0.6800\n",
      "Epoch [78/100], Loss: 0.5230, Acc: 0.7238, Val Loss: 0.5304, Val Acc: 0.6800\n",
      "Epoch [79/100], Loss: 0.5222, Acc: 0.7137, Val Loss: 0.5384, Val Acc: 0.6850\n",
      "Epoch [80/100], Loss: 0.5202, Acc: 0.7250, Val Loss: 0.5428, Val Acc: 0.6700\n",
      "Epoch [81/100], Loss: 0.5229, Acc: 0.7150, Val Loss: 0.5387, Val Acc: 0.6900\n",
      "Epoch [82/100], Loss: 0.5209, Acc: 0.7250, Val Loss: 0.5504, Val Acc: 0.7550\n",
      "Epoch [83/100], Loss: 0.5244, Acc: 0.7325, Val Loss: 0.5437, Val Acc: 0.6700\n",
      "Epoch [84/100], Loss: 0.5226, Acc: 0.7163, Val Loss: 0.5372, Val Acc: 0.6750\n",
      "Epoch [85/100], Loss: 0.5221, Acc: 0.7125, Val Loss: 0.5414, Val Acc: 0.6950\n",
      "Epoch [86/100], Loss: 0.5217, Acc: 0.7163, Val Loss: 0.5401, Val Acc: 0.6950\n",
      "Epoch [87/100], Loss: 0.5221, Acc: 0.7188, Val Loss: 0.5332, Val Acc: 0.6850\n",
      "Epoch [88/100], Loss: 0.5236, Acc: 0.7212, Val Loss: 0.5354, Val Acc: 0.6900\n",
      "Epoch [89/100], Loss: 0.5206, Acc: 0.7075, Val Loss: 0.5353, Val Acc: 0.7200\n",
      "Epoch [90/100], Loss: 0.5231, Acc: 0.7338, Val Loss: 0.5360, Val Acc: 0.6700\n",
      "Epoch [91/100], Loss: 0.5197, Acc: 0.7150, Val Loss: 0.5408, Val Acc: 0.6950\n",
      "Epoch [92/100], Loss: 0.5234, Acc: 0.7225, Val Loss: 0.5457, Val Acc: 0.6750\n",
      "Epoch [93/100], Loss: 0.5238, Acc: 0.7325, Val Loss: 0.5398, Val Acc: 0.6800\n",
      "Epoch [94/100], Loss: 0.5204, Acc: 0.7025, Val Loss: 0.5405, Val Acc: 0.6950\n",
      "Epoch [95/100], Loss: 0.5195, Acc: 0.7388, Val Loss: 0.5429, Val Acc: 0.6700\n",
      "Epoch [96/100], Loss: 0.5242, Acc: 0.7125, Val Loss: 0.5419, Val Acc: 0.6750\n",
      "Epoch [97/100], Loss: 0.5233, Acc: 0.7163, Val Loss: 0.5431, Val Acc: 0.6800\n",
      "Epoch [98/100], Loss: 0.5220, Acc: 0.7113, Val Loss: 0.5350, Val Acc: 0.7100\n",
      "Epoch [99/100], Loss: 0.5206, Acc: 0.7238, Val Loss: 0.5413, Val Acc: 0.6700\n",
      "Epoch [100/100], Loss: 0.5229, Acc: 0.7188, Val Loss: 0.5444, Val Acc: 0.6750\n"
     ]
    }
   ],
   "source": [
    "import torch\n",
    "\n",
    "def train(model, train_loader, val_loader, criterion, optimizer, epochs=100):\n",
    "    \"\"\"\n",
    "    Function to train a PyTorch model with training and validation datasets.\n",
    "    \n",
    "    Parameters:\n",
    "    model: The neural network model to train.\n",
    "    train_loader: DataLoader for the training dataset.\n",
    "    val_loader: DataLoader for the validation dataset.\n",
    "    criterion: Loss function (e.g., Binary Cross Entropy for classification).\n",
    "    optimizer: Optimization algorithm (e.g., Adam, SGD).\n",
    "    epochs: Number of training epochs (default=100).\n",
    "    \n",
    "    Returns:\n",
    "    history: Dictionary containing loss and accuracy for both training and validation.\n",
    "    \"\"\"\n",
    "    \n",
    "    # Dictionary to store training & validation loss and accuracy over epochs\n",
    "    \n",
    "    for epoch in range(epochs):  # Loop over the number of epochs\n",
    "        model.train()  # Set model to training mode\n",
    "        # Initialize total loss and correct predictions\n",
    "        \n",
    "        # Training loop\n",
    "        # Reset gradients before each batch\n",
    "        # Forward pass\n",
    "        # Compute loss\n",
    "        # Backpropagation (compute gradients)\n",
    "        # Update model parameters\n",
    "        # Accumulate batch loss\n",
    "        # Count correct predictions\n",
    "        \n",
    "        # Compute average loss and accuracy for training\n",
    "        \n",
    "        # Validation phase (without gradient computation)\n",
    "        model.eval()  # Set model to evaluation mode\n",
    "        # No need to compute gradients during validation\n",
    "        # Forward pass\n",
    "        # Compute loss\n",
    "        # Accumulate validation loss\n",
    "        # Count correct predictions\n",
    "        \n",
    "        # Compute average loss and accuracy for validation\n",
    "        \n",
    "        # Store metrics in history dictionary\n",
    "        \n",
    "        # Print training progress\n",
    "    \n",
    "    return history  # Return training history\n",
    "\n",
    "# Train the model\n"
   ]
  },
  {
   "cell_type": "markdown",
   "metadata": {
    "id": "1CaQfsSudA9O"
   },
   "source": [
    "* 8️⃣ Plot the evolution of the train loss and the validation loss and the evolution of the train metric and the validation metric."
   ]
  },
  {
   "cell_type": "code",
   "execution_count": 12,
   "metadata": {
    "colab": {
     "base_uri": "https://localhost:8080/",
     "height": 542
    },
    "executionInfo": {
     "elapsed": 648,
     "status": "ok",
     "timestamp": 1613120316610,
     "user": {
      "displayName": "Charles Tanguy",
      "photoUrl": "",
      "userId": "11930294859591867631"
     },
     "user_tz": -60
    },
    "id": "6zq9VUQpdJhH",
    "outputId": "dfbfa1e8-e1b0-490b-d6eb-d361ee7304bd"
   },
   "outputs": [
    {
     "data": {
      "application/vnd.plotly.v1+json": {
       "config": {
        "plotlyServerURL": "https://plot.ly"
       },
       "data": [
        {
         "marker": {
          "color": "#4B9AC7"
         },
         "mode": "lines",
         "name": "Training Loss",
         "type": "scatter",
         "y": [
          0.6823843997716904,
          0.645105036497116,
          0.6188260751962662,
          0.6005193504691124,
          0.5797163900732994,
          0.5639870336651802,
          0.55752715498209,
          0.5474432194232941,
          0.5438329800963402,
          0.53664411008358,
          0.5350444316864014,
          0.5337409037351608,
          0.5308826784789562,
          0.5271557627618313,
          0.5290346504747867,
          0.5271499791741371,
          0.5282340916991234,
          0.5245149549841881,
          0.5250793772935868,
          0.5235885815322399,
          0.5254104003310204,
          0.5237312437593937,
          0.5244493470340967,
          0.5232094000279903,
          0.5236523911356926,
          0.5221258424222469,
          0.5214764036238193,
          0.5226084525883198,
          0.5251355704665184,
          0.5272030137479305,
          0.5252933068573475,
          0.5223676285147667,
          0.5245564134418964,
          0.5223389853537083,
          0.523304494023323,
          0.5216159464418888,
          0.520844687372446,
          0.5218936336040497,
          0.5200963872671127,
          0.5249058696627616,
          0.5210007791221142,
          0.5252660432457924,
          0.5216854925453663,
          0.5240915037691594,
          0.5208021177351475,
          0.5235979503393173,
          0.5222842837870121,
          0.5232247926294804,
          0.5221089828014374,
          0.5233634188771248,
          0.5206712891161441,
          0.5227683128416538,
          0.5228040696680546,
          0.5215376944839955,
          0.519660801589489,
          0.5225926648080349,
          0.5216486905515194,
          0.5213258323073388,
          0.5229083614051342,
          0.5213721637427807,
          0.5211036422848702,
          0.522149990350008,
          0.5238186977803707,
          0.5228231085836887,
          0.5226278930902482,
          0.520989121645689,
          0.5229419827461242,
          0.520552364885807,
          0.5197567336261273,
          0.5227143394947052,
          0.5209311524033546,
          0.520632963180542,
          0.5242257477343082,
          0.5215730302035808,
          0.5188284814357758,
          0.5222847041487694,
          0.5186709882318974,
          0.5230416247248649,
          0.5222006911039352,
          0.5201746237277984,
          0.5229332448542118,
          0.5209092795848846,
          0.5243882569670677,
          0.5226018446683883,
          0.5220892010629177,
          0.5216599674522877,
          0.522097632214427,
          0.5235955816507339,
          0.5205808508396149,
          0.523121807128191,
          0.519730060994625,
          0.5233568546175956,
          0.5237734913825989,
          0.5203958156704903,
          0.5194738805294037,
          0.5241960978507996,
          0.5232616996765137,
          0.5219951862096787,
          0.5205520620942116,
          0.5228897240757943
         ]
        },
        {
         "marker": {
          "color": "#4BE8E0"
         },
         "mode": "lines",
         "name": "Validation Loss",
         "type": "scatter",
         "y": [
          0.6647808361053467,
          0.6467369318008422,
          0.6133135604858398,
          0.6093640851974488,
          0.5892335402965546,
          0.5710479140281677,
          0.5569339573383332,
          0.5559630942344665,
          0.5573751139640808,
          0.5481697881221771,
          0.5481708455085754,
          0.5485417467355728,
          0.5419825148582459,
          0.5447954964637757,
          0.5401931297779083,
          0.5368702900409699,
          0.54407983481884,
          0.5316075491905212,
          0.533686660528183,
          0.534860834479332,
          0.53484494805336,
          0.5444696688652039,
          0.5424006634950638,
          0.5338892984390259,
          0.5403056532144547,
          0.548164718747139,
          0.535375120639801,
          0.5406603682041168,
          0.539045107960701,
          0.5478308874368668,
          0.5466790103912353,
          0.5333557271957398,
          0.5383040744066239,
          0.5513870716094971,
          0.5359583479166031,
          0.5332885843515396,
          0.5436859047412872,
          0.5334331929683686,
          0.5396342211961747,
          0.5355496054887772,
          0.5368500608205795,
          0.5327460217475891,
          0.5391845339536667,
          0.5353596371412277,
          0.5304977375268937,
          0.5358970862627029,
          0.5358927088975907,
          0.5465558302402497,
          0.5449625283479691,
          0.542660436630249,
          0.5467310357093811,
          0.54311006128788,
          0.5415864127874375,
          0.5374954724311829,
          0.5430549454689025,
          0.5397555792331695,
          0.5393048644065856,
          0.5382745081186294,
          0.5420880252122879,
          0.5345016515254974,
          0.5371075749397278,
          0.5352452355623245,
          0.5479054802656174,
          0.5424519300460815,
          0.5366800856590271,
          0.5355740612745286,
          0.5335604465007782,
          0.5378263068199157,
          0.5480063927173614,
          0.5360175251960755,
          0.5436514258384705,
          0.5479896157979965,
          0.5399616920948028,
          0.5391808789968491,
          0.5354755228757858,
          0.5363142734766007,
          0.5432995164394379,
          0.5304054808616638,
          0.5383514273166656,
          0.5428096508979797,
          0.5386858421564102,
          0.550396648645401,
          0.5436522203683853,
          0.5372216433286667,
          0.5413688606023789,
          0.5400803798437118,
          0.5332072985172271,
          0.5354157918691635,
          0.5353182429075241,
          0.535971291065216,
          0.5408171707391739,
          0.5457424527406692,
          0.5398067635297775,
          0.5405385422706604,
          0.542940827012062,
          0.5418947261571884,
          0.5431241625547409,
          0.5350137448310852,
          0.541274254322052,
          0.5443887770175934
         ]
        }
       ],
       "layout": {
        "template": {
         "data": {
          "bar": [
           {
            "error_x": {
             "color": "#2a3f5f"
            },
            "error_y": {
             "color": "#2a3f5f"
            },
            "marker": {
             "line": {
              "color": "#E5ECF6",
              "width": 0.5
             },
             "pattern": {
              "fillmode": "overlay",
              "size": 10,
              "solidity": 0.2
             }
            },
            "type": "bar"
           }
          ],
          "barpolar": [
           {
            "marker": {
             "line": {
              "color": "#E5ECF6",
              "width": 0.5
             },
             "pattern": {
              "fillmode": "overlay",
              "size": 10,
              "solidity": 0.2
             }
            },
            "type": "barpolar"
           }
          ],
          "carpet": [
           {
            "aaxis": {
             "endlinecolor": "#2a3f5f",
             "gridcolor": "white",
             "linecolor": "white",
             "minorgridcolor": "white",
             "startlinecolor": "#2a3f5f"
            },
            "baxis": {
             "endlinecolor": "#2a3f5f",
             "gridcolor": "white",
             "linecolor": "white",
             "minorgridcolor": "white",
             "startlinecolor": "#2a3f5f"
            },
            "type": "carpet"
           }
          ],
          "choropleth": [
           {
            "colorbar": {
             "outlinewidth": 0,
             "ticks": ""
            },
            "type": "choropleth"
           }
          ],
          "contour": [
           {
            "colorbar": {
             "outlinewidth": 0,
             "ticks": ""
            },
            "colorscale": [
             [
              0,
              "#0d0887"
             ],
             [
              0.1111111111111111,
              "#46039f"
             ],
             [
              0.2222222222222222,
              "#7201a8"
             ],
             [
              0.3333333333333333,
              "#9c179e"
             ],
             [
              0.4444444444444444,
              "#bd3786"
             ],
             [
              0.5555555555555556,
              "#d8576b"
             ],
             [
              0.6666666666666666,
              "#ed7953"
             ],
             [
              0.7777777777777778,
              "#fb9f3a"
             ],
             [
              0.8888888888888888,
              "#fdca26"
             ],
             [
              1,
              "#f0f921"
             ]
            ],
            "type": "contour"
           }
          ],
          "contourcarpet": [
           {
            "colorbar": {
             "outlinewidth": 0,
             "ticks": ""
            },
            "type": "contourcarpet"
           }
          ],
          "heatmap": [
           {
            "colorbar": {
             "outlinewidth": 0,
             "ticks": ""
            },
            "colorscale": [
             [
              0,
              "#0d0887"
             ],
             [
              0.1111111111111111,
              "#46039f"
             ],
             [
              0.2222222222222222,
              "#7201a8"
             ],
             [
              0.3333333333333333,
              "#9c179e"
             ],
             [
              0.4444444444444444,
              "#bd3786"
             ],
             [
              0.5555555555555556,
              "#d8576b"
             ],
             [
              0.6666666666666666,
              "#ed7953"
             ],
             [
              0.7777777777777778,
              "#fb9f3a"
             ],
             [
              0.8888888888888888,
              "#fdca26"
             ],
             [
              1,
              "#f0f921"
             ]
            ],
            "type": "heatmap"
           }
          ],
          "histogram": [
           {
            "marker": {
             "pattern": {
              "fillmode": "overlay",
              "size": 10,
              "solidity": 0.2
             }
            },
            "type": "histogram"
           }
          ],
          "histogram2d": [
           {
            "colorbar": {
             "outlinewidth": 0,
             "ticks": ""
            },
            "colorscale": [
             [
              0,
              "#0d0887"
             ],
             [
              0.1111111111111111,
              "#46039f"
             ],
             [
              0.2222222222222222,
              "#7201a8"
             ],
             [
              0.3333333333333333,
              "#9c179e"
             ],
             [
              0.4444444444444444,
              "#bd3786"
             ],
             [
              0.5555555555555556,
              "#d8576b"
             ],
             [
              0.6666666666666666,
              "#ed7953"
             ],
             [
              0.7777777777777778,
              "#fb9f3a"
             ],
             [
              0.8888888888888888,
              "#fdca26"
             ],
             [
              1,
              "#f0f921"
             ]
            ],
            "type": "histogram2d"
           }
          ],
          "histogram2dcontour": [
           {
            "colorbar": {
             "outlinewidth": 0,
             "ticks": ""
            },
            "colorscale": [
             [
              0,
              "#0d0887"
             ],
             [
              0.1111111111111111,
              "#46039f"
             ],
             [
              0.2222222222222222,
              "#7201a8"
             ],
             [
              0.3333333333333333,
              "#9c179e"
             ],
             [
              0.4444444444444444,
              "#bd3786"
             ],
             [
              0.5555555555555556,
              "#d8576b"
             ],
             [
              0.6666666666666666,
              "#ed7953"
             ],
             [
              0.7777777777777778,
              "#fb9f3a"
             ],
             [
              0.8888888888888888,
              "#fdca26"
             ],
             [
              1,
              "#f0f921"
             ]
            ],
            "type": "histogram2dcontour"
           }
          ],
          "mesh3d": [
           {
            "colorbar": {
             "outlinewidth": 0,
             "ticks": ""
            },
            "type": "mesh3d"
           }
          ],
          "parcoords": [
           {
            "line": {
             "colorbar": {
              "outlinewidth": 0,
              "ticks": ""
             }
            },
            "type": "parcoords"
           }
          ],
          "pie": [
           {
            "automargin": true,
            "type": "pie"
           }
          ],
          "scatter": [
           {
            "fillpattern": {
             "fillmode": "overlay",
             "size": 10,
             "solidity": 0.2
            },
            "type": "scatter"
           }
          ],
          "scatter3d": [
           {
            "line": {
             "colorbar": {
              "outlinewidth": 0,
              "ticks": ""
             }
            },
            "marker": {
             "colorbar": {
              "outlinewidth": 0,
              "ticks": ""
             }
            },
            "type": "scatter3d"
           }
          ],
          "scattercarpet": [
           {
            "marker": {
             "colorbar": {
              "outlinewidth": 0,
              "ticks": ""
             }
            },
            "type": "scattercarpet"
           }
          ],
          "scattergeo": [
           {
            "marker": {
             "colorbar": {
              "outlinewidth": 0,
              "ticks": ""
             }
            },
            "type": "scattergeo"
           }
          ],
          "scattergl": [
           {
            "marker": {
             "colorbar": {
              "outlinewidth": 0,
              "ticks": ""
             }
            },
            "type": "scattergl"
           }
          ],
          "scattermap": [
           {
            "marker": {
             "colorbar": {
              "outlinewidth": 0,
              "ticks": ""
             }
            },
            "type": "scattermap"
           }
          ],
          "scattermapbox": [
           {
            "marker": {
             "colorbar": {
              "outlinewidth": 0,
              "ticks": ""
             }
            },
            "type": "scattermapbox"
           }
          ],
          "scatterpolar": [
           {
            "marker": {
             "colorbar": {
              "outlinewidth": 0,
              "ticks": ""
             }
            },
            "type": "scatterpolar"
           }
          ],
          "scatterpolargl": [
           {
            "marker": {
             "colorbar": {
              "outlinewidth": 0,
              "ticks": ""
             }
            },
            "type": "scatterpolargl"
           }
          ],
          "scatterternary": [
           {
            "marker": {
             "colorbar": {
              "outlinewidth": 0,
              "ticks": ""
             }
            },
            "type": "scatterternary"
           }
          ],
          "surface": [
           {
            "colorbar": {
             "outlinewidth": 0,
             "ticks": ""
            },
            "colorscale": [
             [
              0,
              "#0d0887"
             ],
             [
              0.1111111111111111,
              "#46039f"
             ],
             [
              0.2222222222222222,
              "#7201a8"
             ],
             [
              0.3333333333333333,
              "#9c179e"
             ],
             [
              0.4444444444444444,
              "#bd3786"
             ],
             [
              0.5555555555555556,
              "#d8576b"
             ],
             [
              0.6666666666666666,
              "#ed7953"
             ],
             [
              0.7777777777777778,
              "#fb9f3a"
             ],
             [
              0.8888888888888888,
              "#fdca26"
             ],
             [
              1,
              "#f0f921"
             ]
            ],
            "type": "surface"
           }
          ],
          "table": [
           {
            "cells": {
             "fill": {
              "color": "#EBF0F8"
             },
             "line": {
              "color": "white"
             }
            },
            "header": {
             "fill": {
              "color": "#C8D4E3"
             },
             "line": {
              "color": "white"
             }
            },
            "type": "table"
           }
          ]
         },
         "layout": {
          "annotationdefaults": {
           "arrowcolor": "#2a3f5f",
           "arrowhead": 0,
           "arrowwidth": 1
          },
          "autotypenumbers": "strict",
          "coloraxis": {
           "colorbar": {
            "outlinewidth": 0,
            "ticks": ""
           }
          },
          "colorscale": {
           "diverging": [
            [
             0,
             "#8e0152"
            ],
            [
             0.1,
             "#c51b7d"
            ],
            [
             0.2,
             "#de77ae"
            ],
            [
             0.3,
             "#f1b6da"
            ],
            [
             0.4,
             "#fde0ef"
            ],
            [
             0.5,
             "#f7f7f7"
            ],
            [
             0.6,
             "#e6f5d0"
            ],
            [
             0.7,
             "#b8e186"
            ],
            [
             0.8,
             "#7fbc41"
            ],
            [
             0.9,
             "#4d9221"
            ],
            [
             1,
             "#276419"
            ]
           ],
           "sequential": [
            [
             0,
             "#0d0887"
            ],
            [
             0.1111111111111111,
             "#46039f"
            ],
            [
             0.2222222222222222,
             "#7201a8"
            ],
            [
             0.3333333333333333,
             "#9c179e"
            ],
            [
             0.4444444444444444,
             "#bd3786"
            ],
            [
             0.5555555555555556,
             "#d8576b"
            ],
            [
             0.6666666666666666,
             "#ed7953"
            ],
            [
             0.7777777777777778,
             "#fb9f3a"
            ],
            [
             0.8888888888888888,
             "#fdca26"
            ],
            [
             1,
             "#f0f921"
            ]
           ],
           "sequentialminus": [
            [
             0,
             "#0d0887"
            ],
            [
             0.1111111111111111,
             "#46039f"
            ],
            [
             0.2222222222222222,
             "#7201a8"
            ],
            [
             0.3333333333333333,
             "#9c179e"
            ],
            [
             0.4444444444444444,
             "#bd3786"
            ],
            [
             0.5555555555555556,
             "#d8576b"
            ],
            [
             0.6666666666666666,
             "#ed7953"
            ],
            [
             0.7777777777777778,
             "#fb9f3a"
            ],
            [
             0.8888888888888888,
             "#fdca26"
            ],
            [
             1,
             "#f0f921"
            ]
           ]
          },
          "colorway": [
           "#636efa",
           "#EF553B",
           "#00cc96",
           "#ab63fa",
           "#FFA15A",
           "#19d3f3",
           "#FF6692",
           "#B6E880",
           "#FF97FF",
           "#FECB52"
          ],
          "font": {
           "color": "#2a3f5f"
          },
          "geo": {
           "bgcolor": "white",
           "lakecolor": "white",
           "landcolor": "#E5ECF6",
           "showlakes": true,
           "showland": true,
           "subunitcolor": "white"
          },
          "hoverlabel": {
           "align": "left"
          },
          "hovermode": "closest",
          "mapbox": {
           "style": "light"
          },
          "paper_bgcolor": "white",
          "plot_bgcolor": "#E5ECF6",
          "polar": {
           "angularaxis": {
            "gridcolor": "white",
            "linecolor": "white",
            "ticks": ""
           },
           "bgcolor": "#E5ECF6",
           "radialaxis": {
            "gridcolor": "white",
            "linecolor": "white",
            "ticks": ""
           }
          },
          "scene": {
           "xaxis": {
            "backgroundcolor": "#E5ECF6",
            "gridcolor": "white",
            "gridwidth": 2,
            "linecolor": "white",
            "showbackground": true,
            "ticks": "",
            "zerolinecolor": "white"
           },
           "yaxis": {
            "backgroundcolor": "#E5ECF6",
            "gridcolor": "white",
            "gridwidth": 2,
            "linecolor": "white",
            "showbackground": true,
            "ticks": "",
            "zerolinecolor": "white"
           },
           "zaxis": {
            "backgroundcolor": "#E5ECF6",
            "gridcolor": "white",
            "gridwidth": 2,
            "linecolor": "white",
            "showbackground": true,
            "ticks": "",
            "zerolinecolor": "white"
           }
          },
          "shapedefaults": {
           "line": {
            "color": "#2a3f5f"
           }
          },
          "ternary": {
           "aaxis": {
            "gridcolor": "white",
            "linecolor": "white",
            "ticks": ""
           },
           "baxis": {
            "gridcolor": "white",
            "linecolor": "white",
            "ticks": ""
           },
           "bgcolor": "#E5ECF6",
           "caxis": {
            "gridcolor": "white",
            "linecolor": "white",
            "ticks": ""
           }
          },
          "title": {
           "x": 0.05
          },
          "xaxis": {
           "automargin": true,
           "gridcolor": "white",
           "linecolor": "white",
           "ticks": "",
           "title": {
            "standoff": 15
           },
           "zerolinecolor": "white",
           "zerolinewidth": 2
          },
          "yaxis": {
           "automargin": true,
           "gridcolor": "white",
           "linecolor": "white",
           "ticks": "",
           "title": {
            "standoff": 15
           },
           "zerolinecolor": "white",
           "zerolinewidth": 2
          }
         }
        },
        "title": {
         "text": "Training and Validation Loss"
        },
        "xaxis": {
         "title": {
          "text": "Epochs"
         }
        },
        "yaxis": {
         "title": {
          "text": "Loss"
         }
        }
       }
      }
     },
     "metadata": {},
     "output_type": "display_data"
    }
   ],
   "source": []
  },
  {
   "cell_type": "code",
   "execution_count": 13,
   "metadata": {
    "colab": {
     "base_uri": "https://localhost:8080/",
     "height": 542
    },
    "executionInfo": {
     "elapsed": 555,
     "status": "ok",
     "timestamp": 1613120319256,
     "user": {
      "displayName": "Charles Tanguy",
      "photoUrl": "",
      "userId": "11930294859591867631"
     },
     "user_tz": -60
    },
    "id": "xpfb1XzPdQ9B",
    "outputId": "52c5b391-ee6a-486a-d4e7-ef4198022d1c"
   },
   "outputs": [
    {
     "data": {
      "application/vnd.plotly.v1+json": {
       "config": {
        "plotlyServerURL": "https://plot.ly"
       },
       "data": [
        {
         "marker": {
          "color": "#2A7FAF"
         },
         "mode": "lines",
         "name": "Training Accuracy",
         "type": "scatter",
         "y": [
          0.53875,
          0.5675,
          0.63875,
          0.7125,
          0.73875,
          0.76125,
          0.74625,
          0.755,
          0.7375,
          0.75,
          0.73375,
          0.7275,
          0.7275,
          0.73375,
          0.73375,
          0.715,
          0.72375,
          0.73125,
          0.7375,
          0.71625,
          0.71875,
          0.73,
          0.73,
          0.7225,
          0.72,
          0.71625,
          0.72,
          0.71875,
          0.7325,
          0.7175,
          0.715,
          0.71125,
          0.735,
          0.71625,
          0.72375,
          0.7175,
          0.745,
          0.70625,
          0.73625,
          0.7225,
          0.7075,
          0.7225,
          0.72625,
          0.7025,
          0.72375,
          0.72875,
          0.72375,
          0.72375,
          0.72375,
          0.71875,
          0.72375,
          0.73125,
          0.71625,
          0.72,
          0.73,
          0.69875,
          0.73875,
          0.715,
          0.72125,
          0.7175,
          0.7175,
          0.72625,
          0.71625,
          0.715,
          0.71875,
          0.7225,
          0.71,
          0.72625,
          0.715,
          0.7175,
          0.725,
          0.72,
          0.72125,
          0.7175,
          0.7125,
          0.72625,
          0.715,
          0.72375,
          0.71375,
          0.725,
          0.715,
          0.725,
          0.7325,
          0.71625,
          0.7125,
          0.71625,
          0.71875,
          0.72125,
          0.7075,
          0.73375,
          0.715,
          0.7225,
          0.7325,
          0.7025,
          0.73875,
          0.7125,
          0.71625,
          0.71125,
          0.72375,
          0.71875
         ]
        },
        {
         "marker": {
          "color": "#23B1AB"
         },
         "mode": "lines",
         "name": "Validation Accuracy",
         "type": "scatter",
         "y": [
          0.56,
          0.58,
          0.725,
          0.69,
          0.75,
          0.765,
          0.75,
          0.74,
          0.685,
          0.725,
          0.765,
          0.76,
          0.7,
          0.705,
          0.69,
          0.73,
          0.695,
          0.7,
          0.68,
          0.705,
          0.705,
          0.69,
          0.675,
          0.7,
          0.695,
          0.705,
          0.69,
          0.705,
          0.68,
          0.665,
          0.705,
          0.695,
          0.7,
          0.675,
          0.695,
          0.695,
          0.67,
          0.69,
          0.68,
          0.69,
          0.75,
          0.695,
          0.675,
          0.675,
          0.73,
          0.695,
          0.67,
          0.66,
          0.695,
          0.67,
          0.675,
          0.67,
          0.695,
          0.69,
          0.67,
          0.74,
          0.695,
          0.69,
          0.695,
          0.7,
          0.69,
          0.69,
          0.675,
          0.665,
          0.72,
          0.69,
          0.675,
          0.675,
          0.695,
          0.69,
          0.695,
          0.67,
          0.69,
          0.695,
          0.755,
          0.69,
          0.68,
          0.68,
          0.685,
          0.67,
          0.69,
          0.755,
          0.67,
          0.675,
          0.695,
          0.695,
          0.685,
          0.69,
          0.72,
          0.67,
          0.695,
          0.675,
          0.68,
          0.695,
          0.67,
          0.675,
          0.68,
          0.71,
          0.67,
          0.675
         ]
        }
       ],
       "layout": {
        "template": {
         "data": {
          "bar": [
           {
            "error_x": {
             "color": "#2a3f5f"
            },
            "error_y": {
             "color": "#2a3f5f"
            },
            "marker": {
             "line": {
              "color": "#E5ECF6",
              "width": 0.5
             },
             "pattern": {
              "fillmode": "overlay",
              "size": 10,
              "solidity": 0.2
             }
            },
            "type": "bar"
           }
          ],
          "barpolar": [
           {
            "marker": {
             "line": {
              "color": "#E5ECF6",
              "width": 0.5
             },
             "pattern": {
              "fillmode": "overlay",
              "size": 10,
              "solidity": 0.2
             }
            },
            "type": "barpolar"
           }
          ],
          "carpet": [
           {
            "aaxis": {
             "endlinecolor": "#2a3f5f",
             "gridcolor": "white",
             "linecolor": "white",
             "minorgridcolor": "white",
             "startlinecolor": "#2a3f5f"
            },
            "baxis": {
             "endlinecolor": "#2a3f5f",
             "gridcolor": "white",
             "linecolor": "white",
             "minorgridcolor": "white",
             "startlinecolor": "#2a3f5f"
            },
            "type": "carpet"
           }
          ],
          "choropleth": [
           {
            "colorbar": {
             "outlinewidth": 0,
             "ticks": ""
            },
            "type": "choropleth"
           }
          ],
          "contour": [
           {
            "colorbar": {
             "outlinewidth": 0,
             "ticks": ""
            },
            "colorscale": [
             [
              0,
              "#0d0887"
             ],
             [
              0.1111111111111111,
              "#46039f"
             ],
             [
              0.2222222222222222,
              "#7201a8"
             ],
             [
              0.3333333333333333,
              "#9c179e"
             ],
             [
              0.4444444444444444,
              "#bd3786"
             ],
             [
              0.5555555555555556,
              "#d8576b"
             ],
             [
              0.6666666666666666,
              "#ed7953"
             ],
             [
              0.7777777777777778,
              "#fb9f3a"
             ],
             [
              0.8888888888888888,
              "#fdca26"
             ],
             [
              1,
              "#f0f921"
             ]
            ],
            "type": "contour"
           }
          ],
          "contourcarpet": [
           {
            "colorbar": {
             "outlinewidth": 0,
             "ticks": ""
            },
            "type": "contourcarpet"
           }
          ],
          "heatmap": [
           {
            "colorbar": {
             "outlinewidth": 0,
             "ticks": ""
            },
            "colorscale": [
             [
              0,
              "#0d0887"
             ],
             [
              0.1111111111111111,
              "#46039f"
             ],
             [
              0.2222222222222222,
              "#7201a8"
             ],
             [
              0.3333333333333333,
              "#9c179e"
             ],
             [
              0.4444444444444444,
              "#bd3786"
             ],
             [
              0.5555555555555556,
              "#d8576b"
             ],
             [
              0.6666666666666666,
              "#ed7953"
             ],
             [
              0.7777777777777778,
              "#fb9f3a"
             ],
             [
              0.8888888888888888,
              "#fdca26"
             ],
             [
              1,
              "#f0f921"
             ]
            ],
            "type": "heatmap"
           }
          ],
          "histogram": [
           {
            "marker": {
             "pattern": {
              "fillmode": "overlay",
              "size": 10,
              "solidity": 0.2
             }
            },
            "type": "histogram"
           }
          ],
          "histogram2d": [
           {
            "colorbar": {
             "outlinewidth": 0,
             "ticks": ""
            },
            "colorscale": [
             [
              0,
              "#0d0887"
             ],
             [
              0.1111111111111111,
              "#46039f"
             ],
             [
              0.2222222222222222,
              "#7201a8"
             ],
             [
              0.3333333333333333,
              "#9c179e"
             ],
             [
              0.4444444444444444,
              "#bd3786"
             ],
             [
              0.5555555555555556,
              "#d8576b"
             ],
             [
              0.6666666666666666,
              "#ed7953"
             ],
             [
              0.7777777777777778,
              "#fb9f3a"
             ],
             [
              0.8888888888888888,
              "#fdca26"
             ],
             [
              1,
              "#f0f921"
             ]
            ],
            "type": "histogram2d"
           }
          ],
          "histogram2dcontour": [
           {
            "colorbar": {
             "outlinewidth": 0,
             "ticks": ""
            },
            "colorscale": [
             [
              0,
              "#0d0887"
             ],
             [
              0.1111111111111111,
              "#46039f"
             ],
             [
              0.2222222222222222,
              "#7201a8"
             ],
             [
              0.3333333333333333,
              "#9c179e"
             ],
             [
              0.4444444444444444,
              "#bd3786"
             ],
             [
              0.5555555555555556,
              "#d8576b"
             ],
             [
              0.6666666666666666,
              "#ed7953"
             ],
             [
              0.7777777777777778,
              "#fb9f3a"
             ],
             [
              0.8888888888888888,
              "#fdca26"
             ],
             [
              1,
              "#f0f921"
             ]
            ],
            "type": "histogram2dcontour"
           }
          ],
          "mesh3d": [
           {
            "colorbar": {
             "outlinewidth": 0,
             "ticks": ""
            },
            "type": "mesh3d"
           }
          ],
          "parcoords": [
           {
            "line": {
             "colorbar": {
              "outlinewidth": 0,
              "ticks": ""
             }
            },
            "type": "parcoords"
           }
          ],
          "pie": [
           {
            "automargin": true,
            "type": "pie"
           }
          ],
          "scatter": [
           {
            "fillpattern": {
             "fillmode": "overlay",
             "size": 10,
             "solidity": 0.2
            },
            "type": "scatter"
           }
          ],
          "scatter3d": [
           {
            "line": {
             "colorbar": {
              "outlinewidth": 0,
              "ticks": ""
             }
            },
            "marker": {
             "colorbar": {
              "outlinewidth": 0,
              "ticks": ""
             }
            },
            "type": "scatter3d"
           }
          ],
          "scattercarpet": [
           {
            "marker": {
             "colorbar": {
              "outlinewidth": 0,
              "ticks": ""
             }
            },
            "type": "scattercarpet"
           }
          ],
          "scattergeo": [
           {
            "marker": {
             "colorbar": {
              "outlinewidth": 0,
              "ticks": ""
             }
            },
            "type": "scattergeo"
           }
          ],
          "scattergl": [
           {
            "marker": {
             "colorbar": {
              "outlinewidth": 0,
              "ticks": ""
             }
            },
            "type": "scattergl"
           }
          ],
          "scattermap": [
           {
            "marker": {
             "colorbar": {
              "outlinewidth": 0,
              "ticks": ""
             }
            },
            "type": "scattermap"
           }
          ],
          "scattermapbox": [
           {
            "marker": {
             "colorbar": {
              "outlinewidth": 0,
              "ticks": ""
             }
            },
            "type": "scattermapbox"
           }
          ],
          "scatterpolar": [
           {
            "marker": {
             "colorbar": {
              "outlinewidth": 0,
              "ticks": ""
             }
            },
            "type": "scatterpolar"
           }
          ],
          "scatterpolargl": [
           {
            "marker": {
             "colorbar": {
              "outlinewidth": 0,
              "ticks": ""
             }
            },
            "type": "scatterpolargl"
           }
          ],
          "scatterternary": [
           {
            "marker": {
             "colorbar": {
              "outlinewidth": 0,
              "ticks": ""
             }
            },
            "type": "scatterternary"
           }
          ],
          "surface": [
           {
            "colorbar": {
             "outlinewidth": 0,
             "ticks": ""
            },
            "colorscale": [
             [
              0,
              "#0d0887"
             ],
             [
              0.1111111111111111,
              "#46039f"
             ],
             [
              0.2222222222222222,
              "#7201a8"
             ],
             [
              0.3333333333333333,
              "#9c179e"
             ],
             [
              0.4444444444444444,
              "#bd3786"
             ],
             [
              0.5555555555555556,
              "#d8576b"
             ],
             [
              0.6666666666666666,
              "#ed7953"
             ],
             [
              0.7777777777777778,
              "#fb9f3a"
             ],
             [
              0.8888888888888888,
              "#fdca26"
             ],
             [
              1,
              "#f0f921"
             ]
            ],
            "type": "surface"
           }
          ],
          "table": [
           {
            "cells": {
             "fill": {
              "color": "#EBF0F8"
             },
             "line": {
              "color": "white"
             }
            },
            "header": {
             "fill": {
              "color": "#C8D4E3"
             },
             "line": {
              "color": "white"
             }
            },
            "type": "table"
           }
          ]
         },
         "layout": {
          "annotationdefaults": {
           "arrowcolor": "#2a3f5f",
           "arrowhead": 0,
           "arrowwidth": 1
          },
          "autotypenumbers": "strict",
          "coloraxis": {
           "colorbar": {
            "outlinewidth": 0,
            "ticks": ""
           }
          },
          "colorscale": {
           "diverging": [
            [
             0,
             "#8e0152"
            ],
            [
             0.1,
             "#c51b7d"
            ],
            [
             0.2,
             "#de77ae"
            ],
            [
             0.3,
             "#f1b6da"
            ],
            [
             0.4,
             "#fde0ef"
            ],
            [
             0.5,
             "#f7f7f7"
            ],
            [
             0.6,
             "#e6f5d0"
            ],
            [
             0.7,
             "#b8e186"
            ],
            [
             0.8,
             "#7fbc41"
            ],
            [
             0.9,
             "#4d9221"
            ],
            [
             1,
             "#276419"
            ]
           ],
           "sequential": [
            [
             0,
             "#0d0887"
            ],
            [
             0.1111111111111111,
             "#46039f"
            ],
            [
             0.2222222222222222,
             "#7201a8"
            ],
            [
             0.3333333333333333,
             "#9c179e"
            ],
            [
             0.4444444444444444,
             "#bd3786"
            ],
            [
             0.5555555555555556,
             "#d8576b"
            ],
            [
             0.6666666666666666,
             "#ed7953"
            ],
            [
             0.7777777777777778,
             "#fb9f3a"
            ],
            [
             0.8888888888888888,
             "#fdca26"
            ],
            [
             1,
             "#f0f921"
            ]
           ],
           "sequentialminus": [
            [
             0,
             "#0d0887"
            ],
            [
             0.1111111111111111,
             "#46039f"
            ],
            [
             0.2222222222222222,
             "#7201a8"
            ],
            [
             0.3333333333333333,
             "#9c179e"
            ],
            [
             0.4444444444444444,
             "#bd3786"
            ],
            [
             0.5555555555555556,
             "#d8576b"
            ],
            [
             0.6666666666666666,
             "#ed7953"
            ],
            [
             0.7777777777777778,
             "#fb9f3a"
            ],
            [
             0.8888888888888888,
             "#fdca26"
            ],
            [
             1,
             "#f0f921"
            ]
           ]
          },
          "colorway": [
           "#636efa",
           "#EF553B",
           "#00cc96",
           "#ab63fa",
           "#FFA15A",
           "#19d3f3",
           "#FF6692",
           "#B6E880",
           "#FF97FF",
           "#FECB52"
          ],
          "font": {
           "color": "#2a3f5f"
          },
          "geo": {
           "bgcolor": "white",
           "lakecolor": "white",
           "landcolor": "#E5ECF6",
           "showlakes": true,
           "showland": true,
           "subunitcolor": "white"
          },
          "hoverlabel": {
           "align": "left"
          },
          "hovermode": "closest",
          "mapbox": {
           "style": "light"
          },
          "paper_bgcolor": "white",
          "plot_bgcolor": "#E5ECF6",
          "polar": {
           "angularaxis": {
            "gridcolor": "white",
            "linecolor": "white",
            "ticks": ""
           },
           "bgcolor": "#E5ECF6",
           "radialaxis": {
            "gridcolor": "white",
            "linecolor": "white",
            "ticks": ""
           }
          },
          "scene": {
           "xaxis": {
            "backgroundcolor": "#E5ECF6",
            "gridcolor": "white",
            "gridwidth": 2,
            "linecolor": "white",
            "showbackground": true,
            "ticks": "",
            "zerolinecolor": "white"
           },
           "yaxis": {
            "backgroundcolor": "#E5ECF6",
            "gridcolor": "white",
            "gridwidth": 2,
            "linecolor": "white",
            "showbackground": true,
            "ticks": "",
            "zerolinecolor": "white"
           },
           "zaxis": {
            "backgroundcolor": "#E5ECF6",
            "gridcolor": "white",
            "gridwidth": 2,
            "linecolor": "white",
            "showbackground": true,
            "ticks": "",
            "zerolinecolor": "white"
           }
          },
          "shapedefaults": {
           "line": {
            "color": "#2a3f5f"
           }
          },
          "ternary": {
           "aaxis": {
            "gridcolor": "white",
            "linecolor": "white",
            "ticks": ""
           },
           "baxis": {
            "gridcolor": "white",
            "linecolor": "white",
            "ticks": ""
           },
           "bgcolor": "#E5ECF6",
           "caxis": {
            "gridcolor": "white",
            "linecolor": "white",
            "ticks": ""
           }
          },
          "title": {
           "x": 0.05
          },
          "xaxis": {
           "automargin": true,
           "gridcolor": "white",
           "linecolor": "white",
           "ticks": "",
           "title": {
            "standoff": 15
           },
           "zerolinecolor": "white",
           "zerolinewidth": 2
          },
          "yaxis": {
           "automargin": true,
           "gridcolor": "white",
           "linecolor": "white",
           "ticks": "",
           "title": {
            "standoff": 15
           },
           "zerolinecolor": "white",
           "zerolinewidth": 2
          }
         }
        },
        "title": {
         "text": "Training and Validation Accuracy"
        },
        "xaxis": {
         "title": {
          "text": "Epochs"
         }
        },
        "yaxis": {
         "title": {
          "text": "Accuracy"
         }
        }
       }
      }
     },
     "metadata": {},
     "output_type": "display_data"
    }
   ],
   "source": []
  },
  {
   "cell_type": "markdown",
   "metadata": {
    "id": "SqnKQ9OXumpE"
   },
   "source": [
    "* 9️⃣ Did the model overfit ?"
   ]
  },
  {
   "cell_type": "markdown",
   "metadata": {},
   "source": [
    "No it seemed rather that the model underfit! We should increase the learning rate or the number of neurons on our layers."
   ]
  },
  {
   "cell_type": "markdown",
   "metadata": {
    "id": "vCr_7Vr-dvGE"
   },
   "source": [
    "* 🔟 Can you try and plot the decision function of the model in the data space? Like we saw in the tensorflow playground? You can get inspiration <a href=\"https://plotly.com/python/knn-classification/\"> here </a>"
   ]
  },
  {
   "cell_type": "code",
   "execution_count": 14,
   "metadata": {
    "colab": {
     "base_uri": "https://localhost:8080/",
     "height": 542
    },
    "executionInfo": {
     "elapsed": 1303,
     "status": "ok",
     "timestamp": 1613122682828,
     "user": {
      "displayName": "Charles Tanguy",
      "photoUrl": "",
      "userId": "11930294859591867631"
     },
     "user_tz": -60
    },
    "id": "qsslVCyleFWT",
    "outputId": "a162d32f-6aeb-46ab-a56d-30396cbec19f"
   },
   "outputs": [
    {
     "data": {
      "application/vnd.plotly.v1+json": {
       "config": {
        "plotlyServerURL": "https://plot.ly"
       },
       "data": [
        {
         "colorscale": [
          [
           0,
           "#0E3449"
          ],
          [
           1,
           "#015955"
          ]
         ],
         "type": "contour",
         "x": {
          "bdata": "AAAAAAAA+L+EDz744IP3vwgffPDBB/e/jC666KKL9r8QPvjggw/2v5NNNtlkk/W/F1100UUX9b+bbLLJJpv0vx988MEHH/S/o4suuuii878nm2yyySbzv6qqqqqqqvK/Lrrooosu8r+yySabbLLxvzbZZJNNNvG/uuiiiy668L8++OCDDz7wv4QPPvjgg++/jC666KKL7r+TTTbZZJPtv5tssskmm+y/o4suuuii67+qqqqqqqrqv7LJJptssum/uuiiiy666L/CBx988MHnv8omm2yyyea/0UUXXXTR5b/ZZJNNNtnkv+GDDz744OO/6KKLLrro4r/wwQcffPDhv/jggw8++OC/AAAAAAAA4L8QPvjggw/evyB88MEHH9y/MLrooosu2r88+OCDDz7Yv0w22WSTTda/XHTRRRdd1L9ssskmm2zSv3zwwQcffNC/GF100UUXzb842WSTTTbJv1BVVVVVVcW/cNFFF110wb8gm2yyySa7v2CTTTbZZLO/QBdddNFFp78AH3zwwQePvwAffPDBB48/QBdddNFFpz9gk0022WSzPzCbbLLJJrs/eNFFF110wT9YVVVVVVXFPzjZZJNNNsk/GF100UUXzT988MEHH3zQP2yyySabbNI/YHTRRRdd1D9QNtlkk03WP0D44IMPPtg/MLrooosu2j8gfPDBBx/cPxA++OCDD94/AAAAAAAA4D/44IMPPvjgP/DBBx988OE/6KKLLrro4j/ggw8++ODjP9hkk0022eQ/0EUXXXTR5T/MJptsssnmP8QHH3zwwec/vOiiiy666D+0ySabbLLpP6yqqqqqquo/pIsuuuii6z+cbLLJJpvsP5RNNtlkk+0/jC666KKL7j+EDz744IPvPz744IMPPvA/uuiiiy668D822WSTTTbxP7LJJptssvE/Lrrooosu8j+sqqqqqqryPyibbLLJJvM/pIsuuuii8z8gfPDBBx/0P5xssskmm/Q/GF100UUX9T+UTTbZZJP1PxA++OCDD/Y/jC666KKL9j8IH3zwwQf3P4QPPvjgg/c/AAAAAAAA+D8=",
          "dtype": "f8"
         },
         "y": {
          "bdata": "AAAAAAAA+L+EDz744IP3vwgffPDBB/e/jC666KKL9r8QPvjggw/2v5NNNtlkk/W/F1100UUX9b+bbLLJJpv0vx988MEHH/S/o4suuuii878nm2yyySbzv6qqqqqqqvK/Lrrooosu8r+yySabbLLxvzbZZJNNNvG/uuiiiy668L8++OCDDz7wv4QPPvjgg++/jC666KKL7r+TTTbZZJPtv5tssskmm+y/o4suuuii67+qqqqqqqrqv7LJJptssum/uuiiiy666L/CBx988MHnv8omm2yyyea/0UUXXXTR5b/ZZJNNNtnkv+GDDz744OO/6KKLLrro4r/wwQcffPDhv/jggw8++OC/AAAAAAAA4L8QPvjggw/evyB88MEHH9y/MLrooosu2r88+OCDDz7Yv0w22WSTTda/XHTRRRdd1L9ssskmm2zSv3zwwQcffNC/GF100UUXzb842WSTTTbJv1BVVVVVVcW/cNFFF110wb8gm2yyySa7v2CTTTbZZLO/QBdddNFFp78AH3zwwQePvwAffPDBB48/QBdddNFFpz9gk0022WSzPzCbbLLJJrs/eNFFF110wT9YVVVVVVXFPzjZZJNNNsk/GF100UUXzT988MEHH3zQP2yyySabbNI/YHTRRRdd1D9QNtlkk03WP0D44IMPPtg/MLrooosu2j8gfPDBBx/cPxA++OCDD94/AAAAAAAA4D/44IMPPvjgP/DBBx988OE/6KKLLrro4j/ggw8++ODjP9hkk0022eQ/0EUXXXTR5T/MJptsssnmP8QHH3zwwec/vOiiiy666D+0ySabbLLpP6yqqqqqquo/pIsuuuii6z+cbLLJJpvsP5RNNtlkk+0/jC666KKL7j+EDz744IPvPz744IMPPvA/uuiiiy668D822WSTTTbxP7LJJptssvE/Lrrooosu8j+sqqqqqqryPyibbLLJJvM/pIsuuuii8z8gfPDBBx/0P5xssskmm/Q/GF100UUX9T+UTTbZZJP1PxA++OCDD/Y/jC666KKL9j8IH3zwwQf3P4QPPvjgg/c/AAAAAAAA+D8=",
          "dtype": "f8"
         },
         "z": {
          "bdata": "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",
          "dtype": "f4",
          "shape": "100, 100"
         }
        },
        {
         "marker": {
          "color": {
           "bdata": "AQEAAQAAAAEAAAEBAAEAAAEAAAEAAAAAAQABAAABAAEBAAEBAAEAAQEAAQAAAAEBAQEBAAABAQABAAAAAAABAAABAAEBAAEBAAAAAAAAAAEAAAEBAAAAAQABAQAAAAEAAQAAAQEBAAABAAEAAAEAAAEBAQAAAQEBAQAAAAEAAAABAAABAAAAAAAAAAEBAQEAAAEAAQABAAEBAAABAQABAAEAAAEBAAEAAAABAAABAAEBAQAAAQEBAQABAAEAAAABAQEAAAAAAQEBAQEAAAABAQABAQABAQEBAQEBAAABAAEAAQEBAQABAAABAQEAAAAAAAAAAAAAAQABAQEAAAAAAQABAAEBAQAAAQEBAAABAQEBAQEBAAAAAAABAAEAAAABAQEBAQEAAAEAAAEAAAAAAAABAAEAAQEAAAABAAABAQABAAEBAAAAAAEAAQAAAQEBAQEBAAAAAQEBAQEAAAEBAQABAAEAAQABAQEAAAEBAAEBAAABAAABAAEAAQEBAQEBAQEAAQEAAAABAQAAAQEAAQEBAQAAAQABAAEAAQABAQEAAQAAAAAAAAABAAEBAAEAAQAAAAEBAAABAAABAQEAAAEBAAABAAEAAQABAAABAQAAAAABAQEBAAEBAAABAAAAAAEAAQABAQAAAQAAAAEBAQABAAEAAQEBAAEAAAEBAQEAAAEBAQEBAQEBAAEAAAAAAQEBAAAAAAABAQEAAQEBAQEAAQAAAQABAQABAAEAAQABAAEAAAEBAQAAAQABAQAAAAABAAAAAQEAAQABAAAAAQEBAAABAQEAAQEBAAEAAAAAAAEBAAABAAABAAABAAEAAQAAAQEBAQABAAAAAQAAAAABAAEAAQAAAAEBAAAAAAAAAAABAAEAAQABAQEAAAEBAAABAAEBAAEBAQEBAAAAAQAAAQABAQABAAEBAAEAAQAAAQABAQEBAQAAAQEBAQEBAQEBAAAAAQABAQEAAQAAAAABAAEAAQEBAQEAAQABAAEAAQEAAQEBAQEBAQAAAAABAQABAAAAAAEBAQABAQAAAAAAAQEBAAEAAAAAAQEBAAEAAQAAAQEBAAAAAQABAQAAAAABAQEBAQEBAQEBAAEAAQABAAEAAAABAQEAAQABAQEAAAEAAQEAAQAAAAEAAAEAAQEBAQABAAABAQAAAQABAQEAAAEAAAEBAAABAAEBAQEAAAEAAAABAAEAAAAAAAAAAQEAAAEAAAAAAAAAAAEBAAABAQEBAQEAAAAAAAEBAQEAAQABAAEAAQEAAAEBAQEAAAEBAAEAAQEAAQAAAQEBAAABAQEBAQAAAQAAAAABAAAAAQABAQABAA==",
           "dtype": "i1"
          },
          "colorscale": [
           [
            0,
            "#4B9AC7"
           ],
           [
            1,
            "#4BE8E0"
           ]
          ]
         },
         "mode": "markers",
         "type": "scatter",
         "x": {
          "bdata": "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",
          "dtype": "f4"
         },
         "y": {
          "bdata": "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",
          "dtype": "f4"
         }
        }
       ],
       "layout": {
        "template": {
         "data": {
          "bar": [
           {
            "error_x": {
             "color": "#2a3f5f"
            },
            "error_y": {
             "color": "#2a3f5f"
            },
            "marker": {
             "line": {
              "color": "#E5ECF6",
              "width": 0.5
             },
             "pattern": {
              "fillmode": "overlay",
              "size": 10,
              "solidity": 0.2
             }
            },
            "type": "bar"
           }
          ],
          "barpolar": [
           {
            "marker": {
             "line": {
              "color": "#E5ECF6",
              "width": 0.5
             },
             "pattern": {
              "fillmode": "overlay",
              "size": 10,
              "solidity": 0.2
             }
            },
            "type": "barpolar"
           }
          ],
          "carpet": [
           {
            "aaxis": {
             "endlinecolor": "#2a3f5f",
             "gridcolor": "white",
             "linecolor": "white",
             "minorgridcolor": "white",
             "startlinecolor": "#2a3f5f"
            },
            "baxis": {
             "endlinecolor": "#2a3f5f",
             "gridcolor": "white",
             "linecolor": "white",
             "minorgridcolor": "white",
             "startlinecolor": "#2a3f5f"
            },
            "type": "carpet"
           }
          ],
          "choropleth": [
           {
            "colorbar": {
             "outlinewidth": 0,
             "ticks": ""
            },
            "type": "choropleth"
           }
          ],
          "contour": [
           {
            "colorbar": {
             "outlinewidth": 0,
             "ticks": ""
            },
            "colorscale": [
             [
              0,
              "#0d0887"
             ],
             [
              0.1111111111111111,
              "#46039f"
             ],
             [
              0.2222222222222222,
              "#7201a8"
             ],
             [
              0.3333333333333333,
              "#9c179e"
             ],
             [
              0.4444444444444444,
              "#bd3786"
             ],
             [
              0.5555555555555556,
              "#d8576b"
             ],
             [
              0.6666666666666666,
              "#ed7953"
             ],
             [
              0.7777777777777778,
              "#fb9f3a"
             ],
             [
              0.8888888888888888,
              "#fdca26"
             ],
             [
              1,
              "#f0f921"
             ]
            ],
            "type": "contour"
           }
          ],
          "contourcarpet": [
           {
            "colorbar": {
             "outlinewidth": 0,
             "ticks": ""
            },
            "type": "contourcarpet"
           }
          ],
          "heatmap": [
           {
            "colorbar": {
             "outlinewidth": 0,
             "ticks": ""
            },
            "colorscale": [
             [
              0,
              "#0d0887"
             ],
             [
              0.1111111111111111,
              "#46039f"
             ],
             [
              0.2222222222222222,
              "#7201a8"
             ],
             [
              0.3333333333333333,
              "#9c179e"
             ],
             [
              0.4444444444444444,
              "#bd3786"
             ],
             [
              0.5555555555555556,
              "#d8576b"
             ],
             [
              0.6666666666666666,
              "#ed7953"
             ],
             [
              0.7777777777777778,
              "#fb9f3a"
             ],
             [
              0.8888888888888888,
              "#fdca26"
             ],
             [
              1,
              "#f0f921"
             ]
            ],
            "type": "heatmap"
           }
          ],
          "histogram": [
           {
            "marker": {
             "pattern": {
              "fillmode": "overlay",
              "size": 10,
              "solidity": 0.2
             }
            },
            "type": "histogram"
           }
          ],
          "histogram2d": [
           {
            "colorbar": {
             "outlinewidth": 0,
             "ticks": ""
            },
            "colorscale": [
             [
              0,
              "#0d0887"
             ],
             [
              0.1111111111111111,
              "#46039f"
             ],
             [
              0.2222222222222222,
              "#7201a8"
             ],
             [
              0.3333333333333333,
              "#9c179e"
             ],
             [
              0.4444444444444444,
              "#bd3786"
             ],
             [
              0.5555555555555556,
              "#d8576b"
             ],
             [
              0.6666666666666666,
              "#ed7953"
             ],
             [
              0.7777777777777778,
              "#fb9f3a"
             ],
             [
              0.8888888888888888,
              "#fdca26"
             ],
             [
              1,
              "#f0f921"
             ]
            ],
            "type": "histogram2d"
           }
          ],
          "histogram2dcontour": [
           {
            "colorbar": {
             "outlinewidth": 0,
             "ticks": ""
            },
            "colorscale": [
             [
              0,
              "#0d0887"
             ],
             [
              0.1111111111111111,
              "#46039f"
             ],
             [
              0.2222222222222222,
              "#7201a8"
             ],
             [
              0.3333333333333333,
              "#9c179e"
             ],
             [
              0.4444444444444444,
              "#bd3786"
             ],
             [
              0.5555555555555556,
              "#d8576b"
             ],
             [
              0.6666666666666666,
              "#ed7953"
             ],
             [
              0.7777777777777778,
              "#fb9f3a"
             ],
             [
              0.8888888888888888,
              "#fdca26"
             ],
             [
              1,
              "#f0f921"
             ]
            ],
            "type": "histogram2dcontour"
           }
          ],
          "mesh3d": [
           {
            "colorbar": {
             "outlinewidth": 0,
             "ticks": ""
            },
            "type": "mesh3d"
           }
          ],
          "parcoords": [
           {
            "line": {
             "colorbar": {
              "outlinewidth": 0,
              "ticks": ""
             }
            },
            "type": "parcoords"
           }
          ],
          "pie": [
           {
            "automargin": true,
            "type": "pie"
           }
          ],
          "scatter": [
           {
            "fillpattern": {
             "fillmode": "overlay",
             "size": 10,
             "solidity": 0.2
            },
            "type": "scatter"
           }
          ],
          "scatter3d": [
           {
            "line": {
             "colorbar": {
              "outlinewidth": 0,
              "ticks": ""
             }
            },
            "marker": {
             "colorbar": {
              "outlinewidth": 0,
              "ticks": ""
             }
            },
            "type": "scatter3d"
           }
          ],
          "scattercarpet": [
           {
            "marker": {
             "colorbar": {
              "outlinewidth": 0,
              "ticks": ""
             }
            },
            "type": "scattercarpet"
           }
          ],
          "scattergeo": [
           {
            "marker": {
             "colorbar": {
              "outlinewidth": 0,
              "ticks": ""
             }
            },
            "type": "scattergeo"
           }
          ],
          "scattergl": [
           {
            "marker": {
             "colorbar": {
              "outlinewidth": 0,
              "ticks": ""
             }
            },
            "type": "scattergl"
           }
          ],
          "scattermap": [
           {
            "marker": {
             "colorbar": {
              "outlinewidth": 0,
              "ticks": ""
             }
            },
            "type": "scattermap"
           }
          ],
          "scattermapbox": [
           {
            "marker": {
             "colorbar": {
              "outlinewidth": 0,
              "ticks": ""
             }
            },
            "type": "scattermapbox"
           }
          ],
          "scatterpolar": [
           {
            "marker": {
             "colorbar": {
              "outlinewidth": 0,
              "ticks": ""
             }
            },
            "type": "scatterpolar"
           }
          ],
          "scatterpolargl": [
           {
            "marker": {
             "colorbar": {
              "outlinewidth": 0,
              "ticks": ""
             }
            },
            "type": "scatterpolargl"
           }
          ],
          "scatterternary": [
           {
            "marker": {
             "colorbar": {
              "outlinewidth": 0,
              "ticks": ""
             }
            },
            "type": "scatterternary"
           }
          ],
          "surface": [
           {
            "colorbar": {
             "outlinewidth": 0,
             "ticks": ""
            },
            "colorscale": [
             [
              0,
              "#0d0887"
             ],
             [
              0.1111111111111111,
              "#46039f"
             ],
             [
              0.2222222222222222,
              "#7201a8"
             ],
             [
              0.3333333333333333,
              "#9c179e"
             ],
             [
              0.4444444444444444,
              "#bd3786"
             ],
             [
              0.5555555555555556,
              "#d8576b"
             ],
             [
              0.6666666666666666,
              "#ed7953"
             ],
             [
              0.7777777777777778,
              "#fb9f3a"
             ],
             [
              0.8888888888888888,
              "#fdca26"
             ],
             [
              1,
              "#f0f921"
             ]
            ],
            "type": "surface"
           }
          ],
          "table": [
           {
            "cells": {
             "fill": {
              "color": "#EBF0F8"
             },
             "line": {
              "color": "white"
             }
            },
            "header": {
             "fill": {
              "color": "#C8D4E3"
             },
             "line": {
              "color": "white"
             }
            },
            "type": "table"
           }
          ]
         },
         "layout": {
          "annotationdefaults": {
           "arrowcolor": "#2a3f5f",
           "arrowhead": 0,
           "arrowwidth": 1
          },
          "autotypenumbers": "strict",
          "coloraxis": {
           "colorbar": {
            "outlinewidth": 0,
            "ticks": ""
           }
          },
          "colorscale": {
           "diverging": [
            [
             0,
             "#8e0152"
            ],
            [
             0.1,
             "#c51b7d"
            ],
            [
             0.2,
             "#de77ae"
            ],
            [
             0.3,
             "#f1b6da"
            ],
            [
             0.4,
             "#fde0ef"
            ],
            [
             0.5,
             "#f7f7f7"
            ],
            [
             0.6,
             "#e6f5d0"
            ],
            [
             0.7,
             "#b8e186"
            ],
            [
             0.8,
             "#7fbc41"
            ],
            [
             0.9,
             "#4d9221"
            ],
            [
             1,
             "#276419"
            ]
           ],
           "sequential": [
            [
             0,
             "#0d0887"
            ],
            [
             0.1111111111111111,
             "#46039f"
            ],
            [
             0.2222222222222222,
             "#7201a8"
            ],
            [
             0.3333333333333333,
             "#9c179e"
            ],
            [
             0.4444444444444444,
             "#bd3786"
            ],
            [
             0.5555555555555556,
             "#d8576b"
            ],
            [
             0.6666666666666666,
             "#ed7953"
            ],
            [
             0.7777777777777778,
             "#fb9f3a"
            ],
            [
             0.8888888888888888,
             "#fdca26"
            ],
            [
             1,
             "#f0f921"
            ]
           ],
           "sequentialminus": [
            [
             0,
             "#0d0887"
            ],
            [
             0.1111111111111111,
             "#46039f"
            ],
            [
             0.2222222222222222,
             "#7201a8"
            ],
            [
             0.3333333333333333,
             "#9c179e"
            ],
            [
             0.4444444444444444,
             "#bd3786"
            ],
            [
             0.5555555555555556,
             "#d8576b"
            ],
            [
             0.6666666666666666,
             "#ed7953"
            ],
            [
             0.7777777777777778,
             "#fb9f3a"
            ],
            [
             0.8888888888888888,
             "#fdca26"
            ],
            [
             1,
             "#f0f921"
            ]
           ]
          },
          "colorway": [
           "#636efa",
           "#EF553B",
           "#00cc96",
           "#ab63fa",
           "#FFA15A",
           "#19d3f3",
           "#FF6692",
           "#B6E880",
           "#FF97FF",
           "#FECB52"
          ],
          "font": {
           "color": "#2a3f5f"
          },
          "geo": {
           "bgcolor": "white",
           "lakecolor": "white",
           "landcolor": "#E5ECF6",
           "showlakes": true,
           "showland": true,
           "subunitcolor": "white"
          },
          "hoverlabel": {
           "align": "left"
          },
          "hovermode": "closest",
          "mapbox": {
           "style": "light"
          },
          "paper_bgcolor": "white",
          "plot_bgcolor": "#E5ECF6",
          "polar": {
           "angularaxis": {
            "gridcolor": "white",
            "linecolor": "white",
            "ticks": ""
           },
           "bgcolor": "#E5ECF6",
           "radialaxis": {
            "gridcolor": "white",
            "linecolor": "white",
            "ticks": ""
           }
          },
          "scene": {
           "xaxis": {
            "backgroundcolor": "#E5ECF6",
            "gridcolor": "white",
            "gridwidth": 2,
            "linecolor": "white",
            "showbackground": true,
            "ticks": "",
            "zerolinecolor": "white"
           },
           "yaxis": {
            "backgroundcolor": "#E5ECF6",
            "gridcolor": "white",
            "gridwidth": 2,
            "linecolor": "white",
            "showbackground": true,
            "ticks": "",
            "zerolinecolor": "white"
           },
           "zaxis": {
            "backgroundcolor": "#E5ECF6",
            "gridcolor": "white",
            "gridwidth": 2,
            "linecolor": "white",
            "showbackground": true,
            "ticks": "",
            "zerolinecolor": "white"
           }
          },
          "shapedefaults": {
           "line": {
            "color": "#2a3f5f"
           }
          },
          "ternary": {
           "aaxis": {
            "gridcolor": "white",
            "linecolor": "white",
            "ticks": ""
           },
           "baxis": {
            "gridcolor": "white",
            "linecolor": "white",
            "ticks": ""
           },
           "bgcolor": "#E5ECF6",
           "caxis": {
            "gridcolor": "white",
            "linecolor": "white",
            "ticks": ""
           }
          },
          "title": {
           "x": 0.05
          },
          "xaxis": {
           "automargin": true,
           "gridcolor": "white",
           "linecolor": "white",
           "ticks": "",
           "title": {
            "standoff": 15
           },
           "zerolinecolor": "white",
           "zerolinewidth": 2
          },
          "yaxis": {
           "automargin": true,
           "gridcolor": "white",
           "linecolor": "white",
           "ticks": "",
           "title": {
            "standoff": 15
           },
           "zerolinecolor": "white",
           "zerolinewidth": 2
          }
         }
        }
       }
      }
     },
     "metadata": {},
     "output_type": "display_data"
    }
   ],
   "source": []
  },
  {
   "cell_type": "markdown",
   "metadata": {},
   "source": [
    "## Spiral problem"
   ]
  },
  {
   "cell_type": "markdown",
   "metadata": {
    "id": "K62AqQz0n34F"
   },
   "source": [
    "* 1️⃣ Use the following code to produce some spiral data:"
   ]
  },
  {
   "cell_type": "code",
   "execution_count": 15,
   "metadata": {
    "colab": {
     "base_uri": "https://localhost:8080/",
     "height": 542
    },
    "executionInfo": {
     "elapsed": 810,
     "status": "ok",
     "timestamp": 1613136229055,
     "user": {
      "displayName": "Charles Tanguy",
      "photoUrl": "",
      "userId": "11930294859591867631"
     },
     "user_tz": -60
    },
    "id": "Q-ohkIQWsM3V",
    "outputId": "a95023bb-0136-4b89-ccb6-67f95ee4716e"
   },
   "outputs": [],
   "source": [
    "import numpy as np\n",
    "import torch\n",
    "import matplotlib.pyplot as plt\n",
    "\n",
    "N = 1000\n",
    "theta = np.sqrt(np.random.rand(N)) * 4 * np.pi\n",
    "\n",
    "r_a = 2 * theta + np.pi\n",
    "data_a = np.array([np.cos(theta) * r_a, np.sin(theta) * r_a]).T\n",
    "x_a = data_a + np.random.randn(N, 2)\n",
    "x_a = x_a / np.abs(x_a).max()\n",
    "\n",
    "r_b = -2 * theta - np.pi\n",
    "data_b = np.array([np.cos(theta) * r_b, np.sin(theta) * r_b]).T\n",
    "x_b = data_b + np.random.randn(N, 2)\n",
    "x_b = x_b / np.abs(x_b).max()\n",
    "\n",
    "res_a = np.append(x_a, np.zeros((N, 1)), axis=1)\n",
    "res_b = np.append(x_b, np.ones((N, 1)), axis=1)\n",
    "\n",
    "res = np.append(res_a, res_b, axis=0)\n",
    "np.random.shuffle(res)\n",
    "\n",
    "np.savetxt(\"result.csv\", res, delimiter=\",\", header=\"x,y,label\", comments=\"\", fmt='%.5f')\n",
    "\n",
    "data = torch.tensor(res[:, 0:2], dtype=torch.float32)\n",
    "target = torch.tensor(res[:, -1], dtype=torch.long)"
   ]
  },
  {
   "cell_type": "markdown",
   "metadata": {
    "id": "9xJNZwYXqWKx"
   },
   "source": [
    "* 2️⃣ Split into train and validation set"
   ]
  },
  {
   "cell_type": "code",
   "execution_count": 17,
   "metadata": {
    "executionInfo": {
     "elapsed": 388,
     "status": "ok",
     "timestamp": 1613136230805,
     "user": {
      "displayName": "Charles Tanguy",
      "photoUrl": "",
      "userId": "11930294859591867631"
     },
     "user_tz": -60
    },
    "id": "1TykKeQ_qb1O"
   },
   "outputs": [],
   "source": []
  },
  {
   "cell_type": "markdown",
   "metadata": {
    "id": "VL-NEzd6rNMa"
   },
   "source": [
    "* 3️⃣ Form a train and validation batch dataset"
   ]
  },
  {
   "cell_type": "code",
   "execution_count": 18,
   "metadata": {
    "executionInfo": {
     "elapsed": 417,
     "status": "ok",
     "timestamp": 1613136231982,
     "user": {
      "displayName": "Charles Tanguy",
      "photoUrl": "",
      "userId": "11930294859591867631"
     },
     "user_tz": -60
    },
    "id": "5EKZ57z7r1Ym"
   },
   "outputs": [],
   "source": []
  },
  {
   "cell_type": "code",
   "execution_count": 20,
   "metadata": {
    "colab": {
     "base_uri": "https://localhost:8080/"
    },
    "executionInfo": {
     "elapsed": 312,
     "status": "ok",
     "timestamp": 1613136232446,
     "user": {
      "displayName": "Charles Tanguy",
      "photoUrl": "",
      "userId": "11930294859591867631"
     },
     "user_tz": -60
    },
    "id": "wy7gJf26zBOR",
    "outputId": "c0ad974f-217d-43a5-fc3d-983dea5562b4"
   },
   "outputs": [
    {
     "data": {
      "text/plain": [
       "[tensor([[-0.1847, -0.6114],\n",
       "         [-0.7072, -0.3576],\n",
       "         [ 0.5627, -0.4050],\n",
       "         [ 0.5692,  0.0854],\n",
       "         [ 0.0672, -0.8922],\n",
       "         [-0.0662,  0.7808],\n",
       "         [ 0.3592,  0.5502],\n",
       "         [ 0.4210,  0.3546]]),\n",
       " tensor([1, 0, 1, 0, 0, 1, 0, 0])]"
      ]
     },
     "execution_count": 20,
     "metadata": {},
     "output_type": "execute_result"
    }
   ],
   "source": []
  },
  {
   "cell_type": "markdown",
   "metadata": {
    "id": "-nmOZgNcsYoq"
   },
   "source": [
    "* 4️⃣ Create a neural network model that can acheive good predictions on the train set (for now we do not care about overfitting)"
   ]
  },
  {
   "cell_type": "code",
   "execution_count": 21,
   "metadata": {
    "executionInfo": {
     "elapsed": 337,
     "status": "ok",
     "timestamp": 1613136233666,
     "user": {
      "displayName": "Charles Tanguy",
      "photoUrl": "",
      "userId": "11930294859591867631"
     },
     "user_tz": -60
    },
    "id": "HO92ad2SsxX6"
   },
   "outputs": [],
   "source": []
  },
  {
   "cell_type": "markdown",
   "metadata": {
    "id": "uiARSvhps_O1"
   },
   "source": [
    "* 5️⃣ Compile the model with the right loss and metric and Adam optimizer"
   ]
  },
  {
   "cell_type": "code",
   "execution_count": 22,
   "metadata": {
    "executionInfo": {
     "elapsed": 374,
     "status": "ok",
     "timestamp": 1613136235005,
     "user": {
      "displayName": "Charles Tanguy",
      "photoUrl": "",
      "userId": "11930294859591867631"
     },
     "user_tz": -60
    },
    "id": "Ul146QJ9tD2q"
   },
   "outputs": [],
   "source": []
  },
  {
   "cell_type": "markdown",
   "metadata": {
    "id": "8KVc_kVftNej"
   },
   "source": [
    "* 6️⃣ Train the model over 100 epochs"
   ]
  },
  {
   "cell_type": "code",
   "execution_count": 23,
   "metadata": {
    "colab": {
     "base_uri": "https://localhost:8080/"
    },
    "executionInfo": {
     "elapsed": 40246,
     "status": "ok",
     "timestamp": 1613136276130,
     "user": {
      "displayName": "Charles Tanguy",
      "photoUrl": "",
      "userId": "11930294859591867631"
     },
     "user_tz": -60
    },
    "id": "F3vXn4l9tQzj",
    "outputId": "9d0279ca-083a-4646-96a6-ffbc4d043a33"
   },
   "outputs": [
    {
     "name": "stdout",
     "output_type": "stream",
     "text": [
      "Epoch [1/100], Loss: 0.6430, Acc: 0.6344, Val Loss: 0.6474, Val Acc: 0.5975\n",
      "Epoch [2/100], Loss: 0.6030, Acc: 0.6294, Val Loss: 0.5924, Val Acc: 0.6125\n",
      "Epoch [3/100], Loss: 0.5130, Acc: 0.6575, Val Loss: 0.4464, Val Acc: 0.7375\n",
      "Epoch [4/100], Loss: 0.4213, Acc: 0.7456, Val Loss: 0.3919, Val Acc: 0.8450\n",
      "Epoch [5/100], Loss: 0.3721, Acc: 0.8031, Val Loss: 0.3382, Val Acc: 0.8625\n",
      "Epoch [6/100], Loss: 0.3322, Acc: 0.8287, Val Loss: 0.3082, Val Acc: 0.8525\n",
      "Epoch [7/100], Loss: 0.3102, Acc: 0.8425, Val Loss: 0.2783, Val Acc: 0.8675\n",
      "Epoch [8/100], Loss: 0.3051, Acc: 0.8450, Val Loss: 0.2747, Val Acc: 0.8700\n",
      "Epoch [9/100], Loss: 0.2939, Acc: 0.8550, Val Loss: 0.2749, Val Acc: 0.8600\n",
      "Epoch [10/100], Loss: 0.2802, Acc: 0.8588, Val Loss: 0.2681, Val Acc: 0.8725\n",
      "Epoch [11/100], Loss: 0.3178, Acc: 0.8356, Val Loss: 0.2717, Val Acc: 0.8650\n",
      "Epoch [12/100], Loss: 0.2968, Acc: 0.8525, Val Loss: 0.2526, Val Acc: 0.8700\n",
      "Epoch [13/100], Loss: 0.2861, Acc: 0.8538, Val Loss: 0.2635, Val Acc: 0.8625\n",
      "Epoch [14/100], Loss: 0.2863, Acc: 0.8588, Val Loss: 0.2694, Val Acc: 0.8700\n",
      "Epoch [15/100], Loss: 0.2959, Acc: 0.8588, Val Loss: 0.2571, Val Acc: 0.8700\n",
      "Epoch [16/100], Loss: 0.2679, Acc: 0.8650, Val Loss: 0.2505, Val Acc: 0.8775\n",
      "Epoch [17/100], Loss: 0.2744, Acc: 0.8656, Val Loss: 0.2612, Val Acc: 0.8650\n",
      "Epoch [18/100], Loss: 0.2829, Acc: 0.8612, Val Loss: 0.2655, Val Acc: 0.8675\n",
      "Epoch [19/100], Loss: 0.2913, Acc: 0.8594, Val Loss: 0.2572, Val Acc: 0.8700\n",
      "Epoch [20/100], Loss: 0.3117, Acc: 0.8431, Val Loss: 0.2693, Val Acc: 0.8675\n",
      "Epoch [21/100], Loss: 0.3017, Acc: 0.8506, Val Loss: 0.2601, Val Acc: 0.8750\n",
      "Epoch [22/100], Loss: 0.2742, Acc: 0.8638, Val Loss: 0.2503, Val Acc: 0.8800\n",
      "Epoch [23/100], Loss: 0.2647, Acc: 0.8744, Val Loss: 0.2436, Val Acc: 0.8875\n",
      "Epoch [24/100], Loss: 0.2508, Acc: 0.8775, Val Loss: 0.2593, Val Acc: 0.8725\n",
      "Epoch [25/100], Loss: 0.2366, Acc: 0.8856, Val Loss: 0.2277, Val Acc: 0.8925\n",
      "Epoch [26/100], Loss: 0.2586, Acc: 0.8856, Val Loss: 0.2104, Val Acc: 0.8975\n",
      "Epoch [27/100], Loss: 0.2168, Acc: 0.8988, Val Loss: 0.2083, Val Acc: 0.8975\n",
      "Epoch [28/100], Loss: 0.2324, Acc: 0.8925, Val Loss: 0.2033, Val Acc: 0.8975\n",
      "Epoch [29/100], Loss: 0.2253, Acc: 0.8962, Val Loss: 0.2001, Val Acc: 0.9050\n",
      "Epoch [30/100], Loss: 0.1828, Acc: 0.9194, Val Loss: 0.2002, Val Acc: 0.9050\n",
      "Epoch [31/100], Loss: 0.1770, Acc: 0.9194, Val Loss: 0.2077, Val Acc: 0.9075\n",
      "Epoch [32/100], Loss: 0.2664, Acc: 0.9150, Val Loss: 0.1880, Val Acc: 0.9150\n",
      "Epoch [33/100], Loss: 0.1681, Acc: 0.9281, Val Loss: 0.1691, Val Acc: 0.9225\n",
      "Epoch [34/100], Loss: 0.1630, Acc: 0.9313, Val Loss: 0.1846, Val Acc: 0.9225\n",
      "Epoch [35/100], Loss: 0.1989, Acc: 0.9244, Val Loss: 0.2056, Val Acc: 0.9125\n",
      "Epoch [36/100], Loss: 0.1325, Acc: 0.9481, Val Loss: 0.1405, Val Acc: 0.9350\n",
      "Epoch [37/100], Loss: 0.1275, Acc: 0.9494, Val Loss: 0.1321, Val Acc: 0.9425\n",
      "Epoch [38/100], Loss: 0.1273, Acc: 0.9500, Val Loss: 0.1714, Val Acc: 0.9300\n",
      "Epoch [39/100], Loss: 0.2115, Acc: 0.9363, Val Loss: 0.2024, Val Acc: 0.9050\n",
      "Epoch [40/100], Loss: 0.1591, Acc: 0.9437, Val Loss: 0.1307, Val Acc: 0.9375\n",
      "Epoch [41/100], Loss: 0.1344, Acc: 0.9475, Val Loss: 0.1245, Val Acc: 0.9400\n",
      "Epoch [42/100], Loss: 0.1100, Acc: 0.9569, Val Loss: 0.1300, Val Acc: 0.9350\n",
      "Epoch [43/100], Loss: 0.1068, Acc: 0.9600, Val Loss: 0.1193, Val Acc: 0.9450\n",
      "Epoch [44/100], Loss: 0.1252, Acc: 0.9525, Val Loss: 0.1185, Val Acc: 0.9450\n",
      "Epoch [45/100], Loss: 0.1226, Acc: 0.9525, Val Loss: 0.1255, Val Acc: 0.9375\n",
      "Epoch [46/100], Loss: 0.1320, Acc: 0.9500, Val Loss: 0.1312, Val Acc: 0.9375\n",
      "Epoch [47/100], Loss: 0.1145, Acc: 0.9525, Val Loss: 0.1562, Val Acc: 0.9325\n",
      "Epoch [48/100], Loss: 0.1102, Acc: 0.9587, Val Loss: 0.1278, Val Acc: 0.9400\n",
      "Epoch [49/100], Loss: 0.1023, Acc: 0.9594, Val Loss: 0.1311, Val Acc: 0.9325\n",
      "Epoch [50/100], Loss: 0.1131, Acc: 0.9563, Val Loss: 0.1790, Val Acc: 0.9275\n",
      "Epoch [51/100], Loss: 0.2547, Acc: 0.9300, Val Loss: 0.2618, Val Acc: 0.9200\n",
      "Epoch [52/100], Loss: 0.1271, Acc: 0.9544, Val Loss: 0.1675, Val Acc: 0.9375\n",
      "Epoch [53/100], Loss: 0.0985, Acc: 0.9619, Val Loss: 0.1541, Val Acc: 0.9350\n",
      "Epoch [54/100], Loss: 0.0938, Acc: 0.9619, Val Loss: 0.1220, Val Acc: 0.9450\n",
      "Epoch [55/100], Loss: 0.0867, Acc: 0.9669, Val Loss: 0.1407, Val Acc: 0.9525\n",
      "Epoch [56/100], Loss: 0.0934, Acc: 0.9631, Val Loss: 0.1197, Val Acc: 0.9450\n",
      "Epoch [57/100], Loss: 0.0808, Acc: 0.9712, Val Loss: 0.1246, Val Acc: 0.9525\n",
      "Epoch [58/100], Loss: 0.0950, Acc: 0.9644, Val Loss: 0.1510, Val Acc: 0.9350\n",
      "Epoch [59/100], Loss: 0.1815, Acc: 0.9487, Val Loss: 0.1315, Val Acc: 0.9350\n",
      "Epoch [60/100], Loss: 0.1026, Acc: 0.9600, Val Loss: 0.1357, Val Acc: 0.9425\n",
      "Epoch [61/100], Loss: 0.0856, Acc: 0.9681, Val Loss: 0.1222, Val Acc: 0.9500\n",
      "Epoch [62/100], Loss: 0.0885, Acc: 0.9681, Val Loss: 0.1125, Val Acc: 0.9475\n",
      "Epoch [63/100], Loss: 0.1083, Acc: 0.9656, Val Loss: 0.1321, Val Acc: 0.9525\n",
      "Epoch [64/100], Loss: 0.0807, Acc: 0.9694, Val Loss: 0.1295, Val Acc: 0.9450\n",
      "Epoch [65/100], Loss: 0.0801, Acc: 0.9700, Val Loss: 0.1194, Val Acc: 0.9525\n",
      "Epoch [66/100], Loss: 0.0821, Acc: 0.9694, Val Loss: 0.2359, Val Acc: 0.9325\n",
      "Epoch [67/100], Loss: 0.1356, Acc: 0.9575, Val Loss: 0.1783, Val Acc: 0.9400\n",
      "Epoch [68/100], Loss: 0.5568, Acc: 0.9325, Val Loss: 0.1157, Val Acc: 0.9550\n",
      "Epoch [69/100], Loss: 0.0865, Acc: 0.9688, Val Loss: 0.1158, Val Acc: 0.9500\n",
      "Epoch [70/100], Loss: 0.0840, Acc: 0.9675, Val Loss: 0.1160, Val Acc: 0.9525\n",
      "Epoch [71/100], Loss: 0.0801, Acc: 0.9731, Val Loss: 0.1241, Val Acc: 0.9500\n",
      "Epoch [72/100], Loss: 0.0759, Acc: 0.9719, Val Loss: 0.1365, Val Acc: 0.9525\n",
      "Epoch [73/100], Loss: 0.0991, Acc: 0.9675, Val Loss: 0.1772, Val Acc: 0.9425\n",
      "Epoch [74/100], Loss: 0.0892, Acc: 0.9681, Val Loss: 0.1616, Val Acc: 0.9450\n",
      "Epoch [75/100], Loss: 0.0814, Acc: 0.9700, Val Loss: 0.1357, Val Acc: 0.9500\n",
      "Epoch [76/100], Loss: 0.0958, Acc: 0.9663, Val Loss: 0.1295, Val Acc: 0.9375\n",
      "Epoch [77/100], Loss: 0.0817, Acc: 0.9706, Val Loss: 0.1212, Val Acc: 0.9475\n",
      "Epoch [78/100], Loss: 0.0800, Acc: 0.9700, Val Loss: 0.1308, Val Acc: 0.9450\n",
      "Epoch [79/100], Loss: 0.0795, Acc: 0.9725, Val Loss: 0.1407, Val Acc: 0.9550\n",
      "Epoch [80/100], Loss: 0.0837, Acc: 0.9731, Val Loss: 0.1145, Val Acc: 0.9475\n",
      "Epoch [81/100], Loss: 0.0994, Acc: 0.9644, Val Loss: 0.1204, Val Acc: 0.9475\n",
      "Epoch [82/100], Loss: 0.0709, Acc: 0.9762, Val Loss: 0.1179, Val Acc: 0.9575\n",
      "Epoch [83/100], Loss: 0.0700, Acc: 0.9750, Val Loss: 0.1119, Val Acc: 0.9575\n",
      "Epoch [84/100], Loss: 0.0845, Acc: 0.9706, Val Loss: 0.1658, Val Acc: 0.9550\n",
      "Epoch [85/100], Loss: 0.1628, Acc: 0.9531, Val Loss: 0.1093, Val Acc: 0.9575\n",
      "Epoch [86/100], Loss: 0.0975, Acc: 0.9700, Val Loss: 0.1275, Val Acc: 0.9475\n",
      "Epoch [87/100], Loss: 0.0869, Acc: 0.9694, Val Loss: 0.1535, Val Acc: 0.9500\n",
      "Epoch [88/100], Loss: 0.0753, Acc: 0.9700, Val Loss: 0.1089, Val Acc: 0.9600\n",
      "Epoch [89/100], Loss: 0.0712, Acc: 0.9750, Val Loss: 0.1194, Val Acc: 0.9600\n",
      "Epoch [90/100], Loss: 0.0692, Acc: 0.9731, Val Loss: 0.0982, Val Acc: 0.9525\n",
      "Epoch [91/100], Loss: 0.0706, Acc: 0.9750, Val Loss: 0.1066, Val Acc: 0.9575\n",
      "Epoch [92/100], Loss: 0.1074, Acc: 0.9650, Val Loss: 0.1171, Val Acc: 0.9525\n",
      "Epoch [93/100], Loss: 0.0706, Acc: 0.9762, Val Loss: 0.2440, Val Acc: 0.9150\n",
      "Epoch [94/100], Loss: 0.0786, Acc: 0.9725, Val Loss: 0.1015, Val Acc: 0.9550\n",
      "Epoch [95/100], Loss: 0.0711, Acc: 0.9738, Val Loss: 0.1202, Val Acc: 0.9575\n",
      "Epoch [96/100], Loss: 0.0776, Acc: 0.9731, Val Loss: 0.1367, Val Acc: 0.9425\n",
      "Epoch [97/100], Loss: 0.0890, Acc: 0.9725, Val Loss: 0.1258, Val Acc: 0.9575\n",
      "Epoch [98/100], Loss: 0.1526, Acc: 0.9563, Val Loss: 0.1138, Val Acc: 0.9525\n",
      "Epoch [99/100], Loss: 0.0707, Acc: 0.9750, Val Loss: 0.1525, Val Acc: 0.9425\n",
      "Epoch [100/100], Loss: 0.0707, Acc: 0.9756, Val Loss: 0.3181, Val Acc: 0.9300\n"
     ]
    }
   ],
   "source": [
    "import torch\n",
    "\n",
    "def train(model, train_loader, val_loader, criterion, optimizer, epochs=100):\n",
    "    \"\"\"\n",
    "    Function to train a PyTorch model with training and validation datasets.\n",
    "    \n",
    "    Parameters:\n",
    "    model: The neural network model to train.\n",
    "    train_loader: DataLoader for the training dataset.\n",
    "    val_loader: DataLoader for the validation dataset.\n",
    "    criterion: Loss function (e.g., Binary Cross Entropy for classification).\n",
    "    optimizer: Optimization algorithm (e.g., Adam, SGD).\n",
    "    epochs: Number of training epochs (default=100).\n",
    "    \n",
    "    Returns:\n",
    "    history: Dictionary containing loss and accuracy for both training and validation.\n",
    "    \"\"\"\n",
    "    \n",
    "    # Dictionary to store training & validation loss and accuracy over epochs\n",
    "    \n",
    "    for epoch in range(epochs):  # Loop over the number of epochs\n",
    "        model.train()  # Set model to training mode\n",
    "        # Initialize total loss and correct predictions\n",
    "        \n",
    "        # Training loop\n",
    "        # Reset gradients before each batch\n",
    "        # Forward pass\n",
    "        # Compute loss\n",
    "        # Backpropagation (compute gradients)\n",
    "        # Update model parameters\n",
    "        # Accumulate batch loss\n",
    "        # Count correct predictions\n",
    "        \n",
    "        # Compute average loss and accuracy for training\n",
    "        \n",
    "        # Validation phase (without gradient computation)\n",
    "        model.eval()  # Set model to evaluation mode\n",
    "        # No need to compute gradients during validation\n",
    "        # Forward pass\n",
    "        # Compute loss\n",
    "        # Accumulate validation loss\n",
    "        # Count correct predictions\n",
    "        \n",
    "        # Compute average loss and accuracy for validation\n",
    "        \n",
    "        # Store metrics in history dictionary\n",
    "        \n",
    "        # Print training progress\n",
    "    \n",
    "    return history  # Return training history\n",
    "\n",
    "# Train the model\n"
   ]
  },
  {
   "cell_type": "markdown",
   "metadata": {
    "id": "cfqEdGk-UXbA"
   },
   "source": [
    "* 7️⃣ Is the model overfitting? Use visualization"
   ]
  },
  {
   "cell_type": "code",
   "execution_count": 24,
   "metadata": {
    "colab": {
     "base_uri": "https://localhost:8080/",
     "height": 542
    },
    "executionInfo": {
     "elapsed": 565,
     "status": "ok",
     "timestamp": 1613136326098,
     "user": {
      "displayName": "Charles Tanguy",
      "photoUrl": "",
      "userId": "11930294859591867631"
     },
     "user_tz": -60
    },
    "id": "LBWz2WqdUo8Y",
    "outputId": "f7f93554-74cc-4b01-ba73-3e1aca0847c5"
   },
   "outputs": [
    {
     "data": {
      "application/vnd.plotly.v1+json": {
       "config": {
        "plotlyServerURL": "https://plot.ly"
       },
       "data": [
        {
         "marker": {
          "color": "#4B9AC7"
         },
         "mode": "lines",
         "name": "Training Loss",
         "type": "scatter",
         "y": [
          0.6429720860719681,
          0.6030235607922078,
          0.5129774175584316,
          0.42134306505322455,
          0.3721063640434295,
          0.33223200591281055,
          0.3101647398248315,
          0.3051268590427935,
          0.29386069426778705,
          0.2802473284071311,
          0.3177897084946744,
          0.2968307031411678,
          0.28605579232564193,
          0.28625181058654564,
          0.29590893528424206,
          0.2678508786368184,
          0.27444361412897705,
          0.2828809242972056,
          0.2912964745750651,
          0.3116881722549442,
          0.30165019884705546,
          0.27416223695559894,
          0.2646892620483413,
          0.2508330408850452,
          0.2366489870660007,
          0.25858409685315564,
          0.21681358979374635,
          0.23241765353901428,
          0.2252899822467589,
          0.18279636905470398,
          0.1769544279598631,
          0.2663847394645563,
          0.1680916027945932,
          0.1629622801108053,
          0.1989438258651353,
          0.13250276466307695,
          0.12746064156122883,
          0.12729000189915496,
          0.21149473645371472,
          0.15909739071823423,
          0.1344118813291334,
          0.10998482705632341,
          0.1068415063332418,
          0.1252090129413773,
          0.12262011992268526,
          0.13201290295095533,
          0.11451942270770815,
          0.11016334396288585,
          0.10228207412620861,
          0.11308808910071093,
          0.2546898182800214,
          0.1271097488147643,
          0.09851918392024345,
          0.09383932352502597,
          0.08665191160827818,
          0.09341422110828716,
          0.08076996268151561,
          0.09502821259524354,
          0.18147726928155408,
          0.10260789454856421,
          0.08563406023462448,
          0.08845530807060868,
          0.10825430520166264,
          0.08069447349875432,
          0.0801257953617278,
          0.08208389708746835,
          0.1356130136665138,
          0.5568050540515105,
          0.08645423540723642,
          0.08398453827623598,
          0.08009892916328681,
          0.07588896319046398,
          0.09909411622148809,
          0.0891684651772448,
          0.08137292223873374,
          0.09584738787923924,
          0.08174844825084758,
          0.07999557343739071,
          0.07950111811104989,
          0.08367195976019957,
          0.09937884514906614,
          0.07087797439281303,
          0.06999993669400283,
          0.08450978212025916,
          0.1628055801459004,
          0.09746775020876385,
          0.08693295601538921,
          0.07526657885910652,
          0.07123381770444212,
          0.06922459295858062,
          0.07056727805022547,
          0.10742834007712646,
          0.07061176732350133,
          0.0786131965921652,
          0.07108073386672914,
          0.07762439108066711,
          0.08896428295077613,
          0.1526329545161934,
          0.07071497584494636,
          0.07074610784984997
         ]
        },
        {
         "marker": {
          "color": "#4BE8E0"
         },
         "mode": "lines",
         "name": "Validation Loss",
         "type": "scatter",
         "y": [
          0.647417105436325,
          0.5923576474189758,
          0.44642597675323487,
          0.3918963819742203,
          0.33822798311710356,
          0.3082209822535515,
          0.2783223171532154,
          0.27473403804004193,
          0.27494974188506605,
          0.2681179928034544,
          0.2716879018768668,
          0.25264898378401995,
          0.2635276615805924,
          0.26942577907815574,
          0.2571065476536751,
          0.250514182895422,
          0.261241562073119,
          0.26551322258077564,
          0.2571503934822977,
          0.2692776944860816,
          0.26012908574193716,
          0.2502864767145365,
          0.2436328836902976,
          0.2593148595839739,
          0.22771910406649112,
          0.21037872409448027,
          0.20831944046542047,
          0.203303897716105,
          0.2000881496537477,
          0.20024122688919305,
          0.20771683927625417,
          0.18797652712557464,
          0.1690640789922327,
          0.1845991264283657,
          0.20558380586095154,
          0.14052371943835168,
          0.13209137788740918,
          0.17137272350955754,
          0.20235914792167023,
          0.13074709575157611,
          0.1244512293493608,
          0.13001672988029894,
          0.11926045912900009,
          0.11846887785417494,
          0.1255357330304105,
          0.13122640738962218,
          0.15616531786276028,
          0.12776964666321874,
          0.13114226353296543,
          0.17896559437329415,
          0.2618001441846718,
          0.1674692847271217,
          0.15408776202006266,
          0.1219627815275453,
          0.14069733145355712,
          0.11971322845085525,
          0.12462312259405735,
          0.15103133476455696,
          0.13154197111231042,
          0.13569060740293934,
          0.12220155606104527,
          0.11246920582605525,
          0.13209183937462513,
          0.1295330717304023,
          0.1193530455720611,
          0.23585249044117518,
          0.17829403291048948,
          0.11567058898275719,
          0.115816327292996,
          0.11603085708484287,
          0.12409398729971144,
          0.13651053118912387,
          0.17718571912060724,
          0.1616017023625318,
          0.13572516681902924,
          0.12948362853188883,
          0.1211837236736028,
          0.13081706598915843,
          0.140741466960244,
          0.1144805161961267,
          0.12040295429564139,
          0.11794858314591693,
          0.11191082555189497,
          0.16580378425031086,
          0.10926898095116484,
          0.12749195044860243,
          0.15345633260760225,
          0.10887189379951451,
          0.11942377369254245,
          0.09818942239529861,
          0.1066428946320957,
          0.11711758881894639,
          0.24401982299525116,
          0.10150838810615824,
          0.12020081278438283,
          0.13671495902384778,
          0.1258458353779497,
          0.11377718725227169,
          0.15252587560244138,
          0.3180730453910655
         ]
        }
       ],
       "layout": {
        "template": {
         "data": {
          "bar": [
           {
            "error_x": {
             "color": "#2a3f5f"
            },
            "error_y": {
             "color": "#2a3f5f"
            },
            "marker": {
             "line": {
              "color": "#E5ECF6",
              "width": 0.5
             },
             "pattern": {
              "fillmode": "overlay",
              "size": 10,
              "solidity": 0.2
             }
            },
            "type": "bar"
           }
          ],
          "barpolar": [
           {
            "marker": {
             "line": {
              "color": "#E5ECF6",
              "width": 0.5
             },
             "pattern": {
              "fillmode": "overlay",
              "size": 10,
              "solidity": 0.2
             }
            },
            "type": "barpolar"
           }
          ],
          "carpet": [
           {
            "aaxis": {
             "endlinecolor": "#2a3f5f",
             "gridcolor": "white",
             "linecolor": "white",
             "minorgridcolor": "white",
             "startlinecolor": "#2a3f5f"
            },
            "baxis": {
             "endlinecolor": "#2a3f5f",
             "gridcolor": "white",
             "linecolor": "white",
             "minorgridcolor": "white",
             "startlinecolor": "#2a3f5f"
            },
            "type": "carpet"
           }
          ],
          "choropleth": [
           {
            "colorbar": {
             "outlinewidth": 0,
             "ticks": ""
            },
            "type": "choropleth"
           }
          ],
          "contour": [
           {
            "colorbar": {
             "outlinewidth": 0,
             "ticks": ""
            },
            "colorscale": [
             [
              0,
              "#0d0887"
             ],
             [
              0.1111111111111111,
              "#46039f"
             ],
             [
              0.2222222222222222,
              "#7201a8"
             ],
             [
              0.3333333333333333,
              "#9c179e"
             ],
             [
              0.4444444444444444,
              "#bd3786"
             ],
             [
              0.5555555555555556,
              "#d8576b"
             ],
             [
              0.6666666666666666,
              "#ed7953"
             ],
             [
              0.7777777777777778,
              "#fb9f3a"
             ],
             [
              0.8888888888888888,
              "#fdca26"
             ],
             [
              1,
              "#f0f921"
             ]
            ],
            "type": "contour"
           }
          ],
          "contourcarpet": [
           {
            "colorbar": {
             "outlinewidth": 0,
             "ticks": ""
            },
            "type": "contourcarpet"
           }
          ],
          "heatmap": [
           {
            "colorbar": {
             "outlinewidth": 0,
             "ticks": ""
            },
            "colorscale": [
             [
              0,
              "#0d0887"
             ],
             [
              0.1111111111111111,
              "#46039f"
             ],
             [
              0.2222222222222222,
              "#7201a8"
             ],
             [
              0.3333333333333333,
              "#9c179e"
             ],
             [
              0.4444444444444444,
              "#bd3786"
             ],
             [
              0.5555555555555556,
              "#d8576b"
             ],
             [
              0.6666666666666666,
              "#ed7953"
             ],
             [
              0.7777777777777778,
              "#fb9f3a"
             ],
             [
              0.8888888888888888,
              "#fdca26"
             ],
             [
              1,
              "#f0f921"
             ]
            ],
            "type": "heatmap"
           }
          ],
          "histogram": [
           {
            "marker": {
             "pattern": {
              "fillmode": "overlay",
              "size": 10,
              "solidity": 0.2
             }
            },
            "type": "histogram"
           }
          ],
          "histogram2d": [
           {
            "colorbar": {
             "outlinewidth": 0,
             "ticks": ""
            },
            "colorscale": [
             [
              0,
              "#0d0887"
             ],
             [
              0.1111111111111111,
              "#46039f"
             ],
             [
              0.2222222222222222,
              "#7201a8"
             ],
             [
              0.3333333333333333,
              "#9c179e"
             ],
             [
              0.4444444444444444,
              "#bd3786"
             ],
             [
              0.5555555555555556,
              "#d8576b"
             ],
             [
              0.6666666666666666,
              "#ed7953"
             ],
             [
              0.7777777777777778,
              "#fb9f3a"
             ],
             [
              0.8888888888888888,
              "#fdca26"
             ],
             [
              1,
              "#f0f921"
             ]
            ],
            "type": "histogram2d"
           }
          ],
          "histogram2dcontour": [
           {
            "colorbar": {
             "outlinewidth": 0,
             "ticks": ""
            },
            "colorscale": [
             [
              0,
              "#0d0887"
             ],
             [
              0.1111111111111111,
              "#46039f"
             ],
             [
              0.2222222222222222,
              "#7201a8"
             ],
             [
              0.3333333333333333,
              "#9c179e"
             ],
             [
              0.4444444444444444,
              "#bd3786"
             ],
             [
              0.5555555555555556,
              "#d8576b"
             ],
             [
              0.6666666666666666,
              "#ed7953"
             ],
             [
              0.7777777777777778,
              "#fb9f3a"
             ],
             [
              0.8888888888888888,
              "#fdca26"
             ],
             [
              1,
              "#f0f921"
             ]
            ],
            "type": "histogram2dcontour"
           }
          ],
          "mesh3d": [
           {
            "colorbar": {
             "outlinewidth": 0,
             "ticks": ""
            },
            "type": "mesh3d"
           }
          ],
          "parcoords": [
           {
            "line": {
             "colorbar": {
              "outlinewidth": 0,
              "ticks": ""
             }
            },
            "type": "parcoords"
           }
          ],
          "pie": [
           {
            "automargin": true,
            "type": "pie"
           }
          ],
          "scatter": [
           {
            "fillpattern": {
             "fillmode": "overlay",
             "size": 10,
             "solidity": 0.2
            },
            "type": "scatter"
           }
          ],
          "scatter3d": [
           {
            "line": {
             "colorbar": {
              "outlinewidth": 0,
              "ticks": ""
             }
            },
            "marker": {
             "colorbar": {
              "outlinewidth": 0,
              "ticks": ""
             }
            },
            "type": "scatter3d"
           }
          ],
          "scattercarpet": [
           {
            "marker": {
             "colorbar": {
              "outlinewidth": 0,
              "ticks": ""
             }
            },
            "type": "scattercarpet"
           }
          ],
          "scattergeo": [
           {
            "marker": {
             "colorbar": {
              "outlinewidth": 0,
              "ticks": ""
             }
            },
            "type": "scattergeo"
           }
          ],
          "scattergl": [
           {
            "marker": {
             "colorbar": {
              "outlinewidth": 0,
              "ticks": ""
             }
            },
            "type": "scattergl"
           }
          ],
          "scattermap": [
           {
            "marker": {
             "colorbar": {
              "outlinewidth": 0,
              "ticks": ""
             }
            },
            "type": "scattermap"
           }
          ],
          "scattermapbox": [
           {
            "marker": {
             "colorbar": {
              "outlinewidth": 0,
              "ticks": ""
             }
            },
            "type": "scattermapbox"
           }
          ],
          "scatterpolar": [
           {
            "marker": {
             "colorbar": {
              "outlinewidth": 0,
              "ticks": ""
             }
            },
            "type": "scatterpolar"
           }
          ],
          "scatterpolargl": [
           {
            "marker": {
             "colorbar": {
              "outlinewidth": 0,
              "ticks": ""
             }
            },
            "type": "scatterpolargl"
           }
          ],
          "scatterternary": [
           {
            "marker": {
             "colorbar": {
              "outlinewidth": 0,
              "ticks": ""
             }
            },
            "type": "scatterternary"
           }
          ],
          "surface": [
           {
            "colorbar": {
             "outlinewidth": 0,
             "ticks": ""
            },
            "colorscale": [
             [
              0,
              "#0d0887"
             ],
             [
              0.1111111111111111,
              "#46039f"
             ],
             [
              0.2222222222222222,
              "#7201a8"
             ],
             [
              0.3333333333333333,
              "#9c179e"
             ],
             [
              0.4444444444444444,
              "#bd3786"
             ],
             [
              0.5555555555555556,
              "#d8576b"
             ],
             [
              0.6666666666666666,
              "#ed7953"
             ],
             [
              0.7777777777777778,
              "#fb9f3a"
             ],
             [
              0.8888888888888888,
              "#fdca26"
             ],
             [
              1,
              "#f0f921"
             ]
            ],
            "type": "surface"
           }
          ],
          "table": [
           {
            "cells": {
             "fill": {
              "color": "#EBF0F8"
             },
             "line": {
              "color": "white"
             }
            },
            "header": {
             "fill": {
              "color": "#C8D4E3"
             },
             "line": {
              "color": "white"
             }
            },
            "type": "table"
           }
          ]
         },
         "layout": {
          "annotationdefaults": {
           "arrowcolor": "#2a3f5f",
           "arrowhead": 0,
           "arrowwidth": 1
          },
          "autotypenumbers": "strict",
          "coloraxis": {
           "colorbar": {
            "outlinewidth": 0,
            "ticks": ""
           }
          },
          "colorscale": {
           "diverging": [
            [
             0,
             "#8e0152"
            ],
            [
             0.1,
             "#c51b7d"
            ],
            [
             0.2,
             "#de77ae"
            ],
            [
             0.3,
             "#f1b6da"
            ],
            [
             0.4,
             "#fde0ef"
            ],
            [
             0.5,
             "#f7f7f7"
            ],
            [
             0.6,
             "#e6f5d0"
            ],
            [
             0.7,
             "#b8e186"
            ],
            [
             0.8,
             "#7fbc41"
            ],
            [
             0.9,
             "#4d9221"
            ],
            [
             1,
             "#276419"
            ]
           ],
           "sequential": [
            [
             0,
             "#0d0887"
            ],
            [
             0.1111111111111111,
             "#46039f"
            ],
            [
             0.2222222222222222,
             "#7201a8"
            ],
            [
             0.3333333333333333,
             "#9c179e"
            ],
            [
             0.4444444444444444,
             "#bd3786"
            ],
            [
             0.5555555555555556,
             "#d8576b"
            ],
            [
             0.6666666666666666,
             "#ed7953"
            ],
            [
             0.7777777777777778,
             "#fb9f3a"
            ],
            [
             0.8888888888888888,
             "#fdca26"
            ],
            [
             1,
             "#f0f921"
            ]
           ],
           "sequentialminus": [
            [
             0,
             "#0d0887"
            ],
            [
             0.1111111111111111,
             "#46039f"
            ],
            [
             0.2222222222222222,
             "#7201a8"
            ],
            [
             0.3333333333333333,
             "#9c179e"
            ],
            [
             0.4444444444444444,
             "#bd3786"
            ],
            [
             0.5555555555555556,
             "#d8576b"
            ],
            [
             0.6666666666666666,
             "#ed7953"
            ],
            [
             0.7777777777777778,
             "#fb9f3a"
            ],
            [
             0.8888888888888888,
             "#fdca26"
            ],
            [
             1,
             "#f0f921"
            ]
           ]
          },
          "colorway": [
           "#636efa",
           "#EF553B",
           "#00cc96",
           "#ab63fa",
           "#FFA15A",
           "#19d3f3",
           "#FF6692",
           "#B6E880",
           "#FF97FF",
           "#FECB52"
          ],
          "font": {
           "color": "#2a3f5f"
          },
          "geo": {
           "bgcolor": "white",
           "lakecolor": "white",
           "landcolor": "#E5ECF6",
           "showlakes": true,
           "showland": true,
           "subunitcolor": "white"
          },
          "hoverlabel": {
           "align": "left"
          },
          "hovermode": "closest",
          "mapbox": {
           "style": "light"
          },
          "paper_bgcolor": "white",
          "plot_bgcolor": "#E5ECF6",
          "polar": {
           "angularaxis": {
            "gridcolor": "white",
            "linecolor": "white",
            "ticks": ""
           },
           "bgcolor": "#E5ECF6",
           "radialaxis": {
            "gridcolor": "white",
            "linecolor": "white",
            "ticks": ""
           }
          },
          "scene": {
           "xaxis": {
            "backgroundcolor": "#E5ECF6",
            "gridcolor": "white",
            "gridwidth": 2,
            "linecolor": "white",
            "showbackground": true,
            "ticks": "",
            "zerolinecolor": "white"
           },
           "yaxis": {
            "backgroundcolor": "#E5ECF6",
            "gridcolor": "white",
            "gridwidth": 2,
            "linecolor": "white",
            "showbackground": true,
            "ticks": "",
            "zerolinecolor": "white"
           },
           "zaxis": {
            "backgroundcolor": "#E5ECF6",
            "gridcolor": "white",
            "gridwidth": 2,
            "linecolor": "white",
            "showbackground": true,
            "ticks": "",
            "zerolinecolor": "white"
           }
          },
          "shapedefaults": {
           "line": {
            "color": "#2a3f5f"
           }
          },
          "ternary": {
           "aaxis": {
            "gridcolor": "white",
            "linecolor": "white",
            "ticks": ""
           },
           "baxis": {
            "gridcolor": "white",
            "linecolor": "white",
            "ticks": ""
           },
           "bgcolor": "#E5ECF6",
           "caxis": {
            "gridcolor": "white",
            "linecolor": "white",
            "ticks": ""
           }
          },
          "title": {
           "x": 0.05
          },
          "xaxis": {
           "automargin": true,
           "gridcolor": "white",
           "linecolor": "white",
           "ticks": "",
           "title": {
            "standoff": 15
           },
           "zerolinecolor": "white",
           "zerolinewidth": 2
          },
          "yaxis": {
           "automargin": true,
           "gridcolor": "white",
           "linecolor": "white",
           "ticks": "",
           "title": {
            "standoff": 15
           },
           "zerolinecolor": "white",
           "zerolinewidth": 2
          }
         }
        },
        "title": {
         "text": "Training and Validation Loss"
        },
        "xaxis": {
         "title": {
          "text": "Epochs"
         }
        },
        "yaxis": {
         "title": {
          "text": "Loss"
         }
        }
       }
      }
     },
     "metadata": {},
     "output_type": "display_data"
    }
   ],
   "source": []
  },
  {
   "cell_type": "markdown",
   "metadata": {
    "id": "1fjhsurjU9lf"
   },
   "source": [
    "* 8️⃣ Visualize the decision boundary, would you say the model could benefit from some regularization?"
   ]
  },
  {
   "cell_type": "code",
   "execution_count": 25,
   "metadata": {
    "colab": {
     "base_uri": "https://localhost:8080/",
     "height": 542
    },
    "executionInfo": {
     "elapsed": 843,
     "status": "ok",
     "timestamp": 1613136328857,
     "user": {
      "displayName": "Charles Tanguy",
      "photoUrl": "",
      "userId": "11930294859591867631"
     },
     "user_tz": -60
    },
    "id": "MPBRfK-CrY6y",
    "outputId": "937f1b77-bb96-4099-d3d4-1d25e067498a"
   },
   "outputs": [
    {
     "data": {
      "application/vnd.plotly.v1+json": {
       "config": {
        "plotlyServerURL": "https://plot.ly"
       },
       "data": [
        {
         "colorscale": [
          [
           0,
           "#0E3449"
          ],
          [
           1,
           "#015955"
          ]
         ],
         "type": "contour",
         "x": {
          "bdata": "AAAAAAAA8L8Fav1KgVrvvwrU+pUCte6/ED744IMP7r8VqPUrBWrtvxoS83aGxOy/H3zwwQcf7L8k5u0MiXnrvylQ61cK1Oq/Lrrooosu6r80JObtDInpvzmO4ziO4+i/Pvjggw8+6L9DYt7OkJjnv0jM2xkS8+a/TjbZZJNN5r9SoNavFKjlv1gK1PqVAuW/XXTRRRdd5L9i3s6QmLfjv2dIzNsZEuO/bLLJJpts4r9yHMdxHMfhv3aGxLydIeG/fPDBBx984L8CtX6lQK3fvwyJeTtDYt6/Fl100UUX3b8gMW9nSMzbvywFav1Kgdq/Ntlkk0022b9ArV8pUOvXv0qBWr9SoNa/VFVVVVVV1b9eKVDrVwrUv2j9SoFav9K/dNFFF1100b9+pUCtXynQvxDzdobEvM2/JJtssskmy784Q2LezpDIv0zrVwrU+sW/ZJNNNtlkw794O0Ni3s7AvxjHcRzHcby/QBdddNFFt79oZ0jM2xmyvyBvZ0jM26m/AB988MEHn79Av1Kg1q+Ev4C/UqDWr4Q/QB988MEHnz9Ab2dIzNupP3BnSMzbGbI/UBdddNFFtz8gx3Ecx3G8P4A7Q2LezsA/aJNNNtlkwz9Q61cK1PrFP0BDYt7OkMg/KJtssskmyz8Y83aGxLzNP4ClQK1fKdA/eNFFF1100T9s/UqBWr/SP2ApUOtXCtQ/WFVVVVVV1T9MgVq/UqDWP0StXylQ69c/ONlkk0022T8wBWr9SoHaPyQxb2dIzNs/GF100UUX3T8QiXk7Q2LePwS1fqVArd8/fvDBBx984D94hsS8nSHhP3Icx3Ecx+E/brLJJpts4j9oSMzbGRLjP2TezpCYt+M/XnTRRRdd5D9aCtT6lQLlP1Sg1q8UqOU/TjbZZJNN5j9KzNsZEvPmP0Ri3s6QmOc/QPjggw8+6D86juM4juPoPzYk5u0Miek/MLrooosu6j8qUOtXCtTqPybm7QyJees/IHzwwQcf7D8cEvN2hsTsPxao9SsFau0/ED744IMP7j8M1PqVArXuPwZq/UqBWu8/AAAAAAAA8D8=",
          "dtype": "f8"
         },
         "y": {
          "bdata": "AAAAAAAA8L8Fav1KgVrvvwrU+pUCte6/ED744IMP7r8VqPUrBWrtvxoS83aGxOy/H3zwwQcf7L8k5u0MiXnrvylQ61cK1Oq/Lrrooosu6r80JObtDInpvzmO4ziO4+i/Pvjggw8+6L9DYt7OkJjnv0jM2xkS8+a/TjbZZJNN5r9SoNavFKjlv1gK1PqVAuW/XXTRRRdd5L9i3s6QmLfjv2dIzNsZEuO/bLLJJpts4r9yHMdxHMfhv3aGxLydIeG/fPDBBx984L8CtX6lQK3fvwyJeTtDYt6/Fl100UUX3b8gMW9nSMzbvywFav1Kgdq/Ntlkk0022b9ArV8pUOvXv0qBWr9SoNa/VFVVVVVV1b9eKVDrVwrUv2j9SoFav9K/dNFFF1100b9+pUCtXynQvxDzdobEvM2/JJtssskmy784Q2LezpDIv0zrVwrU+sW/ZJNNNtlkw794O0Ni3s7AvxjHcRzHcby/QBdddNFFt79oZ0jM2xmyvyBvZ0jM26m/AB988MEHn79Av1Kg1q+Ev4C/UqDWr4Q/QB988MEHnz9Ab2dIzNupP3BnSMzbGbI/UBdddNFFtz8gx3Ecx3G8P4A7Q2LezsA/aJNNNtlkwz9Q61cK1PrFP0BDYt7OkMg/KJtssskmyz8Y83aGxLzNP4ClQK1fKdA/eNFFF1100T9s/UqBWr/SP2ApUOtXCtQ/WFVVVVVV1T9MgVq/UqDWP0StXylQ69c/ONlkk0022T8wBWr9SoHaPyQxb2dIzNs/GF100UUX3T8QiXk7Q2LePwS1fqVArd8/fvDBBx984D94hsS8nSHhP3Icx3Ecx+E/brLJJpts4j9oSMzbGRLjP2TezpCYt+M/XnTRRRdd5D9aCtT6lQLlP1Sg1q8UqOU/TjbZZJNN5j9KzNsZEvPmP0Ri3s6QmOc/QPjggw8+6D86juM4juPoPzYk5u0Miek/MLrooosu6j8qUOtXCtTqPybm7QyJees/IHzwwQcf7D8cEvN2hsTsPxao9SsFau0/ED744IMP7j8M1PqVArXuPwZq/UqBWu8/AAAAAAAA8D8=",
          "dtype": "f8"
         },
         "z": {
          "bdata": "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",
          "dtype": "f4",
          "shape": "100, 100"
         }
        },
        {
         "marker": {
          "color": {
           "bdata": "AQEBAAABAAEAAAEBAQAAAQEAAAEAAQEAAQEAAQAAAAABAQAAAAEBAQAAAQAAAAAAAQEAAQAAAAEBAQEBAAEAAAABAQEBAQABAAEBAAEAAQEAAAEAAQAAAQEBAQABAAAAAAABAAEAAAEBAQEBAAAAAQEAAAEAAQEAAQABAQEBAQEBAAABAQAAAAABAQAAAQAAAAAAAAEAAQABAQEAAAABAAEBAAEAAQEAAAABAAAAAAAAAAEAAAABAQEBAQAAAAEBAQEBAAABAQEBAQEAAAEAAAAAAAEAAAABAQABAAABAAEAAQAAAQEAAQEBAAEBAQEAAQEBAAEBAQEBAQAAAQAAAQEAAAABAAEAAAAAAQEBAAEBAQEAAAAAAAEAAAABAAEBAQAAAQEAAAABAQEBAAEAAQABAAEBAAAAAAEAAQEAAQAAAAAAAAEAAAAAAAABAAAAAQABAQABAAEAAQABAAAAAAABAAEBAQEAAQABAAEBAAABAAEAAQABAQEAAAEBAQABAAEBAQABAAEAAAEAAAEAAQEAAAEBAQEAAAAAAQEBAQEAAAEBAAAAAAABAAABAQEBAQAAAAEAAAAAAQEAAQABAQEBAAAAAAEAAAEBAQAAAQAAAQABAAEBAQABAAEBAQABAQEBAQABAQEAAAABAQABAQEBAAEAAQABAAAAAAEAAQABAQABAQEAAAEAAQABAQEBAAEBAQAAAAABAAABAQABAQAAAQEAAAABAAEAAQEAAQEBAQEAAAAAAAEAAAAAAQABAAEBAQEAAQABAAAAAQABAAEAAAABAQEBAQEBAQEAAAABAQABAQAAAAAAAAEBAQABAAEAAQABAAAAAAEAAQEAAAABAAAAAAAAAQEAAQABAAEAAAEAAQABAAEAAAEBAQAAAAABAQEBAAEBAAABAQABAQABAAAAAQAAAAABAAEAAAEBAAABAQEAAQABAQEAAAEAAQAAAQEBAQABAQABAQAAAQEBAAEBAQEAAAAAAAEBAQAAAAAAAAEAAAABAQABAQAAAQEBAAAAAQEBAAABAQEAAQEAAQEAAAEAAQEBAQEBAAABAAAAAQEBAAABAAEBAAEBAQABAAABAQEBAQEAAQEAAAAAAAABAAABAAEBAAABAQABAQABAQEAAQEBAQEAAAEBAQEAAAEAAQAAAAAAAAABAAEBAQABAQABAQABAQEBAQEAAQEBAAABAAEBAQAAAQABAAEAAAEAAQEBAAABAQAAAQAAAAEBAQAAAAEBAAABAQEBAAAAAQABAAAAAAAAAQABAAABAAEBAAEBAAAAAAAAAQABAQEBAAEBAQAAAQAAAQEBAAABAQABAAEAAQABAQEBAQEAAQEBAQEAAAEAAQABAQAAAAEBAAAAAAAAAAEAAQEBAQABAAAAAQEAAAAAAAEBAAABAAAAAAAAAAAAAAABAQABAAEBAQABAQABAAAAAAAAAQAAAAEAAAABAAEBAQABAQEBAQEAAAEAAQABAQAAAAABAAEAAAAAAAEBAAAAAQAAAQABAQEBAQEBAQEBAQABAQEAAAEAAQEAAAAAAQEAAAEAAQAAAQABAAEAAQAAAAEBAQABAQAAAQEBAAABAQABAAEBAAAAAQABAAABAQEAAAEAAAEBAAEAAQEBAAEAAAEBAAAAAAEAAAABAQABAAEBAQAAAQEAAQEBAAAAAAEAAQABAQABAQEAAQAAAAEBAAEBAQABAQABAAEBAQEBAQAAAAEBAQEAAQEAAAEBAQAAAQAAAQAAAQAAAAABAAEAAQABAAEAAAEBAAEBAQAAAAEAAAAAAAEAAAEAAQEBAQABAQABAAABAAEBAQAAAAEAAAEAAQABAAEAAAEBAAEAAAEAAQAAAAEBAAEBAAAAAAEBAAABAAAAAQAAAQABAQAAAQABAQABAQABAAEAAQAAAQAAAAAAAQAAAQEAAAAAAAAAAQAAAAAAAAEAAQAAAAABAQEBAQABAAEAAQAAAQEAAQAAAAEAAQABAAEAAQEBAAEAAAEBAQEBAQABAQEAAAEBAAAAAAABAQABAQAAAQEAAAAAAAABAAEAAAEAAAEAAAABAAEAAQEBAQAAAQAAAAEBAQABAQEBAQEAAQEAAQABAAEAAAAAAQAAAAEAAQAAAAEAAQEAAQABAAAAAQEBAAEAAQABAQEAAQEBAAAAAQABAQEAAQEAAAEAAAEBAQABAQEBAAABAQABAQAAAAABAAEAAAEBAAEBAAEBAQAAAQEAAAAAAAAAAQEBAQAAAQEBAQAAAQAAAAEBAQABAAEAAQABAQEBAAEBAAEBAQEAAAAAAQEBAAAAAQABAAEBAAAAAQAAAAEAAAEBAQEAAQEBAQABAAABAAABAAEBAQABAQABAAAAAAAAAAAAAQABAQABAQEAAAAAAQAAAAABAQEAAQABAAABAAEBAQEBAAEAAQABAQEBAAEAAAEBAQABAQEAAAEBAQABAQAAAAAAAAEBAQEBAAABAQEBAQEAAQEAAAEAAAAAAQABAQAAAAAAAQABAQABAAEAAAAAAAABAQEBAAABAAABAQEAAAAAAAABAQAAAQEAAQEAAAAAAAEAAQEBAQAAAQABAAEAAAEBAQEBAAABAQABAQEBAQAAAQABAQABAAEBAQEAAQAAAAAAAQABAQABAAAAAAEBAAEBAAABAQABAAE=",
           "dtype": "i1"
          },
          "colorscale": [
           [
            0,
            "#4B9AC7"
           ],
           [
            1,
            "#4BE8E0"
           ]
          ]
         },
         "mode": "markers",
         "type": "scatter",
         "x": {
          "bdata": "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",
          "dtype": "f4"
         },
         "y": {
          "bdata": "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",
          "dtype": "f4"
         }
        }
       ],
       "layout": {
        "template": {
         "data": {
          "bar": [
           {
            "error_x": {
             "color": "#2a3f5f"
            },
            "error_y": {
             "color": "#2a3f5f"
            },
            "marker": {
             "line": {
              "color": "#E5ECF6",
              "width": 0.5
             },
             "pattern": {
              "fillmode": "overlay",
              "size": 10,
              "solidity": 0.2
             }
            },
            "type": "bar"
           }
          ],
          "barpolar": [
           {
            "marker": {
             "line": {
              "color": "#E5ECF6",
              "width": 0.5
             },
             "pattern": {
              "fillmode": "overlay",
              "size": 10,
              "solidity": 0.2
             }
            },
            "type": "barpolar"
           }
          ],
          "carpet": [
           {
            "aaxis": {
             "endlinecolor": "#2a3f5f",
             "gridcolor": "white",
             "linecolor": "white",
             "minorgridcolor": "white",
             "startlinecolor": "#2a3f5f"
            },
            "baxis": {
             "endlinecolor": "#2a3f5f",
             "gridcolor": "white",
             "linecolor": "white",
             "minorgridcolor": "white",
             "startlinecolor": "#2a3f5f"
            },
            "type": "carpet"
           }
          ],
          "choropleth": [
           {
            "colorbar": {
             "outlinewidth": 0,
             "ticks": ""
            },
            "type": "choropleth"
           }
          ],
          "contour": [
           {
            "colorbar": {
             "outlinewidth": 0,
             "ticks": ""
            },
            "colorscale": [
             [
              0,
              "#0d0887"
             ],
             [
              0.1111111111111111,
              "#46039f"
             ],
             [
              0.2222222222222222,
              "#7201a8"
             ],
             [
              0.3333333333333333,
              "#9c179e"
             ],
             [
              0.4444444444444444,
              "#bd3786"
             ],
             [
              0.5555555555555556,
              "#d8576b"
             ],
             [
              0.6666666666666666,
              "#ed7953"
             ],
             [
              0.7777777777777778,
              "#fb9f3a"
             ],
             [
              0.8888888888888888,
              "#fdca26"
             ],
             [
              1,
              "#f0f921"
             ]
            ],
            "type": "contour"
           }
          ],
          "contourcarpet": [
           {
            "colorbar": {
             "outlinewidth": 0,
             "ticks": ""
            },
            "type": "contourcarpet"
           }
          ],
          "heatmap": [
           {
            "colorbar": {
             "outlinewidth": 0,
             "ticks": ""
            },
            "colorscale": [
             [
              0,
              "#0d0887"
             ],
             [
              0.1111111111111111,
              "#46039f"
             ],
             [
              0.2222222222222222,
              "#7201a8"
             ],
             [
              0.3333333333333333,
              "#9c179e"
             ],
             [
              0.4444444444444444,
              "#bd3786"
             ],
             [
              0.5555555555555556,
              "#d8576b"
             ],
             [
              0.6666666666666666,
              "#ed7953"
             ],
             [
              0.7777777777777778,
              "#fb9f3a"
             ],
             [
              0.8888888888888888,
              "#fdca26"
             ],
             [
              1,
              "#f0f921"
             ]
            ],
            "type": "heatmap"
           }
          ],
          "histogram": [
           {
            "marker": {
             "pattern": {
              "fillmode": "overlay",
              "size": 10,
              "solidity": 0.2
             }
            },
            "type": "histogram"
           }
          ],
          "histogram2d": [
           {
            "colorbar": {
             "outlinewidth": 0,
             "ticks": ""
            },
            "colorscale": [
             [
              0,
              "#0d0887"
             ],
             [
              0.1111111111111111,
              "#46039f"
             ],
             [
              0.2222222222222222,
              "#7201a8"
             ],
             [
              0.3333333333333333,
              "#9c179e"
             ],
             [
              0.4444444444444444,
              "#bd3786"
             ],
             [
              0.5555555555555556,
              "#d8576b"
             ],
             [
              0.6666666666666666,
              "#ed7953"
             ],
             [
              0.7777777777777778,
              "#fb9f3a"
             ],
             [
              0.8888888888888888,
              "#fdca26"
             ],
             [
              1,
              "#f0f921"
             ]
            ],
            "type": "histogram2d"
           }
          ],
          "histogram2dcontour": [
           {
            "colorbar": {
             "outlinewidth": 0,
             "ticks": ""
            },
            "colorscale": [
             [
              0,
              "#0d0887"
             ],
             [
              0.1111111111111111,
              "#46039f"
             ],
             [
              0.2222222222222222,
              "#7201a8"
             ],
             [
              0.3333333333333333,
              "#9c179e"
             ],
             [
              0.4444444444444444,
              "#bd3786"
             ],
             [
              0.5555555555555556,
              "#d8576b"
             ],
             [
              0.6666666666666666,
              "#ed7953"
             ],
             [
              0.7777777777777778,
              "#fb9f3a"
             ],
             [
              0.8888888888888888,
              "#fdca26"
             ],
             [
              1,
              "#f0f921"
             ]
            ],
            "type": "histogram2dcontour"
           }
          ],
          "mesh3d": [
           {
            "colorbar": {
             "outlinewidth": 0,
             "ticks": ""
            },
            "type": "mesh3d"
           }
          ],
          "parcoords": [
           {
            "line": {
             "colorbar": {
              "outlinewidth": 0,
              "ticks": ""
             }
            },
            "type": "parcoords"
           }
          ],
          "pie": [
           {
            "automargin": true,
            "type": "pie"
           }
          ],
          "scatter": [
           {
            "fillpattern": {
             "fillmode": "overlay",
             "size": 10,
             "solidity": 0.2
            },
            "type": "scatter"
           }
          ],
          "scatter3d": [
           {
            "line": {
             "colorbar": {
              "outlinewidth": 0,
              "ticks": ""
             }
            },
            "marker": {
             "colorbar": {
              "outlinewidth": 0,
              "ticks": ""
             }
            },
            "type": "scatter3d"
           }
          ],
          "scattercarpet": [
           {
            "marker": {
             "colorbar": {
              "outlinewidth": 0,
              "ticks": ""
             }
            },
            "type": "scattercarpet"
           }
          ],
          "scattergeo": [
           {
            "marker": {
             "colorbar": {
              "outlinewidth": 0,
              "ticks": ""
             }
            },
            "type": "scattergeo"
           }
          ],
          "scattergl": [
           {
            "marker": {
             "colorbar": {
              "outlinewidth": 0,
              "ticks": ""
             }
            },
            "type": "scattergl"
           }
          ],
          "scattermap": [
           {
            "marker": {
             "colorbar": {
              "outlinewidth": 0,
              "ticks": ""
             }
            },
            "type": "scattermap"
           }
          ],
          "scattermapbox": [
           {
            "marker": {
             "colorbar": {
              "outlinewidth": 0,
              "ticks": ""
             }
            },
            "type": "scattermapbox"
           }
          ],
          "scatterpolar": [
           {
            "marker": {
             "colorbar": {
              "outlinewidth": 0,
              "ticks": ""
             }
            },
            "type": "scatterpolar"
           }
          ],
          "scatterpolargl": [
           {
            "marker": {
             "colorbar": {
              "outlinewidth": 0,
              "ticks": ""
             }
            },
            "type": "scatterpolargl"
           }
          ],
          "scatterternary": [
           {
            "marker": {
             "colorbar": {
              "outlinewidth": 0,
              "ticks": ""
             }
            },
            "type": "scatterternary"
           }
          ],
          "surface": [
           {
            "colorbar": {
             "outlinewidth": 0,
             "ticks": ""
            },
            "colorscale": [
             [
              0,
              "#0d0887"
             ],
             [
              0.1111111111111111,
              "#46039f"
             ],
             [
              0.2222222222222222,
              "#7201a8"
             ],
             [
              0.3333333333333333,
              "#9c179e"
             ],
             [
              0.4444444444444444,
              "#bd3786"
             ],
             [
              0.5555555555555556,
              "#d8576b"
             ],
             [
              0.6666666666666666,
              "#ed7953"
             ],
             [
              0.7777777777777778,
              "#fb9f3a"
             ],
             [
              0.8888888888888888,
              "#fdca26"
             ],
             [
              1,
              "#f0f921"
             ]
            ],
            "type": "surface"
           }
          ],
          "table": [
           {
            "cells": {
             "fill": {
              "color": "#EBF0F8"
             },
             "line": {
              "color": "white"
             }
            },
            "header": {
             "fill": {
              "color": "#C8D4E3"
             },
             "line": {
              "color": "white"
             }
            },
            "type": "table"
           }
          ]
         },
         "layout": {
          "annotationdefaults": {
           "arrowcolor": "#2a3f5f",
           "arrowhead": 0,
           "arrowwidth": 1
          },
          "autotypenumbers": "strict",
          "coloraxis": {
           "colorbar": {
            "outlinewidth": 0,
            "ticks": ""
           }
          },
          "colorscale": {
           "diverging": [
            [
             0,
             "#8e0152"
            ],
            [
             0.1,
             "#c51b7d"
            ],
            [
             0.2,
             "#de77ae"
            ],
            [
             0.3,
             "#f1b6da"
            ],
            [
             0.4,
             "#fde0ef"
            ],
            [
             0.5,
             "#f7f7f7"
            ],
            [
             0.6,
             "#e6f5d0"
            ],
            [
             0.7,
             "#b8e186"
            ],
            [
             0.8,
             "#7fbc41"
            ],
            [
             0.9,
             "#4d9221"
            ],
            [
             1,
             "#276419"
            ]
           ],
           "sequential": [
            [
             0,
             "#0d0887"
            ],
            [
             0.1111111111111111,
             "#46039f"
            ],
            [
             0.2222222222222222,
             "#7201a8"
            ],
            [
             0.3333333333333333,
             "#9c179e"
            ],
            [
             0.4444444444444444,
             "#bd3786"
            ],
            [
             0.5555555555555556,
             "#d8576b"
            ],
            [
             0.6666666666666666,
             "#ed7953"
            ],
            [
             0.7777777777777778,
             "#fb9f3a"
            ],
            [
             0.8888888888888888,
             "#fdca26"
            ],
            [
             1,
             "#f0f921"
            ]
           ],
           "sequentialminus": [
            [
             0,
             "#0d0887"
            ],
            [
             0.1111111111111111,
             "#46039f"
            ],
            [
             0.2222222222222222,
             "#7201a8"
            ],
            [
             0.3333333333333333,
             "#9c179e"
            ],
            [
             0.4444444444444444,
             "#bd3786"
            ],
            [
             0.5555555555555556,
             "#d8576b"
            ],
            [
             0.6666666666666666,
             "#ed7953"
            ],
            [
             0.7777777777777778,
             "#fb9f3a"
            ],
            [
             0.8888888888888888,
             "#fdca26"
            ],
            [
             1,
             "#f0f921"
            ]
           ]
          },
          "colorway": [
           "#636efa",
           "#EF553B",
           "#00cc96",
           "#ab63fa",
           "#FFA15A",
           "#19d3f3",
           "#FF6692",
           "#B6E880",
           "#FF97FF",
           "#FECB52"
          ],
          "font": {
           "color": "#2a3f5f"
          },
          "geo": {
           "bgcolor": "white",
           "lakecolor": "white",
           "landcolor": "#E5ECF6",
           "showlakes": true,
           "showland": true,
           "subunitcolor": "white"
          },
          "hoverlabel": {
           "align": "left"
          },
          "hovermode": "closest",
          "mapbox": {
           "style": "light"
          },
          "paper_bgcolor": "white",
          "plot_bgcolor": "#E5ECF6",
          "polar": {
           "angularaxis": {
            "gridcolor": "white",
            "linecolor": "white",
            "ticks": ""
           },
           "bgcolor": "#E5ECF6",
           "radialaxis": {
            "gridcolor": "white",
            "linecolor": "white",
            "ticks": ""
           }
          },
          "scene": {
           "xaxis": {
            "backgroundcolor": "#E5ECF6",
            "gridcolor": "white",
            "gridwidth": 2,
            "linecolor": "white",
            "showbackground": true,
            "ticks": "",
            "zerolinecolor": "white"
           },
           "yaxis": {
            "backgroundcolor": "#E5ECF6",
            "gridcolor": "white",
            "gridwidth": 2,
            "linecolor": "white",
            "showbackground": true,
            "ticks": "",
            "zerolinecolor": "white"
           },
           "zaxis": {
            "backgroundcolor": "#E5ECF6",
            "gridcolor": "white",
            "gridwidth": 2,
            "linecolor": "white",
            "showbackground": true,
            "ticks": "",
            "zerolinecolor": "white"
           }
          },
          "shapedefaults": {
           "line": {
            "color": "#2a3f5f"
           }
          },
          "ternary": {
           "aaxis": {
            "gridcolor": "white",
            "linecolor": "white",
            "ticks": ""
           },
           "baxis": {
            "gridcolor": "white",
            "linecolor": "white",
            "ticks": ""
           },
           "bgcolor": "#E5ECF6",
           "caxis": {
            "gridcolor": "white",
            "linecolor": "white",
            "ticks": ""
           }
          },
          "title": {
           "x": 0.05
          },
          "xaxis": {
           "automargin": true,
           "gridcolor": "white",
           "linecolor": "white",
           "ticks": "",
           "title": {
            "standoff": 15
           },
           "zerolinecolor": "white",
           "zerolinewidth": 2
          },
          "yaxis": {
           "automargin": true,
           "gridcolor": "white",
           "linecolor": "white",
           "ticks": "",
           "title": {
            "standoff": 15
           },
           "zerolinecolor": "white",
           "zerolinewidth": 2
          }
         }
        }
       }
      }
     },
     "metadata": {},
     "output_type": "display_data"
    }
   ],
   "source": []
  },
  {
   "cell_type": "markdown",
   "metadata": {
    "id": "W5fwNHrKVIr7"
   },
   "source": [
    "* 9️⃣ Create a new model and add regularization to each layer, train it and visualize the decision boundary"
   ]
  },
  {
   "cell_type": "code",
   "execution_count": 26,
   "metadata": {
    "executionInfo": {
     "elapsed": 363,
     "status": "ok",
     "timestamp": 1613136392106,
     "user": {
      "displayName": "Charles Tanguy",
      "photoUrl": "",
      "userId": "11930294859591867631"
     },
     "user_tz": -60
    },
    "id": "TAdUwEunVP9y"
   },
   "outputs": [
    {
     "name": "stdout",
     "output_type": "stream",
     "text": [
      "Epoch [1/500], Loss: 0.6414, Acc: 0.6250, Val Loss: 0.6542, Val Acc: 0.5825\n",
      "Epoch [2/500], Loss: 0.6109, Acc: 0.6325, Val Loss: 0.5982, Val Acc: 0.5825\n",
      "Epoch [3/500], Loss: 0.5692, Acc: 0.6269, Val Loss: 0.5706, Val Acc: 0.6800\n",
      "Epoch [4/500], Loss: 0.4950, Acc: 0.6681, Val Loss: 0.4525, Val Acc: 0.7300\n",
      "Epoch [5/500], Loss: 0.4326, Acc: 0.7412, Val Loss: 0.3973, Val Acc: 0.8225\n",
      "Epoch [6/500], Loss: 0.3657, Acc: 0.7956, Val Loss: 0.3007, Val Acc: 0.8375\n",
      "Epoch [7/500], Loss: 0.3305, Acc: 0.8219, Val Loss: 0.2829, Val Acc: 0.8500\n",
      "Epoch [8/500], Loss: 0.2718, Acc: 0.8956, Val Loss: 0.2626, Val Acc: 0.8825\n",
      "Epoch [9/500], Loss: 0.2282, Acc: 0.9137, Val Loss: 0.2165, Val Acc: 0.9225\n",
      "Epoch [10/500], Loss: 0.2069, Acc: 0.9250, Val Loss: 0.1953, Val Acc: 0.9125\n",
      "Epoch [11/500], Loss: 0.2051, Acc: 0.9200, Val Loss: 0.2022, Val Acc: 0.9200\n",
      "Epoch [12/500], Loss: 0.1974, Acc: 0.9200, Val Loss: 0.2950, Val Acc: 0.8575\n",
      "Epoch [13/500], Loss: 0.1870, Acc: 0.9263, Val Loss: 0.1952, Val Acc: 0.9150\n",
      "Epoch [14/500], Loss: 0.1782, Acc: 0.9337, Val Loss: 0.1635, Val Acc: 0.9400\n",
      "Epoch [15/500], Loss: 0.1715, Acc: 0.9425, Val Loss: 0.1657, Val Acc: 0.9350\n",
      "Epoch [16/500], Loss: 0.1978, Acc: 0.9294, Val Loss: 0.1585, Val Acc: 0.9375\n",
      "Epoch [17/500], Loss: 0.1669, Acc: 0.9413, Val Loss: 0.1627, Val Acc: 0.9350\n",
      "Epoch [18/500], Loss: 0.1572, Acc: 0.9431, Val Loss: 0.1844, Val Acc: 0.9225\n",
      "Epoch [19/500], Loss: 0.1618, Acc: 0.9394, Val Loss: 0.1496, Val Acc: 0.9400\n",
      "Epoch [20/500], Loss: 0.1454, Acc: 0.9481, Val Loss: 0.1466, Val Acc: 0.9450\n",
      "Epoch [21/500], Loss: 0.1592, Acc: 0.9437, Val Loss: 0.1472, Val Acc: 0.9300\n",
      "Epoch [22/500], Loss: 0.1455, Acc: 0.9475, Val Loss: 0.1428, Val Acc: 0.9475\n",
      "Epoch [23/500], Loss: 0.1532, Acc: 0.9419, Val Loss: 0.1652, Val Acc: 0.9325\n",
      "Epoch [24/500], Loss: 0.1400, Acc: 0.9519, Val Loss: 0.1440, Val Acc: 0.9425\n",
      "Epoch [25/500], Loss: 0.1445, Acc: 0.9519, Val Loss: 0.1771, Val Acc: 0.9375\n",
      "Epoch [26/500], Loss: 0.1554, Acc: 0.9425, Val Loss: 0.1536, Val Acc: 0.9350\n",
      "Epoch [27/500], Loss: 0.1403, Acc: 0.9475, Val Loss: 0.1530, Val Acc: 0.9450\n",
      "Epoch [28/500], Loss: 0.1413, Acc: 0.9456, Val Loss: 0.1517, Val Acc: 0.9375\n",
      "Epoch [29/500], Loss: 0.1355, Acc: 0.9494, Val Loss: 0.1243, Val Acc: 0.9525\n",
      "Epoch [30/500], Loss: 0.1370, Acc: 0.9531, Val Loss: 0.1423, Val Acc: 0.9475\n",
      "Epoch [31/500], Loss: 0.1445, Acc: 0.9475, Val Loss: 0.1408, Val Acc: 0.9525\n",
      "Epoch [32/500], Loss: 0.1476, Acc: 0.9463, Val Loss: 0.1497, Val Acc: 0.9525\n",
      "Epoch [33/500], Loss: 0.1397, Acc: 0.9519, Val Loss: 0.1221, Val Acc: 0.9625\n",
      "Epoch [34/500], Loss: 0.1336, Acc: 0.9569, Val Loss: 0.1310, Val Acc: 0.9400\n",
      "Epoch [35/500], Loss: 0.1459, Acc: 0.9506, Val Loss: 0.1498, Val Acc: 0.9475\n",
      "Epoch [36/500], Loss: 0.1361, Acc: 0.9506, Val Loss: 0.1255, Val Acc: 0.9625\n",
      "Epoch [37/500], Loss: 0.1256, Acc: 0.9550, Val Loss: 0.1100, Val Acc: 0.9550\n",
      "Epoch [38/500], Loss: 0.1237, Acc: 0.9563, Val Loss: 0.1229, Val Acc: 0.9450\n",
      "Epoch [39/500], Loss: 0.1423, Acc: 0.9487, Val Loss: 0.1352, Val Acc: 0.9500\n",
      "Epoch [40/500], Loss: 0.1355, Acc: 0.9519, Val Loss: 0.1924, Val Acc: 0.9075\n",
      "Epoch [41/500], Loss: 0.1396, Acc: 0.9519, Val Loss: 0.1264, Val Acc: 0.9550\n",
      "Epoch [42/500], Loss: 0.1394, Acc: 0.9500, Val Loss: 0.1063, Val Acc: 0.9650\n",
      "Epoch [43/500], Loss: 0.1154, Acc: 0.9587, Val Loss: 0.1331, Val Acc: 0.9450\n",
      "Epoch [44/500], Loss: 0.1254, Acc: 0.9587, Val Loss: 0.1322, Val Acc: 0.9375\n",
      "Epoch [45/500], Loss: 0.1175, Acc: 0.9613, Val Loss: 0.1261, Val Acc: 0.9500\n",
      "Epoch [46/500], Loss: 0.1218, Acc: 0.9587, Val Loss: 0.1317, Val Acc: 0.9425\n",
      "Epoch [47/500], Loss: 0.1283, Acc: 0.9563, Val Loss: 0.1195, Val Acc: 0.9475\n",
      "Epoch [48/500], Loss: 0.1365, Acc: 0.9537, Val Loss: 0.1295, Val Acc: 0.9425\n",
      "Epoch [49/500], Loss: 0.1391, Acc: 0.9537, Val Loss: 0.1494, Val Acc: 0.9475\n",
      "Epoch [50/500], Loss: 0.1226, Acc: 0.9563, Val Loss: 0.1147, Val Acc: 0.9725\n",
      "Epoch [51/500], Loss: 0.1125, Acc: 0.9694, Val Loss: 0.1209, Val Acc: 0.9475\n",
      "Epoch [52/500], Loss: 0.1186, Acc: 0.9669, Val Loss: 0.2279, Val Acc: 0.9150\n",
      "Epoch [53/500], Loss: 0.1167, Acc: 0.9631, Val Loss: 0.1332, Val Acc: 0.9500\n",
      "Epoch [54/500], Loss: 0.1239, Acc: 0.9587, Val Loss: 0.0998, Val Acc: 0.9600\n",
      "Epoch [55/500], Loss: 0.1053, Acc: 0.9650, Val Loss: 0.1377, Val Acc: 0.9450\n",
      "Epoch [56/500], Loss: 0.1238, Acc: 0.9619, Val Loss: 0.1153, Val Acc: 0.9550\n",
      "Epoch [57/500], Loss: 0.1214, Acc: 0.9606, Val Loss: 0.1052, Val Acc: 0.9625\n",
      "Epoch [58/500], Loss: 0.1265, Acc: 0.9587, Val Loss: 0.1015, Val Acc: 0.9625\n",
      "Epoch [59/500], Loss: 0.1147, Acc: 0.9575, Val Loss: 0.1085, Val Acc: 0.9650\n",
      "Epoch [60/500], Loss: 0.1094, Acc: 0.9613, Val Loss: 0.1785, Val Acc: 0.9375\n",
      "Epoch [61/500], Loss: 0.1087, Acc: 0.9637, Val Loss: 0.1194, Val Acc: 0.9550\n",
      "Epoch [62/500], Loss: 0.1117, Acc: 0.9656, Val Loss: 0.1278, Val Acc: 0.9525\n",
      "Epoch [63/500], Loss: 0.1137, Acc: 0.9644, Val Loss: 0.1033, Val Acc: 0.9625\n",
      "Epoch [64/500], Loss: 0.1093, Acc: 0.9669, Val Loss: 0.1087, Val Acc: 0.9625\n",
      "Epoch [65/500], Loss: 0.1133, Acc: 0.9644, Val Loss: 0.1222, Val Acc: 0.9550\n",
      "Epoch [66/500], Loss: 0.1025, Acc: 0.9650, Val Loss: 0.1218, Val Acc: 0.9700\n",
      "Epoch [67/500], Loss: 0.1106, Acc: 0.9644, Val Loss: 0.0912, Val Acc: 0.9675\n",
      "Epoch [68/500], Loss: 0.1024, Acc: 0.9675, Val Loss: 0.1135, Val Acc: 0.9625\n",
      "Epoch [69/500], Loss: 0.1231, Acc: 0.9600, Val Loss: 0.1410, Val Acc: 0.9400\n",
      "Epoch [70/500], Loss: 0.1032, Acc: 0.9744, Val Loss: 0.0900, Val Acc: 0.9700\n",
      "Epoch [71/500], Loss: 0.1067, Acc: 0.9656, Val Loss: 0.0972, Val Acc: 0.9700\n",
      "Epoch [72/500], Loss: 0.1163, Acc: 0.9656, Val Loss: 0.1006, Val Acc: 0.9650\n",
      "Epoch [73/500], Loss: 0.1215, Acc: 0.9606, Val Loss: 0.1008, Val Acc: 0.9575\n",
      "Epoch [74/500], Loss: 0.0995, Acc: 0.9719, Val Loss: 0.1368, Val Acc: 0.9500\n",
      "Epoch [75/500], Loss: 0.1032, Acc: 0.9694, Val Loss: 0.0927, Val Acc: 0.9675\n",
      "Epoch [76/500], Loss: 0.1099, Acc: 0.9656, Val Loss: 0.0978, Val Acc: 0.9675\n",
      "Epoch [77/500], Loss: 0.1101, Acc: 0.9631, Val Loss: 0.0936, Val Acc: 0.9700\n",
      "Epoch [78/500], Loss: 0.1108, Acc: 0.9688, Val Loss: 0.1205, Val Acc: 0.9550\n",
      "Epoch [79/500], Loss: 0.1251, Acc: 0.9587, Val Loss: 0.1348, Val Acc: 0.9650\n",
      "Epoch [80/500], Loss: 0.1151, Acc: 0.9669, Val Loss: 0.1010, Val Acc: 0.9625\n",
      "Epoch [81/500], Loss: 0.0999, Acc: 0.9706, Val Loss: 0.0969, Val Acc: 0.9575\n",
      "Epoch [82/500], Loss: 0.1031, Acc: 0.9750, Val Loss: 0.1078, Val Acc: 0.9650\n",
      "Epoch [83/500], Loss: 0.0981, Acc: 0.9725, Val Loss: 0.0934, Val Acc: 0.9750\n",
      "Epoch [84/500], Loss: 0.0980, Acc: 0.9700, Val Loss: 0.1081, Val Acc: 0.9625\n",
      "Epoch [85/500], Loss: 0.1086, Acc: 0.9650, Val Loss: 0.1115, Val Acc: 0.9550\n",
      "Epoch [86/500], Loss: 0.1013, Acc: 0.9681, Val Loss: 0.1081, Val Acc: 0.9625\n",
      "Epoch [87/500], Loss: 0.1090, Acc: 0.9669, Val Loss: 0.1050, Val Acc: 0.9650\n",
      "Epoch [88/500], Loss: 0.1146, Acc: 0.9619, Val Loss: 0.1027, Val Acc: 0.9600\n",
      "Epoch [89/500], Loss: 0.1127, Acc: 0.9644, Val Loss: 0.1006, Val Acc: 0.9700\n",
      "Epoch [90/500], Loss: 0.1047, Acc: 0.9700, Val Loss: 0.1284, Val Acc: 0.9500\n",
      "Epoch [91/500], Loss: 0.0965, Acc: 0.9769, Val Loss: 0.1112, Val Acc: 0.9625\n",
      "Epoch [92/500], Loss: 0.0941, Acc: 0.9731, Val Loss: 0.1070, Val Acc: 0.9575\n",
      "Epoch [93/500], Loss: 0.1154, Acc: 0.9644, Val Loss: 0.1045, Val Acc: 0.9625\n",
      "Epoch [94/500], Loss: 0.1157, Acc: 0.9600, Val Loss: 0.0957, Val Acc: 0.9625\n",
      "Epoch [95/500], Loss: 0.1039, Acc: 0.9656, Val Loss: 0.0992, Val Acc: 0.9725\n",
      "Epoch [96/500], Loss: 0.1076, Acc: 0.9706, Val Loss: 0.1248, Val Acc: 0.9575\n",
      "Epoch [97/500], Loss: 0.1045, Acc: 0.9625, Val Loss: 0.1031, Val Acc: 0.9575\n",
      "Epoch [98/500], Loss: 0.1037, Acc: 0.9700, Val Loss: 0.0963, Val Acc: 0.9700\n",
      "Epoch [99/500], Loss: 0.0957, Acc: 0.9725, Val Loss: 0.0933, Val Acc: 0.9750\n",
      "Epoch [100/500], Loss: 0.1001, Acc: 0.9706, Val Loss: 0.0957, Val Acc: 0.9625\n",
      "Epoch [101/500], Loss: 0.1106, Acc: 0.9663, Val Loss: 0.0986, Val Acc: 0.9825\n",
      "Epoch [102/500], Loss: 0.1080, Acc: 0.9681, Val Loss: 0.1069, Val Acc: 0.9550\n",
      "Epoch [103/500], Loss: 0.1145, Acc: 0.9625, Val Loss: 0.1016, Val Acc: 0.9650\n",
      "Epoch [104/500], Loss: 0.0998, Acc: 0.9731, Val Loss: 0.0918, Val Acc: 0.9725\n",
      "Epoch [105/500], Loss: 0.0935, Acc: 0.9744, Val Loss: 0.0998, Val Acc: 0.9625\n",
      "Epoch [106/500], Loss: 0.0984, Acc: 0.9700, Val Loss: 0.0847, Val Acc: 0.9850\n",
      "Epoch [107/500], Loss: 0.1041, Acc: 0.9650, Val Loss: 0.0919, Val Acc: 0.9600\n",
      "Epoch [108/500], Loss: 0.0979, Acc: 0.9706, Val Loss: 0.1023, Val Acc: 0.9725\n",
      "Epoch [109/500], Loss: 0.0969, Acc: 0.9756, Val Loss: 0.0861, Val Acc: 0.9725\n",
      "Epoch [110/500], Loss: 0.0911, Acc: 0.9781, Val Loss: 0.1076, Val Acc: 0.9675\n",
      "Epoch [111/500], Loss: 0.0934, Acc: 0.9756, Val Loss: 0.0959, Val Acc: 0.9600\n",
      "Epoch [112/500], Loss: 0.1035, Acc: 0.9738, Val Loss: 0.1071, Val Acc: 0.9600\n",
      "Epoch [113/500], Loss: 0.0994, Acc: 0.9719, Val Loss: 0.1063, Val Acc: 0.9575\n",
      "Epoch [114/500], Loss: 0.0850, Acc: 0.9794, Val Loss: 0.0851, Val Acc: 0.9800\n",
      "Epoch [115/500], Loss: 0.0947, Acc: 0.9794, Val Loss: 0.1056, Val Acc: 0.9525\n",
      "Epoch [116/500], Loss: 0.0943, Acc: 0.9756, Val Loss: 0.0714, Val Acc: 0.9850\n",
      "Epoch [117/500], Loss: 0.1045, Acc: 0.9681, Val Loss: 0.0870, Val Acc: 0.9800\n",
      "Epoch [118/500], Loss: 0.0865, Acc: 0.9775, Val Loss: 0.0772, Val Acc: 0.9825\n",
      "Epoch [119/500], Loss: 0.1051, Acc: 0.9675, Val Loss: 0.0984, Val Acc: 0.9750\n",
      "Epoch [120/500], Loss: 0.0977, Acc: 0.9788, Val Loss: 0.1010, Val Acc: 0.9650\n",
      "Epoch [121/500], Loss: 0.1019, Acc: 0.9738, Val Loss: 0.1288, Val Acc: 0.9600\n",
      "Epoch [122/500], Loss: 0.1082, Acc: 0.9712, Val Loss: 0.1092, Val Acc: 0.9525\n",
      "Epoch [123/500], Loss: 0.1039, Acc: 0.9744, Val Loss: 0.1038, Val Acc: 0.9775\n",
      "Epoch [124/500], Loss: 0.0940, Acc: 0.9762, Val Loss: 0.0909, Val Acc: 0.9725\n",
      "Epoch [125/500], Loss: 0.1008, Acc: 0.9712, Val Loss: 0.0929, Val Acc: 0.9675\n",
      "Epoch [126/500], Loss: 0.0960, Acc: 0.9731, Val Loss: 0.0948, Val Acc: 0.9600\n",
      "Epoch [127/500], Loss: 0.1036, Acc: 0.9750, Val Loss: 0.1030, Val Acc: 0.9675\n",
      "Epoch [128/500], Loss: 0.0994, Acc: 0.9738, Val Loss: 0.1242, Val Acc: 0.9475\n",
      "Epoch [129/500], Loss: 0.1000, Acc: 0.9756, Val Loss: 0.0956, Val Acc: 0.9725\n",
      "Epoch [130/500], Loss: 0.0972, Acc: 0.9756, Val Loss: 0.1268, Val Acc: 0.9650\n",
      "Epoch [131/500], Loss: 0.0894, Acc: 0.9756, Val Loss: 0.0860, Val Acc: 0.9775\n",
      "Epoch [132/500], Loss: 0.1087, Acc: 0.9675, Val Loss: 0.1131, Val Acc: 0.9725\n",
      "Epoch [133/500], Loss: 0.0929, Acc: 0.9731, Val Loss: 0.1348, Val Acc: 0.9575\n",
      "Epoch [134/500], Loss: 0.0910, Acc: 0.9775, Val Loss: 0.0903, Val Acc: 0.9775\n",
      "Epoch [135/500], Loss: 0.1066, Acc: 0.9669, Val Loss: 0.0883, Val Acc: 0.9700\n",
      "Epoch [136/500], Loss: 0.0972, Acc: 0.9750, Val Loss: 0.0927, Val Acc: 0.9700\n",
      "Epoch [137/500], Loss: 0.0953, Acc: 0.9725, Val Loss: 0.1361, Val Acc: 0.9500\n",
      "Epoch [138/500], Loss: 0.0897, Acc: 0.9762, Val Loss: 0.1060, Val Acc: 0.9675\n",
      "Epoch [139/500], Loss: 0.0913, Acc: 0.9769, Val Loss: 0.0823, Val Acc: 0.9850\n",
      "Epoch [140/500], Loss: 0.0914, Acc: 0.9781, Val Loss: 0.0843, Val Acc: 0.9725\n",
      "Epoch [141/500], Loss: 0.0975, Acc: 0.9719, Val Loss: 0.0899, Val Acc: 0.9700\n",
      "Epoch [142/500], Loss: 0.0993, Acc: 0.9750, Val Loss: 0.0821, Val Acc: 0.9825\n",
      "Epoch [143/500], Loss: 0.0959, Acc: 0.9719, Val Loss: 0.0901, Val Acc: 0.9775\n",
      "Epoch [144/500], Loss: 0.1022, Acc: 0.9706, Val Loss: 0.0973, Val Acc: 0.9775\n",
      "Epoch [145/500], Loss: 0.0983, Acc: 0.9738, Val Loss: 0.1181, Val Acc: 0.9650\n",
      "Epoch [146/500], Loss: 0.0912, Acc: 0.9769, Val Loss: 0.0983, Val Acc: 0.9650\n",
      "Epoch [147/500], Loss: 0.0957, Acc: 0.9725, Val Loss: 0.0898, Val Acc: 0.9750\n",
      "Epoch [148/500], Loss: 0.0960, Acc: 0.9738, Val Loss: 0.0890, Val Acc: 0.9650\n",
      "Epoch [149/500], Loss: 0.1043, Acc: 0.9719, Val Loss: 0.0899, Val Acc: 0.9725\n",
      "Epoch [150/500], Loss: 0.1012, Acc: 0.9700, Val Loss: 0.0978, Val Acc: 0.9775\n",
      "Epoch [151/500], Loss: 0.0982, Acc: 0.9719, Val Loss: 0.0867, Val Acc: 0.9775\n",
      "Epoch [152/500], Loss: 0.1253, Acc: 0.9581, Val Loss: 0.0910, Val Acc: 0.9725\n",
      "Epoch [153/500], Loss: 0.0938, Acc: 0.9775, Val Loss: 0.0964, Val Acc: 0.9800\n",
      "Epoch [154/500], Loss: 0.0891, Acc: 0.9806, Val Loss: 0.0830, Val Acc: 0.9775\n",
      "Epoch [155/500], Loss: 0.0991, Acc: 0.9731, Val Loss: 0.0872, Val Acc: 0.9825\n",
      "Epoch [156/500], Loss: 0.0977, Acc: 0.9688, Val Loss: 0.1056, Val Acc: 0.9650\n",
      "Epoch [157/500], Loss: 0.0990, Acc: 0.9750, Val Loss: 0.0874, Val Acc: 0.9825\n",
      "Epoch [158/500], Loss: 0.0859, Acc: 0.9825, Val Loss: 0.0759, Val Acc: 0.9850\n",
      "Epoch [159/500], Loss: 0.0869, Acc: 0.9819, Val Loss: 0.1024, Val Acc: 0.9600\n",
      "Epoch [160/500], Loss: 0.0977, Acc: 0.9700, Val Loss: 0.1132, Val Acc: 0.9575\n",
      "Epoch [161/500], Loss: 0.0834, Acc: 0.9812, Val Loss: 0.1237, Val Acc: 0.9575\n",
      "Epoch [162/500], Loss: 0.1205, Acc: 0.9613, Val Loss: 0.1107, Val Acc: 0.9700\n",
      "Epoch [163/500], Loss: 0.0973, Acc: 0.9781, Val Loss: 0.0928, Val Acc: 0.9750\n",
      "Epoch [164/500], Loss: 0.0850, Acc: 0.9806, Val Loss: 0.0802, Val Acc: 0.9750\n",
      "Epoch [165/500], Loss: 0.0889, Acc: 0.9794, Val Loss: 0.0883, Val Acc: 0.9725\n",
      "Epoch [166/500], Loss: 0.0958, Acc: 0.9781, Val Loss: 0.1001, Val Acc: 0.9675\n",
      "Epoch [167/500], Loss: 0.0890, Acc: 0.9775, Val Loss: 0.0942, Val Acc: 0.9875\n",
      "Epoch [168/500], Loss: 0.0947, Acc: 0.9788, Val Loss: 0.0782, Val Acc: 0.9775\n",
      "Epoch [169/500], Loss: 0.0937, Acc: 0.9794, Val Loss: 0.1213, Val Acc: 0.9600\n",
      "Epoch [170/500], Loss: 0.1093, Acc: 0.9675, Val Loss: 0.1174, Val Acc: 0.9475\n",
      "Epoch [171/500], Loss: 0.0879, Acc: 0.9788, Val Loss: 0.0805, Val Acc: 0.9825\n",
      "Epoch [172/500], Loss: 0.1067, Acc: 0.9675, Val Loss: 0.0866, Val Acc: 0.9750\n",
      "Epoch [173/500], Loss: 0.0927, Acc: 0.9744, Val Loss: 0.0890, Val Acc: 0.9825\n",
      "Epoch [174/500], Loss: 0.1100, Acc: 0.9688, Val Loss: 0.0878, Val Acc: 0.9850\n",
      "Epoch [175/500], Loss: 0.0992, Acc: 0.9725, Val Loss: 0.0853, Val Acc: 0.9750\n",
      "Epoch [176/500], Loss: 0.0955, Acc: 0.9744, Val Loss: 0.0841, Val Acc: 0.9800\n",
      "Epoch [177/500], Loss: 0.1061, Acc: 0.9719, Val Loss: 0.0811, Val Acc: 0.9800\n",
      "Epoch [178/500], Loss: 0.0885, Acc: 0.9794, Val Loss: 0.0799, Val Acc: 0.9850\n",
      "Epoch [179/500], Loss: 0.1021, Acc: 0.9731, Val Loss: 0.0781, Val Acc: 0.9800\n",
      "Epoch [180/500], Loss: 0.0951, Acc: 0.9744, Val Loss: 0.0817, Val Acc: 0.9750\n",
      "Epoch [181/500], Loss: 0.0939, Acc: 0.9744, Val Loss: 0.0904, Val Acc: 0.9775\n",
      "Epoch [182/500], Loss: 0.0921, Acc: 0.9781, Val Loss: 0.0865, Val Acc: 0.9800\n",
      "Epoch [183/500], Loss: 0.0931, Acc: 0.9750, Val Loss: 0.0866, Val Acc: 0.9875\n",
      "Epoch [184/500], Loss: 0.1124, Acc: 0.9688, Val Loss: 0.1007, Val Acc: 0.9625\n",
      "Epoch [185/500], Loss: 0.1027, Acc: 0.9738, Val Loss: 0.0999, Val Acc: 0.9850\n",
      "Epoch [186/500], Loss: 0.0982, Acc: 0.9731, Val Loss: 0.1320, Val Acc: 0.9550\n",
      "Epoch [187/500], Loss: 0.0981, Acc: 0.9719, Val Loss: 0.0854, Val Acc: 0.9825\n",
      "Epoch [188/500], Loss: 0.0897, Acc: 0.9775, Val Loss: 0.0780, Val Acc: 0.9825\n",
      "Epoch [189/500], Loss: 0.0942, Acc: 0.9700, Val Loss: 0.0879, Val Acc: 0.9800\n",
      "Epoch [190/500], Loss: 0.0917, Acc: 0.9806, Val Loss: 0.1053, Val Acc: 0.9525\n",
      "Epoch [191/500], Loss: 0.1013, Acc: 0.9719, Val Loss: 0.1046, Val Acc: 0.9625\n",
      "Epoch [192/500], Loss: 0.0949, Acc: 0.9756, Val Loss: 0.0844, Val Acc: 0.9850\n",
      "Epoch [193/500], Loss: 0.0948, Acc: 0.9712, Val Loss: 0.0820, Val Acc: 0.9725\n",
      "Epoch [194/500], Loss: 0.0995, Acc: 0.9781, Val Loss: 0.0929, Val Acc: 0.9750\n",
      "Epoch [195/500], Loss: 0.0962, Acc: 0.9788, Val Loss: 0.0844, Val Acc: 0.9750\n",
      "Epoch [196/500], Loss: 0.0890, Acc: 0.9775, Val Loss: 0.0788, Val Acc: 0.9825\n",
      "Epoch [197/500], Loss: 0.0892, Acc: 0.9762, Val Loss: 0.0957, Val Acc: 0.9600\n",
      "Epoch [198/500], Loss: 0.1027, Acc: 0.9731, Val Loss: 0.0786, Val Acc: 0.9775\n",
      "Epoch [199/500], Loss: 0.0962, Acc: 0.9794, Val Loss: 0.1263, Val Acc: 0.9500\n",
      "Epoch [200/500], Loss: 0.0937, Acc: 0.9794, Val Loss: 0.0986, Val Acc: 0.9600\n",
      "Epoch [201/500], Loss: 0.0943, Acc: 0.9762, Val Loss: 0.1041, Val Acc: 0.9650\n",
      "Epoch [202/500], Loss: 0.0919, Acc: 0.9719, Val Loss: 0.0848, Val Acc: 0.9750\n",
      "Epoch [203/500], Loss: 0.0974, Acc: 0.9706, Val Loss: 0.0785, Val Acc: 0.9850\n",
      "Epoch [204/500], Loss: 0.0935, Acc: 0.9769, Val Loss: 0.0990, Val Acc: 0.9800\n",
      "Epoch [205/500], Loss: 0.1027, Acc: 0.9706, Val Loss: 0.1090, Val Acc: 0.9750\n",
      "Epoch [206/500], Loss: 0.0891, Acc: 0.9788, Val Loss: 0.0884, Val Acc: 0.9825\n",
      "Epoch [207/500], Loss: 0.0897, Acc: 0.9750, Val Loss: 0.0837, Val Acc: 0.9800\n",
      "Epoch [208/500], Loss: 0.0926, Acc: 0.9788, Val Loss: 0.1242, Val Acc: 0.9475\n",
      "Epoch [209/500], Loss: 0.1057, Acc: 0.9725, Val Loss: 0.0916, Val Acc: 0.9775\n",
      "Epoch [210/500], Loss: 0.1019, Acc: 0.9694, Val Loss: 0.0808, Val Acc: 0.9775\n",
      "Epoch [211/500], Loss: 0.0925, Acc: 0.9762, Val Loss: 0.1100, Val Acc: 0.9725\n",
      "Epoch [212/500], Loss: 0.0940, Acc: 0.9788, Val Loss: 0.0899, Val Acc: 0.9700\n",
      "Epoch [213/500], Loss: 0.1006, Acc: 0.9725, Val Loss: 0.0920, Val Acc: 0.9650\n",
      "Epoch [214/500], Loss: 0.0942, Acc: 0.9781, Val Loss: 0.0915, Val Acc: 0.9725\n",
      "Epoch [215/500], Loss: 0.1024, Acc: 0.9675, Val Loss: 0.0925, Val Acc: 0.9725\n",
      "Epoch [216/500], Loss: 0.0840, Acc: 0.9794, Val Loss: 0.0771, Val Acc: 0.9800\n",
      "Epoch [217/500], Loss: 0.0885, Acc: 0.9781, Val Loss: 0.0860, Val Acc: 0.9725\n",
      "Epoch [218/500], Loss: 0.1001, Acc: 0.9700, Val Loss: 0.0833, Val Acc: 0.9825\n",
      "Epoch [219/500], Loss: 0.0961, Acc: 0.9769, Val Loss: 0.0985, Val Acc: 0.9600\n",
      "Epoch [220/500], Loss: 0.0978, Acc: 0.9712, Val Loss: 0.0917, Val Acc: 0.9800\n",
      "Epoch [221/500], Loss: 0.0938, Acc: 0.9775, Val Loss: 0.0846, Val Acc: 0.9800\n",
      "Epoch [222/500], Loss: 0.1049, Acc: 0.9681, Val Loss: 0.0925, Val Acc: 0.9675\n",
      "Epoch [223/500], Loss: 0.0986, Acc: 0.9750, Val Loss: 0.1124, Val Acc: 0.9700\n",
      "Epoch [224/500], Loss: 0.0852, Acc: 0.9812, Val Loss: 0.1242, Val Acc: 0.9575\n",
      "Epoch [225/500], Loss: 0.0991, Acc: 0.9719, Val Loss: 0.0861, Val Acc: 0.9800\n",
      "Epoch [226/500], Loss: 0.0892, Acc: 0.9756, Val Loss: 0.0849, Val Acc: 0.9775\n",
      "Epoch [227/500], Loss: 0.0931, Acc: 0.9762, Val Loss: 0.0760, Val Acc: 0.9875\n",
      "Epoch [228/500], Loss: 0.1126, Acc: 0.9656, Val Loss: 0.0963, Val Acc: 0.9675\n",
      "Epoch [229/500], Loss: 0.0899, Acc: 0.9775, Val Loss: 0.1246, Val Acc: 0.9500\n",
      "Epoch [230/500], Loss: 0.0923, Acc: 0.9775, Val Loss: 0.0855, Val Acc: 0.9750\n",
      "Epoch [231/500], Loss: 0.0893, Acc: 0.9756, Val Loss: 0.0749, Val Acc: 0.9900\n",
      "Epoch [232/500], Loss: 0.0845, Acc: 0.9800, Val Loss: 0.0940, Val Acc: 0.9775\n",
      "Epoch [233/500], Loss: 0.0924, Acc: 0.9781, Val Loss: 0.0900, Val Acc: 0.9750\n",
      "Epoch [234/500], Loss: 0.0984, Acc: 0.9731, Val Loss: 0.1425, Val Acc: 0.9400\n",
      "Epoch [235/500], Loss: 0.0988, Acc: 0.9750, Val Loss: 0.1126, Val Acc: 0.9600\n",
      "Epoch [236/500], Loss: 0.0898, Acc: 0.9794, Val Loss: 0.0994, Val Acc: 0.9800\n",
      "Epoch [237/500], Loss: 0.0838, Acc: 0.9781, Val Loss: 0.0963, Val Acc: 0.9700\n",
      "Epoch [238/500], Loss: 0.1026, Acc: 0.9725, Val Loss: 0.1067, Val Acc: 0.9550\n",
      "Epoch [239/500], Loss: 0.1093, Acc: 0.9675, Val Loss: 0.1590, Val Acc: 0.9350\n",
      "Epoch [240/500], Loss: 0.0933, Acc: 0.9731, Val Loss: 0.0776, Val Acc: 0.9800\n",
      "Epoch [241/500], Loss: 0.0860, Acc: 0.9788, Val Loss: 0.0925, Val Acc: 0.9700\n",
      "Epoch [242/500], Loss: 0.0959, Acc: 0.9756, Val Loss: 0.0938, Val Acc: 0.9750\n",
      "Epoch [243/500], Loss: 0.0929, Acc: 0.9725, Val Loss: 0.0797, Val Acc: 0.9825\n",
      "Epoch [244/500], Loss: 0.0917, Acc: 0.9788, Val Loss: 0.0854, Val Acc: 0.9875\n",
      "Epoch [245/500], Loss: 0.0963, Acc: 0.9756, Val Loss: 0.0904, Val Acc: 0.9800\n",
      "Epoch [246/500], Loss: 0.0903, Acc: 0.9781, Val Loss: 0.0770, Val Acc: 0.9825\n",
      "Epoch [247/500], Loss: 0.0970, Acc: 0.9762, Val Loss: 0.0904, Val Acc: 0.9700\n",
      "Epoch [248/500], Loss: 0.0881, Acc: 0.9788, Val Loss: 0.0994, Val Acc: 0.9725\n",
      "Epoch [249/500], Loss: 0.0961, Acc: 0.9775, Val Loss: 0.1068, Val Acc: 0.9750\n",
      "Epoch [250/500], Loss: 0.1129, Acc: 0.9688, Val Loss: 0.1146, Val Acc: 0.9675\n",
      "Epoch [251/500], Loss: 0.1015, Acc: 0.9756, Val Loss: 0.0868, Val Acc: 0.9825\n",
      "Epoch [252/500], Loss: 0.0917, Acc: 0.9744, Val Loss: 0.0862, Val Acc: 0.9775\n",
      "Epoch [253/500], Loss: 0.0998, Acc: 0.9731, Val Loss: 0.0807, Val Acc: 0.9850\n",
      "Epoch [254/500], Loss: 0.0900, Acc: 0.9781, Val Loss: 0.1344, Val Acc: 0.9600\n",
      "Epoch [255/500], Loss: 0.0904, Acc: 0.9794, Val Loss: 0.0876, Val Acc: 0.9750\n",
      "Epoch [256/500], Loss: 0.0982, Acc: 0.9694, Val Loss: 0.0968, Val Acc: 0.9800\n",
      "Epoch [257/500], Loss: 0.0819, Acc: 0.9769, Val Loss: 0.1128, Val Acc: 0.9675\n",
      "Epoch [258/500], Loss: 0.0987, Acc: 0.9744, Val Loss: 0.0985, Val Acc: 0.9625\n",
      "Epoch [259/500], Loss: 0.0947, Acc: 0.9769, Val Loss: 0.1091, Val Acc: 0.9750\n",
      "Epoch [260/500], Loss: 0.1057, Acc: 0.9688, Val Loss: 0.1243, Val Acc: 0.9525\n",
      "Epoch [261/500], Loss: 0.0992, Acc: 0.9731, Val Loss: 0.0753, Val Acc: 0.9825\n",
      "Epoch [262/500], Loss: 0.0917, Acc: 0.9762, Val Loss: 0.0722, Val Acc: 0.9850\n",
      "Epoch [263/500], Loss: 0.0958, Acc: 0.9712, Val Loss: 0.1123, Val Acc: 0.9675\n",
      "Epoch [264/500], Loss: 0.0916, Acc: 0.9756, Val Loss: 0.0874, Val Acc: 0.9875\n",
      "Epoch [265/500], Loss: 0.0880, Acc: 0.9819, Val Loss: 0.1580, Val Acc: 0.9450\n",
      "Epoch [266/500], Loss: 0.1186, Acc: 0.9656, Val Loss: 0.1011, Val Acc: 0.9725\n",
      "Epoch [267/500], Loss: 0.0930, Acc: 0.9806, Val Loss: 0.0922, Val Acc: 0.9775\n",
      "Epoch [268/500], Loss: 0.1036, Acc: 0.9688, Val Loss: 0.1113, Val Acc: 0.9650\n",
      "Epoch [269/500], Loss: 0.0897, Acc: 0.9762, Val Loss: 0.0805, Val Acc: 0.9800\n",
      "Epoch [270/500], Loss: 0.0869, Acc: 0.9794, Val Loss: 0.0882, Val Acc: 0.9750\n",
      "Epoch [271/500], Loss: 0.0924, Acc: 0.9744, Val Loss: 0.0971, Val Acc: 0.9625\n",
      "Epoch [272/500], Loss: 0.0894, Acc: 0.9781, Val Loss: 0.0958, Val Acc: 0.9850\n",
      "Epoch [273/500], Loss: 0.0896, Acc: 0.9775, Val Loss: 0.0858, Val Acc: 0.9800\n",
      "Epoch [274/500], Loss: 0.0957, Acc: 0.9781, Val Loss: 0.0878, Val Acc: 0.9750\n",
      "Epoch [275/500], Loss: 0.0962, Acc: 0.9756, Val Loss: 0.0884, Val Acc: 0.9700\n",
      "Epoch [276/500], Loss: 0.0942, Acc: 0.9775, Val Loss: 0.0753, Val Acc: 0.9825\n",
      "Epoch [277/500], Loss: 0.1020, Acc: 0.9738, Val Loss: 0.0902, Val Acc: 0.9800\n",
      "Epoch [278/500], Loss: 0.0954, Acc: 0.9738, Val Loss: 0.0793, Val Acc: 0.9850\n",
      "Epoch [279/500], Loss: 0.1012, Acc: 0.9744, Val Loss: 0.1125, Val Acc: 0.9650\n",
      "Epoch [280/500], Loss: 0.0885, Acc: 0.9775, Val Loss: 0.1289, Val Acc: 0.9525\n",
      "Epoch [281/500], Loss: 0.0942, Acc: 0.9731, Val Loss: 0.1086, Val Acc: 0.9700\n",
      "Epoch [282/500], Loss: 0.0974, Acc: 0.9738, Val Loss: 0.0822, Val Acc: 0.9825\n",
      "Epoch [283/500], Loss: 0.0955, Acc: 0.9769, Val Loss: 0.0988, Val Acc: 0.9775\n",
      "Epoch [284/500], Loss: 0.0994, Acc: 0.9719, Val Loss: 0.0864, Val Acc: 0.9750\n",
      "Epoch [285/500], Loss: 0.0988, Acc: 0.9762, Val Loss: 0.0836, Val Acc: 0.9900\n",
      "Epoch [286/500], Loss: 0.0916, Acc: 0.9744, Val Loss: 0.0990, Val Acc: 0.9750\n",
      "Epoch [287/500], Loss: 0.0930, Acc: 0.9750, Val Loss: 0.0852, Val Acc: 0.9825\n",
      "Epoch [288/500], Loss: 0.0928, Acc: 0.9794, Val Loss: 0.0971, Val Acc: 0.9750\n",
      "Epoch [289/500], Loss: 0.0831, Acc: 0.9800, Val Loss: 0.0793, Val Acc: 0.9825\n",
      "Epoch [290/500], Loss: 0.0922, Acc: 0.9725, Val Loss: 0.0867, Val Acc: 0.9775\n",
      "Epoch [291/500], Loss: 0.1046, Acc: 0.9706, Val Loss: 0.0901, Val Acc: 0.9725\n",
      "Epoch [292/500], Loss: 0.0990, Acc: 0.9719, Val Loss: 0.1064, Val Acc: 0.9775\n",
      "Epoch [293/500], Loss: 0.0912, Acc: 0.9762, Val Loss: 0.0883, Val Acc: 0.9825\n",
      "Epoch [294/500], Loss: 0.0918, Acc: 0.9794, Val Loss: 0.0828, Val Acc: 0.9775\n",
      "Epoch [295/500], Loss: 0.0992, Acc: 0.9669, Val Loss: 0.2126, Val Acc: 0.8950\n",
      "Epoch [296/500], Loss: 0.1007, Acc: 0.9719, Val Loss: 0.0770, Val Acc: 0.9825\n",
      "Epoch [297/500], Loss: 0.0943, Acc: 0.9750, Val Loss: 0.1158, Val Acc: 0.9700\n",
      "Epoch [298/500], Loss: 0.0863, Acc: 0.9769, Val Loss: 0.0867, Val Acc: 0.9825\n",
      "Epoch [299/500], Loss: 0.1012, Acc: 0.9738, Val Loss: 0.1033, Val Acc: 0.9750\n",
      "Epoch [300/500], Loss: 0.0940, Acc: 0.9738, Val Loss: 0.1035, Val Acc: 0.9825\n",
      "Epoch [301/500], Loss: 0.0943, Acc: 0.9750, Val Loss: 0.0928, Val Acc: 0.9775\n",
      "Epoch [302/500], Loss: 0.0893, Acc: 0.9806, Val Loss: 0.0767, Val Acc: 0.9825\n",
      "Epoch [303/500], Loss: 0.0817, Acc: 0.9812, Val Loss: 0.0870, Val Acc: 0.9800\n",
      "Epoch [304/500], Loss: 0.1001, Acc: 0.9719, Val Loss: 0.1060, Val Acc: 0.9650\n",
      "Epoch [305/500], Loss: 0.0902, Acc: 0.9762, Val Loss: 0.0931, Val Acc: 0.9650\n",
      "Epoch [306/500], Loss: 0.0908, Acc: 0.9806, Val Loss: 0.1122, Val Acc: 0.9475\n",
      "Epoch [307/500], Loss: 0.0879, Acc: 0.9781, Val Loss: 0.0869, Val Acc: 0.9825\n",
      "Epoch [308/500], Loss: 0.1123, Acc: 0.9656, Val Loss: 0.0818, Val Acc: 0.9825\n",
      "Epoch [309/500], Loss: 0.0961, Acc: 0.9794, Val Loss: 0.1147, Val Acc: 0.9575\n",
      "Epoch [310/500], Loss: 0.0970, Acc: 0.9719, Val Loss: 0.0826, Val Acc: 0.9775\n",
      "Epoch [311/500], Loss: 0.0913, Acc: 0.9794, Val Loss: 0.0939, Val Acc: 0.9775\n",
      "Epoch [312/500], Loss: 0.0937, Acc: 0.9769, Val Loss: 0.0888, Val Acc: 0.9725\n",
      "Epoch [313/500], Loss: 0.0921, Acc: 0.9731, Val Loss: 0.0803, Val Acc: 0.9750\n",
      "Epoch [314/500], Loss: 0.0982, Acc: 0.9719, Val Loss: 0.0779, Val Acc: 0.9825\n",
      "Epoch [315/500], Loss: 0.0937, Acc: 0.9750, Val Loss: 0.0799, Val Acc: 0.9900\n",
      "Epoch [316/500], Loss: 0.0934, Acc: 0.9769, Val Loss: 0.1074, Val Acc: 0.9600\n",
      "Epoch [317/500], Loss: 0.0951, Acc: 0.9725, Val Loss: 0.0885, Val Acc: 0.9800\n",
      "Epoch [318/500], Loss: 0.0930, Acc: 0.9769, Val Loss: 0.0917, Val Acc: 0.9775\n",
      "Epoch [319/500], Loss: 0.0878, Acc: 0.9800, Val Loss: 0.0749, Val Acc: 0.9825\n",
      "Epoch [320/500], Loss: 0.0909, Acc: 0.9762, Val Loss: 0.1223, Val Acc: 0.9475\n",
      "Epoch [321/500], Loss: 0.0968, Acc: 0.9738, Val Loss: 0.1015, Val Acc: 0.9725\n",
      "Epoch [322/500], Loss: 0.0912, Acc: 0.9762, Val Loss: 0.0837, Val Acc: 0.9800\n",
      "Epoch [323/500], Loss: 0.0943, Acc: 0.9731, Val Loss: 0.0943, Val Acc: 0.9750\n",
      "Epoch [324/500], Loss: 0.0806, Acc: 0.9825, Val Loss: 0.1037, Val Acc: 0.9700\n",
      "Epoch [325/500], Loss: 0.1014, Acc: 0.9744, Val Loss: 0.0877, Val Acc: 0.9775\n",
      "Epoch [326/500], Loss: 0.0902, Acc: 0.9756, Val Loss: 0.0915, Val Acc: 0.9750\n",
      "Epoch [327/500], Loss: 0.0874, Acc: 0.9781, Val Loss: 0.0764, Val Acc: 0.9850\n",
      "Epoch [328/500], Loss: 0.0943, Acc: 0.9762, Val Loss: 0.0887, Val Acc: 0.9800\n",
      "Epoch [329/500], Loss: 0.0858, Acc: 0.9794, Val Loss: 0.1015, Val Acc: 0.9775\n",
      "Epoch [330/500], Loss: 0.1021, Acc: 0.9712, Val Loss: 0.1160, Val Acc: 0.9575\n",
      "Epoch [331/500], Loss: 0.0993, Acc: 0.9731, Val Loss: 0.0993, Val Acc: 0.9700\n",
      "Epoch [332/500], Loss: 0.0983, Acc: 0.9750, Val Loss: 0.0833, Val Acc: 0.9775\n",
      "Epoch [333/500], Loss: 0.0843, Acc: 0.9819, Val Loss: 0.0892, Val Acc: 0.9775\n",
      "Epoch [334/500], Loss: 0.0943, Acc: 0.9750, Val Loss: 0.1021, Val Acc: 0.9650\n",
      "Epoch [335/500], Loss: 0.0926, Acc: 0.9775, Val Loss: 0.0838, Val Acc: 0.9775\n",
      "Epoch [336/500], Loss: 0.1003, Acc: 0.9738, Val Loss: 0.0959, Val Acc: 0.9700\n",
      "Epoch [337/500], Loss: 0.0855, Acc: 0.9825, Val Loss: 0.1142, Val Acc: 0.9675\n",
      "Epoch [338/500], Loss: 0.0817, Acc: 0.9800, Val Loss: 0.1445, Val Acc: 0.9550\n",
      "Epoch [339/500], Loss: 0.0976, Acc: 0.9719, Val Loss: 0.0881, Val Acc: 0.9825\n",
      "Epoch [340/500], Loss: 0.1005, Acc: 0.9738, Val Loss: 0.0931, Val Acc: 0.9800\n",
      "Epoch [341/500], Loss: 0.0929, Acc: 0.9750, Val Loss: 0.0945, Val Acc: 0.9750\n",
      "Epoch [342/500], Loss: 0.1038, Acc: 0.9694, Val Loss: 0.0854, Val Acc: 0.9825\n",
      "Epoch [343/500], Loss: 0.0950, Acc: 0.9769, Val Loss: 0.1018, Val Acc: 0.9800\n",
      "Epoch [344/500], Loss: 0.1016, Acc: 0.9712, Val Loss: 0.1309, Val Acc: 0.9475\n",
      "Epoch [345/500], Loss: 0.0955, Acc: 0.9725, Val Loss: 0.0819, Val Acc: 0.9800\n",
      "Epoch [346/500], Loss: 0.0833, Acc: 0.9800, Val Loss: 0.0996, Val Acc: 0.9675\n",
      "Epoch [347/500], Loss: 0.1044, Acc: 0.9694, Val Loss: 0.0768, Val Acc: 0.9900\n",
      "Epoch [348/500], Loss: 0.0997, Acc: 0.9681, Val Loss: 0.0777, Val Acc: 0.9825\n",
      "Epoch [349/500], Loss: 0.0909, Acc: 0.9706, Val Loss: 0.1246, Val Acc: 0.9650\n",
      "Epoch [350/500], Loss: 0.1004, Acc: 0.9750, Val Loss: 0.0984, Val Acc: 0.9775\n",
      "Epoch [351/500], Loss: 0.0954, Acc: 0.9731, Val Loss: 0.0969, Val Acc: 0.9700\n",
      "Epoch [352/500], Loss: 0.0983, Acc: 0.9725, Val Loss: 0.0810, Val Acc: 0.9825\n",
      "Epoch [353/500], Loss: 0.1016, Acc: 0.9719, Val Loss: 0.0909, Val Acc: 0.9725\n",
      "Epoch [354/500], Loss: 0.0941, Acc: 0.9738, Val Loss: 0.0980, Val Acc: 0.9650\n",
      "Epoch [355/500], Loss: 0.0916, Acc: 0.9744, Val Loss: 0.1262, Val Acc: 0.9600\n",
      "Epoch [356/500], Loss: 0.1013, Acc: 0.9719, Val Loss: 0.0889, Val Acc: 0.9825\n",
      "Epoch [357/500], Loss: 0.0932, Acc: 0.9731, Val Loss: 0.0936, Val Acc: 0.9875\n",
      "Epoch [358/500], Loss: 0.0966, Acc: 0.9731, Val Loss: 0.1012, Val Acc: 0.9775\n",
      "Epoch [359/500], Loss: 0.0968, Acc: 0.9738, Val Loss: 0.0966, Val Acc: 0.9775\n",
      "Epoch [360/500], Loss: 0.0911, Acc: 0.9775, Val Loss: 0.0829, Val Acc: 0.9875\n",
      "Epoch [361/500], Loss: 0.0966, Acc: 0.9712, Val Loss: 0.0879, Val Acc: 0.9750\n",
      "Epoch [362/500], Loss: 0.0987, Acc: 0.9762, Val Loss: 0.1079, Val Acc: 0.9675\n",
      "Epoch [363/500], Loss: 0.0905, Acc: 0.9788, Val Loss: 0.0885, Val Acc: 0.9825\n",
      "Epoch [364/500], Loss: 0.0972, Acc: 0.9744, Val Loss: 0.0859, Val Acc: 0.9825\n",
      "Epoch [365/500], Loss: 0.0960, Acc: 0.9694, Val Loss: 0.0997, Val Acc: 0.9600\n",
      "Epoch [366/500], Loss: 0.0978, Acc: 0.9712, Val Loss: 0.0815, Val Acc: 0.9800\n",
      "Epoch [367/500], Loss: 0.1031, Acc: 0.9750, Val Loss: 0.1416, Val Acc: 0.9575\n",
      "Epoch [368/500], Loss: 0.0931, Acc: 0.9756, Val Loss: 0.0923, Val Acc: 0.9800\n",
      "Epoch [369/500], Loss: 0.0949, Acc: 0.9781, Val Loss: 0.0935, Val Acc: 0.9700\n",
      "Epoch [370/500], Loss: 0.0875, Acc: 0.9775, Val Loss: 0.0815, Val Acc: 0.9775\n",
      "Epoch [371/500], Loss: 0.0915, Acc: 0.9762, Val Loss: 0.1005, Val Acc: 0.9675\n",
      "Epoch [372/500], Loss: 0.0881, Acc: 0.9781, Val Loss: 0.0893, Val Acc: 0.9725\n",
      "Epoch [373/500], Loss: 0.0885, Acc: 0.9781, Val Loss: 0.1315, Val Acc: 0.9600\n",
      "Epoch [374/500], Loss: 0.0762, Acc: 0.9862, Val Loss: 0.0946, Val Acc: 0.9625\n",
      "Epoch [375/500], Loss: 0.0919, Acc: 0.9756, Val Loss: 0.0935, Val Acc: 0.9750\n",
      "Epoch [376/500], Loss: 0.1280, Acc: 0.9625, Val Loss: 0.1188, Val Acc: 0.9650\n",
      "Epoch [377/500], Loss: 0.1055, Acc: 0.9731, Val Loss: 0.0792, Val Acc: 0.9825\n",
      "Epoch [378/500], Loss: 0.0900, Acc: 0.9775, Val Loss: 0.0875, Val Acc: 0.9800\n",
      "Epoch [379/500], Loss: 0.0913, Acc: 0.9800, Val Loss: 0.0805, Val Acc: 0.9850\n",
      "Epoch [380/500], Loss: 0.0878, Acc: 0.9744, Val Loss: 0.0768, Val Acc: 0.9850\n",
      "Epoch [381/500], Loss: 0.0953, Acc: 0.9788, Val Loss: 0.1175, Val Acc: 0.9650\n",
      "Epoch [382/500], Loss: 0.0957, Acc: 0.9712, Val Loss: 0.1009, Val Acc: 0.9725\n",
      "Epoch [383/500], Loss: 0.0838, Acc: 0.9794, Val Loss: 0.0797, Val Acc: 0.9850\n",
      "Epoch [384/500], Loss: 0.0894, Acc: 0.9762, Val Loss: 0.1073, Val Acc: 0.9750\n",
      "Epoch [385/500], Loss: 0.0982, Acc: 0.9769, Val Loss: 0.0855, Val Acc: 0.9850\n",
      "Epoch [386/500], Loss: 0.0926, Acc: 0.9762, Val Loss: 0.0755, Val Acc: 0.9875\n",
      "Epoch [387/500], Loss: 0.0948, Acc: 0.9744, Val Loss: 0.0973, Val Acc: 0.9725\n",
      "Epoch [388/500], Loss: 0.0879, Acc: 0.9775, Val Loss: 0.0800, Val Acc: 0.9800\n",
      "Epoch [389/500], Loss: 0.0912, Acc: 0.9738, Val Loss: 0.1352, Val Acc: 0.9525\n",
      "Epoch [390/500], Loss: 0.1023, Acc: 0.9681, Val Loss: 0.0827, Val Acc: 0.9900\n",
      "Epoch [391/500], Loss: 0.1020, Acc: 0.9712, Val Loss: 0.1209, Val Acc: 0.9625\n",
      "Epoch [392/500], Loss: 0.0920, Acc: 0.9781, Val Loss: 0.0894, Val Acc: 0.9775\n",
      "Epoch [393/500], Loss: 0.1067, Acc: 0.9744, Val Loss: 0.0817, Val Acc: 0.9850\n",
      "Epoch [394/500], Loss: 0.1046, Acc: 0.9731, Val Loss: 0.0925, Val Acc: 0.9775\n",
      "Epoch [395/500], Loss: 0.0961, Acc: 0.9712, Val Loss: 0.0894, Val Acc: 0.9750\n",
      "Epoch [396/500], Loss: 0.0925, Acc: 0.9750, Val Loss: 0.0959, Val Acc: 0.9625\n",
      "Epoch [397/500], Loss: 0.0889, Acc: 0.9812, Val Loss: 0.0867, Val Acc: 0.9850\n",
      "Epoch [398/500], Loss: 0.0871, Acc: 0.9788, Val Loss: 0.0924, Val Acc: 0.9800\n",
      "Epoch [399/500], Loss: 0.0915, Acc: 0.9762, Val Loss: 0.0935, Val Acc: 0.9750\n",
      "Epoch [400/500], Loss: 0.0931, Acc: 0.9775, Val Loss: 0.1053, Val Acc: 0.9650\n",
      "Epoch [401/500], Loss: 0.0878, Acc: 0.9769, Val Loss: 0.0790, Val Acc: 0.9875\n",
      "Epoch [402/500], Loss: 0.0984, Acc: 0.9769, Val Loss: 0.0965, Val Acc: 0.9800\n",
      "Epoch [403/500], Loss: 0.0964, Acc: 0.9744, Val Loss: 0.0893, Val Acc: 0.9775\n",
      "Epoch [404/500], Loss: 0.0910, Acc: 0.9762, Val Loss: 0.0831, Val Acc: 0.9800\n",
      "Epoch [405/500], Loss: 0.0947, Acc: 0.9769, Val Loss: 0.0963, Val Acc: 0.9750\n",
      "Epoch [406/500], Loss: 0.0921, Acc: 0.9750, Val Loss: 0.0998, Val Acc: 0.9675\n",
      "Epoch [407/500], Loss: 0.0969, Acc: 0.9744, Val Loss: 0.0834, Val Acc: 0.9825\n",
      "Epoch [408/500], Loss: 0.0937, Acc: 0.9800, Val Loss: 0.0855, Val Acc: 0.9850\n",
      "Epoch [409/500], Loss: 0.0871, Acc: 0.9794, Val Loss: 0.0791, Val Acc: 0.9800\n",
      "Epoch [410/500], Loss: 0.1100, Acc: 0.9681, Val Loss: 0.0809, Val Acc: 0.9825\n",
      "Epoch [411/500], Loss: 0.0894, Acc: 0.9788, Val Loss: 0.0821, Val Acc: 0.9825\n",
      "Epoch [412/500], Loss: 0.1104, Acc: 0.9675, Val Loss: 0.0914, Val Acc: 0.9825\n",
      "Epoch [413/500], Loss: 0.0872, Acc: 0.9769, Val Loss: 0.1038, Val Acc: 0.9800\n",
      "Epoch [414/500], Loss: 0.0986, Acc: 0.9750, Val Loss: 0.0895, Val Acc: 0.9875\n",
      "Epoch [415/500], Loss: 0.0991, Acc: 0.9750, Val Loss: 0.0917, Val Acc: 0.9675\n",
      "Epoch [416/500], Loss: 0.0956, Acc: 0.9794, Val Loss: 0.0862, Val Acc: 0.9775\n",
      "Epoch [417/500], Loss: 0.0979, Acc: 0.9738, Val Loss: 0.0961, Val Acc: 0.9725\n",
      "Epoch [418/500], Loss: 0.0960, Acc: 0.9762, Val Loss: 0.1068, Val Acc: 0.9800\n",
      "Epoch [419/500], Loss: 0.0876, Acc: 0.9769, Val Loss: 0.0917, Val Acc: 0.9725\n",
      "Epoch [420/500], Loss: 0.0933, Acc: 0.9738, Val Loss: 0.0837, Val Acc: 0.9775\n",
      "Epoch [421/500], Loss: 0.1016, Acc: 0.9712, Val Loss: 0.0943, Val Acc: 0.9800\n",
      "Epoch [422/500], Loss: 0.0977, Acc: 0.9756, Val Loss: 0.0881, Val Acc: 0.9775\n",
      "Epoch [423/500], Loss: 0.1029, Acc: 0.9694, Val Loss: 0.0874, Val Acc: 0.9775\n",
      "Epoch [424/500], Loss: 0.1002, Acc: 0.9675, Val Loss: 0.1415, Val Acc: 0.9475\n",
      "Epoch [425/500], Loss: 0.0946, Acc: 0.9750, Val Loss: 0.0899, Val Acc: 0.9775\n",
      "Epoch [426/500], Loss: 0.0936, Acc: 0.9769, Val Loss: 0.1188, Val Acc: 0.9675\n",
      "Epoch [427/500], Loss: 0.0886, Acc: 0.9806, Val Loss: 0.0894, Val Acc: 0.9825\n",
      "Epoch [428/500], Loss: 0.0854, Acc: 0.9775, Val Loss: 0.0792, Val Acc: 0.9800\n",
      "Epoch [429/500], Loss: 0.0984, Acc: 0.9756, Val Loss: 0.0850, Val Acc: 0.9725\n",
      "Epoch [430/500], Loss: 0.1066, Acc: 0.9669, Val Loss: 0.0994, Val Acc: 0.9725\n",
      "Epoch [431/500], Loss: 0.0973, Acc: 0.9725, Val Loss: 0.0889, Val Acc: 0.9775\n",
      "Epoch [432/500], Loss: 0.1014, Acc: 0.9706, Val Loss: 0.1105, Val Acc: 0.9725\n",
      "Epoch [433/500], Loss: 0.0976, Acc: 0.9700, Val Loss: 0.0997, Val Acc: 0.9725\n",
      "Epoch [434/500], Loss: 0.0959, Acc: 0.9750, Val Loss: 0.0841, Val Acc: 0.9775\n",
      "Epoch [435/500], Loss: 0.0896, Acc: 0.9781, Val Loss: 0.0881, Val Acc: 0.9800\n",
      "Epoch [436/500], Loss: 0.0927, Acc: 0.9806, Val Loss: 0.0854, Val Acc: 0.9825\n",
      "Epoch [437/500], Loss: 0.0975, Acc: 0.9750, Val Loss: 0.0923, Val Acc: 0.9725\n",
      "Epoch [438/500], Loss: 0.0889, Acc: 0.9738, Val Loss: 0.0989, Val Acc: 0.9650\n",
      "Epoch [439/500], Loss: 0.0949, Acc: 0.9694, Val Loss: 0.0954, Val Acc: 0.9725\n",
      "Epoch [440/500], Loss: 0.0892, Acc: 0.9800, Val Loss: 0.0923, Val Acc: 0.9850\n",
      "Epoch [441/500], Loss: 0.0957, Acc: 0.9762, Val Loss: 0.0791, Val Acc: 0.9875\n",
      "Epoch [442/500], Loss: 0.0841, Acc: 0.9825, Val Loss: 0.0827, Val Acc: 0.9800\n",
      "Epoch [443/500], Loss: 0.0847, Acc: 0.9844, Val Loss: 0.1053, Val Acc: 0.9650\n",
      "Epoch [444/500], Loss: 0.1061, Acc: 0.9712, Val Loss: 0.0865, Val Acc: 0.9800\n",
      "Epoch [445/500], Loss: 0.0916, Acc: 0.9800, Val Loss: 0.0919, Val Acc: 0.9800\n",
      "Epoch [446/500], Loss: 0.0943, Acc: 0.9781, Val Loss: 0.0779, Val Acc: 0.9825\n",
      "Epoch [447/500], Loss: 0.0923, Acc: 0.9781, Val Loss: 0.0920, Val Acc: 0.9850\n",
      "Epoch [448/500], Loss: 0.0983, Acc: 0.9738, Val Loss: 0.1229, Val Acc: 0.9575\n",
      "Epoch [449/500], Loss: 0.0990, Acc: 0.9756, Val Loss: 0.0992, Val Acc: 0.9725\n",
      "Epoch [450/500], Loss: 0.0904, Acc: 0.9756, Val Loss: 0.1040, Val Acc: 0.9725\n",
      "Epoch [451/500], Loss: 0.1051, Acc: 0.9700, Val Loss: 0.1093, Val Acc: 0.9625\n",
      "Epoch [452/500], Loss: 0.1031, Acc: 0.9712, Val Loss: 0.0826, Val Acc: 0.9825\n",
      "Epoch [453/500], Loss: 0.0975, Acc: 0.9738, Val Loss: 0.0878, Val Acc: 0.9825\n",
      "Epoch [454/500], Loss: 0.0886, Acc: 0.9788, Val Loss: 0.0814, Val Acc: 0.9825\n",
      "Epoch [455/500], Loss: 0.0933, Acc: 0.9744, Val Loss: 0.0947, Val Acc: 0.9825\n",
      "Epoch [456/500], Loss: 0.0967, Acc: 0.9706, Val Loss: 0.0941, Val Acc: 0.9825\n",
      "Epoch [457/500], Loss: 0.1017, Acc: 0.9781, Val Loss: 0.1108, Val Acc: 0.9600\n",
      "Epoch [458/500], Loss: 0.0979, Acc: 0.9750, Val Loss: 0.0941, Val Acc: 0.9775\n",
      "Epoch [459/500], Loss: 0.0923, Acc: 0.9756, Val Loss: 0.0822, Val Acc: 0.9800\n",
      "Epoch [460/500], Loss: 0.0985, Acc: 0.9738, Val Loss: 0.0827, Val Acc: 0.9775\n",
      "Epoch [461/500], Loss: 0.0846, Acc: 0.9794, Val Loss: 0.0793, Val Acc: 0.9875\n",
      "Epoch [462/500], Loss: 0.0930, Acc: 0.9750, Val Loss: 0.0949, Val Acc: 0.9800\n",
      "Epoch [463/500], Loss: 0.0899, Acc: 0.9769, Val Loss: 0.0820, Val Acc: 0.9800\n",
      "Epoch [464/500], Loss: 0.0851, Acc: 0.9831, Val Loss: 0.1218, Val Acc: 0.9575\n",
      "Epoch [465/500], Loss: 0.1000, Acc: 0.9731, Val Loss: 0.1017, Val Acc: 0.9775\n",
      "Epoch [466/500], Loss: 0.0892, Acc: 0.9788, Val Loss: 0.1346, Val Acc: 0.9575\n",
      "Epoch [467/500], Loss: 0.0891, Acc: 0.9769, Val Loss: 0.1023, Val Acc: 0.9675\n",
      "Epoch [468/500], Loss: 0.0957, Acc: 0.9694, Val Loss: 0.0812, Val Acc: 0.9800\n",
      "Epoch [469/500], Loss: 0.0968, Acc: 0.9675, Val Loss: 0.0746, Val Acc: 0.9875\n",
      "Epoch [470/500], Loss: 0.0932, Acc: 0.9731, Val Loss: 0.1074, Val Acc: 0.9675\n",
      "Epoch [471/500], Loss: 0.0925, Acc: 0.9800, Val Loss: 0.0859, Val Acc: 0.9800\n",
      "Epoch [472/500], Loss: 0.0946, Acc: 0.9769, Val Loss: 0.0787, Val Acc: 0.9850\n",
      "Epoch [473/500], Loss: 0.1014, Acc: 0.9738, Val Loss: 0.0946, Val Acc: 0.9750\n",
      "Epoch [474/500], Loss: 0.1013, Acc: 0.9681, Val Loss: 0.0968, Val Acc: 0.9650\n",
      "Epoch [475/500], Loss: 0.1118, Acc: 0.9694, Val Loss: 0.0932, Val Acc: 0.9700\n",
      "Epoch [476/500], Loss: 0.0882, Acc: 0.9762, Val Loss: 0.1068, Val Acc: 0.9625\n",
      "Epoch [477/500], Loss: 0.0870, Acc: 0.9781, Val Loss: 0.0860, Val Acc: 0.9750\n",
      "Epoch [478/500], Loss: 0.0914, Acc: 0.9781, Val Loss: 0.0893, Val Acc: 0.9750\n",
      "Epoch [479/500], Loss: 0.0994, Acc: 0.9712, Val Loss: 0.0927, Val Acc: 0.9700\n",
      "Epoch [480/500], Loss: 0.1012, Acc: 0.9725, Val Loss: 0.0977, Val Acc: 0.9725\n",
      "Epoch [481/500], Loss: 0.0939, Acc: 0.9744, Val Loss: 0.0993, Val Acc: 0.9675\n",
      "Epoch [482/500], Loss: 0.0884, Acc: 0.9812, Val Loss: 0.0736, Val Acc: 0.9825\n",
      "Epoch [483/500], Loss: 0.0835, Acc: 0.9788, Val Loss: 0.0793, Val Acc: 0.9875\n",
      "Epoch [484/500], Loss: 0.0931, Acc: 0.9762, Val Loss: 0.0868, Val Acc: 0.9825\n",
      "Epoch [485/500], Loss: 0.0872, Acc: 0.9788, Val Loss: 0.1085, Val Acc: 0.9650\n",
      "Epoch [486/500], Loss: 0.0927, Acc: 0.9756, Val Loss: 0.0954, Val Acc: 0.9800\n",
      "Epoch [487/500], Loss: 0.0996, Acc: 0.9700, Val Loss: 0.0764, Val Acc: 0.9850\n",
      "Epoch [488/500], Loss: 0.0979, Acc: 0.9750, Val Loss: 0.0941, Val Acc: 0.9750\n",
      "Epoch [489/500], Loss: 0.1010, Acc: 0.9738, Val Loss: 0.1071, Val Acc: 0.9750\n",
      "Epoch [490/500], Loss: 0.1028, Acc: 0.9719, Val Loss: 0.0978, Val Acc: 0.9850\n",
      "Epoch [491/500], Loss: 0.0802, Acc: 0.9819, Val Loss: 0.0743, Val Acc: 0.9825\n",
      "Epoch [492/500], Loss: 0.0957, Acc: 0.9744, Val Loss: 0.0935, Val Acc: 0.9825\n",
      "Epoch [493/500], Loss: 0.0904, Acc: 0.9775, Val Loss: 0.0995, Val Acc: 0.9725\n",
      "Epoch [494/500], Loss: 0.1099, Acc: 0.9669, Val Loss: 0.0774, Val Acc: 0.9875\n",
      "Epoch [495/500], Loss: 0.1018, Acc: 0.9725, Val Loss: 0.0884, Val Acc: 0.9750\n",
      "Epoch [496/500], Loss: 0.1049, Acc: 0.9719, Val Loss: 0.0836, Val Acc: 0.9825\n",
      "Epoch [497/500], Loss: 0.1040, Acc: 0.9712, Val Loss: 0.0945, Val Acc: 0.9800\n",
      "Epoch [498/500], Loss: 0.1017, Acc: 0.9731, Val Loss: 0.0823, Val Acc: 0.9825\n",
      "Epoch [499/500], Loss: 0.0855, Acc: 0.9850, Val Loss: 0.1222, Val Acc: 0.9650\n",
      "Epoch [500/500], Loss: 0.0921, Acc: 0.9769, Val Loss: 0.0899, Val Acc: 0.9775\n"
     ]
    },
    {
     "data": {
      "text/plain": [
       "{'loss': [0.641367733925581,\n",
       "  0.6109050568938256,\n",
       "  0.5692092801630497,\n",
       "  0.4950239850580692,\n",
       "  0.4326471184194088,\n",
       "  0.3656971966475248,\n",
       "  0.3304543465282768,\n",
       "  0.27183983001858,\n",
       "  0.22815633919090034,\n",
       "  0.20686031507328154,\n",
       "  0.2050925931800157,\n",
       "  0.19740567818051205,\n",
       "  0.1870351563487202,\n",
       "  0.17822863919660448,\n",
       "  0.171480731992051,\n",
       "  0.19781456675380468,\n",
       "  0.16689594101160765,\n",
       "  0.15721915140049533,\n",
       "  0.1617887343186885,\n",
       "  0.1454473593411967,\n",
       "  0.15919868320692332,\n",
       "  0.14546714607160538,\n",
       "  0.15319729181937874,\n",
       "  0.14003952987957746,\n",
       "  0.1444628615723923,\n",
       "  0.15538268322125076,\n",
       "  0.14027630974538624,\n",
       "  0.14130615547765046,\n",
       "  0.13549753465224057,\n",
       "  0.1370177353359759,\n",
       "  0.1444728891737759,\n",
       "  0.14763371438952164,\n",
       "  0.139705893099308,\n",
       "  0.13355972847901285,\n",
       "  0.1459333332441747,\n",
       "  0.13607983013847844,\n",
       "  0.12556153956335037,\n",
       "  0.12367708858568222,\n",
       "  0.14231313503347337,\n",
       "  0.13545654818415642,\n",
       "  0.1395986774051562,\n",
       "  0.1394007903849706,\n",
       "  0.11542569149285554,\n",
       "  0.12543719953391702,\n",
       "  0.1175376307638362,\n",
       "  0.12184199657291174,\n",
       "  0.12828920974396169,\n",
       "  0.13654965039109812,\n",
       "  0.13910849433857947,\n",
       "  0.12258349068579263,\n",
       "  0.11251391295343638,\n",
       "  0.11862175104790368,\n",
       "  0.11672838678467087,\n",
       "  0.12393638513982295,\n",
       "  0.10530226025730371,\n",
       "  0.12384305886458606,\n",
       "  0.12135212896740995,\n",
       "  0.12652687686961145,\n",
       "  0.1147100801859051,\n",
       "  0.10935914686415345,\n",
       "  0.10867482935078442,\n",
       "  0.11170216584112495,\n",
       "  0.11371321580372751,\n",
       "  0.10932631162460893,\n",
       "  0.1132700218167156,\n",
       "  0.10254087853711098,\n",
       "  0.11064034728100523,\n",
       "  0.10237370552960784,\n",
       "  0.12306204574182629,\n",
       "  0.10324466633610427,\n",
       "  0.10673135539051146,\n",
       "  0.11633707224857062,\n",
       "  0.12149987526703626,\n",
       "  0.0994689792767167,\n",
       "  0.10318955920636654,\n",
       "  0.1099078108696267,\n",
       "  0.11014154374133796,\n",
       "  0.11083095356123522,\n",
       "  0.12507048088591546,\n",
       "  0.1150999428704381,\n",
       "  0.09993924801237881,\n",
       "  0.10307123719481752,\n",
       "  0.0980677390913479,\n",
       "  0.09802441867999732,\n",
       "  0.10859471855219453,\n",
       "  0.10131512435153127,\n",
       "  0.10901337526272982,\n",
       "  0.1145854265987873,\n",
       "  0.11272313219495117,\n",
       "  0.10473130106693133,\n",
       "  0.09650382741354406,\n",
       "  0.09410137089435011,\n",
       "  0.11539959497982637,\n",
       "  0.11573167537339031,\n",
       "  0.10386969081126153,\n",
       "  0.10755261874757707,\n",
       "  0.10447742579970509,\n",
       "  0.10371204017195851,\n",
       "  0.09566342884209007,\n",
       "  0.10006225772202015,\n",
       "  0.11062697966350242,\n",
       "  0.10799872017931193,\n",
       "  0.11452646398451179,\n",
       "  0.09980599168688059,\n",
       "  0.09348740016110241,\n",
       "  0.0984111102251336,\n",
       "  0.10407605309039354,\n",
       "  0.09794949343893677,\n",
       "  0.09687739514280111,\n",
       "  0.09107698353938759,\n",
       "  0.09343858154723421,\n",
       "  0.10349481535609811,\n",
       "  0.09944913556333632,\n",
       "  0.08504238439723849,\n",
       "  0.09470072722528129,\n",
       "  0.09427650964353233,\n",
       "  0.1044970974815078,\n",
       "  0.08648692920338362,\n",
       "  0.10510830513667316,\n",
       "  0.09771690585650504,\n",
       "  0.10191740578971803,\n",
       "  0.1081830632360652,\n",
       "  0.10391498655779287,\n",
       "  0.09403927485225722,\n",
       "  0.10083657734794542,\n",
       "  0.09597723279614001,\n",
       "  0.10359391573350876,\n",
       "  0.09936688260175287,\n",
       "  0.10000846366398036,\n",
       "  0.09724082297645509,\n",
       "  0.08942072108387947,\n",
       "  0.1086857815971598,\n",
       "  0.09292862981790677,\n",
       "  0.09101687439484522,\n",
       "  0.10663051018025727,\n",
       "  0.09716570883523673,\n",
       "  0.09533606336684898,\n",
       "  0.0897424228861928,\n",
       "  0.09128460186067969,\n",
       "  0.09138581037055701,\n",
       "  0.09753881298471243,\n",
       "  0.09933605550788344,\n",
       "  0.09589846155839041,\n",
       "  0.1022253597038798,\n",
       "  0.09833299826830626,\n",
       "  0.09117837080266326,\n",
       "  0.09574201016221195,\n",
       "  0.09597538833972066,\n",
       "  0.10430655637290329,\n",
       "  0.10119411339517682,\n",
       "  0.09815101210959255,\n",
       "  0.12525684408843518,\n",
       "  0.09382256692275405,\n",
       "  0.08907203924842179,\n",
       "  0.09907699896954,\n",
       "  0.09772873461712152,\n",
       "  0.0990121910115704,\n",
       "  0.0858786296681501,\n",
       "  0.08690328263677656,\n",
       "  0.09770994246471673,\n",
       "  0.08338116066530347,\n",
       "  0.12052576899528504,\n",
       "  0.09730912952916697,\n",
       "  0.0850261025223881,\n",
       "  0.0889109179470688,\n",
       "  0.0957589816302061,\n",
       "  0.08904350576456636,\n",
       "  0.0946926953305956,\n",
       "  0.09372306280769407,\n",
       "  0.10925957622472197,\n",
       "  0.08793295715004205,\n",
       "  0.1066837280546315,\n",
       "  0.09271668826695531,\n",
       "  0.10995169831439852,\n",
       "  0.09915164859499782,\n",
       "  0.09545831039082259,\n",
       "  0.10614233867032453,\n",
       "  0.08851416775723919,\n",
       "  0.10214970773551613,\n",
       "  0.09507080592680722,\n",
       "  0.09385172337759286,\n",
       "  0.09208828748203814,\n",
       "  0.09305065363179893,\n",
       "  0.11240239008329808,\n",
       "  0.10270854741567746,\n",
       "  0.09819689009804279,\n",
       "  0.098091607587412,\n",
       "  0.08969610560452565,\n",
       "  0.0942309362348169,\n",
       "  0.09172927774023265,\n",
       "  0.10127970285248011,\n",
       "  0.09492207394912838,\n",
       "  0.09479337256867439,\n",
       "  0.09951680112164468,\n",
       "  0.09619031878653914,\n",
       "  0.0889501209789887,\n",
       "  0.08915229504462331,\n",
       "  0.1027245097560808,\n",
       "  0.09615931804757566,\n",
       "  0.09365913161542266,\n",
       "  0.09426994443405419,\n",
       "  0.09190493165049701,\n",
       "  0.09736496233759681,\n",
       "  0.09349117793608457,\n",
       "  0.10268061376176775,\n",
       "  0.08910193455871195,\n",
       "  0.0896650969889015,\n",
       "  0.09255927279591561,\n",
       "  0.10572474093176425,\n",
       "  0.10191570104565471,\n",
       "  0.09251871318556368,\n",
       "  0.09401260974816977,\n",
       "  0.10063782610930502,\n",
       "  0.09420824508182704,\n",
       "  0.10244946889812127,\n",
       "  0.08400983162457124,\n",
       "  0.08849135623313487,\n",
       "  0.10005376229062676,\n",
       "  0.09605178090743721,\n",
       "  0.09782178320456296,\n",
       "  0.09379673616029321,\n",
       "  0.10492870535701514,\n",
       "  0.09857433279976249,\n",
       "  0.0852146968850866,\n",
       "  0.09907968793297187,\n",
       "  0.08916954052168875,\n",
       "  0.09311608324293047,\n",
       "  0.11259691632003524,\n",
       "  0.08994451279286295,\n",
       "  0.09233487599529326,\n",
       "  0.08933499081991612,\n",
       "  0.08452215740690008,\n",
       "  0.09242109217680991,\n",
       "  0.0983907821541652,\n",
       "  0.09883117456920446,\n",
       "  0.08981496856082231,\n",
       "  0.08380923054646701,\n",
       "  0.10262325642863289,\n",
       "  0.1093246860615909,\n",
       "  0.09329058285104111,\n",
       "  0.08596377606038004,\n",
       "  0.09592587027465925,\n",
       "  0.09290406739339233,\n",
       "  0.09165248408447951,\n",
       "  0.09629624827532098,\n",
       "  0.09033356041181832,\n",
       "  0.09701698818011209,\n",
       "  0.08814693517982959,\n",
       "  0.09605220473313239,\n",
       "  0.1128562272991985,\n",
       "  0.10148540500085801,\n",
       "  0.09167667435947806,\n",
       "  0.09984114310238511,\n",
       "  0.0900263896258548,\n",
       "  0.09043676230125129,\n",
       "  0.09815812206361443,\n",
       "  0.0819498813757673,\n",
       "  0.09872601965907961,\n",
       "  0.094672323721461,\n",
       "  0.10566590774338692,\n",
       "  0.09919396878685802,\n",
       "  0.09166028913110495,\n",
       "  0.0958290760172531,\n",
       "  0.091613310133107,\n",
       "  0.0879676592675969,\n",
       "  0.11864498593844473,\n",
       "  0.09297348779626191,\n",
       "  0.10361131516750902,\n",
       "  0.08968416558578611,\n",
       "  0.0869377800123766,\n",
       "  0.09240952154388651,\n",
       "  0.08937860106118023,\n",
       "  0.08961134333629162,\n",
       "  0.09565552509156987,\n",
       "  0.09624290002975613,\n",
       "  0.09417797058355064,\n",
       "  0.10198952298145741,\n",
       "  0.09535153434611857,\n",
       "  0.10124735919293017,\n",
       "  0.08850326866842806,\n",
       "  0.09417983777355403,\n",
       "  0.09739582566427998,\n",
       "  0.09548534268513321,\n",
       "  0.09941960781812668,\n",
       "  0.09882539915386587,\n",
       "  0.09159061651676893,\n",
       "  0.09302386346273124,\n",
       "  0.09284758277237415,\n",
       "  0.08310549175832421,\n",
       "  0.09220591028220952,\n",
       "  0.1046400502929464,\n",
       "  0.09902387985028327,\n",
       "  0.09117025251034647,\n",
       "  0.09175206718500703,\n",
       "  0.09921052729245275,\n",
       "  0.1007224576594308,\n",
       "  0.09433510576141999,\n",
       "  0.08631175138987601,\n",
       "  0.10123659637756646,\n",
       "  0.0940468508633785,\n",
       "  0.09430674667470157,\n",
       "  0.08934378276113421,\n",
       "  0.08172651939094067,\n",
       "  0.10010373157914727,\n",
       "  0.0902307352842763,\n",
       "  0.0907556609576568,\n",
       "  0.08790179252624512,\n",
       "  0.11227101560216397,\n",
       "  0.09610187875805423,\n",
       "  0.09695041367784142,\n",
       "  0.09131286488380283,\n",
       "  0.09372928335797041,\n",
       "  0.09214458463480696,\n",
       "  0.09817025727359578,\n",
       "  0.09370309652993455,\n",
       "  0.09340739869512618,\n",
       "  0.09512263545067981,\n",
       "  0.09301095300354063,\n",
       "  0.0877988559473306,\n",
       "  0.0909421023610048,\n",
       "  0.09683748827315868,\n",
       "  0.091176888179034,\n",
       "  0.09428284499794244,\n",
       "  0.08061158929252997,\n",
       "  0.10144170962506906,\n",
       "  0.09023421352962031,\n",
       "  0.08741322970483452,\n",
       "  0.09426768440753222,\n",
       "  0.08582202535355464,\n",
       "  0.10205327378120273,\n",
       "  0.09926721914671362,\n",
       "  0.09834212771151214,\n",
       "  0.08430305772693827,\n",
       "  0.09425032594241202,\n",
       "  0.09258949026931078,\n",
       "  0.10031434747157618,\n",
       "  0.08545041798613966,\n",
       "  0.08165099065285177,\n",
       "  0.09757488518953324,\n",
       "  0.1005362616572529,\n",
       "  0.0928772637899965,\n",
       "  0.10381057301536202,\n",
       "  0.09496713080443442,\n",
       "  0.10164398374967278,\n",
       "  0.09550147791393102,\n",
       "  0.08327466610819101,\n",
       "  0.10435024841222912,\n",
       "  0.09968732567038387,\n",
       "  0.0909312534565106,\n",
       "  0.10038984982762486,\n",
       "  0.09543287099804729,\n",
       "  0.09830623611807823,\n",
       "  0.10158085468225181,\n",
       "  0.09409826599992811,\n",
       "  0.09156048643169924,\n",
       "  0.10132421178743244,\n",
       "  0.09320421869400888,\n",
       "  0.09656608706340193,\n",
       "  0.09676192663609981,\n",
       "  0.09105148521950468,\n",
       "  0.09661972315981984,\n",
       "  0.09867671265965328,\n",
       "  0.09046474348753691,\n",
       "  0.09718952279072254,\n",
       "  0.09602692986372859,\n",
       "  0.09779000822920353,\n",
       "  0.1030573822464794,\n",
       "  0.09312276861630381,\n",
       "  0.09489999898243695,\n",
       "  0.08751765079796314,\n",
       "  0.09145209581591189,\n",
       "  0.08811520230956375,\n",
       "  0.08851045819697902,\n",
       "  0.07620089684496634,\n",
       "  0.09192716154269874,\n",
       "  0.12804917181376368,\n",
       "  0.10550256348680705,\n",
       "  0.09004477040376514,\n",
       "  0.0913279994437471,\n",
       "  0.08781445371219888,\n",
       "  0.09525681869592517,\n",
       "  0.0956767503451556,\n",
       "  0.08379247499164194,\n",
       "  0.08944090279284865,\n",
       "  0.09823803563136607,\n",
       "  0.09261688472703099,\n",
       "  0.09482521153986453,\n",
       "  0.08794305627699942,\n",
       "  0.09124286103062332,\n",
       "  0.10225179756991565,\n",
       "  0.10204434209037572,\n",
       "  0.09201619521714748,\n",
       "  0.10665513690561056,\n",
       "  0.10462296282639727,\n",
       "  0.09605562319513411,\n",
       "  0.09246416153386235,\n",
       "  0.0889434502646327,\n",
       "  0.08707960341125727,\n",
       "  0.09149417048553005,\n",
       "  0.0931217341683805,\n",
       "  0.08782250549644231,\n",
       "  0.09843804796924814,\n",
       "  0.09636239416431636,\n",
       "  0.09097757179290056,\n",
       "  0.0946784331370145,\n",
       "  0.0920988659048453,\n",
       "  0.09686185331083834,\n",
       "  0.09371819438878447,\n",
       "  0.08707010573241859,\n",
       "  0.11004896856844425,\n",
       "  0.08941402163822204,\n",
       "  0.11035292879678309,\n",
       "  0.08723139533307403,\n",
       "  0.09858058096608147,\n",
       "  0.09907197654247284,\n",
       "  0.09557676831725985,\n",
       "  0.09785046177683399,\n",
       "  0.09597874497994781,\n",
       "  0.08756848473567516,\n",
       "  0.09328971835086122,\n",
       "  0.10163276506820694,\n",
       "  0.09769088502041995,\n",
       "  0.10290183409582823,\n",
       "  0.10021504778414965,\n",
       "  0.09464768831152469,\n",
       "  0.09358404487837106,\n",
       "  0.08860986706335097,\n",
       "  0.08538138925563545,\n",
       "  0.09842805463355035,\n",
       "  0.10661215689964593,\n",
       "  0.09725276469718665,\n",
       "  0.10142629237379878,\n",
       "  0.09759516731370241,\n",
       "  0.09586241208948194,\n",
       "  0.08964811335550621,\n",
       "  0.09269714306108653,\n",
       "  0.09752358391880989,\n",
       "  0.0889269895059988,\n",
       "  0.09487163917161524,\n",
       "  0.08922450758051127,\n",
       "  0.09566608285997064,\n",
       "  0.08414901581592858,\n",
       "  0.08470353809650988,\n",
       "  0.1060500981938094,\n",
       "  0.09159337684046477,\n",
       "  0.0942707237880677,\n",
       "  0.09228167664259672,\n",
       "  0.0982803711341694,\n",
       "  0.09896456263726577,\n",
       "  0.0904034550790675,\n",
       "  0.1050932493014261,\n",
       "  0.10307510181330144,\n",
       "  0.09749279552605003,\n",
       "  0.08859189648646862,\n",
       "  0.09333025315310806,\n",
       "  0.09670524210203439,\n",
       "  0.10169085535686463,\n",
       "  0.09789256208576262,\n",
       "  0.09226838083937765,\n",
       "  0.09854697972768918,\n",
       "  0.08455863677430898,\n",
       "  0.0930195972463116,\n",
       "  0.08993316990323365,\n",
       "  0.08513719390146435,\n",
       "  0.09995926342904568,\n",
       "  0.08915616584476084,\n",
       "  0.08907222123350948,\n",
       "  0.09572109437081963,\n",
       "  0.09682229831814766,\n",
       "  0.09316130090039224,\n",
       "  0.09251841516699642,\n",
       "  0.0945951587986201,\n",
       "  0.1013619731971994,\n",
       "  0.10125846543814987,\n",
       "  0.11182485160417854,\n",
       "  0.08824081312865019,\n",
       "  0.08699783212505281,\n",
       "  0.09142984305042773,\n",
       "  0.09941408128477633,\n",
       "  0.10115555020980536,\n",
       "  0.09392974434886128,\n",
       "  0.08835441299248487,\n",
       "  0.08346167698502541,\n",
       "  0.09311795485205948,\n",
       "  0.08718412375543266,\n",
       "  0.09265472604893148,\n",
       "  0.09964237986132503,\n",
       "  0.09786690351553261,\n",
       "  0.10096151606179773,\n",
       "  0.1027905392460525,\n",
       "  0.08015716162044555,\n",
       "  0.09570944239851087,\n",
       "  0.0903720244159922,\n",
       "  0.10988430524244905,\n",
       "  0.10180532422382385,\n",
       "  0.10486905232537538,\n",
       "  0.10397084513446316,\n",
       "  0.10173355261329561,\n",
       "  0.08553867904935032,\n",
       "  0.09206001918297262],\n",
       " 'val_loss': [0.6542145121097565,\n",
       "  0.5981547915935517,\n",
       "  0.5706066709756851,\n",
       "  0.4524642539024353,\n",
       "  0.39729415744543073,\n",
       "  0.30073956280946734,\n",
       "  0.28285989552736285,\n",
       "  0.2625573718547821,\n",
       "  0.21652022160589696,\n",
       "  0.19533629156649113,\n",
       "  0.20224173791706562,\n",
       "  0.29504075154662135,\n",
       "  0.19519147597253322,\n",
       "  0.16352939188480378,\n",
       "  0.16572008073329925,\n",
       "  0.15850542172789572,\n",
       "  0.16269711442291737,\n",
       "  0.18441268913447856,\n",
       "  0.14956416901201008,\n",
       "  0.14656643565744162,\n",
       "  0.14721388932317495,\n",
       "  0.14275394693017007,\n",
       "  0.16523474499583243,\n",
       "  0.14403836749494076,\n",
       "  0.17709355615079403,\n",
       "  0.1535521186515689,\n",
       "  0.15303072080016136,\n",
       "  0.1516516527161002,\n",
       "  0.12433915853500366,\n",
       "  0.14233777839690448,\n",
       "  0.1408111973851919,\n",
       "  0.1497127541527152,\n",
       "  0.12214023694396019,\n",
       "  0.13101505521684886,\n",
       "  0.1498148648440838,\n",
       "  0.1255420171096921,\n",
       "  0.1099873873218894,\n",
       "  0.1228556527942419,\n",
       "  0.13520606119185685,\n",
       "  0.19240184020251036,\n",
       "  0.12640730008482934,\n",
       "  0.10630447719246149,\n",
       "  0.13306590862572193,\n",
       "  0.13216953963041306,\n",
       "  0.12613488938659428,\n",
       "  0.13170401625335215,\n",
       "  0.11946943530812859,\n",
       "  0.1294923968799412,\n",
       "  0.1493606074899435,\n",
       "  0.11467337071895599,\n",
       "  0.12094532616436482,\n",
       "  0.22786006554961205,\n",
       "  0.1332143010944128,\n",
       "  0.0997967062331736,\n",
       "  0.13773662116378546,\n",
       "  0.11534940483048559,\n",
       "  0.10517852783203124,\n",
       "  0.1015489943884313,\n",
       "  0.1085067516937852,\n",
       "  0.17846950706094503,\n",
       "  0.11944409374147653,\n",
       "  0.1277865604683757,\n",
       "  0.10327545834705233,\n",
       "  0.10869899939745664,\n",
       "  0.12218495666980743,\n",
       "  0.12177115799859166,\n",
       "  0.09120863541960716,\n",
       "  0.11347040016204119,\n",
       "  0.1409650942310691,\n",
       "  0.09002430910244584,\n",
       "  0.09723863795399666,\n",
       "  0.1006020274758339,\n",
       "  0.10082117952406407,\n",
       "  0.13682300973683595,\n",
       "  0.09272105645388365,\n",
       "  0.09783405348658562,\n",
       "  0.09359298743307591,\n",
       "  0.12051816144958138,\n",
       "  0.13483438108116388,\n",
       "  0.10095507629215718,\n",
       "  0.09692024610936642,\n",
       "  0.1077869201079011,\n",
       "  0.09337205644696951,\n",
       "  0.10805382044985891,\n",
       "  0.1114653074927628,\n",
       "  0.10805630203336478,\n",
       "  0.10500611830502748,\n",
       "  0.10274073507636786,\n",
       "  0.100571105517447,\n",
       "  0.12844384849071502,\n",
       "  0.11122957997024059,\n",
       "  0.10704558996483683,\n",
       "  0.10451958872377873,\n",
       "  0.09572329003363848,\n",
       "  0.09915347445756197,\n",
       "  0.12480389539152384,\n",
       "  0.10307012436911464,\n",
       "  0.09625641915947199,\n",
       "  0.09325418064370751,\n",
       "  0.09565043598413467,\n",
       "  0.09856069333851337,\n",
       "  0.1068576592952013,\n",
       "  0.10156751316040755,\n",
       "  0.09175518810749055,\n",
       "  0.09978490158915519,\n",
       "  0.08472299760207534,\n",
       "  0.09191453762352467,\n",
       "  0.10234776921570302,\n",
       "  0.08609204690903426,\n",
       "  0.10762799104675651,\n",
       "  0.09591988485306502,\n",
       "  0.10706179279834033,\n",
       "  0.10625349313020706,\n",
       "  0.08510989412665367,\n",
       "  0.10556157674640416,\n",
       "  0.07139934362843632,\n",
       "  0.08702710751444101,\n",
       "  0.07720880422741175,\n",
       "  0.098431191816926,\n",
       "  0.10102093843743205,\n",
       "  0.12880319856107236,\n",
       "  0.10923642247915268,\n",
       "  0.10384913682937622,\n",
       "  0.09087286610156298,\n",
       "  0.0929444034025073,\n",
       "  0.09484373200684786,\n",
       "  0.10302412092685699,\n",
       "  0.12420246694236994,\n",
       "  0.09558856483548879,\n",
       "  0.1267875587940216,\n",
       "  0.0860079575702548,\n",
       "  0.11313352305442095,\n",
       "  0.13482935044914485,\n",
       "  0.0902807205170393,\n",
       "  0.08828044474124909,\n",
       "  0.09271973609924317,\n",
       "  0.13605130568146706,\n",
       "  0.10602627381682396,\n",
       "  0.08226351916790009,\n",
       "  0.08430329456925392,\n",
       "  0.08993584953248501,\n",
       "  0.08214808378368615,\n",
       "  0.09005278922617435,\n",
       "  0.09728187505155801,\n",
       "  0.11809887267649173,\n",
       "  0.09833643827587366,\n",
       "  0.08979816030710935,\n",
       "  0.08898827478289605,\n",
       "  0.08993666980415582,\n",
       "  0.09777373809367418,\n",
       "  0.0866934659704566,\n",
       "  0.0910483792424202,\n",
       "  0.09636120341718196,\n",
       "  0.08298730541020632,\n",
       "  0.08715632051229477,\n",
       "  0.10560729444026946,\n",
       "  0.08740274656563997,\n",
       "  0.07592312961816788,\n",
       "  0.10244208494201303,\n",
       "  0.11316533144563437,\n",
       "  0.12374853309243918,\n",
       "  0.11066202066838741,\n",
       "  0.09278448946774005,\n",
       "  0.08017692640423775,\n",
       "  0.0882528905943036,\n",
       "  0.10009879047051072,\n",
       "  0.09416120670735836,\n",
       "  0.07818740813061595,\n",
       "  0.12126462176442146,\n",
       "  0.11742666985839606,\n",
       "  0.08046040948480368,\n",
       "  0.08661093262955546,\n",
       "  0.08896356880664825,\n",
       "  0.08776339814066887,\n",
       "  0.08526139952242374,\n",
       "  0.08405498443171382,\n",
       "  0.08113554816693068,\n",
       "  0.07988227140158415,\n",
       "  0.07814560856670141,\n",
       "  0.08172343324869871,\n",
       "  0.09037881150841713,\n",
       "  0.0864825076982379,\n",
       "  0.08656613029539585,\n",
       "  0.10074836667627096,\n",
       "  0.09989826042205095,\n",
       "  0.13198833994567394,\n",
       "  0.08543043747544289,\n",
       "  0.0780122833326459,\n",
       "  0.08789360068738461,\n",
       "  0.10531790543347597,\n",
       "  0.10463739667087793,\n",
       "  0.0844090599194169,\n",
       "  0.08199774349108338,\n",
       "  0.09285697054117918,\n",
       "  0.08439643306657672,\n",
       "  0.07880522526800632,\n",
       "  0.095744439214468,\n",
       "  0.07862198628485202,\n",
       "  0.1262854443117976,\n",
       "  0.09861348494887352,\n",
       "  0.10410968158394099,\n",
       "  0.0847975117340684,\n",
       "  0.07851770985871553,\n",
       "  0.09901926431804896,\n",
       "  0.10903043437749148,\n",
       "  0.08844314485788346,\n",
       "  0.08371128309518099,\n",
       "  0.12422223713248969,\n",
       "  0.09159986175596714,\n",
       "  0.08078633077442646,\n",
       "  0.10998062748461962,\n",
       "  0.08988597152754664,\n",
       "  0.09204620853066445,\n",
       "  0.09151984471827745,\n",
       "  0.09252063110470772,\n",
       "  0.07714391313493252,\n",
       "  0.08597569726407528,\n",
       "  0.0832867269590497,\n",
       "  0.09853901676833629,\n",
       "  0.09172861380502581,\n",
       "  0.0845768341049552,\n",
       "  0.09254884324967862,\n",
       "  0.11243696201592684,\n",
       "  0.12417567070573568,\n",
       "  0.08609366111457348,\n",
       "  0.084873406291008,\n",
       "  0.07596445724368095,\n",
       "  0.09626916179433465,\n",
       "  0.12460799504071474,\n",
       "  0.08554874304682017,\n",
       "  0.07487422928214073,\n",
       "  0.09403442328795791,\n",
       "  0.09003568243235349,\n",
       "  0.1425321103259921,\n",
       "  0.11257896710187197,\n",
       "  0.0994026616960764,\n",
       "  0.09630091184750199,\n",
       "  0.1067178501561284,\n",
       "  0.15900335531681775,\n",
       "  0.07755596708506346,\n",
       "  0.09252384774386883,\n",
       "  0.09384694147855044,\n",
       "  0.07974514555186034,\n",
       "  0.08538039594888687,\n",
       "  0.09035963851958513,\n",
       "  0.0769795611128211,\n",
       "  0.09040928807109594,\n",
       "  0.09938910163938999,\n",
       "  0.10683844489976764,\n",
       "  0.11463636294007301,\n",
       "  0.08676942396908999,\n",
       "  0.0861920066550374,\n",
       "  0.08073843874037266,\n",
       "  0.13444052319973707,\n",
       "  0.08756049193441867,\n",
       "  0.0968301727809012,\n",
       "  0.11278734739869833,\n",
       "  0.09851258341223001,\n",
       "  0.10906559333205224,\n",
       "  0.12432511415332556,\n",
       "  0.0753159325569868,\n",
       "  0.07221599321812391,\n",
       "  0.11227149687707424,\n",
       "  0.08741342574357987,\n",
       "  0.15799520775675774,\n",
       "  0.10107520360499621,\n",
       "  0.09215241746976971,\n",
       "  0.11134053759276867,\n",
       "  0.08048709519207478,\n",
       "  0.08816228298470379,\n",
       "  0.0971047968044877,\n",
       "  0.0957896800711751,\n",
       "  0.08576949663460255,\n",
       "  0.08783386711031199,\n",
       "  0.08837315894663333,\n",
       "  0.07529246471822262,\n",
       "  0.09022321447730064,\n",
       "  0.07927395738661289,\n",
       "  0.11252158984541893,\n",
       "  0.12886535266414284,\n",
       "  0.10858644530177117,\n",
       "  0.08220994912087917,\n",
       "  0.09882639609277248,\n",
       "  0.08639562673866749,\n",
       "  0.0835959655418992,\n",
       "  0.09901412915438414,\n",
       "  0.08516301840543747,\n",
       "  0.09706973081454634,\n",
       "  0.07929072547703982,\n",
       "  0.08674569394439459,\n",
       "  0.0901333299279213,\n",
       "  0.10638756658881902,\n",
       "  0.08832790214568377,\n",
       "  0.08282901372760534,\n",
       "  0.212638679780066,\n",
       "  0.07702564030885696,\n",
       "  0.1157562307268381,\n",
       "  0.0867413217574358,\n",
       "  0.10329752627760172,\n",
       "  0.10345029823482037,\n",
       "  0.09282958444207906,\n",
       "  0.0767189346626401,\n",
       "  0.08702543999999762,\n",
       "  0.10597703419625759,\n",
       "  0.09314359396696091,\n",
       "  0.11221429392695427,\n",
       "  0.08693392019718886,\n",
       "  0.08183402189984917,\n",
       "  0.11468538019806146,\n",
       "  0.08259087659418583,\n",
       "  0.093938221745193,\n",
       "  0.0887556241452694,\n",
       "  0.080338851287961,\n",
       "  0.07789096586406231,\n",
       "  0.07989584140479565,\n",
       "  0.1073660720512271,\n",
       "  0.08850797211751342,\n",
       "  0.09170009955763817,\n",
       "  0.07488903824239969,\n",
       "  0.12228078559041024,\n",
       "  0.10152102556079626,\n",
       "  0.08366903116926551,\n",
       "  0.0942715685069561,\n",
       "  0.1037204510346055,\n",
       "  0.087697250880301,\n",
       "  0.09148724736645818,\n",
       "  0.07639393363147974,\n",
       "  0.08870662875473499,\n",
       "  0.10154980555176735,\n",
       "  0.11596972838044167,\n",
       "  0.09925742609426379,\n",
       "  0.0833404539525509,\n",
       "  0.08920269086956978,\n",
       "  0.10209502585232258,\n",
       "  0.08378912307322026,\n",
       "  0.09591411082074046,\n",
       "  0.11417719315737486,\n",
       "  0.14454768653959035,\n",
       "  0.08814901469275355,\n",
       "  0.09313217259943485,\n",
       "  0.09445005152374505,\n",
       "  0.08544269565492868,\n",
       "  0.10177586801350116,\n",
       "  0.13090024650096893,\n",
       "  0.08194971065968275,\n",
       "  0.0995614480599761,\n",
       "  0.07676281176507473,\n",
       "  0.07766279868781567,\n",
       "  0.12461206061765552,\n",
       "  0.09840424826368689,\n",
       "  0.09692472506314516,\n",
       "  0.08097808914259076,\n",
       "  0.09089562943205237,\n",
       "  0.09801408264786005,\n",
       "  0.12616440933197737,\n",
       "  0.08892929825931788,\n",
       "  0.09360297154635192,\n",
       "  0.10121919568628072,\n",
       "  0.09662521952763199,\n",
       "  0.08292742250487209,\n",
       "  0.08787880908697844,\n",
       "  0.10785466073080897,\n",
       "  0.08850084317848086,\n",
       "  0.08588029958307743,\n",
       "  0.09971732452511788,\n",
       "  0.08154919009655714,\n",
       "  0.14164006374776364,\n",
       "  0.09233227226883173,\n",
       "  0.09347472243010997,\n",
       "  0.08145144324749708,\n",
       "  0.10046753905713558,\n",
       "  0.08929637432098389,\n",
       "  0.13154380716383457,\n",
       "  0.09456391332671046,\n",
       "  0.09345135740935802,\n",
       "  0.11884192943572998,\n",
       "  0.07915366614237428,\n",
       "  0.08749933790415526,\n",
       "  0.0805338504165411,\n",
       "  0.07679160036146641,\n",
       "  0.11751929093152284,\n",
       "  0.10086234357208014,\n",
       "  0.07970012275502086,\n",
       "  0.10725437227636575,\n",
       "  0.08553912151604891,\n",
       "  0.07547680027782917,\n",
       "  0.0972767985984683,\n",
       "  0.08000413477420806,\n",
       "  0.13519008733332158,\n",
       "  0.08266462344676256,\n",
       "  0.12087493531405925,\n",
       "  0.08941321421414614,\n",
       "  0.08171406175941229,\n",
       "  0.09250358358025551,\n",
       "  0.08935601316392422,\n",
       "  0.09590979658067227,\n",
       "  0.08671270105987787,\n",
       "  0.09241524439305067,\n",
       "  0.09347297765314579,\n",
       "  0.10532096724957228,\n",
       "  0.07899990428239106,\n",
       "  0.09652519511058927,\n",
       "  0.08931514430791139,\n",
       "  0.08314427120611072,\n",
       "  0.0963064269348979,\n",
       "  0.09978846415877342,\n",
       "  0.08342987194657325,\n",
       "  0.08546524092555047,\n",
       "  0.07911622919142246,\n",
       "  0.08091966565698386,\n",
       "  0.08209913395345211,\n",
       "  0.09135853733867406,\n",
       "  0.10377883687615394,\n",
       "  0.08948260817676783,\n",
       "  0.09167408494278789,\n",
       "  0.08618279546499252,\n",
       "  0.0961071828380227,\n",
       "  0.10680437684059144,\n",
       "  0.09171638906002044,\n",
       "  0.0837191185541451,\n",
       "  0.0943432404473424,\n",
       "  0.08808935560286045,\n",
       "  0.08739891165867447,\n",
       "  0.14145307302474974,\n",
       "  0.08988700743764638,\n",
       "  0.1188194048218429,\n",
       "  0.0893579252064228,\n",
       "  0.07917716167867184,\n",
       "  0.0850474525615573,\n",
       "  0.09943155255168676,\n",
       "  0.08885916858911515,\n",
       "  0.11047883097082377,\n",
       "  0.09973144672811031,\n",
       "  0.08407445061951875,\n",
       "  0.0880538851581514,\n",
       "  0.08544820424169303,\n",
       "  0.09232079789042473,\n",
       "  0.09885352667421103,\n",
       "  0.09540582161396742,\n",
       "  0.09233353927731514,\n",
       "  0.07908240005373955,\n",
       "  0.0827470189705491,\n",
       "  0.10531284734606743,\n",
       "  0.0864808128401637,\n",
       "  0.09191958231851459,\n",
       "  0.07794089891016483,\n",
       "  0.09202263433486223,\n",
       "  0.12288592420518399,\n",
       "  0.0991932264342904,\n",
       "  0.10397409774363041,\n",
       "  0.10930993974208832,\n",
       "  0.08259659431874752,\n",
       "  0.0877803312242031,\n",
       "  0.08138030361384153,\n",
       "  0.09465756434947252,\n",
       "  0.0940756519883871,\n",
       "  0.11079105671495199,\n",
       "  0.09412518996745348,\n",
       "  0.08215534307062626,\n",
       "  0.0827135106176138,\n",
       "  0.07926521576941013,\n",
       "  0.09494114443659782,\n",
       "  0.08199980963021516,\n",
       "  0.12181540332734585,\n",
       "  0.10171910803765058,\n",
       "  0.13461020413786173,\n",
       "  0.10234464723616839,\n",
       "  0.08118969298899174,\n",
       "  0.07455415342003108,\n",
       "  0.10742399249225855,\n",
       "  0.0858840363100171,\n",
       "  0.07867451949045062,\n",
       "  0.09457013562321663,\n",
       "  0.09680471755564213,\n",
       "  0.09324958268553019,\n",
       "  0.10676066180691123,\n",
       "  0.08604447143152356,\n",
       "  0.08934111200273037,\n",
       "  0.09268515683710575,\n",
       "  0.09772257590666414,\n",
       "  0.09926536230370403,\n",
       "  0.0735861887410283,\n",
       "  0.07929060768336058,\n",
       "  0.08684528179466725,\n",
       "  0.10853397641330957,\n",
       "  0.09542359443381429,\n",
       "  0.07635635945945979,\n",
       "  0.09411502167582513,\n",
       "  0.1070518620684743,\n",
       "  0.09784853771328926,\n",
       "  0.07425814542919397,\n",
       "  0.09352047566324473,\n",
       "  0.0994775127992034,\n",
       "  0.07738688278943301,\n",
       "  0.08838815707713366,\n",
       "  0.0835714392364025,\n",
       "  0.09446754664182663,\n",
       "  0.08225097119808197,\n",
       "  0.12222403507679701,\n",
       "  0.08990238025784493],\n",
       " 'accuracy': [0.625,\n",
       "  0.6325,\n",
       "  0.626875,\n",
       "  0.668125,\n",
       "  0.74125,\n",
       "  0.795625,\n",
       "  0.821875,\n",
       "  0.895625,\n",
       "  0.91375,\n",
       "  0.925,\n",
       "  0.92,\n",
       "  0.92,\n",
       "  0.92625,\n",
       "  0.93375,\n",
       "  0.9425,\n",
       "  0.929375,\n",
       "  0.94125,\n",
       "  0.943125,\n",
       "  0.939375,\n",
       "  0.948125,\n",
       "  0.94375,\n",
       "  0.9475,\n",
       "  0.941875,\n",
       "  0.951875,\n",
       "  0.951875,\n",
       "  0.9425,\n",
       "  0.9475,\n",
       "  0.945625,\n",
       "  0.949375,\n",
       "  0.953125,\n",
       "  0.9475,\n",
       "  0.94625,\n",
       "  0.951875,\n",
       "  0.956875,\n",
       "  0.950625,\n",
       "  0.950625,\n",
       "  0.955,\n",
       "  0.95625,\n",
       "  0.94875,\n",
       "  0.951875,\n",
       "  0.951875,\n",
       "  0.95,\n",
       "  0.95875,\n",
       "  0.95875,\n",
       "  0.96125,\n",
       "  0.95875,\n",
       "  0.95625,\n",
       "  0.95375,\n",
       "  0.95375,\n",
       "  0.95625,\n",
       "  0.969375,\n",
       "  0.966875,\n",
       "  0.963125,\n",
       "  0.95875,\n",
       "  0.965,\n",
       "  0.961875,\n",
       "  0.960625,\n",
       "  0.95875,\n",
       "  0.9575,\n",
       "  0.96125,\n",
       "  0.96375,\n",
       "  0.965625,\n",
       "  0.964375,\n",
       "  0.966875,\n",
       "  0.964375,\n",
       "  0.965,\n",
       "  0.964375,\n",
       "  0.9675,\n",
       "  0.96,\n",
       "  0.974375,\n",
       "  0.965625,\n",
       "  0.965625,\n",
       "  0.960625,\n",
       "  0.971875,\n",
       "  0.969375,\n",
       "  0.965625,\n",
       "  0.963125,\n",
       "  0.96875,\n",
       "  0.95875,\n",
       "  0.966875,\n",
       "  0.970625,\n",
       "  0.975,\n",
       "  0.9725,\n",
       "  0.97,\n",
       "  0.965,\n",
       "  0.968125,\n",
       "  0.966875,\n",
       "  0.961875,\n",
       "  0.964375,\n",
       "  0.97,\n",
       "  0.976875,\n",
       "  0.973125,\n",
       "  0.964375,\n",
       "  0.96,\n",
       "  0.965625,\n",
       "  0.970625,\n",
       "  0.9625,\n",
       "  0.97,\n",
       "  0.9725,\n",
       "  0.970625,\n",
       "  0.96625,\n",
       "  0.968125,\n",
       "  0.9625,\n",
       "  0.973125,\n",
       "  0.974375,\n",
       "  0.97,\n",
       "  0.965,\n",
       "  0.970625,\n",
       "  0.975625,\n",
       "  0.978125,\n",
       "  0.975625,\n",
       "  0.97375,\n",
       "  0.971875,\n",
       "  0.979375,\n",
       "  0.979375,\n",
       "  0.975625,\n",
       "  0.968125,\n",
       "  0.9775,\n",
       "  0.9675,\n",
       "  0.97875,\n",
       "  0.97375,\n",
       "  0.97125,\n",
       "  0.974375,\n",
       "  0.97625,\n",
       "  0.97125,\n",
       "  0.973125,\n",
       "  0.975,\n",
       "  0.97375,\n",
       "  0.975625,\n",
       "  0.975625,\n",
       "  0.975625,\n",
       "  0.9675,\n",
       "  0.973125,\n",
       "  0.9775,\n",
       "  0.966875,\n",
       "  0.975,\n",
       "  0.9725,\n",
       "  0.97625,\n",
       "  0.976875,\n",
       "  0.978125,\n",
       "  0.971875,\n",
       "  0.975,\n",
       "  0.971875,\n",
       "  0.970625,\n",
       "  0.97375,\n",
       "  0.976875,\n",
       "  0.9725,\n",
       "  0.97375,\n",
       "  0.971875,\n",
       "  0.97,\n",
       "  0.971875,\n",
       "  0.958125,\n",
       "  0.9775,\n",
       "  0.980625,\n",
       "  0.973125,\n",
       "  0.96875,\n",
       "  0.975,\n",
       "  0.9825,\n",
       "  0.981875,\n",
       "  0.97,\n",
       "  0.98125,\n",
       "  0.96125,\n",
       "  0.978125,\n",
       "  0.980625,\n",
       "  0.979375,\n",
       "  0.978125,\n",
       "  0.9775,\n",
       "  0.97875,\n",
       "  0.979375,\n",
       "  0.9675,\n",
       "  0.97875,\n",
       "  0.9675,\n",
       "  0.974375,\n",
       "  0.96875,\n",
       "  0.9725,\n",
       "  0.974375,\n",
       "  0.971875,\n",
       "  0.979375,\n",
       "  0.973125,\n",
       "  0.974375,\n",
       "  0.974375,\n",
       "  0.978125,\n",
       "  0.975,\n",
       "  0.96875,\n",
       "  0.97375,\n",
       "  0.973125,\n",
       "  0.971875,\n",
       "  0.9775,\n",
       "  0.97,\n",
       "  0.980625,\n",
       "  0.971875,\n",
       "  0.975625,\n",
       "  0.97125,\n",
       "  0.978125,\n",
       "  0.97875,\n",
       "  0.9775,\n",
       "  0.97625,\n",
       "  0.973125,\n",
       "  0.979375,\n",
       "  0.979375,\n",
       "  0.97625,\n",
       "  0.971875,\n",
       "  0.970625,\n",
       "  0.976875,\n",
       "  0.970625,\n",
       "  0.97875,\n",
       "  0.975,\n",
       "  0.97875,\n",
       "  0.9725,\n",
       "  0.969375,\n",
       "  0.97625,\n",
       "  0.97875,\n",
       "  0.9725,\n",
       "  0.978125,\n",
       "  0.9675,\n",
       "  0.979375,\n",
       "  0.978125,\n",
       "  0.97,\n",
       "  0.976875,\n",
       "  0.97125,\n",
       "  0.9775,\n",
       "  0.968125,\n",
       "  0.975,\n",
       "  0.98125,\n",
       "  0.971875,\n",
       "  0.975625,\n",
       "  0.97625,\n",
       "  0.965625,\n",
       "  0.9775,\n",
       "  0.9775,\n",
       "  0.975625,\n",
       "  0.98,\n",
       "  0.978125,\n",
       "  0.973125,\n",
       "  0.975,\n",
       "  0.979375,\n",
       "  0.978125,\n",
       "  0.9725,\n",
       "  0.9675,\n",
       "  0.973125,\n",
       "  0.97875,\n",
       "  0.975625,\n",
       "  0.9725,\n",
       "  0.97875,\n",
       "  0.975625,\n",
       "  0.978125,\n",
       "  0.97625,\n",
       "  0.97875,\n",
       "  0.9775,\n",
       "  0.96875,\n",
       "  0.975625,\n",
       "  0.974375,\n",
       "  0.973125,\n",
       "  0.978125,\n",
       "  0.979375,\n",
       "  0.969375,\n",
       "  0.976875,\n",
       "  0.974375,\n",
       "  0.976875,\n",
       "  0.96875,\n",
       "  0.973125,\n",
       "  0.97625,\n",
       "  0.97125,\n",
       "  0.975625,\n",
       "  0.981875,\n",
       "  0.965625,\n",
       "  0.980625,\n",
       "  0.96875,\n",
       "  0.97625,\n",
       "  0.979375,\n",
       "  0.974375,\n",
       "  0.978125,\n",
       "  0.9775,\n",
       "  0.978125,\n",
       "  0.975625,\n",
       "  0.9775,\n",
       "  0.97375,\n",
       "  0.97375,\n",
       "  0.974375,\n",
       "  0.9775,\n",
       "  0.973125,\n",
       "  0.97375,\n",
       "  0.976875,\n",
       "  0.971875,\n",
       "  0.97625,\n",
       "  0.974375,\n",
       "  0.975,\n",
       "  0.979375,\n",
       "  0.98,\n",
       "  0.9725,\n",
       "  0.970625,\n",
       "  0.971875,\n",
       "  0.97625,\n",
       "  0.979375,\n",
       "  0.966875,\n",
       "  0.971875,\n",
       "  0.975,\n",
       "  0.976875,\n",
       "  0.97375,\n",
       "  0.97375,\n",
       "  0.975,\n",
       "  0.980625,\n",
       "  0.98125,\n",
       "  0.971875,\n",
       "  0.97625,\n",
       "  0.980625,\n",
       "  0.978125,\n",
       "  0.965625,\n",
       "  0.979375,\n",
       "  0.971875,\n",
       "  0.979375,\n",
       "  0.976875,\n",
       "  0.973125,\n",
       "  0.971875,\n",
       "  0.975,\n",
       "  0.976875,\n",
       "  0.9725,\n",
       "  0.976875,\n",
       "  0.98,\n",
       "  0.97625,\n",
       "  0.97375,\n",
       "  0.97625,\n",
       "  0.973125,\n",
       "  0.9825,\n",
       "  0.974375,\n",
       "  0.975625,\n",
       "  0.978125,\n",
       "  0.97625,\n",
       "  0.979375,\n",
       "  0.97125,\n",
       "  0.973125,\n",
       "  0.975,\n",
       "  0.981875,\n",
       "  0.975,\n",
       "  0.9775,\n",
       "  0.97375,\n",
       "  0.9825,\n",
       "  0.98,\n",
       "  0.971875,\n",
       "  0.97375,\n",
       "  0.975,\n",
       "  0.969375,\n",
       "  0.976875,\n",
       "  0.97125,\n",
       "  0.9725,\n",
       "  0.98,\n",
       "  0.969375,\n",
       "  0.968125,\n",
       "  0.970625,\n",
       "  0.975,\n",
       "  0.973125,\n",
       "  0.9725,\n",
       "  0.971875,\n",
       "  0.97375,\n",
       "  0.974375,\n",
       "  0.971875,\n",
       "  0.973125,\n",
       "  0.973125,\n",
       "  0.97375,\n",
       "  0.9775,\n",
       "  0.97125,\n",
       "  0.97625,\n",
       "  0.97875,\n",
       "  0.974375,\n",
       "  0.969375,\n",
       "  0.97125,\n",
       "  0.975,\n",
       "  0.975625,\n",
       "  0.978125,\n",
       "  0.9775,\n",
       "  0.97625,\n",
       "  0.978125,\n",
       "  0.978125,\n",
       "  0.98625,\n",
       "  0.975625,\n",
       "  0.9625,\n",
       "  0.973125,\n",
       "  0.9775,\n",
       "  0.98,\n",
       "  0.974375,\n",
       "  0.97875,\n",
       "  0.97125,\n",
       "  0.979375,\n",
       "  0.97625,\n",
       "  0.976875,\n",
       "  0.97625,\n",
       "  0.974375,\n",
       "  0.9775,\n",
       "  0.97375,\n",
       "  0.968125,\n",
       "  0.97125,\n",
       "  0.978125,\n",
       "  0.974375,\n",
       "  0.973125,\n",
       "  0.97125,\n",
       "  0.975,\n",
       "  0.98125,\n",
       "  0.97875,\n",
       "  0.97625,\n",
       "  0.9775,\n",
       "  0.976875,\n",
       "  0.976875,\n",
       "  0.974375,\n",
       "  0.97625,\n",
       "  0.976875,\n",
       "  0.975,\n",
       "  0.974375,\n",
       "  0.98,\n",
       "  0.979375,\n",
       "  0.968125,\n",
       "  0.97875,\n",
       "  0.9675,\n",
       "  0.976875,\n",
       "  0.975,\n",
       "  0.975,\n",
       "  0.979375,\n",
       "  0.97375,\n",
       "  0.97625,\n",
       "  0.976875,\n",
       "  0.97375,\n",
       "  0.97125,\n",
       "  0.975625,\n",
       "  0.969375,\n",
       "  0.9675,\n",
       "  0.975,\n",
       "  0.976875,\n",
       "  0.980625,\n",
       "  0.9775,\n",
       "  0.975625,\n",
       "  0.966875,\n",
       "  0.9725,\n",
       "  0.970625,\n",
       "  0.97,\n",
       "  0.975,\n",
       "  0.978125,\n",
       "  0.980625,\n",
       "  0.975,\n",
       "  0.97375,\n",
       "  0.969375,\n",
       "  0.98,\n",
       "  0.97625,\n",
       "  0.9825,\n",
       "  0.984375,\n",
       "  0.97125,\n",
       "  0.98,\n",
       "  0.978125,\n",
       "  0.978125,\n",
       "  0.97375,\n",
       "  0.975625,\n",
       "  0.975625,\n",
       "  0.97,\n",
       "  0.97125,\n",
       "  0.97375,\n",
       "  0.97875,\n",
       "  0.974375,\n",
       "  0.970625,\n",
       "  0.978125,\n",
       "  0.975,\n",
       "  0.975625,\n",
       "  0.97375,\n",
       "  0.979375,\n",
       "  0.975,\n",
       "  0.976875,\n",
       "  0.983125,\n",
       "  0.973125,\n",
       "  0.97875,\n",
       "  0.976875,\n",
       "  0.969375,\n",
       "  0.9675,\n",
       "  0.973125,\n",
       "  0.98,\n",
       "  0.976875,\n",
       "  0.97375,\n",
       "  0.968125,\n",
       "  0.969375,\n",
       "  0.97625,\n",
       "  0.978125,\n",
       "  0.978125,\n",
       "  0.97125,\n",
       "  0.9725,\n",
       "  0.974375,\n",
       "  0.98125,\n",
       "  0.97875,\n",
       "  0.97625,\n",
       "  0.97875,\n",
       "  0.975625,\n",
       "  0.97,\n",
       "  0.975,\n",
       "  0.97375,\n",
       "  0.971875,\n",
       "  0.981875,\n",
       "  0.974375,\n",
       "  0.9775,\n",
       "  0.966875,\n",
       "  0.9725,\n",
       "  0.971875,\n",
       "  0.97125,\n",
       "  0.973125,\n",
       "  0.985,\n",
       "  0.976875],\n",
       " 'val_accuracy': [0.5825,\n",
       "  0.5825,\n",
       "  0.68,\n",
       "  0.73,\n",
       "  0.8225,\n",
       "  0.8375,\n",
       "  0.85,\n",
       "  0.8825,\n",
       "  0.9225,\n",
       "  0.9125,\n",
       "  0.92,\n",
       "  0.8575,\n",
       "  0.915,\n",
       "  0.94,\n",
       "  0.935,\n",
       "  0.9375,\n",
       "  0.935,\n",
       "  0.9225,\n",
       "  0.94,\n",
       "  0.945,\n",
       "  0.93,\n",
       "  0.9475,\n",
       "  0.9325,\n",
       "  0.9425,\n",
       "  0.9375,\n",
       "  0.935,\n",
       "  0.945,\n",
       "  0.9375,\n",
       "  0.9525,\n",
       "  0.9475,\n",
       "  0.9525,\n",
       "  0.9525,\n",
       "  0.9625,\n",
       "  0.94,\n",
       "  0.9475,\n",
       "  0.9625,\n",
       "  0.955,\n",
       "  0.945,\n",
       "  0.95,\n",
       "  0.9075,\n",
       "  0.955,\n",
       "  0.965,\n",
       "  0.945,\n",
       "  0.9375,\n",
       "  0.95,\n",
       "  0.9425,\n",
       "  0.9475,\n",
       "  0.9425,\n",
       "  0.9475,\n",
       "  0.9725,\n",
       "  0.9475,\n",
       "  0.915,\n",
       "  0.95,\n",
       "  0.96,\n",
       "  0.945,\n",
       "  0.955,\n",
       "  0.9625,\n",
       "  0.9625,\n",
       "  0.965,\n",
       "  0.9375,\n",
       "  0.955,\n",
       "  0.9525,\n",
       "  0.9625,\n",
       "  0.9625,\n",
       "  0.955,\n",
       "  0.97,\n",
       "  0.9675,\n",
       "  0.9625,\n",
       "  0.94,\n",
       "  0.97,\n",
       "  0.97,\n",
       "  0.965,\n",
       "  0.9575,\n",
       "  0.95,\n",
       "  0.9675,\n",
       "  0.9675,\n",
       "  0.97,\n",
       "  0.955,\n",
       "  0.965,\n",
       "  0.9625,\n",
       "  0.9575,\n",
       "  0.965,\n",
       "  0.975,\n",
       "  0.9625,\n",
       "  0.955,\n",
       "  0.9625,\n",
       "  0.965,\n",
       "  0.96,\n",
       "  0.97,\n",
       "  0.95,\n",
       "  0.9625,\n",
       "  0.9575,\n",
       "  0.9625,\n",
       "  0.9625,\n",
       "  0.9725,\n",
       "  0.9575,\n",
       "  0.9575,\n",
       "  0.97,\n",
       "  0.975,\n",
       "  0.9625,\n",
       "  0.9825,\n",
       "  0.955,\n",
       "  0.965,\n",
       "  0.9725,\n",
       "  0.9625,\n",
       "  0.985,\n",
       "  0.96,\n",
       "  0.9725,\n",
       "  0.9725,\n",
       "  0.9675,\n",
       "  0.96,\n",
       "  0.96,\n",
       "  0.9575,\n",
       "  0.98,\n",
       "  0.9525,\n",
       "  0.985,\n",
       "  0.98,\n",
       "  0.9825,\n",
       "  0.975,\n",
       "  0.965,\n",
       "  0.96,\n",
       "  0.9525,\n",
       "  0.9775,\n",
       "  0.9725,\n",
       "  0.9675,\n",
       "  0.96,\n",
       "  0.9675,\n",
       "  0.9475,\n",
       "  0.9725,\n",
       "  0.965,\n",
       "  0.9775,\n",
       "  0.9725,\n",
       "  0.9575,\n",
       "  0.9775,\n",
       "  0.97,\n",
       "  0.97,\n",
       "  0.95,\n",
       "  0.9675,\n",
       "  0.985,\n",
       "  0.9725,\n",
       "  0.97,\n",
       "  0.9825,\n",
       "  0.9775,\n",
       "  0.9775,\n",
       "  0.965,\n",
       "  0.965,\n",
       "  0.975,\n",
       "  0.965,\n",
       "  0.9725,\n",
       "  0.9775,\n",
       "  0.9775,\n",
       "  0.9725,\n",
       "  0.98,\n",
       "  0.9775,\n",
       "  0.9825,\n",
       "  0.965,\n",
       "  0.9825,\n",
       "  0.985,\n",
       "  0.96,\n",
       "  0.9575,\n",
       "  0.9575,\n",
       "  0.97,\n",
       "  0.975,\n",
       "  0.975,\n",
       "  0.9725,\n",
       "  0.9675,\n",
       "  0.9875,\n",
       "  0.9775,\n",
       "  0.96,\n",
       "  0.9475,\n",
       "  0.9825,\n",
       "  0.975,\n",
       "  0.9825,\n",
       "  0.985,\n",
       "  0.975,\n",
       "  0.98,\n",
       "  0.98,\n",
       "  0.985,\n",
       "  0.98,\n",
       "  0.975,\n",
       "  0.9775,\n",
       "  0.98,\n",
       "  0.9875,\n",
       "  0.9625,\n",
       "  0.985,\n",
       "  0.955,\n",
       "  0.9825,\n",
       "  0.9825,\n",
       "  0.98,\n",
       "  0.9525,\n",
       "  0.9625,\n",
       "  0.985,\n",
       "  0.9725,\n",
       "  0.975,\n",
       "  0.975,\n",
       "  0.9825,\n",
       "  0.96,\n",
       "  0.9775,\n",
       "  0.95,\n",
       "  0.96,\n",
       "  0.965,\n",
       "  0.975,\n",
       "  0.985,\n",
       "  0.98,\n",
       "  0.975,\n",
       "  0.9825,\n",
       "  0.98,\n",
       "  0.9475,\n",
       "  0.9775,\n",
       "  0.9775,\n",
       "  0.9725,\n",
       "  0.97,\n",
       "  0.965,\n",
       "  0.9725,\n",
       "  0.9725,\n",
       "  0.98,\n",
       "  0.9725,\n",
       "  0.9825,\n",
       "  0.96,\n",
       "  0.98,\n",
       "  0.98,\n",
       "  0.9675,\n",
       "  0.97,\n",
       "  0.9575,\n",
       "  0.98,\n",
       "  0.9775,\n",
       "  0.9875,\n",
       "  0.9675,\n",
       "  0.95,\n",
       "  0.975,\n",
       "  0.99,\n",
       "  0.9775,\n",
       "  0.975,\n",
       "  0.94,\n",
       "  0.96,\n",
       "  0.98,\n",
       "  0.97,\n",
       "  0.955,\n",
       "  0.935,\n",
       "  0.98,\n",
       "  0.97,\n",
       "  0.975,\n",
       "  0.9825,\n",
       "  0.9875,\n",
       "  0.98,\n",
       "  0.9825,\n",
       "  0.97,\n",
       "  0.9725,\n",
       "  0.975,\n",
       "  0.9675,\n",
       "  0.9825,\n",
       "  0.9775,\n",
       "  0.985,\n",
       "  0.96,\n",
       "  0.975,\n",
       "  0.98,\n",
       "  0.9675,\n",
       "  0.9625,\n",
       "  0.975,\n",
       "  0.9525,\n",
       "  0.9825,\n",
       "  0.985,\n",
       "  0.9675,\n",
       "  0.9875,\n",
       "  0.945,\n",
       "  0.9725,\n",
       "  0.9775,\n",
       "  0.965,\n",
       "  0.98,\n",
       "  0.975,\n",
       "  0.9625,\n",
       "  0.985,\n",
       "  0.98,\n",
       "  0.975,\n",
       "  0.97,\n",
       "  0.9825,\n",
       "  0.98,\n",
       "  0.985,\n",
       "  0.965,\n",
       "  0.9525,\n",
       "  0.97,\n",
       "  0.9825,\n",
       "  0.9775,\n",
       "  0.975,\n",
       "  0.99,\n",
       "  0.975,\n",
       "  0.9825,\n",
       "  0.975,\n",
       "  0.9825,\n",
       "  0.9775,\n",
       "  0.9725,\n",
       "  0.9775,\n",
       "  0.9825,\n",
       "  0.9775,\n",
       "  0.895,\n",
       "  0.9825,\n",
       "  0.97,\n",
       "  0.9825,\n",
       "  0.975,\n",
       "  0.9825,\n",
       "  0.9775,\n",
       "  0.9825,\n",
       "  0.98,\n",
       "  0.965,\n",
       "  0.965,\n",
       "  0.9475,\n",
       "  0.9825,\n",
       "  0.9825,\n",
       "  0.9575,\n",
       "  0.9775,\n",
       "  0.9775,\n",
       "  0.9725,\n",
       "  0.975,\n",
       "  0.9825,\n",
       "  0.99,\n",
       "  0.96,\n",
       "  0.98,\n",
       "  0.9775,\n",
       "  0.9825,\n",
       "  0.9475,\n",
       "  0.9725,\n",
       "  0.98,\n",
       "  0.975,\n",
       "  0.97,\n",
       "  0.9775,\n",
       "  0.975,\n",
       "  0.985,\n",
       "  0.98,\n",
       "  0.9775,\n",
       "  0.9575,\n",
       "  0.97,\n",
       "  0.9775,\n",
       "  0.9775,\n",
       "  0.965,\n",
       "  0.9775,\n",
       "  0.97,\n",
       "  0.9675,\n",
       "  0.955,\n",
       "  0.9825,\n",
       "  0.98,\n",
       "  0.975,\n",
       "  0.9825,\n",
       "  0.98,\n",
       "  0.9475,\n",
       "  0.98,\n",
       "  0.9675,\n",
       "  0.99,\n",
       "  0.9825,\n",
       "  0.965,\n",
       "  0.9775,\n",
       "  0.97,\n",
       "  0.9825,\n",
       "  0.9725,\n",
       "  0.965,\n",
       "  0.96,\n",
       "  0.9825,\n",
       "  0.9875,\n",
       "  0.9775,\n",
       "  0.9775,\n",
       "  0.9875,\n",
       "  0.975,\n",
       "  0.9675,\n",
       "  0.9825,\n",
       "  0.9825,\n",
       "  0.96,\n",
       "  0.98,\n",
       "  0.9575,\n",
       "  0.98,\n",
       "  0.97,\n",
       "  0.9775,\n",
       "  0.9675,\n",
       "  0.9725,\n",
       "  0.96,\n",
       "  0.9625,\n",
       "  0.975,\n",
       "  0.965,\n",
       "  0.9825,\n",
       "  0.98,\n",
       "  0.985,\n",
       "  0.985,\n",
       "  0.965,\n",
       "  0.9725,\n",
       "  0.985,\n",
       "  0.975,\n",
       "  0.985,\n",
       "  0.9875,\n",
       "  0.9725,\n",
       "  0.98,\n",
       "  0.9525,\n",
       "  0.99,\n",
       "  0.9625,\n",
       "  0.9775,\n",
       "  0.985,\n",
       "  0.9775,\n",
       "  0.975,\n",
       "  0.9625,\n",
       "  0.985,\n",
       "  0.98,\n",
       "  0.975,\n",
       "  0.965,\n",
       "  0.9875,\n",
       "  0.98,\n",
       "  0.9775,\n",
       "  0.98,\n",
       "  0.975,\n",
       "  0.9675,\n",
       "  0.9825,\n",
       "  0.985,\n",
       "  0.98,\n",
       "  0.9825,\n",
       "  0.9825,\n",
       "  0.9825,\n",
       "  0.98,\n",
       "  0.9875,\n",
       "  0.9675,\n",
       "  0.9775,\n",
       "  0.9725,\n",
       "  0.98,\n",
       "  0.9725,\n",
       "  0.9775,\n",
       "  0.98,\n",
       "  0.9775,\n",
       "  0.9775,\n",
       "  0.9475,\n",
       "  0.9775,\n",
       "  0.9675,\n",
       "  0.9825,\n",
       "  0.98,\n",
       "  0.9725,\n",
       "  0.9725,\n",
       "  0.9775,\n",
       "  0.9725,\n",
       "  0.9725,\n",
       "  0.9775,\n",
       "  0.98,\n",
       "  0.9825,\n",
       "  0.9725,\n",
       "  0.965,\n",
       "  0.9725,\n",
       "  0.985,\n",
       "  0.9875,\n",
       "  0.98,\n",
       "  0.965,\n",
       "  0.98,\n",
       "  0.98,\n",
       "  0.9825,\n",
       "  0.985,\n",
       "  0.9575,\n",
       "  0.9725,\n",
       "  0.9725,\n",
       "  0.9625,\n",
       "  0.9825,\n",
       "  0.9825,\n",
       "  0.9825,\n",
       "  0.9825,\n",
       "  0.9825,\n",
       "  0.96,\n",
       "  0.9775,\n",
       "  0.98,\n",
       "  0.9775,\n",
       "  0.9875,\n",
       "  0.98,\n",
       "  0.98,\n",
       "  0.9575,\n",
       "  0.9775,\n",
       "  0.9575,\n",
       "  0.9675,\n",
       "  0.98,\n",
       "  0.9875,\n",
       "  0.9675,\n",
       "  0.98,\n",
       "  0.985,\n",
       "  0.975,\n",
       "  0.965,\n",
       "  0.97,\n",
       "  0.9625,\n",
       "  0.975,\n",
       "  0.975,\n",
       "  0.97,\n",
       "  0.9725,\n",
       "  0.9675,\n",
       "  0.9825,\n",
       "  0.9875,\n",
       "  0.9825,\n",
       "  0.965,\n",
       "  0.98,\n",
       "  0.985,\n",
       "  0.975,\n",
       "  0.975,\n",
       "  0.985,\n",
       "  0.9825,\n",
       "  0.9825,\n",
       "  0.9725,\n",
       "  0.9875,\n",
       "  0.975,\n",
       "  0.9825,\n",
       "  0.98,\n",
       "  0.9825,\n",
       "  0.965,\n",
       "  0.9775]}"
      ]
     },
     "execution_count": 26,
     "metadata": {},
     "output_type": "execute_result"
    }
   ],
   "source": [
    "\n",
    "         # layer for regularization\n",
    "\n",
    "    \n",
    "\n",
    "# add regularizatio in the optimizer\n"
   ]
  },
  {
   "cell_type": "code",
   "execution_count": 27,
   "metadata": {
    "colab": {
     "base_uri": "https://localhost:8080/",
     "height": 542
    },
    "executionInfo": {
     "elapsed": 887,
     "status": "ok",
     "timestamp": 1613136613657,
     "user": {
      "displayName": "Charles Tanguy",
      "photoUrl": "",
      "userId": "11930294859591867631"
     },
     "user_tz": -60
    },
    "id": "POc-gf1ru9A6",
    "outputId": "fdc1729e-8ace-4397-cdc3-8d50cb400d7e"
   },
   "outputs": [
    {
     "data": {
      "application/vnd.plotly.v1+json": {
       "config": {
        "plotlyServerURL": "https://plot.ly"
       },
       "data": [
        {
         "colorscale": [
          [
           0,
           "#0E3449"
          ],
          [
           1,
           "#015955"
          ]
         ],
         "type": "contour",
         "x": {
          "bdata": "AAAAAAAA8L8Fav1KgVrvvwrU+pUCte6/ED744IMP7r8VqPUrBWrtvxoS83aGxOy/H3zwwQcf7L8k5u0MiXnrvylQ61cK1Oq/Lrrooosu6r80JObtDInpvzmO4ziO4+i/Pvjggw8+6L9DYt7OkJjnv0jM2xkS8+a/TjbZZJNN5r9SoNavFKjlv1gK1PqVAuW/XXTRRRdd5L9i3s6QmLfjv2dIzNsZEuO/bLLJJpts4r9yHMdxHMfhv3aGxLydIeG/fPDBBx984L8CtX6lQK3fvwyJeTtDYt6/Fl100UUX3b8gMW9nSMzbvywFav1Kgdq/Ntlkk0022b9ArV8pUOvXv0qBWr9SoNa/VFVVVVVV1b9eKVDrVwrUv2j9SoFav9K/dNFFF1100b9+pUCtXynQvxDzdobEvM2/JJtssskmy784Q2LezpDIv0zrVwrU+sW/ZJNNNtlkw794O0Ni3s7AvxjHcRzHcby/QBdddNFFt79oZ0jM2xmyvyBvZ0jM26m/AB988MEHn79Av1Kg1q+Ev4C/UqDWr4Q/QB988MEHnz9Ab2dIzNupP3BnSMzbGbI/UBdddNFFtz8gx3Ecx3G8P4A7Q2LezsA/aJNNNtlkwz9Q61cK1PrFP0BDYt7OkMg/KJtssskmyz8Y83aGxLzNP4ClQK1fKdA/eNFFF1100T9s/UqBWr/SP2ApUOtXCtQ/WFVVVVVV1T9MgVq/UqDWP0StXylQ69c/ONlkk0022T8wBWr9SoHaPyQxb2dIzNs/GF100UUX3T8QiXk7Q2LePwS1fqVArd8/fvDBBx984D94hsS8nSHhP3Icx3Ecx+E/brLJJpts4j9oSMzbGRLjP2TezpCYt+M/XnTRRRdd5D9aCtT6lQLlP1Sg1q8UqOU/TjbZZJNN5j9KzNsZEvPmP0Ri3s6QmOc/QPjggw8+6D86juM4juPoPzYk5u0Miek/MLrooosu6j8qUOtXCtTqPybm7QyJees/IHzwwQcf7D8cEvN2hsTsPxao9SsFau0/ED744IMP7j8M1PqVArXuPwZq/UqBWu8/AAAAAAAA8D8=",
          "dtype": "f8"
         },
         "y": {
          "bdata": "AAAAAAAA8L8Fav1KgVrvvwrU+pUCte6/ED744IMP7r8VqPUrBWrtvxoS83aGxOy/H3zwwQcf7L8k5u0MiXnrvylQ61cK1Oq/Lrrooosu6r80JObtDInpvzmO4ziO4+i/Pvjggw8+6L9DYt7OkJjnv0jM2xkS8+a/TjbZZJNN5r9SoNavFKjlv1gK1PqVAuW/XXTRRRdd5L9i3s6QmLfjv2dIzNsZEuO/bLLJJpts4r9yHMdxHMfhv3aGxLydIeG/fPDBBx984L8CtX6lQK3fvwyJeTtDYt6/Fl100UUX3b8gMW9nSMzbvywFav1Kgdq/Ntlkk0022b9ArV8pUOvXv0qBWr9SoNa/VFVVVVVV1b9eKVDrVwrUv2j9SoFav9K/dNFFF1100b9+pUCtXynQvxDzdobEvM2/JJtssskmy784Q2LezpDIv0zrVwrU+sW/ZJNNNtlkw794O0Ni3s7AvxjHcRzHcby/QBdddNFFt79oZ0jM2xmyvyBvZ0jM26m/AB988MEHn79Av1Kg1q+Ev4C/UqDWr4Q/QB988MEHnz9Ab2dIzNupP3BnSMzbGbI/UBdddNFFtz8gx3Ecx3G8P4A7Q2LezsA/aJNNNtlkwz9Q61cK1PrFP0BDYt7OkMg/KJtssskmyz8Y83aGxLzNP4ClQK1fKdA/eNFFF1100T9s/UqBWr/SP2ApUOtXCtQ/WFVVVVVV1T9MgVq/UqDWP0StXylQ69c/ONlkk0022T8wBWr9SoHaPyQxb2dIzNs/GF100UUX3T8QiXk7Q2LePwS1fqVArd8/fvDBBx984D94hsS8nSHhP3Icx3Ecx+E/brLJJpts4j9oSMzbGRLjP2TezpCYt+M/XnTRRRdd5D9aCtT6lQLlP1Sg1q8UqOU/TjbZZJNN5j9KzNsZEvPmP0Ri3s6QmOc/QPjggw8+6D86juM4juPoPzYk5u0Miek/MLrooosu6j8qUOtXCtTqPybm7QyJees/IHzwwQcf7D8cEvN2hsTsPxao9SsFau0/ED744IMP7j8M1PqVArXuPwZq/UqBWu8/AAAAAAAA8D8=",
          "dtype": "f8"
         },
         "z": {
          "bdata": "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",
          "dtype": "f4",
          "shape": "100, 100"
         }
        },
        {
         "marker": {
          "color": {
           "bdata": "AQEBAAABAAEAAAEBAQAAAQEAAAEAAQEAAQEAAQAAAAABAQAAAAEBAQAAAQAAAAAAAQEAAQAAAAEBAQEBAAEAAAABAQEBAQABAAEBAAEAAQEAAAEAAQAAAQEBAQABAAAAAAABAAEAAAEBAQEBAAAAAQEAAAEAAQEAAQABAQEBAQEBAAABAQAAAAABAQAAAQAAAAAAAAEAAQABAQEAAAABAAEBAAEAAQEAAAABAAAAAAAAAAEAAAABAQEBAQAAAAEBAQEBAAABAQEBAQEAAAEAAAAAAAEAAAABAQABAAABAAEAAQAAAQEAAQEBAAEBAQEAAQEBAAEBAQEBAQAAAQAAAQEAAAABAAEAAAAAAQEBAAEBAQEAAAAAAAEAAAABAAEBAQAAAQEAAAABAQEBAAEAAQABAAEBAAAAAAEAAQEAAQAAAAAAAAEAAAAAAAABAAAAAQABAQABAAEAAQABAAAAAAABAAEBAQEAAQABAAEBAAABAAEAAQABAQEAAAEBAQABAAEBAQABAAEAAAEAAAEAAQEAAAEBAQEAAAAAAQEBAQEAAAEBAAAAAAABAAABAQEBAQAAAAEAAAAAAQEAAQABAQEBAAAAAAEAAAEBAQAAAQAAAQABAAEBAQABAAEBAQABAQEBAQABAQEAAAABAQABAQEBAAEAAQABAAAAAAEAAQABAQABAQEAAAEAAQABAQEBAAEBAQAAAAABAAABAQABAQAAAQEAAAABAAEAAQEAAQEBAQEAAAAAAAEAAAAAAQABAAEBAQEAAQABAAAAAQABAAEAAAABAQEBAQEBAQEAAAABAQABAQAAAAAAAAEBAQABAAEAAQABAAAAAAEAAQEAAAABAAAAAAAAAQEAAQABAAEAAAEAAQABAAEAAAEBAQAAAAABAQEBAAEBAAABAQABAQABAAAAAQAAAAABAAEAAAEBAAABAQEAAQABAQEAAAEAAQAAAQEBAQABAQABAQAAAQEBAAEBAQEAAAAAAAEBAQAAAAAAAAEAAAABAQABAQAAAQEBAAAAAQEBAAABAQEAAQEAAQEAAAEAAQEBAQEBAAABAAAAAQEBAAABAAEBAAEBAQABAAABAQEBAQEAAQEAAAAAAAABAAABAAEBAAABAQABAQABAQEAAQEBAQEAAAEBAQEAAAEAAQAAAAAAAAABAAEBAQABAQABAQABAQEBAQEAAQEBAAABAAEBAQAAAQABAAEAAAEAAQEBAAABAQAAAQAAAAEBAQAAAAEBAAABAQEBAAAAAQABAAAAAAAAAQABAAABAAEBAAEBAAAAAAAAAQABAQEBAAEBAQAAAQAAAQEBAAABAQABAAEAAQABAQEBAQEAAQEBAQEAAAEAAQABAQAAAAEBAAAAAAAAAAEAAQEBAQABAAAAAQEAAAAAAAEBAAABAAAAAAAAAAAAAAABAQABAAEBAQABAQABAAAAAAAAAQAAAAEAAAABAAEBAQABAQEBAQEAAAEAAQABAQAAAAABAAEAAAAAAAEBAAAAAQAAAQABAQEBAQEBAQEBAQABAQEAAAEAAQEAAAAAAQEAAAEAAQAAAQABAAEAAQAAAAEBAQABAQAAAQEBAAABAQABAAEBAAAAAQABAAABAQEAAAEAAAEBAAEAAQEBAAEAAAEBAAAAAAEAAAABAQABAAEBAQAAAQEAAQEBAAAAAAEAAQABAQABAQEAAQAAAAEBAAEBAQABAQABAAEBAQEBAQAAAAEBAQEAAQEAAAEBAQAAAQAAAQAAAQAAAAABAAEAAQABAAEAAAEBAAEBAQAAAAEAAAAAAAEAAAEAAQEBAQABAQABAAABAAEBAQAAAAEAAAEAAQABAAEAAAEBAAEAAAEAAQAAAAEBAAEBAAAAAAEBAAABAAAAAQAAAQABAQAAAQABAQABAQABAAEAAQAAAQAAAAAAAQAAAQEAAAAAAAAAAQAAAAAAAAEAAQAAAAABAQEBAQABAAEAAQAAAQEAAQAAAAEAAQABAAEAAQEBAAEAAAEBAQEBAQABAQEAAAEBAAAAAAABAQABAQAAAQEAAAAAAAABAAEAAAEAAAEAAAABAAEAAQEBAQAAAQAAAAEBAQABAQEBAQEAAQEAAQABAAEAAAAAAQAAAAEAAQAAAAEAAQEAAQABAAAAAQEBAAEAAQABAQEAAQEBAAAAAQABAQEAAQEAAAEAAAEBAQABAQEBAAABAQABAQAAAAABAAEAAAEBAAEBAAEBAQAAAQEAAAAAAAAAAQEBAQAAAQEBAQAAAQAAAAEBAQABAAEAAQABAQEBAAEBAAEBAQEAAAAAAQEBAAAAAQABAAEBAAAAAQAAAAEAAAEBAQEAAQEBAQABAAABAAABAAEBAQABAQABAAAAAAAAAAAAAQABAQABAQEAAAAAAQAAAAABAQEAAQABAAABAAEBAQEBAAEAAQABAQEBAAEAAAEBAQABAQEAAAEBAQABAQAAAAAAAAEBAQEBAAABAQEBAQEAAQEAAAEAAAAAAQABAQAAAAAAAQABAQABAAEAAAAAAAABAQEBAAABAAABAQEAAAAAAAABAQAAAQEAAQEAAAAAAAEAAQEBAQAAAQABAAEAAAEBAQEBAAABAQABAQEBAQAAAQABAQABAAEBAQEAAQAAAAAAAQABAQABAAAAAAEBAAEBAAABAQABAAE=",
           "dtype": "i1"
          },
          "colorscale": [
           [
            0,
            "#4B9AC7"
           ],
           [
            1,
            "#4BE8E0"
           ]
          ]
         },
         "mode": "markers",
         "type": "scatter",
         "x": {
          "bdata": "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",
          "dtype": "f4"
         },
         "y": {
          "bdata": "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",
          "dtype": "f4"
         }
        }
       ],
       "layout": {
        "template": {
         "data": {
          "bar": [
           {
            "error_x": {
             "color": "#2a3f5f"
            },
            "error_y": {
             "color": "#2a3f5f"
            },
            "marker": {
             "line": {
              "color": "#E5ECF6",
              "width": 0.5
             },
             "pattern": {
              "fillmode": "overlay",
              "size": 10,
              "solidity": 0.2
             }
            },
            "type": "bar"
           }
          ],
          "barpolar": [
           {
            "marker": {
             "line": {
              "color": "#E5ECF6",
              "width": 0.5
             },
             "pattern": {
              "fillmode": "overlay",
              "size": 10,
              "solidity": 0.2
             }
            },
            "type": "barpolar"
           }
          ],
          "carpet": [
           {
            "aaxis": {
             "endlinecolor": "#2a3f5f",
             "gridcolor": "white",
             "linecolor": "white",
             "minorgridcolor": "white",
             "startlinecolor": "#2a3f5f"
            },
            "baxis": {
             "endlinecolor": "#2a3f5f",
             "gridcolor": "white",
             "linecolor": "white",
             "minorgridcolor": "white",
             "startlinecolor": "#2a3f5f"
            },
            "type": "carpet"
           }
          ],
          "choropleth": [
           {
            "colorbar": {
             "outlinewidth": 0,
             "ticks": ""
            },
            "type": "choropleth"
           }
          ],
          "contour": [
           {
            "colorbar": {
             "outlinewidth": 0,
             "ticks": ""
            },
            "colorscale": [
             [
              0,
              "#0d0887"
             ],
             [
              0.1111111111111111,
              "#46039f"
             ],
             [
              0.2222222222222222,
              "#7201a8"
             ],
             [
              0.3333333333333333,
              "#9c179e"
             ],
             [
              0.4444444444444444,
              "#bd3786"
             ],
             [
              0.5555555555555556,
              "#d8576b"
             ],
             [
              0.6666666666666666,
              "#ed7953"
             ],
             [
              0.7777777777777778,
              "#fb9f3a"
             ],
             [
              0.8888888888888888,
              "#fdca26"
             ],
             [
              1,
              "#f0f921"
             ]
            ],
            "type": "contour"
           }
          ],
          "contourcarpet": [
           {
            "colorbar": {
             "outlinewidth": 0,
             "ticks": ""
            },
            "type": "contourcarpet"
           }
          ],
          "heatmap": [
           {
            "colorbar": {
             "outlinewidth": 0,
             "ticks": ""
            },
            "colorscale": [
             [
              0,
              "#0d0887"
             ],
             [
              0.1111111111111111,
              "#46039f"
             ],
             [
              0.2222222222222222,
              "#7201a8"
             ],
             [
              0.3333333333333333,
              "#9c179e"
             ],
             [
              0.4444444444444444,
              "#bd3786"
             ],
             [
              0.5555555555555556,
              "#d8576b"
             ],
             [
              0.6666666666666666,
              "#ed7953"
             ],
             [
              0.7777777777777778,
              "#fb9f3a"
             ],
             [
              0.8888888888888888,
              "#fdca26"
             ],
             [
              1,
              "#f0f921"
             ]
            ],
            "type": "heatmap"
           }
          ],
          "histogram": [
           {
            "marker": {
             "pattern": {
              "fillmode": "overlay",
              "size": 10,
              "solidity": 0.2
             }
            },
            "type": "histogram"
           }
          ],
          "histogram2d": [
           {
            "colorbar": {
             "outlinewidth": 0,
             "ticks": ""
            },
            "colorscale": [
             [
              0,
              "#0d0887"
             ],
             [
              0.1111111111111111,
              "#46039f"
             ],
             [
              0.2222222222222222,
              "#7201a8"
             ],
             [
              0.3333333333333333,
              "#9c179e"
             ],
             [
              0.4444444444444444,
              "#bd3786"
             ],
             [
              0.5555555555555556,
              "#d8576b"
             ],
             [
              0.6666666666666666,
              "#ed7953"
             ],
             [
              0.7777777777777778,
              "#fb9f3a"
             ],
             [
              0.8888888888888888,
              "#fdca26"
             ],
             [
              1,
              "#f0f921"
             ]
            ],
            "type": "histogram2d"
           }
          ],
          "histogram2dcontour": [
           {
            "colorbar": {
             "outlinewidth": 0,
             "ticks": ""
            },
            "colorscale": [
             [
              0,
              "#0d0887"
             ],
             [
              0.1111111111111111,
              "#46039f"
             ],
             [
              0.2222222222222222,
              "#7201a8"
             ],
             [
              0.3333333333333333,
              "#9c179e"
             ],
             [
              0.4444444444444444,
              "#bd3786"
             ],
             [
              0.5555555555555556,
              "#d8576b"
             ],
             [
              0.6666666666666666,
              "#ed7953"
             ],
             [
              0.7777777777777778,
              "#fb9f3a"
             ],
             [
              0.8888888888888888,
              "#fdca26"
             ],
             [
              1,
              "#f0f921"
             ]
            ],
            "type": "histogram2dcontour"
           }
          ],
          "mesh3d": [
           {
            "colorbar": {
             "outlinewidth": 0,
             "ticks": ""
            },
            "type": "mesh3d"
           }
          ],
          "parcoords": [
           {
            "line": {
             "colorbar": {
              "outlinewidth": 0,
              "ticks": ""
             }
            },
            "type": "parcoords"
           }
          ],
          "pie": [
           {
            "automargin": true,
            "type": "pie"
           }
          ],
          "scatter": [
           {
            "fillpattern": {
             "fillmode": "overlay",
             "size": 10,
             "solidity": 0.2
            },
            "type": "scatter"
           }
          ],
          "scatter3d": [
           {
            "line": {
             "colorbar": {
              "outlinewidth": 0,
              "ticks": ""
             }
            },
            "marker": {
             "colorbar": {
              "outlinewidth": 0,
              "ticks": ""
             }
            },
            "type": "scatter3d"
           }
          ],
          "scattercarpet": [
           {
            "marker": {
             "colorbar": {
              "outlinewidth": 0,
              "ticks": ""
             }
            },
            "type": "scattercarpet"
           }
          ],
          "scattergeo": [
           {
            "marker": {
             "colorbar": {
              "outlinewidth": 0,
              "ticks": ""
             }
            },
            "type": "scattergeo"
           }
          ],
          "scattergl": [
           {
            "marker": {
             "colorbar": {
              "outlinewidth": 0,
              "ticks": ""
             }
            },
            "type": "scattergl"
           }
          ],
          "scattermap": [
           {
            "marker": {
             "colorbar": {
              "outlinewidth": 0,
              "ticks": ""
             }
            },
            "type": "scattermap"
           }
          ],
          "scattermapbox": [
           {
            "marker": {
             "colorbar": {
              "outlinewidth": 0,
              "ticks": ""
             }
            },
            "type": "scattermapbox"
           }
          ],
          "scatterpolar": [
           {
            "marker": {
             "colorbar": {
              "outlinewidth": 0,
              "ticks": ""
             }
            },
            "type": "scatterpolar"
           }
          ],
          "scatterpolargl": [
           {
            "marker": {
             "colorbar": {
              "outlinewidth": 0,
              "ticks": ""
             }
            },
            "type": "scatterpolargl"
           }
          ],
          "scatterternary": [
           {
            "marker": {
             "colorbar": {
              "outlinewidth": 0,
              "ticks": ""
             }
            },
            "type": "scatterternary"
           }
          ],
          "surface": [
           {
            "colorbar": {
             "outlinewidth": 0,
             "ticks": ""
            },
            "colorscale": [
             [
              0,
              "#0d0887"
             ],
             [
              0.1111111111111111,
              "#46039f"
             ],
             [
              0.2222222222222222,
              "#7201a8"
             ],
             [
              0.3333333333333333,
              "#9c179e"
             ],
             [
              0.4444444444444444,
              "#bd3786"
             ],
             [
              0.5555555555555556,
              "#d8576b"
             ],
             [
              0.6666666666666666,
              "#ed7953"
             ],
             [
              0.7777777777777778,
              "#fb9f3a"
             ],
             [
              0.8888888888888888,
              "#fdca26"
             ],
             [
              1,
              "#f0f921"
             ]
            ],
            "type": "surface"
           }
          ],
          "table": [
           {
            "cells": {
             "fill": {
              "color": "#EBF0F8"
             },
             "line": {
              "color": "white"
             }
            },
            "header": {
             "fill": {
              "color": "#C8D4E3"
             },
             "line": {
              "color": "white"
             }
            },
            "type": "table"
           }
          ]
         },
         "layout": {
          "annotationdefaults": {
           "arrowcolor": "#2a3f5f",
           "arrowhead": 0,
           "arrowwidth": 1
          },
          "autotypenumbers": "strict",
          "coloraxis": {
           "colorbar": {
            "outlinewidth": 0,
            "ticks": ""
           }
          },
          "colorscale": {
           "diverging": [
            [
             0,
             "#8e0152"
            ],
            [
             0.1,
             "#c51b7d"
            ],
            [
             0.2,
             "#de77ae"
            ],
            [
             0.3,
             "#f1b6da"
            ],
            [
             0.4,
             "#fde0ef"
            ],
            [
             0.5,
             "#f7f7f7"
            ],
            [
             0.6,
             "#e6f5d0"
            ],
            [
             0.7,
             "#b8e186"
            ],
            [
             0.8,
             "#7fbc41"
            ],
            [
             0.9,
             "#4d9221"
            ],
            [
             1,
             "#276419"
            ]
           ],
           "sequential": [
            [
             0,
             "#0d0887"
            ],
            [
             0.1111111111111111,
             "#46039f"
            ],
            [
             0.2222222222222222,
             "#7201a8"
            ],
            [
             0.3333333333333333,
             "#9c179e"
            ],
            [
             0.4444444444444444,
             "#bd3786"
            ],
            [
             0.5555555555555556,
             "#d8576b"
            ],
            [
             0.6666666666666666,
             "#ed7953"
            ],
            [
             0.7777777777777778,
             "#fb9f3a"
            ],
            [
             0.8888888888888888,
             "#fdca26"
            ],
            [
             1,
             "#f0f921"
            ]
           ],
           "sequentialminus": [
            [
             0,
             "#0d0887"
            ],
            [
             0.1111111111111111,
             "#46039f"
            ],
            [
             0.2222222222222222,
             "#7201a8"
            ],
            [
             0.3333333333333333,
             "#9c179e"
            ],
            [
             0.4444444444444444,
             "#bd3786"
            ],
            [
             0.5555555555555556,
             "#d8576b"
            ],
            [
             0.6666666666666666,
             "#ed7953"
            ],
            [
             0.7777777777777778,
             "#fb9f3a"
            ],
            [
             0.8888888888888888,
             "#fdca26"
            ],
            [
             1,
             "#f0f921"
            ]
           ]
          },
          "colorway": [
           "#636efa",
           "#EF553B",
           "#00cc96",
           "#ab63fa",
           "#FFA15A",
           "#19d3f3",
           "#FF6692",
           "#B6E880",
           "#FF97FF",
           "#FECB52"
          ],
          "font": {
           "color": "#2a3f5f"
          },
          "geo": {
           "bgcolor": "white",
           "lakecolor": "white",
           "landcolor": "#E5ECF6",
           "showlakes": true,
           "showland": true,
           "subunitcolor": "white"
          },
          "hoverlabel": {
           "align": "left"
          },
          "hovermode": "closest",
          "mapbox": {
           "style": "light"
          },
          "paper_bgcolor": "white",
          "plot_bgcolor": "#E5ECF6",
          "polar": {
           "angularaxis": {
            "gridcolor": "white",
            "linecolor": "white",
            "ticks": ""
           },
           "bgcolor": "#E5ECF6",
           "radialaxis": {
            "gridcolor": "white",
            "linecolor": "white",
            "ticks": ""
           }
          },
          "scene": {
           "xaxis": {
            "backgroundcolor": "#E5ECF6",
            "gridcolor": "white",
            "gridwidth": 2,
            "linecolor": "white",
            "showbackground": true,
            "ticks": "",
            "zerolinecolor": "white"
           },
           "yaxis": {
            "backgroundcolor": "#E5ECF6",
            "gridcolor": "white",
            "gridwidth": 2,
            "linecolor": "white",
            "showbackground": true,
            "ticks": "",
            "zerolinecolor": "white"
           },
           "zaxis": {
            "backgroundcolor": "#E5ECF6",
            "gridcolor": "white",
            "gridwidth": 2,
            "linecolor": "white",
            "showbackground": true,
            "ticks": "",
            "zerolinecolor": "white"
           }
          },
          "shapedefaults": {
           "line": {
            "color": "#2a3f5f"
           }
          },
          "ternary": {
           "aaxis": {
            "gridcolor": "white",
            "linecolor": "white",
            "ticks": ""
           },
           "baxis": {
            "gridcolor": "white",
            "linecolor": "white",
            "ticks": ""
           },
           "bgcolor": "#E5ECF6",
           "caxis": {
            "gridcolor": "white",
            "linecolor": "white",
            "ticks": ""
           }
          },
          "title": {
           "x": 0.05
          },
          "xaxis": {
           "automargin": true,
           "gridcolor": "white",
           "linecolor": "white",
           "ticks": "",
           "title": {
            "standoff": 15
           },
           "zerolinecolor": "white",
           "zerolinewidth": 2
          },
          "yaxis": {
           "automargin": true,
           "gridcolor": "white",
           "linecolor": "white",
           "ticks": "",
           "title": {
            "standoff": 15
           },
           "zerolinecolor": "white",
           "zerolinewidth": 2
          }
         }
        }
       }
      }
     },
     "metadata": {},
     "output_type": "display_data"
    }
   ],
   "source": []
  }
 ],
 "metadata": {
  "colab": {
   "authorship_tag": "ABX9TyMVa6Tb9ZkvQmu5iAEVN9qa",
   "name": "01-Tensorflow_playground_with_code.ipynb",
   "provenance": []
  },
  "kernelspec": {
   "display_name": "pytorch",
   "language": "python",
   "name": "python3"
  },
  "language_info": {
   "codemirror_mode": {
    "name": "ipython",
    "version": 3
   },
   "file_extension": ".py",
   "mimetype": "text/x-python",
   "name": "python",
   "nbconvert_exporter": "python",
   "pygments_lexer": "ipython3",
   "version": "3.10.16"
  }
 },
 "nbformat": 4,
 "nbformat_minor": 0
}
