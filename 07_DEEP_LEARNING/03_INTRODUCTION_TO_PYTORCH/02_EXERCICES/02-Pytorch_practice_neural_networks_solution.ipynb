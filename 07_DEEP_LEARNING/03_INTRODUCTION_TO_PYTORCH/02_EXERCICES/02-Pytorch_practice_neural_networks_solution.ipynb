{
 "cells": [
  {
   "cell_type": "markdown",
   "metadata": {
    "id": "kQRxspk6k0KW"
   },
   "source": [
    "# MNIST and NN model insterpretation?\n",
    "\n",
    "In this exercise we will work with a full size version of the MNIST dataset of handwritten digits."
   ]
  },
  {
   "cell_type": "markdown",
   "metadata": {},
   "source": [
    "## Model Training"
   ]
  },
  {
   "cell_type": "code",
   "execution_count": 1,
   "metadata": {
    "colab": {
     "base_uri": "https://localhost:8080/"
    },
    "executionInfo": {
     "elapsed": 2288,
     "status": "ok",
     "timestamp": 1613392951962,
     "user": {
      "displayName": "Charles Tanguy",
      "photoUrl": "",
      "userId": "11930294859591867631"
     },
     "user_tz": -60
    },
    "id": "z00B4YwykzZa",
    "outputId": "c37e0c3b-ebc3-4189-957d-46cabccac7bb"
   },
   "outputs": [
    {
     "name": "stderr",
     "output_type": "stream",
     "text": [
      "100.0%\n",
      "100.0%\n",
      "100.0%\n",
      "100.0%\n"
     ]
    }
   ],
   "source": [
    "import torch\n",
    "import torchvision\n",
    "import torchvision.transforms as transforms\n",
    "import numpy as np\n",
    "import matplotlib.pyplot as plt\n",
    "from torch.utils.data import DataLoader, random_split\n",
    "import torch.nn as nn\n",
    "import torch.optim as optim\n",
    "import plotly.graph_objects as go\n",
    "\n",
    "# Load MNIST dataset\n",
    "transform = transforms.Compose([transforms.ToTensor(), transforms.Normalize((0.5,), (0.5,))])\n",
    "mnist_dataset = torchvision.datasets.MNIST(root=\"./data\", train=True, transform=transform, download=True)\n"
   ]
  },
  {
   "cell_type": "markdown",
   "metadata": {
    "id": "kR1FMslgmZWb"
   },
   "source": [
    "* 1️⃣ Check out the shape of the objects you find in the dataset"
   ]
  },
  {
   "cell_type": "code",
   "execution_count": 2,
   "metadata": {
    "colab": {
     "base_uri": "https://localhost:8080/"
    },
    "executionInfo": {
     "elapsed": 2272,
     "status": "ok",
     "timestamp": 1613392951963,
     "user": {
      "displayName": "Charles Tanguy",
      "photoUrl": "",
      "userId": "11930294859591867631"
     },
     "user_tz": -60
    },
    "id": "AL1bx07lsiv7",
    "outputId": "f08d38e2-ad9f-4b11-bbf7-721271507480"
   },
   "outputs": [],
   "source": [
    "image, target = next(iter(mnist_dataset))"
   ]
  },
  {
   "cell_type": "code",
   "execution_count": 3,
   "metadata": {},
   "outputs": [
    {
     "data": {
      "text/plain": [
       "torch.Size([1, 28, 28])"
      ]
     },
     "execution_count": 3,
     "metadata": {},
     "output_type": "execute_result"
    }
   ],
   "source": [
    "image.shape"
   ]
  },
  {
   "cell_type": "markdown",
   "metadata": {
    "id": "54q852geuu8E"
   },
   "source": [
    "* 2️⃣ Visualize one element from this dataset\n",
    "<Note type=\"tip\" title=\".squeeze\">\n",
    "You may have to use a method called `.squeeze()`, checkout what it does.\n",
    "</Note>"
   ]
  },
  {
   "cell_type": "code",
   "execution_count": 4,
   "metadata": {
    "colab": {
     "base_uri": "https://localhost:8080/",
     "height": 542
    },
    "executionInfo": {
     "elapsed": 4206,
     "status": "ok",
     "timestamp": 1613392953911,
     "user": {
      "displayName": "Charles Tanguy",
      "photoUrl": "",
      "userId": "11930294859591867631"
     },
     "user_tz": -60
    },
    "id": "05jRhrlMuzf6",
    "outputId": "d9995c6a-6dbc-4b7d-c23e-459018562f5a"
   },
   "outputs": [
    {
     "data": {
      "application/vnd.plotly.v1+json": {
       "config": {
        "plotlyServerURL": "https://plot.ly"
       },
       "data": [
        {
         "coloraxis": "coloraxis",
         "hovertemplate": "x: %{x}<br>y: %{y}<br>color: %{z}<extra></extra>",
         "name": "0",
         "type": "heatmap",
         "xaxis": "x",
         "yaxis": "y",
         "z": {
          "bdata": "AACAvwAAgL8AAIC/AACAvwAAgL8AAIC/AACAvwAAgL8AAIC/AACAvwAAgL8AAIC/AACAvwAAgL8AAIC/AACAvwAAgL8AAIC/AACAvwAAgL8AAIC/AACAvwAAgL8AAIC/AACAvwAAgL8AAIC/AACAvwAAgL8AAIC/AACAvwAAgL8AAIC/AACAvwAAgL8AAIC/AACAvwAAgL8AAIC/AACAvwAAgL8AAIC/AACAvwAAgL8AAIC/AACAvwAAgL8AAIC/AACAvwAAgL8AAIC/AACAvwAAgL8AAIC/AACAvwAAgL8AAIC/AACAvwAAgL8AAIC/AACAvwAAgL8AAIC/AACAvwAAgL8AAIC/AACAvwAAgL8AAIC/AACAvwAAgL8AAIC/AACAvwAAgL8AAIC/AACAvwAAgL8AAIC/AACAvwAAgL8AAIC/AACAvwAAgL8AAIC/AACAvwAAgL8AAIC/AACAvwAAgL8AAIC/AACAvwAAgL8AAIC/AACAvwAAgL8AAIC/AACAvwAAgL8AAIC/AACAvwAAgL8AAIC/AACAvwAAgL8AAIC/AACAvwAAgL8AAIC/AACAvwAAgL8AAIC/AACAvwAAgL8AAIC/AACAvwAAgL8AAIC/AACAvwAAgL8AAIC/AACAvwAAgL8AAIC/AACAvwAAgL8AAIC/AACAvwAAgL8AAIC/AACAvwAAgL8AAIC/AACAvwAAgL8AAIC/AACAvwAAgL8AAIC/AACAvwAAgL8AAIC/AACAvwAAgL8AAIC/AACAvwAAgL8AAIC/AACAvwAAgL8AAIC/AACAvwAAgL/6+Xm/3Ntbv9zbW7/c21u/wMBAvJCIiD3Avr4+zMtLv5yamj4AAIA/8O9vP4CAgLsAAIC/AACAvwAAgL8AAIC/AACAvwAAgL8AAIC/AACAvwAAgL8AAIC/AACAvwAAgL/Ew0O/uLc3v4aGhr7Y1FQ+rKqqPvz7ez/8+3s//Pt7P/z7ez/8+3s/xMNDP7Sysj78+3s/5uVlP4iHBz/+/v6+AACAvwAAgL8AAIC/AACAvwAAgL8AAIC/AACAvwAAgL8AAIC/AACAvwAAgL+enR2/3t1dP/z7ez/8+3s//Pt7P/z7ez/8+3s//Pt7P/z7ez/8+3s/+Pd3P4qKir62tra+tra2vpCPD7+ysTG/AACAvwAAgL8AAIC/AACAvwAAgL8AAIC/AACAvwAAgL8AAIC/AACAvwAAgL8AAIC/3Ntbv7i3Nz/8+3s//Pt7P/z7ez/8+3s//Pt7P46NDT/c2to+8O9vP+TjYz8AAIC/AACAvwAAgL8AAIC/AACAvwAAgL8AAIC/AACAvwAAgL8AAIC/AACAvwAAgL8AAIC/AACAvwAAgL8AAIC/AACAvwAAgL++vr6+6ORkPqSkJL78+3s//Pt7P5ybGz/q6Wm/AACAv6qpKb/Y1FQ+AACAvwAAgL8AAIC/AACAvwAAgL8AAIC/AACAvwAAgL8AAIC/AACAvwAAgL8AAIC/AACAvwAAgL8AAIC/AACAvwAAgL8AAIC/AACAv+TjY7/+/X2/2NRUPvz7ez+Wlpa+AACAvwAAgL8AAIC/AACAvwAAgL8AAIC/AACAvwAAgL8AAIC/AACAvwAAgL8AAIC/AACAvwAAgL8AAIC/AACAvwAAgL8AAIC/AACAvwAAgL8AAIC/AACAvwAAgL8AAIC/AACAv8C4uD38+3s//Pr6Pvz7e78AAIC/AACAvwAAgL8AAIC/AACAvwAAgL8AAIC/AACAvwAAgL8AAIC/AACAvwAAgL8AAIC/AACAvwAAgL8AAIC/AACAvwAAgL8AAIC/AACAvwAAgL8AAIC/AACAvwAAgL/q6Wm//Pr6Pvz7ez/m5ua+AACAvwAAgL8AAIC/AACAvwAAgL8AAIC/AACAvwAAgL8AAIC/AACAvwAAgL8AAIC/AACAvwAAgL8AAIC/AACAvwAAgL8AAIC/AACAvwAAgL8AAIC/AACAvwAAgL8AAIC/AACAv7q5Ob/k42M/xMNDP4SCgj6cnBy+/v19vwAAgL8AAIC/AACAvwAAgL8AAIC/AACAvwAAgL8AAIC/AACAvwAAgL8AAIC/AACAvwAAgL8AAIC/AACAvwAAgL8AAIC/AACAvwAAgL8AAIC/AACAvwAAgL8AAIC/urq6vuLhYT/8+3s//Pt7P4iIiL3OzU2/AACAvwAAgL8AAIC/AACAvwAAgL8AAIC/AACAvwAAgL8AAIC/AACAvwAAgL8AAIC/AACAvwAAgL8AAIC/AACAvwAAgL8AAIC/AACAvwAAgL8AAIC/AACAvwAAgL+mpSW/7OrqPvz7ez/8+3s/uLQ0PsrJSb8AAIC/AACAvwAAgL8AAIC/AACAvwAAgL8AAIC/AACAvwAAgL8AAIC/AACAvwAAgL8AAIC/AACAvwAAgL8AAIC/AACAvwAAgL8AAIC/AACAvwAAgL8AAIC/AACAv+DfX7+Kioq++vl5P/z7ez/w7u4+AACAvwAAgL8AAIC/AACAvwAAgL8AAIC/AACAvwAAgL8AAIC/AACAvwAAgL8AAIC/AACAvwAAgL8AAIC/AACAvwAAgL8AAIC/AACAvwAAgL8AAIC/AACAvwAAgL8AAIC/AACAv/Tzcz/8+3s/9PNzP/7+/r4AAIC/AACAvwAAgL8AAIC/AACAvwAAgL8AAIC/AACAvwAAgL8AAIC/AACAvwAAgL8AAIC/AACAvwAAgL8AAIC/AACAvwAAgL8AAIC/AACAvwAAgL+koyO/wKCgPODe3j78+3s//Pt7P6CfHz/8+3u/AACAvwAAgL8AAIC/AACAvwAAgL8AAIC/AACAvwAAgL8AAIC/AACAvwAAgL8AAIC/AACAvwAAgL8AAIC/AACAvwAAgL8AAIC/AACAv7KxMb+opCQ+zMtLP/z7ez/8+3s//Pt7P/b1dT/c2to+AACAvwAAgL8AAIC/AACAvwAAgL8AAIC/AACAvwAAgL8AAIC/AACAvwAAgL8AAIC/AACAvwAAgL8AAIC/AACAvwAAgL8AAIC/0M9Pv9jY2L28uzs//Pt7P/z7ez/8+3s//Pt7P5STEz/Gxsa+AACAvwAAgL8AAIC/AACAvwAAgL8AAIC/AACAvwAAgL8AAIC/AACAvwAAgL8AAIC/AACAvwAAgL8AAIC/AACAvwAAgL/S0VG/9vb2vqyrKz/8+3s//Pt7P/z7ez/8+3s/jo0NP7q6ur78+3u/AACAvwAAgL8AAIC/AACAvwAAgL8AAIC/AACAvwAAgL8AAIC/AACAvwAAgL8AAIC/AACAvwAAgL8AAIC/AACAv9zbW7+wrq4+uLc3P/z7ez/8+3s//Pt7P/z7ez+Ihwc/vr6+vu7tbb8AAIC/AACAvwAAgL8AAIC/AACAvwAAgL8AAIC/AACAvwAAgL8AAIC/AACAvwAAgL8AAIC/AACAvwAAgL8AAIC/kpERv7Sysj7GxUU//Pt7P/z7ez/8+3s//Pt7P+rpaT/AsDA96ulpvwAAgL8AAIC/AACAvwAAgL8AAIC/AACAvwAAgL8AAIC/AACAvwAAgL8AAIC/AACAvwAAgL8AAIC/AACAvwAAgL8AAIC/AACAv5CIiD38+3s//Pt7P/z7ez+qqSk/APFwPaCQED3g31+/AACAvwAAgL8AAIC/AACAvwAAgL8AAIC/AACAvwAAgL8AAIC/AACAvwAAgL8AAIC/AACAvwAAgL8AAIC/AACAvwAAgL8AAIC/AACAvwAAgL8AAIC/AACAvwAAgL8AAIC/AACAvwAAgL8AAIC/AACAvwAAgL8AAIC/AACAvwAAgL8AAIC/AACAvwAAgL8AAIC/AACAvwAAgL8AAIC/AACAvwAAgL8AAIC/AACAvwAAgL8AAIC/AACAvwAAgL8AAIC/AACAvwAAgL8AAIC/AACAvwAAgL8AAIC/AACAvwAAgL8AAIC/AACAvwAAgL8AAIC/AACAvwAAgL8AAIC/AACAvwAAgL8AAIC/AACAvwAAgL8AAIC/AACAvwAAgL8AAIC/AACAvwAAgL8AAIC/AACAvwAAgL8AAIC/AACAvwAAgL8AAIC/AACAvwAAgL8AAIC/AACAvwAAgL8AAIC/AACAvwAAgL8AAIC/AACAvwAAgL8AAIC/AACAvwAAgL8AAIC/AACAvwAAgL8AAIC/AACAvw==",
          "dtype": "f4",
          "shape": "28, 28"
         }
        }
       ],
       "layout": {
        "coloraxis": {
         "colorscale": [
          [
           0,
           "rgb(0, 0, 0)"
          ],
          [
           0.09090909090909091,
           "rgb(16, 16, 16)"
          ],
          [
           0.18181818181818182,
           "rgb(38, 38, 38)"
          ],
          [
           0.2727272727272727,
           "rgb(59, 59, 59)"
          ],
          [
           0.36363636363636365,
           "rgb(81, 80, 80)"
          ],
          [
           0.45454545454545453,
           "rgb(102, 101, 101)"
          ],
          [
           0.5454545454545454,
           "rgb(124, 123, 122)"
          ],
          [
           0.6363636363636364,
           "rgb(146, 146, 145)"
          ],
          [
           0.7272727272727273,
           "rgb(171, 171, 170)"
          ],
          [
           0.8181818181818182,
           "rgb(197, 197, 195)"
          ],
          [
           0.9090909090909091,
           "rgb(224, 224, 223)"
          ],
          [
           1,
           "rgb(254, 254, 253)"
          ]
         ]
        },
        "margin": {
         "t": 60
        },
        "template": {
         "data": {
          "bar": [
           {
            "error_x": {
             "color": "#2a3f5f"
            },
            "error_y": {
             "color": "#2a3f5f"
            },
            "marker": {
             "line": {
              "color": "#E5ECF6",
              "width": 0.5
             },
             "pattern": {
              "fillmode": "overlay",
              "size": 10,
              "solidity": 0.2
             }
            },
            "type": "bar"
           }
          ],
          "barpolar": [
           {
            "marker": {
             "line": {
              "color": "#E5ECF6",
              "width": 0.5
             },
             "pattern": {
              "fillmode": "overlay",
              "size": 10,
              "solidity": 0.2
             }
            },
            "type": "barpolar"
           }
          ],
          "carpet": [
           {
            "aaxis": {
             "endlinecolor": "#2a3f5f",
             "gridcolor": "white",
             "linecolor": "white",
             "minorgridcolor": "white",
             "startlinecolor": "#2a3f5f"
            },
            "baxis": {
             "endlinecolor": "#2a3f5f",
             "gridcolor": "white",
             "linecolor": "white",
             "minorgridcolor": "white",
             "startlinecolor": "#2a3f5f"
            },
            "type": "carpet"
           }
          ],
          "choropleth": [
           {
            "colorbar": {
             "outlinewidth": 0,
             "ticks": ""
            },
            "type": "choropleth"
           }
          ],
          "contour": [
           {
            "colorbar": {
             "outlinewidth": 0,
             "ticks": ""
            },
            "colorscale": [
             [
              0,
              "#0d0887"
             ],
             [
              0.1111111111111111,
              "#46039f"
             ],
             [
              0.2222222222222222,
              "#7201a8"
             ],
             [
              0.3333333333333333,
              "#9c179e"
             ],
             [
              0.4444444444444444,
              "#bd3786"
             ],
             [
              0.5555555555555556,
              "#d8576b"
             ],
             [
              0.6666666666666666,
              "#ed7953"
             ],
             [
              0.7777777777777778,
              "#fb9f3a"
             ],
             [
              0.8888888888888888,
              "#fdca26"
             ],
             [
              1,
              "#f0f921"
             ]
            ],
            "type": "contour"
           }
          ],
          "contourcarpet": [
           {
            "colorbar": {
             "outlinewidth": 0,
             "ticks": ""
            },
            "type": "contourcarpet"
           }
          ],
          "heatmap": [
           {
            "colorbar": {
             "outlinewidth": 0,
             "ticks": ""
            },
            "colorscale": [
             [
              0,
              "#0d0887"
             ],
             [
              0.1111111111111111,
              "#46039f"
             ],
             [
              0.2222222222222222,
              "#7201a8"
             ],
             [
              0.3333333333333333,
              "#9c179e"
             ],
             [
              0.4444444444444444,
              "#bd3786"
             ],
             [
              0.5555555555555556,
              "#d8576b"
             ],
             [
              0.6666666666666666,
              "#ed7953"
             ],
             [
              0.7777777777777778,
              "#fb9f3a"
             ],
             [
              0.8888888888888888,
              "#fdca26"
             ],
             [
              1,
              "#f0f921"
             ]
            ],
            "type": "heatmap"
           }
          ],
          "histogram": [
           {
            "marker": {
             "pattern": {
              "fillmode": "overlay",
              "size": 10,
              "solidity": 0.2
             }
            },
            "type": "histogram"
           }
          ],
          "histogram2d": [
           {
            "colorbar": {
             "outlinewidth": 0,
             "ticks": ""
            },
            "colorscale": [
             [
              0,
              "#0d0887"
             ],
             [
              0.1111111111111111,
              "#46039f"
             ],
             [
              0.2222222222222222,
              "#7201a8"
             ],
             [
              0.3333333333333333,
              "#9c179e"
             ],
             [
              0.4444444444444444,
              "#bd3786"
             ],
             [
              0.5555555555555556,
              "#d8576b"
             ],
             [
              0.6666666666666666,
              "#ed7953"
             ],
             [
              0.7777777777777778,
              "#fb9f3a"
             ],
             [
              0.8888888888888888,
              "#fdca26"
             ],
             [
              1,
              "#f0f921"
             ]
            ],
            "type": "histogram2d"
           }
          ],
          "histogram2dcontour": [
           {
            "colorbar": {
             "outlinewidth": 0,
             "ticks": ""
            },
            "colorscale": [
             [
              0,
              "#0d0887"
             ],
             [
              0.1111111111111111,
              "#46039f"
             ],
             [
              0.2222222222222222,
              "#7201a8"
             ],
             [
              0.3333333333333333,
              "#9c179e"
             ],
             [
              0.4444444444444444,
              "#bd3786"
             ],
             [
              0.5555555555555556,
              "#d8576b"
             ],
             [
              0.6666666666666666,
              "#ed7953"
             ],
             [
              0.7777777777777778,
              "#fb9f3a"
             ],
             [
              0.8888888888888888,
              "#fdca26"
             ],
             [
              1,
              "#f0f921"
             ]
            ],
            "type": "histogram2dcontour"
           }
          ],
          "mesh3d": [
           {
            "colorbar": {
             "outlinewidth": 0,
             "ticks": ""
            },
            "type": "mesh3d"
           }
          ],
          "parcoords": [
           {
            "line": {
             "colorbar": {
              "outlinewidth": 0,
              "ticks": ""
             }
            },
            "type": "parcoords"
           }
          ],
          "pie": [
           {
            "automargin": true,
            "type": "pie"
           }
          ],
          "scatter": [
           {
            "fillpattern": {
             "fillmode": "overlay",
             "size": 10,
             "solidity": 0.2
            },
            "type": "scatter"
           }
          ],
          "scatter3d": [
           {
            "line": {
             "colorbar": {
              "outlinewidth": 0,
              "ticks": ""
             }
            },
            "marker": {
             "colorbar": {
              "outlinewidth": 0,
              "ticks": ""
             }
            },
            "type": "scatter3d"
           }
          ],
          "scattercarpet": [
           {
            "marker": {
             "colorbar": {
              "outlinewidth": 0,
              "ticks": ""
             }
            },
            "type": "scattercarpet"
           }
          ],
          "scattergeo": [
           {
            "marker": {
             "colorbar": {
              "outlinewidth": 0,
              "ticks": ""
             }
            },
            "type": "scattergeo"
           }
          ],
          "scattergl": [
           {
            "marker": {
             "colorbar": {
              "outlinewidth": 0,
              "ticks": ""
             }
            },
            "type": "scattergl"
           }
          ],
          "scattermap": [
           {
            "marker": {
             "colorbar": {
              "outlinewidth": 0,
              "ticks": ""
             }
            },
            "type": "scattermap"
           }
          ],
          "scattermapbox": [
           {
            "marker": {
             "colorbar": {
              "outlinewidth": 0,
              "ticks": ""
             }
            },
            "type": "scattermapbox"
           }
          ],
          "scatterpolar": [
           {
            "marker": {
             "colorbar": {
              "outlinewidth": 0,
              "ticks": ""
             }
            },
            "type": "scatterpolar"
           }
          ],
          "scatterpolargl": [
           {
            "marker": {
             "colorbar": {
              "outlinewidth": 0,
              "ticks": ""
             }
            },
            "type": "scatterpolargl"
           }
          ],
          "scatterternary": [
           {
            "marker": {
             "colorbar": {
              "outlinewidth": 0,
              "ticks": ""
             }
            },
            "type": "scatterternary"
           }
          ],
          "surface": [
           {
            "colorbar": {
             "outlinewidth": 0,
             "ticks": ""
            },
            "colorscale": [
             [
              0,
              "#0d0887"
             ],
             [
              0.1111111111111111,
              "#46039f"
             ],
             [
              0.2222222222222222,
              "#7201a8"
             ],
             [
              0.3333333333333333,
              "#9c179e"
             ],
             [
              0.4444444444444444,
              "#bd3786"
             ],
             [
              0.5555555555555556,
              "#d8576b"
             ],
             [
              0.6666666666666666,
              "#ed7953"
             ],
             [
              0.7777777777777778,
              "#fb9f3a"
             ],
             [
              0.8888888888888888,
              "#fdca26"
             ],
             [
              1,
              "#f0f921"
             ]
            ],
            "type": "surface"
           }
          ],
          "table": [
           {
            "cells": {
             "fill": {
              "color": "#EBF0F8"
             },
             "line": {
              "color": "white"
             }
            },
            "header": {
             "fill": {
              "color": "#C8D4E3"
             },
             "line": {
              "color": "white"
             }
            },
            "type": "table"
           }
          ]
         },
         "layout": {
          "annotationdefaults": {
           "arrowcolor": "#2a3f5f",
           "arrowhead": 0,
           "arrowwidth": 1
          },
          "autotypenumbers": "strict",
          "coloraxis": {
           "colorbar": {
            "outlinewidth": 0,
            "ticks": ""
           }
          },
          "colorscale": {
           "diverging": [
            [
             0,
             "#8e0152"
            ],
            [
             0.1,
             "#c51b7d"
            ],
            [
             0.2,
             "#de77ae"
            ],
            [
             0.3,
             "#f1b6da"
            ],
            [
             0.4,
             "#fde0ef"
            ],
            [
             0.5,
             "#f7f7f7"
            ],
            [
             0.6,
             "#e6f5d0"
            ],
            [
             0.7,
             "#b8e186"
            ],
            [
             0.8,
             "#7fbc41"
            ],
            [
             0.9,
             "#4d9221"
            ],
            [
             1,
             "#276419"
            ]
           ],
           "sequential": [
            [
             0,
             "#0d0887"
            ],
            [
             0.1111111111111111,
             "#46039f"
            ],
            [
             0.2222222222222222,
             "#7201a8"
            ],
            [
             0.3333333333333333,
             "#9c179e"
            ],
            [
             0.4444444444444444,
             "#bd3786"
            ],
            [
             0.5555555555555556,
             "#d8576b"
            ],
            [
             0.6666666666666666,
             "#ed7953"
            ],
            [
             0.7777777777777778,
             "#fb9f3a"
            ],
            [
             0.8888888888888888,
             "#fdca26"
            ],
            [
             1,
             "#f0f921"
            ]
           ],
           "sequentialminus": [
            [
             0,
             "#0d0887"
            ],
            [
             0.1111111111111111,
             "#46039f"
            ],
            [
             0.2222222222222222,
             "#7201a8"
            ],
            [
             0.3333333333333333,
             "#9c179e"
            ],
            [
             0.4444444444444444,
             "#bd3786"
            ],
            [
             0.5555555555555556,
             "#d8576b"
            ],
            [
             0.6666666666666666,
             "#ed7953"
            ],
            [
             0.7777777777777778,
             "#fb9f3a"
            ],
            [
             0.8888888888888888,
             "#fdca26"
            ],
            [
             1,
             "#f0f921"
            ]
           ]
          },
          "colorway": [
           "#636efa",
           "#EF553B",
           "#00cc96",
           "#ab63fa",
           "#FFA15A",
           "#19d3f3",
           "#FF6692",
           "#B6E880",
           "#FF97FF",
           "#FECB52"
          ],
          "font": {
           "color": "#2a3f5f"
          },
          "geo": {
           "bgcolor": "white",
           "lakecolor": "white",
           "landcolor": "#E5ECF6",
           "showlakes": true,
           "showland": true,
           "subunitcolor": "white"
          },
          "hoverlabel": {
           "align": "left"
          },
          "hovermode": "closest",
          "mapbox": {
           "style": "light"
          },
          "paper_bgcolor": "white",
          "plot_bgcolor": "#E5ECF6",
          "polar": {
           "angularaxis": {
            "gridcolor": "white",
            "linecolor": "white",
            "ticks": ""
           },
           "bgcolor": "#E5ECF6",
           "radialaxis": {
            "gridcolor": "white",
            "linecolor": "white",
            "ticks": ""
           }
          },
          "scene": {
           "xaxis": {
            "backgroundcolor": "#E5ECF6",
            "gridcolor": "white",
            "gridwidth": 2,
            "linecolor": "white",
            "showbackground": true,
            "ticks": "",
            "zerolinecolor": "white"
           },
           "yaxis": {
            "backgroundcolor": "#E5ECF6",
            "gridcolor": "white",
            "gridwidth": 2,
            "linecolor": "white",
            "showbackground": true,
            "ticks": "",
            "zerolinecolor": "white"
           },
           "zaxis": {
            "backgroundcolor": "#E5ECF6",
            "gridcolor": "white",
            "gridwidth": 2,
            "linecolor": "white",
            "showbackground": true,
            "ticks": "",
            "zerolinecolor": "white"
           }
          },
          "shapedefaults": {
           "line": {
            "color": "#2a3f5f"
           }
          },
          "ternary": {
           "aaxis": {
            "gridcolor": "white",
            "linecolor": "white",
            "ticks": ""
           },
           "baxis": {
            "gridcolor": "white",
            "linecolor": "white",
            "ticks": ""
           },
           "bgcolor": "#E5ECF6",
           "caxis": {
            "gridcolor": "white",
            "linecolor": "white",
            "ticks": ""
           }
          },
          "title": {
           "x": 0.05
          },
          "xaxis": {
           "automargin": true,
           "gridcolor": "white",
           "linecolor": "white",
           "ticks": "",
           "title": {
            "standoff": 15
           },
           "zerolinecolor": "white",
           "zerolinewidth": 2
          },
          "yaxis": {
           "automargin": true,
           "gridcolor": "white",
           "linecolor": "white",
           "ticks": "",
           "title": {
            "standoff": 15
           },
           "zerolinecolor": "white",
           "zerolinewidth": 2
          }
         }
        },
        "xaxis": {
         "anchor": "y",
         "constrain": "domain",
         "domain": [
          0,
          1
         ],
         "scaleanchor": "y"
        },
        "yaxis": {
         "anchor": "x",
         "autorange": "reversed",
         "constrain": "domain",
         "domain": [
          0,
          1
         ]
        }
       }
      }
     },
     "metadata": {},
     "output_type": "display_data"
    }
   ],
   "source": [
    "from plotly import express as px\n",
    "px.imshow(image.squeeze(), color_continuous_scale=\"gray\")"
   ]
  },
  {
   "cell_type": "markdown",
   "metadata": {
    "id": "unhA5hfGu_sh"
   },
   "source": [
    "* 3️⃣ This data shape won't fit in a fully connected neural network, reshape the elements from the dataset so they are flat."
   ]
  },
  {
   "cell_type": "code",
   "execution_count": 5,
   "metadata": {},
   "outputs": [],
   "source": [
    "# Split dataset into training and validation\n",
    "train_size = int(0.8 * len(mnist_dataset))\n",
    "val_size = len(mnist_dataset) - train_size\n",
    "train_dataset, val_dataset = random_split(mnist_dataset, [train_size, val_size])\n",
    "\n",
    "# Create DataLoaders\n",
    "train_loader = DataLoader(train_dataset, batch_size=16, shuffle=True)\n",
    "val_loader = DataLoader(val_dataset, batch_size=16, shuffle=True)"
   ]
  },
  {
   "cell_type": "markdown",
   "metadata": {
    "id": "hVvCShztwYm5"
   },
   "source": [
    "* 4️⃣ \n",
    "    * What is the effect of the batch size on the training of the model? If the batch size is equal to the number of observations, what would the batch gradient descent be equivalent to?\n",
    "    * With batches of 16 observations, how many times will the parameters of the model be updated before we reach one epoch?"
   ]
  },
  {
   "cell_type": "markdown",
   "metadata": {
    "id": "CJ-2h3O-w10c"
   },
   "source": [
    "* 5️⃣ Create a simple neural network model, don't forget to set an input shape in the first layer that corresponds to the data we will feed the model and define the last layer so it is able to make predictions as we expect."
   ]
  },
  {
   "cell_type": "code",
   "execution_count": 6,
   "metadata": {
    "colab": {
     "base_uri": "https://localhost:8080/",
     "height": 422
    },
    "executionInfo": {
     "elapsed": 600,
     "status": "ok",
     "timestamp": 1613393840902,
     "user": {
      "displayName": "Charles Tanguy",
      "photoUrl": "",
      "userId": "11930294859591867631"
     },
     "user_tz": -60
    },
    "id": "QtJNkXKkxMK2",
    "outputId": "56de5d74-f925-46b3-8391-9ca634239fc1"
   },
   "outputs": [
    {
     "name": "stdout",
     "output_type": "stream",
     "text": [
      "MNISTModel(\n",
      "  (fc1): Linear(in_features=784, out_features=16, bias=True)\n",
      "  (fc2): Linear(in_features=16, out_features=8, bias=True)\n",
      "  (fc3): Linear(in_features=8, out_features=10, bias=True)\n",
      "  (relu): ReLU()\n",
      "  (softmax): Softmax(dim=1)\n",
      ")\n"
     ]
    }
   ],
   "source": [
    "class MNISTModel(nn.Module):\n",
    "    def __init__(self):\n",
    "        super(MNISTModel, self).__init__()\n",
    "        self.fc1 = nn.Linear(28*28, 16)\n",
    "        self.fc2 = nn.Linear(16, 8)\n",
    "        self.fc3 = nn.Linear(8, 10)\n",
    "        self.relu = nn.ReLU()\n",
    "        self.softmax = nn.Softmax(dim=1)\n",
    "\n",
    "    def forward(self, x):\n",
    "        x = x.view(x.size(0), -1)  # Flatten the input\n",
    "        x = self.relu(self.fc1(x))\n",
    "        x = self.relu(self.fc2(x))\n",
    "        x = self.softmax(self.fc3(x))\n",
    "        return x\n",
    "\n",
    "model = MNISTModel()\n",
    "print(model)"
   ]
  },
  {
   "cell_type": "markdown",
   "metadata": {
    "id": "B-PZI9u0x_Yt"
   },
   "source": [
    "* 6️⃣ Define the Loss Function and Optimizer"
   ]
  },
  {
   "cell_type": "code",
   "execution_count": 7,
   "metadata": {
    "id": "g-nKlJa-yeIp"
   },
   "outputs": [],
   "source": [
    "criterion = nn.CrossEntropyLoss()\n",
    "optimizer = optim.Adam(model.parameters(), lr=0.001)"
   ]
  },
  {
   "cell_type": "markdown",
   "metadata": {
    "id": "FpSSm9DCy0wN"
   },
   "source": [
    "* 7️⃣ Train the model on 50 epochs"
   ]
  },
  {
   "cell_type": "code",
   "execution_count": 8,
   "metadata": {
    "colab": {
     "base_uri": "https://localhost:8080/"
    },
    "executionInfo": {
     "elapsed": 90801,
     "status": "ok",
     "timestamp": 1613393937827,
     "user": {
      "displayName": "Charles Tanguy",
      "photoUrl": "",
      "userId": "11930294859591867631"
     },
     "user_tz": -60
    },
    "id": "-dM2EyOby3n3",
    "outputId": "99389bde-36d4-43f0-8d45-1c68aca21beb"
   },
   "outputs": [
    {
     "name": "stdout",
     "output_type": "stream",
     "text": [
      "Epoch [1/50], Loss: 1.8251, Acc: 0.6415, Val Loss: 1.7284, Val Acc: 0.7348\n",
      "Epoch [2/50], Loss: 1.7025, Acc: 0.7637, Val Loss: 1.6671, Val Acc: 0.8002\n",
      "Epoch [3/50], Loss: 1.6581, Acc: 0.8060, Val Loss: 1.6519, Val Acc: 0.8111\n",
      "Epoch [4/50], Loss: 1.6492, Acc: 0.8134, Val Loss: 1.6508, Val Acc: 0.8123\n",
      "Epoch [5/50], Loss: 1.6452, Acc: 0.8176, Val Loss: 1.6478, Val Acc: 0.8143\n",
      "Epoch [6/50], Loss: 1.6427, Acc: 0.8193, Val Loss: 1.6433, Val Acc: 0.8184\n",
      "Epoch [7/50], Loss: 1.6396, Acc: 0.8221, Val Loss: 1.6368, Val Acc: 0.8247\n",
      "Epoch [8/50], Loss: 1.6377, Acc: 0.8242, Val Loss: 1.6402, Val Acc: 0.8212\n",
      "Epoch [9/50], Loss: 1.6363, Acc: 0.8251, Val Loss: 1.6384, Val Acc: 0.8232\n",
      "Epoch [10/50], Loss: 1.6360, Acc: 0.8251, Val Loss: 1.6324, Val Acc: 0.8281\n",
      "Epoch [11/50], Loss: 1.6344, Acc: 0.8272, Val Loss: 1.6368, Val Acc: 0.8236\n",
      "Epoch [12/50], Loss: 1.6337, Acc: 0.8275, Val Loss: 1.6380, Val Acc: 0.8230\n",
      "Epoch [13/50], Loss: 1.6332, Acc: 0.8277, Val Loss: 1.6337, Val Acc: 0.8268\n",
      "Epoch [14/50], Loss: 1.6321, Acc: 0.8289, Val Loss: 1.6297, Val Acc: 0.8317\n",
      "Epoch [15/50], Loss: 1.6317, Acc: 0.8296, Val Loss: 1.6338, Val Acc: 0.8266\n",
      "Epoch [16/50], Loss: 1.6310, Acc: 0.8299, Val Loss: 1.6383, Val Acc: 0.8218\n",
      "Epoch [17/50], Loss: 1.6305, Acc: 0.8303, Val Loss: 1.6330, Val Acc: 0.8281\n",
      "Epoch [18/50], Loss: 1.6294, Acc: 0.8315, Val Loss: 1.6338, Val Acc: 0.8260\n",
      "Epoch [19/50], Loss: 1.6308, Acc: 0.8302, Val Loss: 1.6353, Val Acc: 0.8249\n",
      "Epoch [20/50], Loss: 1.6285, Acc: 0.8321, Val Loss: 1.6408, Val Acc: 0.8207\n",
      "Epoch [21/50], Loss: 1.6297, Acc: 0.8311, Val Loss: 1.6363, Val Acc: 0.8248\n",
      "Epoch [22/50], Loss: 1.6294, Acc: 0.8315, Val Loss: 1.6369, Val Acc: 0.8237\n",
      "Epoch [23/50], Loss: 1.6274, Acc: 0.8335, Val Loss: 1.6308, Val Acc: 0.8301\n",
      "Epoch [24/50], Loss: 1.6283, Acc: 0.8325, Val Loss: 1.6344, Val Acc: 0.8267\n",
      "Epoch [25/50], Loss: 1.6276, Acc: 0.8333, Val Loss: 1.6457, Val Acc: 0.8147\n",
      "Epoch [26/50], Loss: 1.6278, Acc: 0.8329, Val Loss: 1.6460, Val Acc: 0.8149\n",
      "Epoch [27/50], Loss: 1.6279, Acc: 0.8330, Val Loss: 1.6294, Val Acc: 0.8308\n",
      "Epoch [28/50], Loss: 1.6267, Acc: 0.8340, Val Loss: 1.6284, Val Acc: 0.8326\n",
      "Epoch [29/50], Loss: 1.6273, Acc: 0.8337, Val Loss: 1.6316, Val Acc: 0.8287\n",
      "Epoch [30/50], Loss: 1.6273, Acc: 0.8338, Val Loss: 1.6280, Val Acc: 0.8326\n",
      "Epoch [31/50], Loss: 1.6266, Acc: 0.8339, Val Loss: 1.6346, Val Acc: 0.8254\n",
      "Epoch [32/50], Loss: 1.6261, Acc: 0.8347, Val Loss: 1.6268, Val Acc: 0.8341\n",
      "Epoch [33/50], Loss: 1.6260, Acc: 0.8347, Val Loss: 1.6303, Val Acc: 0.8304\n",
      "Epoch [34/50], Loss: 1.6271, Acc: 0.8335, Val Loss: 1.6279, Val Acc: 0.8326\n",
      "Epoch [35/50], Loss: 1.6267, Acc: 0.8341, Val Loss: 1.6375, Val Acc: 0.8231\n",
      "Epoch [36/50], Loss: 1.6256, Acc: 0.8351, Val Loss: 1.6274, Val Acc: 0.8329\n",
      "Epoch [37/50], Loss: 1.6255, Acc: 0.8352, Val Loss: 1.6352, Val Acc: 0.8257\n",
      "Epoch [38/50], Loss: 1.6262, Acc: 0.8346, Val Loss: 1.6333, Val Acc: 0.8268\n",
      "Epoch [39/50], Loss: 1.6248, Acc: 0.8358, Val Loss: 1.6287, Val Acc: 0.8321\n",
      "Epoch [40/50], Loss: 1.6255, Acc: 0.8354, Val Loss: 1.6318, Val Acc: 0.8285\n",
      "Epoch [41/50], Loss: 1.6243, Acc: 0.8364, Val Loss: 1.6288, Val Acc: 0.8317\n",
      "Epoch [42/50], Loss: 1.6258, Acc: 0.8349, Val Loss: 1.6339, Val Acc: 0.8263\n",
      "Epoch [43/50], Loss: 1.6240, Acc: 0.8366, Val Loss: 1.6263, Val Acc: 0.8347\n",
      "Epoch [44/50], Loss: 1.6251, Acc: 0.8356, Val Loss: 1.6300, Val Acc: 0.8303\n",
      "Epoch [45/50], Loss: 1.6244, Acc: 0.8366, Val Loss: 1.6273, Val Acc: 0.8337\n",
      "Epoch [46/50], Loss: 1.6235, Acc: 0.8375, Val Loss: 1.6429, Val Acc: 0.8176\n",
      "Epoch [47/50], Loss: 1.6235, Acc: 0.8372, Val Loss: 1.6316, Val Acc: 0.8293\n",
      "Epoch [48/50], Loss: 1.6238, Acc: 0.8368, Val Loss: 1.6287, Val Acc: 0.8324\n",
      "Epoch [49/50], Loss: 1.6234, Acc: 0.8374, Val Loss: 1.6270, Val Acc: 0.8341\n",
      "Epoch [50/50], Loss: 1.6231, Acc: 0.8377, Val Loss: 1.6321, Val Acc: 0.8287\n"
     ]
    }
   ],
   "source": [
    "import torch\n",
    "\n",
    "def train(model, train_loader, val_loader, criterion, optimizer, epochs=100):\n",
    "    \"\"\"\n",
    "    Function to train a PyTorch model with training and validation datasets.\n",
    "    \n",
    "    Parameters:\n",
    "    model: The neural network model to train.\n",
    "    train_loader: DataLoader for the training dataset.\n",
    "    val_loader: DataLoader for the validation dataset.\n",
    "    criterion: Loss function (e.g., Binary Cross Entropy for classification).\n",
    "    optimizer: Optimization algorithm (e.g., Adam, SGD).\n",
    "    epochs: Number of training epochs (default=100).\n",
    "    \n",
    "    Returns:\n",
    "    history: Dictionary containing loss and accuracy for both training and validation.\n",
    "    \"\"\"\n",
    "    \n",
    "    # Dictionary to store training & validation loss and accuracy over epochs\n",
    "    history = {'loss': [], 'val_loss': [], 'accuracy': [], 'val_accuracy': []}\n",
    "    \n",
    "    for epoch in range(epochs):  # Loop over the number of epochs\n",
    "        model.train()  # Set model to training mode\n",
    "        total_loss, correct = 0, 0  # Initialize total loss and correct predictions\n",
    "        \n",
    "        # Training loop\n",
    "        for inputs, labels in train_loader:\n",
    "            optimizer.zero_grad()  # Reset gradients before each batch\n",
    "            outputs = model(inputs).squeeze()  # Forward pass\n",
    "            loss = criterion(outputs, labels)  # Compute loss\n",
    "            loss.backward()  # Backpropagation (compute gradients)\n",
    "            optimizer.step()  # Update model parameters\n",
    "            \n",
    "            total_loss += loss.item()  # Accumulate batch loss\n",
    "            correct += (torch.argmax(outputs,dim=1) == labels).sum().item()  # Count correct predictions\n",
    "        \n",
    "        # Compute average loss and accuracy for training\n",
    "        train_loss = total_loss / len(train_loader)\n",
    "        train_acc = correct / len(train_loader.dataset)\n",
    "        \n",
    "        # Validation phase (without gradient computation)\n",
    "        model.eval()  # Set model to evaluation mode\n",
    "        val_loss, val_correct = 0, 0\n",
    "        with torch.no_grad():  # No need to compute gradients during validation\n",
    "            for inputs, labels in val_loader:\n",
    "                outputs = model(inputs).squeeze()  # Forward pass\n",
    "                loss = criterion(outputs, labels)  # Compute loss\n",
    "                val_loss += loss.item()  # Accumulate validation loss\n",
    "                val_correct += (torch.argmax(outputs,dim=1) == labels).sum().item()  # Count correct predictions\n",
    "        \n",
    "        # Compute average loss and accuracy for validation\n",
    "        val_loss /= len(val_loader)\n",
    "        val_acc = val_correct / len(val_loader.dataset)\n",
    "        \n",
    "        # Store metrics in history dictionary\n",
    "        history['loss'].append(train_loss)\n",
    "        history['val_loss'].append(val_loss)\n",
    "        history['accuracy'].append(train_acc)\n",
    "        history['val_accuracy'].append(val_acc)\n",
    "        \n",
    "        # Print training progress\n",
    "        print(f\"Epoch [{epoch+1}/{epochs}], Loss: {train_loss:.4f}, Acc: {train_acc:.4f}, \"\n",
    "              f\"Val Loss: {val_loss:.4f}, Val Acc: {val_acc:.4f}\")\n",
    "    \n",
    "    return history  # Return training history\n",
    "\n",
    "# Train the model\n",
    "history = train(model, train_loader, val_loader, criterion, optimizer, epochs=50)\n"
   ]
  },
  {
   "cell_type": "markdown",
   "metadata": {
    "id": "nv8dsUrEzpJS"
   },
   "source": [
    "* 8️⃣ Would you say the model achieved good performance? Did it overfit?"
   ]
  },
  {
   "cell_type": "markdown",
   "metadata": {},
   "source": [
    "## Performance analysis\n",
    "\n",
    "* 1️⃣ Plot the evolution of the training loss and the validation loss, what do you see? What do you conclude?"
   ]
  },
  {
   "cell_type": "code",
   "execution_count": 9,
   "metadata": {
    "colab": {
     "base_uri": "https://localhost:8080/",
     "height": 542
    },
    "executionInfo": {
     "elapsed": 503,
     "status": "ok",
     "timestamp": 1613393941684,
     "user": {
      "displayName": "Charles Tanguy",
      "photoUrl": "",
      "userId": "11930294859591867631"
     },
     "user_tz": -60
    },
    "id": "okCX_ns2ABhj",
    "outputId": "2ed32e7f-ac50-4e61-a481-97775a2cf1a9"
   },
   "outputs": [
    {
     "data": {
      "application/vnd.plotly.v1+json": {
       "config": {
        "plotlyServerURL": "https://plot.ly"
       },
       "data": [
        {
         "mode": "lines",
         "name": "Training Loss",
         "type": "scatter",
         "y": [
          1.8250673967202504,
          1.702450727701187,
          1.6581362905899684,
          1.6491857341130574,
          1.6451800185839336,
          1.6427218739191691,
          1.6396320676406224,
          1.6376888703107835,
          1.6362774522304535,
          1.6360132870674133,
          1.6343904331127803,
          1.6336525346040727,
          1.633246939778328,
          1.6320541759729386,
          1.6316505906184515,
          1.630968634446462,
          1.6305085407495499,
          1.6294173874060314,
          1.6308123589754104,
          1.6285079695781073,
          1.6296963282426198,
          1.6294164464473724,
          1.6274266951084138,
          1.6282862942616145,
          1.6275617666244506,
          1.6278246328830719,
          1.6279221479892731,
          1.6266634949445724,
          1.6272682567834855,
          1.6273143226305644,
          1.6266314872900645,
          1.6261378380060196,
          1.6260179012616476,
          1.627146866997083,
          1.6267018713553747,
          1.6255994707345962,
          1.6254998866319657,
          1.6261953234275182,
          1.6248480611244838,
          1.6254658758242926,
          1.6242571601470313,
          1.6257665105263392,
          1.6239635701974233,
          1.6251295615037282,
          1.624419222553571,
          1.623504567305247,
          1.6235216773351033,
          1.6238373798131942,
          1.6233768981695176,
          1.6231147211790085
         ]
        },
        {
         "mode": "lines",
         "name": "Validation Loss",
         "type": "scatter",
         "y": [
          1.7284490170478821,
          1.667081428527832,
          1.6519187048276265,
          1.650777585665385,
          1.6478489232063294,
          1.6432740697860717,
          1.6367500332196554,
          1.6401605447133383,
          1.6383828843434651,
          1.6323990313212078,
          1.636782070795695,
          1.6380230000813802,
          1.6336561741828919,
          1.6297411902745564,
          1.6338311746915182,
          1.6383373041152953,
          1.633036597251892,
          1.6337519124348958,
          1.6352921930948894,
          1.6407718030611673,
          1.6363029851913453,
          1.6368932813008625,
          1.6308382522265117,
          1.6344100810686748,
          1.6456652121543884,
          1.6460323756535848,
          1.6293549474080404,
          1.6284460574785868,
          1.6315841104189555,
          1.6279615783691406,
          1.6345750397046408,
          1.6268440589904785,
          1.6302692914009094,
          1.6278512268066405,
          1.6374841079711915,
          1.6273722858428956,
          1.6352281862894693,
          1.6332587776184082,
          1.6287037528355917,
          1.631840130329132,
          1.6288363189697266,
          1.6339426571528117,
          1.6263475484848022,
          1.6299594229062397,
          1.6273122531572977,
          1.6428586289087932,
          1.6315597958564758,
          1.6287377524375914,
          1.6269884907404581,
          1.6320883719126384
         ]
        }
       ],
       "layout": {
        "template": {
         "data": {
          "bar": [
           {
            "error_x": {
             "color": "#2a3f5f"
            },
            "error_y": {
             "color": "#2a3f5f"
            },
            "marker": {
             "line": {
              "color": "#E5ECF6",
              "width": 0.5
             },
             "pattern": {
              "fillmode": "overlay",
              "size": 10,
              "solidity": 0.2
             }
            },
            "type": "bar"
           }
          ],
          "barpolar": [
           {
            "marker": {
             "line": {
              "color": "#E5ECF6",
              "width": 0.5
             },
             "pattern": {
              "fillmode": "overlay",
              "size": 10,
              "solidity": 0.2
             }
            },
            "type": "barpolar"
           }
          ],
          "carpet": [
           {
            "aaxis": {
             "endlinecolor": "#2a3f5f",
             "gridcolor": "white",
             "linecolor": "white",
             "minorgridcolor": "white",
             "startlinecolor": "#2a3f5f"
            },
            "baxis": {
             "endlinecolor": "#2a3f5f",
             "gridcolor": "white",
             "linecolor": "white",
             "minorgridcolor": "white",
             "startlinecolor": "#2a3f5f"
            },
            "type": "carpet"
           }
          ],
          "choropleth": [
           {
            "colorbar": {
             "outlinewidth": 0,
             "ticks": ""
            },
            "type": "choropleth"
           }
          ],
          "contour": [
           {
            "colorbar": {
             "outlinewidth": 0,
             "ticks": ""
            },
            "colorscale": [
             [
              0,
              "#0d0887"
             ],
             [
              0.1111111111111111,
              "#46039f"
             ],
             [
              0.2222222222222222,
              "#7201a8"
             ],
             [
              0.3333333333333333,
              "#9c179e"
             ],
             [
              0.4444444444444444,
              "#bd3786"
             ],
             [
              0.5555555555555556,
              "#d8576b"
             ],
             [
              0.6666666666666666,
              "#ed7953"
             ],
             [
              0.7777777777777778,
              "#fb9f3a"
             ],
             [
              0.8888888888888888,
              "#fdca26"
             ],
             [
              1,
              "#f0f921"
             ]
            ],
            "type": "contour"
           }
          ],
          "contourcarpet": [
           {
            "colorbar": {
             "outlinewidth": 0,
             "ticks": ""
            },
            "type": "contourcarpet"
           }
          ],
          "heatmap": [
           {
            "colorbar": {
             "outlinewidth": 0,
             "ticks": ""
            },
            "colorscale": [
             [
              0,
              "#0d0887"
             ],
             [
              0.1111111111111111,
              "#46039f"
             ],
             [
              0.2222222222222222,
              "#7201a8"
             ],
             [
              0.3333333333333333,
              "#9c179e"
             ],
             [
              0.4444444444444444,
              "#bd3786"
             ],
             [
              0.5555555555555556,
              "#d8576b"
             ],
             [
              0.6666666666666666,
              "#ed7953"
             ],
             [
              0.7777777777777778,
              "#fb9f3a"
             ],
             [
              0.8888888888888888,
              "#fdca26"
             ],
             [
              1,
              "#f0f921"
             ]
            ],
            "type": "heatmap"
           }
          ],
          "histogram": [
           {
            "marker": {
             "pattern": {
              "fillmode": "overlay",
              "size": 10,
              "solidity": 0.2
             }
            },
            "type": "histogram"
           }
          ],
          "histogram2d": [
           {
            "colorbar": {
             "outlinewidth": 0,
             "ticks": ""
            },
            "colorscale": [
             [
              0,
              "#0d0887"
             ],
             [
              0.1111111111111111,
              "#46039f"
             ],
             [
              0.2222222222222222,
              "#7201a8"
             ],
             [
              0.3333333333333333,
              "#9c179e"
             ],
             [
              0.4444444444444444,
              "#bd3786"
             ],
             [
              0.5555555555555556,
              "#d8576b"
             ],
             [
              0.6666666666666666,
              "#ed7953"
             ],
             [
              0.7777777777777778,
              "#fb9f3a"
             ],
             [
              0.8888888888888888,
              "#fdca26"
             ],
             [
              1,
              "#f0f921"
             ]
            ],
            "type": "histogram2d"
           }
          ],
          "histogram2dcontour": [
           {
            "colorbar": {
             "outlinewidth": 0,
             "ticks": ""
            },
            "colorscale": [
             [
              0,
              "#0d0887"
             ],
             [
              0.1111111111111111,
              "#46039f"
             ],
             [
              0.2222222222222222,
              "#7201a8"
             ],
             [
              0.3333333333333333,
              "#9c179e"
             ],
             [
              0.4444444444444444,
              "#bd3786"
             ],
             [
              0.5555555555555556,
              "#d8576b"
             ],
             [
              0.6666666666666666,
              "#ed7953"
             ],
             [
              0.7777777777777778,
              "#fb9f3a"
             ],
             [
              0.8888888888888888,
              "#fdca26"
             ],
             [
              1,
              "#f0f921"
             ]
            ],
            "type": "histogram2dcontour"
           }
          ],
          "mesh3d": [
           {
            "colorbar": {
             "outlinewidth": 0,
             "ticks": ""
            },
            "type": "mesh3d"
           }
          ],
          "parcoords": [
           {
            "line": {
             "colorbar": {
              "outlinewidth": 0,
              "ticks": ""
             }
            },
            "type": "parcoords"
           }
          ],
          "pie": [
           {
            "automargin": true,
            "type": "pie"
           }
          ],
          "scatter": [
           {
            "fillpattern": {
             "fillmode": "overlay",
             "size": 10,
             "solidity": 0.2
            },
            "type": "scatter"
           }
          ],
          "scatter3d": [
           {
            "line": {
             "colorbar": {
              "outlinewidth": 0,
              "ticks": ""
             }
            },
            "marker": {
             "colorbar": {
              "outlinewidth": 0,
              "ticks": ""
             }
            },
            "type": "scatter3d"
           }
          ],
          "scattercarpet": [
           {
            "marker": {
             "colorbar": {
              "outlinewidth": 0,
              "ticks": ""
             }
            },
            "type": "scattercarpet"
           }
          ],
          "scattergeo": [
           {
            "marker": {
             "colorbar": {
              "outlinewidth": 0,
              "ticks": ""
             }
            },
            "type": "scattergeo"
           }
          ],
          "scattergl": [
           {
            "marker": {
             "colorbar": {
              "outlinewidth": 0,
              "ticks": ""
             }
            },
            "type": "scattergl"
           }
          ],
          "scattermap": [
           {
            "marker": {
             "colorbar": {
              "outlinewidth": 0,
              "ticks": ""
             }
            },
            "type": "scattermap"
           }
          ],
          "scattermapbox": [
           {
            "marker": {
             "colorbar": {
              "outlinewidth": 0,
              "ticks": ""
             }
            },
            "type": "scattermapbox"
           }
          ],
          "scatterpolar": [
           {
            "marker": {
             "colorbar": {
              "outlinewidth": 0,
              "ticks": ""
             }
            },
            "type": "scatterpolar"
           }
          ],
          "scatterpolargl": [
           {
            "marker": {
             "colorbar": {
              "outlinewidth": 0,
              "ticks": ""
             }
            },
            "type": "scatterpolargl"
           }
          ],
          "scatterternary": [
           {
            "marker": {
             "colorbar": {
              "outlinewidth": 0,
              "ticks": ""
             }
            },
            "type": "scatterternary"
           }
          ],
          "surface": [
           {
            "colorbar": {
             "outlinewidth": 0,
             "ticks": ""
            },
            "colorscale": [
             [
              0,
              "#0d0887"
             ],
             [
              0.1111111111111111,
              "#46039f"
             ],
             [
              0.2222222222222222,
              "#7201a8"
             ],
             [
              0.3333333333333333,
              "#9c179e"
             ],
             [
              0.4444444444444444,
              "#bd3786"
             ],
             [
              0.5555555555555556,
              "#d8576b"
             ],
             [
              0.6666666666666666,
              "#ed7953"
             ],
             [
              0.7777777777777778,
              "#fb9f3a"
             ],
             [
              0.8888888888888888,
              "#fdca26"
             ],
             [
              1,
              "#f0f921"
             ]
            ],
            "type": "surface"
           }
          ],
          "table": [
           {
            "cells": {
             "fill": {
              "color": "#EBF0F8"
             },
             "line": {
              "color": "white"
             }
            },
            "header": {
             "fill": {
              "color": "#C8D4E3"
             },
             "line": {
              "color": "white"
             }
            },
            "type": "table"
           }
          ]
         },
         "layout": {
          "annotationdefaults": {
           "arrowcolor": "#2a3f5f",
           "arrowhead": 0,
           "arrowwidth": 1
          },
          "autotypenumbers": "strict",
          "coloraxis": {
           "colorbar": {
            "outlinewidth": 0,
            "ticks": ""
           }
          },
          "colorscale": {
           "diverging": [
            [
             0,
             "#8e0152"
            ],
            [
             0.1,
             "#c51b7d"
            ],
            [
             0.2,
             "#de77ae"
            ],
            [
             0.3,
             "#f1b6da"
            ],
            [
             0.4,
             "#fde0ef"
            ],
            [
             0.5,
             "#f7f7f7"
            ],
            [
             0.6,
             "#e6f5d0"
            ],
            [
             0.7,
             "#b8e186"
            ],
            [
             0.8,
             "#7fbc41"
            ],
            [
             0.9,
             "#4d9221"
            ],
            [
             1,
             "#276419"
            ]
           ],
           "sequential": [
            [
             0,
             "#0d0887"
            ],
            [
             0.1111111111111111,
             "#46039f"
            ],
            [
             0.2222222222222222,
             "#7201a8"
            ],
            [
             0.3333333333333333,
             "#9c179e"
            ],
            [
             0.4444444444444444,
             "#bd3786"
            ],
            [
             0.5555555555555556,
             "#d8576b"
            ],
            [
             0.6666666666666666,
             "#ed7953"
            ],
            [
             0.7777777777777778,
             "#fb9f3a"
            ],
            [
             0.8888888888888888,
             "#fdca26"
            ],
            [
             1,
             "#f0f921"
            ]
           ],
           "sequentialminus": [
            [
             0,
             "#0d0887"
            ],
            [
             0.1111111111111111,
             "#46039f"
            ],
            [
             0.2222222222222222,
             "#7201a8"
            ],
            [
             0.3333333333333333,
             "#9c179e"
            ],
            [
             0.4444444444444444,
             "#bd3786"
            ],
            [
             0.5555555555555556,
             "#d8576b"
            ],
            [
             0.6666666666666666,
             "#ed7953"
            ],
            [
             0.7777777777777778,
             "#fb9f3a"
            ],
            [
             0.8888888888888888,
             "#fdca26"
            ],
            [
             1,
             "#f0f921"
            ]
           ]
          },
          "colorway": [
           "#636efa",
           "#EF553B",
           "#00cc96",
           "#ab63fa",
           "#FFA15A",
           "#19d3f3",
           "#FF6692",
           "#B6E880",
           "#FF97FF",
           "#FECB52"
          ],
          "font": {
           "color": "#2a3f5f"
          },
          "geo": {
           "bgcolor": "white",
           "lakecolor": "white",
           "landcolor": "#E5ECF6",
           "showlakes": true,
           "showland": true,
           "subunitcolor": "white"
          },
          "hoverlabel": {
           "align": "left"
          },
          "hovermode": "closest",
          "mapbox": {
           "style": "light"
          },
          "paper_bgcolor": "white",
          "plot_bgcolor": "#E5ECF6",
          "polar": {
           "angularaxis": {
            "gridcolor": "white",
            "linecolor": "white",
            "ticks": ""
           },
           "bgcolor": "#E5ECF6",
           "radialaxis": {
            "gridcolor": "white",
            "linecolor": "white",
            "ticks": ""
           }
          },
          "scene": {
           "xaxis": {
            "backgroundcolor": "#E5ECF6",
            "gridcolor": "white",
            "gridwidth": 2,
            "linecolor": "white",
            "showbackground": true,
            "ticks": "",
            "zerolinecolor": "white"
           },
           "yaxis": {
            "backgroundcolor": "#E5ECF6",
            "gridcolor": "white",
            "gridwidth": 2,
            "linecolor": "white",
            "showbackground": true,
            "ticks": "",
            "zerolinecolor": "white"
           },
           "zaxis": {
            "backgroundcolor": "#E5ECF6",
            "gridcolor": "white",
            "gridwidth": 2,
            "linecolor": "white",
            "showbackground": true,
            "ticks": "",
            "zerolinecolor": "white"
           }
          },
          "shapedefaults": {
           "line": {
            "color": "#2a3f5f"
           }
          },
          "ternary": {
           "aaxis": {
            "gridcolor": "white",
            "linecolor": "white",
            "ticks": ""
           },
           "baxis": {
            "gridcolor": "white",
            "linecolor": "white",
            "ticks": ""
           },
           "bgcolor": "#E5ECF6",
           "caxis": {
            "gridcolor": "white",
            "linecolor": "white",
            "ticks": ""
           }
          },
          "title": {
           "x": 0.05
          },
          "xaxis": {
           "automargin": true,
           "gridcolor": "white",
           "linecolor": "white",
           "ticks": "",
           "title": {
            "standoff": 15
           },
           "zerolinecolor": "white",
           "zerolinewidth": 2
          },
          "yaxis": {
           "automargin": true,
           "gridcolor": "white",
           "linecolor": "white",
           "ticks": "",
           "title": {
            "standoff": 15
           },
           "zerolinecolor": "white",
           "zerolinewidth": 2
          }
         }
        },
        "title": {
         "text": "Training and Validation Loss"
        },
        "xaxis": {
         "title": {
          "text": "Epochs"
         }
        },
        "yaxis": {
         "title": {
          "text": "Loss"
         }
        }
       }
      }
     },
     "metadata": {},
     "output_type": "display_data"
    }
   ],
   "source": [
    "fig = go.Figure(data=[\n",
    "    go.Scatter(y=history[\"loss\"], name=\"Training Loss\", mode=\"lines\"),\n",
    "    go.Scatter(y=history[\"val_loss\"], name=\"Validation Loss\", mode=\"lines\")\n",
    "])\n",
    "fig.update_layout(title=\"Training and Validation Loss\", xaxis_title=\"Epochs\", yaxis_title=\"Loss\")\n",
    "fig.show()"
   ]
  },
  {
   "cell_type": "markdown",
   "metadata": {
    "id": "NYF0eRR6z1O_"
   },
   "source": [
    "* 2️⃣ Get the weights from the first layer"
   ]
  },
  {
   "cell_type": "code",
   "execution_count": 10,
   "metadata": {
    "colab": {
     "base_uri": "https://localhost:8080/"
    },
    "executionInfo": {
     "elapsed": 407,
     "status": "ok",
     "timestamp": 1613393944299,
     "user": {
      "displayName": "Charles Tanguy",
      "photoUrl": "",
      "userId": "11930294859591867631"
     },
     "user_tz": -60
    },
    "id": "wNXK04Gbz45T",
    "outputId": "2ac74de4-689c-4dc3-9fef-7813ccc58a8f"
   },
   "outputs": [
    {
     "name": "stdout",
     "output_type": "stream",
     "text": [
      "torch.Size([16, 784])\n"
     ]
    }
   ],
   "source": [
    "first_layer_weights = model.fc1.weight.data\n",
    "print(first_layer_weights.shape)  # Shape should be [16, 784]"
   ]
  },
  {
   "cell_type": "markdown",
   "metadata": {
    "id": "fDIvTJva0TZt"
   },
   "source": [
    "* 3️⃣ Extract the weights from one of the neurons on that layer, what does the number of weights correspond to?"
   ]
  },
  {
   "cell_type": "code",
   "execution_count": 11,
   "metadata": {
    "colab": {
     "base_uri": "https://localhost:8080/"
    },
    "executionInfo": {
     "elapsed": 500,
     "status": "ok",
     "timestamp": 1613393946277,
     "user": {
      "displayName": "Charles Tanguy",
      "photoUrl": "",
      "userId": "11930294859591867631"
     },
     "user_tz": -60
    },
    "id": "7NnlXoMQwFbs",
    "outputId": "70b03990-f2e6-4014-9084-b3f5f91ed276"
   },
   "outputs": [
    {
     "data": {
      "text/plain": [
       "(16,)"
      ]
     },
     "execution_count": 11,
     "metadata": {},
     "output_type": "execute_result"
    }
   ],
   "source": [
    "first_neuron_first_layer_weights = first_layer_weights.numpy()[:,0]\n",
    "first_neuron_first_layer_weights.shape"
   ]
  },
  {
   "cell_type": "markdown",
   "metadata": {
    "id": "IeP8dif00rwv"
   },
   "source": [
    "* 4️⃣ Reshape the weights to form a 28x28 image and display it, can you interpret the weights on this neuron?"
   ]
  },
  {
   "cell_type": "code",
   "execution_count": 12,
   "metadata": {},
   "outputs": [
    {
     "data": {
      "text/plain": [
       "<matplotlib.image.AxesImage at 0x12a3703d0>"
      ]
     },
     "execution_count": 12,
     "metadata": {},
     "output_type": "execute_result"
    },
    {
     "data": {
      "image/png": "[encoded data removed]",
      "text/plain": [
       "<Figure size 640x480 with 1 Axes>"
      ]
     },
     "metadata": {},
     "output_type": "display_data"
    }
   ],
   "source": [
    "img = first_layer_weights[0].view(28, 28).cpu().numpy()\n",
    "plt.imshow(img, cmap='gray')"
   ]
  },
  {
   "cell_type": "markdown",
   "metadata": {},
   "source": [
    "* 5️⃣ Try the same thing with all the neurons of the first layer, can you see something interpretable? * Try the same thing with all the neurons of the first layer, can you see something interpretable? You can find help <a href=\"https://plotly.com/python/heatmaps/\"> here </a> and <a href=\"https://plotly.com/python/subplots/\"> here </a>."
   ]
  },
  {
   "cell_type": "code",
   "execution_count": 13,
   "metadata": {
    "colab": {
     "base_uri": "https://localhost:8080/",
     "height": 542
    },
    "executionInfo": {
     "elapsed": 1144,
     "status": "ok",
     "timestamp": 1613393948524,
     "user": {
      "displayName": "Charles Tanguy",
      "photoUrl": "",
      "userId": "11930294859591867631"
     },
     "user_tz": -60
    },
    "id": "LywH6BMT04sa",
    "outputId": "3318d081-8231-4ff6-e51d-3e53ebdbc32e"
   },
   "outputs": [
    {
     "data": {
      "image/png": "[encoded data removed]",
      "text/plain": [
       "<Figure size 1000x1000 with 16 Axes>"
      ]
     },
     "metadata": {},
     "output_type": "display_data"
    }
   ],
   "source": [
    "fig, axes = plt.subplots(4, 4, figsize=(10, 10))\n",
    "for i, ax in enumerate(axes.flat):\n",
    "    img = first_layer_weights[i].view(28, 28).cpu().numpy()\n",
    "    ax.imshow(img, cmap='gray')\n",
    "    ax.axis('off')\n",
    "plt.show()"
   ]
  },
  {
   "cell_type": "markdown",
   "metadata": {
    "id": "Fwzauzj-ACSM"
   },
   "source": [
    "* 6️⃣ Do the same visualization but apply relu to the weights"
   ]
  },
  {
   "cell_type": "code",
   "execution_count": 14,
   "metadata": {
    "colab": {
     "base_uri": "https://localhost:8080/",
     "height": 1000
    },
    "executionInfo": {
     "elapsed": 1293,
     "status": "ok",
     "timestamp": 1613397829955,
     "user": {
      "displayName": "Charles Tanguy",
      "photoUrl": "",
      "userId": "11930294859591867631"
     },
     "user_tz": -60
    },
    "id": "fdhNnqhJAJZG",
    "outputId": "ead69fd1-3e15-4ac6-ef12-a4f7983a8750"
   },
   "outputs": [
    {
     "data": {
      "image/png": "[encoded data removed]",
      "text/plain": [
       "<Figure size 1000x1000 with 16 Axes>"
      ]
     },
     "metadata": {},
     "output_type": "display_data"
    }
   ],
   "source": [
    "fig, axes = plt.subplots(4, 4, figsize=(10, 10))\n",
    "for i, ax in enumerate(axes.flat):\n",
    "    img = torch.nn.ReLU()(first_layer_weights[i]).view(28, 28).cpu().numpy()\n",
    "    ax.imshow(img, cmap='gray')\n",
    "    ax.axis('off')\n",
    "plt.show()"
   ]
  },
  {
   "cell_type": "markdown",
   "metadata": {},
   "source": [
    "## Regularization ?\n",
    "\n",
    "* 1️⃣ What can we conclude after looking at the evolution of the losses, and looking at the feature extraction from the first layer ?"
   ]
  },
  {
   "cell_type": "markdown",
   "metadata": {},
   "source": [
    "**From looking at the training loss:**\n",
    "The evolution of the training loss indicates that the model is learning steadily on the training set, and shows stable consistent decrease.\n",
    "\n",
    "**From looking at the validation loss:**\n",
    "The evolution of the validation loss shows some instability, especially as the decrease in training loss slows down.\n",
    "\n",
    "**From looking et the feature space:**\n",
    "It seems as though only a portion of our neurons are actually learning something from our data (some neurons look like they are only capturing noise)"
   ]
  },
  {
   "cell_type": "markdown",
   "metadata": {},
   "source": [
    "* 2️⃣ What can you do to solve this?"
   ]
  },
  {
   "cell_type": "markdown",
   "metadata": {},
   "source": [
    "We can attempt some regularization techniques:\n",
    "* In order to stabalize the loss we can add some L2 regularization in the optimizer.\n",
    "* In order to balance out the training of our first layer we can add some drop out after that layer."
   ]
  },
  {
   "cell_type": "markdown",
   "metadata": {},
   "source": [
    "### Addind Regularization\n",
    "\n",
    "3️⃣ Train a new neural network with some L2 regularization in the optimizer, do you notice any difference?"
   ]
  },
  {
   "cell_type": "code",
   "execution_count": 15,
   "metadata": {},
   "outputs": [
    {
     "name": "stdout",
     "output_type": "stream",
     "text": [
      "MNISTModel(\n",
      "  (fc1): Linear(in_features=784, out_features=16, bias=True)\n",
      "  (fc2): Linear(in_features=16, out_features=8, bias=True)\n",
      "  (fc3): Linear(in_features=8, out_features=10, bias=True)\n",
      "  (relu): ReLU()\n",
      "  (softmax): Softmax(dim=1)\n",
      ")\n",
      "Epoch [1/50], Loss: 1.8590, Acc: 0.6220, Val Loss: 1.7585, Val Acc: 0.7173\n",
      "Epoch [2/50], Loss: 1.6942, Acc: 0.7809, Val Loss: 1.6918, Val Acc: 0.7811\n",
      "Epoch [3/50], Loss: 1.6735, Acc: 0.7968, Val Loss: 1.6643, Val Acc: 0.8043\n",
      "Epoch [4/50], Loss: 1.6666, Acc: 0.8022, Val Loss: 1.6617, Val Acc: 0.8051\n",
      "Epoch [5/50], Loss: 1.6642, Acc: 0.8044, Val Loss: 1.6551, Val Acc: 0.8115\n",
      "Epoch [6/50], Loss: 1.6606, Acc: 0.8069, Val Loss: 1.6564, Val Acc: 0.8087\n",
      "Epoch [7/50], Loss: 1.6564, Acc: 0.8105, Val Loss: 1.6659, Val Acc: 0.8003\n",
      "Epoch [8/50], Loss: 1.6544, Acc: 0.8124, Val Loss: 1.6546, Val Acc: 0.8103\n",
      "Epoch [9/50], Loss: 1.6539, Acc: 0.8118, Val Loss: 1.6612, Val Acc: 0.8042\n",
      "Epoch [10/50], Loss: 1.6524, Acc: 0.8137, Val Loss: 1.6467, Val Acc: 0.8185\n",
      "Epoch [11/50], Loss: 1.6519, Acc: 0.8140, Val Loss: 1.6683, Val Acc: 0.7954\n",
      "Epoch [12/50], Loss: 1.6507, Acc: 0.8153, Val Loss: 1.6544, Val Acc: 0.8106\n",
      "Epoch [13/50], Loss: 1.6493, Acc: 0.8164, Val Loss: 1.6622, Val Acc: 0.8035\n",
      "Epoch [14/50], Loss: 1.6477, Acc: 0.8184, Val Loss: 1.6427, Val Acc: 0.8227\n",
      "Epoch [15/50], Loss: 1.6477, Acc: 0.8178, Val Loss: 1.6620, Val Acc: 0.8036\n",
      "Epoch [16/50], Loss: 1.6481, Acc: 0.8169, Val Loss: 1.6433, Val Acc: 0.8215\n",
      "Epoch [17/50], Loss: 1.6475, Acc: 0.8187, Val Loss: 1.6452, Val Acc: 0.8193\n",
      "Epoch [18/50], Loss: 1.6473, Acc: 0.8177, Val Loss: 1.6464, Val Acc: 0.8181\n",
      "Epoch [19/50], Loss: 1.6440, Acc: 0.8219, Val Loss: 1.6441, Val Acc: 0.8222\n",
      "Epoch [20/50], Loss: 1.6443, Acc: 0.8210, Val Loss: 1.6871, Val Acc: 0.7786\n",
      "Epoch [21/50], Loss: 1.6444, Acc: 0.8211, Val Loss: 1.6482, Val Acc: 0.8186\n",
      "Epoch [22/50], Loss: 1.5771, Acc: 0.8933, Val Loss: 1.5678, Val Acc: 0.9015\n",
      "Epoch [23/50], Loss: 1.5655, Acc: 0.9026, Val Loss: 1.5609, Val Acc: 0.9073\n",
      "Epoch [24/50], Loss: 1.5616, Acc: 0.9057, Val Loss: 1.5488, Val Acc: 0.9164\n",
      "Epoch [25/50], Loss: 1.5596, Acc: 0.9079, Val Loss: 1.5696, Val Acc: 0.8984\n",
      "Epoch [26/50], Loss: 1.5584, Acc: 0.9085, Val Loss: 1.5523, Val Acc: 0.9142\n",
      "Epoch [27/50], Loss: 1.5577, Acc: 0.9094, Val Loss: 1.5493, Val Acc: 0.9176\n",
      "Epoch [28/50], Loss: 1.5573, Acc: 0.9099, Val Loss: 1.5631, Val Acc: 0.9032\n",
      "Epoch [29/50], Loss: 1.5562, Acc: 0.9105, Val Loss: 1.5483, Val Acc: 0.9183\n",
      "Epoch [30/50], Loss: 1.5566, Acc: 0.9105, Val Loss: 1.5592, Val Acc: 0.9088\n",
      "Epoch [31/50], Loss: 1.5553, Acc: 0.9122, Val Loss: 1.5497, Val Acc: 0.9183\n",
      "Epoch [32/50], Loss: 1.5556, Acc: 0.9114, Val Loss: 1.5903, Val Acc: 0.8767\n",
      "Epoch [33/50], Loss: 1.5556, Acc: 0.9111, Val Loss: 1.5479, Val Acc: 0.9188\n",
      "Epoch [34/50], Loss: 1.5537, Acc: 0.9136, Val Loss: 1.5643, Val Acc: 0.9018\n",
      "Epoch [35/50], Loss: 1.5545, Acc: 0.9129, Val Loss: 1.5453, Val Acc: 0.9212\n",
      "Epoch [36/50], Loss: 1.5548, Acc: 0.9123, Val Loss: 1.5590, Val Acc: 0.9074\n",
      "Epoch [37/50], Loss: 1.5534, Acc: 0.9138, Val Loss: 1.5554, Val Acc: 0.9122\n",
      "Epoch [38/50], Loss: 1.5536, Acc: 0.9135, Val Loss: 1.5476, Val Acc: 0.9190\n",
      "Epoch [39/50], Loss: 1.5535, Acc: 0.9136, Val Loss: 1.5526, Val Acc: 0.9150\n",
      "Epoch [40/50], Loss: 1.5525, Acc: 0.9149, Val Loss: 1.5628, Val Acc: 0.9053\n",
      "Epoch [41/50], Loss: 1.5523, Acc: 0.9146, Val Loss: 1.5457, Val Acc: 0.9207\n",
      "Epoch [42/50], Loss: 1.5517, Acc: 0.9160, Val Loss: 1.5470, Val Acc: 0.9212\n",
      "Epoch [43/50], Loss: 1.5513, Acc: 0.9162, Val Loss: 1.5574, Val Acc: 0.9097\n",
      "Epoch [44/50], Loss: 1.5515, Acc: 0.9155, Val Loss: 1.5569, Val Acc: 0.9087\n",
      "Epoch [45/50], Loss: 1.5504, Acc: 0.9168, Val Loss: 1.5479, Val Acc: 0.9177\n",
      "Epoch [46/50], Loss: 1.5493, Acc: 0.9180, Val Loss: 1.5454, Val Acc: 0.9216\n",
      "Epoch [47/50], Loss: 1.5507, Acc: 0.9161, Val Loss: 1.5450, Val Acc: 0.9211\n",
      "Epoch [48/50], Loss: 1.5503, Acc: 0.9169, Val Loss: 1.5519, Val Acc: 0.9141\n",
      "Epoch [49/50], Loss: 1.5498, Acc: 0.9174, Val Loss: 1.5496, Val Acc: 0.9167\n",
      "Epoch [50/50], Loss: 1.5489, Acc: 0.9181, Val Loss: 1.5538, Val Acc: 0.9137\n"
     ]
    }
   ],
   "source": [
    "# Re-instanciate the model\n",
    "model_reg = MNISTModel()\n",
    "print(model)\n",
    "\n",
    "# add L2 regularization with weight decay\n",
    "optimizer = optim.Adam(model_reg.parameters(), lr=0.001, weight_decay=0.001)\n",
    "\n",
    "# Train the model\n",
    "history = train(model_reg, train_loader, val_loader, criterion, optimizer, epochs=50)\n"
   ]
  },
  {
   "cell_type": "code",
   "execution_count": 16,
   "metadata": {},
   "outputs": [
    {
     "data": {
      "application/vnd.plotly.v1+json": {
       "config": {
        "plotlyServerURL": "https://plot.ly"
       },
       "data": [
        {
         "mode": "lines",
         "name": "Training Loss",
         "type": "scatter",
         "y": [
          1.8590469649235408,
          1.6941771607796352,
          1.6734987285931906,
          1.6665931422313054,
          1.6642031010786693,
          1.660602308233579,
          1.6563810302813848,
          1.6544444897174835,
          1.6538778202931086,
          1.6523926625649135,
          1.65187331255277,
          1.6506716573635738,
          1.649270983815193,
          1.647653852581978,
          1.6477446531454722,
          1.6480579998493194,
          1.647498426914215,
          1.647326076388359,
          1.6439679425557454,
          1.6442680739959081,
          1.644358031431834,
          1.5770876219272614,
          1.565548031449318,
          1.5616428243716558,
          1.5595776537656785,
          1.5584116717179617,
          1.5577375205755233,
          1.5572954607804617,
          1.5562243655522665,
          1.5566331312656403,
          1.5552627997001012,
          1.5555780916611353,
          1.5556000856955847,
          1.5537388666073482,
          1.5544555715322494,
          1.5548207736412685,
          1.5534173698027929,
          1.553613406777382,
          1.5534671444495518,
          1.5525402049223582,
          1.5523477746645609,
          1.5516567453940708,
          1.551264870285988,
          1.5514829527139664,
          1.5503972078164419,
          1.549348112742106,
          1.5506657290856043,
          1.5502853518327078,
          1.5498430525064468,
          1.5489083075126011
         ]
        },
        {
         "mode": "lines",
         "name": "Validation Loss",
         "type": "scatter",
         "y": [
          1.7584714438120523,
          1.691807757059733,
          1.6642728722890219,
          1.6617060422897338,
          1.6551384695370992,
          1.6563638717333475,
          1.6659022901852925,
          1.6545635840098063,
          1.661157136440277,
          1.6466540214220682,
          1.6682890731493631,
          1.6543632357915243,
          1.6621506371498107,
          1.642678542137146,
          1.662022083123525,
          1.6433473917643229,
          1.6452069104512532,
          1.6463869859377542,
          1.6441264465649923,
          1.6870577023824056,
          1.6482001976966858,
          1.5677870497703552,
          1.5609230831464131,
          1.5488403328259785,
          1.56955237754186,
          1.552343384106954,
          1.5493499892552693,
          1.5631315590540569,
          1.5483451031049094,
          1.5591549636522928,
          1.549712027867635,
          1.590338304678599,
          1.5478870894114176,
          1.5643452642758688,
          1.545313133239746,
          1.5589504720369975,
          1.555419001897176,
          1.547622286160787,
          1.5525546797116598,
          1.5627788362503052,
          1.5457499049504597,
          1.5470421005884807,
          1.5573738772074381,
          1.556866420427958,
          1.5478655808766684,
          1.5453614830970763,
          1.5450159826278687,
          1.551931305885315,
          1.5496427588462829,
          1.5538359354337057
         ]
        }
       ],
       "layout": {
        "template": {
         "data": {
          "bar": [
           {
            "error_x": {
             "color": "#2a3f5f"
            },
            "error_y": {
             "color": "#2a3f5f"
            },
            "marker": {
             "line": {
              "color": "#E5ECF6",
              "width": 0.5
             },
             "pattern": {
              "fillmode": "overlay",
              "size": 10,
              "solidity": 0.2
             }
            },
            "type": "bar"
           }
          ],
          "barpolar": [
           {
            "marker": {
             "line": {
              "color": "#E5ECF6",
              "width": 0.5
             },
             "pattern": {
              "fillmode": "overlay",
              "size": 10,
              "solidity": 0.2
             }
            },
            "type": "barpolar"
           }
          ],
          "carpet": [
           {
            "aaxis": {
             "endlinecolor": "#2a3f5f",
             "gridcolor": "white",
             "linecolor": "white",
             "minorgridcolor": "white",
             "startlinecolor": "#2a3f5f"
            },
            "baxis": {
             "endlinecolor": "#2a3f5f",
             "gridcolor": "white",
             "linecolor": "white",
             "minorgridcolor": "white",
             "startlinecolor": "#2a3f5f"
            },
            "type": "carpet"
           }
          ],
          "choropleth": [
           {
            "colorbar": {
             "outlinewidth": 0,
             "ticks": ""
            },
            "type": "choropleth"
           }
          ],
          "contour": [
           {
            "colorbar": {
             "outlinewidth": 0,
             "ticks": ""
            },
            "colorscale": [
             [
              0,
              "#0d0887"
             ],
             [
              0.1111111111111111,
              "#46039f"
             ],
             [
              0.2222222222222222,
              "#7201a8"
             ],
             [
              0.3333333333333333,
              "#9c179e"
             ],
             [
              0.4444444444444444,
              "#bd3786"
             ],
             [
              0.5555555555555556,
              "#d8576b"
             ],
             [
              0.6666666666666666,
              "#ed7953"
             ],
             [
              0.7777777777777778,
              "#fb9f3a"
             ],
             [
              0.8888888888888888,
              "#fdca26"
             ],
             [
              1,
              "#f0f921"
             ]
            ],
            "type": "contour"
           }
          ],
          "contourcarpet": [
           {
            "colorbar": {
             "outlinewidth": 0,
             "ticks": ""
            },
            "type": "contourcarpet"
           }
          ],
          "heatmap": [
           {
            "colorbar": {
             "outlinewidth": 0,
             "ticks": ""
            },
            "colorscale": [
             [
              0,
              "#0d0887"
             ],
             [
              0.1111111111111111,
              "#46039f"
             ],
             [
              0.2222222222222222,
              "#7201a8"
             ],
             [
              0.3333333333333333,
              "#9c179e"
             ],
             [
              0.4444444444444444,
              "#bd3786"
             ],
             [
              0.5555555555555556,
              "#d8576b"
             ],
             [
              0.6666666666666666,
              "#ed7953"
             ],
             [
              0.7777777777777778,
              "#fb9f3a"
             ],
             [
              0.8888888888888888,
              "#fdca26"
             ],
             [
              1,
              "#f0f921"
             ]
            ],
            "type": "heatmap"
           }
          ],
          "histogram": [
           {
            "marker": {
             "pattern": {
              "fillmode": "overlay",
              "size": 10,
              "solidity": 0.2
             }
            },
            "type": "histogram"
           }
          ],
          "histogram2d": [
           {
            "colorbar": {
             "outlinewidth": 0,
             "ticks": ""
            },
            "colorscale": [
             [
              0,
              "#0d0887"
             ],
             [
              0.1111111111111111,
              "#46039f"
             ],
             [
              0.2222222222222222,
              "#7201a8"
             ],
             [
              0.3333333333333333,
              "#9c179e"
             ],
             [
              0.4444444444444444,
              "#bd3786"
             ],
             [
              0.5555555555555556,
              "#d8576b"
             ],
             [
              0.6666666666666666,
              "#ed7953"
             ],
             [
              0.7777777777777778,
              "#fb9f3a"
             ],
             [
              0.8888888888888888,
              "#fdca26"
             ],
             [
              1,
              "#f0f921"
             ]
            ],
            "type": "histogram2d"
           }
          ],
          "histogram2dcontour": [
           {
            "colorbar": {
             "outlinewidth": 0,
             "ticks": ""
            },
            "colorscale": [
             [
              0,
              "#0d0887"
             ],
             [
              0.1111111111111111,
              "#46039f"
             ],
             [
              0.2222222222222222,
              "#7201a8"
             ],
             [
              0.3333333333333333,
              "#9c179e"
             ],
             [
              0.4444444444444444,
              "#bd3786"
             ],
             [
              0.5555555555555556,
              "#d8576b"
             ],
             [
              0.6666666666666666,
              "#ed7953"
             ],
             [
              0.7777777777777778,
              "#fb9f3a"
             ],
             [
              0.8888888888888888,
              "#fdca26"
             ],
             [
              1,
              "#f0f921"
             ]
            ],
            "type": "histogram2dcontour"
           }
          ],
          "mesh3d": [
           {
            "colorbar": {
             "outlinewidth": 0,
             "ticks": ""
            },
            "type": "mesh3d"
           }
          ],
          "parcoords": [
           {
            "line": {
             "colorbar": {
              "outlinewidth": 0,
              "ticks": ""
             }
            },
            "type": "parcoords"
           }
          ],
          "pie": [
           {
            "automargin": true,
            "type": "pie"
           }
          ],
          "scatter": [
           {
            "fillpattern": {
             "fillmode": "overlay",
             "size": 10,
             "solidity": 0.2
            },
            "type": "scatter"
           }
          ],
          "scatter3d": [
           {
            "line": {
             "colorbar": {
              "outlinewidth": 0,
              "ticks": ""
             }
            },
            "marker": {
             "colorbar": {
              "outlinewidth": 0,
              "ticks": ""
             }
            },
            "type": "scatter3d"
           }
          ],
          "scattercarpet": [
           {
            "marker": {
             "colorbar": {
              "outlinewidth": 0,
              "ticks": ""
             }
            },
            "type": "scattercarpet"
           }
          ],
          "scattergeo": [
           {
            "marker": {
             "colorbar": {
              "outlinewidth": 0,
              "ticks": ""
             }
            },
            "type": "scattergeo"
           }
          ],
          "scattergl": [
           {
            "marker": {
             "colorbar": {
              "outlinewidth": 0,
              "ticks": ""
             }
            },
            "type": "scattergl"
           }
          ],
          "scattermap": [
           {
            "marker": {
             "colorbar": {
              "outlinewidth": 0,
              "ticks": ""
             }
            },
            "type": "scattermap"
           }
          ],
          "scattermapbox": [
           {
            "marker": {
             "colorbar": {
              "outlinewidth": 0,
              "ticks": ""
             }
            },
            "type": "scattermapbox"
           }
          ],
          "scatterpolar": [
           {
            "marker": {
             "colorbar": {
              "outlinewidth": 0,
              "ticks": ""
             }
            },
            "type": "scatterpolar"
           }
          ],
          "scatterpolargl": [
           {
            "marker": {
             "colorbar": {
              "outlinewidth": 0,
              "ticks": ""
             }
            },
            "type": "scatterpolargl"
           }
          ],
          "scatterternary": [
           {
            "marker": {
             "colorbar": {
              "outlinewidth": 0,
              "ticks": ""
             }
            },
            "type": "scatterternary"
           }
          ],
          "surface": [
           {
            "colorbar": {
             "outlinewidth": 0,
             "ticks": ""
            },
            "colorscale": [
             [
              0,
              "#0d0887"
             ],
             [
              0.1111111111111111,
              "#46039f"
             ],
             [
              0.2222222222222222,
              "#7201a8"
             ],
             [
              0.3333333333333333,
              "#9c179e"
             ],
             [
              0.4444444444444444,
              "#bd3786"
             ],
             [
              0.5555555555555556,
              "#d8576b"
             ],
             [
              0.6666666666666666,
              "#ed7953"
             ],
             [
              0.7777777777777778,
              "#fb9f3a"
             ],
             [
              0.8888888888888888,
              "#fdca26"
             ],
             [
              1,
              "#f0f921"
             ]
            ],
            "type": "surface"
           }
          ],
          "table": [
           {
            "cells": {
             "fill": {
              "color": "#EBF0F8"
             },
             "line": {
              "color": "white"
             }
            },
            "header": {
             "fill": {
              "color": "#C8D4E3"
             },
             "line": {
              "color": "white"
             }
            },
            "type": "table"
           }
          ]
         },
         "layout": {
          "annotationdefaults": {
           "arrowcolor": "#2a3f5f",
           "arrowhead": 0,
           "arrowwidth": 1
          },
          "autotypenumbers": "strict",
          "coloraxis": {
           "colorbar": {
            "outlinewidth": 0,
            "ticks": ""
           }
          },
          "colorscale": {
           "diverging": [
            [
             0,
             "#8e0152"
            ],
            [
             0.1,
             "#c51b7d"
            ],
            [
             0.2,
             "#de77ae"
            ],
            [
             0.3,
             "#f1b6da"
            ],
            [
             0.4,
             "#fde0ef"
            ],
            [
             0.5,
             "#f7f7f7"
            ],
            [
             0.6,
             "#e6f5d0"
            ],
            [
             0.7,
             "#b8e186"
            ],
            [
             0.8,
             "#7fbc41"
            ],
            [
             0.9,
             "#4d9221"
            ],
            [
             1,
             "#276419"
            ]
           ],
           "sequential": [
            [
             0,
             "#0d0887"
            ],
            [
             0.1111111111111111,
             "#46039f"
            ],
            [
             0.2222222222222222,
             "#7201a8"
            ],
            [
             0.3333333333333333,
             "#9c179e"
            ],
            [
             0.4444444444444444,
             "#bd3786"
            ],
            [
             0.5555555555555556,
             "#d8576b"
            ],
            [
             0.6666666666666666,
             "#ed7953"
            ],
            [
             0.7777777777777778,
             "#fb9f3a"
            ],
            [
             0.8888888888888888,
             "#fdca26"
            ],
            [
             1,
             "#f0f921"
            ]
           ],
           "sequentialminus": [
            [
             0,
             "#0d0887"
            ],
            [
             0.1111111111111111,
             "#46039f"
            ],
            [
             0.2222222222222222,
             "#7201a8"
            ],
            [
             0.3333333333333333,
             "#9c179e"
            ],
            [
             0.4444444444444444,
             "#bd3786"
            ],
            [
             0.5555555555555556,
             "#d8576b"
            ],
            [
             0.6666666666666666,
             "#ed7953"
            ],
            [
             0.7777777777777778,
             "#fb9f3a"
            ],
            [
             0.8888888888888888,
             "#fdca26"
            ],
            [
             1,
             "#f0f921"
            ]
           ]
          },
          "colorway": [
           "#636efa",
           "#EF553B",
           "#00cc96",
           "#ab63fa",
           "#FFA15A",
           "#19d3f3",
           "#FF6692",
           "#B6E880",
           "#FF97FF",
           "#FECB52"
          ],
          "font": {
           "color": "#2a3f5f"
          },
          "geo": {
           "bgcolor": "white",
           "lakecolor": "white",
           "landcolor": "#E5ECF6",
           "showlakes": true,
           "showland": true,
           "subunitcolor": "white"
          },
          "hoverlabel": {
           "align": "left"
          },
          "hovermode": "closest",
          "mapbox": {
           "style": "light"
          },
          "paper_bgcolor": "white",
          "plot_bgcolor": "#E5ECF6",
          "polar": {
           "angularaxis": {
            "gridcolor": "white",
            "linecolor": "white",
            "ticks": ""
           },
           "bgcolor": "#E5ECF6",
           "radialaxis": {
            "gridcolor": "white",
            "linecolor": "white",
            "ticks": ""
           }
          },
          "scene": {
           "xaxis": {
            "backgroundcolor": "#E5ECF6",
            "gridcolor": "white",
            "gridwidth": 2,
            "linecolor": "white",
            "showbackground": true,
            "ticks": "",
            "zerolinecolor": "white"
           },
           "yaxis": {
            "backgroundcolor": "#E5ECF6",
            "gridcolor": "white",
            "gridwidth": 2,
            "linecolor": "white",
            "showbackground": true,
            "ticks": "",
            "zerolinecolor": "white"
           },
           "zaxis": {
            "backgroundcolor": "#E5ECF6",
            "gridcolor": "white",
            "gridwidth": 2,
            "linecolor": "white",
            "showbackground": true,
            "ticks": "",
            "zerolinecolor": "white"
           }
          },
          "shapedefaults": {
           "line": {
            "color": "#2a3f5f"
           }
          },
          "ternary": {
           "aaxis": {
            "gridcolor": "white",
            "linecolor": "white",
            "ticks": ""
           },
           "baxis": {
            "gridcolor": "white",
            "linecolor": "white",
            "ticks": ""
           },
           "bgcolor": "#E5ECF6",
           "caxis": {
            "gridcolor": "white",
            "linecolor": "white",
            "ticks": ""
           }
          },
          "title": {
           "x": 0.05
          },
          "xaxis": {
           "automargin": true,
           "gridcolor": "white",
           "linecolor": "white",
           "ticks": "",
           "title": {
            "standoff": 15
           },
           "zerolinecolor": "white",
           "zerolinewidth": 2
          },
          "yaxis": {
           "automargin": true,
           "gridcolor": "white",
           "linecolor": "white",
           "ticks": "",
           "title": {
            "standoff": 15
           },
           "zerolinecolor": "white",
           "zerolinewidth": 2
          }
         }
        },
        "title": {
         "text": "Training and Validation Loss"
        },
        "xaxis": {
         "title": {
          "text": "Epochs"
         }
        },
        "yaxis": {
         "title": {
          "text": "Loss"
         }
        }
       }
      }
     },
     "metadata": {},
     "output_type": "display_data"
    }
   ],
   "source": [
    "fig = go.Figure(data=[\n",
    "    go.Scatter(y=history[\"loss\"], name=\"Training Loss\", mode=\"lines\"),\n",
    "    go.Scatter(y=history[\"val_loss\"], name=\"Validation Loss\", mode=\"lines\")\n",
    "])\n",
    "fig.update_layout(title=\"Training and Validation Loss\", xaxis_title=\"Epochs\", yaxis_title=\"Loss\")\n",
    "fig.show()"
   ]
  },
  {
   "cell_type": "code",
   "execution_count": 17,
   "metadata": {},
   "outputs": [
    {
     "name": "stdout",
     "output_type": "stream",
     "text": [
      "torch.Size([16, 784])\n"
     ]
    }
   ],
   "source": [
    "first_layer_weights = model_reg.fc1.weight.data\n",
    "print(first_layer_weights.shape)  # Shape should be [16, 784]"
   ]
  },
  {
   "cell_type": "code",
   "execution_count": 18,
   "metadata": {},
   "outputs": [
    {
     "data": {
      "image/png": "[encoded data removed]",
      "text/plain": [
       "<Figure size 1000x1000 with 16 Axes>"
      ]
     },
     "metadata": {},
     "output_type": "display_data"
    }
   ],
   "source": [
    "fig, axes = plt.subplots(4, 4, figsize=(10, 10))\n",
    "for i, ax in enumerate(axes.flat):\n",
    "    img = first_layer_weights[i].view(28, 28).cpu().numpy()\n",
    "    ax.imshow(img, cmap='gray')\n",
    "    ax.axis('off')\n",
    "plt.show()"
   ]
  },
  {
   "cell_type": "markdown",
   "metadata": {},
   "source": [
    "After adding regularization, all neurons on the first layer seem to be training, however some of them seem to focus on very specific cases."
   ]
  },
  {
   "cell_type": "markdown",
   "metadata": {},
   "source": [
    "### Adding DropOut\n",
    "\n",
    "4️⃣ Now that we have tried regulaization, let's attempt some dropout after the first layer and see how it goes:"
   ]
  },
  {
   "cell_type": "code",
   "execution_count": 19,
   "metadata": {},
   "outputs": [
    {
     "name": "stdout",
     "output_type": "stream",
     "text": [
      "MNISTModelDropOut(\n",
      "  (fc1): Linear(in_features=784, out_features=16, bias=True)\n",
      "  (fc2): Linear(in_features=16, out_features=8, bias=True)\n",
      "  (fc3): Linear(in_features=8, out_features=10, bias=True)\n",
      "  (relu): ReLU()\n",
      "  (softmax): Softmax(dim=1)\n",
      "  (dropout): Dropout(p=0.3, inplace=False)\n",
      ")\n",
      "Epoch [1/50], Loss: 1.9292, Acc: 0.5342, Val Loss: 1.6704, Val Acc: 0.8235\n",
      "Epoch [2/50], Loss: 1.7532, Acc: 0.7203, Val Loss: 1.6229, Val Acc: 0.8538\n",
      "Epoch [3/50], Loss: 1.7223, Acc: 0.7490, Val Loss: 1.6012, Val Acc: 0.8719\n",
      "Epoch [4/50], Loss: 1.7041, Acc: 0.7658, Val Loss: 1.5988, Val Acc: 0.8728\n",
      "Epoch [5/50], Loss: 1.7009, Acc: 0.7676, Val Loss: 1.5952, Val Acc: 0.8738\n",
      "Epoch [6/50], Loss: 1.6950, Acc: 0.7729, Val Loss: 1.5794, Val Acc: 0.8911\n",
      "Epoch [7/50], Loss: 1.6880, Acc: 0.7804, Val Loss: 1.5899, Val Acc: 0.8795\n",
      "Epoch [8/50], Loss: 1.6856, Acc: 0.7823, Val Loss: 1.5847, Val Acc: 0.8859\n",
      "Epoch [9/50], Loss: 1.6832, Acc: 0.7854, Val Loss: 1.5868, Val Acc: 0.8840\n",
      "Epoch [10/50], Loss: 1.6822, Acc: 0.7856, Val Loss: 1.5877, Val Acc: 0.8780\n",
      "Epoch [11/50], Loss: 1.6836, Acc: 0.7834, Val Loss: 1.5841, Val Acc: 0.8839\n",
      "Epoch [12/50], Loss: 1.6783, Acc: 0.7888, Val Loss: 1.5794, Val Acc: 0.8898\n",
      "Epoch [13/50], Loss: 1.6780, Acc: 0.7896, Val Loss: 1.5758, Val Acc: 0.8926\n",
      "Epoch [14/50], Loss: 1.6757, Acc: 0.7916, Val Loss: 1.5850, Val Acc: 0.8822\n",
      "Epoch [15/50], Loss: 1.6743, Acc: 0.7938, Val Loss: 1.5702, Val Acc: 0.9003\n",
      "Epoch [16/50], Loss: 1.6771, Acc: 0.7903, Val Loss: 1.5905, Val Acc: 0.8792\n",
      "Epoch [17/50], Loss: 1.6739, Acc: 0.7933, Val Loss: 1.5731, Val Acc: 0.8987\n",
      "Epoch [18/50], Loss: 1.6717, Acc: 0.7967, Val Loss: 1.5932, Val Acc: 0.8697\n",
      "Epoch [19/50], Loss: 1.6748, Acc: 0.7923, Val Loss: 1.5783, Val Acc: 0.8879\n",
      "Epoch [20/50], Loss: 1.6742, Acc: 0.7941, Val Loss: 1.5793, Val Acc: 0.8878\n",
      "Epoch [21/50], Loss: 1.6723, Acc: 0.7957, Val Loss: 1.5692, Val Acc: 0.9025\n",
      "Epoch [22/50], Loss: 1.6739, Acc: 0.7938, Val Loss: 1.6092, Val Acc: 0.8585\n",
      "Epoch [23/50], Loss: 1.6748, Acc: 0.7929, Val Loss: 1.5922, Val Acc: 0.8753\n",
      "Epoch [24/50], Loss: 1.6711, Acc: 0.7968, Val Loss: 1.5748, Val Acc: 0.8932\n",
      "Epoch [25/50], Loss: 1.6703, Acc: 0.7981, Val Loss: 1.5851, Val Acc: 0.8828\n",
      "Epoch [26/50], Loss: 1.6711, Acc: 0.7968, Val Loss: 1.5869, Val Acc: 0.8811\n",
      "Epoch [27/50], Loss: 1.6699, Acc: 0.7980, Val Loss: 1.5719, Val Acc: 0.8968\n",
      "Epoch [28/50], Loss: 1.6696, Acc: 0.7975, Val Loss: 1.5762, Val Acc: 0.8926\n",
      "Epoch [29/50], Loss: 1.6700, Acc: 0.7966, Val Loss: 1.5713, Val Acc: 0.8992\n",
      "Epoch [30/50], Loss: 1.6695, Acc: 0.7987, Val Loss: 1.5730, Val Acc: 0.8931\n",
      "Epoch [31/50], Loss: 1.6690, Acc: 0.7981, Val Loss: 1.5872, Val Acc: 0.8808\n",
      "Epoch [32/50], Loss: 1.6698, Acc: 0.7986, Val Loss: 1.5897, Val Acc: 0.8776\n",
      "Epoch [33/50], Loss: 1.6674, Acc: 0.7997, Val Loss: 1.5764, Val Acc: 0.8932\n",
      "Epoch [34/50], Loss: 1.6632, Acc: 0.8044, Val Loss: 1.5801, Val Acc: 0.8855\n",
      "Epoch [35/50], Loss: 1.6622, Acc: 0.8058, Val Loss: 1.5735, Val Acc: 0.8949\n",
      "Epoch [36/50], Loss: 1.6614, Acc: 0.8062, Val Loss: 1.5895, Val Acc: 0.8764\n",
      "Epoch [37/50], Loss: 1.6626, Acc: 0.8060, Val Loss: 1.5693, Val Acc: 0.8983\n",
      "Epoch [38/50], Loss: 1.6605, Acc: 0.8073, Val Loss: 1.5867, Val Acc: 0.8782\n",
      "Epoch [39/50], Loss: 1.6590, Acc: 0.8097, Val Loss: 1.5794, Val Acc: 0.8875\n",
      "Epoch [40/50], Loss: 1.6617, Acc: 0.8071, Val Loss: 1.5758, Val Acc: 0.8952\n",
      "Epoch [41/50], Loss: 1.6596, Acc: 0.8091, Val Loss: 1.5821, Val Acc: 0.8828\n",
      "Epoch [42/50], Loss: 1.6599, Acc: 0.8091, Val Loss: 1.5691, Val Acc: 0.9020\n",
      "Epoch [43/50], Loss: 1.6584, Acc: 0.8110, Val Loss: 1.5721, Val Acc: 0.8961\n",
      "Epoch [44/50], Loss: 1.6602, Acc: 0.8079, Val Loss: 1.5646, Val Acc: 0.9060\n",
      "Epoch [45/50], Loss: 1.6572, Acc: 0.8122, Val Loss: 1.5676, Val Acc: 0.9008\n",
      "Epoch [46/50], Loss: 1.6574, Acc: 0.8113, Val Loss: 1.5782, Val Acc: 0.8908\n",
      "Epoch [47/50], Loss: 1.6549, Acc: 0.8138, Val Loss: 1.5863, Val Acc: 0.8802\n",
      "Epoch [48/50], Loss: 1.6547, Acc: 0.8138, Val Loss: 1.5881, Val Acc: 0.8794\n",
      "Epoch [49/50], Loss: 1.6540, Acc: 0.8146, Val Loss: 1.5708, Val Acc: 0.8978\n",
      "Epoch [50/50], Loss: 1.6529, Acc: 0.8160, Val Loss: 1.5696, Val Acc: 0.8970\n"
     ]
    }
   ],
   "source": [
    "class MNISTModelDropOut(nn.Module):\n",
    "    def __init__(self):\n",
    "        super(MNISTModelDropOut, self).__init__()\n",
    "        self.fc1 = nn.Linear(28*28, 16)\n",
    "        self.fc2 = nn.Linear(16, 8)\n",
    "        self.fc3 = nn.Linear(8, 10)\n",
    "        self.relu = nn.ReLU()\n",
    "        self.softmax = nn.Softmax(dim=1)\n",
    "        self.dropout = nn.Dropout(p=0.3)\n",
    "\n",
    "    def forward(self, x):\n",
    "        x = x.view(x.size(0), -1)  # Flatten the input\n",
    "        x = self.relu(self.fc1(x))\n",
    "        x = self.dropout(x)\n",
    "        x = self.relu(self.fc2(x))\n",
    "        x = self.softmax(self.fc3(x))\n",
    "        return x\n",
    "\n",
    "model_dropout = MNISTModelDropOut()\n",
    "print(model_dropout)\n",
    "\n",
    "\n",
    "# add L2 regularization with weight decay\n",
    "optimizer = optim.Adam(model_dropout.parameters(), lr=0.001, weight_decay=0.001)\n",
    "\n",
    "# Train the model\n",
    "history = train(model_dropout, train_loader, val_loader, criterion, optimizer, epochs=50)\n"
   ]
  },
  {
   "cell_type": "code",
   "execution_count": 20,
   "metadata": {},
   "outputs": [
    {
     "data": {
      "application/vnd.plotly.v1+json": {
       "config": {
        "plotlyServerURL": "https://plot.ly"
       },
       "data": [
        {
         "mode": "lines",
         "name": "Training Loss",
         "type": "scatter",
         "y": [
          1.9292475988467535,
          1.7531993664503098,
          1.722276366909345,
          1.7041257917483648,
          1.7008856022755305,
          1.6949865411520004,
          1.6880362188021343,
          1.6856310284932454,
          1.6832408943573633,
          1.6821842572689056,
          1.6836321637630463,
          1.6782569942474366,
          1.6779837476412456,
          1.6756979666550955,
          1.6742719719012578,
          1.6770738974412283,
          1.6738844876289367,
          1.671692085981369,
          1.6747783035834631,
          1.6741740007400512,
          1.6723073518276215,
          1.6738788519303005,
          1.6747714633544286,
          1.6710709165732065,
          1.6702794553438822,
          1.6711451232433319,
          1.6698767939011256,
          1.66959809756279,
          1.6700391287406287,
          1.6694992770751318,
          1.668998382528623,
          1.6697891374429068,
          1.667406994064649,
          1.6631619766553243,
          1.662160366654396,
          1.6614225115378698,
          1.6626150658925374,
          1.6605002093712489,
          1.659047595858574,
          1.6617205062707265,
          1.6595760819514593,
          1.6598937202294668,
          1.658429496328036,
          1.6602193516890207,
          1.6571763997077942,
          1.6573531611760457,
          1.6548904388745627,
          1.6547216647068659,
          1.6540445524454117,
          1.6528783061107
         ]
        },
        {
         "mode": "lines",
         "name": "Validation Loss",
         "type": "scatter",
         "y": [
          1.670447897275289,
          1.6229145973523458,
          1.601237052599589,
          1.598772170861562,
          1.595236468633016,
          1.5793686447143556,
          1.589898871421814,
          1.5846541738510131,
          1.5867825285593669,
          1.5877085328102112,
          1.5840779879887898,
          1.5793723346392314,
          1.5758096491495768,
          1.5849961824417114,
          1.570182392279307,
          1.5905291072527568,
          1.5731418771743775,
          1.5931584595044455,
          1.5782633355458577,
          1.5792858589490255,
          1.5691969844500224,
          1.609170129776001,
          1.59223978916804,
          1.5748474214871724,
          1.5850609464645387,
          1.5868873263994854,
          1.5719329161643982,
          1.5762339804967245,
          1.5713103733062743,
          1.5730147035916646,
          1.587203417936961,
          1.5897274381319682,
          1.576377460638682,
          1.5800784408251445,
          1.5734517555236816,
          1.5894745995203654,
          1.5692874007225037,
          1.5866588274637858,
          1.5794061671892803,
          1.5757580591837566,
          1.5821443478266397,
          1.5690609458287557,
          1.572061067422231,
          1.5645705054601033,
          1.567614893913269,
          1.578195426305135,
          1.5863041777610778,
          1.5880766016642252,
          1.5707880868911743,
          1.569632742881775
         ]
        }
       ],
       "layout": {
        "template": {
         "data": {
          "bar": [
           {
            "error_x": {
             "color": "#2a3f5f"
            },
            "error_y": {
             "color": "#2a3f5f"
            },
            "marker": {
             "line": {
              "color": "#E5ECF6",
              "width": 0.5
             },
             "pattern": {
              "fillmode": "overlay",
              "size": 10,
              "solidity": 0.2
             }
            },
            "type": "bar"
           }
          ],
          "barpolar": [
           {
            "marker": {
             "line": {
              "color": "#E5ECF6",
              "width": 0.5
             },
             "pattern": {
              "fillmode": "overlay",
              "size": 10,
              "solidity": 0.2
             }
            },
            "type": "barpolar"
           }
          ],
          "carpet": [
           {
            "aaxis": {
             "endlinecolor": "#2a3f5f",
             "gridcolor": "white",
             "linecolor": "white",
             "minorgridcolor": "white",
             "startlinecolor": "#2a3f5f"
            },
            "baxis": {
             "endlinecolor": "#2a3f5f",
             "gridcolor": "white",
             "linecolor": "white",
             "minorgridcolor": "white",
             "startlinecolor": "#2a3f5f"
            },
            "type": "carpet"
           }
          ],
          "choropleth": [
           {
            "colorbar": {
             "outlinewidth": 0,
             "ticks": ""
            },
            "type": "choropleth"
           }
          ],
          "contour": [
           {
            "colorbar": {
             "outlinewidth": 0,
             "ticks": ""
            },
            "colorscale": [
             [
              0,
              "#0d0887"
             ],
             [
              0.1111111111111111,
              "#46039f"
             ],
             [
              0.2222222222222222,
              "#7201a8"
             ],
             [
              0.3333333333333333,
              "#9c179e"
             ],
             [
              0.4444444444444444,
              "#bd3786"
             ],
             [
              0.5555555555555556,
              "#d8576b"
             ],
             [
              0.6666666666666666,
              "#ed7953"
             ],
             [
              0.7777777777777778,
              "#fb9f3a"
             ],
             [
              0.8888888888888888,
              "#fdca26"
             ],
             [
              1,
              "#f0f921"
             ]
            ],
            "type": "contour"
           }
          ],
          "contourcarpet": [
           {
            "colorbar": {
             "outlinewidth": 0,
             "ticks": ""
            },
            "type": "contourcarpet"
           }
          ],
          "heatmap": [
           {
            "colorbar": {
             "outlinewidth": 0,
             "ticks": ""
            },
            "colorscale": [
             [
              0,
              "#0d0887"
             ],
             [
              0.1111111111111111,
              "#46039f"
             ],
             [
              0.2222222222222222,
              "#7201a8"
             ],
             [
              0.3333333333333333,
              "#9c179e"
             ],
             [
              0.4444444444444444,
              "#bd3786"
             ],
             [
              0.5555555555555556,
              "#d8576b"
             ],
             [
              0.6666666666666666,
              "#ed7953"
             ],
             [
              0.7777777777777778,
              "#fb9f3a"
             ],
             [
              0.8888888888888888,
              "#fdca26"
             ],
             [
              1,
              "#f0f921"
             ]
            ],
            "type": "heatmap"
           }
          ],
          "histogram": [
           {
            "marker": {
             "pattern": {
              "fillmode": "overlay",
              "size": 10,
              "solidity": 0.2
             }
            },
            "type": "histogram"
           }
          ],
          "histogram2d": [
           {
            "colorbar": {
             "outlinewidth": 0,
             "ticks": ""
            },
            "colorscale": [
             [
              0,
              "#0d0887"
             ],
             [
              0.1111111111111111,
              "#46039f"
             ],
             [
              0.2222222222222222,
              "#7201a8"
             ],
             [
              0.3333333333333333,
              "#9c179e"
             ],
             [
              0.4444444444444444,
              "#bd3786"
             ],
             [
              0.5555555555555556,
              "#d8576b"
             ],
             [
              0.6666666666666666,
              "#ed7953"
             ],
             [
              0.7777777777777778,
              "#fb9f3a"
             ],
             [
              0.8888888888888888,
              "#fdca26"
             ],
             [
              1,
              "#f0f921"
             ]
            ],
            "type": "histogram2d"
           }
          ],
          "histogram2dcontour": [
           {
            "colorbar": {
             "outlinewidth": 0,
             "ticks": ""
            },
            "colorscale": [
             [
              0,
              "#0d0887"
             ],
             [
              0.1111111111111111,
              "#46039f"
             ],
             [
              0.2222222222222222,
              "#7201a8"
             ],
             [
              0.3333333333333333,
              "#9c179e"
             ],
             [
              0.4444444444444444,
              "#bd3786"
             ],
             [
              0.5555555555555556,
              "#d8576b"
             ],
             [
              0.6666666666666666,
              "#ed7953"
             ],
             [
              0.7777777777777778,
              "#fb9f3a"
             ],
             [
              0.8888888888888888,
              "#fdca26"
             ],
             [
              1,
              "#f0f921"
             ]
            ],
            "type": "histogram2dcontour"
           }
          ],
          "mesh3d": [
           {
            "colorbar": {
             "outlinewidth": 0,
             "ticks": ""
            },
            "type": "mesh3d"
           }
          ],
          "parcoords": [
           {
            "line": {
             "colorbar": {
              "outlinewidth": 0,
              "ticks": ""
             }
            },
            "type": "parcoords"
           }
          ],
          "pie": [
           {
            "automargin": true,
            "type": "pie"
           }
          ],
          "scatter": [
           {
            "fillpattern": {
             "fillmode": "overlay",
             "size": 10,
             "solidity": 0.2
            },
            "type": "scatter"
           }
          ],
          "scatter3d": [
           {
            "line": {
             "colorbar": {
              "outlinewidth": 0,
              "ticks": ""
             }
            },
            "marker": {
             "colorbar": {
              "outlinewidth": 0,
              "ticks": ""
             }
            },
            "type": "scatter3d"
           }
          ],
          "scattercarpet": [
           {
            "marker": {
             "colorbar": {
              "outlinewidth": 0,
              "ticks": ""
             }
            },
            "type": "scattercarpet"
           }
          ],
          "scattergeo": [
           {
            "marker": {
             "colorbar": {
              "outlinewidth": 0,
              "ticks": ""
             }
            },
            "type": "scattergeo"
           }
          ],
          "scattergl": [
           {
            "marker": {
             "colorbar": {
              "outlinewidth": 0,
              "ticks": ""
             }
            },
            "type": "scattergl"
           }
          ],
          "scattermap": [
           {
            "marker": {
             "colorbar": {
              "outlinewidth": 0,
              "ticks": ""
             }
            },
            "type": "scattermap"
           }
          ],
          "scattermapbox": [
           {
            "marker": {
             "colorbar": {
              "outlinewidth": 0,
              "ticks": ""
             }
            },
            "type": "scattermapbox"
           }
          ],
          "scatterpolar": [
           {
            "marker": {
             "colorbar": {
              "outlinewidth": 0,
              "ticks": ""
             }
            },
            "type": "scatterpolar"
           }
          ],
          "scatterpolargl": [
           {
            "marker": {
             "colorbar": {
              "outlinewidth": 0,
              "ticks": ""
             }
            },
            "type": "scatterpolargl"
           }
          ],
          "scatterternary": [
           {
            "marker": {
             "colorbar": {
              "outlinewidth": 0,
              "ticks": ""
             }
            },
            "type": "scatterternary"
           }
          ],
          "surface": [
           {
            "colorbar": {
             "outlinewidth": 0,
             "ticks": ""
            },
            "colorscale": [
             [
              0,
              "#0d0887"
             ],
             [
              0.1111111111111111,
              "#46039f"
             ],
             [
              0.2222222222222222,
              "#7201a8"
             ],
             [
              0.3333333333333333,
              "#9c179e"
             ],
             [
              0.4444444444444444,
              "#bd3786"
             ],
             [
              0.5555555555555556,
              "#d8576b"
             ],
             [
              0.6666666666666666,
              "#ed7953"
             ],
             [
              0.7777777777777778,
              "#fb9f3a"
             ],
             [
              0.8888888888888888,
              "#fdca26"
             ],
             [
              1,
              "#f0f921"
             ]
            ],
            "type": "surface"
           }
          ],
          "table": [
           {
            "cells": {
             "fill": {
              "color": "#EBF0F8"
             },
             "line": {
              "color": "white"
             }
            },
            "header": {
             "fill": {
              "color": "#C8D4E3"
             },
             "line": {
              "color": "white"
             }
            },
            "type": "table"
           }
          ]
         },
         "layout": {
          "annotationdefaults": {
           "arrowcolor": "#2a3f5f",
           "arrowhead": 0,
           "arrowwidth": 1
          },
          "autotypenumbers": "strict",
          "coloraxis": {
           "colorbar": {
            "outlinewidth": 0,
            "ticks": ""
           }
          },
          "colorscale": {
           "diverging": [
            [
             0,
             "#8e0152"
            ],
            [
             0.1,
             "#c51b7d"
            ],
            [
             0.2,
             "#de77ae"
            ],
            [
             0.3,
             "#f1b6da"
            ],
            [
             0.4,
             "#fde0ef"
            ],
            [
             0.5,
             "#f7f7f7"
            ],
            [
             0.6,
             "#e6f5d0"
            ],
            [
             0.7,
             "#b8e186"
            ],
            [
             0.8,
             "#7fbc41"
            ],
            [
             0.9,
             "#4d9221"
            ],
            [
             1,
             "#276419"
            ]
           ],
           "sequential": [
            [
             0,
             "#0d0887"
            ],
            [
             0.1111111111111111,
             "#46039f"
            ],
            [
             0.2222222222222222,
             "#7201a8"
            ],
            [
             0.3333333333333333,
             "#9c179e"
            ],
            [
             0.4444444444444444,
             "#bd3786"
            ],
            [
             0.5555555555555556,
             "#d8576b"
            ],
            [
             0.6666666666666666,
             "#ed7953"
            ],
            [
             0.7777777777777778,
             "#fb9f3a"
            ],
            [
             0.8888888888888888,
             "#fdca26"
            ],
            [
             1,
             "#f0f921"
            ]
           ],
           "sequentialminus": [
            [
             0,
             "#0d0887"
            ],
            [
             0.1111111111111111,
             "#46039f"
            ],
            [
             0.2222222222222222,
             "#7201a8"
            ],
            [
             0.3333333333333333,
             "#9c179e"
            ],
            [
             0.4444444444444444,
             "#bd3786"
            ],
            [
             0.5555555555555556,
             "#d8576b"
            ],
            [
             0.6666666666666666,
             "#ed7953"
            ],
            [
             0.7777777777777778,
             "#fb9f3a"
            ],
            [
             0.8888888888888888,
             "#fdca26"
            ],
            [
             1,
             "#f0f921"
            ]
           ]
          },
          "colorway": [
           "#636efa",
           "#EF553B",
           "#00cc96",
           "#ab63fa",
           "#FFA15A",
           "#19d3f3",
           "#FF6692",
           "#B6E880",
           "#FF97FF",
           "#FECB52"
          ],
          "font": {
           "color": "#2a3f5f"
          },
          "geo": {
           "bgcolor": "white",
           "lakecolor": "white",
           "landcolor": "#E5ECF6",
           "showlakes": true,
           "showland": true,
           "subunitcolor": "white"
          },
          "hoverlabel": {
           "align": "left"
          },
          "hovermode": "closest",
          "mapbox": {
           "style": "light"
          },
          "paper_bgcolor": "white",
          "plot_bgcolor": "#E5ECF6",
          "polar": {
           "angularaxis": {
            "gridcolor": "white",
            "linecolor": "white",
            "ticks": ""
           },
           "bgcolor": "#E5ECF6",
           "radialaxis": {
            "gridcolor": "white",
            "linecolor": "white",
            "ticks": ""
           }
          },
          "scene": {
           "xaxis": {
            "backgroundcolor": "#E5ECF6",
            "gridcolor": "white",
            "gridwidth": 2,
            "linecolor": "white",
            "showbackground": true,
            "ticks": "",
            "zerolinecolor": "white"
           },
           "yaxis": {
            "backgroundcolor": "#E5ECF6",
            "gridcolor": "white",
            "gridwidth": 2,
            "linecolor": "white",
            "showbackground": true,
            "ticks": "",
            "zerolinecolor": "white"
           },
           "zaxis": {
            "backgroundcolor": "#E5ECF6",
            "gridcolor": "white",
            "gridwidth": 2,
            "linecolor": "white",
            "showbackground": true,
            "ticks": "",
            "zerolinecolor": "white"
           }
          },
          "shapedefaults": {
           "line": {
            "color": "#2a3f5f"
           }
          },
          "ternary": {
           "aaxis": {
            "gridcolor": "white",
            "linecolor": "white",
            "ticks": ""
           },
           "baxis": {
            "gridcolor": "white",
            "linecolor": "white",
            "ticks": ""
           },
           "bgcolor": "#E5ECF6",
           "caxis": {
            "gridcolor": "white",
            "linecolor": "white",
            "ticks": ""
           }
          },
          "title": {
           "x": 0.05
          },
          "xaxis": {
           "automargin": true,
           "gridcolor": "white",
           "linecolor": "white",
           "ticks": "",
           "title": {
            "standoff": 15
           },
           "zerolinecolor": "white",
           "zerolinewidth": 2
          },
          "yaxis": {
           "automargin": true,
           "gridcolor": "white",
           "linecolor": "white",
           "ticks": "",
           "title": {
            "standoff": 15
           },
           "zerolinecolor": "white",
           "zerolinewidth": 2
          }
         }
        },
        "title": {
         "text": "Training and Validation Loss"
        },
        "xaxis": {
         "title": {
          "text": "Epochs"
         }
        },
        "yaxis": {
         "title": {
          "text": "Loss"
         }
        }
       }
      }
     },
     "metadata": {},
     "output_type": "display_data"
    }
   ],
   "source": [
    "fig = go.Figure(data=[\n",
    "    go.Scatter(y=history[\"loss\"], name=\"Training Loss\", mode=\"lines\"),\n",
    "    go.Scatter(y=history[\"val_loss\"], name=\"Validation Loss\", mode=\"lines\")\n",
    "])\n",
    "fig.update_layout(title=\"Training and Validation Loss\", xaxis_title=\"Epochs\", yaxis_title=\"Loss\")\n",
    "fig.show()"
   ]
  },
  {
   "cell_type": "markdown",
   "metadata": {},
   "source": [
    "Adding dropout increases the training loss because dropout is in effect during training and blocks part of the information flow from reaching the other neurons.\n",
    "\n",
    "However there does not seem to be any negative effect on the validation loss."
   ]
  },
  {
   "cell_type": "code",
   "execution_count": 21,
   "metadata": {},
   "outputs": [
    {
     "name": "stdout",
     "output_type": "stream",
     "text": [
      "torch.Size([16, 784])\n"
     ]
    }
   ],
   "source": [
    "first_layer_weights = model_dropout.fc1.weight.data\n",
    "print(first_layer_weights.shape)  # Shape should be [16, 784]"
   ]
  },
  {
   "cell_type": "code",
   "execution_count": 22,
   "metadata": {},
   "outputs": [
    {
     "data": {
      "image/png": "[encoded data removed]",
      "text/plain": [
       "<Figure size 1000x1000 with 16 Axes>"
      ]
     },
     "metadata": {},
     "output_type": "display_data"
    }
   ],
   "source": [
    "fig, axes = plt.subplots(4, 4, figsize=(10, 10))\n",
    "for i, ax in enumerate(axes.flat):\n",
    "    img = first_layer_weights[i].view(28, 28).cpu().numpy()\n",
    "    ax.imshow(img, cmap='gray')\n",
    "    ax.axis('off')\n",
    "plt.show()"
   ]
  },
  {
   "cell_type": "markdown",
   "metadata": {},
   "source": [
    "In terms of feature extraction in the first layer, it seems that drop out helped even things out across neurons."
   ]
  },
  {
   "cell_type": "markdown",
   "metadata": {},
   "source": [
    "## Conclusion\n",
    "\n",
    "Analyzing the first-layer weights helps us understand what patterns the model is learning from the MNIST images. While it’s not as intuitive as human perception, it provides insights into feature extraction in neural networks."
   ]
  }
 ],
 "metadata": {
  "accelerator": "GPU",
  "colab": {
   "authorship_tag": "ABX9TyP07ZHaoQA9HjxCqSAx5Ss/",
   "collapsed_sections": [],
   "name": "02-Practice_neural_networks_solution.ipynb",
   "provenance": [],
   "toc_visible": true
  },
  "kernelspec": {
   "display_name": "pytorch",
   "language": "python",
   "name": "python3"
  },
  "language_info": {
   "codemirror_mode": {
    "name": "ipython",
    "version": 3
   },
   "file_extension": ".py",
   "mimetype": "text/x-python",
   "name": "python",
   "nbconvert_exporter": "python",
   "pygments_lexer": "ipython3",
   "version": "3.10.16"
  }
 },
 "nbformat": 4,
 "nbformat_minor": 0
}
