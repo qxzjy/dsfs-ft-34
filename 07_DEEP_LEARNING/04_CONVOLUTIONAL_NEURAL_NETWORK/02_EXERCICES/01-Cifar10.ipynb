{
 "cells": [
  {
   "cell_type": "markdown",
   "metadata": {
    "id": "XkKA394VL3ia"
   },
   "source": [
    "# Cifar10\n",
    "\n",
    "In this exercise we will try to create a CNN that will classify not 2 but 10 different image labels. We get the images from the dataset named [Cifar10](http://www.cs.utoronto.ca/~kriz/cifar.html) "
   ]
  },
  {
   "cell_type": "markdown",
   "metadata": {
    "id": "4FfjxcBKMHT2"
   },
   "source": [
    "* Import :\n",
    "  * pytorch\n",
    "  * Numpy \n",
    "  * Matplotlib.pyplot "
   ]
  },
  {
   "cell_type": "code",
   "execution_count": 30,
   "metadata": {
    "colab": {
     "base_uri": "https://localhost:8080/",
     "height": 35
    },
    "executionInfo": {
     "elapsed": 2220,
     "status": "ok",
     "timestamp": 1614936898644,
     "user": {
      "displayName": "Charles Tanguy",
      "photoUrl": "",
      "userId": "11930294859591867631"
     },
     "user_tz": -60
    },
    "id": "kY4hBHj2EpH-",
    "outputId": "85f749d7-ae3c-4c91-b4ca-7cab44721229"
   },
   "outputs": [
    {
     "name": "stdout",
     "output_type": "stream",
     "text": [
      "Using mps device\n"
     ]
    }
   ],
   "source": [
    "from torch.utils.data import DataLoader, Dataset, random_split\n",
    "import torch\n",
    "import torch.optim as optim\n",
    "import torchvision.transforms as transforms\n",
    "from torchinfo import summary\n",
    "from PIL import Image\n",
    "from io import BytesIO\n",
    "import matplotlib.pyplot as plt\n",
    "import pandas as pd\n",
    "import os\n",
    "import requests\n",
    "import zipfile\n",
    "import torch.nn as nn\n",
    "\n",
    "device = torch.accelerator.current_accelerator().type if torch.accelerator.is_available() else \"cpu\"\n",
    "print(f\"Using {device} device\")"
   ]
  },
  {
   "cell_type": "markdown",
   "metadata": {
    "id": "0UURKRGaMc14"
   },
   "source": [
    "* Load the image files into your storage with this link `https://full-stack-assets.s3.eu-west-3.amazonaws.com/datasets/M08/cifar-10/train.zip`"
   ]
  },
  {
   "cell_type": "code",
   "execution_count": null,
   "metadata": {},
   "outputs": [
    {
     "name": "stdout",
     "output_type": "stream",
     "text": [
      "Download complete.\n",
      "Extraction complete.\n"
     ]
    }
   ],
   "source": [
    "\n",
    "# Define the URL and the output path\n",
    "url = \"https://full-stack-assets.s3.eu-west-3.amazonaws.com/datasets/M08/cifar-10/train.zip\"\n",
    "output_path = \"cifar-10.zip\"\n",
    "extract_dir = \"./cifar-10\"\n",
    "def load_and_extract_files(url,output_path,extract_dir):\n",
    "    # Download the dataset\n",
    "    if not os.path.exists(output_path):\n",
    "        response = requests.get(url, stream=True)\n",
    "        with open(output_path, \"wb\") as file:\n",
    "            for chunk in response.iter_content(chunk_size=1024):\n",
    "                if chunk:\n",
    "                    file.write(chunk)\n",
    "        print(\"Download complete.\")\n",
    "\n",
    "    # Extract the dataset\n",
    "    if not os.path.exists(extract_dir):\n",
    "        with zipfile.ZipFile(output_path, \"r\") as zip_ref:\n",
    "            zip_ref.extractall(f\"./{extract_dir}\")\n",
    "        print(\"Extraction complete.\")\n",
    "\n",
    "load_and_extract_files(url,output_path,extract_dir)"
   ]
  },
  {
   "cell_type": "markdown",
   "metadata": {
    "id": "NDNnupOYkr-o"
   },
   "source": [
    "* Import the dataframe containing the labels from this link `https://full-stack-assets.s3.eu-west-3.amazonaws.com/datasets/M08/cifar-10/trainLabels.csv`"
   ]
  },
  {
   "cell_type": "markdown",
   "metadata": {
    "id": "y703AcW3lL5p"
   },
   "source": [
    "* Turn the `id` column into string type and add `.png` at the end of each string for the filenames to be complete"
   ]
  },
  {
   "cell_type": "code",
   "execution_count": null,
   "metadata": {
    "colab": {
     "base_uri": "https://localhost:8080/",
     "height": 202
    },
    "executionInfo": {
     "elapsed": 11531,
     "status": "ok",
     "timestamp": 1614936907993,
     "user": {
      "displayName": "Charles Tanguy",
      "photoUrl": "",
      "userId": "11930294859591867631"
     },
     "user_tz": -60
    },
    "id": "7Xob5Xy7krCB",
    "outputId": "6d4cf6fc-1f5f-49f2-cb45-66b694535189"
   },
   "outputs": [
    {
     "data": {
      "text/html": [
       "<div>\n",
       "<style scoped>\n",
       "    .dataframe tbody tr th:only-of-type {\n",
       "        vertical-align: middle;\n",
       "    }\n",
       "\n",
       "    .dataframe tbody tr th {\n",
       "        vertical-align: top;\n",
       "    }\n",
       "\n",
       "    .dataframe thead th {\n",
       "        text-align: right;\n",
       "    }\n",
       "</style>\n",
       "<table border=\"1\" class=\"dataframe\">\n",
       "  <thead>\n",
       "    <tr style=\"text-align: right;\">\n",
       "      <th></th>\n",
       "      <th>id</th>\n",
       "      <th>label</th>\n",
       "    </tr>\n",
       "  </thead>\n",
       "  <tbody>\n",
       "    <tr>\n",
       "      <th>0</th>\n",
       "      <td>1.png</td>\n",
       "      <td>frog</td>\n",
       "    </tr>\n",
       "    <tr>\n",
       "      <th>1</th>\n",
       "      <td>2.png</td>\n",
       "      <td>truck</td>\n",
       "    </tr>\n",
       "    <tr>\n",
       "      <th>2</th>\n",
       "      <td>3.png</td>\n",
       "      <td>truck</td>\n",
       "    </tr>\n",
       "    <tr>\n",
       "      <th>3</th>\n",
       "      <td>4.png</td>\n",
       "      <td>deer</td>\n",
       "    </tr>\n",
       "    <tr>\n",
       "      <th>4</th>\n",
       "      <td>5.png</td>\n",
       "      <td>automobile</td>\n",
       "    </tr>\n",
       "  </tbody>\n",
       "</table>\n",
       "</div>"
      ],
      "text/plain": [
       "      id       label\n",
       "0  1.png        frog\n",
       "1  2.png       truck\n",
       "2  3.png       truck\n",
       "3  4.png        deer\n",
       "4  5.png  automobile"
      ]
     },
     "execution_count": 3,
     "metadata": {},
     "output_type": "execute_result"
    }
   ],
   "source": [
    "data = pd.read_csv(\"https://full-stack-assets.s3.eu-west-3.amazonaws.com/datasets/M08/cifar-10/trainLabels.csv\")\n",
    "data[\"id\"] = data[\"id\"].astype(str) + \".png\"\n",
    "data.head()"
   ]
  },
  {
   "cell_type": "markdown",
   "metadata": {
    "id": "zVN3LPgeM0hP"
   },
   "source": [
    "* Load and display an image of your dataset "
   ]
  },
  {
   "cell_type": "code",
   "execution_count": 8,
   "metadata": {
    "colab": {
     "base_uri": "https://localhost:8080/",
     "height": 283
    },
    "executionInfo": {
     "elapsed": 17063,
     "status": "ok",
     "timestamp": 1614936913562,
     "user": {
      "displayName": "Charles Tanguy",
      "photoUrl": "",
      "userId": "11930294859591867631"
     },
     "user_tz": -60
    },
    "id": "4afIjIKpMw9u",
    "outputId": "fff8b4f8-ea22-4164-c256-f2112b5850f1"
   },
   "outputs": [
    {
     "data": {
      "image/png": "[encoded data removed]",
      "text/plain": [
       "<Figure size 640x480 with 1 Axes>"
      ]
     },
     "metadata": {},
     "output_type": "display_data"
    }
   ],
   "source": [
    "image = Image.open(\"./train/13.png\")\n",
    "\n",
    "plt.imshow(image)\n",
    "plt.show()"
   ]
  },
  {
   "cell_type": "markdown",
   "metadata": {
    "id": "CCFYjDTzM8Yh"
   },
   "source": [
    "* View a random image of each of your labels in your dataset * View a random image of each of your labels in your dataset "
   ]
  },
  {
   "cell_type": "code",
   "execution_count": null,
   "metadata": {
    "colab": {
     "base_uri": "https://localhost:8080/",
     "height": 1000
    },
    "executionInfo": {
     "elapsed": 19313,
     "status": "ok",
     "timestamp": 1614936915831,
     "user": {
      "displayName": "Charles Tanguy",
      "photoUrl": "",
      "userId": "11930294859591867631"
     },
     "user_tz": -60
    },
    "id": "mhIEqEPAn1vf",
    "outputId": "c35e35b0-a5ec-427f-e400-3023a56b5c4a"
   },
   "outputs": [
    {
     "data": {
      "image/png": "[encoded data removed]",
      "text/plain": [
       "<Figure size 1000x2500 with 10 Axes>"
      ]
     },
     "metadata": {},
     "output_type": "display_data"
    }
   ],
   "source": [
    "data_per_label = data.loc[data[\"label\"].duplicated()==False]\n",
    "\n",
    "fig, axes = plt.subplots(nrows=5, ncols=2, figsize=(10,25))\n",
    "\n",
    "for i in range(5):\n",
    "  for j in range(2):\n",
    "    filename = \"./train/\" + data_per_label.iloc[i+j*5,0]\n",
    "    image = Image.open(filename)\n",
    "    axes[i,j].imshow(image)\n",
    "    axes[i,j].title.set_text(data_per_label.iloc[i+j*5,1])"
   ]
  },
  {
   "cell_type": "markdown",
   "metadata": {
    "id": "HiNQDbSMpoA2"
   },
   "source": [
    "* Define the transformations you will be applying to your images. Use a target size of `(32,32)"
   ]
  },
  {
   "cell_type": "code",
   "execution_count": 10,
   "metadata": {},
   "outputs": [],
   "source": [
    "# Apply a series of transformations to the images\n",
    "transform = transforms.Compose([\n",
    "    #transforms.RandomRotation(180),  # Randomly rotate images up to 180 degrees\n",
    "    transforms.RandomHorizontalFlip(),  # Randomly flip images horizontally\n",
    "    transforms.RandomVerticalFlip(),  # # Randomly flip images vertically\n",
    "    transforms.ColorJitter(brightness=0.5, contrast=0.5),  # Randomly adjust brightness and contrast\n",
    "    transforms.Resize([32,32]), # Resize images to 32x32 pixels\n",
    "    transforms.ToTensor(), # Convert images to tensors\n",
    "])"
   ]
  },
  {
   "cell_type": "markdown",
   "metadata": {
    "id": "j3jtp7QZqqdK"
   },
   "source": [
    "* Set up one generator for the train data and one for the test data using the method that lets you generate data with a dataframe. Since we have many images in this dataset, we will create large batches of 64 images."
   ]
  },
  {
   "cell_type": "code",
   "execution_count": 24,
   "metadata": {
    "colab": {
     "base_uri": "https://localhost:8080/"
    },
    "executionInfo": {
     "elapsed": 19541,
     "status": "ok",
     "timestamp": 1614936916085,
     "user": {
      "displayName": "Charles Tanguy",
      "photoUrl": "",
      "userId": "11930294859591867631"
     },
     "user_tz": -60
    },
    "id": "7DvOdc3uq02_",
    "outputId": "49c18221-7347-4164-8ff4-b5674424d9b7"
   },
   "outputs": [],
   "source": [
    "# Define a custom PyTorch Dataset class for loading images\n",
    "\n",
    "# Create a dictionary mapping class labels to indices\n",
    "classes_map = {label : index for index, label in enumerate(data[\"label\"].unique())}\n",
    "\n",
    "class ImageDataset(Dataset):\n",
    "    def __init__(self, dataframe, img_dir, transform=None): # Initialize the dataset with a DataFrame, image directory, and optional transformations\n",
    "        self.dataframe = dataframe\n",
    "        self.img_dir = img_dir\n",
    "        self.transform = transform\n",
    "\n",
    "    def __len__(self): # Return the number of samples in the dataset\n",
    "        return len(self.dataframe)\n",
    "\n",
    "    def __getitem__(self, idx): \n",
    "        img_name = os.path.join(self.img_dir, self.dataframe.iloc[idx, 0]) # Load an image file and retrieve its corresponding label\n",
    "        image = Image.open(img_name)\n",
    "        label = classes_map[self.dataframe.loc[idx, \"label\"]]\n",
    "        if self.transform: # Apply transformations if specified\n",
    "            image = self.transform(image)\n",
    "        return image, label # Return the transformed image and its label\n",
    "\n",
    "# Create a dataset instance using the DataFrame and image directory\n",
    "df_dataset = ImageDataset(dataframe=data, img_dir=\"./train\", transform=transform)\n",
    "\n",
    "# Split dataset into training (80%) and validation (20%) subsets\n",
    "train_size = int(0.8 * len(df_dataset))\n",
    "val_size = int(0.2 * len(df_dataset))\n",
    "train_dataset, val_dataset = random_split(df_dataset, [train_size, val_size])\n",
    "\n",
    "# Create DataLoaders for training and validation sets\n",
    "train_loader = DataLoader(train_dataset, batch_size=32, shuffle=True)\n",
    "val_loader = DataLoader(val_dataset, batch_size=32, shuffle=False)"
   ]
  },
  {
   "cell_type": "code",
   "execution_count": 25,
   "metadata": {},
   "outputs": [
    {
     "data": {
      "text/plain": [
       "[tensor([[[[0.5647, 0.5216, 0.4706,  ..., 0.4627, 0.4784, 0.4706],\n",
       "           [0.5529, 0.5333, 0.4902,  ..., 0.4745, 0.4863, 0.4863],\n",
       "           [0.5804, 0.5608, 0.5529,  ..., 0.5137, 0.5137, 0.5020],\n",
       "           ...,\n",
       "           [0.2314, 0.2314, 0.2275,  ..., 0.2431, 0.2471, 0.2431],\n",
       "           [0.2275, 0.2314, 0.2314,  ..., 0.2471, 0.2471, 0.2431],\n",
       "           [0.2275, 0.2314, 0.2275,  ..., 0.2471, 0.2471, 0.2549]],\n",
       " \n",
       "          [[0.5255, 0.4824, 0.4275,  ..., 0.4392, 0.4549, 0.4549],\n",
       "           [0.5176, 0.4902, 0.4549,  ..., 0.4549, 0.4627, 0.4627],\n",
       "           [0.5333, 0.5176, 0.5137,  ..., 0.4902, 0.4863, 0.4784],\n",
       "           ...,\n",
       "           [0.2275, 0.2275, 0.2235,  ..., 0.2392, 0.2431, 0.2392],\n",
       "           [0.2235, 0.2275, 0.2275,  ..., 0.2431, 0.2431, 0.2392],\n",
       "           [0.2235, 0.2275, 0.2235,  ..., 0.2471, 0.2471, 0.2471]],\n",
       " \n",
       "          [[0.4275, 0.4000, 0.3647,  ..., 0.3647, 0.3765, 0.3647],\n",
       "           [0.3961, 0.3843, 0.3608,  ..., 0.3686, 0.3725, 0.3686],\n",
       "           [0.4078, 0.3922, 0.3922,  ..., 0.4000, 0.4000, 0.3961],\n",
       "           ...,\n",
       "           [0.2196, 0.2196, 0.2157,  ..., 0.2314, 0.2392, 0.2314],\n",
       "           [0.2157, 0.2196, 0.2196,  ..., 0.2392, 0.2392, 0.2314],\n",
       "           [0.2157, 0.2196, 0.2157,  ..., 0.2392, 0.2392, 0.2431]]],\n",
       " \n",
       " \n",
       "         [[[0.1137, 0.1137, 0.1137,  ..., 0.1137, 0.1216, 0.1137],\n",
       "           [0.1137, 0.1137, 0.1137,  ..., 0.1137, 0.1137, 0.1137],\n",
       "           [0.1137, 0.1137, 0.1137,  ..., 0.1137, 0.1137, 0.1137],\n",
       "           ...,\n",
       "           [0.3216, 0.3412, 0.3412,  ..., 0.3490, 0.3451, 0.3373],\n",
       "           [0.3098, 0.3216, 0.3255,  ..., 0.3333, 0.3255, 0.3216],\n",
       "           [0.2941, 0.3020, 0.3137,  ..., 0.3137, 0.3137, 0.3020]],\n",
       " \n",
       "          [[0.1451, 0.1451, 0.1451,  ..., 0.1490, 0.1490, 0.1451],\n",
       "           [0.1451, 0.1451, 0.1451,  ..., 0.1490, 0.1451, 0.1451],\n",
       "           [0.1451, 0.1451, 0.1451,  ..., 0.1490, 0.1451, 0.1451],\n",
       "           ...,\n",
       "           [0.3451, 0.3490, 0.3569,  ..., 0.3608, 0.3490, 0.3490],\n",
       "           [0.3373, 0.3412, 0.3490,  ..., 0.3490, 0.3412, 0.3412],\n",
       "           [0.3333, 0.3373, 0.3451,  ..., 0.3412, 0.3412, 0.3412]],\n",
       " \n",
       "          [[0.1569, 0.1569, 0.1569,  ..., 0.1608, 0.1608, 0.1569],\n",
       "           [0.1569, 0.1569, 0.1569,  ..., 0.1608, 0.1569, 0.1569],\n",
       "           [0.1569, 0.1569, 0.1569,  ..., 0.1608, 0.1569, 0.1569],\n",
       "           ...,\n",
       "           [0.3412, 0.3412, 0.3490,  ..., 0.3569, 0.3490, 0.3451],\n",
       "           [0.3412, 0.3412, 0.3451,  ..., 0.3490, 0.3451, 0.3412],\n",
       "           [0.3412, 0.3412, 0.3490,  ..., 0.3490, 0.3490, 0.3490]]],\n",
       " \n",
       " \n",
       "         [[[0.5647, 0.5490, 0.5451,  ..., 0.5412, 0.5412, 0.5412],\n",
       "           [0.5686, 0.5529, 0.5529,  ..., 0.5451, 0.5412, 0.5373],\n",
       "           [0.5725, 0.5647, 0.5608,  ..., 0.5451, 0.5412, 0.5529],\n",
       "           ...,\n",
       "           [0.4078, 0.4118, 0.4118,  ..., 0.2196, 0.2039, 0.1804],\n",
       "           [0.3961, 0.3922, 0.3922,  ..., 0.2314, 0.2196, 0.2039],\n",
       "           [0.4588, 0.4471, 0.4510,  ..., 0.2314, 0.2196, 0.2078]],\n",
       " \n",
       "          [[0.5804, 0.5647, 0.5647,  ..., 0.5569, 0.5569, 0.5686],\n",
       "           [0.5843, 0.5686, 0.5686,  ..., 0.5686, 0.5647, 0.5804],\n",
       "           [0.5922, 0.5804, 0.5804,  ..., 0.5765, 0.5686, 0.5765],\n",
       "           ...,\n",
       "           [0.3922, 0.3804, 0.3765,  ..., 0.2039, 0.1922, 0.1725],\n",
       "           [0.3804, 0.3725, 0.3686,  ..., 0.2118, 0.2000, 0.1882],\n",
       "           [0.4353, 0.4235, 0.4314,  ..., 0.2118, 0.2000, 0.1922]],\n",
       " \n",
       "          [[0.6275, 0.6078, 0.6078,  ..., 0.6078, 0.6078, 0.6078],\n",
       "           [0.6353, 0.6196, 0.6157,  ..., 0.6157, 0.6078, 0.6039],\n",
       "           [0.6353, 0.6314, 0.6235,  ..., 0.6196, 0.6118, 0.6078],\n",
       "           ...,\n",
       "           [0.3647, 0.3608, 0.3529,  ..., 0.1686, 0.1608, 0.1451],\n",
       "           [0.3686, 0.3686, 0.3608,  ..., 0.1686, 0.1686, 0.1569],\n",
       "           [0.4314, 0.4196, 0.4196,  ..., 0.1686, 0.1647, 0.1647]]],\n",
       " \n",
       " \n",
       "         ...,\n",
       " \n",
       " \n",
       "         [[[0.9882, 0.9843, 0.9843,  ..., 0.9882, 0.9882, 0.9882],\n",
       "           [0.9882, 0.9843, 0.9843,  ..., 0.9882, 0.9882, 0.9882],\n",
       "           [0.9882, 0.9843, 0.9882,  ..., 0.9882, 0.9882, 0.9882],\n",
       "           ...,\n",
       "           [0.9882, 0.9882, 0.9882,  ..., 0.9804, 0.9804, 0.9843],\n",
       "           [0.9882, 0.9882, 0.9882,  ..., 0.9882, 0.9882, 0.9882],\n",
       "           [0.9882, 0.9804, 0.9804,  ..., 0.9804, 0.9804, 0.9804]],\n",
       " \n",
       "          [[0.9882, 0.9843, 0.9843,  ..., 0.9882, 0.9882, 0.9882],\n",
       "           [0.9882, 0.9843, 0.9843,  ..., 0.9882, 0.9882, 0.9882],\n",
       "           [0.9882, 0.9843, 0.9882,  ..., 0.9882, 0.9882, 0.9882],\n",
       "           ...,\n",
       "           [0.9882, 0.9882, 0.9882,  ..., 0.9804, 0.9804, 0.9843],\n",
       "           [0.9882, 0.9882, 0.9882,  ..., 0.9882, 0.9882, 0.9882],\n",
       "           [0.9882, 0.9804, 0.9804,  ..., 0.9804, 0.9804, 0.9804]],\n",
       " \n",
       "          [[0.9882, 0.9843, 0.9843,  ..., 0.9882, 0.9882, 0.9882],\n",
       "           [0.9882, 0.9843, 0.9843,  ..., 0.9882, 0.9882, 0.9882],\n",
       "           [0.9882, 0.9843, 0.9882,  ..., 0.9882, 0.9882, 0.9882],\n",
       "           ...,\n",
       "           [0.9882, 0.9882, 0.9882,  ..., 0.9804, 0.9804, 0.9843],\n",
       "           [0.9882, 0.9882, 0.9882,  ..., 0.9882, 0.9882, 0.9882],\n",
       "           [0.9882, 0.9804, 0.9804,  ..., 0.9804, 0.9804, 0.9804]]],\n",
       " \n",
       " \n",
       "         [[[0.4196, 0.4039, 0.4078,  ..., 0.4510, 0.4510, 0.4510],\n",
       "           [0.4196, 0.4000, 0.4039,  ..., 0.4039, 0.4039, 0.4039],\n",
       "           [0.3608, 0.3176, 0.3373,  ..., 0.3529, 0.3608, 0.3608],\n",
       "           ...,\n",
       "           [0.9373, 0.9373, 0.9373,  ..., 0.9373, 0.9373, 0.9373],\n",
       "           [0.9373, 0.9373, 0.9373,  ..., 0.9373, 0.9373, 0.9373],\n",
       "           [0.9373, 0.9373, 0.9373,  ..., 0.9373, 0.9373, 0.9373]],\n",
       " \n",
       "          [[0.4431, 0.4314, 0.4431,  ..., 0.4235, 0.4196, 0.4196],\n",
       "           [0.4627, 0.4392, 0.4314,  ..., 0.3961, 0.3922, 0.3922],\n",
       "           [0.4196, 0.3569, 0.3608,  ..., 0.3608, 0.3725, 0.3725],\n",
       "           ...,\n",
       "           [0.9373, 0.9373, 0.9373,  ..., 0.9373, 0.9373, 0.9373],\n",
       "           [0.9373, 0.9373, 0.9373,  ..., 0.9373, 0.9373, 0.9373],\n",
       "           [0.9373, 0.9373, 0.9373,  ..., 0.9373, 0.9373, 0.9373]],\n",
       " \n",
       "          [[0.4863, 0.4745, 0.4745,  ..., 0.4745, 0.4667, 0.4667],\n",
       "           [0.4980, 0.4745, 0.4745,  ..., 0.4314, 0.4314, 0.4314],\n",
       "           [0.4510, 0.3961, 0.4039,  ..., 0.4000, 0.4039, 0.4039],\n",
       "           ...,\n",
       "           [0.9373, 0.9373, 0.9373,  ..., 0.9373, 0.9373, 0.9373],\n",
       "           [0.9373, 0.9373, 0.9373,  ..., 0.9373, 0.9373, 0.9373],\n",
       "           [0.9373, 0.9373, 0.9373,  ..., 0.9373, 0.9373, 0.9373]]],\n",
       " \n",
       " \n",
       "         [[[0.7333, 0.7451, 0.7608,  ..., 0.6078, 0.6039, 0.5922],\n",
       "           [0.7451, 0.7529, 0.7529,  ..., 0.6118, 0.6196, 0.6157],\n",
       "           [0.7451, 0.7490, 0.7490,  ..., 0.6157, 0.6196, 0.6196],\n",
       "           ...,\n",
       "           [0.7294, 0.7216, 0.7176,  ..., 0.7059, 0.7059, 0.7059],\n",
       "           [0.7216, 0.7294, 0.7216,  ..., 0.7373, 0.7333, 0.7294],\n",
       "           [0.7294, 0.7412, 0.7294,  ..., 0.7608, 0.7686, 0.7529]],\n",
       " \n",
       "          [[0.7647, 0.7804, 0.7922,  ..., 0.6667, 0.6510, 0.6471],\n",
       "           [0.7765, 0.7922, 0.7922,  ..., 0.6667, 0.6706, 0.6706],\n",
       "           [0.7804, 0.7922, 0.7843,  ..., 0.6667, 0.6667, 0.6706],\n",
       "           ...,\n",
       "           [0.7922, 0.7843, 0.7804,  ..., 0.7608, 0.7490, 0.7529],\n",
       "           [0.7843, 0.7961, 0.7843,  ..., 0.7804, 0.7765, 0.7725],\n",
       "           [0.7961, 0.8039, 0.7961,  ..., 0.7961, 0.8039, 0.7922]],\n",
       " \n",
       "          [[0.7922, 0.8039, 0.8157,  ..., 0.7137, 0.7020, 0.6980],\n",
       "           [0.8078, 0.8235, 0.8157,  ..., 0.7176, 0.7216, 0.7216],\n",
       "           [0.8157, 0.8235, 0.8157,  ..., 0.7216, 0.7294, 0.7333],\n",
       "           ...,\n",
       "           [0.8471, 0.8431, 0.8392,  ..., 0.8157, 0.8157, 0.8157],\n",
       "           [0.8431, 0.8549, 0.8431,  ..., 0.8392, 0.8353, 0.8314],\n",
       "           [0.8549, 0.8627, 0.8588,  ..., 0.8549, 0.8627, 0.8431]]]]),\n",
       " tensor([2, 9, 1, 3, 0, 3, 9, 2, 3, 5, 9, 0, 1, 8, 2, 5, 5, 4, 1, 3, 3, 2, 9, 7,\n",
       "         9, 1, 6, 9, 2, 1, 9, 6])]"
      ]
     },
     "execution_count": 25,
     "metadata": {},
     "output_type": "execute_result"
    }
   ],
   "source": [
    "next(iter(train_loader))"
   ]
  },
  {
   "cell_type": "markdown",
   "metadata": {
    "id": "isnlHbswrlsD"
   },
   "source": [
    "* Display a batch of data of train data"
   ]
  },
  {
   "cell_type": "code",
   "execution_count": null,
   "metadata": {
    "colab": {
     "base_uri": "https://localhost:8080/",
     "height": 1000
    },
    "executionInfo": {
     "elapsed": 29636,
     "status": "ok",
     "timestamp": 1614936926195,
     "user": {
      "displayName": "Charles Tanguy",
      "photoUrl": "",
      "userId": "11930294859591867631"
     },
     "user_tz": -60
    },
    "id": "yuFL8Nu_rtCs",
    "outputId": "1bf22104-b518-47cb-c140-ab5ce5596520"
   },
   "outputs": [
    {
     "data": {
      "image/png": "[encoded data removed]",
      "text/plain": [
       "<Figure size 1000x1000 with 16 Axes>"
      ]
     },
     "metadata": {},
     "output_type": "display_data"
    }
   ],
   "source": [
    "images, labels = next(iter(train_loader))\n",
    "\n",
    "fig, ax = plt.subplots(4, 4, figsize=(10, 10))\n",
    "\n",
    "for i in range(16):\n",
    "    img = images[i].permute(1, 2, 0).numpy()\n",
    "    ax[i // 4, i % 4].imshow(img)\n",
    "    ax[i // 4, i % 4].set_title(f\"Label: {labels[i]}\")\n",
    "    ax[i // 4, i % 4].axis(\"off\")\n",
    "\n",
    "plt.show()"
   ]
  },
  {
   "cell_type": "markdown",
   "metadata": {
    "id": "ZiwKNpZjsYQZ"
   },
   "source": [
    "* How many times can you divide the images by two along each axis until you reduce the images to single pixel?"
   ]
  },
  {
   "cell_type": "code",
   "execution_count": 21,
   "metadata": {
    "colab": {
     "base_uri": "https://localhost:8080/"
    },
    "executionInfo": {
     "elapsed": 29622,
     "status": "ok",
     "timestamp": 1614936926199,
     "user": {
      "displayName": "Charles Tanguy",
      "photoUrl": "",
      "userId": "11930294859591867631"
     },
     "user_tz": -60
    },
    "id": "D_qA4EsZs0QD",
    "outputId": "23df0038-bed7-458d-92d3-923b900459b6"
   },
   "outputs": [
    {
     "name": "stdout",
     "output_type": "stream",
     "text": [
      "32 -> 16.0\n",
      "16.0 -> 8.0\n",
      "8.0 -> 4.0\n",
      "4.0 -> 2.0\n",
      "2.0 -> 1.0\n"
     ]
    }
   ],
   "source": [
    "a = 32\n",
    "\n",
    "while a>1 :\n",
    "  print(a, \"->\" , a/2)\n",
    "  a=a/2"
   ]
  },
  {
   "cell_type": "markdown",
   "metadata": {
    "id": "TkoJ-9MWtYMj"
   },
   "source": [
    "* Build a neural network with a single convolution layer with 32 neurons, kernel size `(3,3)`, padding `\"same\"`, and activation `\"relu\"`, a max pooling layer, a flatten layer, then finish up the network with a dense layer that can predict the target variable."
   ]
  },
  {
   "cell_type": "code",
   "execution_count": 23,
   "metadata": {
    "colab": {
     "base_uri": "https://localhost:8080/"
    },
    "executionInfo": {
     "elapsed": 29606,
     "status": "ok",
     "timestamp": 1614936926200,
     "user": {
      "displayName": "Charles Tanguy",
      "photoUrl": "",
      "userId": "11930294859591867631"
     },
     "user_tz": -60
    },
    "id": "LYRrj6lwt7WH",
    "outputId": "f8045b52-1d21-4004-cb51-30c9959803f6"
   },
   "outputs": [
    {
     "name": "stdout",
     "output_type": "stream",
     "text": [
      "CNN(\n",
      "  (conv1): Conv2d(3, 32, kernel_size=(3, 3), stride=(1, 1), padding=same)\n",
      "  (pool): MaxPool2d(kernel_size=2, stride=2, padding=0, dilation=1, ceil_mode=False)\n",
      "  (flatten): Flatten(start_dim=1, end_dim=-1)\n",
      "  (fc): Linear(in_features=8192, out_features=10, bias=True)\n",
      "  (softmax): Softmax(dim=1)\n",
      ")\n"
     ]
    }
   ],
   "source": [
    "# Define a simple CNN model in PyTorch\n",
    "class CNN(nn.Module):\n",
    "    def __init__(self):\n",
    "        super(CNN, self).__init__()\n",
    "        # Convolutional layer: 32 filters, kernel size 3x3, padding \"same\"\n",
    "        self.conv1 = nn.Conv2d(in_channels=3, out_channels=32, kernel_size=3, padding=\"same\")\n",
    "        self.pool = nn.MaxPool2d(kernel_size=2, stride=2)  # Max pooling layer\n",
    "        self.flatten = nn.Flatten()  # Flatten layer\n",
    "        self.fc = nn.Linear(32 * 16 * 16, 10)  # Fully connected layer for 10 classes\n",
    "        self.softmax = nn.Softmax(dim=1)  # Softmax activation for classification\n",
    "    \n",
    "    def forward(self, x):\n",
    "        x = torch.relu(self.conv1(x))  # Apply ReLU activation to the convolution output\n",
    "        x = self.pool(x)  # Apply max pooling\n",
    "        x = self.flatten(x)  # Flatten the feature maps\n",
    "        x = self.fc(x)  # Fully connected layer\n",
    "        x = self.softmax(x)  # Apply softmax activation\n",
    "        return x\n",
    "\n",
    "# Instantiate the model\n",
    "model = CNN()\n",
    "print(model)  # Print model summary"
   ]
  },
  {
   "cell_type": "code",
   "execution_count": null,
   "metadata": {},
   "outputs": [
    {
     "data": {
      "text/plain": [
       "==========================================================================================\n",
       "Layer (type:depth-idx)                   Output Shape              Param #\n",
       "==========================================================================================\n",
       "CNN                                      [1, 10]                   --\n",
       "├─Conv2d: 1-1                            [1, 32, 32, 32]           896\n",
       "├─MaxPool2d: 1-2                         [1, 32, 16, 16]           --\n",
       "├─Flatten: 1-3                           [1, 8192]                 --\n",
       "├─Linear: 1-4                            [1, 10]                   81,930\n",
       "├─Softmax: 1-5                           [1, 10]                   --\n",
       "==========================================================================================\n",
       "Total params: 82,826\n",
       "Trainable params: 82,826\n",
       "Non-trainable params: 0\n",
       "Total mult-adds (M): 1.00\n",
       "==========================================================================================\n",
       "Input size (MB): 0.01\n",
       "Forward/backward pass size (MB): 0.26\n",
       "Params size (MB): 0.33\n",
       "Estimated Total Size (MB): 0.61\n",
       "=========================================================================================="
      ]
     },
     "execution_count": 26,
     "metadata": {},
     "output_type": "execute_result"
    }
   ],
   "source": [
    "\n",
    "# Print model summary\n",
    "summary(model, input_size=(1, 3, 32, 32))  # (batch_size, input_features)"
   ]
  },
  {
   "cell_type": "markdown",
   "metadata": {
    "id": "TmV_5P8hu3Rr"
   },
   "source": [
    "* Compile the model using the right loss function and metric(s) and the Adam optimizer with default learning rate"
   ]
  },
  {
   "cell_type": "code",
   "execution_count": 31,
   "metadata": {
    "executionInfo": {
     "elapsed": 29593,
     "status": "ok",
     "timestamp": 1614936926202,
     "user": {
      "displayName": "Charles Tanguy",
      "photoUrl": "",
      "userId": "11930294859591867631"
     },
     "user_tz": -60
    },
    "id": "OhOi3UsKvBYG"
   },
   "outputs": [],
   "source": [
    "# Define the loss function and optimizer\n",
    "criterion = nn.CrossEntropyLoss()  # Suitable loss function for multi-class classification\n",
    "optimizer = optim.Adam(model.parameters(), lr=0.001)  # Adam optimizer with default learning rate"
   ]
  },
  {
   "cell_type": "markdown",
   "metadata": {
    "id": "DKLsMWkawCUq"
   },
   "source": [
    "* Train the model over 50 epochs"
   ]
  },
  {
   "cell_type": "code",
   "execution_count": 32,
   "metadata": {
    "colab": {
     "base_uri": "https://localhost:8080/"
    },
    "executionInfo": {
     "elapsed": 2040789,
     "status": "ok",
     "timestamp": 1614875546296,
     "user": {
      "displayName": "Charles Tanguy",
      "photoUrl": "",
      "userId": "11930294859591867631"
     },
     "user_tz": -60
    },
    "id": "c-DjDzUOwF_T",
    "outputId": "b0c84c3a-2338-4e4c-a3cd-e1157661010c"
   },
   "outputs": [
    {
     "name": "stdout",
     "output_type": "stream",
     "text": [
      "Epoch [1/50], Loss: 2.1542, Acc: 0.3041, Val Loss: 2.1020, Val Acc: 0.3618\n",
      "Epoch [2/50], Loss: 2.0839, Acc: 0.3761, Val Loss: 2.0634, Val Acc: 0.3942\n",
      "Epoch [3/50], Loss: 2.0531, Acc: 0.4071, Val Loss: 2.0476, Val Acc: 0.4160\n",
      "Epoch [4/50], Loss: 2.0331, Acc: 0.4297, Val Loss: 2.0332, Val Acc: 0.4277\n",
      "Epoch [5/50], Loss: 2.0170, Acc: 0.4449, Val Loss: 2.0087, Val Acc: 0.4522\n",
      "Epoch [6/50], Loss: 2.0063, Acc: 0.4570, Val Loss: 2.0198, Val Acc: 0.4377\n",
      "Epoch [7/50], Loss: 1.9954, Acc: 0.4653, Val Loss: 1.9982, Val Acc: 0.4644\n",
      "Epoch [8/50], Loss: 1.9879, Acc: 0.4741, Val Loss: 1.9919, Val Acc: 0.4725\n",
      "Epoch [9/50], Loss: 1.9809, Acc: 0.4814, Val Loss: 1.9913, Val Acc: 0.4666\n",
      "Epoch [10/50], Loss: 1.9734, Acc: 0.4886, Val Loss: 2.0115, Val Acc: 0.4454\n",
      "Epoch [11/50], Loss: 1.9651, Acc: 0.4982, Val Loss: 1.9907, Val Acc: 0.4709\n",
      "Epoch [12/50], Loss: 1.9602, Acc: 0.5016, Val Loss: 1.9724, Val Acc: 0.4867\n",
      "Epoch [13/50], Loss: 1.9565, Acc: 0.5043, Val Loss: 1.9713, Val Acc: 0.4894\n",
      "Epoch [14/50], Loss: 1.9475, Acc: 0.5139, Val Loss: 1.9596, Val Acc: 0.5023\n",
      "Epoch [15/50], Loss: 1.9406, Acc: 0.5220, Val Loss: 1.9506, Val Acc: 0.5119\n",
      "Epoch [16/50], Loss: 1.9379, Acc: 0.5239, Val Loss: 1.9524, Val Acc: 0.5068\n",
      "Epoch [17/50], Loss: 1.9339, Acc: 0.5285, Val Loss: 1.9613, Val Acc: 0.4979\n",
      "Epoch [18/50], Loss: 1.9275, Acc: 0.5350, Val Loss: 1.9439, Val Acc: 0.5171\n",
      "Epoch [19/50], Loss: 1.9235, Acc: 0.5393, Val Loss: 1.9362, Val Acc: 0.5245\n",
      "Epoch [20/50], Loss: 1.9201, Acc: 0.5420, Val Loss: 1.9392, Val Acc: 0.5212\n",
      "Epoch [21/50], Loss: 1.9199, Acc: 0.5414, Val Loss: 1.9391, Val Acc: 0.5218\n",
      "Epoch [22/50], Loss: 1.9154, Acc: 0.5463, Val Loss: 1.9427, Val Acc: 0.5188\n",
      "Epoch [23/50], Loss: 1.9100, Acc: 0.5524, Val Loss: 1.9402, Val Acc: 0.5198\n",
      "Epoch [24/50], Loss: 1.9098, Acc: 0.5526, Val Loss: 1.9338, Val Acc: 0.5268\n",
      "Epoch [25/50], Loss: 1.9049, Acc: 0.5583, Val Loss: 1.9304, Val Acc: 0.5270\n",
      "Epoch [26/50], Loss: 1.9057, Acc: 0.5552, Val Loss: 1.9360, Val Acc: 0.5240\n",
      "Epoch [27/50], Loss: 1.9018, Acc: 0.5601, Val Loss: 1.9208, Val Acc: 0.5418\n",
      "Epoch [28/50], Loss: 1.9008, Acc: 0.5611, Val Loss: 1.9292, Val Acc: 0.5283\n",
      "Epoch [29/50], Loss: 1.8982, Acc: 0.5644, Val Loss: 1.9321, Val Acc: 0.5252\n",
      "Epoch [30/50], Loss: 1.8935, Acc: 0.5678, Val Loss: 1.9252, Val Acc: 0.5347\n",
      "Epoch [31/50], Loss: 1.8947, Acc: 0.5666, Val Loss: 1.9288, Val Acc: 0.5320\n",
      "Epoch [32/50], Loss: 1.8935, Acc: 0.5689, Val Loss: 1.9212, Val Acc: 0.5371\n",
      "Epoch [33/50], Loss: 1.8926, Acc: 0.5679, Val Loss: 1.9313, Val Acc: 0.5281\n",
      "Epoch [34/50], Loss: 1.8910, Acc: 0.5712, Val Loss: 1.9170, Val Acc: 0.5440\n",
      "Epoch [35/50], Loss: 1.8876, Acc: 0.5740, Val Loss: 1.9249, Val Acc: 0.5335\n",
      "Epoch [36/50], Loss: 1.8876, Acc: 0.5734, Val Loss: 1.9138, Val Acc: 0.5451\n",
      "Epoch [37/50], Loss: 1.8850, Acc: 0.5769, Val Loss: 1.9259, Val Acc: 0.5341\n",
      "Epoch [38/50], Loss: 1.8864, Acc: 0.5740, Val Loss: 1.9215, Val Acc: 0.5379\n",
      "Epoch [39/50], Loss: 1.8863, Acc: 0.5749, Val Loss: 1.9164, Val Acc: 0.5415\n",
      "Epoch [40/50], Loss: 1.8824, Acc: 0.5794, Val Loss: 1.9090, Val Acc: 0.5500\n",
      "Epoch [41/50], Loss: 1.8801, Acc: 0.5812, Val Loss: 1.9124, Val Acc: 0.5486\n",
      "Epoch [42/50], Loss: 1.8797, Acc: 0.5817, Val Loss: 1.9066, Val Acc: 0.5527\n",
      "Epoch [43/50], Loss: 1.8805, Acc: 0.5795, Val Loss: 1.9299, Val Acc: 0.5273\n",
      "Epoch [44/50], Loss: 1.8755, Acc: 0.5861, Val Loss: 1.9103, Val Acc: 0.5493\n",
      "Epoch [45/50], Loss: 1.8766, Acc: 0.5852, Val Loss: 1.9220, Val Acc: 0.5379\n",
      "Epoch [46/50], Loss: 1.8713, Acc: 0.5899, Val Loss: 1.9082, Val Acc: 0.5487\n",
      "Epoch [47/50], Loss: 1.8734, Acc: 0.5890, Val Loss: 1.9139, Val Acc: 0.5454\n",
      "Epoch [48/50], Loss: 1.8727, Acc: 0.5880, Val Loss: 1.9066, Val Acc: 0.5532\n",
      "Epoch [49/50], Loss: 1.8732, Acc: 0.5887, Val Loss: 1.9260, Val Acc: 0.5324\n",
      "Epoch [50/50], Loss: 1.8748, Acc: 0.5862, Val Loss: 1.9125, Val Acc: 0.5441\n"
     ]
    }
   ],
   "source": [
    "def train(model, train_loader, val_loader, criterion, optimizer, epochs=100):\n",
    "    \"\"\"\n",
    "    Function to train a PyTorch model with training and validation datasets.\n",
    "    \n",
    "    Parameters:\n",
    "    model: The neural network model to train.\n",
    "    train_loader: DataLoader for the training dataset.\n",
    "    val_loader: DataLoader for the validation dataset.\n",
    "    criterion: Loss function (e.g., Binary Cross Entropy for classification).\n",
    "    optimizer: Optimization algorithm (e.g., Adam, SGD).\n",
    "    epochs: Number of training epochs (default=100).\n",
    "    \n",
    "    Returns:\n",
    "    history: Dictionary containing loss and accuracy for both training and validation.\n",
    "    \"\"\"\n",
    "    \n",
    "    # Dictionary to store training & validation loss and accuracy over epochs\n",
    "    history = {'loss': [], 'val_loss': [], 'accuracy': [], 'val_accuracy': []}\n",
    "    \n",
    "    for epoch in range(epochs):  # Loop over the number of epochs\n",
    "        model.train()  # Set model to training mode\n",
    "        total_loss, correct = 0, 0  # Initialize total loss and correct predictions\n",
    "        \n",
    "        # Training loop\n",
    "        for inputs, labels in train_loader:\n",
    "            optimizer.zero_grad()  # Reset gradients before each batch\n",
    "            outputs = model(inputs).squeeze()  # Forward pass\n",
    "            loss = criterion(outputs, labels)  # Compute loss\n",
    "            loss.backward()  # Backpropagation (compute gradients)\n",
    "            optimizer.step()  # Update model parameters\n",
    "            \n",
    "            total_loss += loss.item()  # Accumulate batch loss\n",
    "            correct += (torch.argmax(outputs,dim=1) == labels).sum().item()  # Count correct predictions\n",
    "        \n",
    "        # Compute average loss and accuracy for training\n",
    "        train_loss = total_loss / len(train_loader)\n",
    "        train_acc = correct / len(train_loader.dataset)\n",
    "        \n",
    "        # Validation phase (without gradient computation)\n",
    "        model.eval()  # Set model to evaluation mode\n",
    "        val_loss, val_correct = 0, 0\n",
    "        with torch.no_grad():  # No need to compute gradients during validation\n",
    "            for inputs, labels in val_loader:\n",
    "                outputs = model(inputs).squeeze()  # Forward pass\n",
    "                loss = criterion(outputs, labels)  # Compute loss\n",
    "                val_loss += loss.item()  # Accumulate validation loss\n",
    "                val_correct += (torch.argmax(outputs,dim=1) == labels).sum().item()  # Count correct predictions\n",
    "        \n",
    "        # Compute average loss and accuracy for validation\n",
    "        val_loss /= len(val_loader)\n",
    "        val_acc = val_correct / len(val_loader.dataset)\n",
    "        \n",
    "        # Store metrics in history dictionary\n",
    "        history['loss'].append(train_loss)\n",
    "        history['val_loss'].append(val_loss)\n",
    "        history['accuracy'].append(train_acc)\n",
    "        history['val_accuracy'].append(val_acc)\n",
    "        \n",
    "        # Print training progress\n",
    "        print(f\"Epoch [{epoch+1}/{epochs}], Loss: {train_loss:.4f}, Acc: {train_acc:.4f}, \"\n",
    "              f\"Val Loss: {val_loss:.4f}, Val Acc: {val_acc:.4f}\")\n",
    "    \n",
    "    return history  # Return training history\n",
    "\n",
    "history = train(model,\n",
    "                train_loader=train_loader,\n",
    "                val_loader=val_loader,\n",
    "                criterion=criterion,\n",
    "                optimizer=optimizer,\n",
    "                epochs=50)"
   ]
  },
  {
   "cell_type": "markdown",
   "metadata": {
    "id": "1C3a7ed_NUVR"
   },
   "source": [
    "* Save the model under `cifar10model1conv.h5`"
   ]
  },
  {
   "cell_type": "code",
   "execution_count": 33,
   "metadata": {
    "id": "HeLgp-925uj2"
   },
   "outputs": [],
   "source": [
    "# Save model checkpoint \n",
    "checkpoint_path = \"model_conv1.pth\"\n",
    "torch.save({\n",
    "    'model_state_dict': model.state_dict(),\n",
    "    'optimizer_state_dict': optimizer.state_dict(),\n",
    "    'val_loss': history[\"val_loss\"][-1],\n",
    "    'history': history \n",
    "}, checkpoint_path)"
   ]
  },
  {
   "cell_type": "markdown",
   "metadata": {
    "id": "q9iLOQSENi2S"
   },
   "source": [
    "* You may get the model's history with this code (for instructors not to have to train the whole model during the session)"
   ]
  },
  {
   "cell_type": "code",
   "execution_count": 34,
   "metadata": {
    "colab": {
     "base_uri": "https://localhost:8080/",
     "height": 35
    },
    "executionInfo": {
     "elapsed": 713,
     "status": "ok",
     "timestamp": 1614877523519,
     "user": {
      "displayName": "Charles Tanguy",
      "photoUrl": "",
      "userId": "11930294859591867631"
     },
     "user_tz": -60
    },
    "id": "0H1ZPDCoMqJM",
    "outputId": "e78e261b-e349-4a78-f679-07159cb5c0d6"
   },
   "outputs": [],
   "source": [
    "url=\"https://full-stack-assets.s3.eu-west-3.amazonaws.com/M08-deep-learning/model_conv1.pth\"\n",
    "output_path=\"model_conv1.pth\"\n",
    "\n",
    "# Download the file\n",
    "if not os.path.exists(output_path):\n",
    "    response = requests.get(url, stream=True)\n",
    "    with open(output_path, \"wb\") as file:\n",
    "        for chunk in response.iter_content(chunk_size=1024):\n",
    "            if chunk:\n",
    "                file.write(chunk)\n",
    "    print(\"Download complete.\")"
   ]
  },
  {
   "cell_type": "markdown",
   "metadata": {
    "id": "-vpqxQ_8Ns0-"
   },
   "source": [
    "* Load the history .json file using the following command (for instructors)"
   ]
  },
  {
   "cell_type": "code",
   "execution_count": 35,
   "metadata": {
    "id": "w392-FWHLU4B"
   },
   "outputs": [],
   "source": [
    "restored_model_pooling = CNN()  # Ensure the same architecture\n",
    "restored_model_pooling.load_state_dict(torch.load(\"model_conv1.pth\", weights_only=True)[\"model_state_dict\"])\n",
    "restored_model_pooling.eval()\n",
    "history = torch.load(\"model_conv1.pth\", weights_only=True)[\"history\"]"
   ]
  },
  {
   "cell_type": "markdown",
   "metadata": {
    "id": "161hfS8TN-m3"
   },
   "source": [
    "* Display the evolution of the loss and the validation loss using plotly"
   ]
  },
  {
   "cell_type": "code",
   "execution_count": null,
   "metadata": {
    "colab": {
     "base_uri": "https://localhost:8080/",
     "height": 542
    },
    "executionInfo": {
     "elapsed": 1787,
     "status": "ok",
     "timestamp": 1614877569813,
     "user": {
      "displayName": "Charles Tanguy",
      "photoUrl": "",
      "userId": "11930294859591867631"
     },
     "user_tz": -60
    },
    "id": "TrSAfjrw6GFd",
    "outputId": "8d6c0b8f-157b-41df-df74-a5f3d356506a"
   },
   "outputs": [
    {
     "data": {
      "application/vnd.plotly.v1+json": {
       "config": {
        "plotlyServerURL": "https://plot.ly"
       },
       "data": [
        {
         "marker": {
          "color": "#4B9AC7"
         },
         "mode": "lines",
         "name": "Training loss",
         "type": "scatter",
         "y": [
          2.1542420400619506,
          2.083885213661194,
          2.053056982898712,
          2.0330530245780944,
          2.0169603375434875,
          2.0063440403938295,
          1.9953816139221192,
          1.9878969979286194,
          1.9808548686981202,
          1.973418308544159,
          1.9651137141227721,
          1.9602323994636535,
          1.9565078845024109,
          1.9475419214248657,
          1.9406217661857605,
          1.9378689284324646,
          1.9339080094337464,
          1.9275347218513488,
          1.9234858001708985,
          1.92008711643219,
          1.919869169330597,
          1.9154427640914917,
          1.9099585367202758,
          1.909807532787323,
          1.904945990371704,
          1.905682451438904,
          1.9017781176567077,
          1.9008249205589294,
          1.8982329122543335,
          1.8935189487457276,
          1.894722756576538,
          1.8934969603538514,
          1.8926462323188782,
          1.891009461593628,
          1.8876118608474732,
          1.8876038999557496,
          1.885004465866089,
          1.8863801074028015,
          1.8862926154136657,
          1.8823561799049378,
          1.8801409225463868,
          1.8797250014305116,
          1.8805439429283142,
          1.8754853739738464,
          1.8766358956336975,
          1.871303689289093,
          1.8734203735351562,
          1.8727011597633363,
          1.8731819499969482,
          1.8747617275238038
         ]
        },
        {
         "marker": {
          "color": "#4BE8E0"
         },
         "mode": "lines",
         "name": "Validation loss",
         "type": "scatter",
         "y": [
          2.1020072047321943,
          2.063440894547362,
          2.0475534459653373,
          2.033185232561617,
          2.0086968965804615,
          2.0198489774149446,
          1.9982286524087096,
          1.9919370416635143,
          1.9913140832425686,
          2.011474026277804,
          1.9906970959501906,
          1.972396641112745,
          1.9713066435469606,
          1.9595627202012669,
          1.9505657707921231,
          1.952387285308716,
          1.9613016927585054,
          1.9438855316692267,
          1.9362150891520344,
          1.939223329480083,
          1.9391025746592319,
          1.9427497744941102,
          1.9401573026523042,
          1.9337981318513426,
          1.9304431680673229,
          1.9359730794406926,
          1.9207692291028202,
          1.9292336047267,
          1.932127153149809,
          1.9252431129876035,
          1.9287733787926622,
          1.9212357262833812,
          1.9313265172818217,
          1.9169716370372345,
          1.9248869228667724,
          1.913750216222038,
          1.9259019880629957,
          1.921475223458994,
          1.9164052622767682,
          1.9090480061765678,
          1.9124325814719398,
          1.9066429103906162,
          1.929883791996648,
          1.910331373778395,
          1.9220039391289123,
          1.908178754507924,
          1.9139015998322362,
          1.9066415678578825,
          1.9259941574102772,
          1.9125069421701157
         ]
        }
       ],
       "layout": {
        "template": {
         "data": {
          "bar": [
           {
            "error_x": {
             "color": "#2a3f5f"
            },
            "error_y": {
             "color": "#2a3f5f"
            },
            "marker": {
             "line": {
              "color": "#E5ECF6",
              "width": 0.5
             },
             "pattern": {
              "fillmode": "overlay",
              "size": 10,
              "solidity": 0.2
             }
            },
            "type": "bar"
           }
          ],
          "barpolar": [
           {
            "marker": {
             "line": {
              "color": "#E5ECF6",
              "width": 0.5
             },
             "pattern": {
              "fillmode": "overlay",
              "size": 10,
              "solidity": 0.2
             }
            },
            "type": "barpolar"
           }
          ],
          "carpet": [
           {
            "aaxis": {
             "endlinecolor": "#2a3f5f",
             "gridcolor": "white",
             "linecolor": "white",
             "minorgridcolor": "white",
             "startlinecolor": "#2a3f5f"
            },
            "baxis": {
             "endlinecolor": "#2a3f5f",
             "gridcolor": "white",
             "linecolor": "white",
             "minorgridcolor": "white",
             "startlinecolor": "#2a3f5f"
            },
            "type": "carpet"
           }
          ],
          "choropleth": [
           {
            "colorbar": {
             "outlinewidth": 0,
             "ticks": ""
            },
            "type": "choropleth"
           }
          ],
          "contour": [
           {
            "colorbar": {
             "outlinewidth": 0,
             "ticks": ""
            },
            "colorscale": [
             [
              0,
              "#0d0887"
             ],
             [
              0.1111111111111111,
              "#46039f"
             ],
             [
              0.2222222222222222,
              "#7201a8"
             ],
             [
              0.3333333333333333,
              "#9c179e"
             ],
             [
              0.4444444444444444,
              "#bd3786"
             ],
             [
              0.5555555555555556,
              "#d8576b"
             ],
             [
              0.6666666666666666,
              "#ed7953"
             ],
             [
              0.7777777777777778,
              "#fb9f3a"
             ],
             [
              0.8888888888888888,
              "#fdca26"
             ],
             [
              1,
              "#f0f921"
             ]
            ],
            "type": "contour"
           }
          ],
          "contourcarpet": [
           {
            "colorbar": {
             "outlinewidth": 0,
             "ticks": ""
            },
            "type": "contourcarpet"
           }
          ],
          "heatmap": [
           {
            "colorbar": {
             "outlinewidth": 0,
             "ticks": ""
            },
            "colorscale": [
             [
              0,
              "#0d0887"
             ],
             [
              0.1111111111111111,
              "#46039f"
             ],
             [
              0.2222222222222222,
              "#7201a8"
             ],
             [
              0.3333333333333333,
              "#9c179e"
             ],
             [
              0.4444444444444444,
              "#bd3786"
             ],
             [
              0.5555555555555556,
              "#d8576b"
             ],
             [
              0.6666666666666666,
              "#ed7953"
             ],
             [
              0.7777777777777778,
              "#fb9f3a"
             ],
             [
              0.8888888888888888,
              "#fdca26"
             ],
             [
              1,
              "#f0f921"
             ]
            ],
            "type": "heatmap"
           }
          ],
          "histogram": [
           {
            "marker": {
             "pattern": {
              "fillmode": "overlay",
              "size": 10,
              "solidity": 0.2
             }
            },
            "type": "histogram"
           }
          ],
          "histogram2d": [
           {
            "colorbar": {
             "outlinewidth": 0,
             "ticks": ""
            },
            "colorscale": [
             [
              0,
              "#0d0887"
             ],
             [
              0.1111111111111111,
              "#46039f"
             ],
             [
              0.2222222222222222,
              "#7201a8"
             ],
             [
              0.3333333333333333,
              "#9c179e"
             ],
             [
              0.4444444444444444,
              "#bd3786"
             ],
             [
              0.5555555555555556,
              "#d8576b"
             ],
             [
              0.6666666666666666,
              "#ed7953"
             ],
             [
              0.7777777777777778,
              "#fb9f3a"
             ],
             [
              0.8888888888888888,
              "#fdca26"
             ],
             [
              1,
              "#f0f921"
             ]
            ],
            "type": "histogram2d"
           }
          ],
          "histogram2dcontour": [
           {
            "colorbar": {
             "outlinewidth": 0,
             "ticks": ""
            },
            "colorscale": [
             [
              0,
              "#0d0887"
             ],
             [
              0.1111111111111111,
              "#46039f"
             ],
             [
              0.2222222222222222,
              "#7201a8"
             ],
             [
              0.3333333333333333,
              "#9c179e"
             ],
             [
              0.4444444444444444,
              "#bd3786"
             ],
             [
              0.5555555555555556,
              "#d8576b"
             ],
             [
              0.6666666666666666,
              "#ed7953"
             ],
             [
              0.7777777777777778,
              "#fb9f3a"
             ],
             [
              0.8888888888888888,
              "#fdca26"
             ],
             [
              1,
              "#f0f921"
             ]
            ],
            "type": "histogram2dcontour"
           }
          ],
          "mesh3d": [
           {
            "colorbar": {
             "outlinewidth": 0,
             "ticks": ""
            },
            "type": "mesh3d"
           }
          ],
          "parcoords": [
           {
            "line": {
             "colorbar": {
              "outlinewidth": 0,
              "ticks": ""
             }
            },
            "type": "parcoords"
           }
          ],
          "pie": [
           {
            "automargin": true,
            "type": "pie"
           }
          ],
          "scatter": [
           {
            "fillpattern": {
             "fillmode": "overlay",
             "size": 10,
             "solidity": 0.2
            },
            "type": "scatter"
           }
          ],
          "scatter3d": [
           {
            "line": {
             "colorbar": {
              "outlinewidth": 0,
              "ticks": ""
             }
            },
            "marker": {
             "colorbar": {
              "outlinewidth": 0,
              "ticks": ""
             }
            },
            "type": "scatter3d"
           }
          ],
          "scattercarpet": [
           {
            "marker": {
             "colorbar": {
              "outlinewidth": 0,
              "ticks": ""
             }
            },
            "type": "scattercarpet"
           }
          ],
          "scattergeo": [
           {
            "marker": {
             "colorbar": {
              "outlinewidth": 0,
              "ticks": ""
             }
            },
            "type": "scattergeo"
           }
          ],
          "scattergl": [
           {
            "marker": {
             "colorbar": {
              "outlinewidth": 0,
              "ticks": ""
             }
            },
            "type": "scattergl"
           }
          ],
          "scattermap": [
           {
            "marker": {
             "colorbar": {
              "outlinewidth": 0,
              "ticks": ""
             }
            },
            "type": "scattermap"
           }
          ],
          "scattermapbox": [
           {
            "marker": {
             "colorbar": {
              "outlinewidth": 0,
              "ticks": ""
             }
            },
            "type": "scattermapbox"
           }
          ],
          "scatterpolar": [
           {
            "marker": {
             "colorbar": {
              "outlinewidth": 0,
              "ticks": ""
             }
            },
            "type": "scatterpolar"
           }
          ],
          "scatterpolargl": [
           {
            "marker": {
             "colorbar": {
              "outlinewidth": 0,
              "ticks": ""
             }
            },
            "type": "scatterpolargl"
           }
          ],
          "scatterternary": [
           {
            "marker": {
             "colorbar": {
              "outlinewidth": 0,
              "ticks": ""
             }
            },
            "type": "scatterternary"
           }
          ],
          "surface": [
           {
            "colorbar": {
             "outlinewidth": 0,
             "ticks": ""
            },
            "colorscale": [
             [
              0,
              "#0d0887"
             ],
             [
              0.1111111111111111,
              "#46039f"
             ],
             [
              0.2222222222222222,
              "#7201a8"
             ],
             [
              0.3333333333333333,
              "#9c179e"
             ],
             [
              0.4444444444444444,
              "#bd3786"
             ],
             [
              0.5555555555555556,
              "#d8576b"
             ],
             [
              0.6666666666666666,
              "#ed7953"
             ],
             [
              0.7777777777777778,
              "#fb9f3a"
             ],
             [
              0.8888888888888888,
              "#fdca26"
             ],
             [
              1,
              "#f0f921"
             ]
            ],
            "type": "surface"
           }
          ],
          "table": [
           {
            "cells": {
             "fill": {
              "color": "#EBF0F8"
             },
             "line": {
              "color": "white"
             }
            },
            "header": {
             "fill": {
              "color": "#C8D4E3"
             },
             "line": {
              "color": "white"
             }
            },
            "type": "table"
           }
          ]
         },
         "layout": {
          "annotationdefaults": {
           "arrowcolor": "#2a3f5f",
           "arrowhead": 0,
           "arrowwidth": 1
          },
          "autotypenumbers": "strict",
          "coloraxis": {
           "colorbar": {
            "outlinewidth": 0,
            "ticks": ""
           }
          },
          "colorscale": {
           "diverging": [
            [
             0,
             "#8e0152"
            ],
            [
             0.1,
             "#c51b7d"
            ],
            [
             0.2,
             "#de77ae"
            ],
            [
             0.3,
             "#f1b6da"
            ],
            [
             0.4,
             "#fde0ef"
            ],
            [
             0.5,
             "#f7f7f7"
            ],
            [
             0.6,
             "#e6f5d0"
            ],
            [
             0.7,
             "#b8e186"
            ],
            [
             0.8,
             "#7fbc41"
            ],
            [
             0.9,
             "#4d9221"
            ],
            [
             1,
             "#276419"
            ]
           ],
           "sequential": [
            [
             0,
             "#0d0887"
            ],
            [
             0.1111111111111111,
             "#46039f"
            ],
            [
             0.2222222222222222,
             "#7201a8"
            ],
            [
             0.3333333333333333,
             "#9c179e"
            ],
            [
             0.4444444444444444,
             "#bd3786"
            ],
            [
             0.5555555555555556,
             "#d8576b"
            ],
            [
             0.6666666666666666,
             "#ed7953"
            ],
            [
             0.7777777777777778,
             "#fb9f3a"
            ],
            [
             0.8888888888888888,
             "#fdca26"
            ],
            [
             1,
             "#f0f921"
            ]
           ],
           "sequentialminus": [
            [
             0,
             "#0d0887"
            ],
            [
             0.1111111111111111,
             "#46039f"
            ],
            [
             0.2222222222222222,
             "#7201a8"
            ],
            [
             0.3333333333333333,
             "#9c179e"
            ],
            [
             0.4444444444444444,
             "#bd3786"
            ],
            [
             0.5555555555555556,
             "#d8576b"
            ],
            [
             0.6666666666666666,
             "#ed7953"
            ],
            [
             0.7777777777777778,
             "#fb9f3a"
            ],
            [
             0.8888888888888888,
             "#fdca26"
            ],
            [
             1,
             "#f0f921"
            ]
           ]
          },
          "colorway": [
           "#636efa",
           "#EF553B",
           "#00cc96",
           "#ab63fa",
           "#FFA15A",
           "#19d3f3",
           "#FF6692",
           "#B6E880",
           "#FF97FF",
           "#FECB52"
          ],
          "font": {
           "color": "#2a3f5f"
          },
          "geo": {
           "bgcolor": "white",
           "lakecolor": "white",
           "landcolor": "#E5ECF6",
           "showlakes": true,
           "showland": true,
           "subunitcolor": "white"
          },
          "hoverlabel": {
           "align": "left"
          },
          "hovermode": "closest",
          "mapbox": {
           "style": "light"
          },
          "paper_bgcolor": "white",
          "plot_bgcolor": "#E5ECF6",
          "polar": {
           "angularaxis": {
            "gridcolor": "white",
            "linecolor": "white",
            "ticks": ""
           },
           "bgcolor": "#E5ECF6",
           "radialaxis": {
            "gridcolor": "white",
            "linecolor": "white",
            "ticks": ""
           }
          },
          "scene": {
           "xaxis": {
            "backgroundcolor": "#E5ECF6",
            "gridcolor": "white",
            "gridwidth": 2,
            "linecolor": "white",
            "showbackground": true,
            "ticks": "",
            "zerolinecolor": "white"
           },
           "yaxis": {
            "backgroundcolor": "#E5ECF6",
            "gridcolor": "white",
            "gridwidth": 2,
            "linecolor": "white",
            "showbackground": true,
            "ticks": "",
            "zerolinecolor": "white"
           },
           "zaxis": {
            "backgroundcolor": "#E5ECF6",
            "gridcolor": "white",
            "gridwidth": 2,
            "linecolor": "white",
            "showbackground": true,
            "ticks": "",
            "zerolinecolor": "white"
           }
          },
          "shapedefaults": {
           "line": {
            "color": "#2a3f5f"
           }
          },
          "ternary": {
           "aaxis": {
            "gridcolor": "white",
            "linecolor": "white",
            "ticks": ""
           },
           "baxis": {
            "gridcolor": "white",
            "linecolor": "white",
            "ticks": ""
           },
           "bgcolor": "#E5ECF6",
           "caxis": {
            "gridcolor": "white",
            "linecolor": "white",
            "ticks": ""
           }
          },
          "title": {
           "x": 0.05
          },
          "xaxis": {
           "automargin": true,
           "gridcolor": "white",
           "linecolor": "white",
           "ticks": "",
           "title": {
            "standoff": 15
           },
           "zerolinecolor": "white",
           "zerolinewidth": 2
          },
          "yaxis": {
           "automargin": true,
           "gridcolor": "white",
           "linecolor": "white",
           "ticks": "",
           "title": {
            "standoff": 15
           },
           "zerolinecolor": "white",
           "zerolinewidth": 2
          }
         }
        },
        "title": {
         "text": "Training and val loss across epochs"
        },
        "xaxis": {
         "title": {
          "text": "epochs"
         }
        },
        "yaxis": {
         "title": {
          "text": "Cross Entropy"
         }
        }
       }
      }
     },
     "metadata": {},
     "output_type": "display_data"
    }
   ],
   "source": [
    "# Import the necessary module from Plotly for data visualization\n",
    "from plotly import graph_objects as go\n",
    "\n",
    "# Create a figure object to hold the plot\n",
    "fig = go.Figure(\n",
    "    data=[\n",
    "        # Add a scatter plot for training loss\n",
    "        go.Scatter(\n",
    "            # - 'y' represents the training loss values over epochs\n",
    "            y=history[\"loss\"],\n",
    "            # - 'name' is the label for the legend\n",
    "            name=\"Training loss\",\n",
    "            # - 'mode' is set to \"lines\" to create a line plot\n",
    "            mode=\"lines\",\n",
    "            ),\n",
    "        # Add a scatter plot for validation loss\n",
    "        go.Scatter(\n",
    "            # - 'y' represents the validation loss values over epochs\n",
    "            y=history[\"val_loss\"],\n",
    "            # - 'name' is the label for the legend\n",
    "            name=\"Validation loss\",\n",
    "            # - 'mode' is set to \"lines\" to create a line plot\n",
    "            mode=\"lines\",\n",
    "            )\n",
    "])\n",
    "\n",
    "# Customize the layout of the figure\n",
    "fig.update_layout(\n",
    "    # - Set the title of the plot\n",
    "    title='Training and val loss across epochs',\n",
    "    # - Label the x-axis as 'epochs'\n",
    "    xaxis_title='epochs',\n",
    "    # - Label the y-axis as 'Cross Entropy' to represent loss values\n",
    "    yaxis_title='Cross Entropy'    \n",
    ")\n",
    "\n",
    "# Display the plot\n",
    "fig.show()\n"
   ]
  },
  {
   "cell_type": "markdown",
   "metadata": {
    "id": "r3W9U5agOGR6"
   },
   "source": [
    "The model looks it starts to overfit after 30 epochs and it trains smoothly on the training data."
   ]
  },
  {
   "cell_type": "markdown",
   "metadata": {
    "id": "grkHZbx6OSYm"
   },
   "source": [
    "* Build a new model and add a new convolution layer with double the number of neurons on it followed by a max pooling, and reproduce all the same steps as before."
   ]
  },
  {
   "cell_type": "code",
   "execution_count": 37,
   "metadata": {
    "colab": {
     "base_uri": "https://localhost:8080/"
    },
    "executionInfo": {
     "elapsed": 1205,
     "status": "ok",
     "timestamp": 1614937212121,
     "user": {
      "displayName": "Charles Tanguy",
      "photoUrl": "",
      "userId": "11930294859591867631"
     },
     "user_tz": -60
    },
    "id": "gpKa_LNVOc-Q",
    "outputId": "e919f98d-3833-47fb-8410-740d9a4faa10"
   },
   "outputs": [
    {
     "name": "stdout",
     "output_type": "stream",
     "text": [
      "CNN2(\n",
      "  (conv1): Conv2d(3, 32, kernel_size=(3, 3), stride=(1, 1), padding=same)\n",
      "  (pool1): MaxPool2d(kernel_size=2, stride=2, padding=0, dilation=1, ceil_mode=False)\n",
      "  (conv2): Conv2d(32, 64, kernel_size=(3, 3), stride=(1, 1), padding=same)\n",
      "  (pool2): MaxPool2d(kernel_size=2, stride=2, padding=0, dilation=1, ceil_mode=False)\n",
      "  (flatten): Flatten(start_dim=1, end_dim=-1)\n",
      "  (fc): Linear(in_features=4096, out_features=10, bias=True)\n",
      "  (softmax): Softmax(dim=1)\n",
      ")\n"
     ]
    }
   ],
   "source": [
    "# Define a simple CNN model in PyTorch\n",
    "class CNN2(nn.Module):\n",
    "\n",
    "    # Initialize the model architecture\n",
    "    def __init__(self):\n",
    "        super(CNN2, self).__init__()\n",
    "        # First convolutional layer:\n",
    "        # - 32 filters\n",
    "        # - Kernel size 3x3\n",
    "        # - Padding set to \"same\" to maintain spatial dimensions\n",
    "        self.conv1 = nn.Conv2d(in_channels=3, out_channels=32, kernel_size=3, padding=\"same\")\n",
    "        # First max pooling layer:\n",
    "        # - Pool size 2x2\n",
    "        # - Stride 2 to reduce spatial dimensions\n",
    "        self.pool1 = nn.MaxPool2d(kernel_size=2, stride=2)\n",
    "        # Second convolutional layer:\n",
    "        # - 64 filters\n",
    "        # - Kernel size 3x3\n",
    "        # - Padding set to \"same\"\n",
    "        self.conv2 = nn.Conv2d(in_channels=32, out_channels=64, kernel_size=3, padding=\"same\")\n",
    "        # Second max pooling layer:\n",
    "        # - Pool size 2x2\n",
    "        # - Stride 2 to further reduce spatial dimensions\n",
    "        self.pool2 = nn.MaxPool2d(kernel_size=2, stride=2)\n",
    "        # Flatten the feature maps into a single vector for the fully connected layer\n",
    "        self.flatten = nn.Flatten()\n",
    "        # Fully connected layer:\n",
    "        # - Takes the flattened features as input\n",
    "        # - Outputs 10 classes for classification\n",
    "        self.fc = nn.Linear(64 * 8 * 8, 10)\n",
    "        # Softmax activation function:\n",
    "        # - Converts raw scores into probabilities for classification\n",
    "        self.softmax = nn.Softmax(dim=1)  # Softmax activation for classification\n",
    "    \n",
    "    # Define the forward pass:\n",
    "    def forward(self, x):\n",
    "        # - Apply ReLU activation after each convolutional layer\n",
    "        x = torch.relu(self.conv1(x))\n",
    "        # - Apply max pooling after each convolutional layer\n",
    "        x = self.pool1(x)\n",
    "        # - Apply ReLU activation after each convolutional layer\n",
    "        x = torch.relu(self.conv2(x))\n",
    "        # - Apply max pooling after each convolutional layer\n",
    "        x = self.pool2(x)\n",
    "        # - Flatten the output before passing it to the fully connected layer\n",
    "        x = self.flatten(x)  # Flatten the feature maps\n",
    "        # - Fully connected layer\n",
    "        x = self.fc(x)\n",
    "        # - Apply softmax to get class probabilities\n",
    "        x = self.softmax(x)\n",
    "        return x\n",
    "\n",
    "# Instantiate the model\n",
    "model_conv2 = CNN2()\n",
    "# Print model summary to visualize the architecture\n",
    "print(model_conv2)  # Print model summary"
   ]
  },
  {
   "cell_type": "code",
   "execution_count": 38,
   "metadata": {
    "executionInfo": {
     "elapsed": 1882,
     "status": "ok",
     "timestamp": 1614937214163,
     "user": {
      "displayName": "Charles Tanguy",
      "photoUrl": "",
      "userId": "11930294859591867631"
     },
     "user_tz": -60
    },
    "id": "LnFcpc1-OxbU"
   },
   "outputs": [
    {
     "data": {
      "text/plain": [
       "==========================================================================================\n",
       "Layer (type:depth-idx)                   Output Shape              Param #\n",
       "==========================================================================================\n",
       "CNN2                                     [1, 10]                   --\n",
       "├─Conv2d: 1-1                            [1, 32, 32, 32]           896\n",
       "├─MaxPool2d: 1-2                         [1, 32, 16, 16]           --\n",
       "├─Conv2d: 1-3                            [1, 64, 16, 16]           18,496\n",
       "├─MaxPool2d: 1-4                         [1, 64, 8, 8]             --\n",
       "├─Flatten: 1-5                           [1, 4096]                 --\n",
       "├─Linear: 1-6                            [1, 10]                   40,970\n",
       "├─Softmax: 1-7                           [1, 10]                   --\n",
       "==========================================================================================\n",
       "Total params: 60,362\n",
       "Trainable params: 60,362\n",
       "Non-trainable params: 0\n",
       "Total mult-adds (M): 5.69\n",
       "==========================================================================================\n",
       "Input size (MB): 0.01\n",
       "Forward/backward pass size (MB): 0.39\n",
       "Params size (MB): 0.24\n",
       "Estimated Total Size (MB): 0.65\n",
       "=========================================================================================="
      ]
     },
     "execution_count": 38,
     "metadata": {},
     "output_type": "execute_result"
    }
   ],
   "source": [
    "# Print model summary\n",
    "summary(model_conv2, input_size=(1, 3, 32, 32))  # (batch_size, input_features)"
   ]
  },
  {
   "cell_type": "code",
   "execution_count": 39,
   "metadata": {
    "colab": {
     "base_uri": "https://localhost:8080/"
    },
    "executionInfo": {
     "elapsed": 2185771,
     "status": "ok",
     "timestamp": 1614939399620,
     "user": {
      "displayName": "Charles Tanguy",
      "photoUrl": "",
      "userId": "11930294859591867631"
     },
     "user_tz": -60
    },
    "id": "h6nsMuvhO14I",
    "outputId": "4219e786-5cb0-4896-c6c4-1254a60d1613"
   },
   "outputs": [
    {
     "name": "stdout",
     "output_type": "stream",
     "text": [
      "Epoch [1/50], Loss: 2.1518, Acc: 0.3028, Val Loss: 2.1205, Val Acc: 0.3328\n",
      "Epoch [2/50], Loss: 2.0765, Acc: 0.3783, Val Loss: 2.0579, Val Acc: 0.3977\n",
      "Epoch [3/50], Loss: 2.0468, Acc: 0.4116, Val Loss: 2.0262, Val Acc: 0.4337\n",
      "Epoch [4/50], Loss: 2.0292, Acc: 0.4283, Val Loss: 2.0138, Val Acc: 0.4429\n",
      "Epoch [5/50], Loss: 2.0105, Acc: 0.4477, Val Loss: 2.0048, Val Acc: 0.4547\n",
      "Epoch [6/50], Loss: 1.9985, Acc: 0.4601, Val Loss: 2.0057, Val Acc: 0.4516\n",
      "Epoch [7/50], Loss: 1.9833, Acc: 0.4749, Val Loss: 1.9853, Val Acc: 0.4745\n",
      "Epoch [8/50], Loss: 1.9717, Acc: 0.4869, Val Loss: 1.9729, Val Acc: 0.4837\n",
      "Epoch [9/50], Loss: 1.9589, Acc: 0.5009, Val Loss: 1.9624, Val Acc: 0.4937\n",
      "Epoch [10/50], Loss: 1.9506, Acc: 0.5082, Val Loss: 1.9557, Val Acc: 0.5022\n",
      "Epoch [11/50], Loss: 1.9476, Acc: 0.5112, Val Loss: 1.9686, Val Acc: 0.4881\n",
      "Epoch [12/50], Loss: 1.9418, Acc: 0.5177, Val Loss: 1.9540, Val Acc: 0.5030\n",
      "Epoch [13/50], Loss: 1.9356, Acc: 0.5230, Val Loss: 1.9528, Val Acc: 0.5051\n",
      "Epoch [14/50], Loss: 1.9322, Acc: 0.5249, Val Loss: 1.9602, Val Acc: 0.4973\n",
      "Epoch [15/50], Loss: 1.9252, Acc: 0.5340, Val Loss: 1.9440, Val Acc: 0.5135\n",
      "Epoch [16/50], Loss: 1.9205, Acc: 0.5385, Val Loss: 1.9417, Val Acc: 0.5144\n",
      "Epoch [17/50], Loss: 1.9200, Acc: 0.5393, Val Loss: 1.9231, Val Acc: 0.5385\n",
      "Epoch [18/50], Loss: 1.9171, Acc: 0.5412, Val Loss: 1.9292, Val Acc: 0.5286\n",
      "Epoch [19/50], Loss: 1.9100, Acc: 0.5491, Val Loss: 1.9256, Val Acc: 0.5312\n",
      "Epoch [20/50], Loss: 1.9135, Acc: 0.5460, Val Loss: 1.9172, Val Acc: 0.5410\n",
      "Epoch [21/50], Loss: 1.9115, Acc: 0.5472, Val Loss: 1.9330, Val Acc: 0.5243\n",
      "Epoch [22/50], Loss: 1.9039, Acc: 0.5552, Val Loss: 1.9294, Val Acc: 0.5290\n",
      "Epoch [23/50], Loss: 1.9056, Acc: 0.5534, Val Loss: 1.9238, Val Acc: 0.5337\n",
      "Epoch [24/50], Loss: 1.9036, Acc: 0.5554, Val Loss: 1.9121, Val Acc: 0.5463\n",
      "Epoch [25/50], Loss: 1.9016, Acc: 0.5568, Val Loss: 1.9208, Val Acc: 0.5371\n",
      "Epoch [26/50], Loss: 1.8977, Acc: 0.5610, Val Loss: 1.9115, Val Acc: 0.5477\n",
      "Epoch [27/50], Loss: 1.8947, Acc: 0.5641, Val Loss: 1.9178, Val Acc: 0.5402\n",
      "Epoch [28/50], Loss: 1.8943, Acc: 0.5638, Val Loss: 1.9219, Val Acc: 0.5367\n",
      "Epoch [29/50], Loss: 1.8949, Acc: 0.5636, Val Loss: 1.9503, Val Acc: 0.5084\n",
      "Epoch [30/50], Loss: 1.8940, Acc: 0.5645, Val Loss: 1.9041, Val Acc: 0.5534\n",
      "Epoch [31/50], Loss: 1.8894, Acc: 0.5689, Val Loss: 1.9112, Val Acc: 0.5465\n",
      "Epoch [32/50], Loss: 1.8879, Acc: 0.5712, Val Loss: 1.9097, Val Acc: 0.5485\n",
      "Epoch [33/50], Loss: 1.8869, Acc: 0.5720, Val Loss: 1.9042, Val Acc: 0.5545\n",
      "Epoch [34/50], Loss: 1.8884, Acc: 0.5701, Val Loss: 1.9023, Val Acc: 0.5558\n",
      "Epoch [35/50], Loss: 1.8858, Acc: 0.5726, Val Loss: 1.9106, Val Acc: 0.5475\n",
      "Epoch [36/50], Loss: 1.8864, Acc: 0.5720, Val Loss: 1.9096, Val Acc: 0.5481\n",
      "Epoch [37/50], Loss: 1.8864, Acc: 0.5726, Val Loss: 1.9021, Val Acc: 0.5561\n",
      "Epoch [38/50], Loss: 1.8837, Acc: 0.5757, Val Loss: 1.9081, Val Acc: 0.5491\n",
      "Epoch [39/50], Loss: 1.8822, Acc: 0.5764, Val Loss: 1.9172, Val Acc: 0.5407\n",
      "Epoch [40/50], Loss: 1.8825, Acc: 0.5769, Val Loss: 1.9302, Val Acc: 0.5281\n",
      "Epoch [41/50], Loss: 1.8801, Acc: 0.5794, Val Loss: 1.9037, Val Acc: 0.5568\n",
      "Epoch [42/50], Loss: 1.8793, Acc: 0.5799, Val Loss: 1.9041, Val Acc: 0.5547\n",
      "Epoch [43/50], Loss: 1.8780, Acc: 0.5810, Val Loss: 1.9066, Val Acc: 0.5503\n",
      "Epoch [44/50], Loss: 1.8763, Acc: 0.5825, Val Loss: 1.9001, Val Acc: 0.5587\n",
      "Epoch [45/50], Loss: 1.8750, Acc: 0.5838, Val Loss: 1.9043, Val Acc: 0.5540\n",
      "Epoch [46/50], Loss: 1.8760, Acc: 0.5839, Val Loss: 1.9315, Val Acc: 0.5273\n",
      "Epoch [47/50], Loss: 1.8768, Acc: 0.5821, Val Loss: 1.8939, Val Acc: 0.5651\n",
      "Epoch [48/50], Loss: 1.8758, Acc: 0.5834, Val Loss: 1.8978, Val Acc: 0.5601\n",
      "Epoch [49/50], Loss: 1.8739, Acc: 0.5850, Val Loss: 1.9285, Val Acc: 0.5306\n",
      "Epoch [50/50], Loss: 1.8707, Acc: 0.5884, Val Loss: 1.9061, Val Acc: 0.5512\n"
     ]
    }
   ],
   "source": [
    "# Define the loss function and optimizer\n",
    "criterion = nn.CrossEntropyLoss()  # Suitable loss function for multi-class classification\n",
    "optimizer2 = optim.Adam(model_conv2.parameters(), lr=0.001)  # Adam optimizer with default learning rate\n",
    "\n",
    "history2 = train(model_conv2,\n",
    "                train_loader=train_loader,\n",
    "                val_loader=val_loader,\n",
    "                criterion=criterion,\n",
    "                optimizer=optimizer2,\n",
    "                epochs=50)"
   ]
  },
  {
   "cell_type": "code",
   "execution_count": 40,
   "metadata": {
    "executionInfo": {
     "elapsed": 857,
     "status": "ok",
     "timestamp": 1614940144066,
     "user": {
      "displayName": "Charles Tanguy",
      "photoUrl": "",
      "userId": "11930294859591867631"
     },
     "user_tz": -60
    },
    "id": "DTzJzOn3vC68"
   },
   "outputs": [],
   "source": [
    "# Save model checkpoint \n",
    "checkpoint_path = \"model_conv2.pth\"\n",
    "torch.save({\n",
    "    'model_state_dict': model_conv2.state_dict(),\n",
    "    'optimizer_state_dict': optimizer2.state_dict(),\n",
    "    'val_loss': history2[\"val_loss\"][-1],\n",
    "    'history': history2 \n",
    "}, checkpoint_path)"
   ]
  },
  {
   "cell_type": "code",
   "execution_count": 41,
   "metadata": {
    "executionInfo": {
     "elapsed": 882,
     "status": "ok",
     "timestamp": 1614940515154,
     "user": {
      "displayName": "Charles Tanguy",
      "photoUrl": "",
      "userId": "11930294859591867631"
     },
     "user_tz": -60
    },
    "id": "fcyQ_IvH8maW"
   },
   "outputs": [],
   "source": [
    "url=\"https://full-stack-assets.s3.eu-west-3.amazonaws.com/M08-deep-learning/model_conv2.pth\"\n",
    "output_path=\"model_conv2.pth\"\n",
    "\n",
    "# Download the file\n",
    "if not os.path.exists(output_path):\n",
    "    response = requests.get(url, stream=True)\n",
    "    with open(output_path, \"wb\") as file:\n",
    "        for chunk in response.iter_content(chunk_size=1024):\n",
    "            if chunk:\n",
    "                file.write(chunk)\n",
    "    print(\"Download complete.\")"
   ]
  },
  {
   "cell_type": "code",
   "execution_count": 42,
   "metadata": {},
   "outputs": [],
   "source": [
    "restored_model_pooling = CNN2()  # Ensure the same architecture\n",
    "restored_model_pooling.load_state_dict(torch.load(\"model_conv2.pth\", weights_only=True)[\"model_state_dict\"])\n",
    "restored_model_pooling.eval()\n",
    "history = torch.load(\"model_conv2.pth\", weights_only=True)[\"history\"]"
   ]
  },
  {
   "cell_type": "code",
   "execution_count": 43,
   "metadata": {
    "colab": {
     "base_uri": "https://localhost:8080/",
     "height": 542
    },
    "executionInfo": {
     "elapsed": 2969,
     "status": "ok",
     "timestamp": 1614940520389,
     "user": {
      "displayName": "Charles Tanguy",
      "photoUrl": "",
      "userId": "11930294859591867631"
     },
     "user_tz": -60
    },
    "id": "tstCbuvi9HGX",
    "outputId": "2fe40512-1ef3-42ee-fff3-f919b0fd3d9f"
   },
   "outputs": [
    {
     "data": {
      "application/vnd.plotly.v1+json": {
       "config": {
        "plotlyServerURL": "https://plot.ly"
       },
       "data": [
        {
         "mode": "lines",
         "name": "Training loss",
         "type": "scatter",
         "y": [
          2.1517882908821107,
          2.0765183241844176,
          2.0468030735969545,
          2.0292084679603577,
          2.010465364074707,
          1.9984991757392883,
          1.9833117874145507,
          1.971729612827301,
          1.958872490978241,
          1.9505989645957946,
          1.9476040316581726,
          1.9417747051239014,
          1.9356469491958619,
          1.9322324471473693,
          1.925225496673584,
          1.920540942955017,
          1.9199921690940858,
          1.9171263709068298,
          1.9100169806480407,
          1.9135269743919372,
          1.9115010688781737,
          1.9038741914749147,
          1.90555064535141,
          1.9036262134552002,
          1.9015583047866822,
          1.897689785003662,
          1.8946504923820495,
          1.8943199823379517,
          1.8948692193031311,
          1.8940258631706237,
          1.8893552985191344,
          1.8879324362754821,
          1.8868988770484925,
          1.888406946659088,
          1.8858320655822753,
          1.8863679396629334,
          1.886414233493805,
          1.8837151558876037,
          1.882157096004486,
          1.8825107708930968,
          1.8801409890174865,
          1.8793006973266602,
          1.8779772895812987,
          1.8763076504707337,
          1.874985033607483,
          1.875998456478119,
          1.8767678243637085,
          1.875754714012146,
          1.8738811858177185,
          1.870673538684845
         ]
        },
        {
         "mode": "lines",
         "name": "Validation loss",
         "type": "scatter",
         "y": [
          2.1205219376963167,
          2.0579380052158247,
          2.0261749116757426,
          2.013847338505827,
          2.0047975717642057,
          2.005677334797649,
          1.9853062922962177,
          1.9729182141276593,
          1.9624201451627592,
          1.9557368801043817,
          1.9685592137205714,
          1.9539790130651797,
          1.9527779219630428,
          1.9602109426126693,
          1.9440238148259659,
          1.9416590083521394,
          1.9231311417997075,
          1.929245189355966,
          1.9256033112827582,
          1.9171810302490624,
          1.9329751585238277,
          1.92943354422292,
          1.923817096426845,
          1.912129595256842,
          1.9207548002084605,
          1.9115260089167392,
          1.9177529663323594,
          1.9219192319784681,
          1.9502863922058202,
          1.9041305677578473,
          1.9112405784594746,
          1.909650208851019,
          1.9042346759345203,
          1.9022829235552219,
          1.9106419855794206,
          1.9095536775101487,
          1.9020595481982245,
          1.908136434829273,
          1.9171991256860117,
          1.9302456668390633,
          1.903697757675244,
          1.9040903100571311,
          1.9065639949835147,
          1.9000841348696822,
          1.904293307861962,
          1.9314540990244466,
          1.8938843640275658,
          1.89781055397119,
          1.928451219686685,
          1.906110560551238
         ]
        }
       ],
       "layout": {
        "template": {
         "data": {
          "bar": [
           {
            "error_x": {
             "color": "#2a3f5f"
            },
            "error_y": {
             "color": "#2a3f5f"
            },
            "marker": {
             "line": {
              "color": "#E5ECF6",
              "width": 0.5
             },
             "pattern": {
              "fillmode": "overlay",
              "size": 10,
              "solidity": 0.2
             }
            },
            "type": "bar"
           }
          ],
          "barpolar": [
           {
            "marker": {
             "line": {
              "color": "#E5ECF6",
              "width": 0.5
             },
             "pattern": {
              "fillmode": "overlay",
              "size": 10,
              "solidity": 0.2
             }
            },
            "type": "barpolar"
           }
          ],
          "carpet": [
           {
            "aaxis": {
             "endlinecolor": "#2a3f5f",
             "gridcolor": "white",
             "linecolor": "white",
             "minorgridcolor": "white",
             "startlinecolor": "#2a3f5f"
            },
            "baxis": {
             "endlinecolor": "#2a3f5f",
             "gridcolor": "white",
             "linecolor": "white",
             "minorgridcolor": "white",
             "startlinecolor": "#2a3f5f"
            },
            "type": "carpet"
           }
          ],
          "choropleth": [
           {
            "colorbar": {
             "outlinewidth": 0,
             "ticks": ""
            },
            "type": "choropleth"
           }
          ],
          "contour": [
           {
            "colorbar": {
             "outlinewidth": 0,
             "ticks": ""
            },
            "colorscale": [
             [
              0,
              "#0d0887"
             ],
             [
              0.1111111111111111,
              "#46039f"
             ],
             [
              0.2222222222222222,
              "#7201a8"
             ],
             [
              0.3333333333333333,
              "#9c179e"
             ],
             [
              0.4444444444444444,
              "#bd3786"
             ],
             [
              0.5555555555555556,
              "#d8576b"
             ],
             [
              0.6666666666666666,
              "#ed7953"
             ],
             [
              0.7777777777777778,
              "#fb9f3a"
             ],
             [
              0.8888888888888888,
              "#fdca26"
             ],
             [
              1,
              "#f0f921"
             ]
            ],
            "type": "contour"
           }
          ],
          "contourcarpet": [
           {
            "colorbar": {
             "outlinewidth": 0,
             "ticks": ""
            },
            "type": "contourcarpet"
           }
          ],
          "heatmap": [
           {
            "colorbar": {
             "outlinewidth": 0,
             "ticks": ""
            },
            "colorscale": [
             [
              0,
              "#0d0887"
             ],
             [
              0.1111111111111111,
              "#46039f"
             ],
             [
              0.2222222222222222,
              "#7201a8"
             ],
             [
              0.3333333333333333,
              "#9c179e"
             ],
             [
              0.4444444444444444,
              "#bd3786"
             ],
             [
              0.5555555555555556,
              "#d8576b"
             ],
             [
              0.6666666666666666,
              "#ed7953"
             ],
             [
              0.7777777777777778,
              "#fb9f3a"
             ],
             [
              0.8888888888888888,
              "#fdca26"
             ],
             [
              1,
              "#f0f921"
             ]
            ],
            "type": "heatmap"
           }
          ],
          "histogram": [
           {
            "marker": {
             "pattern": {
              "fillmode": "overlay",
              "size": 10,
              "solidity": 0.2
             }
            },
            "type": "histogram"
           }
          ],
          "histogram2d": [
           {
            "colorbar": {
             "outlinewidth": 0,
             "ticks": ""
            },
            "colorscale": [
             [
              0,
              "#0d0887"
             ],
             [
              0.1111111111111111,
              "#46039f"
             ],
             [
              0.2222222222222222,
              "#7201a8"
             ],
             [
              0.3333333333333333,
              "#9c179e"
             ],
             [
              0.4444444444444444,
              "#bd3786"
             ],
             [
              0.5555555555555556,
              "#d8576b"
             ],
             [
              0.6666666666666666,
              "#ed7953"
             ],
             [
              0.7777777777777778,
              "#fb9f3a"
             ],
             [
              0.8888888888888888,
              "#fdca26"
             ],
             [
              1,
              "#f0f921"
             ]
            ],
            "type": "histogram2d"
           }
          ],
          "histogram2dcontour": [
           {
            "colorbar": {
             "outlinewidth": 0,
             "ticks": ""
            },
            "colorscale": [
             [
              0,
              "#0d0887"
             ],
             [
              0.1111111111111111,
              "#46039f"
             ],
             [
              0.2222222222222222,
              "#7201a8"
             ],
             [
              0.3333333333333333,
              "#9c179e"
             ],
             [
              0.4444444444444444,
              "#bd3786"
             ],
             [
              0.5555555555555556,
              "#d8576b"
             ],
             [
              0.6666666666666666,
              "#ed7953"
             ],
             [
              0.7777777777777778,
              "#fb9f3a"
             ],
             [
              0.8888888888888888,
              "#fdca26"
             ],
             [
              1,
              "#f0f921"
             ]
            ],
            "type": "histogram2dcontour"
           }
          ],
          "mesh3d": [
           {
            "colorbar": {
             "outlinewidth": 0,
             "ticks": ""
            },
            "type": "mesh3d"
           }
          ],
          "parcoords": [
           {
            "line": {
             "colorbar": {
              "outlinewidth": 0,
              "ticks": ""
             }
            },
            "type": "parcoords"
           }
          ],
          "pie": [
           {
            "automargin": true,
            "type": "pie"
           }
          ],
          "scatter": [
           {
            "fillpattern": {
             "fillmode": "overlay",
             "size": 10,
             "solidity": 0.2
            },
            "type": "scatter"
           }
          ],
          "scatter3d": [
           {
            "line": {
             "colorbar": {
              "outlinewidth": 0,
              "ticks": ""
             }
            },
            "marker": {
             "colorbar": {
              "outlinewidth": 0,
              "ticks": ""
             }
            },
            "type": "scatter3d"
           }
          ],
          "scattercarpet": [
           {
            "marker": {
             "colorbar": {
              "outlinewidth": 0,
              "ticks": ""
             }
            },
            "type": "scattercarpet"
           }
          ],
          "scattergeo": [
           {
            "marker": {
             "colorbar": {
              "outlinewidth": 0,
              "ticks": ""
             }
            },
            "type": "scattergeo"
           }
          ],
          "scattergl": [
           {
            "marker": {
             "colorbar": {
              "outlinewidth": 0,
              "ticks": ""
             }
            },
            "type": "scattergl"
           }
          ],
          "scattermap": [
           {
            "marker": {
             "colorbar": {
              "outlinewidth": 0,
              "ticks": ""
             }
            },
            "type": "scattermap"
           }
          ],
          "scattermapbox": [
           {
            "marker": {
             "colorbar": {
              "outlinewidth": 0,
              "ticks": ""
             }
            },
            "type": "scattermapbox"
           }
          ],
          "scatterpolar": [
           {
            "marker": {
             "colorbar": {
              "outlinewidth": 0,
              "ticks": ""
             }
            },
            "type": "scatterpolar"
           }
          ],
          "scatterpolargl": [
           {
            "marker": {
             "colorbar": {
              "outlinewidth": 0,
              "ticks": ""
             }
            },
            "type": "scatterpolargl"
           }
          ],
          "scatterternary": [
           {
            "marker": {
             "colorbar": {
              "outlinewidth": 0,
              "ticks": ""
             }
            },
            "type": "scatterternary"
           }
          ],
          "surface": [
           {
            "colorbar": {
             "outlinewidth": 0,
             "ticks": ""
            },
            "colorscale": [
             [
              0,
              "#0d0887"
             ],
             [
              0.1111111111111111,
              "#46039f"
             ],
             [
              0.2222222222222222,
              "#7201a8"
             ],
             [
              0.3333333333333333,
              "#9c179e"
             ],
             [
              0.4444444444444444,
              "#bd3786"
             ],
             [
              0.5555555555555556,
              "#d8576b"
             ],
             [
              0.6666666666666666,
              "#ed7953"
             ],
             [
              0.7777777777777778,
              "#fb9f3a"
             ],
             [
              0.8888888888888888,
              "#fdca26"
             ],
             [
              1,
              "#f0f921"
             ]
            ],
            "type": "surface"
           }
          ],
          "table": [
           {
            "cells": {
             "fill": {
              "color": "#EBF0F8"
             },
             "line": {
              "color": "white"
             }
            },
            "header": {
             "fill": {
              "color": "#C8D4E3"
             },
             "line": {
              "color": "white"
             }
            },
            "type": "table"
           }
          ]
         },
         "layout": {
          "annotationdefaults": {
           "arrowcolor": "#2a3f5f",
           "arrowhead": 0,
           "arrowwidth": 1
          },
          "autotypenumbers": "strict",
          "coloraxis": {
           "colorbar": {
            "outlinewidth": 0,
            "ticks": ""
           }
          },
          "colorscale": {
           "diverging": [
            [
             0,
             "#8e0152"
            ],
            [
             0.1,
             "#c51b7d"
            ],
            [
             0.2,
             "#de77ae"
            ],
            [
             0.3,
             "#f1b6da"
            ],
            [
             0.4,
             "#fde0ef"
            ],
            [
             0.5,
             "#f7f7f7"
            ],
            [
             0.6,
             "#e6f5d0"
            ],
            [
             0.7,
             "#b8e186"
            ],
            [
             0.8,
             "#7fbc41"
            ],
            [
             0.9,
             "#4d9221"
            ],
            [
             1,
             "#276419"
            ]
           ],
           "sequential": [
            [
             0,
             "#0d0887"
            ],
            [
             0.1111111111111111,
             "#46039f"
            ],
            [
             0.2222222222222222,
             "#7201a8"
            ],
            [
             0.3333333333333333,
             "#9c179e"
            ],
            [
             0.4444444444444444,
             "#bd3786"
            ],
            [
             0.5555555555555556,
             "#d8576b"
            ],
            [
             0.6666666666666666,
             "#ed7953"
            ],
            [
             0.7777777777777778,
             "#fb9f3a"
            ],
            [
             0.8888888888888888,
             "#fdca26"
            ],
            [
             1,
             "#f0f921"
            ]
           ],
           "sequentialminus": [
            [
             0,
             "#0d0887"
            ],
            [
             0.1111111111111111,
             "#46039f"
            ],
            [
             0.2222222222222222,
             "#7201a8"
            ],
            [
             0.3333333333333333,
             "#9c179e"
            ],
            [
             0.4444444444444444,
             "#bd3786"
            ],
            [
             0.5555555555555556,
             "#d8576b"
            ],
            [
             0.6666666666666666,
             "#ed7953"
            ],
            [
             0.7777777777777778,
             "#fb9f3a"
            ],
            [
             0.8888888888888888,
             "#fdca26"
            ],
            [
             1,
             "#f0f921"
            ]
           ]
          },
          "colorway": [
           "#636efa",
           "#EF553B",
           "#00cc96",
           "#ab63fa",
           "#FFA15A",
           "#19d3f3",
           "#FF6692",
           "#B6E880",
           "#FF97FF",
           "#FECB52"
          ],
          "font": {
           "color": "#2a3f5f"
          },
          "geo": {
           "bgcolor": "white",
           "lakecolor": "white",
           "landcolor": "#E5ECF6",
           "showlakes": true,
           "showland": true,
           "subunitcolor": "white"
          },
          "hoverlabel": {
           "align": "left"
          },
          "hovermode": "closest",
          "mapbox": {
           "style": "light"
          },
          "paper_bgcolor": "white",
          "plot_bgcolor": "#E5ECF6",
          "polar": {
           "angularaxis": {
            "gridcolor": "white",
            "linecolor": "white",
            "ticks": ""
           },
           "bgcolor": "#E5ECF6",
           "radialaxis": {
            "gridcolor": "white",
            "linecolor": "white",
            "ticks": ""
           }
          },
          "scene": {
           "xaxis": {
            "backgroundcolor": "#E5ECF6",
            "gridcolor": "white",
            "gridwidth": 2,
            "linecolor": "white",
            "showbackground": true,
            "ticks": "",
            "zerolinecolor": "white"
           },
           "yaxis": {
            "backgroundcolor": "#E5ECF6",
            "gridcolor": "white",
            "gridwidth": 2,
            "linecolor": "white",
            "showbackground": true,
            "ticks": "",
            "zerolinecolor": "white"
           },
           "zaxis": {
            "backgroundcolor": "#E5ECF6",
            "gridcolor": "white",
            "gridwidth": 2,
            "linecolor": "white",
            "showbackground": true,
            "ticks": "",
            "zerolinecolor": "white"
           }
          },
          "shapedefaults": {
           "line": {
            "color": "#2a3f5f"
           }
          },
          "ternary": {
           "aaxis": {
            "gridcolor": "white",
            "linecolor": "white",
            "ticks": ""
           },
           "baxis": {
            "gridcolor": "white",
            "linecolor": "white",
            "ticks": ""
           },
           "bgcolor": "#E5ECF6",
           "caxis": {
            "gridcolor": "white",
            "linecolor": "white",
            "ticks": ""
           }
          },
          "title": {
           "x": 0.05
          },
          "xaxis": {
           "automargin": true,
           "gridcolor": "white",
           "linecolor": "white",
           "ticks": "",
           "title": {
            "standoff": 15
           },
           "zerolinecolor": "white",
           "zerolinewidth": 2
          },
          "yaxis": {
           "automargin": true,
           "gridcolor": "white",
           "linecolor": "white",
           "ticks": "",
           "title": {
            "standoff": 15
           },
           "zerolinecolor": "white",
           "zerolinewidth": 2
          }
         }
        },
        "title": {
         "text": "Training and val loss across epochs"
        },
        "xaxis": {
         "title": {
          "text": "epochs"
         }
        },
        "yaxis": {
         "title": {
          "text": "Cross Entropy"
         }
        }
       }
      }
     },
     "metadata": {},
     "output_type": "display_data"
    }
   ],
   "source": [
    "from plotly import graph_objects as go\n",
    "\n",
    "fig = go.Figure(\n",
    "    data=[\n",
    "        go.Scatter(\n",
    "            y=history[\"loss\"],\n",
    "            name=\"Training loss\",\n",
    "            mode=\"lines\",\n",
    "            ),\n",
    "        go.Scatter(\n",
    "            y=history[\"val_loss\"],\n",
    "            name=\"Validation loss\",\n",
    "            mode=\"lines\",\n",
    "            )\n",
    "])\n",
    "\n",
    "fig.update_layout(\n",
    "    title='Training and val loss across epochs',\n",
    "    xaxis_title='epochs',\n",
    "    yaxis_title='Cross Entropy'    \n",
    ")\n",
    "\n",
    "fig.show()"
   ]
  },
  {
   "cell_type": "markdown",
   "metadata": {
    "id": "H55VCIfa9Rzg"
   },
   "source": [
    "Here it seems pretty clear that just by adding a second convolutional layer in our network we are able to reach lower values of the loss function in fewer epochs, and despite the fact that our second model has much fewer parameters!"
   ]
  },
  {
   "cell_type": "markdown",
   "metadata": {
    "id": "bnjG53H89phu"
   },
   "source": [
    "* Repeat the same steps adding a third convolutional layer with `128` neurons on it, followed my a max pooling layer."
   ]
  },
  {
   "cell_type": "code",
   "execution_count": 44,
   "metadata": {
    "colab": {
     "base_uri": "https://localhost:8080/"
    },
    "executionInfo": {
     "elapsed": 1243,
     "status": "ok",
     "timestamp": 1614940788339,
     "user": {
      "displayName": "Charles Tanguy",
      "photoUrl": "",
      "userId": "11930294859591867631"
     },
     "user_tz": -60
    },
    "id": "9qHDnAEW9zNM",
    "outputId": "d8ea4952-dffa-4607-83aa-3b9f9fee0865"
   },
   "outputs": [
    {
     "name": "stdout",
     "output_type": "stream",
     "text": [
      "CNN3(\n",
      "  (conv1): Conv2d(3, 32, kernel_size=(3, 3), stride=(1, 1), padding=(1, 1))\n",
      "  (pool1): MaxPool2d(kernel_size=2, stride=2, padding=0, dilation=1, ceil_mode=False)\n",
      "  (conv2): Conv2d(32, 64, kernel_size=(3, 3), stride=(1, 1), padding=(1, 1))\n",
      "  (pool2): MaxPool2d(kernel_size=2, stride=2, padding=0, dilation=1, ceil_mode=False)\n",
      "  (conv3): Conv2d(64, 128, kernel_size=(3, 3), stride=(1, 1), padding=(1, 1))\n",
      "  (pool3): MaxPool2d(kernel_size=2, stride=2, padding=0, dilation=1, ceil_mode=False)\n",
      "  (flatten): Flatten(start_dim=1, end_dim=-1)\n",
      "  (fc): Linear(in_features=2048, out_features=10, bias=True)\n",
      "  (softmax): Softmax(dim=1)\n",
      ")\n"
     ]
    }
   ],
   "source": [
    "# Define a CNN model with three convolutional layers in PyTorch\n",
    "class CNN3(nn.Module):\n",
    "    def __init__(self):\n",
    "        super(CNN3, self).__init__()\n",
    "        # First convolutional layer: 32 filters, kernel size 3x3, padding \"same\"\n",
    "        self.conv1 = nn.Conv2d(in_channels=3, out_channels=32, kernel_size=3, padding=1)\n",
    "        self.pool1 = nn.MaxPool2d(kernel_size=2, stride=2)  # Max pooling layer\n",
    "        # Second convolutional layer: 64 filters\n",
    "        self.conv2 = nn.Conv2d(in_channels=32, out_channels=64, kernel_size=3, padding=1)\n",
    "        self.pool2 = nn.MaxPool2d(kernel_size=2, stride=2)  # Max pooling layer\n",
    "        # Third convolutional layer: 128 filters\n",
    "        self.conv3 = nn.Conv2d(in_channels=64, out_channels=128, kernel_size=3, padding=1)\n",
    "        self.pool3 = nn.MaxPool2d(kernel_size=2, stride=2)  # Max pooling layer\n",
    "        # Flatten and fully connected layers\n",
    "        self.flatten = nn.Flatten()\n",
    "        self.fc = nn.Linear(128 * 4 * 4, 10)  # Fully connected layer for 10 classes\n",
    "        self.softmax = nn.Softmax(dim=1)  # Softmax activation for classification\n",
    "    \n",
    "    def forward(self, x):\n",
    "        x = torch.relu(self.conv1(x))\n",
    "        x = self.pool1(x)\n",
    "        x = torch.relu(self.conv2(x))\n",
    "        x = self.pool2(x)\n",
    "        x = torch.relu(self.conv3(x))\n",
    "        x = self.pool3(x)\n",
    "        x = self.flatten(x)\n",
    "        x = self.fc(x)\n",
    "        x = self.softmax(x)\n",
    "        return x\n",
    "\n",
    "# Instantiate the model\n",
    "model_conv3 = CNN3()\n",
    "print(model_conv3)"
   ]
  },
  {
   "cell_type": "code",
   "execution_count": 45,
   "metadata": {},
   "outputs": [
    {
     "data": {
      "text/plain": [
       "==========================================================================================\n",
       "Layer (type:depth-idx)                   Output Shape              Param #\n",
       "==========================================================================================\n",
       "CNN3                                     [1, 10]                   --\n",
       "├─Conv2d: 1-1                            [1, 32, 32, 32]           896\n",
       "├─MaxPool2d: 1-2                         [1, 32, 16, 16]           --\n",
       "├─Conv2d: 1-3                            [1, 64, 16, 16]           18,496\n",
       "├─MaxPool2d: 1-4                         [1, 64, 8, 8]             --\n",
       "├─Conv2d: 1-5                            [1, 128, 8, 8]            73,856\n",
       "├─MaxPool2d: 1-6                         [1, 128, 4, 4]            --\n",
       "├─Flatten: 1-7                           [1, 2048]                 --\n",
       "├─Linear: 1-8                            [1, 10]                   20,490\n",
       "├─Softmax: 1-9                           [1, 10]                   --\n",
       "==========================================================================================\n",
       "Total params: 113,738\n",
       "Trainable params: 113,738\n",
       "Non-trainable params: 0\n",
       "Total mult-adds (M): 10.40\n",
       "==========================================================================================\n",
       "Input size (MB): 0.01\n",
       "Forward/backward pass size (MB): 0.46\n",
       "Params size (MB): 0.45\n",
       "Estimated Total Size (MB): 0.93\n",
       "=========================================================================================="
      ]
     },
     "execution_count": 45,
     "metadata": {},
     "output_type": "execute_result"
    }
   ],
   "source": [
    "# Print model summary\n",
    "summary(model_conv3, input_size=(1, 3, 32, 32))"
   ]
  },
  {
   "cell_type": "code",
   "execution_count": null,
   "metadata": {
    "colab": {
     "base_uri": "https://localhost:8080/"
    },
    "executionInfo": {
     "elapsed": 2187027,
     "status": "ok",
     "timestamp": 1614942988577,
     "user": {
      "displayName": "Charles Tanguy",
      "photoUrl": "",
      "userId": "11930294859591867631"
     },
     "user_tz": -60
    },
    "id": "w-quUhgd-A7X",
    "outputId": "cfd8424c-1419-4e8e-daa4-ef475e07fc67"
   },
   "outputs": [
    {
     "name": "stdout",
     "output_type": "stream",
     "text": [
      "Epoch [1/50], Loss: 2.1621, Acc: 0.2865, Val Loss: 2.0876, Val Acc: 0.3634\n",
      "Epoch [2/50], Loss: 2.0559, Acc: 0.3985, Val Loss: 2.0392, Val Acc: 0.4187\n",
      "Epoch [3/50], Loss: 2.0150, Acc: 0.4404, Val Loss: 2.0244, Val Acc: 0.4305\n",
      "Epoch [4/50], Loss: 1.9813, Acc: 0.4753, Val Loss: 1.9638, Val Acc: 0.4974\n",
      "Epoch [5/50], Loss: 1.9549, Acc: 0.5029, Val Loss: 1.9528, Val Acc: 0.5068\n",
      "Epoch [6/50], Loss: 1.9387, Acc: 0.5184, Val Loss: 1.9322, Val Acc: 0.5236\n",
      "Epoch [7/50], Loss: 1.9210, Acc: 0.5369, Val Loss: 1.9136, Val Acc: 0.5439\n",
      "Epoch [8/50], Loss: 1.9056, Acc: 0.5525, Val Loss: 1.9010, Val Acc: 0.5586\n",
      "Epoch [9/50], Loss: 1.8954, Acc: 0.5639, Val Loss: 1.8931, Val Acc: 0.5646\n",
      "Epoch [10/50], Loss: 1.8848, Acc: 0.5742, Val Loss: 1.9242, Val Acc: 0.5351\n",
      "Epoch [11/50], Loss: 1.8763, Acc: 0.5819, Val Loss: 1.8756, Val Acc: 0.5846\n",
      "Epoch [12/50], Loss: 1.8658, Acc: 0.5926, Val Loss: 1.8761, Val Acc: 0.5825\n",
      "Epoch [13/50], Loss: 1.8609, Acc: 0.5969, Val Loss: 1.8862, Val Acc: 0.5713\n",
      "Epoch [14/50], Loss: 1.8552, Acc: 0.6034, Val Loss: 1.8728, Val Acc: 0.5864\n",
      "Epoch [15/50], Loss: 1.8579, Acc: 0.6001, Val Loss: 1.8747, Val Acc: 0.5828\n",
      "Epoch [16/50], Loss: 1.8451, Acc: 0.6141, Val Loss: 1.8720, Val Acc: 0.5857\n",
      "Epoch [17/50], Loss: 1.8430, Acc: 0.6161, Val Loss: 1.8533, Val Acc: 0.6051\n",
      "Epoch [18/50], Loss: 1.8363, Acc: 0.6230, Val Loss: 1.8658, Val Acc: 0.5910\n",
      "Epoch [19/50], Loss: 1.8358, Acc: 0.6222, Val Loss: 1.8599, Val Acc: 0.5981\n",
      "Epoch [20/50], Loss: 1.8294, Acc: 0.6307, Val Loss: 1.8594, Val Acc: 0.6007\n",
      "Epoch [21/50], Loss: 1.8287, Acc: 0.6296, Val Loss: 1.8610, Val Acc: 0.5967\n",
      "Epoch [22/50], Loss: 1.8280, Acc: 0.6314, Val Loss: 1.8399, Val Acc: 0.6194\n",
      "Epoch [23/50], Loss: 1.8287, Acc: 0.6304, Val Loss: 1.8439, Val Acc: 0.6149\n",
      "Epoch [24/50], Loss: 1.8234, Acc: 0.6353, Val Loss: 1.8592, Val Acc: 0.5991\n",
      "Epoch [25/50], Loss: 1.8286, Acc: 0.6300, Val Loss: 1.8663, Val Acc: 0.5920\n",
      "Epoch [26/50], Loss: 1.8229, Acc: 0.6352, Val Loss: 1.8583, Val Acc: 0.6003\n",
      "Epoch [27/50], Loss: 1.8242, Acc: 0.6349, Val Loss: 1.8403, Val Acc: 0.6195\n",
      "Epoch [28/50], Loss: 1.8238, Acc: 0.6357, Val Loss: 1.8425, Val Acc: 0.6166\n",
      "Epoch [29/50], Loss: 1.8231, Acc: 0.6360, Val Loss: 1.8596, Val Acc: 0.5992\n",
      "Epoch [30/50], Loss: 1.8195, Acc: 0.6395, Val Loss: 1.8397, Val Acc: 0.6191\n",
      "Epoch [31/50], Loss: 1.8171, Acc: 0.6415, Val Loss: 1.8345, Val Acc: 0.6237\n",
      "Epoch [32/50], Loss: 1.8103, Acc: 0.6491, Val Loss: 1.8529, Val Acc: 0.6071\n",
      "Epoch [33/50], Loss: 1.8123, Acc: 0.6470, Val Loss: 1.8875, Val Acc: 0.5703\n",
      "Epoch [34/50], Loss: 1.8186, Acc: 0.6406, Val Loss: 1.8692, Val Acc: 0.5910\n",
      "Epoch [35/50], Loss: 1.8120, Acc: 0.6476, Val Loss: 1.8342, Val Acc: 0.6261\n",
      "Epoch [36/50], Loss: 1.8085, Acc: 0.6509, Val Loss: 1.8419, Val Acc: 0.6182\n",
      "Epoch [37/50], Loss: 1.8034, Acc: 0.6569, Val Loss: 1.8391, Val Acc: 0.6212\n",
      "Epoch [38/50], Loss: 1.8103, Acc: 0.6488, Val Loss: 1.8332, Val Acc: 0.6268\n",
      "Epoch [39/50], Loss: 1.8117, Acc: 0.6479, Val Loss: 1.8361, Val Acc: 0.6233\n",
      "Epoch [40/50], Loss: 1.8114, Acc: 0.6478, Val Loss: 1.8479, Val Acc: 0.6116\n",
      "Epoch [41/50], Loss: 1.8157, Acc: 0.6440, Val Loss: 1.8629, Val Acc: 0.5963\n",
      "Epoch [42/50], Loss: 1.8124, Acc: 0.6475, Val Loss: 1.8384, Val Acc: 0.6220\n",
      "Epoch [43/50], Loss: 1.8147, Acc: 0.6449, Val Loss: 1.8335, Val Acc: 0.6262\n",
      "Epoch [44/50], Loss: 1.8128, Acc: 0.6472, Val Loss: 1.8340, Val Acc: 0.6258\n",
      "Epoch [45/50], Loss: 1.8095, Acc: 0.6504, Val Loss: 1.8318, Val Acc: 0.6276\n",
      "Epoch [46/50], Loss: 1.8135, Acc: 0.6463, Val Loss: 1.8408, Val Acc: 0.6195\n",
      "Epoch [47/50], Loss: 1.8135, Acc: 0.6465, Val Loss: 1.8313, Val Acc: 0.6284\n",
      "Epoch [48/50], Loss: 1.8156, Acc: 0.6441, Val Loss: 1.8203, Val Acc: 0.6403\n",
      "Epoch [49/50], Loss: 1.8057, Acc: 0.6543, Val Loss: 1.8370, Val Acc: 0.6228\n",
      "Epoch [50/50], Loss: 1.8083, Acc: 0.6520, Val Loss: 1.8525, Val Acc: 0.6074\n"
     ]
    }
   ],
   "source": [
    "# Define the loss function and optimizer\n",
    "criterion = nn.CrossEntropyLoss()\n",
    "optimizer3 = optim.Adam(model_conv3.parameters(), lr=0.001)\n",
    "\n",
    "# Train the model\n",
    "history3 = train(model_conv3, train_loader, val_loader, criterion, optimizer3, epochs=50)"
   ]
  },
  {
   "cell_type": "code",
   "execution_count": null,
   "metadata": {
    "executionInfo": {
     "elapsed": 635,
     "status": "ok",
     "timestamp": 1614943047791,
     "user": {
      "displayName": "Charles Tanguy",
      "photoUrl": "",
      "userId": "11930294859591867631"
     },
     "user_tz": -60
    },
    "id": "nPGZRWTb-JZ5"
   },
   "outputs": [],
   "source": [
    "# Save model checkpoint\n",
    "checkpoint_path = \"model_conv3.pth\"\n",
    "torch.save({\n",
    "    'model_state_dict': model_conv3.state_dict(),\n",
    "    'optimizer_state_dict': optimizer3.state_dict(),\n",
    "    'val_loss': history3[\"val_loss\"][-1],\n",
    "    'history': history3\n",
    "}, checkpoint_path)"
   ]
  },
  {
   "cell_type": "code",
   "execution_count": 46,
   "metadata": {
    "executionInfo": {
     "elapsed": 772,
     "status": "ok",
     "timestamp": 1614943290159,
     "user": {
      "displayName": "Charles Tanguy",
      "photoUrl": "",
      "userId": "11930294859591867631"
     },
     "user_tz": -60
    },
    "id": "Zcv0hUU7Hkoe"
   },
   "outputs": [
    {
     "name": "stdout",
     "output_type": "stream",
     "text": [
      "Download complete.\n"
     ]
    }
   ],
   "source": [
    "url = \"https://full-stack-assets.s3.eu-west-3.amazonaws.com/M08-deep-learning/model_conv3.pth\"\n",
    "output_path = \"model_conv3.pth\"\n",
    "\n",
    "# Download the file\n",
    "if not os.path.exists(output_path):\n",
    "    response = requests.get(url, stream=True)\n",
    "    with open(output_path, \"wb\") as file:\n",
    "        for chunk in response.iter_content(chunk_size=1024):\n",
    "            if chunk:\n",
    "                file.write(chunk)\n",
    "    print(\"Download complete.\")"
   ]
  },
  {
   "cell_type": "code",
   "execution_count": 47,
   "metadata": {},
   "outputs": [],
   "source": [
    "# Load the model from checkpoint\n",
    "restored_model_conv3 = CNN3()\n",
    "restored_model_conv3.load_state_dict(torch.load(\"model_conv3.pth\", weights_only=True)[\"model_state_dict\"])\n",
    "restored_model_conv3.eval()\n",
    "history = torch.load(\"model_conv3.pth\", weights_only=True)[\"history\"]"
   ]
  },
  {
   "cell_type": "code",
   "execution_count": 48,
   "metadata": {
    "colab": {
     "base_uri": "https://localhost:8080/",
     "height": 542
    },
    "executionInfo": {
     "elapsed": 925,
     "status": "ok",
     "timestamp": 1614943293101,
     "user": {
      "displayName": "Charles Tanguy",
      "photoUrl": "",
      "userId": "11930294859591867631"
     },
     "user_tz": -60
    },
    "id": "YcKDVTnGHuoU",
    "outputId": "69a67dda-bc88-4401-90f4-a2bb3ae1b688"
   },
   "outputs": [
    {
     "data": {
      "application/vnd.plotly.v1+json": {
       "config": {
        "plotlyServerURL": "https://plot.ly"
       },
       "data": [
        {
         "mode": "lines",
         "name": "Training loss",
         "type": "scatter",
         "y": [
          2.162091208934784,
          2.0559358222007753,
          2.014993165111542,
          1.9812639902114868,
          1.9549225312232972,
          1.9387214198112488,
          1.921011526107788,
          1.9055910064697266,
          1.8953953824043275,
          1.8847913189888001,
          1.8762851783752441,
          1.8658118510246278,
          1.8609372531890869,
          1.855244745349884,
          1.8578629201889039,
          1.8450575366020203,
          1.8429759826660157,
          1.8363281945228576,
          1.835826846218109,
          1.8294011207580567,
          1.8287476151466369,
          1.8279578828811645,
          1.8287291214942931,
          1.8233659642219544,
          1.8285708141326904,
          1.8229184638977052,
          1.824170802783966,
          1.8237742873191833,
          1.8231407457351685,
          1.819546271133423,
          1.817112808227539,
          1.8102661443710326,
          1.812310118484497,
          1.818598387145996,
          1.8119684872627257,
          1.8084529052734375,
          1.8033859684944153,
          1.8103186178207398,
          1.8117415246963502,
          1.811358854484558,
          1.8156699271202088,
          1.8124444126129151,
          1.814717748451233,
          1.8128181241035461,
          1.8094561188697815,
          1.813505741786957,
          1.8135141585350036,
          1.8155868983268737,
          1.8056792463302613,
          1.8082907858848571
         ]
        },
        {
         "mode": "lines",
         "name": "Validation loss",
         "type": "scatter",
         "y": [
          2.0876246367018823,
          2.0391597664013457,
          2.024377825161139,
          1.9637649063104259,
          1.952819538954348,
          1.9321608893787519,
          1.9135649809822106,
          1.9009610448782437,
          1.8930968011910922,
          1.9241687055593861,
          1.8756216056049821,
          1.8760525715617706,
          1.8861980007860226,
          1.8728006522114666,
          1.8747189265851396,
          1.8720269172717208,
          1.8533476587301625,
          1.8658432469200403,
          1.859937684604535,
          1.8593687535093997,
          1.8609987272622106,
          1.8399205836244286,
          1.843888376467525,
          1.8592244858939808,
          1.8663237346246981,
          1.858286803903671,
          1.8402696154749811,
          1.8424514905332376,
          1.8595995278404163,
          1.8397138118743896,
          1.8345410530559552,
          1.852935769306585,
          1.8874945156871321,
          1.8691882946239873,
          1.8341537786367983,
          1.8418931549730393,
          1.8391214917643002,
          1.8331572019254057,
          1.8361204333198717,
          1.8478718291456326,
          1.8628784738028774,
          1.8383895448221566,
          1.8335387211638137,
          1.8339876865807432,
          1.8318470472725816,
          1.8408154009249265,
          1.8313045311278808,
          1.82031996486286,
          1.8370321219721542,
          1.8524753099051527
         ]
        }
       ],
       "layout": {
        "template": {
         "data": {
          "bar": [
           {
            "error_x": {
             "color": "#2a3f5f"
            },
            "error_y": {
             "color": "#2a3f5f"
            },
            "marker": {
             "line": {
              "color": "#E5ECF6",
              "width": 0.5
             },
             "pattern": {
              "fillmode": "overlay",
              "size": 10,
              "solidity": 0.2
             }
            },
            "type": "bar"
           }
          ],
          "barpolar": [
           {
            "marker": {
             "line": {
              "color": "#E5ECF6",
              "width": 0.5
             },
             "pattern": {
              "fillmode": "overlay",
              "size": 10,
              "solidity": 0.2
             }
            },
            "type": "barpolar"
           }
          ],
          "carpet": [
           {
            "aaxis": {
             "endlinecolor": "#2a3f5f",
             "gridcolor": "white",
             "linecolor": "white",
             "minorgridcolor": "white",
             "startlinecolor": "#2a3f5f"
            },
            "baxis": {
             "endlinecolor": "#2a3f5f",
             "gridcolor": "white",
             "linecolor": "white",
             "minorgridcolor": "white",
             "startlinecolor": "#2a3f5f"
            },
            "type": "carpet"
           }
          ],
          "choropleth": [
           {
            "colorbar": {
             "outlinewidth": 0,
             "ticks": ""
            },
            "type": "choropleth"
           }
          ],
          "contour": [
           {
            "colorbar": {
             "outlinewidth": 0,
             "ticks": ""
            },
            "colorscale": [
             [
              0,
              "#0d0887"
             ],
             [
              0.1111111111111111,
              "#46039f"
             ],
             [
              0.2222222222222222,
              "#7201a8"
             ],
             [
              0.3333333333333333,
              "#9c179e"
             ],
             [
              0.4444444444444444,
              "#bd3786"
             ],
             [
              0.5555555555555556,
              "#d8576b"
             ],
             [
              0.6666666666666666,
              "#ed7953"
             ],
             [
              0.7777777777777778,
              "#fb9f3a"
             ],
             [
              0.8888888888888888,
              "#fdca26"
             ],
             [
              1,
              "#f0f921"
             ]
            ],
            "type": "contour"
           }
          ],
          "contourcarpet": [
           {
            "colorbar": {
             "outlinewidth": 0,
             "ticks": ""
            },
            "type": "contourcarpet"
           }
          ],
          "heatmap": [
           {
            "colorbar": {
             "outlinewidth": 0,
             "ticks": ""
            },
            "colorscale": [
             [
              0,
              "#0d0887"
             ],
             [
              0.1111111111111111,
              "#46039f"
             ],
             [
              0.2222222222222222,
              "#7201a8"
             ],
             [
              0.3333333333333333,
              "#9c179e"
             ],
             [
              0.4444444444444444,
              "#bd3786"
             ],
             [
              0.5555555555555556,
              "#d8576b"
             ],
             [
              0.6666666666666666,
              "#ed7953"
             ],
             [
              0.7777777777777778,
              "#fb9f3a"
             ],
             [
              0.8888888888888888,
              "#fdca26"
             ],
             [
              1,
              "#f0f921"
             ]
            ],
            "type": "heatmap"
           }
          ],
          "histogram": [
           {
            "marker": {
             "pattern": {
              "fillmode": "overlay",
              "size": 10,
              "solidity": 0.2
             }
            },
            "type": "histogram"
           }
          ],
          "histogram2d": [
           {
            "colorbar": {
             "outlinewidth": 0,
             "ticks": ""
            },
            "colorscale": [
             [
              0,
              "#0d0887"
             ],
             [
              0.1111111111111111,
              "#46039f"
             ],
             [
              0.2222222222222222,
              "#7201a8"
             ],
             [
              0.3333333333333333,
              "#9c179e"
             ],
             [
              0.4444444444444444,
              "#bd3786"
             ],
             [
              0.5555555555555556,
              "#d8576b"
             ],
             [
              0.6666666666666666,
              "#ed7953"
             ],
             [
              0.7777777777777778,
              "#fb9f3a"
             ],
             [
              0.8888888888888888,
              "#fdca26"
             ],
             [
              1,
              "#f0f921"
             ]
            ],
            "type": "histogram2d"
           }
          ],
          "histogram2dcontour": [
           {
            "colorbar": {
             "outlinewidth": 0,
             "ticks": ""
            },
            "colorscale": [
             [
              0,
              "#0d0887"
             ],
             [
              0.1111111111111111,
              "#46039f"
             ],
             [
              0.2222222222222222,
              "#7201a8"
             ],
             [
              0.3333333333333333,
              "#9c179e"
             ],
             [
              0.4444444444444444,
              "#bd3786"
             ],
             [
              0.5555555555555556,
              "#d8576b"
             ],
             [
              0.6666666666666666,
              "#ed7953"
             ],
             [
              0.7777777777777778,
              "#fb9f3a"
             ],
             [
              0.8888888888888888,
              "#fdca26"
             ],
             [
              1,
              "#f0f921"
             ]
            ],
            "type": "histogram2dcontour"
           }
          ],
          "mesh3d": [
           {
            "colorbar": {
             "outlinewidth": 0,
             "ticks": ""
            },
            "type": "mesh3d"
           }
          ],
          "parcoords": [
           {
            "line": {
             "colorbar": {
              "outlinewidth": 0,
              "ticks": ""
             }
            },
            "type": "parcoords"
           }
          ],
          "pie": [
           {
            "automargin": true,
            "type": "pie"
           }
          ],
          "scatter": [
           {
            "fillpattern": {
             "fillmode": "overlay",
             "size": 10,
             "solidity": 0.2
            },
            "type": "scatter"
           }
          ],
          "scatter3d": [
           {
            "line": {
             "colorbar": {
              "outlinewidth": 0,
              "ticks": ""
             }
            },
            "marker": {
             "colorbar": {
              "outlinewidth": 0,
              "ticks": ""
             }
            },
            "type": "scatter3d"
           }
          ],
          "scattercarpet": [
           {
            "marker": {
             "colorbar": {
              "outlinewidth": 0,
              "ticks": ""
             }
            },
            "type": "scattercarpet"
           }
          ],
          "scattergeo": [
           {
            "marker": {
             "colorbar": {
              "outlinewidth": 0,
              "ticks": ""
             }
            },
            "type": "scattergeo"
           }
          ],
          "scattergl": [
           {
            "marker": {
             "colorbar": {
              "outlinewidth": 0,
              "ticks": ""
             }
            },
            "type": "scattergl"
           }
          ],
          "scattermap": [
           {
            "marker": {
             "colorbar": {
              "outlinewidth": 0,
              "ticks": ""
             }
            },
            "type": "scattermap"
           }
          ],
          "scattermapbox": [
           {
            "marker": {
             "colorbar": {
              "outlinewidth": 0,
              "ticks": ""
             }
            },
            "type": "scattermapbox"
           }
          ],
          "scatterpolar": [
           {
            "marker": {
             "colorbar": {
              "outlinewidth": 0,
              "ticks": ""
             }
            },
            "type": "scatterpolar"
           }
          ],
          "scatterpolargl": [
           {
            "marker": {
             "colorbar": {
              "outlinewidth": 0,
              "ticks": ""
             }
            },
            "type": "scatterpolargl"
           }
          ],
          "scatterternary": [
           {
            "marker": {
             "colorbar": {
              "outlinewidth": 0,
              "ticks": ""
             }
            },
            "type": "scatterternary"
           }
          ],
          "surface": [
           {
            "colorbar": {
             "outlinewidth": 0,
             "ticks": ""
            },
            "colorscale": [
             [
              0,
              "#0d0887"
             ],
             [
              0.1111111111111111,
              "#46039f"
             ],
             [
              0.2222222222222222,
              "#7201a8"
             ],
             [
              0.3333333333333333,
              "#9c179e"
             ],
             [
              0.4444444444444444,
              "#bd3786"
             ],
             [
              0.5555555555555556,
              "#d8576b"
             ],
             [
              0.6666666666666666,
              "#ed7953"
             ],
             [
              0.7777777777777778,
              "#fb9f3a"
             ],
             [
              0.8888888888888888,
              "#fdca26"
             ],
             [
              1,
              "#f0f921"
             ]
            ],
            "type": "surface"
           }
          ],
          "table": [
           {
            "cells": {
             "fill": {
              "color": "#EBF0F8"
             },
             "line": {
              "color": "white"
             }
            },
            "header": {
             "fill": {
              "color": "#C8D4E3"
             },
             "line": {
              "color": "white"
             }
            },
            "type": "table"
           }
          ]
         },
         "layout": {
          "annotationdefaults": {
           "arrowcolor": "#2a3f5f",
           "arrowhead": 0,
           "arrowwidth": 1
          },
          "autotypenumbers": "strict",
          "coloraxis": {
           "colorbar": {
            "outlinewidth": 0,
            "ticks": ""
           }
          },
          "colorscale": {
           "diverging": [
            [
             0,
             "#8e0152"
            ],
            [
             0.1,
             "#c51b7d"
            ],
            [
             0.2,
             "#de77ae"
            ],
            [
             0.3,
             "#f1b6da"
            ],
            [
             0.4,
             "#fde0ef"
            ],
            [
             0.5,
             "#f7f7f7"
            ],
            [
             0.6,
             "#e6f5d0"
            ],
            [
             0.7,
             "#b8e186"
            ],
            [
             0.8,
             "#7fbc41"
            ],
            [
             0.9,
             "#4d9221"
            ],
            [
             1,
             "#276419"
            ]
           ],
           "sequential": [
            [
             0,
             "#0d0887"
            ],
            [
             0.1111111111111111,
             "#46039f"
            ],
            [
             0.2222222222222222,
             "#7201a8"
            ],
            [
             0.3333333333333333,
             "#9c179e"
            ],
            [
             0.4444444444444444,
             "#bd3786"
            ],
            [
             0.5555555555555556,
             "#d8576b"
            ],
            [
             0.6666666666666666,
             "#ed7953"
            ],
            [
             0.7777777777777778,
             "#fb9f3a"
            ],
            [
             0.8888888888888888,
             "#fdca26"
            ],
            [
             1,
             "#f0f921"
            ]
           ],
           "sequentialminus": [
            [
             0,
             "#0d0887"
            ],
            [
             0.1111111111111111,
             "#46039f"
            ],
            [
             0.2222222222222222,
             "#7201a8"
            ],
            [
             0.3333333333333333,
             "#9c179e"
            ],
            [
             0.4444444444444444,
             "#bd3786"
            ],
            [
             0.5555555555555556,
             "#d8576b"
            ],
            [
             0.6666666666666666,
             "#ed7953"
            ],
            [
             0.7777777777777778,
             "#fb9f3a"
            ],
            [
             0.8888888888888888,
             "#fdca26"
            ],
            [
             1,
             "#f0f921"
            ]
           ]
          },
          "colorway": [
           "#636efa",
           "#EF553B",
           "#00cc96",
           "#ab63fa",
           "#FFA15A",
           "#19d3f3",
           "#FF6692",
           "#B6E880",
           "#FF97FF",
           "#FECB52"
          ],
          "font": {
           "color": "#2a3f5f"
          },
          "geo": {
           "bgcolor": "white",
           "lakecolor": "white",
           "landcolor": "#E5ECF6",
           "showlakes": true,
           "showland": true,
           "subunitcolor": "white"
          },
          "hoverlabel": {
           "align": "left"
          },
          "hovermode": "closest",
          "mapbox": {
           "style": "light"
          },
          "paper_bgcolor": "white",
          "plot_bgcolor": "#E5ECF6",
          "polar": {
           "angularaxis": {
            "gridcolor": "white",
            "linecolor": "white",
            "ticks": ""
           },
           "bgcolor": "#E5ECF6",
           "radialaxis": {
            "gridcolor": "white",
            "linecolor": "white",
            "ticks": ""
           }
          },
          "scene": {
           "xaxis": {
            "backgroundcolor": "#E5ECF6",
            "gridcolor": "white",
            "gridwidth": 2,
            "linecolor": "white",
            "showbackground": true,
            "ticks": "",
            "zerolinecolor": "white"
           },
           "yaxis": {
            "backgroundcolor": "#E5ECF6",
            "gridcolor": "white",
            "gridwidth": 2,
            "linecolor": "white",
            "showbackground": true,
            "ticks": "",
            "zerolinecolor": "white"
           },
           "zaxis": {
            "backgroundcolor": "#E5ECF6",
            "gridcolor": "white",
            "gridwidth": 2,
            "linecolor": "white",
            "showbackground": true,
            "ticks": "",
            "zerolinecolor": "white"
           }
          },
          "shapedefaults": {
           "line": {
            "color": "#2a3f5f"
           }
          },
          "ternary": {
           "aaxis": {
            "gridcolor": "white",
            "linecolor": "white",
            "ticks": ""
           },
           "baxis": {
            "gridcolor": "white",
            "linecolor": "white",
            "ticks": ""
           },
           "bgcolor": "#E5ECF6",
           "caxis": {
            "gridcolor": "white",
            "linecolor": "white",
            "ticks": ""
           }
          },
          "title": {
           "x": 0.05
          },
          "xaxis": {
           "automargin": true,
           "gridcolor": "white",
           "linecolor": "white",
           "ticks": "",
           "title": {
            "standoff": 15
           },
           "zerolinecolor": "white",
           "zerolinewidth": 2
          },
          "yaxis": {
           "automargin": true,
           "gridcolor": "white",
           "linecolor": "white",
           "ticks": "",
           "title": {
            "standoff": 15
           },
           "zerolinecolor": "white",
           "zerolinewidth": 2
          }
         }
        },
        "title": {
         "text": "Training and Validation Loss Across Epochs"
        },
        "xaxis": {
         "title": {
          "text": "epochs"
         }
        },
        "yaxis": {
         "title": {
          "text": "Cross Entropy"
         }
        }
       }
      }
     },
     "metadata": {},
     "output_type": "display_data"
    }
   ],
   "source": [
    "fig = go.Figure(data=[\n",
    "    go.Scatter(\n",
    "        y=history[\"loss\"],\n",
    "        name=\"Training loss\",\n",
    "        mode=\"lines\"\n",
    "    ),\n",
    "    go.Scatter(\n",
    "        y=history[\"val_loss\"],\n",
    "        name=\"Validation loss\",\n",
    "        mode=\"lines\"\n",
    "    )\n",
    "])\n",
    "\n",
    "fig.update_layout(\n",
    "    title='Training and Validation Loss Across Epochs',\n",
    "    xaxis_title='epochs',\n",
    "    yaxis_title='Cross Entropy'\n",
    ")\n",
    "\n",
    "fig.show()"
   ]
  },
  {
   "cell_type": "markdown",
   "metadata": {
    "id": "rk3hYnwWH9HX"
   },
   "source": [
    "* Let's build the same model and double the number of convolutional neurons on each layer."
   ]
  },
  {
   "cell_type": "code",
   "execution_count": 49,
   "metadata": {
    "colab": {
     "base_uri": "https://localhost:8080/"
    },
    "executionInfo": {
     "elapsed": 812,
     "status": "ok",
     "timestamp": 1614943454557,
     "user": {
      "displayName": "Charles Tanguy",
      "photoUrl": "",
      "userId": "11930294859591867631"
     },
     "user_tz": -60
    },
    "id": "GZOYosrCIJlN",
    "outputId": "b2a7e889-eacc-4a49-8fdf-770ac37bd3a7"
   },
   "outputs": [
    {
     "name": "stdout",
     "output_type": "stream",
     "text": [
      "CNN4(\n",
      "  (conv1): Conv2d(3, 64, kernel_size=(3, 3), stride=(1, 1), padding=(1, 1))\n",
      "  (pool1): MaxPool2d(kernel_size=2, stride=2, padding=0, dilation=1, ceil_mode=False)\n",
      "  (conv2): Conv2d(64, 128, kernel_size=(3, 3), stride=(1, 1), padding=(1, 1))\n",
      "  (pool2): MaxPool2d(kernel_size=2, stride=2, padding=0, dilation=1, ceil_mode=False)\n",
      "  (conv3): Conv2d(128, 256, kernel_size=(3, 3), stride=(1, 1), padding=(1, 1))\n",
      "  (pool3): MaxPool2d(kernel_size=2, stride=2, padding=0, dilation=1, ceil_mode=False)\n",
      "  (flatten): Flatten(start_dim=1, end_dim=-1)\n",
      "  (fc): Linear(in_features=4096, out_features=10, bias=True)\n",
      "  (softmax): Softmax(dim=1)\n",
      ")\n"
     ]
    }
   ],
   "source": [
    "# Define a CNN model with doubled neurons in each convolutional layer\n",
    "class CNN4(nn.Module):\n",
    "    def __init__(self):\n",
    "        super(CNN4, self).__init__()\n",
    "        self.conv1 = nn.Conv2d(in_channels=3, out_channels=64, kernel_size=3, padding=1)\n",
    "        self.pool1 = nn.MaxPool2d(kernel_size=2, stride=2)\n",
    "        self.conv2 = nn.Conv2d(in_channels=64, out_channels=128, kernel_size=3, padding=1)\n",
    "        self.pool2 = nn.MaxPool2d(kernel_size=2, stride=2)\n",
    "        self.conv3 = nn.Conv2d(in_channels=128, out_channels=256, kernel_size=3, padding=1)\n",
    "        self.pool3 = nn.MaxPool2d(kernel_size=2, stride=2)\n",
    "        self.flatten = nn.Flatten()\n",
    "        self.fc = nn.Linear(256 * 4 * 4, 10)\n",
    "        self.softmax = nn.Softmax(dim=1)\n",
    "\n",
    "    def forward(self, x):\n",
    "        x = torch.relu(self.conv1(x))\n",
    "        x = self.pool1(x)\n",
    "        x = torch.relu(self.conv2(x))\n",
    "        x = self.pool2(x)\n",
    "        x = torch.relu(self.conv3(x))\n",
    "        x = self.pool3(x)\n",
    "        x = self.flatten(x)\n",
    "        x = self.fc(x)\n",
    "        x = self.softmax(x)\n",
    "        return x\n",
    "\n",
    "# Instantiate the model\n",
    "model_conv4 = CNN4()\n",
    "print(model_conv4)"
   ]
  },
  {
   "cell_type": "code",
   "execution_count": 50,
   "metadata": {},
   "outputs": [
    {
     "data": {
      "text/plain": [
       "==========================================================================================\n",
       "Layer (type:depth-idx)                   Output Shape              Param #\n",
       "==========================================================================================\n",
       "CNN4                                     [1, 10]                   --\n",
       "├─Conv2d: 1-1                            [1, 64, 32, 32]           1,792\n",
       "├─MaxPool2d: 1-2                         [1, 64, 16, 16]           --\n",
       "├─Conv2d: 1-3                            [1, 128, 16, 16]          73,856\n",
       "├─MaxPool2d: 1-4                         [1, 128, 8, 8]            --\n",
       "├─Conv2d: 1-5                            [1, 256, 8, 8]            295,168\n",
       "├─MaxPool2d: 1-6                         [1, 256, 4, 4]            --\n",
       "├─Flatten: 1-7                           [1, 4096]                 --\n",
       "├─Linear: 1-8                            [1, 10]                   40,970\n",
       "├─Softmax: 1-9                           [1, 10]                   --\n",
       "==========================================================================================\n",
       "Total params: 411,786\n",
       "Trainable params: 411,786\n",
       "Non-trainable params: 0\n",
       "Total mult-adds (M): 39.67\n",
       "==========================================================================================\n",
       "Input size (MB): 0.01\n",
       "Forward/backward pass size (MB): 0.92\n",
       "Params size (MB): 1.65\n",
       "Estimated Total Size (MB): 2.58\n",
       "=========================================================================================="
      ]
     },
     "execution_count": 50,
     "metadata": {},
     "output_type": "execute_result"
    }
   ],
   "source": [
    "# Print model summary\n",
    "summary(model_conv4, input_size=(1, 3, 32, 32))"
   ]
  },
  {
   "cell_type": "code",
   "execution_count": null,
   "metadata": {},
   "outputs": [
    {
     "name": "stdout",
     "output_type": "stream",
     "text": [
      "Epoch [1/50], Loss: 2.1537, Acc: 0.2948, Val Loss: 2.1057, Val Acc: 0.3440\n",
      "Epoch [2/50], Loss: 2.0533, Acc: 0.4022, Val Loss: 2.0591, Val Acc: 0.3950\n",
      "Epoch [3/50], Loss: 2.0129, Acc: 0.4443, Val Loss: 2.0270, Val Acc: 0.4314\n",
      "Epoch [4/50], Loss: 1.9795, Acc: 0.4759, Val Loss: 1.9703, Val Acc: 0.4866\n",
      "Epoch [5/50], Loss: 1.9508, Acc: 0.5050, Val Loss: 1.9757, Val Acc: 0.4835\n",
      "Epoch [6/50], Loss: 1.9351, Acc: 0.5219, Val Loss: 1.9323, Val Acc: 0.5248\n",
      "Epoch [7/50], Loss: 1.9206, Acc: 0.5379, Val Loss: 1.9094, Val Acc: 0.5484\n",
      "Epoch [8/50], Loss: 1.9099, Acc: 0.5475, Val Loss: 1.9221, Val Acc: 0.5347\n",
      "Epoch [9/50], Loss: 1.9033, Acc: 0.5544, Val Loss: 1.9031, Val Acc: 0.5544\n",
      "Epoch [10/50], Loss: 1.8882, Acc: 0.5706, Val Loss: 1.9111, Val Acc: 0.5471\n",
      "Epoch [11/50], Loss: 1.8776, Acc: 0.5811, Val Loss: 1.8897, Val Acc: 0.5683\n",
      "Epoch [12/50], Loss: 1.8746, Acc: 0.5844, Val Loss: 1.8920, Val Acc: 0.5655\n",
      "Epoch [13/50], Loss: 1.8748, Acc: 0.5829, Val Loss: 1.8892, Val Acc: 0.5696\n",
      "Epoch [14/50], Loss: 1.8634, Acc: 0.5953, Val Loss: 1.8701, Val Acc: 0.5872\n",
      "Epoch [15/50], Loss: 1.8654, Acc: 0.5925, Val Loss: 1.8862, Val Acc: 0.5720\n",
      "Epoch [16/50], Loss: 1.8659, Acc: 0.5929, Val Loss: 1.8703, Val Acc: 0.5872\n",
      "Epoch [17/50], Loss: 1.8558, Acc: 0.6026, Val Loss: 1.8742, Val Acc: 0.5849\n",
      "Epoch [18/50], Loss: 1.8463, Acc: 0.6129, Val Loss: 1.8623, Val Acc: 0.5963\n",
      "Epoch [19/50], Loss: 1.8425, Acc: 0.6167, Val Loss: 1.8646, Val Acc: 0.5938\n",
      "Epoch [20/50], Loss: 1.8444, Acc: 0.6145, Val Loss: 1.8556, Val Acc: 0.6024\n",
      "Epoch [21/50], Loss: 1.8451, Acc: 0.6133, Val Loss: 1.8499, Val Acc: 0.6092\n",
      "Epoch [22/50], Loss: 1.8406, Acc: 0.6186, Val Loss: 1.8635, Val Acc: 0.5954\n",
      "Epoch [23/50], Loss: 1.8443, Acc: 0.6147, Val Loss: 1.8395, Val Acc: 0.6213\n",
      "Epoch [24/50], Loss: 1.8418, Acc: 0.6170, Val Loss: 1.8464, Val Acc: 0.6127\n",
      "Epoch [25/50], Loss: 1.8364, Acc: 0.6233, Val Loss: 1.8765, Val Acc: 0.5824\n",
      "Epoch [26/50], Loss: 1.8316, Acc: 0.6277, Val Loss: 1.8356, Val Acc: 0.6229\n",
      "Epoch [27/50], Loss: 1.8355, Acc: 0.6237, Val Loss: 1.8492, Val Acc: 0.6105\n",
      "Epoch [28/50], Loss: 1.8349, Acc: 0.6241, Val Loss: 1.9009, Val Acc: 0.5588\n",
      "Epoch [29/50], Loss: 1.8344, Acc: 0.6249, Val Loss: 1.9105, Val Acc: 0.5490\n",
      "Epoch [30/50], Loss: 1.8330, Acc: 0.6258, Val Loss: 1.8452, Val Acc: 0.6147\n",
      "Epoch [31/50], Loss: 1.8370, Acc: 0.6226, Val Loss: 1.8567, Val Acc: 0.6033\n",
      "Epoch [32/50], Loss: 1.8345, Acc: 0.6251, Val Loss: 1.8458, Val Acc: 0.6141\n",
      "Epoch [33/50], Loss: 1.8325, Acc: 0.6273, Val Loss: 1.8377, Val Acc: 0.6219\n",
      "Epoch [34/50], Loss: 1.8395, Acc: 0.6203, Val Loss: 1.8505, Val Acc: 0.6098\n",
      "Epoch [35/50], Loss: 1.8332, Acc: 0.6263, Val Loss: 1.8624, Val Acc: 0.5976\n",
      "Epoch [36/50], Loss: 1.8345, Acc: 0.6253, Val Loss: 1.8523, Val Acc: 0.6075\n",
      "Epoch [37/50], Loss: 1.8297, Acc: 0.6300, Val Loss: 1.8605, Val Acc: 0.5986\n",
      "Epoch [38/50], Loss: 1.8362, Acc: 0.6239, Val Loss: 1.8484, Val Acc: 0.6118\n",
      "Epoch [39/50], Loss: 1.8374, Acc: 0.6224, Val Loss: 1.8502, Val Acc: 0.6099\n",
      "Epoch [40/50], Loss: 1.8312, Acc: 0.6288, Val Loss: 1.8458, Val Acc: 0.6147\n",
      "Epoch [41/50], Loss: 1.8333, Acc: 0.6267, Val Loss: 1.8472, Val Acc: 0.6119\n",
      "Epoch [42/50], Loss: 1.8382, Acc: 0.6219, Val Loss: 1.8585, Val Acc: 0.6014\n",
      "Epoch [43/50], Loss: 1.8385, Acc: 0.6216, Val Loss: 1.8385, Val Acc: 0.6210\n",
      "Epoch [44/50], Loss: 1.8367, Acc: 0.6234, Val Loss: 1.8592, Val Acc: 0.5999\n",
      "Epoch [45/50], Loss: 1.8398, Acc: 0.6201, Val Loss: 1.8854, Val Acc: 0.5742\n",
      "Epoch [46/50], Loss: 1.8400, Acc: 0.6206, Val Loss: 1.8424, Val Acc: 0.6173\n",
      "Epoch [47/50], Loss: 1.8351, Acc: 0.6250, Val Loss: 1.8726, Val Acc: 0.5878\n",
      "Epoch [48/50], Loss: 1.8325, Acc: 0.6273, Val Loss: 1.8752, Val Acc: 0.5857\n",
      "Epoch [49/50], Loss: 1.8353, Acc: 0.6249, Val Loss: 1.8448, Val Acc: 0.6158\n",
      "Epoch [50/50], Loss: 1.8377, Acc: 0.6223, Val Loss: 1.8867, Val Acc: 0.5726\n"
     ]
    }
   ],
   "source": [
    "# Define the loss function and optimizer\n",
    "criterion = nn.CrossEntropyLoss()\n",
    "optimizer4 = optim.Adam(model_conv4.parameters(), lr=0.001)\n",
    "\n",
    "# Train the model\n",
    "history4 = train(model_conv4, train_loader, val_loader, criterion, optimizer4, epochs=50)"
   ]
  },
  {
   "cell_type": "code",
   "execution_count": null,
   "metadata": {
    "executionInfo": {
     "elapsed": 841,
     "status": "ok",
     "timestamp": 1614945722225,
     "user": {
      "displayName": "Charles Tanguy",
      "photoUrl": "",
      "userId": "11930294859591867631"
     },
     "user_tz": -60
    },
    "id": "-vFJc0T0IUiR"
   },
   "outputs": [],
   "source": [
    "# Save model checkpoint\n",
    "checkpoint_path = \"model_conv4.pth\"\n",
    "torch.save({\n",
    "    'model_state_dict': model_conv4.state_dict(),\n",
    "    'optimizer_state_dict': optimizer4.state_dict(),\n",
    "    'val_loss': history4[\"val_loss\"][-1],\n",
    "    'history': history4\n",
    "}, checkpoint_path)"
   ]
  },
  {
   "cell_type": "code",
   "execution_count": 51,
   "metadata": {
    "executionInfo": {
     "elapsed": 580,
     "status": "ok",
     "timestamp": 1614948939732,
     "user": {
      "displayName": "Charles Tanguy",
      "photoUrl": "",
      "userId": "11930294859591867631"
     },
     "user_tz": -60
    },
    "id": "sXYEZYVTXo1B"
   },
   "outputs": [
    {
     "name": "stdout",
     "output_type": "stream",
     "text": [
      "Download complete.\n"
     ]
    }
   ],
   "source": [
    "url = \"https://full-stack-assets.s3.eu-west-3.amazonaws.com/M08-deep-learning/model_conv4.pth\"\n",
    "output_path = \"model_conv4.pth\"\n",
    "\n",
    "# Download the file\n",
    "if not os.path.exists(output_path):\n",
    "    response = requests.get(url, stream=True)\n",
    "    with open(output_path, \"wb\") as file:\n",
    "        for chunk in response.iter_content(chunk_size=1024):\n",
    "            if chunk:\n",
    "                file.write(chunk)\n",
    "    print(\"Download complete.\")"
   ]
  },
  {
   "cell_type": "code",
   "execution_count": 52,
   "metadata": {},
   "outputs": [],
   "source": [
    "# Load the model from checkpoint\n",
    "restored_model_conv4 = CNN4()\n",
    "restored_model_conv4.load_state_dict(torch.load(\"model_conv4.pth\", weights_only=True)[\"model_state_dict\"])\n",
    "restored_model_conv4.eval()\n",
    "history = torch.load(\"model_conv4.pth\", weights_only=True)[\"history\"]"
   ]
  },
  {
   "cell_type": "code",
   "execution_count": 53,
   "metadata": {
    "colab": {
     "base_uri": "https://localhost:8080/",
     "height": 542
    },
    "executionInfo": {
     "elapsed": 929,
     "status": "ok",
     "timestamp": 1614948941571,
     "user": {
      "displayName": "Charles Tanguy",
      "photoUrl": "",
      "userId": "11930294859591867631"
     },
     "user_tz": -60
    },
    "id": "d00aQk5CX1n4",
    "outputId": "6b2e8913-a3de-4860-92b1-9481bd6be844"
   },
   "outputs": [
    {
     "data": {
      "application/vnd.plotly.v1+json": {
       "config": {
        "plotlyServerURL": "https://plot.ly"
       },
       "data": [
        {
         "mode": "lines",
         "name": "Training loss",
         "type": "scatter",
         "y": [
          2.15371940908432,
          2.0533309705734255,
          2.012864402675629,
          1.9794621069908143,
          1.9507916518211366,
          1.9350930998802185,
          1.9206241830825805,
          1.9098664867401123,
          1.9032881748199464,
          1.888154372406006,
          1.8776139762878419,
          1.874584531402588,
          1.8748291911125183,
          1.8633844791412353,
          1.8653782912254333,
          1.8658777634620667,
          1.8558033128738403,
          1.8462794610977173,
          1.8424812938690185,
          1.8443771233558655,
          1.8451425825119019,
          1.840585437297821,
          1.844260835647583,
          1.8418229146003724,
          1.8363804963111878,
          1.8315733196258546,
          1.8354760184288026,
          1.8349415111541747,
          1.8343848957061768,
          1.8330010977745057,
          1.8370316705703735,
          1.8344949592590332,
          1.8324551526069641,
          1.839493782234192,
          1.8332371165275574,
          1.8344895510673522,
          1.8296723453521728,
          1.836249230480194,
          1.8373725342750549,
          1.8311601484298705,
          1.8332697717666626,
          1.8381594693183898,
          1.83851749792099,
          1.8367007737159728,
          1.839830890274048,
          1.8399986668586732,
          1.8350667023658753,
          1.8325209791183472,
          1.8352716033935548,
          1.8377384790420532
         ]
        },
        {
         "mode": "lines",
         "name": "Validation loss",
         "type": "scatter",
         "y": [
          2.105679001671057,
          2.0591496556711655,
          2.0270397842120818,
          1.9703068771301366,
          1.975736758198601,
          1.9323082591017213,
          1.9093504469996443,
          1.922134816837006,
          1.9031435197915514,
          1.9110968969881343,
          1.8896852556508952,
          1.8919674420889956,
          1.8892383933448182,
          1.870053891175852,
          1.8862419097949141,
          1.8702904340177298,
          1.8741695450517697,
          1.862272577925612,
          1.864579892767885,
          1.85562069042803,
          1.8498828445379727,
          1.8634627368122625,
          1.8395248251601148,
          1.8463876098870469,
          1.8765138082991775,
          1.8355897718344252,
          1.849167599845618,
          1.9009048032303588,
          1.9105023263742367,
          1.8452025918534007,
          1.8567357539368894,
          1.8457957068190407,
          1.8376880248133747,
          1.8505017376555422,
          1.8623585205870314,
          1.8522695531479467,
          1.8605340109846462,
          1.848398277173027,
          1.850215068259559,
          1.8457811941354039,
          1.8471562675774669,
          1.8585381168907824,
          1.8384519202259784,
          1.8591760800669368,
          1.8853985154971529,
          1.8424222537884698,
          1.8725772448622,
          1.8752359068050932,
          1.8447705076906247,
          1.8867046478838205
         ]
        }
       ],
       "layout": {
        "template": {
         "data": {
          "bar": [
           {
            "error_x": {
             "color": "#2a3f5f"
            },
            "error_y": {
             "color": "#2a3f5f"
            },
            "marker": {
             "line": {
              "color": "#E5ECF6",
              "width": 0.5
             },
             "pattern": {
              "fillmode": "overlay",
              "size": 10,
              "solidity": 0.2
             }
            },
            "type": "bar"
           }
          ],
          "barpolar": [
           {
            "marker": {
             "line": {
              "color": "#E5ECF6",
              "width": 0.5
             },
             "pattern": {
              "fillmode": "overlay",
              "size": 10,
              "solidity": 0.2
             }
            },
            "type": "barpolar"
           }
          ],
          "carpet": [
           {
            "aaxis": {
             "endlinecolor": "#2a3f5f",
             "gridcolor": "white",
             "linecolor": "white",
             "minorgridcolor": "white",
             "startlinecolor": "#2a3f5f"
            },
            "baxis": {
             "endlinecolor": "#2a3f5f",
             "gridcolor": "white",
             "linecolor": "white",
             "minorgridcolor": "white",
             "startlinecolor": "#2a3f5f"
            },
            "type": "carpet"
           }
          ],
          "choropleth": [
           {
            "colorbar": {
             "outlinewidth": 0,
             "ticks": ""
            },
            "type": "choropleth"
           }
          ],
          "contour": [
           {
            "colorbar": {
             "outlinewidth": 0,
             "ticks": ""
            },
            "colorscale": [
             [
              0,
              "#0d0887"
             ],
             [
              0.1111111111111111,
              "#46039f"
             ],
             [
              0.2222222222222222,
              "#7201a8"
             ],
             [
              0.3333333333333333,
              "#9c179e"
             ],
             [
              0.4444444444444444,
              "#bd3786"
             ],
             [
              0.5555555555555556,
              "#d8576b"
             ],
             [
              0.6666666666666666,
              "#ed7953"
             ],
             [
              0.7777777777777778,
              "#fb9f3a"
             ],
             [
              0.8888888888888888,
              "#fdca26"
             ],
             [
              1,
              "#f0f921"
             ]
            ],
            "type": "contour"
           }
          ],
          "contourcarpet": [
           {
            "colorbar": {
             "outlinewidth": 0,
             "ticks": ""
            },
            "type": "contourcarpet"
           }
          ],
          "heatmap": [
           {
            "colorbar": {
             "outlinewidth": 0,
             "ticks": ""
            },
            "colorscale": [
             [
              0,
              "#0d0887"
             ],
             [
              0.1111111111111111,
              "#46039f"
             ],
             [
              0.2222222222222222,
              "#7201a8"
             ],
             [
              0.3333333333333333,
              "#9c179e"
             ],
             [
              0.4444444444444444,
              "#bd3786"
             ],
             [
              0.5555555555555556,
              "#d8576b"
             ],
             [
              0.6666666666666666,
              "#ed7953"
             ],
             [
              0.7777777777777778,
              "#fb9f3a"
             ],
             [
              0.8888888888888888,
              "#fdca26"
             ],
             [
              1,
              "#f0f921"
             ]
            ],
            "type": "heatmap"
           }
          ],
          "histogram": [
           {
            "marker": {
             "pattern": {
              "fillmode": "overlay",
              "size": 10,
              "solidity": 0.2
             }
            },
            "type": "histogram"
           }
          ],
          "histogram2d": [
           {
            "colorbar": {
             "outlinewidth": 0,
             "ticks": ""
            },
            "colorscale": [
             [
              0,
              "#0d0887"
             ],
             [
              0.1111111111111111,
              "#46039f"
             ],
             [
              0.2222222222222222,
              "#7201a8"
             ],
             [
              0.3333333333333333,
              "#9c179e"
             ],
             [
              0.4444444444444444,
              "#bd3786"
             ],
             [
              0.5555555555555556,
              "#d8576b"
             ],
             [
              0.6666666666666666,
              "#ed7953"
             ],
             [
              0.7777777777777778,
              "#fb9f3a"
             ],
             [
              0.8888888888888888,
              "#fdca26"
             ],
             [
              1,
              "#f0f921"
             ]
            ],
            "type": "histogram2d"
           }
          ],
          "histogram2dcontour": [
           {
            "colorbar": {
             "outlinewidth": 0,
             "ticks": ""
            },
            "colorscale": [
             [
              0,
              "#0d0887"
             ],
             [
              0.1111111111111111,
              "#46039f"
             ],
             [
              0.2222222222222222,
              "#7201a8"
             ],
             [
              0.3333333333333333,
              "#9c179e"
             ],
             [
              0.4444444444444444,
              "#bd3786"
             ],
             [
              0.5555555555555556,
              "#d8576b"
             ],
             [
              0.6666666666666666,
              "#ed7953"
             ],
             [
              0.7777777777777778,
              "#fb9f3a"
             ],
             [
              0.8888888888888888,
              "#fdca26"
             ],
             [
              1,
              "#f0f921"
             ]
            ],
            "type": "histogram2dcontour"
           }
          ],
          "mesh3d": [
           {
            "colorbar": {
             "outlinewidth": 0,
             "ticks": ""
            },
            "type": "mesh3d"
           }
          ],
          "parcoords": [
           {
            "line": {
             "colorbar": {
              "outlinewidth": 0,
              "ticks": ""
             }
            },
            "type": "parcoords"
           }
          ],
          "pie": [
           {
            "automargin": true,
            "type": "pie"
           }
          ],
          "scatter": [
           {
            "fillpattern": {
             "fillmode": "overlay",
             "size": 10,
             "solidity": 0.2
            },
            "type": "scatter"
           }
          ],
          "scatter3d": [
           {
            "line": {
             "colorbar": {
              "outlinewidth": 0,
              "ticks": ""
             }
            },
            "marker": {
             "colorbar": {
              "outlinewidth": 0,
              "ticks": ""
             }
            },
            "type": "scatter3d"
           }
          ],
          "scattercarpet": [
           {
            "marker": {
             "colorbar": {
              "outlinewidth": 0,
              "ticks": ""
             }
            },
            "type": "scattercarpet"
           }
          ],
          "scattergeo": [
           {
            "marker": {
             "colorbar": {
              "outlinewidth": 0,
              "ticks": ""
             }
            },
            "type": "scattergeo"
           }
          ],
          "scattergl": [
           {
            "marker": {
             "colorbar": {
              "outlinewidth": 0,
              "ticks": ""
             }
            },
            "type": "scattergl"
           }
          ],
          "scattermap": [
           {
            "marker": {
             "colorbar": {
              "outlinewidth": 0,
              "ticks": ""
             }
            },
            "type": "scattermap"
           }
          ],
          "scattermapbox": [
           {
            "marker": {
             "colorbar": {
              "outlinewidth": 0,
              "ticks": ""
             }
            },
            "type": "scattermapbox"
           }
          ],
          "scatterpolar": [
           {
            "marker": {
             "colorbar": {
              "outlinewidth": 0,
              "ticks": ""
             }
            },
            "type": "scatterpolar"
           }
          ],
          "scatterpolargl": [
           {
            "marker": {
             "colorbar": {
              "outlinewidth": 0,
              "ticks": ""
             }
            },
            "type": "scatterpolargl"
           }
          ],
          "scatterternary": [
           {
            "marker": {
             "colorbar": {
              "outlinewidth": 0,
              "ticks": ""
             }
            },
            "type": "scatterternary"
           }
          ],
          "surface": [
           {
            "colorbar": {
             "outlinewidth": 0,
             "ticks": ""
            },
            "colorscale": [
             [
              0,
              "#0d0887"
             ],
             [
              0.1111111111111111,
              "#46039f"
             ],
             [
              0.2222222222222222,
              "#7201a8"
             ],
             [
              0.3333333333333333,
              "#9c179e"
             ],
             [
              0.4444444444444444,
              "#bd3786"
             ],
             [
              0.5555555555555556,
              "#d8576b"
             ],
             [
              0.6666666666666666,
              "#ed7953"
             ],
             [
              0.7777777777777778,
              "#fb9f3a"
             ],
             [
              0.8888888888888888,
              "#fdca26"
             ],
             [
              1,
              "#f0f921"
             ]
            ],
            "type": "surface"
           }
          ],
          "table": [
           {
            "cells": {
             "fill": {
              "color": "#EBF0F8"
             },
             "line": {
              "color": "white"
             }
            },
            "header": {
             "fill": {
              "color": "#C8D4E3"
             },
             "line": {
              "color": "white"
             }
            },
            "type": "table"
           }
          ]
         },
         "layout": {
          "annotationdefaults": {
           "arrowcolor": "#2a3f5f",
           "arrowhead": 0,
           "arrowwidth": 1
          },
          "autotypenumbers": "strict",
          "coloraxis": {
           "colorbar": {
            "outlinewidth": 0,
            "ticks": ""
           }
          },
          "colorscale": {
           "diverging": [
            [
             0,
             "#8e0152"
            ],
            [
             0.1,
             "#c51b7d"
            ],
            [
             0.2,
             "#de77ae"
            ],
            [
             0.3,
             "#f1b6da"
            ],
            [
             0.4,
             "#fde0ef"
            ],
            [
             0.5,
             "#f7f7f7"
            ],
            [
             0.6,
             "#e6f5d0"
            ],
            [
             0.7,
             "#b8e186"
            ],
            [
             0.8,
             "#7fbc41"
            ],
            [
             0.9,
             "#4d9221"
            ],
            [
             1,
             "#276419"
            ]
           ],
           "sequential": [
            [
             0,
             "#0d0887"
            ],
            [
             0.1111111111111111,
             "#46039f"
            ],
            [
             0.2222222222222222,
             "#7201a8"
            ],
            [
             0.3333333333333333,
             "#9c179e"
            ],
            [
             0.4444444444444444,
             "#bd3786"
            ],
            [
             0.5555555555555556,
             "#d8576b"
            ],
            [
             0.6666666666666666,
             "#ed7953"
            ],
            [
             0.7777777777777778,
             "#fb9f3a"
            ],
            [
             0.8888888888888888,
             "#fdca26"
            ],
            [
             1,
             "#f0f921"
            ]
           ],
           "sequentialminus": [
            [
             0,
             "#0d0887"
            ],
            [
             0.1111111111111111,
             "#46039f"
            ],
            [
             0.2222222222222222,
             "#7201a8"
            ],
            [
             0.3333333333333333,
             "#9c179e"
            ],
            [
             0.4444444444444444,
             "#bd3786"
            ],
            [
             0.5555555555555556,
             "#d8576b"
            ],
            [
             0.6666666666666666,
             "#ed7953"
            ],
            [
             0.7777777777777778,
             "#fb9f3a"
            ],
            [
             0.8888888888888888,
             "#fdca26"
            ],
            [
             1,
             "#f0f921"
            ]
           ]
          },
          "colorway": [
           "#636efa",
           "#EF553B",
           "#00cc96",
           "#ab63fa",
           "#FFA15A",
           "#19d3f3",
           "#FF6692",
           "#B6E880",
           "#FF97FF",
           "#FECB52"
          ],
          "font": {
           "color": "#2a3f5f"
          },
          "geo": {
           "bgcolor": "white",
           "lakecolor": "white",
           "landcolor": "#E5ECF6",
           "showlakes": true,
           "showland": true,
           "subunitcolor": "white"
          },
          "hoverlabel": {
           "align": "left"
          },
          "hovermode": "closest",
          "mapbox": {
           "style": "light"
          },
          "paper_bgcolor": "white",
          "plot_bgcolor": "#E5ECF6",
          "polar": {
           "angularaxis": {
            "gridcolor": "white",
            "linecolor": "white",
            "ticks": ""
           },
           "bgcolor": "#E5ECF6",
           "radialaxis": {
            "gridcolor": "white",
            "linecolor": "white",
            "ticks": ""
           }
          },
          "scene": {
           "xaxis": {
            "backgroundcolor": "#E5ECF6",
            "gridcolor": "white",
            "gridwidth": 2,
            "linecolor": "white",
            "showbackground": true,
            "ticks": "",
            "zerolinecolor": "white"
           },
           "yaxis": {
            "backgroundcolor": "#E5ECF6",
            "gridcolor": "white",
            "gridwidth": 2,
            "linecolor": "white",
            "showbackground": true,
            "ticks": "",
            "zerolinecolor": "white"
           },
           "zaxis": {
            "backgroundcolor": "#E5ECF6",
            "gridcolor": "white",
            "gridwidth": 2,
            "linecolor": "white",
            "showbackground": true,
            "ticks": "",
            "zerolinecolor": "white"
           }
          },
          "shapedefaults": {
           "line": {
            "color": "#2a3f5f"
           }
          },
          "ternary": {
           "aaxis": {
            "gridcolor": "white",
            "linecolor": "white",
            "ticks": ""
           },
           "baxis": {
            "gridcolor": "white",
            "linecolor": "white",
            "ticks": ""
           },
           "bgcolor": "#E5ECF6",
           "caxis": {
            "gridcolor": "white",
            "linecolor": "white",
            "ticks": ""
           }
          },
          "title": {
           "x": 0.05
          },
          "xaxis": {
           "automargin": true,
           "gridcolor": "white",
           "linecolor": "white",
           "ticks": "",
           "title": {
            "standoff": 15
           },
           "zerolinecolor": "white",
           "zerolinewidth": 2
          },
          "yaxis": {
           "automargin": true,
           "gridcolor": "white",
           "linecolor": "white",
           "ticks": "",
           "title": {
            "standoff": 15
           },
           "zerolinecolor": "white",
           "zerolinewidth": 2
          }
         }
        },
        "title": {
         "text": "Training and Validation Loss Across Epochs"
        },
        "xaxis": {
         "title": {
          "text": "epochs"
         }
        },
        "yaxis": {
         "title": {
          "text": "Cross Entropy"
         }
        }
       }
      }
     },
     "metadata": {},
     "output_type": "display_data"
    }
   ],
   "source": [
    "# Plot training and validation loss\n",
    "fig = go.Figure(data=[\n",
    "    go.Scatter(\n",
    "        y=history[\"loss\"],\n",
    "        name=\"Training loss\",\n",
    "        mode=\"lines\"\n",
    "    ),\n",
    "    go.Scatter(\n",
    "        y=history[\"val_loss\"],\n",
    "        name=\"Validation loss\",\n",
    "        mode=\"lines\"\n",
    "    )\n",
    "])\n",
    "fig.update_layout(\n",
    "    title='Training and Validation Loss Across Epochs',\n",
    "    xaxis_title='epochs',\n",
    "    yaxis_title='Cross Entropy'\n",
    ")\n",
    "fig.show()"
   ]
  },
  {
   "cell_type": "markdown",
   "metadata": {
    "id": "Y61-o6HJdWGl"
   },
   "source": [
    "Increasing the number of neurons on each layer is causing the model to quickly overfit! But it trains really on the training data."
   ]
  },
  {
   "cell_type": "markdown",
   "metadata": {
    "id": "ZkSeUOTXWyIx"
   },
   "source": [
    "* In the time remaining, build a model by duplicating the convolutional layers before every maxpooling adn go back to the original number of neurons. Look at the model summary for reference. This last model will have 6 different convolutional layers, let's see the effect of this on the predictions"
   ]
  },
  {
   "cell_type": "code",
   "execution_count": 54,
   "metadata": {
    "colab": {
     "base_uri": "https://localhost:8080/"
    },
    "executionInfo": {
     "elapsed": 557,
     "status": "ok",
     "timestamp": 1614946320864,
     "user": {
      "displayName": "Charles Tanguy",
      "photoUrl": "",
      "userId": "11930294859591867631"
     },
     "user_tz": -60
    },
    "id": "11mG71XjS4ox",
    "outputId": "fb9d324f-5d06-42e3-d587-d3334d8391fb"
   },
   "outputs": [
    {
     "name": "stdout",
     "output_type": "stream",
     "text": [
      "CNN6(\n",
      "  (conv1): Conv2d(3, 32, kernel_size=(3, 3), stride=(1, 1), padding=(1, 1))\n",
      "  (conv2): Conv2d(32, 32, kernel_size=(3, 3), stride=(1, 1), padding=(1, 1))\n",
      "  (pool1): MaxPool2d(kernel_size=2, stride=2, padding=0, dilation=1, ceil_mode=False)\n",
      "  (conv3): Conv2d(32, 64, kernel_size=(3, 3), stride=(1, 1), padding=(1, 1))\n",
      "  (conv4): Conv2d(64, 64, kernel_size=(3, 3), stride=(1, 1), padding=(1, 1))\n",
      "  (pool2): MaxPool2d(kernel_size=2, stride=2, padding=0, dilation=1, ceil_mode=False)\n",
      "  (conv5): Conv2d(64, 128, kernel_size=(3, 3), stride=(1, 1), padding=(1, 1))\n",
      "  (conv6): Conv2d(128, 128, kernel_size=(3, 3), stride=(1, 1), padding=(1, 1))\n",
      "  (pool3): MaxPool2d(kernel_size=2, stride=2, padding=0, dilation=1, ceil_mode=False)\n",
      "  (flatten): Flatten(start_dim=1, end_dim=-1)\n",
      "  (fc): Linear(in_features=2048, out_features=10, bias=True)\n",
      "  (softmax): Softmax(dim=1)\n",
      ")\n"
     ]
    }
   ],
   "source": [
    "# Define a CNN model with six convolutional layers in PyTorch\n",
    "class CNN6(nn.Module):\n",
    "    def __init__(self):\n",
    "        super(CNN6, self).__init__()\n",
    "        # First two convolutional layers: 32 filters\n",
    "        self.conv1 = nn.Conv2d(in_channels=3, out_channels=32, kernel_size=3, padding=1)\n",
    "        self.conv2 = nn.Conv2d(in_channels=32, out_channels=32, kernel_size=3, padding=1)\n",
    "        self.pool1 = nn.MaxPool2d(kernel_size=2, stride=2)\n",
    "\n",
    "        # Second two convolutional layers: 64 filters\n",
    "        self.conv3 = nn.Conv2d(in_channels=32, out_channels=64, kernel_size=3, padding=1)\n",
    "        self.conv4 = nn.Conv2d(in_channels=64, out_channels=64, kernel_size=3, padding=1)\n",
    "        self.pool2 = nn.MaxPool2d(kernel_size=2, stride=2)\n",
    "\n",
    "        # Third two convolutional layers: 128 filters\n",
    "        self.conv5 = nn.Conv2d(in_channels=64, out_channels=128, kernel_size=3, padding=1)\n",
    "        self.conv6 = nn.Conv2d(in_channels=128, out_channels=128, kernel_size=3, padding=1)\n",
    "        self.pool3 = nn.MaxPool2d(kernel_size=2, stride=2)\n",
    "\n",
    "        # Flatten and fully connected layers\n",
    "        self.flatten = nn.Flatten()\n",
    "        self.fc = nn.Linear(128 * 4 * 4, 10)  # Fully connected layer for 10 classes\n",
    "        self.softmax = nn.Softmax(dim=1)\n",
    "\n",
    "    def forward(self, x):\n",
    "        x = torch.relu(self.conv1(x))\n",
    "        x = torch.relu(self.conv2(x))\n",
    "        x = self.pool1(x)\n",
    "\n",
    "        x = torch.relu(self.conv3(x))\n",
    "        x = torch.relu(self.conv4(x))\n",
    "        x = self.pool2(x)\n",
    "\n",
    "        x = torch.relu(self.conv5(x))\n",
    "        x = torch.relu(self.conv6(x))\n",
    "        x = self.pool3(x)\n",
    "\n",
    "        x = self.flatten(x)\n",
    "        x = self.fc(x)\n",
    "        x = self.softmax(x)\n",
    "        return x\n",
    "\n",
    "# Instantiate the model\n",
    "model_conv6 = CNN6()\n",
    "print(model_conv6)"
   ]
  },
  {
   "cell_type": "code",
   "execution_count": 55,
   "metadata": {},
   "outputs": [
    {
     "data": {
      "text/plain": [
       "==========================================================================================\n",
       "Layer (type:depth-idx)                   Output Shape              Param #\n",
       "==========================================================================================\n",
       "CNN6                                     [1, 10]                   --\n",
       "├─Conv2d: 1-1                            [1, 32, 32, 32]           896\n",
       "├─Conv2d: 1-2                            [1, 32, 32, 32]           9,248\n",
       "├─MaxPool2d: 1-3                         [1, 32, 16, 16]           --\n",
       "├─Conv2d: 1-4                            [1, 64, 16, 16]           18,496\n",
       "├─Conv2d: 1-5                            [1, 64, 16, 16]           36,928\n",
       "├─MaxPool2d: 1-6                         [1, 64, 8, 8]             --\n",
       "├─Conv2d: 1-7                            [1, 128, 8, 8]            73,856\n",
       "├─Conv2d: 1-8                            [1, 128, 8, 8]            147,584\n",
       "├─MaxPool2d: 1-9                         [1, 128, 4, 4]            --\n",
       "├─Flatten: 1-10                          [1, 2048]                 --\n",
       "├─Linear: 1-11                           [1, 10]                   20,490\n",
       "├─Softmax: 1-12                          [1, 10]                   --\n",
       "==========================================================================================\n",
       "Total params: 307,498\n",
       "Trainable params: 307,498\n",
       "Non-trainable params: 0\n",
       "Total mult-adds (M): 38.77\n",
       "==========================================================================================\n",
       "Input size (MB): 0.01\n",
       "Forward/backward pass size (MB): 0.92\n",
       "Params size (MB): 1.23\n",
       "Estimated Total Size (MB): 2.16\n",
       "=========================================================================================="
      ]
     },
     "execution_count": 55,
     "metadata": {},
     "output_type": "execute_result"
    }
   ],
   "source": [
    "# Print model summary\n",
    "summary(model_conv6, input_size=(1, 3, 32, 32))"
   ]
  },
  {
   "cell_type": "code",
   "execution_count": null,
   "metadata": {
    "colab": {
     "base_uri": "https://localhost:8080/"
    },
    "executionInfo": {
     "elapsed": 2339760,
     "status": "ok",
     "timestamp": 1614948669674,
     "user": {
      "displayName": "Charles Tanguy",
      "photoUrl": "",
      "userId": "11930294859591867631"
     },
     "user_tz": -60
    },
    "id": "5wAuicp6TLAY",
    "outputId": "e52cf8ce-0942-4b45-e685-81016692ddad"
   },
   "outputs": [
    {
     "name": "stdout",
     "output_type": "stream",
     "text": [
      "Epoch [1/50], Loss: 2.2139, Acc: 0.2282, Val Loss: 2.1482, Val Acc: 0.3052\n",
      "Epoch [2/50], Loss: 2.1345, Acc: 0.3180, Val Loss: 2.0913, Val Acc: 0.3626\n",
      "Epoch [3/50], Loss: 2.0978, Acc: 0.3554, Val Loss: 2.0739, Val Acc: 0.3810\n",
      "Epoch [4/50], Loss: 2.0629, Acc: 0.3916, Val Loss: 2.1007, Val Acc: 0.3524\n",
      "Epoch [5/50], Loss: 2.0425, Acc: 0.4124, Val Loss: 2.0353, Val Acc: 0.4203\n",
      "Epoch [6/50], Loss: 2.0286, Acc: 0.4272, Val Loss: 2.0635, Val Acc: 0.3885\n",
      "Epoch [7/50], Loss: 2.0061, Acc: 0.4495, Val Loss: 1.9941, Val Acc: 0.4636\n",
      "Epoch [8/50], Loss: 1.9954, Acc: 0.4603, Val Loss: 1.9877, Val Acc: 0.4669\n",
      "Epoch [9/50], Loss: 1.9759, Acc: 0.4806, Val Loss: 1.9751, Val Acc: 0.4818\n",
      "Epoch [10/50], Loss: 1.9761, Acc: 0.4808, Val Loss: 1.9638, Val Acc: 0.4938\n",
      "Epoch [11/50], Loss: 1.9683, Acc: 0.4890, Val Loss: 1.9535, Val Acc: 0.5055\n",
      "Epoch [12/50], Loss: 1.9645, Acc: 0.4933, Val Loss: 1.9774, Val Acc: 0.4811\n",
      "Epoch [13/50], Loss: 1.9700, Acc: 0.4882, Val Loss: 1.9816, Val Acc: 0.4782\n",
      "Epoch [14/50], Loss: 1.9651, Acc: 0.4929, Val Loss: 1.9793, Val Acc: 0.4779\n",
      "Epoch [15/50], Loss: 1.9590, Acc: 0.4989, Val Loss: 1.9815, Val Acc: 0.4763\n",
      "Epoch [16/50], Loss: 1.9627, Acc: 0.4958, Val Loss: 1.9447, Val Acc: 0.5142\n",
      "Epoch [17/50], Loss: 1.9621, Acc: 0.4962, Val Loss: 1.9975, Val Acc: 0.4619\n",
      "Epoch [18/50], Loss: 1.9526, Acc: 0.5060, Val Loss: 1.9939, Val Acc: 0.4663\n",
      "Epoch [19/50], Loss: 1.9792, Acc: 0.4802, Val Loss: 1.9717, Val Acc: 0.4881\n",
      "Epoch [20/50], Loss: 1.9687, Acc: 0.4911, Val Loss: 2.0219, Val Acc: 0.4371\n",
      "Epoch [21/50], Loss: 1.9700, Acc: 0.4896, Val Loss: 2.0018, Val Acc: 0.4584\n",
      "Epoch [22/50], Loss: 1.9731, Acc: 0.4865, Val Loss: 1.9576, Val Acc: 0.5023\n",
      "Epoch [23/50], Loss: 1.9802, Acc: 0.4796, Val Loss: 2.0548, Val Acc: 0.4065\n",
      "Epoch [24/50], Loss: 1.9929, Acc: 0.4676, Val Loss: 2.0147, Val Acc: 0.4457\n",
      "Epoch [25/50], Loss: 1.9976, Acc: 0.4632, Val Loss: 1.9922, Val Acc: 0.4680\n",
      "Epoch [26/50], Loss: 1.9941, Acc: 0.4666, Val Loss: 2.0141, Val Acc: 0.4466\n",
      "Epoch [27/50], Loss: 2.0052, Acc: 0.4555, Val Loss: 2.0014, Val Acc: 0.4589\n",
      "Epoch [28/50], Loss: 2.0187, Acc: 0.4420, Val Loss: 1.9871, Val Acc: 0.4743\n",
      "Epoch [29/50], Loss: 2.0337, Acc: 0.4271, Val Loss: 2.0269, Val Acc: 0.4335\n",
      "Epoch [30/50], Loss: 2.0217, Acc: 0.4390, Val Loss: 2.0143, Val Acc: 0.4469\n",
      "Epoch [31/50], Loss: 2.0935, Acc: 0.3674, Val Loss: 2.1664, Val Acc: 0.2948\n",
      "Epoch [32/50], Loss: 2.0727, Acc: 0.3881, Val Loss: 2.0706, Val Acc: 0.3898\n",
      "Epoch [33/50], Loss: 2.0523, Acc: 0.4084, Val Loss: 2.1162, Val Acc: 0.3447\n",
      "Epoch [34/50], Loss: 2.0905, Acc: 0.3705, Val Loss: 2.1668, Val Acc: 0.2939\n",
      "Epoch [35/50], Loss: 2.1428, Acc: 0.3183, Val Loss: 2.0612, Val Acc: 0.3998\n",
      "Epoch [36/50], Loss: 2.0719, Acc: 0.3891, Val Loss: 2.0669, Val Acc: 0.3938\n",
      "Epoch [37/50], Loss: 2.0903, Acc: 0.3708, Val Loss: 2.2267, Val Acc: 0.2345\n",
      "Epoch [38/50], Loss: 2.1114, Acc: 0.3497, Val Loss: 2.1655, Val Acc: 0.2953\n",
      "Epoch [39/50], Loss: 2.1489, Acc: 0.3121, Val Loss: 2.2434, Val Acc: 0.2177\n",
      "Epoch [40/50], Loss: 2.1984, Acc: 0.2627, Val Loss: 2.2144, Val Acc: 0.2468\n",
      "Epoch [41/50], Loss: 2.2602, Acc: 0.2009, Val Loss: 2.2091, Val Acc: 0.2518\n",
      "Epoch [42/50], Loss: 2.2149, Acc: 0.2461, Val Loss: 2.2926, Val Acc: 0.1687\n",
      "Epoch [43/50], Loss: 2.3108, Acc: 0.1504, Val Loss: 2.3541, Val Acc: 0.1070\n",
      "Epoch [44/50], Loss: 2.2569, Acc: 0.2042, Val Loss: 2.1453, Val Acc: 0.3158\n",
      "Epoch [45/50], Loss: 2.1939, Acc: 0.2673, Val Loss: 2.1665, Val Acc: 0.2949\n",
      "Epoch [46/50], Loss: 2.3397, Acc: 0.1215, Val Loss: 2.3423, Val Acc: 0.1190\n",
      "Epoch [47/50], Loss: 2.2996, Acc: 0.1615, Val Loss: 2.3549, Val Acc: 0.1063\n",
      "Epoch [48/50], Loss: 2.3252, Acc: 0.1359, Val Loss: 2.3440, Val Acc: 0.1172\n",
      "Epoch [49/50], Loss: 2.3526, Acc: 0.1085, Val Loss: 2.3547, Val Acc: 0.1065\n",
      "Epoch [50/50], Loss: 2.3062, Acc: 0.1550, Val Loss: 2.3548, Val Acc: 0.1064\n"
     ]
    }
   ],
   "source": [
    "# Define the loss function and optimizer\n",
    "criterion = nn.CrossEntropyLoss()\n",
    "optimizer6 = optim.Adam(model_conv6.parameters(), lr=0.001)\n",
    "\n",
    "# Train the model\n",
    "history6 = train(model_conv6, train_loader, val_loader, criterion, optimizer6, epochs=50)"
   ]
  },
  {
   "cell_type": "code",
   "execution_count": null,
   "metadata": {
    "executionInfo": {
     "elapsed": 801,
     "status": "ok",
     "timestamp": 1614948679933,
     "user": {
      "displayName": "Charles Tanguy",
      "photoUrl": "",
      "userId": "11930294859591867631"
     },
     "user_tz": -60
    },
    "id": "yG5NBgtJTNfF"
   },
   "outputs": [],
   "source": [
    "# Save model checkpoint\n",
    "checkpoint_path = \"model_conv6.pth\"\n",
    "torch.save({\n",
    "    'model_state_dict': model_conv6.state_dict(),\n",
    "    'optimizer_state_dict': optimizer6.state_dict(),\n",
    "    'val_loss': history6[\"val_loss\"][-1],\n",
    "    'history': history6\n",
    "}, checkpoint_path)"
   ]
  },
  {
   "cell_type": "code",
   "execution_count": 56,
   "metadata": {},
   "outputs": [
    {
     "name": "stdout",
     "output_type": "stream",
     "text": [
      "Download complete.\n"
     ]
    }
   ],
   "source": [
    "url = \"https://full-stack-assets.s3.eu-west-3.amazonaws.com/M08-deep-learning/model_conv6.pth\"\n",
    "output_path = \"model_conv6.pth\"\n",
    "\n",
    "# Download the file\n",
    "if not os.path.exists(output_path):\n",
    "    response = requests.get(url, stream=True)\n",
    "    with open(output_path, \"wb\") as file:\n",
    "        for chunk in response.iter_content(chunk_size=1024):\n",
    "            if chunk:\n",
    "                file.write(chunk)\n",
    "    print(\"Download complete.\")"
   ]
  },
  {
   "cell_type": "code",
   "execution_count": 57,
   "metadata": {
    "executionInfo": {
     "elapsed": 576,
     "status": "ok",
     "timestamp": 1614949060757,
     "user": {
      "displayName": "Charles Tanguy",
      "photoUrl": "",
      "userId": "11930294859591867631"
     },
     "user_tz": -60
    },
    "id": "uUTT5b8jdltv"
   },
   "outputs": [],
   "source": [
    "# Load the model from checkpoint\n",
    "restored_model_conv6 = CNN6()\n",
    "restored_model_conv6.load_state_dict(torch.load(\"model_conv6.pth\", weights_only=True)[\"model_state_dict\"])\n",
    "restored_model_conv6.eval()\n",
    "history = torch.load(\"model_conv6.pth\", weights_only=True)[\"history\"]"
   ]
  },
  {
   "cell_type": "code",
   "execution_count": null,
   "metadata": {
    "colab": {
     "base_uri": "https://localhost:8080/",
     "height": 542
    },
    "executionInfo": {
     "elapsed": 714,
     "status": "ok",
     "timestamp": 1614949062150,
     "user": {
      "displayName": "Charles Tanguy",
      "photoUrl": "",
      "userId": "11930294859591867631"
     },
     "user_tz": -60
    },
    "id": "b8ibsBfidv0u",
    "outputId": "c584ee59-7f82-469a-fd83-b1155d933da5"
   },
   "outputs": [
    {
     "data": {
      "application/vnd.plotly.v1+json": {
       "config": {
        "plotlyServerURL": "https://plot.ly"
       },
       "data": [
        {
         "mode": "lines",
         "name": "Training loss",
         "type": "scatter",
         "y": [
          2.2139112943649293,
          2.1345433989524842,
          2.0978069936752317,
          2.062930486011505,
          2.042477020263672,
          2.0286102550506593,
          2.006095325088501,
          1.9954488326072692,
          1.975887477016449,
          1.976149854183197,
          1.9682551399230956,
          1.9645082945823669,
          1.9700023176193238,
          1.9651302393913268,
          1.9590300188064576,
          1.962698668575287,
          1.9620803776741027,
          1.9526469586372375,
          1.9792326065063477,
          1.968650726032257,
          1.9699960755348205,
          1.9731473524093628,
          1.9801753602027894,
          1.9929005703926086,
          1.9975768629074098,
          1.9941240417480468,
          2.0051733221054078,
          2.01874085521698,
          2.033651250743866,
          2.021668414402008,
          2.093539823913574,
          2.0726518202781676,
          2.0522866220474243,
          2.0904780740737916,
          2.1428446186065675,
          2.0719014412879946,
          2.090280278301239,
          2.111360080718994,
          2.148947016239166,
          2.1984366752624513,
          2.260213431930542,
          2.214941909313202,
          2.310796664047241,
          2.2569280241012573,
          2.193863456726074,
          2.3396781982421877,
          2.299599228477478,
          2.325202331352234,
          2.352649767112732,
          2.3061766330718996
         ]
        },
        {
         "mode": "lines",
         "name": "Validation loss",
         "type": "scatter",
         "y": [
          2.1481545062872547,
          2.091281424696072,
          2.0738953073946433,
          2.100680888651278,
          2.035335997423044,
          2.0634510315264376,
          1.9941008456598837,
          1.9876876635292469,
          1.975108020983565,
          1.9638142387707012,
          1.9535422770740887,
          1.9774160209936076,
          1.981604045191512,
          1.9793254049441305,
          1.981533021972583,
          1.9447425942832288,
          1.9975139725322542,
          1.9938552889961023,
          1.9716544391248172,
          2.0218701994838044,
          2.001751687580023,
          1.95762743355748,
          2.0547530902460363,
          2.01467946124153,
          1.9922410641996244,
          2.0140756402914515,
          2.0014343410254285,
          1.9871470078873559,
          2.026896608142426,
          2.0143112911583896,
          2.1663883532198094,
          2.0705591405923376,
          2.116221163981258,
          2.1667502619587955,
          2.0611804502840623,
          2.0668725750316828,
          2.2266987383175203,
          2.1654615969703603,
          2.2434424546579965,
          2.2144188587657943,
          2.2090706193028167,
          2.2925685259480826,
          2.3541190014860502,
          2.1453157480532368,
          2.166522144890441,
          2.3423362319080976,
          2.354920614260835,
          2.3440380264014102,
          2.354720933749653,
          2.3548091554794066
         ]
        }
       ],
       "layout": {
        "template": {
         "data": {
          "bar": [
           {
            "error_x": {
             "color": "#2a3f5f"
            },
            "error_y": {
             "color": "#2a3f5f"
            },
            "marker": {
             "line": {
              "color": "#E5ECF6",
              "width": 0.5
             },
             "pattern": {
              "fillmode": "overlay",
              "size": 10,
              "solidity": 0.2
             }
            },
            "type": "bar"
           }
          ],
          "barpolar": [
           {
            "marker": {
             "line": {
              "color": "#E5ECF6",
              "width": 0.5
             },
             "pattern": {
              "fillmode": "overlay",
              "size": 10,
              "solidity": 0.2
             }
            },
            "type": "barpolar"
           }
          ],
          "carpet": [
           {
            "aaxis": {
             "endlinecolor": "#2a3f5f",
             "gridcolor": "white",
             "linecolor": "white",
             "minorgridcolor": "white",
             "startlinecolor": "#2a3f5f"
            },
            "baxis": {
             "endlinecolor": "#2a3f5f",
             "gridcolor": "white",
             "linecolor": "white",
             "minorgridcolor": "white",
             "startlinecolor": "#2a3f5f"
            },
            "type": "carpet"
           }
          ],
          "choropleth": [
           {
            "colorbar": {
             "outlinewidth": 0,
             "ticks": ""
            },
            "type": "choropleth"
           }
          ],
          "contour": [
           {
            "colorbar": {
             "outlinewidth": 0,
             "ticks": ""
            },
            "colorscale": [
             [
              0,
              "#0d0887"
             ],
             [
              0.1111111111111111,
              "#46039f"
             ],
             [
              0.2222222222222222,
              "#7201a8"
             ],
             [
              0.3333333333333333,
              "#9c179e"
             ],
             [
              0.4444444444444444,
              "#bd3786"
             ],
             [
              0.5555555555555556,
              "#d8576b"
             ],
             [
              0.6666666666666666,
              "#ed7953"
             ],
             [
              0.7777777777777778,
              "#fb9f3a"
             ],
             [
              0.8888888888888888,
              "#fdca26"
             ],
             [
              1,
              "#f0f921"
             ]
            ],
            "type": "contour"
           }
          ],
          "contourcarpet": [
           {
            "colorbar": {
             "outlinewidth": 0,
             "ticks": ""
            },
            "type": "contourcarpet"
           }
          ],
          "heatmap": [
           {
            "colorbar": {
             "outlinewidth": 0,
             "ticks": ""
            },
            "colorscale": [
             [
              0,
              "#0d0887"
             ],
             [
              0.1111111111111111,
              "#46039f"
             ],
             [
              0.2222222222222222,
              "#7201a8"
             ],
             [
              0.3333333333333333,
              "#9c179e"
             ],
             [
              0.4444444444444444,
              "#bd3786"
             ],
             [
              0.5555555555555556,
              "#d8576b"
             ],
             [
              0.6666666666666666,
              "#ed7953"
             ],
             [
              0.7777777777777778,
              "#fb9f3a"
             ],
             [
              0.8888888888888888,
              "#fdca26"
             ],
             [
              1,
              "#f0f921"
             ]
            ],
            "type": "heatmap"
           }
          ],
          "histogram": [
           {
            "marker": {
             "pattern": {
              "fillmode": "overlay",
              "size": 10,
              "solidity": 0.2
             }
            },
            "type": "histogram"
           }
          ],
          "histogram2d": [
           {
            "colorbar": {
             "outlinewidth": 0,
             "ticks": ""
            },
            "colorscale": [
             [
              0,
              "#0d0887"
             ],
             [
              0.1111111111111111,
              "#46039f"
             ],
             [
              0.2222222222222222,
              "#7201a8"
             ],
             [
              0.3333333333333333,
              "#9c179e"
             ],
             [
              0.4444444444444444,
              "#bd3786"
             ],
             [
              0.5555555555555556,
              "#d8576b"
             ],
             [
              0.6666666666666666,
              "#ed7953"
             ],
             [
              0.7777777777777778,
              "#fb9f3a"
             ],
             [
              0.8888888888888888,
              "#fdca26"
             ],
             [
              1,
              "#f0f921"
             ]
            ],
            "type": "histogram2d"
           }
          ],
          "histogram2dcontour": [
           {
            "colorbar": {
             "outlinewidth": 0,
             "ticks": ""
            },
            "colorscale": [
             [
              0,
              "#0d0887"
             ],
             [
              0.1111111111111111,
              "#46039f"
             ],
             [
              0.2222222222222222,
              "#7201a8"
             ],
             [
              0.3333333333333333,
              "#9c179e"
             ],
             [
              0.4444444444444444,
              "#bd3786"
             ],
             [
              0.5555555555555556,
              "#d8576b"
             ],
             [
              0.6666666666666666,
              "#ed7953"
             ],
             [
              0.7777777777777778,
              "#fb9f3a"
             ],
             [
              0.8888888888888888,
              "#fdca26"
             ],
             [
              1,
              "#f0f921"
             ]
            ],
            "type": "histogram2dcontour"
           }
          ],
          "mesh3d": [
           {
            "colorbar": {
             "outlinewidth": 0,
             "ticks": ""
            },
            "type": "mesh3d"
           }
          ],
          "parcoords": [
           {
            "line": {
             "colorbar": {
              "outlinewidth": 0,
              "ticks": ""
             }
            },
            "type": "parcoords"
           }
          ],
          "pie": [
           {
            "automargin": true,
            "type": "pie"
           }
          ],
          "scatter": [
           {
            "fillpattern": {
             "fillmode": "overlay",
             "size": 10,
             "solidity": 0.2
            },
            "type": "scatter"
           }
          ],
          "scatter3d": [
           {
            "line": {
             "colorbar": {
              "outlinewidth": 0,
              "ticks": ""
             }
            },
            "marker": {
             "colorbar": {
              "outlinewidth": 0,
              "ticks": ""
             }
            },
            "type": "scatter3d"
           }
          ],
          "scattercarpet": [
           {
            "marker": {
             "colorbar": {
              "outlinewidth": 0,
              "ticks": ""
             }
            },
            "type": "scattercarpet"
           }
          ],
          "scattergeo": [
           {
            "marker": {
             "colorbar": {
              "outlinewidth": 0,
              "ticks": ""
             }
            },
            "type": "scattergeo"
           }
          ],
          "scattergl": [
           {
            "marker": {
             "colorbar": {
              "outlinewidth": 0,
              "ticks": ""
             }
            },
            "type": "scattergl"
           }
          ],
          "scattermap": [
           {
            "marker": {
             "colorbar": {
              "outlinewidth": 0,
              "ticks": ""
             }
            },
            "type": "scattermap"
           }
          ],
          "scattermapbox": [
           {
            "marker": {
             "colorbar": {
              "outlinewidth": 0,
              "ticks": ""
             }
            },
            "type": "scattermapbox"
           }
          ],
          "scatterpolar": [
           {
            "marker": {
             "colorbar": {
              "outlinewidth": 0,
              "ticks": ""
             }
            },
            "type": "scatterpolar"
           }
          ],
          "scatterpolargl": [
           {
            "marker": {
             "colorbar": {
              "outlinewidth": 0,
              "ticks": ""
             }
            },
            "type": "scatterpolargl"
           }
          ],
          "scatterternary": [
           {
            "marker": {
             "colorbar": {
              "outlinewidth": 0,
              "ticks": ""
             }
            },
            "type": "scatterternary"
           }
          ],
          "surface": [
           {
            "colorbar": {
             "outlinewidth": 0,
             "ticks": ""
            },
            "colorscale": [
             [
              0,
              "#0d0887"
             ],
             [
              0.1111111111111111,
              "#46039f"
             ],
             [
              0.2222222222222222,
              "#7201a8"
             ],
             [
              0.3333333333333333,
              "#9c179e"
             ],
             [
              0.4444444444444444,
              "#bd3786"
             ],
             [
              0.5555555555555556,
              "#d8576b"
             ],
             [
              0.6666666666666666,
              "#ed7953"
             ],
             [
              0.7777777777777778,
              "#fb9f3a"
             ],
             [
              0.8888888888888888,
              "#fdca26"
             ],
             [
              1,
              "#f0f921"
             ]
            ],
            "type": "surface"
           }
          ],
          "table": [
           {
            "cells": {
             "fill": {
              "color": "#EBF0F8"
             },
             "line": {
              "color": "white"
             }
            },
            "header": {
             "fill": {
              "color": "#C8D4E3"
             },
             "line": {
              "color": "white"
             }
            },
            "type": "table"
           }
          ]
         },
         "layout": {
          "annotationdefaults": {
           "arrowcolor": "#2a3f5f",
           "arrowhead": 0,
           "arrowwidth": 1
          },
          "autotypenumbers": "strict",
          "coloraxis": {
           "colorbar": {
            "outlinewidth": 0,
            "ticks": ""
           }
          },
          "colorscale": {
           "diverging": [
            [
             0,
             "#8e0152"
            ],
            [
             0.1,
             "#c51b7d"
            ],
            [
             0.2,
             "#de77ae"
            ],
            [
             0.3,
             "#f1b6da"
            ],
            [
             0.4,
             "#fde0ef"
            ],
            [
             0.5,
             "#f7f7f7"
            ],
            [
             0.6,
             "#e6f5d0"
            ],
            [
             0.7,
             "#b8e186"
            ],
            [
             0.8,
             "#7fbc41"
            ],
            [
             0.9,
             "#4d9221"
            ],
            [
             1,
             "#276419"
            ]
           ],
           "sequential": [
            [
             0,
             "#0d0887"
            ],
            [
             0.1111111111111111,
             "#46039f"
            ],
            [
             0.2222222222222222,
             "#7201a8"
            ],
            [
             0.3333333333333333,
             "#9c179e"
            ],
            [
             0.4444444444444444,
             "#bd3786"
            ],
            [
             0.5555555555555556,
             "#d8576b"
            ],
            [
             0.6666666666666666,
             "#ed7953"
            ],
            [
             0.7777777777777778,
             "#fb9f3a"
            ],
            [
             0.8888888888888888,
             "#fdca26"
            ],
            [
             1,
             "#f0f921"
            ]
           ],
           "sequentialminus": [
            [
             0,
             "#0d0887"
            ],
            [
             0.1111111111111111,
             "#46039f"
            ],
            [
             0.2222222222222222,
             "#7201a8"
            ],
            [
             0.3333333333333333,
             "#9c179e"
            ],
            [
             0.4444444444444444,
             "#bd3786"
            ],
            [
             0.5555555555555556,
             "#d8576b"
            ],
            [
             0.6666666666666666,
             "#ed7953"
            ],
            [
             0.7777777777777778,
             "#fb9f3a"
            ],
            [
             0.8888888888888888,
             "#fdca26"
            ],
            [
             1,
             "#f0f921"
            ]
           ]
          },
          "colorway": [
           "#636efa",
           "#EF553B",
           "#00cc96",
           "#ab63fa",
           "#FFA15A",
           "#19d3f3",
           "#FF6692",
           "#B6E880",
           "#FF97FF",
           "#FECB52"
          ],
          "font": {
           "color": "#2a3f5f"
          },
          "geo": {
           "bgcolor": "white",
           "lakecolor": "white",
           "landcolor": "#E5ECF6",
           "showlakes": true,
           "showland": true,
           "subunitcolor": "white"
          },
          "hoverlabel": {
           "align": "left"
          },
          "hovermode": "closest",
          "mapbox": {
           "style": "light"
          },
          "paper_bgcolor": "white",
          "plot_bgcolor": "#E5ECF6",
          "polar": {
           "angularaxis": {
            "gridcolor": "white",
            "linecolor": "white",
            "ticks": ""
           },
           "bgcolor": "#E5ECF6",
           "radialaxis": {
            "gridcolor": "white",
            "linecolor": "white",
            "ticks": ""
           }
          },
          "scene": {
           "xaxis": {
            "backgroundcolor": "#E5ECF6",
            "gridcolor": "white",
            "gridwidth": 2,
            "linecolor": "white",
            "showbackground": true,
            "ticks": "",
            "zerolinecolor": "white"
           },
           "yaxis": {
            "backgroundcolor": "#E5ECF6",
            "gridcolor": "white",
            "gridwidth": 2,
            "linecolor": "white",
            "showbackground": true,
            "ticks": "",
            "zerolinecolor": "white"
           },
           "zaxis": {
            "backgroundcolor": "#E5ECF6",
            "gridcolor": "white",
            "gridwidth": 2,
            "linecolor": "white",
            "showbackground": true,
            "ticks": "",
            "zerolinecolor": "white"
           }
          },
          "shapedefaults": {
           "line": {
            "color": "#2a3f5f"
           }
          },
          "ternary": {
           "aaxis": {
            "gridcolor": "white",
            "linecolor": "white",
            "ticks": ""
           },
           "baxis": {
            "gridcolor": "white",
            "linecolor": "white",
            "ticks": ""
           },
           "bgcolor": "#E5ECF6",
           "caxis": {
            "gridcolor": "white",
            "linecolor": "white",
            "ticks": ""
           }
          },
          "title": {
           "x": 0.05
          },
          "xaxis": {
           "automargin": true,
           "gridcolor": "white",
           "linecolor": "white",
           "ticks": "",
           "title": {
            "standoff": 15
           },
           "zerolinecolor": "white",
           "zerolinewidth": 2
          },
          "yaxis": {
           "automargin": true,
           "gridcolor": "white",
           "linecolor": "white",
           "ticks": "",
           "title": {
            "standoff": 15
           },
           "zerolinecolor": "white",
           "zerolinewidth": 2
          }
         }
        },
        "title": {
         "text": "Training and val loss across epochs"
        },
        "xaxis": {
         "title": {
          "text": "epochs"
         }
        },
        "yaxis": {
         "title": {
          "text": "Cross Entropy"
         }
        }
       }
      }
     },
     "metadata": {},
     "output_type": "display_data"
    }
   ],
   "source": [
    "fig = go.Figure(data=[\n",
    "                      go.Scatter(\n",
    "                          y=history[\"loss\"],\n",
    "                          name=\"Training loss\",\n",
    "                          mode=\"lines\"\n",
    "                          ),\n",
    "                      go.Scatter(\n",
    "                          y=history[\"val_loss\"],\n",
    "                          name=\"Validation loss\",\n",
    "                          mode=\"lines\"\n",
    "                          )\n",
    "])\n",
    "fig.update_layout(\n",
    "    title='Training and val loss across epochs',\n",
    "    xaxis_title='epochs',\n",
    "    yaxis_title='Cross Entropy'    \n",
    ")\n",
    "fig.show()"
   ]
  },
  {
   "cell_type": "markdown",
   "metadata": {
    "id": "tK9tI1uYd8cv"
   },
   "source": [
    "Adding more convolutional layers helps a little but does not really improve the results for this dataset."
   ]
  }
 ],
 "metadata": {
  "accelerator": "GPU",
  "colab": {
   "collapsed_sections": [],
   "name": "01-Cifar10_solutions.ipynb",
   "provenance": [],
   "toc_visible": true
  },
  "kernelspec": {
   "display_name": "pytorch",
   "language": "python",
   "name": "python3"
  },
  "language_info": {
   "codemirror_mode": {
    "name": "ipython",
    "version": 3
   },
   "file_extension": ".py",
   "mimetype": "text/x-python",
   "name": "python",
   "nbconvert_exporter": "python",
   "pygments_lexer": "ipython3",
   "version": "3.10.16"
  }
 },
 "nbformat": 4,
 "nbformat_minor": 0
}
