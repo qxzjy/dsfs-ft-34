{
 "cells": [
  {
   "cell_type": "markdown",
   "metadata": {},
   "source": [
    "# Quiz"
   ]
  },
  {
   "cell_type": "code",
   "execution_count": null,
   "metadata": {},
   "outputs": [
    {
     "name": "stdout",
     "output_type": "stream",
     "text": [
      "Veuillez créer les questions (create_questions) ou en charger des prédéfinies (load_prefined_question)\n",
      "Combien font 4*8 ?\n",
      "Votre réponse : 32\n",
      "Bonne réponse !\n",
      "\n",
      "De quelle ville française le cannelé est-il une spécialité ?\n",
      "Votre réponse : bordeaux\n",
      "Bonne réponse !\n",
      "\n",
      "Quel est le nom du principal indice boursier de la place de Paris ?\n",
      "Votre réponse : cac 40\n",
      "Bonne réponse !\n",
      "\n",
      "Félicitation, vous avez réussi le quiz !\n"
     ]
    }
   ],
   "source": [
    "class Quiz:\n",
    "\n",
    "    def __init__(self, nb_chances=3):\n",
    "\n",
    "        self.q_a_dict = {}\n",
    "        self.chances_left = nb_chances\n",
    "        self.questions_created = False\n",
    "\n",
    "    def load_prefined_question(self):\n",
    "\n",
    "        self.q_a_dict = {\n",
    "            \"Combien font 4*8 ?\" : \"32\",\n",
    "            \"De quelle ville française le cannelé est-il une spécialité ?\" : \"Bordeaux\",\n",
    "            \"Quel est le nom du principal indice boursier de la place de Paris ?\" : \"CAC 40\"\n",
    "        }\n",
    "\n",
    "        self.questions_created = True\n",
    "\n",
    "    def create_questions(self, nb_questions=3):\n",
    "\n",
    "        for i in range (nb_questions):\n",
    "            \n",
    "            question = input(\"Indiquez votre question\")\n",
    "            answer = input(\"Indiquez la réponse associée\")\n",
    "            self.q_a_dict[question] = answer\n",
    "\n",
    "        self.questions_created = True\n",
    "\n",
    "    def start_quiz(self):\n",
    "\n",
    "        if not self.questions_created :\n",
    "            print(\"Veuillez créer les questions (create_questions) ou en charger des prédéfinies (load_prefined_question)\")\n",
    "        else :\n",
    "            try :\n",
    "                for question, answer in self.q_a_dict.items() :\n",
    "                    is_correct = False\n",
    "                    \n",
    "                    while not is_correct :\n",
    "                        user_answer = input(question)\n",
    "\n",
    "                        print(question)\n",
    "                        print(\"Votre réponse :\", user_answer)\n",
    "\n",
    "                        if user_answer.lower() == answer.lower():\n",
    "\n",
    "                            print(\"Bonne réponse !\")\n",
    "                            is_correct = True\n",
    "                        else :\n",
    "                            \n",
    "                            self.chances_left -= 1\n",
    "                            print(f\"Mauvaise réponse, réessayez ! Il ne vous reste que {self.chances_left} chances restantes !\")\n",
    "                            if self.chances_left == 0:\n",
    "                                raise Exception(\"Dommage, vous avez perdu le quiz !\")    \n",
    "                            \n",
    "                    print()\n",
    "\n",
    "            except Exception as e :\n",
    "                print(e)\n",
    "\n",
    "            else :\n",
    "                print(\"Félicitation, vous avez réussi le quiz !\")\n",
    "            \n",
    "\n",
    "    \n",
    "\n",
    "\n",
    "instance = Quiz()\n",
    "instance.start_quiz()\n",
    "# instance.create_questions()\n",
    "instance.load_prefined_question()\n",
    "instance.start_quiz()\n"
   ]
  }
 ],
 "metadata": {
  "kernelspec": {
   "display_name": "base",
   "language": "python",
   "name": "python3"
  },
  "language_info": {
   "codemirror_mode": {
    "name": "ipython",
    "version": 3
   },
   "file_extension": ".py",
   "mimetype": "text/x-python",
   "name": "python",
   "nbconvert_exporter": "python",
   "pygments_lexer": "ipython3",
   "version": "3.12.7"
  }
 },
 "nbformat": 4,
 "nbformat_minor": 2
}
