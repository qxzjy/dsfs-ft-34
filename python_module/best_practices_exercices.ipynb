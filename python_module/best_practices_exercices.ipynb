{
 "cells": [
  {
   "cell_type": "markdown",
   "metadata": {},
   "source": [
    "# Math oriented programming"
   ]
  },
  {
   "cell_type": "code",
   "execution_count": 9,
   "metadata": {},
   "outputs": [
    {
     "name": "stdout",
     "output_type": "stream",
     "text": [
      "Racine carrée de 25 :  5.0\n",
      "Moyenne de la liste 10, 15, 20 :  15.0\n",
      "Est-ce que 2 est paire ? :  True\n",
      "Est-ce que 3 est paire ? :  False\n",
      "Somme de la liste 10, 15, 20 :  45\n"
     ]
    }
   ],
   "source": [
    "class math:\n",
    "\n",
    "    def sqrt(number):\n",
    "        return number**(1/2)\n",
    "    \n",
    "    def mean(list_of_number):\n",
    "        return sum(list_of_number)/len(list_of_number)\n",
    "    \n",
    "    def is_odd(number):\n",
    "        return number%2==0\n",
    "    \n",
    "    def sum(list_of_number):\n",
    "        return sum(list_of_number)\n",
    "    \n",
    "print(\"Racine carrée de 25 : \", math.sqrt(25))\n",
    "print(\"Moyenne de la liste 10, 15, 20 : \", math.mean([10, 15, 20]))\n",
    "print(\"Est-ce que 2 est paire ? : \", math.is_odd(2))\n",
    "print(\"Est-ce que 3 est paire ? : \", math.is_odd(3))\n",
    "print(\"Somme de la liste 10, 15, 20 : \", math.sum([10, 15, 20]))"
   ]
  },
  {
   "cell_type": "markdown",
   "metadata": {},
   "source": [
    "# Imputer"
   ]
  },
  {
   "cell_type": "code",
   "execution_count": 23,
   "metadata": {},
   "outputs": [
    {
     "name": "stdout",
     "output_type": "stream",
     "text": [
      "[15.0, 10, 15, 15.0, 20]\n",
      "[10, 15, 15, 20, 15]\n"
     ]
    }
   ],
   "source": [
    "class imputer:\n",
    "\n",
    "    def __init__(self, list):\n",
    "        self.list = list\n",
    "\n",
    "    def avg(self):\n",
    "        \n",
    "        missing_value_index = []\n",
    "        sum_of_list = 0\n",
    "        #nb_elements_not_none = 0\n",
    "\n",
    "        for index, item in enumerate(self.list) :\n",
    "            \n",
    "            if item is None :\n",
    "                missing_value_index.append(index)\n",
    "            else :    \n",
    "                sum_of_list += item\n",
    "\n",
    "        self.list = [sum_of_list/(len(self.list)-len(missing_value_index)) if i is None else i for i in self.list]\n",
    "\n",
    "        return self.list\n",
    "    \n",
    "    def median(self):\n",
    "        \n",
    "        missing_value_index = []\n",
    "\n",
    "        for index, item in enumerate(self.list) :\n",
    "            if item is None :\n",
    "                missing_value_index.append(index)\n",
    "        \n",
    "        list_whitout_none = [x for x in self.list if x is not None]\n",
    "        list_whitout_none.sort()\n",
    "\n",
    "        if len(list_whitout_none)%2 == 0 :\n",
    "            median = (list_whitout_none[len(list_whitout_none)//2] + list_whitout_none[len(list_whitout_none)//2]+1)/2\n",
    "        else :\n",
    "            median = list_whitout_none[len(list_whitout_none)//2]\n",
    "\n",
    "        self.list = [median if i is None else i for i in self.list]\n",
    "\n",
    "        return self.list\n",
    "\n",
    "list1 = [None, 10, 15, None, 20]\n",
    "list2 = [10, None, 15, 20, None]\n",
    "\n",
    "my_imputer = imputer(list1)\n",
    "print(my_imputer.avg())\n",
    "my_imputer2 = imputer(list2)\n",
    "print(my_imputer2.median())\n"
   ]
  },
  {
   "cell_type": "markdown",
   "metadata": {},
   "source": [
    "# Rebuild a quiz"
   ]
  },
  {
   "cell_type": "code",
   "execution_count": null,
   "metadata": {},
   "outputs": [],
   "source": [
    "q_a_dict = {\n",
    "    1 : {\"question\" : \"Combien font 4*8 ?\",\n",
    "         \"reponse\" : \"32\"},\n",
    "    2 : {\"question\" : \"De quelle ville française le cannelé est-il une spécialité ?\",\n",
    "         \"reponse\" : \"Bordeaux\"},\n",
    "    3 : {\"question\" : \"Quel est le nom du principal indice boursier de la place de Paris ?\",\n",
    "         \"reponse\" : \"CAC 40\"}\n",
    "}\n",
    "\n",
    "chances_left = 3\n",
    "\n",
    "try :\n",
    "    for index in q_a_dict.values() :\n",
    "        is_correct = False\n",
    "        \n",
    "        while not is_correct :\n",
    "            answer = input(index[\"question\"])\n",
    "\n",
    "            print(index[\"question\"])\n",
    "            print(\"Votre réponse :\", answer)\n",
    "\n",
    "            if answer.lower() == index[\"reponse\"].lower():\n",
    "                print(\"Bonne réponse !\")\n",
    "                is_correct = True\n",
    "            else :\n",
    "                chances_left -= 1\n",
    "                print(f\"Mauvaise réponse, réessayez ! Il ne vous reste que {chances_left} chances restantes !\")\n",
    "                if chances_left == 0:\n",
    "                    raise Exception(\"Dommage, vous avez perdu le quiz !\")    \n",
    "                \n",
    "        print()\n",
    "\n",
    "except Exception as e :\n",
    "    print(e)\n",
    "\n",
    "else :\n",
    "    print(\"Félicitation, vous avez réussi le quiz !\")\n"
   ]
  }
 ],
 "metadata": {
  "kernelspec": {
   "display_name": "base",
   "language": "python",
   "name": "python3"
  },
  "language_info": {
   "codemirror_mode": {
    "name": "ipython",
    "version": 3
   },
   "file_extension": ".py",
   "mimetype": "text/x-python",
   "name": "python",
   "nbconvert_exporter": "python",
   "pygments_lexer": "ipython3",
   "version": "3.12.7"
  }
 },
 "nbformat": 4,
 "nbformat_minor": 2
}
