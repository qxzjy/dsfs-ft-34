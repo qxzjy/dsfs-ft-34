{
 "cells": [
  {
   "cell_type": "markdown",
   "metadata": {},
   "source": [
    "# Math oriented programming"
   ]
  },
  {
   "cell_type": "code",
   "execution_count": null,
   "metadata": {},
   "outputs": [
    {
     "name": "stdout",
     "output_type": "stream",
     "text": [
      "Racine carrée de 25 :  5.0\n",
      "Moyenne de la liste 10, 15, 20 :  1.0\n",
      "Est-ce que 2 est paire ? :  True\n",
      "Est-ce que 3 est paire ? :  False\n",
      "Somme de la liste 10, 15, 20 :  45\n"
     ]
    }
   ],
   "source": [
    "class Math:\n",
    "\n",
    "    def sqrt(number):\n",
    "        return number**(1/2)\n",
    "    \n",
    "    def mean(*number): # * => permet de convertir l'entrée en Iterable\n",
    "        return sum(number)/len(number)\n",
    "    \n",
    "    def is_odd(number):\n",
    "        return number%2==0\n",
    "    \n",
    "    def sum(*number):\n",
    "        return sum(number)\n",
    "    \n",
    "print(\"Racine carrée de 25 : \", Math.sqrt(25))\n",
    "print(\"Moyenne de la liste 10, 15, 20 : \", Math.mean([10, 15, 20]))\n",
    "print(\"Est-ce que 2 est paire ? : \", Math.is_odd(2))\n",
    "print(\"Est-ce que 3 est paire ? : \", Math.is_odd(3))\n",
    "print(\"Somme de la liste 10, 15, 20 : \", Math.sum([10, 15, 20]))"
   ]
  },
  {
   "cell_type": "markdown",
   "metadata": {},
   "source": [
    "# Imputer"
   ]
  },
  {
   "cell_type": "code",
   "execution_count": null,
   "metadata": {},
   "outputs": [
    {
     "name": "stdout",
     "output_type": "stream",
     "text": [
      "[15.0, 10, 15, 15.0, 20]\n",
      "[10, 15, 15, 20, 15]\n"
     ]
    }
   ],
   "source": [
    "class Imputer:\n",
    "\n",
    "    def __init__(self, list):\n",
    "        self.list = list\n",
    "\n",
    "    def avg(self):\n",
    "        \n",
    "        missing_value_index = []\n",
    "        sum_of_list = 0\n",
    "\n",
    "        for index, item in enumerate(self.list) :\n",
    "            \n",
    "            if item is None :\n",
    "                missing_value_index.append(index)\n",
    "            else :    \n",
    "                sum_of_list += item\n",
    "\n",
    "        self.list = [sum_of_list/(len(self.list)-len(missing_value_index)) if i is None else i for i in self.list]\n",
    "\n",
    "        return self.list\n",
    "    \n",
    "    def median(self):\n",
    "        \n",
    "        missing_value_index = []\n",
    "\n",
    "        for index, item in enumerate(self.list) :\n",
    "            if item is None :\n",
    "                missing_value_index.append(index)\n",
    "        \n",
    "        list_whitout_none = [x for x in self.list if x is not None]\n",
    "        list_whitout_none.sort()\n",
    "\n",
    "        if len(list_whitout_none)%2 == 0 :\n",
    "            median = (list_whitout_none[len(list_whitout_none)//2] + list_whitout_none[len(list_whitout_none)//2]+1)/2\n",
    "        else :\n",
    "            median = list_whitout_none[len(list_whitout_none)//2]\n",
    "\n",
    "        self.list = [median if i is None else i for i in self.list]\n",
    "\n",
    "        return self.list\n",
    "\n",
    "list1 = [None, 10, 15, None, 20]\n",
    "list2 = [10, None, 15, 20, None]\n",
    "\n",
    "my_imputer = Imputer(list1)\n",
    "print(my_imputer.avg())\n",
    "my_imputer2 = Imputer(list2)\n",
    "print(my_imputer2.median())\n"
   ]
  }
 ],
 "metadata": {
  "kernelspec": {
   "display_name": "base",
   "language": "python",
   "name": "python3"
  },
  "language_info": {
   "codemirror_mode": {
    "name": "ipython",
    "version": 3
   },
   "file_extension": ".py",
   "mimetype": "text/x-python",
   "name": "python",
   "nbconvert_exporter": "python",
   "pygments_lexer": "ipython3",
   "version": "3.12.7"
  }
 },
 "nbformat": 4,
 "nbformat_minor": 2
}
