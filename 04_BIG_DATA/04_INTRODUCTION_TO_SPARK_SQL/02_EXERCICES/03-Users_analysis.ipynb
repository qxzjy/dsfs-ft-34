{
 "cells": [
  {
   "attachments": {},
   "cell_type": "markdown",
   "metadata": {
    "application/vnd.databricks.v1+cell": {
     "inputWidgets": {},
     "nuid": "a723cb04-f1e1-4e11-bf04-5c783bcbca00",
     "showTitle": false,
     "title": ""
    }
   },
   "source": [
    "# Users analysis"
   ]
  },
  {
   "cell_type": "code",
   "execution_count": null,
   "metadata": {
    "application/vnd.databricks.v1+cell": {
     "inputWidgets": {},
     "nuid": "1fd2430c-8a2b-45ad-a86b-abfa9d063345",
     "showTitle": false,
     "title": ""
    }
   },
   "outputs": [
    {
     "data": {
      "text/html": [
       "<style scoped>\n",
       "  .ansiout {\n",
       "    display: block;\n",
       "    unicode-bidi: embed;\n",
       "    white-space: pre-wrap;\n",
       "    word-wrap: break-word;\n",
       "    word-break: break-all;\n",
       "    font-family: \"Source Code Pro\", \"Menlo\", monospace;;\n",
       "    font-size: 13px;\n",
       "    color: #555;\n",
       "    margin-left: 4px;\n",
       "    line-height: 19px;\n",
       "  }\n",
       "</style>\n",
       "<div class=\"ansiout\">root\n",
       "-- timestamp: integer (nullable = true)\n",
       "-- user: integer (nullable = true)\n",
       "-- song: string (nullable = true)\n",
       "\n",
       "</div>"
      ]
     },
     "metadata": {
      "application/vnd.databricks.v1+output": {
       "addedWidgets": {},
       "arguments": {},
       "data": "<div class=\"ansiout\">root\n |-- timestamp: integer (nullable = true)\n |-- user: integer (nullable = true)\n |-- song: string (nullable = true)\n\n</div>",
       "datasetInfos": [],
       "removedWidgets": [],
       "type": "html"
      }
     },
     "output_type": "display_data"
    }
   ],
   "source": [
    "playlog = spark.read.format(\"csv\").option(\"header\", \"true\").option(\"inferSchema\",\"true\").load(\"s3://full-stack-bigdata-datasets/Big_Data/youtube_playlog.csv\")\n",
    "playlog.printSchema()"
   ]
  },
  {
   "attachments": {},
   "cell_type": "markdown",
   "metadata": {},
   "source": [
    "1. Compute a new column `datetime` that converts the timestamp to a datetime, drop the `timestamp` column, and order by `datetime`, save this as a new DataFrame `df`, show the first 5 rows of `df`.\n",
    "\n",
    "> TIP: use the method `.from_unixtime(...)`, this method converts integers into dates."
   ]
  },
  {
   "cell_type": "code",
   "execution_count": null,
   "metadata": {
    "application/vnd.databricks.v1+cell": {
     "inputWidgets": {},
     "nuid": "b7e207ec-d90c-4fd6-9795-e48f2bf6764e",
     "showTitle": false,
     "title": ""
    }
   },
   "outputs": [
    {
     "data": {
      "text/html": [
       "<style scoped>\n",
       "  .ansiout {\n",
       "    display: block;\n",
       "    unicode-bidi: embed;\n",
       "    white-space: pre-wrap;\n",
       "    word-wrap: break-word;\n",
       "    word-break: break-all;\n",
       "    font-family: \"Source Code Pro\", \"Menlo\", monospace;;\n",
       "    font-size: 13px;\n",
       "    color: #555;\n",
       "    margin-left: 4px;\n",
       "    line-height: 19px;\n",
       "  }\n",
       "</style>\n",
       "<div class=\"ansiout\">root\n",
       "-- user: integer (nullable = true)\n",
       "-- song: string (nullable = true)\n",
       "-- datetime: string (nullable = true)\n",
       "-- year: integer (nullable = true)\n",
       "-- month: integer (nullable = true)\n",
       "-- dayofmonth: integer (nullable = true)\n",
       "-- dayofyear: integer (nullable = true)\n",
       "-- weekofyear: integer (nullable = true)\n",
       "\n",
       "Out[2]: </div>"
      ]
     },
     "metadata": {
      "application/vnd.databricks.v1+output": {
       "addedWidgets": {},
       "arguments": {},
       "data": "<div class=\"ansiout\">root\n |-- user: integer (nullable = true)\n |-- song: string (nullable = true)\n |-- datetime: string (nullable = true)\n |-- year: integer (nullable = true)\n |-- month: integer (nullable = true)\n |-- dayofmonth: integer (nullable = true)\n |-- dayofyear: integer (nullable = true)\n |-- weekofyear: integer (nullable = true)\n\nOut[2]: </div>",
       "datasetInfos": [],
       "removedWidgets": [],
       "type": "html"
      }
     },
     "output_type": "display_data"
    },
    {
     "data": {
      "text/html": [
       "<div>\n",
       "<style scoped>\n",
       "    .dataframe tbody tr th:only-of-type {\n",
       "        vertical-align: middle;\n",
       "    }\n",
       "\n",
       "    .dataframe tbody tr th {\n",
       "        vertical-align: top;\n",
       "    }\n",
       "\n",
       "    .dataframe thead th {\n",
       "        text-align: right;\n",
       "    }\n",
       "</style>\n",
       "<table border=\"1\" class=\"dataframe\">\n",
       "  <thead>\n",
       "    <tr style=\"text-align: right;\">\n",
       "      <th></th>\n",
       "      <th>user</th>\n",
       "      <th>song</th>\n",
       "      <th>datetime</th>\n",
       "      <th>year</th>\n",
       "      <th>month</th>\n",
       "      <th>dayofmonth</th>\n",
       "      <th>dayofyear</th>\n",
       "      <th>weekofyear</th>\n",
       "    </tr>\n",
       "  </thead>\n",
       "  <tbody>\n",
       "    <tr>\n",
       "      <th>0</th>\n",
       "      <td>4</td>\n",
       "      <td>nRa-eGzpT6o</td>\n",
       "      <td>1965-07-26 03:21:43</td>\n",
       "      <td>1965</td>\n",
       "      <td>7</td>\n",
       "      <td>26</td>\n",
       "      <td>207</td>\n",
       "      <td>30</td>\n",
       "    </tr>\n",
       "    <tr>\n",
       "      <th>1</th>\n",
       "      <td>0</td>\n",
       "      <td>t1l8Z6gLPzo</td>\n",
       "      <td>2014-02-14 14:18:53</td>\n",
       "      <td>2014</td>\n",
       "      <td>2</td>\n",
       "      <td>14</td>\n",
       "      <td>45</td>\n",
       "      <td>7</td>\n",
       "    </tr>\n",
       "    <tr>\n",
       "      <th>2</th>\n",
       "      <td>22</td>\n",
       "      <td>Q24VZL8wpOM</td>\n",
       "      <td>2014-02-14 14:18:57</td>\n",
       "      <td>2014</td>\n",
       "      <td>2</td>\n",
       "      <td>14</td>\n",
       "      <td>45</td>\n",
       "      <td>7</td>\n",
       "    </tr>\n",
       "    <tr>\n",
       "      <th>3</th>\n",
       "      <td>70</td>\n",
       "      <td>VJ6ofd0pB_c</td>\n",
       "      <td>2014-02-14 14:18:57</td>\n",
       "      <td>2014</td>\n",
       "      <td>2</td>\n",
       "      <td>14</td>\n",
       "      <td>45</td>\n",
       "      <td>7</td>\n",
       "    </tr>\n",
       "    <tr>\n",
       "      <th>4</th>\n",
       "      <td>1</td>\n",
       "      <td>t1l8Z6gLPzo</td>\n",
       "      <td>2014-02-14 14:18:58</td>\n",
       "      <td>2014</td>\n",
       "      <td>2</td>\n",
       "      <td>14</td>\n",
       "      <td>45</td>\n",
       "      <td>7</td>\n",
       "    </tr>\n",
       "  </tbody>\n",
       "</table>\n",
       "</div>"
      ]
     },
     "metadata": {
      "application/vnd.databricks.v1+output": {
       "addedWidgets": {},
       "arguments": {},
       "data": "<div>\n<style scoped>\n    .dataframe tbody tr th:only-of-type {\n        vertical-align: middle;\n    }\n\n    .dataframe tbody tr th {\n        vertical-align: top;\n    }\n\n    .dataframe thead th {\n        text-align: right;\n    }\n</style>\n<table border=\"1\" class=\"dataframe\">\n  <thead>\n    <tr style=\"text-align: right;\">\n      <th></th>\n      <th>user</th>\n      <th>song</th>\n      <th>datetime</th>\n      <th>year</th>\n      <th>month</th>\n      <th>dayofmonth</th>\n      <th>dayofyear</th>\n      <th>weekofyear</th>\n    </tr>\n  </thead>\n  <tbody>\n    <tr>\n      <th>0</th>\n      <td>4</td>\n      <td>nRa-eGzpT6o</td>\n      <td>1965-07-26 03:21:43</td>\n      <td>1965</td>\n      <td>7</td>\n      <td>26</td>\n      <td>207</td>\n      <td>30</td>\n    </tr>\n    <tr>\n      <th>1</th>\n      <td>0</td>\n      <td>t1l8Z6gLPzo</td>\n      <td>2014-02-14 14:18:53</td>\n      <td>2014</td>\n      <td>2</td>\n      <td>14</td>\n      <td>45</td>\n      <td>7</td>\n    </tr>\n    <tr>\n      <th>2</th>\n      <td>22</td>\n      <td>Q24VZL8wpOM</td>\n      <td>2014-02-14 14:18:57</td>\n      <td>2014</td>\n      <td>2</td>\n      <td>14</td>\n      <td>45</td>\n      <td>7</td>\n    </tr>\n    <tr>\n      <th>3</th>\n      <td>70</td>\n      <td>VJ6ofd0pB_c</td>\n      <td>2014-02-14 14:18:57</td>\n      <td>2014</td>\n      <td>2</td>\n      <td>14</td>\n      <td>45</td>\n      <td>7</td>\n    </tr>\n    <tr>\n      <th>4</th>\n      <td>1</td>\n      <td>t1l8Z6gLPzo</td>\n      <td>2014-02-14 14:18:58</td>\n      <td>2014</td>\n      <td>2</td>\n      <td>14</td>\n      <td>45</td>\n      <td>7</td>\n    </tr>\n  </tbody>\n</table>\n</div>",
       "datasetInfos": [],
       "removedWidgets": [],
       "textData": null,
       "type": "htmlSandbox"
      }
     },
     "output_type": "display_data"
    }
   ],
   "source": []
  },
  {
   "attachments": {},
   "cell_type": "markdown",
   "metadata": {
    "application/vnd.databricks.v1+cell": {
     "inputWidgets": {},
     "nuid": "9a926d9a-a8bb-42c8-a753-bd30156553e9",
     "showTitle": false,
     "title": ""
    }
   },
   "source": [
    "Now that we have a datetime column, we can compute new columns, namely:\n",
    "- [year](https://spark.apache.org/docs/latest/api/python/reference/pyspark.sql/api/pyspark.sql.functions.year.html#pyspark.sql.functions.year)\n",
    "- [month](https://spark.apache.org/docs/latest/api/python/reference/pyspark.sql/api/pyspark.sql.functions.month.html#pyspark.sql.functions.month)\n",
    "- [dayofmonth](https://spark.apache.org/docs/latest/api/python/reference/pyspark.sql/api/pyspark.sql.functions.dayofmonth.html#pyspark.sql.functions.dayofmonth)\n",
    "- [dayofweek](https://spark.apache.org/docs/latest/api/python/reference/pyspark.sql/api/pyspark.sql.functions.dayofweek.html#pyspark.sql.functions.dayofweek)\n",
    "- [dayofyear](https://spark.apache.org/docs/latest/api/python/reference/pyspark.sql/api/pyspark.sql.functions.dayofyear.html#pyspark.sql.functions.dayofyear)\n",
    "- [weekofyear](https://spark.apache.org/docs/latest/api/python/reference/pyspark.sql/api/pyspark.sql.functions.weekofyear.html#pyspark.sql.functions.weekofyear)\n",
    "\n",
    "We will put the resulting DataFrame in a variable called `df_enriched`.\n",
    "\n",
    "2. Follow previous instructions\n",
    "\n",
    "*Tip: you use the reduce function from the functools package in order to automatically produce all the columns, otherwise you can just manually create them one by one*"
   ]
  },
  {
   "cell_type": "code",
   "execution_count": null,
   "metadata": {
    "application/vnd.databricks.v1+cell": {
     "inputWidgets": {},
     "nuid": "2a3b9967-4ddd-40d2-bd44-042986702adc",
     "showTitle": false,
     "title": ""
    }
   },
   "outputs": [
    {
     "data": {
      "text/html": [
       "<style scoped>\n",
       "  .ansiout {\n",
       "    display: block;\n",
       "    unicode-bidi: embed;\n",
       "    white-space: pre-wrap;\n",
       "    word-wrap: break-word;\n",
       "    word-break: break-all;\n",
       "    font-family: \"Source Code Pro\", \"Menlo\", monospace;;\n",
       "    font-size: 13px;\n",
       "    color: #555;\n",
       "    margin-left: 4px;\n",
       "    line-height: 19px;\n",
       "  }\n",
       "</style>"
      ]
     },
     "metadata": {
      "application/vnd.databricks.v1+output": {
       "arguments": {},
       "data": "",
       "errorSummary": "",
       "type": "ipynbError"
      }
     },
     "output_type": "display_data"
    }
   ],
   "source": []
  },
  {
   "attachments": {},
   "cell_type": "markdown",
   "metadata": {
    "application/vnd.databricks.v1+cell": {
     "inputWidgets": {},
     "nuid": "b41ea5de-e61e-45e1-820f-5d5d38802c55",
     "showTitle": false,
     "title": ""
    }
   },
   "source": [
    "### Aggregates\n",
    "\n",
    "#### `firstPlay`, `lastPlay`, `playCount`, `uniquePlayCount`\n",
    "For each user, we will compute these metrics:\n",
    "- `firstPlay`: datetime of the first listening\n",
    "- `lastPlay`: datetime of the last listening\n",
    "- `playCount`: total play counts\n",
    "- `uniquePlayCount`: unique play counts\n",
    "\n",
    "We'll save all these in a new DataFrame: `users`.  \n",
    "When you're done, print out the first 5 rows of `users` ordered by descending `playCount`.\n",
    "\n",
    "3. Compute, for each user\n",
    "- firstPlay\n",
    "- lastPlay\n",
    "- playCount\n",
    "- uniquePlayCount\n",
    "Save the results in a DataFrame named `users`"
   ]
  },
  {
   "cell_type": "code",
   "execution_count": null,
   "metadata": {
    "application/vnd.databricks.v1+cell": {
     "inputWidgets": {},
     "nuid": "4b83ebb0-2b31-438c-823d-1370607ebd42",
     "showTitle": false,
     "title": ""
    }
   },
   "outputs": [
    {
     "data": {
      "text/html": [
       "<style scoped>\n",
       "  .ansiout {\n",
       "    display: block;\n",
       "    unicode-bidi: embed;\n",
       "    white-space: pre-wrap;\n",
       "    word-wrap: break-word;\n",
       "    word-break: break-all;\n",
       "    font-family: \"Source Code Pro\", \"Menlo\", monospace;;\n",
       "    font-size: 13px;\n",
       "    color: #555;\n",
       "    margin-left: 4px;\n",
       "    line-height: 19px;\n",
       "  }\n",
       "</style>\n",
       "<div class=\"ansiout\">Out[3]: </div>"
      ]
     },
     "metadata": {
      "application/vnd.databricks.v1+output": {
       "addedWidgets": {},
       "arguments": {},
       "data": "<div class=\"ansiout\">Out[3]: </div>",
       "datasetInfos": [],
       "removedWidgets": [],
       "type": "html"
      }
     },
     "output_type": "display_data"
    },
    {
     "data": {
      "text/html": [
       "<div>\n",
       "<style scoped>\n",
       "    .dataframe tbody tr th:only-of-type {\n",
       "        vertical-align: middle;\n",
       "    }\n",
       "\n",
       "    .dataframe tbody tr th {\n",
       "        vertical-align: top;\n",
       "    }\n",
       "\n",
       "    .dataframe thead th {\n",
       "        text-align: right;\n",
       "    }\n",
       "</style>\n",
       "<table border=\"1\" class=\"dataframe\">\n",
       "  <thead>\n",
       "    <tr style=\"text-align: right;\">\n",
       "      <th></th>\n",
       "      <th>user</th>\n",
       "      <th>firstPlay</th>\n",
       "      <th>lastPlay</th>\n",
       "      <th>playCount</th>\n",
       "      <th>uniquePlayCount</th>\n",
       "    </tr>\n",
       "  </thead>\n",
       "  <tbody>\n",
       "    <tr>\n",
       "      <th>0</th>\n",
       "      <td>213</td>\n",
       "      <td>2014-02-14 15:34:17</td>\n",
       "      <td>2019-04-02 06:04:08</td>\n",
       "      <td>278749</td>\n",
       "      <td>161406</td>\n",
       "    </tr>\n",
       "    <tr>\n",
       "      <th>1</th>\n",
       "      <td>7290</td>\n",
       "      <td>2014-04-30 20:12:41</td>\n",
       "      <td>2019-04-03 06:50:05</td>\n",
       "      <td>151513</td>\n",
       "      <td>83831</td>\n",
       "    </tr>\n",
       "    <tr>\n",
       "      <th>2</th>\n",
       "      <td>435</td>\n",
       "      <td>2014-02-14 19:51:09</td>\n",
       "      <td>2019-04-03 19:36:28</td>\n",
       "      <td>144711</td>\n",
       "      <td>20055</td>\n",
       "    </tr>\n",
       "    <tr>\n",
       "      <th>3</th>\n",
       "      <td>21950</td>\n",
       "      <td>2014-10-23 09:09:36</td>\n",
       "      <td>2019-02-06 00:54:54</td>\n",
       "      <td>126285</td>\n",
       "      <td>15075</td>\n",
       "    </tr>\n",
       "    <tr>\n",
       "      <th>4</th>\n",
       "      <td>6270</td>\n",
       "      <td>2014-04-13 18:45:54</td>\n",
       "      <td>2018-08-11 20:46:08</td>\n",
       "      <td>125056</td>\n",
       "      <td>9247</td>\n",
       "    </tr>\n",
       "  </tbody>\n",
       "</table>\n",
       "</div>"
      ]
     },
     "metadata": {
      "application/vnd.databricks.v1+output": {
       "addedWidgets": {},
       "arguments": {},
       "data": "<div>\n<style scoped>\n    .dataframe tbody tr th:only-of-type {\n        vertical-align: middle;\n    }\n\n    .dataframe tbody tr th {\n        vertical-align: top;\n    }\n\n    .dataframe thead th {\n        text-align: right;\n    }\n</style>\n<table border=\"1\" class=\"dataframe\">\n  <thead>\n    <tr style=\"text-align: right;\">\n      <th></th>\n      <th>user</th>\n      <th>firstPlay</th>\n      <th>lastPlay</th>\n      <th>playCount</th>\n      <th>uniquePlayCount</th>\n    </tr>\n  </thead>\n  <tbody>\n    <tr>\n      <th>0</th>\n      <td>213</td>\n      <td>2014-02-14 15:34:17</td>\n      <td>2019-04-02 06:04:08</td>\n      <td>278749</td>\n      <td>161406</td>\n    </tr>\n    <tr>\n      <th>1</th>\n      <td>7290</td>\n      <td>2014-04-30 20:12:41</td>\n      <td>2019-04-03 06:50:05</td>\n      <td>151513</td>\n      <td>83831</td>\n    </tr>\n    <tr>\n      <th>2</th>\n      <td>435</td>\n      <td>2014-02-14 19:51:09</td>\n      <td>2019-04-03 19:36:28</td>\n      <td>144711</td>\n      <td>20055</td>\n    </tr>\n    <tr>\n      <th>3</th>\n      <td>21950</td>\n      <td>2014-10-23 09:09:36</td>\n      <td>2019-02-06 00:54:54</td>\n      <td>126285</td>\n      <td>15075</td>\n    </tr>\n    <tr>\n      <th>4</th>\n      <td>6270</td>\n      <td>2014-04-13 18:45:54</td>\n      <td>2018-08-11 20:46:08</td>\n      <td>125056</td>\n      <td>9247</td>\n    </tr>\n  </tbody>\n</table>\n</div>",
       "datasetInfos": [],
       "removedWidgets": [],
       "textData": null,
       "type": "htmlSandbox"
      }
     },
     "output_type": "display_data"
    }
   ],
   "source": []
  },
  {
   "attachments": {},
   "cell_type": "markdown",
   "metadata": {},
   "source": [
    "4. Run a sanity check that all firstPlay are anterior to lastPlay"
   ]
  },
  {
   "cell_type": "code",
   "execution_count": null,
   "metadata": {
    "application/vnd.databricks.v1+cell": {
     "inputWidgets": {},
     "nuid": "66c2e502-921a-4264-93d6-51f1df279e4e",
     "showTitle": false,
     "title": ""
    }
   },
   "outputs": [
    {
     "data": {
      "text/html": [
       "<style scoped>\n",
       "  .ansiout {\n",
       "    display: block;\n",
       "    unicode-bidi: embed;\n",
       "    white-space: pre-wrap;\n",
       "    word-wrap: break-word;\n",
       "    word-break: break-all;\n",
       "    font-family: \"Source Code Pro\", \"Menlo\", monospace;;\n",
       "    font-size: 13px;\n",
       "    color: #555;\n",
       "    margin-left: 4px;\n",
       "    line-height: 19px;\n",
       "  }\n",
       "</style>\n",
       "<div class=\"ansiout\">Out[4]: 0</div>"
      ]
     },
     "metadata": {
      "application/vnd.databricks.v1+output": {
       "addedWidgets": {},
       "arguments": {},
       "data": "<div class=\"ansiout\">Out[4]: 0</div>",
       "datasetInfos": [],
       "removedWidgets": [],
       "type": "html"
      }
     },
     "output_type": "display_data"
    }
   ],
   "source": []
  },
  {
   "attachments": {},
   "cell_type": "markdown",
   "metadata": {},
   "source": [
    "5. Another sanity check, we grouped on the user column, so each user should represent a single row. Make sure all users are unique in the DataFrame"
   ]
  },
  {
   "cell_type": "code",
   "execution_count": null,
   "metadata": {
    "application/vnd.databricks.v1+cell": {
     "inputWidgets": {},
     "nuid": "8304f18b-7ddb-4202-9f26-f9231a734faa",
     "showTitle": false,
     "title": ""
    }
   },
   "outputs": [
    {
     "data": {
      "text/html": [
       "<style scoped>\n",
       "  .ansiout {\n",
       "    display: block;\n",
       "    unicode-bidi: embed;\n",
       "    white-space: pre-wrap;\n",
       "    word-wrap: break-word;\n",
       "    word-break: break-all;\n",
       "    font-family: \"Source Code Pro\", \"Menlo\", monospace;;\n",
       "    font-size: 13px;\n",
       "    color: #555;\n",
       "    margin-left: 4px;\n",
       "    line-height: 19px;\n",
       "  }\n",
       "</style>\n",
       "<div class=\"ansiout\">Total users: 45904\n",
       "Distinct users: 45904\n",
       "</div>"
      ]
     },
     "metadata": {
      "application/vnd.databricks.v1+output": {
       "addedWidgets": {},
       "arguments": {},
       "data": "<div class=\"ansiout\">Total users: 45904\nDistinct users: 45904\n</div>",
       "datasetInfos": [],
       "removedWidgets": [],
       "type": "html"
      }
     },
     "output_type": "display_data"
    }
   ],
   "source": []
  },
  {
   "attachments": {},
   "cell_type": "markdown",
   "metadata": {
    "application/vnd.databricks.v1+cell": {
     "inputWidgets": {},
     "nuid": "15a1cc14-07eb-4227-b7ed-e7258ed75bd5",
     "showTitle": false,
     "title": ""
    }
   },
   "source": [
    "### `timespan`\n",
    "We will compute `timespan`: the overall span of activity from a user in days, rounded to the inferior, for example:\n",
    "- if a user was active 23 hours on the service, we will say he was active 0 days\n",
    "- for 53 hours, that would be 2 days of activity\n",
    "\n",
    "We **will not** transform the `users` DataFrame in place, but instead save the result as a new DataFrame: `users_with_timespan`.\n",
    "\n",
    "6. Compute timespan and save the result a new DataFrame: `users_with_timespan`"
   ]
  },
  {
   "cell_type": "code",
   "execution_count": null,
   "metadata": {
    "application/vnd.databricks.v1+cell": {
     "inputWidgets": {},
     "nuid": "bae15dbd-be95-4769-8112-20dcc11d8299",
     "showTitle": false,
     "title": ""
    }
   },
   "outputs": [],
   "source": []
  },
  {
   "attachments": {},
   "cell_type": "markdown",
   "metadata": {
    "application/vnd.databricks.v1+cell": {
     "inputWidgets": {},
     "nuid": "b5b0ba6e-b61e-46b7-b955-a4d7adc313bf",
     "showTitle": false,
     "title": ""
    }
   },
   "source": [
    "Let's check how this looks like, we will be using Databricks' `display` to plot an histogram of `timespan`.\n",
    "\n",
    "7. Plot an histogram of `timespan`"
   ]
  },
  {
   "cell_type": "code",
   "execution_count": null,
   "metadata": {
    "application/vnd.databricks.v1+cell": {
     "inputWidgets": {},
     "nuid": "a005e9db-4c58-4cf1-8770-80f595d7eb44",
     "showTitle": false,
     "title": ""
    }
   },
   "outputs": [],
   "source": []
  },
  {
   "attachments": {},
   "cell_type": "markdown",
   "metadata": {
    "application/vnd.databricks.v1+cell": {
     "inputWidgets": {},
     "nuid": "53caceec-e0e6-4d0b-93d1-131f5244ca5a",
     "showTitle": false,
     "title": ""
    }
   },
   "source": [
    "Looking like a powerlaw, let's try to log transform.\n",
    "\n",
    "8. Use describe on the `timespan` column"
   ]
  },
  {
   "cell_type": "code",
   "execution_count": null,
   "metadata": {
    "application/vnd.databricks.v1+cell": {
     "inputWidgets": {},
     "nuid": "7685ca34-b640-4c76-8632-e5529ca26370",
     "showTitle": false,
     "title": ""
    }
   },
   "outputs": [],
   "source": []
  },
  {
   "attachments": {},
   "cell_type": "markdown",
   "metadata": {},
   "source": [
    "9. Plot a histogram of log transformed `timespan`"
   ]
  },
  {
   "cell_type": "code",
   "execution_count": null,
   "metadata": {
    "application/vnd.databricks.v1+cell": {
     "inputWidgets": {},
     "nuid": "23fb6aeb-76a0-46dc-950f-dfe80d1838bd",
     "showTitle": false,
     "title": ""
    }
   },
   "outputs": [],
   "source": []
  },
  {
   "attachments": {},
   "cell_type": "markdown",
   "metadata": {},
   "source": [
    "10. Plot a QQ-Plot of log transformed `timespan`"
   ]
  },
  {
   "cell_type": "code",
   "execution_count": null,
   "metadata": {
    "application/vnd.databricks.v1+cell": {
     "inputWidgets": {},
     "nuid": "f5073715-c1d7-466c-8435-519293a8129e",
     "showTitle": false,
     "title": ""
    }
   },
   "outputs": [],
   "source": []
  },
  {
   "attachments": {},
   "cell_type": "markdown",
   "metadata": {
    "application/vnd.databricks.v1+cell": {
     "inputWidgets": {},
     "nuid": "c2fa0b25-6e96-4716-8fb3-929a96b573db",
     "showTitle": false,
     "title": ""
    }
   },
   "source": [
    "We'll filter out users who stayed for less than a day and plot an histogram of this filtered data.\n",
    "\n",
    "11. Plot a histogram of log transformed `timespan` of users who stayed more than one day"
   ]
  },
  {
   "cell_type": "code",
   "execution_count": null,
   "metadata": {
    "application/vnd.databricks.v1+cell": {
     "inputWidgets": {},
     "nuid": "bd414a0b-1930-461c-bd46-70e9def69b13",
     "showTitle": false,
     "title": ""
    }
   },
   "outputs": [],
   "source": []
  },
  {
   "attachments": {},
   "cell_type": "markdown",
   "metadata": {
    "application/vnd.databricks.v1+cell": {
     "inputWidgets": {},
     "nuid": "283fe093-e7c2-4031-a5a5-437a0869096f",
     "showTitle": false,
     "title": ""
    }
   },
   "source": [
    "### `isSingleDayUser`\n",
    "What percentage of users used the service for less than one day?"
   ]
  },
  {
   "attachments": {},
   "cell_type": "markdown",
   "metadata": {},
   "source": [
    "12. Compute the percentage of users who used the service for less than a day"
   ]
  },
  {
   "cell_type": "code",
   "execution_count": null,
   "metadata": {
    "application/vnd.databricks.v1+cell": {
     "inputWidgets": {},
     "nuid": "0d4e3e9f-96c1-40d4-85f5-82286fa2488d",
     "showTitle": false,
     "title": ""
    }
   },
   "outputs": [],
   "source": []
  },
  {
   "attachments": {},
   "cell_type": "markdown",
   "metadata": {
    "application/vnd.databricks.v1+cell": {
     "inputWidgets": {},
     "nuid": "2c6807a6-3962-4a74-8d1b-76800c9f8bb9",
     "showTitle": false,
     "title": ""
    }
   },
   "source": [
    "Wow, that's a lot! We will flag this as its own column.  \n",
    "That means we will create a new Boolean column `isSingleDayUser` that is `True` if the user used the service for less than a day and `False` otherwise.\n",
    "\n",
    "13. Create a new column (isSingleDayUser) to flag if a user used the service for less than a day"
   ]
  },
  {
   "cell_type": "code",
   "execution_count": null,
   "metadata": {
    "application/vnd.databricks.v1+cell": {
     "inputWidgets": {},
     "nuid": "0fa5170a-9690-4b21-9c26-70ea4498f6ce",
     "showTitle": false,
     "title": ""
    }
   },
   "outputs": [],
   "source": []
  },
  {
   "attachments": {},
   "cell_type": "markdown",
   "metadata": {
    "application/vnd.databricks.v1+cell": {
     "inputWidgets": {},
     "nuid": "e1e31eb7-cdd1-470b-a3db-039286706bf6",
     "showTitle": false,
     "title": ""
    }
   },
   "source": [
    "### Measure of activity: `activeDaysCount` and `meanPlaycountByActiveDay`\n",
    "This one is a bit harder, we want to compute:\n",
    "- the number of active days for each user (not the `timespan`)\n",
    "- the average play count on these active days for each user\n",
    "\n",
    "14. Create 2 new columns\n",
    "- activeDaysCount: the count of days each user was active\n",
    "- dailyAvgPlayCount: the daily average playcount per user (active days only)\n",
    "- activeDay"
   ]
  },
  {
   "cell_type": "code",
   "execution_count": null,
   "metadata": {
    "application/vnd.databricks.v1+cell": {
     "inputWidgets": {},
     "nuid": "514128b5-1ed1-408c-abea-7d7a9ac16700",
     "showTitle": false,
     "title": ""
    }
   },
   "outputs": [],
   "source": []
  },
  {
   "attachments": {},
   "cell_type": "markdown",
   "metadata": {},
   "source": [
    "15. Plot a histogram of log of `activeDaysCount`"
   ]
  },
  {
   "cell_type": "code",
   "execution_count": null,
   "metadata": {
    "application/vnd.databricks.v1+cell": {
     "inputWidgets": {},
     "nuid": "a712a033-1821-4208-afbe-28fcfeb74f31",
     "showTitle": false,
     "title": ""
    }
   },
   "outputs": [],
   "source": []
  },
  {
   "attachments": {},
   "cell_type": "markdown",
   "metadata": {},
   "source": [
    "16. Plot a histogram of log of `dailyAvgPlayCount`"
   ]
  },
  {
   "cell_type": "code",
   "execution_count": null,
   "metadata": {
    "application/vnd.databricks.v1+cell": {
     "inputWidgets": {},
     "nuid": "4419bb3c-510a-4461-b0b2-7063ac0558be",
     "showTitle": false,
     "title": ""
    }
   },
   "outputs": [],
   "source": []
  },
  {
   "attachments": {},
   "cell_type": "markdown",
   "metadata": {
    "application/vnd.databricks.v1+cell": {
     "inputWidgets": {},
     "nuid": "343a68d5-6906-41ed-94b0-6a2133c7ca61",
     "showTitle": false,
     "title": ""
    }
   },
   "source": [
    "## Going further\n",
    "What else do you think would be interesting to compute?\n",
    "What about the ratio of activity, e.g. the ratio between `timespan` and `activeDaysCount`?"
   ]
  }
 ],
 "metadata": {
  "application/vnd.databricks.v1+notebook": {
   "dashboards": [],
   "language": "python",
   "notebookMetadata": {
    "pythonIndentUnit": 2
   },
   "notebookName": "03-Users_analysis_solutions_databricks",
   "notebookOrigID": 1306988423409711,
   "widgets": {}
  },
  "kernelspec": {
   "display_name": "Python 3",
   "language": "python",
   "name": "python3"
  },
  "language_info": {
   "codemirror_mode": {
    "name": "ipython",
    "version": 3
   },
   "file_extension": ".py",
   "mimetype": "text/x-python",
   "name": "python",
   "nbconvert_exporter": "python",
   "pygments_lexer": "ipython3",
   "version": "3.8.5"
  },
  "name": "03-Users_analysis",
  "notebookId": 1829803932831159
 },
 "nbformat": 4,
 "nbformat_minor": 4
}
