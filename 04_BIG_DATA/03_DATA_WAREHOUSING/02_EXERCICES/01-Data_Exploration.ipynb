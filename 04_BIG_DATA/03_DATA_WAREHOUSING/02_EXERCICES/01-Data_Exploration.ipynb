{
 "cells": [
  {
   "attachments": {},
   "cell_type": "markdown",
   "metadata": {
    "application/vnd.databricks.v1+cell": {
     "inputWidgets": {},
     "nuid": "f7093b8b-9c1e-4ead-aaf4-59c860dedc38",
     "showTitle": false,
     "title": ""
    }
   },
   "source": [
    "# Data exploration\n",
    "\n",
    "In this exercise we will explore a dataset that was created using the youtube API to gather information about videos on the platform, the response from the API is a json file (sort of dictionnary) containing the response to each call to the API."
   ]
  },
  {
   "cell_type": "code",
   "execution_count": null,
   "metadata": {
    "application/vnd.databricks.v1+cell": {
     "inputWidgets": {},
     "nuid": "fb351432-11ba-4b21-a177-2695d1b172dd",
     "showTitle": false,
     "title": ""
    }
   },
   "outputs": [
    {
     "data": {
      "text/html": [
       "<style scoped>\n",
       "  .ansiout {\n",
       "    display: block;\n",
       "    unicode-bidi: embed;\n",
       "    white-space: pre-wrap;\n",
       "    word-wrap: break-word;\n",
       "    word-break: break-all;\n",
       "    font-family: \"Source Code Pro\", \"Menlo\", monospace;;\n",
       "    font-size: 13px;\n",
       "    color: #555;\n",
       "    margin-left: 4px;\n",
       "    line-height: 19px;\n",
       "  }\n",
       "</style>\n",
       "<div class=\"ansiout\"></div>"
      ]
     },
     "metadata": {
      "application/vnd.databricks.v1+output": {
       "addedWidgets": {},
       "arguments": {},
       "data": "<div class=\"ansiout\"></div>",
       "datasetInfos": [],
       "removedWidgets": [],
       "type": "html"
      }
     },
     "output_type": "display_data"
    }
   ],
   "source": [
    "filepath = \"s3://full-stack-bigdata-datasets/Big_Data/YOUTUBE/songs.json\"\n"
   ]
  },
  {
   "cell_type": "code",
   "execution_count": null,
   "metadata": {
    "application/vnd.databricks.v1+cell": {
     "inputWidgets": {},
     "nuid": "924854eb-f4f4-402d-8cfb-d539b183f37a",
     "showTitle": false,
     "title": ""
    }
   },
   "outputs": [
    {
     "data": {
      "text/html": [
       "<style scoped>\n",
       "  .ansiout {\n",
       "    display: block;\n",
       "    unicode-bidi: embed;\n",
       "    white-space: pre-wrap;\n",
       "    word-wrap: break-word;\n",
       "    word-break: break-all;\n",
       "    font-family: \"Source Code Pro\", \"Menlo\", monospace;;\n",
       "    font-size: 13px;\n",
       "    color: #555;\n",
       "    margin-left: 4px;\n",
       "    line-height: 19px;\n",
       "  }\n",
       "</style>\n",
       "<div class=\"ansiout\"></div>"
      ]
     },
     "metadata": {
      "application/vnd.databricks.v1+output": {
       "addedWidgets": {},
       "arguments": {},
       "data": "<div class=\"ansiout\"></div>",
       "datasetInfos": [],
       "removedWidgets": [],
       "type": "html"
      }
     },
     "output_type": "display_data"
    }
   ],
   "source": [
    "df = spark.read.format('json').load(filepath)"
   ]
  },
  {
   "attachments": {},
   "cell_type": "markdown",
   "metadata": {},
   "source": [
    "1. Count the number of entries in `df`"
   ]
  },
  {
   "cell_type": "code",
   "execution_count": null,
   "metadata": {
    "application/vnd.databricks.v1+cell": {
     "inputWidgets": {},
     "nuid": "45c4ce4a-7e9f-4cfc-af7d-bbda1fd01377",
     "showTitle": false,
     "title": ""
    }
   },
   "outputs": [
    {
     "data": {
      "text/html": [
       "<style scoped>\n",
       "  .ansiout {\n",
       "    display: block;\n",
       "    unicode-bidi: embed;\n",
       "    white-space: pre-wrap;\n",
       "    word-wrap: break-word;\n",
       "    word-break: break-all;\n",
       "    font-family: \"Source Code Pro\", \"Menlo\", monospace;;\n",
       "    font-size: 13px;\n",
       "    color: #555;\n",
       "    margin-left: 4px;\n",
       "    line-height: 19px;\n",
       "  }\n",
       "</style>\n",
       "<div class=\"ansiout\">Out[5]: 100</div>"
      ]
     },
     "metadata": {
      "application/vnd.databricks.v1+output": {
       "addedWidgets": {},
       "arguments": {},
       "data": "<div class=\"ansiout\">Out[5]: 100</div>",
       "datasetInfos": [],
       "removedWidgets": [],
       "type": "html"
      }
     },
     "output_type": "display_data"
    }
   ],
   "source": []
  },
  {
   "attachments": {},
   "cell_type": "markdown",
   "metadata": {},
   "source": [
    "2. Display your DataFrame"
   ]
  },
  {
   "cell_type": "code",
   "execution_count": null,
   "metadata": {
    "application/vnd.databricks.v1+cell": {
     "inputWidgets": {},
     "nuid": "33f91455-3606-4e34-9fb7-3d8214f41623",
     "showTitle": false,
     "title": ""
    }
   },
   "outputs": [],
   "source": []
  },
  {
   "attachments": {},
   "cell_type": "markdown",
   "metadata": {
    "application/vnd.databricks.v1+cell": {
     "inputWidgets": {},
     "nuid": "2e69f77b-3855-4d02-ae76-80e111f2c673",
     "showTitle": false,
     "title": ""
    }
   },
   "source": [
    "Some people are very fond of DataBricks' `display(...)`  \n",
    "However, it's limited to DataBricks, and it's a little slow...\n",
    "\n",
    "The alternative `.show(...)` has a very hard to read formatting...\n",
    "\n",
    "Actually, there is another way: limit the results to a decent amount of rows (one that can be collected without hogging all your memory) and then convert your PySpark DataFrame into a pandas DataFrame.\n",
    "\n",
    "Just **make sure you're not running `df.toPandas().head()`**, in theory the result would be the same but you would end up computing your whole DataFrame and storing into memory, if your data is big, that would be a **horrible idea**.\n",
    "\n",
    "3. Get the first 5 rows of `df` as a pandas DataFrame and print them out (using notebook formatting)"
   ]
  },
  {
   "cell_type": "code",
   "execution_count": null,
   "metadata": {
    "application/vnd.databricks.v1+cell": {
     "inputWidgets": {},
     "nuid": "c61e5ee3-6fee-4225-87cf-555d03c29d75",
     "showTitle": false,
     "title": ""
    }
   },
   "outputs": [
    {
     "data": {
      "text/html": [
       "<style scoped>\n",
       "  .ansiout {\n",
       "    display: block;\n",
       "    unicode-bidi: embed;\n",
       "    white-space: pre-wrap;\n",
       "    word-wrap: break-word;\n",
       "    word-break: break-all;\n",
       "    font-family: \"Source Code Pro\", \"Menlo\", monospace;;\n",
       "    font-size: 13px;\n",
       "    color: #555;\n",
       "    margin-left: 4px;\n",
       "    line-height: 19px;\n",
       "  }\n",
       "</style>\n",
       "<div class=\"ansiout\">/databricks/spark/python/pyspark/sql/pandas/conversion.py:92: UserWarning: toPandas attempted Arrow optimization because &#39;spark.sql.execution.arrow.pyspark.enabled&#39; is set to true; however, failed by the reason below:\n",
       "  Unable to convert the field items. If this column is not necessary, you may consider dropping it or converting to primitive type before the conversion.\n",
       "Direct cause: Unsupported type in conversion to Arrow: ArrayType(StructType(List(StructField(contentDetails,StructType(List(StructField(caption,StringType,true),StructField(contentRating,StructType(List(StructField(ytRating,StringType,true))),true),StructField(definition,StringType,true),StructField(dimension,StringType,true),StructField(duration,StringType,true),StructField(licensedContent,BooleanType,true),StructField(projection,StringType,true),StructField(regionRestriction,StructType(List(StructField(allowed,ArrayType(StringType,true),true),StructField(blocked,ArrayType(StringType,true),true))),true))),true),StructField(etag,StringType,true),StructField(id,StringType,true),StructField(kind,StringType,true),StructField(snippet,StructType(List(StructField(categoryId,StringType,true),StructField(channelId,StringType,true),StructField(channelTitle,StringType,true),StructField(defaultAudioLanguage,StringType,true),StructField(defaultLanguage,StringType,true),StructField(description,StringType,true),StructField(liveBroadcastContent,StringType,true),StructField(localized,StructType(List(StructField(description,StringType,true),StructField(title,StringType,true))),true),StructField(publishedAt,StringType,true),StructField(tags,ArrayType(StringType,true),true),StructField(thumbnails,StructType(List(StructField(default,StructType(List(StructField(height,LongType,true),StructField(url,StringType,true),StructField(width,LongType,true))),true),StructField(high,StructType(List(StructField(height,LongType,true),StructField(url,StringType,true),StructField(width,LongType,true))),true),StructField(maxres,StructType(List(StructField(height,LongType,true),StructField(url,StringType,true),StructField(width,LongType,true))),true),StructField(medium,StructType(List(StructField(height,LongType,true),StructField(url,StringType,true),StructField(width,LongType,true))),true),StructField(standard,StructType(List(StructField(height,LongType,true),StructField(url,StringType,true),StructField(width,LongType,true))),true))),true),StructField(title,StringType,true))),true),StructField(statistics,StructType(List(StructField(commentCount,StringType,true),StructField(dislikeCount,StringType,true),StructField(favoriteCount,StringType,true),StructField(likeCount,StringType,true),StructField(viewCount,StringType,true))),true),StructField(status,StructType(List(StructField(embeddable,BooleanType,true),StructField(license,StringType,true),StructField(madeForKids,BooleanType,true),StructField(privacyStatus,StringType,true),StructField(publicStatsViewable,BooleanType,true),StructField(uploadStatus,StringType,true))),true),StructField(topicDetails,StructType(List(StructField(relevantTopicIds,ArrayType(StringType,true),true),StructField(topicCategories,ArrayType(StringType,true),true))),true))),true)\n",
       "Attempting non-optimization as &#39;spark.sql.execution.arrow.pyspark.fallback.enabled&#39; is set to true.\n",
       "  warnings.warn(msg)\n",
       "Out[7]: </div>"
      ]
     },
     "metadata": {
      "application/vnd.databricks.v1+output": {
       "addedWidgets": {},
       "arguments": {},
       "data": "<div class=\"ansiout\">/databricks/spark/python/pyspark/sql/pandas/conversion.py:92: UserWarning: toPandas attempted Arrow optimization because &#39;spark.sql.execution.arrow.pyspark.enabled&#39; is set to true; however, failed by the reason below:\n  Unable to convert the field items. If this column is not necessary, you may consider dropping it or converting to primitive type before the conversion.\nDirect cause: Unsupported type in conversion to Arrow: ArrayType(StructType(List(StructField(contentDetails,StructType(List(StructField(caption,StringType,true),StructField(contentRating,StructType(List(StructField(ytRating,StringType,true))),true),StructField(definition,StringType,true),StructField(dimension,StringType,true),StructField(duration,StringType,true),StructField(licensedContent,BooleanType,true),StructField(projection,StringType,true),StructField(regionRestriction,StructType(List(StructField(allowed,ArrayType(StringType,true),true),StructField(blocked,ArrayType(StringType,true),true))),true))),true),StructField(etag,StringType,true),StructField(id,StringType,true),StructField(kind,StringType,true),StructField(snippet,StructType(List(StructField(categoryId,StringType,true),StructField(channelId,StringType,true),StructField(channelTitle,StringType,true),StructField(defaultAudioLanguage,StringType,true),StructField(defaultLanguage,StringType,true),StructField(description,StringType,true),StructField(liveBroadcastContent,StringType,true),StructField(localized,StructType(List(StructField(description,StringType,true),StructField(title,StringType,true))),true),StructField(publishedAt,StringType,true),StructField(tags,ArrayType(StringType,true),true),StructField(thumbnails,StructType(List(StructField(default,StructType(List(StructField(height,LongType,true),StructField(url,StringType,true),StructField(width,LongType,true))),true),StructField(high,StructType(List(StructField(height,LongType,true),StructField(url,StringType,true),StructField(width,LongType,true))),true),StructField(maxres,StructType(List(StructField(height,LongType,true),StructField(url,StringType,true),StructField(width,LongType,true))),true),StructField(medium,StructType(List(StructField(height,LongType,true),StructField(url,StringType,true),StructField(width,LongType,true))),true),StructField(standard,StructType(List(StructField(height,LongType,true),StructField(url,StringType,true),StructField(width,LongType,true))),true))),true),StructField(title,StringType,true))),true),StructField(statistics,StructType(List(StructField(commentCount,StringType,true),StructField(dislikeCount,StringType,true),StructField(favoriteCount,StringType,true),StructField(likeCount,StringType,true),StructField(viewCount,StringType,true))),true),StructField(status,StructType(List(StructField(embeddable,BooleanType,true),StructField(license,StringType,true),StructField(madeForKids,BooleanType,true),StructField(privacyStatus,StringType,true),StructField(publicStatsViewable,BooleanType,true),StructField(uploadStatus,StringType,true))),true),StructField(topicDetails,StructType(List(StructField(relevantTopicIds,ArrayType(StringType,true),true),StructField(topicCategories,ArrayType(StringType,true),true))),true))),true)\nAttempting non-optimization as &#39;spark.sql.execution.arrow.pyspark.fallback.enabled&#39; is set to true.\n  warnings.warn(msg)\nOut[7]: </div>",
       "datasetInfos": [],
       "removedWidgets": [],
       "type": "html"
      }
     },
     "output_type": "display_data"
    },
    {
     "data": {
      "text/html": [
       "<div>\n",
       "<style scoped>\n",
       "    .dataframe tbody tr th:only-of-type {\n",
       "        vertical-align: middle;\n",
       "    }\n",
       "\n",
       "    .dataframe tbody tr th {\n",
       "        vertical-align: top;\n",
       "    }\n",
       "\n",
       "    .dataframe thead th {\n",
       "        text-align: right;\n",
       "    }\n",
       "</style>\n",
       "<table border=\"1\" class=\"dataframe\">\n",
       "  <thead>\n",
       "    <tr style=\"text-align: right;\">\n",
       "      <th></th>\n",
       "      <th>etag</th>\n",
       "      <th>items</th>\n",
       "      <th>kind</th>\n",
       "      <th>pageInfo</th>\n",
       "    </tr>\n",
       "  </thead>\n",
       "  <tbody>\n",
       "    <tr>\n",
       "      <th>0</th>\n",
       "      <td>U0fncx_GV9jD5SKQr15LMvwuPcs</td>\n",
       "      <td>[((false, Row(ytRating=None), sd, 2d, PT3M33S,...</td>\n",
       "      <td>youtube#videoListResponse</td>\n",
       "      <td>(38, 38)</td>\n",
       "    </tr>\n",
       "    <tr>\n",
       "      <th>1</th>\n",
       "      <td>LZV6LlN3-4QwaIGfe9KBxl0cJvE</td>\n",
       "      <td>[((false, Row(ytRating=None), hd, 2d, PT3M26S,...</td>\n",
       "      <td>youtube#videoListResponse</td>\n",
       "      <td>(38, 38)</td>\n",
       "    </tr>\n",
       "    <tr>\n",
       "      <th>2</th>\n",
       "      <td>Ou4xXi-09RdImAeo1EFJC01i8iM</td>\n",
       "      <td>[((true, Row(ytRating=None), hd, 2d, PT2M21S, ...</td>\n",
       "      <td>youtube#videoListResponse</td>\n",
       "      <td>(43, 43)</td>\n",
       "    </tr>\n",
       "    <tr>\n",
       "      <th>3</th>\n",
       "      <td>tDsVpy7PmDE2n6ZAO0rHpUpbqz0</td>\n",
       "      <td>[((false, Row(ytRating=None), sd, 2d, PT4M8S, ...</td>\n",
       "      <td>youtube#videoListResponse</td>\n",
       "      <td>(40, 40)</td>\n",
       "    </tr>\n",
       "    <tr>\n",
       "      <th>4</th>\n",
       "      <td>otOtu8WFJDFkzdBR_PG0LptIkK4</td>\n",
       "      <td>[((false, Row(ytRating=None), hd, 2d, PT4M40S,...</td>\n",
       "      <td>youtube#videoListResponse</td>\n",
       "      <td>(37, 37)</td>\n",
       "    </tr>\n",
       "  </tbody>\n",
       "</table>\n",
       "</div>"
      ]
     },
     "metadata": {
      "application/vnd.databricks.v1+output": {
       "addedWidgets": {},
       "arguments": {},
       "data": "<div>\n<style scoped>\n    .dataframe tbody tr th:only-of-type {\n        vertical-align: middle;\n    }\n\n    .dataframe tbody tr th {\n        vertical-align: top;\n    }\n\n    .dataframe thead th {\n        text-align: right;\n    }\n</style>\n<table border=\"1\" class=\"dataframe\">\n  <thead>\n    <tr style=\"text-align: right;\">\n      <th></th>\n      <th>etag</th>\n      <th>items</th>\n      <th>kind</th>\n      <th>pageInfo</th>\n    </tr>\n  </thead>\n  <tbody>\n    <tr>\n      <th>0</th>\n      <td>U0fncx_GV9jD5SKQr15LMvwuPcs</td>\n      <td>[((false, Row(ytRating=None), sd, 2d, PT3M33S,...</td>\n      <td>youtube#videoListResponse</td>\n      <td>(38, 38)</td>\n    </tr>\n    <tr>\n      <th>1</th>\n      <td>LZV6LlN3-4QwaIGfe9KBxl0cJvE</td>\n      <td>[((false, Row(ytRating=None), hd, 2d, PT3M26S,...</td>\n      <td>youtube#videoListResponse</td>\n      <td>(38, 38)</td>\n    </tr>\n    <tr>\n      <th>2</th>\n      <td>Ou4xXi-09RdImAeo1EFJC01i8iM</td>\n      <td>[((true, Row(ytRating=None), hd, 2d, PT2M21S, ...</td>\n      <td>youtube#videoListResponse</td>\n      <td>(43, 43)</td>\n    </tr>\n    <tr>\n      <th>3</th>\n      <td>tDsVpy7PmDE2n6ZAO0rHpUpbqz0</td>\n      <td>[((false, Row(ytRating=None), sd, 2d, PT4M8S, ...</td>\n      <td>youtube#videoListResponse</td>\n      <td>(40, 40)</td>\n    </tr>\n    <tr>\n      <th>4</th>\n      <td>otOtu8WFJDFkzdBR_PG0LptIkK4</td>\n      <td>[((false, Row(ytRating=None), hd, 2d, PT4M40S,...</td>\n      <td>youtube#videoListResponse</td>\n      <td>(37, 37)</td>\n    </tr>\n  </tbody>\n</table>\n</div>",
       "datasetInfos": [],
       "removedWidgets": [],
       "textData": null,
       "type": "htmlSandbox"
      }
     },
     "output_type": "display_data"
    }
   ],
   "source": []
  },
  {
   "attachments": {},
   "cell_type": "markdown",
   "metadata": {},
   "source": [
    "4. Print out the schema of `df`"
   ]
  },
  {
   "cell_type": "code",
   "execution_count": null,
   "metadata": {
    "application/vnd.databricks.v1+cell": {
     "inputWidgets": {},
     "nuid": "fffe39fe-3fec-4147-974d-588914289156",
     "showTitle": false,
     "title": ""
    }
   },
   "outputs": [
    {
     "data": {
      "text/html": [
       "<style scoped>\n",
       "  .ansiout {\n",
       "    display: block;\n",
       "    unicode-bidi: embed;\n",
       "    white-space: pre-wrap;\n",
       "    word-wrap: break-word;\n",
       "    word-break: break-all;\n",
       "    font-family: \"Source Code Pro\", \"Menlo\", monospace;;\n",
       "    font-size: 13px;\n",
       "    color: #555;\n",
       "    margin-left: 4px;\n",
       "    line-height: 19px;\n",
       "  }\n",
       "</style>\n",
       "<div class=\"ansiout\">root\n",
       "-- etag: string (nullable = true)\n",
       "-- items: array (nullable = true)\n",
       "    |-- element: struct (containsNull = true)\n",
       "    |    |-- contentDetails: struct (nullable = true)\n",
       "    |    |    |-- caption: string (nullable = true)\n",
       "    |    |    |-- contentRating: struct (nullable = true)\n",
       "    |    |    |    |-- ytRating: string (nullable = true)\n",
       "    |    |    |-- definition: string (nullable = true)\n",
       "    |    |    |-- dimension: string (nullable = true)\n",
       "    |    |    |-- duration: string (nullable = true)\n",
       "    |    |    |-- licensedContent: boolean (nullable = true)\n",
       "    |    |    |-- projection: string (nullable = true)\n",
       "    |    |    |-- regionRestriction: struct (nullable = true)\n",
       "    |    |    |    |-- allowed: array (nullable = true)\n",
       "    |    |    |    |    |-- element: string (containsNull = true)\n",
       "    |    |    |    |-- blocked: array (nullable = true)\n",
       "    |    |    |    |    |-- element: string (containsNull = true)\n",
       "    |    |-- etag: string (nullable = true)\n",
       "    |    |-- id: string (nullable = true)\n",
       "    |    |-- kind: string (nullable = true)\n",
       "    |    |-- snippet: struct (nullable = true)\n",
       "    |    |    |-- categoryId: string (nullable = true)\n",
       "    |    |    |-- channelId: string (nullable = true)\n",
       "    |    |    |-- channelTitle: string (nullable = true)\n",
       "    |    |    |-- defaultAudioLanguage: string (nullable = true)\n",
       "    |    |    |-- defaultLanguage: string (nullable = true)\n",
       "    |    |    |-- description: string (nullable = true)\n",
       "    |    |    |-- liveBroadcastContent: string (nullable = true)\n",
       "    |    |    |-- localized: struct (nullable = true)\n",
       "    |    |    |    |-- description: string (nullable = true)\n",
       "    |    |    |    |-- title: string (nullable = true)\n",
       "    |    |    |-- publishedAt: string (nullable = true)\n",
       "    |    |    |-- tags: array (nullable = true)\n",
       "    |    |    |    |-- element: string (containsNull = true)\n",
       "    |    |    |-- thumbnails: struct (nullable = true)\n",
       "    |    |    |    |-- default: struct (nullable = true)\n",
       "    |    |    |    |    |-- height: long (nullable = true)\n",
       "    |    |    |    |    |-- url: string (nullable = true)\n",
       "    |    |    |    |    |-- width: long (nullable = true)\n",
       "    |    |    |    |-- high: struct (nullable = true)\n",
       "    |    |    |    |    |-- height: long (nullable = true)\n",
       "    |    |    |    |    |-- url: string (nullable = true)\n",
       "    |    |    |    |    |-- width: long (nullable = true)\n",
       "    |    |    |    |-- maxres: struct (nullable = true)\n",
       "    |    |    |    |    |-- height: long (nullable = true)\n",
       "    |    |    |    |    |-- url: string (nullable = true)\n",
       "    |    |    |    |    |-- width: long (nullable = true)\n",
       "    |    |    |    |-- medium: struct (nullable = true)\n",
       "    |    |    |    |    |-- height: long (nullable = true)\n",
       "    |    |    |    |    |-- url: string (nullable = true)\n",
       "    |    |    |    |    |-- width: long (nullable = true)\n",
       "    |    |    |    |-- standard: struct (nullable = true)\n",
       "    |    |    |    |    |-- height: long (nullable = true)\n",
       "    |    |    |    |    |-- url: string (nullable = true)\n",
       "    |    |    |    |    |-- width: long (nullable = true)\n",
       "    |    |    |-- title: string (nullable = true)\n",
       "    |    |-- statistics: struct (nullable = true)\n",
       "    |    |    |-- commentCount: string (nullable = true)\n",
       "    |    |    |-- dislikeCount: string (nullable = true)\n",
       "    |    |    |-- favoriteCount: string (nullable = true)\n",
       "    |    |    |-- likeCount: string (nullable = true)\n",
       "    |    |    |-- viewCount: string (nullable = true)\n",
       "    |    |-- status: struct (nullable = true)\n",
       "    |    |    |-- embeddable: boolean (nullable = true)\n",
       "    |    |    |-- license: string (nullable = true)\n",
       "    |    |    |-- madeForKids: boolean (nullable = true)\n",
       "    |    |    |-- privacyStatus: string (nullable = true)\n",
       "    |    |    |-- publicStatsViewable: boolean (nullable = true)\n",
       "    |    |    |-- uploadStatus: string (nullable = true)\n",
       "    |    |-- topicDetails: struct (nullable = true)\n",
       "    |    |    |-- relevantTopicIds: array (nullable = true)\n",
       "    |    |    |    |-- element: string (containsNull = true)\n",
       "    |    |    |-- topicCategories: array (nullable = true)\n",
       "    |    |    |    |-- element: string (containsNull = true)\n",
       "-- kind: string (nullable = true)\n",
       "-- pageInfo: struct (nullable = true)\n",
       "    |-- resultsPerPage: long (nullable = true)\n",
       "    |-- totalResults: long (nullable = true)\n",
       "\n",
       "</div>"
      ]
     },
     "metadata": {
      "application/vnd.databricks.v1+output": {
       "addedWidgets": {},
       "arguments": {},
       "data": "<div class=\"ansiout\">root\n |-- etag: string (nullable = true)\n |-- items: array (nullable = true)\n |    |-- element: struct (containsNull = true)\n |    |    |-- contentDetails: struct (nullable = true)\n |    |    |    |-- caption: string (nullable = true)\n |    |    |    |-- contentRating: struct (nullable = true)\n |    |    |    |    |-- ytRating: string (nullable = true)\n |    |    |    |-- definition: string (nullable = true)\n |    |    |    |-- dimension: string (nullable = true)\n |    |    |    |-- duration: string (nullable = true)\n |    |    |    |-- licensedContent: boolean (nullable = true)\n |    |    |    |-- projection: string (nullable = true)\n |    |    |    |-- regionRestriction: struct (nullable = true)\n |    |    |    |    |-- allowed: array (nullable = true)\n |    |    |    |    |    |-- element: string (containsNull = true)\n |    |    |    |    |-- blocked: array (nullable = true)\n |    |    |    |    |    |-- element: string (containsNull = true)\n |    |    |-- etag: string (nullable = true)\n |    |    |-- id: string (nullable = true)\n |    |    |-- kind: string (nullable = true)\n |    |    |-- snippet: struct (nullable = true)\n |    |    |    |-- categoryId: string (nullable = true)\n |    |    |    |-- channelId: string (nullable = true)\n |    |    |    |-- channelTitle: string (nullable = true)\n |    |    |    |-- defaultAudioLanguage: string (nullable = true)\n |    |    |    |-- defaultLanguage: string (nullable = true)\n |    |    |    |-- description: string (nullable = true)\n |    |    |    |-- liveBroadcastContent: string (nullable = true)\n |    |    |    |-- localized: struct (nullable = true)\n |    |    |    |    |-- description: string (nullable = true)\n |    |    |    |    |-- title: string (nullable = true)\n |    |    |    |-- publishedAt: string (nullable = true)\n |    |    |    |-- tags: array (nullable = true)\n |    |    |    |    |-- element: string (containsNull = true)\n |    |    |    |-- thumbnails: struct (nullable = true)\n |    |    |    |    |-- default: struct (nullable = true)\n |    |    |    |    |    |-- height: long (nullable = true)\n |    |    |    |    |    |-- url: string (nullable = true)\n |    |    |    |    |    |-- width: long (nullable = true)\n |    |    |    |    |-- high: struct (nullable = true)\n |    |    |    |    |    |-- height: long (nullable = true)\n |    |    |    |    |    |-- url: string (nullable = true)\n |    |    |    |    |    |-- width: long (nullable = true)\n |    |    |    |    |-- maxres: struct (nullable = true)\n |    |    |    |    |    |-- height: long (nullable = true)\n |    |    |    |    |    |-- url: string (nullable = true)\n |    |    |    |    |    |-- width: long (nullable = true)\n |    |    |    |    |-- medium: struct (nullable = true)\n |    |    |    |    |    |-- height: long (nullable = true)\n |    |    |    |    |    |-- url: string (nullable = true)\n |    |    |    |    |    |-- width: long (nullable = true)\n |    |    |    |    |-- standard: struct (nullable = true)\n |    |    |    |    |    |-- height: long (nullable = true)\n |    |    |    |    |    |-- url: string (nullable = true)\n |    |    |    |    |    |-- width: long (nullable = true)\n |    |    |    |-- title: string (nullable = true)\n |    |    |-- statistics: struct (nullable = true)\n |    |    |    |-- commentCount: string (nullable = true)\n |    |    |    |-- dislikeCount: string (nullable = true)\n |    |    |    |-- favoriteCount: string (nullable = true)\n |    |    |    |-- likeCount: string (nullable = true)\n |    |    |    |-- viewCount: string (nullable = true)\n |    |    |-- status: struct (nullable = true)\n |    |    |    |-- embeddable: boolean (nullable = true)\n |    |    |    |-- license: string (nullable = true)\n |    |    |    |-- madeForKids: boolean (nullable = true)\n |    |    |    |-- privacyStatus: string (nullable = true)\n |    |    |    |-- publicStatsViewable: boolean (nullable = true)\n |    |    |    |-- uploadStatus: string (nullable = true)\n |    |    |-- topicDetails: struct (nullable = true)\n |    |    |    |-- relevantTopicIds: array (nullable = true)\n |    |    |    |    |-- element: string (containsNull = true)\n |    |    |    |-- topicCategories: array (nullable = true)\n |    |    |    |    |-- element: string (containsNull = true)\n |-- kind: string (nullable = true)\n |-- pageInfo: struct (nullable = true)\n |    |-- resultsPerPage: long (nullable = true)\n |    |-- totalResults: long (nullable = true)\n\n</div>",
       "datasetInfos": [],
       "removedWidgets": [],
       "type": "html"
      }
     },
     "output_type": "display_data"
    }
   ],
   "source": []
  },
  {
   "attachments": {},
   "cell_type": "markdown",
   "metadata": {
    "application/vnd.databricks.v1+cell": {
     "inputWidgets": {},
     "nuid": "3cefa59f-1ea0-47ca-a0a8-d2da596f6a3d",
     "showTitle": false,
     "title": ""
    }
   },
   "source": [
    "What can you say about the schema? Is it what you expected?\n",
    "\n",
    "How many columns would you say there are right now?\n",
    "Looking at the schema, how many columns would you say there would be in this DataFrame after flattening it?"
   ]
  },
  {
   "attachments": {},
   "cell_type": "markdown",
   "metadata": {},
   "source": [
    "5. Print out the columns of `df`"
   ]
  },
  {
   "cell_type": "code",
   "execution_count": null,
   "metadata": {
    "application/vnd.databricks.v1+cell": {
     "inputWidgets": {},
     "nuid": "e1baf656-ee96-48c5-be84-d9f9642040c4",
     "showTitle": false,
     "title": ""
    }
   },
   "outputs": [
    {
     "data": {
      "text/html": [
       "<style scoped>\n",
       "  .ansiout {\n",
       "    display: block;\n",
       "    unicode-bidi: embed;\n",
       "    white-space: pre-wrap;\n",
       "    word-wrap: break-word;\n",
       "    word-break: break-all;\n",
       "    font-family: \"Source Code Pro\", \"Menlo\", monospace;;\n",
       "    font-size: 13px;\n",
       "    color: #555;\n",
       "    margin-left: 4px;\n",
       "    line-height: 19px;\n",
       "  }\n",
       "</style>\n",
       "<div class=\"ansiout\">Out[9]: [&#39;etag&#39;, &#39;items&#39;, &#39;kind&#39;, &#39;pageInfo&#39;]</div>"
      ]
     },
     "metadata": {
      "application/vnd.databricks.v1+output": {
       "addedWidgets": {},
       "arguments": {},
       "data": "<div class=\"ansiout\">Out[9]: [&#39;etag&#39;, &#39;items&#39;, &#39;kind&#39;, &#39;pageInfo&#39;]</div>",
       "datasetInfos": [],
       "removedWidgets": [],
       "type": "html"
      }
     },
     "output_type": "display_data"
    }
   ],
   "source": []
  },
  {
   "attachments": {},
   "cell_type": "markdown",
   "metadata": {
    "application/vnd.databricks.v1+cell": {
     "inputWidgets": {},
     "nuid": "890b9cc3-8ad0-4cf1-a451-6f6f870b7ca9",
     "showTitle": false,
     "title": ""
    }
   },
   "source": [
    "That's 4 columns, although the schema seems much more complicated.\n",
    "\n",
    "This is because we have **nested structures**.\n",
    "\n",
    "Let's investigate each column one by one."
   ]
  },
  {
   "attachments": {},
   "cell_type": "markdown",
   "metadata": {
    "application/vnd.databricks.v1+cell": {
     "inputWidgets": {},
     "nuid": "c30a9b0b-f779-4026-970c-3ec000893ca5",
     "showTitle": false,
     "title": ""
    }
   },
   "source": [
    "### Column `etag`\n",
    "6. Take the first 5 rows of the column `etag`"
   ]
  },
  {
   "cell_type": "code",
   "execution_count": null,
   "metadata": {
    "application/vnd.databricks.v1+cell": {
     "inputWidgets": {},
     "nuid": "857488c7-c82e-404c-9b67-55812b103cd3",
     "showTitle": false,
     "title": ""
    }
   },
   "outputs": [
    {
     "data": {
      "text/html": [
       "<style scoped>\n",
       "  .ansiout {\n",
       "    display: block;\n",
       "    unicode-bidi: embed;\n",
       "    white-space: pre-wrap;\n",
       "    word-wrap: break-word;\n",
       "    word-break: break-all;\n",
       "    font-family: \"Source Code Pro\", \"Menlo\", monospace;;\n",
       "    font-size: 13px;\n",
       "    color: #555;\n",
       "    margin-left: 4px;\n",
       "    line-height: 19px;\n",
       "  }\n",
       "</style>\n",
       "<div class=\"ansiout\">Out[10]: [Row(etag=&#39;U0fncx_GV9jD5SKQr15LMvwuPcs&#39;),\n",
       " Row(etag=&#39;LZV6LlN3-4QwaIGfe9KBxl0cJvE&#39;),\n",
       " Row(etag=&#39;Ou4xXi-09RdImAeo1EFJC01i8iM&#39;),\n",
       " Row(etag=&#39;tDsVpy7PmDE2n6ZAO0rHpUpbqz0&#39;),\n",
       " Row(etag=&#39;otOtu8WFJDFkzdBR_PG0LptIkK4&#39;)]</div>"
      ]
     },
     "metadata": {
      "application/vnd.databricks.v1+output": {
       "addedWidgets": {},
       "arguments": {},
       "data": "<div class=\"ansiout\">Out[10]: [Row(etag=&#39;U0fncx_GV9jD5SKQr15LMvwuPcs&#39;),\n Row(etag=&#39;LZV6LlN3-4QwaIGfe9KBxl0cJvE&#39;),\n Row(etag=&#39;Ou4xXi-09RdImAeo1EFJC01i8iM&#39;),\n Row(etag=&#39;tDsVpy7PmDE2n6ZAO0rHpUpbqz0&#39;),\n Row(etag=&#39;otOtu8WFJDFkzdBR_PG0LptIkK4&#39;)]</div>",
       "datasetInfos": [],
       "removedWidgets": [],
       "type": "html"
      }
     },
     "output_type": "display_data"
    }
   ],
   "source": []
  },
  {
   "attachments": {},
   "cell_type": "markdown",
   "metadata": {
    "application/vnd.databricks.v1+cell": {
     "inputWidgets": {},
     "nuid": "088d1046-a342-4165-b287-45fa44f1239a",
     "showTitle": false,
     "title": ""
    }
   },
   "source": [
    "### Column `kind`\n",
    "How many different values do we have for the column `kind`?\n",
    "\n",
    "7. Count the number of different values in the column `kind`"
   ]
  },
  {
   "cell_type": "code",
   "execution_count": null,
   "metadata": {
    "application/vnd.databricks.v1+cell": {
     "inputWidgets": {},
     "nuid": "0318e281-eceb-4fa2-a77b-170e06026f19",
     "showTitle": false,
     "title": ""
    }
   },
   "outputs": [
    {
     "data": {
      "text/html": [
       "<style scoped>\n",
       "  .ansiout {\n",
       "    display: block;\n",
       "    unicode-bidi: embed;\n",
       "    white-space: pre-wrap;\n",
       "    word-wrap: break-word;\n",
       "    word-break: break-all;\n",
       "    font-family: \"Source Code Pro\", \"Menlo\", monospace;;\n",
       "    font-size: 13px;\n",
       "    color: #555;\n",
       "    margin-left: 4px;\n",
       "    line-height: 19px;\n",
       "  }\n",
       "</style>\n",
       "<div class=\"ansiout\">Out[11]: 1</div>"
      ]
     },
     "metadata": {
      "application/vnd.databricks.v1+output": {
       "addedWidgets": {},
       "arguments": {},
       "data": "<div class=\"ansiout\">Out[11]: 1</div>",
       "datasetInfos": [],
       "removedWidgets": [],
       "type": "html"
      }
     },
     "output_type": "display_data"
    }
   ],
   "source": []
  },
  {
   "attachments": {},
   "cell_type": "markdown",
   "metadata": {
    "application/vnd.databricks.v1+cell": {
     "inputWidgets": {},
     "nuid": "cf299c99-0c69-4832-8be6-1c33b88de56e",
     "showTitle": false,
     "title": ""
    }
   },
   "source": [
    "Only one, **we can `.collect(...)` this**, this won't crash our memory..\n",
    "\n",
    "8. Collect the distinct values in the column `kind`"
   ]
  },
  {
   "cell_type": "code",
   "execution_count": null,
   "metadata": {
    "application/vnd.databricks.v1+cell": {
     "inputWidgets": {},
     "nuid": "f93201f2-7224-4f25-8921-e88cebdb4fe0",
     "showTitle": false,
     "title": ""
    }
   },
   "outputs": [
    {
     "data": {
      "text/html": [
       "<style scoped>\n",
       "  .ansiout {\n",
       "    display: block;\n",
       "    unicode-bidi: embed;\n",
       "    white-space: pre-wrap;\n",
       "    word-wrap: break-word;\n",
       "    word-break: break-all;\n",
       "    font-family: \"Source Code Pro\", \"Menlo\", monospace;;\n",
       "    font-size: 13px;\n",
       "    color: #555;\n",
       "    margin-left: 4px;\n",
       "    line-height: 19px;\n",
       "  }\n",
       "</style>\n",
       "<div class=\"ansiout\">Out[12]: [Row(kind=&#39;youtube#videoListResponse&#39;)]</div>"
      ]
     },
     "metadata": {
      "application/vnd.databricks.v1+output": {
       "addedWidgets": {},
       "arguments": {},
       "data": "<div class=\"ansiout\">Out[12]: [Row(kind=&#39;youtube#videoListResponse&#39;)]</div>",
       "datasetInfos": [],
       "removedWidgets": [],
       "type": "html"
      }
     },
     "output_type": "display_data"
    }
   ],
   "source": []
  },
  {
   "attachments": {},
   "cell_type": "markdown",
   "metadata": {
    "application/vnd.databricks.v1+cell": {
     "inputWidgets": {},
     "nuid": "bb6c8b07-012d-4df1-b2b9-036d15157d36",
     "showTitle": false,
     "title": ""
    }
   },
   "source": [
    "Surprised by the result?\n",
    "No the result is not too suprising since each row in the dataset represents a response from the youtube API."
   ]
  },
  {
   "attachments": {},
   "cell_type": "markdown",
   "metadata": {
    "application/vnd.databricks.v1+cell": {
     "inputWidgets": {},
     "nuid": "23dfcb72-8f22-4afc-b522-6ee8cc284fb9",
     "showTitle": false,
     "title": ""
    }
   },
   "source": [
    "### Column `pageInfo`\n",
    "9. Show the first 5 rows of the `pageInfo` column"
   ]
  },
  {
   "cell_type": "code",
   "execution_count": null,
   "metadata": {
    "application/vnd.databricks.v1+cell": {
     "inputWidgets": {},
     "nuid": "13b3a1e4-d14d-4c47-94b8-f714e416bf42",
     "showTitle": false,
     "title": ""
    }
   },
   "outputs": [
    {
     "data": {
      "text/html": [
       "<style scoped>\n",
       "  .ansiout {\n",
       "    display: block;\n",
       "    unicode-bidi: embed;\n",
       "    white-space: pre-wrap;\n",
       "    word-wrap: break-word;\n",
       "    word-break: break-all;\n",
       "    font-family: \"Source Code Pro\", \"Menlo\", monospace;;\n",
       "    font-size: 13px;\n",
       "    color: #555;\n",
       "    margin-left: 4px;\n",
       "    line-height: 19px;\n",
       "  }\n",
       "</style>\n",
       "<div class=\"ansiout\">+--------+\n",
       "pageInfo|\n",
       "+--------+\n",
       "{38, 38}|\n",
       "{38, 38}|\n",
       "{43, 43}|\n",
       "{40, 40}|\n",
       "{37, 37}|\n",
       "+--------+\n",
       "only showing top 5 rows\n",
       "\n",
       "</div>"
      ]
     },
     "metadata": {
      "application/vnd.databricks.v1+output": {
       "addedWidgets": {},
       "arguments": {},
       "data": "<div class=\"ansiout\">+--------+\n|pageInfo|\n+--------+\n|{38, 38}|\n|{38, 38}|\n|{43, 43}|\n|{40, 40}|\n|{37, 37}|\n+--------+\nonly showing top 5 rows\n\n</div>",
       "datasetInfos": [],
       "removedWidgets": [],
       "type": "html"
      }
     },
     "output_type": "display_data"
    }
   ],
   "source": []
  },
  {
   "attachments": {},
   "cell_type": "markdown",
   "metadata": {
    "application/vnd.databricks.v1+cell": {
     "inputWidgets": {},
     "nuid": "a3279169-a5b0-4ad2-a344-938cc914bda2",
     "showTitle": false,
     "title": ""
    }
   },
   "source": [
    "What's this? Let's count how many different values..."
   ]
  },
  {
   "attachments": {},
   "cell_type": "markdown",
   "metadata": {},
   "source": [
    "10. Count the number of distinct values in the column `pageInfo`"
   ]
  },
  {
   "cell_type": "code",
   "execution_count": null,
   "metadata": {
    "application/vnd.databricks.v1+cell": {
     "inputWidgets": {},
     "nuid": "8c66e6cd-707b-497f-81a1-377f957fec2d",
     "showTitle": false,
     "title": ""
    }
   },
   "outputs": [
    {
     "data": {
      "text/html": [
       "<style scoped>\n",
       "  .ansiout {\n",
       "    display: block;\n",
       "    unicode-bidi: embed;\n",
       "    white-space: pre-wrap;\n",
       "    word-wrap: break-word;\n",
       "    word-break: break-all;\n",
       "    font-family: \"Source Code Pro\", \"Menlo\", monospace;;\n",
       "    font-size: 13px;\n",
       "    color: #555;\n",
       "    margin-left: 4px;\n",
       "    line-height: 19px;\n",
       "  }\n",
       "</style>\n",
       "<div class=\"ansiout\">Out[14]: 15</div>"
      ]
     },
     "metadata": {
      "application/vnd.databricks.v1+output": {
       "addedWidgets": {},
       "arguments": {},
       "data": "<div class=\"ansiout\">Out[14]: 15</div>",
       "datasetInfos": [],
       "removedWidgets": [],
       "type": "html"
      }
     },
     "output_type": "display_data"
    }
   ],
   "source": []
  },
  {
   "attachments": {},
   "cell_type": "markdown",
   "metadata": {
    "application/vnd.databricks.v1+cell": {
     "inputWidgets": {},
     "nuid": "4b95f30c-98f0-4186-b8ea-94b7c1340e0d",
     "showTitle": false,
     "title": ""
    }
   },
   "source": [
    "Only a few, we can collect them all\n",
    "\n",
    "11. Collect all distinct values from the column `pageInfo`"
   ]
  },
  {
   "cell_type": "code",
   "execution_count": null,
   "metadata": {
    "application/vnd.databricks.v1+cell": {
     "inputWidgets": {},
     "nuid": "ea7f9524-fc14-4df4-aa72-c7ca0a239a5f",
     "showTitle": false,
     "title": ""
    }
   },
   "outputs": [
    {
     "data": {
      "text/html": [
       "<style scoped>\n",
       "  .ansiout {\n",
       "    display: block;\n",
       "    unicode-bidi: embed;\n",
       "    white-space: pre-wrap;\n",
       "    word-wrap: break-word;\n",
       "    word-break: break-all;\n",
       "    font-family: \"Source Code Pro\", \"Menlo\", monospace;;\n",
       "    font-size: 13px;\n",
       "    color: #555;\n",
       "    margin-left: 4px;\n",
       "    line-height: 19px;\n",
       "  }\n",
       "</style>\n",
       "<div class=\"ansiout\">Out[15]: [Row(pageInfo=Row(resultsPerPage=45, totalResults=45)),\n",
       " Row(pageInfo=Row(resultsPerPage=44, totalResults=44)),\n",
       " Row(pageInfo=Row(resultsPerPage=38, totalResults=38)),\n",
       " Row(pageInfo=Row(resultsPerPage=40, totalResults=40)),\n",
       " Row(pageInfo=Row(resultsPerPage=43, totalResults=43)),\n",
       " Row(pageInfo=Row(resultsPerPage=34, totalResults=34)),\n",
       " Row(pageInfo=Row(resultsPerPage=36, totalResults=36)),\n",
       " Row(pageInfo=Row(resultsPerPage=33, totalResults=33)),\n",
       " Row(pageInfo=Row(resultsPerPage=31, totalResults=31)),\n",
       " Row(pageInfo=Row(resultsPerPage=37, totalResults=37)),\n",
       " Row(pageInfo=Row(resultsPerPage=32, totalResults=32)),\n",
       " Row(pageInfo=Row(resultsPerPage=35, totalResults=35)),\n",
       " Row(pageInfo=Row(resultsPerPage=42, totalResults=42)),\n",
       " Row(pageInfo=Row(resultsPerPage=39, totalResults=39)),\n",
       " Row(pageInfo=Row(resultsPerPage=41, totalResults=41))]</div>"
      ]
     },
     "metadata": {
      "application/vnd.databricks.v1+output": {
       "addedWidgets": {},
       "arguments": {},
       "data": "<div class=\"ansiout\">Out[15]: [Row(pageInfo=Row(resultsPerPage=45, totalResults=45)),\n Row(pageInfo=Row(resultsPerPage=44, totalResults=44)),\n Row(pageInfo=Row(resultsPerPage=38, totalResults=38)),\n Row(pageInfo=Row(resultsPerPage=40, totalResults=40)),\n Row(pageInfo=Row(resultsPerPage=43, totalResults=43)),\n Row(pageInfo=Row(resultsPerPage=34, totalResults=34)),\n Row(pageInfo=Row(resultsPerPage=36, totalResults=36)),\n Row(pageInfo=Row(resultsPerPage=33, totalResults=33)),\n Row(pageInfo=Row(resultsPerPage=31, totalResults=31)),\n Row(pageInfo=Row(resultsPerPage=37, totalResults=37)),\n Row(pageInfo=Row(resultsPerPage=32, totalResults=32)),\n Row(pageInfo=Row(resultsPerPage=35, totalResults=35)),\n Row(pageInfo=Row(resultsPerPage=42, totalResults=42)),\n Row(pageInfo=Row(resultsPerPage=39, totalResults=39)),\n Row(pageInfo=Row(resultsPerPage=41, totalResults=41))]</div>",
       "datasetInfos": [],
       "removedWidgets": [],
       "type": "html"
      }
     },
     "output_type": "display_data"
    }
   ],
   "source": []
  },
  {
   "attachments": {},
   "cell_type": "markdown",
   "metadata": {
    "application/vnd.databricks.v1+cell": {
     "inputWidgets": {},
     "nuid": "ff3b3cd6-3065-49cb-a96b-fbc4da1e6c15",
     "showTitle": false,
     "title": ""
    }
   },
   "source": [
    "This way we have more informations, that's the number of results we had for this specific API call.."
   ]
  },
  {
   "attachments": {},
   "cell_type": "markdown",
   "metadata": {
    "application/vnd.databricks.v1+cell": {
     "inputWidgets": {},
     "nuid": "1d70063d-1b6f-4ce9-be67-f4e249a66038",
     "showTitle": false,
     "title": ""
    }
   },
   "source": [
    "### Column `items`\n",
    "Last but not least, let's investigate the column `items`.\n",
    "\n",
    "What do you expect this column contains? Let's check if your intuition is right.\n",
    "\n",
    "12. Show the first 5 rows of the column `items`"
   ]
  },
  {
   "cell_type": "code",
   "execution_count": null,
   "metadata": {
    "application/vnd.databricks.v1+cell": {
     "inputWidgets": {},
     "nuid": "f72af582-b7d1-4af4-982e-b4010ab0bed1",
     "showTitle": false,
     "title": ""
    }
   },
   "outputs": [
    {
     "data": {
      "text/html": [
       "<style scoped>\n",
       "  .ansiout {\n",
       "    display: block;\n",
       "    unicode-bidi: embed;\n",
       "    white-space: pre-wrap;\n",
       "    word-wrap: break-word;\n",
       "    word-break: break-all;\n",
       "    font-family: \"Source Code Pro\", \"Menlo\", monospace;;\n",
       "    font-size: 13px;\n",
       "    color: #555;\n",
       "    margin-left: 4px;\n",
       "    line-height: 19px;\n",
       "  }\n",
       "</style>\n",
       "<div class=\"ansiout\">+--------------------+\n",
       "               items|\n",
       "+--------------------+\n",
       "[{{false, {null},...|\n",
       "[{{false, {null},...|\n",
       "[{{true, {null}, ...|\n",
       "[{{false, {null},...|\n",
       "[{{false, {null},...|\n",
       "+--------------------+\n",
       "only showing top 5 rows\n",
       "\n",
       "</div>"
      ]
     },
     "metadata": {
      "application/vnd.databricks.v1+output": {
       "addedWidgets": {},
       "arguments": {},
       "data": "<div class=\"ansiout\">+--------------------+\n|               items|\n+--------------------+\n|[{{false, {null},...|\n|[{{false, {null},...|\n|[{{true, {null}, ...|\n|[{{false, {null},...|\n|[{{false, {null},...|\n+--------------------+\nonly showing top 5 rows\n\n</div>",
       "datasetInfos": [],
       "removedWidgets": [],
       "type": "html"
      }
     },
     "output_type": "display_data"
    }
   ],
   "source": []
  },
  {
   "attachments": {},
   "cell_type": "markdown",
   "metadata": {
    "application/vnd.databricks.v1+cell": {
     "inputWidgets": {},
     "nuid": "7815d62c-b5fb-4d91-a298-6c215894baee",
     "showTitle": false,
     "title": ""
    }
   },
   "source": [
    "Not very useful... but `display` wouldn't help much either..  \n",
    "You can give it a try in the next cell\n",
    "\n",
    "13. Display the column `items` from df"
   ]
  },
  {
   "cell_type": "code",
   "execution_count": null,
   "metadata": {
    "application/vnd.databricks.v1+cell": {
     "inputWidgets": {},
     "nuid": "8ce4e374-4c9b-4504-95eb-86e240301ada",
     "showTitle": false,
     "title": ""
    }
   },
   "outputs": [],
   "source": []
  },
  {
   "attachments": {},
   "cell_type": "markdown",
   "metadata": {
    "application/vnd.databricks.v1+cell": {
     "inputWidgets": {},
     "nuid": "d7a60b5b-42a2-48ea-b5d3-668fc9fa2438",
     "showTitle": false,
     "title": ""
    }
   },
   "source": [
    "It's very difficult to see anything...\n",
    "\n",
    "Exploratory Data Analysis is a lot about knowing when to zoom in or zoom out.\n",
    "\n",
    "Right now, we're looking at the data from the surface and it's difficult to see anything. In the following steps, we will zoom in on a single element of the column `items` and try and see if we can understand its content better."
   ]
  },
  {
   "attachments": {},
   "cell_type": "markdown",
   "metadata": {
    "application/vnd.databricks.v1+cell": {
     "inputWidgets": {},
     "nuid": "716f3681-9076-4f67-863f-70f65ac07993",
     "showTitle": false,
     "title": ""
    }
   },
   "source": [
    "We'll start by taking a single item and will call it `sample_item`\n",
    "\n",
    "14. take 1 element of `items`: sample_item"
   ]
  },
  {
   "cell_type": "code",
   "execution_count": null,
   "metadata": {
    "application/vnd.databricks.v1+cell": {
     "inputWidgets": {},
     "nuid": "7937ba68-1006-4c8a-8f2b-661f6da3d3f9",
     "showTitle": false,
     "title": ""
    }
   },
   "outputs": [
    {
     "data": {
      "text/html": [
       "<style scoped>\n",
       "  .ansiout {\n",
       "    display: block;\n",
       "    unicode-bidi: embed;\n",
       "    white-space: pre-wrap;\n",
       "    word-wrap: break-word;\n",
       "    word-break: break-all;\n",
       "    font-family: \"Source Code Pro\", \"Menlo\", monospace;;\n",
       "    font-size: 13px;\n",
       "    color: #555;\n",
       "    margin-left: 4px;\n",
       "    line-height: 19px;\n",
       "  }\n",
       "</style>\n",
       "<div class=\"ansiout\">Out[18]: [Row(items=[Row(contentDetails=Row(caption=&#39;false&#39;, contentRating=Row(ytRating=None), definition=&#39;sd&#39;, dimension=&#39;2d&#39;, duration=&#39;PT3M33S&#39;, licensedContent=True, projection=&#39;rectangular&#39;, regionRestriction=None), etag=&#39;SqP7uUVSol30dxvuScN6JUny6T4&#39;, id=&#39;t1l8Z6gLPzo&#39;, kind=&#39;youtube#video&#39;, snippet=Row(categoryId=&#39;10&#39;, channelId=&#39;UCUERSOitwgUq_37kGslN96w&#39;, channelTitle=&#39;VOLO&#39;, defaultAudioLanguage=None, defaultLanguage=None, description=&#39;Enregistré et mixé par Cyrille PELTIER au &#34;Keen Studio&#34; à Tours.\\nMerci à Cyrille PELTIER et au &#34;Keen Studio&#34; à Tours.\\nToutes les dates de la tournée sur volo.fr\\nLe nouvel album &#34;Sans rire&#34; est sorti le 11 mars 2013.\\nVolo était à l\\&#39;Olympia le 29 avril dernier et est en tournée dans toute la France.\\nLe clip de &#34;Toujours à côté&#34; est sur youtube sur http://www.youtube.com/watch?v=cWCH2dpyw1c : Le premier extrait de l\\&#39;album est en playliste sur France Bleue, Europe 1, RFM, RFI, Radio Alouette.\\n&#34;Sans rire&#34;, autre extrait de l\\&#39;album, est en playlist sur Virgin Radio.\\n\\nSortie digitale de &#34;Toujours à côté&#34;\\nhttps://itunes.apple.com/fr/album/toujours-a-cote-single/id570616846\\n\\nVolo est un duo de frères. Frédéric et Olivier VOLOVITCH. \\nAvec un nom de famille qui leur vient d\\&#39;un arrière grand-père Ukrainien, nés au milieu d\\&#39;une fratrie de 4 enfants, ils grandissent dans la campagne tourangelle dans une famille de profs.\\n\\nFrédo intègre l\\&#39;école de la rue Blanche en tant que comédien en 1992, Olivier le rejoint sur Paris en 1997 où il étudie la philosophie à la Sorbonne.\\nLe duo se forme officiellement en 2002.\\nEntre les différentes tournées des « Wriggles », dont Frédo est un des membres fondateurs, et Olivier le régisseur général, les deux frangins font leurs premiers concerts. D\\&#39;abord et surtout dans des bars où autres Caf\\&#39;conc, jusqu\\&#39; à la sortie de leur 1er disque en 2005 chez « Opéra Music ».\\nDepuis, et en tout, les deux frangins, ont sorti cinq albums. Trois studios, un live acoustique et un best of. \\nPeu médiatisé « Volo » est aussi et surtout un groupe de scène qui peut compter sur un public fidèle et grandissant. Produits en live par « Blue Line Productions », on les a vus en tournée dans toute la France, à la Cigale, au Trianon, au Bataclan, à l\\&#39;Olympia, aux Francofolies de la Rochelle etc...\\nAujourd\\&#39;hui, récemment signé chez « Play On », Volo revient avec un nouvel album réalisé par Jean-François Delort sur des arrangements de Florian Dubos et Jocelyn Moze. Ce nouveau disque, attendu dans les bacs début 2013, sera accompagné d\\&#39;une tournée qui démarrera cet automne et passera par la Cigale le 23 novembre 2012.&#39;, liveBroadcastContent=&#39;none&#39;, localized=Row(description=&#39;Enregistré et mixé par Cyrille PELTIER au &#34;Keen Studio&#34; à Tours.\\nMerci à Cyrille PELTIER et au &#34;Keen Studio&#34; à Tours.\\nToutes les dates de la tournée sur volo.fr\\nLe nouvel album &#34;Sans rire&#34; est sorti le 11 mars 2013.\\nVolo était à l\\&#39;Olympia le 29 avril dernier et est en tournée dans toute la France.\\nLe clip de &#34;Toujours à côté&#34; est sur youtube sur http://www.youtube.com/watch?v=cWCH2dpyw1c : Le premier extrait de l\\&#39;album est en playliste sur France Bleue, Europe 1, RFM, RFI, Radio Alouette.\\n&#34;Sans rire&#34;, autre extrait de l\\&#39;album, est en playlist sur Virgin Radio.\\n\\nSortie digitale de &#34;Toujours à côté&#34;\\nhttps://itunes.apple.com/fr/album/toujours-a-cote-single/id570616846\\n\\nVolo est un duo de frères. Frédéric et Olivier VOLOVITCH. \\nAvec un nom de famille qui leur vient d\\&#39;un arrière grand-père Ukrainien, nés au milieu d\\&#39;une fratrie de 4 enfants, ils grandissent dans la campagne tourangelle dans une famille de profs.\\n\\nFrédo intègre l\\&#39;école de la rue Blanche en tant que comédien en 1992, Olivier le rejoint sur Paris en 1997 où il étudie la philosophie à la Sorbonne.\\nLe duo se forme officiellement en 2002.\\nEntre les différentes tournées des « Wriggles », dont Frédo est un des membres fondateurs, et Olivier le régisseur général, les deux frangins font leurs premiers concerts. D\\&#39;abord et surtout dans des bars où autres Caf\\&#39;conc, jusqu\\&#39; à la sortie de leur 1er disque en 2005 chez « Opéra Music ».\\nDepuis, et en tout, les deux frangins, ont sorti cinq albums. Trois studios, un live acoustique et un best of. \\nPeu médiatisé « Volo » est aussi et surtout un groupe de scène qui peut compter sur un public fidèle et grandissant. Produits en live par « Blue Line Productions », on les a vus en tournée dans toute la France, à la Cigale, au Trianon, au Bataclan, à l\\&#39;Olympia, aux Francofolies de la Rochelle etc...\\nAujourd\\&#39;hui, récemment signé chez « Play On », Volo revient avec un nouvel album réalisé par Jean-François Delort sur des arrangements de Florian Dubos et Jocelyn Moze. Ce nouveau disque, attendu dans les bacs début 2013, sera accompagné d\\&#39;une tournée qui démarrera cet automne et passera par la Cigale le 23 novembre 2012.&#39;, title=&#39;VOLO. &#34;L\\&#39;air d\\&#39;un con&#34;&#39;), publishedAt=&#39;2013-07-22T12:09:11Z&#39;, tags=[&#39;volo&#39;, &#39;volovitch&#39;, &#39;wriggles&#39;, &#39;sans rire&#39;, &#39;toujours à côté&#39;, &#39;bien zarbos&#39;, &#39;en attendant&#39;, &#39;blancs manteaux&#39;, &#39;jours heureux&#39;, &#39;play on&#39;, &#39;zaz&#39;, &#39;tryo&#39;], thumbnails=Row(default=Row(height=90, url=&#39;https://i.ytimg.com/vi/t1l8Z6gLPzo/default.jpg&#39;, width=120), high=Row(height=360, url=&#39;https://i.ytimg.com/vi/t1l8Z6gLPzo/hqdefault.jpg&#39;, width=480), maxres=None, medium=Row(height=180, url=&#39;https://i.ytimg.com/vi/t1l8Z6gLPzo/mqdefault.jpg&#39;, width=320), standard=Row(height=480, url=&#39;https://i.ytimg.com/vi/t1l8Z6gLPzo/sddefault.jpg&#39;, width=640)), title=&#39;VOLO. &#34;L\\&#39;air d\\&#39;un con&#34;&#39;), statistics=Row(commentCount=&#39;38&#39;, dislikeCount=&#39;26&#39;, favoriteCount=&#39;0&#39;, likeCount=&#39;1028&#39;, viewCount=&#39;223172&#39;), status=Row(embeddable=True, license=&#39;youtube&#39;, madeForKids=False, privacyStatus=&#39;public&#39;, publicStatsViewable=True, uploadStatus=&#39;processed&#39;), topicDetails=Row(relevantTopicIds=[&#39;/m/04rlf&#39;, &#39;/m/04rlf&#39;], topicCategories=[&#39;https://en.wikipedia.org/wiki/Music&#39;])), Row(contentDetails=Row(caption=&#39;false&#39;, contentRating=Row(ytRating=None), definition=&#39;hd&#39;, dimension=&#39;2d&#39;, duration=&#39;PT7M46S&#39;, licensedContent=False, projection=&#39;rectangular&#39;, regionRestriction=Row(allowed=None, blocked=[&#39;DK&#39;])), etag=&#39;m3DnhzTEw9ABiqzBvdasfk5Av_8&#39;, id=&#39;we5gzZq5Avg&#39;, kind=&#39;youtube#video&#39;, snippet=Row(categoryId=&#39;10&#39;, channelId=&#39;UCson549gpvRhPnJ3Whs5onA&#39;, channelTitle=&#39;LongWayToDream&#39;, defaultAudioLanguage=None, defaultLanguage=None, description=&#39;Air Conditionné EP&#39;, liveBroadcastContent=&#39;none&#39;, localized=Row(description=&#39;Air Conditionné EP&#39;, title=&#39;Julian Jeweil - Air Conditionné&#39;), publishedAt=&#39;2012-03-17T08:34:30Z&#39;, tags=[&#39;mnml&#39;, &#39;minimal&#39;, &#39;electronic&#39;, &#39;music&#39;], thumbnails=Row(default=Row(height=90, url=&#39;https://i.ytimg.com/vi/we5gzZq5Avg/default.jpg&#39;, width=120), high=Row(height=360, url=&#39;https://i.ytimg.com/vi/we5gzZq5Avg/hqdefault.jpg&#39;, width=480), maxres=Row(height=720, url=&#39;https://i.ytimg.com/vi/we5gzZq5Avg/maxresdefault.jpg&#39;, width=1280), medium=Row(height=180, url=&#39;https://i.ytimg.com/vi/we5gzZq5Avg/mqdefault.jpg&#39;, width=320), standard=Row(height=480, url=&#39;https://i.ytimg.com/vi/we5gzZq5Avg/sddefault.jpg&#39;, width=640)), title=&#39;Julian Jeweil - Air Conditionné&#39;), statistics=Row(commentCount=&#39;2&#39;, dislikeCount=&#39;3&#39;, favoriteCount=&#39;0&#39;, likeCount=&#39;124&#39;, viewCount=&#39;13409&#39;), status=Row(embeddable=True, license=&#39;youtube&#39;, madeForKids=False, privacyStatus=&#39;public&#39;, publicStatsViewable=True, uploadStatus=&#39;processed&#39;), topicDetails=Row(relevantTopicIds=[&#39;/m/04rlf&#39;, &#39;/m/04rlf&#39;], topicCategories=[&#39;https://en.wikipedia.org/wiki/Music&#39;])), Row(contentDetails=Row(caption=&#39;false&#39;, contentRating=Row(ytRating=None), definition=&#39;sd&#39;, dimension=&#39;2d&#39;, duration=&#39;PT3M7S&#39;, licensedContent=False, projection=&#39;rectangular&#39;, regionRestriction=None), etag=&#39;zyzs7STAR3NG-_pZe-0nGkbKoqg&#39;, id=&#39;49esza4eiK4&#39;, kind=&#39;youtube#video&#39;, snippet=Row(categoryId=&#39;10&#39;, channelId=&#39;UCcHYZ8Ez4gG_2bHEuBL8IfQ&#39;, channelTitle=&#39;Downtown Records&#39;, defaultAudioLanguage=None, defaultLanguage=None, description=&#34;myspace.com/etjusticepourtous\\r\\n(Downtown / Ed Banger)\\r\\n\\r\\nNominated for MTV VMA video of the year \\r\\n\\r\\nFrom the album &#39;Cross&#39;&#34;, liveBroadcastContent=&#39;none&#39;, localized=Row(description=&#34;myspace.com/etjusticepourtous\\r\\n(Downtown / Ed Banger)\\r\\n\\r\\nNominated for MTV VMA video of the year \\r\\n\\r\\nFrom the album &#39;Cross&#39;&#34;, title=&#39;Justice - D.A.N.C.E&#39;), publishedAt=&#39;2007-09-08T02:02:07Z&#39;, tags=[&#39;Justice&#39;, &#39;D.A.N.C.E&#39;, &#39;downtown&#39;], thumbnails=Row(default=Row(height=90, url=&#39;https://i.ytimg.com/vi/49esza4eiK4/default.jpg&#39;, width=120), high=Row(height=360, url=&#39;https://i.ytimg.com/vi/49esza4eiK4/hqdefault.jpg&#39;, width=480), maxres=None, medium=Row(height=180, url=&#39;https://i.ytimg.com/vi/49esza4eiK4/mqdefault.jpg&#39;, width=320), standard=None), title=&#39;Justice - D.A.N.C.E&#39;), statistics=Row(commentCount=&#39;3168&#39;, dislikeCount=&#39;780&#39;, favoriteCount=&#39;0&#39;, likeCount=&#39;25540&#39;, viewCount=&#39;10106655&#39;), status=Row(embeddable=True, license=&#39;youtube&#39;, madeForKids=False, privacyStatus=&#39;public&#39;, publicStatsViewable=True, uploadStatus=&#39;processed&#39;), topicDetails=Row(relevantTopicIds=[&#39;/m/04rlf&#39;, &#39;/m/02lkt&#39;, &#39;/m/04rlf&#39;, &#39;/m/02lkt&#39;], topicCategories=[&#39;https://en.wikipedia.org/wiki/Electronic_music&#39;, &#39;https://en.wikipedia.org/wiki/Music&#39;])), Row(contentDetails=Row(caption=&#39;false&#39;, contentRating=Row(ytRating=None), definition=&#39;hd&#39;, dimension=&#39;2d&#39;, duration=&#39;PT3M43S&#39;, licensedContent=False, projection=&#39;rectangular&#39;, regionRestriction=Row(allowed=None, blocked=[&#39;DK&#39;])), etag=&#39;hX2C15F6fdO5A-stUFMU5Az2PvI&#39;, id=&#39;BoO6LfR7ca0&#39;, kind=&#39;youtube#video&#39;, snippet=Row(categoryId=&#39;22&#39;, channelId=&#39;UCQ0wLCF7u23gZKJkHFs1Tpg&#39;, channelTitle=&#39;Music Is Our Drug&#39;, defaultAudioLanguage=None, defaultLanguage=None, description=&#39;♫ Music Is Our Drug - Spotify Playlist: https://goo.gl/rJvM5l\\n►Follow us on Spotify: https://goo.gl/HqOgkN\\n\\nTorture from the new Gramatik album - The Age Of Reason!\\nGramatik:\\nhttps://soundcloud.com/gramatik\\nhttps://www.facebook.com/gramatik\\n\\nImage:\\nhttp://www.allwalls.net/wallpapers/2012/09/Women-Graffiti-Stadium-Bracelets-1800x2880.jpg\\n\\n(If any producer or label has an issue with any of the uploads please get in contact with me on YouTube and I will delete it as soon as possible (this includes artists of the images used).&#39;, liveBroadcastContent=&#39;none&#39;, localized=Row(description=&#39;♫ Music Is Our Drug - Spotify Playlist: https://goo.gl/rJvM5l\\n►Follow us on Spotify: https://goo.gl/HqOgkN\\n\\nTorture from the new Gramatik album - The Age Of Reason!\\nGramatik:\\nhttps://soundcloud.com/gramatik\\nhttps://www.facebook.com/gramatik\\n\\nImage:\\nhttp://www.allwalls.net/wallpapers/2012/09/Women-Graffiti-Stadium-Bracelets-1800x2880.jpg\\n\\n(If any producer or label has an issue with any of the uploads please get in contact with me on YouTube and I will delete it as soon as possible (this includes artists of the images used).&#39;, title=&#39;Gramatik - Torture (feat. Eric Krasno)&#39;), publishedAt=&#39;2014-01-24T12:52:38Z&#39;, tags=[&#39;Gramatik&#39;, &#39;Torture&#39;, &#39;The Age Of Reason&#39;, &#39;2014&#39;, &#39;Music Is Our Drug&#39;, &#39;guitar&#39;, &#39;Eric Krisno&#39;], thumbnails=Row(default=Row(height=90, url=&#39;https://i.ytimg.com/vi/BoO6LfR7ca0/default.jpg&#39;, width=120), high=Row(height=360, url=&#39;https://i.ytimg.com/vi/BoO6LfR7ca0/hqdefault.jpg&#39;, width=480), maxres=Row(height=720, url=&#39;https://i.ytimg.com/vi/BoO6LfR7ca0/maxresdefault.jpg&#39;, width=1280), medium=Row(height=180, url=&#39;https://i.ytimg.com/vi/BoO6LfR7ca0/mqdefault.jpg&#39;, width=320), standard=Row(height=480, url=&#39;https://i.ytimg.com/vi/BoO6LfR7ca0/sddefault.jpg&#39;, width=640)), title=&#39;Gramatik - Torture (feat. Eric Krasno)&#39;), statistics=Row(commentCount=&#39;6&#39;, dislikeCount=&#39;0&#39;, favoriteCount=&#39;0&#39;, likeCount=&#39;255&#39;, viewCount=&#39;29153&#39;), status=Row(embeddable=True, license=&#39;youtube&#39;, madeForKids=False, privacyStatus=&#39;public&#39;, publicStatsViewable=True, uploadStatus=&#39;processed&#39;), topicDetails=Row(relevantTopicIds=[&#39;/m/04rlf&#39;, &#39;/m/04rlf&#39;], topicCategories=[&#39;https://en.wikipedia.org/wiki/Music&#39;])), Row(contentDetails=Row(caption=&#39;false&#39;, contentRating=Row(ytRating=None), definition=&#39;hd&#39;, dimension=&#39;2d&#39;, duration=&#39;PT5M&#39;, licensedContent=False, projection=&#39;rectangular&#39;, regionRestriction=Row(allowed=None, blocked=[&#39;DK&#39;])), etag=&#39;rYHoV38PLpMbRuX_zhGTVBKNotw&#39;, id=&#39;DaH4W1rY9us&#39;, kind=&#39;youtube#video&#39;, snippet=Row(categoryId=&#39;10&#39;, channelId=&#39;UCJsTMPZxYD-Q3kEmL4Qijpg&#39;, channelTitle=&#39;Harvey Pearson&#39;, defaultAudioLanguage=None, defaultLanguage=None, description=&#39;Buy The Burgh Island EP now:\\nhttps://itunes.apple.com/gb/album/burgh-island-ep/id571218980?affId=1657369&amp;ign-mpt=uo%3D4 \\n\\nNO COPYRIGHT INFRINGEMENT INTENDED&#39;, liveBroadcastContent=&#39;none&#39;, localized=Row(description=&#39;Buy The Burgh Island EP now:\\nhttps://itunes.apple.com/gb/album/burgh-island-ep/id571218980?affId=1657369&amp;ign-mpt=uo%3D4 \\n\\nNO COPYRIGHT INFRINGEMENT INTENDED&#39;, title=&#39;Ben Howard - Oats In The Water&#39;), publishedAt=&#39;2012-12-02T12:41:13Z&#39;, tags=[&#39;Ben Howard&#39;, &#39;Oats In The Water&#39;, &#39;Music Video&#39;, &#39;BBC Radio One&#39;, &#39;Zane Lowe&#39;, &#39;Greg James&#39;, &#39;Mickey Smith&#39;, &#39;Wales&#39;, &#39;Surf&#39;, &#39;Black And White&#39;, &#39;The Burgh Island EP&#39;, &#39;Burgh Island&#39;, &#39;Ireland&#39;, &#39;Astray Films&#39;, &#39;Harvey Pearson&#39;, &#39;Hounddogpictures&#39;, &#39;hdp&#39;, &#39;productions&#39;, &#39;iTunes&#39;, &#39;sony&#39;, &#39;nex&#39;, &#39;5n&#39;, &#39;Timelapse&#39;, &#39;CS6&#39;, &#39;Ben&#39;, &#39;Howard&#39;, &#39;(musician)&#39;, &#39;old&#39;, &#39;pine&#39;, &#39;only&#39;, &#39;love&#39;, &#39;keep&#39;, &#39;your&#39;, &#39;head&#39;, &#39;up&#39;, &#39;every&#39;, &#39;kingdom&#39;, &#39;harvpearson&#39;, &#39;official&#39;, &#39;video&#39;, &#39;music&#39;, &#39;Devon&#39;, &#39;beach&#39;, &#39;surf&#39;, &#39;surfers&#39;, &#39;Waves&#39;, &#39;Ocean&#39;, &#39;Hound Dog Pictures Productions&#39;, &#39;Sand&#39;, &#39;Surfing&#39;], thumbnails=Row(default=Row(height=90, url=&#39;https://i.ytimg.com/vi/DaH4W1rY9us/default.jpg&#39;, width=120), high=Row(height=360, url=&#39;https://i.ytimg.com/vi/DaH4W1rY9us/hqdefault.jpg&#39;, width=480), maxres=Row(height=720, url=&#39;https://i.ytimg.com/vi/DaH4W1rY9us/maxresdefault.jpg&#39;, width=1280), medium=Row(height=180, url=&#39;https://i.ytimg.com/vi/DaH4W1rY9us/mqdefault.jpg&#39;, width=320), standard=Row(height=480, url=&#39;https://i.ytimg.com/vi/DaH4W1rY9us/sddefault.jpg&#39;, width=640)), title=&#39;Ben Howard - Oats In The Water&#39;), statistics=Row(commentCount=&#39;5303&#39;, dislikeCount=&#39;1784&#39;, favoriteCount=&#39;0&#39;, likeCount=&#39;136033&#39;, viewCount=&#39;16488714&#39;), status=Row(embeddable=True, license=&#39;youtube&#39;, madeForKids=False, privacyStatus=&#39;public&#39;, publicStatsViewable=True, uploadStatus=&#39;processed&#39;), topicDetails=Row(relevantTopicIds=[&#39;/m/04rlf&#39;, &#39;/m/064t9&#39;, &#39;/m/05rwpb&#39;, &#39;/m/04rlf&#39;, &#39;/m/064t9&#39;, &#39;/m/05rwpb&#39;], topicCategories=[&#39;https://en.wikipedia.org/wiki/Pop_music&#39;, &#39;https://en.wikipedia.org/wiki/Independent_music&#39;, &#39;https://en.wikipedia.org/wiki/Music&#39;])), Row(contentDetails=Row(caption=&#39;false&#39;, contentRating=Row(ytRating=None), definition=&#39;hd&#39;, dimension=&#39;2d&#39;, duration=&#39;PT10M16S&#39;, licensedContent=False, projection=&#39;rectangular&#39;, regionRestriction=None), etag=&#39;n3_92hnxJ1-q6FV55bjQVus1hr4&#39;, id=&#39;PAAUqBghiVo&#39;, kind=&#39;youtube#video&#39;, snippet=Row(categoryId=&#39;10&#39;, channelId=&#39;UCDHvlud7Hf86FxFsogrBcMg&#39;, channelTitle=&#39;Resident Advisor&#39;, defaultAudioLanguage=None, defaultLanguage=None, description=&#39;Subscribe to the RA YouTube channel: http://bit.ly/1x7PeGy\\n\\nVisit the feature page: http://www.residentadvisor.net/feature.aspx?1959\\n\\nLast week Nicolas Jaar and Dave Harrington released Psychic, their debut album as Darkside. &#34;Darkside is utterly sincere,&#34; said Tony Naylor in his RA review, &#34;and at its most fractured and psychedelic, Harrington\\&#39;s guitar lends a smoky, mysterious dimension to Jaar\\&#39;s slinky electronica.&#34; &#34;Paper Trails&#34; is the record\\&#39;s dazzling midpoint, and in the first RA Sessions film, recorded at RA\\&#39;s HQ, Jaar and Harrington sank a couple of whiskeys and subtly teased the track out to twice its original length.\\n\\n\\nCredits:\\nProducer &amp; Director - Patrick Nation\\nCamera - Patrick Nation, Luke Ogden\\nSound Engineers - Vance Galloway, Rich Cufley (Sound Services)\\nProduction Assistant - Debbie Butts&#39;, liveBroadcastContent=&#39;none&#39;, localized=Row(description=&#39;Subscribe to the RA YouTube channel: http://bit.ly/1x7PeGy\\n\\nVisit the feature page: http://www.residentadvisor.net/feature.aspx?1959\\n\\nLast week Nicolas Jaar and Dave Harrington released Psychic, their debut album as Darkside. &#34;Darkside is utterly sincere,&#34; said Tony Naylor in his RA review, &#34;and at its most fractured and psychedelic, Harrington\\&#39;s guitar lends a smoky, mysterious dimension to Jaar\\&#39;s slinky electronica.&#34; &#34;Paper Trails&#34; is the record\\&#39;s dazzling midpoint, and in the first RA Sessions film, recorded at RA\\&#39;s HQ, Jaar and Harrington sank a couple of whiskeys and subtly teased the track out to twice its original length.\\n\\n\\nCredits:\\nProducer &amp; Director - Patrick Nation\\nCamera - Patrick Nation, Luke Ogden\\nSound Engineers - Vance Galloway, Rich Cufley (Sound Services)\\nProduction Assistant - Debbie Butts&#39;, title=&#39;RA Sessions: DARKSIDE - Paper Trails&#39;), publishedAt=&#39;2013-10-15T09:30:25Z&#39;, tags=[&#39;Resident Advisor (Website)&#39;, &#39;RA&#39;, &#39;darkside&#39;, &#39;psychic&#39;, &#39;paper trails&#39;, &#39;Nicolas Jaar (Musical Artist)&#39;, &#39;dave harrington&#39;, &#39;session&#39;, &#39;live session&#39;, &#39;live music&#39;, &#39;electronic music&#39;, &#39;Live&#39;, &#39;EDM&#39;, &#39;guitar&#39;, &#39;Wurlitzer Electric Piano (Product Line)&#39;, &#39;wurlitzer&#39;, &#39;Performance (Project)&#39;, &#39;Hardware&#39;, &#39;Liveset&#39;, &#39;Analog&#39;, &#39;Resident Advisor&#39;, &#39;Nico Jaar&#39;, &#39;Nicolas Jaar&#39;, &#39;Nicholas&#39;, &#39;Jaar&#39;, &#39;Performance&#39;, &#39;Paper Trail&#39;, &#39;DJ&#39;, &#39;Music&#39;], thumbnails=Row(default=Row(height=90, url=&#39;https://i.ytimg.com/vi/PAAUqBghiVo/default.jpg&#39;, width=120), high=Row(height=360, url=&#39;https://i.ytimg.com/vi/PAAUqBghiVo/hqdefault.jpg&#39;, width=480), maxres=Row(height=720, url=&#39;https://i.ytimg.com/vi/PAAUqBghiVo/maxresdefault.jpg&#39;, width=1280), medium=Row(height=180, url=&#39;https://i.ytimg.com/vi/PAAUqBghiVo/mqdefault.jpg&#39;, width=320), standard=Row(height=480, url=&#39;https://i.ytimg.com/vi/PAAUqBghiVo/sddefault.jpg&#39;, width=640)), title=&#39;RA Sessions: DARKSIDE - Paper Trails&#39;), statistics=Row(commentCount=&#39;883&#39;, dislikeCount=&#39;445&#39;, favoriteCount=&#39;0&#39;, likeCount=&#39;37193&#39;, viewCount=&#39;3381880&#39;), status=Row(embeddable=True, license=&#39;youtube&#39;, madeForKids=False, privacyStatus=&#39;public&#39;, publicStatsViewable=True, uploadStatus=&#39;processed&#39;), topicDetails=Row(relevantTopicIds=[&#39;/m/04rlf&#39;, &#39;/m/02lkt&#39;, &#39;/m/02lkt&#39;, &#39;/m/04rlf&#39;], topicCategories=[&#39;https://en.wikipedia.org/wiki/Electronic_music&#39;, &#39;https://en.wikipedia.org/wiki/Music&#39;])), Row(contentDetails=Row(caption=&#39;false&#39;, contentRating=Row(ytRating=None), definition=&#39;sd&#39;, dimension=&#39;2d&#39;, duration=&#39;PT7M59S&#39;, licensedContent=False, projection=&#39;rectangular&#39;, regionRestriction=None), etag=&#39;pAUuiD_-jONqms5j_vL0RHpqSf0&#39;, id=&#39;7CkBU80AsVg&#39;, kind=&#39;youtube#video&#39;, snippet=Row(categoryId=&#39;10&#39;, channelId=&#39;UCr7vKEGOLRCf4ivVzUcK6dw&#39;, channelTitle=&#39;Matheus Castilho&#39;, defaultAudioLanguage=None, defaultLanguage=None, description=&#34;Dusty Kid&#39;s America.\\r\\n\\r\\nDirected by @mattcastilho\\r\\nwww.mattcastilho.com&#34;, liveBroadcastContent=&#39;none&#39;, localized=Row(description=&#34;Dusty Kid&#39;s America.\\r\\n\\r\\nDirected by @mattcastilho\\r\\nwww.mattcastilho.com&#34;, title=&#39;Dusty Kid - America&#39;), publishedAt=&#39;2010-12-18T19:19:36Z&#39;, tags=[&#39;dusty kid america&#39;, &#39;tiesto&#39;, &#39;armin&#39;, &#39;van&#39;, &#39;buuren&#39;, &#39;animals&#39;, &#39;the&#39;, &#39;underground&#39;, &#39;progressive&#39;, &#39;elctro&#39;, &#39;house&#39;, &#39;electronic&#39;, &#39;music&#39;, &#39;paul&#39;, &#39;dyk&#39;, &#39;adam&#39;, &#39;deadmau5&#39;], thumbnails=Row(default=Row(height=90, url=&#39;https://i.ytimg.com/vi/7CkBU80AsVg/default.jpg&#39;, width=120), high=Row(height=360, url=&#39;https://i.ytimg.com/vi/7CkBU80AsVg/hqdefault.jpg&#39;, width=480), maxres=None, medium=Row(height=180, url=&#39;https://i.ytimg.com/vi/7CkBU80AsVg/mqdefault.jpg&#39;, width=320), standard=None), title=&#39;Dusty Kid - America&#39;), statistics=Row(commentCount=&#39;10&#39;, dislikeCount=&#39;6&#39;, favoriteCount=&#39;0&#39;, likeCount=&#39;183&#39;, viewCount=&#39;29520&#39;), status=Row(embeddable=True, license=&#39;youtube&#39;, madeForKids=False, privacyStatus=&#39;public&#39;, publicStatsViewable=True, uploadStatus=&#39;processed&#39;), topicDetails=Row(relevantTopicIds=[&#39;/m/04rlf&#39;, &#39;/m/04rlf&#39;], topicCategories=[&#39;https://en.wikipedia.org/wiki/Music&#39;])), Row(contentDetails=Row(caption=&#39;false&#39;, contentRating=Row(ytRating=None), definition=&#39;sd&#39;, dimension=&#39;2d&#39;, duration=&#39;PT3M34S&#39;, licensedContent=False, projection=&#39;rectangular&#39;, regionRestriction=Row(allowed=None, blocked=[&#39;DK&#39;])), etag=&#39;E-5a5WdsyWwTxNawfrjD9PQaSAQ&#39;, id=&#39;lddHsCBdQu8&#39;, kind=&#39;youtube#video&#39;, snippet=Row(categoryId=&#39;10&#39;, channelId=&#39;UCX_fIhJAag_NvUN7I1dwjBg&#39;, channelTitle=&#39;MOMOMOYOUTH&#39;, defaultAudioLanguage=None, defaultLanguage=None, description=&#34;Official Audio | MØ - Waste of Time\\n\\n\\nSubscribe to the MØ YouTube Channel:  http://smarturl.it/MOytb\\n\\n\\n&#39;No Mythologies To Follow&#39; is out now!\\n\\niTunes: http://smarturl.it/MO_NMTF_digi \\nAmazon: http://smarturl.it/MO_NMTF_AMZ \\nOfficial Store: http://smarturl.it/MOstore \\nVinyl: http://smarturl.it/MO_NMTF_RT \\n\\nSign up to my official mailing list http://smarturl.it/MOmail \\n\\nFollow me here:\\nhttp://open.spotify.com/artist/0bdfiayQAKewqEvaU6rXCv \\nhttp://www.facebook.com/MOMOMOYOUTH \\nhttp://twitter.com/MOMOMOYOUTH \\nhttp://www.momomoyouth.com/ \\nhttp://www.youtube.com/user/MOMOMOYOUTH\\n\\n#MØ\\n#WasteOfTime&#34;, liveBroadcastContent=&#39;none&#39;, localized=Row(description=&#34;Official Audio | MØ - Waste of Time\\n\\n\\nSubscribe to the MØ YouTube Channel:  http://smarturl.it/MOytb\\n\\n\\n&#39;No Mythologies To Follow&#39; is out now!\\n\\niTunes: http://smarturl.it/MO_NMTF_digi \\nAmazon: http://smarturl.it/MO_NMTF_AMZ \\nOfficial Store: http://smarturl.it/MOstore \\nVinyl: http://smarturl.it/MO_NMTF_RT \\n\\nSign up to my official mailing list http://smarturl.it/MOmail \\n\\nFollow me here:\\nhttp://open.spotify.com/artist/0bdfiayQAKewqEvaU6rXCv \\nhttp://www.facebook.com/MOMOMOYOUTH \\nhttp://twitter.com/MOMOMOYOUTH \\nhttp://www.momomoyouth.com/ \\nhttp://www.youtube.com/user/MOMOMOYOUTH\\n\\n#MØ\\n#WasteOfTime&#34;, title=&#39;MØ - Waste Of Time (Official Audio)&#39;), publishedAt=&#39;2013-05-15T08:19:20Z&#39;, tags=[&#39;MØ&#39;, &#39;momomoyouth&#39;, &#39;mo&#39;, &#39;mø&#39;, &#39;mø waste of time&#39;, &#39;waste of time&#39;, &#39;moe&#39;, &#39;mo waste of time&#39;], thumbnails=Row(default=Row(height=90, url=&#39;https://i.ytimg.com/vi/lddHsCBdQu8/default.jpg&#39;, width=120), high=Row(height=360, url=&#39;https://i.ytimg.com/vi/lddHsCBdQu8/hqdefault.jpg&#39;, width=480), maxres=None, medium=Row(height=180, url=&#39;https://i.ytimg.com/vi/lddHsCBdQu8/mqdefault.jpg&#39;, width=320), standard=Row(height=480, url=&#39;https://i.ytimg.com/vi/lddHsCBdQu8/sddefault.jpg&#39;, width=640)), title=&#39;MØ - Waste Of Time (Official Audio)&#39;), statistics=Row(commentCount=&#39;260&#39;, dislikeCount=&#39;96&#39;, favoriteCount=&#39;0&#39;, likeCount=&#39;6594&#39;, viewCount=&#39;750787&#39;), status=Row(embeddable=True, license=&#39;youtube&#39;, madeForKids=False, privacyStatus=&#39;public&#39;, publicStatsViewable=True, uploadStatus=&#39;processed&#39;), topicDetails=Row(relevantTopicIds=[&#39;/m/04rlf&#39;, &#39;/m/064t9&#39;, &#39;/m/04rlf&#39;, &#39;/m/064t9&#39;], topicCategories=[&#39;https://en.wikipedia.org/wiki/Pop_music&#39;, &#39;https://en.wikipedia.org/wiki/Music&#39;])), Row(contentDetails=Row(caption=&#39;false&#39;, contentRating=Row(ytRating=None), definition=&#39;hd&#39;, dimension=&#39;2d&#39;, duration=&#39;PT3M58S&#39;, licensedContent=True, projection=&#39;rectangular&#39;, regionRestriction=Row(allowed=None, blocked=[&#39;DK&#39;])), etag=&#39;vcGdlF2KBcqDNB0IQn3cSa6-wVE&#39;, id=&#39;mhsf7K6h7SY&#39;, kind=&#39;youtube#video&#39;, snippet=Row(categoryId=&#39;24&#39;, channelId=&#39;UCJ6td3C9QlPO9O_J5dF4ZzA&#39;, channelTitle=&#39;Monstercat: Uncaged&#39;, defaultAudioLanguage=None, defaultLanguage=None, description=&#34;Nerds by Nature 2016 Spring Tour on Sale NOW at http://www.PegboardNerds.com\\n---\\n▼ This song is featured on Monstercat 016 - Expedition. \\nGet all 30 tracks plus 2 album mixes by downloading it here:\\n\\nSupport on iTunes: http://monster.cat/1fsmpQy\\nSupport on Bandcamp: http://monster.cat/1hpp7oo\\nSupport on Amazon: http://monster.cat/1dAiMCc\\nSupport on Google Play: http://monster.cat/1dAm7RR\\nListen on Spotify: http://monster.cat/1hzwp7R\\n----\\nArrival Album Mix: http://monster.cat/1hqcv0b\\n\\nTo support the single only:\\n\\nPlease consider supporting on Beatport: http://monster.cat/BasslineKickin\\nListen on SoundCloud: \\nhttp://monster.cat/1hrfghr\\n\\nWe&#39;re looking to make an impact with this release and show that it is possible to have something different top the charts. Your Beatport purchase will help make the difference.\\n\\n▼ Follow Monstercat\\nSnapchat: Monstercat\\nYouTube: http://www.youtube.com/Monstercat\\nSpotify: http://monster.cat/1hGrCWk\\nFacebook: http://facebook.com/Monstercat\\nTwitter: http://twitter.com/Monstercat\\nInstagram: http://instagram.com/monstercat\\nSoundCloud: http://soundcloud.com/Monstercat\\nGoogle+: https://plus.google.com/+Monstercat\\n\\n▼ Follow Pegboard Nerds\\nFacebook: http://facebook.com/PegboardNerds\\nTwitter: http://twitter.com/PegboardNerds\\nSoundCloud: http://soundcloud.com/pegboardnerds\\nYouTube: http://youtube.com/PegboardNerds\\n\\n▼ Want some new Merchandise?\\nhttp://monster.cat/MonstercatShop\\n\\nMonstercat 017 - Ascension is now available! Support your favourite rising Monstercat artists with a purchase here: http://www.monstercat.com/ascension/ /\\n-----------------------------------\\nWant to use this song in your own videos? Please go to: http://monster.cat/YouTube_License&#34;, liveBroadcastContent=&#39;none&#39;, localized=Row(description=&#34;Nerds by Nature 2016 Spring Tour on Sale NOW at http://www.PegboardNerds.com\\n---\\n▼ This song is featured on Monstercat 016 - Expedition. \\nGet all 30 tracks plus 2 album mixes by downloading it here:\\n\\nSupport on iTunes: http://monster.cat/1fsmpQy\\nSupport on Bandcamp: http://monster.cat/1hpp7oo\\nSupport on Amazon: http://monster.cat/1dAiMCc\\nSupport on Google Play: http://monster.cat/1dAm7RR\\nListen on Spotify: http://monster.cat/1hzwp7R\\n----\\nArrival Album Mix: http://monster.cat/1hqcv0b\\n\\nTo support the single only:\\n\\nPlease consider supporting on Beatport: http://monster.cat/BasslineKickin\\nListen on SoundCloud: \\nhttp://monster.cat/1hrfghr\\n\\nWe&#39;re looking to make an impact with this release and show that it is possible to have something different top the charts. Your Beatport purchase will help make the difference.\\n\\n▼ Follow Monstercat\\nSnapchat: Monstercat\\nYouTube: http://www.youtube.com/Monstercat\\nSpotify: http://monster.cat/1hGrCWk\\nFacebook: http://facebook.com/Monstercat\\nTwitter: http://twitter.com/Monstercat\\nInstagram: http://instagram.com/monstercat\\nSoundCloud: http://soundcloud.com/Monstercat\\nGoogle+: https://plus.google.com/+Monstercat\\n\\n▼ Follow Pegboard Nerds\\nFacebook: http://facebook.com/PegboardNerds\\nTwitter: http://twitter.com/PegboardNerds\\nSoundCloud: http://soundcloud.com/pegboardnerds\\nYouTube: http://youtube.com/PegboardNerds\\n\\n▼ Want some new Merchandise?\\nhttp://monster.cat/MonstercatShop\\n\\nMonstercat 017 - Ascension is now available! Support your favourite rising Monstercat artists with a purchase here: http://www.monstercat.com/ascension/ /\\n-----------------------------------\\nWant to use this song in your own videos? Please go to: http://monster.cat/YouTube_License&#34;, title=&#39;[Electronic] - Pegboard Nerds - Bassline Kickin [Monstercat Release]&#39;), publishedAt=&#39;2014-01-15T18:33:15Z&#39;, tags=[&#39;Pegboard&#39;, &#39;Nerds&#39;, &#39;Bassline&#39;, &#39;Kickin&#39;, &#39;Electronic&#39;, &#39;Dance&#39;, &#39;Monstercat&#39;, &#39;EDM&#39;, &#39;Grey&#39;, &#39;Best Electronic&#39;, &#39;New Electronic&#39;, &#39;Top Electronic&#39;, &#39;Electronic 2013&#39;, &#39;Best EDM&#39;, &#39;New EDM&#39;, &#39;Top EDM&#39;, &#39;EDM 2013&#39;, &#39;Peg Board&#39;, &#39;Nerdz&#39;], thumbnails=Row(default=Row(height=90, url=&#39;https://i.ytimg.com/vi/mhsf7K6h7SY/default.jpg&#39;, width=120), high=Row(height=360, url=&#39;https://i.ytimg.com/vi/mhsf7K6h7SY/hqdefault.jpg&#39;, width=480), maxres=None, medium=Row(height=180, url=&#39;https://i.ytimg.com/vi/mhsf7K6h7SY/mqdefault.jpg&#39;, width=320), standard=Row(height=480, url=&#39;https://i.ytimg.com/vi/mhsf7K6h7SY/sddefault.jpg&#39;, width=640)), title=&#39;[Electronic] - Pegboard Nerds - Bassline Kickin [Monstercat Release]&#39;), statistics=Row(commentCount=&#39;2512&#39;, dislikeCount=&#39;780&#39;, favoriteCount=&#39;0&#39;, likeCount=&#39;22639&#39;, viewCount=&#39;1719694&#39;), status=Row(embeddable=True, license=&#39;youtube&#39;, madeForKids=False, privacyStatus=&#39;public&#39;, publicStatsViewable=True, uploadStatus=&#39;processed&#39;), topicDetails=Row(relevantTopicIds=[&#39;/m/04rlf&#39;, &#39;/m/02lkt&#39;, &#39;/m/04rlf&#39;, &#39;/m/02lkt&#39;], topicCategories=[&#39;https://en.wikipedia.org/wiki/Electronic_music&#39;, &#39;https://en.wikipedia.org/wiki/Music&#39;])), Row(contentDetails=Row(caption=&#39;false&#39;, contentRating=Row(ytRating=None), definition=&#39;sd&#39;, dimension=&#39;2d&#39;, duration=&#39;PT1M7S&#39;, licensedContent=False, projection=&#39;rectangular&#39;, regionRestriction=None), etag=&#39;mR9aCm16XJI1UAXr84FWqw0fExk&#39;, id=&#39;3go6xFb0FrU&#39;, kind=&#39;youtube#video&#39;, snippet=Row(categoryId=&#39;24&#39;, channelId=&#39;UCPoG8-NKfLQ23kmWX2XKDwQ&#39;, channelTitle=&#39;WassupTeam&#39;, defaultAudioLanguage=None, defaultLanguage=None, description=&#39;Triple tribute to:\\r\\n\\r\\n-Rockapella: the great a capella band. http://www.rockapella.com/\\r\\n\\r\\n-Corey Vidal: That dude really rocks !!\\r\\nhttp://www.youtube.com/user/ApprenticeA\\r\\n\\r\\n-Coca-cola: well you know that.\\r\\nhttp://www.coca-cola.com&#39;, liveBroadcastContent=&#39;none&#39;, localized=Row(description=&#39;Triple tribute to:\\r\\n\\r\\n-Rockapella: the great a capella band. http://www.rockapella.com/\\r\\n\\r\\n-Corey Vidal: That dude really rocks !!\\r\\nhttp://www.youtube.com/user/ApprenticeA\\r\\n\\r\\n-Coca-cola: well you know that.\\r\\nhttp://www.coca-cola.com&#39;, title=&#39;Always Coca Cola A cappella&#39;), publishedAt=&#39;2009-10-01T20:53:09Z&#39;, tags=[&#39;coca&#39;, &#39;cola&#39;, &#39;coca-cola&#39;, &#39;song&#39;, &#39;cappella&#39;, &#39;rockappella&#39;, &#39;capella&#39;, &#39;rockapella&#39;, &#39;lip&#39;, &#39;sync&#39;, &#39;tribute&#39;, &#39;corey&#39;, &#39;vidal&#39;], thumbnails=Row(default=Row(height=90, url=&#39;https://i.ytimg.com/vi/3go6xFb0FrU/default.jpg&#39;, width=120), high=Row(height=360, url=&#39;https://i.ytimg.com/vi/3go6xFb0FrU/hqdefault.jpg&#39;, width=480), maxres=None, medium=Row(height=180, url=&#39;https://i.ytimg.com/vi/3go6xFb0FrU/mqdefault.jpg&#39;, width=320), standard=None), title=&#39;Always Coca Cola A cappella&#39;), statistics=Row(commentCount=&#39;18&#39;, dislikeCount=&#39;11&#39;, favoriteCount=&#39;0&#39;, likeCount=&#39;185&#39;, viewCount=&#39;30457&#39;), status=Row(embeddable=True, license=&#39;youtube&#39;, madeForKids=False, privacyStatus=&#39;public&#39;, publicStatsViewable=True, uploadStatus=&#39;processed&#39;), topicDetails=Row(relevantTopicIds=[&#39;/m/04rlf&#39;, &#39;/m/04rlf&#39;], topicCategories=[&#39;https://en.wikipedia.org/wiki/Music&#39;])), Row(contentDetails=Row(caption=&#39;false&#39;, contentRating=Row(ytRating=None), definition=&#39;sd&#39;, dimension=&#39;2d&#39;, duration=&#39;PT3M21S&#39;, licensedContent=False, projection=&#39;rectangular&#39;, regionRestriction=Row(allowed=None, blocked=[&#39;DK&#39;])), etag=&#39;ZrB9EOpryQEMx5gmOX52guLSzGw&#39;, id=&#39;L4OZxO1TnuE&#39;, kind=&#39;youtube#video&#39;, snippet=Row(categoryId=&#39;10&#39;, channelId=&#39;UCdq-B0LX11PFyGRVQ9nn9tA&#39;, channelTitle=&#39;Joana F.&#39;, defaultAudioLanguage=None, defaultLanguage=None, description=&#39;&#39;, liveBroadcastContent=&#39;none&#39;, localized=Row(description=&#39;&#39;, title=&#39;Dom La Nena  03 Vento&#39;), publishedAt=&#39;2013-05-27T08:42:35Z&#39;, tags=None, thumbnails=Row(default=Row(height=90, url=&#39;https://i.ytimg.com/vi/L4OZxO1TnuE/default.jpg&#39;, width=120), high=Row(height=360, url=&#39;https://i.ytimg.com/vi/L4OZxO1TnuE/hqdefault.jpg&#39;, width=480), maxres=None, medium=Row(height=180, url=&#39;https://i.ytimg.com/vi/L4OZxO1TnuE/mqdefault.jpg&#39;, width=320), standard=Row(height=480, url=&#39;https://i.ytimg.com/vi/L4OZxO1TnuE/sddefault.jpg&#39;, width=640)), title=&#39;Dom La Nena  03 Vento&#39;), statistics=Row(commentCount=&#39;1&#39;, dislikeCount=&#39;1&#39;, favoriteCount=&#39;0&#39;, likeCount=&#39;63&#39;, viewCount=&#39;9203&#39;), status=Row(embeddable=True, license=&#39;youtube&#39;, madeForKids=False, privacyStatus=&#39;public&#39;, publicStatsViewable=True, uploadStatus=&#39;processed&#39;), topicDetails=Row(relevantTopicIds=[&#39;/m/04rlf&#39;, &#39;/m/04rlf&#39;], topicCategories=[&#39;https://en.wikipedia.org/wiki/Music&#39;])), Row(contentDetails=Row(caption=&#39;false&#39;, contentRating=Row(ytRating=None), definition=&#39;sd&#39;, dimension=&#39;2d&#39;, duration=&#39;PT5M28S&#39;, licensedContent=False, projection=&#39;rectangular&#39;, regionRestriction=Row(allowed=None, blocked=[&#39;DK&#39;])), etag=&#39;tzRWzvwGPgyf9XYkQQ6HZd9fpa4&#39;, id=&#39;AWmjDPfGIPs&#39;, kind=&#39;youtube#video&#39;, snippet=Row(categoryId=&#39;10&#39;, channelId=&#39;UC2GK1jS6xrYTh4Xo9qsYSgQ&#39;, channelTitle=&#39;Gazzz696&#39;, defaultAudioLanguage=None, defaultLanguage=None, description=&#39;Lazare Hoche - Luv Thang : Label - LH Edits : Released - 7th May 2012 : http://www.juno.co.uk/ppps/products/454244-01.htm&#39;, liveBroadcastContent=&#39;none&#39;, localized=Row(description=&#39;Lazare Hoche - Luv Thang : Label - LH Edits : Released - 7th May 2012 : http://www.juno.co.uk/ppps/products/454244-01.htm&#39;, title=&#39;Lazare Hoche - Luv Thang (LH Edits Limited Sampler)&#39;), publishedAt=&#39;2012-05-02T18:05:17Z&#39;, tags=[&#39;disco&#39;, &#39;edits&#39;], thumbnails=Row(default=Row(height=90, url=&#39;https://i.ytimg.com/vi/AWmjDPfGIPs/default.jpg&#39;, width=120), high=Row(height=360, url=&#39;https://i.ytimg.com/vi/AWmjDPfGIPs/hqdefault.jpg&#39;, width=480), maxres=None, medium=Row(height=180, url=&#39;https://i.ytimg.com/vi/AWmjDPfGIPs/mqdefault.jpg&#39;, width=320), standard=Row(height=480, url=&#39;https://i.ytimg.com/vi/AWmjDPfGIPs/sddefault.jpg&#39;, width=640)), title=&#39;Lazare Hoche - Luv Thang (LH Edits Limited Sampler)&#39;), statistics=Row(commentCount=&#39;13&#39;, dislikeCount=&#39;18&#39;, favoriteCount=&#39;0&#39;, likeCount=&#39;1141&#39;, viewCount=&#39;92552&#39;), status=Row(embeddable=True, license=&#39;youtube&#39;, madeForKids=False, privacyStatus=&#39;public&#39;, publicStatsViewable=True, uploadStatus=&#39;processed&#39;), topicDetails=Row(relevantTopicIds=[&#39;/m/04rlf&#39;, &#39;/m/04rlf&#39;], topicCategories=[&#39;https://en.wikipedia.org/wiki/Music&#39;])), Row(contentDetails=Row(caption=&#39;false&#39;, contentRating=Row(ytRating=None), definition=&#39;sd&#39;, dimension=&#39;2d&#39;, duration=&#39;PT4M44S&#39;, licensedContent=False, projection=&#39;rectangular&#39;, regionRestriction=None), etag=&#39;hKjOpibmE2CzVFrGIOB-xFdUirI&#39;, id=&#39;licyt5FQ0cU&#39;, kind=&#39;youtube#video&#39;, snippet=Row(categoryId=&#39;10&#39;, channelId=&#39;UCTvdoLDE9nGiJ4Y_Mjn4Nrw&#39;, channelTitle=&#39;zpobric&#39;, defaultAudioLanguage=None, defaultLanguage=None, description=&#34;A quickly made video for &#39;The Other Side of Mt. Heart Attack&#39; by Liars from the record &#39;Drums Not Dead.&#39; First attempt at a video.&#34;, liveBroadcastContent=&#39;none&#39;, localized=Row(description=&#34;A quickly made video for &#39;The Other Side of Mt. Heart Attack&#39; by Liars from the record &#39;Drums Not Dead.&#39; First attempt at a video.&#34;, title=&#39;Liars - The Other Side of Mt. Heart Attack&#39;), publishedAt=&#39;2009-10-02T03:14:44Z&#39;, tags=[&#39;Liars&#39;, &#39;Mt. Heart Attack&#39;, &#39;Drums Not Dead&#39;, &#39;Mountain&#39;], thumbnails=Row(default=Row(height=90, url=&#39;https://i.ytimg.com/vi/licyt5FQ0cU/default.jpg&#39;, width=120), high=Row(height=360, url=&#39;https://i.ytimg.com/vi/licyt5FQ0cU/hqdefault.jpg&#39;, width=480), maxres=None, medium=Row(height=180, url=&#39;https://i.ytimg.com/vi/licyt5FQ0cU/mqdefault.jpg&#39;, width=320), standard=None), title=&#39;Liars - The Other Side of Mt. Heart Attack&#39;), statistics=Row(commentCount=&#39;91&#39;, dislikeCount=&#39;33&#39;, favoriteCount=&#39;0&#39;, likeCount=&#39;1578&#39;, viewCount=&#39;180795&#39;), status=Row(embeddable=True, license=&#39;youtube&#39;, madeForKids=False, privacyStatus=&#39;public&#39;, publicStatsViewable=True, uploadStatus=&#39;processed&#39;), topicDetails=Row(relevantTopicIds=[&#39;/m/04rlf&#39;, &#39;/m/06by7&#39;, &#39;/m/05rwpb&#39;, &#39;/m/064t9&#39;, &#39;/m/04rlf&#39;, &#39;/m/06by7&#39;, &#39;/m/064t9&#39;], topicCategories=[&#39;https://en.wikipedia.org/wiki/Rock_music&#39;, &#39;https://en.wikipedia.org/wiki/Pop_music&#39;, &#39;https://en.wikipedia.org/wiki/Independent_music&#39;, &#39;https://en.wikipedia.org/wiki/Music&#39;])), Row(contentDetails=Row(caption=&#39;false&#39;, contentRating=Row(ytRating=None), definition=&#39;sd&#39;, dimension=&#39;2d&#39;, duration=&#39;PT4M12S&#39;, licensedContent=False, projection=&#39;rectangular&#39;, regionRestriction=Row(allowed=None, blocked=[&#39;SY&#39;, &#39;SX&#39;, &#39;SZ&#39;, &#39;SS&#39;, &#39;SR&#39;, &#39;ST&#39;, &#39;SV&#39;, &#39;SI&#39;, &#39;SH&#39;, &#39;SK&#39;, &#39;SJ&#39;, &#39;SM&#39;, &#39;SL&#39;, &#39;SO&#39;, &#39;SN&#39;, &#39;SA&#39;, &#39;SC&#39;, &#39;SB&#39;, &#39;SE&#39;, &#39;SD&#39;, &#39;SG&#39;, &#39;CI&#39;, &#39;CH&#39;, &#39;CK&#39;, &#39;KR&#39;, &#39;CM&#39;, &#39;CL&#39;, &#39;CO&#39;, &#39;CN&#39;, &#39;CA&#39;, &#39;PL&#39;, &#39;CC&#39;, &#39;KZ&#39;, &#39;CD&#39;, &#39;CG&#39;, &#39;CF&#39;, &#39;CY&#39;, &#39;CX&#39;, &#39;CZ&#39;, &#39;KE&#39;, &#39;KG&#39;, &#39;KI&#39;, &#39;KH&#39;, &#39;CR&#39;, &#39;CU&#39;, &#39;CW&#39;, &#39;CV&#39;, &#39;PR&#39;, &#39;PS&#39;, &#39;PT&#39;, &#39;HM&#39;, &#39;HN&#39;, &#39;PW&#39;, &#39;PY&#39;, &#39;PA&#39;, &#39;PE&#39;, &#39;PF&#39;, &#39;PG&#39;, &#39;PH&#39;, &#39;HR&#39;, &#39;PK&#39;, &#39;HT&#39;, &#39;HU&#39;, &#39;PN&#39;, &#39;TW&#39;, &#39;UM&#39;, &#39;IO&#39;, &#39;IN&#39;, &#39;IM&#39;, &#39;IL&#39;, &#39;ZW&#39;, &#39;IE&#39;, &#39;ID&#39;, &#39;QA&#39;, &#39;IS&#39;, &#39;IR&#39;, &#39;IQ&#39;, &#39;IT&#39;, &#39;TL&#39;, &#39;TM&#39;, &#39;TN&#39;, &#39;TO&#39;, &#39;AG&#39;, &#39;AF&#39;, &#39;AE&#39;, &#39;AD&#39;, &#39;TD&#39;, &#39;AI&#39;, &#39;TG&#39;, &#39;AO&#39;, &#39;AM&#39;, &#39;TC&#39;, &#39;AS&#39;, &#39;AR&#39;, &#39;AQ&#39;, &#39;AW&#39;, &#39;AU&#39;, &#39;AT&#39;, &#39;TT&#39;, &#39;AZ&#39;, &#39;TV&#39;, &#39;AX&#39;, &#39;TR&#39;, &#39;NC&#39;, &#39;NA&#39;, &#39;NF&#39;, &#39;NG&#39;, &#39;NE&#39;, &#39;NI&#39;, &#39;NO&#39;, &#39;NL&#39;, &#39;NR&#39;, &#39;NP&#39;, &#39;VI&#39;, &#39;NU&#39;, &#39;NZ&#39;, &#39;VN&#39;, &#39;KW&#39;, &#39;FR&#39;, &#39;ZA&#39;, &#39;YT&#39;, &#39;FJ&#39;, &#39;FK&#39;, &#39;KY&#39;, &#39;FI&#39;, &#39;FO&#39;, &#39;FM&#39;, &#39;YE&#39;, &#39;OM&#39;, &#39;VA&#39;, &#39;WS&#39;, &#39;VG&#39;, &#39;WF&#39;, &#39;UG&#39;, &#39;VE&#39;, &#39;GE&#39;, &#39;GD&#39;, &#39;GG&#39;, &#39;GF&#39;, &#39;GA&#39;, &#39;GB&#39;, &#39;GM&#39;, &#39;GL&#39;, &#39;TK&#39;, &#39;ZM&#39;, &#39;GI&#39;, &#39;GH&#39;, &#39;GU&#39;, &#39;GT&#39;, &#39;GW&#39;, &#39;VC&#39;, &#39;GQ&#39;, &#39;GP&#39;, &#39;GS&#39;, &#39;GR&#39;, &#39;GY&#39;, &#39;PM&#39;, &#39;LA&#39;, &#39;LB&#39;, &#39;LC&#39;, &#39;LI&#39;, &#39;LK&#39;, &#39;LT&#39;, &#39;LU&#39;, &#39;LV&#39;, &#39;LR&#39;, &#39;LS&#39;, &#39;LY&#39;, &#39;JP&#39;, &#39;DZ&#39;, &#39;VU&#39;, &#39;KM&#39;, &#39;GN&#39;, &#39;DM&#39;, &#39;DO&#39;, &#39;DJ&#39;, &#39;DK&#39;, &#39;DE&#39;, &#39;KN&#39;, &#39;MG&#39;, &#39;MF&#39;, &#39;ME&#39;, &#39;MD&#39;, &#39;MC&#39;, &#39;MA&#39;, &#39;MO&#39;, &#39;MN&#39;, &#39;MM&#39;, &#39;ML&#39;, &#39;MK&#39;, &#39;US&#39;, &#39;MH&#39;, &#39;MW&#39;, &#39;MV&#39;, &#39;MU&#39;, &#39;MT&#39;, &#39;MS&#39;, &#39;MR&#39;, &#39;MQ&#39;, &#39;MP&#39;, &#39;BA&#39;, &#39;MZ&#39;, &#39;MY&#39;, &#39;MX&#39;, &#39;HK&#39;, &#39;TF&#39;, &#39;ET&#39;, &#39;ES&#39;, &#39;ER&#39;, &#39;KP&#39;, &#39;EH&#39;, &#39;EG&#39;, &#39;EE&#39;, &#39;EC&#39;, &#39;RW&#39;, &#39;RU&#39;, &#39;RS&#39;, &#39;RO&#39;, &#39;JO&#39;, &#39;TH&#39;, &#39;TZ&#39;, &#39;RE&#39;, &#39;BN&#39;, &#39;BO&#39;, &#39;BL&#39;, &#39;BM&#39;, &#39;BJ&#39;, &#39;TJ&#39;, &#39;BH&#39;, &#39;BI&#39;, &#39;BF&#39;, &#39;BG&#39;, &#39;BD&#39;, &#39;BE&#39;, &#39;BB&#39;, &#39;UA&#39;, &#39;AL&#39;, &#39;JE&#39;, &#39;BZ&#39;, &#39;UZ&#39;, &#39;UY&#39;, &#39;BY&#39;, &#39;BV&#39;, &#39;BW&#39;, &#39;BT&#39;, &#39;JM&#39;, &#39;BR&#39;, &#39;BS&#39;, &#39;BQ&#39;])), etag=&#39;2Ur8H6HY8PtTkKlmgqbKgqmDx2E&#39;, id=&#39;88tsEjceu78&#39;, kind=&#39;youtube#video&#39;, snippet=Row(categoryId=&#39;10&#39;, channelId=&#39;UCmMstRn9yTFPjwAi20ImULA&#39;, channelTitle=&#39;mony1&#39;, defaultAudioLanguage=None, defaultLanguage=None, description=&#39;video&#39;, liveBroadcastContent=&#39;none&#39;, localized=Row(description=&#39;video&#39;, title=&#34;NTM - That&#39;s my people&#34;), publishedAt=&#39;2006-01-13T09:54:37Z&#39;, tags=[&#39;ntm&#39;, &#39;video&#39;], thumbnails=Row(default=Row(height=90, url=&#39;https://i.ytimg.com/vi/88tsEjceu78/default.jpg&#39;, width=120), high=Row(height=360, url=&#39;https://i.ytimg.com/vi/88tsEjceu78/hqdefault.jpg&#39;, width=480), maxres=None, medium=Row(height=180, url=&#39;https://i.ytimg.com/vi/88tsEjceu78/mqdefault.jpg&#39;, width=320), standard=None), title=&#34;NTM - That&#39;s my people&#34;), statistics=Row(commentCount=&#39;1706&#39;, dislikeCount=&#39;264&#39;, favoriteCount=&#39;0&#39;, likeCount=&#39;12198&#39;, viewCount=&#39;4762994&#39;), status=Row(embeddable=True, license=&#39;youtube&#39;, madeForKids=False, privacyStatus=&#39;public&#39;, publicStatsViewable=True, uploadStatus=&#39;processed&#39;), topicDetails=Row(relevantTopicIds=[&#39;/m/04rlf&#39;, &#39;/m/0glt670&#39;, &#39;/m/04rlf&#39;, &#39;/m/0glt670&#39;], topicCategories=[&#39;https://en.wikipedia.org/wiki/Hip_hop_music&#39;, &#39;https://en.wikipedia.org/wiki/Music&#39;])), Row(contentDetails=Row(caption=&#39;true&#39;, contentRating=Row(ytRating=None), definition=&#39;sd&#39;, dimension=&#39;2d&#39;, duration=&#39;PT6M2S&#39;, licensedContent=False, projection=&#39;rectangular&#39;, regionRestriction=Row(allowed=None, blocked=[&#39;DK&#39;])), etag=&#39;QNDBQuIGxfR66S_HP_zSib1h4GQ&#39;, id=&#39;hPyzYcrVU-k&#39;, kind=&#39;youtube#video&#39;, snippet=Row(categoryId=&#39;1&#39;, channelId=&#39;UC5waXguxTDV09TNHkjhHAuQ&#39;, channelTitle=&#39;Mudar Noufal&#39;, defaultAudioLanguage=&#39;fr-FR&#39;, defaultLanguage=None, description=&#39;Footage is from Jean Eustache\\&#39;s cult movie &#34;La maman et la putain&#34;. My favorite movie, so it was the best Avid Xpress training project! \\n\\nFilm ecrit et realise par Jean Eustache (1973). La musique est de Diabologum, sur leur album &#34;#3&#34; (1996).\\n\\nRéduire un tel film de 3h40 à 6 minutes est probablement un crime, mais je m\\&#39;estime pardonné si le clip encourage 6 personnes à découvrir l\\&#39;oeuvre d\\&#39;Eustache! Montage réalisé sous Avid Xpress Pro, à partir d\\&#39;une version DivX du film (n\\&#39;étant pas disponible en DVD). [juin 2004]&#39;, liveBroadcastContent=&#39;none&#39;, localized=Row(description=&#39;Footage is from Jean Eustache\\&#39;s cult movie &#34;La maman et la putain&#34;. My favorite movie, so it was the best Avid Xpress training project! \\n\\nFilm ecrit et realise par Jean Eustache (1973). La musique est de Diabologum, sur leur album &#34;#3&#34; (1996).\\n\\nRéduire un tel film de 3h40 à 6 minutes est probablement un crime, mais je m\\&#39;estime pardonné si le clip encourage 6 personnes à découvrir l\\&#39;oeuvre d\\&#39;Eustache! Montage réalisé sous Avid Xpress Pro, à partir d\\&#39;une version DivX du film (n\\&#39;étant pas disponible en DVD). [juin 2004]&#39;, title=&#39;La maman et la putain, Diabologum&#39;), publishedAt=&#39;2006-10-14T05:33:19Z&#39;, tags=[&#39;Jean&#39;, &#39;Eustache&#39;, &#39;Diabologum&#39;, &#39;La&#39;, &#39;maman&#39;, &#39;et&#39;, &#39;la&#39;, &#39;putain&#39;, &#39;Françoise&#39;, &#39;Lebrun&#39;, &#39;Jean-Pierre&#39;, &#39;Léaud&#39;], thumbnails=Row(default=Row(height=90, url=&#39;https://i.ytimg.com/vi/hPyzYcrVU-k/default.jpg&#39;, width=120), high=Row(height=360, url=&#39;https://i.ytimg.com/vi/hPyzYcrVU-k/hqdefault.jpg&#39;, width=480), maxres=None, medium=Row(height=180, url=&#39;https://i.ytimg.com/vi/hPyzYcrVU-k/mqdefault.jpg&#39;, width=320), standard=None), title=&#39;La maman et la putain, Diabologum&#39;), statistics=Row(commentCount=&#39;24&#39;, dislikeCount=&#39;19&#39;, favoriteCount=&#39;0&#39;, likeCount=&#39;370&#39;, viewCount=&#39;212823&#39;), status=Row(embeddable=True, license=&#39;youtube&#39;, madeForKids=False, privacyStatus=&#39;public&#39;, publicStatsViewable=True, uploadStatus=&#39;processed&#39;), topicDetails=Row(relevantTopicIds=[&#39;/m/04rlf&#39;, &#39;/m/05rwpb&#39;, &#39;/m/04rlf&#39;, &#39;/m/05rwpb&#39;], topicCategories=[&#39;https://en.wikipedia.org/wiki/Independent_music&#39;, &#39;https://en.wikipedia.org/wiki/Music&#39;])), Row(contentDetails=Row(caption=&#39;false&#39;, contentRating=Row(ytRating=None), definition=&#39;sd&#39;, dimension=&#39;2d&#39;, duration=&#39;PT3M28S&#39;, licensedContent=False, projection=&#39;rectangular&#39;, regionRestriction=None), etag=&#39;jzC_XeC62AQwcfDGL1ZPz-ecCfQ&#39;, id=&#39;6gwbXjHNcwA&#39;, kind=&#39;youtube#video&#39;, snippet=Row(categoryId=&#39;10&#39;, channelId=&#39;UCrkwXyJhnXPBAtG7sxSk2Gw&#39;, channelTitle=&#39;pcindarellie&#39;, defaultAudioLanguage=None, defaultLanguage=None, description=&#39;from Room on Fire&#39;, liveBroadcastContent=&#39;none&#39;, localized=Row(description=&#39;from Room on Fire&#39;, title=&#39;The Strokes - Automatic Stop&#39;), publishedAt=&#39;2007-12-12T00:34:15Z&#39;, tags=[&#39;The&#39;, &#39;Strokes&#39;, &#39;Automatic&#39;, &#39;Stop&#39;], thumbnails=Row(default=Row(height=90, url=&#39;https://i.ytimg.com/vi/6gwbXjHNcwA/default.jpg&#39;, width=120), high=Row(height=360, url=&#39;https://i.ytimg.com/vi/6gwbXjHNcwA/hqdefault.jpg&#39;, width=480), maxres=None, medium=Row(height=180, url=&#39;https://i.ytimg.com/vi/6gwbXjHNcwA/mqdefault.jpg&#39;, width=320), standard=None), title=&#39;The Strokes - Automatic Stop&#39;), statistics=Row(commentCount=None, dislikeCount=&#39;284&#39;, favoriteCount=&#39;0&#39;, likeCount=&#39;13433&#39;, viewCount=&#39;3106302&#39;), status=Row(embeddable=True, license=&#39;youtube&#39;, madeForKids=False, privacyStatus=&#39;public&#39;, publicStatsViewable=True, uploadStatus=&#39;processed&#39;), topicDetails=Row(relevantTopicIds=[&#39;/m/04rlf&#39;, &#39;/m/06by7&#39;, &#39;/m/064t9&#39;, &#39;/m/04rlf&#39;, &#39;/m/06by7&#39;, &#39;/m/064t9&#39;], topicCategories=[&#39;https://en.wikipedia.org/wiki/Rock_music&#39;, &#39;https://en.wikipedia.org/wiki/Pop_music&#39;, &#39;https://en.wikipedia.org/wiki/Music&#39;])), Row(contentDetails=Row(caption=&#39;false&#39;, contentRating=Row(ytRating=None), definition=&#39;hd&#39;, dimension=&#39;2d&#39;, duration=&#39;PT6M23S&#39;, licensedContent=True, projection=&#39;rectangular&#39;, regionRestriction=None), etag=&#39;IdE1IiBmZpRW6W6PhvGStpUgME4&#39;, id=&#39;jNlDkOkYY30&#39;, kind=&#39;youtube#video&#39;, snippet=Row(categoryId=&#39;10&#39;, channelId=&#39;UC6AHeJa7s9-Brs6VyXy6Dwg&#39;, channelTitle=&#39;FUTURE INC.&#39;, defaultAudioLanguage=&#39;en&#39;, defaultLanguage=None, description=&#34;The new Skyden release with a brilliant electro house sound. Every once in a while at Vicious we uncover a producer who goes on to BIG things. Here is our latest prediction: SKYDEN. Outstanding melodic production with sheer POWER from this young wunderkid hailing from Melbourne, Australia. Here we bring you his debut record &#39;Burning Light&#39; featuring graceful 19yo singer/songwriter SASKA who delivers a delicate and emotive performance. \\n\\nSubscribe Electro Music TV on Youtube - http://goo.gl/WVPyYC\\nElectro Music Tv @ Facebook - http://www.facebook.com/ElectroMusicTV1\\nElectro Music TV on Google Plus: https://plus.google.com/+ElectroMusicTV\\n\\nThe Skyden Video Content licensed under cc license from:\\nEdmundo Yeomans - http://vimeo.com/eyeomans/r3habon\\nEdmundo Yeomans - http://vimeo.com/eyeomans/klaas\\nAustin Hastings  - http://vimeo.com/19520523\\n\\n\\n\\n\\nSkyden feat. Saska - Burning Light (Original Mix) - Vicious Recordings \\nRelease Date: 2013-08-05, Genre:Electro House \\n\\n\\nSkyden feat. Saska - Burning Light (Original Mix) at Djshop:\\nhttp://www.djshop.de/Download-skyden-feat-saska-burning-light/ex/s~details,u~8460000187,p1~mp3/xe/details.html\\n\\nSkyden feat. Saska - Burning Light (Original Mix) at Amazon:\\nhttp://www.amazon.com/Burning-Light-Original-Mix/dp/B00DEVHGOA\\n\\nSkyden feat. Saska - Burning Light (Original Mix) at djtunes:\\nhttp://www.djtunes.com/skyden/vicious-cuts-2013/burning-light__2463517\\n\\nSkyden feat. Saska - Burning Light (Original Mix) at Beatport:\\nhttp://www.beatport.com/release/burning-light/1131184\\n\\n\\nSkyden at Facebook:\\nhttps://www.facebook.com/SkydenOfficial\\n\\nSkyden at soundcloud:\\nhttp://soundcloud.com/skydenofficial\\n\\nSkyden at youtube:\\nhttps://www.youtube.com/user/SkydenOfficial\\n\\nSkyden at instagram:\\nhttp://instagram.com/skydenofficial\\n\\nSkyden at twitter:\\nhttps://twitter.com/SkydenOfficial\\n\\n\\n\\nLabel Homepage:\\nwww.viciousrecordings.com\\n\\nFacebook:\\nhttps://www.facebook.com/viciousrecordings\\n\\nTwitter:\\nhttps://twitter.com/viciousrecs&#34;, liveBroadcastContent=&#39;none&#39;, localized=Row(description=&#34;The new Skyden release with a brilliant electro house sound. Every once in a while at Vicious we uncover a producer who goes on to BIG things. Here is our latest prediction: SKYDEN. Outstanding melodic production with sheer POWER from this young wunderkid hailing from Melbourne, Australia. Here we bring you his debut record &#39;Burning Light&#39; featuring graceful 19yo singer/songwriter SASKA who delivers a delicate and emotive performance. \\n\\nSubscribe Electro Music TV on Youtube - http://goo.gl/WVPyYC\\nElectro Music Tv @ Facebook - http://www.facebook.com/ElectroMusicTV1\\nElectro Music TV on Google Plus: https://plus.google.com/+ElectroMusicTV\\n\\nThe Skyden Video Content licensed under cc license from:\\nEdmundo Yeomans - http://vimeo.com/eyeomans/r3habon\\nEdmundo Yeomans - http://vimeo.com/eyeomans/klaas\\nAustin Hastings  - http://vimeo.com/19520523\\n\\n\\n\\n\\nSkyden feat. Saska - Burning Light (Original Mix) - Vicious Recordings \\nRelease Date: 2013-08-05, Genre:Electro House \\n\\n\\nSkyden feat. Saska - Burning Light (Original Mix) at Djshop:\\nhttp://www.djshop.de/Download-skyden-feat-saska-burning-light/ex/s~details,u~8460000187,p1~mp3/xe/details.html\\n\\nSkyden feat. Saska - Burning Light (Original Mix) at Amazon:\\nhttp://www.amazon.com/Burning-Light-Original-Mix/dp/B00DEVHGOA\\n\\nSkyden feat. Saska - Burning Light (Original Mix) at djtunes:\\nhttp://www.djtunes.com/skyden/vicious-cuts-2013/burning-light__2463517\\n\\nSkyden feat. Saska - Burning Light (Original Mix) at Beatport:\\nhttp://www.beatport.com/release/burning-light/1131184\\n\\n\\nSkyden at Facebook:\\nhttps://www.facebook.com/SkydenOfficial\\n\\nSkyden at soundcloud:\\nhttp://soundcloud.com/skydenofficial\\n\\nSkyden at youtube:\\nhttps://www.youtube.com/user/SkydenOfficial\\n\\nSkyden at instagram:\\nhttp://instagram.com/skydenofficial\\n\\nSkyden at twitter:\\nhttps://twitter.com/SkydenOfficial\\n\\n\\n\\nLabel Homepage:\\nwww.viciousrecordings.com\\n\\nFacebook:\\nhttps://www.facebook.com/viciousrecordings\\n\\nTwitter:\\nhttps://twitter.com/viciousrecs&#34;, title=&#39;Skyden feat. Saska - Burning Light (Official Video)&#39;), publishedAt=&#39;2013-08-30T14:01:24Z&#39;, tags=[&#39;Skyden&#39;, &#39;electro house&#39;, &#39;Official&#39;, &#39;Electro Music TV&#39;], thumbnails=Row(default=Row(height=90, url=&#39;https://i.ytimg.com/vi/jNlDkOkYY30/default.jpg&#39;, width=120), high=Row(height=360, url=&#39;https://i.ytimg.com/vi/jNlDkOkYY30/hqdefault.jpg&#39;, width=480), maxres=Row(height=720, url=&#39;https://i.ytimg.com/vi/jNlDkOkYY30/maxresdefault.jpg&#39;, width=1280), medium=Row(height=180, url=&#39;https://i.ytimg.com/vi/jNlDkOkYY30/mqdefault.jpg&#39;, width=320), standard=Row(height=480, url=&#39;https://i.ytimg.com/vi/jNlDkOkYY30/sddefault.jpg&#39;, width=640)), title=&#39;Skyden feat. Saska - Burning Light (Official Video)&#39;), statistics=Row(commentCount=&#39;10&#39;, dislikeCount=&#39;15&#39;, favoriteCount=&#39;0&#39;, likeCount=&#39;150&#39;, viewCount=&#39;26428&#39;), status=Row(embeddable=True, license=&#39;youtube&#39;, madeForKids=False, privacyStatus=&#39;public&#39;, publicStatsViewable=True, uploadStatus=&#39;processed&#39;), topicDetails=Row(relevantTopicIds=[&#39;/m/04rlf&#39;, &#39;/m/02lkt&#39;, &#39;/m/04rlf&#39;, &#39;/m/02lkt&#39;], topicCategories=[&#39;https://en.wikipedia.org/wiki/Electronic_music&#39;, &#39;https://en.wikipedia.org/wiki/Music&#39;])), Row(contentDetails=Row(caption=&#39;false&#39;, contentRating=Row(ytRating=None), definition=&#39;sd&#39;, dimension=&#39;2d&#39;, duration=&#39;PT3M24S&#39;, licensedContent=False, projection=&#39;rectangular&#39;, regionRestriction=None), etag=&#39;PtzY3u9kfVHJ70taBUwzUvlNhnI&#39;, id=&#39;gTWTUTvDHFQ&#39;, kind=&#39;youtube#video&#39;, snippet=Row(categoryId=&#39;10&#39;, channelId=&#39;UCSf4_PUsFJLSniJ779I-NmA&#39;, channelTitle=&#39;giftstribution&#39;, defaultAudioLanguage=None, defaultLanguage=None, description=&#39;First single from Escape 2 Mars! Download from http://www.giftstribution.com/escape2marsdownload.html\\r\\nPre-Order now at http://www.giftstribution.com/&#39;, liveBroadcastContent=&#39;none&#39;, localized=Row(description=&#39;First single from Escape 2 Mars! Download from http://www.giftstribution.com/escape2marsdownload.html\\r\\nPre-Order now at http://www.giftstribution.com/&#39;, title=&#39;Gift of Gab - El Gifto Magnifico&#39;), publishedAt=&#39;2009-08-30T15:45:59Z&#39;, tags=[&#39;Gift&#39;, &#39;of&#39;, &#39;Gab&#39;, &#39;Blackalicious&#39;, &#39;Quannum&#39;, &#39;Escape&#39;, &#39;Mars&#39;, &#39;El&#39;, &#39;Gifto&#39;, &#39;Magnifico&#39;], thumbnails=Row(default=Row(height=90, url=&#39;https://i.ytimg.com/vi/gTWTUTvDHFQ/default.jpg&#39;, width=120), high=Row(height=360, url=&#39;https://i.ytimg.com/vi/gTWTUTvDHFQ/hqdefault.jpg&#39;, width=480), maxres=None, medium=Row(height=180, url=&#39;https://i.ytimg.com/vi/gTWTUTvDHFQ/mqdefault.jpg&#39;, width=320), standard=None), title=&#39;Gift of Gab - El Gifto Magnifico&#39;), statistics=Row(commentCount=&#39;51&#39;, dislikeCount=&#39;12&#39;, favoriteCount=&#39;0&#39;, likeCount=&#39;581&#39;, viewCount=&#39;103988&#39;), status=Row(embeddable=True, license=&#39;youtube&#39;, madeForKids=False, privacyStatus=&#39;public&#39;, publicStatsViewable=True, uploadStatus=&#39;processed&#39;), topicDetails=Row(relevantTopicIds=[&#39;/m/04rlf&#39;, &#39;/m/0glt670&#39;, &#39;/m/0glt670&#39;, &#39;/m/04rlf&#39;], topicCategories=[&#39;https://en.wikipedia.org/wiki/Hip_hop_music&#39;, &#39;https://en.wikipedia.org/wiki/Music&#39;])), Row(contentDetails=Row(caption=&#39;false&#39;, contentRating=Row(ytRating=None), definition=&#39;sd&#39;, dimension=&#39;2d&#39;, duration=&#39;PT3M24S&#39;, licensedContent=False, projection=&#39;rectangular&#39;, regionRestriction=Row(allowed=None, blocked=[&#39;SY&#39;, &#39;SX&#39;, &#39;SZ&#39;, &#39;SS&#39;, &#39;SR&#39;, &#39;IL&#39;, &#39;ST&#39;, &#39;SV&#39;, &#39;SI&#39;, &#39;SH&#39;, &#39;SK&#39;, &#39;SJ&#39;, &#39;SM&#39;, &#39;SL&#39;, &#39;SO&#39;, &#39;SN&#39;, &#39;SA&#39;, &#39;SC&#39;, &#39;SB&#39;, &#39;SE&#39;, &#39;SD&#39;, &#39;SG&#39;, &#39;CI&#39;, &#39;KP&#39;, &#39;CK&#39;, &#39;KR&#39;, &#39;CM&#39;, &#39;CL&#39;, &#39;CO&#39;, &#39;CN&#39;, &#39;CA&#39;, &#39;PL&#39;, &#39;CC&#39;, &#39;VA&#39;, &#39;CD&#39;, &#39;CG&#39;, &#39;CF&#39;, &#39;CY&#39;, &#39;CX&#39;, &#39;PS&#39;, &#39;CZ&#39;, &#39;KE&#39;, &#39;KG&#39;, &#39;KI&#39;, &#39;KH&#39;, &#39;CR&#39;, &#39;KM&#39;, &#39;TC&#39;, &#39;CW&#39;, &#39;CV&#39;, &#39;PR&#39;, &#39;HK&#39;, &#39;PT&#39;, &#39;HM&#39;, &#39;HN&#39;, &#39;PW&#39;, &#39;PY&#39;, &#39;PA&#39;, &#39;PE&#39;, &#39;PF&#39;, &#39;PG&#39;, &#39;PH&#39;, &#39;HR&#39;, &#39;PK&#39;, &#39;HT&#39;, &#39;HU&#39;, &#39;PN&#39;, &#39;TW&#39;, &#39;ZM&#39;, &#39;UM&#39;, &#39;IO&#39;, &#39;IN&#39;, &#39;IM&#39;, &#39;KY&#39;, &#39;ZW&#39;, &#39;IE&#39;, &#39;ID&#39;, &#39;QA&#39;, &#39;NI&#39;, &#39;IS&#39;, &#39;IR&#39;, &#39;IQ&#39;, &#39;VG&#39;, &#39;IT&#39;, &#39;TL&#39;, &#39;TM&#39;, &#39;TN&#39;, &#39;TO&#39;, &#39;AG&#39;, &#39;AF&#39;, &#39;TJ&#39;, &#39;AD&#39;, &#39;TD&#39;, &#39;AI&#39;, &#39;TG&#39;, &#39;AO&#39;, &#39;AM&#39;, &#39;AL&#39;, &#39;AS&#39;, &#39;AR&#39;, &#39;AQ&#39;, &#39;AW&#39;, &#39;\n",
       "*** WARNING: skipped 60547 bytes of output ***\n",
       "\n",
       "</div>"
      ]
     },
     "metadata": {
      "application/vnd.databricks.v1+output": {
       "addedWidgets": {},
       "arguments": {},
       "data": "<div class=\"ansiout\">Out[18]: [Row(items=[Row(contentDetails=Row(caption=&#39;false&#39;, contentRating=Row(ytRating=None), definition=&#39;sd&#39;, dimension=&#39;2d&#39;, duration=&#39;PT3M33S&#39;, licensedContent=True, projection=&#39;rectangular&#39;, regionRestriction=None), etag=&#39;SqP7uUVSol30dxvuScN6JUny6T4&#39;, id=&#39;t1l8Z6gLPzo&#39;, kind=&#39;youtube#video&#39;, snippet=Row(categoryId=&#39;10&#39;, channelId=&#39;UCUERSOitwgUq_37kGslN96w&#39;, channelTitle=&#39;VOLO&#39;, defaultAudioLanguage=None, defaultLanguage=None, description=&#39;Enregistré et mixé par Cyrille PELTIER au &#34;Keen Studio&#34; à Tours.\\nMerci à Cyrille PELTIER et au &#34;Keen Studio&#34; à Tours.\\nToutes les dates de la tournée sur volo.fr\\nLe nouvel album &#34;Sans rire&#34; est sorti le 11 mars 2013.\\nVolo était à l\\&#39;Olympia le 29 avril dernier et est en tournée dans toute la France.\\nLe clip de &#34;Toujours à côté&#34; est sur youtube sur http://www.youtube.com/watch?v=cWCH2dpyw1c : Le premier extrait de l\\&#39;album est en playliste sur France Bleue, Europe 1, RFM, RFI, Radio Alouette.\\n&#34;Sans rire&#34;, autre extrait de l\\&#39;album, est en playlist sur Virgin Radio.\\n\\nSortie digitale de &#34;Toujours à côté&#34;\\nhttps://itunes.apple.com/fr/album/toujours-a-cote-single/id570616846\\n\\nVolo est un duo de frères. Frédéric et Olivier VOLOVITCH. \\nAvec un nom de famille qui leur vient d\\&#39;un arrière grand-père Ukrainien, nés au milieu d\\&#39;une fratrie de 4 enfants, ils grandissent dans la campagne tourangelle dans une famille de profs.\\n\\nFrédo intègre l\\&#39;école de la rue Blanche en tant que comédien en 1992, Olivier le rejoint sur Paris en 1997 où il étudie la philosophie à la Sorbonne.\\nLe duo se forme officiellement en 2002.\\nEntre les différentes tournées des « Wriggles », dont Frédo est un des membres fondateurs, et Olivier le régisseur général, les deux frangins font leurs premiers concerts. D\\&#39;abord et surtout dans des bars où autres Caf\\&#39;conc, jusqu\\&#39; à la sortie de leur 1er disque en 2005 chez « Opéra Music ».\\nDepuis, et en tout, les deux frangins, ont sorti cinq albums. Trois studios, un live acoustique et un best of. \\nPeu médiatisé « Volo » est aussi et surtout un groupe de scène qui peut compter sur un public fidèle et grandissant. Produits en live par « Blue Line Productions », on les a vus en tournée dans toute la France, à la Cigale, au Trianon, au Bataclan, à l\\&#39;Olympia, aux Francofolies de la Rochelle etc...\\nAujourd\\&#39;hui, récemment signé chez « Play On », Volo revient avec un nouvel album réalisé par Jean-François Delort sur des arrangements de Florian Dubos et Jocelyn Moze. Ce nouveau disque, attendu dans les bacs début 2013, sera accompagné d\\&#39;une tournée qui démarrera cet automne et passera par la Cigale le 23 novembre 2012.&#39;, liveBroadcastContent=&#39;none&#39;, localized=Row(description=&#39;Enregistré et mixé par Cyrille PELTIER au &#34;Keen Studio&#34; à Tours.\\nMerci à Cyrille PELTIER et au &#34;Keen Studio&#34; à Tours.\\nToutes les dates de la tournée sur volo.fr\\nLe nouvel album &#34;Sans rire&#34; est sorti le 11 mars 2013.\\nVolo était à l\\&#39;Olympia le 29 avril dernier et est en tournée dans toute la France.\\nLe clip de &#34;Toujours à côté&#34; est sur youtube sur http://www.youtube.com/watch?v=cWCH2dpyw1c : Le premier extrait de l\\&#39;album est en playliste sur France Bleue, Europe 1, RFM, RFI, Radio Alouette.\\n&#34;Sans rire&#34;, autre extrait de l\\&#39;album, est en playlist sur Virgin Radio.\\n\\nSortie digitale de &#34;Toujours à côté&#34;\\nhttps://itunes.apple.com/fr/album/toujours-a-cote-single/id570616846\\n\\nVolo est un duo de frères. Frédéric et Olivier VOLOVITCH. \\nAvec un nom de famille qui leur vient d\\&#39;un arrière grand-père Ukrainien, nés au milieu d\\&#39;une fratrie de 4 enfants, ils grandissent dans la campagne tourangelle dans une famille de profs.\\n\\nFrédo intègre l\\&#39;école de la rue Blanche en tant que comédien en 1992, Olivier le rejoint sur Paris en 1997 où il étudie la philosophie à la Sorbonne.\\nLe duo se forme officiellement en 2002.\\nEntre les différentes tournées des « Wriggles », dont Frédo est un des membres fondateurs, et Olivier le régisseur général, les deux frangins font leurs premiers concerts. D\\&#39;abord et surtout dans des bars où autres Caf\\&#39;conc, jusqu\\&#39; à la sortie de leur 1er disque en 2005 chez « Opéra Music ».\\nDepuis, et en tout, les deux frangins, ont sorti cinq albums. Trois studios, un live acoustique et un best of. \\nPeu médiatisé « Volo » est aussi et surtout un groupe de scène qui peut compter sur un public fidèle et grandissant. Produits en live par « Blue Line Productions », on les a vus en tournée dans toute la France, à la Cigale, au Trianon, au Bataclan, à l\\&#39;Olympia, aux Francofolies de la Rochelle etc...\\nAujourd\\&#39;hui, récemment signé chez « Play On », Volo revient avec un nouvel album réalisé par Jean-François Delort sur des arrangements de Florian Dubos et Jocelyn Moze. Ce nouveau disque, attendu dans les bacs début 2013, sera accompagné d\\&#39;une tournée qui démarrera cet automne et passera par la Cigale le 23 novembre 2012.&#39;, title=&#39;VOLO. &#34;L\\&#39;air d\\&#39;un con&#34;&#39;), publishedAt=&#39;2013-07-22T12:09:11Z&#39;, tags=[&#39;volo&#39;, &#39;volovitch&#39;, &#39;wriggles&#39;, &#39;sans rire&#39;, &#39;toujours à côté&#39;, &#39;bien zarbos&#39;, &#39;en attendant&#39;, &#39;blancs manteaux&#39;, &#39;jours heureux&#39;, &#39;play on&#39;, &#39;zaz&#39;, &#39;tryo&#39;], thumbnails=Row(default=Row(height=90, url=&#39;https://i.ytimg.com/vi/t1l8Z6gLPzo/default.jpg&#39;, width=120), high=Row(height=360, url=&#39;https://i.ytimg.com/vi/t1l8Z6gLPzo/hqdefault.jpg&#39;, width=480), maxres=None, medium=Row(height=180, url=&#39;https://i.ytimg.com/vi/t1l8Z6gLPzo/mqdefault.jpg&#39;, width=320), standard=Row(height=480, url=&#39;https://i.ytimg.com/vi/t1l8Z6gLPzo/sddefault.jpg&#39;, width=640)), title=&#39;VOLO. &#34;L\\&#39;air d\\&#39;un con&#34;&#39;), statistics=Row(commentCount=&#39;38&#39;, dislikeCount=&#39;26&#39;, favoriteCount=&#39;0&#39;, likeCount=&#39;1028&#39;, viewCount=&#39;223172&#39;), status=Row(embeddable=True, license=&#39;youtube&#39;, madeForKids=False, privacyStatus=&#39;public&#39;, publicStatsViewable=True, uploadStatus=&#39;processed&#39;), topicDetails=Row(relevantTopicIds=[&#39;/m/04rlf&#39;, &#39;/m/04rlf&#39;], topicCategories=[&#39;https://en.wikipedia.org/wiki/Music&#39;])), Row(contentDetails=Row(caption=&#39;false&#39;, contentRating=Row(ytRating=None), definition=&#39;hd&#39;, dimension=&#39;2d&#39;, duration=&#39;PT7M46S&#39;, licensedContent=False, projection=&#39;rectangular&#39;, regionRestriction=Row(allowed=None, blocked=[&#39;DK&#39;])), etag=&#39;m3DnhzTEw9ABiqzBvdasfk5Av_8&#39;, id=&#39;we5gzZq5Avg&#39;, kind=&#39;youtube#video&#39;, snippet=Row(categoryId=&#39;10&#39;, channelId=&#39;UCson549gpvRhPnJ3Whs5onA&#39;, channelTitle=&#39;LongWayToDream&#39;, defaultAudioLanguage=None, defaultLanguage=None, description=&#39;Air Conditionné EP&#39;, liveBroadcastContent=&#39;none&#39;, localized=Row(description=&#39;Air Conditionné EP&#39;, title=&#39;Julian Jeweil - Air Conditionné&#39;), publishedAt=&#39;2012-03-17T08:34:30Z&#39;, tags=[&#39;mnml&#39;, &#39;minimal&#39;, &#39;electronic&#39;, &#39;music&#39;], thumbnails=Row(default=Row(height=90, url=&#39;https://i.ytimg.com/vi/we5gzZq5Avg/default.jpg&#39;, width=120), high=Row(height=360, url=&#39;https://i.ytimg.com/vi/we5gzZq5Avg/hqdefault.jpg&#39;, width=480), maxres=Row(height=720, url=&#39;https://i.ytimg.com/vi/we5gzZq5Avg/maxresdefault.jpg&#39;, width=1280), medium=Row(height=180, url=&#39;https://i.ytimg.com/vi/we5gzZq5Avg/mqdefault.jpg&#39;, width=320), standard=Row(height=480, url=&#39;https://i.ytimg.com/vi/we5gzZq5Avg/sddefault.jpg&#39;, width=640)), title=&#39;Julian Jeweil - Air Conditionné&#39;), statistics=Row(commentCount=&#39;2&#39;, dislikeCount=&#39;3&#39;, favoriteCount=&#39;0&#39;, likeCount=&#39;124&#39;, viewCount=&#39;13409&#39;), status=Row(embeddable=True, license=&#39;youtube&#39;, madeForKids=False, privacyStatus=&#39;public&#39;, publicStatsViewable=True, uploadStatus=&#39;processed&#39;), topicDetails=Row(relevantTopicIds=[&#39;/m/04rlf&#39;, &#39;/m/04rlf&#39;], topicCategories=[&#39;https://en.wikipedia.org/wiki/Music&#39;])), Row(contentDetails=Row(caption=&#39;false&#39;, contentRating=Row(ytRating=None), definition=&#39;sd&#39;, dimension=&#39;2d&#39;, duration=&#39;PT3M7S&#39;, licensedContent=False, projection=&#39;rectangular&#39;, regionRestriction=None), etag=&#39;zyzs7STAR3NG-_pZe-0nGkbKoqg&#39;, id=&#39;49esza4eiK4&#39;, kind=&#39;youtube#video&#39;, snippet=Row(categoryId=&#39;10&#39;, channelId=&#39;UCcHYZ8Ez4gG_2bHEuBL8IfQ&#39;, channelTitle=&#39;Downtown Records&#39;, defaultAudioLanguage=None, defaultLanguage=None, description=&#34;myspace.com/etjusticepourtous\\r\\n(Downtown / Ed Banger)\\r\\n\\r\\nNominated for MTV VMA video of the year \\r\\n\\r\\nFrom the album &#39;Cross&#39;&#34;, liveBroadcastContent=&#39;none&#39;, localized=Row(description=&#34;myspace.com/etjusticepourtous\\r\\n(Downtown / Ed Banger)\\r\\n\\r\\nNominated for MTV VMA video of the year \\r\\n\\r\\nFrom the album &#39;Cross&#39;&#34;, title=&#39;Justice - D.A.N.C.E&#39;), publishedAt=&#39;2007-09-08T02:02:07Z&#39;, tags=[&#39;Justice&#39;, &#39;D.A.N.C.E&#39;, &#39;downtown&#39;], thumbnails=Row(default=Row(height=90, url=&#39;https://i.ytimg.com/vi/49esza4eiK4/default.jpg&#39;, width=120), high=Row(height=360, url=&#39;https://i.ytimg.com/vi/49esza4eiK4/hqdefault.jpg&#39;, width=480), maxres=None, medium=Row(height=180, url=&#39;https://i.ytimg.com/vi/49esza4eiK4/mqdefault.jpg&#39;, width=320), standard=None), title=&#39;Justice - D.A.N.C.E&#39;), statistics=Row(commentCount=&#39;3168&#39;, dislikeCount=&#39;780&#39;, favoriteCount=&#39;0&#39;, likeCount=&#39;25540&#39;, viewCount=&#39;10106655&#39;), status=Row(embeddable=True, license=&#39;youtube&#39;, madeForKids=False, privacyStatus=&#39;public&#39;, publicStatsViewable=True, uploadStatus=&#39;processed&#39;), topicDetails=Row(relevantTopicIds=[&#39;/m/04rlf&#39;, &#39;/m/02lkt&#39;, &#39;/m/04rlf&#39;, &#39;/m/02lkt&#39;], topicCategories=[&#39;https://en.wikipedia.org/wiki/Electronic_music&#39;, &#39;https://en.wikipedia.org/wiki/Music&#39;])), Row(contentDetails=Row(caption=&#39;false&#39;, contentRating=Row(ytRating=None), definition=&#39;hd&#39;, dimension=&#39;2d&#39;, duration=&#39;PT3M43S&#39;, licensedContent=False, projection=&#39;rectangular&#39;, regionRestriction=Row(allowed=None, blocked=[&#39;DK&#39;])), etag=&#39;hX2C15F6fdO5A-stUFMU5Az2PvI&#39;, id=&#39;BoO6LfR7ca0&#39;, kind=&#39;youtube#video&#39;, snippet=Row(categoryId=&#39;22&#39;, channelId=&#39;UCQ0wLCF7u23gZKJkHFs1Tpg&#39;, channelTitle=&#39;Music Is Our Drug&#39;, defaultAudioLanguage=None, defaultLanguage=None, description=&#39;♫ Music Is Our Drug - Spotify Playlist: https://goo.gl/rJvM5l\\n►Follow us on Spotify: https://goo.gl/HqOgkN\\n\\nTorture from the new Gramatik album - The Age Of Reason!\\nGramatik:\\nhttps://soundcloud.com/gramatik\\nhttps://www.facebook.com/gramatik\\n\\nImage:\\nhttp://www.allwalls.net/wallpapers/2012/09/Women-Graffiti-Stadium-Bracelets-1800x2880.jpg\\n\\n(If any producer or label has an issue with any of the uploads please get in contact with me on YouTube and I will delete it as soon as possible (this includes artists of the images used).&#39;, liveBroadcastContent=&#39;none&#39;, localized=Row(description=&#39;♫ Music Is Our Drug - Spotify Playlist: https://goo.gl/rJvM5l\\n►Follow us on Spotify: https://goo.gl/HqOgkN\\n\\nTorture from the new Gramatik album - The Age Of Reason!\\nGramatik:\\nhttps://soundcloud.com/gramatik\\nhttps://www.facebook.com/gramatik\\n\\nImage:\\nhttp://www.allwalls.net/wallpapers/2012/09/Women-Graffiti-Stadium-Bracelets-1800x2880.jpg\\n\\n(If any producer or label has an issue with any of the uploads please get in contact with me on YouTube and I will delete it as soon as possible (this includes artists of the images used).&#39;, title=&#39;Gramatik - Torture (feat. Eric Krasno)&#39;), publishedAt=&#39;2014-01-24T12:52:38Z&#39;, tags=[&#39;Gramatik&#39;, &#39;Torture&#39;, &#39;The Age Of Reason&#39;, &#39;2014&#39;, &#39;Music Is Our Drug&#39;, &#39;guitar&#39;, &#39;Eric Krisno&#39;], thumbnails=Row(default=Row(height=90, url=&#39;https://i.ytimg.com/vi/BoO6LfR7ca0/default.jpg&#39;, width=120), high=Row(height=360, url=&#39;https://i.ytimg.com/vi/BoO6LfR7ca0/hqdefault.jpg&#39;, width=480), maxres=Row(height=720, url=&#39;https://i.ytimg.com/vi/BoO6LfR7ca0/maxresdefault.jpg&#39;, width=1280), medium=Row(height=180, url=&#39;https://i.ytimg.com/vi/BoO6LfR7ca0/mqdefault.jpg&#39;, width=320), standard=Row(height=480, url=&#39;https://i.ytimg.com/vi/BoO6LfR7ca0/sddefault.jpg&#39;, width=640)), title=&#39;Gramatik - Torture (feat. Eric Krasno)&#39;), statistics=Row(commentCount=&#39;6&#39;, dislikeCount=&#39;0&#39;, favoriteCount=&#39;0&#39;, likeCount=&#39;255&#39;, viewCount=&#39;29153&#39;), status=Row(embeddable=True, license=&#39;youtube&#39;, madeForKids=False, privacyStatus=&#39;public&#39;, publicStatsViewable=True, uploadStatus=&#39;processed&#39;), topicDetails=Row(relevantTopicIds=[&#39;/m/04rlf&#39;, &#39;/m/04rlf&#39;], topicCategories=[&#39;https://en.wikipedia.org/wiki/Music&#39;])), Row(contentDetails=Row(caption=&#39;false&#39;, contentRating=Row(ytRating=None), definition=&#39;hd&#39;, dimension=&#39;2d&#39;, duration=&#39;PT5M&#39;, licensedContent=False, projection=&#39;rectangular&#39;, regionRestriction=Row(allowed=None, blocked=[&#39;DK&#39;])), etag=&#39;rYHoV38PLpMbRuX_zhGTVBKNotw&#39;, id=&#39;DaH4W1rY9us&#39;, kind=&#39;youtube#video&#39;, snippet=Row(categoryId=&#39;10&#39;, channelId=&#39;UCJsTMPZxYD-Q3kEmL4Qijpg&#39;, channelTitle=&#39;Harvey Pearson&#39;, defaultAudioLanguage=None, defaultLanguage=None, description=&#39;Buy The Burgh Island EP now:\\nhttps://itunes.apple.com/gb/album/burgh-island-ep/id571218980?affId=1657369&amp;ign-mpt=uo%3D4 \\n\\nNO COPYRIGHT INFRINGEMENT INTENDED&#39;, liveBroadcastContent=&#39;none&#39;, localized=Row(description=&#39;Buy The Burgh Island EP now:\\nhttps://itunes.apple.com/gb/album/burgh-island-ep/id571218980?affId=1657369&amp;ign-mpt=uo%3D4 \\n\\nNO COPYRIGHT INFRINGEMENT INTENDED&#39;, title=&#39;Ben Howard - Oats In The Water&#39;), publishedAt=&#39;2012-12-02T12:41:13Z&#39;, tags=[&#39;Ben Howard&#39;, &#39;Oats In The Water&#39;, &#39;Music Video&#39;, &#39;BBC Radio One&#39;, &#39;Zane Lowe&#39;, &#39;Greg James&#39;, &#39;Mickey Smith&#39;, &#39;Wales&#39;, &#39;Surf&#39;, &#39;Black And White&#39;, &#39;The Burgh Island EP&#39;, &#39;Burgh Island&#39;, &#39;Ireland&#39;, &#39;Astray Films&#39;, &#39;Harvey Pearson&#39;, &#39;Hounddogpictures&#39;, &#39;hdp&#39;, &#39;productions&#39;, &#39;iTunes&#39;, &#39;sony&#39;, &#39;nex&#39;, &#39;5n&#39;, &#39;Timelapse&#39;, &#39;CS6&#39;, &#39;Ben&#39;, &#39;Howard&#39;, &#39;(musician)&#39;, &#39;old&#39;, &#39;pine&#39;, &#39;only&#39;, &#39;love&#39;, &#39;keep&#39;, &#39;your&#39;, &#39;head&#39;, &#39;up&#39;, &#39;every&#39;, &#39;kingdom&#39;, &#39;harvpearson&#39;, &#39;official&#39;, &#39;video&#39;, &#39;music&#39;, &#39;Devon&#39;, &#39;beach&#39;, &#39;surf&#39;, &#39;surfers&#39;, &#39;Waves&#39;, &#39;Ocean&#39;, &#39;Hound Dog Pictures Productions&#39;, &#39;Sand&#39;, &#39;Surfing&#39;], thumbnails=Row(default=Row(height=90, url=&#39;https://i.ytimg.com/vi/DaH4W1rY9us/default.jpg&#39;, width=120), high=Row(height=360, url=&#39;https://i.ytimg.com/vi/DaH4W1rY9us/hqdefault.jpg&#39;, width=480), maxres=Row(height=720, url=&#39;https://i.ytimg.com/vi/DaH4W1rY9us/maxresdefault.jpg&#39;, width=1280), medium=Row(height=180, url=&#39;https://i.ytimg.com/vi/DaH4W1rY9us/mqdefault.jpg&#39;, width=320), standard=Row(height=480, url=&#39;https://i.ytimg.com/vi/DaH4W1rY9us/sddefault.jpg&#39;, width=640)), title=&#39;Ben Howard - Oats In The Water&#39;), statistics=Row(commentCount=&#39;5303&#39;, dislikeCount=&#39;1784&#39;, favoriteCount=&#39;0&#39;, likeCount=&#39;136033&#39;, viewCount=&#39;16488714&#39;), status=Row(embeddable=True, license=&#39;youtube&#39;, madeForKids=False, privacyStatus=&#39;public&#39;, publicStatsViewable=True, uploadStatus=&#39;processed&#39;), topicDetails=Row(relevantTopicIds=[&#39;/m/04rlf&#39;, &#39;/m/064t9&#39;, &#39;/m/05rwpb&#39;, &#39;/m/04rlf&#39;, &#39;/m/064t9&#39;, &#39;/m/05rwpb&#39;], topicCategories=[&#39;https://en.wikipedia.org/wiki/Pop_music&#39;, &#39;https://en.wikipedia.org/wiki/Independent_music&#39;, &#39;https://en.wikipedia.org/wiki/Music&#39;])), Row(contentDetails=Row(caption=&#39;false&#39;, contentRating=Row(ytRating=None), definition=&#39;hd&#39;, dimension=&#39;2d&#39;, duration=&#39;PT10M16S&#39;, licensedContent=False, projection=&#39;rectangular&#39;, regionRestriction=None), etag=&#39;n3_92hnxJ1-q6FV55bjQVus1hr4&#39;, id=&#39;PAAUqBghiVo&#39;, kind=&#39;youtube#video&#39;, snippet=Row(categoryId=&#39;10&#39;, channelId=&#39;UCDHvlud7Hf86FxFsogrBcMg&#39;, channelTitle=&#39;Resident Advisor&#39;, defaultAudioLanguage=None, defaultLanguage=None, description=&#39;Subscribe to the RA YouTube channel: http://bit.ly/1x7PeGy\\n\\nVisit the feature page: http://www.residentadvisor.net/feature.aspx?1959\\n\\nLast week Nicolas Jaar and Dave Harrington released Psychic, their debut album as Darkside. &#34;Darkside is utterly sincere,&#34; said Tony Naylor in his RA review, &#34;and at its most fractured and psychedelic, Harrington\\&#39;s guitar lends a smoky, mysterious dimension to Jaar\\&#39;s slinky electronica.&#34; &#34;Paper Trails&#34; is the record\\&#39;s dazzling midpoint, and in the first RA Sessions film, recorded at RA\\&#39;s HQ, Jaar and Harrington sank a couple of whiskeys and subtly teased the track out to twice its original length.\\n\\n\\nCredits:\\nProducer &amp; Director - Patrick Nation\\nCamera - Patrick Nation, Luke Ogden\\nSound Engineers - Vance Galloway, Rich Cufley (Sound Services)\\nProduction Assistant - Debbie Butts&#39;, liveBroadcastContent=&#39;none&#39;, localized=Row(description=&#39;Subscribe to the RA YouTube channel: http://bit.ly/1x7PeGy\\n\\nVisit the feature page: http://www.residentadvisor.net/feature.aspx?1959\\n\\nLast week Nicolas Jaar and Dave Harrington released Psychic, their debut album as Darkside. &#34;Darkside is utterly sincere,&#34; said Tony Naylor in his RA review, &#34;and at its most fractured and psychedelic, Harrington\\&#39;s guitar lends a smoky, mysterious dimension to Jaar\\&#39;s slinky electronica.&#34; &#34;Paper Trails&#34; is the record\\&#39;s dazzling midpoint, and in the first RA Sessions film, recorded at RA\\&#39;s HQ, Jaar and Harrington sank a couple of whiskeys and subtly teased the track out to twice its original length.\\n\\n\\nCredits:\\nProducer &amp; Director - Patrick Nation\\nCamera - Patrick Nation, Luke Ogden\\nSound Engineers - Vance Galloway, Rich Cufley (Sound Services)\\nProduction Assistant - Debbie Butts&#39;, title=&#39;RA Sessions: DARKSIDE - Paper Trails&#39;), publishedAt=&#39;2013-10-15T09:30:25Z&#39;, tags=[&#39;Resident Advisor (Website)&#39;, &#39;RA&#39;, &#39;darkside&#39;, &#39;psychic&#39;, &#39;paper trails&#39;, &#39;Nicolas Jaar (Musical Artist)&#39;, &#39;dave harrington&#39;, &#39;session&#39;, &#39;live session&#39;, &#39;live music&#39;, &#39;electronic music&#39;, &#39;Live&#39;, &#39;EDM&#39;, &#39;guitar&#39;, &#39;Wurlitzer Electric Piano (Product Line)&#39;, &#39;wurlitzer&#39;, &#39;Performance (Project)&#39;, &#39;Hardware&#39;, &#39;Liveset&#39;, &#39;Analog&#39;, &#39;Resident Advisor&#39;, &#39;Nico Jaar&#39;, &#39;Nicolas Jaar&#39;, &#39;Nicholas&#39;, &#39;Jaar&#39;, &#39;Performance&#39;, &#39;Paper Trail&#39;, &#39;DJ&#39;, &#39;Music&#39;], thumbnails=Row(default=Row(height=90, url=&#39;https://i.ytimg.com/vi/PAAUqBghiVo/default.jpg&#39;, width=120), high=Row(height=360, url=&#39;https://i.ytimg.com/vi/PAAUqBghiVo/hqdefault.jpg&#39;, width=480), maxres=Row(height=720, url=&#39;https://i.ytimg.com/vi/PAAUqBghiVo/maxresdefault.jpg&#39;, width=1280), medium=Row(height=180, url=&#39;https://i.ytimg.com/vi/PAAUqBghiVo/mqdefault.jpg&#39;, width=320), standard=Row(height=480, url=&#39;https://i.ytimg.com/vi/PAAUqBghiVo/sddefault.jpg&#39;, width=640)), title=&#39;RA Sessions: DARKSIDE - Paper Trails&#39;), statistics=Row(commentCount=&#39;883&#39;, dislikeCount=&#39;445&#39;, favoriteCount=&#39;0&#39;, likeCount=&#39;37193&#39;, viewCount=&#39;3381880&#39;), status=Row(embeddable=True, license=&#39;youtube&#39;, madeForKids=False, privacyStatus=&#39;public&#39;, publicStatsViewable=True, uploadStatus=&#39;processed&#39;), topicDetails=Row(relevantTopicIds=[&#39;/m/04rlf&#39;, &#39;/m/02lkt&#39;, &#39;/m/02lkt&#39;, &#39;/m/04rlf&#39;], topicCategories=[&#39;https://en.wikipedia.org/wiki/Electronic_music&#39;, &#39;https://en.wikipedia.org/wiki/Music&#39;])), Row(contentDetails=Row(caption=&#39;false&#39;, contentRating=Row(ytRating=None), definition=&#39;sd&#39;, dimension=&#39;2d&#39;, duration=&#39;PT7M59S&#39;, licensedContent=False, projection=&#39;rectangular&#39;, regionRestriction=None), etag=&#39;pAUuiD_-jONqms5j_vL0RHpqSf0&#39;, id=&#39;7CkBU80AsVg&#39;, kind=&#39;youtube#video&#39;, snippet=Row(categoryId=&#39;10&#39;, channelId=&#39;UCr7vKEGOLRCf4ivVzUcK6dw&#39;, channelTitle=&#39;Matheus Castilho&#39;, defaultAudioLanguage=None, defaultLanguage=None, description=&#34;Dusty Kid&#39;s America.\\r\\n\\r\\nDirected by @mattcastilho\\r\\nwww.mattcastilho.com&#34;, liveBroadcastContent=&#39;none&#39;, localized=Row(description=&#34;Dusty Kid&#39;s America.\\r\\n\\r\\nDirected by @mattcastilho\\r\\nwww.mattcastilho.com&#34;, title=&#39;Dusty Kid - America&#39;), publishedAt=&#39;2010-12-18T19:19:36Z&#39;, tags=[&#39;dusty kid america&#39;, &#39;tiesto&#39;, &#39;armin&#39;, &#39;van&#39;, &#39;buuren&#39;, &#39;animals&#39;, &#39;the&#39;, &#39;underground&#39;, &#39;progressive&#39;, &#39;elctro&#39;, &#39;house&#39;, &#39;electronic&#39;, &#39;music&#39;, &#39;paul&#39;, &#39;dyk&#39;, &#39;adam&#39;, &#39;deadmau5&#39;], thumbnails=Row(default=Row(height=90, url=&#39;https://i.ytimg.com/vi/7CkBU80AsVg/default.jpg&#39;, width=120), high=Row(height=360, url=&#39;https://i.ytimg.com/vi/7CkBU80AsVg/hqdefault.jpg&#39;, width=480), maxres=None, medium=Row(height=180, url=&#39;https://i.ytimg.com/vi/7CkBU80AsVg/mqdefault.jpg&#39;, width=320), standard=None), title=&#39;Dusty Kid - America&#39;), statistics=Row(commentCount=&#39;10&#39;, dislikeCount=&#39;6&#39;, favoriteCount=&#39;0&#39;, likeCount=&#39;183&#39;, viewCount=&#39;29520&#39;), status=Row(embeddable=True, license=&#39;youtube&#39;, madeForKids=False, privacyStatus=&#39;public&#39;, publicStatsViewable=True, uploadStatus=&#39;processed&#39;), topicDetails=Row(relevantTopicIds=[&#39;/m/04rlf&#39;, &#39;/m/04rlf&#39;], topicCategories=[&#39;https://en.wikipedia.org/wiki/Music&#39;])), Row(contentDetails=Row(caption=&#39;false&#39;, contentRating=Row(ytRating=None), definition=&#39;sd&#39;, dimension=&#39;2d&#39;, duration=&#39;PT3M34S&#39;, licensedContent=False, projection=&#39;rectangular&#39;, regionRestriction=Row(allowed=None, blocked=[&#39;DK&#39;])), etag=&#39;E-5a5WdsyWwTxNawfrjD9PQaSAQ&#39;, id=&#39;lddHsCBdQu8&#39;, kind=&#39;youtube#video&#39;, snippet=Row(categoryId=&#39;10&#39;, channelId=&#39;UCX_fIhJAag_NvUN7I1dwjBg&#39;, channelTitle=&#39;MOMOMOYOUTH&#39;, defaultAudioLanguage=None, defaultLanguage=None, description=&#34;Official Audio | MØ - Waste of Time\\n\\n\\nSubscribe to the MØ YouTube Channel:  http://smarturl.it/MOytb\\n\\n\\n&#39;No Mythologies To Follow&#39; is out now!\\n\\niTunes: http://smarturl.it/MO_NMTF_digi \\nAmazon: http://smarturl.it/MO_NMTF_AMZ \\nOfficial Store: http://smarturl.it/MOstore \\nVinyl: http://smarturl.it/MO_NMTF_RT \\n\\nSign up to my official mailing list http://smarturl.it/MOmail \\n\\nFollow me here:\\nhttp://open.spotify.com/artist/0bdfiayQAKewqEvaU6rXCv \\nhttp://www.facebook.com/MOMOMOYOUTH \\nhttp://twitter.com/MOMOMOYOUTH \\nhttp://www.momomoyouth.com/ \\nhttp://www.youtube.com/user/MOMOMOYOUTH\\n\\n#MØ\\n#WasteOfTime&#34;, liveBroadcastContent=&#39;none&#39;, localized=Row(description=&#34;Official Audio | MØ - Waste of Time\\n\\n\\nSubscribe to the MØ YouTube Channel:  http://smarturl.it/MOytb\\n\\n\\n&#39;No Mythologies To Follow&#39; is out now!\\n\\niTunes: http://smarturl.it/MO_NMTF_digi \\nAmazon: http://smarturl.it/MO_NMTF_AMZ \\nOfficial Store: http://smarturl.it/MOstore \\nVinyl: http://smarturl.it/MO_NMTF_RT \\n\\nSign up to my official mailing list http://smarturl.it/MOmail \\n\\nFollow me here:\\nhttp://open.spotify.com/artist/0bdfiayQAKewqEvaU6rXCv \\nhttp://www.facebook.com/MOMOMOYOUTH \\nhttp://twitter.com/MOMOMOYOUTH \\nhttp://www.momomoyouth.com/ \\nhttp://www.youtube.com/user/MOMOMOYOUTH\\n\\n#MØ\\n#WasteOfTime&#34;, title=&#39;MØ - Waste Of Time (Official Audio)&#39;), publishedAt=&#39;2013-05-15T08:19:20Z&#39;, tags=[&#39;MØ&#39;, &#39;momomoyouth&#39;, &#39;mo&#39;, &#39;mø&#39;, &#39;mø waste of time&#39;, &#39;waste of time&#39;, &#39;moe&#39;, &#39;mo waste of time&#39;], thumbnails=Row(default=Row(height=90, url=&#39;https://i.ytimg.com/vi/lddHsCBdQu8/default.jpg&#39;, width=120), high=Row(height=360, url=&#39;https://i.ytimg.com/vi/lddHsCBdQu8/hqdefault.jpg&#39;, width=480), maxres=None, medium=Row(height=180, url=&#39;https://i.ytimg.com/vi/lddHsCBdQu8/mqdefault.jpg&#39;, width=320), standard=Row(height=480, url=&#39;https://i.ytimg.com/vi/lddHsCBdQu8/sddefault.jpg&#39;, width=640)), title=&#39;MØ - Waste Of Time (Official Audio)&#39;), statistics=Row(commentCount=&#39;260&#39;, dislikeCount=&#39;96&#39;, favoriteCount=&#39;0&#39;, likeCount=&#39;6594&#39;, viewCount=&#39;750787&#39;), status=Row(embeddable=True, license=&#39;youtube&#39;, madeForKids=False, privacyStatus=&#39;public&#39;, publicStatsViewable=True, uploadStatus=&#39;processed&#39;), topicDetails=Row(relevantTopicIds=[&#39;/m/04rlf&#39;, &#39;/m/064t9&#39;, &#39;/m/04rlf&#39;, &#39;/m/064t9&#39;], topicCategories=[&#39;https://en.wikipedia.org/wiki/Pop_music&#39;, &#39;https://en.wikipedia.org/wiki/Music&#39;])), Row(contentDetails=Row(caption=&#39;false&#39;, contentRating=Row(ytRating=None), definition=&#39;hd&#39;, dimension=&#39;2d&#39;, duration=&#39;PT3M58S&#39;, licensedContent=True, projection=&#39;rectangular&#39;, regionRestriction=Row(allowed=None, blocked=[&#39;DK&#39;])), etag=&#39;vcGdlF2KBcqDNB0IQn3cSa6-wVE&#39;, id=&#39;mhsf7K6h7SY&#39;, kind=&#39;youtube#video&#39;, snippet=Row(categoryId=&#39;24&#39;, channelId=&#39;UCJ6td3C9QlPO9O_J5dF4ZzA&#39;, channelTitle=&#39;Monstercat: Uncaged&#39;, defaultAudioLanguage=None, defaultLanguage=None, description=&#34;Nerds by Nature 2016 Spring Tour on Sale NOW at http://www.PegboardNerds.com\\n---\\n▼ This song is featured on Monstercat 016 - Expedition. \\nGet all 30 tracks plus 2 album mixes by downloading it here:\\n\\nSupport on iTunes: http://monster.cat/1fsmpQy\\nSupport on Bandcamp: http://monster.cat/1hpp7oo\\nSupport on Amazon: http://monster.cat/1dAiMCc\\nSupport on Google Play: http://monster.cat/1dAm7RR\\nListen on Spotify: http://monster.cat/1hzwp7R\\n----\\nArrival Album Mix: http://monster.cat/1hqcv0b\\n\\nTo support the single only:\\n\\nPlease consider supporting on Beatport: http://monster.cat/BasslineKickin\\nListen on SoundCloud: \\nhttp://monster.cat/1hrfghr\\n\\nWe&#39;re looking to make an impact with this release and show that it is possible to have something different top the charts. Your Beatport purchase will help make the difference.\\n\\n▼ Follow Monstercat\\nSnapchat: Monstercat\\nYouTube: http://www.youtube.com/Monstercat\\nSpotify: http://monster.cat/1hGrCWk\\nFacebook: http://facebook.com/Monstercat\\nTwitter: http://twitter.com/Monstercat\\nInstagram: http://instagram.com/monstercat\\nSoundCloud: http://soundcloud.com/Monstercat\\nGoogle+: https://plus.google.com/+Monstercat\\n\\n▼ Follow Pegboard Nerds\\nFacebook: http://facebook.com/PegboardNerds\\nTwitter: http://twitter.com/PegboardNerds\\nSoundCloud: http://soundcloud.com/pegboardnerds\\nYouTube: http://youtube.com/PegboardNerds\\n\\n▼ Want some new Merchandise?\\nhttp://monster.cat/MonstercatShop\\n\\nMonstercat 017 - Ascension is now available! Support your favourite rising Monstercat artists with a purchase here: http://www.monstercat.com/ascension/ /\\n-----------------------------------\\nWant to use this song in your own videos? Please go to: http://monster.cat/YouTube_License&#34;, liveBroadcastContent=&#39;none&#39;, localized=Row(description=&#34;Nerds by Nature 2016 Spring Tour on Sale NOW at http://www.PegboardNerds.com\\n---\\n▼ This song is featured on Monstercat 016 - Expedition. \\nGet all 30 tracks plus 2 album mixes by downloading it here:\\n\\nSupport on iTunes: http://monster.cat/1fsmpQy\\nSupport on Bandcamp: http://monster.cat/1hpp7oo\\nSupport on Amazon: http://monster.cat/1dAiMCc\\nSupport on Google Play: http://monster.cat/1dAm7RR\\nListen on Spotify: http://monster.cat/1hzwp7R\\n----\\nArrival Album Mix: http://monster.cat/1hqcv0b\\n\\nTo support the single only:\\n\\nPlease consider supporting on Beatport: http://monster.cat/BasslineKickin\\nListen on SoundCloud: \\nhttp://monster.cat/1hrfghr\\n\\nWe&#39;re looking to make an impact with this release and show that it is possible to have something different top the charts. Your Beatport purchase will help make the difference.\\n\\n▼ Follow Monstercat\\nSnapchat: Monstercat\\nYouTube: http://www.youtube.com/Monstercat\\nSpotify: http://monster.cat/1hGrCWk\\nFacebook: http://facebook.com/Monstercat\\nTwitter: http://twitter.com/Monstercat\\nInstagram: http://instagram.com/monstercat\\nSoundCloud: http://soundcloud.com/Monstercat\\nGoogle+: https://plus.google.com/+Monstercat\\n\\n▼ Follow Pegboard Nerds\\nFacebook: http://facebook.com/PegboardNerds\\nTwitter: http://twitter.com/PegboardNerds\\nSoundCloud: http://soundcloud.com/pegboardnerds\\nYouTube: http://youtube.com/PegboardNerds\\n\\n▼ Want some new Merchandise?\\nhttp://monster.cat/MonstercatShop\\n\\nMonstercat 017 - Ascension is now available! Support your favourite rising Monstercat artists with a purchase here: http://www.monstercat.com/ascension/ /\\n-----------------------------------\\nWant to use this song in your own videos? Please go to: http://monster.cat/YouTube_License&#34;, title=&#39;[Electronic] - Pegboard Nerds - Bassline Kickin [Monstercat Release]&#39;), publishedAt=&#39;2014-01-15T18:33:15Z&#39;, tags=[&#39;Pegboard&#39;, &#39;Nerds&#39;, &#39;Bassline&#39;, &#39;Kickin&#39;, &#39;Electronic&#39;, &#39;Dance&#39;, &#39;Monstercat&#39;, &#39;EDM&#39;, &#39;Grey&#39;, &#39;Best Electronic&#39;, &#39;New Electronic&#39;, &#39;Top Electronic&#39;, &#39;Electronic 2013&#39;, &#39;Best EDM&#39;, &#39;New EDM&#39;, &#39;Top EDM&#39;, &#39;EDM 2013&#39;, &#39;Peg Board&#39;, &#39;Nerdz&#39;], thumbnails=Row(default=Row(height=90, url=&#39;https://i.ytimg.com/vi/mhsf7K6h7SY/default.jpg&#39;, width=120), high=Row(height=360, url=&#39;https://i.ytimg.com/vi/mhsf7K6h7SY/hqdefault.jpg&#39;, width=480), maxres=None, medium=Row(height=180, url=&#39;https://i.ytimg.com/vi/mhsf7K6h7SY/mqdefault.jpg&#39;, width=320), standard=Row(height=480, url=&#39;https://i.ytimg.com/vi/mhsf7K6h7SY/sddefault.jpg&#39;, width=640)), title=&#39;[Electronic] - Pegboard Nerds - Bassline Kickin [Monstercat Release]&#39;), statistics=Row(commentCount=&#39;2512&#39;, dislikeCount=&#39;780&#39;, favoriteCount=&#39;0&#39;, likeCount=&#39;22639&#39;, viewCount=&#39;1719694&#39;), status=Row(embeddable=True, license=&#39;youtube&#39;, madeForKids=False, privacyStatus=&#39;public&#39;, publicStatsViewable=True, uploadStatus=&#39;processed&#39;), topicDetails=Row(relevantTopicIds=[&#39;/m/04rlf&#39;, &#39;/m/02lkt&#39;, &#39;/m/04rlf&#39;, &#39;/m/02lkt&#39;], topicCategories=[&#39;https://en.wikipedia.org/wiki/Electronic_music&#39;, &#39;https://en.wikipedia.org/wiki/Music&#39;])), Row(contentDetails=Row(caption=&#39;false&#39;, contentRating=Row(ytRating=None), definition=&#39;sd&#39;, dimension=&#39;2d&#39;, duration=&#39;PT1M7S&#39;, licensedContent=False, projection=&#39;rectangular&#39;, regionRestriction=None), etag=&#39;mR9aCm16XJI1UAXr84FWqw0fExk&#39;, id=&#39;3go6xFb0FrU&#39;, kind=&#39;youtube#video&#39;, snippet=Row(categoryId=&#39;24&#39;, channelId=&#39;UCPoG8-NKfLQ23kmWX2XKDwQ&#39;, channelTitle=&#39;WassupTeam&#39;, defaultAudioLanguage=None, defaultLanguage=None, description=&#39;Triple tribute to:\\r\\n\\r\\n-Rockapella: the great a capella band. http://www.rockapella.com/\\r\\n\\r\\n-Corey Vidal: That dude really rocks !!\\r\\nhttp://www.youtube.com/user/ApprenticeA\\r\\n\\r\\n-Coca-cola: well you know that.\\r\\nhttp://www.coca-cola.com&#39;, liveBroadcastContent=&#39;none&#39;, localized=Row(description=&#39;Triple tribute to:\\r\\n\\r\\n-Rockapella: the great a capella band. http://www.rockapella.com/\\r\\n\\r\\n-Corey Vidal: That dude really rocks !!\\r\\nhttp://www.youtube.com/user/ApprenticeA\\r\\n\\r\\n-Coca-cola: well you know that.\\r\\nhttp://www.coca-cola.com&#39;, title=&#39;Always Coca Cola A cappella&#39;), publishedAt=&#39;2009-10-01T20:53:09Z&#39;, tags=[&#39;coca&#39;, &#39;cola&#39;, &#39;coca-cola&#39;, &#39;song&#39;, &#39;cappella&#39;, &#39;rockappella&#39;, &#39;capella&#39;, &#39;rockapella&#39;, &#39;lip&#39;, &#39;sync&#39;, &#39;tribute&#39;, &#39;corey&#39;, &#39;vidal&#39;], thumbnails=Row(default=Row(height=90, url=&#39;https://i.ytimg.com/vi/3go6xFb0FrU/default.jpg&#39;, width=120), high=Row(height=360, url=&#39;https://i.ytimg.com/vi/3go6xFb0FrU/hqdefault.jpg&#39;, width=480), maxres=None, medium=Row(height=180, url=&#39;https://i.ytimg.com/vi/3go6xFb0FrU/mqdefault.jpg&#39;, width=320), standard=None), title=&#39;Always Coca Cola A cappella&#39;), statistics=Row(commentCount=&#39;18&#39;, dislikeCount=&#39;11&#39;, favoriteCount=&#39;0&#39;, likeCount=&#39;185&#39;, viewCount=&#39;30457&#39;), status=Row(embeddable=True, license=&#39;youtube&#39;, madeForKids=False, privacyStatus=&#39;public&#39;, publicStatsViewable=True, uploadStatus=&#39;processed&#39;), topicDetails=Row(relevantTopicIds=[&#39;/m/04rlf&#39;, &#39;/m/04rlf&#39;], topicCategories=[&#39;https://en.wikipedia.org/wiki/Music&#39;])), Row(contentDetails=Row(caption=&#39;false&#39;, contentRating=Row(ytRating=None), definition=&#39;sd&#39;, dimension=&#39;2d&#39;, duration=&#39;PT3M21S&#39;, licensedContent=False, projection=&#39;rectangular&#39;, regionRestriction=Row(allowed=None, blocked=[&#39;DK&#39;])), etag=&#39;ZrB9EOpryQEMx5gmOX52guLSzGw&#39;, id=&#39;L4OZxO1TnuE&#39;, kind=&#39;youtube#video&#39;, snippet=Row(categoryId=&#39;10&#39;, channelId=&#39;UCdq-B0LX11PFyGRVQ9nn9tA&#39;, channelTitle=&#39;Joana F.&#39;, defaultAudioLanguage=None, defaultLanguage=None, description=&#39;&#39;, liveBroadcastContent=&#39;none&#39;, localized=Row(description=&#39;&#39;, title=&#39;Dom La Nena  03 Vento&#39;), publishedAt=&#39;2013-05-27T08:42:35Z&#39;, tags=None, thumbnails=Row(default=Row(height=90, url=&#39;https://i.ytimg.com/vi/L4OZxO1TnuE/default.jpg&#39;, width=120), high=Row(height=360, url=&#39;https://i.ytimg.com/vi/L4OZxO1TnuE/hqdefault.jpg&#39;, width=480), maxres=None, medium=Row(height=180, url=&#39;https://i.ytimg.com/vi/L4OZxO1TnuE/mqdefault.jpg&#39;, width=320), standard=Row(height=480, url=&#39;https://i.ytimg.com/vi/L4OZxO1TnuE/sddefault.jpg&#39;, width=640)), title=&#39;Dom La Nena  03 Vento&#39;), statistics=Row(commentCount=&#39;1&#39;, dislikeCount=&#39;1&#39;, favoriteCount=&#39;0&#39;, likeCount=&#39;63&#39;, viewCount=&#39;9203&#39;), status=Row(embeddable=True, license=&#39;youtube&#39;, madeForKids=False, privacyStatus=&#39;public&#39;, publicStatsViewable=True, uploadStatus=&#39;processed&#39;), topicDetails=Row(relevantTopicIds=[&#39;/m/04rlf&#39;, &#39;/m/04rlf&#39;], topicCategories=[&#39;https://en.wikipedia.org/wiki/Music&#39;])), Row(contentDetails=Row(caption=&#39;false&#39;, contentRating=Row(ytRating=None), definition=&#39;sd&#39;, dimension=&#39;2d&#39;, duration=&#39;PT5M28S&#39;, licensedContent=False, projection=&#39;rectangular&#39;, regionRestriction=Row(allowed=None, blocked=[&#39;DK&#39;])), etag=&#39;tzRWzvwGPgyf9XYkQQ6HZd9fpa4&#39;, id=&#39;AWmjDPfGIPs&#39;, kind=&#39;youtube#video&#39;, snippet=Row(categoryId=&#39;10&#39;, channelId=&#39;UC2GK1jS6xrYTh4Xo9qsYSgQ&#39;, channelTitle=&#39;Gazzz696&#39;, defaultAudioLanguage=None, defaultLanguage=None, description=&#39;Lazare Hoche - Luv Thang : Label - LH Edits : Released - 7th May 2012 : http://www.juno.co.uk/ppps/products/454244-01.htm&#39;, liveBroadcastContent=&#39;none&#39;, localized=Row(description=&#39;Lazare Hoche - Luv Thang : Label - LH Edits : Released - 7th May 2012 : http://www.juno.co.uk/ppps/products/454244-01.htm&#39;, title=&#39;Lazare Hoche - Luv Thang (LH Edits Limited Sampler)&#39;), publishedAt=&#39;2012-05-02T18:05:17Z&#39;, tags=[&#39;disco&#39;, &#39;edits&#39;], thumbnails=Row(default=Row(height=90, url=&#39;https://i.ytimg.com/vi/AWmjDPfGIPs/default.jpg&#39;, width=120), high=Row(height=360, url=&#39;https://i.ytimg.com/vi/AWmjDPfGIPs/hqdefault.jpg&#39;, width=480), maxres=None, medium=Row(height=180, url=&#39;https://i.ytimg.com/vi/AWmjDPfGIPs/mqdefault.jpg&#39;, width=320), standard=Row(height=480, url=&#39;https://i.ytimg.com/vi/AWmjDPfGIPs/sddefault.jpg&#39;, width=640)), title=&#39;Lazare Hoche - Luv Thang (LH Edits Limited Sampler)&#39;), statistics=Row(commentCount=&#39;13&#39;, dislikeCount=&#39;18&#39;, favoriteCount=&#39;0&#39;, likeCount=&#39;1141&#39;, viewCount=&#39;92552&#39;), status=Row(embeddable=True, license=&#39;youtube&#39;, madeForKids=False, privacyStatus=&#39;public&#39;, publicStatsViewable=True, uploadStatus=&#39;processed&#39;), topicDetails=Row(relevantTopicIds=[&#39;/m/04rlf&#39;, &#39;/m/04rlf&#39;], topicCategories=[&#39;https://en.wikipedia.org/wiki/Music&#39;])), Row(contentDetails=Row(caption=&#39;false&#39;, contentRating=Row(ytRating=None), definition=&#39;sd&#39;, dimension=&#39;2d&#39;, duration=&#39;PT4M44S&#39;, licensedContent=False, projection=&#39;rectangular&#39;, regionRestriction=None), etag=&#39;hKjOpibmE2CzVFrGIOB-xFdUirI&#39;, id=&#39;licyt5FQ0cU&#39;, kind=&#39;youtube#video&#39;, snippet=Row(categoryId=&#39;10&#39;, channelId=&#39;UCTvdoLDE9nGiJ4Y_Mjn4Nrw&#39;, channelTitle=&#39;zpobric&#39;, defaultAudioLanguage=None, defaultLanguage=None, description=&#34;A quickly made video for &#39;The Other Side of Mt. Heart Attack&#39; by Liars from the record &#39;Drums Not Dead.&#39; First attempt at a video.&#34;, liveBroadcastContent=&#39;none&#39;, localized=Row(description=&#34;A quickly made video for &#39;The Other Side of Mt. Heart Attack&#39; by Liars from the record &#39;Drums Not Dead.&#39; First attempt at a video.&#34;, title=&#39;Liars - The Other Side of Mt. Heart Attack&#39;), publishedAt=&#39;2009-10-02T03:14:44Z&#39;, tags=[&#39;Liars&#39;, &#39;Mt. Heart Attack&#39;, &#39;Drums Not Dead&#39;, &#39;Mountain&#39;], thumbnails=Row(default=Row(height=90, url=&#39;https://i.ytimg.com/vi/licyt5FQ0cU/default.jpg&#39;, width=120), high=Row(height=360, url=&#39;https://i.ytimg.com/vi/licyt5FQ0cU/hqdefault.jpg&#39;, width=480), maxres=None, medium=Row(height=180, url=&#39;https://i.ytimg.com/vi/licyt5FQ0cU/mqdefault.jpg&#39;, width=320), standard=None), title=&#39;Liars - The Other Side of Mt. Heart Attack&#39;), statistics=Row(commentCount=&#39;91&#39;, dislikeCount=&#39;33&#39;, favoriteCount=&#39;0&#39;, likeCount=&#39;1578&#39;, viewCount=&#39;180795&#39;), status=Row(embeddable=True, license=&#39;youtube&#39;, madeForKids=False, privacyStatus=&#39;public&#39;, publicStatsViewable=True, uploadStatus=&#39;processed&#39;), topicDetails=Row(relevantTopicIds=[&#39;/m/04rlf&#39;, &#39;/m/06by7&#39;, &#39;/m/05rwpb&#39;, &#39;/m/064t9&#39;, &#39;/m/04rlf&#39;, &#39;/m/06by7&#39;, &#39;/m/064t9&#39;], topicCategories=[&#39;https://en.wikipedia.org/wiki/Rock_music&#39;, &#39;https://en.wikipedia.org/wiki/Pop_music&#39;, &#39;https://en.wikipedia.org/wiki/Independent_music&#39;, &#39;https://en.wikipedia.org/wiki/Music&#39;])), Row(contentDetails=Row(caption=&#39;false&#39;, contentRating=Row(ytRating=None), definition=&#39;sd&#39;, dimension=&#39;2d&#39;, duration=&#39;PT4M12S&#39;, licensedContent=False, projection=&#39;rectangular&#39;, regionRestriction=Row(allowed=None, blocked=[&#39;SY&#39;, &#39;SX&#39;, &#39;SZ&#39;, &#39;SS&#39;, &#39;SR&#39;, &#39;ST&#39;, &#39;SV&#39;, &#39;SI&#39;, &#39;SH&#39;, &#39;SK&#39;, &#39;SJ&#39;, &#39;SM&#39;, &#39;SL&#39;, &#39;SO&#39;, &#39;SN&#39;, &#39;SA&#39;, &#39;SC&#39;, &#39;SB&#39;, &#39;SE&#39;, &#39;SD&#39;, &#39;SG&#39;, &#39;CI&#39;, &#39;CH&#39;, &#39;CK&#39;, &#39;KR&#39;, &#39;CM&#39;, &#39;CL&#39;, &#39;CO&#39;, &#39;CN&#39;, &#39;CA&#39;, &#39;PL&#39;, &#39;CC&#39;, &#39;KZ&#39;, &#39;CD&#39;, &#39;CG&#39;, &#39;CF&#39;, &#39;CY&#39;, &#39;CX&#39;, &#39;CZ&#39;, &#39;KE&#39;, &#39;KG&#39;, &#39;KI&#39;, &#39;KH&#39;, &#39;CR&#39;, &#39;CU&#39;, &#39;CW&#39;, &#39;CV&#39;, &#39;PR&#39;, &#39;PS&#39;, &#39;PT&#39;, &#39;HM&#39;, &#39;HN&#39;, &#39;PW&#39;, &#39;PY&#39;, &#39;PA&#39;, &#39;PE&#39;, &#39;PF&#39;, &#39;PG&#39;, &#39;PH&#39;, &#39;HR&#39;, &#39;PK&#39;, &#39;HT&#39;, &#39;HU&#39;, &#39;PN&#39;, &#39;TW&#39;, &#39;UM&#39;, &#39;IO&#39;, &#39;IN&#39;, &#39;IM&#39;, &#39;IL&#39;, &#39;ZW&#39;, &#39;IE&#39;, &#39;ID&#39;, &#39;QA&#39;, &#39;IS&#39;, &#39;IR&#39;, &#39;IQ&#39;, &#39;IT&#39;, &#39;TL&#39;, &#39;TM&#39;, &#39;TN&#39;, &#39;TO&#39;, &#39;AG&#39;, &#39;AF&#39;, &#39;AE&#39;, &#39;AD&#39;, &#39;TD&#39;, &#39;AI&#39;, &#39;TG&#39;, &#39;AO&#39;, &#39;AM&#39;, &#39;TC&#39;, &#39;AS&#39;, &#39;AR&#39;, &#39;AQ&#39;, &#39;AW&#39;, &#39;AU&#39;, &#39;AT&#39;, &#39;TT&#39;, &#39;AZ&#39;, &#39;TV&#39;, &#39;AX&#39;, &#39;TR&#39;, &#39;NC&#39;, &#39;NA&#39;, &#39;NF&#39;, &#39;NG&#39;, &#39;NE&#39;, &#39;NI&#39;, &#39;NO&#39;, &#39;NL&#39;, &#39;NR&#39;, &#39;NP&#39;, &#39;VI&#39;, &#39;NU&#39;, &#39;NZ&#39;, &#39;VN&#39;, &#39;KW&#39;, &#39;FR&#39;, &#39;ZA&#39;, &#39;YT&#39;, &#39;FJ&#39;, &#39;FK&#39;, &#39;KY&#39;, &#39;FI&#39;, &#39;FO&#39;, &#39;FM&#39;, &#39;YE&#39;, &#39;OM&#39;, &#39;VA&#39;, &#39;WS&#39;, &#39;VG&#39;, &#39;WF&#39;, &#39;UG&#39;, &#39;VE&#39;, &#39;GE&#39;, &#39;GD&#39;, &#39;GG&#39;, &#39;GF&#39;, &#39;GA&#39;, &#39;GB&#39;, &#39;GM&#39;, &#39;GL&#39;, &#39;TK&#39;, &#39;ZM&#39;, &#39;GI&#39;, &#39;GH&#39;, &#39;GU&#39;, &#39;GT&#39;, &#39;GW&#39;, &#39;VC&#39;, &#39;GQ&#39;, &#39;GP&#39;, &#39;GS&#39;, &#39;GR&#39;, &#39;GY&#39;, &#39;PM&#39;, &#39;LA&#39;, &#39;LB&#39;, &#39;LC&#39;, &#39;LI&#39;, &#39;LK&#39;, &#39;LT&#39;, &#39;LU&#39;, &#39;LV&#39;, &#39;LR&#39;, &#39;LS&#39;, &#39;LY&#39;, &#39;JP&#39;, &#39;DZ&#39;, &#39;VU&#39;, &#39;KM&#39;, &#39;GN&#39;, &#39;DM&#39;, &#39;DO&#39;, &#39;DJ&#39;, &#39;DK&#39;, &#39;DE&#39;, &#39;KN&#39;, &#39;MG&#39;, &#39;MF&#39;, &#39;ME&#39;, &#39;MD&#39;, &#39;MC&#39;, &#39;MA&#39;, &#39;MO&#39;, &#39;MN&#39;, &#39;MM&#39;, &#39;ML&#39;, &#39;MK&#39;, &#39;US&#39;, &#39;MH&#39;, &#39;MW&#39;, &#39;MV&#39;, &#39;MU&#39;, &#39;MT&#39;, &#39;MS&#39;, &#39;MR&#39;, &#39;MQ&#39;, &#39;MP&#39;, &#39;BA&#39;, &#39;MZ&#39;, &#39;MY&#39;, &#39;MX&#39;, &#39;HK&#39;, &#39;TF&#39;, &#39;ET&#39;, &#39;ES&#39;, &#39;ER&#39;, &#39;KP&#39;, &#39;EH&#39;, &#39;EG&#39;, &#39;EE&#39;, &#39;EC&#39;, &#39;RW&#39;, &#39;RU&#39;, &#39;RS&#39;, &#39;RO&#39;, &#39;JO&#39;, &#39;TH&#39;, &#39;TZ&#39;, &#39;RE&#39;, &#39;BN&#39;, &#39;BO&#39;, &#39;BL&#39;, &#39;BM&#39;, &#39;BJ&#39;, &#39;TJ&#39;, &#39;BH&#39;, &#39;BI&#39;, &#39;BF&#39;, &#39;BG&#39;, &#39;BD&#39;, &#39;BE&#39;, &#39;BB&#39;, &#39;UA&#39;, &#39;AL&#39;, &#39;JE&#39;, &#39;BZ&#39;, &#39;UZ&#39;, &#39;UY&#39;, &#39;BY&#39;, &#39;BV&#39;, &#39;BW&#39;, &#39;BT&#39;, &#39;JM&#39;, &#39;BR&#39;, &#39;BS&#39;, &#39;BQ&#39;])), etag=&#39;2Ur8H6HY8PtTkKlmgqbKgqmDx2E&#39;, id=&#39;88tsEjceu78&#39;, kind=&#39;youtube#video&#39;, snippet=Row(categoryId=&#39;10&#39;, channelId=&#39;UCmMstRn9yTFPjwAi20ImULA&#39;, channelTitle=&#39;mony1&#39;, defaultAudioLanguage=None, defaultLanguage=None, description=&#39;video&#39;, liveBroadcastContent=&#39;none&#39;, localized=Row(description=&#39;video&#39;, title=&#34;NTM - That&#39;s my people&#34;), publishedAt=&#39;2006-01-13T09:54:37Z&#39;, tags=[&#39;ntm&#39;, &#39;video&#39;], thumbnails=Row(default=Row(height=90, url=&#39;https://i.ytimg.com/vi/88tsEjceu78/default.jpg&#39;, width=120), high=Row(height=360, url=&#39;https://i.ytimg.com/vi/88tsEjceu78/hqdefault.jpg&#39;, width=480), maxres=None, medium=Row(height=180, url=&#39;https://i.ytimg.com/vi/88tsEjceu78/mqdefault.jpg&#39;, width=320), standard=None), title=&#34;NTM - That&#39;s my people&#34;), statistics=Row(commentCount=&#39;1706&#39;, dislikeCount=&#39;264&#39;, favoriteCount=&#39;0&#39;, likeCount=&#39;12198&#39;, viewCount=&#39;4762994&#39;), status=Row(embeddable=True, license=&#39;youtube&#39;, madeForKids=False, privacyStatus=&#39;public&#39;, publicStatsViewable=True, uploadStatus=&#39;processed&#39;), topicDetails=Row(relevantTopicIds=[&#39;/m/04rlf&#39;, &#39;/m/0glt670&#39;, &#39;/m/04rlf&#39;, &#39;/m/0glt670&#39;], topicCategories=[&#39;https://en.wikipedia.org/wiki/Hip_hop_music&#39;, &#39;https://en.wikipedia.org/wiki/Music&#39;])), Row(contentDetails=Row(caption=&#39;true&#39;, contentRating=Row(ytRating=None), definition=&#39;sd&#39;, dimension=&#39;2d&#39;, duration=&#39;PT6M2S&#39;, licensedContent=False, projection=&#39;rectangular&#39;, regionRestriction=Row(allowed=None, blocked=[&#39;DK&#39;])), etag=&#39;QNDBQuIGxfR66S_HP_zSib1h4GQ&#39;, id=&#39;hPyzYcrVU-k&#39;, kind=&#39;youtube#video&#39;, snippet=Row(categoryId=&#39;1&#39;, channelId=&#39;UC5waXguxTDV09TNHkjhHAuQ&#39;, channelTitle=&#39;Mudar Noufal&#39;, defaultAudioLanguage=&#39;fr-FR&#39;, defaultLanguage=None, description=&#39;Footage is from Jean Eustache\\&#39;s cult movie &#34;La maman et la putain&#34;. My favorite movie, so it was the best Avid Xpress training project! \\n\\nFilm ecrit et realise par Jean Eustache (1973). La musique est de Diabologum, sur leur album &#34;#3&#34; (1996).\\n\\nRéduire un tel film de 3h40 à 6 minutes est probablement un crime, mais je m\\&#39;estime pardonné si le clip encourage 6 personnes à découvrir l\\&#39;oeuvre d\\&#39;Eustache! Montage réalisé sous Avid Xpress Pro, à partir d\\&#39;une version DivX du film (n\\&#39;étant pas disponible en DVD). [juin 2004]&#39;, liveBroadcastContent=&#39;none&#39;, localized=Row(description=&#39;Footage is from Jean Eustache\\&#39;s cult movie &#34;La maman et la putain&#34;. My favorite movie, so it was the best Avid Xpress training project! \\n\\nFilm ecrit et realise par Jean Eustache (1973). La musique est de Diabologum, sur leur album &#34;#3&#34; (1996).\\n\\nRéduire un tel film de 3h40 à 6 minutes est probablement un crime, mais je m\\&#39;estime pardonné si le clip encourage 6 personnes à découvrir l\\&#39;oeuvre d\\&#39;Eustache! Montage réalisé sous Avid Xpress Pro, à partir d\\&#39;une version DivX du film (n\\&#39;étant pas disponible en DVD). [juin 2004]&#39;, title=&#39;La maman et la putain, Diabologum&#39;), publishedAt=&#39;2006-10-14T05:33:19Z&#39;, tags=[&#39;Jean&#39;, &#39;Eustache&#39;, &#39;Diabologum&#39;, &#39;La&#39;, &#39;maman&#39;, &#39;et&#39;, &#39;la&#39;, &#39;putain&#39;, &#39;Françoise&#39;, &#39;Lebrun&#39;, &#39;Jean-Pierre&#39;, &#39;Léaud&#39;], thumbnails=Row(default=Row(height=90, url=&#39;https://i.ytimg.com/vi/hPyzYcrVU-k/default.jpg&#39;, width=120), high=Row(height=360, url=&#39;https://i.ytimg.com/vi/hPyzYcrVU-k/hqdefault.jpg&#39;, width=480), maxres=None, medium=Row(height=180, url=&#39;https://i.ytimg.com/vi/hPyzYcrVU-k/mqdefault.jpg&#39;, width=320), standard=None), title=&#39;La maman et la putain, Diabologum&#39;), statistics=Row(commentCount=&#39;24&#39;, dislikeCount=&#39;19&#39;, favoriteCount=&#39;0&#39;, likeCount=&#39;370&#39;, viewCount=&#39;212823&#39;), status=Row(embeddable=True, license=&#39;youtube&#39;, madeForKids=False, privacyStatus=&#39;public&#39;, publicStatsViewable=True, uploadStatus=&#39;processed&#39;), topicDetails=Row(relevantTopicIds=[&#39;/m/04rlf&#39;, &#39;/m/05rwpb&#39;, &#39;/m/04rlf&#39;, &#39;/m/05rwpb&#39;], topicCategories=[&#39;https://en.wikipedia.org/wiki/Independent_music&#39;, &#39;https://en.wikipedia.org/wiki/Music&#39;])), Row(contentDetails=Row(caption=&#39;false&#39;, contentRating=Row(ytRating=None), definition=&#39;sd&#39;, dimension=&#39;2d&#39;, duration=&#39;PT3M28S&#39;, licensedContent=False, projection=&#39;rectangular&#39;, regionRestriction=None), etag=&#39;jzC_XeC62AQwcfDGL1ZPz-ecCfQ&#39;, id=&#39;6gwbXjHNcwA&#39;, kind=&#39;youtube#video&#39;, snippet=Row(categoryId=&#39;10&#39;, channelId=&#39;UCrkwXyJhnXPBAtG7sxSk2Gw&#39;, channelTitle=&#39;pcindarellie&#39;, defaultAudioLanguage=None, defaultLanguage=None, description=&#39;from Room on Fire&#39;, liveBroadcastContent=&#39;none&#39;, localized=Row(description=&#39;from Room on Fire&#39;, title=&#39;The Strokes - Automatic Stop&#39;), publishedAt=&#39;2007-12-12T00:34:15Z&#39;, tags=[&#39;The&#39;, &#39;Strokes&#39;, &#39;Automatic&#39;, &#39;Stop&#39;], thumbnails=Row(default=Row(height=90, url=&#39;https://i.ytimg.com/vi/6gwbXjHNcwA/default.jpg&#39;, width=120), high=Row(height=360, url=&#39;https://i.ytimg.com/vi/6gwbXjHNcwA/hqdefault.jpg&#39;, width=480), maxres=None, medium=Row(height=180, url=&#39;https://i.ytimg.com/vi/6gwbXjHNcwA/mqdefault.jpg&#39;, width=320), standard=None), title=&#39;The Strokes - Automatic Stop&#39;), statistics=Row(commentCount=None, dislikeCount=&#39;284&#39;, favoriteCount=&#39;0&#39;, likeCount=&#39;13433&#39;, viewCount=&#39;3106302&#39;), status=Row(embeddable=True, license=&#39;youtube&#39;, madeForKids=False, privacyStatus=&#39;public&#39;, publicStatsViewable=True, uploadStatus=&#39;processed&#39;), topicDetails=Row(relevantTopicIds=[&#39;/m/04rlf&#39;, &#39;/m/06by7&#39;, &#39;/m/064t9&#39;, &#39;/m/04rlf&#39;, &#39;/m/06by7&#39;, &#39;/m/064t9&#39;], topicCategories=[&#39;https://en.wikipedia.org/wiki/Rock_music&#39;, &#39;https://en.wikipedia.org/wiki/Pop_music&#39;, &#39;https://en.wikipedia.org/wiki/Music&#39;])), Row(contentDetails=Row(caption=&#39;false&#39;, contentRating=Row(ytRating=None), definition=&#39;hd&#39;, dimension=&#39;2d&#39;, duration=&#39;PT6M23S&#39;, licensedContent=True, projection=&#39;rectangular&#39;, regionRestriction=None), etag=&#39;IdE1IiBmZpRW6W6PhvGStpUgME4&#39;, id=&#39;jNlDkOkYY30&#39;, kind=&#39;youtube#video&#39;, snippet=Row(categoryId=&#39;10&#39;, channelId=&#39;UC6AHeJa7s9-Brs6VyXy6Dwg&#39;, channelTitle=&#39;FUTURE INC.&#39;, defaultAudioLanguage=&#39;en&#39;, defaultLanguage=None, description=&#34;The new Skyden release with a brilliant electro house sound. Every once in a while at Vicious we uncover a producer who goes on to BIG things. Here is our latest prediction: SKYDEN. Outstanding melodic production with sheer POWER from this young wunderkid hailing from Melbourne, Australia. Here we bring you his debut record &#39;Burning Light&#39; featuring graceful 19yo singer/songwriter SASKA who delivers a delicate and emotive performance. \\n\\nSubscribe Electro Music TV on Youtube - http://goo.gl/WVPyYC\\nElectro Music Tv @ Facebook - http://www.facebook.com/ElectroMusicTV1\\nElectro Music TV on Google Plus: https://plus.google.com/+ElectroMusicTV\\n\\nThe Skyden Video Content licensed under cc license from:\\nEdmundo Yeomans - http://vimeo.com/eyeomans/r3habon\\nEdmundo Yeomans - http://vimeo.com/eyeomans/klaas\\nAustin Hastings  - http://vimeo.com/19520523\\n\\n\\n\\n\\nSkyden feat. Saska - Burning Light (Original Mix) - Vicious Recordings \\nRelease Date: 2013-08-05, Genre:Electro House \\n\\n\\nSkyden feat. Saska - Burning Light (Original Mix) at Djshop:\\nhttp://www.djshop.de/Download-skyden-feat-saska-burning-light/ex/s~details,u~8460000187,p1~mp3/xe/details.html\\n\\nSkyden feat. Saska - Burning Light (Original Mix) at Amazon:\\nhttp://www.amazon.com/Burning-Light-Original-Mix/dp/B00DEVHGOA\\n\\nSkyden feat. Saska - Burning Light (Original Mix) at djtunes:\\nhttp://www.djtunes.com/skyden/vicious-cuts-2013/burning-light__2463517\\n\\nSkyden feat. Saska - Burning Light (Original Mix) at Beatport:\\nhttp://www.beatport.com/release/burning-light/1131184\\n\\n\\nSkyden at Facebook:\\nhttps://www.facebook.com/SkydenOfficial\\n\\nSkyden at soundcloud:\\nhttp://soundcloud.com/skydenofficial\\n\\nSkyden at youtube:\\nhttps://www.youtube.com/user/SkydenOfficial\\n\\nSkyden at instagram:\\nhttp://instagram.com/skydenofficial\\n\\nSkyden at twitter:\\nhttps://twitter.com/SkydenOfficial\\n\\n\\n\\nLabel Homepage:\\nwww.viciousrecordings.com\\n\\nFacebook:\\nhttps://www.facebook.com/viciousrecordings\\n\\nTwitter:\\nhttps://twitter.com/viciousrecs&#34;, liveBroadcastContent=&#39;none&#39;, localized=Row(description=&#34;The new Skyden release with a brilliant electro house sound. Every once in a while at Vicious we uncover a producer who goes on to BIG things. Here is our latest prediction: SKYDEN. Outstanding melodic production with sheer POWER from this young wunderkid hailing from Melbourne, Australia. Here we bring you his debut record &#39;Burning Light&#39; featuring graceful 19yo singer/songwriter SASKA who delivers a delicate and emotive performance. \\n\\nSubscribe Electro Music TV on Youtube - http://goo.gl/WVPyYC\\nElectro Music Tv @ Facebook - http://www.facebook.com/ElectroMusicTV1\\nElectro Music TV on Google Plus: https://plus.google.com/+ElectroMusicTV\\n\\nThe Skyden Video Content licensed under cc license from:\\nEdmundo Yeomans - http://vimeo.com/eyeomans/r3habon\\nEdmundo Yeomans - http://vimeo.com/eyeomans/klaas\\nAustin Hastings  - http://vimeo.com/19520523\\n\\n\\n\\n\\nSkyden feat. Saska - Burning Light (Original Mix) - Vicious Recordings \\nRelease Date: 2013-08-05, Genre:Electro House \\n\\n\\nSkyden feat. Saska - Burning Light (Original Mix) at Djshop:\\nhttp://www.djshop.de/Download-skyden-feat-saska-burning-light/ex/s~details,u~8460000187,p1~mp3/xe/details.html\\n\\nSkyden feat. Saska - Burning Light (Original Mix) at Amazon:\\nhttp://www.amazon.com/Burning-Light-Original-Mix/dp/B00DEVHGOA\\n\\nSkyden feat. Saska - Burning Light (Original Mix) at djtunes:\\nhttp://www.djtunes.com/skyden/vicious-cuts-2013/burning-light__2463517\\n\\nSkyden feat. Saska - Burning Light (Original Mix) at Beatport:\\nhttp://www.beatport.com/release/burning-light/1131184\\n\\n\\nSkyden at Facebook:\\nhttps://www.facebook.com/SkydenOfficial\\n\\nSkyden at soundcloud:\\nhttp://soundcloud.com/skydenofficial\\n\\nSkyden at youtube:\\nhttps://www.youtube.com/user/SkydenOfficial\\n\\nSkyden at instagram:\\nhttp://instagram.com/skydenofficial\\n\\nSkyden at twitter:\\nhttps://twitter.com/SkydenOfficial\\n\\n\\n\\nLabel Homepage:\\nwww.viciousrecordings.com\\n\\nFacebook:\\nhttps://www.facebook.com/viciousrecordings\\n\\nTwitter:\\nhttps://twitter.com/viciousrecs&#34;, title=&#39;Skyden feat. Saska - Burning Light (Official Video)&#39;), publishedAt=&#39;2013-08-30T14:01:24Z&#39;, tags=[&#39;Skyden&#39;, &#39;electro house&#39;, &#39;Official&#39;, &#39;Electro Music TV&#39;], thumbnails=Row(default=Row(height=90, url=&#39;https://i.ytimg.com/vi/jNlDkOkYY30/default.jpg&#39;, width=120), high=Row(height=360, url=&#39;https://i.ytimg.com/vi/jNlDkOkYY30/hqdefault.jpg&#39;, width=480), maxres=Row(height=720, url=&#39;https://i.ytimg.com/vi/jNlDkOkYY30/maxresdefault.jpg&#39;, width=1280), medium=Row(height=180, url=&#39;https://i.ytimg.com/vi/jNlDkOkYY30/mqdefault.jpg&#39;, width=320), standard=Row(height=480, url=&#39;https://i.ytimg.com/vi/jNlDkOkYY30/sddefault.jpg&#39;, width=640)), title=&#39;Skyden feat. Saska - Burning Light (Official Video)&#39;), statistics=Row(commentCount=&#39;10&#39;, dislikeCount=&#39;15&#39;, favoriteCount=&#39;0&#39;, likeCount=&#39;150&#39;, viewCount=&#39;26428&#39;), status=Row(embeddable=True, license=&#39;youtube&#39;, madeForKids=False, privacyStatus=&#39;public&#39;, publicStatsViewable=True, uploadStatus=&#39;processed&#39;), topicDetails=Row(relevantTopicIds=[&#39;/m/04rlf&#39;, &#39;/m/02lkt&#39;, &#39;/m/04rlf&#39;, &#39;/m/02lkt&#39;], topicCategories=[&#39;https://en.wikipedia.org/wiki/Electronic_music&#39;, &#39;https://en.wikipedia.org/wiki/Music&#39;])), Row(contentDetails=Row(caption=&#39;false&#39;, contentRating=Row(ytRating=None), definition=&#39;sd&#39;, dimension=&#39;2d&#39;, duration=&#39;PT3M24S&#39;, licensedContent=False, projection=&#39;rectangular&#39;, regionRestriction=None), etag=&#39;PtzY3u9kfVHJ70taBUwzUvlNhnI&#39;, id=&#39;gTWTUTvDHFQ&#39;, kind=&#39;youtube#video&#39;, snippet=Row(categoryId=&#39;10&#39;, channelId=&#39;UCSf4_PUsFJLSniJ779I-NmA&#39;, channelTitle=&#39;giftstribution&#39;, defaultAudioLanguage=None, defaultLanguage=None, description=&#39;First single from Escape 2 Mars! Download from http://www.giftstribution.com/escape2marsdownload.html\\r\\nPre-Order now at http://www.giftstribution.com/&#39;, liveBroadcastContent=&#39;none&#39;, localized=Row(description=&#39;First single from Escape 2 Mars! Download from http://www.giftstribution.com/escape2marsdownload.html\\r\\nPre-Order now at http://www.giftstribution.com/&#39;, title=&#39;Gift of Gab - El Gifto Magnifico&#39;), publishedAt=&#39;2009-08-30T15:45:59Z&#39;, tags=[&#39;Gift&#39;, &#39;of&#39;, &#39;Gab&#39;, &#39;Blackalicious&#39;, &#39;Quannum&#39;, &#39;Escape&#39;, &#39;Mars&#39;, &#39;El&#39;, &#39;Gifto&#39;, &#39;Magnifico&#39;], thumbnails=Row(default=Row(height=90, url=&#39;https://i.ytimg.com/vi/gTWTUTvDHFQ/default.jpg&#39;, width=120), high=Row(height=360, url=&#39;https://i.ytimg.com/vi/gTWTUTvDHFQ/hqdefault.jpg&#39;, width=480), maxres=None, medium=Row(height=180, url=&#39;https://i.ytimg.com/vi/gTWTUTvDHFQ/mqdefault.jpg&#39;, width=320), standard=None), title=&#39;Gift of Gab - El Gifto Magnifico&#39;), statistics=Row(commentCount=&#39;51&#39;, dislikeCount=&#39;12&#39;, favoriteCount=&#39;0&#39;, likeCount=&#39;581&#39;, viewCount=&#39;103988&#39;), status=Row(embeddable=True, license=&#39;youtube&#39;, madeForKids=False, privacyStatus=&#39;public&#39;, publicStatsViewable=True, uploadStatus=&#39;processed&#39;), topicDetails=Row(relevantTopicIds=[&#39;/m/04rlf&#39;, &#39;/m/0glt670&#39;, &#39;/m/0glt670&#39;, &#39;/m/04rlf&#39;], topicCategories=[&#39;https://en.wikipedia.org/wiki/Hip_hop_music&#39;, &#39;https://en.wikipedia.org/wiki/Music&#39;])), Row(contentDetails=Row(caption=&#39;false&#39;, contentRating=Row(ytRating=None), definition=&#39;sd&#39;, dimension=&#39;2d&#39;, duration=&#39;PT3M24S&#39;, licensedContent=False, projection=&#39;rectangular&#39;, regionRestriction=Row(allowed=None, blocked=[&#39;SY&#39;, &#39;SX&#39;, &#39;SZ&#39;, &#39;SS&#39;, &#39;SR&#39;, &#39;IL&#39;, &#39;ST&#39;, &#39;SV&#39;, &#39;SI&#39;, &#39;SH&#39;, &#39;SK&#39;, &#39;SJ&#39;, &#39;SM&#39;, &#39;SL&#39;, &#39;SO&#39;, &#39;SN&#39;, &#39;SA&#39;, &#39;SC&#39;, &#39;SB&#39;, &#39;SE&#39;, &#39;SD&#39;, &#39;SG&#39;, &#39;CI&#39;, &#39;KP&#39;, &#39;CK&#39;, &#39;KR&#39;, &#39;CM&#39;, &#39;CL&#39;, &#39;CO&#39;, &#39;CN&#39;, &#39;CA&#39;, &#39;PL&#39;, &#39;CC&#39;, &#39;VA&#39;, &#39;CD&#39;, &#39;CG&#39;, &#39;CF&#39;, &#39;CY&#39;, &#39;CX&#39;, &#39;PS&#39;, &#39;CZ&#39;, &#39;KE&#39;, &#39;KG&#39;, &#39;KI&#39;, &#39;KH&#39;, &#39;CR&#39;, &#39;KM&#39;, &#39;TC&#39;, &#39;CW&#39;, &#39;CV&#39;, &#39;PR&#39;, &#39;HK&#39;, &#39;PT&#39;, &#39;HM&#39;, &#39;HN&#39;, &#39;PW&#39;, &#39;PY&#39;, &#39;PA&#39;, &#39;PE&#39;, &#39;PF&#39;, &#39;PG&#39;, &#39;PH&#39;, &#39;HR&#39;, &#39;PK&#39;, &#39;HT&#39;, &#39;HU&#39;, &#39;PN&#39;, &#39;TW&#39;, &#39;ZM&#39;, &#39;UM&#39;, &#39;IO&#39;, &#39;IN&#39;, &#39;IM&#39;, &#39;KY&#39;, &#39;ZW&#39;, &#39;IE&#39;, &#39;ID&#39;, &#39;QA&#39;, &#39;NI&#39;, &#39;IS&#39;, &#39;IR&#39;, &#39;IQ&#39;, &#39;VG&#39;, &#39;IT&#39;, &#39;TL&#39;, &#39;TM&#39;, &#39;TN&#39;, &#39;TO&#39;, &#39;AG&#39;, &#39;AF&#39;, &#39;TJ&#39;, &#39;AD&#39;, &#39;TD&#39;, &#39;AI&#39;, &#39;TG&#39;, &#39;AO&#39;, &#39;AM&#39;, &#39;AL&#39;, &#39;AS&#39;, &#39;AR&#39;, &#39;AQ&#39;, &#39;AW&#39;, &#39;\n*** WARNING: skipped 60547 bytes of output ***\n\n</div>",
       "datasetInfos": [],
       "removedWidgets": [],
       "type": "html"
      }
     },
     "output_type": "display_data"
    }
   ],
   "source": []
  },
  {
   "attachments": {},
   "cell_type": "markdown",
   "metadata": {
    "application/vnd.databricks.v1+cell": {
     "inputWidgets": {},
     "nuid": "a060cd34-8701-4d69-809c-ddee879eeac3",
     "showTitle": false,
     "title": ""
    }
   },
   "source": [
    "What's the type of `sample_item`?\n",
    "\n",
    "15. Print out the type of `sample_item`"
   ]
  },
  {
   "cell_type": "code",
   "execution_count": null,
   "metadata": {
    "application/vnd.databricks.v1+cell": {
     "inputWidgets": {},
     "nuid": "481bbab9-b85a-4142-91f4-49ebbb96521f",
     "showTitle": false,
     "title": ""
    }
   },
   "outputs": [
    {
     "data": {
      "text/html": [
       "<style scoped>\n",
       "  .ansiout {\n",
       "    display: block;\n",
       "    unicode-bidi: embed;\n",
       "    white-space: pre-wrap;\n",
       "    word-wrap: break-word;\n",
       "    word-break: break-all;\n",
       "    font-family: \"Source Code Pro\", \"Menlo\", monospace;;\n",
       "    font-size: 13px;\n",
       "    color: #555;\n",
       "    margin-left: 4px;\n",
       "    line-height: 19px;\n",
       "  }\n",
       "</style>\n",
       "<div class=\"ansiout\">Out[19]: list</div>"
      ]
     },
     "metadata": {
      "application/vnd.databricks.v1+output": {
       "addedWidgets": {},
       "arguments": {},
       "data": "<div class=\"ansiout\">Out[19]: list</div>",
       "datasetInfos": [],
       "removedWidgets": [],
       "type": "html"
      }
     },
     "output_type": "display_data"
    }
   ],
   "source": []
  },
  {
   "attachments": {},
   "cell_type": "markdown",
   "metadata": {
    "application/vnd.databricks.v1+cell": {
     "inputWidgets": {},
     "nuid": "2f7ec2d4-bea2-4203-9018-8f95bce4586c",
     "showTitle": false,
     "title": ""
    }
   },
   "source": [
    "That's a `list`. How many elements does this list contains?\n",
    "\n",
    "16. Print out the number of elements in `sample_item`"
   ]
  },
  {
   "cell_type": "code",
   "execution_count": null,
   "metadata": {
    "application/vnd.databricks.v1+cell": {
     "inputWidgets": {},
     "nuid": "9de457a3-d5d9-4127-bec1-0f3be14b83e7",
     "showTitle": false,
     "title": ""
    }
   },
   "outputs": [
    {
     "data": {
      "text/html": [
       "<style scoped>\n",
       "  .ansiout {\n",
       "    display: block;\n",
       "    unicode-bidi: embed;\n",
       "    white-space: pre-wrap;\n",
       "    word-wrap: break-word;\n",
       "    word-break: break-all;\n",
       "    font-family: \"Source Code Pro\", \"Menlo\", monospace;;\n",
       "    font-size: 13px;\n",
       "    color: #555;\n",
       "    margin-left: 4px;\n",
       "    line-height: 19px;\n",
       "  }\n",
       "</style>\n",
       "<div class=\"ansiout\">Out[20]: 1</div>"
      ]
     },
     "metadata": {
      "application/vnd.databricks.v1+output": {
       "addedWidgets": {},
       "arguments": {},
       "data": "<div class=\"ansiout\">Out[20]: 1</div>",
       "datasetInfos": [],
       "removedWidgets": [],
       "type": "html"
      }
     },
     "output_type": "display_data"
    }
   ],
   "source": []
  },
  {
   "attachments": {},
   "cell_type": "markdown",
   "metadata": {
    "application/vnd.databricks.v1+cell": {
     "inputWidgets": {},
     "nuid": "1c80b03a-c331-4bef-aade-1a6a778d1982",
     "showTitle": false,
     "title": ""
    }
   },
   "source": [
    "Only one :)\n",
    "\n",
    "What do we do then?\n",
    "\n",
    "**We keep zooming in**: we will look inside the list.\n",
    "\n",
    "We will take the first (and only) element of the `sample_item`, remember `sample_item` is a `list`, and lists are [indexable](https://docs.python.org/2/reference/datamodel.html#emulating-container-types).\n",
    "\n",
    "17. Take the first element of sample_item"
   ]
  },
  {
   "cell_type": "code",
   "execution_count": null,
   "metadata": {
    "application/vnd.databricks.v1+cell": {
     "inputWidgets": {},
     "nuid": "7668664c-9834-4b35-bce4-5e6f83d5c55b",
     "showTitle": false,
     "title": ""
    }
   },
   "outputs": [
    {
     "data": {
      "text/html": [
       "<style scoped>\n",
       "  .ansiout {\n",
       "    display: block;\n",
       "    unicode-bidi: embed;\n",
       "    white-space: pre-wrap;\n",
       "    word-wrap: break-word;\n",
       "    word-break: break-all;\n",
       "    font-family: \"Source Code Pro\", \"Menlo\", monospace;;\n",
       "    font-size: 13px;\n",
       "    color: #555;\n",
       "    margin-left: 4px;\n",
       "    line-height: 19px;\n",
       "  }\n",
       "</style>\n",
       "<div class=\"ansiout\"></div>"
      ]
     },
     "metadata": {
      "application/vnd.databricks.v1+output": {
       "addedWidgets": {},
       "arguments": {},
       "data": "<div class=\"ansiout\"></div>",
       "datasetInfos": [],
       "removedWidgets": [],
       "type": "html"
      }
     },
     "output_type": "display_data"
    }
   ],
   "source": []
  },
  {
   "attachments": {},
   "cell_type": "markdown",
   "metadata": {},
   "source": [
    "18. Print out the type of `row_item`"
   ]
  },
  {
   "cell_type": "code",
   "execution_count": null,
   "metadata": {
    "application/vnd.databricks.v1+cell": {
     "inputWidgets": {},
     "nuid": "b774bc19-6c3b-475c-84de-2651f16570be",
     "showTitle": false,
     "title": ""
    }
   },
   "outputs": [
    {
     "data": {
      "text/html": [
       "<style scoped>\n",
       "  .ansiout {\n",
       "    display: block;\n",
       "    unicode-bidi: embed;\n",
       "    white-space: pre-wrap;\n",
       "    word-wrap: break-word;\n",
       "    word-break: break-all;\n",
       "    font-family: \"Source Code Pro\", \"Menlo\", monospace;;\n",
       "    font-size: 13px;\n",
       "    color: #555;\n",
       "    margin-left: 4px;\n",
       "    line-height: 19px;\n",
       "  }\n",
       "</style>\n",
       "<div class=\"ansiout\">Out[22]: pyspark.sql.types.Row</div>"
      ]
     },
     "metadata": {
      "application/vnd.databricks.v1+output": {
       "addedWidgets": {},
       "arguments": {},
       "data": "<div class=\"ansiout\">Out[22]: pyspark.sql.types.Row</div>",
       "datasetInfos": [],
       "removedWidgets": [],
       "type": "html"
      }
     },
     "output_type": "display_data"
    }
   ],
   "source": []
  },
  {
   "attachments": {},
   "cell_type": "markdown",
   "metadata": {
    "application/vnd.databricks.v1+cell": {
     "inputWidgets": {},
     "nuid": "403910ce-f786-4c51-8de5-23d9254ce57e",
     "showTitle": false,
     "title": ""
    }
   },
   "source": [
    "No surprise we gave it the name `row_item`.  \n",
    "Although, next time you do this by yourself, you might have to first zoom inside to understand what kind of variable we're dealing with so that you can then give it a proper name.\n",
    "\n",
    "As we keep zooming in, it's gonna get harder and harder to find good names for the variables.  \n",
    "If we were doing production ready code, that would be a problem. But here, we're doing analysis, and our main objective is speed.  \n",
    "That doesn't mean we should choose stupid names, that would make our code harder to read, but we don't have to obsess over it.\n",
    "\n",
    "This idea of finding good names for the variables you are using and any object you have to name in your code is important and is part of a programming philosophy of writing \"legacy code\". Legacy code is code that is here to stay and will be used and reused and updated many times and by many different people, therefore making it easy to read and understandable is essential. But if you think about it, any code is legacy code, when you'll come back to one of these exercises in the future or some old code you wrote to refresh your memory about something, you'll be glad you took some extra time to write clean and understandable code ;)\n",
    "\n",
    "19. Print out the length of `row_item`"
   ]
  },
  {
   "cell_type": "code",
   "execution_count": null,
   "metadata": {
    "application/vnd.databricks.v1+cell": {
     "inputWidgets": {},
     "nuid": "5650d166-9006-4017-b312-c801eb6faf16",
     "showTitle": false,
     "title": ""
    }
   },
   "outputs": [
    {
     "data": {
      "text/html": [
       "<style scoped>\n",
       "  .ansiout {\n",
       "    display: block;\n",
       "    unicode-bidi: embed;\n",
       "    white-space: pre-wrap;\n",
       "    word-wrap: break-word;\n",
       "    word-break: break-all;\n",
       "    font-family: \"Source Code Pro\", \"Menlo\", monospace;;\n",
       "    font-size: 13px;\n",
       "    color: #555;\n",
       "    margin-left: 4px;\n",
       "    line-height: 19px;\n",
       "  }\n",
       "</style>\n",
       "<div class=\"ansiout\">Out[23]: 1</div>"
      ]
     },
     "metadata": {
      "application/vnd.databricks.v1+output": {
       "addedWidgets": {},
       "arguments": {},
       "data": "<div class=\"ansiout\">Out[23]: 1</div>",
       "datasetInfos": [],
       "removedWidgets": [],
       "type": "html"
      }
     },
     "output_type": "display_data"
    }
   ],
   "source": []
  },
  {
   "attachments": {},
   "cell_type": "markdown",
   "metadata": {
    "application/vnd.databricks.v1+cell": {
     "inputWidgets": {},
     "nuid": "17633e16-5b53-42ea-b0e4-485545566dc7",
     "showTitle": false,
     "title": ""
    }
   },
   "source": [
    "You know the drill, only one item in this sequence. Let's dig it out.\n",
    "\n",
    "20. print out the first item of the `Row` object\n",
    "\n",
    "*NOTE: DO NOT USE `print(...)`, the notebook will just print it out itself it would not break, but it would be harder to use*"
   ]
  },
  {
   "cell_type": "code",
   "execution_count": null,
   "metadata": {
    "application/vnd.databricks.v1+cell": {
     "inputWidgets": {},
     "nuid": "08c7fff8-d68b-4dd5-9436-2e6add04247c",
     "showTitle": false,
     "title": ""
    }
   },
   "outputs": [
    {
     "data": {
      "text/html": [
       "<style scoped>\n",
       "  .ansiout {\n",
       "    display: block;\n",
       "    unicode-bidi: embed;\n",
       "    white-space: pre-wrap;\n",
       "    word-wrap: break-word;\n",
       "    word-break: break-all;\n",
       "    font-family: \"Source Code Pro\", \"Menlo\", monospace;;\n",
       "    font-size: 13px;\n",
       "    color: #555;\n",
       "    margin-left: 4px;\n",
       "    line-height: 19px;\n",
       "  }\n",
       "</style>\n",
       "<div class=\"ansiout\">Out[24]: [Row(contentDetails=Row(caption=&#39;false&#39;, contentRating=Row(ytRating=None), definition=&#39;sd&#39;, dimension=&#39;2d&#39;, duration=&#39;PT3M33S&#39;, licensedContent=True, projection=&#39;rectangular&#39;, regionRestriction=None), etag=&#39;SqP7uUVSol30dxvuScN6JUny6T4&#39;, id=&#39;t1l8Z6gLPzo&#39;, kind=&#39;youtube#video&#39;, snippet=Row(categoryId=&#39;10&#39;, channelId=&#39;UCUERSOitwgUq_37kGslN96w&#39;, channelTitle=&#39;VOLO&#39;, defaultAudioLanguage=None, defaultLanguage=None, description=&#39;Enregistré et mixé par Cyrille PELTIER au &#34;Keen Studio&#34; à Tours.\\nMerci à Cyrille PELTIER et au &#34;Keen Studio&#34; à Tours.\\nToutes les dates de la tournée sur volo.fr\\nLe nouvel album &#34;Sans rire&#34; est sorti le 11 mars 2013.\\nVolo était à l\\&#39;Olympia le 29 avril dernier et est en tournée dans toute la France.\\nLe clip de &#34;Toujours à côté&#34; est sur youtube sur http://www.youtube.com/watch?v=cWCH2dpyw1c : Le premier extrait de l\\&#39;album est en playliste sur France Bleue, Europe 1, RFM, RFI, Radio Alouette.\\n&#34;Sans rire&#34;, autre extrait de l\\&#39;album, est en playlist sur Virgin Radio.\\n\\nSortie digitale de &#34;Toujours à côté&#34;\\nhttps://itunes.apple.com/fr/album/toujours-a-cote-single/id570616846\\n\\nVolo est un duo de frères. Frédéric et Olivier VOLOVITCH. \\nAvec un nom de famille qui leur vient d\\&#39;un arrière grand-père Ukrainien, nés au milieu d\\&#39;une fratrie de 4 enfants, ils grandissent dans la campagne tourangelle dans une famille de profs.\\n\\nFrédo intègre l\\&#39;école de la rue Blanche en tant que comédien en 1992, Olivier le rejoint sur Paris en 1997 où il étudie la philosophie à la Sorbonne.\\nLe duo se forme officiellement en 2002.\\nEntre les différentes tournées des « Wriggles », dont Frédo est un des membres fondateurs, et Olivier le régisseur général, les deux frangins font leurs premiers concerts. D\\&#39;abord et surtout dans des bars où autres Caf\\&#39;conc, jusqu\\&#39; à la sortie de leur 1er disque en 2005 chez « Opéra Music ».\\nDepuis, et en tout, les deux frangins, ont sorti cinq albums. Trois studios, un live acoustique et un best of. \\nPeu médiatisé « Volo » est aussi et surtout un groupe de scène qui peut compter sur un public fidèle et grandissant. Produits en live par « Blue Line Productions », on les a vus en tournée dans toute la France, à la Cigale, au Trianon, au Bataclan, à l\\&#39;Olympia, aux Francofolies de la Rochelle etc...\\nAujourd\\&#39;hui, récemment signé chez « Play On », Volo revient avec un nouvel album réalisé par Jean-François Delort sur des arrangements de Florian Dubos et Jocelyn Moze. Ce nouveau disque, attendu dans les bacs début 2013, sera accompagné d\\&#39;une tournée qui démarrera cet automne et passera par la Cigale le 23 novembre 2012.&#39;, liveBroadcastContent=&#39;none&#39;, localized=Row(description=&#39;Enregistré et mixé par Cyrille PELTIER au &#34;Keen Studio&#34; à Tours.\\nMerci à Cyrille PELTIER et au &#34;Keen Studio&#34; à Tours.\\nToutes les dates de la tournée sur volo.fr\\nLe nouvel album &#34;Sans rire&#34; est sorti le 11 mars 2013.\\nVolo était à l\\&#39;Olympia le 29 avril dernier et est en tournée dans toute la France.\\nLe clip de &#34;Toujours à côté&#34; est sur youtube sur http://www.youtube.com/watch?v=cWCH2dpyw1c : Le premier extrait de l\\&#39;album est en playliste sur France Bleue, Europe 1, RFM, RFI, Radio Alouette.\\n&#34;Sans rire&#34;, autre extrait de l\\&#39;album, est en playlist sur Virgin Radio.\\n\\nSortie digitale de &#34;Toujours à côté&#34;\\nhttps://itunes.apple.com/fr/album/toujours-a-cote-single/id570616846\\n\\nVolo est un duo de frères. Frédéric et Olivier VOLOVITCH. \\nAvec un nom de famille qui leur vient d\\&#39;un arrière grand-père Ukrainien, nés au milieu d\\&#39;une fratrie de 4 enfants, ils grandissent dans la campagne tourangelle dans une famille de profs.\\n\\nFrédo intègre l\\&#39;école de la rue Blanche en tant que comédien en 1992, Olivier le rejoint sur Paris en 1997 où il étudie la philosophie à la Sorbonne.\\nLe duo se forme officiellement en 2002.\\nEntre les différentes tournées des « Wriggles », dont Frédo est un des membres fondateurs, et Olivier le régisseur général, les deux frangins font leurs premiers concerts. D\\&#39;abord et surtout dans des bars où autres Caf\\&#39;conc, jusqu\\&#39; à la sortie de leur 1er disque en 2005 chez « Opéra Music ».\\nDepuis, et en tout, les deux frangins, ont sorti cinq albums. Trois studios, un live acoustique et un best of. \\nPeu médiatisé « Volo » est aussi et surtout un groupe de scène qui peut compter sur un public fidèle et grandissant. Produits en live par « Blue Line Productions », on les a vus en tournée dans toute la France, à la Cigale, au Trianon, au Bataclan, à l\\&#39;Olympia, aux Francofolies de la Rochelle etc...\\nAujourd\\&#39;hui, récemment signé chez « Play On », Volo revient avec un nouvel album réalisé par Jean-François Delort sur des arrangements de Florian Dubos et Jocelyn Moze. Ce nouveau disque, attendu dans les bacs début 2013, sera accompagné d\\&#39;une tournée qui démarrera cet automne et passera par la Cigale le 23 novembre 2012.&#39;, title=&#39;VOLO. &#34;L\\&#39;air d\\&#39;un con&#34;&#39;), publishedAt=&#39;2013-07-22T12:09:11Z&#39;, tags=[&#39;volo&#39;, &#39;volovitch&#39;, &#39;wriggles&#39;, &#39;sans rire&#39;, &#39;toujours à côté&#39;, &#39;bien zarbos&#39;, &#39;en attendant&#39;, &#39;blancs manteaux&#39;, &#39;jours heureux&#39;, &#39;play on&#39;, &#39;zaz&#39;, &#39;tryo&#39;], thumbnails=Row(default=Row(height=90, url=&#39;https://i.ytimg.com/vi/t1l8Z6gLPzo/default.jpg&#39;, width=120), high=Row(height=360, url=&#39;https://i.ytimg.com/vi/t1l8Z6gLPzo/hqdefault.jpg&#39;, width=480), maxres=None, medium=Row(height=180, url=&#39;https://i.ytimg.com/vi/t1l8Z6gLPzo/mqdefault.jpg&#39;, width=320), standard=Row(height=480, url=&#39;https://i.ytimg.com/vi/t1l8Z6gLPzo/sddefault.jpg&#39;, width=640)), title=&#39;VOLO. &#34;L\\&#39;air d\\&#39;un con&#34;&#39;), statistics=Row(commentCount=&#39;38&#39;, dislikeCount=&#39;26&#39;, favoriteCount=&#39;0&#39;, likeCount=&#39;1028&#39;, viewCount=&#39;223172&#39;), status=Row(embeddable=True, license=&#39;youtube&#39;, madeForKids=False, privacyStatus=&#39;public&#39;, publicStatsViewable=True, uploadStatus=&#39;processed&#39;), topicDetails=Row(relevantTopicIds=[&#39;/m/04rlf&#39;, &#39;/m/04rlf&#39;], topicCategories=[&#39;https://en.wikipedia.org/wiki/Music&#39;])),\n",
       " Row(contentDetails=Row(caption=&#39;false&#39;, contentRating=Row(ytRating=None), definition=&#39;hd&#39;, dimension=&#39;2d&#39;, duration=&#39;PT7M46S&#39;, licensedContent=False, projection=&#39;rectangular&#39;, regionRestriction=Row(allowed=None, blocked=[&#39;DK&#39;])), etag=&#39;m3DnhzTEw9ABiqzBvdasfk5Av_8&#39;, id=&#39;we5gzZq5Avg&#39;, kind=&#39;youtube#video&#39;, snippet=Row(categoryId=&#39;10&#39;, channelId=&#39;UCson549gpvRhPnJ3Whs5onA&#39;, channelTitle=&#39;LongWayToDream&#39;, defaultAudioLanguage=None, defaultLanguage=None, description=&#39;Air Conditionné EP&#39;, liveBroadcastContent=&#39;none&#39;, localized=Row(description=&#39;Air Conditionné EP&#39;, title=&#39;Julian Jeweil - Air Conditionné&#39;), publishedAt=&#39;2012-03-17T08:34:30Z&#39;, tags=[&#39;mnml&#39;, &#39;minimal&#39;, &#39;electronic&#39;, &#39;music&#39;], thumbnails=Row(default=Row(height=90, url=&#39;https://i.ytimg.com/vi/we5gzZq5Avg/default.jpg&#39;, width=120), high=Row(height=360, url=&#39;https://i.ytimg.com/vi/we5gzZq5Avg/hqdefault.jpg&#39;, width=480), maxres=Row(height=720, url=&#39;https://i.ytimg.com/vi/we5gzZq5Avg/maxresdefault.jpg&#39;, width=1280), medium=Row(height=180, url=&#39;https://i.ytimg.com/vi/we5gzZq5Avg/mqdefault.jpg&#39;, width=320), standard=Row(height=480, url=&#39;https://i.ytimg.com/vi/we5gzZq5Avg/sddefault.jpg&#39;, width=640)), title=&#39;Julian Jeweil - Air Conditionné&#39;), statistics=Row(commentCount=&#39;2&#39;, dislikeCount=&#39;3&#39;, favoriteCount=&#39;0&#39;, likeCount=&#39;124&#39;, viewCount=&#39;13409&#39;), status=Row(embeddable=True, license=&#39;youtube&#39;, madeForKids=False, privacyStatus=&#39;public&#39;, publicStatsViewable=True, uploadStatus=&#39;processed&#39;), topicDetails=Row(relevantTopicIds=[&#39;/m/04rlf&#39;, &#39;/m/04rlf&#39;], topicCategories=[&#39;https://en.wikipedia.org/wiki/Music&#39;])),\n",
       " Row(contentDetails=Row(caption=&#39;false&#39;, contentRating=Row(ytRating=None), definition=&#39;sd&#39;, dimension=&#39;2d&#39;, duration=&#39;PT3M7S&#39;, licensedContent=False, projection=&#39;rectangular&#39;, regionRestriction=None), etag=&#39;zyzs7STAR3NG-_pZe-0nGkbKoqg&#39;, id=&#39;49esza4eiK4&#39;, kind=&#39;youtube#video&#39;, snippet=Row(categoryId=&#39;10&#39;, channelId=&#39;UCcHYZ8Ez4gG_2bHEuBL8IfQ&#39;, channelTitle=&#39;Downtown Records&#39;, defaultAudioLanguage=None, defaultLanguage=None, description=&#34;myspace.com/etjusticepourtous\\r\\n(Downtown / Ed Banger)\\r\\n\\r\\nNominated for MTV VMA video of the year \\r\\n\\r\\nFrom the album &#39;Cross&#39;&#34;, liveBroadcastContent=&#39;none&#39;, localized=Row(description=&#34;myspace.com/etjusticepourtous\\r\\n(Downtown / Ed Banger)\\r\\n\\r\\nNominated for MTV VMA video of the year \\r\\n\\r\\nFrom the album &#39;Cross&#39;&#34;, title=&#39;Justice - D.A.N.C.E&#39;), publishedAt=&#39;2007-09-08T02:02:07Z&#39;, tags=[&#39;Justice&#39;, &#39;D.A.N.C.E&#39;, &#39;downtown&#39;], thumbnails=Row(default=Row(height=90, url=&#39;https://i.ytimg.com/vi/49esza4eiK4/default.jpg&#39;, width=120), high=Row(height=360, url=&#39;https://i.ytimg.com/vi/49esza4eiK4/hqdefault.jpg&#39;, width=480), maxres=None, medium=Row(height=180, url=&#39;https://i.ytimg.com/vi/49esza4eiK4/mqdefault.jpg&#39;, width=320), standard=None), title=&#39;Justice - D.A.N.C.E&#39;), statistics=Row(commentCount=&#39;3168&#39;, dislikeCount=&#39;780&#39;, favoriteCount=&#39;0&#39;, likeCount=&#39;25540&#39;, viewCount=&#39;10106655&#39;), status=Row(embeddable=True, license=&#39;youtube&#39;, madeForKids=False, privacyStatus=&#39;public&#39;, publicStatsViewable=True, uploadStatus=&#39;processed&#39;), topicDetails=Row(relevantTopicIds=[&#39;/m/04rlf&#39;, &#39;/m/02lkt&#39;, &#39;/m/04rlf&#39;, &#39;/m/02lkt&#39;], topicCategories=[&#39;https://en.wikipedia.org/wiki/Electronic_music&#39;, &#39;https://en.wikipedia.org/wiki/Music&#39;])),\n",
       " Row(contentDetails=Row(caption=&#39;false&#39;, contentRating=Row(ytRating=None), definition=&#39;hd&#39;, dimension=&#39;2d&#39;, duration=&#39;PT3M43S&#39;, licensedContent=False, projection=&#39;rectangular&#39;, regionRestriction=Row(allowed=None, blocked=[&#39;DK&#39;])), etag=&#39;hX2C15F6fdO5A-stUFMU5Az2PvI&#39;, id=&#39;BoO6LfR7ca0&#39;, kind=&#39;youtube#video&#39;, snippet=Row(categoryId=&#39;22&#39;, channelId=&#39;UCQ0wLCF7u23gZKJkHFs1Tpg&#39;, channelTitle=&#39;Music Is Our Drug&#39;, defaultAudioLanguage=None, defaultLanguage=None, description=&#39;♫ Music Is Our Drug - Spotify Playlist: https://goo.gl/rJvM5l\\n►Follow us on Spotify: https://goo.gl/HqOgkN\\n\\nTorture from the new Gramatik album - The Age Of Reason!\\nGramatik:\\nhttps://soundcloud.com/gramatik\\nhttps://www.facebook.com/gramatik\\n\\nImage:\\nhttp://www.allwalls.net/wallpapers/2012/09/Women-Graffiti-Stadium-Bracelets-1800x2880.jpg\\n\\n(If any producer or label has an issue with any of the uploads please get in contact with me on YouTube and I will delete it as soon as possible (this includes artists of the images used).&#39;, liveBroadcastContent=&#39;none&#39;, localized=Row(description=&#39;♫ Music Is Our Drug - Spotify Playlist: https://goo.gl/rJvM5l\\n►Follow us on Spotify: https://goo.gl/HqOgkN\\n\\nTorture from the new Gramatik album - The Age Of Reason!\\nGramatik:\\nhttps://soundcloud.com/gramatik\\nhttps://www.facebook.com/gramatik\\n\\nImage:\\nhttp://www.allwalls.net/wallpapers/2012/09/Women-Graffiti-Stadium-Bracelets-1800x2880.jpg\\n\\n(If any producer or label has an issue with any of the uploads please get in contact with me on YouTube and I will delete it as soon as possible (this includes artists of the images used).&#39;, title=&#39;Gramatik - Torture (feat. Eric Krasno)&#39;), publishedAt=&#39;2014-01-24T12:52:38Z&#39;, tags=[&#39;Gramatik&#39;, &#39;Torture&#39;, &#39;The Age Of Reason&#39;, &#39;2014&#39;, &#39;Music Is Our Drug&#39;, &#39;guitar&#39;, &#39;Eric Krisno&#39;], thumbnails=Row(default=Row(height=90, url=&#39;https://i.ytimg.com/vi/BoO6LfR7ca0/default.jpg&#39;, width=120), high=Row(height=360, url=&#39;https://i.ytimg.com/vi/BoO6LfR7ca0/hqdefault.jpg&#39;, width=480), maxres=Row(height=720, url=&#39;https://i.ytimg.com/vi/BoO6LfR7ca0/maxresdefault.jpg&#39;, width=1280), medium=Row(height=180, url=&#39;https://i.ytimg.com/vi/BoO6LfR7ca0/mqdefault.jpg&#39;, width=320), standard=Row(height=480, url=&#39;https://i.ytimg.com/vi/BoO6LfR7ca0/sddefault.jpg&#39;, width=640)), title=&#39;Gramatik - Torture (feat. Eric Krasno)&#39;), statistics=Row(commentCount=&#39;6&#39;, dislikeCount=&#39;0&#39;, favoriteCount=&#39;0&#39;, likeCount=&#39;255&#39;, viewCount=&#39;29153&#39;), status=Row(embeddable=True, license=&#39;youtube&#39;, madeForKids=False, privacyStatus=&#39;public&#39;, publicStatsViewable=True, uploadStatus=&#39;processed&#39;), topicDetails=Row(relevantTopicIds=[&#39;/m/04rlf&#39;, &#39;/m/04rlf&#39;], topicCategories=[&#39;https://en.wikipedia.org/wiki/Music&#39;])),\n",
       " Row(contentDetails=Row(caption=&#39;false&#39;, contentRating=Row(ytRating=None), definition=&#39;hd&#39;, dimension=&#39;2d&#39;, duration=&#39;PT5M&#39;, licensedContent=False, projection=&#39;rectangular&#39;, regionRestriction=Row(allowed=None, blocked=[&#39;DK&#39;])), etag=&#39;rYHoV38PLpMbRuX_zhGTVBKNotw&#39;, id=&#39;DaH4W1rY9us&#39;, kind=&#39;youtube#video&#39;, snippet=Row(categoryId=&#39;10&#39;, channelId=&#39;UCJsTMPZxYD-Q3kEmL4Qijpg&#39;, channelTitle=&#39;Harvey Pearson&#39;, defaultAudioLanguage=None, defaultLanguage=None, description=&#39;Buy The Burgh Island EP now:\\nhttps://itunes.apple.com/gb/album/burgh-island-ep/id571218980?affId=1657369&amp;ign-mpt=uo%3D4 \\n\\nNO COPYRIGHT INFRINGEMENT INTENDED&#39;, liveBroadcastContent=&#39;none&#39;, localized=Row(description=&#39;Buy The Burgh Island EP now:\\nhttps://itunes.apple.com/gb/album/burgh-island-ep/id571218980?affId=1657369&amp;ign-mpt=uo%3D4 \\n\\nNO COPYRIGHT INFRINGEMENT INTENDED&#39;, title=&#39;Ben Howard - Oats In The Water&#39;), publishedAt=&#39;2012-12-02T12:41:13Z&#39;, tags=[&#39;Ben Howard&#39;, &#39;Oats In The Water&#39;, &#39;Music Video&#39;, &#39;BBC Radio One&#39;, &#39;Zane Lowe&#39;, &#39;Greg James&#39;, &#39;Mickey Smith&#39;, &#39;Wales&#39;, &#39;Surf&#39;, &#39;Black And White&#39;, &#39;The Burgh Island EP&#39;, &#39;Burgh Island&#39;, &#39;Ireland&#39;, &#39;Astray Films&#39;, &#39;Harvey Pearson&#39;, &#39;Hounddogpictures&#39;, &#39;hdp&#39;, &#39;productions&#39;, &#39;iTunes&#39;, &#39;sony&#39;, &#39;nex&#39;, &#39;5n&#39;, &#39;Timelapse&#39;, &#39;CS6&#39;, &#39;Ben&#39;, &#39;Howard&#39;, &#39;(musician)&#39;, &#39;old&#39;, &#39;pine&#39;, &#39;only&#39;, &#39;love&#39;, &#39;keep&#39;, &#39;your&#39;, &#39;head&#39;, &#39;up&#39;, &#39;every&#39;, &#39;kingdom&#39;, &#39;harvpearson&#39;, &#39;official&#39;, &#39;video&#39;, &#39;music&#39;, &#39;Devon&#39;, &#39;beach&#39;, &#39;surf&#39;, &#39;surfers&#39;, &#39;Waves&#39;, &#39;Ocean&#39;, &#39;Hound Dog Pictures Productions&#39;, &#39;Sand&#39;, &#39;Surfing&#39;], thumbnails=Row(default=Row(height=90, url=&#39;https://i.ytimg.com/vi/DaH4W1rY9us/default.jpg&#39;, width=120), high=Row(height=360, url=&#39;https://i.ytimg.com/vi/DaH4W1rY9us/hqdefault.jpg&#39;, width=480), maxres=Row(height=720, url=&#39;https://i.ytimg.com/vi/DaH4W1rY9us/maxresdefault.jpg&#39;, width=1280), medium=Row(height=180, url=&#39;https://i.ytimg.com/vi/DaH4W1rY9us/mqdefault.jpg&#39;, width=320), standard=Row(height=480, url=&#39;https://i.ytimg.com/vi/DaH4W1rY9us/sddefault.jpg&#39;, width=640)), title=&#39;Ben Howard - Oats In The Water&#39;), statistics=Row(commentCount=&#39;5303&#39;, dislikeCount=&#39;1784&#39;, favoriteCount=&#39;0&#39;, likeCount=&#39;136033&#39;, viewCount=&#39;16488714&#39;), status=Row(embeddable=True, license=&#39;youtube&#39;, madeForKids=False, privacyStatus=&#39;public&#39;, publicStatsViewable=True, uploadStatus=&#39;processed&#39;), topicDetails=Row(relevantTopicIds=[&#39;/m/04rlf&#39;, &#39;/m/064t9&#39;, &#39;/m/05rwpb&#39;, &#39;/m/04rlf&#39;, &#39;/m/064t9&#39;, &#39;/m/05rwpb&#39;], topicCategories=[&#39;https://en.wikipedia.org/wiki/Pop_music&#39;, &#39;https://en.wikipedia.org/wiki/Independent_music&#39;, &#39;https://en.wikipedia.org/wiki/Music&#39;])),\n",
       " Row(contentDetails=Row(caption=&#39;false&#39;, contentRating=Row(ytRating=None), definition=&#39;hd&#39;, dimension=&#39;2d&#39;, duration=&#39;PT10M16S&#39;, licensedContent=False, projection=&#39;rectangular&#39;, regionRestriction=None), etag=&#39;n3_92hnxJ1-q6FV55bjQVus1hr4&#39;, id=&#39;PAAUqBghiVo&#39;, kind=&#39;youtube#video&#39;, snippet=Row(categoryId=&#39;10&#39;, channelId=&#39;UCDHvlud7Hf86FxFsogrBcMg&#39;, channelTitle=&#39;Resident Advisor&#39;, defaultAudioLanguage=None, defaultLanguage=None, description=&#39;Subscribe to the RA YouTube channel: http://bit.ly/1x7PeGy\\n\\nVisit the feature page: http://www.residentadvisor.net/feature.aspx?1959\\n\\nLast week Nicolas Jaar and Dave Harrington released Psychic, their debut album as Darkside. &#34;Darkside is utterly sincere,&#34; said Tony Naylor in his RA review, &#34;and at its most fractured and psychedelic, Harrington\\&#39;s guitar lends a smoky, mysterious dimension to Jaar\\&#39;s slinky electronica.&#34; &#34;Paper Trails&#34; is the record\\&#39;s dazzling midpoint, and in the first RA Sessions film, recorded at RA\\&#39;s HQ, Jaar and Harrington sank a couple of whiskeys and subtly teased the track out to twice its original length.\\n\\n\\nCredits:\\nProducer &amp; Director - Patrick Nation\\nCamera - Patrick Nation, Luke Ogden\\nSound Engineers - Vance Galloway, Rich Cufley (Sound Services)\\nProduction Assistant - Debbie Butts&#39;, liveBroadcastContent=&#39;none&#39;, localized=Row(description=&#39;Subscribe to the RA YouTube channel: http://bit.ly/1x7PeGy\\n\\nVisit the feature page: http://www.residentadvisor.net/feature.aspx?1959\\n\\nLast week Nicolas Jaar and Dave Harrington released Psychic, their debut album as Darkside. &#34;Darkside is utterly sincere,&#34; said Tony Naylor in his RA review, &#34;and at its most fractured and psychedelic, Harrington\\&#39;s guitar lends a smoky, mysterious dimension to Jaar\\&#39;s slinky electronica.&#34; &#34;Paper Trails&#34; is the record\\&#39;s dazzling midpoint, and in the first RA Sessions film, recorded at RA\\&#39;s HQ, Jaar and Harrington sank a couple of whiskeys and subtly teased the track out to twice its original length.\\n\\n\\nCredits:\\nProducer &amp; Director - Patrick Nation\\nCamera - Patrick Nation, Luke Ogden\\nSound Engineers - Vance Galloway, Rich Cufley (Sound Services)\\nProduction Assistant - Debbie Butts&#39;, title=&#39;RA Sessions: DARKSIDE - Paper Trails&#39;), publishedAt=&#39;2013-10-15T09:30:25Z&#39;, tags=[&#39;Resident Advisor (Website)&#39;, &#39;RA&#39;, &#39;darkside&#39;, &#39;psychic&#39;, &#39;paper trails&#39;, &#39;Nicolas Jaar (Musical Artist)&#39;, &#39;dave harrington&#39;, &#39;session&#39;, &#39;live session&#39;, &#39;live music&#39;, &#39;electronic music&#39;, &#39;Live&#39;, &#39;EDM&#39;, &#39;guitar&#39;, &#39;Wurlitzer Electric Piano (Product Line)&#39;, &#39;wurlitzer&#39;, &#39;Performance (Project)&#39;, &#39;Hardware&#39;, &#39;Liveset&#39;, &#39;Analog&#39;, &#39;Resident Advisor&#39;, &#39;Nico Jaar&#39;, &#39;Nicolas Jaar&#39;, &#39;Nicholas&#39;, &#39;Jaar&#39;, &#39;Performance&#39;, &#39;Paper Trail&#39;, &#39;DJ&#39;, &#39;Music&#39;], thumbnails=Row(default=Row(height=90, url=&#39;https://i.ytimg.com/vi/PAAUqBghiVo/default.jpg&#39;, width=120), high=Row(height=360, url=&#39;https://i.ytimg.com/vi/PAAUqBghiVo/hqdefault.jpg&#39;, width=480), maxres=Row(height=720, url=&#39;https://i.ytimg.com/vi/PAAUqBghiVo/maxresdefault.jpg&#39;, width=1280), medium=Row(height=180, url=&#39;https://i.ytimg.com/vi/PAAUqBghiVo/mqdefault.jpg&#39;, width=320), standard=Row(height=480, url=&#39;https://i.ytimg.com/vi/PAAUqBghiVo/sddefault.jpg&#39;, width=640)), title=&#39;RA Sessions: DARKSIDE - Paper Trails&#39;), statistics=Row(commentCount=&#39;883&#39;, dislikeCount=&#39;445&#39;, favoriteCount=&#39;0&#39;, likeCount=&#39;37193&#39;, viewCount=&#39;3381880&#39;), status=Row(embeddable=True, license=&#39;youtube&#39;, madeForKids=False, privacyStatus=&#39;public&#39;, publicStatsViewable=True, uploadStatus=&#39;processed&#39;), topicDetails=Row(relevantTopicIds=[&#39;/m/04rlf&#39;, &#39;/m/02lkt&#39;, &#39;/m/02lkt&#39;, &#39;/m/04rlf&#39;], topicCategories=[&#39;https://en.wikipedia.org/wiki/Electronic_music&#39;, &#39;https://en.wikipedia.org/wiki/Music&#39;])),\n",
       " Row(contentDetails=Row(caption=&#39;false&#39;, contentRating=Row(ytRating=None), definition=&#39;sd&#39;, dimension=&#39;2d&#39;, duration=&#39;PT7M59S&#39;, licensedContent=False, projection=&#39;rectangular&#39;, regionRestriction=None), etag=&#39;pAUuiD_-jONqms5j_vL0RHpqSf0&#39;, id=&#39;7CkBU80AsVg&#39;, kind=&#39;youtube#video&#39;, snippet=Row(categoryId=&#39;10&#39;, channelId=&#39;UCr7vKEGOLRCf4ivVzUcK6dw&#39;, channelTitle=&#39;Matheus Castilho&#39;, defaultAudioLanguage=None, defaultLanguage=None, description=&#34;Dusty Kid&#39;s America.\\r\\n\\r\\nDirected by @mattcastilho\\r\\nwww.mattcastilho.com&#34;, liveBroadcastContent=&#39;none&#39;, localized=Row(description=&#34;Dusty Kid&#39;s America.\\r\\n\\r\\nDirected by @mattcastilho\\r\\nwww.mattcastilho.com&#34;, title=&#39;Dusty Kid - America&#39;), publishedAt=&#39;2010-12-18T19:19:36Z&#39;, tags=[&#39;dusty kid america&#39;, &#39;tiesto&#39;, &#39;armin&#39;, &#39;van&#39;, &#39;buuren&#39;, &#39;animals&#39;, &#39;the&#39;, &#39;underground&#39;, &#39;progressive&#39;, &#39;elctro&#39;, &#39;house&#39;, &#39;electronic&#39;, &#39;music&#39;, &#39;paul&#39;, &#39;dyk&#39;, &#39;adam&#39;, &#39;deadmau5&#39;], thumbnails=Row(default=Row(height=90, url=&#39;https://i.ytimg.com/vi/7CkBU80AsVg/default.jpg&#39;, width=120), high=Row(height=360, url=&#39;https://i.ytimg.com/vi/7CkBU80AsVg/hqdefault.jpg&#39;, width=480), maxres=None, medium=Row(height=180, url=&#39;https://i.ytimg.com/vi/7CkBU80AsVg/mqdefault.jpg&#39;, width=320), standard=None), title=&#39;Dusty Kid - America&#39;), statistics=Row(commentCount=&#39;10&#39;, dislikeCount=&#39;6&#39;, favoriteCount=&#39;0&#39;, likeCount=&#39;183&#39;, viewCount=&#39;29520&#39;), status=Row(embeddable=True, license=&#39;youtube&#39;, madeForKids=False, privacyStatus=&#39;public&#39;, publicStatsViewable=True, uploadStatus=&#39;processed&#39;), topicDetails=Row(relevantTopicIds=[&#39;/m/04rlf&#39;, &#39;/m/04rlf&#39;], topicCategories=[&#39;https://en.wikipedia.org/wiki/Music&#39;])),\n",
       " Row(contentDetails=Row(caption=&#39;false&#39;, contentRating=Row(ytRating=None), definition=&#39;sd&#39;, dimension=&#39;2d&#39;, duration=&#39;PT3M34S&#39;, licensedContent=False, projection=&#39;rectangular&#39;, regionRestriction=Row(allowed=None, blocked=[&#39;DK&#39;])), etag=&#39;E-5a5WdsyWwTxNawfrjD9PQaSAQ&#39;, id=&#39;lddHsCBdQu8&#39;, kind=&#39;youtube#video&#39;, snippet=Row(categoryId=&#39;10&#39;, channelId=&#39;UCX_fIhJAag_NvUN7I1dwjBg&#39;, channelTitle=&#39;MOMOMOYOUTH&#39;, defaultAudioLanguage=None, defaultLanguage=None, description=&#34;Official Audio | MØ - Waste of Time\\n\\n\\nSubscribe to the MØ YouTube Channel:  http://smarturl.it/MOytb\\n\\n\\n&#39;No Mythologies To Follow&#39; is out now!\\n\\niTunes: http://smarturl.it/MO_NMTF_digi \\nAmazon: http://smarturl.it/MO_NMTF_AMZ \\nOfficial Store: http://smarturl.it/MOstore \\nVinyl: http://smarturl.it/MO_NMTF_RT \\n\\nSign up to my official mailing list http://smarturl.it/MOmail \\n\\nFollow me here:\\nhttp://open.spotify.com/artist/0bdfiayQAKewqEvaU6rXCv \\nhttp://www.facebook.com/MOMOMOYOUTH \\nhttp://twitter.com/MOMOMOYOUTH \\nhttp://www.momomoyouth.com/ \\nhttp://www.youtube.com/user/MOMOMOYOUTH\\n\\n#MØ\\n#WasteOfTime&#34;, liveBroadcastContent=&#39;none&#39;, localized=Row(description=&#34;Official Audio | MØ - Waste of Time\\n\\n\\nSubscribe to the MØ YouTube Channel:  http://smarturl.it/MOytb\\n\\n\\n&#39;No Mythologies To Follow&#39; is out now!\\n\\niTunes: http://smarturl.it/MO_NMTF_digi \\nAmazon: http://smarturl.it/MO_NMTF_AMZ \\nOfficial Store: http://smarturl.it/MOstore \\nVinyl: http://smarturl.it/MO_NMTF_RT \\n\\nSign up to my official mailing list http://smarturl.it/MOmail \\n\\nFollow me here:\\nhttp://open.spotify.com/artist/0bdfiayQAKewqEvaU6rXCv \\nhttp://www.facebook.com/MOMOMOYOUTH \\nhttp://twitter.com/MOMOMOYOUTH \\nhttp://www.momomoyouth.com/ \\nhttp://www.youtube.com/user/MOMOMOYOUTH\\n\\n#MØ\\n#WasteOfTime&#34;, title=&#39;MØ - Waste Of Time (Official Audio)&#39;), publishedAt=&#39;2013-05-15T08:19:20Z&#39;, tags=[&#39;MØ&#39;, &#39;momomoyouth&#39;, &#39;mo&#39;, &#39;mø&#39;, &#39;mø waste of time&#39;, &#39;waste of time&#39;, &#39;moe&#39;, &#39;mo waste of time&#39;], thumbnails=Row(default=Row(height=90, url=&#39;https://i.ytimg.com/vi/lddHsCBdQu8/default.jpg&#39;, width=120), high=Row(height=360, url=&#39;https://i.ytimg.com/vi/lddHsCBdQu8/hqdefault.jpg&#39;, width=480), maxres=None, medium=Row(height=180, url=&#39;https://i.ytimg.com/vi/lddHsCBdQu8/mqdefault.jpg&#39;, width=320), standard=Row(height=480, url=&#39;https://i.ytimg.com/vi/lddHsCBdQu8/sddefault.jpg&#39;, width=640)), title=&#39;MØ - Waste Of Time (Official Audio)&#39;), statistics=Row(commentCount=&#39;260&#39;, dislikeCount=&#39;96&#39;, favoriteCount=&#39;0&#39;, likeCount=&#39;6594&#39;, viewCount=&#39;750787&#39;), status=Row(embeddable=True, license=&#39;youtube&#39;, madeForKids=False, privacyStatus=&#39;public&#39;, publicStatsViewable=True, uploadStatus=&#39;processed&#39;), topicDetails=Row(relevantTopicIds=[&#39;/m/04rlf&#39;, &#39;/m/064t9&#39;, &#39;/m/04rlf&#39;, &#39;/m/064t9&#39;], topicCategories=[&#39;https://en.wikipedia.org/wiki/Pop_music&#39;, &#39;https://en.wikipedia.org/wiki/Music&#39;])),\n",
       " Row(contentDetails=Row(caption=&#39;false&#39;, contentRating=Row(ytRating=None), definition=&#39;hd&#39;, dimension=&#39;2d&#39;, duration=&#39;PT3M58S&#39;, licensedContent=True, projection=&#39;rectangular&#39;, regionRestriction=Row(allowed=None, blocked=[&#39;DK&#39;])), etag=&#39;vcGdlF2KBcqDNB0IQn3cSa6-wVE&#39;, id=&#39;mhsf7K6h7SY&#39;, kind=&#39;youtube#video&#39;, snippet=Row(categoryId=&#39;24&#39;, channelId=&#39;UCJ6td3C9QlPO9O_J5dF4ZzA&#39;, channelTitle=&#39;Monstercat: Uncaged&#39;, defaultAudioLanguage=None, defaultLanguage=None, description=&#34;Nerds by Nature 2016 Spring Tour on Sale NOW at http://www.PegboardNerds.com\\n---\\n▼ This song is featured on Monstercat 016 - Expedition. \\nGet all 30 tracks plus 2 album mixes by downloading it here:\\n\\nSupport on iTunes: http://monster.cat/1fsmpQy\\nSupport on Bandcamp: http://monster.cat/1hpp7oo\\nSupport on Amazon: http://monster.cat/1dAiMCc\\nSupport on Google Play: http://monster.cat/1dAm7RR\\nListen on Spotify: http://monster.cat/1hzwp7R\\n----\\nArrival Album Mix: http://monster.cat/1hqcv0b\\n\\nTo support the single only:\\n\\nPlease consider supporting on Beatport: http://monster.cat/BasslineKickin\\nListen on SoundCloud: \\nhttp://monster.cat/1hrfghr\\n\\nWe&#39;re looking to make an impact with this release and show that it is possible to have something different top the charts. Your Beatport purchase will help make the difference.\\n\\n▼ Follow Monstercat\\nSnapchat: Monstercat\\nYouTube: http://www.youtube.com/Monstercat\\nSpotify: http://monster.cat/1hGrCWk\\nFacebook: http://facebook.com/Monstercat\\nTwitter: http://twitter.com/Monstercat\\nInstagram: http://instagram.com/monstercat\\nSoundCloud: http://soundcloud.com/Monstercat\\nGoogle+: https://plus.google.com/+Monstercat\\n\\n▼ Follow Pegboard Nerds\\nFacebook: http://facebook.com/PegboardNerds\\nTwitter: http://twitter.com/PegboardNerds\\nSoundCloud: http://soundcloud.com/pegboardnerds\\nYouTube: http://youtube.com/PegboardNerds\\n\\n▼ Want some new Merchandise?\\nhttp://monster.cat/MonstercatShop\\n\\nMonstercat 017 - Ascension is now available! Support your favourite rising Monstercat artists with a purchase here: http://www.monstercat.com/ascension/ /\\n-----------------------------------\\nWant to use this song in your own videos? Please go to: http://monster.cat/YouTube_License&#34;, liveBroadcastContent=&#39;none&#39;, localized=Row(description=&#34;Nerds by Nature 2016 Spring Tour on Sale NOW at http://www.PegboardNerds.com\\n---\\n▼ This song is featured on Monstercat 016 - Expedition. \\nGet all 30 tracks plus 2 album mixes by downloading it here:\\n\\nSupport on iTunes: http://monster.cat/1fsmpQy\\nSupport on Bandcamp: http://monster.cat/1hpp7oo\\nSupport on Amazon: http://monster.cat/1dAiMCc\\nSupport on Google Play: http://monster.cat/1dAm7RR\\nListen on Spotify: http://monster.cat/1hzwp7R\\n----\\nArrival Album Mix: http://monster.cat/1hqcv0b\\n\\nTo support the single only:\\n\\nPlease consider supporting on Beatport: http://monster.cat/BasslineKickin\\nListen on SoundCloud: \\nhttp://monster.cat/1hrfghr\\n\\nWe&#39;re looking to make an impact with this release and show that it is possible to have something different top the charts. Your Beatport purchase will help make the difference.\\n\\n▼ Follow Monstercat\\nSnapchat: Monstercat\\nYouTube: http://www.youtube.com/Monstercat\\nSpotify: http://monster.cat/1hGrCWk\\nFacebook: http://facebook.com/Monstercat\\nTwitter: http://twitter.com/Monstercat\\nInstagram: http://instagram.com/monstercat\\nSoundCloud: http://soundcloud.com/Monstercat\\nGoogle+: https://plus.google.com/+Monstercat\\n\\n▼ Follow Pegboard Nerds\\nFacebook: http://facebook.com/PegboardNerds\\nTwitter: http://twitter.com/PegboardNerds\\nSoundCloud: http://soundcloud.com/pegboardnerds\\nYouTube: http://youtube.com/PegboardNerds\\n\\n▼ Want some new Merchandise?\\nhttp://monster.cat/MonstercatShop\\n\\nMonstercat 017 - Ascension is now available! Support your favourite rising Monstercat artists with a purchase here: http://www.monstercat.com/ascension/ /\\n-----------------------------------\\nWant to use this song in your own videos? Please go to: http://monster.cat/YouTube_License&#34;, title=&#39;[Electronic] - Pegboard Nerds - Bassline Kickin [Monstercat Release]&#39;), publishedAt=&#39;2014-01-15T18:33:15Z&#39;, tags=[&#39;Pegboard&#39;, &#39;Nerds&#39;, &#39;Bassline&#39;, &#39;Kickin&#39;, &#39;Electronic&#39;, &#39;Dance&#39;, &#39;Monstercat&#39;, &#39;EDM&#39;, &#39;Grey&#39;, &#39;Best Electronic&#39;, &#39;New Electronic&#39;, &#39;Top Electronic&#39;, &#39;Electronic 2013&#39;, &#39;Best EDM&#39;, &#39;New EDM&#39;, &#39;Top EDM&#39;, &#39;EDM 2013&#39;, &#39;Peg Board&#39;, &#39;Nerdz&#39;], thumbnails=Row(default=Row(height=90, url=&#39;https://i.ytimg.com/vi/mhsf7K6h7SY/default.jpg&#39;, width=120), high=Row(height=360, url=&#39;https://i.ytimg.com/vi/mhsf7K6h7SY/hqdefault.jpg&#39;, width=480), maxres=None, medium=Row(height=180, url=&#39;https://i.ytimg.com/vi/mhsf7K6h7SY/mqdefault.jpg&#39;, width=320), standard=Row(height=480, url=&#39;https://i.ytimg.com/vi/mhsf7K6h7SY/sddefault.jpg&#39;, width=640)), title=&#39;[Electronic] - Pegboard Nerds - Bassline Kickin [Monstercat Release]&#39;), statistics=Row(commentCount=&#39;2512&#39;, dislikeCount=&#39;780&#39;, favoriteCount=&#39;0&#39;, likeCount=&#39;22639&#39;, viewCount=&#39;1719694&#39;), status=Row(embeddable=True, license=&#39;youtube&#39;, madeForKids=False, privacyStatus=&#39;public&#39;, publicStatsViewable=True, uploadStatus=&#39;processed&#39;), topicDetails=Row(relevantTopicIds=[&#39;/m/04rlf&#39;, &#39;/m/02lkt&#39;, &#39;/m/04rlf&#39;, &#39;/m/02lkt&#39;], topicCategories=[&#39;https://en.wikipedia.org/wiki/Electronic_music&#39;, &#39;https://en.wikipedia.org/wiki/Music&#39;])),\n",
       "\n",
       "*** WARNING: skipped 61187 bytes of output ***\n",
       "\n",
       " Row(contentDetails=Row(caption=&#39;false&#39;, contentRating=Row(ytRating=None), definition=&#39;hd&#39;, dimension=&#39;2d&#39;, duration=&#39;PT1M4S&#39;, licensedContent=True, projection=&#39;rectangular&#39;, regionRestriction=None), etag=&#39;kd9da5SWqAAj8vh94KoVkPycMTU&#39;, id=&#39;wyHHKYlavMg&#39;, kind=&#39;youtube#video&#39;, snippet=Row(categoryId=&#39;20&#39;, channelId=&#39;UCwNqnXBqaP4yB5S3nnniGrQ&#39;, channelTitle=&#39;MrMAW2&#39;, defaultAudioLanguage=None, defaultLanguage=None, description=&#39;League of Legends Infernal Nasus Login screen+music&#39;, liveBroadcastContent=&#39;none&#39;, localized=Row(description=&#39;League of Legends Infernal Nasus Login screen+music&#39;, title=&#39;League of Legends Infernal Nasus Login screen+music&#39;), publishedAt=&#39;2013-11-22T01:35:10Z&#39;, tags=[&#39;league of legends&#39;, &#39;lol&#39;, &#39;nasus&#39;, &#39;dog&#39;, &#39;k9&#39;, &#39;infernal nasus&#39;, &#39;login screen&#39;, &#39;music&#39;, &#39;renekton&#39;, &#39;croc&#39;, &#39;brand&#39;], thumbnails=Row(default=Row(height=90, url=&#39;https://i.ytimg.com/vi/wyHHKYlavMg/default.jpg&#39;, width=120), high=Row(height=360, url=&#39;https://i.ytimg.com/vi/wyHHKYlavMg/hqdefault.jpg&#39;, width=480), maxres=Row(height=720, url=&#39;https://i.ytimg.com/vi/wyHHKYlavMg/maxresdefault.jpg&#39;, width=1280), medium=Row(height=180, url=&#39;https://i.ytimg.com/vi/wyHHKYlavMg/mqdefault.jpg&#39;, width=320), standard=Row(height=480, url=&#39;https://i.ytimg.com/vi/wyHHKYlavMg/sddefault.jpg&#39;, width=640)), title=&#39;League of Legends Infernal Nasus Login screen+music&#39;), statistics=Row(commentCount=&#39;6&#39;, dislikeCount=&#39;1&#39;, favoriteCount=&#39;0&#39;, likeCount=&#39;70&#39;, viewCount=&#39;32904&#39;), status=Row(embeddable=True, license=&#39;youtube&#39;, madeForKids=False, privacyStatus=&#39;public&#39;, publicStatsViewable=True, uploadStatus=&#39;processed&#39;), topicDetails=Row(relevantTopicIds=[&#39;/m/0bzvm2&#39;, &#39;/m/0403l3g&#39;, &#39;/m/025zzc&#39;, &#39;/m/0bzvm2&#39;], topicCategories=[&#39;https://en.wikipedia.org/wiki/Role-playing_video_game&#39;, &#39;https://en.wikipedia.org/wiki/Video_game_culture&#39;, &#39;https://en.wikipedia.org/wiki/Action_game&#39;])),\n",
       " Row(contentDetails=Row(caption=&#39;false&#39;, contentRating=Row(ytRating=None), definition=&#39;sd&#39;, dimension=&#39;2d&#39;, duration=&#39;PT4M3S&#39;, licensedContent=False, projection=&#39;rectangular&#39;, regionRestriction=None), etag=&#39;n4NjLjIgFYi18DLZa_ybQScXnuU&#39;, id=&#39;tH9-9IC7qyY&#39;, kind=&#39;youtube#video&#39;, snippet=Row(categoryId=&#39;10&#39;, channelId=&#39;UCwUM-YByj2OpYn1LiiBOCDA&#39;, channelTitle=&#39;Robyn Murphy&#39;, defaultAudioLanguage=None, defaultLanguage=None, description=&#34;Lyrics:\\r\\nsalty leave, salty leave \\r\\n\\r\\ntell me the one about the friend you knew, \\r\\nand the last good night that we toasted too. \\r\\n\\r\\nsalty leave, \\r\\nstay for me, stay for me \\r\\n\\r\\nwe drank wine in the matinee \\r\\nand the spotlight showed what i chased away \\r\\n\\r\\nstay for me \\r\\n\\r\\nshe saw my comb over, her hourglass body \\r\\nshe had problems with drinking milk \\r\\nand being school tardy \\r\\nshe&#39;ll loan you her toothbrush \\r\\nshe&#39;ll bartend you party \\r\\n\\r\\nkill me, kill me \\r\\n\\r\\ni called i called, but i cant get through \\r\\nsaid he&#39;s on his own, but his own is you \\r\\n\\r\\nkill me \\r\\n\\r\\nshe saw my comb over, her hourglass body \\r\\nshe had problems with drinking milk \\r\\nand being school tardy \\r\\nshe&#39;ll loan you her toothbrush \\r\\nshe&#39;ll bartend you party \\r\\n\\r\\nshe saw my comb over, her hourglass body \\r\\nshe had problems with drinking milk \\r\\nand being school tardy \\r\\nshe&#39;ll loan you her toothbrush \\r\\nshe&#39;ll bartend you party&#34;, liveBroadcastContent=&#39;none&#39;, localized=Row(description=&#34;Lyrics:\\r\\nsalty leave, salty leave \\r\\n\\r\\ntell me the one about the friend you knew, \\r\\nand the last good night that we toasted too. \\r\\n\\r\\nsalty leave, \\r\\nstay for me, stay for me \\r\\n\\r\\nwe drank wine in the matinee \\r\\nand the spotlight showed what i chased away \\r\\n\\r\\nstay for me \\r\\n\\r\\nshe saw my comb over, her hourglass body \\r\\nshe had problems with drinking milk \\r\\nand being school tardy \\r\\nshe&#39;ll loan you her toothbrush \\r\\nshe&#39;ll bartend you party \\r\\n\\r\\nkill me, kill me \\r\\n\\r\\ni called i called, but i cant get through \\r\\nsaid he&#39;s on his own, but his own is you \\r\\n\\r\\nkill me \\r\\n\\r\\nshe saw my comb over, her hourglass body \\r\\nshe had problems with drinking milk \\r\\nand being school tardy \\r\\nshe&#39;ll loan you her toothbrush \\r\\nshe&#39;ll bartend you party \\r\\n\\r\\nshe saw my comb over, her hourglass body \\r\\nshe had problems with drinking milk \\r\\nand being school tardy \\r\\nshe&#39;ll loan you her toothbrush \\r\\nshe&#39;ll bartend you party&#34;, title=&#39;kings of Leon - Milk&#39;), publishedAt=&#39;2009-06-09T14:08:00Z&#39;, tags=[&#39;Kings&#39;, &#39;of&#39;, &#39;Leon&#39;, &#39;Milk&#39;, &#39;Lyrics&#39;], thumbnails=Row(default=Row(height=90, url=&#39;https://i.ytimg.com/vi/tH9-9IC7qyY/default.jpg&#39;, width=120), high=Row(height=360, url=&#39;https://i.ytimg.com/vi/tH9-9IC7qyY/hqdefault.jpg&#39;, width=480), maxres=None, medium=Row(height=180, url=&#39;https://i.ytimg.com/vi/tH9-9IC7qyY/mqdefault.jpg&#39;, width=320), standard=None), title=&#39;kings of Leon - Milk&#39;), statistics=Row(commentCount=&#39;452&#39;, dislikeCount=&#39;391&#39;, favoriteCount=&#39;0&#39;, likeCount=&#39;9294&#39;, viewCount=&#39;2327140&#39;), status=Row(embeddable=True, license=&#39;youtube&#39;, madeForKids=False, privacyStatus=&#39;public&#39;, publicStatsViewable=True, uploadStatus=&#39;processed&#39;), topicDetails=Row(relevantTopicIds=[&#39;/m/04rlf&#39;, &#39;/m/06by7&#39;, &#39;/m/04rlf&#39;, &#39;/m/06by7&#39;], topicCategories=[&#39;https://en.wikipedia.org/wiki/Rock_music&#39;, &#39;https://en.wikipedia.org/wiki/Music&#39;])),\n",
       " Row(contentDetails=Row(caption=&#39;false&#39;, contentRating=Row(ytRating=None), definition=&#39;hd&#39;, dimension=&#39;2d&#39;, duration=&#39;PT3M37S&#39;, licensedContent=True, projection=&#39;rectangular&#39;, regionRestriction=None), etag=&#39;5i2zzosboFyc88CLLURJKXahCDA&#39;, id=&#39;1JWOKGK9pis&#39;, kind=&#39;youtube#video&#39;, snippet=Row(categoryId=&#39;10&#39;, channelId=&#39;UCn54q6AcCAozt1SrakiZ77g&#39;, channelTitle=&#39;bretonLABS&#39;, defaultAudioLanguage=None, defaultLanguage=None, description=&#39;Check out the new project - MIRO SHOT  \\nhttps://www.youtube.com/watch?v=3SpwSiXIlVk\\n\\nWar Room Stories || The new album || Out now\\n\\nPurchase on:\\nDigital: http://smarturl.it/WarRoomStories\\nPhysical: http://www.bretonlabs.com/store.html\\n\\nLONDON - Tickets on sale now for both shows !\\nDec 2nd - Heaven - London : http://po.st/BretonHeaven\\n\\nGo to http://www.bretonlabs.com/ for news\\n\\nhttps://www.facebook.com/bretonlabs\\nhttps://twitter.com/bretonLABS\\n\\nNov 08 – UTRECHT / Ekko\\nNov 09 – EINDHOVEN / Effenaar\\nNov 10 – HAARLEM / Patronaat\\nNov 12 – BERLIN / Kantine Am Berghain\\nNov 13 – POZNAN / Minoga\\nNov 14 – WARSAW / Hydrozagadka\\nNov 15 – KATOWICE / Jazz Club Hipnoza\\nNov 17 – VIENNA / Chelsea\\nNov 19 – GENEVA / L’Usine\\nNov 21 – RENNES / Le Liberté\\nNov 22 – REIMS / La Cartonnerie\\nNov 23 – NANCY / L’autre Canal\\nNov 24 – BESANCON / La Rodia\\nNov 25 – PARIS / Casino de Paris\\nNov 27 – LYON / Marché Gare\\nNov 28 – NIMES / Paloma\\nNov 29 – LA ROCHELLE / La Sirene\\nNov 30 – LIMOGES / Centre Culturel John Lennon\\nDec 02 – LONDON / Heaven\\n\\nGet your tickets: http://bretonlabs.com/&#39;, liveBroadcastContent=&#39;none&#39;, localized=Row(description=&#39;Check out the new project - MIRO SHOT  \\nhttps://www.youtube.com/watch?v=3SpwSiXIlVk\\n\\nWar Room Stories || The new album || Out now\\n\\nPurchase on:\\nDigital: http://smarturl.it/WarRoomStories\\nPhysical: http://www.bretonlabs.com/store.html\\n\\nLONDON - Tickets on sale now for both shows !\\nDec 2nd - Heaven - London : http://po.st/BretonHeaven\\n\\nGo to http://www.bretonlabs.com/ for news\\n\\nhttps://www.facebook.com/bretonlabs\\nhttps://twitter.com/bretonLABS\\n\\nNov 08 – UTRECHT / Ekko\\nNov 09 – EINDHOVEN / Effenaar\\nNov 10 – HAARLEM / Patronaat\\nNov 12 – BERLIN / Kantine Am Berghain\\nNov 13 – POZNAN / Minoga\\nNov 14 – WARSAW / Hydrozagadka\\nNov 15 – KATOWICE / Jazz Club Hipnoza\\nNov 17 – VIENNA / Chelsea\\nNov 19 – GENEVA / L’Usine\\nNov 21 – RENNES / Le Liberté\\nNov 22 – REIMS / La Cartonnerie\\nNov 23 – NANCY / L’autre Canal\\nNov 24 – BESANCON / La Rodia\\nNov 25 – PARIS / Casino de Paris\\nNov 27 – LYON / Marché Gare\\nNov 28 – NIMES / Paloma\\nNov 29 – LA ROCHELLE / La Sirene\\nNov 30 – LIMOGES / Centre Culturel John Lennon\\nDec 02 – LONDON / Heaven\\n\\nGet your tickets: http://bretonlabs.com/&#39;, title=&#39;Breton - Envy&#39;), publishedAt=&#39;2013-12-12T19:34:35Z&#39;, tags=[&#39;Breton&#39;, &#39;Envy&#39;, &#39;breton&#39;, &#39;bretonlabs&#39;, &#39;war room stories&#39;, &#39;other peoples problems&#39;, &#39;got well soon&#39;, &#39;envy&#39;], thumbnails=Row(default=Row(height=90, url=&#39;https://i.ytimg.com/vi/1JWOKGK9pis/default.jpg&#39;, width=120), high=Row(height=360, url=&#39;https://i.ytimg.com/vi/1JWOKGK9pis/hqdefault.jpg&#39;, width=480), maxres=Row(height=720, url=&#39;https://i.ytimg.com/vi/1JWOKGK9pis/maxresdefault.jpg&#39;, width=1280), medium=Row(height=180, url=&#39;https://i.ytimg.com/vi/1JWOKGK9pis/mqdefault.jpg&#39;, width=320), standard=Row(height=480, url=&#39;https://i.ytimg.com/vi/1JWOKGK9pis/sddefault.jpg&#39;, width=640)), title=&#39;Breton - Envy&#39;), statistics=Row(commentCount=&#39;231&#39;, dislikeCount=&#39;117&#39;, favoriteCount=&#39;0&#39;, likeCount=&#39;6088&#39;, viewCount=&#39;895958&#39;), status=Row(embeddable=True, license=&#39;youtube&#39;, madeForKids=False, privacyStatus=&#39;public&#39;, publicStatsViewable=False, uploadStatus=&#39;processed&#39;), topicDetails=Row(relevantTopicIds=[&#39;/m/04rlf&#39;, &#39;/m/05rwpb&#39;, &#39;/m/04rlf&#39;, &#39;/m/05rwpb&#39;], topicCategories=[&#39;https://en.wikipedia.org/wiki/Independent_music&#39;, &#39;https://en.wikipedia.org/wiki/Music&#39;])),\n",
       " Row(contentDetails=Row(caption=&#39;false&#39;, contentRating=Row(ytRating=None), definition=&#39;hd&#39;, dimension=&#39;2d&#39;, duration=&#39;PT5M17S&#39;, licensedContent=False, projection=&#39;rectangular&#39;, regionRestriction=None), etag=&#39;ZPdGu-EquPwTE9K2Q0eTjwlZeH8&#39;, id=&#39;BERilmKPRAQ&#39;, kind=&#39;youtube#video&#39;, snippet=Row(categoryId=&#39;10&#39;, channelId=&#39;UCngnwyUpm1TJwPs1KgA8hMA&#39;, channelTitle=&#39;Eliana Teixeira&#39;, defaultAudioLanguage=None, defaultLanguage=None, description=&#39;http://soundcloud.com/blackmail-1&#39;, liveBroadcastContent=&#39;none&#39;, localized=Row(description=&#39;http://soundcloud.com/blackmail-1&#39;, title=&#39;Blackmail - A Miracle America | HQ&#39;), publishedAt=&#39;2012-06-07T15:58:26Z&#39;, tags=[&#39;france&#39;, &#39;america&#39;, &#39;miracle&#39;, &#34;she&#39;s crafty&#34;, &#39;blackmail&#39;, &#39;a miracle america&#39;, &#39;electronic&#39;, &#39;dark&#39;, &#39;hipster&#39;, &#39;SYNTH&#39;, &#39;ROCK&#39;], thumbnails=Row(default=Row(height=90, url=&#39;https://i.ytimg.com/vi/BERilmKPRAQ/default.jpg&#39;, width=120), high=Row(height=360, url=&#39;https://i.ytimg.com/vi/BERilmKPRAQ/hqdefault.jpg&#39;, width=480), maxres=Row(height=720, url=&#39;https://i.ytimg.com/vi/BERilmKPRAQ/maxresdefault.jpg&#39;, width=1280), medium=Row(height=180, url=&#39;https://i.ytimg.com/vi/BERilmKPRAQ/mqdefault.jpg&#39;, width=320), standard=Row(height=480, url=&#39;https://i.ytimg.com/vi/BERilmKPRAQ/sddefault.jpg&#39;, width=640)), title=&#39;Blackmail - A Miracle America | HQ&#39;), statistics=Row(commentCount=&#39;1&#39;, dislikeCount=&#39;1&#39;, favoriteCount=&#39;0&#39;, likeCount=&#39;32&#39;, viewCount=&#39;4845&#39;), status=Row(embeddable=True, license=&#39;youtube&#39;, madeForKids=False, privacyStatus=&#39;public&#39;, publicStatsViewable=True, uploadStatus=&#39;processed&#39;), topicDetails=Row(relevantTopicIds=[&#39;/m/04rlf&#39;, &#39;/m/06by7&#39;, &#39;/m/02lkt&#39;, &#39;/m/04rlf&#39;, &#39;/m/06by7&#39;, &#39;/m/02lkt&#39;], topicCategories=[&#39;https://en.wikipedia.org/wiki/Rock_music&#39;, &#39;https://en.wikipedia.org/wiki/Electronic_music&#39;, &#39;https://en.wikipedia.org/wiki/Music&#39;])),\n",
       " Row(contentDetails=Row(caption=&#39;false&#39;, contentRating=Row(ytRating=None), definition=&#39;hd&#39;, dimension=&#39;2d&#39;, duration=&#39;PT5M14S&#39;, licensedContent=True, projection=&#39;rectangular&#39;, regionRestriction=None), etag=&#39;EMp1OhtNsVWpvBz1ATPDQrIy9UU&#39;, id=&#39;CjwwmFrsX_E&#39;, kind=&#39;youtube#video&#39;, snippet=Row(categoryId=&#39;10&#39;, channelId=&#39;UCd2KNtfphz8HvYzM4pwtHmg&#39;, channelTitle=&#39;triple j&#39;, defaultAudioLanguage=None, defaultLanguage=None, description=&#34;Scottish electrio CHVRCHES cover Arctic Monkeys &#39;Do I Wanna Know?&#39; for triple j&#39;s Like A Version. \\nSubscribe | http://bit.ly/2FYj5jC\\nLike A Version on Spotify | https://spoti.fi/2UpMDcU \\nLike A Version on Apple Music | https://apple.co/2NMJ7Y4\\nFacebook | http://bit.ly/iJ0OH9 \\nInstagram | http://bit.ly/2CWGnCA  \\nTwitter | http://bit.ly/2BdFOUI\\n\\nLike A Version is a segment on Australian radio station triple j. Every week a musician or band comes into the studio to play one of their own songs and cover a song they love. \\n\\nSince 2004, many artists have participated, including Childish Gambino, Lorde, CHVRCHES, Tame Impala, Tash Sultana, HAIM, Gang of Youths, Halsey, DMA&#39;S, Aurora, Arctic Monkeys. You can watch past sessions here: http://bit.ly/like_a_version\\n\\nYou can watch Like A Versions ad-free at http://www.triplej.net.au\\n\\n#LikeAVersion&#34;, liveBroadcastContent=&#39;none&#39;, localized=Row(description=&#34;Scottish electrio CHVRCHES cover Arctic Monkeys &#39;Do I Wanna Know?&#39; for triple j&#39;s Like A Version. \\nSubscribe | http://bit.ly/2FYj5jC\\nLike A Version on Spotify | https://spoti.fi/2UpMDcU \\nLike A Version on Apple Music | https://apple.co/2NMJ7Y4\\nFacebook | http://bit.ly/iJ0OH9 \\nInstagram | http://bit.ly/2CWGnCA  \\nTwitter | http://bit.ly/2BdFOUI\\n\\nLike A Version is a segment on Australian radio station triple j. Every week a musician or band comes into the studio to play one of their own songs and cover a song they love. \\n\\nSince 2004, many artists have participated, including Childish Gambino, Lorde, CHVRCHES, Tame Impala, Tash Sultana, HAIM, Gang of Youths, Halsey, DMA&#39;S, Aurora, Arctic Monkeys. You can watch past sessions here: http://bit.ly/like_a_version\\n\\nYou can watch Like A Versions ad-free at http://www.triplej.net.au\\n\\n#LikeAVersion&#34;, title=&#34;CHVRCHES cover Arctic Monkeys &#39;Do I Wanna Know?&#39; for Like A Version&#34;), publishedAt=&#39;2014-02-13T21:19:39Z&#39;, tags=[&#39;Chvrches&#39;, &#39;Arctic Monkeys&#39;, &#39;Like A Version&#39;, &#39;triple j&#39;, &#39;Do I Wanna Know?&#39;, &#39;Lauren Mayberry&#39;, &#39;Laneway Festival&#39;, &#39;like a version&#39;, &#39;cover&#39;, &#39;live&#39;, &#39;triplej&#39;, &#39;jjj&#39;, &#39;matt and alex&#39;, &#39;matt &amp; alex&#39;, &#39;matt okine&#39;, &#39;alex dyson&#39;, &#39;breakfast show&#39;, &#39;breakfast radio&#39;, &#39;radio&#39;, &#39;breakfast&#39;, &#39;music&#39;, &#39;Australian Music&#39;, &#39;Australian&#39;, &#39;Australia&#39;, &#39;studio&#39;, &#39;abc&#39;], thumbnails=Row(default=Row(height=90, url=&#39;https://i.ytimg.com/vi/CjwwmFrsX_E/default.jpg&#39;, width=120), high=Row(height=360, url=&#39;https://i.ytimg.com/vi/CjwwmFrsX_E/hqdefault.jpg&#39;, width=480), maxres=Row(height=720, url=&#39;https://i.ytimg.com/vi/CjwwmFrsX_E/maxresdefault.jpg&#39;, width=1280), medium=Row(height=180, url=&#39;https://i.ytimg.com/vi/CjwwmFrsX_E/mqdefault.jpg&#39;, width=320), standard=Row(height=480, url=&#39;https://i.ytimg.com/vi/CjwwmFrsX_E/sddefault.jpg&#39;, width=640)), title=&#34;CHVRCHES cover Arctic Monkeys &#39;Do I Wanna Know?&#39; for Like A Version&#34;), statistics=Row(commentCount=&#39;4479&#39;, dislikeCount=&#39;6560&#39;, favoriteCount=&#39;0&#39;, likeCount=&#39;104433&#39;, viewCount=&#39;12463530&#39;), status=Row(embeddable=True, license=&#39;youtube&#39;, madeForKids=False, privacyStatus=&#39;public&#39;, publicStatsViewable=True, uploadStatus=&#39;processed&#39;), topicDetails=Row(relevantTopicIds=[&#39;/m/04rlf&#39;, &#39;/m/04rlf&#39;], topicCategories=[&#39;https://en.wikipedia.org/wiki/Music&#39;])),\n",
       " Row(contentDetails=Row(caption=&#39;false&#39;, contentRating=Row(ytRating=None), definition=&#39;hd&#39;, dimension=&#39;2d&#39;, duration=&#39;PT2M55S&#39;, licensedContent=True, projection=&#39;rectangular&#39;, regionRestriction=Row(allowed=None, blocked=[&#39;SY&#39;, &#39;SX&#39;, &#39;SZ&#39;, &#39;SS&#39;, &#39;SR&#39;, &#39;IL&#39;, &#39;ST&#39;, &#39;SV&#39;, &#39;SI&#39;, &#39;SH&#39;, &#39;SK&#39;, &#39;SJ&#39;, &#39;SM&#39;, &#39;SL&#39;, &#39;SO&#39;, &#39;SN&#39;, &#39;SA&#39;, &#39;SC&#39;, &#39;SB&#39;, &#39;SE&#39;, &#39;SD&#39;, &#39;SG&#39;, &#39;CI&#39;, &#39;KP&#39;, &#39;CK&#39;, &#39;KR&#39;, &#39;CM&#39;, &#39;CL&#39;, &#39;CO&#39;, &#39;CN&#39;, &#39;CA&#39;, &#39;PL&#39;, &#39;CC&#39;, &#39;VA&#39;, &#39;CD&#39;, &#39;CG&#39;, &#39;CF&#39;, &#39;CY&#39;, &#39;CX&#39;, &#39;PS&#39;, &#39;CZ&#39;, &#39;KE&#39;, &#39;KG&#39;, &#39;KI&#39;, &#39;KH&#39;, &#39;CR&#39;, &#39;KM&#39;, &#39;TC&#39;, &#39;CW&#39;, &#39;CV&#39;, &#39;PR&#39;, &#39;HK&#39;, &#39;PT&#39;, &#39;HM&#39;, &#39;HN&#39;, &#39;PW&#39;, &#39;PY&#39;, &#39;PA&#39;, &#39;PE&#39;, &#39;PF&#39;, &#39;PG&#39;, &#39;PH&#39;, &#39;HR&#39;, &#39;PK&#39;, &#39;HT&#39;, &#39;HU&#39;, &#39;PN&#39;, &#39;TW&#39;, &#39;ZM&#39;, &#39;UM&#39;, &#39;IO&#39;, &#39;IN&#39;, &#39;IM&#39;, &#39;KY&#39;, &#39;ZW&#39;, &#39;IE&#39;, &#39;ID&#39;, &#39;QA&#39;, &#39;NI&#39;, &#39;IS&#39;, &#39;IR&#39;, &#39;IQ&#39;, &#39;VG&#39;, &#39;IT&#39;, &#39;TL&#39;, &#39;TM&#39;, &#39;TN&#39;, &#39;TO&#39;, &#39;AG&#39;, &#39;AF&#39;, &#39;TJ&#39;, &#39;AD&#39;, &#39;TD&#39;, &#39;AI&#39;, &#39;TG&#39;, &#39;AO&#39;, &#39;AM&#39;, &#39;AL&#39;, &#39;AS&#39;, &#39;AR&#39;, &#39;AQ&#39;, &#39;AW&#39;, &#39;AU&#39;, &#39;AT&#39;, &#39;TT&#39;, &#39;AZ&#39;, &#39;TV&#39;, &#39;AX&#39;, &#39;TR&#39;, &#39;NC&#39;, &#39;NA&#39;, &#39;NF&#39;, &#39;NG&#39;, &#39;NE&#39;, &#39;BS&#39;, &#39;NO&#39;, &#39;NL&#39;, &#39;NR&#39;, &#39;NP&#39;, &#39;VI&#39;, &#39;NU&#39;, &#39;NZ&#39;, &#39;VN&#39;, &#39;KW&#39;, &#39;FR&#39;, &#39;GB&#39;, &#39;YT&#39;, &#39;FJ&#39;, &#39;FK&#39;, &#39;FI&#39;, &#39;FO&#39;, &#39;FM&#39;, &#39;YE&#39;, &#39;OM&#39;, &#39;KZ&#39;, &#39;WS&#39;, &#39;TZ&#39;, &#39;WF&#39;, &#39;UG&#39;, &#39;VE&#39;, &#39;GE&#39;, &#39;GD&#39;, &#39;GG&#39;, &#39;GF&#39;, &#39;GA&#39;, &#39;CH&#39;, &#39;ZA&#39;, &#39;GM&#39;, &#39;GL&#39;, &#39;TK&#39;, &#39;GN&#39;, &#39;GI&#39;, &#39;GH&#39;, &#39;GU&#39;, &#39;GT&#39;, &#39;GW&#39;, &#39;VC&#39;, &#39;GQ&#39;, &#39;GP&#39;, &#39;GS&#39;, &#39;GR&#39;, &#39;GY&#39;, &#39;PM&#39;, &#39;LA&#39;, &#39;LB&#39;, &#39;LC&#39;, &#39;LI&#39;, &#39;LK&#39;, &#39;LT&#39;, &#39;LU&#39;, &#39;LV&#39;, &#39;LR&#39;, &#39;LS&#39;, &#39;LY&#39;, &#39;JP&#39;, &#39;DZ&#39;, &#39;VU&#39;, &#39;CU&#39;, &#39;DM&#39;, &#39;DO&#39;, &#39;DJ&#39;, &#39;DK&#39;, &#39;DE&#39;, &#39;KN&#39;, &#39;MG&#39;, &#39;MF&#39;, &#39;ME&#39;, &#39;MD&#39;, &#39;MC&#39;, &#39;MA&#39;, &#39;MO&#39;, &#39;MN&#39;, &#39;MM&#39;, &#39;ML&#39;, &#39;MK&#39;, &#39;US&#39;, &#39;MH&#39;, &#39;MW&#39;, &#39;MV&#39;, &#39;MU&#39;, &#39;MT&#39;, &#39;MS&#39;, &#39;MR&#39;, &#39;MQ&#39;, &#39;MP&#39;, &#39;MZ&#39;, &#39;MY&#39;, &#39;MX&#39;, &#39;ET&#39;, &#39;ES&#39;, &#39;ER&#39;, &#39;EH&#39;, &#39;EG&#39;, &#39;EE&#39;, &#39;EC&#39;, &#39;RW&#39;, &#39;RU&#39;, &#39;RS&#39;, &#39;RO&#39;, &#39;JO&#39;, &#39;TH&#39;, &#39;RE&#39;, &#39;BN&#39;, &#39;BO&#39;, &#39;BL&#39;, &#39;BM&#39;, &#39;BJ&#39;, &#39;AE&#39;, &#39;BH&#39;, &#39;BI&#39;, &#39;BF&#39;, &#39;BG&#39;, &#39;BD&#39;, &#39;BE&#39;, &#39;BB&#39;, &#39;UA&#39;, &#39;BA&#39;, &#39;JE&#39;, &#39;BZ&#39;, &#39;UZ&#39;, &#39;UY&#39;, &#39;BY&#39;, &#39;BV&#39;, &#39;BW&#39;, &#39;BT&#39;, &#39;JM&#39;, &#39;BR&#39;, &#39;TF&#39;, &#39;BQ&#39;])), etag=&#39;OLNSehPQqce0jARfHY5C9ejhZP0&#39;, id=&#39;kPvLT-Wa5Rs&#39;, kind=&#39;youtube#video&#39;, snippet=Row(categoryId=&#39;10&#39;, channelId=&#39;UCJisrqMX102yOunQkQXVR4w&#39;, channelTitle=&#39;LiamBaileyVEVO&#39;, defaultAudioLanguage=None, defaultLanguage=None, description=&#34;Liam Bailey - Please Love Me \\n \\nLiam Bailey&#39;s new single &#39;Please Love Me&#39; is out now on Truth and Soul Records. \\n \\nDownload on iTunes: http://t.co/ogiXWtIJ \\nOrder the single on vinyl: http://truthandsoulrecords.com/artists/liam-bailey-2/\\n \\n&#39;Like&#39; Liam Bailey on Facebook: https://www.facebook.com/liambaileymusic\\nFollow Liam Bailey on Twitter: http://twitter.com/liambailey\\nSubscribe to Liam Bailey&#39;s channel here: http://www.youtube.com/subscription_center?gl=CA&amp;add_user=liambaileymusic&#34;, liveBroadcastContent=&#39;none&#39;, localized=Row(description=&#34;Liam Bailey - Please Love Me \\n \\nLiam Bailey&#39;s new single &#39;Please Love Me&#39; is out now on Truth and Soul Records. \\n \\nDownload on iTunes: http://t.co/ogiXWtIJ \\nOrder the single on vinyl: http://truthandsoulrecords.com/artists/liam-bailey-2/\\n \\n&#39;Like&#39; Liam Bailey on Facebook: https://www.facebook.com/liambaileymusic\\nFollow Liam Bailey on Twitter: http://twitter.com/liambailey\\nSubscribe to Liam Bailey&#39;s channel here: http://www.youtube.com/subscription_center?gl=CA&amp;add_user=liambaileymusic&#34;, title=&#39;Liam Bailey - Please Love Me&#39;), publishedAt=&#39;2012-08-21T04:00:10Z&#39;, tags=[&#39;truth&#39;, &#39;soul&#39;, &#39;liam&#39;, &#39;bailey&#39;, &#39;funk&#39;, &#39;lee&#39;, &#39;fields&#39;, &#39;el&#39;, &#39;michels&#39;, &#39;affair&#39;, &#39;brooklyn&#39;, &#34;&#39;liam bailey&#39;&#34;, &#39;bayley&#39;, &#34;&#39;chase &amp; status&#39;&#34;, &#39;blind faith&#39;, &#34;&#39;it&#39;s not the same&#39;&#34;, &#39;better leave me&#39;, &#39;nottingham&#39;, &#39;london&#39;, &#34;&#39;when will they learn&#39;&#34;, &#39;dub&#39;, &#39;skank&#39;, &#39;mistajam&#39;, &#39;acoustic&#39;, &#34;&#39;michael kiwanuka&#39;&#34;, &#39;delilah&#39;, &#39;new&#39;], thumbnails=Row(default=Row(height=90, url=&#39;https://i.ytimg.com/vi/kPvLT-Wa5Rs/default.jpg&#39;, width=120), high=Row(height=360, url=&#39;https://i.ytimg.com/vi/kPvLT-Wa5Rs/hqdefault.jpg&#39;, width=480), maxres=Row(height=720, url=&#39;https://i.ytimg.com/vi/kPvLT-Wa5Rs/maxresdefault.jpg&#39;, width=1280), medium=Row(height=180, url=&#39;https://i.ytimg.com/vi/kPvLT-Wa5Rs/mqdefault.jpg&#39;, width=320), standard=Row(height=480, url=&#39;https://i.ytimg.com/vi/kPvLT-Wa5Rs/sddefault.jpg&#39;, width=640)), title=&#39;Liam Bailey - Please Love Me&#39;), statistics=Row(commentCount=&#39;106&#39;, dislikeCount=&#39;43&#39;, favoriteCount=&#39;0&#39;, likeCount=&#39;2182&#39;, viewCount=&#39;428727&#39;), status=Row(embeddable=True, license=&#39;youtube&#39;, madeForKids=False, privacyStatus=&#39;public&#39;, publicStatsViewable=True, uploadStatus=&#39;processed&#39;), topicDetails=Row(relevantTopicIds=[&#39;/m/04rlf&#39;, &#39;/m/04rlf&#39;], topicCategories=[&#39;https://en.wikipedia.org/wiki/Music&#39;])),\n",
       " Row(contentDetails=Row(caption=&#39;false&#39;, contentRating=Row(ytRating=None), definition=&#39;hd&#39;, dimension=&#39;2d&#39;, duration=&#39;PT5M6S&#39;, licensedContent=False, projection=&#39;rectangular&#39;, regionRestriction=Row(allowed=None, blocked=[&#39;DK&#39;])), etag=&#39;AdrmW4Jc7CZzbverj9H56z0I92Y&#39;, id=&#39;6kiGXFDijUI&#39;, kind=&#39;youtube#video&#39;, snippet=Row(categoryId=&#39;10&#39;, channelId=&#39;UCqsEcqpXUrq9YUt0bRgp9Og&#39;, channelTitle=&#39;Lluvia Magnética&#39;, defaultAudioLanguage=None, defaultLanguage=None, description=&#39;Lluvia Magnética - Enjoy the music while it rains.\\nFacebook: https://www.facebook.com/LluviaMagnetica\\n\\n♪ Free Download:\\nhttps://soundcloud.com/nu-ky/nu-ky-jimmy-bootleg-free-1\\n\\n♪ Artist: Nu&amp;Ky\\nhttps://www.facebook.com/pages/NuKy/172186256314705 \\nhttps://soundcloud.com/nu-ky\\n\\n♪ Artist: Moriarty\\nhttp://moriartyland.net/\\n\\n♪ Image:\\nhttp://500px.com/photo/24035899\\nhttp://500px.com/peterholmeiii\\n\\n© Please contact  lluviamagnetica@gmail.com for any claim or video removal requests (producers, labels and artists).&#39;, liveBroadcastContent=&#39;none&#39;, localized=Row(description=&#39;Lluvia Magnética - Enjoy the music while it rains.\\nFacebook: https://www.facebook.com/LluviaMagnetica\\n\\n♪ Free Download:\\nhttps://soundcloud.com/nu-ky/nu-ky-jimmy-bootleg-free-1\\n\\n♪ Artist: Nu&amp;Ky\\nhttps://www.facebook.com/pages/NuKy/172186256314705 \\nhttps://soundcloud.com/nu-ky\\n\\n♪ Artist: Moriarty\\nhttp://moriartyland.net/\\n\\n♪ Image:\\nhttp://500px.com/photo/24035899\\nhttp://500px.com/peterholmeiii\\n\\n© Please contact  lluviamagnetica@gmail.com for any claim or video removal requests (producers, labels and artists).&#39;, title=&#39;Moriarty - Jimmy (Nu&amp;Ky Bootleg)&#39;), publishedAt=&#39;2013-11-20T18:38:27Z&#39;, tags=[&#39;Uplifting&#39;, &#39;electronic&#39;, &#39;Lluvia&#39;, &#39;Magnetica&#39;, &#39;Moriarty Jimmy Nu&amp;Ky Bootleg&#39;, &#39;rain&#39;, &#39;country&#39;, &#39;ride&#39;, &#39;driving music&#39;, &#39;guitar&#39;, &#39;clasical&#39;, &#39;hermonica&#39;], thumbnails=Row(default=Row(height=90, url=&#39;https://i.ytimg.com/vi/6kiGXFDijUI/default.jpg&#39;, width=120), high=Row(height=360, url=&#39;https://i.ytimg.com/vi/6kiGXFDijUI/hqdefault.jpg&#39;, width=480), maxres=Row(height=720, url=&#39;https://i.ytimg.com/vi/6kiGXFDijUI/maxresdefault.jpg&#39;, width=1280), medium=Row(height=180, url=&#39;https://i.ytimg.com/vi/6kiGXFDijUI/mqdefault.jpg&#39;, width=320), standard=Row(height=480, url=&#39;https://i.ytimg.com/vi/6kiGXFDijUI/sddefault.jpg&#39;, width=640)), title=&#39;Moriarty - Jimmy (Nu&amp;Ky Bootleg)&#39;), statistics=Row(commentCount=&#39;1&#39;, dislikeCount=&#39;1&#39;, favoriteCount=&#39;0&#39;, likeCount=&#39;20&#39;, viewCount=&#39;1673&#39;), status=Row(embeddable=True, license=&#39;youtube&#39;, madeForKids=False, privacyStatus=&#39;public&#39;, publicStatsViewable=True, uploadStatus=&#39;processed&#39;), topicDetails=Row(relevantTopicIds=[&#39;/m/04rlf&#39;, &#39;/m/05rwpb&#39;, &#39;/m/04rlf&#39;, &#39;/m/05rwpb&#39;], topicCategories=[&#39;https://en.wikipedia.org/wiki/Independent_music&#39;, &#39;https://en.wikipedia.org/wiki/Music&#39;]))]</div>"
      ]
     },
     "metadata": {
      "application/vnd.databricks.v1+output": {
       "addedWidgets": {},
       "arguments": {},
       "data": "<div class=\"ansiout\">Out[24]: [Row(contentDetails=Row(caption=&#39;false&#39;, contentRating=Row(ytRating=None), definition=&#39;sd&#39;, dimension=&#39;2d&#39;, duration=&#39;PT3M33S&#39;, licensedContent=True, projection=&#39;rectangular&#39;, regionRestriction=None), etag=&#39;SqP7uUVSol30dxvuScN6JUny6T4&#39;, id=&#39;t1l8Z6gLPzo&#39;, kind=&#39;youtube#video&#39;, snippet=Row(categoryId=&#39;10&#39;, channelId=&#39;UCUERSOitwgUq_37kGslN96w&#39;, channelTitle=&#39;VOLO&#39;, defaultAudioLanguage=None, defaultLanguage=None, description=&#39;Enregistré et mixé par Cyrille PELTIER au &#34;Keen Studio&#34; à Tours.\\nMerci à Cyrille PELTIER et au &#34;Keen Studio&#34; à Tours.\\nToutes les dates de la tournée sur volo.fr\\nLe nouvel album &#34;Sans rire&#34; est sorti le 11 mars 2013.\\nVolo était à l\\&#39;Olympia le 29 avril dernier et est en tournée dans toute la France.\\nLe clip de &#34;Toujours à côté&#34; est sur youtube sur http://www.youtube.com/watch?v=cWCH2dpyw1c : Le premier extrait de l\\&#39;album est en playliste sur France Bleue, Europe 1, RFM, RFI, Radio Alouette.\\n&#34;Sans rire&#34;, autre extrait de l\\&#39;album, est en playlist sur Virgin Radio.\\n\\nSortie digitale de &#34;Toujours à côté&#34;\\nhttps://itunes.apple.com/fr/album/toujours-a-cote-single/id570616846\\n\\nVolo est un duo de frères. Frédéric et Olivier VOLOVITCH. \\nAvec un nom de famille qui leur vient d\\&#39;un arrière grand-père Ukrainien, nés au milieu d\\&#39;une fratrie de 4 enfants, ils grandissent dans la campagne tourangelle dans une famille de profs.\\n\\nFrédo intègre l\\&#39;école de la rue Blanche en tant que comédien en 1992, Olivier le rejoint sur Paris en 1997 où il étudie la philosophie à la Sorbonne.\\nLe duo se forme officiellement en 2002.\\nEntre les différentes tournées des « Wriggles », dont Frédo est un des membres fondateurs, et Olivier le régisseur général, les deux frangins font leurs premiers concerts. D\\&#39;abord et surtout dans des bars où autres Caf\\&#39;conc, jusqu\\&#39; à la sortie de leur 1er disque en 2005 chez « Opéra Music ».\\nDepuis, et en tout, les deux frangins, ont sorti cinq albums. Trois studios, un live acoustique et un best of. \\nPeu médiatisé « Volo » est aussi et surtout un groupe de scène qui peut compter sur un public fidèle et grandissant. Produits en live par « Blue Line Productions », on les a vus en tournée dans toute la France, à la Cigale, au Trianon, au Bataclan, à l\\&#39;Olympia, aux Francofolies de la Rochelle etc...\\nAujourd\\&#39;hui, récemment signé chez « Play On », Volo revient avec un nouvel album réalisé par Jean-François Delort sur des arrangements de Florian Dubos et Jocelyn Moze. Ce nouveau disque, attendu dans les bacs début 2013, sera accompagné d\\&#39;une tournée qui démarrera cet automne et passera par la Cigale le 23 novembre 2012.&#39;, liveBroadcastContent=&#39;none&#39;, localized=Row(description=&#39;Enregistré et mixé par Cyrille PELTIER au &#34;Keen Studio&#34; à Tours.\\nMerci à Cyrille PELTIER et au &#34;Keen Studio&#34; à Tours.\\nToutes les dates de la tournée sur volo.fr\\nLe nouvel album &#34;Sans rire&#34; est sorti le 11 mars 2013.\\nVolo était à l\\&#39;Olympia le 29 avril dernier et est en tournée dans toute la France.\\nLe clip de &#34;Toujours à côté&#34; est sur youtube sur http://www.youtube.com/watch?v=cWCH2dpyw1c : Le premier extrait de l\\&#39;album est en playliste sur France Bleue, Europe 1, RFM, RFI, Radio Alouette.\\n&#34;Sans rire&#34;, autre extrait de l\\&#39;album, est en playlist sur Virgin Radio.\\n\\nSortie digitale de &#34;Toujours à côté&#34;\\nhttps://itunes.apple.com/fr/album/toujours-a-cote-single/id570616846\\n\\nVolo est un duo de frères. Frédéric et Olivier VOLOVITCH. \\nAvec un nom de famille qui leur vient d\\&#39;un arrière grand-père Ukrainien, nés au milieu d\\&#39;une fratrie de 4 enfants, ils grandissent dans la campagne tourangelle dans une famille de profs.\\n\\nFrédo intègre l\\&#39;école de la rue Blanche en tant que comédien en 1992, Olivier le rejoint sur Paris en 1997 où il étudie la philosophie à la Sorbonne.\\nLe duo se forme officiellement en 2002.\\nEntre les différentes tournées des « Wriggles », dont Frédo est un des membres fondateurs, et Olivier le régisseur général, les deux frangins font leurs premiers concerts. D\\&#39;abord et surtout dans des bars où autres Caf\\&#39;conc, jusqu\\&#39; à la sortie de leur 1er disque en 2005 chez « Opéra Music ».\\nDepuis, et en tout, les deux frangins, ont sorti cinq albums. Trois studios, un live acoustique et un best of. \\nPeu médiatisé « Volo » est aussi et surtout un groupe de scène qui peut compter sur un public fidèle et grandissant. Produits en live par « Blue Line Productions », on les a vus en tournée dans toute la France, à la Cigale, au Trianon, au Bataclan, à l\\&#39;Olympia, aux Francofolies de la Rochelle etc...\\nAujourd\\&#39;hui, récemment signé chez « Play On », Volo revient avec un nouvel album réalisé par Jean-François Delort sur des arrangements de Florian Dubos et Jocelyn Moze. Ce nouveau disque, attendu dans les bacs début 2013, sera accompagné d\\&#39;une tournée qui démarrera cet automne et passera par la Cigale le 23 novembre 2012.&#39;, title=&#39;VOLO. &#34;L\\&#39;air d\\&#39;un con&#34;&#39;), publishedAt=&#39;2013-07-22T12:09:11Z&#39;, tags=[&#39;volo&#39;, &#39;volovitch&#39;, &#39;wriggles&#39;, &#39;sans rire&#39;, &#39;toujours à côté&#39;, &#39;bien zarbos&#39;, &#39;en attendant&#39;, &#39;blancs manteaux&#39;, &#39;jours heureux&#39;, &#39;play on&#39;, &#39;zaz&#39;, &#39;tryo&#39;], thumbnails=Row(default=Row(height=90, url=&#39;https://i.ytimg.com/vi/t1l8Z6gLPzo/default.jpg&#39;, width=120), high=Row(height=360, url=&#39;https://i.ytimg.com/vi/t1l8Z6gLPzo/hqdefault.jpg&#39;, width=480), maxres=None, medium=Row(height=180, url=&#39;https://i.ytimg.com/vi/t1l8Z6gLPzo/mqdefault.jpg&#39;, width=320), standard=Row(height=480, url=&#39;https://i.ytimg.com/vi/t1l8Z6gLPzo/sddefault.jpg&#39;, width=640)), title=&#39;VOLO. &#34;L\\&#39;air d\\&#39;un con&#34;&#39;), statistics=Row(commentCount=&#39;38&#39;, dislikeCount=&#39;26&#39;, favoriteCount=&#39;0&#39;, likeCount=&#39;1028&#39;, viewCount=&#39;223172&#39;), status=Row(embeddable=True, license=&#39;youtube&#39;, madeForKids=False, privacyStatus=&#39;public&#39;, publicStatsViewable=True, uploadStatus=&#39;processed&#39;), topicDetails=Row(relevantTopicIds=[&#39;/m/04rlf&#39;, &#39;/m/04rlf&#39;], topicCategories=[&#39;https://en.wikipedia.org/wiki/Music&#39;])),\n Row(contentDetails=Row(caption=&#39;false&#39;, contentRating=Row(ytRating=None), definition=&#39;hd&#39;, dimension=&#39;2d&#39;, duration=&#39;PT7M46S&#39;, licensedContent=False, projection=&#39;rectangular&#39;, regionRestriction=Row(allowed=None, blocked=[&#39;DK&#39;])), etag=&#39;m3DnhzTEw9ABiqzBvdasfk5Av_8&#39;, id=&#39;we5gzZq5Avg&#39;, kind=&#39;youtube#video&#39;, snippet=Row(categoryId=&#39;10&#39;, channelId=&#39;UCson549gpvRhPnJ3Whs5onA&#39;, channelTitle=&#39;LongWayToDream&#39;, defaultAudioLanguage=None, defaultLanguage=None, description=&#39;Air Conditionné EP&#39;, liveBroadcastContent=&#39;none&#39;, localized=Row(description=&#39;Air Conditionné EP&#39;, title=&#39;Julian Jeweil - Air Conditionné&#39;), publishedAt=&#39;2012-03-17T08:34:30Z&#39;, tags=[&#39;mnml&#39;, &#39;minimal&#39;, &#39;electronic&#39;, &#39;music&#39;], thumbnails=Row(default=Row(height=90, url=&#39;https://i.ytimg.com/vi/we5gzZq5Avg/default.jpg&#39;, width=120), high=Row(height=360, url=&#39;https://i.ytimg.com/vi/we5gzZq5Avg/hqdefault.jpg&#39;, width=480), maxres=Row(height=720, url=&#39;https://i.ytimg.com/vi/we5gzZq5Avg/maxresdefault.jpg&#39;, width=1280), medium=Row(height=180, url=&#39;https://i.ytimg.com/vi/we5gzZq5Avg/mqdefault.jpg&#39;, width=320), standard=Row(height=480, url=&#39;https://i.ytimg.com/vi/we5gzZq5Avg/sddefault.jpg&#39;, width=640)), title=&#39;Julian Jeweil - Air Conditionné&#39;), statistics=Row(commentCount=&#39;2&#39;, dislikeCount=&#39;3&#39;, favoriteCount=&#39;0&#39;, likeCount=&#39;124&#39;, viewCount=&#39;13409&#39;), status=Row(embeddable=True, license=&#39;youtube&#39;, madeForKids=False, privacyStatus=&#39;public&#39;, publicStatsViewable=True, uploadStatus=&#39;processed&#39;), topicDetails=Row(relevantTopicIds=[&#39;/m/04rlf&#39;, &#39;/m/04rlf&#39;], topicCategories=[&#39;https://en.wikipedia.org/wiki/Music&#39;])),\n Row(contentDetails=Row(caption=&#39;false&#39;, contentRating=Row(ytRating=None), definition=&#39;sd&#39;, dimension=&#39;2d&#39;, duration=&#39;PT3M7S&#39;, licensedContent=False, projection=&#39;rectangular&#39;, regionRestriction=None), etag=&#39;zyzs7STAR3NG-_pZe-0nGkbKoqg&#39;, id=&#39;49esza4eiK4&#39;, kind=&#39;youtube#video&#39;, snippet=Row(categoryId=&#39;10&#39;, channelId=&#39;UCcHYZ8Ez4gG_2bHEuBL8IfQ&#39;, channelTitle=&#39;Downtown Records&#39;, defaultAudioLanguage=None, defaultLanguage=None, description=&#34;myspace.com/etjusticepourtous\\r\\n(Downtown / Ed Banger)\\r\\n\\r\\nNominated for MTV VMA video of the year \\r\\n\\r\\nFrom the album &#39;Cross&#39;&#34;, liveBroadcastContent=&#39;none&#39;, localized=Row(description=&#34;myspace.com/etjusticepourtous\\r\\n(Downtown / Ed Banger)\\r\\n\\r\\nNominated for MTV VMA video of the year \\r\\n\\r\\nFrom the album &#39;Cross&#39;&#34;, title=&#39;Justice - D.A.N.C.E&#39;), publishedAt=&#39;2007-09-08T02:02:07Z&#39;, tags=[&#39;Justice&#39;, &#39;D.A.N.C.E&#39;, &#39;downtown&#39;], thumbnails=Row(default=Row(height=90, url=&#39;https://i.ytimg.com/vi/49esza4eiK4/default.jpg&#39;, width=120), high=Row(height=360, url=&#39;https://i.ytimg.com/vi/49esza4eiK4/hqdefault.jpg&#39;, width=480), maxres=None, medium=Row(height=180, url=&#39;https://i.ytimg.com/vi/49esza4eiK4/mqdefault.jpg&#39;, width=320), standard=None), title=&#39;Justice - D.A.N.C.E&#39;), statistics=Row(commentCount=&#39;3168&#39;, dislikeCount=&#39;780&#39;, favoriteCount=&#39;0&#39;, likeCount=&#39;25540&#39;, viewCount=&#39;10106655&#39;), status=Row(embeddable=True, license=&#39;youtube&#39;, madeForKids=False, privacyStatus=&#39;public&#39;, publicStatsViewable=True, uploadStatus=&#39;processed&#39;), topicDetails=Row(relevantTopicIds=[&#39;/m/04rlf&#39;, &#39;/m/02lkt&#39;, &#39;/m/04rlf&#39;, &#39;/m/02lkt&#39;], topicCategories=[&#39;https://en.wikipedia.org/wiki/Electronic_music&#39;, &#39;https://en.wikipedia.org/wiki/Music&#39;])),\n Row(contentDetails=Row(caption=&#39;false&#39;, contentRating=Row(ytRating=None), definition=&#39;hd&#39;, dimension=&#39;2d&#39;, duration=&#39;PT3M43S&#39;, licensedContent=False, projection=&#39;rectangular&#39;, regionRestriction=Row(allowed=None, blocked=[&#39;DK&#39;])), etag=&#39;hX2C15F6fdO5A-stUFMU5Az2PvI&#39;, id=&#39;BoO6LfR7ca0&#39;, kind=&#39;youtube#video&#39;, snippet=Row(categoryId=&#39;22&#39;, channelId=&#39;UCQ0wLCF7u23gZKJkHFs1Tpg&#39;, channelTitle=&#39;Music Is Our Drug&#39;, defaultAudioLanguage=None, defaultLanguage=None, description=&#39;♫ Music Is Our Drug - Spotify Playlist: https://goo.gl/rJvM5l\\n►Follow us on Spotify: https://goo.gl/HqOgkN\\n\\nTorture from the new Gramatik album - The Age Of Reason!\\nGramatik:\\nhttps://soundcloud.com/gramatik\\nhttps://www.facebook.com/gramatik\\n\\nImage:\\nhttp://www.allwalls.net/wallpapers/2012/09/Women-Graffiti-Stadium-Bracelets-1800x2880.jpg\\n\\n(If any producer or label has an issue with any of the uploads please get in contact with me on YouTube and I will delete it as soon as possible (this includes artists of the images used).&#39;, liveBroadcastContent=&#39;none&#39;, localized=Row(description=&#39;♫ Music Is Our Drug - Spotify Playlist: https://goo.gl/rJvM5l\\n►Follow us on Spotify: https://goo.gl/HqOgkN\\n\\nTorture from the new Gramatik album - The Age Of Reason!\\nGramatik:\\nhttps://soundcloud.com/gramatik\\nhttps://www.facebook.com/gramatik\\n\\nImage:\\nhttp://www.allwalls.net/wallpapers/2012/09/Women-Graffiti-Stadium-Bracelets-1800x2880.jpg\\n\\n(If any producer or label has an issue with any of the uploads please get in contact with me on YouTube and I will delete it as soon as possible (this includes artists of the images used).&#39;, title=&#39;Gramatik - Torture (feat. Eric Krasno)&#39;), publishedAt=&#39;2014-01-24T12:52:38Z&#39;, tags=[&#39;Gramatik&#39;, &#39;Torture&#39;, &#39;The Age Of Reason&#39;, &#39;2014&#39;, &#39;Music Is Our Drug&#39;, &#39;guitar&#39;, &#39;Eric Krisno&#39;], thumbnails=Row(default=Row(height=90, url=&#39;https://i.ytimg.com/vi/BoO6LfR7ca0/default.jpg&#39;, width=120), high=Row(height=360, url=&#39;https://i.ytimg.com/vi/BoO6LfR7ca0/hqdefault.jpg&#39;, width=480), maxres=Row(height=720, url=&#39;https://i.ytimg.com/vi/BoO6LfR7ca0/maxresdefault.jpg&#39;, width=1280), medium=Row(height=180, url=&#39;https://i.ytimg.com/vi/BoO6LfR7ca0/mqdefault.jpg&#39;, width=320), standard=Row(height=480, url=&#39;https://i.ytimg.com/vi/BoO6LfR7ca0/sddefault.jpg&#39;, width=640)), title=&#39;Gramatik - Torture (feat. Eric Krasno)&#39;), statistics=Row(commentCount=&#39;6&#39;, dislikeCount=&#39;0&#39;, favoriteCount=&#39;0&#39;, likeCount=&#39;255&#39;, viewCount=&#39;29153&#39;), status=Row(embeddable=True, license=&#39;youtube&#39;, madeForKids=False, privacyStatus=&#39;public&#39;, publicStatsViewable=True, uploadStatus=&#39;processed&#39;), topicDetails=Row(relevantTopicIds=[&#39;/m/04rlf&#39;, &#39;/m/04rlf&#39;], topicCategories=[&#39;https://en.wikipedia.org/wiki/Music&#39;])),\n Row(contentDetails=Row(caption=&#39;false&#39;, contentRating=Row(ytRating=None), definition=&#39;hd&#39;, dimension=&#39;2d&#39;, duration=&#39;PT5M&#39;, licensedContent=False, projection=&#39;rectangular&#39;, regionRestriction=Row(allowed=None, blocked=[&#39;DK&#39;])), etag=&#39;rYHoV38PLpMbRuX_zhGTVBKNotw&#39;, id=&#39;DaH4W1rY9us&#39;, kind=&#39;youtube#video&#39;, snippet=Row(categoryId=&#39;10&#39;, channelId=&#39;UCJsTMPZxYD-Q3kEmL4Qijpg&#39;, channelTitle=&#39;Harvey Pearson&#39;, defaultAudioLanguage=None, defaultLanguage=None, description=&#39;Buy The Burgh Island EP now:\\nhttps://itunes.apple.com/gb/album/burgh-island-ep/id571218980?affId=1657369&amp;ign-mpt=uo%3D4 \\n\\nNO COPYRIGHT INFRINGEMENT INTENDED&#39;, liveBroadcastContent=&#39;none&#39;, localized=Row(description=&#39;Buy The Burgh Island EP now:\\nhttps://itunes.apple.com/gb/album/burgh-island-ep/id571218980?affId=1657369&amp;ign-mpt=uo%3D4 \\n\\nNO COPYRIGHT INFRINGEMENT INTENDED&#39;, title=&#39;Ben Howard - Oats In The Water&#39;), publishedAt=&#39;2012-12-02T12:41:13Z&#39;, tags=[&#39;Ben Howard&#39;, &#39;Oats In The Water&#39;, &#39;Music Video&#39;, &#39;BBC Radio One&#39;, &#39;Zane Lowe&#39;, &#39;Greg James&#39;, &#39;Mickey Smith&#39;, &#39;Wales&#39;, &#39;Surf&#39;, &#39;Black And White&#39;, &#39;The Burgh Island EP&#39;, &#39;Burgh Island&#39;, &#39;Ireland&#39;, &#39;Astray Films&#39;, &#39;Harvey Pearson&#39;, &#39;Hounddogpictures&#39;, &#39;hdp&#39;, &#39;productions&#39;, &#39;iTunes&#39;, &#39;sony&#39;, &#39;nex&#39;, &#39;5n&#39;, &#39;Timelapse&#39;, &#39;CS6&#39;, &#39;Ben&#39;, &#39;Howard&#39;, &#39;(musician)&#39;, &#39;old&#39;, &#39;pine&#39;, &#39;only&#39;, &#39;love&#39;, &#39;keep&#39;, &#39;your&#39;, &#39;head&#39;, &#39;up&#39;, &#39;every&#39;, &#39;kingdom&#39;, &#39;harvpearson&#39;, &#39;official&#39;, &#39;video&#39;, &#39;music&#39;, &#39;Devon&#39;, &#39;beach&#39;, &#39;surf&#39;, &#39;surfers&#39;, &#39;Waves&#39;, &#39;Ocean&#39;, &#39;Hound Dog Pictures Productions&#39;, &#39;Sand&#39;, &#39;Surfing&#39;], thumbnails=Row(default=Row(height=90, url=&#39;https://i.ytimg.com/vi/DaH4W1rY9us/default.jpg&#39;, width=120), high=Row(height=360, url=&#39;https://i.ytimg.com/vi/DaH4W1rY9us/hqdefault.jpg&#39;, width=480), maxres=Row(height=720, url=&#39;https://i.ytimg.com/vi/DaH4W1rY9us/maxresdefault.jpg&#39;, width=1280), medium=Row(height=180, url=&#39;https://i.ytimg.com/vi/DaH4W1rY9us/mqdefault.jpg&#39;, width=320), standard=Row(height=480, url=&#39;https://i.ytimg.com/vi/DaH4W1rY9us/sddefault.jpg&#39;, width=640)), title=&#39;Ben Howard - Oats In The Water&#39;), statistics=Row(commentCount=&#39;5303&#39;, dislikeCount=&#39;1784&#39;, favoriteCount=&#39;0&#39;, likeCount=&#39;136033&#39;, viewCount=&#39;16488714&#39;), status=Row(embeddable=True, license=&#39;youtube&#39;, madeForKids=False, privacyStatus=&#39;public&#39;, publicStatsViewable=True, uploadStatus=&#39;processed&#39;), topicDetails=Row(relevantTopicIds=[&#39;/m/04rlf&#39;, &#39;/m/064t9&#39;, &#39;/m/05rwpb&#39;, &#39;/m/04rlf&#39;, &#39;/m/064t9&#39;, &#39;/m/05rwpb&#39;], topicCategories=[&#39;https://en.wikipedia.org/wiki/Pop_music&#39;, &#39;https://en.wikipedia.org/wiki/Independent_music&#39;, &#39;https://en.wikipedia.org/wiki/Music&#39;])),\n Row(contentDetails=Row(caption=&#39;false&#39;, contentRating=Row(ytRating=None), definition=&#39;hd&#39;, dimension=&#39;2d&#39;, duration=&#39;PT10M16S&#39;, licensedContent=False, projection=&#39;rectangular&#39;, regionRestriction=None), etag=&#39;n3_92hnxJ1-q6FV55bjQVus1hr4&#39;, id=&#39;PAAUqBghiVo&#39;, kind=&#39;youtube#video&#39;, snippet=Row(categoryId=&#39;10&#39;, channelId=&#39;UCDHvlud7Hf86FxFsogrBcMg&#39;, channelTitle=&#39;Resident Advisor&#39;, defaultAudioLanguage=None, defaultLanguage=None, description=&#39;Subscribe to the RA YouTube channel: http://bit.ly/1x7PeGy\\n\\nVisit the feature page: http://www.residentadvisor.net/feature.aspx?1959\\n\\nLast week Nicolas Jaar and Dave Harrington released Psychic, their debut album as Darkside. &#34;Darkside is utterly sincere,&#34; said Tony Naylor in his RA review, &#34;and at its most fractured and psychedelic, Harrington\\&#39;s guitar lends a smoky, mysterious dimension to Jaar\\&#39;s slinky electronica.&#34; &#34;Paper Trails&#34; is the record\\&#39;s dazzling midpoint, and in the first RA Sessions film, recorded at RA\\&#39;s HQ, Jaar and Harrington sank a couple of whiskeys and subtly teased the track out to twice its original length.\\n\\n\\nCredits:\\nProducer &amp; Director - Patrick Nation\\nCamera - Patrick Nation, Luke Ogden\\nSound Engineers - Vance Galloway, Rich Cufley (Sound Services)\\nProduction Assistant - Debbie Butts&#39;, liveBroadcastContent=&#39;none&#39;, localized=Row(description=&#39;Subscribe to the RA YouTube channel: http://bit.ly/1x7PeGy\\n\\nVisit the feature page: http://www.residentadvisor.net/feature.aspx?1959\\n\\nLast week Nicolas Jaar and Dave Harrington released Psychic, their debut album as Darkside. &#34;Darkside is utterly sincere,&#34; said Tony Naylor in his RA review, &#34;and at its most fractured and psychedelic, Harrington\\&#39;s guitar lends a smoky, mysterious dimension to Jaar\\&#39;s slinky electronica.&#34; &#34;Paper Trails&#34; is the record\\&#39;s dazzling midpoint, and in the first RA Sessions film, recorded at RA\\&#39;s HQ, Jaar and Harrington sank a couple of whiskeys and subtly teased the track out to twice its original length.\\n\\n\\nCredits:\\nProducer &amp; Director - Patrick Nation\\nCamera - Patrick Nation, Luke Ogden\\nSound Engineers - Vance Galloway, Rich Cufley (Sound Services)\\nProduction Assistant - Debbie Butts&#39;, title=&#39;RA Sessions: DARKSIDE - Paper Trails&#39;), publishedAt=&#39;2013-10-15T09:30:25Z&#39;, tags=[&#39;Resident Advisor (Website)&#39;, &#39;RA&#39;, &#39;darkside&#39;, &#39;psychic&#39;, &#39;paper trails&#39;, &#39;Nicolas Jaar (Musical Artist)&#39;, &#39;dave harrington&#39;, &#39;session&#39;, &#39;live session&#39;, &#39;live music&#39;, &#39;electronic music&#39;, &#39;Live&#39;, &#39;EDM&#39;, &#39;guitar&#39;, &#39;Wurlitzer Electric Piano (Product Line)&#39;, &#39;wurlitzer&#39;, &#39;Performance (Project)&#39;, &#39;Hardware&#39;, &#39;Liveset&#39;, &#39;Analog&#39;, &#39;Resident Advisor&#39;, &#39;Nico Jaar&#39;, &#39;Nicolas Jaar&#39;, &#39;Nicholas&#39;, &#39;Jaar&#39;, &#39;Performance&#39;, &#39;Paper Trail&#39;, &#39;DJ&#39;, &#39;Music&#39;], thumbnails=Row(default=Row(height=90, url=&#39;https://i.ytimg.com/vi/PAAUqBghiVo/default.jpg&#39;, width=120), high=Row(height=360, url=&#39;https://i.ytimg.com/vi/PAAUqBghiVo/hqdefault.jpg&#39;, width=480), maxres=Row(height=720, url=&#39;https://i.ytimg.com/vi/PAAUqBghiVo/maxresdefault.jpg&#39;, width=1280), medium=Row(height=180, url=&#39;https://i.ytimg.com/vi/PAAUqBghiVo/mqdefault.jpg&#39;, width=320), standard=Row(height=480, url=&#39;https://i.ytimg.com/vi/PAAUqBghiVo/sddefault.jpg&#39;, width=640)), title=&#39;RA Sessions: DARKSIDE - Paper Trails&#39;), statistics=Row(commentCount=&#39;883&#39;, dislikeCount=&#39;445&#39;, favoriteCount=&#39;0&#39;, likeCount=&#39;37193&#39;, viewCount=&#39;3381880&#39;), status=Row(embeddable=True, license=&#39;youtube&#39;, madeForKids=False, privacyStatus=&#39;public&#39;, publicStatsViewable=True, uploadStatus=&#39;processed&#39;), topicDetails=Row(relevantTopicIds=[&#39;/m/04rlf&#39;, &#39;/m/02lkt&#39;, &#39;/m/02lkt&#39;, &#39;/m/04rlf&#39;], topicCategories=[&#39;https://en.wikipedia.org/wiki/Electronic_music&#39;, &#39;https://en.wikipedia.org/wiki/Music&#39;])),\n Row(contentDetails=Row(caption=&#39;false&#39;, contentRating=Row(ytRating=None), definition=&#39;sd&#39;, dimension=&#39;2d&#39;, duration=&#39;PT7M59S&#39;, licensedContent=False, projection=&#39;rectangular&#39;, regionRestriction=None), etag=&#39;pAUuiD_-jONqms5j_vL0RHpqSf0&#39;, id=&#39;7CkBU80AsVg&#39;, kind=&#39;youtube#video&#39;, snippet=Row(categoryId=&#39;10&#39;, channelId=&#39;UCr7vKEGOLRCf4ivVzUcK6dw&#39;, channelTitle=&#39;Matheus Castilho&#39;, defaultAudioLanguage=None, defaultLanguage=None, description=&#34;Dusty Kid&#39;s America.\\r\\n\\r\\nDirected by @mattcastilho\\r\\nwww.mattcastilho.com&#34;, liveBroadcastContent=&#39;none&#39;, localized=Row(description=&#34;Dusty Kid&#39;s America.\\r\\n\\r\\nDirected by @mattcastilho\\r\\nwww.mattcastilho.com&#34;, title=&#39;Dusty Kid - America&#39;), publishedAt=&#39;2010-12-18T19:19:36Z&#39;, tags=[&#39;dusty kid america&#39;, &#39;tiesto&#39;, &#39;armin&#39;, &#39;van&#39;, &#39;buuren&#39;, &#39;animals&#39;, &#39;the&#39;, &#39;underground&#39;, &#39;progressive&#39;, &#39;elctro&#39;, &#39;house&#39;, &#39;electronic&#39;, &#39;music&#39;, &#39;paul&#39;, &#39;dyk&#39;, &#39;adam&#39;, &#39;deadmau5&#39;], thumbnails=Row(default=Row(height=90, url=&#39;https://i.ytimg.com/vi/7CkBU80AsVg/default.jpg&#39;, width=120), high=Row(height=360, url=&#39;https://i.ytimg.com/vi/7CkBU80AsVg/hqdefault.jpg&#39;, width=480), maxres=None, medium=Row(height=180, url=&#39;https://i.ytimg.com/vi/7CkBU80AsVg/mqdefault.jpg&#39;, width=320), standard=None), title=&#39;Dusty Kid - America&#39;), statistics=Row(commentCount=&#39;10&#39;, dislikeCount=&#39;6&#39;, favoriteCount=&#39;0&#39;, likeCount=&#39;183&#39;, viewCount=&#39;29520&#39;), status=Row(embeddable=True, license=&#39;youtube&#39;, madeForKids=False, privacyStatus=&#39;public&#39;, publicStatsViewable=True, uploadStatus=&#39;processed&#39;), topicDetails=Row(relevantTopicIds=[&#39;/m/04rlf&#39;, &#39;/m/04rlf&#39;], topicCategories=[&#39;https://en.wikipedia.org/wiki/Music&#39;])),\n Row(contentDetails=Row(caption=&#39;false&#39;, contentRating=Row(ytRating=None), definition=&#39;sd&#39;, dimension=&#39;2d&#39;, duration=&#39;PT3M34S&#39;, licensedContent=False, projection=&#39;rectangular&#39;, regionRestriction=Row(allowed=None, blocked=[&#39;DK&#39;])), etag=&#39;E-5a5WdsyWwTxNawfrjD9PQaSAQ&#39;, id=&#39;lddHsCBdQu8&#39;, kind=&#39;youtube#video&#39;, snippet=Row(categoryId=&#39;10&#39;, channelId=&#39;UCX_fIhJAag_NvUN7I1dwjBg&#39;, channelTitle=&#39;MOMOMOYOUTH&#39;, defaultAudioLanguage=None, defaultLanguage=None, description=&#34;Official Audio | MØ - Waste of Time\\n\\n\\nSubscribe to the MØ YouTube Channel:  http://smarturl.it/MOytb\\n\\n\\n&#39;No Mythologies To Follow&#39; is out now!\\n\\niTunes: http://smarturl.it/MO_NMTF_digi \\nAmazon: http://smarturl.it/MO_NMTF_AMZ \\nOfficial Store: http://smarturl.it/MOstore \\nVinyl: http://smarturl.it/MO_NMTF_RT \\n\\nSign up to my official mailing list http://smarturl.it/MOmail \\n\\nFollow me here:\\nhttp://open.spotify.com/artist/0bdfiayQAKewqEvaU6rXCv \\nhttp://www.facebook.com/MOMOMOYOUTH \\nhttp://twitter.com/MOMOMOYOUTH \\nhttp://www.momomoyouth.com/ \\nhttp://www.youtube.com/user/MOMOMOYOUTH\\n\\n#MØ\\n#WasteOfTime&#34;, liveBroadcastContent=&#39;none&#39;, localized=Row(description=&#34;Official Audio | MØ - Waste of Time\\n\\n\\nSubscribe to the MØ YouTube Channel:  http://smarturl.it/MOytb\\n\\n\\n&#39;No Mythologies To Follow&#39; is out now!\\n\\niTunes: http://smarturl.it/MO_NMTF_digi \\nAmazon: http://smarturl.it/MO_NMTF_AMZ \\nOfficial Store: http://smarturl.it/MOstore \\nVinyl: http://smarturl.it/MO_NMTF_RT \\n\\nSign up to my official mailing list http://smarturl.it/MOmail \\n\\nFollow me here:\\nhttp://open.spotify.com/artist/0bdfiayQAKewqEvaU6rXCv \\nhttp://www.facebook.com/MOMOMOYOUTH \\nhttp://twitter.com/MOMOMOYOUTH \\nhttp://www.momomoyouth.com/ \\nhttp://www.youtube.com/user/MOMOMOYOUTH\\n\\n#MØ\\n#WasteOfTime&#34;, title=&#39;MØ - Waste Of Time (Official Audio)&#39;), publishedAt=&#39;2013-05-15T08:19:20Z&#39;, tags=[&#39;MØ&#39;, &#39;momomoyouth&#39;, &#39;mo&#39;, &#39;mø&#39;, &#39;mø waste of time&#39;, &#39;waste of time&#39;, &#39;moe&#39;, &#39;mo waste of time&#39;], thumbnails=Row(default=Row(height=90, url=&#39;https://i.ytimg.com/vi/lddHsCBdQu8/default.jpg&#39;, width=120), high=Row(height=360, url=&#39;https://i.ytimg.com/vi/lddHsCBdQu8/hqdefault.jpg&#39;, width=480), maxres=None, medium=Row(height=180, url=&#39;https://i.ytimg.com/vi/lddHsCBdQu8/mqdefault.jpg&#39;, width=320), standard=Row(height=480, url=&#39;https://i.ytimg.com/vi/lddHsCBdQu8/sddefault.jpg&#39;, width=640)), title=&#39;MØ - Waste Of Time (Official Audio)&#39;), statistics=Row(commentCount=&#39;260&#39;, dislikeCount=&#39;96&#39;, favoriteCount=&#39;0&#39;, likeCount=&#39;6594&#39;, viewCount=&#39;750787&#39;), status=Row(embeddable=True, license=&#39;youtube&#39;, madeForKids=False, privacyStatus=&#39;public&#39;, publicStatsViewable=True, uploadStatus=&#39;processed&#39;), topicDetails=Row(relevantTopicIds=[&#39;/m/04rlf&#39;, &#39;/m/064t9&#39;, &#39;/m/04rlf&#39;, &#39;/m/064t9&#39;], topicCategories=[&#39;https://en.wikipedia.org/wiki/Pop_music&#39;, &#39;https://en.wikipedia.org/wiki/Music&#39;])),\n Row(contentDetails=Row(caption=&#39;false&#39;, contentRating=Row(ytRating=None), definition=&#39;hd&#39;, dimension=&#39;2d&#39;, duration=&#39;PT3M58S&#39;, licensedContent=True, projection=&#39;rectangular&#39;, regionRestriction=Row(allowed=None, blocked=[&#39;DK&#39;])), etag=&#39;vcGdlF2KBcqDNB0IQn3cSa6-wVE&#39;, id=&#39;mhsf7K6h7SY&#39;, kind=&#39;youtube#video&#39;, snippet=Row(categoryId=&#39;24&#39;, channelId=&#39;UCJ6td3C9QlPO9O_J5dF4ZzA&#39;, channelTitle=&#39;Monstercat: Uncaged&#39;, defaultAudioLanguage=None, defaultLanguage=None, description=&#34;Nerds by Nature 2016 Spring Tour on Sale NOW at http://www.PegboardNerds.com\\n---\\n▼ This song is featured on Monstercat 016 - Expedition. \\nGet all 30 tracks plus 2 album mixes by downloading it here:\\n\\nSupport on iTunes: http://monster.cat/1fsmpQy\\nSupport on Bandcamp: http://monster.cat/1hpp7oo\\nSupport on Amazon: http://monster.cat/1dAiMCc\\nSupport on Google Play: http://monster.cat/1dAm7RR\\nListen on Spotify: http://monster.cat/1hzwp7R\\n----\\nArrival Album Mix: http://monster.cat/1hqcv0b\\n\\nTo support the single only:\\n\\nPlease consider supporting on Beatport: http://monster.cat/BasslineKickin\\nListen on SoundCloud: \\nhttp://monster.cat/1hrfghr\\n\\nWe&#39;re looking to make an impact with this release and show that it is possible to have something different top the charts. Your Beatport purchase will help make the difference.\\n\\n▼ Follow Monstercat\\nSnapchat: Monstercat\\nYouTube: http://www.youtube.com/Monstercat\\nSpotify: http://monster.cat/1hGrCWk\\nFacebook: http://facebook.com/Monstercat\\nTwitter: http://twitter.com/Monstercat\\nInstagram: http://instagram.com/monstercat\\nSoundCloud: http://soundcloud.com/Monstercat\\nGoogle+: https://plus.google.com/+Monstercat\\n\\n▼ Follow Pegboard Nerds\\nFacebook: http://facebook.com/PegboardNerds\\nTwitter: http://twitter.com/PegboardNerds\\nSoundCloud: http://soundcloud.com/pegboardnerds\\nYouTube: http://youtube.com/PegboardNerds\\n\\n▼ Want some new Merchandise?\\nhttp://monster.cat/MonstercatShop\\n\\nMonstercat 017 - Ascension is now available! Support your favourite rising Monstercat artists with a purchase here: http://www.monstercat.com/ascension/ /\\n-----------------------------------\\nWant to use this song in your own videos? Please go to: http://monster.cat/YouTube_License&#34;, liveBroadcastContent=&#39;none&#39;, localized=Row(description=&#34;Nerds by Nature 2016 Spring Tour on Sale NOW at http://www.PegboardNerds.com\\n---\\n▼ This song is featured on Monstercat 016 - Expedition. \\nGet all 30 tracks plus 2 album mixes by downloading it here:\\n\\nSupport on iTunes: http://monster.cat/1fsmpQy\\nSupport on Bandcamp: http://monster.cat/1hpp7oo\\nSupport on Amazon: http://monster.cat/1dAiMCc\\nSupport on Google Play: http://monster.cat/1dAm7RR\\nListen on Spotify: http://monster.cat/1hzwp7R\\n----\\nArrival Album Mix: http://monster.cat/1hqcv0b\\n\\nTo support the single only:\\n\\nPlease consider supporting on Beatport: http://monster.cat/BasslineKickin\\nListen on SoundCloud: \\nhttp://monster.cat/1hrfghr\\n\\nWe&#39;re looking to make an impact with this release and show that it is possible to have something different top the charts. Your Beatport purchase will help make the difference.\\n\\n▼ Follow Monstercat\\nSnapchat: Monstercat\\nYouTube: http://www.youtube.com/Monstercat\\nSpotify: http://monster.cat/1hGrCWk\\nFacebook: http://facebook.com/Monstercat\\nTwitter: http://twitter.com/Monstercat\\nInstagram: http://instagram.com/monstercat\\nSoundCloud: http://soundcloud.com/Monstercat\\nGoogle+: https://plus.google.com/+Monstercat\\n\\n▼ Follow Pegboard Nerds\\nFacebook: http://facebook.com/PegboardNerds\\nTwitter: http://twitter.com/PegboardNerds\\nSoundCloud: http://soundcloud.com/pegboardnerds\\nYouTube: http://youtube.com/PegboardNerds\\n\\n▼ Want some new Merchandise?\\nhttp://monster.cat/MonstercatShop\\n\\nMonstercat 017 - Ascension is now available! Support your favourite rising Monstercat artists with a purchase here: http://www.monstercat.com/ascension/ /\\n-----------------------------------\\nWant to use this song in your own videos? Please go to: http://monster.cat/YouTube_License&#34;, title=&#39;[Electronic] - Pegboard Nerds - Bassline Kickin [Monstercat Release]&#39;), publishedAt=&#39;2014-01-15T18:33:15Z&#39;, tags=[&#39;Pegboard&#39;, &#39;Nerds&#39;, &#39;Bassline&#39;, &#39;Kickin&#39;, &#39;Electronic&#39;, &#39;Dance&#39;, &#39;Monstercat&#39;, &#39;EDM&#39;, &#39;Grey&#39;, &#39;Best Electronic&#39;, &#39;New Electronic&#39;, &#39;Top Electronic&#39;, &#39;Electronic 2013&#39;, &#39;Best EDM&#39;, &#39;New EDM&#39;, &#39;Top EDM&#39;, &#39;EDM 2013&#39;, &#39;Peg Board&#39;, &#39;Nerdz&#39;], thumbnails=Row(default=Row(height=90, url=&#39;https://i.ytimg.com/vi/mhsf7K6h7SY/default.jpg&#39;, width=120), high=Row(height=360, url=&#39;https://i.ytimg.com/vi/mhsf7K6h7SY/hqdefault.jpg&#39;, width=480), maxres=None, medium=Row(height=180, url=&#39;https://i.ytimg.com/vi/mhsf7K6h7SY/mqdefault.jpg&#39;, width=320), standard=Row(height=480, url=&#39;https://i.ytimg.com/vi/mhsf7K6h7SY/sddefault.jpg&#39;, width=640)), title=&#39;[Electronic] - Pegboard Nerds - Bassline Kickin [Monstercat Release]&#39;), statistics=Row(commentCount=&#39;2512&#39;, dislikeCount=&#39;780&#39;, favoriteCount=&#39;0&#39;, likeCount=&#39;22639&#39;, viewCount=&#39;1719694&#39;), status=Row(embeddable=True, license=&#39;youtube&#39;, madeForKids=False, privacyStatus=&#39;public&#39;, publicStatsViewable=True, uploadStatus=&#39;processed&#39;), topicDetails=Row(relevantTopicIds=[&#39;/m/04rlf&#39;, &#39;/m/02lkt&#39;, &#39;/m/04rlf&#39;, &#39;/m/02lkt&#39;], topicCategories=[&#39;https://en.wikipedia.org/wiki/Electronic_music&#39;, &#39;https://en.wikipedia.org/wiki/Music&#39;])),\n\n*** WARNING: skipped 61187 bytes of output ***\n\n Row(contentDetails=Row(caption=&#39;false&#39;, contentRating=Row(ytRating=None), definition=&#39;hd&#39;, dimension=&#39;2d&#39;, duration=&#39;PT1M4S&#39;, licensedContent=True, projection=&#39;rectangular&#39;, regionRestriction=None), etag=&#39;kd9da5SWqAAj8vh94KoVkPycMTU&#39;, id=&#39;wyHHKYlavMg&#39;, kind=&#39;youtube#video&#39;, snippet=Row(categoryId=&#39;20&#39;, channelId=&#39;UCwNqnXBqaP4yB5S3nnniGrQ&#39;, channelTitle=&#39;MrMAW2&#39;, defaultAudioLanguage=None, defaultLanguage=None, description=&#39;League of Legends Infernal Nasus Login screen+music&#39;, liveBroadcastContent=&#39;none&#39;, localized=Row(description=&#39;League of Legends Infernal Nasus Login screen+music&#39;, title=&#39;League of Legends Infernal Nasus Login screen+music&#39;), publishedAt=&#39;2013-11-22T01:35:10Z&#39;, tags=[&#39;league of legends&#39;, &#39;lol&#39;, &#39;nasus&#39;, &#39;dog&#39;, &#39;k9&#39;, &#39;infernal nasus&#39;, &#39;login screen&#39;, &#39;music&#39;, &#39;renekton&#39;, &#39;croc&#39;, &#39;brand&#39;], thumbnails=Row(default=Row(height=90, url=&#39;https://i.ytimg.com/vi/wyHHKYlavMg/default.jpg&#39;, width=120), high=Row(height=360, url=&#39;https://i.ytimg.com/vi/wyHHKYlavMg/hqdefault.jpg&#39;, width=480), maxres=Row(height=720, url=&#39;https://i.ytimg.com/vi/wyHHKYlavMg/maxresdefault.jpg&#39;, width=1280), medium=Row(height=180, url=&#39;https://i.ytimg.com/vi/wyHHKYlavMg/mqdefault.jpg&#39;, width=320), standard=Row(height=480, url=&#39;https://i.ytimg.com/vi/wyHHKYlavMg/sddefault.jpg&#39;, width=640)), title=&#39;League of Legends Infernal Nasus Login screen+music&#39;), statistics=Row(commentCount=&#39;6&#39;, dislikeCount=&#39;1&#39;, favoriteCount=&#39;0&#39;, likeCount=&#39;70&#39;, viewCount=&#39;32904&#39;), status=Row(embeddable=True, license=&#39;youtube&#39;, madeForKids=False, privacyStatus=&#39;public&#39;, publicStatsViewable=True, uploadStatus=&#39;processed&#39;), topicDetails=Row(relevantTopicIds=[&#39;/m/0bzvm2&#39;, &#39;/m/0403l3g&#39;, &#39;/m/025zzc&#39;, &#39;/m/0bzvm2&#39;], topicCategories=[&#39;https://en.wikipedia.org/wiki/Role-playing_video_game&#39;, &#39;https://en.wikipedia.org/wiki/Video_game_culture&#39;, &#39;https://en.wikipedia.org/wiki/Action_game&#39;])),\n Row(contentDetails=Row(caption=&#39;false&#39;, contentRating=Row(ytRating=None), definition=&#39;sd&#39;, dimension=&#39;2d&#39;, duration=&#39;PT4M3S&#39;, licensedContent=False, projection=&#39;rectangular&#39;, regionRestriction=None), etag=&#39;n4NjLjIgFYi18DLZa_ybQScXnuU&#39;, id=&#39;tH9-9IC7qyY&#39;, kind=&#39;youtube#video&#39;, snippet=Row(categoryId=&#39;10&#39;, channelId=&#39;UCwUM-YByj2OpYn1LiiBOCDA&#39;, channelTitle=&#39;Robyn Murphy&#39;, defaultAudioLanguage=None, defaultLanguage=None, description=&#34;Lyrics:\\r\\nsalty leave, salty leave \\r\\n\\r\\ntell me the one about the friend you knew, \\r\\nand the last good night that we toasted too. \\r\\n\\r\\nsalty leave, \\r\\nstay for me, stay for me \\r\\n\\r\\nwe drank wine in the matinee \\r\\nand the spotlight showed what i chased away \\r\\n\\r\\nstay for me \\r\\n\\r\\nshe saw my comb over, her hourglass body \\r\\nshe had problems with drinking milk \\r\\nand being school tardy \\r\\nshe&#39;ll loan you her toothbrush \\r\\nshe&#39;ll bartend you party \\r\\n\\r\\nkill me, kill me \\r\\n\\r\\ni called i called, but i cant get through \\r\\nsaid he&#39;s on his own, but his own is you \\r\\n\\r\\nkill me \\r\\n\\r\\nshe saw my comb over, her hourglass body \\r\\nshe had problems with drinking milk \\r\\nand being school tardy \\r\\nshe&#39;ll loan you her toothbrush \\r\\nshe&#39;ll bartend you party \\r\\n\\r\\nshe saw my comb over, her hourglass body \\r\\nshe had problems with drinking milk \\r\\nand being school tardy \\r\\nshe&#39;ll loan you her toothbrush \\r\\nshe&#39;ll bartend you party&#34;, liveBroadcastContent=&#39;none&#39;, localized=Row(description=&#34;Lyrics:\\r\\nsalty leave, salty leave \\r\\n\\r\\ntell me the one about the friend you knew, \\r\\nand the last good night that we toasted too. \\r\\n\\r\\nsalty leave, \\r\\nstay for me, stay for me \\r\\n\\r\\nwe drank wine in the matinee \\r\\nand the spotlight showed what i chased away \\r\\n\\r\\nstay for me \\r\\n\\r\\nshe saw my comb over, her hourglass body \\r\\nshe had problems with drinking milk \\r\\nand being school tardy \\r\\nshe&#39;ll loan you her toothbrush \\r\\nshe&#39;ll bartend you party \\r\\n\\r\\nkill me, kill me \\r\\n\\r\\ni called i called, but i cant get through \\r\\nsaid he&#39;s on his own, but his own is you \\r\\n\\r\\nkill me \\r\\n\\r\\nshe saw my comb over, her hourglass body \\r\\nshe had problems with drinking milk \\r\\nand being school tardy \\r\\nshe&#39;ll loan you her toothbrush \\r\\nshe&#39;ll bartend you party \\r\\n\\r\\nshe saw my comb over, her hourglass body \\r\\nshe had problems with drinking milk \\r\\nand being school tardy \\r\\nshe&#39;ll loan you her toothbrush \\r\\nshe&#39;ll bartend you party&#34;, title=&#39;kings of Leon - Milk&#39;), publishedAt=&#39;2009-06-09T14:08:00Z&#39;, tags=[&#39;Kings&#39;, &#39;of&#39;, &#39;Leon&#39;, &#39;Milk&#39;, &#39;Lyrics&#39;], thumbnails=Row(default=Row(height=90, url=&#39;https://i.ytimg.com/vi/tH9-9IC7qyY/default.jpg&#39;, width=120), high=Row(height=360, url=&#39;https://i.ytimg.com/vi/tH9-9IC7qyY/hqdefault.jpg&#39;, width=480), maxres=None, medium=Row(height=180, url=&#39;https://i.ytimg.com/vi/tH9-9IC7qyY/mqdefault.jpg&#39;, width=320), standard=None), title=&#39;kings of Leon - Milk&#39;), statistics=Row(commentCount=&#39;452&#39;, dislikeCount=&#39;391&#39;, favoriteCount=&#39;0&#39;, likeCount=&#39;9294&#39;, viewCount=&#39;2327140&#39;), status=Row(embeddable=True, license=&#39;youtube&#39;, madeForKids=False, privacyStatus=&#39;public&#39;, publicStatsViewable=True, uploadStatus=&#39;processed&#39;), topicDetails=Row(relevantTopicIds=[&#39;/m/04rlf&#39;, &#39;/m/06by7&#39;, &#39;/m/04rlf&#39;, &#39;/m/06by7&#39;], topicCategories=[&#39;https://en.wikipedia.org/wiki/Rock_music&#39;, &#39;https://en.wikipedia.org/wiki/Music&#39;])),\n Row(contentDetails=Row(caption=&#39;false&#39;, contentRating=Row(ytRating=None), definition=&#39;hd&#39;, dimension=&#39;2d&#39;, duration=&#39;PT3M37S&#39;, licensedContent=True, projection=&#39;rectangular&#39;, regionRestriction=None), etag=&#39;5i2zzosboFyc88CLLURJKXahCDA&#39;, id=&#39;1JWOKGK9pis&#39;, kind=&#39;youtube#video&#39;, snippet=Row(categoryId=&#39;10&#39;, channelId=&#39;UCn54q6AcCAozt1SrakiZ77g&#39;, channelTitle=&#39;bretonLABS&#39;, defaultAudioLanguage=None, defaultLanguage=None, description=&#39;Check out the new project - MIRO SHOT  \\nhttps://www.youtube.com/watch?v=3SpwSiXIlVk\\n\\nWar Room Stories || The new album || Out now\\n\\nPurchase on:\\nDigital: http://smarturl.it/WarRoomStories\\nPhysical: http://www.bretonlabs.com/store.html\\n\\nLONDON - Tickets on sale now for both shows !\\nDec 2nd - Heaven - London : http://po.st/BretonHeaven\\n\\nGo to http://www.bretonlabs.com/ for news\\n\\nhttps://www.facebook.com/bretonlabs\\nhttps://twitter.com/bretonLABS\\n\\nNov 08 – UTRECHT / Ekko\\nNov 09 – EINDHOVEN / Effenaar\\nNov 10 – HAARLEM / Patronaat\\nNov 12 – BERLIN / Kantine Am Berghain\\nNov 13 – POZNAN / Minoga\\nNov 14 – WARSAW / Hydrozagadka\\nNov 15 – KATOWICE / Jazz Club Hipnoza\\nNov 17 – VIENNA / Chelsea\\nNov 19 – GENEVA / L’Usine\\nNov 21 – RENNES / Le Liberté\\nNov 22 – REIMS / La Cartonnerie\\nNov 23 – NANCY / L’autre Canal\\nNov 24 – BESANCON / La Rodia\\nNov 25 – PARIS / Casino de Paris\\nNov 27 – LYON / Marché Gare\\nNov 28 – NIMES / Paloma\\nNov 29 – LA ROCHELLE / La Sirene\\nNov 30 – LIMOGES / Centre Culturel John Lennon\\nDec 02 – LONDON / Heaven\\n\\nGet your tickets: http://bretonlabs.com/&#39;, liveBroadcastContent=&#39;none&#39;, localized=Row(description=&#39;Check out the new project - MIRO SHOT  \\nhttps://www.youtube.com/watch?v=3SpwSiXIlVk\\n\\nWar Room Stories || The new album || Out now\\n\\nPurchase on:\\nDigital: http://smarturl.it/WarRoomStories\\nPhysical: http://www.bretonlabs.com/store.html\\n\\nLONDON - Tickets on sale now for both shows !\\nDec 2nd - Heaven - London : http://po.st/BretonHeaven\\n\\nGo to http://www.bretonlabs.com/ for news\\n\\nhttps://www.facebook.com/bretonlabs\\nhttps://twitter.com/bretonLABS\\n\\nNov 08 – UTRECHT / Ekko\\nNov 09 – EINDHOVEN / Effenaar\\nNov 10 – HAARLEM / Patronaat\\nNov 12 – BERLIN / Kantine Am Berghain\\nNov 13 – POZNAN / Minoga\\nNov 14 – WARSAW / Hydrozagadka\\nNov 15 – KATOWICE / Jazz Club Hipnoza\\nNov 17 – VIENNA / Chelsea\\nNov 19 – GENEVA / L’Usine\\nNov 21 – RENNES / Le Liberté\\nNov 22 – REIMS / La Cartonnerie\\nNov 23 – NANCY / L’autre Canal\\nNov 24 – BESANCON / La Rodia\\nNov 25 – PARIS / Casino de Paris\\nNov 27 – LYON / Marché Gare\\nNov 28 – NIMES / Paloma\\nNov 29 – LA ROCHELLE / La Sirene\\nNov 30 – LIMOGES / Centre Culturel John Lennon\\nDec 02 – LONDON / Heaven\\n\\nGet your tickets: http://bretonlabs.com/&#39;, title=&#39;Breton - Envy&#39;), publishedAt=&#39;2013-12-12T19:34:35Z&#39;, tags=[&#39;Breton&#39;, &#39;Envy&#39;, &#39;breton&#39;, &#39;bretonlabs&#39;, &#39;war room stories&#39;, &#39;other peoples problems&#39;, &#39;got well soon&#39;, &#39;envy&#39;], thumbnails=Row(default=Row(height=90, url=&#39;https://i.ytimg.com/vi/1JWOKGK9pis/default.jpg&#39;, width=120), high=Row(height=360, url=&#39;https://i.ytimg.com/vi/1JWOKGK9pis/hqdefault.jpg&#39;, width=480), maxres=Row(height=720, url=&#39;https://i.ytimg.com/vi/1JWOKGK9pis/maxresdefault.jpg&#39;, width=1280), medium=Row(height=180, url=&#39;https://i.ytimg.com/vi/1JWOKGK9pis/mqdefault.jpg&#39;, width=320), standard=Row(height=480, url=&#39;https://i.ytimg.com/vi/1JWOKGK9pis/sddefault.jpg&#39;, width=640)), title=&#39;Breton - Envy&#39;), statistics=Row(commentCount=&#39;231&#39;, dislikeCount=&#39;117&#39;, favoriteCount=&#39;0&#39;, likeCount=&#39;6088&#39;, viewCount=&#39;895958&#39;), status=Row(embeddable=True, license=&#39;youtube&#39;, madeForKids=False, privacyStatus=&#39;public&#39;, publicStatsViewable=False, uploadStatus=&#39;processed&#39;), topicDetails=Row(relevantTopicIds=[&#39;/m/04rlf&#39;, &#39;/m/05rwpb&#39;, &#39;/m/04rlf&#39;, &#39;/m/05rwpb&#39;], topicCategories=[&#39;https://en.wikipedia.org/wiki/Independent_music&#39;, &#39;https://en.wikipedia.org/wiki/Music&#39;])),\n Row(contentDetails=Row(caption=&#39;false&#39;, contentRating=Row(ytRating=None), definition=&#39;hd&#39;, dimension=&#39;2d&#39;, duration=&#39;PT5M17S&#39;, licensedContent=False, projection=&#39;rectangular&#39;, regionRestriction=None), etag=&#39;ZPdGu-EquPwTE9K2Q0eTjwlZeH8&#39;, id=&#39;BERilmKPRAQ&#39;, kind=&#39;youtube#video&#39;, snippet=Row(categoryId=&#39;10&#39;, channelId=&#39;UCngnwyUpm1TJwPs1KgA8hMA&#39;, channelTitle=&#39;Eliana Teixeira&#39;, defaultAudioLanguage=None, defaultLanguage=None, description=&#39;http://soundcloud.com/blackmail-1&#39;, liveBroadcastContent=&#39;none&#39;, localized=Row(description=&#39;http://soundcloud.com/blackmail-1&#39;, title=&#39;Blackmail - A Miracle America | HQ&#39;), publishedAt=&#39;2012-06-07T15:58:26Z&#39;, tags=[&#39;france&#39;, &#39;america&#39;, &#39;miracle&#39;, &#34;she&#39;s crafty&#34;, &#39;blackmail&#39;, &#39;a miracle america&#39;, &#39;electronic&#39;, &#39;dark&#39;, &#39;hipster&#39;, &#39;SYNTH&#39;, &#39;ROCK&#39;], thumbnails=Row(default=Row(height=90, url=&#39;https://i.ytimg.com/vi/BERilmKPRAQ/default.jpg&#39;, width=120), high=Row(height=360, url=&#39;https://i.ytimg.com/vi/BERilmKPRAQ/hqdefault.jpg&#39;, width=480), maxres=Row(height=720, url=&#39;https://i.ytimg.com/vi/BERilmKPRAQ/maxresdefault.jpg&#39;, width=1280), medium=Row(height=180, url=&#39;https://i.ytimg.com/vi/BERilmKPRAQ/mqdefault.jpg&#39;, width=320), standard=Row(height=480, url=&#39;https://i.ytimg.com/vi/BERilmKPRAQ/sddefault.jpg&#39;, width=640)), title=&#39;Blackmail - A Miracle America | HQ&#39;), statistics=Row(commentCount=&#39;1&#39;, dislikeCount=&#39;1&#39;, favoriteCount=&#39;0&#39;, likeCount=&#39;32&#39;, viewCount=&#39;4845&#39;), status=Row(embeddable=True, license=&#39;youtube&#39;, madeForKids=False, privacyStatus=&#39;public&#39;, publicStatsViewable=True, uploadStatus=&#39;processed&#39;), topicDetails=Row(relevantTopicIds=[&#39;/m/04rlf&#39;, &#39;/m/06by7&#39;, &#39;/m/02lkt&#39;, &#39;/m/04rlf&#39;, &#39;/m/06by7&#39;, &#39;/m/02lkt&#39;], topicCategories=[&#39;https://en.wikipedia.org/wiki/Rock_music&#39;, &#39;https://en.wikipedia.org/wiki/Electronic_music&#39;, &#39;https://en.wikipedia.org/wiki/Music&#39;])),\n Row(contentDetails=Row(caption=&#39;false&#39;, contentRating=Row(ytRating=None), definition=&#39;hd&#39;, dimension=&#39;2d&#39;, duration=&#39;PT5M14S&#39;, licensedContent=True, projection=&#39;rectangular&#39;, regionRestriction=None), etag=&#39;EMp1OhtNsVWpvBz1ATPDQrIy9UU&#39;, id=&#39;CjwwmFrsX_E&#39;, kind=&#39;youtube#video&#39;, snippet=Row(categoryId=&#39;10&#39;, channelId=&#39;UCd2KNtfphz8HvYzM4pwtHmg&#39;, channelTitle=&#39;triple j&#39;, defaultAudioLanguage=None, defaultLanguage=None, description=&#34;Scottish electrio CHVRCHES cover Arctic Monkeys &#39;Do I Wanna Know?&#39; for triple j&#39;s Like A Version. \\nSubscribe | http://bit.ly/2FYj5jC\\nLike A Version on Spotify | https://spoti.fi/2UpMDcU \\nLike A Version on Apple Music | https://apple.co/2NMJ7Y4\\nFacebook | http://bit.ly/iJ0OH9 \\nInstagram | http://bit.ly/2CWGnCA  \\nTwitter | http://bit.ly/2BdFOUI\\n\\nLike A Version is a segment on Australian radio station triple j. Every week a musician or band comes into the studio to play one of their own songs and cover a song they love. \\n\\nSince 2004, many artists have participated, including Childish Gambino, Lorde, CHVRCHES, Tame Impala, Tash Sultana, HAIM, Gang of Youths, Halsey, DMA&#39;S, Aurora, Arctic Monkeys. You can watch past sessions here: http://bit.ly/like_a_version\\n\\nYou can watch Like A Versions ad-free at http://www.triplej.net.au\\n\\n#LikeAVersion&#34;, liveBroadcastContent=&#39;none&#39;, localized=Row(description=&#34;Scottish electrio CHVRCHES cover Arctic Monkeys &#39;Do I Wanna Know?&#39; for triple j&#39;s Like A Version. \\nSubscribe | http://bit.ly/2FYj5jC\\nLike A Version on Spotify | https://spoti.fi/2UpMDcU \\nLike A Version on Apple Music | https://apple.co/2NMJ7Y4\\nFacebook | http://bit.ly/iJ0OH9 \\nInstagram | http://bit.ly/2CWGnCA  \\nTwitter | http://bit.ly/2BdFOUI\\n\\nLike A Version is a segment on Australian radio station triple j. Every week a musician or band comes into the studio to play one of their own songs and cover a song they love. \\n\\nSince 2004, many artists have participated, including Childish Gambino, Lorde, CHVRCHES, Tame Impala, Tash Sultana, HAIM, Gang of Youths, Halsey, DMA&#39;S, Aurora, Arctic Monkeys. You can watch past sessions here: http://bit.ly/like_a_version\\n\\nYou can watch Like A Versions ad-free at http://www.triplej.net.au\\n\\n#LikeAVersion&#34;, title=&#34;CHVRCHES cover Arctic Monkeys &#39;Do I Wanna Know?&#39; for Like A Version&#34;), publishedAt=&#39;2014-02-13T21:19:39Z&#39;, tags=[&#39;Chvrches&#39;, &#39;Arctic Monkeys&#39;, &#39;Like A Version&#39;, &#39;triple j&#39;, &#39;Do I Wanna Know?&#39;, &#39;Lauren Mayberry&#39;, &#39;Laneway Festival&#39;, &#39;like a version&#39;, &#39;cover&#39;, &#39;live&#39;, &#39;triplej&#39;, &#39;jjj&#39;, &#39;matt and alex&#39;, &#39;matt &amp; alex&#39;, &#39;matt okine&#39;, &#39;alex dyson&#39;, &#39;breakfast show&#39;, &#39;breakfast radio&#39;, &#39;radio&#39;, &#39;breakfast&#39;, &#39;music&#39;, &#39;Australian Music&#39;, &#39;Australian&#39;, &#39;Australia&#39;, &#39;studio&#39;, &#39;abc&#39;], thumbnails=Row(default=Row(height=90, url=&#39;https://i.ytimg.com/vi/CjwwmFrsX_E/default.jpg&#39;, width=120), high=Row(height=360, url=&#39;https://i.ytimg.com/vi/CjwwmFrsX_E/hqdefault.jpg&#39;, width=480), maxres=Row(height=720, url=&#39;https://i.ytimg.com/vi/CjwwmFrsX_E/maxresdefault.jpg&#39;, width=1280), medium=Row(height=180, url=&#39;https://i.ytimg.com/vi/CjwwmFrsX_E/mqdefault.jpg&#39;, width=320), standard=Row(height=480, url=&#39;https://i.ytimg.com/vi/CjwwmFrsX_E/sddefault.jpg&#39;, width=640)), title=&#34;CHVRCHES cover Arctic Monkeys &#39;Do I Wanna Know?&#39; for Like A Version&#34;), statistics=Row(commentCount=&#39;4479&#39;, dislikeCount=&#39;6560&#39;, favoriteCount=&#39;0&#39;, likeCount=&#39;104433&#39;, viewCount=&#39;12463530&#39;), status=Row(embeddable=True, license=&#39;youtube&#39;, madeForKids=False, privacyStatus=&#39;public&#39;, publicStatsViewable=True, uploadStatus=&#39;processed&#39;), topicDetails=Row(relevantTopicIds=[&#39;/m/04rlf&#39;, &#39;/m/04rlf&#39;], topicCategories=[&#39;https://en.wikipedia.org/wiki/Music&#39;])),\n Row(contentDetails=Row(caption=&#39;false&#39;, contentRating=Row(ytRating=None), definition=&#39;hd&#39;, dimension=&#39;2d&#39;, duration=&#39;PT2M55S&#39;, licensedContent=True, projection=&#39;rectangular&#39;, regionRestriction=Row(allowed=None, blocked=[&#39;SY&#39;, &#39;SX&#39;, &#39;SZ&#39;, &#39;SS&#39;, &#39;SR&#39;, &#39;IL&#39;, &#39;ST&#39;, &#39;SV&#39;, &#39;SI&#39;, &#39;SH&#39;, &#39;SK&#39;, &#39;SJ&#39;, &#39;SM&#39;, &#39;SL&#39;, &#39;SO&#39;, &#39;SN&#39;, &#39;SA&#39;, &#39;SC&#39;, &#39;SB&#39;, &#39;SE&#39;, &#39;SD&#39;, &#39;SG&#39;, &#39;CI&#39;, &#39;KP&#39;, &#39;CK&#39;, &#39;KR&#39;, &#39;CM&#39;, &#39;CL&#39;, &#39;CO&#39;, &#39;CN&#39;, &#39;CA&#39;, &#39;PL&#39;, &#39;CC&#39;, &#39;VA&#39;, &#39;CD&#39;, &#39;CG&#39;, &#39;CF&#39;, &#39;CY&#39;, &#39;CX&#39;, &#39;PS&#39;, &#39;CZ&#39;, &#39;KE&#39;, &#39;KG&#39;, &#39;KI&#39;, &#39;KH&#39;, &#39;CR&#39;, &#39;KM&#39;, &#39;TC&#39;, &#39;CW&#39;, &#39;CV&#39;, &#39;PR&#39;, &#39;HK&#39;, &#39;PT&#39;, &#39;HM&#39;, &#39;HN&#39;, &#39;PW&#39;, &#39;PY&#39;, &#39;PA&#39;, &#39;PE&#39;, &#39;PF&#39;, &#39;PG&#39;, &#39;PH&#39;, &#39;HR&#39;, &#39;PK&#39;, &#39;HT&#39;, &#39;HU&#39;, &#39;PN&#39;, &#39;TW&#39;, &#39;ZM&#39;, &#39;UM&#39;, &#39;IO&#39;, &#39;IN&#39;, &#39;IM&#39;, &#39;KY&#39;, &#39;ZW&#39;, &#39;IE&#39;, &#39;ID&#39;, &#39;QA&#39;, &#39;NI&#39;, &#39;IS&#39;, &#39;IR&#39;, &#39;IQ&#39;, &#39;VG&#39;, &#39;IT&#39;, &#39;TL&#39;, &#39;TM&#39;, &#39;TN&#39;, &#39;TO&#39;, &#39;AG&#39;, &#39;AF&#39;, &#39;TJ&#39;, &#39;AD&#39;, &#39;TD&#39;, &#39;AI&#39;, &#39;TG&#39;, &#39;AO&#39;, &#39;AM&#39;, &#39;AL&#39;, &#39;AS&#39;, &#39;AR&#39;, &#39;AQ&#39;, &#39;AW&#39;, &#39;AU&#39;, &#39;AT&#39;, &#39;TT&#39;, &#39;AZ&#39;, &#39;TV&#39;, &#39;AX&#39;, &#39;TR&#39;, &#39;NC&#39;, &#39;NA&#39;, &#39;NF&#39;, &#39;NG&#39;, &#39;NE&#39;, &#39;BS&#39;, &#39;NO&#39;, &#39;NL&#39;, &#39;NR&#39;, &#39;NP&#39;, &#39;VI&#39;, &#39;NU&#39;, &#39;NZ&#39;, &#39;VN&#39;, &#39;KW&#39;, &#39;FR&#39;, &#39;GB&#39;, &#39;YT&#39;, &#39;FJ&#39;, &#39;FK&#39;, &#39;FI&#39;, &#39;FO&#39;, &#39;FM&#39;, &#39;YE&#39;, &#39;OM&#39;, &#39;KZ&#39;, &#39;WS&#39;, &#39;TZ&#39;, &#39;WF&#39;, &#39;UG&#39;, &#39;VE&#39;, &#39;GE&#39;, &#39;GD&#39;, &#39;GG&#39;, &#39;GF&#39;, &#39;GA&#39;, &#39;CH&#39;, &#39;ZA&#39;, &#39;GM&#39;, &#39;GL&#39;, &#39;TK&#39;, &#39;GN&#39;, &#39;GI&#39;, &#39;GH&#39;, &#39;GU&#39;, &#39;GT&#39;, &#39;GW&#39;, &#39;VC&#39;, &#39;GQ&#39;, &#39;GP&#39;, &#39;GS&#39;, &#39;GR&#39;, &#39;GY&#39;, &#39;PM&#39;, &#39;LA&#39;, &#39;LB&#39;, &#39;LC&#39;, &#39;LI&#39;, &#39;LK&#39;, &#39;LT&#39;, &#39;LU&#39;, &#39;LV&#39;, &#39;LR&#39;, &#39;LS&#39;, &#39;LY&#39;, &#39;JP&#39;, &#39;DZ&#39;, &#39;VU&#39;, &#39;CU&#39;, &#39;DM&#39;, &#39;DO&#39;, &#39;DJ&#39;, &#39;DK&#39;, &#39;DE&#39;, &#39;KN&#39;, &#39;MG&#39;, &#39;MF&#39;, &#39;ME&#39;, &#39;MD&#39;, &#39;MC&#39;, &#39;MA&#39;, &#39;MO&#39;, &#39;MN&#39;, &#39;MM&#39;, &#39;ML&#39;, &#39;MK&#39;, &#39;US&#39;, &#39;MH&#39;, &#39;MW&#39;, &#39;MV&#39;, &#39;MU&#39;, &#39;MT&#39;, &#39;MS&#39;, &#39;MR&#39;, &#39;MQ&#39;, &#39;MP&#39;, &#39;MZ&#39;, &#39;MY&#39;, &#39;MX&#39;, &#39;ET&#39;, &#39;ES&#39;, &#39;ER&#39;, &#39;EH&#39;, &#39;EG&#39;, &#39;EE&#39;, &#39;EC&#39;, &#39;RW&#39;, &#39;RU&#39;, &#39;RS&#39;, &#39;RO&#39;, &#39;JO&#39;, &#39;TH&#39;, &#39;RE&#39;, &#39;BN&#39;, &#39;BO&#39;, &#39;BL&#39;, &#39;BM&#39;, &#39;BJ&#39;, &#39;AE&#39;, &#39;BH&#39;, &#39;BI&#39;, &#39;BF&#39;, &#39;BG&#39;, &#39;BD&#39;, &#39;BE&#39;, &#39;BB&#39;, &#39;UA&#39;, &#39;BA&#39;, &#39;JE&#39;, &#39;BZ&#39;, &#39;UZ&#39;, &#39;UY&#39;, &#39;BY&#39;, &#39;BV&#39;, &#39;BW&#39;, &#39;BT&#39;, &#39;JM&#39;, &#39;BR&#39;, &#39;TF&#39;, &#39;BQ&#39;])), etag=&#39;OLNSehPQqce0jARfHY5C9ejhZP0&#39;, id=&#39;kPvLT-Wa5Rs&#39;, kind=&#39;youtube#video&#39;, snippet=Row(categoryId=&#39;10&#39;, channelId=&#39;UCJisrqMX102yOunQkQXVR4w&#39;, channelTitle=&#39;LiamBaileyVEVO&#39;, defaultAudioLanguage=None, defaultLanguage=None, description=&#34;Liam Bailey - Please Love Me \\n \\nLiam Bailey&#39;s new single &#39;Please Love Me&#39; is out now on Truth and Soul Records. \\n \\nDownload on iTunes: http://t.co/ogiXWtIJ \\nOrder the single on vinyl: http://truthandsoulrecords.com/artists/liam-bailey-2/\\n \\n&#39;Like&#39; Liam Bailey on Facebook: https://www.facebook.com/liambaileymusic\\nFollow Liam Bailey on Twitter: http://twitter.com/liambailey\\nSubscribe to Liam Bailey&#39;s channel here: http://www.youtube.com/subscription_center?gl=CA&amp;add_user=liambaileymusic&#34;, liveBroadcastContent=&#39;none&#39;, localized=Row(description=&#34;Liam Bailey - Please Love Me \\n \\nLiam Bailey&#39;s new single &#39;Please Love Me&#39; is out now on Truth and Soul Records. \\n \\nDownload on iTunes: http://t.co/ogiXWtIJ \\nOrder the single on vinyl: http://truthandsoulrecords.com/artists/liam-bailey-2/\\n \\n&#39;Like&#39; Liam Bailey on Facebook: https://www.facebook.com/liambaileymusic\\nFollow Liam Bailey on Twitter: http://twitter.com/liambailey\\nSubscribe to Liam Bailey&#39;s channel here: http://www.youtube.com/subscription_center?gl=CA&amp;add_user=liambaileymusic&#34;, title=&#39;Liam Bailey - Please Love Me&#39;), publishedAt=&#39;2012-08-21T04:00:10Z&#39;, tags=[&#39;truth&#39;, &#39;soul&#39;, &#39;liam&#39;, &#39;bailey&#39;, &#39;funk&#39;, &#39;lee&#39;, &#39;fields&#39;, &#39;el&#39;, &#39;michels&#39;, &#39;affair&#39;, &#39;brooklyn&#39;, &#34;&#39;liam bailey&#39;&#34;, &#39;bayley&#39;, &#34;&#39;chase &amp; status&#39;&#34;, &#39;blind faith&#39;, &#34;&#39;it&#39;s not the same&#39;&#34;, &#39;better leave me&#39;, &#39;nottingham&#39;, &#39;london&#39;, &#34;&#39;when will they learn&#39;&#34;, &#39;dub&#39;, &#39;skank&#39;, &#39;mistajam&#39;, &#39;acoustic&#39;, &#34;&#39;michael kiwanuka&#39;&#34;, &#39;delilah&#39;, &#39;new&#39;], thumbnails=Row(default=Row(height=90, url=&#39;https://i.ytimg.com/vi/kPvLT-Wa5Rs/default.jpg&#39;, width=120), high=Row(height=360, url=&#39;https://i.ytimg.com/vi/kPvLT-Wa5Rs/hqdefault.jpg&#39;, width=480), maxres=Row(height=720, url=&#39;https://i.ytimg.com/vi/kPvLT-Wa5Rs/maxresdefault.jpg&#39;, width=1280), medium=Row(height=180, url=&#39;https://i.ytimg.com/vi/kPvLT-Wa5Rs/mqdefault.jpg&#39;, width=320), standard=Row(height=480, url=&#39;https://i.ytimg.com/vi/kPvLT-Wa5Rs/sddefault.jpg&#39;, width=640)), title=&#39;Liam Bailey - Please Love Me&#39;), statistics=Row(commentCount=&#39;106&#39;, dislikeCount=&#39;43&#39;, favoriteCount=&#39;0&#39;, likeCount=&#39;2182&#39;, viewCount=&#39;428727&#39;), status=Row(embeddable=True, license=&#39;youtube&#39;, madeForKids=False, privacyStatus=&#39;public&#39;, publicStatsViewable=True, uploadStatus=&#39;processed&#39;), topicDetails=Row(relevantTopicIds=[&#39;/m/04rlf&#39;, &#39;/m/04rlf&#39;], topicCategories=[&#39;https://en.wikipedia.org/wiki/Music&#39;])),\n Row(contentDetails=Row(caption=&#39;false&#39;, contentRating=Row(ytRating=None), definition=&#39;hd&#39;, dimension=&#39;2d&#39;, duration=&#39;PT5M6S&#39;, licensedContent=False, projection=&#39;rectangular&#39;, regionRestriction=Row(allowed=None, blocked=[&#39;DK&#39;])), etag=&#39;AdrmW4Jc7CZzbverj9H56z0I92Y&#39;, id=&#39;6kiGXFDijUI&#39;, kind=&#39;youtube#video&#39;, snippet=Row(categoryId=&#39;10&#39;, channelId=&#39;UCqsEcqpXUrq9YUt0bRgp9Og&#39;, channelTitle=&#39;Lluvia Magnética&#39;, defaultAudioLanguage=None, defaultLanguage=None, description=&#39;Lluvia Magnética - Enjoy the music while it rains.\\nFacebook: https://www.facebook.com/LluviaMagnetica\\n\\n♪ Free Download:\\nhttps://soundcloud.com/nu-ky/nu-ky-jimmy-bootleg-free-1\\n\\n♪ Artist: Nu&amp;Ky\\nhttps://www.facebook.com/pages/NuKy/172186256314705 \\nhttps://soundcloud.com/nu-ky\\n\\n♪ Artist: Moriarty\\nhttp://moriartyland.net/\\n\\n♪ Image:\\nhttp://500px.com/photo/24035899\\nhttp://500px.com/peterholmeiii\\n\\n© Please contact  lluviamagnetica@gmail.com for any claim or video removal requests (producers, labels and artists).&#39;, liveBroadcastContent=&#39;none&#39;, localized=Row(description=&#39;Lluvia Magnética - Enjoy the music while it rains.\\nFacebook: https://www.facebook.com/LluviaMagnetica\\n\\n♪ Free Download:\\nhttps://soundcloud.com/nu-ky/nu-ky-jimmy-bootleg-free-1\\n\\n♪ Artist: Nu&amp;Ky\\nhttps://www.facebook.com/pages/NuKy/172186256314705 \\nhttps://soundcloud.com/nu-ky\\n\\n♪ Artist: Moriarty\\nhttp://moriartyland.net/\\n\\n♪ Image:\\nhttp://500px.com/photo/24035899\\nhttp://500px.com/peterholmeiii\\n\\n© Please contact  lluviamagnetica@gmail.com for any claim or video removal requests (producers, labels and artists).&#39;, title=&#39;Moriarty - Jimmy (Nu&amp;Ky Bootleg)&#39;), publishedAt=&#39;2013-11-20T18:38:27Z&#39;, tags=[&#39;Uplifting&#39;, &#39;electronic&#39;, &#39;Lluvia&#39;, &#39;Magnetica&#39;, &#39;Moriarty Jimmy Nu&amp;Ky Bootleg&#39;, &#39;rain&#39;, &#39;country&#39;, &#39;ride&#39;, &#39;driving music&#39;, &#39;guitar&#39;, &#39;clasical&#39;, &#39;hermonica&#39;], thumbnails=Row(default=Row(height=90, url=&#39;https://i.ytimg.com/vi/6kiGXFDijUI/default.jpg&#39;, width=120), high=Row(height=360, url=&#39;https://i.ytimg.com/vi/6kiGXFDijUI/hqdefault.jpg&#39;, width=480), maxres=Row(height=720, url=&#39;https://i.ytimg.com/vi/6kiGXFDijUI/maxresdefault.jpg&#39;, width=1280), medium=Row(height=180, url=&#39;https://i.ytimg.com/vi/6kiGXFDijUI/mqdefault.jpg&#39;, width=320), standard=Row(height=480, url=&#39;https://i.ytimg.com/vi/6kiGXFDijUI/sddefault.jpg&#39;, width=640)), title=&#39;Moriarty - Jimmy (Nu&amp;Ky Bootleg)&#39;), statistics=Row(commentCount=&#39;1&#39;, dislikeCount=&#39;1&#39;, favoriteCount=&#39;0&#39;, likeCount=&#39;20&#39;, viewCount=&#39;1673&#39;), status=Row(embeddable=True, license=&#39;youtube&#39;, madeForKids=False, privacyStatus=&#39;public&#39;, publicStatsViewable=True, uploadStatus=&#39;processed&#39;), topicDetails=Row(relevantTopicIds=[&#39;/m/04rlf&#39;, &#39;/m/05rwpb&#39;, &#39;/m/04rlf&#39;, &#39;/m/05rwpb&#39;], topicCategories=[&#39;https://en.wikipedia.org/wiki/Independent_music&#39;, &#39;https://en.wikipedia.org/wiki/Music&#39;]))]</div>",
       "datasetInfos": [],
       "removedWidgets": [],
       "type": "html"
      }
     },
     "output_type": "display_data"
    }
   ],
   "source": []
  },
  {
   "attachments": {},
   "cell_type": "markdown",
   "metadata": {
    "application/vnd.databricks.v1+cell": {
     "inputWidgets": {},
     "nuid": "fd7b43a8-9326-4f7c-b2be-65571116ec37",
     "showTitle": false,
     "title": ""
    }
   },
   "source": [
    "What do you think?\n",
    "Looks like it contains a list!\n",
    "\n",
    "21. print out the length of the first and only element of the `Row` object"
   ]
  },
  {
   "cell_type": "code",
   "execution_count": null,
   "metadata": {
    "application/vnd.databricks.v1+cell": {
     "inputWidgets": {},
     "nuid": "e40b6235-35e5-401e-b921-64205f3a07f8",
     "showTitle": false,
     "title": ""
    }
   },
   "outputs": [
    {
     "data": {
      "text/html": [
       "<style scoped>\n",
       "  .ansiout {\n",
       "    display: block;\n",
       "    unicode-bidi: embed;\n",
       "    white-space: pre-wrap;\n",
       "    word-wrap: break-word;\n",
       "    word-break: break-all;\n",
       "    font-family: \"Source Code Pro\", \"Menlo\", monospace;;\n",
       "    font-size: 13px;\n",
       "    color: #555;\n",
       "    margin-left: 4px;\n",
       "    line-height: 19px;\n",
       "  }\n",
       "</style>\n",
       "<div class=\"ansiout\">Out[25]: 38</div>"
      ]
     },
     "metadata": {
      "application/vnd.databricks.v1+output": {
       "addedWidgets": {},
       "arguments": {},
       "data": "<div class=\"ansiout\">Out[25]: 38</div>",
       "datasetInfos": [],
       "removedWidgets": [],
       "type": "html"
      }
     },
     "output_type": "display_data"
    }
   ],
   "source": []
  },
  {
   "attachments": {},
   "cell_type": "markdown",
   "metadata": {},
   "source": [
    "22. Import pyspark sql functions"
   ]
  },
  {
   "cell_type": "code",
   "execution_count": null,
   "metadata": {
    "application/vnd.databricks.v1+cell": {
     "inputWidgets": {},
     "nuid": "85f954f9-b0d4-4570-9422-9959aa508f6d",
     "showTitle": false,
     "title": ""
    }
   },
   "outputs": [
    {
     "data": {
      "text/html": [
       "<style scoped>\n",
       "  .ansiout {\n",
       "    display: block;\n",
       "    unicode-bidi: embed;\n",
       "    white-space: pre-wrap;\n",
       "    word-wrap: break-word;\n",
       "    word-break: break-all;\n",
       "    font-family: \"Source Code Pro\", \"Menlo\", monospace;;\n",
       "    font-size: 13px;\n",
       "    color: #555;\n",
       "    margin-left: 4px;\n",
       "    line-height: 19px;\n",
       "  }\n",
       "</style>\n",
       "<div class=\"ansiout\"></div>"
      ]
     },
     "metadata": {
      "application/vnd.databricks.v1+output": {
       "addedWidgets": {},
       "arguments": {},
       "data": "<div class=\"ansiout\"></div>",
       "datasetInfos": [],
       "removedWidgets": [],
       "type": "html"
      }
     },
     "output_type": "display_data"
    }
   ],
   "source": []
  },
  {
   "attachments": {},
   "cell_type": "markdown",
   "metadata": {},
   "source": [
    "23. Compute a new column that measures the size of the items column in the whole dataset: `items_size` then, show the first 10 lines of this new DataFrame\n",
    "\n",
    "*NOTE: we're just exploring you don't have to save the new DataFrame to a variable*"
   ]
  },
  {
   "cell_type": "code",
   "execution_count": null,
   "metadata": {
    "application/vnd.databricks.v1+cell": {
     "inputWidgets": {},
     "nuid": "144b8350-fbc9-4fe5-aee8-65c6d450ce6e",
     "showTitle": false,
     "title": ""
    }
   },
   "outputs": [
    {
     "data": {
      "text/html": [
       "<style scoped>\n",
       "  .ansiout {\n",
       "    display: block;\n",
       "    unicode-bidi: embed;\n",
       "    white-space: pre-wrap;\n",
       "    word-wrap: break-word;\n",
       "    word-break: break-all;\n",
       "    font-family: \"Source Code Pro\", \"Menlo\", monospace;;\n",
       "    font-size: 13px;\n",
       "    color: #555;\n",
       "    margin-left: 4px;\n",
       "    line-height: 19px;\n",
       "  }\n",
       "</style>\n",
       "<div class=\"ansiout\">+--------------------+--------------------+--------------------+--------+----------+\n",
       "                etag|               items|                kind|pageInfo|items_size|\n",
       "+--------------------+--------------------+--------------------+--------+----------+\n",
       "U0fncx_GV9jD5SKQr...|[{{false, {null},...|youtube#videoList...|{38, 38}|        38|\n",
       "LZV6LlN3-4QwaIGfe...|[{{false, {null},...|youtube#videoList...|{38, 38}|        38|\n",
       "Ou4xXi-09RdImAeo1...|[{{true, {null}, ...|youtube#videoList...|{43, 43}|        43|\n",
       "tDsVpy7PmDE2n6ZAO...|[{{false, {null},...|youtube#videoList...|{40, 40}|        40|\n",
       "otOtu8WFJDFkzdBR_...|[{{false, {null},...|youtube#videoList...|{37, 37}|        37|\n",
       "AsZocy_JlPFUlMV7H...|[{{false, {null},...|youtube#videoList...|{44, 44}|        44|\n",
       "pmKpbTZmc6z3Xn6a5...|[{{false, {null},...|youtube#videoList...|{37, 37}|        37|\n",
       "MhDfxwNdH-dT7ibZL...|[{{false, {null},...|youtube#videoList...|{39, 39}|        39|\n",
       "_jHxnbb7sKA0-sr2d...|[{{false, {null},...|youtube#videoList...|{35, 35}|        35|\n",
       "O349EkCSo6N3LXmvr...|[{{false, {null},...|youtube#videoList...|{34, 34}|        34|\n",
       "+--------------------+--------------------+--------------------+--------+----------+\n",
       "only showing top 10 rows\n",
       "\n",
       "</div>"
      ]
     },
     "metadata": {
      "application/vnd.databricks.v1+output": {
       "addedWidgets": {},
       "arguments": {},
       "data": "<div class=\"ansiout\">+--------------------+--------------------+--------------------+--------+----------+\n|                etag|               items|                kind|pageInfo|items_size|\n+--------------------+--------------------+--------------------+--------+----------+\n|U0fncx_GV9jD5SKQr...|[{{false, {null},...|youtube#videoList...|{38, 38}|        38|\n|LZV6LlN3-4QwaIGfe...|[{{false, {null},...|youtube#videoList...|{38, 38}|        38|\n|Ou4xXi-09RdImAeo1...|[{{true, {null}, ...|youtube#videoList...|{43, 43}|        43|\n|tDsVpy7PmDE2n6ZAO...|[{{false, {null},...|youtube#videoList...|{40, 40}|        40|\n|otOtu8WFJDFkzdBR_...|[{{false, {null},...|youtube#videoList...|{37, 37}|        37|\n|AsZocy_JlPFUlMV7H...|[{{false, {null},...|youtube#videoList...|{44, 44}|        44|\n|pmKpbTZmc6z3Xn6a5...|[{{false, {null},...|youtube#videoList...|{37, 37}|        37|\n|MhDfxwNdH-dT7ibZL...|[{{false, {null},...|youtube#videoList...|{39, 39}|        39|\n|_jHxnbb7sKA0-sr2d...|[{{false, {null},...|youtube#videoList...|{35, 35}|        35|\n|O349EkCSo6N3LXmvr...|[{{false, {null},...|youtube#videoList...|{34, 34}|        34|\n+--------------------+--------------------+--------------------+--------+----------+\nonly showing top 10 rows\n\n</div>",
       "datasetInfos": [],
       "removedWidgets": [],
       "type": "html"
      }
     },
     "output_type": "display_data"
    }
   ],
   "source": []
  },
  {
   "attachments": {},
   "cell_type": "markdown",
   "metadata": {
    "application/vnd.databricks.v1+cell": {
     "inputWidgets": {},
     "nuid": "359cbbaa-5a56-4cb1-99df-d964747a7591",
     "showTitle": false,
     "title": ""
    }
   },
   "source": [
    "Can you see anything?"
   ]
  },
  {
   "attachments": {},
   "cell_type": "markdown",
   "metadata": {
    "application/vnd.databricks.v1+cell": {
     "inputWidgets": {},
     "nuid": "51a0c19f-761d-42c7-b6e2-f7e0f4eb4ae8",
     "showTitle": false,
     "title": ""
    }
   },
   "source": [
    "It seems that each `item_size` is equal to each of the element of `pageInfo` 🤔.  \n",
    "We will make sure of it, we will compare the `totalResults` field of `pageInfo` to the size of `items`, and if they're different we will filter them.\n",
    "At the end we will count how many rows we got.\n",
    "\n",
    "To keep our eyes on the prize: we want to count how many rows have a subfield `totalResults` (inside the column `pageInfo`) that is different from the size of the field `items`.\n",
    "\n",
    "24. Filter on the column where the inside field `totalResults` of `pageInfo` is different from the size of `items` then count how many rows are left:"
   ]
  },
  {
   "cell_type": "code",
   "execution_count": null,
   "metadata": {
    "application/vnd.databricks.v1+cell": {
     "inputWidgets": {},
     "nuid": "e73369af-addd-40c3-8ca5-2d9a868da25a",
     "showTitle": false,
     "title": ""
    }
   },
   "outputs": [
    {
     "data": {
      "text/html": [
       "<style scoped>\n",
       "  .ansiout {\n",
       "    display: block;\n",
       "    unicode-bidi: embed;\n",
       "    white-space: pre-wrap;\n",
       "    word-wrap: break-word;\n",
       "    word-break: break-all;\n",
       "    font-family: \"Source Code Pro\", \"Menlo\", monospace;;\n",
       "    font-size: 13px;\n",
       "    color: #555;\n",
       "    margin-left: 4px;\n",
       "    line-height: 19px;\n",
       "  }\n",
       "</style>\n",
       "<div class=\"ansiout\">Out[28]: 0</div>"
      ]
     },
     "metadata": {
      "application/vnd.databricks.v1+output": {
       "addedWidgets": {},
       "arguments": {},
       "data": "<div class=\"ansiout\">Out[28]: 0</div>",
       "datasetInfos": [],
       "removedWidgets": [],
       "type": "html"
      }
     },
     "output_type": "display_data"
    }
   ],
   "source": []
  },
  {
   "attachments": {},
   "cell_type": "markdown",
   "metadata": {
    "application/vnd.databricks.v1+cell": {
     "inputWidgets": {},
     "nuid": "fd4b24d8-869a-4258-91c4-6666c0f13318",
     "showTitle": false,
     "title": ""
    }
   },
   "source": [
    "### Conclusion\n",
    "For each row of our dataframe, we actually have many different songs..  \n",
    "When we called the API, we where calling batches of 50 songs. For each API call, we asked for 50 songs, and usually got a little bit less because some songs are not available on Youtube anymore.\n",
    "\n",
    "In our DataFrame each row is one API call.\n",
    "\n",
    "If we were more used to PySpark, we could actually have seen it earlier, and save ourselves some time.  \n",
    "Indeed, print out the schema of `df`:\n",
    "\n",
    "25. Print out the schema of `df`"
   ]
  },
  {
   "cell_type": "code",
   "execution_count": null,
   "metadata": {
    "application/vnd.databricks.v1+cell": {
     "inputWidgets": {},
     "nuid": "53f48fa0-b837-4207-9c40-aac8abcb8a26",
     "showTitle": false,
     "title": ""
    }
   },
   "outputs": [
    {
     "data": {
      "text/html": [
       "<style scoped>\n",
       "  .ansiout {\n",
       "    display: block;\n",
       "    unicode-bidi: embed;\n",
       "    white-space: pre-wrap;\n",
       "    word-wrap: break-word;\n",
       "    word-break: break-all;\n",
       "    font-family: \"Source Code Pro\", \"Menlo\", monospace;;\n",
       "    font-size: 13px;\n",
       "    color: #555;\n",
       "    margin-left: 4px;\n",
       "    line-height: 19px;\n",
       "  }\n",
       "</style>\n",
       "<div class=\"ansiout\">root\n",
       "-- etag: string (nullable = true)\n",
       "-- items: array (nullable = true)\n",
       "    |-- element: struct (containsNull = true)\n",
       "    |    |-- contentDetails: struct (nullable = true)\n",
       "    |    |    |-- caption: string (nullable = true)\n",
       "    |    |    |-- contentRating: struct (nullable = true)\n",
       "    |    |    |    |-- ytRating: string (nullable = true)\n",
       "    |    |    |-- definition: string (nullable = true)\n",
       "    |    |    |-- dimension: string (nullable = true)\n",
       "    |    |    |-- duration: string (nullable = true)\n",
       "    |    |    |-- licensedContent: boolean (nullable = true)\n",
       "    |    |    |-- projection: string (nullable = true)\n",
       "    |    |    |-- regionRestriction: struct (nullable = true)\n",
       "    |    |    |    |-- allowed: array (nullable = true)\n",
       "    |    |    |    |    |-- element: string (containsNull = true)\n",
       "    |    |    |    |-- blocked: array (nullable = true)\n",
       "    |    |    |    |    |-- element: string (containsNull = true)\n",
       "    |    |-- etag: string (nullable = true)\n",
       "    |    |-- id: string (nullable = true)\n",
       "    |    |-- kind: string (nullable = true)\n",
       "    |    |-- snippet: struct (nullable = true)\n",
       "    |    |    |-- categoryId: string (nullable = true)\n",
       "    |    |    |-- channelId: string (nullable = true)\n",
       "    |    |    |-- channelTitle: string (nullable = true)\n",
       "    |    |    |-- defaultAudioLanguage: string (nullable = true)\n",
       "    |    |    |-- defaultLanguage: string (nullable = true)\n",
       "    |    |    |-- description: string (nullable = true)\n",
       "    |    |    |-- liveBroadcastContent: string (nullable = true)\n",
       "    |    |    |-- localized: struct (nullable = true)\n",
       "    |    |    |    |-- description: string (nullable = true)\n",
       "    |    |    |    |-- title: string (nullable = true)\n",
       "    |    |    |-- publishedAt: string (nullable = true)\n",
       "    |    |    |-- tags: array (nullable = true)\n",
       "    |    |    |    |-- element: string (containsNull = true)\n",
       "    |    |    |-- thumbnails: struct (nullable = true)\n",
       "    |    |    |    |-- default: struct (nullable = true)\n",
       "    |    |    |    |    |-- height: long (nullable = true)\n",
       "    |    |    |    |    |-- url: string (nullable = true)\n",
       "    |    |    |    |    |-- width: long (nullable = true)\n",
       "    |    |    |    |-- high: struct (nullable = true)\n",
       "    |    |    |    |    |-- height: long (nullable = true)\n",
       "    |    |    |    |    |-- url: string (nullable = true)\n",
       "    |    |    |    |    |-- width: long (nullable = true)\n",
       "    |    |    |    |-- maxres: struct (nullable = true)\n",
       "    |    |    |    |    |-- height: long (nullable = true)\n",
       "    |    |    |    |    |-- url: string (nullable = true)\n",
       "    |    |    |    |    |-- width: long (nullable = true)\n",
       "    |    |    |    |-- medium: struct (nullable = true)\n",
       "    |    |    |    |    |-- height: long (nullable = true)\n",
       "    |    |    |    |    |-- url: string (nullable = true)\n",
       "    |    |    |    |    |-- width: long (nullable = true)\n",
       "    |    |    |    |-- standard: struct (nullable = true)\n",
       "    |    |    |    |    |-- height: long (nullable = true)\n",
       "    |    |    |    |    |-- url: string (nullable = true)\n",
       "    |    |    |    |    |-- width: long (nullable = true)\n",
       "    |    |    |-- title: string (nullable = true)\n",
       "    |    |-- statistics: struct (nullable = true)\n",
       "    |    |    |-- commentCount: string (nullable = true)\n",
       "    |    |    |-- dislikeCount: string (nullable = true)\n",
       "    |    |    |-- favoriteCount: string (nullable = true)\n",
       "    |    |    |-- likeCount: string (nullable = true)\n",
       "    |    |    |-- viewCount: string (nullable = true)\n",
       "    |    |-- status: struct (nullable = true)\n",
       "    |    |    |-- embeddable: boolean (nullable = true)\n",
       "    |    |    |-- license: string (nullable = true)\n",
       "    |    |    |-- madeForKids: boolean (nullable = true)\n",
       "    |    |    |-- privacyStatus: string (nullable = true)\n",
       "    |    |    |-- publicStatsViewable: boolean (nullable = true)\n",
       "    |    |    |-- uploadStatus: string (nullable = true)\n",
       "    |    |-- topicDetails: struct (nullable = true)\n",
       "    |    |    |-- relevantTopicIds: array (nullable = true)\n",
       "    |    |    |    |-- element: string (containsNull = true)\n",
       "    |    |    |-- topicCategories: array (nullable = true)\n",
       "    |    |    |    |-- element: string (containsNull = true)\n",
       "-- kind: string (nullable = true)\n",
       "-- pageInfo: struct (nullable = true)\n",
       "    |-- resultsPerPage: long (nullable = true)\n",
       "    |-- totalResults: long (nullable = true)\n",
       "\n",
       "</div>"
      ]
     },
     "metadata": {
      "application/vnd.databricks.v1+output": {
       "addedWidgets": {},
       "arguments": {},
       "data": "<style scoped>\n  .ansiout {\n    display: block;\n    unicode-bidi: embed;\n    white-space: pre-wrap;\n    word-wrap: break-word;\n    word-break: break-all;\n    font-family: \"Source Code Pro\", \"Menlo\", monospace;;\n    font-size: 13px;\n    color: #555;\n    margin-left: 4px;\n    line-height: 19px;\n  }\n</style>\n<div class=\"ansiout\">root\n-- etag: string (nullable = true)\n-- items: array (nullable = true)\n    |-- element: struct (containsNull = true)\n    |    |-- contentDetails: struct (nullable = true)\n    |    |    |-- caption: string (nullable = true)\n    |    |    |-- contentRating: struct (nullable = true)\n    |    |    |    |-- ytRating: string (nullable = true)\n    |    |    |-- definition: string (nullable = true)\n    |    |    |-- dimension: string (nullable = true)\n    |    |    |-- duration: string (nullable = true)\n    |    |    |-- licensedContent: boolean (nullable = true)\n    |    |    |-- projection: string (nullable = true)\n    |    |    |-- regionRestriction: struct (nullable = true)\n    |    |    |    |-- allowed: array (nullable = true)\n    |    |    |    |    |-- element: string (containsNull = true)\n    |    |    |    |-- blocked: array (nullable = true)\n    |    |    |    |    |-- element: string (containsNull = true)\n    |    |-- etag: string (nullable = true)\n    |    |-- id: string (nullable = true)\n    |    |-- kind: string (nullable = true)\n    |    |-- snippet: struct (nullable = true)\n    |    |    |-- categoryId: string (nullable = true)\n    |    |    |-- channelId: string (nullable = true)\n    |    |    |-- channelTitle: string (nullable = true)\n    |    |    |-- defaultAudioLanguage: string (nullable = true)\n    |    |    |-- defaultLanguage: string (nullable = true)\n    |    |    |-- description: string (nullable = true)\n    |    |    |-- liveBroadcastContent: string (nullable = true)\n    |    |    |-- localized: struct (nullable = true)\n    |    |    |    |-- description: string (nullable = true)\n    |    |    |    |-- title: string (nullable = true)\n    |    |    |-- publishedAt: string (nullable = true)\n    |    |    |-- tags: array (nullable = true)\n    |    |    |    |-- element: string (containsNull = true)\n    |    |    |-- thumbnails: struct (nullable = true)\n    |    |    |    |-- default: struct (nullable = true)\n    |    |    |    |    |-- height: long (nullable = true)\n    |    |    |    |    |-- url: string (nullable = true)\n    |    |    |    |    |-- width: long (nullable = true)\n    |    |    |    |-- high: struct (nullable = true)\n    |    |    |    |    |-- height: long (nullable = true)\n    |    |    |    |    |-- url: string (nullable = true)\n    |    |    |    |    |-- width: long (nullable = true)\n    |    |    |    |-- maxres: struct (nullable = true)\n    |    |    |    |    |-- height: long (nullable = true)\n    |    |    |    |    |-- url: string (nullable = true)\n    |    |    |    |    |-- width: long (nullable = true)\n    |    |    |    |-- medium: struct (nullable = true)\n    |    |    |    |    |-- height: long (nullable = true)\n    |    |    |    |    |-- url: string (nullable = true)\n    |    |    |    |    |-- width: long (nullable = true)\n    |    |    |    |-- standard: struct (nullable = true)\n    |    |    |    |    |-- height: long (nullable = true)\n    |    |    |    |    |-- url: string (nullable = true)\n    |    |    |    |    |-- width: long (nullable = true)\n    |    |    |-- title: string (nullable = true)\n    |    |-- statistics: struct (nullable = true)\n    |    |    |-- commentCount: string (nullable = true)\n    |    |    |-- dislikeCount: string (nullable = true)\n    |    |    |-- favoriteCount: string (nullable = true)\n    |    |    |-- likeCount: string (nullable = true)\n    |    |    |-- viewCount: string (nullable = true)\n    |    |-- status: struct (nullable = true)\n    |    |    |-- embeddable: boolean (nullable = true)\n    |    |    |-- license: string (nullable = true)\n    |    |    |-- madeForKids: boolean (nullable = true)\n    |    |    |-- privacyStatus: string (nullable = true)\n    |    |    |-- publicStatsViewable: boolean (nullable = true)\n    |    |    |-- uploadStatus: string (nullable = true)\n    |    |-- topicDetails: struct (nullable = true)\n    |    |    |-- relevantTopicIds: array (nullable = true)\n    |    |    |    |-- element: string (containsNull = true)\n    |    |    |-- topicCategories: array (nullable = true)\n    |    |    |    |-- element: string (containsNull = true)\n-- kind: string (nullable = true)\n-- pageInfo: struct (nullable = true)\n    |-- resultsPerPage: long (nullable = true)\n    |-- totalResults: long (nullable = true)\n\n</div>",
       "datasetInfos": [],
       "removedWidgets": [],
       "textData": null,
       "type": "htmlSandbox"
      }
     },
     "output_type": "display_data"
    }
   ],
   "source": []
  },
  {
   "attachments": {},
   "cell_type": "markdown",
   "metadata": {
    "application/vnd.databricks.v1+cell": {
     "inputWidgets": {},
     "nuid": "94b56b70-a9a9-4112-8960-528dce55809f",
     "showTitle": false,
     "title": ""
    }
   },
   "source": [
    "We've got our 4 top levels (corresponding to our 4 columns): `etag`, `items`, `kind`, `pageInfo`.\n",
    "\n",
    "`etag` and `kind` are of type `string`.\n",
    "\n",
    "`items` is different, its type is `array`, which means its a **container data type**, a type that contains multiple values.  \n",
    "\n",
    "We didn't get a table of songs, but instead a **table of API results**.\n",
    "\n",
    "---\n",
    "\n",
    "Now that we understand what's going on, we need to find a way to get the data in the shape we want, e.g. one row per result and not one row per api call..  \n",
    "That will be the topic of the next assignment.\n",
    "\n",
    "---\n",
    "\n",
    "## Take away\n",
    "- Data we collect is not always in a tidy format. Sometimes it can actually be difficult to understand what we are manipulating.\n",
    "- Zooming/dezooming strategy is very effective to quickly go through a dataset and reveal how it is structured."
   ]
  }
 ],
 "metadata": {
  "application/vnd.databricks.v1+notebook": {
   "dashboards": [],
   "language": "python",
   "notebookMetadata": {
    "pythonIndentUnit": 2
   },
   "notebookName": "01-Data_Exploration_solutions",
   "notebookOrigID": 4407832410620901,
   "widgets": {}
  },
  "kernelspec": {
   "display_name": "Python 3",
   "language": "python",
   "name": "python3"
  },
  "language_info": {
   "codemirror_mode": {
    "name": "ipython",
    "version": 3
   },
   "file_extension": ".py",
   "mimetype": "text/x-python",
   "name": "python",
   "nbconvert_exporter": "python",
   "pygments_lexer": "ipython3",
   "version": "3.8.3"
  },
  "name": "01-Data_Exploration",
  "notebookId": 283981489604738
 },
 "nbformat": 4,
 "nbformat_minor": 4
}
