{
  "cells": [
    {
      "cell_type": "markdown",
      "metadata": {
        "id": "uI-DdeDkoX85"
      },
      "source": [
        "# LSA Exercise\n",
        "\n",
        "The purpose of this exercise is to use LSA in order to run unsupervised topic extraction on texts and compare the results to the target variable. We are not going to use the target variable to train a model but only to assess if the topics found by LSA are similar to the classes that would have been used for supervised classification."
      ]
    },
    {
      "cell_type": "markdown",
      "metadata": {
        "id": "0EsPyoQPoX9H"
      },
      "source": [
        "1. Let's begin and import the libraries we will be using"
      ]
    },
    {
      "cell_type": "code",
      "execution_count": 81,
      "metadata": {
        "id": "g8OOKDHvoX9I"
      },
      "outputs": [],
      "source": [
        "import numpy as np\n",
        "import pandas as pd\n",
        "\n",
        "import plotly.figure_factory as ff\n",
        "from sklearn.metrics import confusion_matrix\n",
        "\n",
        "from sklearn.datasets import fetch_20newsgroups\n",
        "from sklearn.feature_extraction.text import TfidfVectorizer\n",
        "from sklearn.decomposition import TruncatedSVD\n",
        "\n",
        "import en_core_web_sm\n",
        "from spacy.lang.en.stop_words import STOP_WORDS"
      ]
    },
    {
      "cell_type": "markdown",
      "metadata": {
        "id": "UvGRFwhsoX9L"
      },
      "source": [
        "2. Load the 20 news dataset into an object news"
      ]
    },
    {
      "cell_type": "code",
      "execution_count": 66,
      "metadata": {
        "id": "i1MZwm8zoX9L",
        "tags": []
      },
      "outputs": [],
      "source": [
        "news = fetch_20newsgroups()"
      ]
    },
    {
      "cell_type": "markdown",
      "metadata": {
        "id": "3SbKZGyOoX9M"
      },
      "source": [
        "3. Display the data description using the DESCR key"
      ]
    },
    {
      "cell_type": "code",
      "execution_count": 67,
      "metadata": {
        "colab": {
          "base_uri": "https://localhost:8080/"
        },
        "id": "edj0gG41oX9R",
        "outputId": "15d4274a-5079-453e-a37c-a16dc5bd3a67",
        "tags": []
      },
      "outputs": [
        {
          "name": "stdout",
          "output_type": "stream",
          "text": [
            ".. _20newsgroups_dataset:\n",
            "\n",
            "The 20 newsgroups text dataset\n",
            "------------------------------\n",
            "\n",
            "The 20 newsgroups dataset comprises around 18000 newsgroups posts on\n",
            "20 topics split in two subsets: one for training (or development)\n",
            "and the other one for testing (or for performance evaluation). The split\n",
            "between the train and test set is based upon a messages posted before\n",
            "and after a specific date.\n",
            "\n",
            "This module contains two loaders. The first one,\n",
            ":func:`sklearn.datasets.fetch_20newsgroups`,\n",
            "returns a list of the raw texts that can be fed to text feature\n",
            "extractors such as :class:`~sklearn.feature_extraction.text.CountVectorizer`\n",
            "with custom parameters so as to extract feature vectors.\n",
            "The second one, :func:`sklearn.datasets.fetch_20newsgroups_vectorized`,\n",
            "returns ready-to-use features, i.e., it is not necessary to use a feature\n",
            "extractor.\n",
            "\n",
            "**Data Set Characteristics:**\n",
            "\n",
            "=================   ==========\n",
            "Classes                     20\n",
            "Samples total            18846\n",
            "Dimensionality               1\n",
            "Features                  text\n",
            "=================   ==========\n",
            "\n",
            ".. dropdown:: Usage\n",
            "\n",
            "  The :func:`sklearn.datasets.fetch_20newsgroups` function is a data\n",
            "  fetching / caching functions that downloads the data archive from\n",
            "  the original `20 newsgroups website <http://people.csail.mit.edu/jrennie/20Newsgroups/>`__,\n",
            "  extracts the archive contents\n",
            "  in the ``~/scikit_learn_data/20news_home`` folder and calls the\n",
            "  :func:`sklearn.datasets.load_files` on either the training or\n",
            "  testing set folder, or both of them::\n",
            "\n",
            "    >>> from sklearn.datasets import fetch_20newsgroups\n",
            "    >>> newsgroups_train = fetch_20newsgroups(subset='train')\n",
            "\n",
            "    >>> from pprint import pprint\n",
            "    >>> pprint(list(newsgroups_train.target_names))\n",
            "    ['alt.atheism',\n",
            "     'comp.graphics',\n",
            "     'comp.os.ms-windows.misc',\n",
            "     'comp.sys.ibm.pc.hardware',\n",
            "     'comp.sys.mac.hardware',\n",
            "     'comp.windows.x',\n",
            "     'misc.forsale',\n",
            "     'rec.autos',\n",
            "     'rec.motorcycles',\n",
            "     'rec.sport.baseball',\n",
            "     'rec.sport.hockey',\n",
            "     'sci.crypt',\n",
            "     'sci.electronics',\n",
            "     'sci.med',\n",
            "     'sci.space',\n",
            "     'soc.religion.christian',\n",
            "     'talk.politics.guns',\n",
            "     'talk.politics.mideast',\n",
            "     'talk.politics.misc',\n",
            "     'talk.religion.misc']\n",
            "\n",
            "  The real data lies in the ``filenames`` and ``target`` attributes. The target\n",
            "  attribute is the integer index of the category::\n",
            "\n",
            "    >>> newsgroups_train.filenames.shape\n",
            "    (11314,)\n",
            "    >>> newsgroups_train.target.shape\n",
            "    (11314,)\n",
            "    >>> newsgroups_train.target[:10]\n",
            "    array([ 7,  4,  4,  1, 14, 16, 13,  3,  2,  4])\n",
            "\n",
            "  It is possible to load only a sub-selection of the categories by passing the\n",
            "  list of the categories to load to the\n",
            "  :func:`sklearn.datasets.fetch_20newsgroups` function::\n",
            "\n",
            "    >>> cats = ['alt.atheism', 'sci.space']\n",
            "    >>> newsgroups_train = fetch_20newsgroups(subset='train', categories=cats)\n",
            "\n",
            "    >>> list(newsgroups_train.target_names)\n",
            "    ['alt.atheism', 'sci.space']\n",
            "    >>> newsgroups_train.filenames.shape\n",
            "    (1073,)\n",
            "    >>> newsgroups_train.target.shape\n",
            "    (1073,)\n",
            "    >>> newsgroups_train.target[:10]\n",
            "    array([0, 1, 1, 1, 0, 1, 1, 0, 0, 0])\n",
            "\n",
            ".. dropdown:: Converting text to vectors\n",
            "\n",
            "  In order to feed predictive or clustering models with the text data,\n",
            "  one first need to turn the text into vectors of numerical values suitable\n",
            "  for statistical analysis. This can be achieved with the utilities of the\n",
            "  ``sklearn.feature_extraction.text`` as demonstrated in the following\n",
            "  example that extract `TF-IDF <https://en.wikipedia.org/wiki/Tf-idf>`__ vectors\n",
            "  of unigram tokens from a subset of 20news::\n",
            "\n",
            "    >>> from sklearn.feature_extraction.text import TfidfVectorizer\n",
            "    >>> categories = ['alt.atheism', 'talk.religion.misc',\n",
            "    ...               'comp.graphics', 'sci.space']\n",
            "    >>> newsgroups_train = fetch_20newsgroups(subset='train',\n",
            "    ...                                       categories=categories)\n",
            "    >>> vectorizer = TfidfVectorizer()\n",
            "    >>> vectors = vectorizer.fit_transform(newsgroups_train.data)\n",
            "    >>> vectors.shape\n",
            "    (2034, 34118)\n",
            "\n",
            "  The extracted TF-IDF vectors are very sparse, with an average of 159 non-zero\n",
            "  components by sample in a more than 30000-dimensional space\n",
            "  (less than .5% non-zero features)::\n",
            "\n",
            "    >>> vectors.nnz / float(vectors.shape[0])\n",
            "    159.01327...\n",
            "\n",
            "  :func:`sklearn.datasets.fetch_20newsgroups_vectorized` is a function which\n",
            "  returns ready-to-use token counts features instead of file names.\n",
            "\n",
            ".. dropdown:: Filtering text for more realistic training\n",
            "\n",
            "  It is easy for a classifier to overfit on particular things that appear in the\n",
            "  20 Newsgroups data, such as newsgroup headers. Many classifiers achieve very\n",
            "  high F-scores, but their results would not generalize to other documents that\n",
            "  aren't from this window of time.\n",
            "\n",
            "  For example, let's look at the results of a multinomial Naive Bayes classifier,\n",
            "  which is fast to train and achieves a decent F-score::\n",
            "\n",
            "    >>> from sklearn.naive_bayes import MultinomialNB\n",
            "    >>> from sklearn import metrics\n",
            "    >>> newsgroups_test = fetch_20newsgroups(subset='test',\n",
            "    ...                                      categories=categories)\n",
            "    >>> vectors_test = vectorizer.transform(newsgroups_test.data)\n",
            "    >>> clf = MultinomialNB(alpha=.01)\n",
            "    >>> clf.fit(vectors, newsgroups_train.target)\n",
            "    MultinomialNB(alpha=0.01, class_prior=None, fit_prior=True)\n",
            "\n",
            "    >>> pred = clf.predict(vectors_test)\n",
            "    >>> metrics.f1_score(newsgroups_test.target, pred, average='macro')\n",
            "    0.88213...\n",
            "\n",
            "  (The example :ref:`sphx_glr_auto_examples_text_plot_document_classification_20newsgroups.py` shuffles\n",
            "  the training and test data, instead of segmenting by time, and in that case\n",
            "  multinomial Naive Bayes gets a much higher F-score of 0.88. Are you suspicious\n",
            "  yet of what's going on inside this classifier?)\n",
            "\n",
            "  Let's take a look at what the most informative features are:\n",
            "\n",
            "    >>> import numpy as np\n",
            "    >>> def show_top10(classifier, vectorizer, categories):\n",
            "    ...     feature_names = vectorizer.get_feature_names_out()\n",
            "    ...     for i, category in enumerate(categories):\n",
            "    ...         top10 = np.argsort(classifier.coef_[i])[-10:]\n",
            "    ...         print(\"%s: %s\" % (category, \" \".join(feature_names[top10])))\n",
            "    ...\n",
            "    >>> show_top10(clf, vectorizer, newsgroups_train.target_names)\n",
            "    alt.atheism: edu it and in you that is of to the\n",
            "    comp.graphics: edu in graphics it is for and of to the\n",
            "    sci.space: edu it that is in and space to of the\n",
            "    talk.religion.misc: not it you in is that and to of the\n",
            "\n",
            "\n",
            "  You can now see many things that these features have overfit to:\n",
            "\n",
            "  - Almost every group is distinguished by whether headers such as\n",
            "    ``NNTP-Posting-Host:`` and ``Distribution:`` appear more or less often.\n",
            "  - Another significant feature involves whether the sender is affiliated with\n",
            "    a university, as indicated either by their headers or their signature.\n",
            "  - The word \"article\" is a significant feature, based on how often people quote\n",
            "    previous posts like this: \"In article [article ID], [name] <[e-mail address]>\n",
            "    wrote:\"\n",
            "  - Other features match the names and e-mail addresses of particular people who\n",
            "    were posting at the time.\n",
            "\n",
            "  With such an abundance of clues that distinguish newsgroups, the classifiers\n",
            "  barely have to identify topics from text at all, and they all perform at the\n",
            "  same high level.\n",
            "\n",
            "  For this reason, the functions that load 20 Newsgroups data provide a\n",
            "  parameter called **remove**, telling it what kinds of information to strip out\n",
            "  of each file. **remove** should be a tuple containing any subset of\n",
            "  ``('headers', 'footers', 'quotes')``, telling it to remove headers, signature\n",
            "  blocks, and quotation blocks respectively.\n",
            "\n",
            "    >>> newsgroups_test = fetch_20newsgroups(subset='test',\n",
            "    ...                                      remove=('headers', 'footers', 'quotes'),\n",
            "    ...                                      categories=categories)\n",
            "    >>> vectors_test = vectorizer.transform(newsgroups_test.data)\n",
            "    >>> pred = clf.predict(vectors_test)\n",
            "    >>> metrics.f1_score(pred, newsgroups_test.target, average='macro')\n",
            "    0.77310...\n",
            "\n",
            "  This classifier lost over a lot of its F-score, just because we removed\n",
            "  metadata that has little to do with topic classification.\n",
            "  It loses even more if we also strip this metadata from the training data:\n",
            "\n",
            "    >>> newsgroups_train = fetch_20newsgroups(subset='train',\n",
            "    ...                                       remove=('headers', 'footers', 'quotes'),\n",
            "    ...                                       categories=categories)\n",
            "    >>> vectors = vectorizer.fit_transform(newsgroups_train.data)\n",
            "    >>> clf = MultinomialNB(alpha=.01)\n",
            "    >>> clf.fit(vectors, newsgroups_train.target)\n",
            "    MultinomialNB(alpha=0.01, class_prior=None, fit_prior=True)\n",
            "\n",
            "    >>> vectors_test = vectorizer.transform(newsgroups_test.data)\n",
            "    >>> pred = clf.predict(vectors_test)\n",
            "    >>> metrics.f1_score(newsgroups_test.target, pred, average='macro')\n",
            "    0.76995...\n",
            "\n",
            "  Some other classifiers cope better with this harder version of the task. Try the\n",
            "  :ref:`sphx_glr_auto_examples_model_selection_plot_grid_search_text_feature_extraction.py`\n",
            "  example with and without the `remove` option to compare the results.\n",
            "\n",
            ".. topic:: Data Considerations\n",
            "\n",
            "  The Cleveland Indians is a major league baseball team based in Cleveland,\n",
            "  Ohio, USA. In December 2020, it was reported that \"After several months of\n",
            "  discussion sparked by the death of George Floyd and a national reckoning over\n",
            "  race and colonialism, the Cleveland Indians have decided to change their\n",
            "  name.\" Team owner Paul Dolan \"did make it clear that the team will not make\n",
            "  its informal nickname -- the Tribe -- its new team name.\" \"It's not going to\n",
            "  be a half-step away from the Indians,\" Dolan said.\"We will not have a Native\n",
            "  American-themed name.\"\n",
            "\n",
            "  https://www.mlb.com/news/cleveland-indians-team-name-change\n",
            "\n",
            ".. topic:: Recommendation\n",
            "\n",
            "  - When evaluating text classifiers on the 20 Newsgroups data, you\n",
            "    should strip newsgroup-related metadata. In scikit-learn, you can do this\n",
            "    by setting ``remove=('headers', 'footers', 'quotes')``. The F-score will be\n",
            "    lower because it is more realistic.\n",
            "  - This text dataset contains data which may be inappropriate for certain NLP\n",
            "    applications. An example is listed in the \"Data Considerations\" section\n",
            "    above. The challenge with using current text datasets in NLP for tasks such\n",
            "    as sentence completion, clustering, and other applications is that text\n",
            "    that is culturally biased and inflammatory will propagate biases. This\n",
            "    should be taken into consideration when using the dataset, reviewing the\n",
            "    output, and the bias should be documented.\n",
            "\n",
            ".. rubric:: Examples\n",
            "\n",
            "* :ref:`sphx_glr_auto_examples_model_selection_plot_grid_search_text_feature_extraction.py`\n",
            "* :ref:`sphx_glr_auto_examples_text_plot_document_classification_20newsgroups.py`\n",
            "* :ref:`sphx_glr_auto_examples_text_plot_hashing_vs_dict_vectorizer.py`\n",
            "* :ref:`sphx_glr_auto_examples_text_plot_document_clustering.py`\n",
            "\n"
          ]
        }
      ],
      "source": [
        "print(news[\"DESCR\"])"
      ]
    },
    {
      "cell_type": "markdown",
      "metadata": {
        "id": "OFjMtQ4HoX9S"
      },
      "source": [
        "4. Store the object news.data in a DataFrame and call the column text. Extract a sample of 5000 rows to begin with. Add the target variable to this dataframe in order to run analysis later."
      ]
    },
    {
      "cell_type": "code",
      "execution_count": 68,
      "metadata": {
        "colab": {
          "base_uri": "https://localhost:8080/",
          "height": 206
        },
        "id": "feTM5DAJoX9Z",
        "outputId": "a2f194c2-e19e-47dc-d0d1-281c631043eb"
      },
      "outputs": [
        {
          "data": {
            "text/html": [
              "<div>\n",
              "<style scoped>\n",
              "    .dataframe tbody tr th:only-of-type {\n",
              "        vertical-align: middle;\n",
              "    }\n",
              "\n",
              "    .dataframe tbody tr th {\n",
              "        vertical-align: top;\n",
              "    }\n",
              "\n",
              "    .dataframe thead th {\n",
              "        text-align: right;\n",
              "    }\n",
              "</style>\n",
              "<table border=\"1\" class=\"dataframe\">\n",
              "  <thead>\n",
              "    <tr style=\"text-align: right;\">\n",
              "      <th></th>\n",
              "      <th>text</th>\n",
              "      <th>target</th>\n",
              "    </tr>\n",
              "  </thead>\n",
              "  <tbody>\n",
              "    <tr>\n",
              "      <th>4977</th>\n",
              "      <td>From: engp2254@nusunix1.nus.sg (SOH KAM YUNG)\\...</td>\n",
              "      <td>12</td>\n",
              "    </tr>\n",
              "    <tr>\n",
              "      <th>8241</th>\n",
              "      <td>From: brandt@cs.unc.edu (Andrew Brandt)\\nSubje...</td>\n",
              "      <td>7</td>\n",
              "    </tr>\n",
              "    <tr>\n",
              "      <th>7059</th>\n",
              "      <td>From: wade@nb.rockwell.com (Wade Guthrie)\\nSub...</td>\n",
              "      <td>7</td>\n",
              "    </tr>\n",
              "    <tr>\n",
              "      <th>5647</th>\n",
              "      <td>From: Rick_Granberry@pts.mot.com (Rick Granber...</td>\n",
              "      <td>15</td>\n",
              "    </tr>\n",
              "    <tr>\n",
              "      <th>4355</th>\n",
              "      <td>From: frank@D012S658.uucp (Frank O'Dwyer)\\nSub...</td>\n",
              "      <td>0</td>\n",
              "    </tr>\n",
              "    <tr>\n",
              "      <th>...</th>\n",
              "      <td>...</td>\n",
              "      <td>...</td>\n",
              "    </tr>\n",
              "    <tr>\n",
              "      <th>5427</th>\n",
              "      <td>From: Howard Frederick &lt;hfrederick@igc.apc.org...</td>\n",
              "      <td>17</td>\n",
              "    </tr>\n",
              "    <tr>\n",
              "      <th>1496</th>\n",
              "      <td>From: shz@mare.att.com (Keeper of the 'Tude)\\n...</td>\n",
              "      <td>8</td>\n",
              "    </tr>\n",
              "    <tr>\n",
              "      <th>2555</th>\n",
              "      <td>From: simon@dcs.warwick.ac.uk (Simon Clippingd...</td>\n",
              "      <td>0</td>\n",
              "    </tr>\n",
              "    <tr>\n",
              "      <th>7910</th>\n",
              "      <td>From: lvc@cbnews.cb.att.com (Larry Cipriani)\\n...</td>\n",
              "      <td>16</td>\n",
              "    </tr>\n",
              "    <tr>\n",
              "      <th>2360</th>\n",
              "      <td>From: geb@cs.pitt.edu (Gordon Banks)\\nSubject:...</td>\n",
              "      <td>13</td>\n",
              "    </tr>\n",
              "  </tbody>\n",
              "</table>\n",
              "<p>5000 rows × 2 columns</p>\n",
              "</div>"
            ],
            "text/plain": [
              "                                                   text  target\n",
              "4977  From: engp2254@nusunix1.nus.sg (SOH KAM YUNG)\\...      12\n",
              "8241  From: brandt@cs.unc.edu (Andrew Brandt)\\nSubje...       7\n",
              "7059  From: wade@nb.rockwell.com (Wade Guthrie)\\nSub...       7\n",
              "5647  From: Rick_Granberry@pts.mot.com (Rick Granber...      15\n",
              "4355  From: frank@D012S658.uucp (Frank O'Dwyer)\\nSub...       0\n",
              "...                                                 ...     ...\n",
              "5427  From: Howard Frederick <hfrederick@igc.apc.org...      17\n",
              "1496  From: shz@mare.att.com (Keeper of the 'Tude)\\n...       8\n",
              "2555  From: simon@dcs.warwick.ac.uk (Simon Clippingd...       0\n",
              "7910  From: lvc@cbnews.cb.att.com (Larry Cipriani)\\n...      16\n",
              "2360  From: geb@cs.pitt.edu (Gordon Banks)\\nSubject:...      13\n",
              "\n",
              "[5000 rows x 2 columns]"
            ]
          },
          "execution_count": 68,
          "metadata": {},
          "output_type": "execute_result"
        }
      ],
      "source": [
        "corpus = pd.DataFrame(news.data, columns=[\"text\"]).sample(5000)\n",
        "corpus[\"target\"] = news.target[corpus.index]\n",
        "corpus"
      ]
    },
    {
      "cell_type": "markdown",
      "metadata": {
        "id": "44thZ8fuoX9a"
      },
      "source": [
        "5. Create a column text_clean containing only alphanumerical characters and change all characters to lowercase. Also only keep the tex that is after the string \"Subject:\""
      ]
    },
    {
      "cell_type": "code",
      "execution_count": 69,
      "metadata": {
        "colab": {
          "base_uri": "https://localhost:8080/",
          "height": 206
        },
        "id": "HMvyczt7oX9a",
        "outputId": "10fd710f-b70c-46d6-de10-4e9c9e047409"
      },
      "outputs": [
        {
          "data": {
            "text/html": [
              "<div>\n",
              "<style scoped>\n",
              "    .dataframe tbody tr th:only-of-type {\n",
              "        vertical-align: middle;\n",
              "    }\n",
              "\n",
              "    .dataframe tbody tr th {\n",
              "        vertical-align: top;\n",
              "    }\n",
              "\n",
              "    .dataframe thead th {\n",
              "        text-align: right;\n",
              "    }\n",
              "</style>\n",
              "<table border=\"1\" class=\"dataframe\">\n",
              "  <thead>\n",
              "    <tr style=\"text-align: right;\">\n",
              "      <th></th>\n",
              "      <th>text</th>\n",
              "      <th>target</th>\n",
              "      <th>text_clean</th>\n",
              "    </tr>\n",
              "  </thead>\n",
              "  <tbody>\n",
              "    <tr>\n",
              "      <th>4977</th>\n",
              "      <td>From: engp2254@nusunix1.nus.sg (SOH KAM YUNG)\\...</td>\n",
              "      <td>12</td>\n",
              "      <td>re  protection of serial  rs232  lines organi...</td>\n",
              "    </tr>\n",
              "    <tr>\n",
              "      <th>8241</th>\n",
              "      <td>From: brandt@cs.unc.edu (Andrew Brandt)\\nSubje...</td>\n",
              "      <td>7</td>\n",
              "      <td>4runner and pathfinder recent changes organiz...</td>\n",
              "    </tr>\n",
              "    <tr>\n",
              "      <th>7059</th>\n",
              "      <td>From: wade@nb.rockwell.com (Wade Guthrie)\\nSub...</td>\n",
              "      <td>7</td>\n",
              "      <td>re  curious about the porsche i drove organiz...</td>\n",
              "    </tr>\n",
              "    <tr>\n",
              "      <th>5647</th>\n",
              "      <td>From: Rick_Granberry@pts.mot.com (Rick Granber...</td>\n",
              "      <td>15</td>\n",
              "      <td>pastoral authority reply to  rick granberry p...</td>\n",
              "    </tr>\n",
              "    <tr>\n",
              "      <th>4355</th>\n",
              "      <td>From: frank@D012S658.uucp (Frank O'Dwyer)\\nSub...</td>\n",
              "      <td>0</td>\n",
              "      <td>re  societally acceptable behavior organizati...</td>\n",
              "    </tr>\n",
              "  </tbody>\n",
              "</table>\n",
              "</div>"
            ],
            "text/plain": [
              "                                                   text  target  \\\n",
              "4977  From: engp2254@nusunix1.nus.sg (SOH KAM YUNG)\\...      12   \n",
              "8241  From: brandt@cs.unc.edu (Andrew Brandt)\\nSubje...       7   \n",
              "7059  From: wade@nb.rockwell.com (Wade Guthrie)\\nSub...       7   \n",
              "5647  From: Rick_Granberry@pts.mot.com (Rick Granber...      15   \n",
              "4355  From: frank@D012S658.uucp (Frank O'Dwyer)\\nSub...       0   \n",
              "\n",
              "                                             text_clean  \n",
              "4977   re  protection of serial  rs232  lines organi...  \n",
              "8241   4runner and pathfinder recent changes organiz...  \n",
              "7059   re  curious about the porsche i drove organiz...  \n",
              "5647   pastoral authority reply to  rick granberry p...  \n",
              "4355   re  societally acceptable behavior organizati...  "
            ]
          },
          "execution_count": 69,
          "metadata": {},
          "output_type": "execute_result"
        }
      ],
      "source": [
        "corpus[\"text_clean\"] = corpus['text'].apply(lambda x: x.split(\"Subject:\")[1])\n",
        "corpus[\"text_clean\"] = corpus[\"text_clean\"].str.replace(r\"[^A-Za-z0-9 ]+\", \" \", regex = True)\n",
        "corpus[\"text_clean\"] = corpus[\"text_clean\"].apply(lambda x : x.lower())\n",
        "corpus.head()"
      ]
    },
    {
      "cell_type": "markdown",
      "metadata": {
        "id": "_OT07mGFoX9b"
      },
      "source": [
        "6. Create an object nlp with ```en_core_web_sm.load```"
      ]
    },
    {
      "cell_type": "code",
      "execution_count": 70,
      "metadata": {
        "id": "o9-r_tUKoX9b"
      },
      "outputs": [],
      "source": [
        "nlp = en_core_web_sm.load()"
      ]
    },
    {
      "cell_type": "markdown",
      "metadata": {
        "id": "VBKQsiP0oX9b"
      },
      "source": [
        "7. Tokenize the cleaned sentences and remove english stopwords"
      ]
    },
    {
      "cell_type": "code",
      "execution_count": 71,
      "metadata": {
        "colab": {
          "base_uri": "https://localhost:8080/",
          "height": 293
        },
        "id": "fMlQRaTgoX9c",
        "outputId": "64bd3a0c-d9dc-4c50-af53-b90a0cb68faf"
      },
      "outputs": [
        {
          "data": {
            "text/html": [
              "<div>\n",
              "<style scoped>\n",
              "    .dataframe tbody tr th:only-of-type {\n",
              "        vertical-align: middle;\n",
              "    }\n",
              "\n",
              "    .dataframe tbody tr th {\n",
              "        vertical-align: top;\n",
              "    }\n",
              "\n",
              "    .dataframe thead th {\n",
              "        text-align: right;\n",
              "    }\n",
              "</style>\n",
              "<table border=\"1\" class=\"dataframe\">\n",
              "  <thead>\n",
              "    <tr style=\"text-align: right;\">\n",
              "      <th></th>\n",
              "      <th>text</th>\n",
              "      <th>target</th>\n",
              "      <th>text_clean</th>\n",
              "      <th>text_tokenized</th>\n",
              "    </tr>\n",
              "  </thead>\n",
              "  <tbody>\n",
              "    <tr>\n",
              "      <th>4977</th>\n",
              "      <td>From: engp2254@nusunix1.nus.sg (SOH KAM YUNG)\\...</td>\n",
              "      <td>12</td>\n",
              "      <td>re  protection of serial  rs232  lines organi...</td>\n",
              "      <td>[ ,  , protection, serial,  , rs232,  , line, ...</td>\n",
              "    </tr>\n",
              "    <tr>\n",
              "      <th>8241</th>\n",
              "      <td>From: brandt@cs.unc.edu (Andrew Brandt)\\nSubje...</td>\n",
              "      <td>7</td>\n",
              "      <td>4runner and pathfinder recent changes organiz...</td>\n",
              "      <td>[ , 4runner, pathfinder, recent, change, organ...</td>\n",
              "    </tr>\n",
              "    <tr>\n",
              "      <th>7059</th>\n",
              "      <td>From: wade@nb.rockwell.com (Wade Guthrie)\\nSub...</td>\n",
              "      <td>7</td>\n",
              "      <td>re  curious about the porsche i drove organiz...</td>\n",
              "      <td>[ ,  , curious, porsche, drive, organization, ...</td>\n",
              "    </tr>\n",
              "    <tr>\n",
              "      <th>5647</th>\n",
              "      <td>From: Rick_Granberry@pts.mot.com (Rick Granber...</td>\n",
              "      <td>15</td>\n",
              "      <td>pastoral authority reply to  rick granberry p...</td>\n",
              "      <td>[ , pastoral, authority, reply,  , rick, granb...</td>\n",
              "    </tr>\n",
              "    <tr>\n",
              "      <th>4355</th>\n",
              "      <td>From: frank@D012S658.uucp (Frank O'Dwyer)\\nSub...</td>\n",
              "      <td>0</td>\n",
              "      <td>re  societally acceptable behavior organizati...</td>\n",
              "      <td>[ ,  , societally, acceptable, behavior, organ...</td>\n",
              "    </tr>\n",
              "  </tbody>\n",
              "</table>\n",
              "</div>"
            ],
            "text/plain": [
              "                                                   text  target  \\\n",
              "4977  From: engp2254@nusunix1.nus.sg (SOH KAM YUNG)\\...      12   \n",
              "8241  From: brandt@cs.unc.edu (Andrew Brandt)\\nSubje...       7   \n",
              "7059  From: wade@nb.rockwell.com (Wade Guthrie)\\nSub...       7   \n",
              "5647  From: Rick_Granberry@pts.mot.com (Rick Granber...      15   \n",
              "4355  From: frank@D012S658.uucp (Frank O'Dwyer)\\nSub...       0   \n",
              "\n",
              "                                             text_clean  \\\n",
              "4977   re  protection of serial  rs232  lines organi...   \n",
              "8241   4runner and pathfinder recent changes organiz...   \n",
              "7059   re  curious about the porsche i drove organiz...   \n",
              "5647   pastoral authority reply to  rick granberry p...   \n",
              "4355   re  societally acceptable behavior organizati...   \n",
              "\n",
              "                                         text_tokenized  \n",
              "4977  [ ,  , protection, serial,  , rs232,  , line, ...  \n",
              "8241  [ , 4runner, pathfinder, recent, change, organ...  \n",
              "7059  [ ,  , curious, porsche, drive, organization, ...  \n",
              "5647  [ , pastoral, authority, reply,  , rick, granb...  \n",
              "4355  [ ,  , societally, acceptable, behavior, organ...  "
            ]
          },
          "execution_count": 71,
          "metadata": {},
          "output_type": "execute_result"
        }
      ],
      "source": [
        "corpus[\"text_tokenized\"] = corpus[\"text_clean\"].apply(lambda x: [token.lemma_ for token in nlp(x) if token.text not in STOP_WORDS])\n",
        "corpus.head()"
      ]
    },
    {
      "cell_type": "markdown",
      "metadata": {
        "id": "TOwKP255oX9c"
      },
      "source": [
        "8. Detokenize the tokenized sentences and store them in an ```nlp_ready``` column"
      ]
    },
    {
      "cell_type": "code",
      "execution_count": 72,
      "metadata": {
        "colab": {
          "base_uri": "https://localhost:8080/",
          "height": 345
        },
        "id": "H46QmZdhoX9i",
        "outputId": "8fe1f242-f43c-4f62-9549-7da5745f088d"
      },
      "outputs": [
        {
          "data": {
            "text/html": [
              "<div>\n",
              "<style scoped>\n",
              "    .dataframe tbody tr th:only-of-type {\n",
              "        vertical-align: middle;\n",
              "    }\n",
              "\n",
              "    .dataframe tbody tr th {\n",
              "        vertical-align: top;\n",
              "    }\n",
              "\n",
              "    .dataframe thead th {\n",
              "        text-align: right;\n",
              "    }\n",
              "</style>\n",
              "<table border=\"1\" class=\"dataframe\">\n",
              "  <thead>\n",
              "    <tr style=\"text-align: right;\">\n",
              "      <th></th>\n",
              "      <th>text</th>\n",
              "      <th>target</th>\n",
              "      <th>text_clean</th>\n",
              "      <th>text_tokenized</th>\n",
              "      <th>nlp_ready</th>\n",
              "    </tr>\n",
              "  </thead>\n",
              "  <tbody>\n",
              "    <tr>\n",
              "      <th>4977</th>\n",
              "      <td>From: engp2254@nusunix1.nus.sg (SOH KAM YUNG)\\...</td>\n",
              "      <td>12</td>\n",
              "      <td>re  protection of serial  rs232  lines organi...</td>\n",
              "      <td>[ ,  , protection, serial,  , rs232,  , line, ...</td>\n",
              "      <td>protection serial   rs232   line organizat...</td>\n",
              "    </tr>\n",
              "    <tr>\n",
              "      <th>8241</th>\n",
              "      <td>From: brandt@cs.unc.edu (Andrew Brandt)\\nSubje...</td>\n",
              "      <td>7</td>\n",
              "      <td>4runner and pathfinder recent changes organiz...</td>\n",
              "      <td>[ , 4runner, pathfinder, recent, change, organ...</td>\n",
              "      <td>4runner pathfinder recent change organizatio...</td>\n",
              "    </tr>\n",
              "    <tr>\n",
              "      <th>7059</th>\n",
              "      <td>From: wade@nb.rockwell.com (Wade Guthrie)\\nSub...</td>\n",
              "      <td>7</td>\n",
              "      <td>re  curious about the porsche i drove organiz...</td>\n",
              "      <td>[ ,  , curious, porsche, drive, organization, ...</td>\n",
              "      <td>curious porsche drive organization   rockw...</td>\n",
              "    </tr>\n",
              "    <tr>\n",
              "      <th>5647</th>\n",
              "      <td>From: Rick_Granberry@pts.mot.com (Rick Granber...</td>\n",
              "      <td>15</td>\n",
              "      <td>pastoral authority reply to  rick granberry p...</td>\n",
              "      <td>[ , pastoral, authority, reply,  , rick, granb...</td>\n",
              "      <td>pastoral authority reply   rick granberry pt...</td>\n",
              "    </tr>\n",
              "    <tr>\n",
              "      <th>4355</th>\n",
              "      <td>From: frank@D012S658.uucp (Frank O'Dwyer)\\nSub...</td>\n",
              "      <td>0</td>\n",
              "      <td>re  societally acceptable behavior organizati...</td>\n",
              "      <td>[ ,  , societally, acceptable, behavior, organ...</td>\n",
              "      <td>societally acceptable behavior organizatio...</td>\n",
              "    </tr>\n",
              "  </tbody>\n",
              "</table>\n",
              "</div>"
            ],
            "text/plain": [
              "                                                   text  target  \\\n",
              "4977  From: engp2254@nusunix1.nus.sg (SOH KAM YUNG)\\...      12   \n",
              "8241  From: brandt@cs.unc.edu (Andrew Brandt)\\nSubje...       7   \n",
              "7059  From: wade@nb.rockwell.com (Wade Guthrie)\\nSub...       7   \n",
              "5647  From: Rick_Granberry@pts.mot.com (Rick Granber...      15   \n",
              "4355  From: frank@D012S658.uucp (Frank O'Dwyer)\\nSub...       0   \n",
              "\n",
              "                                             text_clean  \\\n",
              "4977   re  protection of serial  rs232  lines organi...   \n",
              "8241   4runner and pathfinder recent changes organiz...   \n",
              "7059   re  curious about the porsche i drove organiz...   \n",
              "5647   pastoral authority reply to  rick granberry p...   \n",
              "4355   re  societally acceptable behavior organizati...   \n",
              "\n",
              "                                         text_tokenized  \\\n",
              "4977  [ ,  , protection, serial,  , rs232,  , line, ...   \n",
              "8241  [ , 4runner, pathfinder, recent, change, organ...   \n",
              "7059  [ ,  , curious, porsche, drive, organization, ...   \n",
              "5647  [ , pastoral, authority, reply,  , rick, granb...   \n",
              "4355  [ ,  , societally, acceptable, behavior, organ...   \n",
              "\n",
              "                                              nlp_ready  \n",
              "4977      protection serial   rs232   line organizat...  \n",
              "8241    4runner pathfinder recent change organizatio...  \n",
              "7059      curious porsche drive organization   rockw...  \n",
              "5647    pastoral authority reply   rick granberry pt...  \n",
              "4355      societally acceptable behavior organizatio...  "
            ]
          },
          "execution_count": 72,
          "metadata": {},
          "output_type": "execute_result"
        }
      ],
      "source": [
        "corpus[\"nlp_ready\"] = corpus[\"text_tokenized\"].apply(lambda x: ' '.join(x))\n",
        "corpus.head()"
      ]
    },
    {
      "cell_type": "markdown",
      "metadata": {
        "id": "yGpg_j-ioX9i"
      },
      "source": [
        "9. Use sklearn to calculate the tf-idf"
      ]
    },
    {
      "cell_type": "code",
      "execution_count": 73,
      "metadata": {
        "colab": {
          "base_uri": "https://localhost:8080/"
        },
        "id": "F-jkxewToX9j",
        "outputId": "a71f1842-26f7-4478-8701-a01edf313dc4"
      },
      "outputs": [
        {
          "data": {
            "text/plain": [
              "<5000x70371 sparse matrix of type '<class 'numpy.float64'>'\n",
              "\twith 509638 stored elements in Compressed Sparse Row format>"
            ]
          },
          "execution_count": 73,
          "metadata": {},
          "output_type": "execute_result"
        }
      ],
      "source": [
        "vectorizer = TfidfVectorizer(stop_words=\"english\")\n",
        "X = vectorizer.fit_transform(corpus[\"nlp_ready\"])\n",
        "X"
      ]
    },
    {
      "cell_type": "markdown",
      "metadata": {
        "id": "0mETJ-AAoX9j"
      },
      "source": [
        "10. Use the truncatedSVD model in order to create a topic model with 20 different topics"
      ]
    },
    {
      "cell_type": "code",
      "execution_count": 74,
      "metadata": {},
      "outputs": [],
      "source": [
        "svd = TruncatedSVD(n_components=20)\n",
        "lsa = svd.fit_transform(X)"
      ]
    },
    {
      "cell_type": "code",
      "execution_count": 75,
      "metadata": {
        "colab": {
          "base_uri": "https://localhost:8080/",
          "height": 704
        },
        "id": "UtuVfN3uoX9p",
        "outputId": "1f904c56-7ed3-4938-c37c-028edecff4d8"
      },
      "outputs": [
        {
          "data": {
            "text/html": [
              "<div>\n",
              "<style scoped>\n",
              "    .dataframe tbody tr th:only-of-type {\n",
              "        vertical-align: middle;\n",
              "    }\n",
              "\n",
              "    .dataframe tbody tr th {\n",
              "        vertical-align: top;\n",
              "    }\n",
              "\n",
              "    .dataframe thead th {\n",
              "        text-align: right;\n",
              "    }\n",
              "</style>\n",
              "<table border=\"1\" class=\"dataframe\">\n",
              "  <thead>\n",
              "    <tr style=\"text-align: right;\">\n",
              "      <th></th>\n",
              "      <th>topic_1</th>\n",
              "      <th>topic_2</th>\n",
              "      <th>topic_3</th>\n",
              "      <th>topic_4</th>\n",
              "      <th>topic_5</th>\n",
              "      <th>topic_6</th>\n",
              "      <th>topic_7</th>\n",
              "      <th>topic_8</th>\n",
              "      <th>topic_9</th>\n",
              "      <th>topic_10</th>\n",
              "      <th>...</th>\n",
              "      <th>topic_12</th>\n",
              "      <th>topic_13</th>\n",
              "      <th>topic_14</th>\n",
              "      <th>topic_15</th>\n",
              "      <th>topic_16</th>\n",
              "      <th>topic_17</th>\n",
              "      <th>topic_18</th>\n",
              "      <th>topic_19</th>\n",
              "      <th>topic_20</th>\n",
              "      <th>text</th>\n",
              "    </tr>\n",
              "  </thead>\n",
              "  <tbody>\n",
              "    <tr>\n",
              "      <th>4977</th>\n",
              "      <td>0.142929</td>\n",
              "      <td>0.053448</td>\n",
              "      <td>0.035099</td>\n",
              "      <td>0.023163</td>\n",
              "      <td>0.002161</td>\n",
              "      <td>0.029262</td>\n",
              "      <td>0.012541</td>\n",
              "      <td>0.042809</td>\n",
              "      <td>0.017865</td>\n",
              "      <td>0.019203</td>\n",
              "      <td>...</td>\n",
              "      <td>0.004814</td>\n",
              "      <td>0.040882</td>\n",
              "      <td>0.031298</td>\n",
              "      <td>0.007641</td>\n",
              "      <td>0.047676</td>\n",
              "      <td>0.011411</td>\n",
              "      <td>0.034943</td>\n",
              "      <td>0.009218</td>\n",
              "      <td>0.017512</td>\n",
              "      <td>protection serial   rs232   line organizat...</td>\n",
              "    </tr>\n",
              "    <tr>\n",
              "      <th>8241</th>\n",
              "      <td>0.111785</td>\n",
              "      <td>0.041383</td>\n",
              "      <td>0.048258</td>\n",
              "      <td>0.020143</td>\n",
              "      <td>0.000175</td>\n",
              "      <td>0.037299</td>\n",
              "      <td>0.023966</td>\n",
              "      <td>0.011719</td>\n",
              "      <td>0.016638</td>\n",
              "      <td>0.010117</td>\n",
              "      <td>...</td>\n",
              "      <td>0.022951</td>\n",
              "      <td>0.023598</td>\n",
              "      <td>0.016123</td>\n",
              "      <td>0.022858</td>\n",
              "      <td>0.007519</td>\n",
              "      <td>0.016313</td>\n",
              "      <td>0.000051</td>\n",
              "      <td>0.015427</td>\n",
              "      <td>0.022912</td>\n",
              "      <td>4runner pathfinder recent change organizatio...</td>\n",
              "    </tr>\n",
              "    <tr>\n",
              "      <th>7059</th>\n",
              "      <td>0.112317</td>\n",
              "      <td>0.015785</td>\n",
              "      <td>0.019795</td>\n",
              "      <td>0.017478</td>\n",
              "      <td>0.039096</td>\n",
              "      <td>0.028607</td>\n",
              "      <td>0.034628</td>\n",
              "      <td>0.061418</td>\n",
              "      <td>0.049407</td>\n",
              "      <td>0.050359</td>\n",
              "      <td>...</td>\n",
              "      <td>0.041106</td>\n",
              "      <td>0.028901</td>\n",
              "      <td>0.034810</td>\n",
              "      <td>0.004494</td>\n",
              "      <td>0.044431</td>\n",
              "      <td>0.029328</td>\n",
              "      <td>0.015747</td>\n",
              "      <td>0.032578</td>\n",
              "      <td>0.046997</td>\n",
              "      <td>curious porsche drive organization   rockw...</td>\n",
              "    </tr>\n",
              "    <tr>\n",
              "      <th>5647</th>\n",
              "      <td>0.085716</td>\n",
              "      <td>0.035191</td>\n",
              "      <td>0.005349</td>\n",
              "      <td>0.035218</td>\n",
              "      <td>0.016343</td>\n",
              "      <td>0.011214</td>\n",
              "      <td>0.000624</td>\n",
              "      <td>0.008806</td>\n",
              "      <td>0.030857</td>\n",
              "      <td>0.005104</td>\n",
              "      <td>...</td>\n",
              "      <td>0.002823</td>\n",
              "      <td>0.014532</td>\n",
              "      <td>0.024135</td>\n",
              "      <td>0.019111</td>\n",
              "      <td>0.030874</td>\n",
              "      <td>0.018221</td>\n",
              "      <td>0.004062</td>\n",
              "      <td>0.030102</td>\n",
              "      <td>0.043387</td>\n",
              "      <td>pastoral authority reply   rick granberry pt...</td>\n",
              "    </tr>\n",
              "    <tr>\n",
              "      <th>4355</th>\n",
              "      <td>0.182962</td>\n",
              "      <td>0.109200</td>\n",
              "      <td>0.011292</td>\n",
              "      <td>0.012677</td>\n",
              "      <td>0.033767</td>\n",
              "      <td>0.007930</td>\n",
              "      <td>0.001253</td>\n",
              "      <td>0.021094</td>\n",
              "      <td>0.090732</td>\n",
              "      <td>0.024778</td>\n",
              "      <td>...</td>\n",
              "      <td>0.052310</td>\n",
              "      <td>0.010560</td>\n",
              "      <td>0.056753</td>\n",
              "      <td>0.029792</td>\n",
              "      <td>0.023864</td>\n",
              "      <td>0.156110</td>\n",
              "      <td>0.012823</td>\n",
              "      <td>0.003593</td>\n",
              "      <td>0.003614</td>\n",
              "      <td>societally acceptable behavior organizatio...</td>\n",
              "    </tr>\n",
              "  </tbody>\n",
              "</table>\n",
              "<p>5 rows × 21 columns</p>\n",
              "</div>"
            ],
            "text/plain": [
              "       topic_1   topic_2   topic_3   topic_4   topic_5   topic_6   topic_7  \\\n",
              "4977  0.142929  0.053448  0.035099  0.023163  0.002161  0.029262  0.012541   \n",
              "8241  0.111785  0.041383  0.048258  0.020143  0.000175  0.037299  0.023966   \n",
              "7059  0.112317  0.015785  0.019795  0.017478  0.039096  0.028607  0.034628   \n",
              "5647  0.085716  0.035191  0.005349  0.035218  0.016343  0.011214  0.000624   \n",
              "4355  0.182962  0.109200  0.011292  0.012677  0.033767  0.007930  0.001253   \n",
              "\n",
              "       topic_8   topic_9  topic_10  ...  topic_12  topic_13  topic_14  \\\n",
              "4977  0.042809  0.017865  0.019203  ...  0.004814  0.040882  0.031298   \n",
              "8241  0.011719  0.016638  0.010117  ...  0.022951  0.023598  0.016123   \n",
              "7059  0.061418  0.049407  0.050359  ...  0.041106  0.028901  0.034810   \n",
              "5647  0.008806  0.030857  0.005104  ...  0.002823  0.014532  0.024135   \n",
              "4355  0.021094  0.090732  0.024778  ...  0.052310  0.010560  0.056753   \n",
              "\n",
              "      topic_15  topic_16  topic_17  topic_18  topic_19  topic_20  \\\n",
              "4977  0.007641  0.047676  0.011411  0.034943  0.009218  0.017512   \n",
              "8241  0.022858  0.007519  0.016313  0.000051  0.015427  0.022912   \n",
              "7059  0.004494  0.044431  0.029328  0.015747  0.032578  0.046997   \n",
              "5647  0.019111  0.030874  0.018221  0.004062  0.030102  0.043387   \n",
              "4355  0.029792  0.023864  0.156110  0.012823  0.003593  0.003614   \n",
              "\n",
              "                                                   text  \n",
              "4977      protection serial   rs232   line organizat...  \n",
              "8241    4runner pathfinder recent change organizatio...  \n",
              "7059      curious porsche drive organization   rockw...  \n",
              "5647    pastoral authority reply   rick granberry pt...  \n",
              "4355      societally acceptable behavior organizatio...  \n",
              "\n",
              "[5 rows x 21 columns]"
            ]
          },
          "execution_count": 75,
          "metadata": {},
          "output_type": "execute_result"
        }
      ],
      "source": [
        "list_topic = [\"topic_\"+str(i) for i in range(1, 21)]\n",
        "\n",
        "topics = pd.DataFrame(abs(lsa), columns=list_topic, index=corpus.index)\n",
        "topics[\"text\"] = corpus['nlp_ready']\n",
        "topics.head()"
      ]
    },
    {
      "cell_type": "markdown",
      "metadata": {
        "id": "F3tsPnzOoX9p"
      },
      "source": [
        "11. Assign each document to the topic it is the most linked to :"
      ]
    },
    {
      "cell_type": "code",
      "execution_count": null,
      "metadata": {},
      "outputs": [
        {
          "data": {
            "text/plain": [
              "class_pred\n",
              "0     4021\n",
              "2      124\n",
              "1      119\n",
              "6      111\n",
              "10      94\n",
              "5       82\n",
              "12      78\n",
              "4       51\n",
              "14      48\n",
              "16      48\n",
              "11      47\n",
              "18      41\n",
              "13      40\n",
              "17      33\n",
              "15      22\n",
              "3       12\n",
              "7       11\n",
              "9        9\n",
              "19       9\n",
              "Name: count, dtype: int64"
            ]
          },
          "execution_count": 79,
          "metadata": {},
          "output_type": "execute_result"
        }
      ],
      "source": [
        "topics[\"class_pred\"] = [np.argmax(topic) for topic in lsa]\n",
        "topics[\"class_pred\"].value_counts()"
      ]
    },
    {
      "cell_type": "markdown",
      "metadata": {
        "id": "ra3rAb-uoX9r"
      },
      "source": [
        "12. Add the target variable to thetopic model dataframe and print the confusion matrix for the topic against the target variable :"
      ]
    },
    {
      "cell_type": "code",
      "execution_count": 80,
      "metadata": {
        "colab": {
          "base_uri": "https://localhost:8080/",
          "height": 377
        },
        "id": "EWYW-UVsoX9s",
        "outputId": "0c2e0850-39fc-4a70-c91e-66a1d9239cd4"
      },
      "outputs": [
        {
          "data": {
            "text/html": [
              "<div>\n",
              "<style scoped>\n",
              "    .dataframe tbody tr th:only-of-type {\n",
              "        vertical-align: middle;\n",
              "    }\n",
              "\n",
              "    .dataframe tbody tr th {\n",
              "        vertical-align: top;\n",
              "    }\n",
              "\n",
              "    .dataframe thead th {\n",
              "        text-align: right;\n",
              "    }\n",
              "</style>\n",
              "<table border=\"1\" class=\"dataframe\">\n",
              "  <thead>\n",
              "    <tr style=\"text-align: right;\">\n",
              "      <th></th>\n",
              "      <th>topic_1</th>\n",
              "      <th>topic_2</th>\n",
              "      <th>topic_3</th>\n",
              "      <th>topic_4</th>\n",
              "      <th>topic_5</th>\n",
              "      <th>topic_6</th>\n",
              "      <th>topic_7</th>\n",
              "      <th>topic_8</th>\n",
              "      <th>topic_9</th>\n",
              "      <th>topic_10</th>\n",
              "      <th>...</th>\n",
              "      <th>topic_14</th>\n",
              "      <th>topic_15</th>\n",
              "      <th>topic_16</th>\n",
              "      <th>topic_17</th>\n",
              "      <th>topic_18</th>\n",
              "      <th>topic_19</th>\n",
              "      <th>topic_20</th>\n",
              "      <th>text</th>\n",
              "      <th>class_pred</th>\n",
              "      <th>target</th>\n",
              "    </tr>\n",
              "  </thead>\n",
              "  <tbody>\n",
              "    <tr>\n",
              "      <th>4977</th>\n",
              "      <td>0.142929</td>\n",
              "      <td>0.053448</td>\n",
              "      <td>0.035099</td>\n",
              "      <td>0.023163</td>\n",
              "      <td>0.002161</td>\n",
              "      <td>0.029262</td>\n",
              "      <td>0.012541</td>\n",
              "      <td>0.042809</td>\n",
              "      <td>0.017865</td>\n",
              "      <td>0.019203</td>\n",
              "      <td>...</td>\n",
              "      <td>0.031298</td>\n",
              "      <td>0.007641</td>\n",
              "      <td>0.047676</td>\n",
              "      <td>0.011411</td>\n",
              "      <td>0.034943</td>\n",
              "      <td>0.009218</td>\n",
              "      <td>0.017512</td>\n",
              "      <td>protection serial   rs232   line organizat...</td>\n",
              "      <td>0</td>\n",
              "      <td>12</td>\n",
              "    </tr>\n",
              "    <tr>\n",
              "      <th>8241</th>\n",
              "      <td>0.111785</td>\n",
              "      <td>0.041383</td>\n",
              "      <td>0.048258</td>\n",
              "      <td>0.020143</td>\n",
              "      <td>0.000175</td>\n",
              "      <td>0.037299</td>\n",
              "      <td>0.023966</td>\n",
              "      <td>0.011719</td>\n",
              "      <td>0.016638</td>\n",
              "      <td>0.010117</td>\n",
              "      <td>...</td>\n",
              "      <td>0.016123</td>\n",
              "      <td>0.022858</td>\n",
              "      <td>0.007519</td>\n",
              "      <td>0.016313</td>\n",
              "      <td>0.000051</td>\n",
              "      <td>0.015427</td>\n",
              "      <td>0.022912</td>\n",
              "      <td>4runner pathfinder recent change organizatio...</td>\n",
              "      <td>0</td>\n",
              "      <td>7</td>\n",
              "    </tr>\n",
              "    <tr>\n",
              "      <th>7059</th>\n",
              "      <td>0.112317</td>\n",
              "      <td>0.015785</td>\n",
              "      <td>0.019795</td>\n",
              "      <td>0.017478</td>\n",
              "      <td>0.039096</td>\n",
              "      <td>0.028607</td>\n",
              "      <td>0.034628</td>\n",
              "      <td>0.061418</td>\n",
              "      <td>0.049407</td>\n",
              "      <td>0.050359</td>\n",
              "      <td>...</td>\n",
              "      <td>0.034810</td>\n",
              "      <td>0.004494</td>\n",
              "      <td>0.044431</td>\n",
              "      <td>0.029328</td>\n",
              "      <td>0.015747</td>\n",
              "      <td>0.032578</td>\n",
              "      <td>0.046997</td>\n",
              "      <td>curious porsche drive organization   rockw...</td>\n",
              "      <td>0</td>\n",
              "      <td>7</td>\n",
              "    </tr>\n",
              "    <tr>\n",
              "      <th>5647</th>\n",
              "      <td>0.085716</td>\n",
              "      <td>0.035191</td>\n",
              "      <td>0.005349</td>\n",
              "      <td>0.035218</td>\n",
              "      <td>0.016343</td>\n",
              "      <td>0.011214</td>\n",
              "      <td>0.000624</td>\n",
              "      <td>0.008806</td>\n",
              "      <td>0.030857</td>\n",
              "      <td>0.005104</td>\n",
              "      <td>...</td>\n",
              "      <td>0.024135</td>\n",
              "      <td>0.019111</td>\n",
              "      <td>0.030874</td>\n",
              "      <td>0.018221</td>\n",
              "      <td>0.004062</td>\n",
              "      <td>0.030102</td>\n",
              "      <td>0.043387</td>\n",
              "      <td>pastoral authority reply   rick granberry pt...</td>\n",
              "      <td>0</td>\n",
              "      <td>15</td>\n",
              "    </tr>\n",
              "    <tr>\n",
              "      <th>4355</th>\n",
              "      <td>0.182962</td>\n",
              "      <td>0.109200</td>\n",
              "      <td>0.011292</td>\n",
              "      <td>0.012677</td>\n",
              "      <td>0.033767</td>\n",
              "      <td>0.007930</td>\n",
              "      <td>0.001253</td>\n",
              "      <td>0.021094</td>\n",
              "      <td>0.090732</td>\n",
              "      <td>0.024778</td>\n",
              "      <td>...</td>\n",
              "      <td>0.056753</td>\n",
              "      <td>0.029792</td>\n",
              "      <td>0.023864</td>\n",
              "      <td>0.156110</td>\n",
              "      <td>0.012823</td>\n",
              "      <td>0.003593</td>\n",
              "      <td>0.003614</td>\n",
              "      <td>societally acceptable behavior organizatio...</td>\n",
              "      <td>0</td>\n",
              "      <td>0</td>\n",
              "    </tr>\n",
              "  </tbody>\n",
              "</table>\n",
              "<p>5 rows × 23 columns</p>\n",
              "</div>"
            ],
            "text/plain": [
              "       topic_1   topic_2   topic_3   topic_4   topic_5   topic_6   topic_7  \\\n",
              "4977  0.142929  0.053448  0.035099  0.023163  0.002161  0.029262  0.012541   \n",
              "8241  0.111785  0.041383  0.048258  0.020143  0.000175  0.037299  0.023966   \n",
              "7059  0.112317  0.015785  0.019795  0.017478  0.039096  0.028607  0.034628   \n",
              "5647  0.085716  0.035191  0.005349  0.035218  0.016343  0.011214  0.000624   \n",
              "4355  0.182962  0.109200  0.011292  0.012677  0.033767  0.007930  0.001253   \n",
              "\n",
              "       topic_8   topic_9  topic_10  ...  topic_14  topic_15  topic_16  \\\n",
              "4977  0.042809  0.017865  0.019203  ...  0.031298  0.007641  0.047676   \n",
              "8241  0.011719  0.016638  0.010117  ...  0.016123  0.022858  0.007519   \n",
              "7059  0.061418  0.049407  0.050359  ...  0.034810  0.004494  0.044431   \n",
              "5647  0.008806  0.030857  0.005104  ...  0.024135  0.019111  0.030874   \n",
              "4355  0.021094  0.090732  0.024778  ...  0.056753  0.029792  0.023864   \n",
              "\n",
              "      topic_17  topic_18  topic_19  topic_20  \\\n",
              "4977  0.011411  0.034943  0.009218  0.017512   \n",
              "8241  0.016313  0.000051  0.015427  0.022912   \n",
              "7059  0.029328  0.015747  0.032578  0.046997   \n",
              "5647  0.018221  0.004062  0.030102  0.043387   \n",
              "4355  0.156110  0.012823  0.003593  0.003614   \n",
              "\n",
              "                                                   text  class_pred  target  \n",
              "4977      protection serial   rs232   line organizat...           0      12  \n",
              "8241    4runner pathfinder recent change organizatio...           0       7  \n",
              "7059      curious porsche drive organization   rockw...           0       7  \n",
              "5647    pastoral authority reply   rick granberry pt...           0      15  \n",
              "4355      societally acceptable behavior organizatio...           0       0  \n",
              "\n",
              "[5 rows x 23 columns]"
            ]
          },
          "execution_count": 80,
          "metadata": {},
          "output_type": "execute_result"
        }
      ],
      "source": [
        "topics[\"target\"] = news.target[corpus.index]\n",
        "topics.head()"
      ]
    },
    {
      "cell_type": "code",
      "execution_count": 82,
      "metadata": {
        "colab": {
          "base_uri": "https://localhost:8080/",
          "height": 542
        },
        "id": "aWR6HhurooPE",
        "outputId": "b9173cf5-7dd5-4eb6-abb6-7b6434453b21"
      },
      "outputs": [
        {
          "data": {
            "application/vnd.plotly.v1+json": {
              "config": {
                "plotlyServerURL": "https://plot.ly"
              },
              "data": [
                {
                  "colorscale": [
                    [
                      0,
                      "#0d0887"
                    ],
                    [
                      0.1111111111111111,
                      "#46039f"
                    ],
                    [
                      0.2222222222222222,
                      "#7201a8"
                    ],
                    [
                      0.3333333333333333,
                      "#9c179e"
                    ],
                    [
                      0.4444444444444444,
                      "#bd3786"
                    ],
                    [
                      0.5555555555555556,
                      "#d8576b"
                    ],
                    [
                      0.6666666666666666,
                      "#ed7953"
                    ],
                    [
                      0.7777777777777778,
                      "#fb9f3a"
                    ],
                    [
                      0.8888888888888888,
                      "#fdca26"
                    ],
                    [
                      1,
                      "#f0f921"
                    ]
                  ],
                  "reversescale": false,
                  "showscale": false,
                  "type": "heatmap",
                  "x": [
                    0,
                    1,
                    2,
                    3,
                    4,
                    5,
                    6,
                    7,
                    8,
                    9,
                    10,
                    11,
                    12,
                    13,
                    14,
                    15,
                    16,
                    17,
                    18,
                    19
                  ],
                  "y": [
                    0,
                    1,
                    2,
                    3,
                    4,
                    5,
                    6,
                    7,
                    8,
                    9,
                    10,
                    11,
                    12,
                    13,
                    14,
                    15,
                    16,
                    17,
                    18,
                    19
                  ],
                  "z": [
                    [
                      0.03,
                      0,
                      0,
                      0,
                      0,
                      0,
                      0,
                      0,
                      0,
                      0,
                      0,
                      0,
                      0,
                      0,
                      0,
                      0,
                      0.01,
                      0,
                      0,
                      0
                    ],
                    [
                      0.05,
                      0,
                      0,
                      0,
                      0,
                      0,
                      0,
                      0,
                      0,
                      0,
                      0,
                      0,
                      0,
                      0,
                      0,
                      0,
                      0,
                      0,
                      0,
                      0
                    ],
                    [
                      0.04,
                      0,
                      0,
                      0,
                      0,
                      0,
                      0.01,
                      0,
                      0,
                      0,
                      0,
                      0,
                      0,
                      0,
                      0,
                      0,
                      0,
                      0,
                      0,
                      0
                    ],
                    [
                      0.04,
                      0,
                      0,
                      0,
                      0,
                      0.01,
                      0,
                      0,
                      0,
                      0,
                      0.01,
                      0,
                      0,
                      0,
                      0,
                      0,
                      0,
                      0,
                      0,
                      0
                    ],
                    [
                      0.04,
                      0,
                      0,
                      0,
                      0,
                      0,
                      0,
                      0,
                      0,
                      0,
                      0,
                      0,
                      0,
                      0,
                      0,
                      0,
                      0,
                      0,
                      0,
                      0
                    ],
                    [
                      0.04,
                      0,
                      0,
                      0,
                      0,
                      0,
                      0,
                      0,
                      0,
                      0,
                      0,
                      0,
                      0,
                      0,
                      0,
                      0,
                      0,
                      0,
                      0,
                      0
                    ],
                    [
                      0.04,
                      0,
                      0,
                      0,
                      0,
                      0,
                      0,
                      0,
                      0,
                      0,
                      0,
                      0,
                      0,
                      0,
                      0,
                      0,
                      0,
                      0,
                      0,
                      0
                    ],
                    [
                      0.05,
                      0,
                      0,
                      0,
                      0,
                      0,
                      0,
                      0,
                      0,
                      0,
                      0,
                      0.01,
                      0,
                      0,
                      0,
                      0,
                      0,
                      0,
                      0,
                      0
                    ],
                    [
                      0.05,
                      0,
                      0,
                      0,
                      0,
                      0,
                      0,
                      0,
                      0,
                      0,
                      0,
                      0,
                      0,
                      0,
                      0,
                      0,
                      0,
                      0,
                      0,
                      0
                    ],
                    [
                      0.05,
                      0,
                      0,
                      0,
                      0,
                      0,
                      0,
                      0,
                      0,
                      0,
                      0,
                      0,
                      0,
                      0,
                      0,
                      0,
                      0,
                      0,
                      0,
                      0
                    ],
                    [
                      0.04,
                      0,
                      0,
                      0,
                      0.01,
                      0,
                      0,
                      0,
                      0,
                      0,
                      0,
                      0,
                      0,
                      0,
                      0,
                      0,
                      0,
                      0,
                      0,
                      0
                    ],
                    [
                      0.03,
                      0,
                      0.02,
                      0,
                      0,
                      0,
                      0,
                      0,
                      0,
                      0,
                      0,
                      0,
                      0,
                      0,
                      0,
                      0,
                      0,
                      0,
                      0,
                      0
                    ],
                    [
                      0.05,
                      0,
                      0,
                      0,
                      0,
                      0,
                      0,
                      0,
                      0,
                      0,
                      0,
                      0,
                      0,
                      0,
                      0,
                      0,
                      0,
                      0,
                      0,
                      0
                    ],
                    [
                      0.04,
                      0,
                      0,
                      0,
                      0,
                      0,
                      0,
                      0,
                      0,
                      0,
                      0,
                      0,
                      0,
                      0,
                      0.01,
                      0,
                      0,
                      0,
                      0,
                      0
                    ],
                    [
                      0.05,
                      0,
                      0,
                      0,
                      0,
                      0,
                      0,
                      0,
                      0,
                      0,
                      0,
                      0,
                      0,
                      0,
                      0,
                      0,
                      0,
                      0,
                      0,
                      0
                    ],
                    [
                      0.03,
                      0.01,
                      0,
                      0,
                      0,
                      0,
                      0,
                      0,
                      0,
                      0,
                      0,
                      0,
                      0,
                      0,
                      0,
                      0,
                      0,
                      0,
                      0,
                      0
                    ],
                    [
                      0.04,
                      0,
                      0,
                      0,
                      0,
                      0,
                      0,
                      0,
                      0,
                      0,
                      0,
                      0,
                      0,
                      0,
                      0,
                      0,
                      0,
                      0,
                      0,
                      0
                    ],
                    [
                      0.02,
                      0,
                      0,
                      0,
                      0,
                      0,
                      0.01,
                      0,
                      0,
                      0,
                      0,
                      0,
                      0.02,
                      0,
                      0,
                      0,
                      0,
                      0,
                      0,
                      0
                    ],
                    [
                      0.04,
                      0,
                      0,
                      0,
                      0,
                      0,
                      0,
                      0,
                      0,
                      0,
                      0,
                      0,
                      0,
                      0,
                      0,
                      0,
                      0,
                      0.01,
                      0,
                      0
                    ],
                    [
                      0.03,
                      0.01,
                      0,
                      0,
                      0,
                      0,
                      0,
                      0,
                      0,
                      0,
                      0,
                      0,
                      0,
                      0,
                      0,
                      0,
                      0,
                      0,
                      0,
                      0
                    ]
                  ]
                }
              ],
              "layout": {
                "annotations": [
                  {
                    "font": {
                      "color": "#000000"
                    },
                    "showarrow": false,
                    "text": "0.03",
                    "x": 0,
                    "xref": "x",
                    "y": 0,
                    "yref": "y"
                  },
                  {
                    "font": {
                      "color": "#FFFFFF"
                    },
                    "showarrow": false,
                    "text": "0.0",
                    "x": 1,
                    "xref": "x",
                    "y": 0,
                    "yref": "y"
                  },
                  {
                    "font": {
                      "color": "#FFFFFF"
                    },
                    "showarrow": false,
                    "text": "0.0",
                    "x": 2,
                    "xref": "x",
                    "y": 0,
                    "yref": "y"
                  },
                  {
                    "font": {
                      "color": "#FFFFFF"
                    },
                    "showarrow": false,
                    "text": "0.0",
                    "x": 3,
                    "xref": "x",
                    "y": 0,
                    "yref": "y"
                  },
                  {
                    "font": {
                      "color": "#FFFFFF"
                    },
                    "showarrow": false,
                    "text": "0.0",
                    "x": 4,
                    "xref": "x",
                    "y": 0,
                    "yref": "y"
                  },
                  {
                    "font": {
                      "color": "#FFFFFF"
                    },
                    "showarrow": false,
                    "text": "0.0",
                    "x": 5,
                    "xref": "x",
                    "y": 0,
                    "yref": "y"
                  },
                  {
                    "font": {
                      "color": "#FFFFFF"
                    },
                    "showarrow": false,
                    "text": "0.0",
                    "x": 6,
                    "xref": "x",
                    "y": 0,
                    "yref": "y"
                  },
                  {
                    "font": {
                      "color": "#FFFFFF"
                    },
                    "showarrow": false,
                    "text": "0.0",
                    "x": 7,
                    "xref": "x",
                    "y": 0,
                    "yref": "y"
                  },
                  {
                    "font": {
                      "color": "#FFFFFF"
                    },
                    "showarrow": false,
                    "text": "0.0",
                    "x": 8,
                    "xref": "x",
                    "y": 0,
                    "yref": "y"
                  },
                  {
                    "font": {
                      "color": "#FFFFFF"
                    },
                    "showarrow": false,
                    "text": "0.0",
                    "x": 9,
                    "xref": "x",
                    "y": 0,
                    "yref": "y"
                  },
                  {
                    "font": {
                      "color": "#FFFFFF"
                    },
                    "showarrow": false,
                    "text": "0.0",
                    "x": 10,
                    "xref": "x",
                    "y": 0,
                    "yref": "y"
                  },
                  {
                    "font": {
                      "color": "#FFFFFF"
                    },
                    "showarrow": false,
                    "text": "0.0",
                    "x": 11,
                    "xref": "x",
                    "y": 0,
                    "yref": "y"
                  },
                  {
                    "font": {
                      "color": "#FFFFFF"
                    },
                    "showarrow": false,
                    "text": "0.0",
                    "x": 12,
                    "xref": "x",
                    "y": 0,
                    "yref": "y"
                  },
                  {
                    "font": {
                      "color": "#FFFFFF"
                    },
                    "showarrow": false,
                    "text": "0.0",
                    "x": 13,
                    "xref": "x",
                    "y": 0,
                    "yref": "y"
                  },
                  {
                    "font": {
                      "color": "#FFFFFF"
                    },
                    "showarrow": false,
                    "text": "0.0",
                    "x": 14,
                    "xref": "x",
                    "y": 0,
                    "yref": "y"
                  },
                  {
                    "font": {
                      "color": "#FFFFFF"
                    },
                    "showarrow": false,
                    "text": "0.0",
                    "x": 15,
                    "xref": "x",
                    "y": 0,
                    "yref": "y"
                  },
                  {
                    "font": {
                      "color": "#FFFFFF"
                    },
                    "showarrow": false,
                    "text": "0.01",
                    "x": 16,
                    "xref": "x",
                    "y": 0,
                    "yref": "y"
                  },
                  {
                    "font": {
                      "color": "#FFFFFF"
                    },
                    "showarrow": false,
                    "text": "0.0",
                    "x": 17,
                    "xref": "x",
                    "y": 0,
                    "yref": "y"
                  },
                  {
                    "font": {
                      "color": "#FFFFFF"
                    },
                    "showarrow": false,
                    "text": "0.0",
                    "x": 18,
                    "xref": "x",
                    "y": 0,
                    "yref": "y"
                  },
                  {
                    "font": {
                      "color": "#FFFFFF"
                    },
                    "showarrow": false,
                    "text": "0.0",
                    "x": 19,
                    "xref": "x",
                    "y": 0,
                    "yref": "y"
                  },
                  {
                    "font": {
                      "color": "#000000"
                    },
                    "showarrow": false,
                    "text": "0.05",
                    "x": 0,
                    "xref": "x",
                    "y": 1,
                    "yref": "y"
                  },
                  {
                    "font": {
                      "color": "#FFFFFF"
                    },
                    "showarrow": false,
                    "text": "0.0",
                    "x": 1,
                    "xref": "x",
                    "y": 1,
                    "yref": "y"
                  },
                  {
                    "font": {
                      "color": "#FFFFFF"
                    },
                    "showarrow": false,
                    "text": "0.0",
                    "x": 2,
                    "xref": "x",
                    "y": 1,
                    "yref": "y"
                  },
                  {
                    "font": {
                      "color": "#FFFFFF"
                    },
                    "showarrow": false,
                    "text": "0.0",
                    "x": 3,
                    "xref": "x",
                    "y": 1,
                    "yref": "y"
                  },
                  {
                    "font": {
                      "color": "#FFFFFF"
                    },
                    "showarrow": false,
                    "text": "0.0",
                    "x": 4,
                    "xref": "x",
                    "y": 1,
                    "yref": "y"
                  },
                  {
                    "font": {
                      "color": "#FFFFFF"
                    },
                    "showarrow": false,
                    "text": "0.0",
                    "x": 5,
                    "xref": "x",
                    "y": 1,
                    "yref": "y"
                  },
                  {
                    "font": {
                      "color": "#FFFFFF"
                    },
                    "showarrow": false,
                    "text": "0.0",
                    "x": 6,
                    "xref": "x",
                    "y": 1,
                    "yref": "y"
                  },
                  {
                    "font": {
                      "color": "#FFFFFF"
                    },
                    "showarrow": false,
                    "text": "0.0",
                    "x": 7,
                    "xref": "x",
                    "y": 1,
                    "yref": "y"
                  },
                  {
                    "font": {
                      "color": "#FFFFFF"
                    },
                    "showarrow": false,
                    "text": "0.0",
                    "x": 8,
                    "xref": "x",
                    "y": 1,
                    "yref": "y"
                  },
                  {
                    "font": {
                      "color": "#FFFFFF"
                    },
                    "showarrow": false,
                    "text": "0.0",
                    "x": 9,
                    "xref": "x",
                    "y": 1,
                    "yref": "y"
                  },
                  {
                    "font": {
                      "color": "#FFFFFF"
                    },
                    "showarrow": false,
                    "text": "0.0",
                    "x": 10,
                    "xref": "x",
                    "y": 1,
                    "yref": "y"
                  },
                  {
                    "font": {
                      "color": "#FFFFFF"
                    },
                    "showarrow": false,
                    "text": "0.0",
                    "x": 11,
                    "xref": "x",
                    "y": 1,
                    "yref": "y"
                  },
                  {
                    "font": {
                      "color": "#FFFFFF"
                    },
                    "showarrow": false,
                    "text": "0.0",
                    "x": 12,
                    "xref": "x",
                    "y": 1,
                    "yref": "y"
                  },
                  {
                    "font": {
                      "color": "#FFFFFF"
                    },
                    "showarrow": false,
                    "text": "0.0",
                    "x": 13,
                    "xref": "x",
                    "y": 1,
                    "yref": "y"
                  },
                  {
                    "font": {
                      "color": "#FFFFFF"
                    },
                    "showarrow": false,
                    "text": "0.0",
                    "x": 14,
                    "xref": "x",
                    "y": 1,
                    "yref": "y"
                  },
                  {
                    "font": {
                      "color": "#FFFFFF"
                    },
                    "showarrow": false,
                    "text": "0.0",
                    "x": 15,
                    "xref": "x",
                    "y": 1,
                    "yref": "y"
                  },
                  {
                    "font": {
                      "color": "#FFFFFF"
                    },
                    "showarrow": false,
                    "text": "0.0",
                    "x": 16,
                    "xref": "x",
                    "y": 1,
                    "yref": "y"
                  },
                  {
                    "font": {
                      "color": "#FFFFFF"
                    },
                    "showarrow": false,
                    "text": "0.0",
                    "x": 17,
                    "xref": "x",
                    "y": 1,
                    "yref": "y"
                  },
                  {
                    "font": {
                      "color": "#FFFFFF"
                    },
                    "showarrow": false,
                    "text": "0.0",
                    "x": 18,
                    "xref": "x",
                    "y": 1,
                    "yref": "y"
                  },
                  {
                    "font": {
                      "color": "#FFFFFF"
                    },
                    "showarrow": false,
                    "text": "0.0",
                    "x": 19,
                    "xref": "x",
                    "y": 1,
                    "yref": "y"
                  },
                  {
                    "font": {
                      "color": "#000000"
                    },
                    "showarrow": false,
                    "text": "0.04",
                    "x": 0,
                    "xref": "x",
                    "y": 2,
                    "yref": "y"
                  },
                  {
                    "font": {
                      "color": "#FFFFFF"
                    },
                    "showarrow": false,
                    "text": "0.0",
                    "x": 1,
                    "xref": "x",
                    "y": 2,
                    "yref": "y"
                  },
                  {
                    "font": {
                      "color": "#FFFFFF"
                    },
                    "showarrow": false,
                    "text": "0.0",
                    "x": 2,
                    "xref": "x",
                    "y": 2,
                    "yref": "y"
                  },
                  {
                    "font": {
                      "color": "#FFFFFF"
                    },
                    "showarrow": false,
                    "text": "0.0",
                    "x": 3,
                    "xref": "x",
                    "y": 2,
                    "yref": "y"
                  },
                  {
                    "font": {
                      "color": "#FFFFFF"
                    },
                    "showarrow": false,
                    "text": "0.0",
                    "x": 4,
                    "xref": "x",
                    "y": 2,
                    "yref": "y"
                  },
                  {
                    "font": {
                      "color": "#FFFFFF"
                    },
                    "showarrow": false,
                    "text": "0.0",
                    "x": 5,
                    "xref": "x",
                    "y": 2,
                    "yref": "y"
                  },
                  {
                    "font": {
                      "color": "#FFFFFF"
                    },
                    "showarrow": false,
                    "text": "0.01",
                    "x": 6,
                    "xref": "x",
                    "y": 2,
                    "yref": "y"
                  },
                  {
                    "font": {
                      "color": "#FFFFFF"
                    },
                    "showarrow": false,
                    "text": "0.0",
                    "x": 7,
                    "xref": "x",
                    "y": 2,
                    "yref": "y"
                  },
                  {
                    "font": {
                      "color": "#FFFFFF"
                    },
                    "showarrow": false,
                    "text": "0.0",
                    "x": 8,
                    "xref": "x",
                    "y": 2,
                    "yref": "y"
                  },
                  {
                    "font": {
                      "color": "#FFFFFF"
                    },
                    "showarrow": false,
                    "text": "0.0",
                    "x": 9,
                    "xref": "x",
                    "y": 2,
                    "yref": "y"
                  },
                  {
                    "font": {
                      "color": "#FFFFFF"
                    },
                    "showarrow": false,
                    "text": "0.0",
                    "x": 10,
                    "xref": "x",
                    "y": 2,
                    "yref": "y"
                  },
                  {
                    "font": {
                      "color": "#FFFFFF"
                    },
                    "showarrow": false,
                    "text": "0.0",
                    "x": 11,
                    "xref": "x",
                    "y": 2,
                    "yref": "y"
                  },
                  {
                    "font": {
                      "color": "#FFFFFF"
                    },
                    "showarrow": false,
                    "text": "0.0",
                    "x": 12,
                    "xref": "x",
                    "y": 2,
                    "yref": "y"
                  },
                  {
                    "font": {
                      "color": "#FFFFFF"
                    },
                    "showarrow": false,
                    "text": "0.0",
                    "x": 13,
                    "xref": "x",
                    "y": 2,
                    "yref": "y"
                  },
                  {
                    "font": {
                      "color": "#FFFFFF"
                    },
                    "showarrow": false,
                    "text": "0.0",
                    "x": 14,
                    "xref": "x",
                    "y": 2,
                    "yref": "y"
                  },
                  {
                    "font": {
                      "color": "#FFFFFF"
                    },
                    "showarrow": false,
                    "text": "0.0",
                    "x": 15,
                    "xref": "x",
                    "y": 2,
                    "yref": "y"
                  },
                  {
                    "font": {
                      "color": "#FFFFFF"
                    },
                    "showarrow": false,
                    "text": "0.0",
                    "x": 16,
                    "xref": "x",
                    "y": 2,
                    "yref": "y"
                  },
                  {
                    "font": {
                      "color": "#FFFFFF"
                    },
                    "showarrow": false,
                    "text": "0.0",
                    "x": 17,
                    "xref": "x",
                    "y": 2,
                    "yref": "y"
                  },
                  {
                    "font": {
                      "color": "#FFFFFF"
                    },
                    "showarrow": false,
                    "text": "0.0",
                    "x": 18,
                    "xref": "x",
                    "y": 2,
                    "yref": "y"
                  },
                  {
                    "font": {
                      "color": "#FFFFFF"
                    },
                    "showarrow": false,
                    "text": "0.0",
                    "x": 19,
                    "xref": "x",
                    "y": 2,
                    "yref": "y"
                  },
                  {
                    "font": {
                      "color": "#000000"
                    },
                    "showarrow": false,
                    "text": "0.04",
                    "x": 0,
                    "xref": "x",
                    "y": 3,
                    "yref": "y"
                  },
                  {
                    "font": {
                      "color": "#FFFFFF"
                    },
                    "showarrow": false,
                    "text": "0.0",
                    "x": 1,
                    "xref": "x",
                    "y": 3,
                    "yref": "y"
                  },
                  {
                    "font": {
                      "color": "#FFFFFF"
                    },
                    "showarrow": false,
                    "text": "0.0",
                    "x": 2,
                    "xref": "x",
                    "y": 3,
                    "yref": "y"
                  },
                  {
                    "font": {
                      "color": "#FFFFFF"
                    },
                    "showarrow": false,
                    "text": "0.0",
                    "x": 3,
                    "xref": "x",
                    "y": 3,
                    "yref": "y"
                  },
                  {
                    "font": {
                      "color": "#FFFFFF"
                    },
                    "showarrow": false,
                    "text": "0.0",
                    "x": 4,
                    "xref": "x",
                    "y": 3,
                    "yref": "y"
                  },
                  {
                    "font": {
                      "color": "#FFFFFF"
                    },
                    "showarrow": false,
                    "text": "0.01",
                    "x": 5,
                    "xref": "x",
                    "y": 3,
                    "yref": "y"
                  },
                  {
                    "font": {
                      "color": "#FFFFFF"
                    },
                    "showarrow": false,
                    "text": "0.0",
                    "x": 6,
                    "xref": "x",
                    "y": 3,
                    "yref": "y"
                  },
                  {
                    "font": {
                      "color": "#FFFFFF"
                    },
                    "showarrow": false,
                    "text": "0.0",
                    "x": 7,
                    "xref": "x",
                    "y": 3,
                    "yref": "y"
                  },
                  {
                    "font": {
                      "color": "#FFFFFF"
                    },
                    "showarrow": false,
                    "text": "0.0",
                    "x": 8,
                    "xref": "x",
                    "y": 3,
                    "yref": "y"
                  },
                  {
                    "font": {
                      "color": "#FFFFFF"
                    },
                    "showarrow": false,
                    "text": "0.0",
                    "x": 9,
                    "xref": "x",
                    "y": 3,
                    "yref": "y"
                  },
                  {
                    "font": {
                      "color": "#FFFFFF"
                    },
                    "showarrow": false,
                    "text": "0.01",
                    "x": 10,
                    "xref": "x",
                    "y": 3,
                    "yref": "y"
                  },
                  {
                    "font": {
                      "color": "#FFFFFF"
                    },
                    "showarrow": false,
                    "text": "0.0",
                    "x": 11,
                    "xref": "x",
                    "y": 3,
                    "yref": "y"
                  },
                  {
                    "font": {
                      "color": "#FFFFFF"
                    },
                    "showarrow": false,
                    "text": "0.0",
                    "x": 12,
                    "xref": "x",
                    "y": 3,
                    "yref": "y"
                  },
                  {
                    "font": {
                      "color": "#FFFFFF"
                    },
                    "showarrow": false,
                    "text": "0.0",
                    "x": 13,
                    "xref": "x",
                    "y": 3,
                    "yref": "y"
                  },
                  {
                    "font": {
                      "color": "#FFFFFF"
                    },
                    "showarrow": false,
                    "text": "0.0",
                    "x": 14,
                    "xref": "x",
                    "y": 3,
                    "yref": "y"
                  },
                  {
                    "font": {
                      "color": "#FFFFFF"
                    },
                    "showarrow": false,
                    "text": "0.0",
                    "x": 15,
                    "xref": "x",
                    "y": 3,
                    "yref": "y"
                  },
                  {
                    "font": {
                      "color": "#FFFFFF"
                    },
                    "showarrow": false,
                    "text": "0.0",
                    "x": 16,
                    "xref": "x",
                    "y": 3,
                    "yref": "y"
                  },
                  {
                    "font": {
                      "color": "#FFFFFF"
                    },
                    "showarrow": false,
                    "text": "0.0",
                    "x": 17,
                    "xref": "x",
                    "y": 3,
                    "yref": "y"
                  },
                  {
                    "font": {
                      "color": "#FFFFFF"
                    },
                    "showarrow": false,
                    "text": "0.0",
                    "x": 18,
                    "xref": "x",
                    "y": 3,
                    "yref": "y"
                  },
                  {
                    "font": {
                      "color": "#FFFFFF"
                    },
                    "showarrow": false,
                    "text": "0.0",
                    "x": 19,
                    "xref": "x",
                    "y": 3,
                    "yref": "y"
                  },
                  {
                    "font": {
                      "color": "#000000"
                    },
                    "showarrow": false,
                    "text": "0.04",
                    "x": 0,
                    "xref": "x",
                    "y": 4,
                    "yref": "y"
                  },
                  {
                    "font": {
                      "color": "#FFFFFF"
                    },
                    "showarrow": false,
                    "text": "0.0",
                    "x": 1,
                    "xref": "x",
                    "y": 4,
                    "yref": "y"
                  },
                  {
                    "font": {
                      "color": "#FFFFFF"
                    },
                    "showarrow": false,
                    "text": "0.0",
                    "x": 2,
                    "xref": "x",
                    "y": 4,
                    "yref": "y"
                  },
                  {
                    "font": {
                      "color": "#FFFFFF"
                    },
                    "showarrow": false,
                    "text": "0.0",
                    "x": 3,
                    "xref": "x",
                    "y": 4,
                    "yref": "y"
                  },
                  {
                    "font": {
                      "color": "#FFFFFF"
                    },
                    "showarrow": false,
                    "text": "0.0",
                    "x": 4,
                    "xref": "x",
                    "y": 4,
                    "yref": "y"
                  },
                  {
                    "font": {
                      "color": "#FFFFFF"
                    },
                    "showarrow": false,
                    "text": "0.0",
                    "x": 5,
                    "xref": "x",
                    "y": 4,
                    "yref": "y"
                  },
                  {
                    "font": {
                      "color": "#FFFFFF"
                    },
                    "showarrow": false,
                    "text": "0.0",
                    "x": 6,
                    "xref": "x",
                    "y": 4,
                    "yref": "y"
                  },
                  {
                    "font": {
                      "color": "#FFFFFF"
                    },
                    "showarrow": false,
                    "text": "0.0",
                    "x": 7,
                    "xref": "x",
                    "y": 4,
                    "yref": "y"
                  },
                  {
                    "font": {
                      "color": "#FFFFFF"
                    },
                    "showarrow": false,
                    "text": "0.0",
                    "x": 8,
                    "xref": "x",
                    "y": 4,
                    "yref": "y"
                  },
                  {
                    "font": {
                      "color": "#FFFFFF"
                    },
                    "showarrow": false,
                    "text": "0.0",
                    "x": 9,
                    "xref": "x",
                    "y": 4,
                    "yref": "y"
                  },
                  {
                    "font": {
                      "color": "#FFFFFF"
                    },
                    "showarrow": false,
                    "text": "0.0",
                    "x": 10,
                    "xref": "x",
                    "y": 4,
                    "yref": "y"
                  },
                  {
                    "font": {
                      "color": "#FFFFFF"
                    },
                    "showarrow": false,
                    "text": "0.0",
                    "x": 11,
                    "xref": "x",
                    "y": 4,
                    "yref": "y"
                  },
                  {
                    "font": {
                      "color": "#FFFFFF"
                    },
                    "showarrow": false,
                    "text": "0.0",
                    "x": 12,
                    "xref": "x",
                    "y": 4,
                    "yref": "y"
                  },
                  {
                    "font": {
                      "color": "#FFFFFF"
                    },
                    "showarrow": false,
                    "text": "0.0",
                    "x": 13,
                    "xref": "x",
                    "y": 4,
                    "yref": "y"
                  },
                  {
                    "font": {
                      "color": "#FFFFFF"
                    },
                    "showarrow": false,
                    "text": "0.0",
                    "x": 14,
                    "xref": "x",
                    "y": 4,
                    "yref": "y"
                  },
                  {
                    "font": {
                      "color": "#FFFFFF"
                    },
                    "showarrow": false,
                    "text": "0.0",
                    "x": 15,
                    "xref": "x",
                    "y": 4,
                    "yref": "y"
                  },
                  {
                    "font": {
                      "color": "#FFFFFF"
                    },
                    "showarrow": false,
                    "text": "0.0",
                    "x": 16,
                    "xref": "x",
                    "y": 4,
                    "yref": "y"
                  },
                  {
                    "font": {
                      "color": "#FFFFFF"
                    },
                    "showarrow": false,
                    "text": "0.0",
                    "x": 17,
                    "xref": "x",
                    "y": 4,
                    "yref": "y"
                  },
                  {
                    "font": {
                      "color": "#FFFFFF"
                    },
                    "showarrow": false,
                    "text": "0.0",
                    "x": 18,
                    "xref": "x",
                    "y": 4,
                    "yref": "y"
                  },
                  {
                    "font": {
                      "color": "#FFFFFF"
                    },
                    "showarrow": false,
                    "text": "0.0",
                    "x": 19,
                    "xref": "x",
                    "y": 4,
                    "yref": "y"
                  },
                  {
                    "font": {
                      "color": "#000000"
                    },
                    "showarrow": false,
                    "text": "0.04",
                    "x": 0,
                    "xref": "x",
                    "y": 5,
                    "yref": "y"
                  },
                  {
                    "font": {
                      "color": "#FFFFFF"
                    },
                    "showarrow": false,
                    "text": "0.0",
                    "x": 1,
                    "xref": "x",
                    "y": 5,
                    "yref": "y"
                  },
                  {
                    "font": {
                      "color": "#FFFFFF"
                    },
                    "showarrow": false,
                    "text": "0.0",
                    "x": 2,
                    "xref": "x",
                    "y": 5,
                    "yref": "y"
                  },
                  {
                    "font": {
                      "color": "#FFFFFF"
                    },
                    "showarrow": false,
                    "text": "0.0",
                    "x": 3,
                    "xref": "x",
                    "y": 5,
                    "yref": "y"
                  },
                  {
                    "font": {
                      "color": "#FFFFFF"
                    },
                    "showarrow": false,
                    "text": "0.0",
                    "x": 4,
                    "xref": "x",
                    "y": 5,
                    "yref": "y"
                  },
                  {
                    "font": {
                      "color": "#FFFFFF"
                    },
                    "showarrow": false,
                    "text": "0.0",
                    "x": 5,
                    "xref": "x",
                    "y": 5,
                    "yref": "y"
                  },
                  {
                    "font": {
                      "color": "#FFFFFF"
                    },
                    "showarrow": false,
                    "text": "0.0",
                    "x": 6,
                    "xref": "x",
                    "y": 5,
                    "yref": "y"
                  },
                  {
                    "font": {
                      "color": "#FFFFFF"
                    },
                    "showarrow": false,
                    "text": "0.0",
                    "x": 7,
                    "xref": "x",
                    "y": 5,
                    "yref": "y"
                  },
                  {
                    "font": {
                      "color": "#FFFFFF"
                    },
                    "showarrow": false,
                    "text": "0.0",
                    "x": 8,
                    "xref": "x",
                    "y": 5,
                    "yref": "y"
                  },
                  {
                    "font": {
                      "color": "#FFFFFF"
                    },
                    "showarrow": false,
                    "text": "0.0",
                    "x": 9,
                    "xref": "x",
                    "y": 5,
                    "yref": "y"
                  },
                  {
                    "font": {
                      "color": "#FFFFFF"
                    },
                    "showarrow": false,
                    "text": "0.0",
                    "x": 10,
                    "xref": "x",
                    "y": 5,
                    "yref": "y"
                  },
                  {
                    "font": {
                      "color": "#FFFFFF"
                    },
                    "showarrow": false,
                    "text": "0.0",
                    "x": 11,
                    "xref": "x",
                    "y": 5,
                    "yref": "y"
                  },
                  {
                    "font": {
                      "color": "#FFFFFF"
                    },
                    "showarrow": false,
                    "text": "0.0",
                    "x": 12,
                    "xref": "x",
                    "y": 5,
                    "yref": "y"
                  },
                  {
                    "font": {
                      "color": "#FFFFFF"
                    },
                    "showarrow": false,
                    "text": "0.0",
                    "x": 13,
                    "xref": "x",
                    "y": 5,
                    "yref": "y"
                  },
                  {
                    "font": {
                      "color": "#FFFFFF"
                    },
                    "showarrow": false,
                    "text": "0.0",
                    "x": 14,
                    "xref": "x",
                    "y": 5,
                    "yref": "y"
                  },
                  {
                    "font": {
                      "color": "#FFFFFF"
                    },
                    "showarrow": false,
                    "text": "0.0",
                    "x": 15,
                    "xref": "x",
                    "y": 5,
                    "yref": "y"
                  },
                  {
                    "font": {
                      "color": "#FFFFFF"
                    },
                    "showarrow": false,
                    "text": "0.0",
                    "x": 16,
                    "xref": "x",
                    "y": 5,
                    "yref": "y"
                  },
                  {
                    "font": {
                      "color": "#FFFFFF"
                    },
                    "showarrow": false,
                    "text": "0.0",
                    "x": 17,
                    "xref": "x",
                    "y": 5,
                    "yref": "y"
                  },
                  {
                    "font": {
                      "color": "#FFFFFF"
                    },
                    "showarrow": false,
                    "text": "0.0",
                    "x": 18,
                    "xref": "x",
                    "y": 5,
                    "yref": "y"
                  },
                  {
                    "font": {
                      "color": "#FFFFFF"
                    },
                    "showarrow": false,
                    "text": "0.0",
                    "x": 19,
                    "xref": "x",
                    "y": 5,
                    "yref": "y"
                  },
                  {
                    "font": {
                      "color": "#000000"
                    },
                    "showarrow": false,
                    "text": "0.04",
                    "x": 0,
                    "xref": "x",
                    "y": 6,
                    "yref": "y"
                  },
                  {
                    "font": {
                      "color": "#FFFFFF"
                    },
                    "showarrow": false,
                    "text": "0.0",
                    "x": 1,
                    "xref": "x",
                    "y": 6,
                    "yref": "y"
                  },
                  {
                    "font": {
                      "color": "#FFFFFF"
                    },
                    "showarrow": false,
                    "text": "0.0",
                    "x": 2,
                    "xref": "x",
                    "y": 6,
                    "yref": "y"
                  },
                  {
                    "font": {
                      "color": "#FFFFFF"
                    },
                    "showarrow": false,
                    "text": "0.0",
                    "x": 3,
                    "xref": "x",
                    "y": 6,
                    "yref": "y"
                  },
                  {
                    "font": {
                      "color": "#FFFFFF"
                    },
                    "showarrow": false,
                    "text": "0.0",
                    "x": 4,
                    "xref": "x",
                    "y": 6,
                    "yref": "y"
                  },
                  {
                    "font": {
                      "color": "#FFFFFF"
                    },
                    "showarrow": false,
                    "text": "0.0",
                    "x": 5,
                    "xref": "x",
                    "y": 6,
                    "yref": "y"
                  },
                  {
                    "font": {
                      "color": "#FFFFFF"
                    },
                    "showarrow": false,
                    "text": "0.0",
                    "x": 6,
                    "xref": "x",
                    "y": 6,
                    "yref": "y"
                  },
                  {
                    "font": {
                      "color": "#FFFFFF"
                    },
                    "showarrow": false,
                    "text": "0.0",
                    "x": 7,
                    "xref": "x",
                    "y": 6,
                    "yref": "y"
                  },
                  {
                    "font": {
                      "color": "#FFFFFF"
                    },
                    "showarrow": false,
                    "text": "0.0",
                    "x": 8,
                    "xref": "x",
                    "y": 6,
                    "yref": "y"
                  },
                  {
                    "font": {
                      "color": "#FFFFFF"
                    },
                    "showarrow": false,
                    "text": "0.0",
                    "x": 9,
                    "xref": "x",
                    "y": 6,
                    "yref": "y"
                  },
                  {
                    "font": {
                      "color": "#FFFFFF"
                    },
                    "showarrow": false,
                    "text": "0.0",
                    "x": 10,
                    "xref": "x",
                    "y": 6,
                    "yref": "y"
                  },
                  {
                    "font": {
                      "color": "#FFFFFF"
                    },
                    "showarrow": false,
                    "text": "0.0",
                    "x": 11,
                    "xref": "x",
                    "y": 6,
                    "yref": "y"
                  },
                  {
                    "font": {
                      "color": "#FFFFFF"
                    },
                    "showarrow": false,
                    "text": "0.0",
                    "x": 12,
                    "xref": "x",
                    "y": 6,
                    "yref": "y"
                  },
                  {
                    "font": {
                      "color": "#FFFFFF"
                    },
                    "showarrow": false,
                    "text": "0.0",
                    "x": 13,
                    "xref": "x",
                    "y": 6,
                    "yref": "y"
                  },
                  {
                    "font": {
                      "color": "#FFFFFF"
                    },
                    "showarrow": false,
                    "text": "0.0",
                    "x": 14,
                    "xref": "x",
                    "y": 6,
                    "yref": "y"
                  },
                  {
                    "font": {
                      "color": "#FFFFFF"
                    },
                    "showarrow": false,
                    "text": "0.0",
                    "x": 15,
                    "xref": "x",
                    "y": 6,
                    "yref": "y"
                  },
                  {
                    "font": {
                      "color": "#FFFFFF"
                    },
                    "showarrow": false,
                    "text": "0.0",
                    "x": 16,
                    "xref": "x",
                    "y": 6,
                    "yref": "y"
                  },
                  {
                    "font": {
                      "color": "#FFFFFF"
                    },
                    "showarrow": false,
                    "text": "0.0",
                    "x": 17,
                    "xref": "x",
                    "y": 6,
                    "yref": "y"
                  },
                  {
                    "font": {
                      "color": "#FFFFFF"
                    },
                    "showarrow": false,
                    "text": "0.0",
                    "x": 18,
                    "xref": "x",
                    "y": 6,
                    "yref": "y"
                  },
                  {
                    "font": {
                      "color": "#FFFFFF"
                    },
                    "showarrow": false,
                    "text": "0.0",
                    "x": 19,
                    "xref": "x",
                    "y": 6,
                    "yref": "y"
                  },
                  {
                    "font": {
                      "color": "#000000"
                    },
                    "showarrow": false,
                    "text": "0.05",
                    "x": 0,
                    "xref": "x",
                    "y": 7,
                    "yref": "y"
                  },
                  {
                    "font": {
                      "color": "#FFFFFF"
                    },
                    "showarrow": false,
                    "text": "0.0",
                    "x": 1,
                    "xref": "x",
                    "y": 7,
                    "yref": "y"
                  },
                  {
                    "font": {
                      "color": "#FFFFFF"
                    },
                    "showarrow": false,
                    "text": "0.0",
                    "x": 2,
                    "xref": "x",
                    "y": 7,
                    "yref": "y"
                  },
                  {
                    "font": {
                      "color": "#FFFFFF"
                    },
                    "showarrow": false,
                    "text": "0.0",
                    "x": 3,
                    "xref": "x",
                    "y": 7,
                    "yref": "y"
                  },
                  {
                    "font": {
                      "color": "#FFFFFF"
                    },
                    "showarrow": false,
                    "text": "0.0",
                    "x": 4,
                    "xref": "x",
                    "y": 7,
                    "yref": "y"
                  },
                  {
                    "font": {
                      "color": "#FFFFFF"
                    },
                    "showarrow": false,
                    "text": "0.0",
                    "x": 5,
                    "xref": "x",
                    "y": 7,
                    "yref": "y"
                  },
                  {
                    "font": {
                      "color": "#FFFFFF"
                    },
                    "showarrow": false,
                    "text": "0.0",
                    "x": 6,
                    "xref": "x",
                    "y": 7,
                    "yref": "y"
                  },
                  {
                    "font": {
                      "color": "#FFFFFF"
                    },
                    "showarrow": false,
                    "text": "0.0",
                    "x": 7,
                    "xref": "x",
                    "y": 7,
                    "yref": "y"
                  },
                  {
                    "font": {
                      "color": "#FFFFFF"
                    },
                    "showarrow": false,
                    "text": "0.0",
                    "x": 8,
                    "xref": "x",
                    "y": 7,
                    "yref": "y"
                  },
                  {
                    "font": {
                      "color": "#FFFFFF"
                    },
                    "showarrow": false,
                    "text": "0.0",
                    "x": 9,
                    "xref": "x",
                    "y": 7,
                    "yref": "y"
                  },
                  {
                    "font": {
                      "color": "#FFFFFF"
                    },
                    "showarrow": false,
                    "text": "0.0",
                    "x": 10,
                    "xref": "x",
                    "y": 7,
                    "yref": "y"
                  },
                  {
                    "font": {
                      "color": "#FFFFFF"
                    },
                    "showarrow": false,
                    "text": "0.01",
                    "x": 11,
                    "xref": "x",
                    "y": 7,
                    "yref": "y"
                  },
                  {
                    "font": {
                      "color": "#FFFFFF"
                    },
                    "showarrow": false,
                    "text": "0.0",
                    "x": 12,
                    "xref": "x",
                    "y": 7,
                    "yref": "y"
                  },
                  {
                    "font": {
                      "color": "#FFFFFF"
                    },
                    "showarrow": false,
                    "text": "0.0",
                    "x": 13,
                    "xref": "x",
                    "y": 7,
                    "yref": "y"
                  },
                  {
                    "font": {
                      "color": "#FFFFFF"
                    },
                    "showarrow": false,
                    "text": "0.0",
                    "x": 14,
                    "xref": "x",
                    "y": 7,
                    "yref": "y"
                  },
                  {
                    "font": {
                      "color": "#FFFFFF"
                    },
                    "showarrow": false,
                    "text": "0.0",
                    "x": 15,
                    "xref": "x",
                    "y": 7,
                    "yref": "y"
                  },
                  {
                    "font": {
                      "color": "#FFFFFF"
                    },
                    "showarrow": false,
                    "text": "0.0",
                    "x": 16,
                    "xref": "x",
                    "y": 7,
                    "yref": "y"
                  },
                  {
                    "font": {
                      "color": "#FFFFFF"
                    },
                    "showarrow": false,
                    "text": "0.0",
                    "x": 17,
                    "xref": "x",
                    "y": 7,
                    "yref": "y"
                  },
                  {
                    "font": {
                      "color": "#FFFFFF"
                    },
                    "showarrow": false,
                    "text": "0.0",
                    "x": 18,
                    "xref": "x",
                    "y": 7,
                    "yref": "y"
                  },
                  {
                    "font": {
                      "color": "#FFFFFF"
                    },
                    "showarrow": false,
                    "text": "0.0",
                    "x": 19,
                    "xref": "x",
                    "y": 7,
                    "yref": "y"
                  },
                  {
                    "font": {
                      "color": "#000000"
                    },
                    "showarrow": false,
                    "text": "0.05",
                    "x": 0,
                    "xref": "x",
                    "y": 8,
                    "yref": "y"
                  },
                  {
                    "font": {
                      "color": "#FFFFFF"
                    },
                    "showarrow": false,
                    "text": "0.0",
                    "x": 1,
                    "xref": "x",
                    "y": 8,
                    "yref": "y"
                  },
                  {
                    "font": {
                      "color": "#FFFFFF"
                    },
                    "showarrow": false,
                    "text": "0.0",
                    "x": 2,
                    "xref": "x",
                    "y": 8,
                    "yref": "y"
                  },
                  {
                    "font": {
                      "color": "#FFFFFF"
                    },
                    "showarrow": false,
                    "text": "0.0",
                    "x": 3,
                    "xref": "x",
                    "y": 8,
                    "yref": "y"
                  },
                  {
                    "font": {
                      "color": "#FFFFFF"
                    },
                    "showarrow": false,
                    "text": "0.0",
                    "x": 4,
                    "xref": "x",
                    "y": 8,
                    "yref": "y"
                  },
                  {
                    "font": {
                      "color": "#FFFFFF"
                    },
                    "showarrow": false,
                    "text": "0.0",
                    "x": 5,
                    "xref": "x",
                    "y": 8,
                    "yref": "y"
                  },
                  {
                    "font": {
                      "color": "#FFFFFF"
                    },
                    "showarrow": false,
                    "text": "0.0",
                    "x": 6,
                    "xref": "x",
                    "y": 8,
                    "yref": "y"
                  },
                  {
                    "font": {
                      "color": "#FFFFFF"
                    },
                    "showarrow": false,
                    "text": "0.0",
                    "x": 7,
                    "xref": "x",
                    "y": 8,
                    "yref": "y"
                  },
                  {
                    "font": {
                      "color": "#FFFFFF"
                    },
                    "showarrow": false,
                    "text": "0.0",
                    "x": 8,
                    "xref": "x",
                    "y": 8,
                    "yref": "y"
                  },
                  {
                    "font": {
                      "color": "#FFFFFF"
                    },
                    "showarrow": false,
                    "text": "0.0",
                    "x": 9,
                    "xref": "x",
                    "y": 8,
                    "yref": "y"
                  },
                  {
                    "font": {
                      "color": "#FFFFFF"
                    },
                    "showarrow": false,
                    "text": "0.0",
                    "x": 10,
                    "xref": "x",
                    "y": 8,
                    "yref": "y"
                  },
                  {
                    "font": {
                      "color": "#FFFFFF"
                    },
                    "showarrow": false,
                    "text": "0.0",
                    "x": 11,
                    "xref": "x",
                    "y": 8,
                    "yref": "y"
                  },
                  {
                    "font": {
                      "color": "#FFFFFF"
                    },
                    "showarrow": false,
                    "text": "0.0",
                    "x": 12,
                    "xref": "x",
                    "y": 8,
                    "yref": "y"
                  },
                  {
                    "font": {
                      "color": "#FFFFFF"
                    },
                    "showarrow": false,
                    "text": "0.0",
                    "x": 13,
                    "xref": "x",
                    "y": 8,
                    "yref": "y"
                  },
                  {
                    "font": {
                      "color": "#FFFFFF"
                    },
                    "showarrow": false,
                    "text": "0.0",
                    "x": 14,
                    "xref": "x",
                    "y": 8,
                    "yref": "y"
                  },
                  {
                    "font": {
                      "color": "#FFFFFF"
                    },
                    "showarrow": false,
                    "text": "0.0",
                    "x": 15,
                    "xref": "x",
                    "y": 8,
                    "yref": "y"
                  },
                  {
                    "font": {
                      "color": "#FFFFFF"
                    },
                    "showarrow": false,
                    "text": "0.0",
                    "x": 16,
                    "xref": "x",
                    "y": 8,
                    "yref": "y"
                  },
                  {
                    "font": {
                      "color": "#FFFFFF"
                    },
                    "showarrow": false,
                    "text": "0.0",
                    "x": 17,
                    "xref": "x",
                    "y": 8,
                    "yref": "y"
                  },
                  {
                    "font": {
                      "color": "#FFFFFF"
                    },
                    "showarrow": false,
                    "text": "0.0",
                    "x": 18,
                    "xref": "x",
                    "y": 8,
                    "yref": "y"
                  },
                  {
                    "font": {
                      "color": "#FFFFFF"
                    },
                    "showarrow": false,
                    "text": "0.0",
                    "x": 19,
                    "xref": "x",
                    "y": 8,
                    "yref": "y"
                  },
                  {
                    "font": {
                      "color": "#000000"
                    },
                    "showarrow": false,
                    "text": "0.05",
                    "x": 0,
                    "xref": "x",
                    "y": 9,
                    "yref": "y"
                  },
                  {
                    "font": {
                      "color": "#FFFFFF"
                    },
                    "showarrow": false,
                    "text": "0.0",
                    "x": 1,
                    "xref": "x",
                    "y": 9,
                    "yref": "y"
                  },
                  {
                    "font": {
                      "color": "#FFFFFF"
                    },
                    "showarrow": false,
                    "text": "0.0",
                    "x": 2,
                    "xref": "x",
                    "y": 9,
                    "yref": "y"
                  },
                  {
                    "font": {
                      "color": "#FFFFFF"
                    },
                    "showarrow": false,
                    "text": "0.0",
                    "x": 3,
                    "xref": "x",
                    "y": 9,
                    "yref": "y"
                  },
                  {
                    "font": {
                      "color": "#FFFFFF"
                    },
                    "showarrow": false,
                    "text": "0.0",
                    "x": 4,
                    "xref": "x",
                    "y": 9,
                    "yref": "y"
                  },
                  {
                    "font": {
                      "color": "#FFFFFF"
                    },
                    "showarrow": false,
                    "text": "0.0",
                    "x": 5,
                    "xref": "x",
                    "y": 9,
                    "yref": "y"
                  },
                  {
                    "font": {
                      "color": "#FFFFFF"
                    },
                    "showarrow": false,
                    "text": "0.0",
                    "x": 6,
                    "xref": "x",
                    "y": 9,
                    "yref": "y"
                  },
                  {
                    "font": {
                      "color": "#FFFFFF"
                    },
                    "showarrow": false,
                    "text": "0.0",
                    "x": 7,
                    "xref": "x",
                    "y": 9,
                    "yref": "y"
                  },
                  {
                    "font": {
                      "color": "#FFFFFF"
                    },
                    "showarrow": false,
                    "text": "0.0",
                    "x": 8,
                    "xref": "x",
                    "y": 9,
                    "yref": "y"
                  },
                  {
                    "font": {
                      "color": "#FFFFFF"
                    },
                    "showarrow": false,
                    "text": "0.0",
                    "x": 9,
                    "xref": "x",
                    "y": 9,
                    "yref": "y"
                  },
                  {
                    "font": {
                      "color": "#FFFFFF"
                    },
                    "showarrow": false,
                    "text": "0.0",
                    "x": 10,
                    "xref": "x",
                    "y": 9,
                    "yref": "y"
                  },
                  {
                    "font": {
                      "color": "#FFFFFF"
                    },
                    "showarrow": false,
                    "text": "0.0",
                    "x": 11,
                    "xref": "x",
                    "y": 9,
                    "yref": "y"
                  },
                  {
                    "font": {
                      "color": "#FFFFFF"
                    },
                    "showarrow": false,
                    "text": "0.0",
                    "x": 12,
                    "xref": "x",
                    "y": 9,
                    "yref": "y"
                  },
                  {
                    "font": {
                      "color": "#FFFFFF"
                    },
                    "showarrow": false,
                    "text": "0.0",
                    "x": 13,
                    "xref": "x",
                    "y": 9,
                    "yref": "y"
                  },
                  {
                    "font": {
                      "color": "#FFFFFF"
                    },
                    "showarrow": false,
                    "text": "0.0",
                    "x": 14,
                    "xref": "x",
                    "y": 9,
                    "yref": "y"
                  },
                  {
                    "font": {
                      "color": "#FFFFFF"
                    },
                    "showarrow": false,
                    "text": "0.0",
                    "x": 15,
                    "xref": "x",
                    "y": 9,
                    "yref": "y"
                  },
                  {
                    "font": {
                      "color": "#FFFFFF"
                    },
                    "showarrow": false,
                    "text": "0.0",
                    "x": 16,
                    "xref": "x",
                    "y": 9,
                    "yref": "y"
                  },
                  {
                    "font": {
                      "color": "#FFFFFF"
                    },
                    "showarrow": false,
                    "text": "0.0",
                    "x": 17,
                    "xref": "x",
                    "y": 9,
                    "yref": "y"
                  },
                  {
                    "font": {
                      "color": "#FFFFFF"
                    },
                    "showarrow": false,
                    "text": "0.0",
                    "x": 18,
                    "xref": "x",
                    "y": 9,
                    "yref": "y"
                  },
                  {
                    "font": {
                      "color": "#FFFFFF"
                    },
                    "showarrow": false,
                    "text": "0.0",
                    "x": 19,
                    "xref": "x",
                    "y": 9,
                    "yref": "y"
                  },
                  {
                    "font": {
                      "color": "#000000"
                    },
                    "showarrow": false,
                    "text": "0.04",
                    "x": 0,
                    "xref": "x",
                    "y": 10,
                    "yref": "y"
                  },
                  {
                    "font": {
                      "color": "#FFFFFF"
                    },
                    "showarrow": false,
                    "text": "0.0",
                    "x": 1,
                    "xref": "x",
                    "y": 10,
                    "yref": "y"
                  },
                  {
                    "font": {
                      "color": "#FFFFFF"
                    },
                    "showarrow": false,
                    "text": "0.0",
                    "x": 2,
                    "xref": "x",
                    "y": 10,
                    "yref": "y"
                  },
                  {
                    "font": {
                      "color": "#FFFFFF"
                    },
                    "showarrow": false,
                    "text": "0.0",
                    "x": 3,
                    "xref": "x",
                    "y": 10,
                    "yref": "y"
                  },
                  {
                    "font": {
                      "color": "#FFFFFF"
                    },
                    "showarrow": false,
                    "text": "0.01",
                    "x": 4,
                    "xref": "x",
                    "y": 10,
                    "yref": "y"
                  },
                  {
                    "font": {
                      "color": "#FFFFFF"
                    },
                    "showarrow": false,
                    "text": "0.0",
                    "x": 5,
                    "xref": "x",
                    "y": 10,
                    "yref": "y"
                  },
                  {
                    "font": {
                      "color": "#FFFFFF"
                    },
                    "showarrow": false,
                    "text": "0.0",
                    "x": 6,
                    "xref": "x",
                    "y": 10,
                    "yref": "y"
                  },
                  {
                    "font": {
                      "color": "#FFFFFF"
                    },
                    "showarrow": false,
                    "text": "0.0",
                    "x": 7,
                    "xref": "x",
                    "y": 10,
                    "yref": "y"
                  },
                  {
                    "font": {
                      "color": "#FFFFFF"
                    },
                    "showarrow": false,
                    "text": "0.0",
                    "x": 8,
                    "xref": "x",
                    "y": 10,
                    "yref": "y"
                  },
                  {
                    "font": {
                      "color": "#FFFFFF"
                    },
                    "showarrow": false,
                    "text": "0.0",
                    "x": 9,
                    "xref": "x",
                    "y": 10,
                    "yref": "y"
                  },
                  {
                    "font": {
                      "color": "#FFFFFF"
                    },
                    "showarrow": false,
                    "text": "0.0",
                    "x": 10,
                    "xref": "x",
                    "y": 10,
                    "yref": "y"
                  },
                  {
                    "font": {
                      "color": "#FFFFFF"
                    },
                    "showarrow": false,
                    "text": "0.0",
                    "x": 11,
                    "xref": "x",
                    "y": 10,
                    "yref": "y"
                  },
                  {
                    "font": {
                      "color": "#FFFFFF"
                    },
                    "showarrow": false,
                    "text": "0.0",
                    "x": 12,
                    "xref": "x",
                    "y": 10,
                    "yref": "y"
                  },
                  {
                    "font": {
                      "color": "#FFFFFF"
                    },
                    "showarrow": false,
                    "text": "0.0",
                    "x": 13,
                    "xref": "x",
                    "y": 10,
                    "yref": "y"
                  },
                  {
                    "font": {
                      "color": "#FFFFFF"
                    },
                    "showarrow": false,
                    "text": "0.0",
                    "x": 14,
                    "xref": "x",
                    "y": 10,
                    "yref": "y"
                  },
                  {
                    "font": {
                      "color": "#FFFFFF"
                    },
                    "showarrow": false,
                    "text": "0.0",
                    "x": 15,
                    "xref": "x",
                    "y": 10,
                    "yref": "y"
                  },
                  {
                    "font": {
                      "color": "#FFFFFF"
                    },
                    "showarrow": false,
                    "text": "0.0",
                    "x": 16,
                    "xref": "x",
                    "y": 10,
                    "yref": "y"
                  },
                  {
                    "font": {
                      "color": "#FFFFFF"
                    },
                    "showarrow": false,
                    "text": "0.0",
                    "x": 17,
                    "xref": "x",
                    "y": 10,
                    "yref": "y"
                  },
                  {
                    "font": {
                      "color": "#FFFFFF"
                    },
                    "showarrow": false,
                    "text": "0.0",
                    "x": 18,
                    "xref": "x",
                    "y": 10,
                    "yref": "y"
                  },
                  {
                    "font": {
                      "color": "#FFFFFF"
                    },
                    "showarrow": false,
                    "text": "0.0",
                    "x": 19,
                    "xref": "x",
                    "y": 10,
                    "yref": "y"
                  },
                  {
                    "font": {
                      "color": "#000000"
                    },
                    "showarrow": false,
                    "text": "0.03",
                    "x": 0,
                    "xref": "x",
                    "y": 11,
                    "yref": "y"
                  },
                  {
                    "font": {
                      "color": "#FFFFFF"
                    },
                    "showarrow": false,
                    "text": "0.0",
                    "x": 1,
                    "xref": "x",
                    "y": 11,
                    "yref": "y"
                  },
                  {
                    "font": {
                      "color": "#FFFFFF"
                    },
                    "showarrow": false,
                    "text": "0.02",
                    "x": 2,
                    "xref": "x",
                    "y": 11,
                    "yref": "y"
                  },
                  {
                    "font": {
                      "color": "#FFFFFF"
                    },
                    "showarrow": false,
                    "text": "0.0",
                    "x": 3,
                    "xref": "x",
                    "y": 11,
                    "yref": "y"
                  },
                  {
                    "font": {
                      "color": "#FFFFFF"
                    },
                    "showarrow": false,
                    "text": "0.0",
                    "x": 4,
                    "xref": "x",
                    "y": 11,
                    "yref": "y"
                  },
                  {
                    "font": {
                      "color": "#FFFFFF"
                    },
                    "showarrow": false,
                    "text": "0.0",
                    "x": 5,
                    "xref": "x",
                    "y": 11,
                    "yref": "y"
                  },
                  {
                    "font": {
                      "color": "#FFFFFF"
                    },
                    "showarrow": false,
                    "text": "0.0",
                    "x": 6,
                    "xref": "x",
                    "y": 11,
                    "yref": "y"
                  },
                  {
                    "font": {
                      "color": "#FFFFFF"
                    },
                    "showarrow": false,
                    "text": "0.0",
                    "x": 7,
                    "xref": "x",
                    "y": 11,
                    "yref": "y"
                  },
                  {
                    "font": {
                      "color": "#FFFFFF"
                    },
                    "showarrow": false,
                    "text": "0.0",
                    "x": 8,
                    "xref": "x",
                    "y": 11,
                    "yref": "y"
                  },
                  {
                    "font": {
                      "color": "#FFFFFF"
                    },
                    "showarrow": false,
                    "text": "0.0",
                    "x": 9,
                    "xref": "x",
                    "y": 11,
                    "yref": "y"
                  },
                  {
                    "font": {
                      "color": "#FFFFFF"
                    },
                    "showarrow": false,
                    "text": "0.0",
                    "x": 10,
                    "xref": "x",
                    "y": 11,
                    "yref": "y"
                  },
                  {
                    "font": {
                      "color": "#FFFFFF"
                    },
                    "showarrow": false,
                    "text": "0.0",
                    "x": 11,
                    "xref": "x",
                    "y": 11,
                    "yref": "y"
                  },
                  {
                    "font": {
                      "color": "#FFFFFF"
                    },
                    "showarrow": false,
                    "text": "0.0",
                    "x": 12,
                    "xref": "x",
                    "y": 11,
                    "yref": "y"
                  },
                  {
                    "font": {
                      "color": "#FFFFFF"
                    },
                    "showarrow": false,
                    "text": "0.0",
                    "x": 13,
                    "xref": "x",
                    "y": 11,
                    "yref": "y"
                  },
                  {
                    "font": {
                      "color": "#FFFFFF"
                    },
                    "showarrow": false,
                    "text": "0.0",
                    "x": 14,
                    "xref": "x",
                    "y": 11,
                    "yref": "y"
                  },
                  {
                    "font": {
                      "color": "#FFFFFF"
                    },
                    "showarrow": false,
                    "text": "0.0",
                    "x": 15,
                    "xref": "x",
                    "y": 11,
                    "yref": "y"
                  },
                  {
                    "font": {
                      "color": "#FFFFFF"
                    },
                    "showarrow": false,
                    "text": "0.0",
                    "x": 16,
                    "xref": "x",
                    "y": 11,
                    "yref": "y"
                  },
                  {
                    "font": {
                      "color": "#FFFFFF"
                    },
                    "showarrow": false,
                    "text": "0.0",
                    "x": 17,
                    "xref": "x",
                    "y": 11,
                    "yref": "y"
                  },
                  {
                    "font": {
                      "color": "#FFFFFF"
                    },
                    "showarrow": false,
                    "text": "0.0",
                    "x": 18,
                    "xref": "x",
                    "y": 11,
                    "yref": "y"
                  },
                  {
                    "font": {
                      "color": "#FFFFFF"
                    },
                    "showarrow": false,
                    "text": "0.0",
                    "x": 19,
                    "xref": "x",
                    "y": 11,
                    "yref": "y"
                  },
                  {
                    "font": {
                      "color": "#000000"
                    },
                    "showarrow": false,
                    "text": "0.05",
                    "x": 0,
                    "xref": "x",
                    "y": 12,
                    "yref": "y"
                  },
                  {
                    "font": {
                      "color": "#FFFFFF"
                    },
                    "showarrow": false,
                    "text": "0.0",
                    "x": 1,
                    "xref": "x",
                    "y": 12,
                    "yref": "y"
                  },
                  {
                    "font": {
                      "color": "#FFFFFF"
                    },
                    "showarrow": false,
                    "text": "0.0",
                    "x": 2,
                    "xref": "x",
                    "y": 12,
                    "yref": "y"
                  },
                  {
                    "font": {
                      "color": "#FFFFFF"
                    },
                    "showarrow": false,
                    "text": "0.0",
                    "x": 3,
                    "xref": "x",
                    "y": 12,
                    "yref": "y"
                  },
                  {
                    "font": {
                      "color": "#FFFFFF"
                    },
                    "showarrow": false,
                    "text": "0.0",
                    "x": 4,
                    "xref": "x",
                    "y": 12,
                    "yref": "y"
                  },
                  {
                    "font": {
                      "color": "#FFFFFF"
                    },
                    "showarrow": false,
                    "text": "0.0",
                    "x": 5,
                    "xref": "x",
                    "y": 12,
                    "yref": "y"
                  },
                  {
                    "font": {
                      "color": "#FFFFFF"
                    },
                    "showarrow": false,
                    "text": "0.0",
                    "x": 6,
                    "xref": "x",
                    "y": 12,
                    "yref": "y"
                  },
                  {
                    "font": {
                      "color": "#FFFFFF"
                    },
                    "showarrow": false,
                    "text": "0.0",
                    "x": 7,
                    "xref": "x",
                    "y": 12,
                    "yref": "y"
                  },
                  {
                    "font": {
                      "color": "#FFFFFF"
                    },
                    "showarrow": false,
                    "text": "0.0",
                    "x": 8,
                    "xref": "x",
                    "y": 12,
                    "yref": "y"
                  },
                  {
                    "font": {
                      "color": "#FFFFFF"
                    },
                    "showarrow": false,
                    "text": "0.0",
                    "x": 9,
                    "xref": "x",
                    "y": 12,
                    "yref": "y"
                  },
                  {
                    "font": {
                      "color": "#FFFFFF"
                    },
                    "showarrow": false,
                    "text": "0.0",
                    "x": 10,
                    "xref": "x",
                    "y": 12,
                    "yref": "y"
                  },
                  {
                    "font": {
                      "color": "#FFFFFF"
                    },
                    "showarrow": false,
                    "text": "0.0",
                    "x": 11,
                    "xref": "x",
                    "y": 12,
                    "yref": "y"
                  },
                  {
                    "font": {
                      "color": "#FFFFFF"
                    },
                    "showarrow": false,
                    "text": "0.0",
                    "x": 12,
                    "xref": "x",
                    "y": 12,
                    "yref": "y"
                  },
                  {
                    "font": {
                      "color": "#FFFFFF"
                    },
                    "showarrow": false,
                    "text": "0.0",
                    "x": 13,
                    "xref": "x",
                    "y": 12,
                    "yref": "y"
                  },
                  {
                    "font": {
                      "color": "#FFFFFF"
                    },
                    "showarrow": false,
                    "text": "0.0",
                    "x": 14,
                    "xref": "x",
                    "y": 12,
                    "yref": "y"
                  },
                  {
                    "font": {
                      "color": "#FFFFFF"
                    },
                    "showarrow": false,
                    "text": "0.0",
                    "x": 15,
                    "xref": "x",
                    "y": 12,
                    "yref": "y"
                  },
                  {
                    "font": {
                      "color": "#FFFFFF"
                    },
                    "showarrow": false,
                    "text": "0.0",
                    "x": 16,
                    "xref": "x",
                    "y": 12,
                    "yref": "y"
                  },
                  {
                    "font": {
                      "color": "#FFFFFF"
                    },
                    "showarrow": false,
                    "text": "0.0",
                    "x": 17,
                    "xref": "x",
                    "y": 12,
                    "yref": "y"
                  },
                  {
                    "font": {
                      "color": "#FFFFFF"
                    },
                    "showarrow": false,
                    "text": "0.0",
                    "x": 18,
                    "xref": "x",
                    "y": 12,
                    "yref": "y"
                  },
                  {
                    "font": {
                      "color": "#FFFFFF"
                    },
                    "showarrow": false,
                    "text": "0.0",
                    "x": 19,
                    "xref": "x",
                    "y": 12,
                    "yref": "y"
                  },
                  {
                    "font": {
                      "color": "#000000"
                    },
                    "showarrow": false,
                    "text": "0.04",
                    "x": 0,
                    "xref": "x",
                    "y": 13,
                    "yref": "y"
                  },
                  {
                    "font": {
                      "color": "#FFFFFF"
                    },
                    "showarrow": false,
                    "text": "0.0",
                    "x": 1,
                    "xref": "x",
                    "y": 13,
                    "yref": "y"
                  },
                  {
                    "font": {
                      "color": "#FFFFFF"
                    },
                    "showarrow": false,
                    "text": "0.0",
                    "x": 2,
                    "xref": "x",
                    "y": 13,
                    "yref": "y"
                  },
                  {
                    "font": {
                      "color": "#FFFFFF"
                    },
                    "showarrow": false,
                    "text": "0.0",
                    "x": 3,
                    "xref": "x",
                    "y": 13,
                    "yref": "y"
                  },
                  {
                    "font": {
                      "color": "#FFFFFF"
                    },
                    "showarrow": false,
                    "text": "0.0",
                    "x": 4,
                    "xref": "x",
                    "y": 13,
                    "yref": "y"
                  },
                  {
                    "font": {
                      "color": "#FFFFFF"
                    },
                    "showarrow": false,
                    "text": "0.0",
                    "x": 5,
                    "xref": "x",
                    "y": 13,
                    "yref": "y"
                  },
                  {
                    "font": {
                      "color": "#FFFFFF"
                    },
                    "showarrow": false,
                    "text": "0.0",
                    "x": 6,
                    "xref": "x",
                    "y": 13,
                    "yref": "y"
                  },
                  {
                    "font": {
                      "color": "#FFFFFF"
                    },
                    "showarrow": false,
                    "text": "0.0",
                    "x": 7,
                    "xref": "x",
                    "y": 13,
                    "yref": "y"
                  },
                  {
                    "font": {
                      "color": "#FFFFFF"
                    },
                    "showarrow": false,
                    "text": "0.0",
                    "x": 8,
                    "xref": "x",
                    "y": 13,
                    "yref": "y"
                  },
                  {
                    "font": {
                      "color": "#FFFFFF"
                    },
                    "showarrow": false,
                    "text": "0.0",
                    "x": 9,
                    "xref": "x",
                    "y": 13,
                    "yref": "y"
                  },
                  {
                    "font": {
                      "color": "#FFFFFF"
                    },
                    "showarrow": false,
                    "text": "0.0",
                    "x": 10,
                    "xref": "x",
                    "y": 13,
                    "yref": "y"
                  },
                  {
                    "font": {
                      "color": "#FFFFFF"
                    },
                    "showarrow": false,
                    "text": "0.0",
                    "x": 11,
                    "xref": "x",
                    "y": 13,
                    "yref": "y"
                  },
                  {
                    "font": {
                      "color": "#FFFFFF"
                    },
                    "showarrow": false,
                    "text": "0.0",
                    "x": 12,
                    "xref": "x",
                    "y": 13,
                    "yref": "y"
                  },
                  {
                    "font": {
                      "color": "#FFFFFF"
                    },
                    "showarrow": false,
                    "text": "0.0",
                    "x": 13,
                    "xref": "x",
                    "y": 13,
                    "yref": "y"
                  },
                  {
                    "font": {
                      "color": "#FFFFFF"
                    },
                    "showarrow": false,
                    "text": "0.01",
                    "x": 14,
                    "xref": "x",
                    "y": 13,
                    "yref": "y"
                  },
                  {
                    "font": {
                      "color": "#FFFFFF"
                    },
                    "showarrow": false,
                    "text": "0.0",
                    "x": 15,
                    "xref": "x",
                    "y": 13,
                    "yref": "y"
                  },
                  {
                    "font": {
                      "color": "#FFFFFF"
                    },
                    "showarrow": false,
                    "text": "0.0",
                    "x": 16,
                    "xref": "x",
                    "y": 13,
                    "yref": "y"
                  },
                  {
                    "font": {
                      "color": "#FFFFFF"
                    },
                    "showarrow": false,
                    "text": "0.0",
                    "x": 17,
                    "xref": "x",
                    "y": 13,
                    "yref": "y"
                  },
                  {
                    "font": {
                      "color": "#FFFFFF"
                    },
                    "showarrow": false,
                    "text": "0.0",
                    "x": 18,
                    "xref": "x",
                    "y": 13,
                    "yref": "y"
                  },
                  {
                    "font": {
                      "color": "#FFFFFF"
                    },
                    "showarrow": false,
                    "text": "0.0",
                    "x": 19,
                    "xref": "x",
                    "y": 13,
                    "yref": "y"
                  },
                  {
                    "font": {
                      "color": "#000000"
                    },
                    "showarrow": false,
                    "text": "0.05",
                    "x": 0,
                    "xref": "x",
                    "y": 14,
                    "yref": "y"
                  },
                  {
                    "font": {
                      "color": "#FFFFFF"
                    },
                    "showarrow": false,
                    "text": "0.0",
                    "x": 1,
                    "xref": "x",
                    "y": 14,
                    "yref": "y"
                  },
                  {
                    "font": {
                      "color": "#FFFFFF"
                    },
                    "showarrow": false,
                    "text": "0.0",
                    "x": 2,
                    "xref": "x",
                    "y": 14,
                    "yref": "y"
                  },
                  {
                    "font": {
                      "color": "#FFFFFF"
                    },
                    "showarrow": false,
                    "text": "0.0",
                    "x": 3,
                    "xref": "x",
                    "y": 14,
                    "yref": "y"
                  },
                  {
                    "font": {
                      "color": "#FFFFFF"
                    },
                    "showarrow": false,
                    "text": "0.0",
                    "x": 4,
                    "xref": "x",
                    "y": 14,
                    "yref": "y"
                  },
                  {
                    "font": {
                      "color": "#FFFFFF"
                    },
                    "showarrow": false,
                    "text": "0.0",
                    "x": 5,
                    "xref": "x",
                    "y": 14,
                    "yref": "y"
                  },
                  {
                    "font": {
                      "color": "#FFFFFF"
                    },
                    "showarrow": false,
                    "text": "0.0",
                    "x": 6,
                    "xref": "x",
                    "y": 14,
                    "yref": "y"
                  },
                  {
                    "font": {
                      "color": "#FFFFFF"
                    },
                    "showarrow": false,
                    "text": "0.0",
                    "x": 7,
                    "xref": "x",
                    "y": 14,
                    "yref": "y"
                  },
                  {
                    "font": {
                      "color": "#FFFFFF"
                    },
                    "showarrow": false,
                    "text": "0.0",
                    "x": 8,
                    "xref": "x",
                    "y": 14,
                    "yref": "y"
                  },
                  {
                    "font": {
                      "color": "#FFFFFF"
                    },
                    "showarrow": false,
                    "text": "0.0",
                    "x": 9,
                    "xref": "x",
                    "y": 14,
                    "yref": "y"
                  },
                  {
                    "font": {
                      "color": "#FFFFFF"
                    },
                    "showarrow": false,
                    "text": "0.0",
                    "x": 10,
                    "xref": "x",
                    "y": 14,
                    "yref": "y"
                  },
                  {
                    "font": {
                      "color": "#FFFFFF"
                    },
                    "showarrow": false,
                    "text": "0.0",
                    "x": 11,
                    "xref": "x",
                    "y": 14,
                    "yref": "y"
                  },
                  {
                    "font": {
                      "color": "#FFFFFF"
                    },
                    "showarrow": false,
                    "text": "0.0",
                    "x": 12,
                    "xref": "x",
                    "y": 14,
                    "yref": "y"
                  },
                  {
                    "font": {
                      "color": "#FFFFFF"
                    },
                    "showarrow": false,
                    "text": "0.0",
                    "x": 13,
                    "xref": "x",
                    "y": 14,
                    "yref": "y"
                  },
                  {
                    "font": {
                      "color": "#FFFFFF"
                    },
                    "showarrow": false,
                    "text": "0.0",
                    "x": 14,
                    "xref": "x",
                    "y": 14,
                    "yref": "y"
                  },
                  {
                    "font": {
                      "color": "#FFFFFF"
                    },
                    "showarrow": false,
                    "text": "0.0",
                    "x": 15,
                    "xref": "x",
                    "y": 14,
                    "yref": "y"
                  },
                  {
                    "font": {
                      "color": "#FFFFFF"
                    },
                    "showarrow": false,
                    "text": "0.0",
                    "x": 16,
                    "xref": "x",
                    "y": 14,
                    "yref": "y"
                  },
                  {
                    "font": {
                      "color": "#FFFFFF"
                    },
                    "showarrow": false,
                    "text": "0.0",
                    "x": 17,
                    "xref": "x",
                    "y": 14,
                    "yref": "y"
                  },
                  {
                    "font": {
                      "color": "#FFFFFF"
                    },
                    "showarrow": false,
                    "text": "0.0",
                    "x": 18,
                    "xref": "x",
                    "y": 14,
                    "yref": "y"
                  },
                  {
                    "font": {
                      "color": "#FFFFFF"
                    },
                    "showarrow": false,
                    "text": "0.0",
                    "x": 19,
                    "xref": "x",
                    "y": 14,
                    "yref": "y"
                  },
                  {
                    "font": {
                      "color": "#000000"
                    },
                    "showarrow": false,
                    "text": "0.03",
                    "x": 0,
                    "xref": "x",
                    "y": 15,
                    "yref": "y"
                  },
                  {
                    "font": {
                      "color": "#FFFFFF"
                    },
                    "showarrow": false,
                    "text": "0.01",
                    "x": 1,
                    "xref": "x",
                    "y": 15,
                    "yref": "y"
                  },
                  {
                    "font": {
                      "color": "#FFFFFF"
                    },
                    "showarrow": false,
                    "text": "0.0",
                    "x": 2,
                    "xref": "x",
                    "y": 15,
                    "yref": "y"
                  },
                  {
                    "font": {
                      "color": "#FFFFFF"
                    },
                    "showarrow": false,
                    "text": "0.0",
                    "x": 3,
                    "xref": "x",
                    "y": 15,
                    "yref": "y"
                  },
                  {
                    "font": {
                      "color": "#FFFFFF"
                    },
                    "showarrow": false,
                    "text": "0.0",
                    "x": 4,
                    "xref": "x",
                    "y": 15,
                    "yref": "y"
                  },
                  {
                    "font": {
                      "color": "#FFFFFF"
                    },
                    "showarrow": false,
                    "text": "0.0",
                    "x": 5,
                    "xref": "x",
                    "y": 15,
                    "yref": "y"
                  },
                  {
                    "font": {
                      "color": "#FFFFFF"
                    },
                    "showarrow": false,
                    "text": "0.0",
                    "x": 6,
                    "xref": "x",
                    "y": 15,
                    "yref": "y"
                  },
                  {
                    "font": {
                      "color": "#FFFFFF"
                    },
                    "showarrow": false,
                    "text": "0.0",
                    "x": 7,
                    "xref": "x",
                    "y": 15,
                    "yref": "y"
                  },
                  {
                    "font": {
                      "color": "#FFFFFF"
                    },
                    "showarrow": false,
                    "text": "0.0",
                    "x": 8,
                    "xref": "x",
                    "y": 15,
                    "yref": "y"
                  },
                  {
                    "font": {
                      "color": "#FFFFFF"
                    },
                    "showarrow": false,
                    "text": "0.0",
                    "x": 9,
                    "xref": "x",
                    "y": 15,
                    "yref": "y"
                  },
                  {
                    "font": {
                      "color": "#FFFFFF"
                    },
                    "showarrow": false,
                    "text": "0.0",
                    "x": 10,
                    "xref": "x",
                    "y": 15,
                    "yref": "y"
                  },
                  {
                    "font": {
                      "color": "#FFFFFF"
                    },
                    "showarrow": false,
                    "text": "0.0",
                    "x": 11,
                    "xref": "x",
                    "y": 15,
                    "yref": "y"
                  },
                  {
                    "font": {
                      "color": "#FFFFFF"
                    },
                    "showarrow": false,
                    "text": "0.0",
                    "x": 12,
                    "xref": "x",
                    "y": 15,
                    "yref": "y"
                  },
                  {
                    "font": {
                      "color": "#FFFFFF"
                    },
                    "showarrow": false,
                    "text": "0.0",
                    "x": 13,
                    "xref": "x",
                    "y": 15,
                    "yref": "y"
                  },
                  {
                    "font": {
                      "color": "#FFFFFF"
                    },
                    "showarrow": false,
                    "text": "0.0",
                    "x": 14,
                    "xref": "x",
                    "y": 15,
                    "yref": "y"
                  },
                  {
                    "font": {
                      "color": "#FFFFFF"
                    },
                    "showarrow": false,
                    "text": "0.0",
                    "x": 15,
                    "xref": "x",
                    "y": 15,
                    "yref": "y"
                  },
                  {
                    "font": {
                      "color": "#FFFFFF"
                    },
                    "showarrow": false,
                    "text": "0.0",
                    "x": 16,
                    "xref": "x",
                    "y": 15,
                    "yref": "y"
                  },
                  {
                    "font": {
                      "color": "#FFFFFF"
                    },
                    "showarrow": false,
                    "text": "0.0",
                    "x": 17,
                    "xref": "x",
                    "y": 15,
                    "yref": "y"
                  },
                  {
                    "font": {
                      "color": "#FFFFFF"
                    },
                    "showarrow": false,
                    "text": "0.0",
                    "x": 18,
                    "xref": "x",
                    "y": 15,
                    "yref": "y"
                  },
                  {
                    "font": {
                      "color": "#FFFFFF"
                    },
                    "showarrow": false,
                    "text": "0.0",
                    "x": 19,
                    "xref": "x",
                    "y": 15,
                    "yref": "y"
                  },
                  {
                    "font": {
                      "color": "#000000"
                    },
                    "showarrow": false,
                    "text": "0.04",
                    "x": 0,
                    "xref": "x",
                    "y": 16,
                    "yref": "y"
                  },
                  {
                    "font": {
                      "color": "#FFFFFF"
                    },
                    "showarrow": false,
                    "text": "0.0",
                    "x": 1,
                    "xref": "x",
                    "y": 16,
                    "yref": "y"
                  },
                  {
                    "font": {
                      "color": "#FFFFFF"
                    },
                    "showarrow": false,
                    "text": "0.0",
                    "x": 2,
                    "xref": "x",
                    "y": 16,
                    "yref": "y"
                  },
                  {
                    "font": {
                      "color": "#FFFFFF"
                    },
                    "showarrow": false,
                    "text": "0.0",
                    "x": 3,
                    "xref": "x",
                    "y": 16,
                    "yref": "y"
                  },
                  {
                    "font": {
                      "color": "#FFFFFF"
                    },
                    "showarrow": false,
                    "text": "0.0",
                    "x": 4,
                    "xref": "x",
                    "y": 16,
                    "yref": "y"
                  },
                  {
                    "font": {
                      "color": "#FFFFFF"
                    },
                    "showarrow": false,
                    "text": "0.0",
                    "x": 5,
                    "xref": "x",
                    "y": 16,
                    "yref": "y"
                  },
                  {
                    "font": {
                      "color": "#FFFFFF"
                    },
                    "showarrow": false,
                    "text": "0.0",
                    "x": 6,
                    "xref": "x",
                    "y": 16,
                    "yref": "y"
                  },
                  {
                    "font": {
                      "color": "#FFFFFF"
                    },
                    "showarrow": false,
                    "text": "0.0",
                    "x": 7,
                    "xref": "x",
                    "y": 16,
                    "yref": "y"
                  },
                  {
                    "font": {
                      "color": "#FFFFFF"
                    },
                    "showarrow": false,
                    "text": "0.0",
                    "x": 8,
                    "xref": "x",
                    "y": 16,
                    "yref": "y"
                  },
                  {
                    "font": {
                      "color": "#FFFFFF"
                    },
                    "showarrow": false,
                    "text": "0.0",
                    "x": 9,
                    "xref": "x",
                    "y": 16,
                    "yref": "y"
                  },
                  {
                    "font": {
                      "color": "#FFFFFF"
                    },
                    "showarrow": false,
                    "text": "0.0",
                    "x": 10,
                    "xref": "x",
                    "y": 16,
                    "yref": "y"
                  },
                  {
                    "font": {
                      "color": "#FFFFFF"
                    },
                    "showarrow": false,
                    "text": "0.0",
                    "x": 11,
                    "xref": "x",
                    "y": 16,
                    "yref": "y"
                  },
                  {
                    "font": {
                      "color": "#FFFFFF"
                    },
                    "showarrow": false,
                    "text": "0.0",
                    "x": 12,
                    "xref": "x",
                    "y": 16,
                    "yref": "y"
                  },
                  {
                    "font": {
                      "color": "#FFFFFF"
                    },
                    "showarrow": false,
                    "text": "0.0",
                    "x": 13,
                    "xref": "x",
                    "y": 16,
                    "yref": "y"
                  },
                  {
                    "font": {
                      "color": "#FFFFFF"
                    },
                    "showarrow": false,
                    "text": "0.0",
                    "x": 14,
                    "xref": "x",
                    "y": 16,
                    "yref": "y"
                  },
                  {
                    "font": {
                      "color": "#FFFFFF"
                    },
                    "showarrow": false,
                    "text": "0.0",
                    "x": 15,
                    "xref": "x",
                    "y": 16,
                    "yref": "y"
                  },
                  {
                    "font": {
                      "color": "#FFFFFF"
                    },
                    "showarrow": false,
                    "text": "0.0",
                    "x": 16,
                    "xref": "x",
                    "y": 16,
                    "yref": "y"
                  },
                  {
                    "font": {
                      "color": "#FFFFFF"
                    },
                    "showarrow": false,
                    "text": "0.0",
                    "x": 17,
                    "xref": "x",
                    "y": 16,
                    "yref": "y"
                  },
                  {
                    "font": {
                      "color": "#FFFFFF"
                    },
                    "showarrow": false,
                    "text": "0.0",
                    "x": 18,
                    "xref": "x",
                    "y": 16,
                    "yref": "y"
                  },
                  {
                    "font": {
                      "color": "#FFFFFF"
                    },
                    "showarrow": false,
                    "text": "0.0",
                    "x": 19,
                    "xref": "x",
                    "y": 16,
                    "yref": "y"
                  },
                  {
                    "font": {
                      "color": "#FFFFFF"
                    },
                    "showarrow": false,
                    "text": "0.02",
                    "x": 0,
                    "xref": "x",
                    "y": 17,
                    "yref": "y"
                  },
                  {
                    "font": {
                      "color": "#FFFFFF"
                    },
                    "showarrow": false,
                    "text": "0.0",
                    "x": 1,
                    "xref": "x",
                    "y": 17,
                    "yref": "y"
                  },
                  {
                    "font": {
                      "color": "#FFFFFF"
                    },
                    "showarrow": false,
                    "text": "0.0",
                    "x": 2,
                    "xref": "x",
                    "y": 17,
                    "yref": "y"
                  },
                  {
                    "font": {
                      "color": "#FFFFFF"
                    },
                    "showarrow": false,
                    "text": "0.0",
                    "x": 3,
                    "xref": "x",
                    "y": 17,
                    "yref": "y"
                  },
                  {
                    "font": {
                      "color": "#FFFFFF"
                    },
                    "showarrow": false,
                    "text": "0.0",
                    "x": 4,
                    "xref": "x",
                    "y": 17,
                    "yref": "y"
                  },
                  {
                    "font": {
                      "color": "#FFFFFF"
                    },
                    "showarrow": false,
                    "text": "0.0",
                    "x": 5,
                    "xref": "x",
                    "y": 17,
                    "yref": "y"
                  },
                  {
                    "font": {
                      "color": "#FFFFFF"
                    },
                    "showarrow": false,
                    "text": "0.01",
                    "x": 6,
                    "xref": "x",
                    "y": 17,
                    "yref": "y"
                  },
                  {
                    "font": {
                      "color": "#FFFFFF"
                    },
                    "showarrow": false,
                    "text": "0.0",
                    "x": 7,
                    "xref": "x",
                    "y": 17,
                    "yref": "y"
                  },
                  {
                    "font": {
                      "color": "#FFFFFF"
                    },
                    "showarrow": false,
                    "text": "0.0",
                    "x": 8,
                    "xref": "x",
                    "y": 17,
                    "yref": "y"
                  },
                  {
                    "font": {
                      "color": "#FFFFFF"
                    },
                    "showarrow": false,
                    "text": "0.0",
                    "x": 9,
                    "xref": "x",
                    "y": 17,
                    "yref": "y"
                  },
                  {
                    "font": {
                      "color": "#FFFFFF"
                    },
                    "showarrow": false,
                    "text": "0.0",
                    "x": 10,
                    "xref": "x",
                    "y": 17,
                    "yref": "y"
                  },
                  {
                    "font": {
                      "color": "#FFFFFF"
                    },
                    "showarrow": false,
                    "text": "0.0",
                    "x": 11,
                    "xref": "x",
                    "y": 17,
                    "yref": "y"
                  },
                  {
                    "font": {
                      "color": "#FFFFFF"
                    },
                    "showarrow": false,
                    "text": "0.02",
                    "x": 12,
                    "xref": "x",
                    "y": 17,
                    "yref": "y"
                  },
                  {
                    "font": {
                      "color": "#FFFFFF"
                    },
                    "showarrow": false,
                    "text": "0.0",
                    "x": 13,
                    "xref": "x",
                    "y": 17,
                    "yref": "y"
                  },
                  {
                    "font": {
                      "color": "#FFFFFF"
                    },
                    "showarrow": false,
                    "text": "0.0",
                    "x": 14,
                    "xref": "x",
                    "y": 17,
                    "yref": "y"
                  },
                  {
                    "font": {
                      "color": "#FFFFFF"
                    },
                    "showarrow": false,
                    "text": "0.0",
                    "x": 15,
                    "xref": "x",
                    "y": 17,
                    "yref": "y"
                  },
                  {
                    "font": {
                      "color": "#FFFFFF"
                    },
                    "showarrow": false,
                    "text": "0.0",
                    "x": 16,
                    "xref": "x",
                    "y": 17,
                    "yref": "y"
                  },
                  {
                    "font": {
                      "color": "#FFFFFF"
                    },
                    "showarrow": false,
                    "text": "0.0",
                    "x": 17,
                    "xref": "x",
                    "y": 17,
                    "yref": "y"
                  },
                  {
                    "font": {
                      "color": "#FFFFFF"
                    },
                    "showarrow": false,
                    "text": "0.0",
                    "x": 18,
                    "xref": "x",
                    "y": 17,
                    "yref": "y"
                  },
                  {
                    "font": {
                      "color": "#FFFFFF"
                    },
                    "showarrow": false,
                    "text": "0.0",
                    "x": 19,
                    "xref": "x",
                    "y": 17,
                    "yref": "y"
                  },
                  {
                    "font": {
                      "color": "#000000"
                    },
                    "showarrow": false,
                    "text": "0.04",
                    "x": 0,
                    "xref": "x",
                    "y": 18,
                    "yref": "y"
                  },
                  {
                    "font": {
                      "color": "#FFFFFF"
                    },
                    "showarrow": false,
                    "text": "0.0",
                    "x": 1,
                    "xref": "x",
                    "y": 18,
                    "yref": "y"
                  },
                  {
                    "font": {
                      "color": "#FFFFFF"
                    },
                    "showarrow": false,
                    "text": "0.0",
                    "x": 2,
                    "xref": "x",
                    "y": 18,
                    "yref": "y"
                  },
                  {
                    "font": {
                      "color": "#FFFFFF"
                    },
                    "showarrow": false,
                    "text": "0.0",
                    "x": 3,
                    "xref": "x",
                    "y": 18,
                    "yref": "y"
                  },
                  {
                    "font": {
                      "color": "#FFFFFF"
                    },
                    "showarrow": false,
                    "text": "0.0",
                    "x": 4,
                    "xref": "x",
                    "y": 18,
                    "yref": "y"
                  },
                  {
                    "font": {
                      "color": "#FFFFFF"
                    },
                    "showarrow": false,
                    "text": "0.0",
                    "x": 5,
                    "xref": "x",
                    "y": 18,
                    "yref": "y"
                  },
                  {
                    "font": {
                      "color": "#FFFFFF"
                    },
                    "showarrow": false,
                    "text": "0.0",
                    "x": 6,
                    "xref": "x",
                    "y": 18,
                    "yref": "y"
                  },
                  {
                    "font": {
                      "color": "#FFFFFF"
                    },
                    "showarrow": false,
                    "text": "0.0",
                    "x": 7,
                    "xref": "x",
                    "y": 18,
                    "yref": "y"
                  },
                  {
                    "font": {
                      "color": "#FFFFFF"
                    },
                    "showarrow": false,
                    "text": "0.0",
                    "x": 8,
                    "xref": "x",
                    "y": 18,
                    "yref": "y"
                  },
                  {
                    "font": {
                      "color": "#FFFFFF"
                    },
                    "showarrow": false,
                    "text": "0.0",
                    "x": 9,
                    "xref": "x",
                    "y": 18,
                    "yref": "y"
                  },
                  {
                    "font": {
                      "color": "#FFFFFF"
                    },
                    "showarrow": false,
                    "text": "0.0",
                    "x": 10,
                    "xref": "x",
                    "y": 18,
                    "yref": "y"
                  },
                  {
                    "font": {
                      "color": "#FFFFFF"
                    },
                    "showarrow": false,
                    "text": "0.0",
                    "x": 11,
                    "xref": "x",
                    "y": 18,
                    "yref": "y"
                  },
                  {
                    "font": {
                      "color": "#FFFFFF"
                    },
                    "showarrow": false,
                    "text": "0.0",
                    "x": 12,
                    "xref": "x",
                    "y": 18,
                    "yref": "y"
                  },
                  {
                    "font": {
                      "color": "#FFFFFF"
                    },
                    "showarrow": false,
                    "text": "0.0",
                    "x": 13,
                    "xref": "x",
                    "y": 18,
                    "yref": "y"
                  },
                  {
                    "font": {
                      "color": "#FFFFFF"
                    },
                    "showarrow": false,
                    "text": "0.0",
                    "x": 14,
                    "xref": "x",
                    "y": 18,
                    "yref": "y"
                  },
                  {
                    "font": {
                      "color": "#FFFFFF"
                    },
                    "showarrow": false,
                    "text": "0.0",
                    "x": 15,
                    "xref": "x",
                    "y": 18,
                    "yref": "y"
                  },
                  {
                    "font": {
                      "color": "#FFFFFF"
                    },
                    "showarrow": false,
                    "text": "0.0",
                    "x": 16,
                    "xref": "x",
                    "y": 18,
                    "yref": "y"
                  },
                  {
                    "font": {
                      "color": "#FFFFFF"
                    },
                    "showarrow": false,
                    "text": "0.01",
                    "x": 17,
                    "xref": "x",
                    "y": 18,
                    "yref": "y"
                  },
                  {
                    "font": {
                      "color": "#FFFFFF"
                    },
                    "showarrow": false,
                    "text": "0.0",
                    "x": 18,
                    "xref": "x",
                    "y": 18,
                    "yref": "y"
                  },
                  {
                    "font": {
                      "color": "#FFFFFF"
                    },
                    "showarrow": false,
                    "text": "0.0",
                    "x": 19,
                    "xref": "x",
                    "y": 18,
                    "yref": "y"
                  },
                  {
                    "font": {
                      "color": "#000000"
                    },
                    "showarrow": false,
                    "text": "0.03",
                    "x": 0,
                    "xref": "x",
                    "y": 19,
                    "yref": "y"
                  },
                  {
                    "font": {
                      "color": "#FFFFFF"
                    },
                    "showarrow": false,
                    "text": "0.01",
                    "x": 1,
                    "xref": "x",
                    "y": 19,
                    "yref": "y"
                  },
                  {
                    "font": {
                      "color": "#FFFFFF"
                    },
                    "showarrow": false,
                    "text": "0.0",
                    "x": 2,
                    "xref": "x",
                    "y": 19,
                    "yref": "y"
                  },
                  {
                    "font": {
                      "color": "#FFFFFF"
                    },
                    "showarrow": false,
                    "text": "0.0",
                    "x": 3,
                    "xref": "x",
                    "y": 19,
                    "yref": "y"
                  },
                  {
                    "font": {
                      "color": "#FFFFFF"
                    },
                    "showarrow": false,
                    "text": "0.0",
                    "x": 4,
                    "xref": "x",
                    "y": 19,
                    "yref": "y"
                  },
                  {
                    "font": {
                      "color": "#FFFFFF"
                    },
                    "showarrow": false,
                    "text": "0.0",
                    "x": 5,
                    "xref": "x",
                    "y": 19,
                    "yref": "y"
                  },
                  {
                    "font": {
                      "color": "#FFFFFF"
                    },
                    "showarrow": false,
                    "text": "0.0",
                    "x": 6,
                    "xref": "x",
                    "y": 19,
                    "yref": "y"
                  },
                  {
                    "font": {
                      "color": "#FFFFFF"
                    },
                    "showarrow": false,
                    "text": "0.0",
                    "x": 7,
                    "xref": "x",
                    "y": 19,
                    "yref": "y"
                  },
                  {
                    "font": {
                      "color": "#FFFFFF"
                    },
                    "showarrow": false,
                    "text": "0.0",
                    "x": 8,
                    "xref": "x",
                    "y": 19,
                    "yref": "y"
                  },
                  {
                    "font": {
                      "color": "#FFFFFF"
                    },
                    "showarrow": false,
                    "text": "0.0",
                    "x": 9,
                    "xref": "x",
                    "y": 19,
                    "yref": "y"
                  },
                  {
                    "font": {
                      "color": "#FFFFFF"
                    },
                    "showarrow": false,
                    "text": "0.0",
                    "x": 10,
                    "xref": "x",
                    "y": 19,
                    "yref": "y"
                  },
                  {
                    "font": {
                      "color": "#FFFFFF"
                    },
                    "showarrow": false,
                    "text": "0.0",
                    "x": 11,
                    "xref": "x",
                    "y": 19,
                    "yref": "y"
                  },
                  {
                    "font": {
                      "color": "#FFFFFF"
                    },
                    "showarrow": false,
                    "text": "0.0",
                    "x": 12,
                    "xref": "x",
                    "y": 19,
                    "yref": "y"
                  },
                  {
                    "font": {
                      "color": "#FFFFFF"
                    },
                    "showarrow": false,
                    "text": "0.0",
                    "x": 13,
                    "xref": "x",
                    "y": 19,
                    "yref": "y"
                  },
                  {
                    "font": {
                      "color": "#FFFFFF"
                    },
                    "showarrow": false,
                    "text": "0.0",
                    "x": 14,
                    "xref": "x",
                    "y": 19,
                    "yref": "y"
                  },
                  {
                    "font": {
                      "color": "#FFFFFF"
                    },
                    "showarrow": false,
                    "text": "0.0",
                    "x": 15,
                    "xref": "x",
                    "y": 19,
                    "yref": "y"
                  },
                  {
                    "font": {
                      "color": "#FFFFFF"
                    },
                    "showarrow": false,
                    "text": "0.0",
                    "x": 16,
                    "xref": "x",
                    "y": 19,
                    "yref": "y"
                  },
                  {
                    "font": {
                      "color": "#FFFFFF"
                    },
                    "showarrow": false,
                    "text": "0.0",
                    "x": 17,
                    "xref": "x",
                    "y": 19,
                    "yref": "y"
                  },
                  {
                    "font": {
                      "color": "#FFFFFF"
                    },
                    "showarrow": false,
                    "text": "0.0",
                    "x": 18,
                    "xref": "x",
                    "y": 19,
                    "yref": "y"
                  },
                  {
                    "font": {
                      "color": "#FFFFFF"
                    },
                    "showarrow": false,
                    "text": "0.0",
                    "x": 19,
                    "xref": "x",
                    "y": 19,
                    "yref": "y"
                  }
                ],
                "template": {
                  "data": {
                    "bar": [
                      {
                        "error_x": {
                          "color": "#2a3f5f"
                        },
                        "error_y": {
                          "color": "#2a3f5f"
                        },
                        "marker": {
                          "line": {
                            "color": "#E5ECF6",
                            "width": 0.5
                          },
                          "pattern": {
                            "fillmode": "overlay",
                            "size": 10,
                            "solidity": 0.2
                          }
                        },
                        "type": "bar"
                      }
                    ],
                    "barpolar": [
                      {
                        "marker": {
                          "line": {
                            "color": "#E5ECF6",
                            "width": 0.5
                          },
                          "pattern": {
                            "fillmode": "overlay",
                            "size": 10,
                            "solidity": 0.2
                          }
                        },
                        "type": "barpolar"
                      }
                    ],
                    "carpet": [
                      {
                        "aaxis": {
                          "endlinecolor": "#2a3f5f",
                          "gridcolor": "white",
                          "linecolor": "white",
                          "minorgridcolor": "white",
                          "startlinecolor": "#2a3f5f"
                        },
                        "baxis": {
                          "endlinecolor": "#2a3f5f",
                          "gridcolor": "white",
                          "linecolor": "white",
                          "minorgridcolor": "white",
                          "startlinecolor": "#2a3f5f"
                        },
                        "type": "carpet"
                      }
                    ],
                    "choropleth": [
                      {
                        "colorbar": {
                          "outlinewidth": 0,
                          "ticks": ""
                        },
                        "type": "choropleth"
                      }
                    ],
                    "contour": [
                      {
                        "colorbar": {
                          "outlinewidth": 0,
                          "ticks": ""
                        },
                        "colorscale": [
                          [
                            0,
                            "#0d0887"
                          ],
                          [
                            0.1111111111111111,
                            "#46039f"
                          ],
                          [
                            0.2222222222222222,
                            "#7201a8"
                          ],
                          [
                            0.3333333333333333,
                            "#9c179e"
                          ],
                          [
                            0.4444444444444444,
                            "#bd3786"
                          ],
                          [
                            0.5555555555555556,
                            "#d8576b"
                          ],
                          [
                            0.6666666666666666,
                            "#ed7953"
                          ],
                          [
                            0.7777777777777778,
                            "#fb9f3a"
                          ],
                          [
                            0.8888888888888888,
                            "#fdca26"
                          ],
                          [
                            1,
                            "#f0f921"
                          ]
                        ],
                        "type": "contour"
                      }
                    ],
                    "contourcarpet": [
                      {
                        "colorbar": {
                          "outlinewidth": 0,
                          "ticks": ""
                        },
                        "type": "contourcarpet"
                      }
                    ],
                    "heatmap": [
                      {
                        "colorbar": {
                          "outlinewidth": 0,
                          "ticks": ""
                        },
                        "colorscale": [
                          [
                            0,
                            "#0d0887"
                          ],
                          [
                            0.1111111111111111,
                            "#46039f"
                          ],
                          [
                            0.2222222222222222,
                            "#7201a8"
                          ],
                          [
                            0.3333333333333333,
                            "#9c179e"
                          ],
                          [
                            0.4444444444444444,
                            "#bd3786"
                          ],
                          [
                            0.5555555555555556,
                            "#d8576b"
                          ],
                          [
                            0.6666666666666666,
                            "#ed7953"
                          ],
                          [
                            0.7777777777777778,
                            "#fb9f3a"
                          ],
                          [
                            0.8888888888888888,
                            "#fdca26"
                          ],
                          [
                            1,
                            "#f0f921"
                          ]
                        ],
                        "type": "heatmap"
                      }
                    ],
                    "heatmapgl": [
                      {
                        "colorbar": {
                          "outlinewidth": 0,
                          "ticks": ""
                        },
                        "colorscale": [
                          [
                            0,
                            "#0d0887"
                          ],
                          [
                            0.1111111111111111,
                            "#46039f"
                          ],
                          [
                            0.2222222222222222,
                            "#7201a8"
                          ],
                          [
                            0.3333333333333333,
                            "#9c179e"
                          ],
                          [
                            0.4444444444444444,
                            "#bd3786"
                          ],
                          [
                            0.5555555555555556,
                            "#d8576b"
                          ],
                          [
                            0.6666666666666666,
                            "#ed7953"
                          ],
                          [
                            0.7777777777777778,
                            "#fb9f3a"
                          ],
                          [
                            0.8888888888888888,
                            "#fdca26"
                          ],
                          [
                            1,
                            "#f0f921"
                          ]
                        ],
                        "type": "heatmapgl"
                      }
                    ],
                    "histogram": [
                      {
                        "marker": {
                          "pattern": {
                            "fillmode": "overlay",
                            "size": 10,
                            "solidity": 0.2
                          }
                        },
                        "type": "histogram"
                      }
                    ],
                    "histogram2d": [
                      {
                        "colorbar": {
                          "outlinewidth": 0,
                          "ticks": ""
                        },
                        "colorscale": [
                          [
                            0,
                            "#0d0887"
                          ],
                          [
                            0.1111111111111111,
                            "#46039f"
                          ],
                          [
                            0.2222222222222222,
                            "#7201a8"
                          ],
                          [
                            0.3333333333333333,
                            "#9c179e"
                          ],
                          [
                            0.4444444444444444,
                            "#bd3786"
                          ],
                          [
                            0.5555555555555556,
                            "#d8576b"
                          ],
                          [
                            0.6666666666666666,
                            "#ed7953"
                          ],
                          [
                            0.7777777777777778,
                            "#fb9f3a"
                          ],
                          [
                            0.8888888888888888,
                            "#fdca26"
                          ],
                          [
                            1,
                            "#f0f921"
                          ]
                        ],
                        "type": "histogram2d"
                      }
                    ],
                    "histogram2dcontour": [
                      {
                        "colorbar": {
                          "outlinewidth": 0,
                          "ticks": ""
                        },
                        "colorscale": [
                          [
                            0,
                            "#0d0887"
                          ],
                          [
                            0.1111111111111111,
                            "#46039f"
                          ],
                          [
                            0.2222222222222222,
                            "#7201a8"
                          ],
                          [
                            0.3333333333333333,
                            "#9c179e"
                          ],
                          [
                            0.4444444444444444,
                            "#bd3786"
                          ],
                          [
                            0.5555555555555556,
                            "#d8576b"
                          ],
                          [
                            0.6666666666666666,
                            "#ed7953"
                          ],
                          [
                            0.7777777777777778,
                            "#fb9f3a"
                          ],
                          [
                            0.8888888888888888,
                            "#fdca26"
                          ],
                          [
                            1,
                            "#f0f921"
                          ]
                        ],
                        "type": "histogram2dcontour"
                      }
                    ],
                    "mesh3d": [
                      {
                        "colorbar": {
                          "outlinewidth": 0,
                          "ticks": ""
                        },
                        "type": "mesh3d"
                      }
                    ],
                    "parcoords": [
                      {
                        "line": {
                          "colorbar": {
                            "outlinewidth": 0,
                            "ticks": ""
                          }
                        },
                        "type": "parcoords"
                      }
                    ],
                    "pie": [
                      {
                        "automargin": true,
                        "type": "pie"
                      }
                    ],
                    "scatter": [
                      {
                        "fillpattern": {
                          "fillmode": "overlay",
                          "size": 10,
                          "solidity": 0.2
                        },
                        "type": "scatter"
                      }
                    ],
                    "scatter3d": [
                      {
                        "line": {
                          "colorbar": {
                            "outlinewidth": 0,
                            "ticks": ""
                          }
                        },
                        "marker": {
                          "colorbar": {
                            "outlinewidth": 0,
                            "ticks": ""
                          }
                        },
                        "type": "scatter3d"
                      }
                    ],
                    "scattercarpet": [
                      {
                        "marker": {
                          "colorbar": {
                            "outlinewidth": 0,
                            "ticks": ""
                          }
                        },
                        "type": "scattercarpet"
                      }
                    ],
                    "scattergeo": [
                      {
                        "marker": {
                          "colorbar": {
                            "outlinewidth": 0,
                            "ticks": ""
                          }
                        },
                        "type": "scattergeo"
                      }
                    ],
                    "scattergl": [
                      {
                        "marker": {
                          "colorbar": {
                            "outlinewidth": 0,
                            "ticks": ""
                          }
                        },
                        "type": "scattergl"
                      }
                    ],
                    "scattermapbox": [
                      {
                        "marker": {
                          "colorbar": {
                            "outlinewidth": 0,
                            "ticks": ""
                          }
                        },
                        "type": "scattermapbox"
                      }
                    ],
                    "scatterpolar": [
                      {
                        "marker": {
                          "colorbar": {
                            "outlinewidth": 0,
                            "ticks": ""
                          }
                        },
                        "type": "scatterpolar"
                      }
                    ],
                    "scatterpolargl": [
                      {
                        "marker": {
                          "colorbar": {
                            "outlinewidth": 0,
                            "ticks": ""
                          }
                        },
                        "type": "scatterpolargl"
                      }
                    ],
                    "scatterternary": [
                      {
                        "marker": {
                          "colorbar": {
                            "outlinewidth": 0,
                            "ticks": ""
                          }
                        },
                        "type": "scatterternary"
                      }
                    ],
                    "surface": [
                      {
                        "colorbar": {
                          "outlinewidth": 0,
                          "ticks": ""
                        },
                        "colorscale": [
                          [
                            0,
                            "#0d0887"
                          ],
                          [
                            0.1111111111111111,
                            "#46039f"
                          ],
                          [
                            0.2222222222222222,
                            "#7201a8"
                          ],
                          [
                            0.3333333333333333,
                            "#9c179e"
                          ],
                          [
                            0.4444444444444444,
                            "#bd3786"
                          ],
                          [
                            0.5555555555555556,
                            "#d8576b"
                          ],
                          [
                            0.6666666666666666,
                            "#ed7953"
                          ],
                          [
                            0.7777777777777778,
                            "#fb9f3a"
                          ],
                          [
                            0.8888888888888888,
                            "#fdca26"
                          ],
                          [
                            1,
                            "#f0f921"
                          ]
                        ],
                        "type": "surface"
                      }
                    ],
                    "table": [
                      {
                        "cells": {
                          "fill": {
                            "color": "#EBF0F8"
                          },
                          "line": {
                            "color": "white"
                          }
                        },
                        "header": {
                          "fill": {
                            "color": "#C8D4E3"
                          },
                          "line": {
                            "color": "white"
                          }
                        },
                        "type": "table"
                      }
                    ]
                  },
                  "layout": {
                    "annotationdefaults": {
                      "arrowcolor": "#2a3f5f",
                      "arrowhead": 0,
                      "arrowwidth": 1
                    },
                    "autotypenumbers": "strict",
                    "coloraxis": {
                      "colorbar": {
                        "outlinewidth": 0,
                        "ticks": ""
                      }
                    },
                    "colorscale": {
                      "diverging": [
                        [
                          0,
                          "#8e0152"
                        ],
                        [
                          0.1,
                          "#c51b7d"
                        ],
                        [
                          0.2,
                          "#de77ae"
                        ],
                        [
                          0.3,
                          "#f1b6da"
                        ],
                        [
                          0.4,
                          "#fde0ef"
                        ],
                        [
                          0.5,
                          "#f7f7f7"
                        ],
                        [
                          0.6,
                          "#e6f5d0"
                        ],
                        [
                          0.7,
                          "#b8e186"
                        ],
                        [
                          0.8,
                          "#7fbc41"
                        ],
                        [
                          0.9,
                          "#4d9221"
                        ],
                        [
                          1,
                          "#276419"
                        ]
                      ],
                      "sequential": [
                        [
                          0,
                          "#0d0887"
                        ],
                        [
                          0.1111111111111111,
                          "#46039f"
                        ],
                        [
                          0.2222222222222222,
                          "#7201a8"
                        ],
                        [
                          0.3333333333333333,
                          "#9c179e"
                        ],
                        [
                          0.4444444444444444,
                          "#bd3786"
                        ],
                        [
                          0.5555555555555556,
                          "#d8576b"
                        ],
                        [
                          0.6666666666666666,
                          "#ed7953"
                        ],
                        [
                          0.7777777777777778,
                          "#fb9f3a"
                        ],
                        [
                          0.8888888888888888,
                          "#fdca26"
                        ],
                        [
                          1,
                          "#f0f921"
                        ]
                      ],
                      "sequentialminus": [
                        [
                          0,
                          "#0d0887"
                        ],
                        [
                          0.1111111111111111,
                          "#46039f"
                        ],
                        [
                          0.2222222222222222,
                          "#7201a8"
                        ],
                        [
                          0.3333333333333333,
                          "#9c179e"
                        ],
                        [
                          0.4444444444444444,
                          "#bd3786"
                        ],
                        [
                          0.5555555555555556,
                          "#d8576b"
                        ],
                        [
                          0.6666666666666666,
                          "#ed7953"
                        ],
                        [
                          0.7777777777777778,
                          "#fb9f3a"
                        ],
                        [
                          0.8888888888888888,
                          "#fdca26"
                        ],
                        [
                          1,
                          "#f0f921"
                        ]
                      ]
                    },
                    "colorway": [
                      "#636efa",
                      "#EF553B",
                      "#00cc96",
                      "#ab63fa",
                      "#FFA15A",
                      "#19d3f3",
                      "#FF6692",
                      "#B6E880",
                      "#FF97FF",
                      "#FECB52"
                    ],
                    "font": {
                      "color": "#2a3f5f"
                    },
                    "geo": {
                      "bgcolor": "white",
                      "lakecolor": "white",
                      "landcolor": "#E5ECF6",
                      "showlakes": true,
                      "showland": true,
                      "subunitcolor": "white"
                    },
                    "hoverlabel": {
                      "align": "left"
                    },
                    "hovermode": "closest",
                    "mapbox": {
                      "style": "light"
                    },
                    "paper_bgcolor": "white",
                    "plot_bgcolor": "#E5ECF6",
                    "polar": {
                      "angularaxis": {
                        "gridcolor": "white",
                        "linecolor": "white",
                        "ticks": ""
                      },
                      "bgcolor": "#E5ECF6",
                      "radialaxis": {
                        "gridcolor": "white",
                        "linecolor": "white",
                        "ticks": ""
                      }
                    },
                    "scene": {
                      "xaxis": {
                        "backgroundcolor": "#E5ECF6",
                        "gridcolor": "white",
                        "gridwidth": 2,
                        "linecolor": "white",
                        "showbackground": true,
                        "ticks": "",
                        "zerolinecolor": "white"
                      },
                      "yaxis": {
                        "backgroundcolor": "#E5ECF6",
                        "gridcolor": "white",
                        "gridwidth": 2,
                        "linecolor": "white",
                        "showbackground": true,
                        "ticks": "",
                        "zerolinecolor": "white"
                      },
                      "zaxis": {
                        "backgroundcolor": "#E5ECF6",
                        "gridcolor": "white",
                        "gridwidth": 2,
                        "linecolor": "white",
                        "showbackground": true,
                        "ticks": "",
                        "zerolinecolor": "white"
                      }
                    },
                    "shapedefaults": {
                      "line": {
                        "color": "#2a3f5f"
                      }
                    },
                    "ternary": {
                      "aaxis": {
                        "gridcolor": "white",
                        "linecolor": "white",
                        "ticks": ""
                      },
                      "baxis": {
                        "gridcolor": "white",
                        "linecolor": "white",
                        "ticks": ""
                      },
                      "bgcolor": "#E5ECF6",
                      "caxis": {
                        "gridcolor": "white",
                        "linecolor": "white",
                        "ticks": ""
                      }
                    },
                    "title": {
                      "x": 0.05
                    },
                    "xaxis": {
                      "automargin": true,
                      "gridcolor": "white",
                      "linecolor": "white",
                      "ticks": "",
                      "title": {
                        "standoff": 15
                      },
                      "zerolinecolor": "white",
                      "zerolinewidth": 2
                    },
                    "yaxis": {
                      "automargin": true,
                      "gridcolor": "white",
                      "linecolor": "white",
                      "ticks": "",
                      "title": {
                        "standoff": 15
                      },
                      "zerolinecolor": "white",
                      "zerolinewidth": 2
                    }
                  }
                },
                "width": 1200,
                "xaxis": {
                  "dtick": 1,
                  "gridcolor": "rgb(0, 0, 0)",
                  "side": "top",
                  "ticks": ""
                },
                "yaxis": {
                  "dtick": 1,
                  "ticks": "",
                  "ticksuffix": "  "
                }
              }
            }
          },
          "metadata": {},
          "output_type": "display_data"
        }
      ],
      "source": [
        "cm = confusion_matrix(y_true = topics[\"target\"], y_pred = topics[\"class_pred\"]) / 5000\n",
        "\n",
        "fig = ff.create_annotated_heatmap(cm.round(2), x = [i for i in range(20)], y = [i for i in range(20)])\n",
        "fig.update_layout(width = 1200)\n",
        "\n",
        "fig.show()"
      ]
    },
    {
      "cell_type": "markdown",
      "metadata": {
        "id": "ZTIgSmKToX9s"
      },
      "source": [
        "Conclusion : the topics found by LSA are very different from the target ! Here we can see that topic 0 is very frequent among the documents and spans accross lots of the target categories.\n",
        "LSA is very convenient to find some structure among a text corpus, but it usually creates topics that are quite different from the categories that would have been determined by a human.\n",
        "\n",
        "Reminder : contrary to supervised classification and unsupervised clustering, LSA is based on the hypothesis that a given document can be related to several topics. This makes the interpretation of the model's output more complicated, but allows to create topic models that are more realistic (because in real life, a document is often related to different topics !)"
      ]
    }
  ],
  "metadata": {
    "colab": {
      "provenance": []
    },
    "kernelspec": {
      "display_name": "base",
      "language": "python",
      "name": "python3"
    },
    "language_info": {
      "codemirror_mode": {
        "name": "ipython",
        "version": 3
      },
      "file_extension": ".py",
      "mimetype": "text/x-python",
      "name": "python",
      "nbconvert_exporter": "python",
      "pygments_lexer": "ipython3",
      "version": "3.12.7"
    }
  },
  "nbformat": 4,
  "nbformat_minor": 0
}
