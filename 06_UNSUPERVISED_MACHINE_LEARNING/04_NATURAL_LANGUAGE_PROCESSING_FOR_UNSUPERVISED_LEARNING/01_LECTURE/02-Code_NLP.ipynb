{
 "cells": [
  {
   "cell_type": "markdown",
   "metadata": {},
   "source": [
    "# NLP - Code"
   ]
  },
  {
   "cell_type": "markdown",
   "metadata": {},
   "source": [
    "## What you will learn in this course 🧐🧐\n",
    "\n",
    "You can perform NLP with a lot of different libraries. Among them are <a href=\"https://scikit-learn.org/stable/\" target=\"_blank\">sklearn</a>, <a href=\"https://spacy.io/\" target=\"_blank\">spaCy</a> and <a href=\"https://www.nltk.org/\" target=\"_blank\">NLTK</a>. In this course we will focus on `sklearn` and `spacy`. You will learn: \n",
    "\n",
    "* How to create `doc` object with `spacy`\n",
    "* How to get tokenize `doc` object with `spacy`\n",
    "* How to stem, lemmatize words using `spacy`\n",
    "* Create TF-IDF using `sklearn`"
   ]
  },
  {
   "cell_type": "markdown",
   "metadata": {
    "colab_type": "text",
    "id": "E410wyV3L9tI"
   },
   "source": [
    "## NLP With Spacy 🚀🚀\n",
    "\n",
    "If you are doing NLP, you will need to use a library that will allow you to manage your different preprocessing needs. `Spacy` is an extremely powerful library for this task. \n",
    "\n",
    "To give you some context, this library has been designed to create an end-to-end NLP tool i.e. from data preprocessing to the deployment of an algorithm. \n",
    "\n",
    "For our needs, we will look at how the library works on the preprocessing part. "
   ]
  },
  {
   "cell_type": "code",
   "execution_count": null,
   "metadata": {},
   "outputs": [],
   "source": [
    "# Install spacy \n",
    "## -q is for \"quiet\". It removes logs \n",
    "#!pip install spacy -q\n",
    "!pip install numpy==1.26.4 spacy\n"
   ]
  },
  {
   "cell_type": "code",
   "execution_count": 2,
   "metadata": {
    "colab": {
     "base_uri": "https://localhost:8080/",
     "height": 35
    },
    "colab_type": "code",
    "executionInfo": {
     "elapsed": 3153,
     "status": "ok",
     "timestamp": 1582023129137,
     "user": {
      "displayName": "Antoine Krajnc",
      "photoUrl": "https://lh3.googleusercontent.com/a-/AAuE7mC4XzNDVGvURzl4T5duDbMr6bUdhkYkDul_37G0OA=s64",
      "userId": "08465960390418158788"
     },
     "user_tz": -60
    },
    "id": "DPlCOLZJL2wW",
    "outputId": "3120806a-5d56-4bd8-96b4-50065af4c2ef"
   },
   "outputs": [
    {
     "ename": "ValueError",
     "evalue": "numpy.dtype size changed, may indicate binary incompatibility. Expected 96 from C header, got 88 from PyObject",
     "output_type": "error",
     "traceback": [
      "\u001b[0;31m---------------------------------------------------------------------------\u001b[0m",
      "\u001b[0;31mValueError\u001b[0m                                Traceback (most recent call last)",
      "Cell \u001b[0;32mIn[2], line 2\u001b[0m\n\u001b[1;32m      1\u001b[0m \u001b[38;5;66;03m# Import spacy, if you don't have it --> !pip install spacy \u001b[39;00m\n\u001b[0;32m----> 2\u001b[0m \u001b[38;5;28;01mimport\u001b[39;00m \u001b[38;5;21;01mspacy\u001b[39;00m\n\u001b[1;32m      3\u001b[0m spacy\u001b[38;5;241m.\u001b[39m__version__\n",
      "File \u001b[0;32m/opt/anaconda3/lib/python3.12/site-packages/spacy/__init__.py:6\u001b[0m\n\u001b[1;32m      3\u001b[0m \u001b[38;5;28;01mfrom\u001b[39;00m \u001b[38;5;21;01mtyping\u001b[39;00m \u001b[38;5;28;01mimport\u001b[39;00m Any, Dict, Iterable, Union\n\u001b[1;32m      5\u001b[0m \u001b[38;5;66;03m# set library-specific custom warning handling before doing anything else\u001b[39;00m\n\u001b[0;32m----> 6\u001b[0m \u001b[38;5;28;01mfrom\u001b[39;00m \u001b[38;5;21;01m.\u001b[39;00m\u001b[38;5;21;01merrors\u001b[39;00m \u001b[38;5;28;01mimport\u001b[39;00m setup_default_warnings\n\u001b[1;32m      8\u001b[0m setup_default_warnings()  \u001b[38;5;66;03m# noqa: E402\u001b[39;00m\n\u001b[1;32m     10\u001b[0m \u001b[38;5;66;03m# These are imported as part of the API\u001b[39;00m\n",
      "File \u001b[0;32m/opt/anaconda3/lib/python3.12/site-packages/spacy/errors.py:3\u001b[0m\n\u001b[1;32m      1\u001b[0m \u001b[38;5;28;01mimport\u001b[39;00m \u001b[38;5;21;01mwarnings\u001b[39;00m\n\u001b[0;32m----> 3\u001b[0m \u001b[38;5;28;01mfrom\u001b[39;00m \u001b[38;5;21;01m.\u001b[39;00m\u001b[38;5;21;01mcompat\u001b[39;00m \u001b[38;5;28;01mimport\u001b[39;00m Literal\n\u001b[1;32m      6\u001b[0m \u001b[38;5;28;01mclass\u001b[39;00m \u001b[38;5;21;01mErrorsWithCodes\u001b[39;00m(\u001b[38;5;28mtype\u001b[39m):\n\u001b[1;32m      7\u001b[0m     \u001b[38;5;28;01mdef\u001b[39;00m \u001b[38;5;21m__getattribute__\u001b[39m(\u001b[38;5;28mself\u001b[39m, code):\n",
      "File \u001b[0;32m/opt/anaconda3/lib/python3.12/site-packages/spacy/compat.py:4\u001b[0m\n\u001b[1;32m      1\u001b[0m \u001b[38;5;124;03m\"\"\"Helpers for Python and platform compatibility.\"\"\"\u001b[39;00m\n\u001b[1;32m      2\u001b[0m \u001b[38;5;28;01mimport\u001b[39;00m \u001b[38;5;21;01msys\u001b[39;00m\n\u001b[0;32m----> 4\u001b[0m \u001b[38;5;28;01mfrom\u001b[39;00m \u001b[38;5;21;01mthinc\u001b[39;00m\u001b[38;5;21;01m.\u001b[39;00m\u001b[38;5;21;01mutil\u001b[39;00m \u001b[38;5;28;01mimport\u001b[39;00m copy_array\n\u001b[1;32m      6\u001b[0m \u001b[38;5;28;01mtry\u001b[39;00m:\n\u001b[1;32m      7\u001b[0m     \u001b[38;5;28;01mimport\u001b[39;00m \u001b[38;5;21;01mcPickle\u001b[39;00m \u001b[38;5;28;01mas\u001b[39;00m \u001b[38;5;21;01mpickle\u001b[39;00m\n",
      "File \u001b[0;32m/opt/anaconda3/lib/python3.12/site-packages/thinc/__init__.py:5\u001b[0m\n\u001b[1;32m      2\u001b[0m \u001b[38;5;28;01mimport\u001b[39;00m \u001b[38;5;21;01mnumpy\u001b[39;00m\n\u001b[1;32m      4\u001b[0m \u001b[38;5;28;01mfrom\u001b[39;00m \u001b[38;5;21;01m.\u001b[39;00m\u001b[38;5;21;01mabout\u001b[39;00m \u001b[38;5;28;01mimport\u001b[39;00m __version__\n\u001b[0;32m----> 5\u001b[0m \u001b[38;5;28;01mfrom\u001b[39;00m \u001b[38;5;21;01m.\u001b[39;00m\u001b[38;5;21;01mconfig\u001b[39;00m \u001b[38;5;28;01mimport\u001b[39;00m registry\n\u001b[1;32m      7\u001b[0m \u001b[38;5;66;03m# fmt: off\u001b[39;00m\n\u001b[1;32m      8\u001b[0m __all__ \u001b[38;5;241m=\u001b[39m [\n\u001b[1;32m      9\u001b[0m     \u001b[38;5;124m\"\u001b[39m\u001b[38;5;124mregistry\u001b[39m\u001b[38;5;124m\"\u001b[39m,\n\u001b[1;32m     10\u001b[0m     \u001b[38;5;124m\"\u001b[39m\u001b[38;5;124m__version__\u001b[39m\u001b[38;5;124m\"\u001b[39m,\n\u001b[1;32m     11\u001b[0m ]\n",
      "File \u001b[0;32m/opt/anaconda3/lib/python3.12/site-packages/thinc/config.py:5\u001b[0m\n\u001b[1;32m      2\u001b[0m \u001b[38;5;28;01mimport\u001b[39;00m \u001b[38;5;21;01mconfection\u001b[39;00m\n\u001b[1;32m      3\u001b[0m \u001b[38;5;28;01mfrom\u001b[39;00m \u001b[38;5;21;01mconfection\u001b[39;00m \u001b[38;5;28;01mimport\u001b[39;00m VARIABLE_RE, Config, ConfigValidationError, Promise\n\u001b[0;32m----> 5\u001b[0m \u001b[38;5;28;01mfrom\u001b[39;00m \u001b[38;5;21;01m.\u001b[39;00m\u001b[38;5;21;01mtypes\u001b[39;00m \u001b[38;5;28;01mimport\u001b[39;00m Decorator\n\u001b[1;32m      8\u001b[0m \u001b[38;5;28;01mclass\u001b[39;00m \u001b[38;5;21;01mregistry\u001b[39;00m(confection\u001b[38;5;241m.\u001b[39mregistry):\n\u001b[1;32m      9\u001b[0m     \u001b[38;5;66;03m# fmt: off\u001b[39;00m\n\u001b[1;32m     10\u001b[0m     optimizers: Decorator \u001b[38;5;241m=\u001b[39m catalogue\u001b[38;5;241m.\u001b[39mcreate(\u001b[38;5;124m\"\u001b[39m\u001b[38;5;124mthinc\u001b[39m\u001b[38;5;124m\"\u001b[39m, \u001b[38;5;124m\"\u001b[39m\u001b[38;5;124moptimizers\u001b[39m\u001b[38;5;124m\"\u001b[39m, entry_points\u001b[38;5;241m=\u001b[39m\u001b[38;5;28;01mTrue\u001b[39;00m)\n",
      "File \u001b[0;32m/opt/anaconda3/lib/python3.12/site-packages/thinc/types.py:27\u001b[0m\n\u001b[1;32m     24\u001b[0m \u001b[38;5;28;01mfrom\u001b[39;00m \u001b[38;5;21;01mpydantic\u001b[39;00m \u001b[38;5;28;01mimport\u001b[39;00m GetCoreSchemaHandler\n\u001b[1;32m     25\u001b[0m \u001b[38;5;28;01mfrom\u001b[39;00m \u001b[38;5;21;01mpydantic_core\u001b[39;00m \u001b[38;5;28;01mimport\u001b[39;00m core_schema\n\u001b[0;32m---> 27\u001b[0m \u001b[38;5;28;01mfrom\u001b[39;00m \u001b[38;5;21;01m.\u001b[39;00m\u001b[38;5;21;01mcompat\u001b[39;00m \u001b[38;5;28;01mimport\u001b[39;00m cupy, has_cupy\n\u001b[1;32m     29\u001b[0m \u001b[38;5;28;01mif\u001b[39;00m has_cupy:\n\u001b[1;32m     30\u001b[0m     get_array_module \u001b[38;5;241m=\u001b[39m cupy\u001b[38;5;241m.\u001b[39mget_array_module\n",
      "File \u001b[0;32m/opt/anaconda3/lib/python3.12/site-packages/thinc/compat.py:99\u001b[0m\n\u001b[1;32m     95\u001b[0m has_mxnet \u001b[38;5;241m=\u001b[39m \u001b[38;5;28;01mFalse\u001b[39;00m\n\u001b[1;32m     98\u001b[0m \u001b[38;5;28;01mtry\u001b[39;00m:\n\u001b[0;32m---> 99\u001b[0m     \u001b[38;5;28;01mimport\u001b[39;00m \u001b[38;5;21;01mh5py\u001b[39;00m\n\u001b[1;32m    100\u001b[0m \u001b[38;5;28;01mexcept\u001b[39;00m \u001b[38;5;167;01mImportError\u001b[39;00m:  \u001b[38;5;66;03m# pragma: no cover\u001b[39;00m\n\u001b[1;32m    101\u001b[0m     h5py \u001b[38;5;241m=\u001b[39m \u001b[38;5;28;01mNone\u001b[39;00m\n",
      "File \u001b[0;32m/opt/anaconda3/lib/python3.12/site-packages/h5py/__init__.py:45\u001b[0m\n\u001b[1;32m     36\u001b[0m     _warn((\u001b[38;5;124m\"\u001b[39m\u001b[38;5;124mh5py is running against HDF5 \u001b[39m\u001b[38;5;132;01m{0}\u001b[39;00m\u001b[38;5;124m when it was built against \u001b[39m\u001b[38;5;132;01m{1}\u001b[39;00m\u001b[38;5;124m, \u001b[39m\u001b[38;5;124m\"\u001b[39m\n\u001b[1;32m     37\u001b[0m            \u001b[38;5;124m\"\u001b[39m\u001b[38;5;124mthis may cause problems\u001b[39m\u001b[38;5;124m\"\u001b[39m)\u001b[38;5;241m.\u001b[39mformat(\n\u001b[1;32m     38\u001b[0m             \u001b[38;5;124m'\u001b[39m\u001b[38;5;132;01m{0}\u001b[39;00m\u001b[38;5;124m.\u001b[39m\u001b[38;5;132;01m{1}\u001b[39;00m\u001b[38;5;124m.\u001b[39m\u001b[38;5;132;01m{2}\u001b[39;00m\u001b[38;5;124m'\u001b[39m\u001b[38;5;241m.\u001b[39mformat(\u001b[38;5;241m*\u001b[39mversion\u001b[38;5;241m.\u001b[39mhdf5_version_tuple),\n\u001b[1;32m     39\u001b[0m             \u001b[38;5;124m'\u001b[39m\u001b[38;5;132;01m{0}\u001b[39;00m\u001b[38;5;124m.\u001b[39m\u001b[38;5;132;01m{1}\u001b[39;00m\u001b[38;5;124m.\u001b[39m\u001b[38;5;132;01m{2}\u001b[39;00m\u001b[38;5;124m'\u001b[39m\u001b[38;5;241m.\u001b[39mformat(\u001b[38;5;241m*\u001b[39mversion\u001b[38;5;241m.\u001b[39mhdf5_built_version_tuple)\n\u001b[1;32m     40\u001b[0m     ))\n\u001b[1;32m     43\u001b[0m _errors\u001b[38;5;241m.\u001b[39msilence_errors()\n\u001b[0;32m---> 45\u001b[0m \u001b[38;5;28;01mfrom\u001b[39;00m \u001b[38;5;21;01m.\u001b[39;00m\u001b[38;5;21;01m_conv\u001b[39;00m \u001b[38;5;28;01mimport\u001b[39;00m register_converters \u001b[38;5;28;01mas\u001b[39;00m _register_converters, \\\n\u001b[1;32m     46\u001b[0m                    unregister_converters \u001b[38;5;28;01mas\u001b[39;00m _unregister_converters\n\u001b[1;32m     47\u001b[0m _register_converters()\n\u001b[1;32m     48\u001b[0m atexit\u001b[38;5;241m.\u001b[39mregister(_unregister_converters)\n",
      "File \u001b[0;32mh5py/_conv.pyx:1\u001b[0m, in \u001b[0;36minit h5py._conv\u001b[0;34m()\u001b[0m\n",
      "File \u001b[0;32mh5py/h5r.pyx:1\u001b[0m, in \u001b[0;36minit h5py.h5r\u001b[0;34m()\u001b[0m\n",
      "File \u001b[0;32mh5py/h5p.pyx:1\u001b[0m, in \u001b[0;36minit h5py.h5p\u001b[0;34m()\u001b[0m\n",
      "\u001b[0;31mValueError\u001b[0m: numpy.dtype size changed, may indicate binary incompatibility. Expected 96 from C header, got 88 from PyObject"
     ]
    }
   ],
   "source": [
    "# Import spacy, if you don't have it --> !pip install spacy \n",
    "import spacy\n",
    "spacy.__version__"
   ]
  },
  {
   "cell_type": "markdown",
   "metadata": {
    "colab_type": "text",
    "id": "yvxD1FqSMEs3"
   },
   "source": [
    "## Import a Language 🗺️🗺️"
   ]
  },
  {
   "cell_type": "markdown",
   "metadata": {
    "colab_type": "text",
    "id": "ft0D5hps7SJS"
   },
   "source": [
    "First of all, to get started in `spacy`, you will need to import a language. Indeed each language has its own specificities. In fact, you won't be able to have universal preprocessing templates. \n",
    "\n",
    "Let's import English specificities. To do so, you will need to first download a `model` which holds everything you need to apply on your preprocessing. "
   ]
  },
  {
   "cell_type": "code",
   "execution_count": 4,
   "metadata": {},
   "outputs": [
    {
     "name": "stdout",
     "output_type": "stream",
     "text": [
      "\u001b[38;5;2m✔ Download and installation successful\u001b[0m\n",
      "You can now load the package via spacy.load('en_core_web_sm')\n"
     ]
    }
   ],
   "source": [
    "# Download model \n",
    "!python -m spacy download en_core_web_sm -q"
   ]
  },
  {
   "cell_type": "markdown",
   "metadata": {},
   "source": [
    "Now you can simply load your model by importing it.   "
   ]
  },
  {
   "cell_type": "code",
   "execution_count": 5,
   "metadata": {
    "colab": {},
    "colab_type": "code",
    "id": "CNxspFY6MBql"
   },
   "outputs": [],
   "source": [
    "# Import English using en_core_web_sm.load()\n",
    "import en_core_web_sm\n",
    "nlp = en_core_web_sm.load()"
   ]
  },
  {
   "cell_type": "markdown",
   "metadata": {},
   "source": [
    "With `spacy`, you have many languages that you can load. Here they are (extracted from <a href=\"https://spacy.io/usage/models\" target=\"_blank\">`spacy`'s documentation</a>): \n",
    "\n",
    "|Language|Code|Language Data|Models|\n",
    "|--- |--- |--- |--- |\n",
    "|Chinese|zh|lang/zh|3 models|\n",
    "|Danish|da|lang/da|3 models|\n",
    "|Dutch|nl|lang/nl|3 models|\n",
    "|English|en|lang/en|3 models|\n",
    "|French|fr|lang/fr|3 models|\n",
    "|German|de|lang/de|3 models|\n",
    "|Greek|el|lang/el|3 models|\n",
    "|Italian|it|lang/it|3 models|\n",
    "|Japanese|ja|lang/ja|3 models|\n",
    "|Lithuanian|lt|lang/lt|3 models|\n",
    "|Multi-language|xx|lang/xx|1 model|\n",
    "|Norwegian Bokmål|nb|lang/nb|3 models|\n",
    "|Polish|pl|lang/pl|3 models|\n",
    "|Portuguese|pt|lang/pt|3 models|\n",
    "|Romanian|ro|lang/ro|3 models|\n",
    "|Spanish|es|lang/es|3 models|\n",
    "|Afrikaans|af|lang/af|none yet|\n",
    "|Albanian|sq|lang/sq|none yet|\n",
    "|Arabic|ar|lang/ar|none yet|\n",
    "|Armenian|hy|lang/hy|none yet|\n",
    "|Basque|eu|lang/eu|none yet|\n",
    "|Bengali|bn|lang/bn|none yet|\n",
    "|Bulgarian|bg|lang/bg|none yet|\n",
    "|Catalan|ca|lang/ca|none yet|\n",
    "|Croatian|hr|lang/hr|none yet|\n",
    "|Czech|cs|lang/cs|none yet|\n",
    "|Estonian|et|lang/et|none yet|\n",
    "|Finnish|fi|lang/fi|none yet|\n",
    "|Gujarati|gu|lang/gu|none yet|\n",
    "|Hebrew|he|lang/he|none yet|\n",
    "|Hindi|hi|lang/hi|none yet|\n",
    "|Hungarian|hu|lang/hu|none yet|\n",
    "|Icelandic|is|lang/is|none yet|\n",
    "|Indonesian|id|lang/id|none yet|\n",
    "|Irish|ga|lang/ga|none yet|\n",
    "|Kannada|kn|lang/kn|none yet|\n",
    "|Korean|ko|lang/ko|none yet|\n",
    "|Latvian|lv|lang/lv|none yet|\n",
    "|Ligurian|lij|lang/lij|none yet|\n",
    "|Luxembourgish|lb|lang/lb|none yet|\n",
    "|Macedonian|mk|lang/mk|none yet|\n",
    "|Malayalam|ml|lang/ml|none yet|\n",
    "|Marathi|mr|lang/mr|none yet|\n",
    "|Nepali|ne|lang/ne|none yet|\n",
    "|Persian|fa|lang/fa|none yet|\n",
    "|Russian|ru|lang/ru|none yet|\n",
    "|Serbian|sr|lang/sr|none yet|\n",
    "|Sinhala|si|lang/si|none yet|\n",
    "|Slovak|sk|lang/sk|none yet|\n",
    "|Slovenian|sl|lang/sl|none yet|\n",
    "|Swedish|sv|lang/sv|none yet|\n",
    "|Tagalog|tl|lang/tl|none yet|\n",
    "|Tamil|ta|lang/ta|none yet|\n",
    "|Tatar|tt|lang/tt|none yet|\n",
    "|Telugu|te|lang/te|none yet|\n",
    "|Thai|th|lang/th|none yet|\n",
    "|Turkish|tr|lang/tr|none yet|\n",
    "|Ukrainian|uk|lang/uk|none yet|\n",
    "|Urdu|ur|lang/ur|none yet|\n",
    "|Vietnamese|vi|lang/vi|none yet|\n",
    "|Yoruba|yo|lang/yo|none yet|"
   ]
  },
  {
   "cell_type": "markdown",
   "metadata": {},
   "source": [
    "All you will have to do is to do `python -m spacy da_core_web_sm` if you want to import danish model. "
   ]
  },
  {
   "cell_type": "markdown",
   "metadata": {
    "colab_type": "text",
    "id": "h9jnqZJhMQan"
   },
   "source": [
    "## Create a Doc object 📄📄"
   ]
  },
  {
   "cell_type": "markdown",
   "metadata": {
    "colab_type": "text",
    "id": "At6g2RZT7i0_"
   },
   "source": [
    "Once you have imported your language, you can create a `doc` object. This doc is your complete body of text. Once you have instantiated your doc, you will be able to use the full power of `spacy`. "
   ]
  },
  {
   "cell_type": "code",
   "execution_count": 6,
   "metadata": {
    "colab": {
     "base_uri": "https://localhost:8080/",
     "height": 124
    },
    "colab_type": "code",
    "executionInfo": {
     "elapsed": 1058,
     "status": "ok",
     "timestamp": 1581949363086,
     "user": {
      "displayName": "Antoine Krajnc",
      "photoUrl": "https://lh3.googleusercontent.com/a-/AAuE7mC4XzNDVGvURzl4T5duDbMr6bUdhkYkDul_37G0OA=s64",
      "userId": "08465960390418158788"
     },
     "user_tz": -60
    },
    "id": "zJYg4OC-MP6n",
    "outputId": "61609ff2-c7ce-473d-b4d1-3a45871523c5"
   },
   "outputs": [
    {
     "name": "stdout",
     "output_type": "stream",
     "text": [
      "Tokens: ['Hello', 'World', '!', 'Do', \"n't\", 'do', 'this', '.', 'I', 'am', 'superman', 'wherever', 'you', 'are', 'in', 'the', 'world']\n",
      "------------\n",
      "Lemma: ['hello', 'World', '!', 'do', 'not', 'do', 'this', '.', 'I', 'be', 'superman', 'wherever', 'you', 'be', 'in', 'the', 'world']\n",
      "------------\n",
      "Indices: [0, 1, 2, 3, 4, 5, 6, 7, 8, 9, 10, 11, 12, 13, 14, 15, 16]\n",
      "------------\n",
      "Alpha Numeric: [True, True, False, True, False, True, True, False, True, True, True, True, True, True, True, True, True]\n",
      "------------\n",
      "Numbers: [False, False, False, False, False, False, False, False, False, False, False, False, False, False, False, False, False]\n"
     ]
    }
   ],
   "source": [
    "doc = nlp(\"Hello World! Don't do this. I am superman wherever you are in the world\")\n",
    "\n",
    "# Print tokens\n",
    "print(\"Tokens: {}\".format([token.text for token in doc]))\n",
    "print(\"------------\")\n",
    "\n",
    "# Print Lemmatized tokens\n",
    "print(\"Lemma: {}\".format([token.lemma_ for token in doc]))\n",
    "print(\"------------\")\n",
    "\n",
    "# Print Indices of each tokens\n",
    "print(\"Indices: {}\".format([token.i for token in doc]))\n",
    "print(\"------------\")\n",
    "\n",
    "# Print whether tokens are alpha numeric \n",
    "print(\"Alpha Numeric: {}\".format([token.is_alpha for token in doc]))\n",
    "print(\"------------\")\n",
    "\n",
    "# Print whether tokens are numbers\n",
    "print(\"Numbers: {}\".format([token.like_num for token in doc]))"
   ]
  },
  {
   "cell_type": "markdown",
   "metadata": {
    "colab_type": "text",
    "id": "PZ6uIB4u7weu"
   },
   "source": [
    "As you can see above, once we created our `doc`, we were able to extract: \n",
    "\n",
    "* Tokens \n",
    "* Lemmatized tokens\n",
    "* Indices of each token \n",
    "* Booleans that determine whether tokens are words or punctuation (alpha_numeric) \n",
    "* Booleans that determine if the tokens are numbers\n",
    "\n",
    "Powerful, isn't it? 💪"
   ]
  },
  {
   "cell_type": "markdown",
   "metadata": {
    "colab_type": "text",
    "id": "mEB89kN58Rs2"
   },
   "source": [
    "## Stop Words ⛔⛔\n",
    "\n",
    "In NLP, stop words are all the linking words, articles and quantifiers that are widely used in a language but which are not in themselves meaningful.\n",
    "\n",
    "For each language, you have a list of stop words made by spacy. "
   ]
  },
  {
   "cell_type": "code",
   "execution_count": 7,
   "metadata": {
    "colab": {
     "base_uri": "https://localhost:8080/",
     "height": 55
    },
    "colab_type": "code",
    "executionInfo": {
     "elapsed": 493,
     "status": "ok",
     "timestamp": 1581949368857,
     "user": {
      "displayName": "Antoine Krajnc",
      "photoUrl": "https://lh3.googleusercontent.com/a-/AAuE7mC4XzNDVGvURzl4T5duDbMr6bUdhkYkDul_37G0OA=s64",
      "userId": "08465960390418158788"
     },
     "user_tz": -60
    },
    "id": "SFXmpBZWVsYW",
    "outputId": "d7ec8a9c-ab3e-436c-a9f0-3dc32aa8ce54"
   },
   "outputs": [
    {
     "name": "stdout",
     "output_type": "stream",
     "text": [
      "{'whoever', 'whither', 'serious', 'thus', 'hereafter', 'much', 'around', 'somewhere', 'quite', 'part', 'has', 'because', 'does', 'seems', 'front', 'alone', 'through', 'that', 'becoming', 'whereas', 'toward', 'under', 'regarding', 'other', 'to', 'each', 'am', 'before', 'becomes', 'seemed', 'without', 'some', 'even', 'move', 'last', 'seeming', 'own', 'where', 'rather', 'hers', 'afterwards', 'did', '’ve', 'almost', 'name', 'became', 'first', 'former', 'thereby', '’m', 'only', 'moreover', 'he', 'perhaps', 'of', 'over', 'become', 'namely', 'fifty', 'she', 'give', 'often', 'against', '‘ve', 'between', 'cannot', 'since', 'being', 'such', 'up', 'anyhow', 'also', 'more', 'done', 'above', '’ll', 'when', 'full', 'both', 'whenever', '’re', 'made', 'always', 'thence', \"'s\", 'get', 'will', \"'ve\", 'the', 'six', 'those', 'latterly', 'per', 'just', 'nine', 'one', 'ten', 'doing', 'there', 'least', 'should', \"'ll\", 'thereupon', 'no', 'please', 'seem', 'whole', 'what', 'our', 'anything', 'during', 'put', 'nowhere', 'had', 'while', 'top', 'by', 'among', 'wherever', 'n’t', 'empty', 'none', 'well', \"'d\", 'thereafter', 'whence', 'else', 'too', 'a', 'few', 'from', 'across', 'indeed', 'several', 'see', 'it', 'any', 'sometime', 'hereupon', 'yet', 'they', 'noone', 'how', 'two', 'less', 'bottom', 'anyway', 'ca', 'nothing', 'once', 're', 'after', 'fifteen', 'herself', 'whatever', 'sixty', 'elsewhere', 'third', 'anywhere', 'on', 'twenty', 'whom', 'whereafter', 'next', 'many', '’d', 'various', 'your', 'may', 'therein', 'via', 'used', 'latter', 'together', 'if', 'using', 'do', 'might', 'really', 'somehow', 'be', 'upon', 'itself', 'have', 'whose', 'an', 'every', 'not', 'although', \"'m\", 'or', 'nevertheless', 'say', 'beside', 'down', 'then', 'with', 'throughout', 'still', 'either', 'yourselves', '‘re', 'all', 'them', 'along', 'towards', 'who', 'its', 'her', 'make', 'out', 'eight', 'and', 'themselves', 'whether', 'me', 'wherein', 'herein', 'in', 'forty', 'hereby', 'ourselves', 'unless', 'call', 'into', 'within', 'been', 'are', 'you', 'can', 'was', 'which', 'most', 'otherwise', 'onto', 'already', 'these', 'enough', 'below', 'would', 'though', 'must', 'five', 'take', 'keep', '‘d', 'show', 'further', 'amongst', 'formerly', '‘ll', 'everyone', 'due', 'here', 'same', 'meanwhile', 'behind', 'besides', 'again', 'someone', 'four', 'hundred', 'mine', 'we', 'whereupon', 'i', '’s', 'their', 'him', 'us', 'nobody', 'were', 'side', 'nor', 'others', 'until', 'about', 'why', 'off', 'therefore', 'very', 'than', 'another', 'himself', \"n't\", 'at', '‘m', 'mostly', '‘s', 'everything', 'sometimes', 'as', \"'re\", 'yours', 'ever', 'neither', 'for', 'ours', 'myself', 'except', 'back', 'beyond', 'yourself', 'my', 'this', 'never', 'something', 'beforehand', 'thru', 'is', 'could', 'go', 'everywhere', 'his', 'whereby', 'anyone', 'amount', 'but', 'three', 'now', 'eleven', 'n‘t', 'hence', 'however', 'so', 'twelve'}\n"
     ]
    }
   ],
   "source": [
    "# Import english stop words\n",
    "from spacy.lang.en.stop_words import STOP_WORDS\n",
    "\n",
    "# Print stop words\n",
    "print(STOP_WORDS)"
   ]
  },
  {
   "cell_type": "markdown",
   "metadata": {
    "colab_type": "text",
    "id": "wled3-cnNZMe"
   },
   "source": [
    "## WordCloud ☁️☁️"
   ]
  },
  {
   "cell_type": "markdown",
   "metadata": {
    "colab_type": "text",
    "id": "AExMTSMN8qM2"
   },
   "source": [
    "One visualization that we do a lot when doing NLP is to create a word cloud. Although it is not directly a `spacy` method, we thought it was important to show you how to create it via `wordcloud` and `matplotlib`."
   ]
  },
  {
   "cell_type": "code",
   "execution_count": 8,
   "metadata": {},
   "outputs": [],
   "source": [
    "# Install wordcloud if necessary \n",
    "!pip install wordcloud -q"
   ]
  },
  {
   "cell_type": "code",
   "execution_count": 9,
   "metadata": {
    "colab": {},
    "colab_type": "code",
    "id": "Pi0DRf8T9Dnt"
   },
   "outputs": [
    {
     "data": {
      "image/png": "[encoded data removed]",
      "text/plain": [
       "<Figure size 432x288 with 1 Axes>"
      ]
     },
     "metadata": {
      "needs_background": "light"
     },
     "output_type": "display_data"
    }
   ],
   "source": [
    "# Import matplotlib and wordcloud \n",
    "import matplotlib.pyplot as plt\n",
    "import wordcloud\n",
    "\n",
    "# Instanciate WordCloud \n",
    "wd = wordcloud.WordCloud()\n",
    "cloud = wd.generate(doc.text)\n",
    "\n",
    "# Show word cloud with matplotlib \n",
    "plt.imshow(cloud)\n",
    "\n",
    "# Remove trailing logs \n",
    "plt.show()"
   ]
  },
  {
   "cell_type": "markdown",
   "metadata": {
    "colab_type": "text",
    "id": "DIkC-w-782EP"
   },
   "source": [
    "Making a word cloud with stop words can hide important words in a body of text, so here's how you can remove them. "
   ]
  },
  {
   "cell_type": "code",
   "execution_count": 10,
   "metadata": {
    "colab": {
     "base_uri": "https://localhost:8080/",
     "height": 236
    },
    "colab_type": "code",
    "executionInfo": {
     "elapsed": 1302,
     "status": "ok",
     "timestamp": 1581949370852,
     "user": {
      "displayName": "Antoine Krajnc",
      "photoUrl": "https://lh3.googleusercontent.com/a-/AAuE7mC4XzNDVGvURzl4T5duDbMr6bUdhkYkDul_37G0OA=s64",
      "userId": "08465960390418158788"
     },
     "user_tz": -60
    },
    "id": "3fZjHem1Nd5f",
    "outputId": "215d3878-d7ed-435c-e200-5094ff404af4"
   },
   "outputs": [
    {
     "data": {
      "image/png": "[encoded data removed]",
      "text/plain": [
       "<Figure size 432x288 with 1 Axes>"
      ]
     },
     "metadata": {
      "needs_background": "light"
     },
     "output_type": "display_data"
    }
   ],
   "source": [
    "# Instanciate WordCloud with no stop words\n",
    "wd = wordcloud.WordCloud(stopwords=STOP_WORDS)\n",
    "\n",
    "# Generate word cloud \n",
    "cloud = wd.generate(doc.text)\n",
    "\n",
    "# Show with matplotlib \n",
    "plt.imshow(cloud)\n",
    "\n",
    "# Remove trailing log \n",
    "plt.show()"
   ]
  },
  {
   "cell_type": "markdown",
   "metadata": {
    "colab_type": "text",
    "id": "bTGMn8spZGBX"
   },
   "source": [
    "## Visualize 🎨🎨"
   ]
  },
  {
   "cell_type": "markdown",
   "metadata": {
    "colab_type": "text",
    "id": "PRewxnIw8_Es"
   },
   "source": [
    "Finally, an interesting feature of spacy is `displacy` which allows you to see all the relationships between words in a corpus of text. Here's how you can use this visualization."
   ]
  },
  {
   "cell_type": "code",
   "execution_count": 11,
   "metadata": {
    "colab": {
     "base_uri": "https://localhost:8080/",
     "height": 284
    },
    "colab_type": "code",
    "executionInfo": {
     "elapsed": 370,
     "status": "ok",
     "timestamp": 1581949371171,
     "user": {
      "displayName": "Antoine Krajnc",
      "photoUrl": "https://lh3.googleusercontent.com/a-/AAuE7mC4XzNDVGvURzl4T5duDbMr6bUdhkYkDul_37G0OA=s64",
      "userId": "08465960390418158788"
     },
     "user_tz": -60
    },
    "id": "OhpBBKNgZHhD",
    "outputId": "52af76e7-d089-4107-8bd1-0948f8594875"
   },
   "outputs": [
    {
     "data": {
      "text/html": [
       "<span class=\"tex2jax_ignore\"><svg xmlns=\"http://www.w3.org/2000/svg\" xmlns:xlink=\"http://www.w3.org/1999/xlink\" xml:lang=\"en\" id=\"0a91a8609aa54228a4572e2f85e199bc-0\" class=\"displacy\" width=\"1100\" height=\"242.0\" direction=\"ltr\" style=\"max-width: none; height: 242.0px; color: #000000; background: #ffffff; font-family: Arial; direction: ltr\">\n",
       "<text class=\"displacy-token\" fill=\"currentColor\" text-anchor=\"middle\" y=\"152.0\">\n",
       "    <tspan class=\"displacy-word\" fill=\"currentColor\" x=\"50\">Hello</tspan>\n",
       "    <tspan class=\"displacy-tag\" dy=\"2em\" fill=\"currentColor\" x=\"50\">INTJ</tspan>\n",
       "</text>\n",
       "\n",
       "<text class=\"displacy-token\" fill=\"currentColor\" text-anchor=\"middle\" y=\"152.0\">\n",
       "    <tspan class=\"displacy-word\" fill=\"currentColor\" x=\"120\">World!</tspan>\n",
       "    <tspan class=\"displacy-tag\" dy=\"2em\" fill=\"currentColor\" x=\"120\">PROPN</tspan>\n",
       "</text>\n",
       "\n",
       "<text class=\"displacy-token\" fill=\"currentColor\" text-anchor=\"middle\" y=\"152.0\">\n",
       "    <tspan class=\"displacy-word\" fill=\"currentColor\" x=\"190\">Do</tspan>\n",
       "    <tspan class=\"displacy-tag\" dy=\"2em\" fill=\"currentColor\" x=\"190\">AUX</tspan>\n",
       "</text>\n",
       "\n",
       "<text class=\"displacy-token\" fill=\"currentColor\" text-anchor=\"middle\" y=\"152.0\">\n",
       "    <tspan class=\"displacy-word\" fill=\"currentColor\" x=\"260\">n't</tspan>\n",
       "    <tspan class=\"displacy-tag\" dy=\"2em\" fill=\"currentColor\" x=\"260\">PART</tspan>\n",
       "</text>\n",
       "\n",
       "<text class=\"displacy-token\" fill=\"currentColor\" text-anchor=\"middle\" y=\"152.0\">\n",
       "    <tspan class=\"displacy-word\" fill=\"currentColor\" x=\"330\">do</tspan>\n",
       "    <tspan class=\"displacy-tag\" dy=\"2em\" fill=\"currentColor\" x=\"330\">VERB</tspan>\n",
       "</text>\n",
       "\n",
       "<text class=\"displacy-token\" fill=\"currentColor\" text-anchor=\"middle\" y=\"152.0\">\n",
       "    <tspan class=\"displacy-word\" fill=\"currentColor\" x=\"400\">this.</tspan>\n",
       "    <tspan class=\"displacy-tag\" dy=\"2em\" fill=\"currentColor\" x=\"400\">PRON</tspan>\n",
       "</text>\n",
       "\n",
       "<text class=\"displacy-token\" fill=\"currentColor\" text-anchor=\"middle\" y=\"152.0\">\n",
       "    <tspan class=\"displacy-word\" fill=\"currentColor\" x=\"470\">I</tspan>\n",
       "    <tspan class=\"displacy-tag\" dy=\"2em\" fill=\"currentColor\" x=\"470\">PRON</tspan>\n",
       "</text>\n",
       "\n",
       "<text class=\"displacy-token\" fill=\"currentColor\" text-anchor=\"middle\" y=\"152.0\">\n",
       "    <tspan class=\"displacy-word\" fill=\"currentColor\" x=\"540\">am</tspan>\n",
       "    <tspan class=\"displacy-tag\" dy=\"2em\" fill=\"currentColor\" x=\"540\">AUX</tspan>\n",
       "</text>\n",
       "\n",
       "<text class=\"displacy-token\" fill=\"currentColor\" text-anchor=\"middle\" y=\"152.0\">\n",
       "    <tspan class=\"displacy-word\" fill=\"currentColor\" x=\"610\">superman</tspan>\n",
       "    <tspan class=\"displacy-tag\" dy=\"2em\" fill=\"currentColor\" x=\"610\">NOUN</tspan>\n",
       "</text>\n",
       "\n",
       "<text class=\"displacy-token\" fill=\"currentColor\" text-anchor=\"middle\" y=\"152.0\">\n",
       "    <tspan class=\"displacy-word\" fill=\"currentColor\" x=\"680\">wherever</tspan>\n",
       "    <tspan class=\"displacy-tag\" dy=\"2em\" fill=\"currentColor\" x=\"680\">SCONJ</tspan>\n",
       "</text>\n",
       "\n",
       "<text class=\"displacy-token\" fill=\"currentColor\" text-anchor=\"middle\" y=\"152.0\">\n",
       "    <tspan class=\"displacy-word\" fill=\"currentColor\" x=\"750\">you</tspan>\n",
       "    <tspan class=\"displacy-tag\" dy=\"2em\" fill=\"currentColor\" x=\"750\">PRON</tspan>\n",
       "</text>\n",
       "\n",
       "<text class=\"displacy-token\" fill=\"currentColor\" text-anchor=\"middle\" y=\"152.0\">\n",
       "    <tspan class=\"displacy-word\" fill=\"currentColor\" x=\"820\">are</tspan>\n",
       "    <tspan class=\"displacy-tag\" dy=\"2em\" fill=\"currentColor\" x=\"820\">AUX</tspan>\n",
       "</text>\n",
       "\n",
       "<text class=\"displacy-token\" fill=\"currentColor\" text-anchor=\"middle\" y=\"152.0\">\n",
       "    <tspan class=\"displacy-word\" fill=\"currentColor\" x=\"890\">in</tspan>\n",
       "    <tspan class=\"displacy-tag\" dy=\"2em\" fill=\"currentColor\" x=\"890\">ADP</tspan>\n",
       "</text>\n",
       "\n",
       "<text class=\"displacy-token\" fill=\"currentColor\" text-anchor=\"middle\" y=\"152.0\">\n",
       "    <tspan class=\"displacy-word\" fill=\"currentColor\" x=\"960\">the</tspan>\n",
       "    <tspan class=\"displacy-tag\" dy=\"2em\" fill=\"currentColor\" x=\"960\">DET</tspan>\n",
       "</text>\n",
       "\n",
       "<text class=\"displacy-token\" fill=\"currentColor\" text-anchor=\"middle\" y=\"152.0\">\n",
       "    <tspan class=\"displacy-word\" fill=\"currentColor\" x=\"1030\">world</tspan>\n",
       "    <tspan class=\"displacy-tag\" dy=\"2em\" fill=\"currentColor\" x=\"1030\">NOUN</tspan>\n",
       "</text>\n",
       "\n",
       "<g class=\"displacy-arrow\">\n",
       "    <path class=\"displacy-arc\" id=\"arrow-0a91a8609aa54228a4572e2f85e199bc-0-0\" stroke-width=\"2px\" d=\"M70,107.0 C70,72.0 110.0,72.0 110.0,107.0\" fill=\"none\" stroke=\"currentColor\"/>\n",
       "    <text dy=\"1.25em\" style=\"font-size: 0.8em; letter-spacing: 1px\">\n",
       "        <textPath xlink:href=\"#arrow-0a91a8609aa54228a4572e2f85e199bc-0-0\" class=\"displacy-label\" startOffset=\"50%\" side=\"left\" fill=\"currentColor\" text-anchor=\"middle\">npadvmod</textPath>\n",
       "    </text>\n",
       "    <path class=\"displacy-arrowhead\" d=\"M110.0,109.0 L118.0,97.0 102.0,97.0\" fill=\"currentColor\"/>\n",
       "</g>\n",
       "\n",
       "<g class=\"displacy-arrow\">\n",
       "    <path class=\"displacy-arc\" id=\"arrow-0a91a8609aa54228a4572e2f85e199bc-0-1\" stroke-width=\"2px\" d=\"M210,107.0 C210,37.0 325.0,37.0 325.0,107.0\" fill=\"none\" stroke=\"currentColor\"/>\n",
       "    <text dy=\"1.25em\" style=\"font-size: 0.8em; letter-spacing: 1px\">\n",
       "        <textPath xlink:href=\"#arrow-0a91a8609aa54228a4572e2f85e199bc-0-1\" class=\"displacy-label\" startOffset=\"50%\" side=\"left\" fill=\"currentColor\" text-anchor=\"middle\">aux</textPath>\n",
       "    </text>\n",
       "    <path class=\"displacy-arrowhead\" d=\"M210,109.0 L202,97.0 218,97.0\" fill=\"currentColor\"/>\n",
       "</g>\n",
       "\n",
       "<g class=\"displacy-arrow\">\n",
       "    <path class=\"displacy-arc\" id=\"arrow-0a91a8609aa54228a4572e2f85e199bc-0-2\" stroke-width=\"2px\" d=\"M280,107.0 C280,72.0 320.0,72.0 320.0,107.0\" fill=\"none\" stroke=\"currentColor\"/>\n",
       "    <text dy=\"1.25em\" style=\"font-size: 0.8em; letter-spacing: 1px\">\n",
       "        <textPath xlink:href=\"#arrow-0a91a8609aa54228a4572e2f85e199bc-0-2\" class=\"displacy-label\" startOffset=\"50%\" side=\"left\" fill=\"currentColor\" text-anchor=\"middle\">neg</textPath>\n",
       "    </text>\n",
       "    <path class=\"displacy-arrowhead\" d=\"M280,109.0 L272,97.0 288,97.0\" fill=\"currentColor\"/>\n",
       "</g>\n",
       "\n",
       "<g class=\"displacy-arrow\">\n",
       "    <path class=\"displacy-arc\" id=\"arrow-0a91a8609aa54228a4572e2f85e199bc-0-3\" stroke-width=\"2px\" d=\"M350,107.0 C350,72.0 390.0,72.0 390.0,107.0\" fill=\"none\" stroke=\"currentColor\"/>\n",
       "    <text dy=\"1.25em\" style=\"font-size: 0.8em; letter-spacing: 1px\">\n",
       "        <textPath xlink:href=\"#arrow-0a91a8609aa54228a4572e2f85e199bc-0-3\" class=\"displacy-label\" startOffset=\"50%\" side=\"left\" fill=\"currentColor\" text-anchor=\"middle\">dobj</textPath>\n",
       "    </text>\n",
       "    <path class=\"displacy-arrowhead\" d=\"M390.0,109.0 L398.0,97.0 382.0,97.0\" fill=\"currentColor\"/>\n",
       "</g>\n",
       "\n",
       "<g class=\"displacy-arrow\">\n",
       "    <path class=\"displacy-arc\" id=\"arrow-0a91a8609aa54228a4572e2f85e199bc-0-4\" stroke-width=\"2px\" d=\"M490,107.0 C490,72.0 530.0,72.0 530.0,107.0\" fill=\"none\" stroke=\"currentColor\"/>\n",
       "    <text dy=\"1.25em\" style=\"font-size: 0.8em; letter-spacing: 1px\">\n",
       "        <textPath xlink:href=\"#arrow-0a91a8609aa54228a4572e2f85e199bc-0-4\" class=\"displacy-label\" startOffset=\"50%\" side=\"left\" fill=\"currentColor\" text-anchor=\"middle\">nsubj</textPath>\n",
       "    </text>\n",
       "    <path class=\"displacy-arrowhead\" d=\"M490,109.0 L482,97.0 498,97.0\" fill=\"currentColor\"/>\n",
       "</g>\n",
       "\n",
       "<g class=\"displacy-arrow\">\n",
       "    <path class=\"displacy-arc\" id=\"arrow-0a91a8609aa54228a4572e2f85e199bc-0-5\" stroke-width=\"2px\" d=\"M560,107.0 C560,72.0 600.0,72.0 600.0,107.0\" fill=\"none\" stroke=\"currentColor\"/>\n",
       "    <text dy=\"1.25em\" style=\"font-size: 0.8em; letter-spacing: 1px\">\n",
       "        <textPath xlink:href=\"#arrow-0a91a8609aa54228a4572e2f85e199bc-0-5\" class=\"displacy-label\" startOffset=\"50%\" side=\"left\" fill=\"currentColor\" text-anchor=\"middle\">attr</textPath>\n",
       "    </text>\n",
       "    <path class=\"displacy-arrowhead\" d=\"M600.0,109.0 L608.0,97.0 592.0,97.0\" fill=\"currentColor\"/>\n",
       "</g>\n",
       "\n",
       "<g class=\"displacy-arrow\">\n",
       "    <path class=\"displacy-arc\" id=\"arrow-0a91a8609aa54228a4572e2f85e199bc-0-6\" stroke-width=\"2px\" d=\"M700,107.0 C700,37.0 815.0,37.0 815.0,107.0\" fill=\"none\" stroke=\"currentColor\"/>\n",
       "    <text dy=\"1.25em\" style=\"font-size: 0.8em; letter-spacing: 1px\">\n",
       "        <textPath xlink:href=\"#arrow-0a91a8609aa54228a4572e2f85e199bc-0-6\" class=\"displacy-label\" startOffset=\"50%\" side=\"left\" fill=\"currentColor\" text-anchor=\"middle\">advmod</textPath>\n",
       "    </text>\n",
       "    <path class=\"displacy-arrowhead\" d=\"M700,109.0 L692,97.0 708,97.0\" fill=\"currentColor\"/>\n",
       "</g>\n",
       "\n",
       "<g class=\"displacy-arrow\">\n",
       "    <path class=\"displacy-arc\" id=\"arrow-0a91a8609aa54228a4572e2f85e199bc-0-7\" stroke-width=\"2px\" d=\"M770,107.0 C770,72.0 810.0,72.0 810.0,107.0\" fill=\"none\" stroke=\"currentColor\"/>\n",
       "    <text dy=\"1.25em\" style=\"font-size: 0.8em; letter-spacing: 1px\">\n",
       "        <textPath xlink:href=\"#arrow-0a91a8609aa54228a4572e2f85e199bc-0-7\" class=\"displacy-label\" startOffset=\"50%\" side=\"left\" fill=\"currentColor\" text-anchor=\"middle\">nsubj</textPath>\n",
       "    </text>\n",
       "    <path class=\"displacy-arrowhead\" d=\"M770,109.0 L762,97.0 778,97.0\" fill=\"currentColor\"/>\n",
       "</g>\n",
       "\n",
       "<g class=\"displacy-arrow\">\n",
       "    <path class=\"displacy-arc\" id=\"arrow-0a91a8609aa54228a4572e2f85e199bc-0-8\" stroke-width=\"2px\" d=\"M560,107.0 C560,2.0 820.0,2.0 820.0,107.0\" fill=\"none\" stroke=\"currentColor\"/>\n",
       "    <text dy=\"1.25em\" style=\"font-size: 0.8em; letter-spacing: 1px\">\n",
       "        <textPath xlink:href=\"#arrow-0a91a8609aa54228a4572e2f85e199bc-0-8\" class=\"displacy-label\" startOffset=\"50%\" side=\"left\" fill=\"currentColor\" text-anchor=\"middle\">advcl</textPath>\n",
       "    </text>\n",
       "    <path class=\"displacy-arrowhead\" d=\"M820.0,109.0 L828.0,97.0 812.0,97.0\" fill=\"currentColor\"/>\n",
       "</g>\n",
       "\n",
       "<g class=\"displacy-arrow\">\n",
       "    <path class=\"displacy-arc\" id=\"arrow-0a91a8609aa54228a4572e2f85e199bc-0-9\" stroke-width=\"2px\" d=\"M840,107.0 C840,72.0 880.0,72.0 880.0,107.0\" fill=\"none\" stroke=\"currentColor\"/>\n",
       "    <text dy=\"1.25em\" style=\"font-size: 0.8em; letter-spacing: 1px\">\n",
       "        <textPath xlink:href=\"#arrow-0a91a8609aa54228a4572e2f85e199bc-0-9\" class=\"displacy-label\" startOffset=\"50%\" side=\"left\" fill=\"currentColor\" text-anchor=\"middle\">prep</textPath>\n",
       "    </text>\n",
       "    <path class=\"displacy-arrowhead\" d=\"M880.0,109.0 L888.0,97.0 872.0,97.0\" fill=\"currentColor\"/>\n",
       "</g>\n",
       "\n",
       "<g class=\"displacy-arrow\">\n",
       "    <path class=\"displacy-arc\" id=\"arrow-0a91a8609aa54228a4572e2f85e199bc-0-10\" stroke-width=\"2px\" d=\"M980,107.0 C980,72.0 1020.0,72.0 1020.0,107.0\" fill=\"none\" stroke=\"currentColor\"/>\n",
       "    <text dy=\"1.25em\" style=\"font-size: 0.8em; letter-spacing: 1px\">\n",
       "        <textPath xlink:href=\"#arrow-0a91a8609aa54228a4572e2f85e199bc-0-10\" class=\"displacy-label\" startOffset=\"50%\" side=\"left\" fill=\"currentColor\" text-anchor=\"middle\">det</textPath>\n",
       "    </text>\n",
       "    <path class=\"displacy-arrowhead\" d=\"M980,109.0 L972,97.0 988,97.0\" fill=\"currentColor\"/>\n",
       "</g>\n",
       "\n",
       "<g class=\"displacy-arrow\">\n",
       "    <path class=\"displacy-arc\" id=\"arrow-0a91a8609aa54228a4572e2f85e199bc-0-11\" stroke-width=\"2px\" d=\"M910,107.0 C910,37.0 1025.0,37.0 1025.0,107.0\" fill=\"none\" stroke=\"currentColor\"/>\n",
       "    <text dy=\"1.25em\" style=\"font-size: 0.8em; letter-spacing: 1px\">\n",
       "        <textPath xlink:href=\"#arrow-0a91a8609aa54228a4572e2f85e199bc-0-11\" class=\"displacy-label\" startOffset=\"50%\" side=\"left\" fill=\"currentColor\" text-anchor=\"middle\">pobj</textPath>\n",
       "    </text>\n",
       "    <path class=\"displacy-arrowhead\" d=\"M1025.0,109.0 L1033.0,97.0 1017.0,97.0\" fill=\"currentColor\"/>\n",
       "</g>\n",
       "</svg></span>"
      ],
      "text/plain": [
       "<IPython.core.display.HTML object>"
      ]
     },
     "metadata": {},
     "output_type": "display_data"
    }
   ],
   "source": [
    "# import displacy\n",
    "from spacy import displacy\n",
    "\n",
    "# render displacy\n",
    "displacy.render(doc, style='dep', jupyter=True,options={'distance': 70})"
   ]
  },
  {
   "cell_type": "markdown",
   "metadata": {},
   "source": [
    "## Text Mining with `sklearn` ⛏️⛏️\n",
    "\n",
    "Now that we have tokens and we can easily manipulate our corpus of text, let's now sklearn for advanced text mining technics like `tf-idf`.\n",
    "\n",
    "In terms of process, we will: \n",
    "\n",
    "1. Create an array of documents \n",
    "2. Preprocess text (remove punctuation...)\n",
    "3. Create a Tf-IDF matrix using sklearn"
   ]
  },
  {
   "cell_type": "markdown",
   "metadata": {},
   "source": [
    "### Create an array of documents 💌\n",
    "\n",
    "Let's see with a closer to *real-world* example where we have different documents. We will then create a `pandas` dataframe that includes each documents. "
   ]
  },
  {
   "cell_type": "code",
   "execution_count": 12,
   "metadata": {},
   "outputs": [
    {
     "data": {
      "text/html": [
       "<div>\n",
       "<style scoped>\n",
       "    .dataframe tbody tr th:only-of-type {\n",
       "        vertical-align: middle;\n",
       "    }\n",
       "\n",
       "    .dataframe tbody tr th {\n",
       "        vertical-align: top;\n",
       "    }\n",
       "\n",
       "    .dataframe thead th {\n",
       "        text-align: right;\n",
       "    }\n",
       "</style>\n",
       "<table border=\"1\" class=\"dataframe\">\n",
       "  <thead>\n",
       "    <tr style=\"text-align: right;\">\n",
       "      <th></th>\n",
       "      <th>documents</th>\n",
       "    </tr>\n",
       "  </thead>\n",
       "  <tbody>\n",
       "    <tr>\n",
       "      <th>0</th>\n",
       "      <td>Hello World! Don't do this. I am superman wher...</td>\n",
       "    </tr>\n",
       "    <tr>\n",
       "      <th>1</th>\n",
       "      <td>Do. Or do not. There is no try.</td>\n",
       "    </tr>\n",
       "    <tr>\n",
       "      <th>2</th>\n",
       "      <td>In my experience there is no such thing as luck.</td>\n",
       "    </tr>\n",
       "    <tr>\n",
       "      <th>3</th>\n",
       "      <td>I find your lack of faith disturbing.</td>\n",
       "    </tr>\n",
       "    <tr>\n",
       "      <th>4</th>\n",
       "      <td>I’ve got a bad feeling about this.</td>\n",
       "    </tr>\n",
       "  </tbody>\n",
       "</table>\n",
       "</div>"
      ],
      "text/plain": [
       "                                           documents\n",
       "0  Hello World! Don't do this. I am superman wher...\n",
       "1                    Do. Or do not. There is no try.\n",
       "2   In my experience there is no such thing as luck.\n",
       "3              I find your lack of faith disturbing.\n",
       "4                 I’ve got a bad feeling about this."
      ]
     },
     "execution_count": 12,
     "metadata": {},
     "output_type": "execute_result"
    }
   ],
   "source": [
    "# Create an array of documents \n",
    "doc_1 = \"Hello World! Don't do this. I am superman wherever you are in the world\"\n",
    "doc_2 = \"Do. Or do not. There is no try.\"\n",
    "doc_3 = \"In my experience there is no such thing as luck.\"\n",
    "doc_4 = \"I find your lack of faith disturbing.\"\n",
    "doc_5 = \"I’ve got a bad feeling about this.\"\n",
    "\n",
    "# insert that in a Pandas dataset \n",
    "\n",
    "## importing pandas \n",
    "import pandas as pd \n",
    "\n",
    "## insert documents docs in a DataFrame\n",
    "df = pd.DataFrame()\n",
    "df[\"documents\"] = [doc_1,doc_2,doc_3,doc_4,doc_5]\n",
    "df"
   ]
  },
  {
   "cell_type": "markdown",
   "metadata": {},
   "source": [
    "### Preprocessing text 🧽\n",
    "\n",
    "Now that we have a dataset. Let's go ahead and preprocess it so that we remove punctuation, lower case all characters and remove stop words. "
   ]
  },
  {
   "cell_type": "code",
   "execution_count": 13,
   "metadata": {},
   "outputs": [
    {
     "data": {
      "text/plain": [
       "'!\"#$%&\\'()*+,-./:;<=>?@[\\\\]^_`{|}~'"
      ]
     },
     "execution_count": 13,
     "metadata": {},
     "output_type": "execute_result"
    }
   ],
   "source": [
    "# Get all string punctuation that we want to remove. \n",
    "import string \n",
    "string.punctuation"
   ]
  },
  {
   "cell_type": "code",
   "execution_count": 37,
   "metadata": {},
   "outputs": [
    {
     "data": {
      "text/html": [
       "<div>\n",
       "<style scoped>\n",
       "    .dataframe tbody tr th:only-of-type {\n",
       "        vertical-align: middle;\n",
       "    }\n",
       "\n",
       "    .dataframe tbody tr th {\n",
       "        vertical-align: top;\n",
       "    }\n",
       "\n",
       "    .dataframe thead th {\n",
       "        text-align: right;\n",
       "    }\n",
       "</style>\n",
       "<table border=\"1\" class=\"dataframe\">\n",
       "  <thead>\n",
       "    <tr style=\"text-align: right;\">\n",
       "      <th></th>\n",
       "      <th>documents</th>\n",
       "      <th>clean_documents</th>\n",
       "    </tr>\n",
       "  </thead>\n",
       "  <tbody>\n",
       "    <tr>\n",
       "      <th>0</th>\n",
       "      <td>Hello World! Don't do this. I am superman wher...</td>\n",
       "      <td>hello world  don't do this  i am superman wher...</td>\n",
       "    </tr>\n",
       "    <tr>\n",
       "      <th>1</th>\n",
       "      <td>Do. Or do not. There is no try.</td>\n",
       "      <td>do  or do not  there is no try</td>\n",
       "    </tr>\n",
       "    <tr>\n",
       "      <th>2</th>\n",
       "      <td>In my experience there is no such thing as luck.</td>\n",
       "      <td>in my experience there is no such thing as luck</td>\n",
       "    </tr>\n",
       "    <tr>\n",
       "      <th>3</th>\n",
       "      <td>I find your lack of faith disturbing.</td>\n",
       "      <td>i find your lack of faith disturbing</td>\n",
       "    </tr>\n",
       "    <tr>\n",
       "      <th>4</th>\n",
       "      <td>I’ve got a bad feeling about this.</td>\n",
       "      <td>i’ve got a bad feeling about this</td>\n",
       "    </tr>\n",
       "  </tbody>\n",
       "</table>\n",
       "</div>"
      ],
      "text/plain": [
       "                                           documents  \\\n",
       "0  Hello World! Don't do this. I am superman wher...   \n",
       "1                    Do. Or do not. There is no try.   \n",
       "2   In my experience there is no such thing as luck.   \n",
       "3              I find your lack of faith disturbing.   \n",
       "4                 I’ve got a bad feeling about this.   \n",
       "\n",
       "                                     clean_documents  \n",
       "0  hello world  don't do this  i am superman wher...  \n",
       "1                    do  or do not  there is no try   \n",
       "2   in my experience there is no such thing as luck   \n",
       "3              i find your lack of faith disturbing   \n",
       "4                 i’ve got a bad feeling about this   "
      ]
     },
     "execution_count": 37,
     "metadata": {},
     "output_type": "execute_result"
    }
   ],
   "source": [
    "# Remove punctuation and lower case all doc \n",
    "# We use Regular Expression. More info here --> https://stackoverflow.com/questions/20731966/regex-remove-all-special-characters-except-numbers\n",
    "# Build regular expression with Regexr --> https://regexr.com/\n",
    "df['clean_documents'] = df['documents'].str.replace(r\"[!\\\"#$%&()*+,-./:;<=>?@[\\\\\\]^_`{|}~]+\", \" \") \n",
    "\n",
    "# Could also use: \n",
    "\"\"\"\n",
    "import re\n",
    "df['clean_documents'] = df['documents'].apply(lambda x: re.sub('[!\\\"#$%&()*+,-./:;<=>?@\\[\\]^_`{|}~\\\\\\]+',\" \", x)) \n",
    "\"\"\"\n",
    "\n",
    "df['clean_documents'] = df['clean_documents'].fillna('').apply(lambda x: x.lower())\n",
    "df"
   ]
  },
  {
   "cell_type": "code",
   "execution_count": null,
   "metadata": {},
   "outputs": [
    {
     "data": {
      "text/plain": [
       "0    [hello, world,  ,  , superman, world]\n",
       "1                              [ ,  , try]\n",
       "2                [experience, thing, luck]\n",
       "3             [find, lack, faith, disturb]\n",
       "4                      [get, bad, feeling]\n",
       "Name: clean_documents, dtype: object"
      ]
     },
     "execution_count": 38,
     "metadata": {},
     "output_type": "execute_result"
    }
   ],
   "source": [
    "## Import stop words from spacy \n",
    "from spacy.lang.en.stop_words import STOP_WORDS\n",
    "\n",
    "## Tokenize the cleaned document\n",
    "tokenized_doc = df['clean_documents'].fillna('').apply(lambda x: nlp(x))\n",
    "\n",
    "# remove stop-words\n",
    "# tokenized_doc = tokenized_doc.apply(lambda x: [token.lemma_ for token in x if token.text not in STOP_WORDS])\n",
    "tokenized_doc = tokenized_doc.apply(lambda x: [token.lemma_ for token in x if token.lemma_ not in STOP_WORDS])\n",
    "tokenized_doc"
   ]
  },
  {
   "cell_type": "code",
   "execution_count": 39,
   "metadata": {},
   "outputs": [
    {
     "data": {
      "text/html": [
       "<div>\n",
       "<style scoped>\n",
       "    .dataframe tbody tr th:only-of-type {\n",
       "        vertical-align: middle;\n",
       "    }\n",
       "\n",
       "    .dataframe tbody tr th {\n",
       "        vertical-align: top;\n",
       "    }\n",
       "\n",
       "    .dataframe thead th {\n",
       "        text-align: right;\n",
       "    }\n",
       "</style>\n",
       "<table border=\"1\" class=\"dataframe\">\n",
       "  <thead>\n",
       "    <tr style=\"text-align: right;\">\n",
       "      <th></th>\n",
       "      <th>documents</th>\n",
       "      <th>clean_documents</th>\n",
       "      <th>clean_token</th>\n",
       "    </tr>\n",
       "  </thead>\n",
       "  <tbody>\n",
       "    <tr>\n",
       "      <th>0</th>\n",
       "      <td>Hello World! Don't do this. I am superman wher...</td>\n",
       "      <td>hello world  don't do this  i am superman wher...</td>\n",
       "      <td>hello world     superman world</td>\n",
       "    </tr>\n",
       "    <tr>\n",
       "      <th>1</th>\n",
       "      <td>Do. Or do not. There is no try.</td>\n",
       "      <td>do  or do not  there is no try</td>\n",
       "      <td>try</td>\n",
       "    </tr>\n",
       "    <tr>\n",
       "      <th>2</th>\n",
       "      <td>In my experience there is no such thing as luck.</td>\n",
       "      <td>in my experience there is no such thing as luck</td>\n",
       "      <td>experience thing luck</td>\n",
       "    </tr>\n",
       "    <tr>\n",
       "      <th>3</th>\n",
       "      <td>I find your lack of faith disturbing.</td>\n",
       "      <td>i find your lack of faith disturbing</td>\n",
       "      <td>find lack faith disturb</td>\n",
       "    </tr>\n",
       "    <tr>\n",
       "      <th>4</th>\n",
       "      <td>I’ve got a bad feeling about this.</td>\n",
       "      <td>i’ve got a bad feeling about this</td>\n",
       "      <td>get bad feeling</td>\n",
       "    </tr>\n",
       "  </tbody>\n",
       "</table>\n",
       "</div>"
      ],
      "text/plain": [
       "                                           documents  \\\n",
       "0  Hello World! Don't do this. I am superman wher...   \n",
       "1                    Do. Or do not. There is no try.   \n",
       "2   In my experience there is no such thing as luck.   \n",
       "3              I find your lack of faith disturbing.   \n",
       "4                 I’ve got a bad feeling about this.   \n",
       "\n",
       "                                     clean_documents  \\\n",
       "0  hello world  don't do this  i am superman wher...   \n",
       "1                    do  or do not  there is no try    \n",
       "2   in my experience there is no such thing as luck    \n",
       "3              i find your lack of faith disturbing    \n",
       "4                 i’ve got a bad feeling about this    \n",
       "\n",
       "                      clean_token  \n",
       "0  hello world     superman world  \n",
       "1                             try  \n",
       "2           experience thing luck  \n",
       "3         find lack faith disturb  \n",
       "4                 get bad feeling  "
      ]
     },
     "execution_count": 39,
     "metadata": {},
     "output_type": "execute_result"
    }
   ],
   "source": [
    "# add a clean token column \n",
    "df[\"clean_token\"] = [\" \".join(x) for x in tokenized_doc]\n",
    "df.head()"
   ]
  },
  {
   "cell_type": "markdown",
   "metadata": {},
   "source": [
    "### Create TF-IDF matrix 🍍\n",
    "\n",
    "Finally, let's create a tf-idf matrix where we can classify each word's importance. "
   ]
  },
  {
   "cell_type": "code",
   "execution_count": 40,
   "metadata": {},
   "outputs": [
    {
     "data": {
      "text/plain": [
       "array([[0.        , 0.        , 0.        , 0.        , 0.        ,\n",
       "        0.40824829, 0.        , 0.        , 0.40824829, 0.        ,\n",
       "        0.        , 0.81649658],\n",
       "       [0.        , 0.        , 0.        , 0.        , 0.        ,\n",
       "        0.        , 0.        , 0.        , 0.        , 0.        ,\n",
       "        1.        , 0.        ],\n",
       "       [0.        , 0.        , 0.57735027, 0.        , 0.        ,\n",
       "        0.        , 0.        , 0.57735027, 0.        , 0.57735027,\n",
       "        0.        , 0.        ],\n",
       "       [0.        , 0.57735027, 0.        , 0.57735027, 0.        ,\n",
       "        0.        , 0.57735027, 0.        , 0.        , 0.        ,\n",
       "        0.        , 0.        ],\n",
       "       [0.70710678, 0.        , 0.        , 0.        , 0.70710678,\n",
       "        0.        , 0.        , 0.        , 0.        , 0.        ,\n",
       "        0.        , 0.        ]])"
      ]
     },
     "execution_count": 40,
     "metadata": {},
     "output_type": "execute_result"
    }
   ],
   "source": [
    "# Tfidf transformer \n",
    "from sklearn.feature_extraction.text import TfidfVectorizer\n",
    "\n",
    "# TF-IDF vector\n",
    "vectorizer = TfidfVectorizer(stop_words='english')\n",
    "X = vectorizer.fit_transform(df['clean_token'])\n",
    "\n",
    "# X is a generator. We can transform that as an array\n",
    "dense = X.toarray()\n",
    "dense"
   ]
  },
  {
   "cell_type": "code",
   "execution_count": 41,
   "metadata": {
    "scrolled": true
   },
   "outputs": [
    {
     "data": {
      "text/plain": [
       "{'hello': 5,\n",
       " 'world': 11,\n",
       " 'superman': 8,\n",
       " 'try': 10,\n",
       " 'experience': 2,\n",
       " 'thing': 9,\n",
       " 'luck': 7,\n",
       " 'lack': 6,\n",
       " 'faith': 3,\n",
       " 'disturb': 1,\n",
       " 'bad': 0,\n",
       " 'feeling': 4}"
      ]
     },
     "execution_count": 41,
     "metadata": {},
     "output_type": "execute_result"
    }
   ],
   "source": [
    "# Get tokens for all documents\n",
    "vectorizer.vocabulary_"
   ]
  },
  {
   "cell_type": "code",
   "execution_count": 42,
   "metadata": {
    "scrolled": true
   },
   "outputs": [
    {
     "data": {
      "text/html": [
       "<div>\n",
       "<style scoped>\n",
       "    .dataframe tbody tr th:only-of-type {\n",
       "        vertical-align: middle;\n",
       "    }\n",
       "\n",
       "    .dataframe tbody tr th {\n",
       "        vertical-align: top;\n",
       "    }\n",
       "\n",
       "    .dataframe thead th {\n",
       "        text-align: right;\n",
       "    }\n",
       "</style>\n",
       "<table border=\"1\" class=\"dataframe\">\n",
       "  <thead>\n",
       "    <tr style=\"text-align: right;\">\n",
       "      <th></th>\n",
       "      <th>bad</th>\n",
       "      <th>disturb</th>\n",
       "      <th>experience</th>\n",
       "      <th>faith</th>\n",
       "      <th>feeling</th>\n",
       "      <th>hello</th>\n",
       "      <th>lack</th>\n",
       "      <th>luck</th>\n",
       "      <th>superman</th>\n",
       "      <th>thing</th>\n",
       "      <th>try</th>\n",
       "      <th>world</th>\n",
       "    </tr>\n",
       "  </thead>\n",
       "  <tbody>\n",
       "    <tr>\n",
       "      <th>doc_1</th>\n",
       "      <td>0.000000</td>\n",
       "      <td>0.00000</td>\n",
       "      <td>0.00000</td>\n",
       "      <td>0.00000</td>\n",
       "      <td>0.000000</td>\n",
       "      <td>0.408248</td>\n",
       "      <td>0.00000</td>\n",
       "      <td>0.00000</td>\n",
       "      <td>0.408248</td>\n",
       "      <td>0.00000</td>\n",
       "      <td>0.0</td>\n",
       "      <td>0.816497</td>\n",
       "    </tr>\n",
       "    <tr>\n",
       "      <th>doc_2</th>\n",
       "      <td>0.000000</td>\n",
       "      <td>0.00000</td>\n",
       "      <td>0.00000</td>\n",
       "      <td>0.00000</td>\n",
       "      <td>0.000000</td>\n",
       "      <td>0.000000</td>\n",
       "      <td>0.00000</td>\n",
       "      <td>0.00000</td>\n",
       "      <td>0.000000</td>\n",
       "      <td>0.00000</td>\n",
       "      <td>1.0</td>\n",
       "      <td>0.000000</td>\n",
       "    </tr>\n",
       "    <tr>\n",
       "      <th>doc_3</th>\n",
       "      <td>0.000000</td>\n",
       "      <td>0.00000</td>\n",
       "      <td>0.57735</td>\n",
       "      <td>0.00000</td>\n",
       "      <td>0.000000</td>\n",
       "      <td>0.000000</td>\n",
       "      <td>0.00000</td>\n",
       "      <td>0.57735</td>\n",
       "      <td>0.000000</td>\n",
       "      <td>0.57735</td>\n",
       "      <td>0.0</td>\n",
       "      <td>0.000000</td>\n",
       "    </tr>\n",
       "    <tr>\n",
       "      <th>doc_4</th>\n",
       "      <td>0.000000</td>\n",
       "      <td>0.57735</td>\n",
       "      <td>0.00000</td>\n",
       "      <td>0.57735</td>\n",
       "      <td>0.000000</td>\n",
       "      <td>0.000000</td>\n",
       "      <td>0.57735</td>\n",
       "      <td>0.00000</td>\n",
       "      <td>0.000000</td>\n",
       "      <td>0.00000</td>\n",
       "      <td>0.0</td>\n",
       "      <td>0.000000</td>\n",
       "    </tr>\n",
       "    <tr>\n",
       "      <th>doc_5</th>\n",
       "      <td>0.707107</td>\n",
       "      <td>0.00000</td>\n",
       "      <td>0.00000</td>\n",
       "      <td>0.00000</td>\n",
       "      <td>0.707107</td>\n",
       "      <td>0.000000</td>\n",
       "      <td>0.00000</td>\n",
       "      <td>0.00000</td>\n",
       "      <td>0.000000</td>\n",
       "      <td>0.00000</td>\n",
       "      <td>0.0</td>\n",
       "      <td>0.000000</td>\n",
       "    </tr>\n",
       "  </tbody>\n",
       "</table>\n",
       "</div>"
      ],
      "text/plain": [
       "            bad  disturb  experience    faith   feeling     hello     lack  \\\n",
       "doc_1  0.000000  0.00000     0.00000  0.00000  0.000000  0.408248  0.00000   \n",
       "doc_2  0.000000  0.00000     0.00000  0.00000  0.000000  0.000000  0.00000   \n",
       "doc_3  0.000000  0.00000     0.57735  0.00000  0.000000  0.000000  0.00000   \n",
       "doc_4  0.000000  0.57735     0.00000  0.57735  0.000000  0.000000  0.57735   \n",
       "doc_5  0.707107  0.00000     0.00000  0.00000  0.707107  0.000000  0.00000   \n",
       "\n",
       "          luck  superman    thing  try     world  \n",
       "doc_1  0.00000  0.408248  0.00000  0.0  0.816497  \n",
       "doc_2  0.00000  0.000000  0.00000  1.0  0.000000  \n",
       "doc_3  0.57735  0.000000  0.57735  0.0  0.000000  \n",
       "doc_4  0.00000  0.000000  0.00000  0.0  0.000000  \n",
       "doc_5  0.00000  0.000000  0.00000  0.0  0.000000  "
      ]
     },
     "execution_count": 42,
     "metadata": {},
     "output_type": "execute_result"
    }
   ],
   "source": [
    "# Create a tf-idf matrix for each token and each document\n",
    "pd.DataFrame(dense, \n",
    "             columns=[x for x in vectorizer.get_feature_names()], \n",
    "             index=[\"doc_{}\".format(x) for x in range(1, 6)] )"
   ]
  },
  {
   "cell_type": "markdown",
   "metadata": {},
   "source": [
    "Here, we can see that **doc1** is described as a mixing of \"don\", \"hello\", \"superman\", and \"world\", the latter being twice more important as the other ones (because it has been found twice in the document)"
   ]
  },
  {
   "cell_type": "markdown",
   "metadata": {
    "colab_type": "text",
    "id": "fQ8N4H_KWczv"
   },
   "source": [
    "## Resources 📚📚\n",
    "\n",
    "* <a href=\"https://scikit-learn.org/stable/modules/generated/sklearn.feature_extraction.text.TfidfVectorizer.html?highlight=tfidf#sklearn.feature_extraction.text.TfidfVectorizer\" target=\"_blank\">TF-IDF Vectorizer</a>\n",
    "* <a href=\"https://aylien.com/blog/10-common-nlp-terms-explained-for-the-text-analysis-novice\" target=\"_blank\">10 Common NLP Terms Explained for the Text Analysis Novice</a>\n",
    "* [Lemmatizer](https://spacy.io/api/lemmatizer)\n",
    "* [Adding Languages](https://spacy.io/usage/adding-languages#lemmatizer)\n",
    "* [Getting Started with spaCy for Natural Language Processing](https://www.kdnuggets.com/2018/05/getting-started-spacy-natural-language-processing.html)"
   ]
  }
 ],
 "metadata": {
  "colab": {
   "authorship_tag": "ABX9TyPRug/xoB0w3Vnp9Ro21r9L",
   "collapsed_sections": [],
   "name": "NLP with Spacy.ipynb",
   "provenance": []
  },
  "kernelspec": {
   "display_name": "base",
   "language": "python",
   "name": "python3"
  },
  "language_info": {
   "codemirror_mode": {
    "name": "ipython",
    "version": 3
   },
   "file_extension": ".py",
   "mimetype": "text/x-python",
   "name": "python",
   "nbconvert_exporter": "python",
   "pygments_lexer": "ipython3",
   "version": "3.12.7"
  }
 },
 "nbformat": 4,
 "nbformat_minor": 4
}
