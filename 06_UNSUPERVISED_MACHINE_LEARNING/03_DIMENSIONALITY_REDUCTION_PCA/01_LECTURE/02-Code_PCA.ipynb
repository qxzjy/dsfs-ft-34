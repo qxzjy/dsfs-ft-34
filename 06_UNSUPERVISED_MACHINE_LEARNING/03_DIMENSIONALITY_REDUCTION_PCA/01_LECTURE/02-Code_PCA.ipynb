{
  "cells": [
    {
      "cell_type": "markdown",
      "metadata": {
        "id": "Otwmj4rj0H3M"
      },
      "source": [
        "# PCA - Code\n",
        "\n",
        "## What you will learn in this course 🧐🧐\n",
        "\n",
        "While a lot of theory come into place when creating a PCA, coding it is rather simple. In this course, you will learn:\n",
        "\n",
        "* How to implement PCA\n",
        "* How to choose principal components\n",
        "* How to create covariance matrix\n",
        "* How to implement basic linear algebra"
      ]
    },
    {
      "cell_type": "code",
      "execution_count": 1,
      "metadata": {
        "id": "p3dgxb3KVRrC"
      },
      "outputs": [],
      "source": [
        "# Import plotly\n",
        "import plotly.express as px\n",
        "import plotly.graph_objects as go\n",
        "import plotly.io as pio"
      ]
    },
    {
      "cell_type": "markdown",
      "metadata": {
        "id": "ju2bXFBm0H3R"
      },
      "source": [
        "## Dataset 🔥🔥\n",
        "\n",
        "Let's use <a href=\"https://scikit-learn.org/stable/datasets/index.html#iris-dataset\" target=\"_blank\">Iris</a> from <a href=\"https://scikit-learn.org/stable/index.html\" target=\"_blank\"> Scikit Learn</a> to illustrate PCA."
      ]
    },
    {
      "cell_type": "code",
      "execution_count": 2,
      "metadata": {
        "colab": {
          "base_uri": "https://localhost:8080/",
          "height": 206
        },
        "id": "oB_uwKUb0H3S",
        "outputId": "1ee33a1d-30ce-46b2-b4ae-02a54c83106e"
      },
      "outputs": [
        {
          "data": {
            "text/html": [
              "<div>\n",
              "<style scoped>\n",
              "    .dataframe tbody tr th:only-of-type {\n",
              "        vertical-align: middle;\n",
              "    }\n",
              "\n",
              "    .dataframe tbody tr th {\n",
              "        vertical-align: top;\n",
              "    }\n",
              "\n",
              "    .dataframe thead th {\n",
              "        text-align: right;\n",
              "    }\n",
              "</style>\n",
              "<table border=\"1\" class=\"dataframe\">\n",
              "  <thead>\n",
              "    <tr style=\"text-align: right;\">\n",
              "      <th></th>\n",
              "      <th>sepal length (cm)</th>\n",
              "      <th>sepal width (cm)</th>\n",
              "      <th>petal length (cm)</th>\n",
              "      <th>petal width (cm)</th>\n",
              "    </tr>\n",
              "  </thead>\n",
              "  <tbody>\n",
              "    <tr>\n",
              "      <th>0</th>\n",
              "      <td>5.1</td>\n",
              "      <td>3.5</td>\n",
              "      <td>1.4</td>\n",
              "      <td>0.2</td>\n",
              "    </tr>\n",
              "    <tr>\n",
              "      <th>1</th>\n",
              "      <td>4.9</td>\n",
              "      <td>3.0</td>\n",
              "      <td>1.4</td>\n",
              "      <td>0.2</td>\n",
              "    </tr>\n",
              "    <tr>\n",
              "      <th>2</th>\n",
              "      <td>4.7</td>\n",
              "      <td>3.2</td>\n",
              "      <td>1.3</td>\n",
              "      <td>0.2</td>\n",
              "    </tr>\n",
              "    <tr>\n",
              "      <th>3</th>\n",
              "      <td>4.6</td>\n",
              "      <td>3.1</td>\n",
              "      <td>1.5</td>\n",
              "      <td>0.2</td>\n",
              "    </tr>\n",
              "    <tr>\n",
              "      <th>4</th>\n",
              "      <td>5.0</td>\n",
              "      <td>3.6</td>\n",
              "      <td>1.4</td>\n",
              "      <td>0.2</td>\n",
              "    </tr>\n",
              "  </tbody>\n",
              "</table>\n",
              "</div>"
            ],
            "text/plain": [
              "   sepal length (cm)  sepal width (cm)  petal length (cm)  petal width (cm)\n",
              "0                5.1               3.5                1.4               0.2\n",
              "1                4.9               3.0                1.4               0.2\n",
              "2                4.7               3.2                1.3               0.2\n",
              "3                4.6               3.1                1.5               0.2\n",
              "4                5.0               3.6                1.4               0.2"
            ]
          },
          "execution_count": 2,
          "metadata": {},
          "output_type": "execute_result"
        }
      ],
      "source": [
        "# Import Iris\n",
        "from sklearn.datasets import load_iris\n",
        "\n",
        "# Load iris as a DataFrame seperated where we only get target values\n",
        "# It is common to use _ when we don't need the values return by the tuple\n",
        "# Here we don't need the target variable since we will perform unsupervised learning\n",
        "X, _ = load_iris(return_X_y=True, as_frame=True)\n",
        "\n",
        "# Visualize first 5 rows\n",
        "X.head()"
      ]
    },
    {
      "cell_type": "markdown",
      "metadata": {
        "id": "tD4N61TH0H3U"
      },
      "source": [
        "As stated in the theory part of the course, we need to follow a few steps to get our PCA. Here they are:\n",
        "\n",
        "<img src=\"https://full-stack-assets.s3.eu-west-3.amazonaws.com/images/PCA_process.png\" alt=\"PCA_process\"/>"
      ]
    },
    {
      "cell_type": "markdown",
      "metadata": {
        "id": "uLmdA3uo0H3U"
      },
      "source": [
        "## Normalize dataset 📏📏\n",
        "\n",
        "Let's normalize our dataset before going anywhere:"
      ]
    },
    {
      "cell_type": "code",
      "execution_count": 3,
      "metadata": {
        "colab": {
          "base_uri": "https://localhost:8080/"
        },
        "id": "Bj3d-FF_0H3V",
        "outputId": "6189e23c-a8ba-4827-feea-beb16423a764"
      },
      "outputs": [
        {
          "data": {
            "text/plain": [
              "array([[-0.90068117,  1.01900435, -1.34022653, -1.3154443 ],\n",
              "       [-1.14301691, -0.13197948, -1.34022653, -1.3154443 ],\n",
              "       [-1.38535265,  0.32841405, -1.39706395, -1.3154443 ],\n",
              "       [-1.50652052,  0.09821729, -1.2833891 , -1.3154443 ],\n",
              "       [-1.02184904,  1.24920112, -1.34022653, -1.3154443 ]])"
            ]
          },
          "execution_count": 3,
          "metadata": {},
          "output_type": "execute_result"
        }
      ],
      "source": [
        "# Import Standard Scaler\n",
        "from sklearn.preprocessing import StandardScaler\n",
        "\n",
        "# Initialize StandardScaler\n",
        "# StandardScaler will substract mean and divide by standard deviation to each observation\n",
        "sc = StandardScaler()\n",
        "\n",
        "# Apply StandardScaler to X\n",
        "X = sc.fit_transform(X)\n",
        "\n",
        "# Visualize first five rows\n",
        "# Standard scaler transform X as numpy array. Therefore you can't use .head()\n",
        "X[:5]"
      ]
    },
    {
      "cell_type": "markdown",
      "metadata": {
        "id": "IYFKWXNC0H3V"
      },
      "source": [
        "## Apply PCA 🚀🚀\n",
        "\n",
        "Now, if we want to be fast, we can already apply <a href=\"https://scikit-learn.org/stable/modules/generated/sklearn.decomposition.PCA.html#sklearn.decomposition.PCA\" target=\"_blank\">PCA</a> on our dataset using from <a href=\"https://scikit-learn.org/stable/index.html\" target=\"_blank\">Scikit Learn</a>."
      ]
    },
    {
      "cell_type": "code",
      "execution_count": 4,
      "metadata": {
        "colab": {
          "base_uri": "https://localhost:8080/"
        },
        "id": "SIrBAUDp0H3V",
        "outputId": "66e49176-b14d-4602-a2e7-25716c56153d"
      },
      "outputs": [
        {
          "data": {
            "text/plain": [
              "array([[-2.26470281,  0.4800266 ],\n",
              "       [-2.08096115, -0.67413356],\n",
              "       [-2.36422905, -0.34190802],\n",
              "       [-2.29938422, -0.59739451],\n",
              "       [-2.38984217,  0.64683538]])"
            ]
          },
          "execution_count": 4,
          "metadata": {},
          "output_type": "execute_result"
        }
      ],
      "source": [
        "# import PCA\n",
        "from sklearn.decomposition import PCA\n",
        "\n",
        "# Instanciate PCA\n",
        "# We can even specify how many components we want within the class\n",
        "pca = PCA(n_components=2)\n",
        "\n",
        "# Fit pca to our model\n",
        "PC = pca.fit_transform(X)\n",
        "\n",
        "# Visualize first five rows\n",
        "PC[:5]"
      ]
    },
    {
      "cell_type": "markdown",
      "metadata": {
        "id": "JY69PM1L0H3W"
      },
      "source": [
        "What is this `PC` dataset? It is our dataset of Principal Components. Let's actually find our eigen-vectors using `.components_` property."
      ]
    },
    {
      "cell_type": "code",
      "execution_count": 5,
      "metadata": {
        "colab": {
          "base_uri": "https://localhost:8080/"
        },
        "id": "c4OdxbU-0H3W",
        "outputId": "a5d81a08-dbd4-426e-f23c-dcd45bc036cd"
      },
      "outputs": [
        {
          "data": {
            "text/plain": [
              "array([[ 0.52106591, -0.26934744,  0.5804131 ,  0.56485654],\n",
              "       [ 0.37741762,  0.92329566,  0.02449161,  0.06694199]])"
            ]
          },
          "execution_count": 5,
          "metadata": {},
          "output_type": "execute_result"
        }
      ],
      "source": [
        "# Here are our eigen vectors\n",
        "pca.components_"
      ]
    },
    {
      "cell_type": "markdown",
      "metadata": {
        "id": "6tNKRnco0H3X"
      },
      "source": [
        "This is also our $U$ matrix of $Eigen-vectors$ that we can find using SVD. To verify, we can multiply this matrix by our initial dataset, we get our `PC` matrix back."
      ]
    },
    {
      "cell_type": "code",
      "execution_count": 6,
      "metadata": {
        "colab": {
          "base_uri": "https://localhost:8080/"
        },
        "id": "uwhOCM8I0H3X",
        "outputId": "2fdb17ed-0e47-44e1-db4b-b84cd79949cf"
      },
      "outputs": [
        {
          "data": {
            "text/plain": [
              "array([[-2.26470281,  0.4800266 ],\n",
              "       [-2.08096115, -0.67413356],\n",
              "       [-2.36422905, -0.34190802],\n",
              "       [-2.29938422, -0.59739451],\n",
              "       [-2.38984217,  0.64683538]])"
            ]
          },
          "execution_count": 6,
          "metadata": {},
          "output_type": "execute_result"
        }
      ],
      "source": [
        "# Let's multiply (use dot product) X by pca.components_ transpose\n",
        "X.dot(pca.components_.T)[:5]"
      ]
    },
    {
      "cell_type": "markdown",
      "metadata": {
        "id": "sQnoqiZS0H3X"
      },
      "source": [
        "`pca.components_` gives us an idea of how `PC` is built. For example:"
      ]
    },
    {
      "cell_type": "code",
      "execution_count": 7,
      "metadata": {
        "colab": {
          "base_uri": "https://localhost:8080/"
        },
        "id": "EeC9ZUBh0H3Y",
        "outputId": "af13fb48-3581-4674-9684-b7f62a9fa357"
      },
      "outputs": [
        {
          "data": {
            "text/plain": [
              "array([-2.26470281, -2.08096115, -2.36422905, -2.29938422, -2.38984217])"
            ]
          },
          "execution_count": 7,
          "metadata": {},
          "output_type": "execute_result"
        }
      ],
      "source": [
        "# Get first principal component\n",
        "PC1 = PC[:, 0]\n",
        "\n",
        "# Visualize PC1\n",
        "PC1[:5]"
      ]
    },
    {
      "cell_type": "code",
      "execution_count": 8,
      "metadata": {
        "colab": {
          "base_uri": "https://localhost:8080/"
        },
        "id": "pfFf4XSq0H3Y",
        "outputId": "54b6e99f-b9f5-429e-c528-5290f2586ca3"
      },
      "outputs": [
        {
          "data": {
            "text/plain": [
              "array([ 0.52106591, -0.26934744,  0.5804131 ,  0.56485654])"
            ]
          },
          "execution_count": 8,
          "metadata": {},
          "output_type": "execute_result"
        }
      ],
      "source": [
        "# Here is the associated eigen vector\n",
        "eig_vec_1 = pca.components_[0, :]\n",
        "eig_vec_1"
      ]
    },
    {
      "cell_type": "markdown",
      "metadata": {
        "id": "yLQk85lm0H3Y"
      },
      "source": [
        "What it means is that `PC1` is a linear combination of:\n",
        "\n",
        "`0.52*Sepal Length + (-0.27)*sepal width + 0.58*petal length + 0.56*petal width`\n",
        "\n",
        "This is how we can interpret what `PC1` actually means! 💪"
      ]
    },
    {
      "cell_type": "markdown",
      "metadata": {
        "id": "U0Mrqasy0H3Y"
      },
      "source": [
        "## Visualization 📊📊\n",
        "\n",
        "\n",
        "Let's now visualize our new dataset!"
      ]
    },
    {
      "cell_type": "code",
      "execution_count": 9,
      "metadata": {
        "colab": {
          "base_uri": "https://localhost:8080/",
          "height": 206
        },
        "id": "0wR5iPki0H3Z",
        "outputId": "d9975306-0689-4d9f-a053-eccc88bf7772"
      },
      "outputs": [
        {
          "data": {
            "text/html": [
              "<div>\n",
              "<style scoped>\n",
              "    .dataframe tbody tr th:only-of-type {\n",
              "        vertical-align: middle;\n",
              "    }\n",
              "\n",
              "    .dataframe tbody tr th {\n",
              "        vertical-align: top;\n",
              "    }\n",
              "\n",
              "    .dataframe thead th {\n",
              "        text-align: right;\n",
              "    }\n",
              "</style>\n",
              "<table border=\"1\" class=\"dataframe\">\n",
              "  <thead>\n",
              "    <tr style=\"text-align: right;\">\n",
              "      <th></th>\n",
              "      <th>PC1</th>\n",
              "      <th>PC2</th>\n",
              "    </tr>\n",
              "  </thead>\n",
              "  <tbody>\n",
              "    <tr>\n",
              "      <th>0</th>\n",
              "      <td>-2.264703</td>\n",
              "      <td>0.480027</td>\n",
              "    </tr>\n",
              "    <tr>\n",
              "      <th>1</th>\n",
              "      <td>-2.080961</td>\n",
              "      <td>-0.674134</td>\n",
              "    </tr>\n",
              "    <tr>\n",
              "      <th>2</th>\n",
              "      <td>-2.364229</td>\n",
              "      <td>-0.341908</td>\n",
              "    </tr>\n",
              "    <tr>\n",
              "      <th>3</th>\n",
              "      <td>-2.299384</td>\n",
              "      <td>-0.597395</td>\n",
              "    </tr>\n",
              "    <tr>\n",
              "      <th>4</th>\n",
              "      <td>-2.389842</td>\n",
              "      <td>0.646835</td>\n",
              "    </tr>\n",
              "  </tbody>\n",
              "</table>\n",
              "</div>"
            ],
            "text/plain": [
              "        PC1       PC2\n",
              "0 -2.264703  0.480027\n",
              "1 -2.080961 -0.674134\n",
              "2 -2.364229 -0.341908\n",
              "3 -2.299384 -0.597395\n",
              "4 -2.389842  0.646835"
            ]
          },
          "execution_count": 9,
          "metadata": {},
          "output_type": "execute_result"
        }
      ],
      "source": [
        "# Import pandas\n",
        "import pandas as pd\n",
        "\n",
        "# Convert PC into a DataFrame\n",
        "PC = pd.DataFrame(data=PC, columns=[\"PC1\", \"PC2\"])\n",
        "\n",
        "# PC Head\n",
        "PC.head()"
      ]
    },
    {
      "cell_type": "code",
      "execution_count": 10,
      "metadata": {
        "colab": {
          "base_uri": "https://localhost:8080/",
          "height": 522
        },
        "id": "LQQiYDIJ0H3Z",
        "outputId": "0f50ca4a-7407-484e-ecbe-77c482b3e4c2"
      },
      "outputs": [
        {
          "data": {
            "application/vnd.plotly.v1+json": {
              "config": {
                "plotlyServerURL": "https://plot.ly"
              },
              "data": [
                {
                  "hovertemplate": "PC1=%{x}<br>PC2=%{y}<extra></extra>",
                  "legendgroup": "",
                  "marker": {
                    "color": "#636efa",
                    "symbol": "circle"
                  },
                  "mode": "markers",
                  "name": "",
                  "orientation": "v",
                  "showlegend": false,
                  "type": "scatter",
                  "x": [
                    -2.2647028088075887,
                    -2.080961151965768,
                    -2.364229053890301,
                    -2.299384217042708,
                    -2.3898421663138447,
                    -2.0756309481765123,
                    -2.444028835134153,
                    -2.232847158872015,
                    -2.3346404779076217,
                    -2.1843281749339423,
                    -2.1663101007013226,
                    -2.3261308664426985,
                    -2.218450898822409,
                    -2.6331006957652283,
                    -2.1987406032666903,
                    -2.2622145316010216,
                    -2.2075876958245924,
                    -2.190349509192299,
                    -1.8985719958028422,
                    -2.343369053074993,
                    -1.9143229960825683,
                    -2.2070128431947986,
                    -2.7743447029273325,
                    -1.8186695286958494,
                    -2.2271633057066387,
                    -1.9518463309003762,
                    -2.0511513727294153,
                    -2.1685771746542164,
                    -2.1395634513013317,
                    -2.2652614931542407,
                    -2.1401221356479843,
                    -1.8315947706760283,
                    -2.6149479358589347,
                    -2.446177391696515,
                    -2.1099748753186525,
                    -2.207808899078266,
                    -2.0451462067542012,
                    -2.527331913170486,
                    -2.4296325750845464,
                    -2.1697107116306635,
                    -2.2864751433456703,
                    -1.8581224563735714,
                    -2.553638395614356,
                    -1.9644476837637406,
                    -2.137059005811623,
                    -2.06974429959183,
                    -2.3847331657782624,
                    -2.3943763142196333,
                    -2.2294465479426746,
                    -2.2038334355191305,
                    1.1017811830529478,
                    0.7313374253960876,
                    1.2409793195158312,
                    0.40748305881738506,
                    1.0754747006090781,
                    0.3886873365356651,
                    0.746529741329161,
                    -0.48732274212563964,
                    0.9279016383549453,
                    0.011426188736980347,
                    -0.11019628000062896,
                    0.44069344898307844,
                    0.5621083064431789,
                    0.7195618886754966,
                    -0.03335470317877224,
                    0.8754071908577378,
                    0.35025166799508295,
                    0.1588100475479714,
                    1.2250936335624314,
                    0.16491789938632734,
                    0.7376826487712584,
                    0.4762871909409714,
                    1.234178097657149,
                    0.632858199709822,
                    0.7026611831361823,
                    0.8742736538812903,
                    1.2565091165418836,
                    1.358405121440632,
                    0.6648003672253949,
                    -0.04025861090059549,
                    0.1307951754978606,
                    0.02345268897055082,
                    0.24153827295451094,
                    1.0610946088426143,
                    0.2239787735123799,
                    0.42913911551616096,
                    1.0487280512090875,
                    1.044531384396279,
                    0.06958832111642303,
                    0.2834772382875755,
                    0.2790777760554611,
                    0.6245697914985716,
                    0.3365303701314358,
                    -0.36218338461938326,
                    0.2885862388231574,
                    0.09136065565450546,
                    0.22771686553470014,
                    0.5763882886534787,
                    -0.4476670190286117,
                    0.25673058888758477,
                    1.8445688677230294,
                    1.1578816132057799,
                    2.2052667910753785,
                    1.4401506638275396,
                    1.8678122203305378,
                    2.751873335666277,
                    0.3670176878607247,
                    2.3024394446251972,
                    2.006686467676606,
                    2.2597773490125004,
                    1.364175492186008,
                    1.6026786704779308,
                    1.8839007017032428,
                    1.2601150991975079,
                    1.4676452010173244,
                    1.590077317614566,
                    1.4714314611333184,
                    2.4263289873157015,
                    3.3106955839338883,
                    1.263766673639828,
                    2.0377163014694046,
                    0.9779807342494218,
                    2.897651490734169,
                    1.3332321759732089,
                    1.7007338974912174,
                    1.9543267058530711,
                    1.1751036315549326,
                    1.0209505506957912,
                    1.788349920179666,
                    1.8636475533282613,
                    2.4359537279227035,
                    2.304927721831765,
                    1.862703219794956,
                    1.1141477406864748,
                    1.202473301678391,
                    2.798770447578108,
                    1.5762559101947544,
                    1.346292103627062,
                    0.9248249165424196,
                    1.85204505176767,
                    2.014810429954876,
                    1.9017840902621892,
                    1.1578816132057799,
                    2.040558228052093,
                    1.9981470959523766,
                    1.8705032929564107,
                    1.5645804830303283,
                    1.521170499627838,
                    1.3727877895140732,
                    0.9606560300371282
                  ],
                  "xaxis": "x",
                  "y": [
                    0.48002659652098933,
                    -0.6741335566053526,
                    -0.34190802388467606,
                    -0.5973945076746754,
                    0.646835382902027,
                    1.4891775233211668,
                    0.04764419763001424,
                    0.22314807268959183,
                    -1.1153276754616661,
                    -0.46901356140237543,
                    1.0436906530538599,
                    0.13307833523923165,
                    -0.7286761653165705,
                    -0.9615067291701628,
                    1.860057113293931,
                    2.686284485110592,
                    1.4836093631555727,
                    0.48883831648632775,
                    1.4050187944665493,
                    1.1278493819084758,
                    0.40885570775590624,
                    0.9241214267468983,
                    0.45834366775291546,
                    0.08555852628736622,
                    0.13725445536342729,
                    -0.6256185877766763,
                    0.2421635526616671,
                    0.5271495253082675,
                    0.313217810139952,
                    -0.33773190376048046,
                    -0.5045406901415181,
                    0.42369506760378595,
                    1.7935758561044286,
                    2.1507278773929244,
                    -0.46020184143703713,
                    -0.2061073976884367,
                    0.6615581114631083,
                    0.5922927741908095,
                    -0.9041800403761476,
                    0.2688789614354709,
                    0.4417153876990502,
                    -2.3374151575533477,
                    -0.4791006901223139,
                    0.47232666771926085,
                    1.1422292620394083,
                    -0.7110527253858938,
                    1.1204297019845362,
                    -0.386246872589157,
                    0.9979597643079803,
                    0.009216357521276405,
                    0.8629724182621588,
                    0.5946147256694244,
                    0.6162976544374982,
                    -1.7544039893234102,
                    -0.20842104605096556,
                    -0.5932836359900753,
                    0.7730193120985963,
                    -1.8524290868575741,
                    0.0322260778911538,
                    -1.0340182751294407,
                    -2.654072818536564,
                    -0.06329518843800157,
                    -1.7647243806169448,
                    -0.18622460583150585,
                    -0.4390032099816247,
                    0.5090639567734084,
                    -0.19631173455144424,
                    -0.7920957424327214,
                    -1.6222438030915016,
                    -1.3026092302957726,
                    0.39657156196023857,
                    -0.4173202812135509,
                    -0.9333257287992784,
                    -0.41638772088909953,
                    -0.06341181972480013,
                    0.250793392900612,
                    -0.07725601969586898,
                    0.331311681790898,
                    -0.22592785469484372,
                    -1.0587185465539086,
                    -1.5622718342099675,
                    -1.5724755942167044,
                    -0.7772563825848418,
                    -0.633843244734947,
                    -0.2877735120432025,
                    0.8455822409050783,
                    0.5220517968629425,
                    -1.3829887191907817,
                    -0.2195033346477151,
                    -1.3293246390695765,
                    -1.1200285237424037,
                    0.024923029254012498,
                    -0.9884040176703601,
                    -2.0192378732386116,
                    -0.8557303199870665,
                    -0.1811921258257754,
                    -0.3849200809873539,
                    -0.1548735972165588,
                    -1.5437920343977563,
                    -0.5988517961556695,
                    0.8704213123248226,
                    -0.6988698623306906,
                    0.5620104770083553,
                    -0.04698758810580684,
                    0.29504482445701935,
                    0.8004092010275415,
                    -1.5615028914765061,
                    0.4200655796427761,
                    -0.711438653547159,
                    1.9210103764598858,
                    0.6927564544903866,
                    -0.42170044977261745,
                    0.41924965060512326,
                    -1.1622604214064638,
                    -0.4422715873770828,
                    0.6762448057233196,
                    0.25562182447147025,
                    2.5566612507954916,
                    0.017780949320626807,
                    -1.7067453803762676,
                    0.9104674096183103,
                    -0.5717643248129921,
                    0.4136410595956475,
                    -0.4818112186494294,
                    1.013921867322791,
                    1.007777596153452,
                    -0.31639447230979123,
                    0.0643460292395616,
                    -0.1873612145908291,
                    0.5622907258861445,
                    0.25928443314428,
                    2.626323468232378,
                    -0.17854949462549075,
                    -0.29292262333573155,
                    -0.8113152708396689,
                    0.8568033294971051,
                    1.068581107320807,
                    0.42243061085250805,
                    0.017223100452283913,
                    0.676128174436521,
                    0.6138856369235746,
                    0.6895754942430021,
                    -0.6988698623306906,
                    0.8675206009552279,
                    1.0491687471841444,
                    0.38696608166572527,
                    -0.8966868088965265,
                    0.26906914427795137,
                    1.0112544185267922,
                    -0.024331668169399617
                  ],
                  "yaxis": "y"
                }
              ],
              "layout": {
                "legend": {
                  "tracegroupgap": 0
                },
                "margin": {
                  "t": 60
                },
                "template": {
                  "data": {
                    "bar": [
                      {
                        "error_x": {
                          "color": "#2a3f5f"
                        },
                        "error_y": {
                          "color": "#2a3f5f"
                        },
                        "marker": {
                          "line": {
                            "color": "#E5ECF6",
                            "width": 0.5
                          },
                          "pattern": {
                            "fillmode": "overlay",
                            "size": 10,
                            "solidity": 0.2
                          }
                        },
                        "type": "bar"
                      }
                    ],
                    "barpolar": [
                      {
                        "marker": {
                          "line": {
                            "color": "#E5ECF6",
                            "width": 0.5
                          },
                          "pattern": {
                            "fillmode": "overlay",
                            "size": 10,
                            "solidity": 0.2
                          }
                        },
                        "type": "barpolar"
                      }
                    ],
                    "carpet": [
                      {
                        "aaxis": {
                          "endlinecolor": "#2a3f5f",
                          "gridcolor": "white",
                          "linecolor": "white",
                          "minorgridcolor": "white",
                          "startlinecolor": "#2a3f5f"
                        },
                        "baxis": {
                          "endlinecolor": "#2a3f5f",
                          "gridcolor": "white",
                          "linecolor": "white",
                          "minorgridcolor": "white",
                          "startlinecolor": "#2a3f5f"
                        },
                        "type": "carpet"
                      }
                    ],
                    "choropleth": [
                      {
                        "colorbar": {
                          "outlinewidth": 0,
                          "ticks": ""
                        },
                        "type": "choropleth"
                      }
                    ],
                    "contour": [
                      {
                        "colorbar": {
                          "outlinewidth": 0,
                          "ticks": ""
                        },
                        "colorscale": [
                          [
                            0,
                            "#0d0887"
                          ],
                          [
                            0.1111111111111111,
                            "#46039f"
                          ],
                          [
                            0.2222222222222222,
                            "#7201a8"
                          ],
                          [
                            0.3333333333333333,
                            "#9c179e"
                          ],
                          [
                            0.4444444444444444,
                            "#bd3786"
                          ],
                          [
                            0.5555555555555556,
                            "#d8576b"
                          ],
                          [
                            0.6666666666666666,
                            "#ed7953"
                          ],
                          [
                            0.7777777777777778,
                            "#fb9f3a"
                          ],
                          [
                            0.8888888888888888,
                            "#fdca26"
                          ],
                          [
                            1,
                            "#f0f921"
                          ]
                        ],
                        "type": "contour"
                      }
                    ],
                    "contourcarpet": [
                      {
                        "colorbar": {
                          "outlinewidth": 0,
                          "ticks": ""
                        },
                        "type": "contourcarpet"
                      }
                    ],
                    "heatmap": [
                      {
                        "colorbar": {
                          "outlinewidth": 0,
                          "ticks": ""
                        },
                        "colorscale": [
                          [
                            0,
                            "#0d0887"
                          ],
                          [
                            0.1111111111111111,
                            "#46039f"
                          ],
                          [
                            0.2222222222222222,
                            "#7201a8"
                          ],
                          [
                            0.3333333333333333,
                            "#9c179e"
                          ],
                          [
                            0.4444444444444444,
                            "#bd3786"
                          ],
                          [
                            0.5555555555555556,
                            "#d8576b"
                          ],
                          [
                            0.6666666666666666,
                            "#ed7953"
                          ],
                          [
                            0.7777777777777778,
                            "#fb9f3a"
                          ],
                          [
                            0.8888888888888888,
                            "#fdca26"
                          ],
                          [
                            1,
                            "#f0f921"
                          ]
                        ],
                        "type": "heatmap"
                      }
                    ],
                    "heatmapgl": [
                      {
                        "colorbar": {
                          "outlinewidth": 0,
                          "ticks": ""
                        },
                        "colorscale": [
                          [
                            0,
                            "#0d0887"
                          ],
                          [
                            0.1111111111111111,
                            "#46039f"
                          ],
                          [
                            0.2222222222222222,
                            "#7201a8"
                          ],
                          [
                            0.3333333333333333,
                            "#9c179e"
                          ],
                          [
                            0.4444444444444444,
                            "#bd3786"
                          ],
                          [
                            0.5555555555555556,
                            "#d8576b"
                          ],
                          [
                            0.6666666666666666,
                            "#ed7953"
                          ],
                          [
                            0.7777777777777778,
                            "#fb9f3a"
                          ],
                          [
                            0.8888888888888888,
                            "#fdca26"
                          ],
                          [
                            1,
                            "#f0f921"
                          ]
                        ],
                        "type": "heatmapgl"
                      }
                    ],
                    "histogram": [
                      {
                        "marker": {
                          "pattern": {
                            "fillmode": "overlay",
                            "size": 10,
                            "solidity": 0.2
                          }
                        },
                        "type": "histogram"
                      }
                    ],
                    "histogram2d": [
                      {
                        "colorbar": {
                          "outlinewidth": 0,
                          "ticks": ""
                        },
                        "colorscale": [
                          [
                            0,
                            "#0d0887"
                          ],
                          [
                            0.1111111111111111,
                            "#46039f"
                          ],
                          [
                            0.2222222222222222,
                            "#7201a8"
                          ],
                          [
                            0.3333333333333333,
                            "#9c179e"
                          ],
                          [
                            0.4444444444444444,
                            "#bd3786"
                          ],
                          [
                            0.5555555555555556,
                            "#d8576b"
                          ],
                          [
                            0.6666666666666666,
                            "#ed7953"
                          ],
                          [
                            0.7777777777777778,
                            "#fb9f3a"
                          ],
                          [
                            0.8888888888888888,
                            "#fdca26"
                          ],
                          [
                            1,
                            "#f0f921"
                          ]
                        ],
                        "type": "histogram2d"
                      }
                    ],
                    "histogram2dcontour": [
                      {
                        "colorbar": {
                          "outlinewidth": 0,
                          "ticks": ""
                        },
                        "colorscale": [
                          [
                            0,
                            "#0d0887"
                          ],
                          [
                            0.1111111111111111,
                            "#46039f"
                          ],
                          [
                            0.2222222222222222,
                            "#7201a8"
                          ],
                          [
                            0.3333333333333333,
                            "#9c179e"
                          ],
                          [
                            0.4444444444444444,
                            "#bd3786"
                          ],
                          [
                            0.5555555555555556,
                            "#d8576b"
                          ],
                          [
                            0.6666666666666666,
                            "#ed7953"
                          ],
                          [
                            0.7777777777777778,
                            "#fb9f3a"
                          ],
                          [
                            0.8888888888888888,
                            "#fdca26"
                          ],
                          [
                            1,
                            "#f0f921"
                          ]
                        ],
                        "type": "histogram2dcontour"
                      }
                    ],
                    "mesh3d": [
                      {
                        "colorbar": {
                          "outlinewidth": 0,
                          "ticks": ""
                        },
                        "type": "mesh3d"
                      }
                    ],
                    "parcoords": [
                      {
                        "line": {
                          "colorbar": {
                            "outlinewidth": 0,
                            "ticks": ""
                          }
                        },
                        "type": "parcoords"
                      }
                    ],
                    "pie": [
                      {
                        "automargin": true,
                        "type": "pie"
                      }
                    ],
                    "scatter": [
                      {
                        "fillpattern": {
                          "fillmode": "overlay",
                          "size": 10,
                          "solidity": 0.2
                        },
                        "type": "scatter"
                      }
                    ],
                    "scatter3d": [
                      {
                        "line": {
                          "colorbar": {
                            "outlinewidth": 0,
                            "ticks": ""
                          }
                        },
                        "marker": {
                          "colorbar": {
                            "outlinewidth": 0,
                            "ticks": ""
                          }
                        },
                        "type": "scatter3d"
                      }
                    ],
                    "scattercarpet": [
                      {
                        "marker": {
                          "colorbar": {
                            "outlinewidth": 0,
                            "ticks": ""
                          }
                        },
                        "type": "scattercarpet"
                      }
                    ],
                    "scattergeo": [
                      {
                        "marker": {
                          "colorbar": {
                            "outlinewidth": 0,
                            "ticks": ""
                          }
                        },
                        "type": "scattergeo"
                      }
                    ],
                    "scattergl": [
                      {
                        "marker": {
                          "colorbar": {
                            "outlinewidth": 0,
                            "ticks": ""
                          }
                        },
                        "type": "scattergl"
                      }
                    ],
                    "scattermapbox": [
                      {
                        "marker": {
                          "colorbar": {
                            "outlinewidth": 0,
                            "ticks": ""
                          }
                        },
                        "type": "scattermapbox"
                      }
                    ],
                    "scatterpolar": [
                      {
                        "marker": {
                          "colorbar": {
                            "outlinewidth": 0,
                            "ticks": ""
                          }
                        },
                        "type": "scatterpolar"
                      }
                    ],
                    "scatterpolargl": [
                      {
                        "marker": {
                          "colorbar": {
                            "outlinewidth": 0,
                            "ticks": ""
                          }
                        },
                        "type": "scatterpolargl"
                      }
                    ],
                    "scatterternary": [
                      {
                        "marker": {
                          "colorbar": {
                            "outlinewidth": 0,
                            "ticks": ""
                          }
                        },
                        "type": "scatterternary"
                      }
                    ],
                    "surface": [
                      {
                        "colorbar": {
                          "outlinewidth": 0,
                          "ticks": ""
                        },
                        "colorscale": [
                          [
                            0,
                            "#0d0887"
                          ],
                          [
                            0.1111111111111111,
                            "#46039f"
                          ],
                          [
                            0.2222222222222222,
                            "#7201a8"
                          ],
                          [
                            0.3333333333333333,
                            "#9c179e"
                          ],
                          [
                            0.4444444444444444,
                            "#bd3786"
                          ],
                          [
                            0.5555555555555556,
                            "#d8576b"
                          ],
                          [
                            0.6666666666666666,
                            "#ed7953"
                          ],
                          [
                            0.7777777777777778,
                            "#fb9f3a"
                          ],
                          [
                            0.8888888888888888,
                            "#fdca26"
                          ],
                          [
                            1,
                            "#f0f921"
                          ]
                        ],
                        "type": "surface"
                      }
                    ],
                    "table": [
                      {
                        "cells": {
                          "fill": {
                            "color": "#EBF0F8"
                          },
                          "line": {
                            "color": "white"
                          }
                        },
                        "header": {
                          "fill": {
                            "color": "#C8D4E3"
                          },
                          "line": {
                            "color": "white"
                          }
                        },
                        "type": "table"
                      }
                    ]
                  },
                  "layout": {
                    "annotationdefaults": {
                      "arrowcolor": "#2a3f5f",
                      "arrowhead": 0,
                      "arrowwidth": 1
                    },
                    "autotypenumbers": "strict",
                    "coloraxis": {
                      "colorbar": {
                        "outlinewidth": 0,
                        "ticks": ""
                      }
                    },
                    "colorscale": {
                      "diverging": [
                        [
                          0,
                          "#8e0152"
                        ],
                        [
                          0.1,
                          "#c51b7d"
                        ],
                        [
                          0.2,
                          "#de77ae"
                        ],
                        [
                          0.3,
                          "#f1b6da"
                        ],
                        [
                          0.4,
                          "#fde0ef"
                        ],
                        [
                          0.5,
                          "#f7f7f7"
                        ],
                        [
                          0.6,
                          "#e6f5d0"
                        ],
                        [
                          0.7,
                          "#b8e186"
                        ],
                        [
                          0.8,
                          "#7fbc41"
                        ],
                        [
                          0.9,
                          "#4d9221"
                        ],
                        [
                          1,
                          "#276419"
                        ]
                      ],
                      "sequential": [
                        [
                          0,
                          "#0d0887"
                        ],
                        [
                          0.1111111111111111,
                          "#46039f"
                        ],
                        [
                          0.2222222222222222,
                          "#7201a8"
                        ],
                        [
                          0.3333333333333333,
                          "#9c179e"
                        ],
                        [
                          0.4444444444444444,
                          "#bd3786"
                        ],
                        [
                          0.5555555555555556,
                          "#d8576b"
                        ],
                        [
                          0.6666666666666666,
                          "#ed7953"
                        ],
                        [
                          0.7777777777777778,
                          "#fb9f3a"
                        ],
                        [
                          0.8888888888888888,
                          "#fdca26"
                        ],
                        [
                          1,
                          "#f0f921"
                        ]
                      ],
                      "sequentialminus": [
                        [
                          0,
                          "#0d0887"
                        ],
                        [
                          0.1111111111111111,
                          "#46039f"
                        ],
                        [
                          0.2222222222222222,
                          "#7201a8"
                        ],
                        [
                          0.3333333333333333,
                          "#9c179e"
                        ],
                        [
                          0.4444444444444444,
                          "#bd3786"
                        ],
                        [
                          0.5555555555555556,
                          "#d8576b"
                        ],
                        [
                          0.6666666666666666,
                          "#ed7953"
                        ],
                        [
                          0.7777777777777778,
                          "#fb9f3a"
                        ],
                        [
                          0.8888888888888888,
                          "#fdca26"
                        ],
                        [
                          1,
                          "#f0f921"
                        ]
                      ]
                    },
                    "colorway": [
                      "#636efa",
                      "#EF553B",
                      "#00cc96",
                      "#ab63fa",
                      "#FFA15A",
                      "#19d3f3",
                      "#FF6692",
                      "#B6E880",
                      "#FF97FF",
                      "#FECB52"
                    ],
                    "font": {
                      "color": "#2a3f5f"
                    },
                    "geo": {
                      "bgcolor": "white",
                      "lakecolor": "white",
                      "landcolor": "#E5ECF6",
                      "showlakes": true,
                      "showland": true,
                      "subunitcolor": "white"
                    },
                    "hoverlabel": {
                      "align": "left"
                    },
                    "hovermode": "closest",
                    "mapbox": {
                      "style": "light"
                    },
                    "paper_bgcolor": "white",
                    "plot_bgcolor": "#E5ECF6",
                    "polar": {
                      "angularaxis": {
                        "gridcolor": "white",
                        "linecolor": "white",
                        "ticks": ""
                      },
                      "bgcolor": "#E5ECF6",
                      "radialaxis": {
                        "gridcolor": "white",
                        "linecolor": "white",
                        "ticks": ""
                      }
                    },
                    "scene": {
                      "xaxis": {
                        "backgroundcolor": "#E5ECF6",
                        "gridcolor": "white",
                        "gridwidth": 2,
                        "linecolor": "white",
                        "showbackground": true,
                        "ticks": "",
                        "zerolinecolor": "white"
                      },
                      "yaxis": {
                        "backgroundcolor": "#E5ECF6",
                        "gridcolor": "white",
                        "gridwidth": 2,
                        "linecolor": "white",
                        "showbackground": true,
                        "ticks": "",
                        "zerolinecolor": "white"
                      },
                      "zaxis": {
                        "backgroundcolor": "#E5ECF6",
                        "gridcolor": "white",
                        "gridwidth": 2,
                        "linecolor": "white",
                        "showbackground": true,
                        "ticks": "",
                        "zerolinecolor": "white"
                      }
                    },
                    "shapedefaults": {
                      "line": {
                        "color": "#2a3f5f"
                      }
                    },
                    "ternary": {
                      "aaxis": {
                        "gridcolor": "white",
                        "linecolor": "white",
                        "ticks": ""
                      },
                      "baxis": {
                        "gridcolor": "white",
                        "linecolor": "white",
                        "ticks": ""
                      },
                      "bgcolor": "#E5ECF6",
                      "caxis": {
                        "gridcolor": "white",
                        "linecolor": "white",
                        "ticks": ""
                      }
                    },
                    "title": {
                      "x": 0.05
                    },
                    "xaxis": {
                      "automargin": true,
                      "gridcolor": "white",
                      "linecolor": "white",
                      "ticks": "",
                      "title": {
                        "standoff": 15
                      },
                      "zerolinecolor": "white",
                      "zerolinewidth": 2
                    },
                    "yaxis": {
                      "automargin": true,
                      "gridcolor": "white",
                      "linecolor": "white",
                      "ticks": "",
                      "title": {
                        "standoff": 15
                      },
                      "zerolinecolor": "white",
                      "zerolinewidth": 2
                    }
                  }
                },
                "xaxis": {
                  "anchor": "y",
                  "domain": [
                    0,
                    1
                  ],
                  "title": {
                    "text": "PC1"
                  }
                },
                "yaxis": {
                  "anchor": "x",
                  "domain": [
                    0,
                    1
                  ],
                  "title": {
                    "text": "PC2"
                  }
                }
              }
            }
          },
          "metadata": {},
          "output_type": "display_data"
        }
      ],
      "source": [
        "# Import plotly\n",
        "import plotly.express as px\n",
        "\n",
        "# Create scatterplot\n",
        "fig = px.scatter(data_frame=PC, x=\"PC1\", y=\"PC2\")\n",
        "\n",
        "# Show scatterplot\n",
        "fig.show()"
      ]
    },
    {
      "cell_type": "code",
      "execution_count": 11,
      "metadata": {
        "colab": {
          "base_uri": "https://localhost:8080/"
        },
        "id": "zMIxtz9hRZJh",
        "outputId": "9bee4e60-8862-419d-fa7e-4ec2bd96035f"
      },
      "outputs": [
        {
          "data": {
            "text/plain": [
              "array([0.72962445, 0.22850762])"
            ]
          },
          "execution_count": 11,
          "metadata": {},
          "output_type": "execute_result"
        }
      ],
      "source": [
        "pca.explained_variance_ratio_"
      ]
    },
    {
      "cell_type": "markdown",
      "metadata": {
        "id": "83IkxAOi0H3Z"
      },
      "source": [
        "We can clearly visualize two clusters thanks to PCA! 🎉"
      ]
    },
    {
      "cell_type": "markdown",
      "metadata": {
        "id": "ZTfps2h-0H3Z"
      },
      "source": [
        "## What is the link between PCA and SVD? 🤓🤓\n",
        "\n",
        "At this point, you might be feeling that Scikit Learn is a little too much under the hood to understand fully how PCA works. If that's your case, you can read this section.\n",
        "\n",
        "> It is completely optional, it is for you to have a better understanding of the concept but  you can definitely stick with `sklearn`."
      ]
    },
    {
      "cell_type": "markdown",
      "metadata": {
        "id": "Q44YJemH0H3a"
      },
      "source": [
        "Let's remind what SVD is:\n",
        "\n",
        "$$A = U\\Sigma V^\\intercal$$\n",
        "\n",
        "It basically says that we can decompose any matrix into 3 matrices containing $eigen-vectors$ and $eigen-values$ of the covariance matrix.\n",
        "\n",
        "Let's take back our `X` matrix (which is already normalized)."
      ]
    },
    {
      "cell_type": "code",
      "execution_count": 12,
      "metadata": {
        "colab": {
          "base_uri": "https://localhost:8080/"
        },
        "id": "diL-zBDF0H3a",
        "outputId": "4c6e638d-d08e-4886-9ede-06a977b3d42f"
      },
      "outputs": [
        {
          "data": {
            "text/plain": [
              "array([[-0.90068117,  1.01900435, -1.34022653, -1.3154443 ],\n",
              "       [-1.14301691, -0.13197948, -1.34022653, -1.3154443 ],\n",
              "       [-1.38535265,  0.32841405, -1.39706395, -1.3154443 ],\n",
              "       [-1.50652052,  0.09821729, -1.2833891 , -1.3154443 ],\n",
              "       [-1.02184904,  1.24920112, -1.34022653, -1.3154443 ]])"
            ]
          },
          "execution_count": 12,
          "metadata": {},
          "output_type": "execute_result"
        }
      ],
      "source": [
        "# Here is our normalized iris dataset\n",
        "X[:5]"
      ]
    },
    {
      "cell_type": "markdown",
      "metadata": {
        "id": "gFh9t5Pa0H3a"
      },
      "source": [
        "We can use `numpy` to get $eigen-values$ and $eigen-vectors$. We need first to get the covariance matrix."
      ]
    },
    {
      "cell_type": "code",
      "execution_count": 13,
      "metadata": {
        "colab": {
          "base_uri": "https://localhost:8080/",
          "height": 175
        },
        "id": "mTfj9A7K0H3a",
        "outputId": "abcd7bd4-ae40-4816-cfb6-b5c1428bea39"
      },
      "outputs": [
        {
          "data": {
            "text/html": [
              "<div>\n",
              "<style scoped>\n",
              "    .dataframe tbody tr th:only-of-type {\n",
              "        vertical-align: middle;\n",
              "    }\n",
              "\n",
              "    .dataframe tbody tr th {\n",
              "        vertical-align: top;\n",
              "    }\n",
              "\n",
              "    .dataframe thead th {\n",
              "        text-align: right;\n",
              "    }\n",
              "</style>\n",
              "<table border=\"1\" class=\"dataframe\">\n",
              "  <thead>\n",
              "    <tr style=\"text-align: right;\">\n",
              "      <th></th>\n",
              "      <th>0</th>\n",
              "      <th>1</th>\n",
              "      <th>2</th>\n",
              "      <th>3</th>\n",
              "    </tr>\n",
              "  </thead>\n",
              "  <tbody>\n",
              "    <tr>\n",
              "      <th>0</th>\n",
              "      <td>150.000000</td>\n",
              "      <td>-17.635468</td>\n",
              "      <td>130.763066</td>\n",
              "      <td>122.691169</td>\n",
              "    </tr>\n",
              "    <tr>\n",
              "      <th>1</th>\n",
              "      <td>-17.635468</td>\n",
              "      <td>150.000000</td>\n",
              "      <td>-64.266016</td>\n",
              "      <td>-54.918890</td>\n",
              "    </tr>\n",
              "    <tr>\n",
              "      <th>2</th>\n",
              "      <td>130.763066</td>\n",
              "      <td>-64.266016</td>\n",
              "      <td>150.000000</td>\n",
              "      <td>144.429815</td>\n",
              "    </tr>\n",
              "    <tr>\n",
              "      <th>3</th>\n",
              "      <td>122.691169</td>\n",
              "      <td>-54.918890</td>\n",
              "      <td>144.429815</td>\n",
              "      <td>150.000000</td>\n",
              "    </tr>\n",
              "  </tbody>\n",
              "</table>\n",
              "</div>"
            ],
            "text/plain": [
              "            0           1           2           3\n",
              "0  150.000000  -17.635468  130.763066  122.691169\n",
              "1  -17.635468  150.000000  -64.266016  -54.918890\n",
              "2  130.763066  -64.266016  150.000000  144.429815\n",
              "3  122.691169  -54.918890  144.429815  150.000000"
            ]
          },
          "execution_count": 13,
          "metadata": {},
          "output_type": "execute_result"
        }
      ],
      "source": [
        "# Import numpy\n",
        "import numpy as np\n",
        "\n",
        "# Calculate covariance matrix by multiplying Xt by X\n",
        "cov_mat = X.T.dot(X)\n",
        "\n",
        "# Let's use Pandas to visualize our covariance matrix better\n",
        "pd.DataFrame(cov_mat)"
      ]
    },
    {
      "cell_type": "markdown",
      "metadata": {
        "id": "T2xlLnPh0H3b"
      },
      "source": [
        "🚨 Here we multiplied $X^\\intercal$ by $X$. The reason why is because initally is $X$ is a matrix with vectors in columns whereas we need a matrix with vectors in rows to make SVD work. In any case it boils down to the same output. 🚨"
      ]
    },
    {
      "cell_type": "markdown",
      "metadata": {
        "id": "DN3ZKcl-0H3b"
      },
      "source": [
        "Let's now get the $eigen - values$ and $eigen-vectors$ with `numpy`"
      ]
    },
    {
      "cell_type": "code",
      "execution_count": 14,
      "metadata": {
        "colab": {
          "base_uri": "https://localhost:8080/"
        },
        "id": "R1u4Ha5T0H3b",
        "outputId": "773ae484-1ad5-464b-fdfd-5435dbc30e97"
      },
      "outputs": [
        {
          "data": {
            "text/plain": [
              "(array([437.77467248, 137.10457072,  22.01353134,   3.10722546]),\n",
              " array([[ 0.52106591, -0.37741762, -0.71956635,  0.26128628],\n",
              "        [-0.26934744, -0.92329566,  0.24438178, -0.12350962],\n",
              "        [ 0.5804131 , -0.02449161,  0.14212637, -0.80144925],\n",
              "        [ 0.56485654, -0.06694199,  0.63427274,  0.52359713]]))"
            ]
          },
          "execution_count": 14,
          "metadata": {},
          "output_type": "execute_result"
        }
      ],
      "source": [
        "# Use .linealg.eig to get eigen values and eigen vectors\n",
        "eig_val, eig_vec = np.linalg.eig(cov_mat)\n",
        "\n",
        "# Visualize both variables\n",
        "eig_val, eig_vec"
      ]
    },
    {
      "cell_type": "markdown",
      "metadata": {
        "id": "aX1JwTFC0H3b"
      },
      "source": [
        "Let's now compare the `eig_vec` with `pca.components_`"
      ]
    },
    {
      "cell_type": "code",
      "execution_count": 15,
      "metadata": {
        "colab": {
          "base_uri": "https://localhost:8080/"
        },
        "id": "fiRc9-v50H3b",
        "outputId": "98e32cb1-e432-45a0-d1d0-9a2dc7e1db5a"
      },
      "outputs": [
        {
          "name": "stdout",
          "output_type": "stream",
          "text": [
            "Eigen Vectors\n",
            "[[ 0.52106591 -0.26934744  0.5804131   0.56485654]\n",
            " [-0.37741762 -0.92329566 -0.02449161 -0.06694199]]\n",
            "\n",
            "Principal components using sklearn\n",
            "[[ 0.52106591 -0.26934744  0.5804131   0.56485654]\n",
            " [ 0.37741762  0.92329566  0.02449161  0.06694199]]\n"
          ]
        }
      ],
      "source": [
        "# Let's transpose Eigen Vectors and print out the first two rows\n",
        "print(\"Eigen Vectors\")\n",
        "print(eig_vec.T[:2, :])\n",
        "\n",
        "# Add simple space\n",
        "print()\n",
        "\n",
        "# Print out pca components_\n",
        "print(\"Principal components using sklearn\")\n",
        "print(pca.components_)"
      ]
    },
    {
      "cell_type": "markdown",
      "metadata": {
        "id": "xgqKqEAx0H3c"
      },
      "source": [
        "As you can see both are exactly the same!\n",
        "\n",
        "> You might say that signs are not exactly equals, well actually signs are symetric so it comes down to the same thing in vector terms."
      ]
    },
    {
      "cell_type": "markdown",
      "metadata": {
        "id": "gpoPImYH0H3c"
      },
      "source": [
        "Let's now multiply `eig_vec` by `X` and see what we get!"
      ]
    },
    {
      "cell_type": "code",
      "execution_count": 16,
      "metadata": {
        "colab": {
          "base_uri": "https://localhost:8080/"
        },
        "id": "Flb6JE340H3c",
        "outputId": "fa525769-93ce-49ed-8102-4384eeb73382"
      },
      "outputs": [
        {
          "data": {
            "text/plain": [
              "array([[-2.26470281, -0.4800266 , -0.12770602,  0.0241682 ],\n",
              "       [-2.08096115,  0.67413356, -0.23460885,  0.10300677],\n",
              "       [-2.36422905,  0.34190802,  0.04420148,  0.02837705],\n",
              "       [-2.29938422,  0.59739451,  0.09129011, -0.06595556],\n",
              "       [-2.38984217, -0.64683538,  0.0157382 , -0.03592281]])"
            ]
          },
          "execution_count": 16,
          "metadata": {},
          "output_type": "execute_result"
        }
      ],
      "source": [
        "X.dot(eig_vec)[:5]"
      ]
    },
    {
      "cell_type": "code",
      "execution_count": 17,
      "metadata": {
        "colab": {
          "base_uri": "https://localhost:8080/"
        },
        "id": "1PYaR_qD0H3c",
        "outputId": "d6fcf05b-d32e-4c3b-d6ba-9fab28883658"
      },
      "outputs": [
        {
          "data": {
            "text/plain": [
              "array([[-2.26470281, -0.4800266 , -0.12770602,  0.0241682 ],\n",
              "       [-2.08096115,  0.67413356, -0.23460885,  0.10300677],\n",
              "       [-2.36422905,  0.34190802,  0.04420148,  0.02837705],\n",
              "       [-2.29938422,  0.59739451,  0.09129011, -0.06595556],\n",
              "       [-2.38984217, -0.64683538,  0.0157382 , -0.03592281]])"
            ]
          },
          "execution_count": 17,
          "metadata": {},
          "output_type": "execute_result"
        }
      ],
      "source": [
        "# Multiply X by eigen vectors\n",
        "X_eig_vec = X.dot(eig_vec)\n",
        "X_eig_vec[:5]"
      ]
    },
    {
      "cell_type": "code",
      "execution_count": 18,
      "metadata": {
        "colab": {
          "base_uri": "https://localhost:8080/",
          "height": 206
        },
        "id": "0aFA8sz00H3c",
        "outputId": "57400343-90c3-4f52-a014-e0b56af9f108"
      },
      "outputs": [
        {
          "data": {
            "text/html": [
              "<div>\n",
              "<style scoped>\n",
              "    .dataframe tbody tr th:only-of-type {\n",
              "        vertical-align: middle;\n",
              "    }\n",
              "\n",
              "    .dataframe tbody tr th {\n",
              "        vertical-align: top;\n",
              "    }\n",
              "\n",
              "    .dataframe thead th {\n",
              "        text-align: right;\n",
              "    }\n",
              "</style>\n",
              "<table border=\"1\" class=\"dataframe\">\n",
              "  <thead>\n",
              "    <tr style=\"text-align: right;\">\n",
              "      <th></th>\n",
              "      <th>PC1</th>\n",
              "      <th>PC2</th>\n",
              "    </tr>\n",
              "  </thead>\n",
              "  <tbody>\n",
              "    <tr>\n",
              "      <th>0</th>\n",
              "      <td>-2.264703</td>\n",
              "      <td>0.480027</td>\n",
              "    </tr>\n",
              "    <tr>\n",
              "      <th>1</th>\n",
              "      <td>-2.080961</td>\n",
              "      <td>-0.674134</td>\n",
              "    </tr>\n",
              "    <tr>\n",
              "      <th>2</th>\n",
              "      <td>-2.364229</td>\n",
              "      <td>-0.341908</td>\n",
              "    </tr>\n",
              "    <tr>\n",
              "      <th>3</th>\n",
              "      <td>-2.299384</td>\n",
              "      <td>-0.597395</td>\n",
              "    </tr>\n",
              "    <tr>\n",
              "      <th>4</th>\n",
              "      <td>-2.389842</td>\n",
              "      <td>0.646835</td>\n",
              "    </tr>\n",
              "  </tbody>\n",
              "</table>\n",
              "</div>"
            ],
            "text/plain": [
              "        PC1       PC2\n",
              "0 -2.264703  0.480027\n",
              "1 -2.080961 -0.674134\n",
              "2 -2.364229 -0.341908\n",
              "3 -2.299384 -0.597395\n",
              "4 -2.389842  0.646835"
            ]
          },
          "execution_count": 18,
          "metadata": {},
          "output_type": "execute_result"
        }
      ],
      "source": [
        "# Visualize PC\n",
        "PC[:5]"
      ]
    },
    {
      "cell_type": "markdown",
      "metadata": {
        "id": "HuYdxy8o0H3d"
      },
      "source": [
        "As you can see they are both the same! Now why do we have only 2 `PCs`? Well let's simply get the covariance matrix of `X_eig_vec`"
      ]
    },
    {
      "cell_type": "code",
      "execution_count": 19,
      "metadata": {
        "colab": {
          "base_uri": "https://localhost:8080/",
          "height": 175
        },
        "id": "dutDRt7F0H3d",
        "outputId": "e9365ab9-ebdb-43f9-c6aa-efb6977157cf"
      },
      "outputs": [
        {
          "data": {
            "text/html": [
              "<div>\n",
              "<style scoped>\n",
              "    .dataframe tbody tr th:only-of-type {\n",
              "        vertical-align: middle;\n",
              "    }\n",
              "\n",
              "    .dataframe tbody tr th {\n",
              "        vertical-align: top;\n",
              "    }\n",
              "\n",
              "    .dataframe thead th {\n",
              "        text-align: right;\n",
              "    }\n",
              "</style>\n",
              "<table border=\"1\" class=\"dataframe\">\n",
              "  <thead>\n",
              "    <tr style=\"text-align: right;\">\n",
              "      <th></th>\n",
              "      <th>0</th>\n",
              "      <th>1</th>\n",
              "      <th>2</th>\n",
              "      <th>3</th>\n",
              "    </tr>\n",
              "  </thead>\n",
              "  <tbody>\n",
              "    <tr>\n",
              "      <th>0</th>\n",
              "      <td>2.938085e+00</td>\n",
              "      <td>2.384372e-16</td>\n",
              "      <td>6.057794e-16</td>\n",
              "      <td>5.171106e-16</td>\n",
              "    </tr>\n",
              "    <tr>\n",
              "      <th>1</th>\n",
              "      <td>2.384372e-16</td>\n",
              "      <td>9.201649e-01</td>\n",
              "      <td>-1.886541e-16</td>\n",
              "      <td>-1.117674e-16</td>\n",
              "    </tr>\n",
              "    <tr>\n",
              "      <th>2</th>\n",
              "      <td>6.057794e-16</td>\n",
              "      <td>-1.886541e-16</td>\n",
              "      <td>1.477418e-01</td>\n",
              "      <td>1.333758e-16</td>\n",
              "    </tr>\n",
              "    <tr>\n",
              "      <th>3</th>\n",
              "      <td>5.171106e-16</td>\n",
              "      <td>-1.117674e-16</td>\n",
              "      <td>1.333758e-16</td>\n",
              "      <td>2.085386e-02</td>\n",
              "    </tr>\n",
              "  </tbody>\n",
              "</table>\n",
              "</div>"
            ],
            "text/plain": [
              "              0             1             2             3\n",
              "0  2.938085e+00  2.384372e-16  6.057794e-16  5.171106e-16\n",
              "1  2.384372e-16  9.201649e-01 -1.886541e-16 -1.117674e-16\n",
              "2  6.057794e-16 -1.886541e-16  1.477418e-01  1.333758e-16\n",
              "3  5.171106e-16 -1.117674e-16  1.333758e-16  2.085386e-02"
            ]
          },
          "execution_count": 19,
          "metadata": {},
          "output_type": "execute_result"
        }
      ],
      "source": [
        "# We can use Numpy of multiply by its transpose\n",
        "cov_mat_with_svd = np.cov(X_eig_vec.T) # <-- This is equal to X_eig_vec.T.dot(X_eig_vec)\n",
        "\n",
        "# Transform into pandas for better visualization\n",
        "cov_mat_with_svd = pd.DataFrame(cov_mat_with_svd)\n",
        "cov_mat_with_svd"
      ]
    },
    {
      "cell_type": "markdown",
      "metadata": {
        "id": "PD6uOOs70H3d"
      },
      "source": [
        "As you can see all the values on the off-diagonals are very close to zero while the values of the diagonals are ordered and positive. Let's actually calculate the `explained_variance_ratio`"
      ]
    },
    {
      "cell_type": "code",
      "execution_count": 20,
      "metadata": {
        "colab": {
          "base_uri": "https://localhost:8080/"
        },
        "id": "1SqvcFV20H3d",
        "outputId": "00534f1e-389a-423c-cb19-a23a0ea9b2cd"
      },
      "outputs": [
        {
          "data": {
            "text/plain": [
              "[0.7296244541329986,\n",
              " 0.22850761786701745,\n",
              " 0.03668921889282879,\n",
              " 0.005178709107154798]"
            ]
          },
          "execution_count": 20,
          "metadata": {},
          "output_type": "execute_result"
        }
      ],
      "source": [
        "# Calculate explained variance for each pcs\n",
        "# Initialize empty list\n",
        "explained_variance = []\n",
        "for i, _ in enumerate(cov_mat_with_svd.columns):\n",
        "    exp_var = cov_mat_with_svd.iloc[i, i] / cov_mat_with_svd.sum().sum()\n",
        "    explained_variance.append(exp_var)\n",
        "\n",
        "explained_variance"
      ]
    },
    {
      "cell_type": "markdown",
      "metadata": {
        "id": "LGyoVsIj0H3e"
      },
      "source": [
        "As you can see PC1 and PC2 are explaining respectively 73% and 23% of the variance. That is why we can keep them both and remove the others! 🙌"
      ]
    },
    {
      "cell_type": "markdown",
      "metadata": {
        "id": "71Mzh1sq0H3f"
      },
      "source": [
        "## Resources 📚📚\n",
        "\n",
        "* <a href=\"https://www.mathsisfun.com/algebra/matrix-multiplying.html\" target=\"_blank\">How to multiply matrices</a>\n",
        "\n",
        "* <a href=\"https://scikit-learn.org/stable/modules/generated/sklearn.decomposition.PCA.html#sklearn.decomposition.PCA\" target=\"_blank\">PCA</a>\n",
        "\n",
        "* <a href=\"https://en.wikipedia.org/wiki/Dot_product\" target=\"_blank\">Dot Product</a>\n",
        "\n",
        "* <a href=\"https://lpsa.swarthmore.edu/MtrxVibe/EigMat/MatrixEigen.html\" target=\"_blank\">How to find Eigen Values & Eigen Vectors</a>"
      ]
    }
  ],
  "metadata": {
    "colab": {
      "provenance": []
    },
    "kernelspec": {
      "display_name": "base",
      "language": "python",
      "name": "python3"
    },
    "language_info": {
      "codemirror_mode": {
        "name": "ipython",
        "version": 3
      },
      "file_extension": ".py",
      "mimetype": "text/x-python",
      "name": "python",
      "nbconvert_exporter": "python",
      "pygments_lexer": "ipython3",
      "version": "3.12.7"
    }
  },
  "nbformat": 4,
  "nbformat_minor": 0
}
