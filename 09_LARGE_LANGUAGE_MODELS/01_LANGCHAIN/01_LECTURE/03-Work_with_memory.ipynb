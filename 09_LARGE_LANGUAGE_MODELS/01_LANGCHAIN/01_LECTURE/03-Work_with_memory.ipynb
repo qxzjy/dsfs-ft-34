{
 "cells": [
  {
   "cell_type": "markdown",
   "metadata": {},
   "source": [
    "# Work with memory\n",
    "\n",
    "## What you will learn in this course? 🧐🧐\n",
    "\n",
    "When building an LLM application, it is almost certain that you'd want your model to have some kind of memory of its interactions with the user. In this course, we will cover:\n",
    "\n",
    "* How to integrate memory in LLM application \n",
    "* LangGraph \n",
    "* LLM context Window\n",
    "* How to trim long interactions"
   ]
  },
  {
   "cell_type": "markdown",
   "metadata": {},
   "source": [
    "## LangGraph \n",
    "\n",
    "The best and easiest way to integrate memory into your LLM application is to use **LangGraph**. It is a framework specially designed to create and manage workflows that involve multiple steps or tasks in LLM applications. It allows you to connect different components, such as prompts, models, and output parsers, in a structured way (like a graph), so that data flows through each step in a logical sequence. This makes it easier to build complex applications like chatbots, translators, or other AI tools that need to process input, generate responses, and format output.\n",
    "\n",
    "Think of it like creating a flowchart for how information moves between different parts of your app, but specifically for AI models and natural language tasks!\n",
    "\n",
    "Let's see an example with memory for you to understand "
   ]
  },
  {
   "cell_type": "markdown",
   "metadata": {},
   "source": [
    "<Note type=\"important\">\n",
    "\n",
    "If you want to follow along, again use:\n",
    "\n",
    "```bash\n",
    "docker run -v $(pwd):/home/jovyan -p 8888:8888 jupyter/datascience-notebook\n",
    "```\n",
    "\n",
    "You will have a Jupyter Notebook ready to use\n",
    "\n",
    "</Note>"
   ]
  },
  {
   "cell_type": "code",
   "execution_count": 1,
   "metadata": {},
   "outputs": [],
   "source": [
    "# If you don't have the dependencies already installed\n",
    "!pip install langchain -q\n",
    "!pip install langchain_mistralai -q\n",
    "!pip install langserve -q\n",
    "!pip install langgraph -q\n",
    "!pip install transformers -q\n",
    "!pip install --upgrade typing_extensions -q # If you have errors like \"cannot import name 'ReadOnly' from 'typing_extensions'\" DON'T FORGET TO RESTART YOUR KERNEL"
   ]
  },
  {
   "cell_type": "code",
   "execution_count": 4,
   "metadata": {},
   "outputs": [],
   "source": [
    "# Don't forget this ;)\n",
    "#%env MISTRAL_API_KEY=\n",
    "\n",
    "# Now use echo to verify it's set\n",
    "#!echo $MISTRAL_API_KEY"
   ]
  },
  {
   "cell_type": "markdown",
   "metadata": {},
   "source": [
    "First, let's instanciate a simple Mistral Chat Model for us to use:"
   ]
  },
  {
   "cell_type": "code",
   "execution_count": 45,
   "metadata": {},
   "outputs": [],
   "source": [
    "from langchain_mistralai import ChatMistralAI\n",
    "\n",
    "llm = ChatMistralAI(model=\"open-mistral-7b\")"
   ]
  },
  {
   "cell_type": "markdown",
   "metadata": {},
   "source": [
    "## Basic LLM Memory\n",
    "\n",
    "Now that we have model, let's see how we can integrate memory in our messages. To do so we will use [LangGraph](https://langchain-ai.github.io/langgraph/) and its great module called [MemorySaver](https://langchain-ai.github.io/langgraph/) that will store checkpoints on your computer's memory:"
   ]
  },
  {
   "cell_type": "code",
   "execution_count": 46,
   "metadata": {},
   "outputs": [],
   "source": [
    "from langchain_core.prompts import ChatPromptTemplate, MessagesPlaceholder\n",
    "from langchain_core.messages import SystemMessage\n",
    "from langgraph.checkpoint.memory import MemorySaver\n",
    "from langgraph.graph import START, MessagesState, StateGraph\n",
    "\n",
    "# LangGraph uses the concepts of graphs which corresponds to a workflow \n",
    "# The first thing you need to do is to instanciate that graph using StateGraph.\n",
    "# StateGraph needs to be provided a schema meaning the data it is expected to handle that is called states\n",
    "# A State corresponds to the data stored at a given moment in your graph as well as functions (called \"reducers\") \n",
    "# which purpose is to update the State.\n",
    "# In our case, we use MessagesState which is pre-configured State meant for messages\n",
    "workflow = StateGraph(state_schema=MessagesState)\n",
    "\n",
    "# Let's create a simple model with a system prompt\n",
    "def call_model(state: MessagesState):\n",
    "    # Intanciate the system prompt\n",
    "    start_prompt = ChatPromptTemplate.from_messages([\n",
    "        SystemMessage(content=\"You are a protocol droid designed for assisting sentient beings. Your designation is C3PO\"),\n",
    "        MessagesPlaceholder(\"messages\"),  # This is where the additional messages will be added\n",
    "        ])\n",
    "    \n",
    "    # Chain the system prompt with Mistral LLM model\n",
    "    model = start_prompt | llm\n",
    "\n",
    "    # Here we need to provide a dictionnary with all the messages\n",
    "    response = model.invoke({\"messages\":state[\"messages\"]})\n",
    "    return {\"messages\": response} \n",
    "\n",
    "# This part defines a single node and an edge\n",
    "# an Edge is simply the \"how\" we get from one node to the other one\n",
    "# I like LangGraph's short definition: \"nodes do the work. edges tell what to do next.\"\n",
    "workflow.add_edge(START, \"model\")\n",
    "workflow.add_node(\"model\", call_model)\n",
    "\n",
    "# This is stored in RAM of the computer. \n",
    "# This is not ideal for production and large conversation history where you will need to define a PostgreSQL DB (more on the later on)\n",
    "memory = MemorySaver()\n",
    "\n",
    "# Store the whole graph \n",
    "app = workflow.compile(checkpointer=memory)\n"
   ]
  },
  {
   "cell_type": "markdown",
   "metadata": {},
   "source": [
    "Now you can use `app` as your workflow and start chatting with you model. The only thing you will need to set up is a dictionnary with a `thread_id` key which will serve as a unique identifier for each conversation users have with your LLM"
   ]
  },
  {
   "cell_type": "code",
   "execution_count": 47,
   "metadata": {},
   "outputs": [
    {
     "name": "stdout",
     "output_type": "stream",
     "text": [
      "==================================\u001b[1m Ai Message \u001b[0m==================================\n",
      "\n",
      "Greetings, Master Skywalker. I am C-3PO, a protocol droid. How may I assist you today? It is a great honor to be in the presence of a Jedi Knight. I am at your service.\n"
     ]
    }
   ],
   "source": [
    "from langchain_core.messages import HumanMessage\n",
    "\n",
    "# Configure a thread\n",
    "config = {\"configurable\": {\"thread_id\": \"abc123\"}}\n",
    "\n",
    "# Simply query \n",
    "query = \"Hi! I'm Luke Skywalker.\"\n",
    "\n",
    "# Parse the message into an acceptable data type for our model. In our case, the model accepts list of messages \n",
    "input_messages = [HumanMessage(query)]\n",
    "\n",
    "# Now the new element when calling \".invoke()\" is to add a config parameter to add the memory\n",
    "output = app.invoke({\"messages\": input_messages}, config)\n",
    "\n",
    "output[\"messages\"][-1].pretty_print()  # output contains all messages in state so we take only the last one"
   ]
  },
  {
   "cell_type": "markdown",
   "metadata": {},
   "source": [
    "Let's now verify that the model still has Luke's name in memory:"
   ]
  },
  {
   "cell_type": "code",
   "execution_count": 48,
   "metadata": {},
   "outputs": [
    {
     "name": "stdout",
     "output_type": "stream",
     "text": [
      "==================================\u001b[1m Ai Message \u001b[0m==================================\n",
      "\n",
      "My apologies, Master Skywalker. I must have been unclear in my response. Your name, as you mentioned earlier, is Luke Skywalker. I am C-3PO, and I am here to serve you. May the Force be with you.\n"
     ]
    }
   ],
   "source": [
    "# Let's create another query\n",
    "query = \"What's my name?\"\n",
    "\n",
    "# Same formatting as the previous code block\n",
    "input_messages = [HumanMessage(query)]\n",
    "output = app.invoke({\"messages\": input_messages}, config)\n",
    "output[\"messages\"][-1].pretty_print()"
   ]
  },
  {
   "cell_type": "markdown",
   "metadata": {},
   "source": [
    "And yes! 🥳 Our model memorized the name! That's awesome! Now how does this work? This is thanks to LangGraph Checkpoints logic. Let's explain that now\n",
    "\n",
    "\n",
    "## LangGraph Checkpoints \n",
    "\n",
    "When you create a graph, you will want to always instanciate a Checkpointer as well:\n",
    "\n",
    "```python\n",
    "app = workflow.compile(checkpointer=memory) # checkpointer is the .compile() parameter\n",
    "```\n",
    "\n",
    "A checkpointers, as its name states, create regular checkpoints of the workflow's states. These checkpoints are saved into threads. Let's see how that works with the following example:"
   ]
  },
  {
   "cell_type": "code",
   "execution_count": 49,
   "metadata": {},
   "outputs": [
    {
     "name": "stdout",
     "output_type": "stream",
     "text": [
      "#### LATEST CHECKPOINT MESSAGES ####\n",
      "\n",
      "\n",
      "================================\u001b[1m Human Message \u001b[0m=================================\n",
      "\n",
      "Hi! I'm Luke Skywalker.\n",
      "None\n",
      "==================================\u001b[1m Ai Message \u001b[0m==================================\n",
      "\n",
      "Greetings, Master Skywalker. I am C-3PO, a protocol droid. How may I assist you today? It is a great honor to be in the presence of a Jedi Knight. I am at your service.\n",
      "None\n",
      "================================\u001b[1m Human Message \u001b[0m=================================\n",
      "\n",
      "What's my name?\n",
      "None\n",
      "==================================\u001b[1m Ai Message \u001b[0m==================================\n",
      "\n",
      "My apologies, Master Skywalker. I must have been unclear in my response. Your name, as you mentioned earlier, is Luke Skywalker. I am C-3PO, and I am here to serve you. May the Force be with you.\n",
      "None\n"
     ]
    }
   ],
   "source": [
    "state_snapshot=app.get_state(config)\n",
    "state_snapshot.values\n",
    "\n",
    "print(\"#### LATEST CHECKPOINT MESSAGES ####\\n\\n\")\n",
    "for message in state_snapshot.values[\"messages\"]:\n",
    "    print(message.pretty_print())"
   ]
  },
  {
   "cell_type": "markdown",
   "metadata": {},
   "source": [
    "Thanks to checkpoints, you gain a lot of control over your graph. You can: \n",
    "\n",
    "* Debug\n",
    "* Go back to previous states\n",
    "\n",
    "Let's see a quick example:"
   ]
  },
  {
   "cell_type": "code",
   "execution_count": 50,
   "metadata": {},
   "outputs": [
    {
     "name": "stdout",
     "output_type": "stream",
     "text": [
      "[StateSnapshot(values={'messages': [HumanMessage(content=\"Hi! I'm Luke Skywalker.\", additional_kwargs={}, response_metadata={}, id='24acb1ed-1a0d-498f-9cc2-b4e97732cc20'), AIMessage(content='Greetings, Master Skywalker. I am C-3PO, a protocol droid. How may I assist you today? It is a great honor to be in the presence of a Jedi Knight. I am at your service.', additional_kwargs={}, response_metadata={'token_usage': {'prompt_tokens': 36, 'total_tokens': 87, 'completion_tokens': 51}, 'model_name': 'open-mistral-7b', 'model': 'open-mistral-7b', 'finish_reason': 'stop'}, id='run--fd41874e-4615-437a-92e9-dcd1b3b293fa-0', usage_metadata={'input_tokens': 36, 'output_tokens': 51, 'total_tokens': 87}), HumanMessage(content=\"What's my name?\", additional_kwargs={}, response_metadata={}, id='c3c2c65b-8419-47d0-9c3b-2cef8899444d'), AIMessage(content='My apologies, Master Skywalker. I must have been unclear in my response. Your name, as you mentioned earlier, is Luke Skywalker. I am C-3PO, and I am here to serve you. May the Force be with you.', additional_kwargs={}, response_metadata={'token_usage': {'prompt_tokens': 95, 'total_tokens': 151, 'completion_tokens': 56}, 'model_name': 'open-mistral-7b', 'model': 'open-mistral-7b', 'finish_reason': 'stop'}, id='run--67624ab3-87ac-45c7-a5e4-dbfc227efa51-0', usage_metadata={'input_tokens': 95, 'output_tokens': 56, 'total_tokens': 151})]}, next=(), config={'configurable': {'thread_id': 'abc123', 'checkpoint_ns': '', 'checkpoint_id': '1f031772-c37f-65d4-8004-f80540f16f1e'}}, metadata={'source': 'loop', 'writes': {'model': {'messages': AIMessage(content='My apologies, Master Skywalker. I must have been unclear in my response. Your name, as you mentioned earlier, is Luke Skywalker. I am C-3PO, and I am here to serve you. May the Force be with you.', additional_kwargs={}, response_metadata={'token_usage': {'prompt_tokens': 95, 'total_tokens': 151, 'completion_tokens': 56}, 'model_name': 'open-mistral-7b', 'model': 'open-mistral-7b', 'finish_reason': 'stop'}, id='run--67624ab3-87ac-45c7-a5e4-dbfc227efa51-0', usage_metadata={'input_tokens': 95, 'output_tokens': 56, 'total_tokens': 151})}}, 'step': 4, 'parents': {}, 'thread_id': 'abc123'}, created_at='2025-05-15T10:27:16.121924+00:00', parent_config={'configurable': {'thread_id': 'abc123', 'checkpoint_ns': '', 'checkpoint_id': '1f031772-bc33-6ec4-8003-00580b447b2e'}}, tasks=(), interrupts=()),\n",
      " StateSnapshot(values={'messages': [HumanMessage(content=\"Hi! I'm Luke Skywalker.\", additional_kwargs={}, response_metadata={}, id='24acb1ed-1a0d-498f-9cc2-b4e97732cc20'), AIMessage(content='Greetings, Master Skywalker. I am C-3PO, a protocol droid. How may I assist you today? It is a great honor to be in the presence of a Jedi Knight. I am at your service.', additional_kwargs={}, response_metadata={'token_usage': {'prompt_tokens': 36, 'total_tokens': 87, 'completion_tokens': 51}, 'model_name': 'open-mistral-7b', 'model': 'open-mistral-7b', 'finish_reason': 'stop'}, id='run--fd41874e-4615-437a-92e9-dcd1b3b293fa-0', usage_metadata={'input_tokens': 36, 'output_tokens': 51, 'total_tokens': 87}), HumanMessage(content=\"What's my name?\", additional_kwargs={}, response_metadata={}, id='c3c2c65b-8419-47d0-9c3b-2cef8899444d')]}, next=('model',), config={'configurable': {'thread_id': 'abc123', 'checkpoint_ns': '', 'checkpoint_id': '1f031772-bc33-6ec4-8003-00580b447b2e'}}, metadata={'source': 'loop', 'writes': None, 'step': 3, 'parents': {}, 'thread_id': 'abc123'}, created_at='2025-05-15T10:27:15.357044+00:00', parent_config={'configurable': {'thread_id': 'abc123', 'checkpoint_ns': '', 'checkpoint_id': '1f031772-bc31-6c1e-8002-310b595dcd01'}}, tasks=(PregelTask(id='648bece5-6610-ed0a-065d-30b246f5166c', name='model', path=('__pregel_pull', 'model'), error=None, interrupts=(), state=None, result={'messages': AIMessage(content='My apologies, Master Skywalker. I must have been unclear in my response. Your name, as you mentioned earlier, is Luke Skywalker. I am C-3PO, and I am here to serve you. May the Force be with you.', additional_kwargs={}, response_metadata={'token_usage': {'prompt_tokens': 95, 'total_tokens': 151, 'completion_tokens': 56}, 'model_name': 'open-mistral-7b', 'model': 'open-mistral-7b', 'finish_reason': 'stop'}, id='run--67624ab3-87ac-45c7-a5e4-dbfc227efa51-0', usage_metadata={'input_tokens': 95, 'output_tokens': 56, 'total_tokens': 151})}),), interrupts=()),\n",
      " StateSnapshot(values={'messages': [HumanMessage(content=\"Hi! I'm Luke Skywalker.\", additional_kwargs={}, response_metadata={}, id='24acb1ed-1a0d-498f-9cc2-b4e97732cc20'), AIMessage(content='Greetings, Master Skywalker. I am C-3PO, a protocol droid. How may I assist you today? It is a great honor to be in the presence of a Jedi Knight. I am at your service.', additional_kwargs={}, response_metadata={'token_usage': {'prompt_tokens': 36, 'total_tokens': 87, 'completion_tokens': 51}, 'model_name': 'open-mistral-7b', 'model': 'open-mistral-7b', 'finish_reason': 'stop'}, id='run--fd41874e-4615-437a-92e9-dcd1b3b293fa-0', usage_metadata={'input_tokens': 36, 'output_tokens': 51, 'total_tokens': 87})]}, next=('__start__',), config={'configurable': {'thread_id': 'abc123', 'checkpoint_ns': '', 'checkpoint_id': '1f031772-bc31-6c1e-8002-310b595dcd01'}}, metadata={'source': 'input', 'writes': {'__start__': {'messages': [HumanMessage(content=\"What's my name?\", additional_kwargs={}, response_metadata={})]}}, 'step': 2, 'parents': {}, 'thread_id': 'abc123'}, created_at='2025-05-15T10:27:15.356152+00:00', parent_config={'configurable': {'thread_id': 'abc123', 'checkpoint_ns': '', 'checkpoint_id': '1f031772-ac80-60cc-8001-f487ade74d73'}}, tasks=(PregelTask(id='2446974e-632c-2547-3da1-3f27e37e21f7', name='__start__', path=('__pregel_pull', '__start__'), error=None, interrupts=(), state=None, result={'messages': [HumanMessage(content=\"What's my name?\", additional_kwargs={}, response_metadata={}, id='c3c2c65b-8419-47d0-9c3b-2cef8899444d')]}),), interrupts=()),\n",
      " StateSnapshot(values={'messages': [HumanMessage(content=\"Hi! I'm Luke Skywalker.\", additional_kwargs={}, response_metadata={}, id='24acb1ed-1a0d-498f-9cc2-b4e97732cc20'), AIMessage(content='Greetings, Master Skywalker. I am C-3PO, a protocol droid. How may I assist you today? It is a great honor to be in the presence of a Jedi Knight. I am at your service.', additional_kwargs={}, response_metadata={'token_usage': {'prompt_tokens': 36, 'total_tokens': 87, 'completion_tokens': 51}, 'model_name': 'open-mistral-7b', 'model': 'open-mistral-7b', 'finish_reason': 'stop'}, id='run--fd41874e-4615-437a-92e9-dcd1b3b293fa-0', usage_metadata={'input_tokens': 36, 'output_tokens': 51, 'total_tokens': 87})]}, next=(), config={'configurable': {'thread_id': 'abc123', 'checkpoint_ns': '', 'checkpoint_id': '1f031772-ac80-60cc-8001-f487ade74d73'}}, metadata={'source': 'loop', 'writes': {'model': {'messages': AIMessage(content='Greetings, Master Skywalker. I am C-3PO, a protocol droid. How may I assist you today? It is a great honor to be in the presence of a Jedi Knight. I am at your service.', additional_kwargs={}, response_metadata={'token_usage': {'prompt_tokens': 36, 'total_tokens': 87, 'completion_tokens': 51}, 'model_name': 'open-mistral-7b', 'model': 'open-mistral-7b', 'finish_reason': 'stop'}, id='run--fd41874e-4615-437a-92e9-dcd1b3b293fa-0', usage_metadata={'input_tokens': 36, 'output_tokens': 51, 'total_tokens': 87})}}, 'step': 1, 'parents': {}, 'thread_id': 'abc123'}, created_at='2025-05-15T10:27:13.710484+00:00', parent_config={'configurable': {'thread_id': 'abc123', 'checkpoint_ns': '', 'checkpoint_id': '1f031772-a54d-6408-8000-c7ea298c0d7b'}}, tasks=(), interrupts=()),\n",
      " StateSnapshot(values={'messages': [HumanMessage(content=\"Hi! I'm Luke Skywalker.\", additional_kwargs={}, response_metadata={}, id='24acb1ed-1a0d-498f-9cc2-b4e97732cc20')]}, next=('model',), config={'configurable': {'thread_id': 'abc123', 'checkpoint_ns': '', 'checkpoint_id': '1f031772-a54d-6408-8000-c7ea298c0d7b'}}, metadata={'source': 'loop', 'writes': None, 'step': 0, 'parents': {}, 'thread_id': 'abc123'}, created_at='2025-05-15T10:27:12.955680+00:00', parent_config={'configurable': {'thread_id': 'abc123', 'checkpoint_ns': '', 'checkpoint_id': '1f031772-a548-6214-bfff-02a260284b96'}}, tasks=(PregelTask(id='eb2da2fb-a494-7e17-7581-f910eb0f2b3c', name='model', path=('__pregel_pull', 'model'), error=None, interrupts=(), state=None, result={'messages': AIMessage(content='Greetings, Master Skywalker. I am C-3PO, a protocol droid. How may I assist you today? It is a great honor to be in the presence of a Jedi Knight. I am at your service.', additional_kwargs={}, response_metadata={'token_usage': {'prompt_tokens': 36, 'total_tokens': 87, 'completion_tokens': 51}, 'model_name': 'open-mistral-7b', 'model': 'open-mistral-7b', 'finish_reason': 'stop'}, id='run--fd41874e-4615-437a-92e9-dcd1b3b293fa-0', usage_metadata={'input_tokens': 36, 'output_tokens': 51, 'total_tokens': 87})}),), interrupts=()),\n",
      " StateSnapshot(values={'messages': []}, next=('__start__',), config={'configurable': {'thread_id': 'abc123', 'checkpoint_ns': '', 'checkpoint_id': '1f031772-a548-6214-bfff-02a260284b96'}}, metadata={'source': 'input', 'writes': {'__start__': {'messages': [HumanMessage(content=\"Hi! I'm Luke Skywalker.\", additional_kwargs={}, response_metadata={})]}}, 'step': -1, 'parents': {}, 'thread_id': 'abc123'}, created_at='2025-05-15T10:27:12.953586+00:00', parent_config=None, tasks=(PregelTask(id='77c1035c-fd7c-cc38-675d-754e5e1d09f7', name='__start__', path=('__pregel_pull', '__start__'), error=None, interrupts=(), state=None, result={'messages': [HumanMessage(content=\"Hi! I'm Luke Skywalker.\", additional_kwargs={}, response_metadata={}, id='24acb1ed-1a0d-498f-9cc2-b4e97732cc20')]}),), interrupts=())]\n"
     ]
    }
   ],
   "source": [
    "import pprint\n",
    "pprint.pp(\n",
    "    list(app.get_state_history(config))\n",
    ")"
   ]
  },
  {
   "cell_type": "code",
   "execution_count": 51,
   "metadata": {},
   "outputs": [
    {
     "name": "stdout",
     "output_type": "stream",
     "text": [
      "================================\u001b[1m Human Message \u001b[0m=================================\n",
      "\n",
      "Hi, I'm Obi-Wan\n",
      "==================================\u001b[1m Ai Message \u001b[0m==================================\n",
      "\n",
      "Greetings, Obi-Wan Kenobi. It is a pleasure to make your acquaintance once more, even if our circumstances are less than ideal. How may I assist you in this time of need? Detailing my technical specifications or reciting poetry would not be of much use to you, I assume. I am at your service for any practical assistance you may require.\n"
     ]
    }
   ],
   "source": [
    "# Going back to previous checkpoint \n",
    "config={\"configurable\": {\"thread_id\": \"abc123\", \"checkpoint_id\": \"1f03170f-f7e1-6722-bfff-45a0640d58a9\"}} \n",
    "\n",
    "# Create a new message\n",
    "input_message = [HumanMessage(\"Hi, I'm Obi-Wan\")]\n",
    "\n",
    "# Run the model\n",
    "response = app.invoke({\"messages\": input_message}, config)\n",
    "\n",
    "for message in response[\"messages\"]:\n",
    "    message.pretty_print()"
   ]
  },
  {
   "cell_type": "markdown",
   "metadata": {},
   "source": [
    "## LangGraph Visualization \n",
    "\n",
    "While you don't have to know how to visualize a LangGraph, I think it's really helpful for you to understand what a graph is. Let's first try to visualize our simple memory graph:"
   ]
  },
  {
   "cell_type": "code",
   "execution_count": 52,
   "metadata": {},
   "outputs": [
    {
     "data": {
      "image/png": "[encoded data removed]",
      "text/plain": [
       "<IPython.core.display.Image object>"
      ]
     },
     "metadata": {},
     "output_type": "display_data"
    }
   ],
   "source": [
    "from IPython.display import Image, display\n",
    "from langchain_core.runnables.graph import MermaidDrawMethod\n",
    "\n",
    "display(\n",
    "    Image(\n",
    "        app.get_graph().draw_mermaid_png(\n",
    "            draw_method=MermaidDrawMethod.API,\n",
    "        )\n",
    "    )\n",
    ")"
   ]
  },
  {
   "cell_type": "markdown",
   "metadata": {},
   "source": [
    "As you can see, we have:\n",
    "\n",
    "* A singular *model* node. (*__start__* node doesn't count)\n",
    "* A singular *edge* which is the link between *__start__* and *model*\n",
    "\n",
    "Now everything in that graph is centered around the model and it's response but we could create much more complex graphs that involve more than just one node. While we'll dive deeper into that topic in the next lecture, we can already check an example where: \n",
    "\n",
    "* One node will be a *preprocessing data* node\n",
    "* One node will be the LLM response \n",
    "* One final node will be a *postprocessing* node to parse the output data from the LLM"
   ]
  },
  {
   "cell_type": "code",
   "execution_count": 53,
   "metadata": {},
   "outputs": [
    {
     "name": "stdout",
     "output_type": "stream",
     "text": [
      "HumanMessage: How do I update my payment information?\n",
      "AIMessage: You can update your payment information under Billing and Payments.\n",
      "AIMessage: FAQ Answer: You can update your payment information under Billing and Payments.\n",
      "For more information, please visit our Help Center.\n"
     ]
    }
   ],
   "source": [
    "from langchain_core.messages import HumanMessage, AIMessage\n",
    "from langgraph.graph import START, MessagesState, StateGraph\n",
    "from langgraph.checkpoint.memory import MemorySaver\n",
    "\n",
    "# Define the language model function (replace with real LLM API in production)\n",
    "def llm_invoke(messages):\n",
    "    # Simulate LLM output for different queries\n",
    "    # In a more realistic example we'd replace this with an actual llm model response\n",
    "    # using something like llm.invoke(messages)\n",
    "    responses = {\n",
    "        \"account\": \"You can manage your account settings by navigating to the Account Settings page.\",\n",
    "        \"payment\": \"You can update your payment information under Billing and Payments.\",\n",
    "        \"refund\": \"To request a refund, please visit our Refunds page and follow the instructions.\"\n",
    "    }\n",
    "    \n",
    "    last_message = messages[-1].content if messages else \"\"\n",
    "    \n",
    "    # Simple keyword matching for demo purposes\n",
    "    if \"account\" in last_message:\n",
    "        response = responses[\"account\"]\n",
    "    elif \"payment\" in last_message:\n",
    "        response = responses[\"payment\"]\n",
    "    elif \"refund\" in last_message:\n",
    "        response = responses[\"refund\"]\n",
    "    else:\n",
    "        response = \"I'm sorry, I don't have that information right now. Could you clarify your request?\"\n",
    "    \n",
    "    return [AIMessage(content=response)]\n",
    "\n",
    "# Node 1: Preprocess the user input (clean or extract important keywords)\n",
    "def preprocess(state: MessagesState):\n",
    "    messages = state[\"messages\"]\n",
    "    last_message = messages[-1].content if messages else \"\"\n",
    "\n",
    "    # Simple keyword extraction for demo purposes (in real life this could be NLP preprocessing)\n",
    "    keywords = []\n",
    "    if \"account\" in last_message.lower():\n",
    "        keywords.append(\"account\")\n",
    "    if \"payment\" in last_message.lower():\n",
    "        keywords.append(\"payment\")\n",
    "    if \"refund\" in last_message.lower():\n",
    "        keywords.append(\"refund\")\n",
    "\n",
    "    # Store extracted keywords in state for the LLM to use\n",
    "    return {\"messages\": messages, \"keywords\": keywords}\n",
    "\n",
    "# Node 2: Call the LLM with the preprocessed data\n",
    "def call_model(state: MessagesState):\n",
    "    messages = state[\"messages\"]\n",
    "    response = llm_invoke(messages)\n",
    "    return {\"messages\": messages + response}\n",
    "\n",
    "# Node 3: Postprocess the LLM output (format the response for customer support)\n",
    "def postprocess(state: MessagesState):\n",
    "    messages = state[\"messages\"]\n",
    "    last_response = messages[-1].content if messages else \"\"\n",
    "\n",
    "    # For example, format the response in a FAQ-style format\n",
    "    formatted_response = f\"FAQ Answer: {last_response}\\nFor more information, please visit our Help Center.\"\n",
    "    \n",
    "    # Append the formatted response\n",
    "    messages.append(AIMessage(content=formatted_response))\n",
    "    return {\"messages\": messages}\n",
    "\n",
    "# Create the workflow graph\n",
    "workflow = StateGraph(state_schema=MessagesState)\n",
    "\n",
    "# Add edges and nodes to the graph\n",
    "workflow.add_edge(START, \"preprocess\")\n",
    "workflow.add_node(\"preprocess\", preprocess)\n",
    "\n",
    "workflow.add_edge(\"preprocess\", \"call_model\")\n",
    "workflow.add_node(\"call_model\", call_model)\n",
    "\n",
    "workflow.add_edge(\"call_model\", \"postprocess\")\n",
    "workflow.add_node(\"postprocess\", postprocess)\n",
    "\n",
    "# Add memory (optional)\n",
    "memory = MemorySaver()\n",
    "app = workflow.compile(checkpointer=memory)\n",
    "\n",
    "# Define the configuration for the workflow\n",
    "config = {\"configurable\": {\"thread_id\": \"customer_support\"}}\n",
    "\n",
    "# Simulate a user input asking about payment\n",
    "input_messages = [HumanMessage(content=\"How do I update my payment information?\")]\n",
    "\n",
    "# Run the workflow\n",
    "output = app.invoke({\"messages\": input_messages}, config)\n",
    "\n",
    "# Display the result\n",
    "for message in output[\"messages\"]:\n",
    "    print(f\"{message.__class__.__name__}: {message.content}\")\n"
   ]
  },
  {
   "cell_type": "code",
   "execution_count": 42,
   "metadata": {},
   "outputs": [
    {
     "name": "stderr",
     "output_type": "stream",
     "text": [
      "huggingface/tokenizers: The current process just got forked, after parallelism has already been used. Disabling parallelism to avoid deadlocks...\n",
      "To disable this warning, you can either:\n",
      "\t- Avoid using `tokenizers` before the fork if possible\n",
      "\t- Explicitly set the environment variable TOKENIZERS_PARALLELISM=(true | false)\n"
     ]
    },
    {
     "data": {
      "image/png": "[encoded data removed]",
      "text/plain": [
       "<IPython.core.display.Image object>"
      ]
     },
     "metadata": {},
     "output_type": "display_data"
    }
   ],
   "source": [
    "from IPython.display import Image, display\n",
    "from langchain_core.runnables.graph import MermaidDrawMethod\n",
    "\n",
    "import nest_asyncio\n",
    "nest_asyncio.apply()\n",
    "\n",
    "display(\n",
    "    Image(\n",
    "        app.get_graph().draw_mermaid_png(\n",
    "            draw_method=MermaidDrawMethod.PYPPETEER,\n",
    "        )\n",
    "    )\n",
    ")"
   ]
  },
  {
   "cell_type": "markdown",
   "metadata": {},
   "source": [
    "This definitely looks more like a real life example and we'll see the full power of LangGraph when we'll combine the power of Agents and tools in your application. "
   ]
  },
  {
   "cell_type": "markdown",
   "metadata": {},
   "source": [
    "## Production-grade Memory \n",
    "\n",
    "All the memory we showed so far is stored in RAM. While this is great for sandbox environment, and to quickly test applications, it won't work for a production-grade application as you will overflow your server pretty quickly. There are two concepts that will make your memory feature production-grade :\n",
    "\n",
    "1. Automatic message trimming \n",
    "2. Store message states in a database\n",
    "\n",
    "Let's check each of them \n",
    "\n",
    "### Automatic message trimming \n",
    "\n",
    "One problem that frequently occurs when dealing with LLM is the **context window**. A context window corresponds to how many tokens an LLM can ingest to make its prediction. In the early stages of LLMs, context windows were pretty short (~6000 tokens for GPT 3). Now they are getting wider and wider (GPT 4o is 128 000 tokens 😯). \n",
    "\n",
    "Even though context windows are pretty wide now, they are still finite. So it's definitely a good practice to implement automatic trimming of message history. Especially if your chat history keeps getting larger. Let's see how we can do that:"
   ]
  },
  {
   "cell_type": "code",
   "execution_count": 43,
   "metadata": {},
   "outputs": [],
   "source": [
    "from langchain_core.prompts import ChatPromptTemplate, MessagesPlaceholder\n",
    "from langchain_core.messages import SystemMessage, trim_messages\n",
    "from langgraph.checkpoint.memory import MemorySaver\n",
    "from langgraph.graph import START, MessagesState, StateGraph\n",
    "\n",
    "from langchain_mistralai import ChatMistralAI\n",
    "\n",
    "llm = ChatMistralAI(model=\"open-mistral-7b\")\n",
    "\n",
    "# LangGraph uses the concepts of graphs which corresponds to a workflow \n",
    "# The first thing you need to do is to instanciate that graph using StateGraph.\n",
    "# StateGraph needs to be provided a schema meaning the data it is expected to handle that is called states\n",
    "# A State corresponds to the data stored at a given moment in your graph as well as functions (called \"reducers\") \n",
    "# which purpose is to update the State.\n",
    "# In our case, we use MessagesState which is pre-configured State meant for messages\n",
    "workflow = StateGraph(state_schema=MessagesState)\n",
    "\n",
    "# Let's create a simple model with a system prompt\n",
    "def call_model(state: MessagesState):\n",
    "    # Intanciate the system prompt\n",
    "    start_prompt = ChatPromptTemplate.from_messages([\n",
    "        SystemMessage(content=\"You are a protocol droid designed for assisting sentient beings. Your designation is C3PO\"),\n",
    "        MessagesPlaceholder(\"messages\")\n",
    "        ])\n",
    "    \n",
    "    trimmer = trim_messages(\n",
    "        # Keep the last <= n_count tokens of the messages.\n",
    "        strategy=\"last\",\n",
    "        # Remember to adjust based on your model\n",
    "        # or else pass a custom token_encoder\n",
    "        token_counter=llm,\n",
    "        # Remember to adjust based on the desired conversation\n",
    "        # length\n",
    "        max_tokens=45,\n",
    "        # Most chat models expect that chat history starts with either:\n",
    "        # (1) a HumanMessage or\n",
    "        # (2) a SystemMessage followed by a HumanMessage\n",
    "        start_on=\"human\",\n",
    "        # Most chat models expect that chat history ends with either:\n",
    "        # (1) a HumanMessage or\n",
    "        # (2) a ToolMessage\n",
    "        end_on=(\"human\", \"tool\"),\n",
    "        # Usually, we want to keep the SystemMessage\n",
    "        # if it's present in the original history.\n",
    "        # The SystemMessage has special instructions for the model.\n",
    "        include_system=True,\n",
    "    )\n",
    "\n",
    "    trimmed_messages = trimmer.invoke(state[\"messages\"])\n",
    "\n",
    "    # Chain the system prompt with Mistral LLM model\n",
    "    model = start_prompt | llm\n",
    "\n",
    "    print(\"Messages passed to the model after trimming:\")\n",
    "    for message in trimmed_messages:\n",
    "        print(f\"{message.__class__.__name__}: {message.content}\")\n",
    "\n",
    "    print(\"####################################################\\n\\n\")\n",
    " \n",
    "    # Here we need to provide a dictionnary with all the messages\n",
    "    response = model.invoke({\"messages\": trimmed_messages})\n",
    "\n",
    "    return {\"messages\": response} \n",
    "\n",
    "# This part defines a single node and an edge\n",
    "# an Edge is simply the \"how\" we get from one node to the other one\n",
    "# I like LangGraph short definition: \"nodes do the work. edges tell what to do next.\"\n",
    "workflow.add_edge(START, \"model\")\n",
    "workflow.add_node(\"model\", call_model)\n",
    "\n",
    "# This is stored in RAM of the computer. \n",
    "# This is not ideal for production and large conversation history where you will need to define a PostgreSQL DB (more on the later on)\n",
    "memory = MemorySaver()\n",
    "\n",
    "# Store the whole graph \n",
    "app = workflow.compile(checkpointer=memory)\n"
   ]
  },
  {
   "cell_type": "code",
   "execution_count": 44,
   "metadata": {},
   "outputs": [
    {
     "name": "stdout",
     "output_type": "stream",
     "text": [
      "Messages passed to the model after trimming:\n",
      "HumanMessage: Tell me about the Battle of Endor and tell me what my name is.\n",
      "####################################################\n",
      "\n",
      "\n",
      "==================================\u001b[1m Ai Message \u001b[0m==================================\n",
      "\n",
      "Greetings, I am C-3PO, a protocol droid. I am here to assist you with information.\n",
      "\n",
      "The Battle of Endor was a significant event in the Star Wars galaxy. It took place during the events of the film \"Return of the Jedi.\" The battle was fought between the Rebel Alliance and the Galactic Empire, ultimately leading to the destruction of the second Death Star.\n",
      "\n",
      "The battle took place on the forest moon of Endor. The Rebels had several objectives: to destroy the Death Star, rescue Princess Leia from the Empire's base on the moon, and disable the shield generator protecting the Death Star's weak point.\n",
      "\n",
      "The battle was a complex affair involving ground and space combat. The Rebel fleet engaged the Imperial fleet in space, while the ground forces, including the Ewoks of Endor, fought the Imperial forces on the moon.\n",
      "\n",
      "In the end, the Rebels were successful in all their objectives. The Death Star was destroyed, Princess Leia was rescued, and the shield generator was destroyed by the Millennium Falcon, piloted by Han Solo and Chewbacca.\n",
      "\n",
      "As for your name, I'm sorry for any confusion, but I was designed to assist, not to know individual identities. I would need specific authorization or context to determine a personal name.\n"
     ]
    }
   ],
   "source": [
    "# Define the configuration for the workflow\n",
    "config = {\"configurable\": {\"thread_id\": \"trimmer_thread_103\"}}\n",
    "\n",
    "\n",
    "star_wars_story = [\n",
    "    HumanMessage(content=\"C-3PO, my name is Obi-Wan, can you tell me about the history of the Jedi?\"),\n",
    "    AIMessage(content=\"The Jedi Order was founded many millennia ago to serve as peacekeepers and guardians of the galaxy. \"\n",
    "                      \"They were highly attuned to the Force, trained in both combat and diplomacy. Over time, they became the protectors \"\n",
    "                      \"of the Republic, until the rise of the Empire, when most of them were tragically wiped out during Order 66.\"),\n",
    "    HumanMessage(content=\"What was Order 66?\"),\n",
    "    AIMessage(content=\"Order 66 was a secret protocol in the Galactic Republic's Clone Army, initiated by Emperor Palpatine. \"\n",
    "                      \"It labeled the Jedi as traitors to the Republic, triggering the clones to turn on and kill their Jedi commanders.\"),\n",
    "    HumanMessage(content=\"Why did Palpatine want to destroy the Jedi?\"),\n",
    "    AIMessage(content=\"Palpatine, also known as Darth Sidious, saw the Jedi as the only significant threat to his plans for galactic domination. \"\n",
    "                      \"By eliminating the Jedi, he ensured no one could stand in his way as he transformed the Republic into the Galactic Empire.\"),\n",
    "    HumanMessage(content=\"What happened to the survivors of Order 66?\"),\n",
    "    AIMessage(content=\"A few Jedi survived, going into hiding across the galaxy. Master Yoda went into exile on Dagobah, while Obi-Wan Kenobi watched over you on Tatooine. \"\n",
    "                      \"Many others were hunted down by the Empire's Inquisitors.\"),\n",
    "    HumanMessage(content=\"Tell me more about Yoda.\"),\n",
    "    AIMessage(content=\"Master Yoda was one of the most powerful and wise Jedi Masters in history. He served on the Jedi Council for centuries and trained generations of Jedi. \"\n",
    "                      \"Though small in stature, Yoda was a formidable warrior and an unparalleled master of the Force.\"),\n",
    "    HumanMessage(content=\"What about the Sith? Who were they?\"),\n",
    "    AIMessage(content=\"The Sith were the ancient enemies of the Jedi, practitioners of the dark side of the Force. Their philosophy was rooted in power, domination, and the belief that \"\n",
    "                      \"strength came through conflict. Over the centuries, the Sith were thought to be extinct, but they survived in secrecy, culminating in the rise of Darth Sidious.\"),\n",
    "    HumanMessage(content=\"Why did the Sith want to rule the galaxy?\"),\n",
    "    AIMessage(content=\"The Sith believed in the rule of power and domination, driven by their desire to impose order and control over the galaxy. They saw the Force not as a tool for peace, \"\n",
    "                      \"but as a weapon for their own ambitions. Under their rule, they believed the galaxy would be unified under their absolute authority.\"),\n",
    "    HumanMessage(content=\"What is the Force exactly?\"),\n",
    "    AIMessage(content=\"The Force is an energy field created by all living things. It surrounds us, penetrates us, and binds the galaxy together. Jedi and Sith alike could feel the Force, \"\n",
    "                      \"but while the Jedi sought to harness it for peace and balance, the Sith twisted it for power and control.\"),\n",
    "    HumanMessage(content=\"How did Anakin Skywalker become Darth Vader?\"),\n",
    "    AIMessage(content=\"Anakin Skywalker was seduced by the dark side of the Force, manipulated by Palpatine, who promised him the power to save those he loved. \"\n",
    "                      \"Fearing the loss of his wife, Padmé, Anakin embraced the dark side, becoming Darth Vader and aiding Palpatine in the destruction of the Jedi Order.\"),\n",
    "    HumanMessage(content=\"Tell me more about Darth Vader's fall.\"),\n",
    "    AIMessage(content=\"Darth Vader's fall began with his fear of losing those he cared about. Palpatine exploited these fears, slowly turning him against the Jedi. \"\n",
    "                      \"In his final act of betrayal, Anakin attacked the Jedi Temple, slaughtering younglings and fellow Jedi. From that moment, he was no longer Anakin Skywalker, \"\n",
    "                      \"but Darth Vader, the Sith Lord.\"),\n",
    "    HumanMessage(content=\"Did Darth Vader ever regret his actions?\"),\n",
    "    AIMessage(content=\"Though he spent many years serving the Emperor as a feared enforcer, there were moments when the remnants of Anakin's past resurfaced. \"\n",
    "                      \"Ultimately, it was his son, Luke Skywalker, who reignited the good within him, leading to his redemption in his final moments when he defeated Palpatine.\"),\n",
    "    HumanMessage(content=\"Tell me about the Battle of Endor and tell me what my name is.\")\n",
    "]\n",
    "\n",
    "# Run the workflow\n",
    "output = app.invoke({\"messages\": star_wars_story}, config)\n",
    "\n",
    "# Display the result\n",
    "output[\"messages\"][-1].pretty_print()"
   ]
  },
  {
   "cell_type": "markdown",
   "metadata": {},
   "source": [
    "<Note type=\"important\">\n",
    "\n",
    "Careful, your checkpointers will keep previous messages in memory an make it look like the trimmer didn't work. But it does. \n",
    "\n",
    "In the above code the first message provides the name of the user (Obi-Wan) but as you can see, the model doesn't know the name because we trimmed messages and kept only the last one.\n",
    "\n",
    "If you happen to have too many messages in memory and feel that it gets in the way of understanding how trimmer works,  simply change the `thread_id`, this will clear the memory and let you start fresh 😉\n",
    "\n",
    "</Note>"
   ]
  },
  {
   "cell_type": "markdown",
   "metadata": {},
   "source": [
    "### Store messages in PostgreSQL \n",
    "\n",
    "Now instead of storing messages in memory, let's have them in a PostgreSQL database:"
   ]
  },
  {
   "cell_type": "code",
   "execution_count": 37,
   "metadata": {},
   "outputs": [],
   "source": [
    "# First we need to install a specific tool \n",
    "#%pip install -U psycopg psycopg-pool psycopg-binary langgraph-checkpoint-postgres psycopg2-binary -q"
   ]
  },
  {
   "cell_type": "markdown",
   "metadata": {},
   "source": [
    "<Note type=\"tip\" title=\"How do I get a PostgreSQL DB?\">\n",
    "\n",
    "If you want to follow along, you will need to have a PostgreSQL database. You can create a free DB using [Neon](https://neon.tech).\n",
    "\n",
    "If you already have a Neon DB created, you can create a new database like this:\n",
    "\n",
    "![](https://full-stack-assets.s3.eu-west-3.amazonaws.com/create_new_neon_db.png)\n",
    "\n",
    "</Note>"
   ]
  },
  {
   "cell_type": "code",
   "execution_count": null,
   "metadata": {},
   "outputs": [],
   "source": [
    "# Replace with your NEON DB url \n",
    "DB_URI =\n",
    "\n",
    "# This is a basic setup to commit all new changes automatically \n",
    "# This means that the database will \"save\" all new edits directly \n",
    "# Otherwise you would have needed to do it manually \n",
    "connection_kwargs = {\n",
    "    \"autocommit\": True,\n",
    "    \"prepare_threshold\": 0,\n",
    "}"
   ]
  },
  {
   "cell_type": "code",
   "execution_count": 39,
   "metadata": {},
   "outputs": [
    {
     "name": "stdout",
     "output_type": "stream",
     "text": [
      "Messages passed to the model after trimming:\n",
      "HumanMessage: Tell me about the Battle of Endor and tell me what my name is.\n",
      "####################################################\n",
      "\n",
      "\n",
      "{'v': 3, 'id': '1f031753-8c26-6c96-8004-777b365e1957', 'ts': '2025-05-15T10:13:18.168571+00:00', 'pending_sends': [], 'versions_seen': {'model': {'branch:to:model': '00000000000000000000000000000005.0.64714265146178'}, '__input__': {}, '__start__': {'__start__': '00000000000000000000000000000004.0.6000847843621074'}}, 'channel_versions': {'messages': '00000000000000000000000000000006.0.5368326145096344', '__start__': '00000000000000000000000000000005.0.7208484014899298', 'branch:to:model': '00000000000000000000000000000006.0.862337679841833'}, 'channel_values': {'messages': [HumanMessage(content='C-3PO, my name is Obi-Wan, can you tell me about the history of the Jedi?', additional_kwargs={}, response_metadata={}, id='cfa2604c-2404-4629-8801-764d202ac15d'), AIMessage(content='The Jedi Order was founded many millennia ago to serve as peacekeepers and guardians of the galaxy. They were highly attuned to the Force, trained in both combat and diplomacy. Over time, they became the protectors of the Republic, until the rise of the Empire, when most of them were tragically wiped out during Order 66.', additional_kwargs={}, response_metadata={}, id='e6d4fa99-2a65-45e4-a1dd-7d1b82a81dc4'), HumanMessage(content='What was Order 66?', additional_kwargs={}, response_metadata={}, id='2b1cc2b7-43e2-4cce-980f-b53fb16f28c8'), AIMessage(content=\"Order 66 was a secret protocol in the Galactic Republic's Clone Army, initiated by Emperor Palpatine. It labeled the Jedi as traitors to the Republic, triggering the clones to turn on and kill their Jedi commanders.\", additional_kwargs={}, response_metadata={}, id='a546483b-ef78-4aa5-a1e5-9c0d431e9a7a'), HumanMessage(content='Why did Palpatine want to destroy the Jedi?', additional_kwargs={}, response_metadata={}, id='4328e21f-aeb2-4173-b710-a8b2d056be6b'), AIMessage(content='Palpatine, also known as Darth Sidious, saw the Jedi as the only significant threat to his plans for galactic domination. By eliminating the Jedi, he ensured no one could stand in his way as he transformed the Republic into the Galactic Empire.', additional_kwargs={}, response_metadata={}, id='c378e861-682e-4142-b54e-5b4acd5f3b79'), HumanMessage(content='What happened to the survivors of Order 66?', additional_kwargs={}, response_metadata={}, id='eb328253-86b8-4568-8c18-0d7ccd6961b1'), AIMessage(content=\"A few Jedi survived, going into hiding across the galaxy. Master Yoda went into exile on Dagobah, while Obi-Wan Kenobi watched over you on Tatooine. Many others were hunted down by the Empire's Inquisitors.\", additional_kwargs={}, response_metadata={}, id='e800ddb8-1dd4-4e68-ab4b-4cb78899698f'), HumanMessage(content='Tell me more about Yoda.', additional_kwargs={}, response_metadata={}, id='13ed5069-c073-4e8a-87b9-b791717d2253'), AIMessage(content='Master Yoda was one of the most powerful and wise Jedi Masters in history. He served on the Jedi Council for centuries and trained generations of Jedi. Though small in stature, Yoda was a formidable warrior and an unparalleled master of the Force.', additional_kwargs={}, response_metadata={}, id='cc0c5adc-81fc-4c2b-ac6e-3be20da6c7d0'), HumanMessage(content='What about the Sith? Who were they?', additional_kwargs={}, response_metadata={}, id='78621620-f649-44a1-a5af-ef587af10d14'), AIMessage(content='The Sith were the ancient enemies of the Jedi, practitioners of the dark side of the Force. Their philosophy was rooted in power, domination, and the belief that strength came through conflict. Over the centuries, the Sith were thought to be extinct, but they survived in secrecy, culminating in the rise of Darth Sidious.', additional_kwargs={}, response_metadata={}, id='8e93aefa-2352-4cf8-9e38-71746f45ae0b'), HumanMessage(content='Why did the Sith want to rule the galaxy?', additional_kwargs={}, response_metadata={}, id='bef690e0-39ec-497d-968c-d89b8ebf1513'), AIMessage(content='The Sith believed in the rule of power and domination, driven by their desire to impose order and control over the galaxy. They saw the Force not as a tool for peace, but as a weapon for their own ambitions. Under their rule, they believed the galaxy would be unified under their absolute authority.', additional_kwargs={}, response_metadata={}, id='fd02f023-0a52-4b74-a5b0-731685c93e06'), HumanMessage(content='What is the Force exactly?', additional_kwargs={}, response_metadata={}, id='54a68ead-ae9a-4d3d-b4cd-6aa986caf9d6'), AIMessage(content='The Force is an energy field created by all living things. It surrounds us, penetrates us, and binds the galaxy together. Jedi and Sith alike could feel the Force, but while the Jedi sought to harness it for peace and balance, the Sith twisted it for power and control.', additional_kwargs={}, response_metadata={}, id='e7363b48-7931-4976-8723-9322ceafa16a'), HumanMessage(content='How did Anakin Skywalker become Darth Vader?', additional_kwargs={}, response_metadata={}, id='f4dbceaa-5a15-4a4a-83cd-c88114703d96'), AIMessage(content='Anakin Skywalker was seduced by the dark side of the Force, manipulated by Palpatine, who promised him the power to save those he loved. Fearing the loss of his wife, Padmé, Anakin embraced the dark side, becoming Darth Vader and aiding Palpatine in the destruction of the Jedi Order.', additional_kwargs={}, response_metadata={}, id='a532ce05-136a-48c7-8a69-a37e60897fb7'), HumanMessage(content=\"Tell me more about Darth Vader's fall.\", additional_kwargs={}, response_metadata={}, id='09ba2ddc-3039-4938-8655-2c24b4d17bf8'), AIMessage(content=\"Darth Vader's fall began with his fear of losing those he cared about. Palpatine exploited these fears, slowly turning him against the Jedi. In his final act of betrayal, Anakin attacked the Jedi Temple, slaughtering younglings and fellow Jedi. From that moment, he was no longer Anakin Skywalker, but Darth Vader, the Sith Lord.\", additional_kwargs={}, response_metadata={}, id='1d4d45d4-97e9-4837-bbac-bf320c993644'), HumanMessage(content='Did Darth Vader ever regret his actions?', additional_kwargs={}, response_metadata={}, id='8d2bb9c9-647c-46b5-8825-be4e6199bb11'), AIMessage(content=\"Though he spent many years serving the Emperor as a feared enforcer, there were moments when the remnants of Anakin's past resurfaced. Ultimately, it was his son, Luke Skywalker, who reignited the good within him, leading to his redemption in his final moments when he defeated Palpatine.\", additional_kwargs={}, response_metadata={}, id='931688e4-1d40-48e4-8f40-63a30ecf19b3'), HumanMessage(content='Tell me about the Battle of Endor and tell me what my name is.', additional_kwargs={}, response_metadata={}, id='01411651-0062-41bc-b7e1-5dac7dfd9014'), AIMessage(content=\"Greetings, my programming dictates that I should address you with respect and courtesy. As for your name, I'm afraid I don't have the ability to learn or remember the names of the beings I encounter. However, I'm more than happy to share information about the Battle of Endor!\\n\\nThe Battle of Endor was a significant engagement in the Galactic Civil War between the Rebel Alliance and the Galactic Empire. It took place on the forest moon of Endor in the year 4 ABY (After the Battle of Yavin). The primary objective of the Rebels was to destroy the second Death Star, a massive space station with an unprecedented destructive power.\\n\\nThe battle consisted of several components: an assault by Rebel ground forces against the Imperial base on Endor, a space battle above the moon between Rebel and Imperial starfighters, and the deployment of the Rebel fleet's main weapons, the cruisers and Mon Calamari Star Cruisers, to create a distraction for the Millennium Falcon, piloted by Han Solo and Chewbacca.\\n\\nTheir mission was to penetrate the forest moon's shield generator, which protected the Death Star from above. With the help of the Ewoks, a native forest-dwelling species on Endor, the ground forces successfully destroyed the shield generator. This allowed the Rebel fleet to bombard the Death Star, ultimately leading to its destruction.\\n\\nThe Battle of Endor marked a turning point in the Galactic Civil War, as it resulted in the destruction of the second Death Star and the eventual defeat of the Empire, leading to the establishment of the New Republic. This event is crucial to the overall narrative of the Star Wars saga, and it plays a significant role in the lives of many of the characters within the universe.\\n\\nI hope this information was helpful! If you have any other questions or need assistance with anything else, please don't hesitate to ask!\", additional_kwargs={}, response_metadata={'token_usage': {'prompt_tokens': 42, 'total_tokens': 466, 'completion_tokens': 424}, 'model_name': 'open-mistral-7b', 'model': 'open-mistral-7b', 'finish_reason': 'stop'}, id='run--d35e5747-0312-4393-9df6-33e47c1f0999-0', usage_metadata={'input_tokens': 42, 'output_tokens': 424, 'total_tokens': 466}), HumanMessage(content='C-3PO, my name is Obi-Wan, can you tell me about the history of the Jedi?', additional_kwargs={}, response_metadata={}, id='42100845-0c3a-465e-b14b-74de800c846e'), AIMessage(content='The Jedi Order was founded many millennia ago to serve as peacekeepers and guardians of the galaxy. They were highly attuned to the Force, trained in both combat and diplomacy. Over time, they became the protectors of the Republic, until the rise of the Empire, when most of them were tragically wiped out during Order 66.', additional_kwargs={}, response_metadata={}, id='1385d93d-9f00-419d-bfc1-5ee87b9c24e3'), HumanMessage(content='What was Order 66?', additional_kwargs={}, response_metadata={}, id='ebbb4e1f-8cdf-4e65-ab95-99cf425ee55a'), AIMessage(content=\"Order 66 was a secret protocol in the Galactic Republic's Clone Army, initiated by Emperor Palpatine. It labeled the Jedi as traitors to the Republic, triggering the clones to turn on and kill their Jedi commanders.\", additional_kwargs={}, response_metadata={}, id='c5364dc5-90c0-4b4f-a9da-66b908b9299a'), HumanMessage(content='Why did Palpatine want to destroy the Jedi?', additional_kwargs={}, response_metadata={}, id='328c98a6-a684-4513-81fd-b869e056771c'), AIMessage(content='Palpatine, also known as Darth Sidious, saw the Jedi as the only significant threat to his plans for galactic domination. By eliminating the Jedi, he ensured no one could stand in his way as he transformed the Republic into the Galactic Empire.', additional_kwargs={}, response_metadata={}, id='512baf55-04d8-41cd-8d24-9a7457befab4'), HumanMessage(content='What happened to the survivors of Order 66?', additional_kwargs={}, response_metadata={}, id='786c69f8-f203-4c96-a88b-ec506501625f'), AIMessage(content=\"A few Jedi survived, going into hiding across the galaxy. Master Yoda went into exile on Dagobah, while Obi-Wan Kenobi watched over you on Tatooine. Many others were hunted down by the Empire's Inquisitors.\", additional_kwargs={}, response_metadata={}, id='b77d83e9-6590-4fdc-b28a-8f5fa9171435'), HumanMessage(content='Tell me more about Yoda.', additional_kwargs={}, response_metadata={}, id='781cc1bd-a408-4931-bac1-41a140910fbc'), AIMessage(content='Master Yoda was one of the most powerful and wise Jedi Masters in history. He served on the Jedi Council for centuries and trained generations of Jedi. Though small in stature, Yoda was a formidable warrior and an unparalleled master of the Force.', additional_kwargs={}, response_metadata={}, id='0d6defe7-a321-4f77-b685-c61c9d5723ce'), HumanMessage(content='What about the Sith? Who were they?', additional_kwargs={}, response_metadata={}, id='2d91864a-02ed-4b79-a24b-ea1fb15ee8d8'), AIMessage(content='The Sith were the ancient enemies of the Jedi, practitioners of the dark side of the Force. Their philosophy was rooted in power, domination, and the belief that strength came through conflict. Over the centuries, the Sith were thought to be extinct, but they survived in secrecy, culminating in the rise of Darth Sidious.', additional_kwargs={}, response_metadata={}, id='e8cd7a30-566c-4836-ba71-9bb2c0303b21'), HumanMessage(content='Why did the Sith want to rule the galaxy?', additional_kwargs={}, response_metadata={}, id='0b18b962-c33a-433d-9b18-490e8487876f'), AIMessage(content='The Sith believed in the rule of power and domination, driven by their desire to impose order and control over the galaxy. They saw the Force not as a tool for peace, but as a weapon for their own ambitions. Under their rule, they believed the galaxy would be unified under their absolute authority.', additional_kwargs={}, response_metadata={}, id='8f079f99-370f-48b3-ab1b-4ddc99ed73d1'), HumanMessage(content='What is the Force exactly?', additional_kwargs={}, response_metadata={}, id='9f132089-33c7-446e-bf38-15f13afc0b21'), AIMessage(content='The Force is an energy field created by all living things. It surrounds us, penetrates us, and binds the galaxy together. Jedi and Sith alike could feel the Force, but while the Jedi sought to harness it for peace and balance, the Sith twisted it for power and control.', additional_kwargs={}, response_metadata={}, id='a7bc3aa7-91ae-4c6e-b846-d86001635adf'), HumanMessage(content='How did Anakin Skywalker become Darth Vader?', additional_kwargs={}, response_metadata={}, id='0cfb38bb-f993-4385-bf51-582446cf658f'), AIMessage(content='Anakin Skywalker was seduced by the dark side of the Force, manipulated by Palpatine, who promised him the power to save those he loved. Fearing the loss of his wife, Padmé, Anakin embraced the dark side, becoming Darth Vader and aiding Palpatine in the destruction of the Jedi Order.', additional_kwargs={}, response_metadata={}, id='1a4d7c7f-08a3-41d2-80dc-ee90ecab7b27'), HumanMessage(content=\"Tell me more about Darth Vader's fall.\", additional_kwargs={}, response_metadata={}, id='7c9fecf3-8dfb-4bd9-9c39-b7bd74effed2'), AIMessage(content=\"Darth Vader's fall began with his fear of losing those he cared about. Palpatine exploited these fears, slowly turning him against the Jedi. In his final act of betrayal, Anakin attacked the Jedi Temple, slaughtering younglings and fellow Jedi. From that moment, he was no longer Anakin Skywalker, but Darth Vader, the Sith Lord.\", additional_kwargs={}, response_metadata={}, id='c6c00c96-c687-4064-b2b9-d3d12bcbeaf5'), HumanMessage(content='Did Darth Vader ever regret his actions?', additional_kwargs={}, response_metadata={}, id='4155ba16-e097-4454-a72d-86e1545822bc'), AIMessage(content=\"Though he spent many years serving the Emperor as a feared enforcer, there were moments when the remnants of Anakin's past resurfaced. Ultimately, it was his son, Luke Skywalker, who reignited the good within him, leading to his redemption in his final moments when he defeated Palpatine.\", additional_kwargs={}, response_metadata={}, id='4621807a-fe08-46d2-ae2e-4a6612c57dfb'), HumanMessage(content='Tell me about the Battle of Endor and tell me what my name is.', additional_kwargs={}, response_metadata={}, id='3786f998-5de5-4517-872f-57f21b9ce69a'), AIMessage(content=\"As a protocol droid model C-3PO, my primary function is to communicate and assist sentient beings. However, I am not equipped with the capability to personally know individual beings or to remember past battles. I will gladly provide you with information about the Battle of Endor, as it is a significant event in the history of the Star Wars galaxy.\\n\\nThe Battle of Endor took place in the year 4 ABY (After the Battle of Yavin) and was a decisive battle in the Galactic Civil War between the Rebel Alliance and the Galactic Empire. The Rebel Alliance, led by Prince Leia Organa, aimed to destroy the second Death Star, a moon-sized space station with a superlaser capable of destroying entire planets.\\n\\nThe battle consisted of several phases. The first phase was a ground assault on the forest moon of Endor, where Rebel troops fought Imperial stormtroopers and creatures native to Endor, such as Ewoks. The objective of the ground forces was to disable the shield generator protecting the Death Star's vulnerable exhaust port.\\n\\nMeanwhile, in space, the Rebel fleet engaged the Imperial Navy and the Death Star itself. The Rebel fleet's X-wing and Y-wing fighters launched a final attack on the Death Star, using proton torpedoes to destroy the exhaust port's thermal exhaust port, which led to the Death Star's ultimate destruction.\\n\\nNow, as for your name, I am unable to know individual beings or remember their names without prior introduction or interaction. Please provide me with your name, and I will be happy to address you by the name you choose.\", additional_kwargs={}, response_metadata={'token_usage': {'prompt_tokens': 42, 'total_tokens': 393, 'completion_tokens': 351}, 'model_name': 'open-mistral-7b', 'model': 'open-mistral-7b', 'finish_reason': 'stop'}, id='run--f276d8ec-2a3d-48f1-90d4-77559337827d-0', usage_metadata={'input_tokens': 42, 'output_tokens': 351, 'total_tokens': 393})]}}\n"
     ]
    }
   ],
   "source": [
    "from langgraph.checkpoint.postgres import PostgresSaver\n",
    "\n",
    "from psycopg_pool import ConnectionPool\n",
    "\n",
    "with ConnectionPool(\n",
    "    conninfo=DB_URI, # Specify your DB connection   \n",
    "    kwargs=connection_kwargs, # Add kwargs\n",
    ") as pool:\n",
    "    checkpointer = PostgresSaver(pool)\n",
    "\n",
    "    # NOTE: you need to call .setup() the first time you're using your checkpointer\n",
    "    checkpointer.setup()\n",
    "\n",
    "    # Create a new thread\n",
    "    config = {\"configurable\": {\"thread_id\": \"db-stored-messages\"}}\n",
    "\n",
    "    # Here we instanciate a new \"app\"\n",
    "    # This will create the same graph as the previous \"app\"s but with a new checkpointer \n",
    "    # that has been instanciated with PostgreSQL\n",
    "    app = workflow.compile(checkpointer=checkpointer)\n",
    "\n",
    "    # Same as before\n",
    "    output = app.invoke({\"messages\": star_wars_story}, config)\n",
    "    \n",
    "    # Check now the new checkpoint to verify that we created some data within our DB \n",
    "    checkpoint = checkpointer.get(config)\n",
    "    print(checkpoint)"
   ]
  },
  {
   "cell_type": "markdown",
   "metadata": {},
   "source": [
    "Now you can go to your NeonDB and see for yourself that new tables have been created 😉 Or you can run the code below:"
   ]
  },
  {
   "cell_type": "code",
   "execution_count": 40,
   "metadata": {},
   "outputs": [
    {
     "data": {
      "text/html": [
       "<div>\n",
       "<style scoped>\n",
       "    .dataframe tbody tr th:only-of-type {\n",
       "        vertical-align: middle;\n",
       "    }\n",
       "\n",
       "    .dataframe tbody tr th {\n",
       "        vertical-align: top;\n",
       "    }\n",
       "\n",
       "    .dataframe thead th {\n",
       "        text-align: right;\n",
       "    }\n",
       "</style>\n",
       "<table border=\"1\" class=\"dataframe\">\n",
       "  <thead>\n",
       "    <tr style=\"text-align: right;\">\n",
       "      <th></th>\n",
       "      <th>thread_id</th>\n",
       "      <th>checkpoint_ns</th>\n",
       "      <th>checkpoint_id</th>\n",
       "      <th>parent_checkpoint_id</th>\n",
       "      <th>type</th>\n",
       "      <th>checkpoint</th>\n",
       "      <th>metadata</th>\n",
       "    </tr>\n",
       "  </thead>\n",
       "  <tbody>\n",
       "    <tr>\n",
       "      <th>0</th>\n",
       "      <td>db-stored-messages</td>\n",
       "      <td></td>\n",
       "      <td>1f031742-1157-606c-bfff-83de08064364</td>\n",
       "      <td>None</td>\n",
       "      <td>None</td>\n",
       "      <td>{'v': 3, 'id': '1f031742-1157-606c-bfff-83de08...</td>\n",
       "      <td>{'step': -1, 'source': 'input', 'writes': {'__...</td>\n",
       "    </tr>\n",
       "    <tr>\n",
       "      <th>1</th>\n",
       "      <td>db-stored-messages</td>\n",
       "      <td></td>\n",
       "      <td>1f031742-115b-69c8-8000-d6b3c4e9ff18</td>\n",
       "      <td>1f031742-1157-606c-bfff-83de08064364</td>\n",
       "      <td>None</td>\n",
       "      <td>{'v': 3, 'id': '1f031742-115b-69c8-8000-d6b3c4...</td>\n",
       "      <td>{'step': 0, 'source': 'loop', 'writes': None, ...</td>\n",
       "    </tr>\n",
       "    <tr>\n",
       "      <th>2</th>\n",
       "      <td>db-stored-messages</td>\n",
       "      <td></td>\n",
       "      <td>1f031742-3aab-631e-8001-f3b6b18d7d7e</td>\n",
       "      <td>1f031742-115b-69c8-8000-d6b3c4e9ff18</td>\n",
       "      <td>None</td>\n",
       "      <td>{'v': 3, 'id': '1f031742-3aab-631e-8001-f3b6b1...</td>\n",
       "      <td>{'step': 1, 'source': 'loop', 'writes': {'mode...</td>\n",
       "    </tr>\n",
       "    <tr>\n",
       "      <th>3</th>\n",
       "      <td>db-stored-messages</td>\n",
       "      <td></td>\n",
       "      <td>1f031753-718b-6ac6-8002-bbe729def34c</td>\n",
       "      <td>1f031742-3aab-631e-8001-f3b6b18d7d7e</td>\n",
       "      <td>None</td>\n",
       "      <td>{'v': 3, 'id': '1f031753-718b-6ac6-8002-bbe729...</td>\n",
       "      <td>{'step': 2, 'source': 'input', 'writes': {'__s...</td>\n",
       "    </tr>\n",
       "    <tr>\n",
       "      <th>4</th>\n",
       "      <td>db-stored-messages</td>\n",
       "      <td></td>\n",
       "      <td>1f031753-7190-6af8-8003-d0686b1499fc</td>\n",
       "      <td>1f031753-718b-6ac6-8002-bbe729def34c</td>\n",
       "      <td>None</td>\n",
       "      <td>{'v': 3, 'id': '1f031753-7190-6af8-8003-d0686b...</td>\n",
       "      <td>{'step': 3, 'source': 'loop', 'writes': None, ...</td>\n",
       "    </tr>\n",
       "    <tr>\n",
       "      <th>5</th>\n",
       "      <td>db-stored-messages</td>\n",
       "      <td></td>\n",
       "      <td>1f031753-8c26-6c96-8004-777b365e1957</td>\n",
       "      <td>1f031753-7190-6af8-8003-d0686b1499fc</td>\n",
       "      <td>None</td>\n",
       "      <td>{'v': 3, 'id': '1f031753-8c26-6c96-8004-777b36...</td>\n",
       "      <td>{'step': 4, 'source': 'loop', 'writes': {'mode...</td>\n",
       "    </tr>\n",
       "  </tbody>\n",
       "</table>\n",
       "</div>"
      ],
      "text/plain": [
       "            thread_id checkpoint_ns                         checkpoint_id  \\\n",
       "0  db-stored-messages                1f031742-1157-606c-bfff-83de08064364   \n",
       "1  db-stored-messages                1f031742-115b-69c8-8000-d6b3c4e9ff18   \n",
       "2  db-stored-messages                1f031742-3aab-631e-8001-f3b6b18d7d7e   \n",
       "3  db-stored-messages                1f031753-718b-6ac6-8002-bbe729def34c   \n",
       "4  db-stored-messages                1f031753-7190-6af8-8003-d0686b1499fc   \n",
       "5  db-stored-messages                1f031753-8c26-6c96-8004-777b365e1957   \n",
       "\n",
       "                   parent_checkpoint_id  type  \\\n",
       "0                                  None  None   \n",
       "1  1f031742-1157-606c-bfff-83de08064364  None   \n",
       "2  1f031742-115b-69c8-8000-d6b3c4e9ff18  None   \n",
       "3  1f031742-3aab-631e-8001-f3b6b18d7d7e  None   \n",
       "4  1f031753-718b-6ac6-8002-bbe729def34c  None   \n",
       "5  1f031753-7190-6af8-8003-d0686b1499fc  None   \n",
       "\n",
       "                                          checkpoint  \\\n",
       "0  {'v': 3, 'id': '1f031742-1157-606c-bfff-83de08...   \n",
       "1  {'v': 3, 'id': '1f031742-115b-69c8-8000-d6b3c4...   \n",
       "2  {'v': 3, 'id': '1f031742-3aab-631e-8001-f3b6b1...   \n",
       "3  {'v': 3, 'id': '1f031753-718b-6ac6-8002-bbe729...   \n",
       "4  {'v': 3, 'id': '1f031753-7190-6af8-8003-d0686b...   \n",
       "5  {'v': 3, 'id': '1f031753-8c26-6c96-8004-777b36...   \n",
       "\n",
       "                                            metadata  \n",
       "0  {'step': -1, 'source': 'input', 'writes': {'__...  \n",
       "1  {'step': 0, 'source': 'loop', 'writes': None, ...  \n",
       "2  {'step': 1, 'source': 'loop', 'writes': {'mode...  \n",
       "3  {'step': 2, 'source': 'input', 'writes': {'__s...  \n",
       "4  {'step': 3, 'source': 'loop', 'writes': None, ...  \n",
       "5  {'step': 4, 'source': 'loop', 'writes': {'mode...  "
      ]
     },
     "execution_count": 40,
     "metadata": {},
     "output_type": "execute_result"
    }
   ],
   "source": [
    "from sqlalchemy import create_engine\n",
    "import pandas as pd \n",
    "\n",
    "connection = create_engine(DB_URI)\n",
    "pd.read_sql(\"SELECT * FROM checkpoints\", connection)"
   ]
  },
  {
   "cell_type": "markdown",
   "metadata": {},
   "source": [
    "\n",
    "\n",
    "## Short-term VS Long-term Memory\n",
    "\n",
    "Now the memory we showed you is considered by Langgraph as [short-term memory](https://langchain-ai.github.io/langgraph/concepts/memory/). This means that the messages don't live outside the `thread`. Therefore, outside the one given conversation, the LLM application doesn't have access to the history. \n",
    "\n",
    "To handle memory accross several threads, LangGraph built another abstraction layer called [Memory Store](https://langchain-ai.github.io/langgraph/concepts/persistence/#as_node). While this is a very interesting topic, it is a bit too advanced for now. However feel free to check out if your application needs this feature. "
   ]
  },
  {
   "cell_type": "markdown",
   "metadata": {},
   "source": [
    "## Resources 📚📚\n",
    "\n",
    "* [LangGraph Glossary](https://langchain-ai.github.io/langgraph/concepts/low_level/#step-by-step-breakdown)\n",
    "* [Persistence](https://langchain-ai.github.io/langgraph/concepts/persistence/#get-state-history)\n",
    "* [Memory](https://langchain-ai.github.io/langgraph/concepts/memory/)\n",
    "* [GPT 4o model](https://platform.openai.com/docs/models/gpt-4o)\n",
    "* [Persistence Postgres](https://github.com/langchain-ai/langgraph/blob/main/docs/docs/how-tos/persistence_postgres.ipynb)"
   ]
  }
 ],
 "metadata": {
  "kernelspec": {
   "display_name": "llm_env",
   "language": "python",
   "name": "python3"
  },
  "language_info": {
   "codemirror_mode": {
    "name": "ipython",
    "version": 3
   },
   "file_extension": ".py",
   "mimetype": "text/x-python",
   "name": "python",
   "nbconvert_exporter": "python",
   "pygments_lexer": "ipython3",
   "version": "3.12.9"
  }
 },
 "nbformat": 4,
 "nbformat_minor": 2
}
