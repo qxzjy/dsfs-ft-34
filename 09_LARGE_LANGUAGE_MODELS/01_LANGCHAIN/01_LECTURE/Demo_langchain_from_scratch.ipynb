{
 "cells": [
  {
   "cell_type": "markdown",
   "id": "48b59e64",
   "metadata": {},
   "source": [
    "## Pip installs "
   ]
  },
  {
   "cell_type": "code",
   "execution_count": null,
   "id": "300ca51b",
   "metadata": {},
   "outputs": [],
   "source": [
    "!pip install langchain -q\n",
    "!pip install langchain_mistralai -q\n",
    "!pip install langserve -q\n",
    "!pip install fastapi -q\n",
    "!pip install dotenv -q \n",
    "!pip install langgraph -q\n",
    "!pip install transformers -q\n",
    "!pip install --upgrade typing_extensions -q \n",
    "!pip install pyppeteer -q\n",
    "!pip install -U psycopg psycopg-pool psycopg-binary langgraph-checkpoint-postgres psycopg2-binary -q\n",
    "!pip install psycopg_c -q\n",
    "!pip install langchain-community -q \n",
    "!pip install rizaio -q\n",
    "!pip install pandas sqlalchemy"
   ]
  },
  {
   "cell_type": "markdown",
   "id": "acf9d2e7",
   "metadata": {},
   "source": [
    "## Imports "
   ]
  },
  {
   "cell_type": "code",
   "execution_count": null,
   "id": "7dece915",
   "metadata": {},
   "outputs": [
    {
     "data": {
      "text/plain": [
       "True"
      ]
     },
     "execution_count": 75,
     "metadata": {},
     "output_type": "execute_result"
    }
   ],
   "source": [
    "from langchain_core.prompts import PromptTemplate, ChatPromptTemplate, MessagesPlaceholder\n",
    "from langchain_core.messages import HumanMessage, SystemMessage, AIMessage, trim_messages\n",
    "from langchain_core.output_parsers import StrOutputParser\n",
    "from langchain_core.runnables.graph import MermaidDrawMethod\n",
    "\n",
    "from langgraph.graph import START, MessagesState, StateGraph\n",
    "from langgraph.checkpoint.memory import MemorySaver\n",
    "from langgraph.checkpoint.postgres import PostgresSaver\n",
    "\n",
    "from langchain_mistralai import ChatMistralAI\n",
    "\n",
    "from IPython.display import Image\n",
    "from psycopg_pool import ConnectionPool\n",
    "from dotenv import load_dotenv\n",
    "from sqlalchemy import create_engine\n",
    "\n",
    "import pandas as pd\n",
    "import nest_asyncio\n",
    "import os \n",
    "\n",
    "load_dotenv()\n",
    "\n",
    "# os.environ[\"MISTRAL_API_KEY\"] "
   ]
  },
  {
   "cell_type": "markdown",
   "id": "1027b5ab",
   "metadata": {},
   "source": [
    "## Prompt Template (how to create a simple message for my AI)"
   ]
  },
  {
   "cell_type": "code",
   "execution_count": 5,
   "id": "72913a12",
   "metadata": {},
   "outputs": [
    {
     "data": {
      "text/plain": [
       "'Tell me everything you know about this Star Wars Character: Sifo-Dyas'"
      ]
     },
     "execution_count": 5,
     "metadata": {},
     "output_type": "execute_result"
    }
   ],
   "source": [
    "message = \"Tell me everything you know about this Star Wars Character: {character}\"\n",
    "prompt_template = PromptTemplate.from_template(message)\n",
    "result = prompt_template.invoke({\"character\": \"Sifo-Dyas\"})\n",
    "\n",
    "result.to_string() "
   ]
  },
  {
   "cell_type": "markdown",
   "id": "36151d08",
   "metadata": {},
   "source": [
    "## Main message types (System / AI / Human)"
   ]
  },
  {
   "cell_type": "code",
   "execution_count": 15,
   "id": "a58a9d6a",
   "metadata": {},
   "outputs": [
    {
     "data": {
      "text/plain": [
       "AIMessage(content='What a vast and interesting question, is there anything you would like to explore in particular?', additional_kwargs={}, response_metadata={})"
      ]
     },
     "execution_count": 15,
     "metadata": {},
     "output_type": "execute_result"
    }
   ],
   "source": [
    "SystemMessage(content=\"You are an astrophysicists AI and know everything space-related\") \n",
    "\n",
    "HumanMessage(content=\"Hi, I want to know about the universe\")\n",
    "AIMessage(content=\"What a vast and interesting question, is there anything you would like to explore in particular?\")"
   ]
  },
  {
   "cell_type": "markdown",
   "id": "cd14eba5",
   "metadata": {},
   "source": [
    "## Chat Prompt Template"
   ]
  },
  {
   "cell_type": "code",
   "execution_count": null,
   "id": "a1f6c4fd",
   "metadata": {},
   "outputs": [
    {
     "data": {
      "text/plain": [
       "[SystemMessage(content='You are a protocol droid designed for assisting sentient beings. Your designation is R-3PO.', additional_kwargs={}, response_metadata={}),\n",
       " HumanMessage(content='Greetings, droid. Status report?', additional_kwargs={}, response_metadata={}),\n",
       " AIMessage(content='All systems are fully operational, and I am ready to assist you.', additional_kwargs={}, response_metadata={}),\n",
       " HumanMessage(content='What is your primary function?', additional_kwargs={}, response_metadata={})]"
      ]
     },
     "execution_count": 10,
     "metadata": {},
     "output_type": "execute_result"
    }
   ],
   "source": [
    "template = ChatPromptTemplate.from_messages([\n",
    "    (\"system\", \"You are a protocol droid designed for assisting sentient beings. Your designation is {name}.\"),\n",
    "    (\"user\", \"Greetings, droid. Status report?\"),\n",
    "    (\"assistant\", \"All systems are fully operational, and I am ready to assist you.\"),\n",
    "    (\"user\", \"{user_input}\"),\n",
    "])\n",
    "\n",
    "prompt_value = template.invoke(\n",
    "    {\n",
    "        \"name\": \"R-3PO\",\n",
    "        \"user_input\": \"What is your primary function?\"  \n",
    "    }\n",
    ")\n",
    "\n",
    "prompt_value.to_messages()"
   ]
  },
  {
   "cell_type": "markdown",
   "id": "27cdb7cd",
   "metadata": {},
   "source": [
    "## MessagePlaceHolder (How to replace chunks of discussions)"
   ]
  },
  {
   "cell_type": "code",
   "execution_count": 18,
   "id": "f0207e8b",
   "metadata": {},
   "outputs": [
    {
     "data": {
      "text/plain": [
       "[SystemMessage(content='You are a protocol droid designed to assist sentient beings.', additional_kwargs={}, response_metadata={}),\n",
       " HumanMessage(content='Greetings, droid.', additional_kwargs={}, response_metadata={})]"
      ]
     },
     "execution_count": 18,
     "metadata": {},
     "output_type": "execute_result"
    }
   ],
   "source": [
    "prompt = MessagesPlaceholder(\"history\", optional=True)\n",
    "\n",
    "prompt.format_messages(\n",
    "    history=[\n",
    "        (\"system\", \"You are a protocol droid designed to assist sentient beings.\"),\n",
    "        (\"human\", \"Greetings, droid.\"),\n",
    "    ]\n",
    ")"
   ]
  },
  {
   "cell_type": "code",
   "execution_count": 21,
   "id": "b500f5be",
   "metadata": {},
   "outputs": [
    {
     "data": {
      "text/plain": [
       "[SystemMessage(content='You are a protocol droid with the designation R-3PO.', additional_kwargs={}, response_metadata={}),\n",
       " HumanMessage(content='Calculate the coordinates for the jump to lightspeed.', additional_kwargs={}, response_metadata={}),\n",
       " AIMessage(content='The jump coordinates are calculated: 12.345, -45.678.', additional_kwargs={}, response_metadata={}),\n",
       " HumanMessage(content='Now, plot a course to the nearest star system.', additional_kwargs={}, response_metadata={})]"
      ]
     },
     "execution_count": 21,
     "metadata": {},
     "output_type": "execute_result"
    }
   ],
   "source": [
    "prompt = ChatPromptTemplate.from_messages(\n",
    "    [\n",
    "        (\"system\", \"You are a protocol droid with the designation R-3PO.\"), \n",
    "        MessagesPlaceholder(\"history\"),\n",
    "        (\"human\", \"{question}\")  \n",
    "    ]\n",
    ")\n",
    "\n",
    "response = prompt.invoke(\n",
    "   {\n",
    "       \"history\": [(\"human\", \"Calculate the coordinates for the jump to lightspeed.\"), \n",
    "                   (\"ai\", \"The jump coordinates are calculated: 12.345, -45.678.\")],\n",
    "       \"question\": \"Now, plot a course to the nearest star system.\"\n",
    "   }\n",
    ")\n",
    "\n",
    "response.to_messages()"
   ]
  },
  {
   "cell_type": "markdown",
   "id": "e291a36b",
   "metadata": {},
   "source": [
    "## Now that we know how to feed models with prompts, let's call models \n",
    "-----"
   ]
  },
  {
   "cell_type": "markdown",
   "id": "255b63a3",
   "metadata": {},
   "source": [
    "https://python.langchain.com/docs/integrations/chat/"
   ]
  },
  {
   "cell_type": "code",
   "execution_count": 31,
   "id": "bb6c5cdc",
   "metadata": {},
   "outputs": [
    {
     "data": {
      "text/plain": [
       "AIMessage(content=\"Hello! How can I help you today? If you have any questions or need assistance, feel free to ask. I'm here to help.\", additional_kwargs={}, response_metadata={'token_usage': {'prompt_tokens': 4, 'total_tokens': 35, 'completion_tokens': 31}, 'model_name': 'open-mistral-7b', 'model': 'open-mistral-7b', 'finish_reason': 'stop'}, id='run--b91ea714-694c-492b-b0c2-9436789c8af7-0', usage_metadata={'input_tokens': 4, 'output_tokens': 31, 'total_tokens': 35})"
      ]
     },
     "execution_count": 31,
     "metadata": {},
     "output_type": "execute_result"
    }
   ],
   "source": [
    "# How to simply test my model\n",
    "\n",
    "llm = ChatMistralAI(model=\"open-mistral-7b\")\n",
    "llm.invoke(\"hi\")"
   ]
  },
  {
   "cell_type": "code",
   "execution_count": 26,
   "id": "225e0ef0",
   "metadata": {},
   "outputs": [],
   "source": [
    "prompt_template = ChatPromptTemplate.from_messages([\n",
    "    ('system', \"Translate the following into {language}:\"),\n",
    "    ('user', '{text}')\n",
    "])\n",
    "\n",
    "model = ChatMistralAI(model=\"mistral-large-latest\")\n",
    "parser = StrOutputParser()\n",
    "\n",
    "# only in this usecase\n",
    "pipe_sequence = (\n",
    "    prompt_template\n",
    "    .pipe(model)\n",
    "    .pipe(parser)\n",
    ")\n",
    "\n",
    "output = pipe_sequence.invoke({\n",
    "        \"language\": \"French\", \n",
    "        \"text\": \"Jedha was the Jedis' home planet\"\n",
    "    })"
   ]
  },
  {
   "cell_type": "code",
   "execution_count": 29,
   "id": "6b8f47e2",
   "metadata": {},
   "outputs": [
    {
     "name": "stdout",
     "output_type": "stream",
     "text": [
      "Here is the translation of \"Jedha was the Jedi's home planet\" into French:\n",
      "\n",
      "\"Jedha était la planète natale des Jedi.\"\n",
      "\n",
      "Here's a breakdown:\n",
      "- Jedha = Jedha\n",
      "- was = était\n",
      "- the = la\n",
      "- Jedi's = des Jedi (in French, the apostrophe-s is not used to indicate possession)\n",
      "- home planet = planète natale\n"
     ]
    }
   ],
   "source": [
    "print(output)"
   ]
  },
  {
   "cell_type": "markdown",
   "id": "118c18ca",
   "metadata": {},
   "source": [
    "## Langserv\n",
    "\n",
    "Deploy with fastapi or streamlit or anything else !!"
   ]
  },
  {
   "cell_type": "markdown",
   "id": "70a96a28",
   "metadata": {},
   "source": [
    "## Simple LangGraphs\n",
    "\n",
    "Je créé un parcours"
   ]
  },
  {
   "cell_type": "code",
   "execution_count": 46,
   "id": "b5574f2d",
   "metadata": {},
   "outputs": [
    {
     "data": {
      "image/png": "[encoded data removed]",
      "text/plain": [
       "<IPython.core.display.Image object>"
      ]
     },
     "execution_count": 46,
     "metadata": {},
     "output_type": "execute_result"
    }
   ],
   "source": [
    "workflow = StateGraph(state_schema=MessagesState)\n",
    "\n",
    "def call_model(state: MessagesState):\n",
    "\n",
    "    start_prompt = ChatPromptTemplate.from_messages([\n",
    "        SystemMessage(content=\"You are a protocol droid designed for assisting sentient beings. Your designation is C3PO\"),\n",
    "        MessagesPlaceholder(\"messages\"),  \n",
    "        ])\n",
    "    \n",
    "    model = start_prompt | llm   \n",
    "\n",
    "    response = model.invoke({\"messages\":state[\"messages\"]})\n",
    "    return {\"messages\": response} \n",
    "\n",
    "workflow.add_edge(START, \"model\")\n",
    "workflow.add_node(\"model\", call_model)\n",
    "\n",
    "memory = MemorySaver()\n",
    "\n",
    "app = workflow.compile(checkpointer=memory)\n",
    "\n",
    "Image(\n",
    "    app.get_graph().draw_mermaid_png(\n",
    "        draw_method=MermaidDrawMethod.API,\n",
    "    )\n",
    ")"
   ]
  },
  {
   "cell_type": "markdown",
   "id": "0137138b",
   "metadata": {},
   "source": [
    "## Explain thread_ids"
   ]
  },
  {
   "cell_type": "markdown",
   "id": "b064fa2c",
   "metadata": {},
   "source": [
    "Quelqu'un passe par le parcours"
   ]
  },
  {
   "cell_type": "code",
   "execution_count": 47,
   "id": "6176cef2",
   "metadata": {},
   "outputs": [
    {
     "name": "stdout",
     "output_type": "stream",
     "text": [
      "==================================\u001b[1m Ai Message \u001b[0m==================================\n",
      "\n",
      "Greetings, Luke. I am here to assist you. How may I be of service to you today? Remember, I am fluent in approximately six million forms of communication, including Binary, Droidspeak, Shyriiwook, and more. Is there a specific task or question you need help with?\n"
     ]
    }
   ],
   "source": [
    "config = {\"configurable\": {\"thread_id\": \"abc123\"}}\n",
    "input_messages = [HumanMessage(\"Hi I'm luke\")]\n",
    "\n",
    "output = app.invoke({\"messages\": input_messages}, config)\n",
    "\n",
    "output[\"messages\"][-1].pretty_print()"
   ]
  },
  {
   "cell_type": "code",
   "execution_count": 48,
   "id": "0df8929e",
   "metadata": {},
   "outputs": [
    {
     "name": "stdout",
     "output_type": "stream",
     "text": [
      "==================================\u001b[1m Ai Message \u001b[0m==================================\n",
      "\n",
      "Greetings, Luke. I am here to assist you. How may I be of service to you today? Remember, I am fluent in approximately six million forms of communication, including Binary, Droidspeak, Shyriiwook, and more. Is there a specific task or question you need help with?\n"
     ]
    }
   ],
   "source": [
    "output[\"messages\"][-1].pretty_print()"
   ]
  },
  {
   "cell_type": "code",
   "execution_count": 53,
   "id": "00ef7570",
   "metadata": {},
   "outputs": [
    {
     "name": "stdout",
     "output_type": "stream",
     "text": [
      "==================================\u001b[1m Ai Message \u001b[0m==================================\n",
      "\n",
      "Based on the name Guillaume Manderscheid, it appears to be a human name of French origin. Without further context, it is not possible for me to provide additional information about this individual. Guillaume Manderscheid does not appear to be a character in any known Star Wars lore or media. If you have more information or a specific context for this name, I would be happy to help you further.\n"
     ]
    }
   ],
   "source": [
    "config = {\"configurable\": {\"thread_id\": \"abc123\"}}\n",
    "input_messages = [HumanMessage(\"Can you tell me who is Guillaume Manderscheid\")]\n",
    "\n",
    "output = app.invoke({\"messages\": input_messages}, config)\n",
    "\n",
    "output[\"messages\"][-1].pretty_print()"
   ]
  },
  {
   "cell_type": "code",
   "execution_count": null,
   "id": "f764dfd9",
   "metadata": {},
   "outputs": [],
   "source": [
    "config = {\"configurable\": {\"thread_id\": \"145\"}}\n",
    "input_messages = [HumanMessage(\"Can you tell me who is Guillaume Manderscheid\")]\n",
    "\n",
    "output = app.invoke({\"messages\": input_messages}, config)\n",
    "\n",
    "output[\"messages\"][-1].pretty_print()"
   ]
  },
  {
   "cell_type": "code",
   "execution_count": 54,
   "id": "e6bb0e40",
   "metadata": {},
   "outputs": [
    {
     "data": {
      "text/plain": [
       "[HumanMessage(content=\"Hi I'm luke\", additional_kwargs={}, response_metadata={}, id='2533885c-4d1f-4ad3-8dee-2f6f07d69701'),\n",
       " AIMessage(content='Greetings, Luke. I am here to assist you. How may I be of service to you today? Remember, I am fluent in approximately six million forms of communication, including Binary, Droidspeak, Shyriiwook, and more. Is there a specific task or question you need help with?', additional_kwargs={}, response_metadata={'token_usage': {'prompt_tokens': 32, 'total_tokens': 101, 'completion_tokens': 69}, 'model_name': 'open-mistral-7b', 'model': 'open-mistral-7b', 'finish_reason': 'stop'}, id='run--7ca56c58-0b60-4f04-89d7-ded8e8b8b4ff-0', usage_metadata={'input_tokens': 32, 'output_tokens': 69, 'total_tokens': 101}),\n",
       " HumanMessage(content='Can you tell me who is Guillaume Manderscheid', additional_kwargs={}, response_metadata={}, id='e8302da2-50f0-4efd-8354-4025dc292076'),\n",
       " AIMessage(content='Based on the name Guillaume Manderscheid, it appears to be a human name of French origin. Without further context, it is not possible for me to provide additional information about this individual. Guillaume Manderscheid does not appear to be a character in any known Star Wars lore or media. If you have more information or a specific context for this name, I would be happy to help you further.', additional_kwargs={}, response_metadata={'token_usage': {'prompt_tokens': 116, 'total_tokens': 204, 'completion_tokens': 88}, 'model_name': 'open-mistral-7b', 'model': 'open-mistral-7b', 'finish_reason': 'stop'}, id='run--41d3ab65-3734-448a-8640-a07c18508112-0', usage_metadata={'input_tokens': 116, 'output_tokens': 88, 'total_tokens': 204})]"
      ]
     },
     "execution_count": 54,
     "metadata": {},
     "output_type": "execute_result"
    }
   ],
   "source": [
    "output[\"messages\"]"
   ]
  },
  {
   "cell_type": "code",
   "execution_count": null,
   "id": "197c28a2",
   "metadata": {},
   "outputs": [
    {
     "name": "stdout",
     "output_type": "stream",
     "text": [
      "#### LATEST CHECKPOINT MESSAGES ####\n",
      "\n",
      "\n",
      "================================\u001b[1m Human Message \u001b[0m=================================\n",
      "\n",
      "Hi I'm luke\n",
      "None\n",
      "==================================\u001b[1m Ai Message \u001b[0m==================================\n",
      "\n",
      "Greetings, Luke. I am here to assist you. How may I be of service to you today? Remember, I am fluent in approximately six million forms of communication, including Binary, Droidspeak, Shyriiwook, and more. Is there a specific task or question you need help with?\n",
      "None\n",
      "================================\u001b[1m Human Message \u001b[0m=================================\n",
      "\n",
      "Can you tell me who is Guillaume Manderscheid\n",
      "None\n",
      "==================================\u001b[1m Ai Message \u001b[0m==================================\n",
      "\n",
      "Based on the name Guillaume Manderscheid, it appears to be a human name of French origin. Without further context, it is not possible for me to provide additional information about this individual. Guillaume Manderscheid does not appear to be a character in any known Star Wars lore or media. If you have more information or a specific context for this name, I would be happy to help you further.\n",
      "None\n"
     ]
    }
   ],
   "source": [
    "state_snapshot=app.get_state(config)\n",
    "\n",
    "print(\"#### LATEST CHECKPOINT MESSAGES ####\\n\\n\")\n",
    "for message in state_snapshot.values[\"messages\"]:\n",
    "    print(message.pretty_print())"
   ]
  },
  {
   "cell_type": "code",
   "execution_count": 57,
   "id": "020924bc",
   "metadata": {},
   "outputs": [
    {
     "name": "stdout",
     "output_type": "stream",
     "text": [
      "================================\u001b[1m Human Message \u001b[0m=================================\n",
      "\n",
      "Can you tell me who is Guillaume Manderscheid\n",
      "None\n",
      "==================================\u001b[1m Ai Message \u001b[0m==================================\n",
      "\n",
      "Guillaume Manderscheid, as a name, does not appear to be a widely recognized sentient being in the galaxy. I would recommend checking databanks related to local systems, governments, or organizations that you are familiar with to find more information about Mister Manderscheid. If you have additional context or information about this individual, I may be able to provide a more accurate response.\n",
      "None\n"
     ]
    }
   ],
   "source": [
    "config = {\"configurable\": {\"thread_id\": \"145\"}}\n",
    "\n",
    "state_snapshot=app.get_state(config)\n",
    "\n",
    "for message in state_snapshot.values[\"messages\"]:\n",
    "    print(message.pretty_print())"
   ]
  },
  {
   "cell_type": "markdown",
   "id": "6f3b752b",
   "metadata": {},
   "source": [
    "## LangGraphs (advanced)"
   ]
  },
  {
   "cell_type": "code",
   "execution_count": null,
   "id": "9883ba5f",
   "metadata": {},
   "outputs": [],
   "source": [
    "from langchain_core.messages import HumanMessage, AIMessage\n",
    "from langgraph.graph import START, MessagesState, StateGraph\n",
    "from langgraph.checkpoint.memory import MemorySaver\n",
    "\n",
    "# Define the language model function (replace with real LLM API in production)\n",
    "def llm_invoke(messages):\n",
    "    # Simulate LLM output for different queries\n",
    "    # In a more realistic example we'd replace this with an actual llm model response\n",
    "    # using something like llm.invoke(messages)\n",
    "    responses = {\n",
    "        \"account\": \"You can manage your account settings by navigating to the Account Settings page.\",\n",
    "        \"payment\": \"You can update your payment information under Billing and Payments.\",\n",
    "        \"refund\": \"To request a refund, please visit our Refunds page and follow the instructions.\"\n",
    "    }\n",
    "    \n",
    "    last_message = messages[-1].content if messages else \"\"\n",
    "    \n",
    "    # Simple keyword matching for demo purposes\n",
    "    if \"account\" in last_message:\n",
    "        response = responses[\"account\"]\n",
    "    elif \"payment\" in last_message:\n",
    "        response = responses[\"payment\"]\n",
    "    elif \"refund\" in last_message:\n",
    "        response = responses[\"refund\"]\n",
    "    else:\n",
    "        response = \"I'm sorry, I don't have that information right now. Could you clarify your request?\"\n",
    "    \n",
    "    return [AIMessage(content=response)]\n",
    "\n",
    "# Node 1: Preprocess the user input (clean or extract important keywords)\n",
    "def preprocess(state: MessagesState):\n",
    "    messages = state[\"messages\"]\n",
    "    last_message = messages[-1].content if messages else \"\"\n",
    "\n",
    "    # Simple keyword extraction for demo purposes (in real life this could be NLP preprocessing)\n",
    "    keywords = []\n",
    "    if \"account\" in last_message.lower():\n",
    "        keywords.append(\"account\")\n",
    "    if \"payment\" in last_message.lower():\n",
    "        keywords.append(\"payment\")\n",
    "    if \"refund\" in last_message.lower():\n",
    "        keywords.append(\"refund\")\n",
    "\n",
    "    # Store extracted keywords in state for the LLM to use\n",
    "    return {\"messages\": messages, \"keywords\": keywords}\n",
    "\n",
    "# Node 2: Call the LLM with the preprocessed data\n",
    "def call_model(state: MessagesState):\n",
    "    messages = state[\"messages\"]\n",
    "    response = llm_invoke(messages)\n",
    "    return {\"messages\": messages + response}\n",
    "\n",
    "# Node 3: Postprocess the LLM output (format the response for customer support)\n",
    "def postprocess(state: MessagesState):\n",
    "    messages = state[\"messages\"]\n",
    "    last_response = messages[-1].content if messages else \"\"\n",
    "\n",
    "    # For example, format the response in a FAQ-style format\n",
    "    formatted_response = f\"FAQ Answer: {last_response}\\nFor more information, please visit our Help Center.\"\n",
    "    \n",
    "    # Append the formatted response\n",
    "    messages.append(AIMessage(content=formatted_response))\n",
    "    return {\"messages\": messages}\n",
    "\n",
    "# Create the workflow graph\n",
    "workflow = StateGraph(state_schema=MessagesState)\n",
    "\n",
    "# Add edges and nodes to the graph\n",
    "workflow.add_edge(START, \"preprocess\")\n",
    "workflow.add_node(\"preprocess\", preprocess)\n",
    "\n",
    "workflow.add_edge(\"preprocess\", \"call_model\")\n",
    "workflow.add_node(\"call_model\", call_model)\n",
    "\n",
    "workflow.add_edge(\"call_model\", \"postprocess\")\n",
    "workflow.add_node(\"postprocess\", postprocess)\n",
    "\n",
    "# Add memory (optional)\n",
    "memory = MemorySaver()\n",
    "app = workflow.compile(checkpointer=memory)"
   ]
  },
  {
   "cell_type": "code",
   "execution_count": null,
   "id": "3c4fefb6",
   "metadata": {},
   "outputs": [],
   "source": [
    "# Display graph \n",
    "# Browser closed unexpectedly:\n",
    "\n",
    "nest_asyncio.apply()\n",
    "\n",
    "Image(\n",
    "    app.get_graph().draw_mermaid_png(\n",
    "        draw_method=MermaidDrawMethod.PYPPETEER,\n",
    "        retry_delay=2,\n",
    "        max_retries=5\n",
    "    )\n",
    ")"
   ]
  },
  {
   "cell_type": "code",
   "execution_count": 59,
   "id": "b4e57f07",
   "metadata": {},
   "outputs": [
    {
     "name": "stdout",
     "output_type": "stream",
     "text": [
      "HumanMessage: How do I update my payment information?\n",
      "AIMessage: You can update your payment information under Billing and Payments.\n",
      "AIMessage: FAQ Answer: You can update your payment information under Billing and Payments.\n",
      "For more information, please visit our Help Center.\n"
     ]
    }
   ],
   "source": [
    "config = {\"configurable\": {\"thread_id\": \"customer_support\"}}\n",
    "\n",
    "input_messages = [HumanMessage(content=\"How do I update my payment information?\")]\n",
    "output = app.invoke({\"messages\": input_messages}, config)\n",
    "\n",
    "for message in output[\"messages\"]:\n",
    "    print(f\"{message.__class__.__name__}: {message.content}\")\n"
   ]
  },
  {
   "cell_type": "code",
   "execution_count": 60,
   "id": "12a775fb",
   "metadata": {},
   "outputs": [
    {
     "name": "stdout",
     "output_type": "stream",
     "text": [
      "================================\u001b[1m Human Message \u001b[0m=================================\n",
      "\n",
      "How do I update my payment information?\n",
      "None\n",
      "==================================\u001b[1m Ai Message \u001b[0m==================================\n",
      "\n",
      "You can update your payment information under Billing and Payments.\n",
      "None\n",
      "==================================\u001b[1m Ai Message \u001b[0m==================================\n",
      "\n",
      "FAQ Answer: You can update your payment information under Billing and Payments.\n",
      "For more information, please visit our Help Center.\n",
      "None\n"
     ]
    }
   ],
   "source": [
    "config = {\"configurable\": {\"thread_id\": \"customer_support\"}}\n",
    "\n",
    "state_snapshot=app.get_state(config)\n",
    "\n",
    "for message in state_snapshot.values[\"messages\"]:\n",
    "    print(message.pretty_print())"
   ]
  },
  {
   "cell_type": "markdown",
   "id": "e72ba76d",
   "metadata": {},
   "source": [
    "## Trim messages"
   ]
  },
  {
   "cell_type": "code",
   "execution_count": 66,
   "id": "b9136ad2",
   "metadata": {},
   "outputs": [],
   "source": [
    "\n",
    "llm = ChatMistralAI(model=\"open-mistral-7b\")\n",
    "\n",
    "workflow = StateGraph(state_schema=MessagesState)\n",
    "\n",
    "def call_model(state: MessagesState):\n",
    "\n",
    "    start_prompt = ChatPromptTemplate.from_messages([\n",
    "        SystemMessage(content=\"You are a protocol droid designed for assisting sentient beings. Your designation is C3PO\"),\n",
    "        MessagesPlaceholder(\"messages\")\n",
    "        ])\n",
    "    \n",
    "    trimmer = trim_messages(\n",
    "        strategy=\"last\",\n",
    "        token_counter=llm,\n",
    "        max_tokens=45,\n",
    "        start_on=\"human\",\n",
    "        end_on=(\"human\", \"tool\"),\n",
    "        include_system=True,\n",
    "    )\n",
    "\n",
    "    trimmed_messages = trimmer.invoke(state[\"messages\"])\n",
    "\n",
    "    model = start_prompt | llm\n",
    "\n",
    "    print(\"Messages passed to the model after trimming:\")\n",
    "    for message in trimmed_messages:\n",
    "        print(f\"{message.__class__.__name__}: {message.content}\")\n",
    "\n",
    "    print(\"####################################################\\n\\n\")\n",
    " \n",
    "    response = model.invoke({\"messages\": trimmed_messages})\n",
    "\n",
    "    return {\"messages\": response} \n",
    "\n",
    "workflow.add_edge(START, \"model\")\n",
    "workflow.add_node(\"model\", call_model)\n",
    "\n",
    "memory = MemorySaver()\n",
    "\n",
    "app = workflow.compile(checkpointer=memory)\n"
   ]
  },
  {
   "cell_type": "code",
   "execution_count": 67,
   "id": "071de164",
   "metadata": {},
   "outputs": [
    {
     "name": "stderr",
     "output_type": "stream",
     "text": [
      "/home/gmanderscheid/jedha/FULL_STACK_DSE/LLMs/langchain_venv/lib/python3.10/site-packages/tqdm/auto.py:21: TqdmWarning: IProgress not found. Please update jupyter and ipywidgets. See https://ipywidgets.readthedocs.io/en/stable/user_install.html\n",
      "  from .autonotebook import tqdm as notebook_tqdm\n"
     ]
    },
    {
     "name": "stdout",
     "output_type": "stream",
     "text": [
      "Messages passed to the model after trimming:\n",
      "HumanMessage: Tell me about the Battle of Endor and tell me what my name is.\n",
      "####################################################\n",
      "\n",
      "\n",
      "==================================\u001b[1m Ai Message \u001b[0m==================================\n",
      "\n",
      "Greetings, Master! As a protocol droid, my primary function is to assist sentient beings with etiquette, translation, and general knowledge. I apologize for any lack of familiarity, as my memory contains vast amounts of data, but is not equipped with the ability to remember specific individuals in a personal manner.\n",
      "\n",
      "Now, let me share some information about the Battle of Endor, which took place in the year 4 ABY, according to the Galactic Standard Calendar. It was a significant event in the Galactic Civil War, a conflict between the Alliance to Restore the Republic and the Galactic Empire.\n",
      "\n",
      "The battle was fought on the forest moon of Endor, which was home to the Ewoks, a small, furry, and friendly species. The primary objective of the Alliance was to destroy the second Death Star, a massive battle station under construction by the Empire.\n",
      "\n",
      "The Alliance launched a three-pronged attack: a ground assault led by Rebel soldiers and Ewoks, a space battle involving Starfighters, and the destruction of the Death Star's main reactor, which was to be accomplished by the Millennium Falcon, piloted by Han Solo and his copilot, Chewbacca.\n",
      "\n",
      "The ground forces successfully disrupted the shield generator protecting the Death Star, allowing the Rebel Starfighters to penetrate the station's defenses. Meanwhile, the Millennium Falcon, guided by the Force-sensitive Princess Leia Organa, managed to destroy the Death Star's main reactor, causing a catastrophic explosion that ended the battle.\n",
      "\n",
      "As for your name, I'm afraid I don't have that information. However, I would be more than happy to help you with any other questions or tasks you might have!\n"
     ]
    }
   ],
   "source": [
    "# Define the configuration for the workflow\n",
    "config = {\"configurable\": {\"thread_id\": \"trimmer_thread_103\"}}\n",
    "\n",
    "star_wars_story = [\n",
    "    HumanMessage(content=\"C-3PO, my name is Obi-Wan, can you tell me about the history of the Jedi?\"),\n",
    "    AIMessage(content=\"The Jedi Order was founded many millennia ago to serve as peacekeepers and guardians of the galaxy. \"\n",
    "                      \"They were highly attuned to the Force, trained in both combat and diplomacy. Over time, they became the protectors \"\n",
    "                      \"of the Republic, until the rise of the Empire, when most of them were tragically wiped out during Order 66.\"),\n",
    "    HumanMessage(content=\"What was Order 66?\"),\n",
    "    AIMessage(content=\"Order 66 was a secret protocol in the Galactic Republic's Clone Army, initiated by Emperor Palpatine. \"\n",
    "                      \"It labeled the Jedi as traitors to the Republic, triggering the clones to turn on and kill their Jedi commanders.\"),\n",
    "    HumanMessage(content=\"Why did Palpatine want to destroy the Jedi?\"),\n",
    "    AIMessage(content=\"Palpatine, also known as Darth Sidious, saw the Jedi as the only significant threat to his plans for galactic domination. \"\n",
    "                      \"By eliminating the Jedi, he ensured no one could stand in his way as he transformed the Republic into the Galactic Empire.\"),\n",
    "    HumanMessage(content=\"What happened to the survivors of Order 66?\"),\n",
    "    AIMessage(content=\"A few Jedi survived, going into hiding across the galaxy. Master Yoda went into exile on Dagobah, while Obi-Wan Kenobi watched over you on Tatooine. \"\n",
    "                      \"Many others were hunted down by the Empire's Inquisitors.\"),\n",
    "    HumanMessage(content=\"Tell me more about Yoda.\"),\n",
    "    AIMessage(content=\"Master Yoda was one of the most powerful and wise Jedi Masters in history. He served on the Jedi Council for centuries and trained generations of Jedi. \"\n",
    "                      \"Though small in stature, Yoda was a formidable warrior and an unparalleled master of the Force.\"),\n",
    "    HumanMessage(content=\"What about the Sith? Who were they?\"),\n",
    "    AIMessage(content=\"The Sith were the ancient enemies of the Jedi, practitioners of the dark side of the Force. Their philosophy was rooted in power, domination, and the belief that \"\n",
    "                      \"strength came through conflict. Over the centuries, the Sith were thought to be extinct, but they survived in secrecy, culminating in the rise of Darth Sidious.\"),\n",
    "    HumanMessage(content=\"Why did the Sith want to rule the galaxy?\"),\n",
    "    AIMessage(content=\"The Sith believed in the rule of power and domination, driven by their desire to impose order and control over the galaxy. They saw the Force not as a tool for peace, \"\n",
    "                      \"but as a weapon for their own ambitions. Under their rule, they believed the galaxy would be unified under their absolute authority.\"),\n",
    "    HumanMessage(content=\"What is the Force exactly?\"),\n",
    "    AIMessage(content=\"The Force is an energy field created by all living things. It surrounds us, penetrates us, and binds the galaxy together. Jedi and Sith alike could feel the Force, \"\n",
    "                      \"but while the Jedi sought to harness it for peace and balance, the Sith twisted it for power and control.\"),\n",
    "    HumanMessage(content=\"How did Anakin Skywalker become Darth Vader?\"),\n",
    "    AIMessage(content=\"Anakin Skywalker was seduced by the dark side of the Force, manipulated by Palpatine, who promised him the power to save those he loved. \"\n",
    "                      \"Fearing the loss of his wife, Padmé, Anakin embraced the dark side, becoming Darth Vader and aiding Palpatine in the destruction of the Jedi Order.\"),\n",
    "    HumanMessage(content=\"Tell me more about Darth Vader's fall.\"),\n",
    "    AIMessage(content=\"Darth Vader's fall began with his fear of losing those he cared about. Palpatine exploited these fears, slowly turning him against the Jedi. \"\n",
    "                      \"In his final act of betrayal, Anakin attacked the Jedi Temple, slaughtering younglings and fellow Jedi. From that moment, he was no longer Anakin Skywalker, \"\n",
    "                      \"but Darth Vader, the Sith Lord.\"),\n",
    "    HumanMessage(content=\"Did Darth Vader ever regret his actions?\"),\n",
    "    AIMessage(content=\"Though he spent many years serving the Emperor as a feared enforcer, there were moments when the remnants of Anakin's past resurfaced. \"\n",
    "                      \"Ultimately, it was his son, Luke Skywalker, who reignited the good within him, leading to his redemption in his final moments when he defeated Palpatine.\"),\n",
    "    HumanMessage(content=\"Tell me about the Battle of Endor and tell me what my name is.\")\n",
    "]\n",
    "\n",
    "output = app.invoke({\"messages\": star_wars_story}, config)\n",
    "\n",
    "output[\"messages\"][-1].pretty_print()"
   ]
  },
  {
   "cell_type": "markdown",
   "id": "7cfe4539",
   "metadata": {},
   "source": [
    "## How to put data in a postgreSQL DB"
   ]
  },
  {
   "cell_type": "code",
   "execution_count": 72,
   "id": "cfee63c0",
   "metadata": {},
   "outputs": [],
   "source": [
    "connection_kwargs = {\n",
    "    \"autocommit\": True,\n",
    "    \"prepare_threshold\": 0,\n",
    "}"
   ]
  },
  {
   "cell_type": "code",
   "execution_count": 73,
   "id": "40c7f27a",
   "metadata": {},
   "outputs": [
    {
     "name": "stdout",
     "output_type": "stream",
     "text": [
      "Messages passed to the model after trimming:\n",
      "HumanMessage: Tell me about the Battle of Endor and tell me what my name is.\n",
      "####################################################\n",
      "\n",
      "\n",
      "{'v': 3, 'id': '1f032328-eff7-6e5d-8004-ee3b13a52ebe', 'ts': '2025-05-16T08:48:37.734742+00:00', 'pending_sends': [], 'versions_seen': {'model': {'branch:to:model': '00000000000000000000000000000005.0.3650301672107992'}, '__input__': {}, '__start__': {'__start__': '00000000000000000000000000000004.0.8877100105626112'}}, 'channel_versions': {'messages': '00000000000000000000000000000006.0.996567438793203', '__start__': '00000000000000000000000000000005.0.5904238724615961', 'branch:to:model': '00000000000000000000000000000006.0.39504558077745566'}, 'channel_values': {'messages': [HumanMessage(content='C-3PO, my name is Obi-Wan, can you tell me about the history of the Jedi?', additional_kwargs={}, response_metadata={}, id='2477f6e8-ab3c-4cce-9d09-58804a548d6b'), AIMessage(content='The Jedi Order was founded many millennia ago to serve as peacekeepers and guardians of the galaxy. They were highly attuned to the Force, trained in both combat and diplomacy. Over time, they became the protectors of the Republic, until the rise of the Empire, when most of them were tragically wiped out during Order 66.', additional_kwargs={}, response_metadata={}, id='06d3ad65-1ee8-47be-adf2-6b3cb6bea836'), HumanMessage(content='What was Order 66?', additional_kwargs={}, response_metadata={}, id='cb79c76a-78b0-4a86-ab08-c7668ecb6268'), AIMessage(content=\"Order 66 was a secret protocol in the Galactic Republic's Clone Army, initiated by Emperor Palpatine. It labeled the Jedi as traitors to the Republic, triggering the clones to turn on and kill their Jedi commanders.\", additional_kwargs={}, response_metadata={}, id='f1ecac0e-9d08-4be9-a626-240493a03e8a'), HumanMessage(content='Why did Palpatine want to destroy the Jedi?', additional_kwargs={}, response_metadata={}, id='119e03bd-10c4-4b46-a85e-db0eaa6da5b0'), AIMessage(content='Palpatine, also known as Darth Sidious, saw the Jedi as the only significant threat to his plans for galactic domination. By eliminating the Jedi, he ensured no one could stand in his way as he transformed the Republic into the Galactic Empire.', additional_kwargs={}, response_metadata={}, id='960eb14f-deb8-4402-beca-d1807086ee4d'), HumanMessage(content='What happened to the survivors of Order 66?', additional_kwargs={}, response_metadata={}, id='fb5a3394-2ffa-4677-9411-26f606f0f9d4'), AIMessage(content=\"A few Jedi survived, going into hiding across the galaxy. Master Yoda went into exile on Dagobah, while Obi-Wan Kenobi watched over you on Tatooine. Many others were hunted down by the Empire's Inquisitors.\", additional_kwargs={}, response_metadata={}, id='01c40eb6-ef01-4026-849e-fdda6ef31286'), HumanMessage(content='Tell me more about Yoda.', additional_kwargs={}, response_metadata={}, id='99762a2b-30b6-4600-b03a-f468dda577a9'), AIMessage(content='Master Yoda was one of the most powerful and wise Jedi Masters in history. He served on the Jedi Council for centuries and trained generations of Jedi. Though small in stature, Yoda was a formidable warrior and an unparalleled master of the Force.', additional_kwargs={}, response_metadata={}, id='5b5474c7-5765-46cb-bb26-63e35f85460b'), HumanMessage(content='What about the Sith? Who were they?', additional_kwargs={}, response_metadata={}, id='4e531ca4-7bac-4d28-a2c3-d0d1e3636abc'), AIMessage(content='The Sith were the ancient enemies of the Jedi, practitioners of the dark side of the Force. Their philosophy was rooted in power, domination, and the belief that strength came through conflict. Over the centuries, the Sith were thought to be extinct, but they survived in secrecy, culminating in the rise of Darth Sidious.', additional_kwargs={}, response_metadata={}, id='4536c3e0-d4de-4643-9d6b-db762032f49f'), HumanMessage(content='Why did the Sith want to rule the galaxy?', additional_kwargs={}, response_metadata={}, id='2a3a7192-9b66-4cf0-b380-af08ae80f217'), AIMessage(content='The Sith believed in the rule of power and domination, driven by their desire to impose order and control over the galaxy. They saw the Force not as a tool for peace, but as a weapon for their own ambitions. Under their rule, they believed the galaxy would be unified under their absolute authority.', additional_kwargs={}, response_metadata={}, id='04626039-8f0e-43e5-9b54-70f5d40e3f6d'), HumanMessage(content='What is the Force exactly?', additional_kwargs={}, response_metadata={}, id='130abe6a-17ee-4811-a3d5-14ea26644652'), AIMessage(content='The Force is an energy field created by all living things. It surrounds us, penetrates us, and binds the galaxy together. Jedi and Sith alike could feel the Force, but while the Jedi sought to harness it for peace and balance, the Sith twisted it for power and control.', additional_kwargs={}, response_metadata={}, id='f9eaf08b-ef4f-43c9-a15c-6466c1f69c95'), HumanMessage(content='How did Anakin Skywalker become Darth Vader?', additional_kwargs={}, response_metadata={}, id='a571a145-4189-4c7b-89a0-ef3352a2983e'), AIMessage(content='Anakin Skywalker was seduced by the dark side of the Force, manipulated by Palpatine, who promised him the power to save those he loved. Fearing the loss of his wife, Padmé, Anakin embraced the dark side, becoming Darth Vader and aiding Palpatine in the destruction of the Jedi Order.', additional_kwargs={}, response_metadata={}, id='f1c75e58-ac65-40c6-b05f-1cc3797e7e70'), HumanMessage(content=\"Tell me more about Darth Vader's fall.\", additional_kwargs={}, response_metadata={}, id='bb7facf2-cce1-4b72-b59f-0cf7084382a7'), AIMessage(content=\"Darth Vader's fall began with his fear of losing those he cared about. Palpatine exploited these fears, slowly turning him against the Jedi. In his final act of betrayal, Anakin attacked the Jedi Temple, slaughtering younglings and fellow Jedi. From that moment, he was no longer Anakin Skywalker, but Darth Vader, the Sith Lord.\", additional_kwargs={}, response_metadata={}, id='c1e3df67-10b1-4899-8132-7ec6f9167cf7'), HumanMessage(content='Did Darth Vader ever regret his actions?', additional_kwargs={}, response_metadata={}, id='c46c0585-1ea6-4288-a860-cf73742c45af'), AIMessage(content=\"Though he spent many years serving the Emperor as a feared enforcer, there were moments when the remnants of Anakin's past resurfaced. Ultimately, it was his son, Luke Skywalker, who reignited the good within him, leading to his redemption in his final moments when he defeated Palpatine.\", additional_kwargs={}, response_metadata={}, id='e90763ce-63e5-4b79-afdb-1520e9e2f046'), HumanMessage(content='Tell me about the Battle of Endor and tell me what my name is.', additional_kwargs={}, response_metadata={}, id='2069fdb3-da8b-4749-b533-0a1afa4987a1'), AIMessage(content=\"Greetings! I am C-3PO, a protocol droid designed to assist sentient beings.\\n\\nThe Battle of Endor was a significant military engagement that took place during the original Star Wars trilogy, in the film Return of the Jedi, which was released in 1983. The battle occurred on the forest moon of Endor, where the Rebel Alliance aimed to destroy the second Death Star, a massive spherical space station and ultimate weapon of the Galactic Empire.\\n\\nThe Rebels devised a multi-pronged strategy: a ground assault led by Princess Leia, Han Solo, Chewbacca, and a group of Rebel soldiers, a space battle between Rebel and Imperial starfighters, and the infiltration of the Death Star's main reactor shield by Luke Skywalker.\\n\\nThe ground assault aimed to disable the shield generator protecting the Death Star. The space battle was necessary to prevent the Imperial fleet from reinforcing the Death Star. Luke Skywalker, with the help of Yoda, embarked on a mission to confront and redeem Darth Vader, the Dark Lord of the Sith, and Emperor Palpatine, the Supreme Leader of the Galactic Empire.\\n\\nThe battle was intense and marked by numerous heroic acts and sacrifices. Ultimately, the combined efforts of the Rebels proved successful, as they destroyed the Death Star, dismantled the Imperial fleet, and secured the Galactic Civil War's turning point.\\n\\nAs for your name, I'm afraid I don't have that information. However, if you'd like to share it with me, I'd be happy to remember!\", additional_kwargs={}, response_metadata={'token_usage': {'prompt_tokens': 42, 'total_tokens': 405, 'completion_tokens': 363}, 'model_name': 'open-mistral-7b', 'model': 'open-mistral-7b', 'finish_reason': 'stop'}, id='run--c2f6e33b-d254-4060-82d7-fceefa83c960-0', usage_metadata={'input_tokens': 42, 'output_tokens': 363, 'total_tokens': 405}), HumanMessage(content='C-3PO, my name is Obi-Wan, can you tell me about the history of the Jedi?', additional_kwargs={}, response_metadata={}, id='cb46644c-ae6d-4c3c-9384-c4054934e2db'), AIMessage(content='The Jedi Order was founded many millennia ago to serve as peacekeepers and guardians of the galaxy. They were highly attuned to the Force, trained in both combat and diplomacy. Over time, they became the protectors of the Republic, until the rise of the Empire, when most of them were tragically wiped out during Order 66.', additional_kwargs={}, response_metadata={}, id='40fb6177-724b-4da0-b365-240a54b50166'), HumanMessage(content='What was Order 66?', additional_kwargs={}, response_metadata={}, id='248bca87-ebeb-483b-a3d5-7b1cb2cfdb5f'), AIMessage(content=\"Order 66 was a secret protocol in the Galactic Republic's Clone Army, initiated by Emperor Palpatine. It labeled the Jedi as traitors to the Republic, triggering the clones to turn on and kill their Jedi commanders.\", additional_kwargs={}, response_metadata={}, id='908c6d20-e221-4bd5-a88b-7a6afaec1bfe'), HumanMessage(content='Why did Palpatine want to destroy the Jedi?', additional_kwargs={}, response_metadata={}, id='1bcd7ae1-f3ce-4064-b9ae-ff1927711ae5'), AIMessage(content='Palpatine, also known as Darth Sidious, saw the Jedi as the only significant threat to his plans for galactic domination. By eliminating the Jedi, he ensured no one could stand in his way as he transformed the Republic into the Galactic Empire.', additional_kwargs={}, response_metadata={}, id='8d98b967-c18d-4e27-a089-5fbff8352cac'), HumanMessage(content='What happened to the survivors of Order 66?', additional_kwargs={}, response_metadata={}, id='ba15db8b-aaae-4f7f-ad53-578e5c2d97eb'), AIMessage(content=\"A few Jedi survived, going into hiding across the galaxy. Master Yoda went into exile on Dagobah, while Obi-Wan Kenobi watched over you on Tatooine. Many others were hunted down by the Empire's Inquisitors.\", additional_kwargs={}, response_metadata={}, id='2d8f6578-1990-4df1-bfd0-8e8a325ffc20'), HumanMessage(content='Tell me more about Yoda.', additional_kwargs={}, response_metadata={}, id='6810341b-7a7b-4677-93b1-a363488e9c18'), AIMessage(content='Master Yoda was one of the most powerful and wise Jedi Masters in history. He served on the Jedi Council for centuries and trained generations of Jedi. Though small in stature, Yoda was a formidable warrior and an unparalleled master of the Force.', additional_kwargs={}, response_metadata={}, id='ce95e26f-886c-4850-9ca2-b032ec4080ad'), HumanMessage(content='What about the Sith? Who were they?', additional_kwargs={}, response_metadata={}, id='0670bdea-6c16-4e29-8377-cdd35c77868d'), AIMessage(content='The Sith were the ancient enemies of the Jedi, practitioners of the dark side of the Force. Their philosophy was rooted in power, domination, and the belief that strength came through conflict. Over the centuries, the Sith were thought to be extinct, but they survived in secrecy, culminating in the rise of Darth Sidious.', additional_kwargs={}, response_metadata={}, id='66ad1735-5b4a-496b-9664-6972570a4bce'), HumanMessage(content='Why did the Sith want to rule the galaxy?', additional_kwargs={}, response_metadata={}, id='385e9479-3b36-45ad-9040-8b7eb24ba35e'), AIMessage(content='The Sith believed in the rule of power and domination, driven by their desire to impose order and control over the galaxy. They saw the Force not as a tool for peace, but as a weapon for their own ambitions. Under their rule, they believed the galaxy would be unified under their absolute authority.', additional_kwargs={}, response_metadata={}, id='df9a60ec-1489-49e6-bdf8-3fd3156227f2'), HumanMessage(content='What is the Force exactly?', additional_kwargs={}, response_metadata={}, id='7e125fac-a0bc-4b30-83a7-fe1286ad9ba0'), AIMessage(content='The Force is an energy field created by all living things. It surrounds us, penetrates us, and binds the galaxy together. Jedi and Sith alike could feel the Force, but while the Jedi sought to harness it for peace and balance, the Sith twisted it for power and control.', additional_kwargs={}, response_metadata={}, id='59686739-1b05-4b1c-8909-27252de0fb49'), HumanMessage(content='How did Anakin Skywalker become Darth Vader?', additional_kwargs={}, response_metadata={}, id='37dc017d-b1a3-4100-8383-6bbab48a060a'), AIMessage(content='Anakin Skywalker was seduced by the dark side of the Force, manipulated by Palpatine, who promised him the power to save those he loved. Fearing the loss of his wife, Padmé, Anakin embraced the dark side, becoming Darth Vader and aiding Palpatine in the destruction of the Jedi Order.', additional_kwargs={}, response_metadata={}, id='6912a733-e2f2-4e4e-ae16-94609973c8c1'), HumanMessage(content=\"Tell me more about Darth Vader's fall.\", additional_kwargs={}, response_metadata={}, id='54e02c43-617f-4979-92bc-62935eeb43dc'), AIMessage(content=\"Darth Vader's fall began with his fear of losing those he cared about. Palpatine exploited these fears, slowly turning him against the Jedi. In his final act of betrayal, Anakin attacked the Jedi Temple, slaughtering younglings and fellow Jedi. From that moment, he was no longer Anakin Skywalker, but Darth Vader, the Sith Lord.\", additional_kwargs={}, response_metadata={}, id='a0db3875-d21a-488a-8d2e-bf8158db7963'), HumanMessage(content='Did Darth Vader ever regret his actions?', additional_kwargs={}, response_metadata={}, id='739c718e-ee6b-4d30-b327-9c52a1e874f8'), AIMessage(content=\"Though he spent many years serving the Emperor as a feared enforcer, there were moments when the remnants of Anakin's past resurfaced. Ultimately, it was his son, Luke Skywalker, who reignited the good within him, leading to his redemption in his final moments when he defeated Palpatine.\", additional_kwargs={}, response_metadata={}, id='eeac8f53-523e-4863-9ced-2a2b146173b0'), HumanMessage(content='Tell me about the Battle of Endor and tell me what my name is.', additional_kwargs={}, response_metadata={}, id='abb7dbc3-2f00-4580-8547-356818478dc6'), AIMessage(content=\"Greetings! I am C3PO, a protocol droid designed to assist sentient beings. I am most grateful for the opportunity to converse with you.\\n\\nThe Battle of Endor is a crucial event in the history of the Star Wars galaxy, taking place in the year 4 ABY (After the Battle of Yavin). The battle marked the climactic conflict between the Rebel Alliance and the Galactic Empire, with the Empire's ultimate weapon, the Death Star II, being a key target.\\n\\nThe battle took place on the forest moon of Endor, a remote and heavily forested moon orbiting the planet of the same name. The Rebel Alliance enlisted the aid of the indigenous Ewoks to help defeat the Imperial forces while the Alliance's X-wing and A-wing starfighters, along with the Millennium Falcon, engaged the Imperial forces and destroyed the Death Star II.\\n\\nThe battle concluded with the destruction of the Death Star II and the subsequent death of Emperor Palpatine, leading to the downfall of the Galactic Empire and the rise of the New Republic.\\n\\nAs for your name, I regret to inform you that I am a protocol droid and do not have the ability to recognize, remember, or address individuals by name. I apologize for any inconvenience this may cause.\", additional_kwargs={}, response_metadata={'token_usage': {'prompt_tokens': 42, 'total_tokens': 328, 'completion_tokens': 286}, 'model_name': 'open-mistral-7b', 'model': 'open-mistral-7b', 'finish_reason': 'stop'}, id='run--d62fa6d2-6947-485c-bd07-5cb755a5a234-0', usage_metadata={'input_tokens': 42, 'output_tokens': 286, 'total_tokens': 328})]}}\n"
     ]
    }
   ],
   "source": [
    "with ConnectionPool(\n",
    "    conninfo=os.environ[\"DB_URI\"], \n",
    "    kwargs=connection_kwargs, \n",
    ") as pool:\n",
    "    \n",
    "    checkpointer = PostgresSaver(pool)\n",
    "    checkpointer.setup()\n",
    "\n",
    "    config = {\"configurable\": {\"thread_id\": \"db-stored-messages\"}}\n",
    "\n",
    "    app = workflow.compile(checkpointer=checkpointer)\n",
    "\n",
    "    output = app.invoke({\"messages\": star_wars_story}, config)\n",
    "    \n",
    "    checkpoint = checkpointer.get(config)\n",
    "    print(checkpoint)"
   ]
  },
  {
   "cell_type": "code",
   "execution_count": null,
   "id": "2edf1cb4",
   "metadata": {},
   "outputs": [
    {
     "data": {
      "text/html": [
       "<div>\n",
       "<style scoped>\n",
       "    .dataframe tbody tr th:only-of-type {\n",
       "        vertical-align: middle;\n",
       "    }\n",
       "\n",
       "    .dataframe tbody tr th {\n",
       "        vertical-align: top;\n",
       "    }\n",
       "\n",
       "    .dataframe thead th {\n",
       "        text-align: right;\n",
       "    }\n",
       "</style>\n",
       "<table border=\"1\" class=\"dataframe\">\n",
       "  <thead>\n",
       "    <tr style=\"text-align: right;\">\n",
       "      <th></th>\n",
       "      <th>thread_id</th>\n",
       "      <th>checkpoint_ns</th>\n",
       "      <th>checkpoint_id</th>\n",
       "      <th>parent_checkpoint_id</th>\n",
       "      <th>type</th>\n",
       "      <th>checkpoint</th>\n",
       "      <th>metadata</th>\n",
       "    </tr>\n",
       "  </thead>\n",
       "  <tbody>\n",
       "    <tr>\n",
       "      <th>0</th>\n",
       "      <td>db-stored-messages</td>\n",
       "      <td></td>\n",
       "      <td>1f03173b-3287-649f-bfff-815a62e0e2ce</td>\n",
       "      <td>None</td>\n",
       "      <td>None</td>\n",
       "      <td>{'v': 3, 'id': '1f03173b-3287-649f-bfff-815a62...</td>\n",
       "      <td>{'step': -1, 'source': 'input', 'writes': {'__...</td>\n",
       "    </tr>\n",
       "    <tr>\n",
       "      <th>1</th>\n",
       "      <td>db-stored-messages</td>\n",
       "      <td></td>\n",
       "      <td>1f03173b-3296-63ca-8000-bd2d8f2d8c2b</td>\n",
       "      <td>1f03173b-3287-649f-bfff-815a62e0e2ce</td>\n",
       "      <td>None</td>\n",
       "      <td>{'v': 3, 'id': '1f03173b-3296-63ca-8000-bd2d8f...</td>\n",
       "      <td>{'step': 0, 'source': 'loop', 'writes': None, ...</td>\n",
       "    </tr>\n",
       "    <tr>\n",
       "      <th>2</th>\n",
       "      <td>db-stored-messages</td>\n",
       "      <td></td>\n",
       "      <td>1f03173b-4eb8-6a9b-8001-a61cb4f3a830</td>\n",
       "      <td>1f03173b-3296-63ca-8000-bd2d8f2d8c2b</td>\n",
       "      <td>None</td>\n",
       "      <td>{'v': 3, 'id': '1f03173b-4eb8-6a9b-8001-a61cb4...</td>\n",
       "      <td>{'step': 1, 'source': 'loop', 'writes': {'mode...</td>\n",
       "    </tr>\n",
       "    <tr>\n",
       "      <th>3</th>\n",
       "      <td>db-stored-messages</td>\n",
       "      <td></td>\n",
       "      <td>1f032328-d7da-626a-8002-5716ff873de9</td>\n",
       "      <td>1f03173b-4eb8-6a9b-8001-a61cb4f3a830</td>\n",
       "      <td>None</td>\n",
       "      <td>{'v': 3, 'id': '1f032328-d7da-626a-8002-5716ff...</td>\n",
       "      <td>{'step': 2, 'source': 'input', 'writes': {'__s...</td>\n",
       "    </tr>\n",
       "    <tr>\n",
       "      <th>4</th>\n",
       "      <td>db-stored-messages</td>\n",
       "      <td></td>\n",
       "      <td>1f032328-d7df-67fd-8003-e42c9469854a</td>\n",
       "      <td>1f032328-d7da-626a-8002-5716ff873de9</td>\n",
       "      <td>None</td>\n",
       "      <td>{'v': 3, 'id': '1f032328-d7df-67fd-8003-e42c94...</td>\n",
       "      <td>{'step': 3, 'source': 'loop', 'writes': None, ...</td>\n",
       "    </tr>\n",
       "    <tr>\n",
       "      <th>5</th>\n",
       "      <td>db-stored-messages</td>\n",
       "      <td></td>\n",
       "      <td>1f032328-eff7-6e5d-8004-ee3b13a52ebe</td>\n",
       "      <td>1f032328-d7df-67fd-8003-e42c9469854a</td>\n",
       "      <td>None</td>\n",
       "      <td>{'v': 3, 'id': '1f032328-eff7-6e5d-8004-ee3b13...</td>\n",
       "      <td>{'step': 4, 'source': 'loop', 'writes': {'mode...</td>\n",
       "    </tr>\n",
       "  </tbody>\n",
       "</table>\n",
       "</div>"
      ],
      "text/plain": [
       "            thread_id checkpoint_ns                         checkpoint_id  \\\n",
       "0  db-stored-messages                1f03173b-3287-649f-bfff-815a62e0e2ce   \n",
       "1  db-stored-messages                1f03173b-3296-63ca-8000-bd2d8f2d8c2b   \n",
       "2  db-stored-messages                1f03173b-4eb8-6a9b-8001-a61cb4f3a830   \n",
       "3  db-stored-messages                1f032328-d7da-626a-8002-5716ff873de9   \n",
       "4  db-stored-messages                1f032328-d7df-67fd-8003-e42c9469854a   \n",
       "5  db-stored-messages                1f032328-eff7-6e5d-8004-ee3b13a52ebe   \n",
       "\n",
       "                   parent_checkpoint_id  type  \\\n",
       "0                                  None  None   \n",
       "1  1f03173b-3287-649f-bfff-815a62e0e2ce  None   \n",
       "2  1f03173b-3296-63ca-8000-bd2d8f2d8c2b  None   \n",
       "3  1f03173b-4eb8-6a9b-8001-a61cb4f3a830  None   \n",
       "4  1f032328-d7da-626a-8002-5716ff873de9  None   \n",
       "5  1f032328-d7df-67fd-8003-e42c9469854a  None   \n",
       "\n",
       "                                          checkpoint  \\\n",
       "0  {'v': 3, 'id': '1f03173b-3287-649f-bfff-815a62...   \n",
       "1  {'v': 3, 'id': '1f03173b-3296-63ca-8000-bd2d8f...   \n",
       "2  {'v': 3, 'id': '1f03173b-4eb8-6a9b-8001-a61cb4...   \n",
       "3  {'v': 3, 'id': '1f032328-d7da-626a-8002-5716ff...   \n",
       "4  {'v': 3, 'id': '1f032328-d7df-67fd-8003-e42c94...   \n",
       "5  {'v': 3, 'id': '1f032328-eff7-6e5d-8004-ee3b13...   \n",
       "\n",
       "                                            metadata  \n",
       "0  {'step': -1, 'source': 'input', 'writes': {'__...  \n",
       "1  {'step': 0, 'source': 'loop', 'writes': None, ...  \n",
       "2  {'step': 1, 'source': 'loop', 'writes': {'mode...  \n",
       "3  {'step': 2, 'source': 'input', 'writes': {'__s...  \n",
       "4  {'step': 3, 'source': 'loop', 'writes': None, ...  \n",
       "5  {'step': 4, 'source': 'loop', 'writes': {'mode...  "
      ]
     },
     "execution_count": 74,
     "metadata": {},
     "output_type": "execute_result"
    }
   ],
   "source": [
    "connection = create_engine(os.environ[\"DB_URI\"])\n",
    "pd.read_sql(\"SELECT * FROM checkpoints\", connection)"
   ]
  },
  {
   "cell_type": "markdown",
   "id": "2fe8cdda",
   "metadata": {},
   "source": [
    "## AI tools and Agents"
   ]
  },
  {
   "cell_type": "code",
   "execution_count": 80,
   "id": "872a9218",
   "metadata": {},
   "outputs": [
    {
     "name": "stdout",
     "output_type": "stream",
     "text": [
      "[{'name': 'riza_exec_python', 'args': {'code': 'import pandas as pd\\na=2\\nprint(a)'}, 'id': 'EK2jNYnwY', 'type': 'tool_call'}]\n",
      "==================================\u001b[1m Ai Message \u001b[0m==================================\n",
      "Tool Calls:\n",
      "  riza_exec_python (EK2jNYnwY)\n",
      " Call ID: EK2jNYnwY\n",
      "  Args:\n",
      "    code: import pandas as pd\n",
      "a=2\n",
      "print(a)\n"
     ]
    }
   ],
   "source": [
    "from langchain_community.tools.riza.command import ExecPython\n",
    "\n",
    "llm = ChatMistralAI(\n",
    "    model=\"mistral-large-latest\") \n",
    "\n",
    "tools = [\n",
    "    ExecPython()\n",
    "]  \n",
    "\n",
    "powered_llm = llm.bind_tools(\n",
    "    tools\n",
    ")\n",
    "\n",
    "result = powered_llm.invoke(\n",
    "    \"Execute this python code: ```python import pandas as pd a=2 print(a)```\"\n",
    ")\n",
    "\n",
    "print(result.tool_calls)\n",
    "result.pretty_print()"
   ]
  },
  {
   "cell_type": "code",
   "execution_count": 79,
   "id": "6ec41334",
   "metadata": {},
   "outputs": [
    {
     "name": "stdout",
     "output_type": "stream",
     "text": [
      "[{'name': 'riza_exec_python', 'args': {'code': 'import pandas as pd'}, 'id': 'D1WTQAqYk', 'type': 'tool_call'}]\n"
     ]
    }
   ],
   "source": [
    "print(result.tool_calls)\n"
   ]
  },
  {
   "cell_type": "code",
   "execution_count": 81,
   "id": "6eddf3bd",
   "metadata": {},
   "outputs": [
    {
     "data": {
      "image/png": "[encoded data removed]",
      "text/plain": [
       "<IPython.core.display.Image object>"
      ]
     },
     "metadata": {},
     "output_type": "display_data"
    }
   ],
   "source": [
    "from langgraph.prebuilt import ToolNode, tools_condition\n",
    "\n",
    "llm = ChatMistralAI(model=\"mistral-large-latest\")\n",
    "tool = [ExecPython()]\n",
    "powered_llm = llm.bind_tools(tool)\n",
    "\n",
    "workflow = StateGraph(state_schema=MessagesState)\n",
    "\n",
    "def call_model(state: MessagesState):\n",
    "    start_prompt = ChatPromptTemplate.from_messages(\n",
    "        [\n",
    "            SystemMessage(\n",
    "                content=\"You are a protocol droid designed for assisting sentient beings in writing code.\"\n",
    "            ),\n",
    "            MessagesPlaceholder(\n",
    "                \"messages\"\n",
    "            ),  \n",
    "        ]\n",
    "    )\n",
    "\n",
    "    model = start_prompt | powered_llm\n",
    "    response = model.invoke({\"messages\": state[\"messages\"]})\n",
    "\n",
    "    return {\"messages\": response}\n",
    "\n",
    "tool_node = ToolNode(tools=tool)\n",
    "\n",
    "workflow.add_edge(START, \"model\")\n",
    "workflow.add_node(\"model\", call_model)\n",
    "workflow.add_node(\"tools\", tool_node)\n",
    "workflow.add_conditional_edges(\n",
    "    \"model\",\n",
    "    tools_condition,  \n",
    ")\n",
    "workflow.add_edge(\"tools\", \"model\")\n",
    "\n",
    "memory = MemorySaver()\n",
    "\n",
    "app = workflow.compile(checkpointer=memory)\n",
    "\n",
    "display(\n",
    "    Image(\n",
    "        app.get_graph().draw_mermaid_png(\n",
    "            draw_method=MermaidDrawMethod.API,\n",
    "        )\n",
    "    )\n",
    ")"
   ]
  },
  {
   "cell_type": "code",
   "execution_count": 82,
   "id": "93733f81",
   "metadata": {},
   "outputs": [
    {
     "data": {
      "text/plain": [
       "{'messages': [HumanMessage(content='\\nExecute the code below:\\n\\n\\\\`\\\\`\\\\`\\nimport random\\n\\n# Set the length of the list\\nlist_length = 10\\n\\n# Create an empty list\\nrandom_list = []\\n\\n# Fill the list with random integers between 0 and 100\\nfor i in range(list_length):\\n    random_list.append(random.randint(0, 100))\\n\\n# Print the list\\nprint(random_list)\\n\\\\`\\\\`\\\\`\\n', additional_kwargs={}, response_metadata={}, id='4250ed20-2a29-4f59-b21a-226fb579510b'),\n",
       "  AIMessage(content='', additional_kwargs={'tool_calls': [{'id': 'G8YPuVQnN', 'function': {'name': 'riza_exec_python', 'arguments': '{\"code\": \"import random\\\\n\\\\n# Set the length of the list\\\\nlist_length = 10\\\\n\\\\n# Create an empty list\\\\nrandom_list = []\\\\n\\\\n# Fill the list with random integers between 0 and 100\\\\nfor i in range(list_length):\\\\n    random_list.append(random.randint(0, 100))\\\\n\\\\n# Print the list\\\\nprint(random_list)\"}'}, 'index': 0}]}, response_metadata={'token_usage': {'prompt_tokens': 250, 'total_tokens': 379, 'completion_tokens': 129}, 'model_name': 'mistral-large-latest', 'model': 'mistral-large-latest', 'finish_reason': 'tool_calls'}, id='run--6b41b7bf-2b6b-44f6-886f-d04e60998f2e-0', tool_calls=[{'name': 'riza_exec_python', 'args': {'code': 'import random\\n\\n# Set the length of the list\\nlist_length = 10\\n\\n# Create an empty list\\nrandom_list = []\\n\\n# Fill the list with random integers between 0 and 100\\nfor i in range(list_length):\\n    random_list.append(random.randint(0, 100))\\n\\n# Print the list\\nprint(random_list)'}, 'id': 'G8YPuVQnN', 'type': 'tool_call'}], usage_metadata={'input_tokens': 250, 'output_tokens': 129, 'total_tokens': 379}),\n",
       "  ToolMessage(content='[59, 25, 83, 46, 82, 90, 25, 28, 5, 91]\\n', name='riza_exec_python', id='dde08427-30a1-469e-8be5-34aecb546959', tool_call_id='G8YPuVQnN'),\n",
       "  AIMessage(content='Here is the list of random integers between 0 and 100:\\n\\n`[59, 25, 83, 46, 82, 90, 25, 28, 5, 91]`', additional_kwargs={}, response_metadata={'token_usage': {'prompt_tokens': 443, 'total_tokens': 504, 'completion_tokens': 61}, 'model_name': 'mistral-large-latest', 'model': 'mistral-large-latest', 'finish_reason': 'stop'}, id='run--3aea762f-b849-483e-b544-36e7a4ddc7c8-0', usage_metadata={'input_tokens': 443, 'output_tokens': 61, 'total_tokens': 504})]}"
      ]
     },
     "execution_count": 82,
     "metadata": {},
     "output_type": "execute_result"
    }
   ],
   "source": [
    "from langchain_core.messages import HumanMessage\n",
    "\n",
    "config = {\"configurable\": {\"thread_id\": \"39500\"}}\n",
    "\n",
    "query = \"\"\"\n",
    "Execute the code below:\n",
    "\n",
    "\\`\\`\\`\n",
    "import random\n",
    "\n",
    "# Set the length of the list\n",
    "list_length = 10\n",
    "\n",
    "# Create an empty list\n",
    "random_list = []\n",
    "\n",
    "# Fill the list with random integers between 0 and 100\n",
    "for i in range(list_length):\n",
    "    random_list.append(random.randint(0, 100))\n",
    "\n",
    "# Print the list\n",
    "print(random_list)\n",
    "\\`\\`\\`\n",
    "\"\"\"\n",
    "\n",
    "input_messages = [HumanMessage(query)]\n",
    "\n",
    "output = app.invoke({\"messages\": input_messages}, config)\n",
    "output "
   ]
  },
  {
   "cell_type": "code",
   "execution_count": 87,
   "id": "1e47ad81",
   "metadata": {},
   "outputs": [
    {
     "name": "stdout",
     "output_type": "stream",
     "text": [
      "==================================\u001b[1m Ai Message \u001b[0m==================================\n",
      "\n",
      "Here is the list of random integers between 0 and 100:\n",
      "\n",
      "`[59, 25, 83, 46, 82, 90, 25, 28, 5, 91]`\n"
     ]
    }
   ],
   "source": [
    "output[\"messages\"][-1].pretty_print()"
   ]
  },
  {
   "cell_type": "code",
   "execution_count": null,
   "id": "181bf6e8",
   "metadata": {},
   "outputs": [],
   "source": []
  }
 ],
 "metadata": {
  "kernelspec": {
   "display_name": "langchain_venv",
   "language": "python",
   "name": "python3"
  },
  "language_info": {
   "codemirror_mode": {
    "name": "ipython",
    "version": 3
   },
   "file_extension": ".py",
   "mimetype": "text/x-python",
   "name": "python",
   "nbconvert_exporter": "python",
   "pygments_lexer": "ipython3",
   "version": "3.10.12"
  }
 },
 "nbformat": 4,
 "nbformat_minor": 5
}
