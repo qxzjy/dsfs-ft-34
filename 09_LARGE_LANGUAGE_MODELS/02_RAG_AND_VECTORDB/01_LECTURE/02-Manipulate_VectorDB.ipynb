{
 "cells": [
  {
   "cell_type": "markdown",
   "metadata": {},
   "source": [
    "# Manipulate Vector Databases\n",
    "\n",
    "## What you will learn in this course 🧐🧐\n",
    "\n",
    "When you want to perform RAG, the hardest part is not actually to have a LLM query your VectorDB. It is rather to populate your VectorDB the right way. In this course, you will learn:\n",
    "\n",
    "* How to create a VectorDB \n",
    "* How to populate a VectorDB \n",
    "* How to query a VectorDB "
   ]
  },
  {
   "cell_type": "markdown",
   "metadata": {
    "vscode": {
     "languageId": "plaintext"
    }
   },
   "source": [
    "## Create a VectorDB\n",
    "\n",
    "\n",
    "Let's first start by creating a Vector Database. There are a number of VectorDB you can choose but as of today, we definitely recommend [Weaviate](https://weaviate.io/). It provides a free cluster and is one of the most mature product as of today. \n",
    "\n",
    "To create your VectorDB:\n",
    "\n",
    "* Create an account on Weaviate \n",
    "* Then create a *Sandbox* Cluster \n",
    "* Select the right region and you're good to go 🏎️💨\n",
    "\n",
    "<Video video=\"https://vimeo.com/1022125822\" />\n"
   ]
  },
  {
   "cell_type": "markdown",
   "metadata": {
    "vscode": {
     "languageId": "plaintext"
    }
   },
   "source": [
    "## Demo Setup \n",
    "\n",
    "Now let's again prepare our notebook for the demo to run. As per usual, we definitely advise you to run everything within a container. However, it will be very useful this time to have a local volume to work with.\n",
    "\n",
    "Here is the command you should run:\n",
    "\n",
    "```bash \n",
    "docker run -v $(pwd):/home/jovyan -p 8888:8888 jupyter/datascience-notebook\n",
    "```\n",
    "\n",
    "Then make sure you have a below packages installed:"
   ]
  },
  {
   "cell_type": "code",
   "execution_count": 1,
   "metadata": {},
   "outputs": [
    {
     "name": "stdout",
     "output_type": "stream",
     "text": [
      "Note: you may need to restart the kernel to use updated packages.\n",
      "Note: you may need to restart the kernel to use updated packages.\n",
      "Note: you may need to restart the kernel to use updated packages.\n",
      "Note: you may need to restart the kernel to use updated packages.\n",
      "Note: you may need to restart the kernel to use updated packages.\n",
      "Requirement already satisfied: transformers in /opt/anaconda3/envs/llm_env/lib/python3.12/site-packages (4.51.3)\n",
      "Requirement already satisfied: filelock in /opt/anaconda3/envs/llm_env/lib/python3.12/site-packages (from transformers) (3.18.0)\n",
      "Requirement already satisfied: huggingface-hub<1.0,>=0.30.0 in /opt/anaconda3/envs/llm_env/lib/python3.12/site-packages (from transformers) (0.31.2)\n",
      "Requirement already satisfied: numpy>=1.17 in /opt/anaconda3/envs/llm_env/lib/python3.12/site-packages (from transformers) (1.26.4)\n",
      "Requirement already satisfied: packaging>=20.0 in /opt/anaconda3/envs/llm_env/lib/python3.12/site-packages (from transformers) (24.2)\n",
      "Requirement already satisfied: pyyaml>=5.1 in /opt/anaconda3/envs/llm_env/lib/python3.12/site-packages (from transformers) (6.0.2)\n",
      "Requirement already satisfied: regex!=2019.12.17 in /opt/anaconda3/envs/llm_env/lib/python3.12/site-packages (from transformers) (2024.11.6)\n",
      "Requirement already satisfied: requests in /opt/anaconda3/envs/llm_env/lib/python3.12/site-packages (from transformers) (2.32.3)\n",
      "Requirement already satisfied: tokenizers<0.22,>=0.21 in /opt/anaconda3/envs/llm_env/lib/python3.12/site-packages (from transformers) (0.21.1)\n",
      "Requirement already satisfied: safetensors>=0.4.3 in /opt/anaconda3/envs/llm_env/lib/python3.12/site-packages (from transformers) (0.5.3)\n",
      "Requirement already satisfied: tqdm>=4.27 in /opt/anaconda3/envs/llm_env/lib/python3.12/site-packages (from transformers) (4.67.1)\n",
      "Requirement already satisfied: fsspec>=2023.5.0 in /opt/anaconda3/envs/llm_env/lib/python3.12/site-packages (from huggingface-hub<1.0,>=0.30.0->transformers) (2025.3.2)\n",
      "Requirement already satisfied: typing-extensions>=3.7.4.3 in /opt/anaconda3/envs/llm_env/lib/python3.12/site-packages (from huggingface-hub<1.0,>=0.30.0->transformers) (4.13.2)\n",
      "Requirement already satisfied: charset-normalizer<4,>=2 in /opt/anaconda3/envs/llm_env/lib/python3.12/site-packages (from requests->transformers) (3.4.2)\n",
      "Requirement already satisfied: idna<4,>=2.5 in /opt/anaconda3/envs/llm_env/lib/python3.12/site-packages (from requests->transformers) (3.10)\n",
      "Requirement already satisfied: urllib3<3,>=1.21.1 in /opt/anaconda3/envs/llm_env/lib/python3.12/site-packages (from requests->transformers) (1.26.20)\n",
      "Requirement already satisfied: certifi>=2017.4.17 in /opt/anaconda3/envs/llm_env/lib/python3.12/site-packages (from requests->transformers) (2025.4.26)\n",
      "Note: you may need to restart the kernel to use updated packages.\n"
     ]
    }
   ],
   "source": [
    "# install package\n",
    "%pip install -Uqq langchain-weaviate\n",
    "%pip install langchain langchain_mistralai -q\n",
    "%pip install -qU langchain-community beautifulsoup4\n",
    "%pip install -qU weaviate-client\n",
    "%pip install sentence-transformers -q \n",
    "%pip install transformers"
   ]
  },
  {
   "cell_type": "markdown",
   "metadata": {},
   "source": [
    "Alright now we are ready to roll! 🤘 \n",
    "\n",
    "\n",
    "## Load documents \n",
    "\n",
    "Now the first thing we need to do is obviously to load some kind of documents to populate our database. The way it works is that:\n",
    "\n",
    "1. You need to load your document (a CSV file, A Google Drive document, a PowerPoint...)\n",
    "2. You extract the text contained in that document and create chunks of that text \n",
    "3. You convert these chunks of text into Embeddings and store them into your VectorDB \n",
    "\n",
    "Let's tackle the first step 💪\n",
    "\n",
    "### Choose a Document Loader \n",
    "\n",
    "One of the neat features of Langchain is its large integrations with lots of tools. Depending on your need, you can choose any type of Document Loader you need. \n",
    "\n",
    "For this example, let's use `RecursiveUrlLoader` that lets you recursively scrape all child links from a root URL and parse them into Documents. Let's say we want to know everything about Jedha. We could read everything about it on [Wookipeedia](https://starwars.fandom.com/wiki/Main_Page)"
   ]
  },
  {
   "cell_type": "code",
   "execution_count": 1,
   "metadata": {},
   "outputs": [
    {
     "data": {
      "text/plain": [
       "[Document(metadata={'source': 'https://starwars.fandom.com/wiki/Jedha', 'content_type': 'text/html; charset=UTF-8', 'title': 'Jedha | Wookieepedia | Fandom', 'description': \"Jedha, also known as the Pilgrim Moon, the Cold Moon, or the Kyber Heart, and formerly known as NiJedha, was a small desert moon which orbited the planet NaJedha. Located in the Jedha system of the galaxy's Mid Rim, the moon had a cold climate due to its lasting winter. The historical and...\", 'language': 'en'}, page_content='Jedha | Wookieepedia | Fandom\\nWookieepedia\\nTo remove ads, create an account.Join Wookieepedia today!\\n\\nREAD MORE\\n\\n\\nContent approaching.\\n\\nTales of Enlightenment: New Prospects, The High Republic: Convergence, Tales of Enlightenment: A Different Perspective, The High Republic Adventures (2022) 4, Peace and Unity, Star Wars: The High Republic (Marvel Comics 2022), The High Republic: The Battle of Jedha, The High Republic Adventures (2022) 5, The High Republic Adventures (2022) 6, The High Republic Adventures (2022) 7, The High Republic: Path of Vengeance, The High Republic: Cataclysm, The High Republic: Quest for Planet X, Tales of Villainy: The Gaze Electric, Reign of the Empire: The Mask of Fear, Star Wars Jedi: Survivor, Guardians of the Whills, Shu-Torun Lives, Star Wars Book IX: The Ashes of Jedha, The Veteran, Alphabet Squadron, Galaxy\\'s Edge 3, Dawn of Rebellion, Star Wars: Rogue One: The Ultimate Visual Guide, Star Wars: The High Republic: Chronicles of the Jedi, Unlock!: Star Wars Escape Game, Star Wars: The Rise and Fall of the Galactic Empire\\n\\nPlease update the article to include missing information, and remove this template when finished.\\n\\n\\n\\n\\n\\n\\n\\n\\n\\t\\t\\t\\t\\t\\t\\tFractured\\n\\t\\t\\t\\t\\t\\t\\t\\n\\t\\t\\t\\t\\t\\t\\n\\n\\n\\n\\t\\t\\t\\t\\t\\t\\tIntact\\n\\t\\t\\t\\t\\t\\t\\t\\n\\t\\t\\t\\t\\t\\t\\n\\n\\n\\n\\n\\n\\n\\n\\n\\n\\n\\n\\n\\n\\n\\n\\n\\n\\nJedha\\n\\n\\nAstrographical information\\n\\nRegion\\nMid Rim Territories[1]\\n\\n\\nSector\\nTerrabe sector,[2] Freestanding subsectors[3]\\n\\n\\nSystem\\nJedha system[3]\\n\\n\\nOrbited body\\nNaJedha[1]\\n\\n\\nGrid square\\nH-10[4]\\n\\n\\nTrade routes\\nBurke\\'s Trailing[5]\\n\\n\\nRotation period\\n23 hours[6]\\n\\n\\nOrbital period\\n420 days[6]\\n\\n\\n\\nPhysical information\\n\\nDiameter\\n11,263 kilometers[1]\\n\\n\\nAtmosphere\\nBreathable[7]\\n\\n\\nClimate\\nCold[8]\\n\\n\\nTerrain\\nDeserts[9]Mesas[3]Rocky dustbowls[10]Ruptured mantle[11]Magma seas[11]\\n\\n\\nPoints of interest\\nThe Archive[12]Catacombs of Cadera[1]Desiccated tablelands[1]Dome of Deliverance[1]Kyber mines[7]Kyber Mirrors[13]Narkis Highlands[12]Pilgrim\\'s Sanctuary[12]Second Spire[13]Temple of Central Isopter[14]Temple of the Kyber[3]Three Faces[15]\\n\\n\\nFauna\\nBirds[7]Dune scratcher[16]Fantailed Laa[12]Hardshell[12]Jedha Glider[12]Lizards[7]Sand slug[14]Skriton[12]Golden Skriton[12]Snakefish[12]Spamel[7]Sutaban[12]Sutaban Alpha[12]Versimillipede[7]\\n\\n\\n\\nSocietal information\\n\\nOther species\\nAnomid[1]Human[1]Lorrdian[1]Vobati[1]\\n\\n\\nPopulation\\n11.3 million[1] (85% human, 15% other)[6]\\n\\n\\nDemonym\\nJedhan[9]\\n\\n\\nMajor cities\\nAi-jed[17]Jedha City[3]\\n\\n\\nMajor imports\\nFoodstuffs, water, medicine, pilgrims[6]\\n\\n\\nMajor exports\\nKyber crystals[3]\\n\\n\\nAffiliation\\nJedi Order[8]Galactic Republic[13]Galactic Empire[8]\\n\\n\\n[Source]\\n\\n\\nJedha, also known as the Pilgrim Moon, the Cold Moon, or the Kyber Heart, and formerly known as NiJedha, was a small desert moon which orbited the planet NaJedha. Located in the Jedha system of the galaxy\\'s Mid Rim, the moon had a cold climate due to its lasting winter. The historical and spiritual significance of Jedha led the moon to become a world of worship for those who believed in the Force, and a holy site for pilgrims who sought spiritual guidance.\\n\\nSometime before the Battle of Yavin, the Galactic Empire occupied the moon to control its kyber crystal resources that were once used by the Jedi Order as components for their lightsabers. The occupation later provoked an insurgency to oppose the Imperial tyranny, coordinated by the rebel extremist Saw Gerrera. Jedha\\'s heritage and Gerrera\\'s resistance—the aptly named Partisans—led to it being chosen in 1 BBY for a test of the Death Star\\'s superlaser, a superweapon capable of destroying entire planets. Though Director Orson Krennic had planned to destroy the moon, Grand Moff Wilhuff Tarkin overrode him, stating that the destruction of the Holy City would serve as a sufficient test.\\n\\nJedha was a moon located in orbit around the planet NaJedha,[1] situated in the Jedha system[3] of the galaxy\\'s Mid Rim, due galactic west of the Deep Core. 11,263 kilometers in diameter, Jedha was a small desert moon[1] defined by its jagged rock formations, broad mesas, narrow spires,[19] and rocky dustbowls.[10] Significantly, the moon was a Vergence in the Force, meaning that it was a location where the Force was more sharply focused.[20] Frosted by a permanent winter, Jedha had a cold climate,[8] especially during its nights.[21] It had an atmosphere breathable to oxygen-breathers, such as humans.[7] Within the moon\\'s sandstone crust were rich deposits of kyber crystals[3]—Force-attuned crystals that were fundamental in lightsaber construction.[22] Many settlements on the moon, such as the ancient Holy City, sat atop the world\\'s natural mesas.[3]\\n\\nJedha\\'s ancient structures were some of the earliest examples of architecture known to exist in the galaxy. The weathered sandstone structures and statues dotted Jedha\\'s landscape, a testament to its ancient past. Being an antiquated destination, Jedha was surrounded by uncharted systems, making it a reliable replenishment port for travelers.[1] Jedha was connected to Adrathorpe and the planet Ord Mantell via the Burke\\'s Trailing hyperspace route.[5] Much of Jedha\\'s past had been swallowed by the desert, including the Ruins of Ranvell, once a thriving trade city for pilgrims.[12]\\n\\nThe sutaban were an aggressive species of Jedha.\\nThe world of Jedha had many different lifeforms in its deserts. The humble hardshells survived by protecting themselves in their shell. The aggressive sutaban stalked through ruins, looking for prey amidst ancient cities. The mighty skriton stalked beneath the sands, ambushing anything that ventured into its range. There were also some aquatic life such as the snakefish, despite the very limited amount of water on the planet.[12]\\n\\nThe cold deserts were often subject to extreme weather events. The most common of these was the sandstorm, which was deadly to anything caught in its path. Loose desert sand would be whipped up into a massive wind that could be so potent as to shred through metal on a starship.[12] Though Jedha\\'s sands remained parched for much of its year, there were instances of powerful torrents of rainfall, a cause for celebration among the people of Jedha.[19]\\n\\nFallen ruins of a statue depicting a Jedi\\nThe ancient world of Jedha was home to one of the first civilizations to explore the nature of the Force and considered a spiritual home of the Jedi Order, with many scholars believing the moon owes its name to the ancient religion.[1] Some scholars made a case for Jedha as the location of the Jedi Order\\'s first Temple, alongside other candidate worlds, such as Ahch-To, Coruscant, Ossus, and Tython.[23] As well as the Jedi, the Disciples and Guardians of the Whills represented a dominant faith on Jedha.[1] They, along with the Church of the Force,[3] were centered at the Temple of the Kyber, a great temple located in the city of NiJedha. This spiritual history led to Jedha becoming an important location for pilgrims of various faiths, including those of the Brotherhood of the Beatific Countenance, the Clan of the Toribota, and the Central Isopter.[1]\\n\\nAs more of the galaxy was mapped, more direct hyperspace routes were discovered. These new passages made the old, winding routes, such as those connecting with Jedha, obsolete. The once-popular Jedha became an antiquated curiosity rather than a relevant destination, a location for those who desired spiritual guidance, a deeper purpose, or to simply exile themselves from the larger galaxy.[1] It was one of the locations mentioned in a chapter of the Rammahgon, an ancient Jedi text written by the Jedi Kli the Elder, alongside Ossus and Xenxiar as places where the \\'seeds\\' of the Jedi had been sown, which Kli contrasted to the places that the Sith had laid waste to.[24]\\n\\nAt some point before 5000 BBY,[25] by the other side of the Division Wall on the borders of Old City, New City section of the Jedha City was built.[15] The Holy City of Jedha was once governed, or in the opinions of some \"ruled,\" by the Jedi Order[26] until other Force faiths finally objected, believing that the Jedi were overreaching and trying to position themselves as the one true religion. In response to the resentment, the Jedi withdrew and became just one of many religious who were present on Jedha.[27]\\n\\nAt the time of the High Republic Era, Jedha had not been a Jedi stronghold for sometime, rendering the Jedi simply one of the many groups who held the planet sacred.[28] While the Order\\'s past control over the city did result in some anti-Jedi sentiment amongst the populace,[26] most Force groups and Force-sensitives active on Jedha in the High Republic Era were ambivalent towards the Order, with some even welcoming any Jedi on Jedha in the post-stronghold era. There were sects and Forcer users who hated the Jedi,[28] with some people on Jedha spitting at a Jedi on sight, but such anti-Jedi sentiment was manageable for Jedi on Jedha.[26]\\n\\nA transport full of pilgrims flies over Jedha\\'s Holy City during the High Republic Era.\\nDuring the early High Republic Era, many different Force religions were present on Jedha and it was a pilgrimage site for spiritual people across the galaxy.[26] At that time, Jedha became home to the Convocation of the Force,[29] which was formed around 382 BBY[30] as an advisory body that promoted cooperation and understanding between the many different religions. The Disciples of the Whills, the Fallanassi, the Lonto, the Matukai, the Jedi Order, the Guardians of the Whills, the Church of the Force, and the Sorcerers of Tund all had a presence on Jedha at this time and had a representative in the Convocation.[29]\\n\\nJedha had many sacred places, historical sites, many artifacts stored throughout the moon\\'s enclaves.[26] A museum was present on Jedha at this time, which featured many artifacts including the Rod of Daybreak and was guarded and watched over by the Jedi.[31] The kyber mirrors underneath the Dome of Deliverance were another popular reason to make the journey to the moon, with Jedi Master Silandra Sho wishing to do so to observe the Season of Light, and her Padawan Rooper Nitani was incredibly excited by the idea and wanted to visit too as she had read about the moon in the Jedi Archives on Coruscant. Eventually, Sho made the pilgrimage, but Nitani decided not to join her.[32] The Enlightenment bar was a popular meeting place on the moon, but was home to some of its seedier activity.[33]\\n\\nIn 382 BBY,[34] an Evereni member of the Path of the Open Hand cult named Marda Ro wished for the religion to have its own presence on Jedha, and wanted to be the one to go to the Convocation and spread their message. The Path believed that no one should use or manipulate the Force because they thought it would have dire consequences. Ro had heard about Jedha and knew it was home to priests, wanderers, witches, and Jedi. She discussed Jedha with Jedi Padawan Kevmo Zink, who had always wanted to visit Jedha. His friend Jedi Azlin Rell also frequented the outpost on the moon and even went to return to it after completing a mission with Zink on Tiikae, though he was called away from doing so. Zink told Ro many stories about Jedha, and she especially liked hearing about the Guardians of the Whills, as a Guardian had founded the Path. Marda Ro decided that the Path and their perspective of freedom for the Force needed to be present in a place where the conversations were happening between Force philosophies about the Force\\'s role in the galaxy. Ro also decided that she would represent the Path in the Convocation.[31]\\n\\nAfter Zink told her that the Convocation and its groups also took in pilgrims, she decided that her cousin, Yana Ro, should come with her. Ro and Zink playfully dreamed together about meeting on Jedha one day after she moved there, with Ro even briefly considering going to Port Haileap with Zink and then going to Jedha from there, as such a trip was possible. However, when Ro presented her idea to represent the Path on Jedha, the Council of Elders and Path leader Elecia Zeveron, who the Path called \\'The Mother\\', rejected the idea, explaining that Jedha would be a distraction from the Path. One Council member was also concerned that two Evereni, a species which had a notorious reputation in the galaxy, would stand out in a place like Jedha. Even though another Path leader called \"The Herald\" expressed that he thought it was a good idea, and Ro insisted that she could guide the Path on Jedha despite distractions and noise, The Mother told her that they didn\\'t want any Path presence on Jedha, and her decision was final.[31]\\n\\nIn truth, the Mother already had agents all throughout Jedha, where a small network of her agents—whom Yana would later judge as nothing more than ne\\'er-do-wells and petty thieves—were carrying out heists from temples and shrines. The string of robberies occurred over the course of weeks[27] and months.[35] Those stolen artifacts would then be sold on the black market to fund Path operations. Over that time, she was working Jedha City to her own ends, which Yana later suspected was the reason she denied Marda\\'s request. The Path operation on Jedha was helped along by a corrupt official, archivist Feric Oranalli.[27]\\n\\nMembers of the Convocation of the Force both antagonize and protect a Yacombe envoy.\\nHowever, Ro would get her wish when the Path left their home of Dalna and started trying to expand its reach across the galaxy, which included making a presence on Jedha. This decision was sparked when Path member Radicaz \"Sunshine\" Dobbs told her that the Rod of Daybreak in the museum on Jedha was locked in a vault and protected by the Jedi, which he had researched for her. He also planned to correspond with someone about a potential lost cousin of The Mother on Jedha, which she had him research. The Mother wanted the Rod for herself, so she told Dobbs to go to Jedha and prepare for their arrival by telling everyone there about the Path of the Open Hand.[31] Dobbs then traveled to Jedha and went to meet with the Convocation of the Force on behalf of the cult. At the same time, a member of the Yacombe group was attempting to apply for membership in the Convocation, but was antagonized by representatives of the Fallanassi and the Matukai who believed that the Yacombe were a dark side organization. After Jedi Oliviah Zeveron assuaged the conflict, the Yacombe envoy decided that they no longer wanted to apply, as they had come seeking peace and unity and found none.[29]\\n\\nIn the same year, the Convocation of the Force began planning the Festival of Balance that was expected to bring a massive influx of tourists, and therefore business, to Jedha. Keth Cerepath worked as a adjunct in the Temple of the Kyber during the High Republic Era, and longed for the seemingly-never changing days of Jedha to have some kind of shake-up to give him a good bar story, and therefore welcomed the Festival.[21] At the same time, however, artifacts started to go missing from various sacred places on Jedha[33] as the robberies carried out in secret by Path agents[27] began. Vigilante and thief Tey Sirrek noticed this and arranged a meeting in the Shrine of Sarrav with a Sarravi woman named V\\'Kara who had information about the robberies, but was also not listened to by the groups she went to with her information. Before the meeting, he came across an individual named Ran Yaltan who was pretending to be a member of the Truthsayers of Bpfassh and putting on a show for a crowd in the streets of Jedha City.[33]\\n\\nSirrek tried to calm a heckling individual who claimed to be a real Truthsayer by telling them that they shouldn\\'t be unpleasant right before the Festival of Balance, but the individual believed that the Convocation didn\\'t have a right to force their celebration upon them. Then Jedi Padawan Matthea Cathley, who was stationed on Jedha alongside Zeveron, inserted herself into the conversation, giving Sirrek the opportunity to steal an object from the annoyed individual. However, Jedi Master Vildar Mac, who was with Cathley, spotted Sirrek steal and chased after him, but Sirrek managed to elude the Jedi. Mac had just arrived on Jedha hoping to find himself and make change in his life, and Cathley was introducing him to the moon and showing him around. Sirrek then went to the Shrine of Sarrav to meet with V\\'Kara, but discovered her dead on the shrine\\'s floor.[33]\\n\\nThe Jedi eventually were able to speak with Sirrek in Enlightenment, and he explained the missing objects across the moon and everything that was going on. But after discovering a kyber starbird illegally on sale, an artifact from the Temple of Kyber, Sirrek realized something much bigger was happening on Jedha and headed with the Jedi to speak with the Guardians of the Whills in the Temple. However, before they could speak peacefully, Sirrek and the two Jedi were confronted in force by the Guardians.[33]\\n\\nLater, the Jedi foiled a plot to escalate the war between Eiram and E\\'ronoh, and thus traveled to Jedha with delegations from both planets to formally end the \"Forever War\" by signing of a peace treaty.[18] Two ambassadors were sent to sign the treaty in an old temple called the Second Spire, the ceremony overseen by Jedi Master Creighton Sun and Knight Aida Forte as well as guarded by the Guardians of the Whills, but mediated by Morton San Tekka instead of a Republic official so that the Republic did not appear to be interfering too much with a summit that was already occurring on a Republic world. However both delegations arrived with military transports and ships, which worried Sun, thinking it might send a message to the people of Jedha that they had brought the war there. The ceremony was held, but was bombed by a droid, leaving San Tekka and many others dead. Many local sects on Jedha mobilized to help the injured and the ambassadors were escorted offworld.[13]\\n\\nThe Temple of the Kyber is bombed.\\nWorried that it might jeopardize the peace process, but not wanting to investigate himself because he was too tied to the process, Master Sun enlisted Jedi Master Silandra Sho, his friend who was visiting Jedha for the Season of Light, to investigate the bombing in the hopes of proving that neither side committed the bombing. She first visited Keth Cerepath in the Church of the Force\\'s sector of the Temple of the Kyber because his droid had gone missing before the bombing, but after Cerepath proved that his droid had returned, Sho had him join her investigation since he had intimate knowledge of Jedha and its sects. They met with survivors of the explosion who the Path of the Open Hand had been tending to, but discovered that they all saw the droid meeting with a different person from different factions before the bombing. Soon after, as the Ambassadors were starting to be escorted back to the Spire, Ambassador Cerox\\'s quarters and Ambassador Tintak\\'s shuttle were both bombed, though both ambassadors survived due to the actions of Sun and Forte.[13]\\n\\nMeanwhile, the Guardians of the Whills attempted to bring Tey Sirrek into custody, Sirrek secretly being a former Guardian who had become a thief. He managed to escape, but the Guardians agreed to bring Vildar Mac and Matthea Cathley inside the Temple of the Kyber to speak. The two Jedi spoke to archivists and Guardians about the missing artifacts, but they did not believe them until they went to the place the starbird had been stored and discovered it was missing. Sirrek then attempted to re-enter the temple to continue investigating, but discovered a bomb that promptly exploded the temple, killing one of the archivists and leaving Mac severely injured.[36]\\n\\nWhen Yana Ro arrived on Jedha with the greater Path of the Open Hand faith, she took note of how the Convocation was always trying to establish harmony, but she noticed their planned Festival of Balance only deepened the division amongst the world\\'s peoples. Indeed, she took note of the simmering tension, which could be seen in arguments in the streets between different religions.[27] The Convocation of the Force met after the bombing of the Temple of the Kyber and decided to blame it on a gas explosion rather than reveal to the public that was a bombing to prevent a panic. They spoke of this just as the Herald of the Path of the Open Hand arrived to petition the Convocation for the Path to have membership. However, he ultimately petitioned for them to ban use of the Force and claimed that using it hurt the Force and caused destruction. The Convocation recognized his claims as unreasonable and unfounded and refused to agree to them. The rejection angered the Herald and he stormed out of the chambers, into the city\\'s central square.[37]\\n\\nMeanwhile, Master Sho attempted to stop a masked attacker on a speeder that endangered many of the people of Jedha and caused a stir amongst them, as well as seemingly trying to kill her. She eventually lost him, and found herself in the central Square of the Supplicants, where the Herald was now standing in front of the Convocation Chambers and giving a speech.[13] Jedi Mac, Cathley, and Zeveron were already there in the crowd and witnessed the Herald begin to speak. The Herald spouted inflammatory rhetoric about the Jedi and the Convocation, revealing that the cover story about the bombing at the Temple of the Kyber had been a lie and suggesting that both groups were lying to them in other ways and causing them hardship.[37] Trying to turn the people into a mob, the Herald\\'s words drew on the distrust the faiths of Jedha held towards each other and the Convocation.[27]\\n\\nAs the Herald was taken into custody by the Guardians of the Whills, the crowd responded in anger. Yana Ro, working with the Herald, then released the Leveler, the Path\\'s living weapon against Force-sensitives,[37] into the crowd. With the Force users unable to tell what was real or an illusion as fear suddenly took hold of their beings,[27] the hallucinatory and mood-altering effects of the creature on Force-sensitives compounded the tension[37] as the confused and terrified Force-sensitives unleashed their powers into the crowd, pushing the crowd to respond in fear and begin a full on riot.[27] For example, Tarna Miak, a Convocation member and Sorcerer of Tund who had arrived to have the Herald taken away, was greatly affected and began using his power to shoot fire into the crowd. He was eventually talked down by Master Mac, but then Master Leebon appeared, being attacked by the Lonto representative in the Convocation Susalee. She insisted that she could take care of things there and told Mac, Cathley, and Zeveron to leave and figure out what was happening.[37] Silandra searched the crowd for the source of the uproar and came face to face with the Leveler, but was saved from death by Cerepath\\'s droid P3-7A, who pulled her to safety.[13]\\n\\nThe riots soon engulfed the entire city[13] as the end result of the religious tension, including the anti-Jedi sentiment at their past rule over the city, that had been simmering on Jedha for some time.[27] The riots even reached the Second Spire, where Eiram and E\\'ronoh were meeting again in the hopes of signing the treaty, the signing now being mediated by Tilson Graf. As the riots reached the Spire, an individual on a speeder bike drove it through the window to the meeting chamber and shot and killed E\\'ronoh ambassador Tintak. Blaming the Eiram delegation, after believing the individual on the speeder to have been wearing an Eirami uniform, the E\\'roni attacked them, and the firefight resulting from the Eirami guards returning fire, compounded with the riots, began the Battle of Jedha. Ambassador Cerox withdrew her people from the Holy City and ordered her fleet in orbit to engage the E\\'roni forces in space and on the ground, beginning the battle.[13]\\n\\nCreighton Sun and Aida Forte fight in the Battle of Jedha.\\nThe Jedi and the Guardians of the Whills attempted to take down the forces of both planets as they deployed into the streets of Jedha in order to prevent civilian death. E\\'ronoh deployed weaponized mining loaders that caused much destruction, and Eiram deployed enforcer droids that were ordered to kill anyone in their way.[13] The warring Eiram and E\\'ronoh forces only worsened the bloodshed kicked off by the riots. As armed soldiers, enforcer droids,[27] and mining loaders[13] appeared in the streets, the already scared Jedha citizens clashed with the guards and droids, culminating in the various skirmishes mixing together.[27]\\n\\nMeanwhile, Cerepath and Sho, using P3-7A\\'s records, discovered that the dark side sect known as the Brotherhood of the Ninth Door was behind the bombings. They intended to get this information to Sun or Forte, but were stopped by the battle. Sho decided to take down some of the mining loaders while Cerepath led the citizens of Jedha to the massive and protective Dome of Deliverance so that they could be out of harms way. The Path of the Open Hand also tended to the injured in the central square, while Elder Delwin preached and blamed the Jedi\\'s use of the Force for the violence and peril.[13] The Final Protector Jedi statue was pulled down by protestors during the battle.[27] Using the chaos of the battle as a cover,[35] the Herald, Yana and the Children of the Open Hand attempted to steal the Rod of Daybreak from a secret vault under the fallen statue, but they were stopped by the Jedi.[27]\\n\\nWhen Sho went to the Dome of Deliverance, she was met with three members of the Brotherhood of the Ninth Door. They engaged in combat with her lightsaber and their electrostaffs, one named Mytion dueling Silandra in the Hall of Reflection amongst the Kyber Mirrors after she took down the other two. Mytion revealed that Tilson Graf had been the one to ask the Brothers to conduct the bombings. Unbeknownst to Sho, Graf had been directed to do so by the Mother and the Path of the Open Hand. Mytion was defeated by Cerepath, who sacrificed his own life but saved Silandra\\'s. Much to his joy,[13] Cerepath had thus finally lived the adventure he always wanted. He had also died the way he lived: helping other people.[38]\\n\\nMeanwhile, Jedi reinforcements arrived as the troops of Eiram and E\\'ronoh reached the central square. The Jedi, fearing a massacre, attempted to stop the attackers, even holding back a volley of blasterfire with the Force. Eventually, Sun managed to convince the soldiers themselves to go against their Commanders\\' orders and retreat from the battle, insisting that it was not a battle that should be fought or could be won by either side. Afterward, the Republic organized a withdrawal of the troops from Jedha.[13]\\n\\nJedi Padawan Sav Malagán and the pirate crew of pirate queen Maz Kanata fought together during the engagement, Malagán being undercover within Kanata\\'s pirate gang.[39] The Battle of Jedha was remembered by \"the faithful\" of the Ro family as proof that the Jedi were leading the galaxy towards destruction instead of balance.[40]\\n\\nThe Guardians of the Whills went through the city to restore order after the battle[38] and stepped up to lead the rebuilding effort instead of the Jedi due to the lingering anti-Jedi sentiment seen in the city, the existence of which had just helped create the battle.[27] Chancellors Mollo and Greylark also deployed several platoons of peacekeeping troops to Jedha, where they would help in clearing and rebuilding.[38] Despite the religious tensions that had kicked off the battle, the peoples of Jedha gathered in the main square after it and sang songs of cooperation. An uneasy peace came over Jedha City after the battle, but there was also a sense of rallying together as members of different factions united in the common goal of repairing their home.[27]\\n\\nIn an effort to distance the Path from the Herald, effectively betraying him to cover up[27] her own involvement in their plans,[13] the Mother pledged and delivered the massive sum of one million zukkels to the Convocation in order to help in rebuilding Jedha City. With the aid of the now-chief archivist Oranalli, Yana was able to break out the Herald from prison and reclaim the Rod of Daybreak, which the Herald used to murder Oranalli.[27] The war between Eiram and E\\'ronoh would come to its end for a second time once the role the Path played in reigniting the conflict came to light, culminating in both worlds helping the Republic and Jedi put down the Path once and for all in the Battle of Dalna.[41] For their part in the damages, Eiram and E\\'ronoh also started the process of delivering reparations to Jedha, an early sum of which had been delivered a few months after the battle.[38]\\n\\nSometime before the Great Hyperspace Disaster, the organization of mauraders called the Nihil planned to perform a run on Jedha, though they changed their plans during the disaster to focus on Trymant IV instead.[42]\\n\\nIn 231 BBY,[43] Jedi Master Stellan Gios planned to take Master Elzar Mann to the kyber mirrors underneath the Dome of deliverance, to begin the journey of helping Mann recover from using the dark side of the Force, though they never had the chance to go.[40] The same year, Maz Kanata and Sav Malagán reflected on how Malagán went undercover in Kanata\\'s crew during the Battle of Jedha as they went through old stuff. They laughed tremendously, especially at remembering Malagán\\'s master\\'s face when he found out about it.[39]\\n\\nImperial forces occupy the Holy Moon\\nSometime after the fall of the Jedi Order and the Galactic Republic, its successor state—the Galactic Empire—occupied Jedha in order to mine its kyber crystal deposits. Under the guise it was for Emperor Palpatine\\'s Energy Program[44], only the most high-ranking officials in the Empire knew the real reason; the kyber crystals were being used as components in the construction of an Imperial superlaser capable of destroying entire planets.[1]\\n\\nThe Imperial occupation included specialized units, due to its urban landscape and importance to the Death Star project. These units were charged with restricting access to the Temple of the Kyber and protecting kyber crystal mining operations. The streets of Jedha were patrolled by stormtroopers, scout troopers with speeder bikes, combat assault tanks, and AT-STs. The scout and tank troopers wore lighter armor for better mobility in the urban environment and were specially trained for reconnaissance and urban warfare.[9]\\n\\nWith the Empire maintaining a policy of anti-Jedi sentiment,[45] the only remnant of their faith on Jedha was its ruins and the non-Jedi who held onto the Order\\'s beliefs.[7] However, many religious institutions still existed on the moon, including the Guardians of the Whills, the Disciples of the Whills, the Brotherhood of the Beatific Countenance, the Central Isopter and the Clan of the Toribota.[1]\\n\\nSith Lord Darth Vader led Imperial forces in an attack in the Jedha desert on remnants of the Jedi.\\nDespite the Empire\\'s presence on the moon, Jedha turned out to be part of an attempt to keep Jedi tradition alive. Former Jedi Cere Junda, a survivor of the Purge that destroyed the Jedi Order, along with her former Jedi Master, Eno Cordova, tried to restore knowledge from the archives that were in the Jedi Temple on Coruscant. The two were also connected to a network known as the Hidden Path, which aimed to help Force-sensitive beings who were persecuted by the Empire. Clashes with the Imperials on the moon were virtually inevitable. A friend and ally of Junda, the Nightsister Merrin, who visited Junda from time to time, assisted in these confrontations with great efficiency, so much so that the Imperials on the moon began to call her the desert ghost.[12]\\n\\nWhen Jedi Knight Cal Kestis, another survivor of the Purge and a friend of Junda\\'s, appeared to ask for help, new hope dawned. Kestis had learned of the existence of a long-lost world, Tanalorr, a planet very difficult to reach. Although Junda\\'s archives didn\\'t have much useful information, Kestis and his ally Bode Akuna managed to obtain a compass that could guide them along the perilous path to Tanalorr. With Tanalorr beyond the Empire\\'s reach, the planet could be the perfect refuge for all those pursued by it, which allowed Kestis to convince Junda to transfer the location of the archive. However, this was not possible. Akuna revealed himself to be a Imperial Security Bureau spy and a Jedi who had survived the Purge. Akuna worked secretly for the Imperial Lank Denvik, who would keep him hidden from the rest of the Empire, especially the Inquisitorius, as long as Akuna continued to be useful. Tanalorr\\'s discovery caused Akuna to steal the compass so that he and his daughter could live away from the Empire forever, which he thought might not happen, as Kestis\\' intention to bring so many Imperial targets there could lead to the discovery of the way into the world by the Empire.[12]\\n\\nJunda faced Darth Vader for the last time in her archive on Jedha.\\nAkuna handed over the location of the archive on Jedha to the Empire, which led to an attack led by Darth Vader, resulting in the destruction of the archive and Junda\\'s death at the hands of the Sith Lord, although Vader was considerably injured by Junda. Akuna took advantage of the attack to escape the base with the compass shortly after assassinating Cordova. Despite Kestis\\' effort to stop his escape, which included chasing Bode across the desert amidst advancing Imperial forces, Akuna escaped and left the moon. Kestis was knocked unconscious due to the confrontation with Akuna, which prevented him from helping his allies against the Empire. Though most of the archive\\'s knowledge was lost, a small portion was maintained with Kestis and the rest of Mantis crew, in addition to the Hidden Path\\'s contact codes. Kestis would bring justice to Junda and Cordova by killing Akuna on Tanalorr and recovering the compass, as well as welcoming Kata Akuna, Bode\\'s now-alone daughter, into his crew.[12]\\n\\nOne of the Cavern Angels X-wings flies into a cave on Jedha.\\nThe Imperial occupation did not go unopposed. Under the coordination of Onderonian rebel extremist Saw Gerrera and his Partisans, an insurgency was waged, targeting the Empire\\'s kyber shipments. The increasing violence prompted the Empire to place[7] the Dauntless, an Imperial I-class Star Destroyer,[1] directly over the Holy City[7] at the suggestion of Imperial Intelligence. Imperial Intelligence believed the presence of a single Star Destroyer would shut down the insurgency,[46] but Gerrera\\'s campaign carried on anyway.[7]\\n\\nOutside of Jedha City, a hidden nomadic market where contraband goods could be sold popped up in the desert at some point and became successful. It was protected by a mercenary. During that time, amid Gerrera\\'s insurgency, an Imperial spy was dispatched on a mission on Jedha with the aim of securing a shipment of kyber crystals without coming to the attention of the Partisans. While Gerrera escaped Imperial custody, the mission ended with the recovery of kyber shipment.[47]\\n\\nIn 1 BBY,[48] an Imperial defector by the name of Bodhi Rook was captured by Gerrera\\'s rebels, claiming he had a message from Galen Erso, an Imperial scientist whose research helped create the Empire\\'s superweapon. Tasked with retrieving this message, Rebel Alliance soldiers Cassian Andor and Jyn Erso, the daughter of Galen, undertook a mission to Jedha to meet with Gerrera and retrieve the former Imperial pilot\\'s message.[7]\\n\\nMaking their way through Jedha City, the pair became involved in a firefight between Imperial and insurrectionist forces but managed to escape. Minutes later, they were captured by Gerrera\\'s insurgents[7] and spent the night trekking through the desert outside the city before reaching a weathered monastery known as the Catacombs of Cadera.[19] At the same time, all Imperial forces on Jedha were ordered to evacuate immediately. Unknown to them, the Empire\\'s colossal, superlaser-equipped battle station, the Death Star, was moving into position above the moon. Though the Death Star project\\'s director, Orson Krennic, intended to destroy the entire moon, Grand Moff Wilhuff Tarkin ordered only the Holy City be destroyed using a single-reactor ignition blast from the station\\'s superlaser. After a short exchange, Gerrera revealed to Jyn the holographic message of her father.[7]\\n\\nThe ejected debris from Jedha City\\'s destruction\\nAs she watched, the Death Star moved into position over NiJedha, eclipsing the sun before firing its emerald beam and completely obliterating the city. The immense explosion caused the surrounding land to crumble, sending swaths of rubble into the air and allowing some to reach escape velocity. Before the blast could reach the Catacombs of Cadera, however, Andor, Jyn and Rook, along with two Guardians of the Whills named Chirrut Îmwe and Baze Malbus, managed to escape into hyperspace aboard a U-wing starfighter and relay the event to Alliance High Command.[7]\\n\\nTo prevent word getting out about the nature of the Holy City\\'s destruction, the Imperial Senate on Coruscant was informed that the explosion was due to a mining disaster. During the Battle of Scarif, Jedha was used as a battle cry by several Rebel soldiers.[7]\\n\\nQueen Trios looks down upon the remains of Jedha.\\nFollowing the Battle of Yavin, several of the partisans under Benthic continued to fight the Empire on what remained of Jedha. Conditions on the moon were horrible after the Empire fired on it, causing there to be a thick layer of dusty atmosphere, lava on the surface, and rocks raining from the sky.[11] In 1 ABY,[48] the Galactic Empire returned to Jedha to attempt to retrieve the remaining kyber crystals that survived the Death Star\\'s attack. Commander Befa was in charge of the effort to harvest the remaining kyber crystals from the surface. Befa, however, was unable to deliver a single shipment of kyber crystals and the Empire sent Queen Trios of Shu-Torun and Commander Kanchar to retrieve the remaining kyber crystals.[11]\\n\\nAt the same time, Rebel leaders Princess Leia Organa, Luke Skywalker, Han Solo, R2-D2, and C-3PO traveled to Jedha to make contact with the surviving partisans and to convince them to rejoin the Alliance.[11] They rescued partisan leader Ubin Des and religious pilgrim Chulco Gi from a firefight in a sandstorm with Imperial troops and evacuated them from NaJedha. Gi was a member of the Brotherhood of the Beatific Countenance, and aspired to join the Disicples of the Whills, so he had therefore traveled to Jedha to mediate for a month in the sacred temple, which was one of the requirements in order to join the Disciples. However, the sacred temple had been destroyed by the Empire with Jedha City. Gi told Luke that NaJedha was dying due to the the destruction of Jedha and that its seas were rebelling and the Force was sickened there.[11]\\n\\nOrgana had come to an agreement with Des, who agreed to take her to the partisan\\'s base back on Jedha.[11] At the base, Benthic believed that they should kill Organa and her allies, but agreed to listen to her. He then agreed to accept her supplies and spoke with her about re-joining the Alliance.[17]\\n\\nThe Empire\\'s drill citadel on Jedha.\\nMeanwhile, Kanchar issued a new edict: Jedha was now a prohibited system and anyone left there would be a de facto rebel and eliminated. Kanchar, with Trios\\' permission, launched a drill citadel to Jedha\\'s surface. Together, Kanchar and Trios discovered that Gerrera and his partisans had horde of kyber stored at the Catacombs of Cadera that Trios\\'s miners had discovered. Trios prepared the drill citadel and allowed Kanchar to deploy it to Jedha.[17]\\n\\nSkywalker, Gi, and Des traveled to the city Ai-jed, which was still inhabited despite the conditions. Gi explained that the ruined atmosphere meant that it could be used for smuggling runs, but everyone there was incredibly poor and there weren\\'t many resources to extract or gather from the moon, so not many runs were made. When they arrived in the city, they saw that the stormtroopers were incinerating people. Skywalker fought the stormtroopers, killing them all. After, Skywalker and Des regrouped with Benthic and Solo. Together, they saw the drill citadel land and planned to destroy it.[17]\\n\\nThe partisans and the rebels together worked to stop the citadel from damaging Jedha any more. Benthic forced one of the technicians to lower the shields so that the Partisans and the Falcon could attack the citadel. As Des distracted the gunners, Solo and Organa were then able to destroy the citadel. Despite the setback, However, Trios showed him the Leviathan, a Continent-class crawler and promised him that it would peel Jedha\\'s mantle of the remaining kyber crystals.[49]\\n\\nFollowing the attack from the Death Star, pilgrims still came to Jedha, as The Force was still wild on the moon, except only the extremely driven ones made the journey. Primarily, members of the Cult known as the Central Isopter remained on Jedha and they built a temple of the edge of the large crater of the moon which would stand as long as the moon had left. The temple was a place of worship as they believed the destruction of Jedha City had been a blessing. They contemplated the abyss that was left where the Holy City once was from their temple, as the Temple of kyber had been obliterated. Gi had explained this to Skywalker as the two and Des had traveled to the city Ai-jed.[17]\\n\\nThe temple of the Central Isopter at the edge of the blast crater on Jedha.\\nIn the interim after the destruction of the drill citadel, Skywalker came to the Central Isopter\\'s temple on the edge of Jedha\\'s Abyss with Chulco Gi to find answers. The temperature on the edge of Jedha closest to the chasm had a very high temperature, but more severely, the Force felt different there. Gi claimed that it was the desecration of the Force calling lose souls to the heart of darkness left on Jedha. Sand slugs were native to Jedha, and once such creature that was disturbed by the darkness attacked Skywalker and Gi despite it being a herbivore. After Skywalker slew the beast Gi told him that the Force still flowed through him, but Luke claimed that Force that he felt there it was not the Force he knew. However, two Central Isopter cult members arrived and told him that it was the true Force and urged him to join them in the shadow of death.[49]\\n\\nAfter bringing the two to the temple, the cultists said they had nothing to teach him and that \\'it\\' was what would teach him. Skywalker started becoming more and more overwhelmed and warned him that the disturbance in the Force there got stronger as one approached the chasm. Luke became uneasy of their sayings and said he wanted to become a Jedi and not them, but Chulco told him that it was a path that could lead them where they need to be. The temple overlooked the void where the Temple of the kyber once was, and Luke stared down into the void, which they called the Abyss, but thought it was all madness. Chulco then attacked Luke and he activated his lightsaber and killed Chulco. Chulco\\'s last words exclaimed that the Abyss made him go mad. Luke then left the cult at the temple and went to help his friends.[50]\\n\\nAt the same time, Trios and Kanchar deployed the Leviathan which began to mine up and destroy Jedha\\'s surface. After the rebels had a failed attempt to stop it,[50] Chewbacca was able to recover the plans for the vessel, which allowed the rebels to feel confident enough to pull of another attack and stop the ship. The rebels managed to commandeer the vessel,[52] and put it on a trajectory to crash into Jedha and be destroyed. Eventually, the Partisans and rebels were able to work together again and destroyed the Leviathan, causing it to crash into Jedha\\'s surface. Organa also made an alliance with Queen Trios,[51] as unbeknownst to Kanchar she had been using their mission of Jedha as a false flag to get close to the rebels.[53] Later, the Benthic and the partisans recognized that the moon would not survive much longer but resolved to guard the ashes of Jedha until there was nothing left, and then move on. They insisted that the dream of the partisans did not die, even when Jedha would.[51]\\n\\nIn 2 ABY,[55] General Organa returned to Jedha, seeking the help of the Partisans, who still battled Imperials attempting to mine the moon, which included exploding a Imperial Shuttle full of Imperial Officers shortly before meeting with her. Organa wanted them to help her perform an attack on Shu-Torun to cripple the Empire and take revenge on Queen Trios, who had betrayed the Alliance. He initially insisted that they still needed to protect Jedha, but eventually decided that the Shu-Torun mission would hurt the Empire more. At the same time, Luke Skywalker visited the Temple of the Central Isopter hoping to speak with the cultists about the Force, but found it empty as they had gone to Shu-Torun to witness its destruction.[56]\\n\\nDuring the mission, Benthic decided that he wanted to make Shu-Torun look just like Jedha. He told one of the rebel besiegers that anyone who helped the Empire was complicit in what they did to Jedha, and swore to make them never forget their guilt by reminding them with fire.[54] They secretly planned to destroy the whole planet in Jedha\\'s name instead of just its technological spike. He expressed his belief to Skywalker that they should make Shu-Torun Jedha\\'s twin, but Skywalker refused and attempted to stop them.[57] Organa then arrived at the Spike, and Benthic attempted to appeal to her by saying that Jedha and Alderaan were alike, but Leia convinced him not to do what the Empire had done to the two planets.[58]\\n\\nShu-Torun not being destroyed in the attack left The Central Isopter disappointed after Jedha. Meanwhile, the Rebels agreed to drop the Partisans off somewhere, and Benthic decided against going back to Jedha and instead brought them to Salobea, where Benthic resolved to change.[58] Probe droid V0-RK looked for signs of rebel activity on Jedha[59] before the Battle of Hoth.[60]\\n\\nSometime between 3 ABY and 4 ABY, Luke Skywalker made a list of former Jedi sites which included Jedha, but he had it crossed out and commented to himself that there was nothing of Jedha left, just a hole in space.[61] Shortly after, Skywalker found a Holocron that contained a recording of Jedi Grand Master Yoda saying that Jedha was a vergence in the Force.[20]\\n\\nIn 34 ABY,[62] Resistance agent Kazuda Xiono discovered a star map listing locations of First Order fleets and ships and had Jedha marked and labeled on it. He had astromech droid BB-8 display it for him and Jarek Yeager.[63]\\n\\nThe moon of Jedha had a human-dominant population, with many other species being pilgrims from other worlds passing through to bask in Jedha\\'s spiritual heritage. Most of Jedha\\'s 11.3 million inhabitants[1] were centered around elevated settlements on rocky mesas,[3] whose streets were filled with priests, scholars and holy men and women.[64] The natives of Jedha were as a whole a spiritual people and were gracious and tolerant of outsiders who practice peace and respect.[1] During the High Republic Era, Keth Cerepath noted that each day and night within the Holy City always seemed to remain the same. Longing for some kind of one-time interruption to cause excitement, albeit while also hoping the Enlightenment cantina would never change, he carried on his quiet days working in the Temple of the Kyber. Over his career, he crossed paths with many preachers, pilgrims, and Jedi, but he never approached the Jedi for fear that the time was never right to speak to one.[21] Everyone on Jedha seemed to pass through the Enlightenment bar.[65]\\n\\nLike many other holy places open to the public within the galaxy, the streets of Jedha City proved to be a dangerous place despite their sacred status: hopeful and naive pilgrims who arrived on the moon could be easily picked out of the crowd by criminals acting as \"helpful\" figures, promising them great experiences but really trying to lure the pilgrim into the back alleys to steal their credits. Such pilgrims might be promised a relic or the chance to see a miracle within an out-of-the-way, forgotten holy site. In reality, as Yana Ro once reflected, the only real miracle would be the pilgrim in question making it out alive.[27]\\n\\nThe Imperial occupation of Jedha\\nAfter Imperial occupation, prohibitions on trade and commerce lead to the cultivation of a black market, with some cynical entrepreneurs making a profit off the disadvantaged populace. Local merchants would offer Imperial officers goods—both legal and illicit—to ensure they were happy and that their attention was diverted from possible infractions. Transportation of goods to and from Jedha became a lucrative business, with only specially licensed spacers allowed access to the moon\\'s spaceports. The subsequent insurgency made life dangerous for the civilians of Jedha, especially with the rebels preferring guerrilla tactics, meaning anywhere could become a warzone instantly. Jedha was the homeworld of the Imperial-turned-Rebel pilot Bodhi Rook, the warrior monk Chirrut Îmwe and his freelance assassin friend Baze Malbus.[1] Shortly after the destruction of NiJedha, the trio took part in the Battle of Scarif as part of the Rebel squad \"Rogue One\" and were instrumental in stealing the plans to the Death Star.[7]\\n\\nNiJedha, the Holy City of Jedha\\nJedha had several settlements across its surface,[3] the most prominent being the ancient Holy City of NiJedha.[1] This large walled city stood atop a large mesa[3] and was a spiritual hub for many faiths. At its edge was the Temple of the Kyber, a towering triangular structure that rose high above the city walls and was held sacred by followers of the Whills[1] and the Church of the Force.[3] Other significant locations in the city included the Holy Quarter, the Path of Judgments, and the Dome of Deliverance.[1] A peaceful garden was maintained close to the Second Spire on Jedha to provide individuals with a quiet haven from busyness of Jedha City. According Jedi Creighton Sun\\'s memory, it was maintained by the Church of the Force.[13]\\n\\nLocated half a day\\'s walk from the city were the Catacombs of Cadera, an ancient monastery[19] that was used to hold the skeletal remains of the dead. At some point, the monastery was occupied by the religious group known as the Church of the Contained Crescent. During the Imperial occupation of Jedha, Saw Gerrera made the Catacombs the base of operations for his Partisans, naming it the Gut. Located thousands of kilometers away from NiJedha were the desiccated tablelands, an area consisting of massive, barren mesas.[1] During an Imperial spy\\'s mission to Jedha at the time of Gerrera\\'s insurgency, three major markets existed on Jedha: the market in Jedha City, a market for pilgrims, and a hidden nomadic market in the desert outside of the city.[47]\\n\\nJedha concept art by Matt Allsopp\\nJedha is a moon that was created and developed for the 2016 film Rogue One: A Star Wars Story.[67] The moon\\'s holy city was inspired by real life holy cities such as Mecca and Jerusalem. The city also has Middle Eastern influences with its narrow market alleyways, desert sands, and Ottoman-inspired architecture.[64] The moon was also filmed in the Middle East, specifically Jordan\\'s Wadi Rum desert.[1] First footage of Jedha was released with the teaser trailer for Rogue One: A Star Wars Story, on April 7, 2016.[68] The moon was fully revealed during the Rogue One panel at Star Wars Celebration Europe 2016, on July 15, 2016.[69] In various sources, Jedha was mistaken for a planet,[69][64] but it was later clarified and Jedha was identified as a moon with the addition of Jedha\\'s Databank entry on the official Star Wars website, on August 10, 2016.[8]\\n\\nEarly concept art for Rogue One used the planet Mimban, before Jedha was settled on.[67] Mimban would, however, make an appearance in Solo: A Star Wars Story.[70]\\n')]"
      ]
     },
     "execution_count": 1,
     "metadata": {},
     "output_type": "execute_result"
    }
   ],
   "source": [
    "from langchain_community.document_loaders import RecursiveUrlLoader\n",
    "from bs4 import BeautifulSoup\n",
    "\n",
    "# Add a BeautifulSoup Extractor \n",
    "# This function will be used to read the HTML extracted from our Loader\n",
    "# and parsed in a more readable manner\n",
    "def bs4_extractor(html: str) -> str:\n",
    "    \"\"\"Extract only titles and paragraphs of an HTML content\"\"\"\n",
    "    try:\n",
    "        # Parse the HTML content using BeautifulSoup\n",
    "        soup = BeautifulSoup(html, 'html.parser')\n",
    "        \n",
    "        # Extract the title\n",
    "        title = soup.title.string if soup.title else \"No title found\"\n",
    "        \n",
    "        # Extract all paragraphs\n",
    "        paragraphs = [p.get_text() for p in soup.find_all('p')]\n",
    "        \n",
    "        # Combine title and paragraphs into a single string\n",
    "        extracted_content = title + \"\\n\" + \"\\n\".join(paragraphs)\n",
    "    \n",
    "        return extracted_content\n",
    "    \n",
    "    except Exception as e:\n",
    "        return f\"An error occurred: {str(e)}\"\n",
    "\n",
    "# This instanciate a loader\n",
    "loader = RecursiveUrlLoader(\n",
    "    \"https://starwars.fandom.com/wiki/Jedha\", # Everything about Jedha\n",
    "    max_depth=1, # How deep crawler will follow links (here we technically don't follow any links to retrieve limited amount of data)\n",
    "    use_async=False,\n",
    "    extractor=bs4_extractor, # This can be replaced by a function to extract HTML from the web page (let's say you might want to only extract <table></table> you could create a function for that)\n",
    "    metadata_extractor=None, # Same as the above\n",
    "    timeout=10, # Maximum time in seconds before raises a TimeOut error\n",
    "    continue_on_failure=True, # Continue to crawl even if there are some parsing errors\n",
    "    prevent_outside=True, # Prevent from loading URLs which are not children of the root URL -> Good to prevent attacks\n",
    "    # check out full documentation if you want to read about all arguments - https://python.langchain.com/api_reference/community/document_loaders/langchain_community.document_loaders.recursive_url_loader.RecursiveUrlLoader.html#langchain_community.document_loaders.recursive_url_loader.RecursiveUrlLoader.__init__\n",
    ")\n",
    "\n",
    "# Now we need to load the actual documents \n",
    "docs = loader.load()\n",
    "docs[:5]"
   ]
  },
  {
   "cell_type": "markdown",
   "metadata": {},
   "source": [
    "Great we have content! 👏 Now we need to split that content into chunks. This is a best practice to optimize your models context window and also not overflow it with useless information. We want it to only focus on small parts of the document that are relevant. \n",
    "\n",
    "That is why we need to have chunks. Let's see how we can do that:"
   ]
  },
  {
   "cell_type": "code",
   "execution_count": 2,
   "metadata": {},
   "outputs": [
    {
     "name": "stdout",
     "output_type": "stream",
     "text": [
      "Successfully splitted documents 📃\n",
      "Initial number of documents:1\n",
      "Number of splitted documents: 4\n"
     ]
    }
   ],
   "source": [
    "from langchain_text_splitters import RecursiveCharacterTextSplitter\n",
    "from transformers import AutoTokenizer\n",
    "\n",
    "# Here we use pretrained Tokenizer offered by hugging face. This gives us definitely more \n",
    "# accurate splitting\n",
    "tokenizer = AutoTokenizer.from_pretrained(\"google-bert/bert-base-cased\")\n",
    "\n",
    "# Instanciate a splitter \n",
    "# There are plenty of different splitters see below to learn more\n",
    "splitter = RecursiveCharacterTextSplitter.from_huggingface_tokenizer(tokenizer), # Maximum of 1000 characters in each splitted documents)\n",
    "\n",
    "# Now create splits \n",
    "splitted_docs = splitter[0].split_documents(docs)\n",
    "\n",
    "# Compare docs size from splitted_docs size \n",
    "print(\"Successfully splitted documents 📃\")\n",
    "print(f\"Initial number of documents:{len(docs)}\\nNumber of splitted documents: {len(splitted_docs)}\")"
   ]
  },
  {
   "cell_type": "markdown",
   "metadata": {},
   "source": [
    "<Note type=\"tip\">\n",
    "\n",
    "In this particular example, `RecursiveUrlLoader` has a method called `load_and_split()` that you could have used. Here we wanted to split it in two parts for you to understand things better. \n",
    "\n",
    "If you want to learn more: \n",
    "\n",
    "* [`.load_and_split()`](https://python.langchain.com/api_reference/community/document_loaders/langchain_community.document_loaders.recursive_url_loader.RecursiveUrlLoader.html#langchain_community.document_loaders.recursive_url_loader.RecursiveUrlLoader.load_and_split)\n",
    "\n",
    "</Note>\n",
    "\n",
    "\n",
    "<Note type=\"note\" title=\"AutoTokenizer 🤔\">\n",
    "\n",
    "Why did we use `.from_huggingface_tokenizer()` method and how is it build? \n",
    "\n",
    "You could also use *simpler* yet powerful text splitters in Langchain. You can find the list here:\n",
    "\n",
    "- [All Langchain Splitters](https://python.langchain.com/api_reference/text_splitters/index.html)\n",
    "\n",
    "ALl these splitters are pretty powerful except for pure text (not markdown, python etc but pure string). Therefore it is definitely more powerful to use a pretrained tokenizer that understand pure strings of text and therefore know how to best split documents. That is why we used HuggingFace Tokenizers. \n",
    "\n",
    "If you want to learn more about HuggingFace Tokenizers, feel free to read this documentation:\n",
    "\n",
    "* [HuggingFace Tokenizers](https://huggingface.co/docs/transformers/en/main_classes/tokenizer)\n",
    "\n",
    "</Note>\n",
    "\n",
    "## Load all these documents into our Database \n",
    "\n",
    "Alright now let's load our documents into our VectorDB. This is the moment where you need to go back to your Weaviate account and grab your API Key and your DB URI 👇\n",
    "\n",
    "![](https://full-stack-assets.s3.eu-west-3.amazonaws.com/get_weaviate_info.png)\n",
    "\n",
    "Once you have that we can move on to loading documents in the DB:"
   ]
  },
  {
   "cell_type": "markdown",
   "metadata": {},
   "source": [
    "Now there are two ways to create use Weaviate, you can either use Weaviate Cloud or use Weaviate on-premise. For our example we will use the latter. We are going to run another container using the Weaviate image:\n",
    "\n",
    "```bash\n",
    "docker run -p 8080:8080 -p 50051:50051 cr.weaviate.io/semitechnologies/weaviate:1.27.0\n",
    "```"
   ]
  },
  {
   "cell_type": "code",
   "execution_count": null,
   "metadata": {},
   "outputs": [
    {
     "name": "stdout",
     "output_type": "stream",
     "text": [
      "True\n"
     ]
    }
   ],
   "source": [
    "import weaviate\n",
    "\n",
    "client = weaviate.connect_to_local(\n",
    "    #host=\"host.docker.internal\",  # Use host.docker.internal if you are running it inside a docker container\n",
    "    port=8080,\n",
    "    grpc_port=50051,\n",
    ")\n",
    "\n",
    "# Verify that this is ready\n",
    "print(client.is_ready())"
   ]
  },
  {
   "cell_type": "markdown",
   "metadata": {},
   "source": [
    "## Create Embeddings\n",
    "\n",
    "Perfect now we connected to the Database, the next thing we need to do is to create Embeddings before we can actually send the documents to Weaviate. For that we can use `HuggingFaceEmbeddings()`. It is a free Embedding tool made by HuggingFace 🤗"
   ]
  },
  {
   "cell_type": "code",
   "execution_count": 6,
   "metadata": {},
   "outputs": [
    {
     "name": "stderr",
     "output_type": "stream",
     "text": [
      "/var/folders/yt/qrbwlc0x6fj2rs4chrxkrm_m0000gn/T/ipykernel_48614/3077754740.py:2: LangChainDeprecationWarning: The class `HuggingFaceEmbeddings` was deprecated in LangChain 0.2.2 and will be removed in 1.0. An updated version of the class exists in the :class:`~langchain-huggingface package and should be used instead. To use it run `pip install -U :class:`~langchain-huggingface` and import as `from :class:`~langchain_huggingface import HuggingFaceEmbeddings``.\n",
      "  embeddings = HuggingFaceEmbeddings()\n",
      "/var/folders/yt/qrbwlc0x6fj2rs4chrxkrm_m0000gn/T/ipykernel_48614/3077754740.py:2: LangChainDeprecationWarning: Default values for HuggingFaceEmbeddings.model_name were deprecated in LangChain 0.2.16 and will be removed in 0.4.0. Explicitly pass a model_name to the HuggingFaceEmbeddings constructor instead.\n",
      "  embeddings = HuggingFaceEmbeddings()\n",
      "huggingface/tokenizers: The current process just got forked, after parallelism has already been used. Disabling parallelism to avoid deadlocks...\n",
      "To disable this warning, you can either:\n",
      "\t- Avoid using `tokenizers` before the fork if possible\n",
      "\t- Explicitly set the environment variable TOKENIZERS_PARALLELISM=(true | false)\n"
     ]
    },
    {
     "data": {
      "application/vnd.jupyter.widget-view+json": {
       "model_id": "bcbc5c8a9f8b415fbf7bf2c151673b1b",
       "version_major": 2,
       "version_minor": 0
      },
      "text/plain": [
       "modules.json:   0%|          | 0.00/349 [00:00<?, ?B/s]"
      ]
     },
     "metadata": {},
     "output_type": "display_data"
    },
    {
     "data": {
      "application/vnd.jupyter.widget-view+json": {
       "model_id": "0490dde6a58d40e0a7472e68019b3191",
       "version_major": 2,
       "version_minor": 0
      },
      "text/plain": [
       "config_sentence_transformers.json:   0%|          | 0.00/116 [00:00<?, ?B/s]"
      ]
     },
     "metadata": {},
     "output_type": "display_data"
    },
    {
     "data": {
      "application/vnd.jupyter.widget-view+json": {
       "model_id": "11e3ab895f1a46cb8b6dd7ce82a1bfb3",
       "version_major": 2,
       "version_minor": 0
      },
      "text/plain": [
       "README.md:   0%|          | 0.00/10.4k [00:00<?, ?B/s]"
      ]
     },
     "metadata": {},
     "output_type": "display_data"
    },
    {
     "data": {
      "application/vnd.jupyter.widget-view+json": {
       "model_id": "22ac05c190f8440dad86781e0c82121b",
       "version_major": 2,
       "version_minor": 0
      },
      "text/plain": [
       "sentence_bert_config.json:   0%|          | 0.00/53.0 [00:00<?, ?B/s]"
      ]
     },
     "metadata": {},
     "output_type": "display_data"
    },
    {
     "data": {
      "application/vnd.jupyter.widget-view+json": {
       "model_id": "612cd96f19be4e1fb41e3ac47ff33c9d",
       "version_major": 2,
       "version_minor": 0
      },
      "text/plain": [
       "config.json:   0%|          | 0.00/571 [00:00<?, ?B/s]"
      ]
     },
     "metadata": {},
     "output_type": "display_data"
    },
    {
     "name": "stderr",
     "output_type": "stream",
     "text": [
      "Xet Storage is enabled for this repo, but the 'hf_xet' package is not installed. Falling back to regular HTTP download. For better performance, install the package with: `pip install huggingface_hub[hf_xet]` or `pip install hf_xet`\n"
     ]
    },
    {
     "data": {
      "application/vnd.jupyter.widget-view+json": {
       "model_id": "89ed4156faf84f9e871fe47a7e51cac6",
       "version_major": 2,
       "version_minor": 0
      },
      "text/plain": [
       "model.safetensors:   0%|          | 0.00/438M [00:00<?, ?B/s]"
      ]
     },
     "metadata": {},
     "output_type": "display_data"
    },
    {
     "data": {
      "application/vnd.jupyter.widget-view+json": {
       "model_id": "e234318c10ce41aaba3b0d3e5a445832",
       "version_major": 2,
       "version_minor": 0
      },
      "text/plain": [
       "tokenizer_config.json:   0%|          | 0.00/363 [00:00<?, ?B/s]"
      ]
     },
     "metadata": {},
     "output_type": "display_data"
    },
    {
     "data": {
      "application/vnd.jupyter.widget-view+json": {
       "model_id": "bc905572921548d094ee018ab0b9c137",
       "version_major": 2,
       "version_minor": 0
      },
      "text/plain": [
       "vocab.txt:   0%|          | 0.00/232k [00:00<?, ?B/s]"
      ]
     },
     "metadata": {},
     "output_type": "display_data"
    },
    {
     "data": {
      "application/vnd.jupyter.widget-view+json": {
       "model_id": "250c85dcc40e4fe89b672ae8de3a5292",
       "version_major": 2,
       "version_minor": 0
      },
      "text/plain": [
       "tokenizer.json:   0%|          | 0.00/466k [00:00<?, ?B/s]"
      ]
     },
     "metadata": {},
     "output_type": "display_data"
    },
    {
     "data": {
      "application/vnd.jupyter.widget-view+json": {
       "model_id": "91e35e8f619247b9a09120927d22f838",
       "version_major": 2,
       "version_minor": 0
      },
      "text/plain": [
       "special_tokens_map.json:   0%|          | 0.00/239 [00:00<?, ?B/s]"
      ]
     },
     "metadata": {},
     "output_type": "display_data"
    },
    {
     "data": {
      "application/vnd.jupyter.widget-view+json": {
       "model_id": "dd165d27909643a089c75f200143c0c6",
       "version_major": 2,
       "version_minor": 0
      },
      "text/plain": [
       "config.json:   0%|          | 0.00/190 [00:00<?, ?B/s]"
      ]
     },
     "metadata": {},
     "output_type": "display_data"
    }
   ],
   "source": [
    "from langchain.embeddings import HuggingFaceEmbeddings\n",
    "embeddings = HuggingFaceEmbeddings()"
   ]
  },
  {
   "cell_type": "markdown",
   "metadata": {},
   "source": [
    "## Store documents into vector store\n",
    "\n",
    "Alright and now final piece: store these documents into the vector store. Now we will be using Langchain integration `WeaviateVectorStore`"
   ]
  },
  {
   "cell_type": "code",
   "execution_count": 7,
   "metadata": {},
   "outputs": [
    {
     "name": "stderr",
     "output_type": "stream",
     "text": [
      "2025-May-16 12:06 PM - langchain_weaviate.vectorstores - INFO - Tenant Wookieepedia does not exist in index LangChain_18453ab13f04419291a9ed975091ab30. Creating tenant.\n"
     ]
    },
    {
     "data": {
      "text/plain": [
       "<langchain_weaviate.vectorstores.WeaviateVectorStore at 0x300ae98b0>"
      ]
     },
     "execution_count": 7,
     "metadata": {},
     "output_type": "execute_result"
    }
   ],
   "source": [
    "from langchain_weaviate.vectorstores import WeaviateVectorStore\n",
    "\n",
    "# Now we can load our documents into our Database \n",
    "# Depending on the amount of data \n",
    "# The time necessary to execute the cell will vary\n",
    "vectorstore = WeaviateVectorStore.from_documents(\n",
    "    splitted_docs, \n",
    "    embeddings, \n",
    "    client=client, \n",
    "    by_text=False, \n",
    "    tenant=\"Wookieepedia\", # This is the name of the collection\n",
    ")\n",
    "\n",
    "vectorstore"
   ]
  },
  {
   "cell_type": "markdown",
   "metadata": {},
   "source": [
    "And now we can test our vector store and retrieve relevant information about what we stored! "
   ]
  },
  {
   "cell_type": "code",
   "execution_count": 8,
   "metadata": {},
   "outputs": [
    {
     "name": "stdout",
     "output_type": "stream",
     "text": [
      "\n",
      "## DOCUMENT 1:\n",
      "\n",
      "Jedha | Wookieepedia | Fandom\n",
      "Wookieepedia\n",
      "To remove ads, create an account.Join Wookieepedia today!\n",
      "\n",
      "READ MORE\n",
      "\n",
      "\n",
      "Content approaching.\n",
      "\n",
      "Tales of Enlightenment: New Prospects, The High Republic: Convergence, Tales of Enlightenment: A Different Perspective, The High Republic Adventures (2022) 4, Peace and Unity, Star Wars: The High Republic (Marvel Comics 2022), The High Republic: The Battle of Jedha, The High Republic Adventures (2022) 5, The High Republic Adventures (2022) 6, The High Republic Adventures (2022) 7, The High Republic: Path of Vengeance, The High Republic: Cataclysm, The High Republic: Quest for Planet X, Tales of Villainy: The Gaze Electric, Reign of the Empire: The Mask of Fear, Star Wars Jedi: Survivor, Guardians of the Whills, Shu-Torun Lives, Star Wars Book IX: The Ashes of Jedha, The Veteran, Alphabet Squadron, Galaxy's Edge 3, Dawn of Rebellion, Star Wars: Rogue One: The Ultimate Visual Guide, Star Wars: The High Republic: Chronicles of the Jedi, Unlock!: Star Wars Escape Game, Star Wars: The Rise and Fall of the Galactic Empire\n",
      "\n",
      "Please update the article to include missing information, and remove this template when finished.\n",
      "\n",
      "\n",
      "\n",
      "\n",
      "\n",
      "\n",
      "\n",
      "\n",
      "\t\t\t\t\t\t\tFractured\n",
      "\t\t\t\t\t\t\t\n",
      "\t\t\t\t\t\t\n",
      "\n",
      "\n",
      "\n",
      "\t\t\t\t\t\t\tIntact\n",
      "\t\t\t\t\t\t\t\n",
      "\t\t\t\t\t\t\n",
      "\n",
      "\n",
      "\n",
      "\n",
      "\n",
      "\n",
      "\n",
      "\n",
      "\n",
      "\n",
      "\n",
      "\n",
      "\n",
      "\n",
      "\n",
      "\n",
      "\n",
      "\n",
      "Jedha\n",
      "\n",
      "\n",
      "Astrographical information\n",
      "\n",
      "Region\n",
      "Mid Rim Territories[1]\n",
      "\n",
      "\n",
      "Sector\n",
      "Terrabe sector,[2] Freestanding subsectors[3]\n",
      "\n",
      "\n",
      "System\n",
      "Jedha system[3]\n",
      "\n",
      "\n",
      "Orbited body\n",
      "NaJedha[1]\n",
      "\n",
      "\n",
      "Grid square\n",
      "H-10[4]\n",
      "\n",
      "\n",
      "Trade routes\n",
      "Burke's Trailing[5]\n",
      "\n",
      "\n",
      "Rotation period\n",
      "23 hours[6]\n",
      "\n",
      "\n",
      "Orbital period\n",
      "420 days[6]\n",
      "\n",
      "\n",
      "\n",
      "Physical information\n",
      "\n",
      "Diameter\n",
      "11,263 kilometers[1]\n",
      "\n",
      "\n",
      "Atmosphere\n",
      "Breathable[7]\n",
      "\n",
      "\n",
      "Climate\n",
      "Cold[8]\n",
      "\n",
      "\n",
      "Terrain\n",
      "Deserts[9]Mesas[3]Rocky dustbowls[10]Ruptured mantle[11]Magma seas[11]\n",
      "\n",
      "\n",
      "Points of interest\n",
      "The Archive[12]Catacombs of Cadera[1]Desiccated tablelands[1]Dome of Deliverance[1]Kyber mines[7]Kyber Mirrors[13]Narkis Highlands[12]Pilgrim's Sanctuary[12]Second Spire[13]Temple of Central Isopter[14]Temple of the Kyber[3]Three Faces[15]\n",
      "\n",
      "\n",
      "Fauna\n",
      "Birds[7]Dune scratcher[16]Fantailed Laa[12]Hardshell[12]Jedha Glider[12]Lizards[7]Sand slug[14]Skriton[12]Golden Skriton[12]Snakefish[12]Spamel[7]Sutaban[12]Sutaban Alpha[12]Versimillipede[7]\n",
      "\n",
      "\n",
      "\n",
      "Societal information\n",
      "\n",
      "Other species\n",
      "Anomid[1]Human[1]Lorrdian[1]Vobati[1]\n",
      "\n",
      "\n",
      "Population\n",
      "11.3 million[1] (85% human, 15% other)[6]\n",
      "\n",
      "\n",
      "Demonym\n",
      "Jedhan[9]\n",
      "\n",
      "\n",
      "Major cities\n",
      "Ai-jed[17]Jedha City[3]\n",
      "\n",
      "\n",
      "Major imports\n",
      "Foodstuffs, water, medicine, pilgrims[6]\n",
      "\n",
      "\n",
      "Major exports\n",
      "Kyber crystals[3]\n",
      "\n",
      "\n",
      "Affiliation\n",
      "Jedi Order[8]Galactic Republic[13]Galactic Empire[8]\n",
      "\n",
      "\n",
      "[Source]\n",
      "\n",
      "\n",
      "Jedha, also known as the Pilgrim Moon, the Cold Moon, or the Kyber Heart, and formerly known as NiJedha, was a small desert moon which orbited the planet NaJedha. Located in the Jedha system of the galaxy's Mid Rim, the moon had a cold climate due to its lasting winter. The historical and spiritual significance of Jedha led the moon to become a world of worship for those who believed in the Force, and a holy site for pilgrims who sought spiritual guidance.\n",
      "\n",
      "Sometime before the Battle of Yavin, the Galactic Empire occupied the moon to control its kyber crystal resources that were once used by the Jedi Order as components for their lightsabers. The occupation later provoked an insurgency to oppose the Imperial tyranny, coordinated by the rebel extremist Saw Gerrera. Jedha's heritage and Gerrera's resistance—the aptly named Partisans—led to it being chosen in 1 BBY for a test of the Death Star's superlaser, a superweapon capable of destroying entire planets. Though Director Orson Krennic had planned to destroy the moon, Grand Moff Wilhuff Tarkin overrode him, stating that the destruction of the Holy City would serve as a sufficient test.\n",
      "\n",
      "Jedha was a moon located in orbit around the planet NaJedha,[1] situated in the Jedha system[3] of the galaxy's Mid Rim, due galactic west of the Deep Core. 11,263 kilometers in diameter, Jedha was a small desert moon[1] defined by its jagged rock formations, broad mesas, narrow spires,[19] and rocky dustbowls.[10] Significantly, the moon was a Vergence in the Force, meaning that it was a location where the Force was more sharply focused.[20] Frosted by a permanent winter, Jedha had a cold climate,[8] especially during its nights.[21] It had an atmosphere breathable to oxygen-breathers, such as humans.[7] Within the moon's sandstone crust were rich deposits of kyber crystals[3]—Force-attuned crystals that were fundamental in lightsaber construction.[22] Many settlements on the moon, such as the ancient Holy City, sat atop the world's natural mesas.[3]\n",
      "\n",
      "Jedha's ancient structures were some of the earliest examples of architecture known to exist in the galaxy. The weathered sandstone structures and statues dotted Jedha's landscape, a testament to its ancient past. Being an antiquated destination, Jedha was surrounded by uncharted systems, making it a reliable replenishment port for travelers.[1] Jedha was connected to Adrathorpe and the planet Ord Mantell via the Burke's Trailing hyperspace route.[5] Much of Jedha's past had been swallowed by the desert, including the Ruins of Ranvell, once a thriving trade city for pilgrims.[12]\n",
      "\n",
      "The sutaban were an aggressive species of Jedha.\n",
      "The world of Jedha had many different lifeforms in its deserts. The humble hardshells survived by protecting themselves in their shell. The aggressive sutaban stalked through ruins, looking for prey amidst ancient cities. The mighty skriton stalked beneath the sands, ambushing anything that ventured into its range. There were also some aquatic life such as the snakefish, despite the very limited amount of water on the planet.[12]\n",
      "\n",
      "The cold deserts were often subject to extreme weather events. The most common of these was the sandstorm, which was deadly to anything caught in its path. Loose desert sand would be whipped up into a massive wind that could be so potent as to shred through metal on a starship.[12] Though Jedha's sands remained parched for much of its year, there were instances of powerful torrents of rainfall, a cause for celebration among the people of Jedha.[19]\n",
      "\n",
      "Fallen ruins of a statue depicting a Jedi\n",
      "The ancient world of Jedha was home to one of the first civilizations to explore the nature of the Force and considered a spiritual home of the Jedi Order, with many scholars believing the moon owes its name to the ancient religion.[1] Some scholars made a case for Jedha as the location of the Jedi Order's first Temple, alongside other candidate worlds, such as Ahch-To, Coruscant, Ossus, and Tython.[23] As well as the Jedi, the Disciples and Guardians of the Whills represented a dominant faith on Jedha.[1] They, along with the Church of the Force,[3] were centered at the Temple of the Kyber, a great temple located in the city of NiJedha. This spiritual history led to Jedha becoming an important location for pilgrims of various faiths, including those of the Brotherhood of the Beatific Countenance, the Clan of the Toribota, and the Central Isopter.[1]\n",
      "\n",
      "As more of the galaxy was mapped, more direct hyperspace routes were discovered. These new passages made the old, winding routes, such as those connecting with Jedha, obsolete. The once-popular Jedha became an antiquated curiosity rather than a relevant destination, a location for those who desired spiritual guidance, a deeper purpose, or to simply exile themselves from the larger galaxy.[1] It was one of the locations mentioned in a chapter of the Rammahgon, an ancient Jedi text written by the Jedi Kli the Elder, alongside Ossus and Xenxiar as places where the 'seeds' of the Jedi had been sown, which Kli contrasted to the places that the Sith had laid waste to.[24]\n",
      "\n",
      "At some point before 5000 BBY,[25] by the other side of the Division Wall on the borders of Old City, New City section of the Jedha City was built.[15] The Holy City of Jedha was once governed, or in the opinions of some \"ruled,\" by the Jedi Order[26] until other Force faiths finally objected, believing that the Jedi were overreaching and trying to position themselves as the one true religion. In response to the resentment, the Jedi withdrew and became just one of many religious who were present on Jedha.[27]\n",
      "\n",
      "At the time of the High Republic Era, Jedha had not been a Jedi stronghold for sometime, rendering the Jedi simply one of the many groups who held the planet sacred.[28] While the Order's past control over the city did result in some anti-Jedi sentiment amongst the populace,[26] most Force groups and Force-sensitives active on Jedha in the High Republic Era were ambivalent towards the Order, with some even welcoming any Jedi on Jedha in the post-stronghold era. There were sects and Forcer users who hated the Jedi,[28] with some people on Jedha spitting at a Jedi on sight, but such anti-Jedi sentiment was manageable for Jedi on Jedha.[26]\n",
      "\n",
      "A transport full of pilgrims flies over Jedha's Holy City during the High Republic Era.\n",
      "During the early High Republic Era, many different Force religions were present on Jedha and it was a pilgrimage site for spiritual people across the galaxy.[26] At that time, Jedha became home to the Convocation of the Force,[29] which was formed around 382 BBY[30] as an advisory body that promoted cooperation and understanding between the many different religions. The Disciples of the Whills, the Fallanassi, the Lonto, the Matukai, the Jedi Order, the Guardians of the Whills, the Church of the Force, and the Sorcerers of Tund all had a presence on Jedha at this time and had a representative in the Convocation.[29]\n",
      "\n",
      "Jedha had many sacred places, historical sites, many artifacts stored throughout the moon's enclaves.[26] A museum was present on Jedha at this time, which featured many artifacts including the Rod of Daybreak and was guarded and watched over by the Jedi.[31] The kyber mirrors underneath the Dome of Deliverance were another popular reason to make the journey to the moon, with Jedi Master Silandra Sho wishing to do so to observe the Season of Light, and her Padawan Rooper Nitani was incredibly excited by the idea and wanted to visit too as she had read about the moon in the Jedi Archives on Coruscant. Eventually, Sho made the pilgrimage, but Nitani decided not to join her.[32] The Enlightenment bar was a popular meeting place on the moon, but was home to some of its seedier activity.[33]\n",
      "\n",
      "In 382 BBY,[34] an Evereni member of the Path of the Open Hand cult named Marda Ro wished for the religion to have its own presence on Jedha, and wanted to be the one to go to the Convocation and spread their message. The Path believed that no one should use or manipulate the Force because they thought it would have dire consequences. Ro had heard about Jedha and knew it was home to priests, wanderers, witches, and Jedi. She discussed Jedha with Jedi Padawan Kevmo Zink, who had always wanted to visit Jedha. His friend Jedi Azlin Rell also frequented the outpost on the moon and even went to return to it after completing a mission with Zink on Tiikae, though he was called away from doing so. Zink told Ro many stories about Jedha, and she especially liked hearing about the Guardians of the Whills, as a Guardian had founded the Path. Marda Ro decided that the Path and their perspective of freedom for the Force needed to be present in a place where the conversations were happening between Force philosophies about the Force's role in the galaxy. Ro also decided that she would represent the Path in the Convocation.[31]\n",
      "\n",
      "After Zink told her that the Convocation and its groups also took in pilgrims, she decided that her cousin, Yana Ro, should come with her. Ro and Zink playfully dreamed together about meeting on Jedha one day after she moved there, with Ro even briefly considering going to Port Haileap with Zink and then going to Jedha from there, as such a trip was possible. However, when Ro presented her idea to represent the Path on Jedha, the Council of Elders and Path leader Elecia Zeveron, who the Path called 'The Mother', rejected the idea, explaining that Jedha would be a distraction from the Path. One Council member was also concerned that two Evereni, a species which had a notorious reputation in the galaxy, would stand out in a place like Jedha. Even though another Path leader called \"The Herald\" expressed that he thought it was a good idea, and Ro insisted that she could guide the Path on Jedha despite distractions and noise, The Mother told her that they didn't want any Path presence on Jedha, and her decision was final.[31]\n",
      "\n",
      "In truth, the Mother already had agents all throughout Jedha, where a small network of her agents—whom Yana would later judge as nothing more than ne'er-do-wells and petty thieves—were carrying out heists from temples and shrines. The string of robberies occurred over the course of weeks[27] and months.[35] Those stolen artifacts would then be sold on the black market to fund Path operations. Over that time, she was working Jedha City to her own ends, which Yana later suspected was the reason she denied Marda's request. The Path operation on Jedha was helped along by a corrupt official, archivist Feric Oranalli.[27]\n",
      "\n",
      "Members of the Convocation of the Force both antagonize and protect a Yacombe envoy.\n",
      "However, Ro would get her wish when the Path left their home of Dalna and started trying to expand its reach across the galaxy, which included making a presence on Jedha. This decision was sparked when Path member Radicaz \"Sunshine\" Dobbs told her that the Rod of Daybreak in the museum on Jedha was locked in a vault and protected by the Jedi, which he had researched for her. He also planned to correspond with someone about a potential lost cousin of The Mother on Jedha, which she had him research. The Mother wanted the Rod for herself, so she told Dobbs to go to Jedha and prepare for their arrival by telling everyone there about the Path of the Open Hand.[31] Dobbs then traveled to Jedha and went to meet with the Convocation of the Force on behalf of the cult. At the same time, a member of the Yacombe group was attempting to apply for membership in the Convocation, but was antagonized by representatives of the Fallanassi and the Matukai who believed that the Yacombe were a dark side organization. After Jedi Oliviah Zeveron assuaged the conflict, the Yacombe envoy decided that they no longer wanted to apply, as they had come seeking peace and unity and found none.[29]\n",
      "\n",
      "In the same year, the Convocation of the Force began planning the Festival of Balance that was expected to bring a massive influx of tourists, and therefore business, to Jedha. Keth Cerepath worked as a adjunct in the Temple of the Kyber during the High Republic Era, and longed for the seemingly-never changing days of Jedha to have some kind of shake-up to give him a good bar story, and therefore welcomed the Festival.[21] At the same time, however, artifacts started to go missing from various sacred places on Jedha[33] as the robberies carried out in secret by Path agents[27] began. Vigilante and thief Tey Sirrek noticed this and arranged a meeting in the Shrine of Sarrav with a Sarravi woman named V'Kara who had information about the robberies, but was also not listened to by the groups she went to with her information. Before the meeting, he came across an individual named Ran Yaltan who was pretending to be a member of the Truthsayers of Bpfassh and putting on a show for a crowd in the streets of Jedha City.[33]\n",
      "\n",
      "## DOCUMENT 2:\n",
      "\n",
      "Like many other holy places open to the public within the galaxy, the streets of Jedha City proved to be a dangerous place despite their sacred status: hopeful and naive pilgrims who arrived on the moon could be easily picked out of the crowd by criminals acting as \"helpful\" figures, promising them great experiences but really trying to lure the pilgrim into the back alleys to steal their credits. Such pilgrims might be promised a relic or the chance to see a miracle within an out-of-the-way, forgotten holy site. In reality, as Yana Ro once reflected, the only real miracle would be the pilgrim in question making it out alive.[27]\n",
      "\n",
      "The Imperial occupation of Jedha\n",
      "After Imperial occupation, prohibitions on trade and commerce lead to the cultivation of a black market, with some cynical entrepreneurs making a profit off the disadvantaged populace. Local merchants would offer Imperial officers goods—both legal and illicit—to ensure they were happy and that their attention was diverted from possible infractions. Transportation of goods to and from Jedha became a lucrative business, with only specially licensed spacers allowed access to the moon's spaceports. The subsequent insurgency made life dangerous for the civilians of Jedha, especially with the rebels preferring guerrilla tactics, meaning anywhere could become a warzone instantly. Jedha was the homeworld of the Imperial-turned-Rebel pilot Bodhi Rook, the warrior monk Chirrut Îmwe and his freelance assassin friend Baze Malbus.[1] Shortly after the destruction of NiJedha, the trio took part in the Battle of Scarif as part of the Rebel squad \"Rogue One\" and were instrumental in stealing the plans to the Death Star.[7]\n",
      "\n",
      "NiJedha, the Holy City of Jedha\n",
      "Jedha had several settlements across its surface,[3] the most prominent being the ancient Holy City of NiJedha.[1] This large walled city stood atop a large mesa[3] and was a spiritual hub for many faiths. At its edge was the Temple of the Kyber, a towering triangular structure that rose high above the city walls and was held sacred by followers of the Whills[1] and the Church of the Force.[3] Other significant locations in the city included the Holy Quarter, the Path of Judgments, and the Dome of Deliverance.[1] A peaceful garden was maintained close to the Second Spire on Jedha to provide individuals with a quiet haven from busyness of Jedha City. According Jedi Creighton Sun's memory, it was maintained by the Church of the Force.[13]\n",
      "\n",
      "Located half a day's walk from the city were the Catacombs of Cadera, an ancient monastery[19] that was used to hold the skeletal remains of the dead. At some point, the monastery was occupied by the religious group known as the Church of the Contained Crescent. During the Imperial occupation of Jedha, Saw Gerrera made the Catacombs the base of operations for his Partisans, naming it the Gut. Located thousands of kilometers away from NiJedha were the desiccated tablelands, an area consisting of massive, barren mesas.[1] During an Imperial spy's mission to Jedha at the time of Gerrera's insurgency, three major markets existed on Jedha: the market in Jedha City, a market for pilgrims, and a hidden nomadic market in the desert outside of the city.[47]\n",
      "\n",
      "Jedha concept art by Matt Allsopp\n",
      "Jedha is a moon that was created and developed for the 2016 film Rogue One: A Star Wars Story.[67] The moon's holy city was inspired by real life holy cities such as Mecca and Jerusalem. The city also has Middle Eastern influences with its narrow market alleyways, desert sands, and Ottoman-inspired architecture.[64] The moon was also filmed in the Middle East, specifically Jordan's Wadi Rum desert.[1] First footage of Jedha was released with the teaser trailer for Rogue One: A Star Wars Story, on April 7, 2016.[68] The moon was fully revealed during the Rogue One panel at Star Wars Celebration Europe 2016, on July 15, 2016.[69] In various sources, Jedha was mistaken for a planet,[69][64] but it was later clarified and Jedha was identified as a moon with the addition of Jedha's Databank entry on the official Star Wars website, on August 10, 2016.[8]\n",
      "\n",
      "Early concept art for Rogue One used the planet Mimban, before Jedha was settled on.[67] Mimban would, however, make an appearance in Solo: A Star Wars Story.[70]\n"
     ]
    }
   ],
   "source": [
    "query = \"What was the initial name of Jedha?\"\n",
    "docs = vectorstore.similarity_search(\n",
    "    query, \n",
    "    k=2,\n",
    "    tenant=\"Wookieepedia\"\n",
    ")\n",
    "\n",
    "# Print the first 100 characters of each result\n",
    "for i, doc in enumerate(docs):\n",
    "    print(f\"\\n## DOCUMENT {i+1}:\\n\")\n",
    "    print(doc.page_content)"
   ]
  },
  {
   "cell_type": "markdown",
   "metadata": {},
   "source": [
    "## Resources 📚📚\n",
    "\n",
    "* [Weaviate - Langchain](https://python.langchain.com/docs/integrations/vectorstores/weaviate/)\n",
    "* [`RecursiveUrlLoader`](https://python.langchain.com/api_reference/community/document_loaders/langchain_community.document_loaders.recursive_url_loader.RecursiveUrlLoader.html#langchain_community.document_loaders.recursive_url_loader.RecursiveUrlLoader.__init__)\n",
    "* [HuggingFace Tokenizers](https://huggingface.co/docs/transformers/en/main_classes/tokenizer)\n",
    "* [All Langchain Splitters](https://python.langchain.com/api_reference/text_splitters/index.html)"
   ]
  }
 ],
 "metadata": {
  "kernelspec": {
   "display_name": "llm_env",
   "language": "python",
   "name": "python3"
  },
  "language_info": {
   "codemirror_mode": {
    "name": "ipython",
    "version": 3
   },
   "file_extension": ".py",
   "mimetype": "text/x-python",
   "name": "python",
   "nbconvert_exporter": "python",
   "pygments_lexer": "ipython3",
   "version": "3.12.9"
  }
 },
 "nbformat": 4,
 "nbformat_minor": 2
}
