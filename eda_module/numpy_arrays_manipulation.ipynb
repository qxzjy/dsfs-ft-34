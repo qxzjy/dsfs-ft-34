{
 "cells": [
  {
   "cell_type": "markdown",
   "metadata": {},
   "source": [
    "# Numpy : manipulation de tableaux"
   ]
  },
  {
   "cell_type": "code",
   "execution_count": 1,
   "metadata": {},
   "outputs": [],
   "source": [
    "import numpy as np"
   ]
  },
  {
   "cell_type": "markdown",
   "metadata": {},
   "source": [
    "## Initialisation de tableaux"
   ]
  },
  {
   "cell_type": "markdown",
   "metadata": {},
   "source": [
    "### Initialisation avec valeurs prédéfinies"
   ]
  },
  {
   "cell_type": "code",
   "execution_count": 8,
   "metadata": {},
   "outputs": [
    {
     "name": "stdout",
     "output_type": "stream",
     "text": [
      "[[0. 0. 0. 0.]\n",
      " [0. 0. 0. 0.]\n",
      " [0. 0. 0. 0.]]\n",
      "\n",
      "[[1. 1. 1. 1.]\n",
      " [1. 1. 1. 1.]\n",
      " [1. 1. 1. 1.]\n",
      " [1. 1. 1. 1.]\n",
      " [1. 1. 1. 1.]]\n",
      "\n",
      "[[[1. 1. 1. 1.]\n",
      "  [1. 1. 1. 1.]\n",
      "  [1. 1. 1. 1.]]\n",
      "\n",
      " [[1. 1. 1. 1.]\n",
      "  [1. 1. 1. 1.]\n",
      "  [1. 1. 1. 1.]]]\n",
      "\n"
     ]
    }
   ],
   "source": [
    "# Déclaration d'une matrice de 0 (3*4)\n",
    "print(np.zeros((3, 4)))\n",
    "print()\n",
    "\n",
    "# Déclaration d'une matrice de 1 (5*4)\n",
    "print(np.ones((5,4)))\n",
    "print()\n",
    "\n",
    "# Déclaration d'un tenseur de 1 (2*3*4)\n",
    "print(np.ones((2,3,4)))\n",
    "print()"
   ]
  },
  {
   "cell_type": "code",
   "execution_count": 10,
   "metadata": {},
   "outputs": [
    {
     "name": "stdout",
     "output_type": "stream",
     "text": [
      "[3.2 3.4 3.6 3.8 4.  4.2 4.4 4.6]\n"
     ]
    }
   ],
   "source": [
    "# Déclaration d'une matrice via fonction range\n",
    "# Générée une liste de nombre dans l'intervalle [3.2, 4.8[ avec un pas de 0.2\n",
    "print(np.arange(3.2, 4.8, 0.2))\n"
   ]
  },
  {
   "cell_type": "markdown",
   "metadata": {},
   "source": [
    "### Initialisation avec une fonction utilisateur"
   ]
  },
  {
   "cell_type": "code",
   "execution_count": 15,
   "metadata": {},
   "outputs": [
    {
     "data": {
      "text/plain": [
       "array([[0, 1, 2],\n",
       "       [1, 2, 3],\n",
       "       [2, 3, 4]])"
      ]
     },
     "execution_count": 15,
     "metadata": {},
     "output_type": "execute_result"
    }
   ],
   "source": [
    "# Définition d'une fonction que Numpy utilisera \n",
    "def function_for_numpy(x, y):\n",
    "    return x+y\n",
    "\n",
    "# Création d'un tableau en utilisant la fonction au dessus\n",
    "# Elle doit contenir autant de paramètre qu'il n'y a de coordonnées\n",
    "np.fromfunction(function_for_numpy, (3,3), dtype=int)"
   ]
  },
  {
   "cell_type": "markdown",
   "metadata": {},
   "source": [
    "## Accèder aux items d'un tableau multidimensionnel"
   ]
  },
  {
   "cell_type": "markdown",
   "metadata": {},
   "source": [
    "### Accès direct"
   ]
  },
  {
   "cell_type": "code",
   "execution_count": null,
   "metadata": {},
   "outputs": [
    {
     "name": "stdout",
     "output_type": "stream",
     "text": [
      "42\n"
     ]
    }
   ],
   "source": [
    "# Déclaration d'une matrice\n",
    "A = np.array([[10,11,12],\n",
    "              [20,21,22],\n",
    "              [30,31,32],\n",
    "              [40,41,42]])\n",
    "\n",
    "print(A[3,2])"
   ]
  },
  {
   "cell_type": "code",
   "execution_count": 18,
   "metadata": {},
   "outputs": [
    {
     "name": "stdout",
     "output_type": "stream",
     "text": [
      "22\n"
     ]
    }
   ],
   "source": [
    "# Déclaration d'un tenseur\n",
    "B = np.array([[[10,11,12],\n",
    "              [20,21,22]],\n",
    "             [[30,31,32],\n",
    "              [40,41,42]]])\n",
    "\n",
    "print(B[0,1,2])"
   ]
  },
  {
   "cell_type": "markdown",
   "metadata": {},
   "source": [
    "### Accès via itération sur les éléments"
   ]
  },
  {
   "cell_type": "code",
   "execution_count": 20,
   "metadata": {},
   "outputs": [
    {
     "name": "stdout",
     "output_type": "stream",
     "text": [
      "10\n",
      "11\n",
      "12\n",
      "20\n",
      "21\n",
      "22\n",
      "30\n",
      "31\n",
      "32\n",
      "40\n",
      "41\n",
      "42\n"
     ]
    }
   ],
   "source": [
    "C = np.array([[10,11,12],\n",
    "              [20,21,22],\n",
    "              [30,31,32],\n",
    "              [40,41,42]])\n",
    "\n",
    "# Itération sur une matrice \"applatie\"\n",
    "for e in C.flat:\n",
    "    print(e)"
   ]
  },
  {
   "cell_type": "markdown",
   "metadata": {},
   "source": [
    "### Accès à une portion (slice) de matrice"
   ]
  },
  {
   "cell_type": "code",
   "execution_count": 27,
   "metadata": {},
   "outputs": [
    {
     "name": "stdout",
     "output_type": "stream",
     "text": [
      "Toutes les lignes, seulement la colonne d'index 2 :\n",
      "[12 22 32 42]\n",
      "\n",
      "Seulement la ligne d'index 3, toutes les colonnes :\n",
      "[40 41 42]\n",
      "\n",
      "Seulement les lignes d'index 1 à 2, seulement les colonnes d'index 1 et 2 :\n",
      "[[21 22]\n",
      " [31 32]]\n",
      "\n",
      "Seulement les deux dernières lignes, seulement la dernière colonne :\n",
      "[32 42]\n"
     ]
    }
   ],
   "source": [
    "D = np.array([[10,11,12],\n",
    "              [20,21,22],\n",
    "              [30,31,32],\n",
    "              [40,41,42]])\n",
    "\n",
    "print(\"Toutes les lignes, seulement la colonne d'index 2 :\")\n",
    "print(D[:,2])\n",
    "print()\n",
    "\n",
    "print(\"Seulement la ligne d'index 3, toutes les colonnes :\")\n",
    "print(D[3,:])\n",
    "print()\n",
    "\n",
    "print(\"Seulement les lignes d'index 1 à 2, seulement les colonnes d'index 1 et 2 :\")\n",
    "print(D[1:3,1:3])\n",
    "print()\n",
    "\n",
    "print(\"Seulement les deux dernières lignes, seulement la dernière colonne :\")\n",
    "print(D[-2:,-1])"
   ]
  },
  {
   "cell_type": "markdown",
   "metadata": {},
   "source": [
    "### Masques"
   ]
  },
  {
   "cell_type": "code",
   "execution_count": 29,
   "metadata": {},
   "outputs": [
    {
     "name": "stdout",
     "output_type": "stream",
     "text": [
      "Matrice A :\n",
      "[[ 0  1  2  3]\n",
      " [ 4  5  6  7]\n",
      " [ 8  9 10 11]]\n",
      "\n",
      "Masque b :\n",
      "[[False False False False]\n",
      " [False  True  True  True]\n",
      " [ True  True  True  True]]\n",
      "\n",
      "Matrice A avec le masque b :\n",
      "[ 5  6  7  8  9 10 11]\n",
      "\n"
     ]
    }
   ],
   "source": [
    "# Déclaration d'une matrice via la un reshape du resultat de la fonction arrange de Numpy\n",
    "A = np.arange(12).reshape(3,4)\n",
    "\n",
    "print(\"Matrice A :\")\n",
    "print(A)\n",
    "print()\n",
    "\n",
    "b = A>4\n",
    "\n",
    "print(\"Masque b :\")\n",
    "print(b)\n",
    "print()\n",
    "\n",
    "print(\"Matrice A avec le masque b :\")\n",
    "print(A[b])\n",
    "print()"
   ]
  },
  {
   "cell_type": "markdown",
   "metadata": {},
   "source": [
    "## Manipuler les dimensions d'un tableau Numpy"
   ]
  },
  {
   "cell_type": "markdown",
   "metadata": {},
   "source": [
    "### Connaitre les dimensions d'un tableau"
   ]
  },
  {
   "cell_type": "code",
   "execution_count": 31,
   "metadata": {},
   "outputs": [
    {
     "name": "stdout",
     "output_type": "stream",
     "text": [
      "Dimensions de la matrice C : (4, 3)\n",
      "Nombre de dimensions : 2\n",
      "\n",
      "Dimensions du vecteur v : (4,)\n",
      "Nombre de dimensions : 1\n"
     ]
    }
   ],
   "source": [
    "# Déclaration d'une matrice C\n",
    "C = np.array([[  0,  1,  2],\n",
    "               [ 10, 12, 13],\n",
    "               [100,101,102],\n",
    "               [110,112,113]])\n",
    "\n",
    "print(\"Dimensions de la matrice C :\",C.shape)\n",
    "print(\"Nombre de dimensions :\", len(C.shape))\n",
    "print()\n",
    "\n",
    "# Déclaration d'un vecteur v\n",
    "v = np.array([1,2,3,4])\n",
    "\n",
    "print(\"Dimensions du vecteur v :\",v.shape)\n",
    "print(\"Nombre de dimensions :\", len(v.shape))"
   ]
  },
  {
   "cell_type": "markdown",
   "metadata": {},
   "source": [
    "### Modifier les dimensions d'un tableau"
   ]
  },
  {
   "cell_type": "code",
   "execution_count": 35,
   "metadata": {},
   "outputs": [
    {
     "name": "stdout",
     "output_type": "stream",
     "text": [
      "Matrice D (4, 3) :\n",
      "[[  0   1   2]\n",
      " [ 10  12  13]\n",
      " [100 101 102]\n",
      " [110 112 113]]\n",
      "\n",
      "Matrice E (2, 6) :\n",
      "[[  0   1   2  10  12  13]\n",
      " [100 101 102 110 112 113]]\n",
      "\n",
      "Matrice F (3, 4) :\n",
      "[[  0   1   2  10]\n",
      " [ 12  13 100 101]\n",
      " [102 110 112 113]]\n",
      "\n"
     ]
    }
   ],
   "source": [
    "D = np.array([[  0,  1,  2],\n",
    "               [ 10, 12, 13],\n",
    "               [100,101,102],\n",
    "               [110,112,113]])\n",
    "\n",
    "print(\"Matrice D {} :\".format(D.shape))\n",
    "print(D)\n",
    "print()\n",
    "\n",
    "# Attention qu'il y ait le même nombre d'éléments !\n",
    "E = D.reshape((2,6))\n",
    "\n",
    "print(\"Matrice E {} :\".format(E.shape))\n",
    "print(E)\n",
    "print()\n",
    "\n",
    "# Utiliser -1 pour laisser Numpy calculer la dimension manquante en fonction de l'autre et du nombre d'éléments\n",
    "F = E.reshape((-1, 4))\n",
    "\n",
    "print(\"Matrice F {} :\".format(F.shape))\n",
    "print(F)\n",
    "print()"
   ]
  }
 ],
 "metadata": {
  "kernelspec": {
   "display_name": "base",
   "language": "python",
   "name": "python3"
  },
  "language_info": {
   "codemirror_mode": {
    "name": "ipython",
    "version": 3
   },
   "file_extension": ".py",
   "mimetype": "text/x-python",
   "name": "python",
   "nbconvert_exporter": "python",
   "pygments_lexer": "ipython3",
   "version": "3.12.7"
  }
 },
 "nbformat": 4,
 "nbformat_minor": 2
}
