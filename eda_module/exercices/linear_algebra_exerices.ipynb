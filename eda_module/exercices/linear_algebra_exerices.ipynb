{
 "cells": [
  {
   "cell_type": "markdown",
   "metadata": {},
   "source": [
    "# Linear Algebra with Numpy"
   ]
  },
  {
   "cell_type": "code",
   "execution_count": 1,
   "metadata": {},
   "outputs": [],
   "source": [
    "import numpy as np"
   ]
  },
  {
   "cell_type": "markdown",
   "metadata": {},
   "source": [
    "## Operations with vectors and matrices"
   ]
  },
  {
   "cell_type": "markdown",
   "metadata": {},
   "source": [
    "### Vector operations"
   ]
  },
  {
   "cell_type": "code",
   "execution_count": 2,
   "metadata": {},
   "outputs": [
    {
     "name": "stdout",
     "output_type": "stream",
     "text": [
      "u+v :\n",
      "[ 3 14  2]\n"
     ]
    }
   ],
   "source": [
    "u = np.array([2,9,-1])\n",
    "v = np.array([1,5,3])\n",
    "\n",
    "print(\"u+v :\")\n",
    "print(u+v)"
   ]
  },
  {
   "cell_type": "code",
   "execution_count": 4,
   "metadata": {},
   "outputs": [
    {
     "name": "stdout",
     "output_type": "stream",
     "text": [
      "u-v :\n",
      "[ 6 -5 -1]\n"
     ]
    }
   ],
   "source": [
    "u = np.array([10,-2,1])\n",
    "v = np.array([4,3,2])\n",
    "\n",
    "print(\"u-v :\")\n",
    "print(u-v)"
   ]
  },
  {
   "cell_type": "code",
   "execution_count": 6,
   "metadata": {},
   "outputs": [
    {
     "name": "stdout",
     "output_type": "stream",
     "text": [
      "4*(u+v) :\n",
      "[12 -4  8]\n"
     ]
    }
   ],
   "source": [
    "u = np.array([1,-2,2])\n",
    "v = np.array([2,1,0])\n",
    "\n",
    "print(\"4*(u+v) :\")\n",
    "print(4*(u+v))"
   ]
  },
  {
   "cell_type": "code",
   "execution_count": 8,
   "metadata": {},
   "outputs": [
    {
     "name": "stdout",
     "output_type": "stream",
     "text": [
      "||u|| : 5.477225575051661\n",
      "||v|| : 5.477225575051661\n"
     ]
    }
   ],
   "source": [
    "u = np.array([1,2,3,4])\n",
    "v = np.array([-1,2,-3,4])\n",
    "\n",
    "print(\"||u|| :\", np.linalg.norm(u))\n",
    "print(\"||v|| :\", np.linalg.norm(v))"
   ]
  },
  {
   "cell_type": "markdown",
   "metadata": {},
   "source": [
    "### Matrix operations"
   ]
  },
  {
   "cell_type": "code",
   "execution_count": 9,
   "metadata": {},
   "outputs": [
    {
     "name": "stdout",
     "output_type": "stream",
     "text": [
      "A+B :\n",
      "[[3 5 7]\n",
      " [5 3 9]\n",
      " [7 9 3]]\n"
     ]
    }
   ],
   "source": [
    "A = np.array([[1,2,3],\n",
    "              [2,1,4],\n",
    "              [3,4,1]])\n",
    "B = np.array([[2,3,4],\n",
    "              [3,2,5],\n",
    "              [4,5,2]])\n",
    "\n",
    "print(\"A+B :\")\n",
    "print(A+B)"
   ]
  },
  {
   "cell_type": "code",
   "execution_count": 12,
   "metadata": {},
   "outputs": [
    {
     "name": "stdout",
     "output_type": "stream",
     "text": [
      "2*A-B :\n",
      "[[0 1 2]\n",
      " [1 0 3]\n",
      " [2 3 0]]\n"
     ]
    }
   ],
   "source": [
    "A = np.array([[1,2,3],\n",
    "              [2,1,4],\n",
    "              [3,4,1]])\n",
    "B = np.array([[2,3,4],\n",
    "              [3,2,5],\n",
    "              [4,5,2]])\n",
    "\n",
    "print(\"2*A-B :\")\n",
    "print(2*A-B)"
   ]
  },
  {
   "cell_type": "code",
   "execution_count": 14,
   "metadata": {},
   "outputs": [
    {
     "name": "stdout",
     "output_type": "stream",
     "text": [
      "AB :\n",
      "[[2 2 4]\n",
      " [5 2 0]\n",
      " [4 5 2]]\n",
      "\n",
      "BA :\n",
      "[[2 0 4]\n",
      " [5 2 2]\n",
      " [4 5 2]]\n"
     ]
    }
   ],
   "source": [
    "A = np.array([[1,0,2],\n",
    "              [2,1,0],\n",
    "              [1,2,1]])\n",
    "B = np.array([[2,0,0],\n",
    "              [1,2,0],\n",
    "              [0,1,2]])\n",
    "\n",
    "print(\"AB :\")\n",
    "print(A@B)\n",
    "print()\n",
    "\n",
    "print(\"BA :\")\n",
    "print(B@A)"
   ]
  },
  {
   "cell_type": "code",
   "execution_count": 15,
   "metadata": {},
   "outputs": [
    {
     "name": "stdout",
     "output_type": "stream",
     "text": [
      "AB :\n",
      "[[2 0 0]\n",
      " [5 2 0]\n",
      " [4 4 0]]\n",
      "\n",
      "BA :\n",
      "[[2 0]\n",
      " [5 2]]\n"
     ]
    }
   ],
   "source": [
    "A = np.array([[1,0],\n",
    "              [2,1],\n",
    "              [1,2]])\n",
    "B = np.array([[2,0,0],\n",
    "              [1,2,0]])\n",
    "\n",
    "print(\"AB :\")\n",
    "print(A@B)\n",
    "print()\n",
    "\n",
    "print(\"BA :\")\n",
    "print(B@A)"
   ]
  },
  {
   "cell_type": "markdown",
   "metadata": {},
   "source": [
    "### Matrix-vector product"
   ]
  },
  {
   "cell_type": "code",
   "execution_count": 16,
   "metadata": {},
   "outputs": [
    {
     "name": "stdout",
     "output_type": "stream",
     "text": [
      "Av :\n",
      "[ 3 -1  3]\n"
     ]
    }
   ],
   "source": [
    "A = np.array([[1,0,2],\n",
    "              [2,1,0],\n",
    "              [1,2,1]])\n",
    "v = np.array([-1, 1, 2])\n",
    "\n",
    "print(\"Av :\")\n",
    "print(A@v)"
   ]
  },
  {
   "cell_type": "markdown",
   "metadata": {},
   "source": [
    "## Collinearity and orthogonality"
   ]
  },
  {
   "cell_type": "code",
   "execution_count": null,
   "metadata": {},
   "outputs": [
    {
     "name": "stdout",
     "output_type": "stream",
     "text": [
      "u.v :\n",
      "0\n"
     ]
    }
   ],
   "source": [
    "u = np.array([2,-3,-1])\n",
    "v = np.array([3,1,3])\n",
    "\n",
    "print(\"u.v :\")\n",
    "# print(u.dot(v))\n",
    "print(np.dot(u, v))"
   ]
  },
  {
   "cell_type": "markdown",
   "metadata": {},
   "source": [
    "It means that they're orthogonal => u.v = ||u|| * ||v|| * cos(90°) = 0"
   ]
  },
  {
   "cell_type": "code",
   "execution_count": null,
   "metadata": {},
   "outputs": [
    {
     "name": "stdout",
     "output_type": "stream",
     "text": [
      "u/v :\n",
      "[-4. -4. -4.]\n"
     ]
    }
   ],
   "source": [
    "u = np.array([4,2,-1])\n",
    "v = np.array([-1,-0.5,0.25])\n",
    "\n",
    "print(\"u/v :\")\n",
    "print(u/v)\n"
   ]
  },
  {
   "cell_type": "markdown",
   "metadata": {},
   "source": [
    "Those vectors are collinear => u = -4*v"
   ]
  },
  {
   "cell_type": "code",
   "execution_count": 19,
   "metadata": {},
   "outputs": [
    {
     "name": "stdout",
     "output_type": "stream",
     "text": [
      "u : \n",
      "[1 2]\n",
      "\n",
      "w-v :\n",
      "[1 2]\n"
     ]
    }
   ],
   "source": [
    "u = np.array([1,2])\n",
    "v = np.array([-2,1])\n",
    "w = np.array([-1,3])\n",
    "\n",
    "print(\"u : \")\n",
    "print(u)\n",
    "print()\n",
    "print(\"w-v :\")\n",
    "print(w-v)"
   ]
  },
  {
   "cell_type": "markdown",
   "metadata": {},
   "source": [
    "Those vectors are multicollinear => w = a\\*u+b\\*v"
   ]
  },
  {
   "cell_type": "markdown",
   "metadata": {},
   "source": [
    "## Systems of linear equations"
   ]
  },
  {
   "cell_type": "code",
   "execution_count": 24,
   "metadata": {},
   "outputs": [
    {
     "name": "stdout",
     "output_type": "stream",
     "text": [
      "x :\n",
      "[ 1.75 -1.5   1.25]\n",
      "\n"
     ]
    }
   ],
   "source": [
    "\n",
    "\n",
    "A = np.array([[2,1,0],\n",
    "              [1,2,1],\n",
    "              [0,1,2]])\n",
    "\n",
    "c = np.array([2,0,1])\n",
    "\n",
    "# First method\n",
    "# Knowing the following :\n",
    "# A*x=c\n",
    "# A-1*A*x=A-1*c\n",
    "# 1x=A-1*c\n",
    "# x=A-1*c\n",
    "\n",
    "# A_inv = np.linalg.inv(A)\n",
    "# x = A_inv@c\n",
    "\n",
    "# Second method\n",
    "# Using numpy linalg\n",
    "print(\"x :\")\n",
    "print(np.linalg.solve(A, c))\n",
    "print()\n"
   ]
  },
  {
   "cell_type": "markdown",
   "metadata": {},
   "source": [
    "## Matrix diagonalization"
   ]
  },
  {
   "cell_type": "code",
   "execution_count": 26,
   "metadata": {},
   "outputs": [
    {
     "name": "stdout",
     "output_type": "stream",
     "text": [
      "Au :\n",
      "[2 2]\n",
      "\n",
      "Av :\n",
      "[1 2]\n",
      "\n"
     ]
    }
   ],
   "source": [
    "A = np.array([[3, -1],\n",
    "              [2, 0]])\n",
    "\n",
    "u = np.array([1, 1])\n",
    "v = np.array([1, 2])\n",
    "\n",
    "print(\"Au :\")\n",
    "print(A@u)\n",
    "print()\n",
    "\n",
    "print(\"Av :\")\n",
    "print(A@v)\n",
    "print()"
   ]
  },
  {
   "cell_type": "markdown",
   "metadata": {},
   "source": [
    "A\\*u = 2*u => u eigenvector of A with eigenvalue 2\n",
    "\n",
    "A\\*v = v => v eigenvector of A with eigenvalue 1"
   ]
  },
  {
   "cell_type": "code",
   "execution_count": 27,
   "metadata": {},
   "outputs": [
    {
     "name": "stdout",
     "output_type": "stream",
     "text": [
      "Eigenvalues :\n",
      "[2. 1.]\n",
      "\n",
      "Eigenvectors :\n",
      "[[0.70710678 0.4472136 ]\n",
      " [0.70710678 0.89442719]]\n",
      "\n"
     ]
    }
   ],
   "source": [
    "eigenvalues, eigenvectors = np.linalg.eig(A)\n",
    "\n",
    "print(\"Eigenvalues :\")\n",
    "print(eigenvalues)\n",
    "print()\n",
    "\n",
    "print(\"Eigenvectors :\")\n",
    "print(eigenvectors)\n",
    "print()"
   ]
  }
 ],
 "metadata": {
  "kernelspec": {
   "display_name": "base",
   "language": "python",
   "name": "python3"
  },
  "language_info": {
   "codemirror_mode": {
    "name": "ipython",
    "version": 3
   },
   "file_extension": ".py",
   "mimetype": "text/x-python",
   "name": "python",
   "nbconvert_exporter": "python",
   "pygments_lexer": "ipython3",
   "version": "3.12.7"
  }
 },
 "nbformat": 4,
 "nbformat_minor": 2
}
